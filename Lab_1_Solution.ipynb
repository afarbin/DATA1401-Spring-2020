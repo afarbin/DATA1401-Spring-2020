{
  "nbformat": 4,
  "nbformat_minor": 0,
  "metadata": {
    "kernelspec": {
      "name": "python3",
      "display_name": "Python 3"
    },
    "colab": {
      "name": "Copy of Lab-1.ipynb",
      "provenance": [],
      "collapsed_sections": []
    }
  },
  "cells": [
    {
      "cell_type": "markdown",
      "metadata": {
        "id": "O5vg8KKRq0sy",
        "colab_type": "text"
      },
      "source": [
        "# Lab 1\n",
        "\n",
        "## Python Notebooks on Google Colab\n",
        "\n",
        "Data 1401's Labs, Homework, and Exams will be all in form of iPython notebooks. You may already be familiar with python notebooks if you have used Jupyter before, for example in Data 1301. If so, you are welcome to use whatever means you have to run Jupyter notebooks for this course, though you may get limited support. Our primary means of running python notebooks will be through [Google Colab](https://colab.research.google.com) and we will be storing files on google drive.\n",
        "\n",
        "You will need a google account. If you do not have one or you wish to use a different account for this course, please follow [these instructions](https://edu.gcfglobal.org/en/googledriveanddocs/getting-started-with-google-drive/1/) to make an account.\n",
        "\n",
        "Once you are ready with your account, you can continue in Colab. Click on the following badge to open this notebook in Colab:\n",
        "\n",
        "[![Open In Colab](https://colab.research.google.com/assets/colab-badge.svg)](https://colab.research.google.com/github//afarbin/DATA1401-Spring-2020/blob/master/Labs/Lab-1/Lab-1.ipynb)\n"
      ]
    },
    {
      "cell_type": "markdown",
      "metadata": {
        "id": "FVt_1hPt1dAK",
        "colab_type": "text"
      },
      "source": [
        "## Notebooks in Colab\n",
        "\n",
        "You now are presumably in Colab. Word of caution, by default, Google Colab does not save your notebooks, so if you close your session, you will loose your work.\n",
        "\n",
        "So first thing: from the file menu above select \"Save a copy in Drive\"."
      ]
    },
    {
      "cell_type": "markdown",
      "metadata": {
        "id": "x0JBL_RFrDDj",
        "colab_type": "text"
      },
      "source": [
        "## Storing Notebooks in Google Drive\n",
        "A better way to work is to save your notebooks directly into Google Drive and upload directly to Git (where you will be downloading and uploading your homework). In order properly setup Git, we'll need to work more directly in your Google Drive.\n",
        "\n",
        "On the left sidebar, press the file icon to see a listing of files accessibile to this Notebook. Then press \"Mount Drive\" and follow the instructions to mount your Google Drive in this notebook. A new cell will be inserted into this notebook, which after you run by pressing the play button will instruct you to follow a link to log into your Google Account and enable access to your Drive in another tab. Finally you will copy a link from the new tab back into the cell in this notebook. Once you are done, press refresh under files in the left sidebar and you should have \"drive/My Drive\" appear."
      ]
    },
    {
      "cell_type": "markdown",
      "metadata": {
        "id": "hwJ6wJk3tiLv",
        "colab_type": "text"
      },
      "source": [
        "## Github\n",
        "All the class material will be stored on github. You will also submit your homework using github. To do so, you will need a github account.\n",
        "\n",
        "If you do not already have a github account or wish to create a new one for this course, create one:\n",
        "* Browse to [github.com](https://github.com).\n",
        "* Click the green “Sign up for GitHub”\tbutton.\n",
        "* Follow instructions for creating an account.\n",
        "* Make sure you remember your github username and password.\n",
        "\n",
        "Write an email to the course TA titled \"Data 1401: Github account\" with your github username (not your password) as the contents.\n",
        "\n",
        "## Google Groups\n",
        "\n",
        "Class annoucements will be made via google groups. If you did not already receive an invite to the class google group, had trouble with the invite, or wish to use a different email address, write an email to the course TA titled \"Data 1401: Google Group\" with your preferred email.\n"
      ]
    },
    {
      "cell_type": "markdown",
      "metadata": {
        "id": "TjfIzdQZqvzk",
        "colab_type": "text"
      },
      "source": [
        "## Introduction: Unix, Git, and Jupyter\n",
        "\n",
        "This lab aims to introduce you to basic Unix, familiarize you with iPython notebooks and get you setup to submit your homework.\n",
        "*italicized text*"
      ]
    },
    {
      "cell_type": "markdown",
      "metadata": {
        "id": "C_LmOgzFqvzp",
        "colab_type": "text"
      },
      "source": [
        "\n",
        "\n",
        "### Terminal, Shell, and ssh\n",
        "\n",
        "\n",
        "The terminal is a simple program that generally runs another program, taking mostly keyboard input from you, passing it to this other program, and taking the output of the program and displaying on the screen for you.\n",
        "\n",
        "The terminal usually runs a program called a shell. Shells present a command prompt where you can type in commands, which are then executed when you press enter. In most shells, there are some special commands which the shell will execute. Everything else you type in, the shell will assume is a name of a program you want to run and arguments you want to pass that program. So if the shell doesn't recognize something you type in, it'll try to find a program with a name that is the same as the first word you gave it. \n",
        "\n",
        "### Shell in Colab\n",
        "\n",
        "Unfortunately, google Colab does not allow you to open a terminal window. Jupyter does, so if you are running in Jupyter (which most of you will not be), you may choose to open a terminal window by returning to the jupyter file list tab and selecting new terminal from the top right.\n",
        "\n",
        "For Colab, we will have to do something non-ideal, but functional. There are several ways to execute shell commands from within a python notebook. For example, you can use any shell command by putting \"!\" in front of the command:\n",
        "\n",
        "\n",
        "\n"
      ]
    },
    {
      "cell_type": "code",
      "metadata": {
        "id": "KJ5f-WO0wcAv",
        "colab_type": "code",
        "outputId": "1b1d57bc-3d7f-44b1-acf3-0a4c0f9461eb",
        "colab": {
          "base_uri": "https://localhost:8080/",
          "height": 102
        }
      },
      "source": [
        "!ls\n",
        "!echo \"----------\"\n",
        "!ls sample_data"
      ],
      "execution_count": 0,
      "outputs": [
        {
          "output_type": "stream",
          "text": [
            "drive  sample_data\n",
            "----------\n",
            "anscombe.json\t\t      mnist_test.csv\n",
            "california_housing_test.csv   mnist_train_small.csv\n",
            "california_housing_train.csv  README.md\n"
          ],
          "name": "stdout"
        }
      ]
    },
    {
      "cell_type": "markdown",
      "metadata": {
        "id": "8f-n4AXFw-dD",
        "colab_type": "text"
      },
      "source": [
        "Unfortunately, every time you use \"!\" a new environment is created and the state reverted to the original state. Try to understand the difference between the following two sets of commands:\n"
      ]
    },
    {
      "cell_type": "code",
      "metadata": {
        "id": "99nrBYTWxZJr",
        "colab_type": "code",
        "outputId": "c449d5cd-e540-4709-fa13-e90901905f6b",
        "colab": {
          "base_uri": "https://localhost:8080/",
          "height": 68
        }
      },
      "source": [
        "!echo \"Technique 1:\"\n",
        "!ls\n",
        "!cd sample_data\n",
        "!ls"
      ],
      "execution_count": 0,
      "outputs": [
        {
          "output_type": "stream",
          "text": [
            "Technique 1:\n",
            "drive  sample_data\n",
            "drive  sample_data\n"
          ],
          "name": "stdout"
        }
      ]
    },
    {
      "cell_type": "code",
      "metadata": {
        "id": "2-Znf97Lxl-Z",
        "colab_type": "code",
        "outputId": "5dbbe750-0136-4d13-bee2-ee3b91e4690a",
        "colab": {
          "base_uri": "https://localhost:8080/",
          "height": 102
        }
      },
      "source": [
        "!echo \"Technique 2:\"\n",
        "!ls ; cd sample_data ;ls"
      ],
      "execution_count": 0,
      "outputs": [
        {
          "output_type": "stream",
          "text": [
            "Technique 2:\n",
            "drive  sample_data\n",
            "anscombe.json\t\t      mnist_test.csv\n",
            "california_housing_test.csv   mnist_train_small.csv\n",
            "california_housing_train.csv  README.md\n"
          ],
          "name": "stdout"
        }
      ]
    },
    {
      "cell_type": "markdown",
      "metadata": {
        "id": "4x9n1rAkxyYl",
        "colab_type": "text"
      },
      "source": [
        "Notebooks allow a bit of \"magic\" (using \"%\") to avoid some of these limitations:\n"
      ]
    },
    {
      "cell_type": "code",
      "metadata": {
        "id": "vLBPTX4rx3gd",
        "colab_type": "code",
        "outputId": "fe1baaf3-60e4-421c-f3b1-99224235eff5",
        "colab": {
          "base_uri": "https://localhost:8080/",
          "height": 119
        }
      },
      "source": [
        "!echo \"Technique 3:\"\n",
        "!ls \n",
        "%cd sample_data \n",
        "!ls"
      ],
      "execution_count": 0,
      "outputs": [
        {
          "output_type": "stream",
          "text": [
            "Technique 3:\n",
            "drive  sample_data\n",
            "/content/sample_data\n",
            "anscombe.json\t\t      mnist_test.csv\n",
            "california_housing_test.csv   mnist_train_small.csv\n",
            "california_housing_train.csv  README.md\n"
          ],
          "name": "stdout"
        }
      ]
    },
    {
      "cell_type": "markdown",
      "metadata": {
        "id": "U8XpvPjcyH0w",
        "colab_type": "text"
      },
      "source": [
        "For our purposes, we are just going to explicitly start a new shell and interact with it in the output cell. Execute the following cell. You will be able to type and execute commands. Look around a bit using \"ls\" and \"cd. You can stop the cell from running by typing \"exit\"."
      ]
    },
    {
      "cell_type": "code",
      "metadata": {
        "id": "MIDFitLZyuZy",
        "colab_type": "code",
        "outputId": "fb74fbbd-24c0-43ce-cc14-fc749e58f811",
        "colab": {
          "base_uri": "https://localhost:8080/",
          "height": 204
        }
      },
      "source": [
        "!/bin/bash --noediting"
      ],
      "execution_count": 0,
      "outputs": [
        {
          "output_type": "stream",
          "text": [
            "bash: cannot set terminal process group (123): Inappropriate ioctl for device\n",
            "bash: no job control in this shell\n",
            "\u001b]0;root@bd88c44fba97: /content/sample_data\u0007\u001b[01;32mroot@bd88c44fba97\u001b[00m:\u001b[01;34m/content/sample_data\u001b[00m# ls\n",
            "\u001b[0m\u001b[01;32manscombe.json\u001b[0m                 mnist_test.csv\n",
            "california_housing_test.csv   mnist_train_small.csv\n",
            "california_housing_train.csv  \u001b[01;32mREADME.md\u001b[0m\n",
            "\u001b]0;root@bd88c44fba97: /content/sample_data\u0007\u001b[01;32mroot@bd88c44fba97\u001b[00m:\u001b[01;34m/content/sample_data\u001b[00m# cd\n",
            "\u001b]0;root@bd88c44fba97: ~\u0007\u001b[01;32mroot@bd88c44fba97\u001b[00m:\u001b[01;34m~\u001b[00m# e\n",
            "bash: e: command not found\n",
            "\u001b]0;root@bd88c44fba97: ~\u0007\u001b[01;32mroot@bd88c44fba97\u001b[00m:\u001b[01;34m~\u001b[00m# exit\n",
            "exit\n"
          ],
          "name": "stdout"
        }
      ]
    },
    {
      "cell_type": "markdown",
      "metadata": {
        "id": "q-4hfZBywW25",
        "colab_type": "text"
      },
      "source": [
        "While in this instance your shell is running in a this notebook, you can also run terminals natively on your own computer. On Linux or MacOS, you just have to run a program called terminal. In Windows you can start a \"command prompt\". \n",
        "\n",
        "\n",
        "Type in \"ls\" into the terminal and press enter. The shell will find a program called \"ls\", a standard tool in Unix, and run it. \"ls\" lists the contents (files and directories) of your current directory. If you are just starting in this course, you probably only see the git repository you cloned. \n",
        "\n",
        "A subtle point to realize here is that while the terminal is running in the browser that is running on the computer in front of you, the shell is actually running on a machine on google hardware. The shell prompt typically displays the name of the machine you are using. What you are not seeing is that there is an intermidate program between the terminal running on your computer and the shell running on google. This intermidary program is taking your input from the terminal sending it over the network to google and bringing back the responses for you terminal to display.\n",
        "\n",
        "A bit of extra information. If you start a terminal on your own computer, the shell runs locally. The \"ls\" command would then list contents of a directory on your computer. You can typically connect to Unix computers by evoking a shell running on that machine over the network. In this case, you would have to initiate this intermidiary program yourself. The program is called \"ssh\" (secure shell). You can \"ssh\" to another machine from your machine, by simply typing \"ssh\" followed by the machine name or IP address. Most likely you would be prompted for a password, after which you would dropped into the prompt of a shell running on the remote machine. \n"
      ]
    },
    {
      "cell_type": "markdown",
      "metadata": {
        "id": "51Eya4LBqvzs",
        "colab_type": "text"
      },
      "source": [
        "## Programs and Environment Variables\n",
        "\n",
        "You have a listing of your current directory, but you don't know where that directory resides. You can see what directory you are using the command \"pwd\" (print working directory). Issue the command and look at the response. You'll get a slash (\"/\") separated list, known as the path, of the directory hierarchy of your current working directory. On Colab, this will start with \"contents\"\n",
        "\n",
        "Now back to thinking about the command prompt. Since \"ls\" is a program, it most be stored somewhere. It is clearly not in your working directory, because you didn't see it when you executed \"ls\". We can ask the shell to tell us where it found \"ls\" using the \"which ls\" command. Note that \"which\" is also a program. \"which ls\" comes back with \"/bin/ls\", telling you the \"ls\" program is sitting in \"/bin\" directory of the system. \n",
        "\n",
        "Lets see what else is in there by issuing a \"ls /bin\" command. You will get a long list of programs. You can run any of these programs by just typing their names and pressing enter. You may be able to guess what some of these programs do, but if you want to know, most of them provide you help, using \"--help\" or \"-h\" flag. For example execute \"ls --help\". For more information about a program or command, you can use Unix's manual pages using the \"man\" command. Try typing \"man ls\". Note that you will need to press space to scroll through lengthy manual pages and \"q\" to exit back to the shell prompt. \n",
        "\n",
        "Another command interesting is \"echo\". \"echo\" simply prints whatever you put after it to the screen. Try executing \"echo Hello World.\"\n",
        "\n",
        "At this point, you may wonder how was it that the shell knew to look for programs in \"/bin\"? The shell keeps a list of places to look for programs an environment variable with the name \"PATH\". The shell keeps a table that map string variable names to string expressions. When the shell starts, its configuration files set some environment variables that it uses. You can see the full list of defined environment variables using the command \"printenv\".\n",
        "\n",
        "You can use a environment variable in a shell by prepending name of the variable with a dollar sign character (\"\\$\"). So you can print out the PATH environment variable using the command \"echo $PATH\". What you will see is a colon (\":\") separated list of directories that the shell will search (in order) whenever you type in anything.\n",
        "\n",
        "You can set you own environment variables. Different shells have different syntax. Lets first figure out what shell we are running. \n",
        "\n",
        "*Exercise 1:* Use the \"echo\" command to print out the value of the \"SHELL\" environment variable:"
      ]
    },
    {
      "cell_type": "markdown",
      "metadata": {
        "id": "YS7YFiPwqvzu",
        "colab_type": "text"
      },
      "source": [
        "!/bin/bash --noediting"
      ]
    },
    {
      "cell_type": "code",
      "metadata": {
        "id": "LK28HILLHN3y",
        "colab_type": "code",
        "outputId": "3f361419-20e1-40c0-a4b8-2716399defdf",
        "colab": {
          "base_uri": "https://localhost:8080/",
          "height": 156
        }
      },
      "source": [
        "!/bin/bash --noediting"
      ],
      "execution_count": 0,
      "outputs": [
        {
          "output_type": "stream",
          "text": [
            "bash: cannot set terminal process group (123): Inappropriate ioctl for device\n",
            "bash: no job control in this shell\n",
            "\u001b]0;root@bd88c44fba97: /content/sample_data\u0007\u001b[01;32mroot@bd88c44fba97\u001b[00m:\u001b[01;34m/content/sample_data\u001b[00m# cd ..\n",
            "\u001b]0;root@bd88c44fba97: /content\u0007\u001b[01;32mroot@bd88c44fba97\u001b[00m:\u001b[01;34m/content\u001b[00m# echo $PATH\n",
            "/usr/local/nvidia/bin:/usr/local/cuda/bin:/usr/local/sbin:/usr/local/bin:/usr/sbin:/usr/bin:/sbin:/bin:/tools/node/bin:/tools/google-cloud-sdk/bin:/opt/bin\n",
            "\u001b]0;root@bd88c44fba97: /content\u0007\u001b[01;32mroot@bd88c44fba97\u001b[00m:\u001b[01;34m/content\u001b[00m# exit\n",
            "exit\n"
          ],
          "name": "stdout"
        }
      ]
    },
    {
      "cell_type": "markdown",
      "metadata": {
        "id": "YoEgruUhqvzw",
        "colab_type": "text"
      },
      "source": [
        "## Navigating Directories\n",
        "\n",
        "You can change your current directory using the \"cd\" shell command. Note that \"cd\" is not a Unix program. Once in a directory, you can use the \"ls\" command to list the contents or \"pwd\" to remind yourself your current working directory. You can move back one level in your current directory hierarchy using \"cd ..\". In general \"..\" represents the path to a directory one level above your current directory, \"../..\" represents two levels up, and so on. \".\" represents the current directory. If you look at the PATH environment variable, you'll notice that the last item is \".\", telling the shell to look into your current directory for commands. Finally the \"~\" character always refers to your home directory.\n",
        "\n",
        "Some other file manipulation commands:\n",
        "\n",
        "   - The \"mkdir\" command creates new directories. \n",
        "   - \"cp\" and \"mv\" allow you to copy and move (or rename) files, taking 2 arguments: the original path/filename and the target path/filename.  \n",
        "   - The \"rm\" and \"rmdir\" commands remove (delete) files and directories.\n",
        "\n",
        "\n",
        "*Exercise 2:* Using the \"cd\" command, navigate into \"drive/My\\ Drive\" directory. Create a new directory called \"Data-1441\", and another directory inside \"Data-1441\" called \"Lab-1-Solutions\". Perform the rest of the lab in this directory."
      ]
    },
    {
      "cell_type": "code",
      "metadata": {
        "id": "A16VzZ3G0J8x",
        "colab_type": "code",
        "outputId": "781f7ddd-3dd6-4ac8-92d2-60d2491d0796",
        "colab": {
          "base_uri": "https://localhost:8080/",
          "height": 289
        }
      },
      "source": [
        "!/bin/bash --noediting"
      ],
      "execution_count": 0,
      "outputs": [
        {
          "output_type": "stream",
          "text": [
            "bash: cannot set terminal process group (123): Inappropriate ioctl for device\n",
            "bash: no job control in this shell\n",
            "\u001b]0;root@bd88c44fba97: /content/sample_data\u0007\u001b[01;32mroot@bd88c44fba97\u001b[00m:\u001b[01;34m/content/sample_data\u001b[00m# cd..\n",
            "bash: cd..: command not found\n",
            "\u001b]0;root@bd88c44fba97: /content/sample_data\u0007\u001b[01;32mroot@bd88c44fba97\u001b[00m:\u001b[01;34m/content/sample_data\u001b[00m# cd ..\n",
            "\u001b]0;root@bd88c44fba97: /content\u0007\u001b[01;32mroot@bd88c44fba97\u001b[00m:\u001b[01;34m/content\u001b[00m# cd Lab\\-\\1\\-\\Solutions\n",
            "bash: cd: Lab-1-Solutions: No such file or directory\n",
            "\u001b]0;root@bd88c44fba97: /content\u0007\u001b[01;32mroot@bd88c44fba97\u001b[00m:\u001b[01;34m/content\u001b[00m# cd Lab-1-Solutions\n",
            "bash: cd: Lab-1-Solutions: No such file or directory\n",
            "\u001b]0;root@bd88c44fba97: /content\u0007\u001b[01;32mroot@bd88c44fba97\u001b[00m:\u001b[01;34m/content\u001b[00m# cd drive/My\\ Drive\n",
            "\u001b]0;root@bd88c44fba97: /content/drive/My Drive\u0007\u001b[01;32mroot@bd88c44fba97\u001b[00m:\u001b[01;34m/content/drive/My Drive\u001b[00m# cd Lab\\-\\1\\-\\Solutions\n",
            "bash: cd: Lab-1-Solutions: No such file or directory\n",
            "\u001b]0;root@bd88c44fba97: /content/drive/My Drive\u0007\u001b[01;32mroot@bd88c44fba97\u001b[00m:\u001b[01;34m/content/drive/My Drive\u001b[00m# cd Data\\-\\1441\n",
            "\u001b]0;root@bd88c44fba97: /content/drive/My Drive/Data-1441\u0007\u001b[01;32mroot@bd88c44fba97\u001b[00m:\u001b[01;34m/content/drive/My Drive/Data-1441\u001b[00m# cd Lab\\-1-\\Solutions\n",
            "\u001b]0;root@bd88c44fba97: /content/drive/My Drive/Data-1441/Lab-1-Solutions\u0007\u001b[01;32mroot@bd88c44fba97\u001b[00m:\u001b[01;34m/content/drive/My Drive/Data-1441/Lab-1-Solutions\u001b[00m# exit\n",
            "exit\n"
          ],
          "name": "stdout"
        }
      ]
    },
    {
      "cell_type": "markdown",
      "metadata": {
        "id": "o38c4lbsqvzy",
        "colab_type": "text"
      },
      "source": [
        "## Exploring Unix Filesystem\n",
        "\n",
        "You can look at the root directory of the system by issuing \"ls /\". As explained in lecture, Unix uses the file system to communicate with devices and between processes. \"/etc\" keeps the configuration files of the system. \"/bin\" and \"/sbin\" store most of the standard Unix programs. \"/usr\" stores installes programs and their associate files, with \"/usr/bin\" usually storing the commands you can run. \n",
        "\n",
        "*Exercise 3:* List the \"/dev\" directory. How many SSD storage devices do you see? How many partitions does each device have? (Answer in box below)"
      ]
    },
    {
      "cell_type": "code",
      "metadata": {
        "id": "yNj2LXzP2ksl",
        "colab_type": "code",
        "outputId": "7b73b4b4-b513-4dac-e9be-e7a4c0ab1a7a",
        "colab": {
          "base_uri": "https://localhost:8080/",
          "height": 664
        }
      },
      "source": [
        "!/bin/bash --noediting"
      ],
      "execution_count": 2,
      "outputs": [
        {
          "output_type": "stream",
          "text": [
            "bash: cannot set terminal process group (124): Inappropriate ioctl for device\n",
            "bash: no job control in this shell\n",
            "\u001b]0;root@0309364bea03: /content\u0007\u001b[01;32mroot@0309364bea03\u001b[00m:\u001b[01;34m/content\u001b[00m# cd drive/ My\\ Drive\n",
            "bash: cd: too many arguments\n",
            "\u001b]0;root@0309364bea03: /content\u0007\u001b[01;32mroot@0309364bea03\u001b[00m:\u001b[01;34m/content\u001b[00m# cd drive/My \\Drive/Data-1441/Lab\\-1-\\Solutions\n",
            "bash: cd: too many arguments\n",
            "\u001b]0;root@0309364bea03: /content\u0007\u001b[01;32mroot@0309364bea03\u001b[00m:\u001b[01;34m/content\u001b[00m# cd drive\n",
            "\u001b]0;root@0309364bea03: /content/drive\u0007\u001b[01;32mroot@0309364bea03\u001b[00m:\u001b[01;34m/content/drive\u001b[00m# cd My\\ Drive\n",
            "\u001b]0;root@0309364bea03: /content/drive/My Drive\u0007\u001b[01;32mroot@0309364bea03\u001b[00m:\u001b[01;34m/content/drive/My Drive\u001b[00m# cd Data-1441\n",
            "\u001b]0;root@0309364bea03: /content/drive/My Drive/Data-1441\u0007\u001b[01;32mroot@0309364bea03\u001b[00m:\u001b[01;34m/content/drive/My Drive/Data-1441\u001b[00m# cd Lab-1-Solutions\n",
            "\u001b]0;root@0309364bea03: /content/drive/My Drive/Data-1441/Lab-1-Solutions\u0007\u001b[01;32mroot@0309364bea03\u001b[00m:\u001b[01;34m/content/drive/My Drive/Data-1441/Lab-1-Solutions\u001b[00m# /dev\n",
            "bash: /dev: Is a directory\n",
            "\u001b]0;root@0309364bea03: /content/drive/My Drive/Data-1441/Lab-1-Solutions\u0007\u001b[01;32mroot@0309364bea03\u001b[00m:\u001b[01;34m/content/drive/My Drive/Data-1441/Lab-1-Solutions\u001b[00m# ls /dev\n",
            "\u001b[0m\u001b[01;36mcore\u001b[0m  \u001b[40;33;01mfull\u001b[0m  \u001b[30;42mmqueue\u001b[0m  \u001b[01;36mptmx\u001b[0m  \u001b[40;33;01mrandom\u001b[0m  \u001b[01;36mstderr\u001b[0m  \u001b[01;36mstdout\u001b[0m  \u001b[40;33;01murandom\u001b[0m\n",
            "\u001b[01;36mfd\u001b[0m    \u001b[40;33;01mfuse\u001b[0m  \u001b[40;33;01mnull\u001b[0m    \u001b[01;34mpts\u001b[0m   \u001b[30;42mshm\u001b[0m     \u001b[01;36mstdin\u001b[0m   \u001b[40;33;01mtty\u001b[0m     \u001b[40;33;01mzero\u001b[0m\n",
            "\u001b]0;root@0309364bea03: /content/drive/My Drive/Data-1441/Lab-1-Solutions\u0007\u001b[01;32mroot@0309364bea03\u001b[00m:\u001b[01;34m/content/drive/My Drive/Data-1441/Lab-1-Solutions\u001b[00m# ls\n",
            "favorite-colors-list.txt\n",
            "\u001b]0;root@0309364bea03: /content/drive/My Drive/Data-1441/Lab-1-Solutions\u0007\u001b[01;32mroot@0309364bea03\u001b[00m:\u001b[01;34m/content/drive/My Drive/Data-1441/Lab-1-Solutions\u001b[00m# \n",
            "\u001b]0;root@0309364bea03: /content/drive/My Drive/Data-1441/Lab-1-Solutions\u0007\u001b[01;32mroot@0309364bea03\u001b[00m:\u001b[01;34m/content/drive/My Drive/Data-1441/Lab-1-Solutions\u001b[00m# \n",
            "\u001b]0;root@0309364bea03: /content/drive/My Drive/Data-1441/Lab-1-Solutions\u0007\u001b[01;32mroot@0309364bea03\u001b[00m:\u001b[01;34m/content/drive/My Drive/Data-1441/Lab-1-Solutions\u001b[00m# \n",
            "\u001b]0;root@0309364bea03: /content/drive/My Drive/Data-1441/Lab-1-Solutions\u0007\u001b[01;32mroot@0309364bea03\u001b[00m:\u001b[01;34m/content/drive/My Drive/Data-1441/Lab-1-Solutions\u001b[00m# "
          ],
          "name": "stdout"
        },
        {
          "output_type": "error",
          "ename": "KeyboardInterrupt",
          "evalue": "ignored",
          "traceback": [
            "\u001b[0;31m---------------------------------------------------------------------------\u001b[0m",
            "\u001b[0;31mKeyboardInterrupt\u001b[0m                         Traceback (most recent call last)",
            "\u001b[0;32m<ipython-input-2-61117c908804>\u001b[0m in \u001b[0;36m<module>\u001b[0;34m()\u001b[0m\n\u001b[0;32m----> 1\u001b[0;31m \u001b[0mget_ipython\u001b[0m\u001b[0;34m(\u001b[0m\u001b[0;34m)\u001b[0m\u001b[0;34m.\u001b[0m\u001b[0msystem\u001b[0m\u001b[0;34m(\u001b[0m\u001b[0;34m'/bin/bash --noediting'\u001b[0m\u001b[0;34m)\u001b[0m\u001b[0;34m\u001b[0m\u001b[0;34m\u001b[0m\u001b[0m\n\u001b[0m",
            "\u001b[0;32m/usr/local/lib/python3.6/dist-packages/google/colab/_shell.py\u001b[0m in \u001b[0;36msystem\u001b[0;34m(self, *args, **kwargs)\u001b[0m\n\u001b[1;32m     94\u001b[0m       \u001b[0mkwargs\u001b[0m\u001b[0;34m.\u001b[0m\u001b[0mupdate\u001b[0m\u001b[0;34m(\u001b[0m\u001b[0;34m{\u001b[0m\u001b[0;34m'also_return_output'\u001b[0m\u001b[0;34m:\u001b[0m \u001b[0;32mTrue\u001b[0m\u001b[0;34m}\u001b[0m\u001b[0;34m)\u001b[0m\u001b[0;34m\u001b[0m\u001b[0;34m\u001b[0m\u001b[0m\n\u001b[1;32m     95\u001b[0m \u001b[0;34m\u001b[0m\u001b[0m\n\u001b[0;32m---> 96\u001b[0;31m     \u001b[0moutput\u001b[0m \u001b[0;34m=\u001b[0m \u001b[0m_system_commands\u001b[0m\u001b[0;34m.\u001b[0m\u001b[0m_system_compat\u001b[0m\u001b[0;34m(\u001b[0m\u001b[0mself\u001b[0m\u001b[0;34m,\u001b[0m \u001b[0;34m*\u001b[0m\u001b[0margs\u001b[0m\u001b[0;34m,\u001b[0m \u001b[0;34m**\u001b[0m\u001b[0mkwargs\u001b[0m\u001b[0;34m)\u001b[0m  \u001b[0;31m# pylint:disable=protected-access\u001b[0m\u001b[0;34m\u001b[0m\u001b[0;34m\u001b[0m\u001b[0m\n\u001b[0m\u001b[1;32m     97\u001b[0m \u001b[0;34m\u001b[0m\u001b[0m\n\u001b[1;32m     98\u001b[0m     \u001b[0;32mif\u001b[0m \u001b[0mpip_warn\u001b[0m\u001b[0;34m:\u001b[0m\u001b[0;34m\u001b[0m\u001b[0;34m\u001b[0m\u001b[0m\n",
            "\u001b[0;32m/usr/local/lib/python3.6/dist-packages/google/colab/_system_commands.py\u001b[0m in \u001b[0;36m_system_compat\u001b[0;34m(shell, cmd, also_return_output)\u001b[0m\n\u001b[1;32m    436\u001b[0m   \u001b[0;31m# stack.\u001b[0m\u001b[0;34m\u001b[0m\u001b[0;34m\u001b[0m\u001b[0;34m\u001b[0m\u001b[0m\n\u001b[1;32m    437\u001b[0m   result = _run_command(\n\u001b[0;32m--> 438\u001b[0;31m       shell.var_expand(cmd, depth=2), clear_streamed_output=False)\n\u001b[0m\u001b[1;32m    439\u001b[0m   \u001b[0mshell\u001b[0m\u001b[0;34m.\u001b[0m\u001b[0muser_ns\u001b[0m\u001b[0;34m[\u001b[0m\u001b[0;34m'_exit_code'\u001b[0m\u001b[0;34m]\u001b[0m \u001b[0;34m=\u001b[0m \u001b[0mresult\u001b[0m\u001b[0;34m.\u001b[0m\u001b[0mreturncode\u001b[0m\u001b[0;34m\u001b[0m\u001b[0;34m\u001b[0m\u001b[0m\n\u001b[1;32m    440\u001b[0m   \u001b[0;32mif\u001b[0m \u001b[0;34m-\u001b[0m\u001b[0mresult\u001b[0m\u001b[0;34m.\u001b[0m\u001b[0mreturncode\u001b[0m \u001b[0;32min\u001b[0m \u001b[0m_INTERRUPTED_SIGNALS\u001b[0m\u001b[0;34m:\u001b[0m\u001b[0;34m\u001b[0m\u001b[0;34m\u001b[0m\u001b[0m\n",
            "\u001b[0;32m/usr/local/lib/python3.6/dist-packages/google/colab/_system_commands.py\u001b[0m in \u001b[0;36m_run_command\u001b[0;34m(cmd, clear_streamed_output)\u001b[0m\n\u001b[1;32m    193\u001b[0m       \u001b[0mos\u001b[0m\u001b[0;34m.\u001b[0m\u001b[0mclose\u001b[0m\u001b[0;34m(\u001b[0m\u001b[0mchild_pty\u001b[0m\u001b[0;34m)\u001b[0m\u001b[0;34m\u001b[0m\u001b[0;34m\u001b[0m\u001b[0m\n\u001b[1;32m    194\u001b[0m \u001b[0;34m\u001b[0m\u001b[0m\n\u001b[0;32m--> 195\u001b[0;31m       \u001b[0;32mreturn\u001b[0m \u001b[0m_monitor_process\u001b[0m\u001b[0;34m(\u001b[0m\u001b[0mparent_pty\u001b[0m\u001b[0;34m,\u001b[0m \u001b[0mepoll\u001b[0m\u001b[0;34m,\u001b[0m \u001b[0mp\u001b[0m\u001b[0;34m,\u001b[0m \u001b[0mcmd\u001b[0m\u001b[0;34m,\u001b[0m \u001b[0mupdate_stdin_widget\u001b[0m\u001b[0;34m)\u001b[0m\u001b[0;34m\u001b[0m\u001b[0;34m\u001b[0m\u001b[0m\n\u001b[0m\u001b[1;32m    196\u001b[0m   \u001b[0;32mfinally\u001b[0m\u001b[0;34m:\u001b[0m\u001b[0;34m\u001b[0m\u001b[0;34m\u001b[0m\u001b[0m\n\u001b[1;32m    197\u001b[0m     \u001b[0mepoll\u001b[0m\u001b[0;34m.\u001b[0m\u001b[0mclose\u001b[0m\u001b[0;34m(\u001b[0m\u001b[0;34m)\u001b[0m\u001b[0;34m\u001b[0m\u001b[0;34m\u001b[0m\u001b[0m\n",
            "\u001b[0;32m/usr/lib/python3.6/contextlib.py\u001b[0m in \u001b[0;36m__exit__\u001b[0;34m(self, type, value, traceback)\u001b[0m\n\u001b[1;32m     86\u001b[0m         \u001b[0;32mif\u001b[0m \u001b[0mtype\u001b[0m \u001b[0;32mis\u001b[0m \u001b[0;32mNone\u001b[0m\u001b[0;34m:\u001b[0m\u001b[0;34m\u001b[0m\u001b[0;34m\u001b[0m\u001b[0m\n\u001b[1;32m     87\u001b[0m             \u001b[0;32mtry\u001b[0m\u001b[0;34m:\u001b[0m\u001b[0;34m\u001b[0m\u001b[0;34m\u001b[0m\u001b[0m\n\u001b[0;32m---> 88\u001b[0;31m                 \u001b[0mnext\u001b[0m\u001b[0;34m(\u001b[0m\u001b[0mself\u001b[0m\u001b[0;34m.\u001b[0m\u001b[0mgen\u001b[0m\u001b[0;34m)\u001b[0m\u001b[0;34m\u001b[0m\u001b[0;34m\u001b[0m\u001b[0m\n\u001b[0m\u001b[1;32m     89\u001b[0m             \u001b[0;32mexcept\u001b[0m \u001b[0mStopIteration\u001b[0m\u001b[0;34m:\u001b[0m\u001b[0;34m\u001b[0m\u001b[0;34m\u001b[0m\u001b[0m\n\u001b[1;32m     90\u001b[0m                 \u001b[0;32mreturn\u001b[0m \u001b[0;32mFalse\u001b[0m\u001b[0;34m\u001b[0m\u001b[0;34m\u001b[0m\u001b[0m\n",
            "\u001b[0;32m/usr/local/lib/python3.6/dist-packages/google/colab/_system_commands.py\u001b[0m in \u001b[0;36m_display_stdin_widget\u001b[0;34m(delay_millis)\u001b[0m\n\u001b[1;32m    353\u001b[0m \u001b[0;34m\u001b[0m\u001b[0m\n\u001b[1;32m    354\u001b[0m   \u001b[0mhide_args\u001b[0m \u001b[0;34m=\u001b[0m \u001b[0;34m[\u001b[0m\u001b[0;34m'cell_remove_stdin'\u001b[0m\u001b[0;34m,\u001b[0m \u001b[0;34m{\u001b[0m\u001b[0;34m}\u001b[0m\u001b[0;34m]\u001b[0m\u001b[0;34m\u001b[0m\u001b[0;34m\u001b[0m\u001b[0m\n\u001b[0;32m--> 355\u001b[0;31m   \u001b[0m_message\u001b[0m\u001b[0;34m.\u001b[0m\u001b[0mblocking_request\u001b[0m\u001b[0;34m(\u001b[0m\u001b[0;34m*\u001b[0m\u001b[0mhide_args\u001b[0m\u001b[0;34m,\u001b[0m \u001b[0mparent\u001b[0m\u001b[0;34m=\u001b[0m\u001b[0mshell\u001b[0m\u001b[0;34m.\u001b[0m\u001b[0mparent_header\u001b[0m\u001b[0;34m)\u001b[0m\u001b[0;34m\u001b[0m\u001b[0;34m\u001b[0m\u001b[0m\n\u001b[0m\u001b[1;32m    356\u001b[0m \u001b[0;34m\u001b[0m\u001b[0m\n\u001b[1;32m    357\u001b[0m \u001b[0;34m\u001b[0m\u001b[0m\n",
            "\u001b[0;32m/usr/local/lib/python3.6/dist-packages/google/colab/_message.py\u001b[0m in \u001b[0;36mblocking_request\u001b[0;34m(request_type, request, timeout_sec, parent)\u001b[0m\n\u001b[1;32m    169\u001b[0m   \u001b[0;31m# unique.\u001b[0m\u001b[0;34m\u001b[0m\u001b[0;34m\u001b[0m\u001b[0;34m\u001b[0m\u001b[0m\n\u001b[1;32m    170\u001b[0m   \u001b[0mrequest_id\u001b[0m \u001b[0;34m=\u001b[0m \u001b[0msend_request\u001b[0m\u001b[0;34m(\u001b[0m\u001b[0mrequest_type\u001b[0m\u001b[0;34m,\u001b[0m \u001b[0mrequest\u001b[0m\u001b[0;34m,\u001b[0m \u001b[0mparent\u001b[0m\u001b[0;34m=\u001b[0m\u001b[0mparent\u001b[0m\u001b[0;34m)\u001b[0m\u001b[0;34m\u001b[0m\u001b[0;34m\u001b[0m\u001b[0m\n\u001b[0;32m--> 171\u001b[0;31m   \u001b[0;32mreturn\u001b[0m \u001b[0mread_reply_from_input\u001b[0m\u001b[0;34m(\u001b[0m\u001b[0mrequest_id\u001b[0m\u001b[0;34m,\u001b[0m \u001b[0mtimeout_sec\u001b[0m\u001b[0;34m)\u001b[0m\u001b[0;34m\u001b[0m\u001b[0;34m\u001b[0m\u001b[0m\n\u001b[0m",
            "\u001b[0;32m/usr/local/lib/python3.6/dist-packages/google/colab/_message.py\u001b[0m in \u001b[0;36mread_reply_from_input\u001b[0;34m(message_id, timeout_sec)\u001b[0m\n\u001b[1;32m     99\u001b[0m     \u001b[0mreply\u001b[0m \u001b[0;34m=\u001b[0m \u001b[0m_read_next_input_message\u001b[0m\u001b[0;34m(\u001b[0m\u001b[0;34m)\u001b[0m\u001b[0;34m\u001b[0m\u001b[0;34m\u001b[0m\u001b[0m\n\u001b[1;32m    100\u001b[0m     \u001b[0;32mif\u001b[0m \u001b[0mreply\u001b[0m \u001b[0;34m==\u001b[0m \u001b[0m_NOT_READY\u001b[0m \u001b[0;32mor\u001b[0m \u001b[0;32mnot\u001b[0m \u001b[0misinstance\u001b[0m\u001b[0;34m(\u001b[0m\u001b[0mreply\u001b[0m\u001b[0;34m,\u001b[0m \u001b[0mdict\u001b[0m\u001b[0;34m)\u001b[0m\u001b[0;34m:\u001b[0m\u001b[0;34m\u001b[0m\u001b[0;34m\u001b[0m\u001b[0m\n\u001b[0;32m--> 101\u001b[0;31m       \u001b[0mtime\u001b[0m\u001b[0;34m.\u001b[0m\u001b[0msleep\u001b[0m\u001b[0;34m(\u001b[0m\u001b[0;36m0.025\u001b[0m\u001b[0;34m)\u001b[0m\u001b[0;34m\u001b[0m\u001b[0;34m\u001b[0m\u001b[0m\n\u001b[0m\u001b[1;32m    102\u001b[0m       \u001b[0;32mcontinue\u001b[0m\u001b[0;34m\u001b[0m\u001b[0;34m\u001b[0m\u001b[0m\n\u001b[1;32m    103\u001b[0m     if (reply.get('type') == 'colab_reply' and\n",
            "\u001b[0;31mKeyboardInterrupt\u001b[0m: "
          ]
        }
      ]
    },
    {
      "cell_type": "markdown",
      "metadata": {
        "id": "U3JOVTQzJvcJ",
        "colab_type": "text"
      },
      "source": [
        "O ssd storage devices but I'm not sure if that's the right thing I'm supposed to be looking at."
      ]
    },
    {
      "cell_type": "markdown",
      "metadata": {
        "id": "7P9EG0KOqvz2",
        "colab_type": "text"
      },
      "source": [
        "## Text File Manipulation\n",
        "\n",
        "As explained in lecture, Unix stores most information in text files. For example, the list of all users and their home directories are stored in \"/etc/passwd\". Let get some familiarity with the most commonly used commands to manipulate files.\n",
        "\n",
        "   - You can see the contents contents a file using the \"cat\" (concatenate) command. Try executing \"cat /etc/passwd\". You'll get a huge list that will go by your screen quickly. \n",
        "   \n",
        "   - To go through the file page by page, you can use the \"less\" or \"more\" commands. \n",
        "   \n",
        "   - You can see the first or last N (N=10 by default) lines of a file using \"head\" or \"tail\" commands. For example \"tail -20 /etc/passwd\" will list the last 20 lines. \n",
        "   \n",
        "   - You can search a test file using the \"grep\" command, which takes a string keyword as the first argument and a filename as the second, and by default prints out every line in the file that contrains the string. So for example you can do \"grep \\$USER /etc/passwd\" to find the line corresponding to your account. Some useful flags: \n",
        "   \n",
        "   - \"-i\" ignores the case of the keyword\n",
        "   - \"-v\" display those lines that do NOT match \n",
        "   - \"-n\" precede each matching line with the line number \n",
        "   - \"-c\" print only the total count of matched lines \n",
        "   \n",
        "   For example \"grep -c \\$USER /etc/passwd\" should show that you are in the password file just once. \n",
        "   \n",
        "   - The \"wc\" (word count) command counts the number of lines, words, and characters in a file. By default \"wc\" gives you all three numbers, but \"-w\", \"-l\", or \"-c\" flags \n",
        "\n",
        "*Exercise 4:* Count how many lines in the password file contain the letter \"w\". "
      ]
    },
    {
      "cell_type": "code",
      "metadata": {
        "id": "UlsANMuf2qMs",
        "colab_type": "code",
        "outputId": "3f780ab2-29f9-490e-c3f0-d2b86358f93d",
        "colab": {
          "base_uri": "https://localhost:8080/",
          "height": 1000
        }
      },
      "source": [
        "!/bin/bash --noediting"
      ],
      "execution_count": 0,
      "outputs": [
        {
          "output_type": "stream",
          "text": [
            "bash: cannot set terminal process group (123): Inappropriate ioctl for device\n",
            "bash: no job control in this shell\n",
            "\u001b]0;root@bd88c44fba97: /content/sample_data\u0007\u001b[01;32mroot@bd88c44fba97\u001b[00m:\u001b[01;34m/content/sample_data\u001b[00m# cd ..\n",
            "\u001b]0;root@bd88c44fba97: /content\u0007\u001b[01;32mroot@bd88c44fba97\u001b[00m:\u001b[01;34m/content\u001b[00m# cd Lab\\-1-\\Solutions\n",
            "bash: cd: Lab-1-Solutions: No such file or directory\n",
            "\u001b]0;root@bd88c44fba97: /content\u0007\u001b[01;32mroot@bd88c44fba97\u001b[00m:\u001b[01;34m/content\u001b[00m# cd drive\n",
            "\u001b]0;root@bd88c44fba97: /content/drive\u0007\u001b[01;32mroot@bd88c44fba97\u001b[00m:\u001b[01;34m/content/drive\u001b[00m# cd My\\ Drive\n",
            "\u001b]0;root@bd88c44fba97: /content/drive/My Drive\u0007\u001b[01;32mroot@bd88c44fba97\u001b[00m:\u001b[01;34m/content/drive/My Drive\u001b[00m# cd Data-1441\n",
            "\u001b]0;root@bd88c44fba97: /content/drive/My Drive/Data-1441\u0007\u001b[01;32mroot@bd88c44fba97\u001b[00m:\u001b[01;34m/content/drive/My Drive/Data-1441\u001b[00m# cd Lab-1-Solutions\n",
            "\u001b]0;root@bd88c44fba97: /content/drive/My Drive/Data-1441/Lab-1-Solutions\u0007\u001b[01;32mroot@bd88c44fba97\u001b[00m:\u001b[01;34m/content/drive/My Drive/Data-1441/Lab-1-Solutions\u001b[00m# cat /etc/passwd\n",
            "root:x:0:0:root:/root:/bin/bash\n",
            "daemon:x:1:1:daemon:/usr/sbin:/usr/sbin/nologin\n",
            "bin:x:2:2:bin:/bin:/usr/sbin/nologin\n",
            "sys:x:3:3:sys:/dev:/usr/sbin/nologin\n",
            "sync:x:4:65534:sync:/bin:/bin/sync\n",
            "games:x:5:60:games:/usr/games:/usr/sbin/nologin\n",
            "man:x:6:12:man:/var/cache/man:/usr/sbin/nologin\n",
            "lp:x:7:7:lp:/var/spool/lpd:/usr/sbin/nologin\n",
            "mail:x:8:8:mail:/var/mail:/usr/sbin/nologin\n",
            "news:x:9:9:news:/var/spool/news:/usr/sbin/nologin\n",
            "uucp:x:10:10:uucp:/var/spool/uucp:/usr/sbin/nologin\n",
            "proxy:x:13:13:proxy:/bin:/usr/sbin/nologin\n",
            "www-data:x:33:33:www-data:/var/www:/usr/sbin/nologin\n",
            "backup:x:34:34:backup:/var/backups:/usr/sbin/nologin\n",
            "list:x:38:38:Mailing List Manager:/var/list:/usr/sbin/nologin\n",
            "irc:x:39:39:ircd:/var/run/ircd:/usr/sbin/nologin\n",
            "gnats:x:41:41:Gnats Bug-Reporting System (admin):/var/lib/gnats:/usr/sbin/nologin\n",
            "nobody:x:65534:65534:nobody:/nonexistent:/usr/sbin/nologin\n",
            "_apt:x:100:65534::/nonexistent:/usr/sbin/nologin\n",
            "systemd-network:x:101:104:systemd Network Management,,,:/run/systemd/netif:/usr/sbin/nologin\n",
            "systemd-resolve:x:102:105:systemd Resolver,,,:/run/systemd/resolve:/usr/sbin/nologin\n",
            "messagebus:x:103:107::/nonexistent:/usr/sbin/nologin\n",
            "nvidia-persistenced:x:104:108:NVIDIA Persistence Daemon,,,:/nonexistent:/sbin/nologin\n",
            "\u001b]0;root@bd88c44fba97: /content/drive/My Drive/Data-1441/Lab-1-Solutions\u0007\u001b[01;32mroot@bd88c44fba97\u001b[00m:\u001b[01;34m/content/drive/My Drive/Data-1441/Lab-1-Solutions\u001b[00m# grep -c $USER /etc/passwd\n",
            "cat /etc/passwd\n",
            "\n",
            "exit\n",
            "exit\n",
            "\n",
            "\u001b]0;root@bd88c44fba97: /content/drive/My Drive/Data-1441/Lab-1-Solutions\u0007\u001b[01;32mroot@bd88c44fba97\u001b[00m:\u001b[01;34m/content/drive/My Drive/Data-1441/Lab-1-Solutions\u001b[00m# \n",
            "\u001b]0;root@bd88c44fba97: /content/drive/My Drive/Data-1441/Lab-1-Solutions\u0007\u001b[01;32mroot@bd88c44fba97\u001b[00m:\u001b[01;34m/content/drive/My Drive/Data-1441/Lab-1-Solutions\u001b[00m# cat /etc/passwd\n",
            "root:x:0:0:root:/root:/bin/bash\n",
            "daemon:x:1:1:daemon:/usr/sbin:/usr/sbin/nologin\n",
            "bin:x:2:2:bin:/bin:/usr/sbin/nologin\n",
            "sys:x:3:3:sys:/dev:/usr/sbin/nologin\n",
            "sync:x:4:65534:sync:/bin:/bin/sync\n",
            "games:x:5:60:games:/usr/games:/usr/sbin/nologin\n",
            "man:x:6:12:man:/var/cache/man:/usr/sbin/nologin\n",
            "lp:x:7:7:lp:/var/spool/lpd:/usr/sbin/nologin\n",
            "mail:x:8:8:mail:/var/mail:/usr/sbin/nologin\n",
            "news:x:9:9:news:/var/spool/news:/usr/sbin/nologin\n",
            "uucp:x:10:10:uucp:/var/spool/uucp:/usr/sbin/nologin\n",
            "proxy:x:13:13:proxy:/bin:/usr/sbin/nologin\n",
            "www-data:x:33:33:www-data:/var/www:/usr/sbin/nologin\n",
            "backup:x:34:34:backup:/var/backups:/usr/sbin/nologin\n",
            "list:x:38:38:Mailing List Manager:/var/list:/usr/sbin/nologin\n",
            "irc:x:39:39:ircd:/var/run/ircd:/usr/sbin/nologin\n",
            "gnats:x:41:41:Gnats Bug-Reporting System (admin):/var/lib/gnats:/usr/sbin/nologin\n",
            "nobody:x:65534:65534:nobody:/nonexistent:/usr/sbin/nologin\n",
            "_apt:x:100:65534::/nonexistent:/usr/sbin/nologin\n",
            "systemd-network:x:101:104:systemd Network Management,,,:/run/systemd/netif:/usr/sbin/nologin\n",
            "systemd-resolve:x:102:105:systemd Resolver,,,:/run/systemd/resolve:/usr/sbin/nologin\n",
            "messagebus:x:103:107::/nonexistent:/usr/sbin/nologin\n",
            "nvidia-persistenced:x:104:108:NVIDIA Persistence Daemon,,,:/nonexistent:/sbin/nologin\n",
            "\u001b]0;root@bd88c44fba97: /content/drive/My Drive/Data-1441/Lab-1-Solutions\u0007\u001b[01;32mroot@bd88c44fba97\u001b[00m:\u001b[01;34m/content/drive/My Drive/Data-1441/Lab-1-Solutions\u001b[00m# less\n",
            "Missing filename (\"less --help\" for help)\n",
            "\u001b]0;root@bd88c44fba97: /content/drive/My Drive/Data-1441/Lab-1-Solutions\u0007\u001b[01;32mroot@bd88c44fba97\u001b[00m:\u001b[01;34m/content/drive/My Drive/Data-1441/Lab-1-Solutions\u001b[00m# less --help\n",
            "\u001b7\u001b[?47h\u001b[?1h\u001b=\n",
            "                   \u001b[1mSUMMARY\u001b[m \u001b[1mOF\u001b[m \u001b[1mLESS\u001b[m \u001b[1mCOMMANDS\u001b[m\n",
            "\n",
            "      Commands marked with * may be preceded by a number, \u001b[4mN\u001b[m.\n",
            "      Notes in parentheses indicate the behavior if \u001b[4mN\u001b[m is given.\n",
            "      A key preceded by a caret indicates the Ctrl key; thus ^K is ctrl-K.\n",
            "\n",
            "  h  H                 Display this help.\n",
            "  q  :q  Q  :Q  ZZ     Exit.\n",
            " ---------------------------------------------------------------------------\n",
            "\n",
            "                           \u001b[1mMOVING\u001b[m\n",
            "\n",
            "  e  ^E  j  ^N  CR  *  Forward  one line   (or \u001b[4mN\u001b[m lines).\n",
            "  y  ^Y  k  ^K  ^P  *  Backward one line   (or \u001b[4mN\u001b[m lines).\n",
            "  f  ^F  ^V  SPACE  *  Forward  one window (or \u001b[4mN\u001b[m lines).\n",
            "  b  ^B  ESC-v      *  Backward one window (or \u001b[4mN\u001b[m lines).\n",
            "  z                 *  Forward  one window (and set window to \u001b[4mN\u001b[m).\n",
            "  w                 *  Backward one window (and set window to \u001b[4mN\u001b[m).\n",
            "  ESC-SPACE         *  Forward  one window, but don't stop at end-of-file.\n",
            "  d  ^D             *  Forward  one half-window (and set half-window to \u001b[4mN\u001b[m).\n",
            "  u  ^U             *  Backward one half-window (and set half-window to \u001b[4mN\u001b[m).\n",
            "  ESC-)  RightArrow *  Right one half screen width (or \u001b[4mN\u001b[m positions).\n",
            "\u001b[K\u001b[?1l\u001b>\u001b[2J\u001b[?47l\u001b8\u001b]0;root@bd88c44fba97: /content/drive/My Drive/Data-1441/Lab-1-Solutions\u0007\u001b[01;32mroot@bd88c44fba97\u001b[00m:\u001b[01;34m/content/drive/My Drive/Data-1441/Lab-1-Solutions\u001b[00m# \u001b]0;root@bd88c44fba97: /content/drive/My Drive/Data-1441/Lab-1-Solutions\u0007\u001b[01;32mroot@bd88c44fba97\u001b[00m:\u001b[01;34m/content/drive/My Drive/Data-1441/Lab-1-Solutions\u001b[00m# cat /etc/passwd\n",
            "root:x:0:0:root:/root:/bin/bash\n",
            "daemon:x:1:1:daemon:/usr/sbin:/usr/sbin/nologin\n",
            "bin:x:2:2:bin:/bin:/usr/sbin/nologin\n",
            "sys:x:3:3:sys:/dev:/usr/sbin/nologin\n",
            "sync:x:4:65534:sync:/bin:/bin/sync\n",
            "games:x:5:60:games:/usr/games:/usr/sbin/nologin\n",
            "man:x:6:12:man:/var/cache/man:/usr/sbin/nologin\n",
            "lp:x:7:7:lp:/var/spool/lpd:/usr/sbin/nologin\n",
            "mail:x:8:8:mail:/var/mail:/usr/sbin/nologin\n",
            "news:x:9:9:news:/var/spool/news:/usr/sbin/nologin\n",
            "uucp:x:10:10:uucp:/var/spool/uucp:/usr/sbin/nologin\n",
            "proxy:x:13:13:proxy:/bin:/usr/sbin/nologin\n",
            "www-data:x:33:33:www-data:/var/www:/usr/sbin/nologin\n",
            "backup:x:34:34:backup:/var/backups:/usr/sbin/nologin\n",
            "list:x:38:38:Mailing List Manager:/var/list:/usr/sbin/nologin\n",
            "irc:x:39:39:ircd:/var/run/ircd:/usr/sbin/nologin\n",
            "gnats:x:41:41:Gnats Bug-Reporting System (admin):/var/lib/gnats:/usr/sbin/nologin\n",
            "nobody:x:65534:65534:nobody:/nonexistent:/usr/sbin/nologin\n",
            "_apt:x:100:65534::/nonexistent:/usr/sbin/nologin\n",
            "systemd-network:x:101:104:systemd Network Management,,,:/run/systemd/netif:/usr/sbin/nologin\n",
            "systemd-resolve:x:102:105:systemd Resolver,,,:/run/systemd/resolve:/usr/sbin/nologin\n",
            "messagebus:x:103:107::/nonexistent:/usr/sbin/nologin\n",
            "nvidia-persistenced:x:104:108:NVIDIA Persistence Daemon,,,:/nonexistent:/sbin/nologin\n",
            "\u001b]0;root@bd88c44fba97: /content/drive/My Drive/Data-1441/Lab-1-Solutions\u0007\u001b[01;32mroot@bd88c44fba97\u001b[00m:\u001b[01;34m/content/drive/My Drive/Data-1441/Lab-1-Solutions\u001b[00m# w\n",
            " 22:27:19 up  1:48,  0 users,  load average: 0.00, 0.01, 0.00\n",
            "USER     TTY      FROM             LOGIN@   IDLE   JCPU   PCPU WHAT\n",
            "\u001b]0;root@bd88c44fba97: /content/drive/My Drive/Data-1441/Lab-1-Solutions\u0007\u001b[01;32mroot@bd88c44fba97\u001b[00m:\u001b[01;34m/content/drive/My Drive/Data-1441/Lab-1-Solutions\u001b[00m# wc\n",
            "wc /etc/passwd\n",
            "dc ..\n",
            "cd ..\n",
            "grep -c $USER /etc/passwd\n",
            "\n",
            "\n",
            "\u001b]0;root@bd88c44fba97: /content/drive/My Drive/Data-1441/Lab-1-Solutions\u0007\u001b[01;32mroot@bd88c44fba97\u001b[00m:\u001b[01;34m/content/drive/My Drive/Data-1441/Lab-1-Solutions\u001b[00m# ^C\n"
          ],
          "name": "stdout"
        }
      ]
    },
    {
      "cell_type": "markdown",
      "metadata": {
        "id": "SZuhLbD8qvz5",
        "colab_type": "text"
      },
      "source": [
        "## Redirection\n",
        "\n",
        "Unix provides programs \"pipes\" for input and output. Most of what you see on the screen when you run a program  was written to the \"stdout\" (standard output) pipe. Other pipes are \"stdin\" (standard input) and \"stderr\" (standard error), where error messages are written.\n",
        "\n",
        "As discussed in lecture, the basic commands of are simple, but you can chain them to do complicated things. Redirection is how you chain these commands, directing the output of one command to the input of the next.\n",
        "\n",
        "As an example, consider the \"cat\" command. Cat takes stdin and outputs it to stdout. Type \"cat\" and press enter and confirm. You can get back to the command prompt by pressing \"control-c\" (sends terminate singal) or \"control-d\" (end of file character). Note that from now on we will use the convention: \"control-d\" = \"^D\"\n",
        "\n",
        "*Exercise 5a:* Using \"cat\" and indirection you can write things into a file. The \">\" symbol directs stdout into a file. Try \"cat > favorite-colors-list.txt\" and then type in your 3 favorite colors, each on it's own line. Use \"^D\" to end your input."
      ]
    },
    {
      "cell_type": "markdown",
      "metadata": {
        "id": "H5vxtcXnqvz6",
        "colab_type": "text"
      },
      "source": [
        "Use \"cat\", \"more\", or \"less\" to confirm that you file is as you expect it. \">>\" allows you to append to the file. \n",
        "\n",
        "*Exercise 5b:* Append 2 more colors to your file."
      ]
    },
    {
      "cell_type": "code",
      "metadata": {
        "id": "twRKNaGy3XGw",
        "colab_type": "code",
        "outputId": "6ca32839-43ad-4d8f-c30c-3d3f31dd2528",
        "colab": {
          "base_uri": "https://localhost:8080/",
          "height": 850
        }
      },
      "source": [
        "!/bin/bash --noediting"
      ],
      "execution_count": 0,
      "outputs": [
        {
          "output_type": "stream",
          "text": [
            "bash: cannot set terminal process group (123): Inappropriate ioctl for device\n",
            "bash: no job control in this shell\n",
            "\u001b]0;root@bd88c44fba97: /content/sample_data\u0007\u001b[01;32mroot@bd88c44fba97\u001b[00m:\u001b[01;34m/content/sample_data\u001b[00m# cd ..\n",
            "\u001b]0;root@bd88c44fba97: /content\u0007\u001b[01;32mroot@bd88c44fba97\u001b[00m:\u001b[01;34m/content\u001b[00m# cd drive/My \\Drive\n",
            "bash: cd: too many arguments\n",
            "\u001b]0;root@bd88c44fba97: /content\u0007\u001b[01;32mroot@bd88c44fba97\u001b[00m:\u001b[01;34m/content\u001b[00m# cd drive\n",
            "\u001b]0;root@bd88c44fba97: /content/drive\u0007\u001b[01;32mroot@bd88c44fba97\u001b[00m:\u001b[01;34m/content/drive\u001b[00m# cd ..\n",
            "\u001b]0;root@bd88c44fba97: /content\u0007\u001b[01;32mroot@bd88c44fba97\u001b[00m:\u001b[01;34m/content\u001b[00m# cd drive/My\\ Drive\n",
            "\u001b]0;root@bd88c44fba97: /content/drive/My Drive\u0007\u001b[01;32mroot@bd88c44fba97\u001b[00m:\u001b[01;34m/content/drive/My Drive\u001b[00m# cd Data\\-\\1441/ Lab\\-1-\\Solutions\n",
            "bash: cd: too many arguments\n",
            "\u001b]0;root@bd88c44fba97: /content/drive/My Drive\u0007\u001b[01;32mroot@bd88c44fba97\u001b[00m:\u001b[01;34m/content/drive/My Drive\u001b[00m# cd Data\\-\\1441/Lab\\-1-\\Solutions\n",
            "\u001b]0;root@bd88c44fba97: /content/drive/My Drive/Data-1441/Lab-1-Solutions\u0007\u001b[01;32mroot@bd88c44fba97\u001b[00m:\u001b[01;34m/content/drive/My Drive/Data-1441/Lab-1-Solutions\u001b[00m# cd ..\n",
            "\u001b]0;root@bd88c44fba97: /content/drive/My Drive/Data-1441\u0007\u001b[01;32mroot@bd88c44fba97\u001b[00m:\u001b[01;34m/content/drive/My Drive/Data-1441\u001b[00m# cd ..\n",
            "\u001b]0;root@bd88c44fba97: /content/drive/My Drive\u0007\u001b[01;32mroot@bd88c44fba97\u001b[00m:\u001b[01;34m/content/drive/My Drive\u001b[00m# cd ..\n",
            "\u001b]0;root@bd88c44fba97: /content/drive\u0007\u001b[01;32mroot@bd88c44fba97\u001b[00m:\u001b[01;34m/content/drive\u001b[00m# cd ..\n",
            "\u001b]0;root@bd88c44fba97: /content\u0007\u001b[01;32mroot@bd88c44fba97\u001b[00m:\u001b[01;34m/content\u001b[00m# cd /drive/My Drive/Data-1441/Lab-1-Solutions\n",
            "bash: cd: too many arguments\n",
            "\u001b]0;root@bd88c44fba97: /content\u0007\u001b[01;32mroot@bd88c44fba97\u001b[00m:\u001b[01;34m/content\u001b[00m# cd drive/My Drive/Data-1441/Lab-1-Solutions\n",
            "bash: cd: too many arguments\n",
            "\u001b]0;root@bd88c44fba97: /content\u0007\u001b[01;32mroot@bd88c44fba97\u001b[00m:\u001b[01;34m/content\u001b[00m# cd drive\n",
            "\u001b]0;root@bd88c44fba97: /content/drive\u0007\u001b[01;32mroot@bd88c44fba97\u001b[00m:\u001b[01;34m/content/drive\u001b[00m# cd My Drive/Data-1441/Lab-1-Solutions\n",
            "bash: cd: too many arguments\n",
            "\u001b]0;root@bd88c44fba97: /content/drive\u0007\u001b[01;32mroot@bd88c44fba97\u001b[00m:\u001b[01;34m/content/drive\u001b[00m# /drive/My\\ Drive/Data-1441/Lab-1-Solutions\n",
            "bash: /drive/My Drive/Data-1441/Lab-1-Solutions: No such file or directory\n",
            "\u001b]0;root@bd88c44fba97: /content/drive\u0007\u001b[01;32mroot@bd88c44fba97\u001b[00m:\u001b[01;34m/content/drive\u001b[00m# My\\ Drive/Data-1441/Lab-1-Solutions\n",
            "bash: My Drive/Data-1441/Lab-1-Solutions: Is a directory\n",
            "\u001b]0;root@bd88c44fba97: /content/drive\u0007\u001b[01;32mroot@bd88c44fba97\u001b[00m:\u001b[01;34m/content/drive\u001b[00m# cd My\\ Drive/Data-1441/Lab-1-Solutions\n",
            "\u001b]0;root@bd88c44fba97: /content/drive/My Drive/Data-1441/Lab-1-Solutions\u0007\u001b[01;32mroot@bd88c44fba97\u001b[00m:\u001b[01;34m/content/drive/My Drive/Data-1441/Lab-1-Solutions\u001b[00m# cat > favorite-colors-list.txt\n",
            "green\n",
            "blue\n",
            "red\n",
            "^D\n",
            "cat favorite-colors-list.txt\n",
            "control-d\n",
            "\n",
            "\u001b]0;root@bd88c44fba97: /content/drive/My Drive/Data-1441/Lab-1-Solutions\u0007\u001b[01;32mroot@bd88c44fba97\u001b[00m:\u001b[01;34m/content/drive/My Drive/Data-1441/Lab-1-Solutions\u001b[00m# favorite-colors-list.txt\n",
            "bash: favorite-colors-list.txt: command not found\n",
            "\u001b]0;root@bd88c44fba97: /content/drive/My Drive/Data-1441/Lab-1-Solutions\u0007\u001b[01;32mroot@bd88c44fba97\u001b[00m:\u001b[01;34m/content/drive/My Drive/Data-1441/Lab-1-Solutions\u001b[00m# cat favorite-colors-list.txt\n",
            "green\n",
            "blue\n",
            "red\n",
            "^D\n",
            "cat favorite-colors-list.txt\n",
            "control-d\n",
            "\u001b]0;root@bd88c44fba97: /content/drive/My Drive/Data-1441/Lab-1-Solutions\u0007\u001b[01;32mroot@bd88c44fba97\u001b[00m:\u001b[01;34m/content/drive/My Drive/Data-1441/Lab-1-Solutions\u001b[00m# cat > favorite-colors-list.txt\n",
            "purple\n",
            "yellow\n",
            "\n",
            "\u001b]0;root@bd88c44fba97: /content/drive/My Drive/Data-1441/Lab-1-Solutions\u0007\u001b[01;32mroot@bd88c44fba97\u001b[00m:\u001b[01;34m/content/drive/My Drive/Data-1441/Lab-1-Solutions\u001b[00m# ^C\n"
          ],
          "name": "stdout"
        }
      ]
    },
    {
      "cell_type": "markdown",
      "metadata": {
        "id": "DZODNKiAqvz8",
        "colab_type": "text"
      },
      "source": [
        "The \"sort\" command sorts what it sees on stdin. Instead of taking input from the terminal, you can direct the shell to take stdin from a file using \"<\". Try \"sort < favorite-color-list.txt\" and \"sort < favorite-color-list.txt > sorted-favorite-color-list.txt\".\n",
        "\n",
        "Finally, instead of piping input / output into files, you can directly chain one program into another using \"|\". So for example, you can do \"cat /etc/passwd | grep -i \\$USER | wc -l\". \n",
        "\n",
        "*Exercise 5c:* Use indirection to count the number of users on TACC with your first name. Copy the command you used into box below."
      ]
    },
    {
      "cell_type": "code",
      "metadata": {
        "id": "oP9XlZl_3iZD",
        "colab_type": "code",
        "outputId": "2a0db076-f736-408e-b401-ad99fdd820ff",
        "colab": {
          "base_uri": "https://localhost:8080/",
          "height": 765
        }
      },
      "source": [
        "!/bin/bash --noediting"
      ],
      "execution_count": 0,
      "outputs": [
        {
          "output_type": "stream",
          "text": [
            "bash: cannot set terminal process group (123): Inappropriate ioctl for device\n",
            "bash: no job control in this shell\n",
            "\u001b]0;root@bd88c44fba97: /content/sample_data\u0007\u001b[01;32mroot@bd88c44fba97\u001b[00m:\u001b[01;34m/content/sample_data\u001b[00m# cd ..\n",
            "\u001b]0;root@bd88c44fba97: /content\u0007\u001b[01;32mroot@bd88c44fba97\u001b[00m:\u001b[01;34m/content\u001b[00m# cd drive/My\\ Drive/Data-1441/Lab-1-Solutions\n",
            "\u001b]0;root@bd88c44fba97: /content/drive/My Drive/Data-1441/Lab-1-Solutions\u0007\u001b[01;32mroot@bd88c44fba97\u001b[00m:\u001b[01;34m/content/drive/My Drive/Data-1441/Lab-1-Solutions\u001b[00m# sort < favorite-color-list.txt\n",
            "bash: favorite-color-list.txt: No such file or directory\n",
            "\u001b]0;root@bd88c44fba97: /content/drive/My Drive/Data-1441/Lab-1-Solutions\u0007\u001b[01;32mroot@bd88c44fba97\u001b[00m:\u001b[01;34m/content/drive/My Drive/Data-1441/Lab-1-Solutions\u001b[00m# favorite-color-list.txt\n",
            "bash: favorite-color-list.txt: command not found\n",
            "\u001b]0;root@bd88c44fba97: /content/drive/My Drive/Data-1441/Lab-1-Solutions\u0007\u001b[01;32mroot@bd88c44fba97\u001b[00m:\u001b[01;34m/content/drive/My Drive/Data-1441/Lab-1-Solutions\u001b[00m# sort < favorite-color-list.txt\n",
            "bash: favorite-color-list.txt: No such file or directory\n",
            "\u001b]0;root@bd88c44fba97: /content/drive/My Drive/Data-1441/Lab-1-Solutions\u0007\u001b[01;32mroot@bd88c44fba97\u001b[00m:\u001b[01;34m/content/drive/My Drive/Data-1441/Lab-1-Solutions\u001b[00m# cd favorite-color-list.txt\n",
            "bash: cd: favorite-color-list.txt: No such file or directory\n",
            "\u001b]0;root@bd88c44fba97: /content/drive/My Drive/Data-1441/Lab-1-Solutions\u0007\u001b[01;32mroot@bd88c44fba97\u001b[00m:\u001b[01;34m/content/drive/My Drive/Data-1441/Lab-1-Solutions\u001b[00m# cd favorite\\-c\\olor\\-\\list\n",
            "bash: cd: favorite-color-list: No such file or directory\n",
            "\u001b]0;root@bd88c44fba97: /content/drive/My Drive/Data-1441/Lab-1-Solutions\u0007\u001b[01;32mroot@bd88c44fba97\u001b[00m:\u001b[01;34m/content/drive/My Drive/Data-1441/Lab-1-Solutions\u001b[00m# cd favorite\\-\\olor\\-\\list\n",
            "bash: cd: favorite-olor-list: No such file or directory\n",
            "\u001b]0;root@bd88c44fba97: /content/drive/My Drive/Data-1441/Lab-1-Solutions\u0007\u001b[01;32mroot@bd88c44fba97\u001b[00m:\u001b[01;34m/content/drive/My Drive/Data-1441/Lab-1-Solutions\u001b[00m# cd favorite\\-\\color\\-\\list\n",
            "bash: cd: favorite-color-list: No such file or directory\n",
            "\u001b]0;root@bd88c44fba97: /content/drive/My Drive/Data-1441/Lab-1-Solutions\u0007\u001b[01;32mroot@bd88c44fba97\u001b[00m:\u001b[01;34m/content/drive/My Drive/Data-1441/Lab-1-Solutions\u001b[00m# ls\n",
            "favorite-colors-list.txt\n",
            "\u001b]0;root@bd88c44fba97: /content/drive/My Drive/Data-1441/Lab-1-Solutions\u0007\u001b[01;32mroot@bd88c44fba97\u001b[00m:\u001b[01;34m/content/drive/My Drive/Data-1441/Lab-1-Solutions\u001b[00m# cd favorite-colors-list\n",
            "bash: cd: favorite-colors-list: No such file or directory\n",
            "\u001b]0;root@bd88c44fba97: /content/drive/My Drive/Data-1441/Lab-1-Solutions\u0007\u001b[01;32mroot@bd88c44fba97\u001b[00m:\u001b[01;34m/content/drive/My Drive/Data-1441/Lab-1-Solutions\u001b[00m# cd favorite-color-list.txt\n",
            "bash: cd: favorite-color-list.txt: No such file or directory\n",
            "\u001b]0;root@bd88c44fba97: /content/drive/My Drive/Data-1441/Lab-1-Solutions\u0007\u001b[01;32mroot@bd88c44fba97\u001b[00m:\u001b[01;34m/content/drive/My Drive/Data-1441/Lab-1-Solutions\u001b[00m# cat favorite-color-list.txt\n",
            "cat: favorite-color-list.txt: No such file or directory\n",
            "\u001b]0;root@bd88c44fba97: /content/drive/My Drive/Data-1441/Lab-1-Solutions\u0007\u001b[01;32mroot@bd88c44fba97\u001b[00m:\u001b[01;34m/content/drive/My Drive/Data-1441/Lab-1-Solutions\u001b[00m# cat favorite-color-list.txt\n",
            "cat: favorite-color-list.txt: No such file or directory\n",
            "\u001b]0;root@bd88c44fba97: /content/drive/My Drive/Data-1441/Lab-1-Solutions\u0007\u001b[01;32mroot@bd88c44fba97\u001b[00m:\u001b[01;34m/content/drive/My Drive/Data-1441/Lab-1-Solutions\u001b[00m# cd ..\n",
            "\u001b]0;root@bd88c44fba97: /content/drive/My Drive/Data-1441\u0007\u001b[01;32mroot@bd88c44fba97\u001b[00m:\u001b[01;34m/content/drive/My Drive/Data-1441\u001b[00m# cd..\n",
            "bash: cd..: command not found\n",
            "\u001b]0;root@bd88c44fba97: /content/drive/My Drive/Data-1441\u0007\u001b[01;32mroot@bd88c44fba97\u001b[00m:\u001b[01;34m/content/drive/My Drive/Data-1441\u001b[00m# cd..\n",
            "bash: cd..: command not found\n",
            "\u001b]0;root@bd88c44fba97: /content/drive/My Drive/Data-1441\u0007\u001b[01;32mroot@bd88c44fba97\u001b[00m:\u001b[01;34m/content/drive/My Drive/Data-1441\u001b[00m# cd ..\n",
            "\u001b]0;root@bd88c44fba97: /content/drive/My Drive\u0007\u001b[01;32mroot@bd88c44fba97\u001b[00m:\u001b[01;34m/content/drive/My Drive\u001b[00m# cd ..\n",
            "\u001b]0;root@bd88c44fba97: /content/drive\u0007\u001b[01;32mroot@bd88c44fba97\u001b[00m:\u001b[01;34m/content/drive\u001b[00m# cd ...\n",
            "bash: cd: ...: No such file or directory\n",
            "\u001b]0;root@bd88c44fba97: /content/drive\u0007\u001b[01;32mroot@bd88c44fba97\u001b[00m:\u001b[01;34m/content/drive\u001b[00m# cd ..\n",
            "\u001b]0;root@bd88c44fba97: /content\u0007\u001b[01;32mroot@bd88c44fba97\u001b[00m:\u001b[01;34m/content\u001b[00m# cat favorite-color-list.txt\n",
            "cat: favorite-color-list.txt: No such file or directory\n",
            "\u001b]0;root@bd88c44fba97: /content\u0007\u001b[01;32mroot@bd88c44fba97\u001b[00m:\u001b[01;34m/content\u001b[00m# \n",
            "\u001b]0;root@bd88c44fba97: /content\u0007\u001b[01;32mroot@bd88c44fba97\u001b[00m:\u001b[01;34m/content\u001b[00m# \n",
            "\u001b]0;root@bd88c44fba97: /content\u0007\u001b[01;32mroot@bd88c44fba97\u001b[00m:\u001b[01;34m/content\u001b[00m#  exit\n",
            "exit\n"
          ],
          "name": "stdout"
        }
      ]
    },
    {
      "cell_type": "markdown",
      "metadata": {
        "id": "v5IaZXNyqvz_",
        "colab_type": "text"
      },
      "source": [
        "## Git\n",
        "\n",
        "`git` is a Version Control System (VCS), typically used to organize the source code of software project but also good source of documents or web-pages. An instance of `git` server stores repositories, each typically containing the code relevant to a specific project. Users create local `clones` of repositories, change and develop the local copies of the code, `commit` the changes to their local repository, `push` to the server as a contribution,  \n",
        "`pull` updates from the server, and `merge` changes between local and remote versions. \n",
        "\n",
        "Besides cloning, repositories can be branched or forked. A repository generally starts with a `master` branch that evolves as push requests are merged in. Creating a new branch from an existing branch creates a snapshot of the which can evolve independently or be merged in later. Branches are easy to make and delete, and can serve various purposes. They can represent a stable version of software package. Or a parallel development for different operating system. A fork of a repository is a standalone instance of the repository which can be stored and managed independently from the original, where you can work independently without constraints or interference. \n",
        "\n",
        "[GitHub](github.com) provides a massive publically accessible instance of a `git` system besides sharing code, projects can be developed by the open source community. It provides tools for managing your repository and a wiki for documentation. Contributions to public software on GitHub generally require making a merge request which would be judged by the managers of the repository. That's why most software packages enourage you to create a new fork, so you can work independently.\n",
        "\n",
        "Lets take a look at some repositories:\n",
        "\n",
        "* [This class](https://github.com/afarbin/DATA1401-Spring-2020)\n",
        "\n",
        "\n",
        "\n"
      ]
    },
    {
      "cell_type": "markdown",
      "metadata": {
        "id": "J_R64sQDqv0A",
        "colab_type": "text"
      },
      "source": [
        "## Plan\n",
        "\n",
        "You made a clone of the class repository at start of this lab. We will create a new fork where you can keep track and submit your work, following [these instructions](https://help.github.com/articles/fork-a-repo/).\n",
        "\n",
        "Goto to github.com and log in.\n",
        "\n",
        "Next, lets create a fork of the [class repository](https://github.com/afarbin/DATA1401-Spring-2019). Click the link and press the \"Fork\" button on the top right. Select your repository as where you want to place the fork.\n"
      ]
    },
    {
      "cell_type": "markdown",
      "metadata": {
        "id": "edTvE6rOqv0C",
        "colab_type": "text"
      },
      "source": [
        "Now we will check out your fork in your Google Drive / Colab.\n",
        "\n",
        "Note: Jupyter allows you to run shell directly in a notebook. We will use `!` and `%` to call shell commands directly in this notebook. Follow along yourself. Either create a new notebook or open a terminal. \n",
        "\n",
        "Start by listing the contents of your current directory."
      ]
    },
    {
      "cell_type": "code",
      "metadata": {
        "id": "e5tXg0f8qv0D",
        "colab_type": "code",
        "outputId": "6765e6ba-3fe2-4c42-fe0b-84a8f1cd6777",
        "colab": {
          "base_uri": "https://localhost:8080/",
          "height": 68
        }
      },
      "source": [
        "%cd /content/drive/My\\ Drive\n",
        "!ls"
      ],
      "execution_count": 0,
      "outputs": [
        {
          "output_type": "stream",
          "text": [
            "/content/drive/My Drive\n",
            " 2016-ee-f.pdf\t    Data-1441\t\t\t\t'physic 1 syllabus '\n",
            "'Colab Notebooks'  'How to get started with Drive.pdf'\n"
          ],
          "name": "stdout"
        }
      ]
    },
    {
      "cell_type": "code",
      "metadata": {
        "id": "mdU_bNDAOycn",
        "colab_type": "code",
        "outputId": "3bdb7aee-fc9b-433f-eea0-50d4c61f4af6",
        "colab": {
          "base_uri": "https://localhost:8080/",
          "height": 122
        }
      },
      "source": [
        "from google.colab import drive\n",
        "drive.mount('/content/drive')"
      ],
      "execution_count": 1,
      "outputs": [
        {
          "output_type": "stream",
          "text": [
            "Go to this URL in a browser: https://accounts.google.com/o/oauth2/auth?client_id=947318989803-6bn6qk8qdgf4n4g3pfee6491hc0brc4i.apps.googleusercontent.com&redirect_uri=urn%3aietf%3awg%3aoauth%3a2.0%3aoob&response_type=code&scope=email%20https%3a%2f%2fwww.googleapis.com%2fauth%2fdocs.test%20https%3a%2f%2fwww.googleapis.com%2fauth%2fdrive%20https%3a%2f%2fwww.googleapis.com%2fauth%2fdrive.photos.readonly%20https%3a%2f%2fwww.googleapis.com%2fauth%2fpeopleapi.readonly\n",
            "\n",
            "Enter your authorization code:\n",
            "··········\n",
            "Mounted at /content/drive\n"
          ],
          "name": "stdout"
        }
      ]
    },
    {
      "cell_type": "markdown",
      "metadata": {
        "id": "WYsyYcg1qv0J",
        "colab_type": "text"
      },
      "source": [
        "Make a new directory:"
      ]
    },
    {
      "cell_type": "code",
      "metadata": {
        "id": "Z7noY1hMqv0L",
        "colab_type": "code",
        "outputId": "4fe94e6d-2d64-4ceb-8ef2-61e083d6ec56",
        "colab": {
          "base_uri": "https://localhost:8080/",
          "height": 34
        }
      },
      "source": [
        "!mkdir Data-1401-Repo\n",
        "%cd Data-1401-Repo"
      ],
      "execution_count": 0,
      "outputs": [
        {
          "output_type": "stream",
          "text": [
            "/content/drive/My Drive/Data-1401-Repo\n"
          ],
          "name": "stdout"
        }
      ]
    },
    {
      "cell_type": "markdown",
      "metadata": {
        "id": "fwsBdTnYqv0Q",
        "colab_type": "text"
      },
      "source": [
        "From the github page for your fork, press the green \"Clone or download\" button and copy the URL.\n",
        "\n",
        "Goto to your notebook and use the following command to clone the repository, pasting the URL you just copied:\n"
      ]
    },
    {
      "cell_type": "code",
      "metadata": {
        "id": "8w42MH6Jqv0S",
        "colab_type": "code",
        "outputId": "c14bd718-afe8-44d4-f0f1-25376b3fbc04",
        "colab": {
          "base_uri": "https://localhost:8080/",
          "height": 119
        }
      },
      "source": [
        "# What you past here should look like:\n",
        "!git clone https://github.com/dylansingh/DATA1401-Spring-2020.git"
      ],
      "execution_count": 0,
      "outputs": [
        {
          "output_type": "stream",
          "text": [
            "Cloning into 'DATA1401-Spring-2020'...\n",
            "remote: Enumerating objects: 50, done.\u001b[K\n",
            "remote: Counting objects: 100% (50/50), done.\u001b[K\n",
            "remote: Compressing objects: 100% (29/29), done.\u001b[K\n",
            "remote: Total 50 (delta 12), reused 48 (delta 10), pack-reused 0\u001b[K\n",
            "Unpacking objects: 100% (50/50), done.\n"
          ],
          "name": "stdout"
        }
      ]
    },
    {
      "cell_type": "markdown",
      "metadata": {
        "id": "cOAuqTVUqv0V",
        "colab_type": "text"
      },
      "source": [
        "Go into the directory:"
      ]
    },
    {
      "cell_type": "code",
      "metadata": {
        "id": "b1Ew4tEZqv0X",
        "colab_type": "code",
        "outputId": "8b29db56-ab69-40f6-9dbc-0800165e2503",
        "colab": {
          "base_uri": "https://localhost:8080/",
          "height": 51
        }
      },
      "source": [
        "%cd DATA1401-Spring-2020\n",
        "!ls"
      ],
      "execution_count": 0,
      "outputs": [
        {
          "output_type": "stream",
          "text": [
            "/content/drive/My Drive/Data-1401-Repo/DATA1401-Spring-2020\n",
            "Labs  Lectures\tREADME.md  syllabus.pdf\n"
          ],
          "name": "stdout"
        }
      ]
    },
    {
      "cell_type": "markdown",
      "metadata": {
        "id": "IrhWToc-qv0a",
        "colab_type": "text"
      },
      "source": [
        "We will now connect your fork to the original so you can pull changes from there. \n",
        "\n",
        "Check remote status:"
      ]
    },
    {
      "cell_type": "code",
      "metadata": {
        "id": "JxtMYR-9qv0c",
        "colab_type": "code",
        "outputId": "69ae7951-5884-45d4-8b7a-1e1fb8cd201a",
        "colab": {
          "base_uri": "https://localhost:8080/",
          "height": 51
        }
      },
      "source": [
        "!git remote -v"
      ],
      "execution_count": 0,
      "outputs": [
        {
          "output_type": "stream",
          "text": [
            "origin\thttps://github.com/dylansingh/DATA1401-Spring-2020.git (fetch)\n",
            "origin\thttps://github.com/dylansingh/DATA1401-Spring-2020.git (push)\n"
          ],
          "name": "stdout"
        }
      ]
    },
    {
      "cell_type": "markdown",
      "metadata": {
        "id": "9ud3X0fBqv0f",
        "colab_type": "text"
      },
      "source": [
        "Now use the original class URL to set your upstream:"
      ]
    },
    {
      "cell_type": "code",
      "metadata": {
        "id": "pgJlKxBqqv0h",
        "colab_type": "code",
        "colab": {}
      },
      "source": [
        "!git remote add upstream https://github.com/afarbin/DATA1401-Spring-2020.git"
      ],
      "execution_count": 0,
      "outputs": []
    },
    {
      "cell_type": "code",
      "metadata": {
        "id": "id2yUEt9qv0k",
        "colab_type": "code",
        "outputId": "cf4bd15d-eb62-4eb3-e2fd-94132120b7dd",
        "colab": {
          "base_uri": "https://localhost:8080/",
          "height": 85
        }
      },
      "source": [
        "!git remote -v"
      ],
      "execution_count": 0,
      "outputs": [
        {
          "output_type": "stream",
          "text": [
            "origin\thttps://github.com/dylansingh/DATA1401-Spring-2020.git (fetch)\n",
            "origin\thttps://github.com/dylansingh/DATA1401-Spring-2020.git (push)\n",
            "upstream\thttps://github.com/afarbin/DATA1401-Spring-2020.git (fetch)\n",
            "upstream\thttps://github.com/afarbin/DATA1401-Spring-2020.git (push)\n"
          ],
          "name": "stdout"
        }
      ]
    },
    {
      "cell_type": "markdown",
      "metadata": {
        "id": "sAkgeJ6Iqv0n",
        "colab_type": "text"
      },
      "source": [
        "From now on, you can get the newest version of class material by using:"
      ]
    },
    {
      "cell_type": "code",
      "metadata": {
        "id": "AGDsfTFLqv0o",
        "colab_type": "code",
        "outputId": "55413a1d-0cda-456f-d2d3-db458ab662ce",
        "colab": {
          "base_uri": "https://localhost:8080/",
          "height": 34
        }
      },
      "source": [
        "!git pull"
      ],
      "execution_count": 0,
      "outputs": [
        {
          "output_type": "stream",
          "text": [
            "Already up to date.\n"
          ],
          "name": "stdout"
        }
      ]
    },
    {
      "cell_type": "markdown",
      "metadata": {
        "id": "u9RAhs5b4vXY",
        "colab_type": "text"
      },
      "source": [
        "We will submit your Lab 1 using git at the next Lab."
      ]
    },
    {
      "cell_type": "code",
      "metadata": {
        "id": "PPfGmFQI40HR",
        "colab_type": "code",
        "colab": {}
      },
      "source": [
        ""
      ],
      "execution_count": 0,
      "outputs": []
    }
  ]
}