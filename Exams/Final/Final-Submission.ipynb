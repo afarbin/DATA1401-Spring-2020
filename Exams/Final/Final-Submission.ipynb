{
 "cells": [
  {
   "cell_type": "markdown",
   "metadata": {
    "colab_type": "text",
    "id": "D9lBAAQnC2hH"
   },
   "source": [
    "# Final Exam\n",
    "\n",
    "[![Open In Colab](https://colab.research.google.com/assets/colab-badge.svg)](https://colab.research.google.com/github//afarbin/DATA1401-Spring-2020/blob/master/Exams/Final/Final.ipynb)"
   ]
  },
  {
   "cell_type": "markdown",
   "metadata": {
    "colab_type": "text",
    "id": "UxM8pJ2YC2hJ"
   },
   "source": [
    "Recall the drawing system from lecture 18:"
   ]
  },
  {
   "cell_type": "code",
   "execution_count": 1,
   "metadata": {
    "colab": {},
    "colab_type": "code",
    "id": "DPijqhxnC2hL"
   },
   "outputs": [],
   "source": [
    "class Canvas:\n",
    "    def __init__(self, width, height):\n",
    "        self.width = width\n",
    "        self.height = height\n",
    "        self.data = [[' '] * width for i in range(height)]\n",
    "\n",
    "    def set_pixel(self, row, col, char='*'):\n",
    "        self.data[row][col] = char\n",
    "\n",
    "    def get_pixel(self, row, col):\n",
    "        return self.data[row][col]\n",
    "    \n",
    "    def h_line(self, x, y, w, **kargs):\n",
    "        for i in range(x,x+w):\n",
    "            self.set_pixel(i,y, **kargs)\n",
    "\n",
    "    def v_line(self, x, y, h, **kargs):\n",
    "        for i in range(y,y+h):\n",
    "            self.set_pixel(x,i, **kargs)\n",
    "            \n",
    "    def line(self, x1, y1, x2, y2, **kargs):\n",
    "        slope = (y2-y1) / (x2-x1)\n",
    "        for x in range(x1,x2):\n",
    "            y= int(slope * x)\n",
    "            self.set_pixel(x,y, **kargs)\n",
    "            \n",
    "    def display(self):\n",
    "        print(\"\\n\".join([\"\".join(row) for row in self.data]))"
   ]
  },
  {
   "cell_type": "code",
   "execution_count": 2,
   "metadata": {
    "colab": {},
    "colab_type": "code",
    "id": "Na77rMSDC2ha"
   },
   "outputs": [],
   "source": [
    "class Shape:\n",
    "    def __init__(self, name=\"\", **kwargs):\n",
    "        self.name=name\n",
    "        self.kwargs=kwargs\n",
    "    \n",
    "    def paint(self, canvas): pass\n",
    "    \n",
    "    def __str__(self):\n",
    "        return '{}'.format(self.name)\n",
    "\n",
    "class Rectangle(Shape):\n",
    "    def __init__(self, x, y, w, h, **kwargs):\n",
    "        #Shape.__init__(self, **kwargs)\n",
    "        super().__init__(**kwargs)\n",
    "        self.x = x\n",
    "        self.y = y\n",
    "        self.w = w\n",
    "        self.h = h\n",
    "\n",
    "    def paint(self, canvas):\n",
    "        canvas.h_line(self.x, self.y, self.w, **self.kwargs)\n",
    "        canvas.h_line(self.x, self.y + self.h, self.w, **self.kwargs)\n",
    "        canvas.v_line(self.x, self.y, self.h, **self.kwargs)\n",
    "        canvas.v_line(self.x + self.w, self.y, self.h, **self.kwargs)\n",
    "\n",
    "class Square(Rectangle):\n",
    "    def __init__(self, x, y, size, **kwargs):\n",
    "        #Rectangle.__init__(self, x, y, size, size, **kwargs)\n",
    "        super().__init__(x, y, size, size, **kwargs)\n",
    "\n",
    "class Line(Shape):\n",
    "    def __init__(self, x1, y1, x2, y2,  **kwargs):\n",
    "        #Shape.__init__(self, **kwargs)\n",
    "        super().__init__(**kwargs)\n",
    "        self.x1=x1\n",
    "        self.y1=y1\n",
    "        self.x2=x2\n",
    "        self.y2=y2\n",
    "        \n",
    "    def paint(self, canvas):\n",
    "        canvas.line(self.x1,self.y1,self.x2,self.y2)\n",
    "        \n",
    "class CompoundShape(Shape):\n",
    "    def __init__(self, shapes):\n",
    "        self.shapes = shapes\n",
    "\n",
    "    def paint(self, canvas):\n",
    "        for s in self.shapes:\n",
    "            s.paint(canvas)\n",
    "    "
   ]
  },
  {
   "cell_type": "code",
   "execution_count": 3,
   "metadata": {},
   "outputs": [],
   "source": [
    "class RasterDrawing():\n",
    "    def __init__(self):\n",
    "        self.shapes=dict()\n",
    "        self.shape_names=list()\n",
    "        \n",
    "    def add_shape(self,shape):\n",
    "        if shape.name == \"\":\n",
    "            shape.name = self.assign_name()\n",
    "        \n",
    "        self.shapes[shape.name]=shape\n",
    "        self.shape_names.append(shape.name)\n",
    "        \n",
    "    def paint(self,canvas):\n",
    "        for shape_name in self.shape_names:\n",
    "            self.shapes[shape_name].paint(canvas)\n",
    "            \n",
    "    def assign_name(self):\n",
    "        name_base=\"shape\"\n",
    "        name = name_base+\"_0\"\n",
    "        \n",
    "        i=1\n",
    "        while name in self.shapes:\n",
    "            name = name_base+\"_\"+name+\"_\"+str(i)\n",
    "            \n",
    "        return name\n",
    "    \n",
    "    def save(self,filename):\n",
    "        self.filename = filename\n",
    "        file = open(self.filename,'a')\n",
    "        for shap_nam in self.shapes.keys():\n",
    "            #file.write(\"{}\\n\".format(shap_nam))\n",
    "            file.write(shap_nam)\n",
    "            file.write(\"\\n\")\n",
    "        file.close()\n",
    "    \n",
    "    def load(self,filename):\n",
    "        self.filename = filename\n",
    "        file=open(self.filename,\"r\")\n",
    "        can=Canvas(50,50)\n",
    "        ras = RasterDrawing()\n",
    "        for shape in file:\n",
    "            ras.add_shape(eval(shape))\n",
    "        ras.paint(can)\n",
    "        can.display()\n",
    "\n",
    "        file.close()\n"
   ]
  },
  {
   "cell_type": "markdown",
   "metadata": {
    "colab_type": "text",
    "id": "Vz8zppAeC2ic"
   },
   "source": [
    "1. Add `Point` and `Triangle` classes and test them."
   ]
  },
  {
   "cell_type": "code",
   "execution_count": 4,
   "metadata": {
    "colab": {},
    "colab_type": "code",
    "id": "gBerd7eRC2id"
   },
   "outputs": [],
   "source": [
    "class Point(Shape):\n",
    "    def __init__(self,x,y,**kwargs):\n",
    "        self.x = x\n",
    "        self.y = y\n",
    "        self.kwargs=kwargs\n",
    "        Shape.__init__(self, **kwargs)\n",
    "    def paint(self, canvas):\n",
    "        canvas.set_pixel(self.x, self.y, **self.kwargs)\n",
    "\n",
    "class Triangle(Shape):\n",
    "    def __init__(self, x1,y1, x2,y2, x3,y3, **kwargs):\n",
    "        #Shape.__init__(self, **kwargs)\n",
    "        super().__init__(**kwargs)\n",
    "        self.x1 = x1\n",
    "        self.y1 = y1\n",
    "        self.x2 = x2\n",
    "        self.y2 = y2\n",
    "        self.x3 = x3\n",
    "        self.y3 = y3\n",
    "        self.kwargs=kwargs\n",
    "        \n",
    "    def paint(self, canvas):\n",
    "        if self.y2==self.y1:\n",
    "            canvas.h_line(self.x1, self.y1, abs(self.x1-self.x2), **self.kwargs)\n",
    "        if self.x2==self.x1:\n",
    "            canvas.v_line(self.x1, self.y1, abs(self.y1-self.y2), **self.kwargs)\n",
    "        if self.y2==self.y3:\n",
    "            canvas.h_line(self.x3, self.y3, abs(self.x2-self.x3), **self.kwargs)\n",
    "        if self.x2==self.x3:\n",
    "            canvas.v_line(self.x3, self.y3, abs(self.y2-self.y3), **self.kwargs)\n",
    "        if self.y3==self.y1:\n",
    "            canvas.h_line(self.x1, self.y1, abs(self.x1-self.x3), **self.kwargs)\n",
    "        if self.x3==self.x1:\n",
    "            canvas.v_line(self.x1, self.y1, abs(self.y1-self.y3), **self.kwargs)\n",
    "        \n",
    "        if self.y2!=self.y1 and self.x2!=self.x1:\n",
    "            canvas.line(self.x1, self.y1, self.x2, self.y2)\n",
    "        \n",
    "        if self.y2!=self.y3 and self.x2!=self.x3:   \n",
    "            canvas.line(self.x3, self.y3, self.x2, self.y2)\n",
    "        \n",
    "        if self.y3!=self.y1 and self.x3!=self.x1:\n",
    "            canvas.line(self.x1, self.y1, self.x3, self.y3)"
   ]
  },
  {
   "cell_type": "code",
   "execution_count": 5,
   "metadata": {},
   "outputs": [],
   "source": [
    "a_canvas = Canvas(10,10)"
   ]
  },
  {
   "cell_type": "code",
   "execution_count": 6,
   "metadata": {},
   "outputs": [
    {
     "name": "stdout",
     "output_type": "stream",
     "text": [
      "          \n",
      "          \n",
      "          \n",
      "          \n",
      "          \n",
      "     *    \n",
      "          \n",
      "          \n",
      "          \n",
      "          \n"
     ]
    }
   ],
   "source": [
    "pt = Point(5,5)\n",
    "pt.paint(a_canvas)\n",
    "a_canvas.display()"
   ]
  },
  {
   "cell_type": "code",
   "execution_count": 7,
   "metadata": {},
   "outputs": [],
   "source": [
    "b_canvas = Canvas(40,40)"
   ]
  },
  {
   "cell_type": "code",
   "execution_count": 8,
   "metadata": {},
   "outputs": [
    {
     "name": "stdout",
     "output_type": "stream",
     "text": [
      "*                                       \n",
      "* *                                     \n",
      "*   *                                   \n",
      "*     *                                 \n",
      "*       *                               \n",
      "*         *                             \n",
      "*           *                           \n",
      "*             *                         \n",
      "*               *                       \n",
      "*                 *                     \n",
      "*                   *                   \n",
      "*                 *                     \n",
      "*               *                       \n",
      "*             *                         \n",
      "*           *                           \n",
      "*         *                             \n",
      "*       *                               \n",
      "*     *                                 \n",
      "*   *                                   \n",
      "* *                                     \n",
      "                                        \n",
      "                                        \n",
      "                                        \n",
      "                                        \n",
      "                                        \n",
      "                                        \n",
      "                                        \n",
      "                                        \n",
      "                                        \n",
      "                                        \n",
      "                                        \n",
      "                                        \n",
      "                                        \n",
      "                                        \n",
      "                                        \n",
      "                                        \n",
      "                                        \n",
      "                                        \n",
      "                                        \n",
      "                                        \n"
     ]
    }
   ],
   "source": [
    "tr = Triangle(0,0, 20,0, 10,20)\n",
    "tr.paint(b_canvas)\n",
    "b_canvas.display()"
   ]
  },
  {
   "cell_type": "markdown",
   "metadata": {
    "colab_type": "text",
    "id": "tOAmd1LiC2il"
   },
   "source": [
    "2. Add an `Arc` class that is instantiated with a center location, two axis lengths, and starting and ending angles. If start and end are not specified or are the same angle, the `Arc` instance should draw an oval. If in addition the two axes are the same, the `Arc` instance should draw a circle. Create `Oval` and `Circle` classes that inherit from `Arc`. Test everything."
   ]
  },
  {
   "cell_type": "code",
   "execution_count": 9,
   "metadata": {},
   "outputs": [],
   "source": [
    "import math\n",
    "class Arc(Shape):\n",
    "    def __init__(self, h,k, a, b ,str_ang=None,end_ang=None,**kwargs):\n",
    "        #Shape.__init__(self, **kwargs)\n",
    "        super().__init__(**kwargs)\n",
    "        self.h = h\n",
    "        self.k = k\n",
    "        self.a = a\n",
    "        self.b= b\n",
    "        self.str_ang = str_ang\n",
    "        self.end_ang = end_ang\n",
    "        self.kwargs=kwargs\n",
    "        \n",
    "        \n",
    "    def paint(self, canvas):\n",
    "        if self.a == self.b and (self.str_ang + self.end_ang)==360:\n",
    "            for theta in range(self.str_ang,self.end_ang+1):\n",
    "                x = int(self.h + self.a*math.cos(theta))\n",
    "                y = int(self.k + self.a*math.sin(theta))\n",
    "                canvas.set_pixel(x,y)\n",
    "        \n",
    "        elif self.a == self.b and (self.str_ang + self.end_ang)<360:\n",
    "            for theta in range(self.str_ang,self.end_ang+1):\n",
    "                x = int(self.h + self.a*math.cos(theta))\n",
    "                y = int(self.k + self.a*math.sin(theta))\n",
    "                canvas.set_pixel(x,y)\n",
    "        \n",
    "        elif self.a > self.b and self.str_ang +self.end_ang==360:\n",
    "            for x in range(self.h-self.a,self.k+self.a+1):\n",
    "                y = int(self.h+self.b*math.sqrt(1-((x-self.h)/self.a)**2))\n",
    "                canvas.set_pixel(x,y)\n",
    "                y1 = -y\n",
    "                canvas.set_pixel(x,y1)\n",
    "         \n",
    "        elif self.a > self.b and self.str_ang +self.end_ang<360:\n",
    "            for y in range(self.k-self.b,self.k+self.b+1):\n",
    "                x = int(self.h+self.b*math.sqrt(1-((y-self.k)/self.a)**2))\n",
    "                canvas.set_pixel(x,y)\n",
    "                "
   ]
  },
  {
   "cell_type": "code",
   "execution_count": 10,
   "metadata": {},
   "outputs": [
    {
     "name": "stdout",
     "output_type": "stream",
     "text": [
      "                    \n",
      "                    \n",
      "                    \n",
      "                    \n",
      "                    \n",
      "                    \n",
      "                    \n",
      "                    \n",
      "                    \n",
      "  *               * \n",
      "   *             *  \n",
      "    **         **   \n",
      "      **** ****     \n",
      "          *         \n",
      "                    \n",
      "                    \n",
      "                    \n",
      "                    \n",
      "                    \n",
      "                    \n"
     ]
    }
   ],
   "source": [
    "# Arc\n",
    "e_canvas = Canvas(20,20)\n",
    "arc = Arc(5,10,10,8,0,180)\n",
    "arc.paint(e_canvas)\n",
    "e_canvas.display()"
   ]
  },
  {
   "cell_type": "code",
   "execution_count": 11,
   "metadata": {},
   "outputs": [],
   "source": [
    "class circle(Arc):\n",
    "    def __init__(self,h,k, r ,str_ang,end_ang,**kwargs):\n",
    "        super().__init__(h,k, r, r ,str_ang,end_ang,**kwargs)\n",
    "        \n",
    "class oval(Arc):\n",
    "    def __init__(self,h,k, a, b ,str_ang=None,end_ang=None,**kwargs):\n",
    "        super().__init__(h,k, a, b ,str_ang,end_ang,**kwargs)"
   ]
  },
  {
   "cell_type": "code",
   "execution_count": 12,
   "metadata": {},
   "outputs": [
    {
     "name": "stdout",
     "output_type": "stream",
     "text": [
      "                                        \n",
      "                                        \n",
      "                                        \n",
      "                                        \n",
      "                                        \n",
      "              ************              \n",
      "            ***          ***            \n",
      "           **              **           \n",
      "         **                  **         \n",
      "        **                    **        \n",
      "        *                      *        \n",
      "       *                        *       \n",
      "      **                        **      \n",
      "      *                          *      \n",
      "     **                          **     \n",
      "     *                            *     \n",
      "     *                            *     \n",
      "     *                            *     \n",
      "     *                            *     \n",
      "     *                            *     \n",
      "     *                            *     \n",
      "     *                            *     \n",
      "     *                            *     \n",
      "     *                            *     \n",
      "     *                            *     \n",
      "     **                          **     \n",
      "      *                          *      \n",
      "      **                        **      \n",
      "       *                        *       \n",
      "        *                      *        \n",
      "        **                    **        \n",
      "         **                  **         \n",
      "           **              **           \n",
      "            ***          ***            \n",
      "              ************              \n",
      "                    *                   \n",
      "                                        \n",
      "                                        \n",
      "                                        \n",
      "                                        \n"
     ]
    }
   ],
   "source": [
    "#Circle\n",
    "e_canvas = Canvas(40,40)\n",
    "cir = circle(20,20,15,0,360)\n",
    "cir.paint(e_canvas)\n",
    "e_canvas.display()"
   ]
  },
  {
   "cell_type": "code",
   "execution_count": 13,
   "metadata": {
    "scrolled": false
   },
   "outputs": [
    {
     "name": "stdout",
     "output_type": "stream",
     "text": [
      "                                        \n",
      "                                        \n",
      "                                        \n",
      "                                        \n",
      "                                        \n",
      "                    *                   \n",
      "                 *     *                \n",
      "                *       *               \n",
      "              *           *             \n",
      "              *           *             \n",
      "             *             *            \n",
      "            *               *           \n",
      "            *               *           \n",
      "            *               *           \n",
      "           *                 *          \n",
      "           *                 *          \n",
      "           *                 *          \n",
      "           *                 *          \n",
      "           *                 *          \n",
      "           *                 *          \n",
      "          *                   *         \n",
      "           *                 *          \n",
      "           *                 *          \n",
      "           *                 *          \n",
      "           *                 *          \n",
      "           *                 *          \n",
      "           *                 *          \n",
      "            *               *           \n",
      "            *               *           \n",
      "            *               *           \n",
      "             *             *            \n",
      "              *           *             \n",
      "              *           *             \n",
      "                *       *               \n",
      "                 *     *                \n",
      "                    *                   \n",
      "                                        \n",
      "                                        \n",
      "                                        \n",
      "                                        \n"
     ]
    }
   ],
   "source": [
    "# Oval\n",
    "f_canvas = Canvas(40,40)\n",
    "ovl = oval(20,20,15,10,0,360)\n",
    "ovl.paint(f_canvas)\n",
    "f_canvas.display()"
   ]
  },
  {
   "cell_type": "markdown",
   "metadata": {
    "colab_type": "text",
    "id": "BBrVf9PsC2iv"
   },
   "source": [
    "3. Use your classes to create a `RasterDrawing` that draws a happy face."
   ]
  },
  {
   "cell_type": "code",
   "execution_count": 14,
   "metadata": {},
   "outputs": [],
   "source": [
    "can=Canvas(50,50)\n",
    "rd=RasterDrawing()"
   ]
  },
  {
   "cell_type": "code",
   "execution_count": 15,
   "metadata": {},
   "outputs": [],
   "source": [
    "rd.add_shape(circle(25,25,20,0,360))\n",
    "rd.add_shape(Square(15,12,4))"
   ]
  },
  {
   "cell_type": "code",
   "execution_count": 16,
   "metadata": {},
   "outputs": [],
   "source": [
    "rd.add_shape(Square(15,33,4))\n",
    "rd.add_shape(circle(25,25,1.4,0,360))"
   ]
  },
  {
   "cell_type": "code",
   "execution_count": 17,
   "metadata": {},
   "outputs": [],
   "source": [
    "rd.add_shape(Rectangle(14,12, 1,4))\n",
    "rd.add_shape(Rectangle(14,33, 1,4))"
   ]
  },
  {
   "cell_type": "code",
   "execution_count": 18,
   "metadata": {},
   "outputs": [],
   "source": [
    "rd.add_shape(Rectangle(34,20, 2,10))\n",
    "rd.add_shape(Arc(30,24,8,7,0,180))"
   ]
  },
  {
   "cell_type": "code",
   "execution_count": 19,
   "metadata": {},
   "outputs": [
    {
     "name": "stdout",
     "output_type": "stream",
     "text": [
      "                                                  \n",
      "                                                  \n",
      "                                                  \n",
      "                                                  \n",
      "                                                  \n",
      "                  *************                   \n",
      "                ***            ***                \n",
      "              ***                ***              \n",
      "             **                    **             \n",
      "            *                        **           \n",
      "          **                          **          \n",
      "         **                            *          \n",
      "         *                              *         \n",
      "        *                                *        \n",
      "       **   *****                *****   **       \n",
      "       *    *****                *****    *       \n",
      "      **    *   *                *   *    **      \n",
      "      *     *   *                *   *     *      \n",
      "     **     *   *                *   *     **     \n",
      "     *      ****                 ****       *     \n",
      "     *                                      *     \n",
      "     *                                      *     \n",
      "     *                                      *     \n",
      "     *                  **                  *     \n",
      "     *                 ****                 *     \n",
      "     *                 ****                 *     \n",
      "     *                  **                  *     \n",
      "     *                                      *     \n",
      "     *                                      *     \n",
      "     *                                      *     \n",
      "     *                                      *     \n",
      "     **                                    **     \n",
      "      *                                    *      \n",
      "      **         *             *          **      \n",
      "       *          * ***********           *       \n",
      "       **          **        **          **       \n",
      "        *           **********           *        \n",
      "         *              *               *         \n",
      "         **                            **         \n",
      "          **                          **          \n",
      "            *                        **           \n",
      "             **                    **             \n",
      "              ***                ***              \n",
      "                ***            ***                \n",
      "                  *************                   \n",
      "                         *                        \n",
      "                                                  \n",
      "                                                  \n",
      "                                                  \n",
      "                                                  \n"
     ]
    }
   ],
   "source": [
    "rd.paint(can)\n",
    "can.display()"
   ]
  },
  {
   "cell_type": "code",
   "execution_count": 20,
   "metadata": {
    "colab": {},
    "colab_type": "code",
    "id": "PXwrtwLiC2ix"
   },
   "outputs": [
    {
     "name": "stdout",
     "output_type": "stream",
     "text": [
      "                                                  \n",
      "                                                  \n",
      "                                                  \n",
      "                                                  \n",
      "                                                  \n",
      "                  *************                   \n",
      "                ***            ***                \n",
      "              ***                ***              \n",
      "             **                    **             \n",
      "            *                        **           \n",
      "          **                          **          \n",
      "         **                            *          \n",
      "         *                              *         \n",
      "        *                                *        \n",
      "       **   *****                *****   **       \n",
      "       *    *****                *****    *       \n",
      "      **    *   *                *   *    **      \n",
      "      *     *   *                *   *     *      \n",
      "     **     *   *                *   *     **     \n",
      "     *      ****                 ****       *     \n",
      "     *                                      *     \n",
      "     *                                      *     \n",
      "     *                                      *     \n",
      "     *                  **                  *     \n",
      "     *                 ****                 *     \n",
      "     *                 ****                 *     \n",
      "     *                  **                  *     \n",
      "     *                                      *     \n",
      "     *                                      *     \n",
      "     *                                      *     \n",
      "     *                                      *     \n",
      "     **                                    **     \n",
      "      *                                    *      \n",
      "      **         *             *          **      \n",
      "       *          * ***********           *       \n",
      "       **          **        **          **       \n",
      "        *           **********           *        \n",
      "         *              *               *         \n",
      "         **                            **         \n",
      "          **                          **          \n",
      "            *                        **           \n",
      "             **                    **             \n",
      "              ***                ***              \n",
      "                ***            ***                \n",
      "                  *************                   \n",
      "                         *                        \n",
      "                                                  \n",
      "                                                  \n",
      "                                                  \n",
      "                                                  \n"
     ]
    }
   ],
   "source": [
    "hface=Canvas(50,50)\n",
    "cshape=CompoundShape([circle(25,25,20,0,360),Square(15,12,4),Square(15,33,4),Rectangle(14,12, 1,4),Rectangle(14,33, 1,4),circle(25,25,1.4,0,360),Arc(30,24,8,7,0,180),Rectangle(34,20, 2,10)])\n",
    "cshape.paint(hface)\n",
    "hface.display()"
   ]
  },
  {
   "cell_type": "markdown",
   "metadata": {
    "colab_type": "text",
    "id": "PO_YkmzOC2i3"
   },
   "source": [
    "4. Add to the `Shape` base class a `__str__()` method. Overwrite the method in each shape to generate a string of the python code necessary to reinstantiate the object. For example, for a rectangle originally instantiated using `Square(5,5,20,char=\"^\")`, `__str__()` should return the string `'Square(5,5,20,char=\"^\")'`.\n"
   ]
  },
  {
   "cell_type": "code",
   "execution_count": 21,
   "metadata": {
    "colab": {},
    "colab_type": "code",
    "id": "P7ntIrGQC2i7"
   },
   "outputs": [],
   "source": [
    "sq = Shape(\"Square(15,12,4)\")\n",
    "rc = Shape(\"Rectangle(10,10,15,12)\")\n",
    "tr = Shape(\"Triangle(0,0, 20,0, 10,20)\")\n",
    "cr = Shape(\"circle(25,25,20,0,360)\")\n",
    "ar = Shape(\"Arc(30,24,8,7,0,180)\")\n",
    "ov = Shape(\"oval(20,20,15,10,0,360)\")       "
   ]
  },
  {
   "cell_type": "code",
   "execution_count": 22,
   "metadata": {},
   "outputs": [
    {
     "data": {
      "text/plain": [
       "'Square(15,12,4)'"
      ]
     },
     "execution_count": 22,
     "metadata": {},
     "output_type": "execute_result"
    }
   ],
   "source": [
    "sq.__str__()"
   ]
  },
  {
   "cell_type": "code",
   "execution_count": 23,
   "metadata": {},
   "outputs": [
    {
     "data": {
      "text/plain": [
       "'Rectangle(10,10,15,12)'"
      ]
     },
     "execution_count": 23,
     "metadata": {},
     "output_type": "execute_result"
    }
   ],
   "source": [
    "rc.__str__()"
   ]
  },
  {
   "cell_type": "code",
   "execution_count": 24,
   "metadata": {},
   "outputs": [
    {
     "data": {
      "text/plain": [
       "'Triangle(0,0, 20,0, 10,20)'"
      ]
     },
     "execution_count": 24,
     "metadata": {},
     "output_type": "execute_result"
    }
   ],
   "source": [
    "tr.__str__()"
   ]
  },
  {
   "cell_type": "code",
   "execution_count": 25,
   "metadata": {},
   "outputs": [
    {
     "data": {
      "text/plain": [
       "'circle(25,25,20,0,360)'"
      ]
     },
     "execution_count": 25,
     "metadata": {},
     "output_type": "execute_result"
    }
   ],
   "source": [
    "cr.__str__()"
   ]
  },
  {
   "cell_type": "code",
   "execution_count": 26,
   "metadata": {},
   "outputs": [
    {
     "data": {
      "text/plain": [
       "'Arc(30,24,8,7,0,180)'"
      ]
     },
     "execution_count": 26,
     "metadata": {},
     "output_type": "execute_result"
    }
   ],
   "source": [
    "ar.__str__()"
   ]
  },
  {
   "cell_type": "code",
   "execution_count": 27,
   "metadata": {},
   "outputs": [
    {
     "data": {
      "text/plain": [
       "'oval(20,20,15,10,0,360)'"
      ]
     },
     "execution_count": 27,
     "metadata": {},
     "output_type": "execute_result"
    }
   ],
   "source": [
    "ov.__str__()"
   ]
  },
  {
   "cell_type": "markdown",
   "metadata": {
    "colab_type": "text",
    "id": "jalCs3pbC2jA"
   },
   "source": [
    "5. Add to `RasterDrawing` two functions, `save(filename)` and `load(filename)`. The save function writes the `__str__()` of all of the shapes in the drawing to a file (one shape per line). The load function, reads the file, and instantiates each object using the python `eval(expression)` function, and adds each shape to the drawing, thereby recreating a \"saved\" raster drawing. Use this functionality to save and load your happy face.\n",
    "\n",
    "   `eval` takes a string that contains a fragment of a python code and executes it. Consider the following examples: "
   ]
  },
  {
   "cell_type": "code",
   "execution_count": 28,
   "metadata": {},
   "outputs": [],
   "source": [
    "rp = RasterDrawing()"
   ]
  },
  {
   "cell_type": "code",
   "execution_count": 29,
   "metadata": {},
   "outputs": [],
   "source": [
    "rp.add_shape(Shape(\"circle(25,25,20,0,360)\"))\n",
    "rp.add_shape(Shape(\"Square(15,12,4)\"))\n",
    "rp.add_shape(Shape(\"Square(15,33,4)\"))\n",
    "rp.add_shape(Shape(\"circle(25,25,1.4,0,360)\"))\n",
    "rp.add_shape(Shape(\"Arc(30,24,8,7,0,180)\"))\n",
    "rp.add_shape(Shape(\"Rectangle(14,12, 1,4)\"))\n",
    "rp.add_shape(Shape(\"Rectangle(14,33, 1,4)\"))\n",
    "rp.add_shape(Shape(\"Rectangle(34,20, 2,10)\"))"
   ]
  },
  {
   "cell_type": "code",
   "execution_count": 30,
   "metadata": {},
   "outputs": [
    {
     "data": {
      "text/plain": [
       "dict_keys(['circle(25,25,20,0,360)', 'Square(15,12,4)', 'Square(15,33,4)', 'circle(25,25,1.4,0,360)', 'Arc(30,24,8,7,0,180)', 'Rectangle(14,12, 1,4)', 'Rectangle(14,33, 1,4)', 'Rectangle(34,20, 2,10)'])"
      ]
     },
     "execution_count": 30,
     "metadata": {},
     "output_type": "execute_result"
    }
   ],
   "source": [
    "rp.shapes.keys()"
   ]
  },
  {
   "cell_type": "code",
   "execution_count": 31,
   "metadata": {},
   "outputs": [],
   "source": [
    "rp.save(\"Shape_list.txt\")"
   ]
  },
  {
   "cell_type": "code",
   "execution_count": 32,
   "metadata": {},
   "outputs": [
    {
     "name": "stdout",
     "output_type": "stream",
     "text": [
      "                                                  \n",
      "                                                  \n",
      "                                                  \n",
      "                                                  \n",
      "                                                  \n",
      "                  *************                   \n",
      "                ***            ***                \n",
      "              ***                ***              \n",
      "             **                    **             \n",
      "            *                        **           \n",
      "          **                          **          \n",
      "         **                            *          \n",
      "         *                              *         \n",
      "        *                                *        \n",
      "       **   *****                *****   **       \n",
      "       *    *****                *****    *       \n",
      "      **    *   *                *   *    **      \n",
      "      *     *   *                *   *     *      \n",
      "     **     *   *                *   *     **     \n",
      "     *      ****                 ****       *     \n",
      "     *                                      *     \n",
      "     *                                      *     \n",
      "     *                                      *     \n",
      "     *                  **                  *     \n",
      "     *                 ****                 *     \n",
      "     *                 ****                 *     \n",
      "     *                  **                  *     \n",
      "     *                                      *     \n",
      "     *                                      *     \n",
      "     *                                      *     \n",
      "     *                                      *     \n",
      "     **                                    **     \n",
      "      *                                    *      \n",
      "      **         *             *          **      \n",
      "       *          * ***********           *       \n",
      "       **          **        **          **       \n",
      "        *           **********           *        \n",
      "         *              *               *         \n",
      "         **                            **         \n",
      "          **                          **          \n",
      "            *                        **           \n",
      "             **                    **             \n",
      "              ***                ***              \n",
      "                ***            ***                \n",
      "                  *************                   \n",
      "                         *                        \n",
      "                                                  \n",
      "                                                  \n",
      "                                                  \n",
      "                                                  \n"
     ]
    }
   ],
   "source": [
    "RasterDrawing().load(\"Shape_list.txt\")"
   ]
  },
  {
   "cell_type": "code",
   "execution_count": null,
   "metadata": {},
   "outputs": [],
   "source": []
  }
 ],
 "metadata": {
  "colab": {
   "name": "Final.ipynb",
   "provenance": []
  },
  "kernelspec": {
   "display_name": "Python 3",
   "language": "python",
   "name": "python3"
  },
  "language_info": {
   "codemirror_mode": {
    "name": "ipython",
    "version": 3
   },
   "file_extension": ".py",
   "mimetype": "text/x-python",
   "name": "python",
   "nbconvert_exporter": "python",
   "pygments_lexer": "ipython3",
   "version": "3.7.6"
  }
 },
 "nbformat": 4,
 "nbformat_minor": 1
}
