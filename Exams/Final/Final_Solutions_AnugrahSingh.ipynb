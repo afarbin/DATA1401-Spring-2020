{
  "nbformat": 4,
  "nbformat_minor": 0,
  "metadata": {
    "kernelspec": {
      "display_name": "Python 3",
      "language": "python",
      "name": "python3"
    },
    "language_info": {
      "codemirror_mode": {
        "name": "ipython",
        "version": 3
      },
      "file_extension": ".py",
      "mimetype": "text/x-python",
      "name": "python",
      "nbconvert_exporter": "python",
      "pygments_lexer": "ipython3",
      "version": "3.8.0"
    },
    "colab": {
      "name": "Final Solutions- AnugrahSingh.ipynb",
      "provenance": [],
      "collapsed_sections": []
    }
  },
  "cells": [
    {
      "cell_type": "markdown",
      "metadata": {
        "id": "8Zuc-7b_P49g",
        "colab_type": "text"
      },
      "source": [
        "# Final Exam\n",
        "\n",
        "[![Open In Colab](https://colab.research.google.com/assets/colab-badge.svg)](https://colab.research.google.com/github//afarbin/DATA1401-Spring-2020/blob/master/Exams/Final/Final.ipynb)"
      ]
    },
    {
      "cell_type": "markdown",
      "metadata": {
        "id": "MosLVDz5P49h",
        "colab_type": "text"
      },
      "source": [
        "Recall the drawing system from lecture 18:"
      ]
    },
    {
      "cell_type": "code",
      "metadata": {
        "id": "FvGxj1jaP49h",
        "colab_type": "code",
        "colab": {}
      },
      "source": [
        "class Canvas:\n",
        "    def __init__(self, width, height):\n",
        "        self.width = width\n",
        "        self.height = height\n",
        "        self.data = [[' '] * width for i in range(height)]\n",
        "\n",
        "    def set_pixel(self, row, col, char='*'):\n",
        "        self.data[row][col] = char\n",
        "\n",
        "    def get_pixel(self, row, col):\n",
        "        return self.data[row][col]\n",
        "    \n",
        "    def h_line(self, x, y, w, **kwargs):\n",
        "        for i in range(x,x+w):\n",
        "            self.set_pixel(y,i, **kwargs)\n",
        "\n",
        "    def v_line(self, x, y, h, **kwargs):\n",
        "        for i in range(y,y+h):\n",
        "            self.set_pixel(i,x, **kwargs)\n",
        "            \n",
        "    def line(self, x1, y1, x2, y2, **kwargs):\n",
        "        slope = (y2-y1) / (x2-x1)\n",
        "        for y in range(y1,y2):\n",
        "            x= int(slope * y)\n",
        "            self.set_pixel(x,y, **kwargs)\n",
        "\n",
        "    def cir_arc(self,r,**kwargs):\n",
        "      size=2*r+1\n",
        "      for i in range(int(size)):\n",
        "          for j in range(int(size)):\n",
        "            x=i-r\n",
        "            y=j-r\n",
        "            if x * x + y * y == r * r + 1:\n",
        "              self.set_pixel(i,j,**kwargs)\n",
        "\n",
        "    def oval_arc(self,ax_1,ax_2,**kwargs):\n",
        "      size=2*ax_1+1\n",
        "      for i in range(int(size)):\n",
        "          for j in range(int(size)):\n",
        "            x=i-ax_1\n",
        "            y=j-ax_1\n",
        "            if (x * x)/(ax_1^2) + (y * y)/(ax_2^2) == 1:\n",
        "              self.set_pixel(i,j,**kwargs)\n",
        "    \n",
        "    def display(self):\n",
        "        print(\"\\n\".join([\"\".join(row) for row in self.data]))"
      ],
      "execution_count": 0,
      "outputs": []
    },
    {
      "cell_type": "code",
      "metadata": {
        "id": "XDZxMBNUP49m",
        "colab_type": "code",
        "colab": {}
      },
      "source": [
        "class Shape:\n",
        "    def __init__(self, name=\"\", **kwargs):\n",
        "        self.name=name\n",
        "        self.kwargs=kwargs\n",
        "    \n",
        "    def paint(self, canvas): pass\n",
        "\n",
        "    def __str__(self):\n",
        "      return \"{}({})\".format(self.name,self.kwargs)\n",
        "\n",
        "class Rectangle(Shape):\n",
        "    def __init__(self, x, y, w, h, **kwargs):\n",
        "        Shape.__init__(self, **kwargs)\n",
        "        self.x = x\n",
        "        self.y = y\n",
        "        self.w = w\n",
        "        self.h = h\n",
        "\n",
        "    def __str__(self):\n",
        "      return \"Square({},{},{},{},{})\".format(self.x,self.y,self.w,self.h,self.kwargs)\n",
        "\n",
        "    def paint(self, canvas):\n",
        "        canvas.h_line(self.x, self.y, self.w, **self.kwargs)\n",
        "        canvas.h_line(self.x, self.y + self.h, self.w, **self.kwargs)\n",
        "        canvas.v_line(self.x, self.y, self.h, **self.kwargs)\n",
        "        canvas.v_line(self.x + self.w, self.y, self.h, **self.kwargs)\n",
        "\n",
        "class Square(Rectangle):\n",
        "    def __init__(self, x, y, size, **kwargs):\n",
        "        Rectangle.__init__(self, x, y, size, size, **kwargs)\n",
        "\n",
        "class Line(Shape):\n",
        "    def __init__(self, x1, y1, x2, y2,  **kwargs):\n",
        "        Shape.__init__(self, **kwargs)\n",
        "        self.x1=x1\n",
        "        self.y1=y1\n",
        "        self.x2=x2\n",
        "        self.y2=y2\n",
        "\n",
        "    def __str__(self):\n",
        "      return \"Line({},{},{},{},{})\".format(self.x1,self.y1,self.x2,self.y2,self.kwargs)\n",
        "        \n",
        "    def paint(self, canvas):\n",
        "        canvas.line(self.x1,self.y1,self.x2,self.y2)\n",
        "        \n",
        "class CompoundShape(Shape):\n",
        "    def __init__(self, shapes):\n",
        "        self.shapes = shapes\n",
        "\n",
        "    def paint(self, canvas):\n",
        "        for s in self.shapes:\n",
        "            s.paint(canvas)"
      ],
      "execution_count": 0,
      "outputs": []
    },
    {
      "cell_type": "markdown",
      "metadata": {
        "id": "HRE-KuTSP49r",
        "colab_type": "text"
      },
      "source": [
        "1. Add `Point` and `Triangle` classes and test them."
      ]
    },
    {
      "cell_type": "code",
      "metadata": {
        "id": "Q3cOVbRMJW3E",
        "colab_type": "code",
        "colab": {}
      },
      "source": [
        "class Triangle(Shape):\n",
        "    def __init__(self, x1, y1, x2, y2, **kwargs):\n",
        "      Shape.__init__(self, **kwargs)\n",
        "      self.x1=x1\n",
        "      self.y1=y1\n",
        "      self.x2=x2\n",
        "      self.y2=y2\n",
        "\n",
        "    def __str__(self):\n",
        "      return \"Triangle({},{},{},{},{})\".format(self.x1,self.y1,self.x2,self.y2,self.kwargs)\n",
        "    \n",
        "    def paint(self, canvas):\n",
        "      canvas.line(self.x1,self.y1,self.x2,self.y2)\n",
        "      canvas.h_line(self.x1,self.y1,self.x2-self.x1,**self.kwargs)\n",
        "      canvas.v_line(self.x2,self.y1,self.y2-self.y1,**self.kwargs)\n",
        "\n",
        "class Point(Shape):\n",
        "    def __init__(self, x, y, **kwargs):\n",
        "      Shape.__init__(self, **kwargs)\n",
        "      self.x=x\n",
        "      self.y=y\n",
        "\n",
        "    def __str__(self):\n",
        "      return \"Point({},{},{})\".format(self.x,self.y,self.kwargs)\n",
        "    \n",
        "    def paint(self, canvas):\n",
        "      canvas.set_pixel(self.x,self.y,**self.kwargs)"
      ],
      "execution_count": 0,
      "outputs": []
    },
    {
      "cell_type": "code",
      "metadata": {
        "id": "9AhnoK0ieZRW",
        "colab_type": "code",
        "colab": {
          "base_uri": "https://localhost:8080/",
          "height": 353
        },
        "outputId": "5b272728-7a9a-4bf8-b741-39617b768476"
      },
      "source": [
        "c1=Canvas(20,20)\n",
        "t1=Triangle(0,0,10,10,char=\"*\")\n",
        "t1.paint(c1)\n",
        "p1=Point(2,6,char=\"+\")\n",
        "p1.paint(c1)\n",
        "c1.display()"
      ],
      "execution_count": 206,
      "outputs": [
        {
          "output_type": "stream",
          "text": [
            "***********         \n",
            " *        *         \n",
            "  *   +   *         \n",
            "   *      *         \n",
            "    *     *         \n",
            "     *    *         \n",
            "      *   *         \n",
            "       *  *         \n",
            "        * *         \n",
            "         **         \n",
            "                    \n",
            "                    \n",
            "                    \n",
            "                    \n",
            "                    \n",
            "                    \n",
            "                    \n",
            "                    \n",
            "                    \n",
            "                    \n"
          ],
          "name": "stdout"
        }
      ]
    },
    {
      "cell_type": "markdown",
      "metadata": {
        "id": "IDVJhn88P49t",
        "colab_type": "text"
      },
      "source": [
        "2. Add an `Arc` class that is instantiated with a center location, two axis lengths, and starting and ending angles. If start and end are not specified or are the same angle, the `Arc` instance should draw an oval. If in addition the two axes are the same, the `Arc` instance should draw a circle. Create `Oval` and `Circle` classes that inherit from `Arc`. Test everything."
      ]
    },
    {
      "cell_type": "code",
      "metadata": {
        "id": "YMS9Q-CoC_du",
        "colab_type": "code",
        "colab": {}
      },
      "source": [
        "class Arc(Shape):\n",
        "  def __init__(self,**kwargs):\n",
        "    Shape.__init__(self,**kwargs)\n",
        "    self.kwargs=kwargs\n",
        "\n",
        "  def paint(self,canvas):\n",
        "    pass\n",
        "\n",
        "class Circle(Arc):\n",
        "  def __init__(self,ax_1,**kwargs):\n",
        "    Arc.__init__(self,**kwargs)\n",
        "    self.ax_1=ax_1\n",
        "\n",
        "  def paint(self,canvas):\n",
        "    canvas.cir_arc((self.ax_1)/2,**self.kwargs)\n",
        "\n",
        "class Oval(Arc):\n",
        "  def __init__(self,ax_1,ax_2,**kwargs):\n",
        "    Arc.__init__(self,**kwargs)\n",
        "    self.ax_1=ax_1\n",
        "    self.ax_2=ax_2\n",
        "\n",
        "  def paint(self,canvas):\n",
        "    canvas.oval_arc(self.ax_1,self.ax_2,**self.kwargs)\n"
      ],
      "execution_count": 0,
      "outputs": []
    },
    {
      "cell_type": "code",
      "metadata": {
        "id": "b76nH8K4YM4f",
        "colab_type": "code",
        "colab": {
          "base_uri": "https://localhost:8080/",
          "height": 353
        },
        "outputId": "f97e05a9-af84-4b55-88b5-60457a9055ec"
      },
      "source": [
        "c1=Canvas(50,20)\n",
        "c=Circle(16)\n",
        "c.paint(c1)\n",
        "o=Oval(25,1)\n",
        "o.paint(c1)\n",
        "c1.display()\n"
      ],
      "execution_count": 109,
      "outputs": [
        {
          "output_type": "stream",
          "text": [
            "       * *                                        \n",
            "    *       *                                     \n",
            "                                                  \n",
            "                                                  \n",
            " *             *                                  \n",
            "                                                  \n",
            "                                                  \n",
            "*               *                                 \n",
            "                                                  \n",
            "*               *                                 \n",
            "                                                  \n",
            "                                                  \n",
            " *             *                                  \n",
            "                                                  \n",
            "                                                  \n",
            "    *       *                                     \n",
            "       * *                                        \n",
            "                                                  \n",
            "                                                  \n",
            "                                                  \n"
          ],
          "name": "stdout"
        }
      ]
    },
    {
      "cell_type": "markdown",
      "metadata": {
        "id": "MvdBzoXfP49w",
        "colab_type": "text"
      },
      "source": [
        "3. Use your classes to create a `RasterDrawing` that draws a happy face."
      ]
    },
    {
      "cell_type": "code",
      "metadata": {
        "id": "BIaRgBoMP49p",
        "colab_type": "code",
        "colab": {}
      },
      "source": [
        "class RasterDrawing:\n",
        "    def __init__(self):\n",
        "        self.shapes=dict()\n",
        "        self.shape_names=list()\n",
        "        \n",
        "    def add_shape(self,shape):\n",
        "        if shape.name == \"\":\n",
        "            shape.name = self.assign_name()\n",
        "        \n",
        "        self.shapes[shape.name]=shape\n",
        "        self.shape_names.append(shape.name)\n",
        "        \n",
        "    def paint(self,canvas):\n",
        "        for shape_name in self.shape_names:\n",
        "            self.shapes[shape_name].paint(canvas)\n",
        "            \n",
        "    def assign_name(self):\n",
        "        name_base=\"shape\"\n",
        "        name = name_base+\"_0\"\n",
        "        \n",
        "        i=1\n",
        "        while name in self.shapes:\n",
        "            name = name_base+\"_\"+str(i)\n",
        "            \n",
        "        return name"
      ],
      "execution_count": 0,
      "outputs": []
    },
    {
      "cell_type": "code",
      "metadata": {
        "id": "W_z-fzpUP49w",
        "colab_type": "code",
        "colab": {
          "base_uri": "https://localhost:8080/",
          "height": 370
        },
        "outputId": "b964de55-7a13-4323-efaf-036e58aa8b47"
      },
      "source": [
        "c1=Canvas(20,20)\n",
        "rd=RasterDrawing()\n",
        "rd.add_shape(Circle(16))\n",
        "rd.add_shape(Point(2,6,char=\"+\"))\n",
        "rd.add_shape(Point(2,10,char=\"+\"))\n",
        "rd.paint(c1)\n",
        "c1.display()"
      ],
      "execution_count": 106,
      "outputs": [
        {
          "output_type": "error",
          "ename": "KeyboardInterrupt",
          "evalue": "ignored",
          "traceback": [
            "\u001b[0;31m---------------------------------------------------------------------------\u001b[0m",
            "\u001b[0;31mKeyboardInterrupt\u001b[0m                         Traceback (most recent call last)",
            "\u001b[0;32m<ipython-input-106-bac270ca6a85>\u001b[0m in \u001b[0;36m<module>\u001b[0;34m()\u001b[0m\n\u001b[1;32m      3\u001b[0m \u001b[0mrd\u001b[0m\u001b[0;34m.\u001b[0m\u001b[0madd_shape\u001b[0m\u001b[0;34m(\u001b[0m\u001b[0mCircle\u001b[0m\u001b[0;34m(\u001b[0m\u001b[0;36m16\u001b[0m\u001b[0;34m)\u001b[0m\u001b[0;34m)\u001b[0m\u001b[0;34m\u001b[0m\u001b[0;34m\u001b[0m\u001b[0m\n\u001b[1;32m      4\u001b[0m \u001b[0mrd\u001b[0m\u001b[0;34m.\u001b[0m\u001b[0madd_shape\u001b[0m\u001b[0;34m(\u001b[0m\u001b[0mPoint\u001b[0m\u001b[0;34m(\u001b[0m\u001b[0;36m2\u001b[0m\u001b[0;34m,\u001b[0m\u001b[0;36m6\u001b[0m\u001b[0;34m,\u001b[0m\u001b[0mchar\u001b[0m\u001b[0;34m=\u001b[0m\u001b[0;34m\"+\"\u001b[0m\u001b[0;34m)\u001b[0m\u001b[0;34m)\u001b[0m\u001b[0;34m\u001b[0m\u001b[0;34m\u001b[0m\u001b[0m\n\u001b[0;32m----> 5\u001b[0;31m \u001b[0mrd\u001b[0m\u001b[0;34m.\u001b[0m\u001b[0madd_shape\u001b[0m\u001b[0;34m(\u001b[0m\u001b[0mPoint\u001b[0m\u001b[0;34m(\u001b[0m\u001b[0;36m2\u001b[0m\u001b[0;34m,\u001b[0m\u001b[0;36m10\u001b[0m\u001b[0;34m,\u001b[0m\u001b[0mchar\u001b[0m\u001b[0;34m=\u001b[0m\u001b[0;34m\"+\"\u001b[0m\u001b[0;34m)\u001b[0m\u001b[0;34m)\u001b[0m\u001b[0;34m\u001b[0m\u001b[0;34m\u001b[0m\u001b[0m\n\u001b[0m\u001b[1;32m      6\u001b[0m \u001b[0mrd\u001b[0m\u001b[0;34m.\u001b[0m\u001b[0mpaint\u001b[0m\u001b[0;34m(\u001b[0m\u001b[0mc1\u001b[0m\u001b[0;34m)\u001b[0m\u001b[0;34m\u001b[0m\u001b[0;34m\u001b[0m\u001b[0m\n\u001b[1;32m      7\u001b[0m \u001b[0mc1\u001b[0m\u001b[0;34m.\u001b[0m\u001b[0mdisplay\u001b[0m\u001b[0;34m(\u001b[0m\u001b[0;34m)\u001b[0m\u001b[0;34m\u001b[0m\u001b[0;34m\u001b[0m\u001b[0m\n",
            "\u001b[0;32m<ipython-input-105-3ca070d1fe6f>\u001b[0m in \u001b[0;36madd_shape\u001b[0;34m(self, shape)\u001b[0m\n\u001b[1;32m      6\u001b[0m     \u001b[0;32mdef\u001b[0m \u001b[0madd_shape\u001b[0m\u001b[0;34m(\u001b[0m\u001b[0mself\u001b[0m\u001b[0;34m,\u001b[0m\u001b[0mshape\u001b[0m\u001b[0;34m)\u001b[0m\u001b[0;34m:\u001b[0m\u001b[0;34m\u001b[0m\u001b[0;34m\u001b[0m\u001b[0m\n\u001b[1;32m      7\u001b[0m         \u001b[0;32mif\u001b[0m \u001b[0mshape\u001b[0m\u001b[0;34m.\u001b[0m\u001b[0mname\u001b[0m \u001b[0;34m==\u001b[0m \u001b[0;34m\"\"\u001b[0m\u001b[0;34m:\u001b[0m\u001b[0;34m\u001b[0m\u001b[0;34m\u001b[0m\u001b[0m\n\u001b[0;32m----> 8\u001b[0;31m             \u001b[0mshape\u001b[0m\u001b[0;34m.\u001b[0m\u001b[0mname\u001b[0m \u001b[0;34m=\u001b[0m \u001b[0mself\u001b[0m\u001b[0;34m.\u001b[0m\u001b[0massign_name\u001b[0m\u001b[0;34m(\u001b[0m\u001b[0;34m)\u001b[0m\u001b[0;34m\u001b[0m\u001b[0;34m\u001b[0m\u001b[0m\n\u001b[0m\u001b[1;32m      9\u001b[0m \u001b[0;34m\u001b[0m\u001b[0m\n\u001b[1;32m     10\u001b[0m         \u001b[0mself\u001b[0m\u001b[0;34m.\u001b[0m\u001b[0mshapes\u001b[0m\u001b[0;34m[\u001b[0m\u001b[0mshape\u001b[0m\u001b[0;34m.\u001b[0m\u001b[0mname\u001b[0m\u001b[0;34m]\u001b[0m\u001b[0;34m=\u001b[0m\u001b[0mshape\u001b[0m\u001b[0;34m\u001b[0m\u001b[0;34m\u001b[0m\u001b[0m\n",
            "\u001b[0;32m<ipython-input-105-3ca070d1fe6f>\u001b[0m in \u001b[0;36massign_name\u001b[0;34m(self)\u001b[0m\n\u001b[1;32m     21\u001b[0m         \u001b[0mi\u001b[0m\u001b[0;34m=\u001b[0m\u001b[0;36m1\u001b[0m\u001b[0;34m\u001b[0m\u001b[0;34m\u001b[0m\u001b[0m\n\u001b[1;32m     22\u001b[0m         \u001b[0;32mwhile\u001b[0m \u001b[0mname\u001b[0m \u001b[0;32min\u001b[0m \u001b[0mself\u001b[0m\u001b[0;34m.\u001b[0m\u001b[0mshapes\u001b[0m\u001b[0;34m:\u001b[0m\u001b[0;34m\u001b[0m\u001b[0;34m\u001b[0m\u001b[0m\n\u001b[0;32m---> 23\u001b[0;31m             \u001b[0mname\u001b[0m \u001b[0;34m=\u001b[0m \u001b[0mname_base\u001b[0m\u001b[0;34m+\u001b[0m\u001b[0;34m\"_\"\u001b[0m\u001b[0;34m+\u001b[0m\u001b[0mstr\u001b[0m\u001b[0;34m(\u001b[0m\u001b[0mi\u001b[0m\u001b[0;34m)\u001b[0m\u001b[0;34m\u001b[0m\u001b[0;34m\u001b[0m\u001b[0m\n\u001b[0m\u001b[1;32m     24\u001b[0m \u001b[0;34m\u001b[0m\u001b[0m\n\u001b[1;32m     25\u001b[0m         \u001b[0;32mreturn\u001b[0m \u001b[0mname\u001b[0m\u001b[0;34m\u001b[0m\u001b[0;34m\u001b[0m\u001b[0m\n",
            "\u001b[0;31mKeyboardInterrupt\u001b[0m: "
          ]
        }
      ]
    },
    {
      "cell_type": "markdown",
      "metadata": {
        "id": "MDAjRpF8P49y",
        "colab_type": "text"
      },
      "source": [
        "4. Add to the `Shape` base class a `__str__()` method. Overwrite the method in each shape to generate a string of the python code necessary to reinstantiate the object. For example, for a rectangle originally instantiated using `Square(5,5,20,char=\"^\")`, `__str__()` should return the string `'Square(5,5,20,char=\"^\")'`.\n"
      ]
    },
    {
      "cell_type": "code",
      "metadata": {
        "id": "W_XPIFo19TTF",
        "colab_type": "code",
        "colab": {
          "base_uri": "https://localhost:8080/",
          "height": 34
        },
        "outputId": "45a03edd-2457-4d6d-dd35-7f3cbcdcba96"
      },
      "source": [
        "c1=Canvas(50,40)\n",
        "s1=Square(5,5,20,char=\"^\")\n",
        "print(s1)"
      ],
      "execution_count": 146,
      "outputs": [
        {
          "output_type": "stream",
          "text": [
            "Square(5,5,20,20,{'char': '^'})\n"
          ],
          "name": "stdout"
        }
      ]
    },
    {
      "cell_type": "markdown",
      "metadata": {
        "id": "6vAEOEHtP492",
        "colab_type": "text"
      },
      "source": [
        "5. Add to `RasterDrawing` two functions, `save(filename)` and `load(filename)`. The save function writes the `__str__()` of all of the shapes in the drawing to a file (one shape per line). The load function, reads the file, and instantiates each object using the python `eval(expression)` function, and adds each shape to the drawing, thereby recreating a \"saved\" raster drawing. Use this functionality to save and load your happy face.\n",
        "\n",
        "   `eval` takes a string that contains a fragment of a python code and executes it. Consider the following examples: "
      ]
    },
    {
      "cell_type": "code",
      "metadata": {
        "id": "HRi-sIbXP493",
        "colab_type": "code",
        "colab": {}
      },
      "source": [
        "eval(\"print('Hello')\")"
      ],
      "execution_count": 0,
      "outputs": []
    },
    {
      "cell_type": "code",
      "metadata": {
        "id": "eAebp4ySP496",
        "colab_type": "code",
        "colab": {}
      },
      "source": [
        "x = eval('1+2')\n",
        "print(x)"
      ],
      "execution_count": 0,
      "outputs": []
    },
    {
      "cell_type": "code",
      "metadata": {
        "id": "ILjkg5KmP498",
        "colab_type": "code",
        "colab": {}
      },
      "source": [
        ""
      ],
      "execution_count": 0,
      "outputs": []
    }
  ]
}