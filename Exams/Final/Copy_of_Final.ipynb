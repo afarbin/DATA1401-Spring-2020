{
  "nbformat": 4,
  "nbformat_minor": 0,
  "metadata": {
    "kernelspec": {
      "display_name": "Python 3",
      "language": "python",
      "name": "python3"
    },
    "language_info": {
      "codemirror_mode": {
        "name": "ipython",
        "version": 3
      },
      "file_extension": ".py",
      "mimetype": "text/x-python",
      "name": "python",
      "nbconvert_exporter": "python",
      "pygments_lexer": "ipython3",
      "version": "3.8.0"
    },
    "colab": {
      "name": "Copy of Final.ipynb",
      "provenance": [],
      "collapsed_sections": []
    }
  },
  "cells": [
    {
      "cell_type": "markdown",
      "metadata": {
        "id": "b0Ua8TT4jxsw",
        "colab_type": "text"
      },
      "source": [
        "# Final Exam\n",
        "\n",
        "[![Open In Colab](https://colab.research.google.com/assets/colab-badge.svg)](https://colab.research.google.com/github//afarbin/DATA1401-Spring-2020/blob/master/Exams/Final/Final.ipynb)"
      ]
    },
    {
      "cell_type": "markdown",
      "metadata": {
        "id": "UJquy-IOjxsx",
        "colab_type": "text"
      },
      "source": [
        "Recall the drawing system from lecture 18:"
      ]
    },
    {
      "cell_type": "code",
      "metadata": {
        "id": "M0Z62Nymjxsy",
        "colab_type": "code",
        "colab": {}
      },
      "source": [
        "class Canvas:\n",
        "    def __init__(self, width, height):\n",
        "        self.width = width\n",
        "        self.height = height\n",
        "        self.data = [[' '] * width for i in range(height)]\n",
        "\n",
        "    def set_pixel(self, row, col, char='*'):\n",
        "        self.data[row][col] = char\n",
        "\n",
        "    def get_pixel(self, row, col):\n",
        "        return self.data[row][col]\n",
        "    \n",
        "    def h_line(self, x, y, w, **kargs):\n",
        "        for i in range(x,x+w):\n",
        "            self.set_pixel(i,y, **kargs)\n",
        "\n",
        "    def v_line(self, x, y, h, **kargs):\n",
        "        for i in range(y,y+h):\n",
        "            self.set_pixel(x,i, **kargs)\n",
        "            \n",
        "    def line(self, x1, y1, x2, y2, **kargs):\n",
        "        slope = (y2-y1) / (x2-x1)\n",
        "        for y in range(y1,y2):\n",
        "            x= int(slope * y)\n",
        "            self.set_pixel(x,y, **kargs)\n",
        "            \n",
        "    def display(self):\n",
        "        print(\"\\n\".join([\"\".join(row) for row in self.data]))"
      ],
      "execution_count": 0,
      "outputs": []
    },
    {
      "cell_type": "code",
      "metadata": {
        "id": "KoCqmMvFjxs1",
        "colab_type": "code",
        "colab": {}
      },
      "source": [
        "class Shape:\n",
        "    def __init__(self, name=\"\", **kwargs):\n",
        "        self.name=name\n",
        "        self.kwargs=kwargs\n",
        "    \n",
        "    def paint(self, canvas): pass\n",
        "\n",
        "    def __str__(self, **kwargs): pass\n",
        "\n",
        "class Rectangle(Shape):\n",
        "    def __init__(self, x, y, w, h, **kwargs):\n",
        "        Shape.__init__(self, **kwargs)\n",
        "        self.x = x\n",
        "        self.y = y\n",
        "        self.w = w\n",
        "        self.h = h\n",
        "\n",
        "    def paint(self, canvas):\n",
        "        canvas.h_line(self.x, self.y, self.w, **self.kwargs)\n",
        "        canvas.h_line(self.x, self.y + self.h, self.w, **self.kwargs)\n",
        "        canvas.v_line(self.x, self.y, self.h, **self.kwargs)\n",
        "        canvas.v_line(self.x + self.w, self.y, self.h, **self.kwargs)\n",
        "\n",
        "    def __str__(self,**kwargs):\n",
        "      Shape.__str__(self,**kwargs)\n",
        "      namestr = \"Rectangle\" + \"(\"+str(self.x)+(','+str(self.y))+(','+str(self.w))+(','+str(self.h))+str(**kwargs)+\")\"\n",
        "      return namestr\n",
        "\n",
        "class Square(Rectangle):\n",
        "    def __init__(self, x, y, size, **kwargs):\n",
        "        Rectangle.__init__(self, x, y, size, size, **kwargs)\n",
        "\n",
        "    def __str__(self,**kwargs):\n",
        "      Shape.__str__(self,**kwargs)\n",
        "      namestr = \"Square\" + \"(\"+str(self.x)+(','+str(self.y))+(','+str(self.size))+(\",\"+str(**kwargs))+\")\"\n",
        "      return namestr\n",
        "\n",
        "class Line(Shape):\n",
        "    def __init__(self, x1, y1, x2, y2,  **kwargs):\n",
        "        Shape.__init__(self, **kwargs)\n",
        "        self.x1=x1\n",
        "        self.y1=y1\n",
        "        self.x2=x2\n",
        "        self.y2=y2\n",
        "        \n",
        "    def paint(self, canvas):\n",
        "        canvas.line(self.x1,self.y1,self.x2,self.y2)\n",
        "\n",
        "    def __str__(self,**kwargs):\n",
        "      Shape.__str__(self,**kwargs)\n",
        "      namestr = \"Line\" + \"(\"+str(self.x1)+(','+str(self.y1))+(','+str(self.x2))+(','+str(self.y2))+str(**kwargs)+\")\"\n",
        "      return namestr\n",
        "\n",
        "class CompoundShape(Shape):\n",
        "    def __init__(self, shapes):\n",
        "        self.shapes = shapes\n",
        "\n",
        "    def paint(self, canvas):\n",
        "        for s in self.shapes:\n",
        "            s.paint(canvas)\n",
        "\n",
        "class Triangle(Shape):\n",
        "    def __init__(self, x, y ,h, w, **kwargs):\n",
        "      Shape.__init__(self, **kwargs)\n",
        "      self.x = x\n",
        "      self.y = y\n",
        "      self.h = h\n",
        "      self.w = w\n",
        "\n",
        "    def paint(self, canvas):\n",
        "        canvas.v_line(self.x, self.y, self.h, **self.kwargs)\n",
        "        canvas.line(self.x, self.y, self.h, self.h, **self.kwargs)\n",
        "        canvas.h_line(self.x, self.h, self.w, **self.kwargs)\n",
        "\n",
        "    def __str__(self,**kwargs):\n",
        "      Shape.__str__(self,**kwargs)\n",
        "      namestr = \"Triangle\" + \"(\"+str(self.x)+(','+str(self.y))+(','+str(self.h))+(','+str(self.w))+(str(**kwargs))+\")\"\n",
        "      return namestr\n",
        "\n",
        "class Point(Shape):\n",
        "    def __init__(self, x, y):\n",
        "      Shape.__init__(self)\n",
        "      self.x = x\n",
        "      self.y = y\n",
        "\n",
        "    def paint(self, canvas):\n",
        "        canvas.set_pixel(self.x, self.y)\n",
        "\n",
        "    def __str__(self,**kwargs):\n",
        "      Shape.__str__(self,**kwargs)\n",
        "      namestr = \"Point\" + \"(\"+str(self.x)+(\",\"+str(self.y))+str(**kwargs)+\")\"\n",
        "      return namestr\n",
        "\n",
        "import math\n",
        "\n",
        "class Arc(Shape):\n",
        "  def __init__(self, x, y, a, b, angle1, angle2, **kwargs):\n",
        "    Shape.__init__(self, **kwargs)\n",
        "    self.x = x\n",
        "    self.y = y\n",
        "    self.a = a\n",
        "    self.b = b\n",
        "    self.angle1 = angle1\n",
        "    self.angle2 = angle2\n",
        "\n",
        "  def paint(self, canvas):\n",
        "    #arclen = (2*math.pi*self.a)*((self.angle2-self.angle1)/360)\n",
        "    #s = int(self.angle1*(math.pi/180))\n",
        "    #e = int(self.angle2*(math.pi/180))\n",
        "    if self.angle1 != self.angle2 and self.a != self.b :\n",
        "      print(\"Arc\")\n",
        "      for i in range(self.angle1,self.angle2):\n",
        "          #x = int(self.angle1 + self.a*math.cos(i))\n",
        "          #y = int(self.angle2 + self.b*math.sin(i))\n",
        "          x = self.x + self.a*math.cos(i)\n",
        "          y = self.y + math.sqrt((i**2)+3)\n",
        "          canvas.set_pixel(int(x),int(y))\n",
        "\n",
        "    elif self.a == self.b and self.angle1 is None and self.angle2 is None:# self.angle1 == self.angle2:\n",
        "      print(\"Circle\")\n",
        "      '''\n",
        "      for x,y in range(0,int(2*math.pi)):\n",
        "        circle = (x-self.x)**2 + (y-self.y)**2 - (self.a)**2'''\n",
        "      for i in range(0,360):\n",
        "        #x = int(self.x + self.a*math.cos((2*math.pi)/i))\n",
        "        #y = int(self.y + self.b*math.sin((2*math.pi)/i))\n",
        "        x = int(self.x + self.a*math.sin(i))\n",
        "        y = int(self.y - self.b*(1-math.cos(i)))\n",
        "        canvas.set_pixel(int(x),int(y))\n",
        "\n",
        "    elif self.angle1 == self.angle2:# or (self.angle1 is None and self.angle2 is None):\n",
        "      #draw oval\n",
        "      print(\"Oval\")\n",
        "      '''for i in range(0,360):\n",
        "        x = self.x + (self.a * math.cos(i))\n",
        "        y = self.y + (self.b * math.sin(i))\n",
        "        canvas.set_pixel(int(x),int(y))'''\n",
        "      for i in range(0,360):\n",
        "          x = int(self.x + self.a*math.sin(i))\n",
        "          y = int(self.y + self.b*(1-math.cos(i)))\n",
        "          canvas.set_pixel(int(x),int(y))  \n",
        "\n",
        "  def __str__(self,**kwargs):\n",
        "    Shape.__str__(self,**kwargs)\n",
        "    namestr = \"Arc\" + \"(\"+str(self.x)+(','+str(self.y))+(','+str(self.a))+(','+str(self.b))+(','+str(self.angle1))+(','+str(self.angle2))+str(**kwargs)+\")\"\n",
        "    return namestr\n",
        "\n",
        "class Circle(Arc):\n",
        "  def __init__(self, x, y, a, **kwargs):\n",
        "    Arc.__init__(self, x, y, a, a, None, None, **kwargs)\n",
        "\n",
        "  def __str__(self,**kwargs):\n",
        "    Shape.__str__(self,**kwargs)\n",
        "    st1 = \"Circle\"\n",
        "    namestr = \"Circle\" + \"(\"+str(self.x)+(','+str(self.y))+(','+str(self.a))+str(**kwargs)+\")\"\n",
        "    return namestr\n",
        "\n",
        "class Oval(Arc):\n",
        "  def __init__(self, x, y, a, b, angle1, angle2, **kwargs):\n",
        "    Arc.__init__(self, x, y, a, b, angle1, angle2, **kwargs)\n",
        "\n",
        "  def __str__(self,**kwargs):\n",
        "    Shape.__str__(self,**kwargs)\n",
        "    st1 = \"Oval\"\n",
        "    namestr = str1 + \"(\"+str(self.x)+(\",\"+str(self.y))+(','+str(self.a))+(','+str(self.b))+(','+str(self.angle1))+(','+str(self.angle2))+str(**kwargs)+\")\"\n",
        "    return namestr\n"
      ],
      "execution_count": 0,
      "outputs": []
    },
    {
      "cell_type": "code",
      "metadata": {
        "id": "MU1i2Cuojxs3",
        "colab_type": "code",
        "colab": {}
      },
      "source": [
        "class RasterDrawing:\n",
        "    def __init__(self):\n",
        "        self.shapes=dict()\n",
        "        self.shape_names=list()\n",
        "        \n",
        "    def add_shape(self,shape):\n",
        "        if shape.name == \"\":\n",
        "            shape.name = self.assign_name()\n",
        "        \n",
        "        self.shapes[shape.name]=shape\n",
        "        self.shape_names.append(shape.name)\n",
        "        \n",
        "    def paint(self,canvas):\n",
        "        for shape_name in self.shape_names:\n",
        "            self.shapes[shape_name].paint(canvas)\n",
        "            \n",
        "    def assign_name(self):\n",
        "        name_base=\"shape\"\n",
        "        name = name_base+\"_0\"\n",
        "        \n",
        "        i=1\n",
        "        while name in self.shapes:\n",
        "            name = name_base+\"_\"+str(i)\n",
        "            \n",
        "        return name\n",
        "    def save(self, filename, canvas):\n",
        "      open(filename, \"w\").close()\n",
        "      file_object = open(filename, \"w\")\n",
        "      \n",
        "      for shape_name in self.shape_names:\n",
        "        f = self.shapes[shape_name].__str__()\n",
        "        file_object.write(f + \"\\n\")\n",
        "\n",
        "      file_object.close();\n",
        "      \n",
        "      return print(\"Saved\")\n",
        "    \n",
        "    def load(self, filename, canvas):\n",
        "      file = open(filename, \"r\")\n",
        "      lines = file.readlines()\n",
        "      objects = []\n",
        "\n",
        "\n",
        "      for line in lines:\n",
        "        print(line)\n",
        "        #eval(shape.__str__())\n",
        "        objects.append(eval(line))\n",
        "      \n",
        "\n",
        "      for obj in objects:\n",
        "       # print(type(obj))\n",
        "        obj.paint(canvas)"
      ],
      "execution_count": 0,
      "outputs": []
    },
    {
      "cell_type": "markdown",
      "metadata": {
        "id": "b_6LnLGJjxs5",
        "colab_type": "text"
      },
      "source": [
        "1. Add `Point` and `Triangle` classes and test them."
      ]
    },
    {
      "cell_type": "code",
      "metadata": {
        "id": "0eGPbwAkjxs6",
        "colab_type": "code",
        "outputId": "bbe266ee-f3c7-46ee-ee43-3c32706627c2",
        "colab": {
          "base_uri": "https://localhost:8080/",
          "height": 187
        }
      },
      "source": [
        "c1 = Canvas(10,10)\n",
        "p1 = Point(5,5)\n",
        "p1.paint(c1)\n",
        "c1.display()"
      ],
      "execution_count": 711,
      "outputs": [
        {
          "output_type": "stream",
          "text": [
            "          \n",
            "          \n",
            "          \n",
            "          \n",
            "          \n",
            "     *    \n",
            "          \n",
            "          \n",
            "          \n",
            "          \n"
          ],
          "name": "stdout"
        }
      ]
    },
    {
      "cell_type": "code",
      "metadata": {
        "id": "6MgIKJDyDDbr",
        "colab_type": "code",
        "outputId": "4eecdc3a-b61d-40e1-b725-488465f4394f",
        "colab": {
          "base_uri": "https://localhost:8080/",
          "height": 187
        }
      },
      "source": [
        "c2 = Canvas(10,10)\n",
        "t1 = Triangle(1,1,5,5)\n",
        "t1.paint(c2)\n",
        "c2.display()"
      ],
      "execution_count": 712,
      "outputs": [
        {
          "output_type": "stream",
          "text": [
            "          \n",
            " *****    \n",
            "  *  *    \n",
            "   * *    \n",
            "    **    \n",
            "     *    \n",
            "          \n",
            "          \n",
            "          \n",
            "          \n"
          ],
          "name": "stdout"
        }
      ]
    },
    {
      "cell_type": "markdown",
      "metadata": {
        "id": "kAfnrn6Gjxs8",
        "colab_type": "text"
      },
      "source": [
        "2. Add an `Arc` class that is instantiated with a center location, two axis lengths, and starting and ending angles. If start and end are not specified or are the same angle, the `Arc` instance should draw an oval. If in addition the two axes are the same, the `Arc` instance should draw a circle. Create `Oval` and `Circle` classes that inherit from `Arc`. Test everything."
      ]
    },
    {
      "cell_type": "code",
      "metadata": {
        "id": "NAw7krTzjxs9",
        "colab_type": "code",
        "colab": {
          "base_uri": "https://localhost:8080/",
          "height": 408
        },
        "outputId": "66c20a54-d0dc-4511-b6d8-0ed3a10900d5"
      },
      "source": [
        "c4 = Canvas(20,20)\n",
        "a1 = Arc(10,10,3,15,0,10)\n",
        "a1.paint(c4)\n",
        "cir1 = Circle(10,10,5)\n",
        "cir1.paint(c4)\n",
        "ov = Oval(5,5,3,5,100,100)\n",
        "ov.paint(c4)\n",
        "c4.display()"
      ],
      "execution_count": 713,
      "outputs": [
        {
          "output_type": "stream",
          "text": [
            "Arc\n",
            "Circle\n",
            "Oval\n",
            "                    \n",
            "                    \n",
            "      ********      \n",
            "     **      **     \n",
            "     *        *     \n",
            "  ******      *     \n",
            " *   ** *    **     \n",
            "*     ********     *\n",
            "*        *  * *     \n",
            "*        *        * \n",
            "*        **    *    \n",
            "*        *  *       \n",
            "*        *      **  \n",
            " *      *  *        \n",
            "  ******            \n",
            "                    \n",
            "                    \n",
            "                    \n",
            "                    \n",
            "                    \n"
          ],
          "name": "stdout"
        }
      ]
    },
    {
      "cell_type": "markdown",
      "metadata": {
        "id": "AKVufgMjjxs_",
        "colab_type": "text"
      },
      "source": [
        "3. Use your classes to create a `RasterDrawing` that draws a happy face."
      ]
    },
    {
      "cell_type": "code",
      "metadata": {
        "id": "OQJBJH5sjxs_",
        "colab_type": "code",
        "outputId": "d5364314-a086-43fb-be56-862bec762f42",
        "colab": {
          "base_uri": "https://localhost:8080/",
          "height": 731
        }
      },
      "source": [
        "c3 = Canvas(40,40)\n",
        "rd = RasterDrawing() \n",
        "\n",
        "#face = CompoundShape([Circle(15,15,8),Point(11,5), Point(11,9)])\n",
        "rd.add_shape(Circle(15,15,8))\n",
        "rd.add_shape(Point(11,5))\n",
        "#it just keeps loading after third shape is added to rasterdrawing\n",
        "p2 = Point(11,9)\n",
        "p2.paint(c3)\n",
        "#Smile = Oval(17,3,3,4,10,10)\n",
        "#Smile.paint(c3)\n",
        "smile1 = Arc(17,3,-1,3,0,7)\n",
        "smile1.paint(c3)\n",
        "\n",
        "rd.paint(c3)\n",
        "c3.display()"
      ],
      "execution_count": 730,
      "outputs": [
        {
          "output_type": "stream",
          "text": [
            "Arc\n",
            "Circle\n",
            "                                        \n",
            "                                        \n",
            "                                        \n",
            "                                        \n",
            "                                        \n",
            "                                        \n",
            "                                        \n",
            "   ********                             \n",
            " ***      ***                           \n",
            "**          **                          \n",
            "*            *                          \n",
            "*    *   *   **                         \n",
            "*             *                         \n",
            "*             *                         \n",
            "*             *                         \n",
            "*             **                        \n",
            "*   **  **    *                         \n",
            "*    ***      *                         \n",
            "*            **                         \n",
            "*            *                          \n",
            "**          **                          \n",
            " ***      ***                           \n",
            "   ********                             \n",
            "                                        \n",
            "                                        \n",
            "                                        \n",
            "                                        \n",
            "                                        \n",
            "                                        \n",
            "                                        \n",
            "                                        \n",
            "                                        \n",
            "                                        \n",
            "                                        \n",
            "                                        \n",
            "                                        \n",
            "                                        \n",
            "                                        \n",
            "                                        \n",
            "                                        \n"
          ],
          "name": "stdout"
        }
      ]
    },
    {
      "cell_type": "markdown",
      "metadata": {
        "id": "f7oYnpmQjxtC",
        "colab_type": "text"
      },
      "source": [
        "4. Add to the `Shape` base class a `__str__()` method. Overwrite the method in each shape to generate a string of the python code necessary to reinstantiate the object. For example, for a rectangle originally instantiated using `Square(5,5,20,char=\"^\")`, `__str__()` should return the string `'Square(5,5,20,char=\"^\")'`.\n"
      ]
    },
    {
      "cell_type": "code",
      "metadata": {
        "id": "b9C9p27PjxtC",
        "colab_type": "code",
        "colab": {
          "base_uri": "https://localhost:8080/",
          "height": 34
        },
        "outputId": "858a71ec-1cc9-4a5a-ae96-0fc5b67b5336"
      },
      "source": [
        "t1.__str__()"
      ],
      "execution_count": 715,
      "outputs": [
        {
          "output_type": "execute_result",
          "data": {
            "text/plain": [
              "'Triangle(1,1,5,5)'"
            ]
          },
          "metadata": {
            "tags": []
          },
          "execution_count": 715
        }
      ]
    },
    {
      "cell_type": "markdown",
      "metadata": {
        "id": "b0SSVOCEjxtF",
        "colab_type": "text"
      },
      "source": [
        "5. Add to `RasterDrawing` two functions, `save(filename)` and `load(filename)`. The save function writes the `__str__()` of all of the shapes in the drawing to a file (one shape per line). The load function, reads the file, and instantiates each object using the python `eval(expression)` function, and adds each shape to the drawing, thereby recreating a \"saved\" raster drawing. Use this functionality to save and load your happy face.\n",
        "\n",
        "   `eval` takes a string that contains a fragment of a python code and executes it. Consider the following examples: "
      ]
    },
    {
      "cell_type": "code",
      "metadata": {
        "id": "WkQhVFGdjxtF",
        "colab_type": "code",
        "colab": {
          "base_uri": "https://localhost:8080/",
          "height": 34
        },
        "outputId": "81887cc8-2983-4927-e948-8f97ed361530"
      },
      "source": [
        "eval(\"print('Hello')\")"
      ],
      "execution_count": 716,
      "outputs": [
        {
          "output_type": "stream",
          "text": [
            "Hello\n"
          ],
          "name": "stdout"
        }
      ]
    },
    {
      "cell_type": "code",
      "metadata": {
        "id": "Cxga8QnxjxtH",
        "colab_type": "code",
        "colab": {
          "base_uri": "https://localhost:8080/",
          "height": 34
        },
        "outputId": "b4873d0d-7354-4c7c-dab0-7416ecc2e5cd"
      },
      "source": [
        "x = eval('1+2')\n",
        "print(x)"
      ],
      "execution_count": 717,
      "outputs": [
        {
          "output_type": "stream",
          "text": [
            "3\n"
          ],
          "name": "stdout"
        }
      ]
    },
    {
      "cell_type": "code",
      "metadata": {
        "id": "pVB7IKmJPEgn",
        "colab_type": "code",
        "colab": {
          "base_uri": "https://localhost:8080/",
          "height": 544
        },
        "outputId": "db206cbb-05ca-4892-8ec4-39b7df6b019c"
      },
      "source": [
        "rd1 = RasterDrawing()\n",
        "cc1 = Canvas(30,30)\n",
        "rd1.add_shape(Circle(10,10,5))\n",
        "rd1.add_shape(Point(3,3))\n",
        "s1 = Square(3,3,5)\n",
        "s1.paint(cc1)\n",
        "rd1.paint(cc1)\n",
        "cc1.display()"
      ],
      "execution_count": 743,
      "outputs": [
        {
          "output_type": "stream",
          "text": [
            "Circle\n",
            "                              \n",
            "                              \n",
            "                              \n",
            "   ******                     \n",
            "   *    *                     \n",
            "  *******                     \n",
            " * *    *                     \n",
            "*  *    **                    \n",
            "*  ***** *                    \n",
            "*        *                    \n",
            "*        **                   \n",
            "*        *                    \n",
            "*        *                    \n",
            " *      *                     \n",
            "  ******                      \n",
            "                              \n",
            "                              \n",
            "                              \n",
            "                              \n",
            "                              \n",
            "                              \n",
            "                              \n",
            "                              \n",
            "                              \n",
            "                              \n",
            "                              \n",
            "                              \n",
            "                              \n",
            "                              \n",
            "                              \n"
          ],
          "name": "stdout"
        }
      ]
    },
    {
      "cell_type": "code",
      "metadata": {
        "id": "8cIGOoKH3jRX",
        "colab_type": "code",
        "colab": {
          "base_uri": "https://localhost:8080/",
          "height": 34
        },
        "outputId": "2b6a7546-bdf2-42c7-a81b-408580fa7a19"
      },
      "source": [
        "rd1.save(\"shape_0\",cc1)"
      ],
      "execution_count": 740,
      "outputs": [
        {
          "output_type": "stream",
          "text": [
            "Saved\n"
          ],
          "name": "stdout"
        }
      ]
    },
    {
      "cell_type": "code",
      "metadata": {
        "id": "7kCXdoXl24n6",
        "colab_type": "code",
        "colab": {
          "base_uri": "https://localhost:8080/",
          "height": 612
        },
        "outputId": "411c13c3-bad2-4b5f-c9e1-200a61d2ed70"
      },
      "source": [
        "rd1.load(\"shape_0\", cc1)\n",
        "cc1.display()"
      ],
      "execution_count": 741,
      "outputs": [
        {
          "output_type": "stream",
          "text": [
            "Circle(10,10,5)\n",
            "\n",
            "Point(3,3)\n",
            "\n",
            "Circle\n",
            "                              \n",
            "                              \n",
            "                              \n",
            "   *                          \n",
            "                              \n",
            "  ******                      \n",
            " *      *                     \n",
            "*        *                    \n",
            "*        *                    \n",
            "*        *                    \n",
            "*        **                   \n",
            "*        *                    \n",
            "*        *                    \n",
            " *      *                     \n",
            "  ******                      \n",
            "                              \n",
            "                              \n",
            "                              \n",
            "                              \n",
            "                              \n",
            "                              \n",
            "                              \n",
            "                              \n",
            "                              \n",
            "                              \n",
            "                              \n",
            "                              \n",
            "                              \n",
            "                              \n",
            "                              \n"
          ],
          "name": "stdout"
        }
      ]
    }
  ]
}