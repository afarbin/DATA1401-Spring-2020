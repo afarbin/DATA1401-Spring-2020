{
  "nbformat": 4,
  "nbformat_minor": 0,
  "metadata": {
    "kernelspec": {
      "display_name": "Python 3",
      "language": "python",
      "name": "python3"
    },
    "language_info": {
      "codemirror_mode": {
        "name": "ipython",
        "version": 3
      },
      "file_extension": ".py",
      "mimetype": "text/x-python",
      "name": "python",
      "nbconvert_exporter": "python",
      "pygments_lexer": "ipython3",
      "version": "3.8.0"
    },
    "colab": {
      "name": "Copy of Final.ipynb",
      "provenance": []
    }
  },
  "cells": [
    {
      "cell_type": "markdown",
      "metadata": {
        "id": "uXYcSv-tqn1_",
        "colab_type": "text"
      },
      "source": [
        "# Final Exam\n",
        "\n",
        "[![Open In Colab](https://colab.research.google.com/assets/colab-badge.svg)](https://colab.research.google.com/github//afarbin/DATA1401-Spring-2020/blob/master/Exams/Final/Final.ipynb)"
      ]
    },
    {
      "cell_type": "markdown",
      "metadata": {
        "id": "D0_UjjwJqn2A",
        "colab_type": "text"
      },
      "source": [
        "Recall the drawing system from lecture 18:"
      ]
    },
    {
      "cell_type": "code",
      "metadata": {
        "id": "QnL2Lgixqn2A",
        "colab_type": "code",
        "colab": {}
      },
      "source": [
        "#I changed the Canvas class bc the horizontal and vertical lines were reversed and i moved\n",
        "# the origin from the top left to the bottom left when displayed\n",
        "\n",
        "class Canvas:\n",
        "    def __init__(self, width, height):\n",
        "        self.width = width\n",
        "        self.height = height\n",
        "        self.data = [[' '] * width for i in range(height)]\n",
        "\n",
        "    def set_pixel(self, row, col, char='*', pr=False, **kwargs):\n",
        "        if pr:\n",
        "          print(\"set pixel: (\",col,\",\",row,\")\")\n",
        "        self.data[col][row]=char\n",
        "\n",
        "    def get_pixel(self, row, col):\n",
        "        return self.data[row][col]\n",
        "    \n",
        "    def h_line(self, x, y, w, **kargs):\n",
        "        for i in range(x, x+w):\n",
        "            # keep the row constant\n",
        "            #self.set_pixel(i,y, **kargs)\n",
        "            self.set_pixel(i,y, **kargs)\n",
        "\n",
        "    def v_line(self, x, y, h, **kargs):\n",
        "        for i in range(y, y+h):\n",
        "            # keep the column constant\n",
        "            #self.set_pixel(x,i, **kargs)\n",
        "            self.set_pixel(x,i, **kargs)\n",
        "            \n",
        "    def line(self, x1, y1, x2, y2, **kargs):\n",
        "      #y2 nees to be > than y1 or it wont set the pixels\n",
        "        slope = (y2-y1) / (x2-x1)\n",
        "        for y in range(y1,y2):\n",
        "            x= int(slope * y)\n",
        "            self.set_pixel(x,y, **kargs)\n",
        "    \n",
        "            \n",
        "    def display(self):\n",
        "        # added reversed() so that the 2d matrix is printed correctly with the\n",
        "        # origin in the lower left corner.\n",
        "        print(\"\\n\".join([\".\".join(row) for row in reversed(self.data)]))\n",
        "        #print(\"\\n\".join([\".\".join(row) for row in self.data]))        "
      ],
      "execution_count": 0,
      "outputs": []
    },
    {
      "cell_type": "code",
      "metadata": {
        "id": "HkMTBUgLjTK6",
        "colab_type": "code",
        "outputId": "3a404015-b76a-4ec5-b76a-8646b19e47d7",
        "colab": {
          "base_uri": "https://localhost:8080/",
          "height": 357
        }
      },
      "source": [
        "c=Canvas(20,20)\n",
        "# verify the origin is in the lower left corner\n",
        "c.set_pixel(0,0,'&') \n",
        "c.set_pixel(19,19,'e')\n",
        "c.h_line(2,2,5)\n",
        "c.v_line(2,2,5)\n",
        "c.line(6,2,2,6)\n",
        "c.display()"
      ],
      "execution_count": 2,
      "outputs": [
        {
          "output_type": "stream",
          "text": [
            " . . . . . . . . . . . . . . . . . . .e\n",
            " . . . . . . . . . . . . . . . . . . . \n",
            " . . . . . . . . . . . . . . . . . . . \n",
            " . . . . . . . . . . . . . . . . . . . \n",
            " . . . . . . . . . . . . . . . . . . . \n",
            " . . . . . . . . . . . . . . . . . . . \n",
            " . . . . . . . . . . . . . . . . . . . \n",
            " . . . . . . . . . . . . . . . . . . . \n",
            " . . . . . . . . . . . . . . . . . . . \n",
            " . . . . . . . . . . . . . . . . . . . \n",
            " . . . . . . . . . . . . . . . . . . . \n",
            " . . . . . . . . . . . . . . . . . . . \n",
            " . . . . . . . . . . . . . . . . . . . \n",
            " . .*. . . . . . . . . . . . . . . . . \n",
            " . .*. . . . . . . . . . . . .*. . . . \n",
            " . .*. . . . . . . . . . . . . .*. . . \n",
            " . .*. . . . . . . . . . . . . . .*. . \n",
            " . .*.*.*.*.*. . . . . . . . . . . .*. \n",
            " . . . . . . . . . . . . . . . . . . . \n",
            "&. . . . . . . . . . . . . . . . . . . \n"
          ],
          "name": "stdout"
        }
      ]
    },
    {
      "cell_type": "code",
      "metadata": {
        "id": "ZY4cvjGAqn2E",
        "colab_type": "code",
        "colab": {}
      },
      "source": [
        "#i modified the rectangle class bc the right side doesnt paint properly\n",
        "class Shape:\n",
        "    def __init__(self, name=\"\", **kwargs):\n",
        "        self.name=name\n",
        "        self.kwargs=kwargs\n",
        "    \n",
        "    def paint(self, canvas):\n",
        "      pass\n",
        "\n",
        "    def __str__(self):\n",
        "      pass\n",
        "\n",
        "class Rectangle(Shape):\n",
        "    def __init__(self, x, y, w, h, **kwargs):\n",
        "        Shape.__init__(self, **kwargs)\n",
        "        self.x = x\n",
        "        self.y = y\n",
        "        self.w = w\n",
        "        self.h = h\n",
        "\n",
        "    def paint(self, canvas,points=0):\n",
        "        canvas.h_line(self.x,          self.y, self.w, **self.kwargs)\n",
        "        canvas.h_line(self.x, self.y + self.h, self.w, **self.kwargs)\n",
        "        canvas.v_line(self.x,          self.y, self.h, **self.kwargs)\n",
        "        canvas.v_line(self.x + (self.w-1), self.y, self.h, **self.kwargs)\n",
        "\n",
        "    def __str__(self):\n",
        "      if \"char\" in self.kwargs:\n",
        "        myChar=self.kwargs[\"char\"]\n",
        "      else:\n",
        "        myChar=\"*\"\n",
        "      instantiateTxt=\"Rectangle({:d},{:d},{:d},{:d},name='\"'{:s}'\"',char='\"'{:s}'\"')\"\n",
        "      return(instantiateTxt.format(self.x, self.y,self.w, self.h, self.name,myChar))\n",
        "\n",
        "class Square(Rectangle):\n",
        "    def __init__(self, x, y, size, **kwargs):\n",
        "        Rectangle.__init__(self, x, y, size, size, **kwargs)\n",
        "    \n",
        "    def __str__(self):\n",
        "      if \"char\" in self.kwargs:\n",
        "        myChar=self.kwargs[\"char\"]\n",
        "      else:\n",
        "        myChar=\"*\"\n",
        "      instantiateTxt = \"Square({:d},{:d},{:d},name='\"'{:s}'\"',char='\"'{:s}'\"')\"\n",
        "      return(instantiateTxt.format(self.x,self.y,self.w,self.name,myChar))\n",
        "\n",
        "\n",
        "class Line(Shape):\n",
        "    def __init__(self, x1, y1, x2, y2,  **kwargs):\n",
        "        Shape.__init__(self, **kwargs)\n",
        "        self.x1=x1\n",
        "        self.y1=y1\n",
        "        self.x2=x2\n",
        "        self.y2=y2\n",
        "        \n",
        "    def paint(self, canvas,points=0):\n",
        "        canvas.line(self.x1,self.y1,self.x2,self.y2)\n",
        "    \n",
        "    def __str__(self):\n",
        "      if \"char\" in self.kwargs:\n",
        "        myChar=self.kwargs[\"char\"]\n",
        "      else:\n",
        "        myChar=\"*\"\n",
        "      instantiateTxt = \"Line({:d},{:d},{:d},{:d},name='\"'{:s}'\"',char='\"'{:s}'\"')\"\n",
        "      return(instantiateTxt.format(self.x1,self.y1,self.x2,self.y2,self.name,myChar))\n",
        "        \n",
        "class CompoundShape(Shape):\n",
        "    def __init__(self, shapes, name=\"\", **kwargs):\n",
        "        self.shapes = shapes\n",
        "        Shape.__init__(self, **kwargs)\n",
        "\n",
        "    def paint(self, canvas, **kwargs):\n",
        "        for s in self.shapes:\n",
        "            s.paint(canvas, **kwargs)"
      ],
      "execution_count": 0,
      "outputs": []
    },
    {
      "cell_type": "code",
      "metadata": {
        "id": "nrOEwalIazDO",
        "colab_type": "code",
        "outputId": "0a3373f4-e4a6-424f-d875-e785eef7f80e",
        "colab": {
          "base_uri": "https://localhost:8080/",
          "height": 357
        }
      },
      "source": [
        "c=Canvas(20,20)\n",
        "\n",
        "rect1=Rectangle(2,2,5,3,char='&')\n",
        "rect1.paint(c)\n",
        "\n",
        "sq1=Square(10,10,6)\n",
        "sq1.paint(c)\n",
        "\n",
        "c.display()"
      ],
      "execution_count": 4,
      "outputs": [
        {
          "output_type": "stream",
          "text": [
            " . . . . . . . . . . . . . . . . . . . \n",
            " . . . . . . . . . . . . . . . . . . . \n",
            " . . . . . . . . . . . . . . . . . . . \n",
            " . . . . . . . . . .*.*.*.*.*.*. . . . \n",
            " . . . . . . . . . .*. . . . .*. . . . \n",
            " . . . . . . . . . .*. . . . .*. . . . \n",
            " . . . . . . . . . .*. . . . .*. . . . \n",
            " . . . . . . . . . .*. . . . .*. . . . \n",
            " . . . . . . . . . .*. . . . .*. . . . \n",
            " . . . . . . . . . .*.*.*.*.*.*. . . . \n",
            " . . . . . . . . . . . . . . . . . . . \n",
            " . . . . . . . . . . . . . . . . . . . \n",
            " . . . . . . . . . . . . . . . . . . . \n",
            " . . . . . . . . . . . . . . . . . . . \n",
            " . .&.&.&.&.&. . . . . . . . . . . . . \n",
            " . .&. . . .&. . . . . . . . . . . . . \n",
            " . .&. . . .&. . . . . . . . . . . . . \n",
            " . .&.&.&.&.&. . . . . . . . . . . . . \n",
            " . . . . . . . . . . . . . . . . . . . \n",
            " . . . . . . . . . . . . . . . . . . . \n"
          ],
          "name": "stdout"
        }
      ]
    },
    {
      "cell_type": "code",
      "metadata": {
        "id": "VnJFWizEqn2G",
        "colab_type": "code",
        "colab": {}
      },
      "source": [
        "class RasterDrawing:\n",
        "    def __init__(self):\n",
        "        self.shapes=dict()\n",
        "        self.shape_names=list()\n",
        "        \n",
        "    def add_shape(self,shape):\n",
        "        if shape.name == \"\":\n",
        "            shape.name = self.assign_name()\n",
        "        \n",
        "        self.shapes[shape.name]=shape\n",
        "        self.shape_names.append(shape.name)\n",
        "        \n",
        "    def paint(self,canvas,**kwargs):\n",
        "        for shape_name in self.shape_names:\n",
        "            self.shapes[shape_name].paint(canvas,**kwargs)\n",
        "            \n",
        "    def assign_name(self):\n",
        "        name_base=\"shape\"\n",
        "        name = name_base+\"_0\"\n",
        "        \n",
        "        i=1\n",
        "        while name in self.shapes:\n",
        "            name = name_base+\"_\"+str(i)\n",
        "            i+=1\n",
        "        #added increment for while loop\n",
        "\n",
        "        return name\n",
        "\n",
        "    def list(self):\n",
        "      for shape_name in self.shape_names:            \n",
        "        print(self.shapes[shape_name].name)\n",
        "    \n",
        "    def save(self, filename):\n",
        "      with open(filename,'w',encoding = 'utf-8') as f:\n",
        "        for shape_name in self.shape_names:            \n",
        "          print(self.shapes[shape_name], file=f)\n",
        "        f.close()\n",
        "    \n",
        "    def load(self, filename):\n",
        "      f=open(filename, \"r\")\n",
        "      try:\n",
        "        f=open(filename, encoding='utf-8')\n",
        "        for line in f:\n",
        "          shape=eval(line.rstrip())\n",
        "          self.add_shape(shape)\n",
        "      finally:\n",
        "        f.close()\n"
      ],
      "execution_count": 0,
      "outputs": []
    },
    {
      "cell_type": "markdown",
      "metadata": {
        "id": "nqackZ1kqn2J",
        "colab_type": "text"
      },
      "source": [
        "1. Add `Point` and `Triangle` classes and test them."
      ]
    },
    {
      "cell_type": "code",
      "metadata": {
        "id": "PwaK6JBBqn2J",
        "colab_type": "code",
        "colab": {}
      },
      "source": [
        "class Point(Shape):\n",
        "  def __init__(self, x, y, **kwargs):\n",
        "    Shape.__init__(self, **kwargs)\n",
        "    self.x=x\n",
        "    self.y=y\n",
        "  \n",
        "  def paint(self, canvas, **kwargs):\n",
        "    canvas.set_pixel(self.x,self.y,**self.kwargs)\n",
        "  \n",
        "  def __str__(self):\n",
        "    if \"char\" in self.kwargs:\n",
        "      myChar=self.kwargs[\"char\"]\n",
        "    else:\n",
        "      myChar=\"*\"\n",
        "    instantiateTxt = \"Point({:d},{:d},name='\"'{:s}'\"',char='\"'{:s}'\"')\"\n",
        "    return(instantiateTxt.format(self.x,self.y,self.name,myChar))\n",
        "\n",
        "\n",
        "#for a right triangle           \n",
        "class Triangle(Shape):\n",
        "  def __init__(self, x, y, b, h, **kwargs):\n",
        "    Shape.__init__(self, **kwargs)\n",
        "    self.x=x\n",
        "    self.y=y\n",
        "    self.b=b\n",
        "    self.h=h\n",
        "  \n",
        "  def paint(self, canvas,**kwargs):\n",
        "    canvas.h_line(self.x, self.y, self.h, **self.kwargs)\n",
        "    canvas.v_line(self.x+self.h, self.y, self.b, **self.kwargs)\n",
        "    canvas.line(self.x,self.y,self.x+self.b,self.y+self.h, **self.kwargs)\n",
        "  \n",
        "  def __str__(self):\n",
        "    if \"char\" in self.kwargs:\n",
        "      myChar=self.kwargs[\"char\"]\n",
        "    else:\n",
        "      myChar=\"*\"\n",
        "    instantiateTxt = \"Triangle({:d},{:d},{:d},{:d},name='\"'{:s}'\"',char='\"'{:s}'\"')\"\n",
        "    return(instantiateTxt.format(self.x,self.y,self.b,self.h,self.name,myChar))"
      ],
      "execution_count": 0,
      "outputs": []
    },
    {
      "cell_type": "code",
      "metadata": {
        "id": "T9wduqQsy1xH",
        "colab_type": "code",
        "outputId": "654e7dbc-92cb-40c1-b412-2e12e0cba574",
        "colab": {
          "base_uri": "https://localhost:8080/",
          "height": 357
        }
      },
      "source": [
        "c2=Canvas(20,20)\n",
        "\n",
        "p1=Point(5,5,char='+')\n",
        "p1.paint(c2)\n",
        "\n",
        "t1=Triangle(11,11,6,6,char='&')\n",
        "t1.paint(c2)\n",
        "\n",
        "c2.display()"
      ],
      "execution_count": 7,
      "outputs": [
        {
          "output_type": "stream",
          "text": [
            " . . . . . . . . . . . . . . . . . . . \n",
            " . . . . . . . . . . . . . . . . . . . \n",
            " . . . . . . . . . . . . . . . . . . . \n",
            " . . . . . . . . . . . . . . . .&.&. . \n",
            " . . . . . . . . . . . . . . .&. .&. . \n",
            " . . . . . . . . . . . . . .&. . .&. . \n",
            " . . . . . . . . . . . . .&. . . .&. . \n",
            " . . . . . . . . . . . .&. . . . .&. . \n",
            " . . . . . . . . . . .&.&.&.&.&.&.&. . \n",
            " . . . . . . . . . . . . . . . . . . . \n",
            " . . . . . . . . . . . . . . . . . . . \n",
            " . . . . . . . . . . . . . . . . . . . \n",
            " . . . . . . . . . . . . . . . . . . . \n",
            " . . . . . . . . . . . . . . . . . . . \n",
            " . . . . .+. . . . . . . . . . . . . . \n",
            " . . . . . . . . . . . . . . . . . . . \n",
            " . . . . . . . . . . . . . . . . . . . \n",
            " . . . . . . . . . . . . . . . . . . . \n",
            " . . . . . . . . . . . . . . . . . . . \n",
            " . . . . . . . . . . . . . . . . . . . \n"
          ],
          "name": "stdout"
        }
      ]
    },
    {
      "cell_type": "markdown",
      "metadata": {
        "id": "h5bk0NtFqn2M",
        "colab_type": "text"
      },
      "source": [
        "2. Add an `Arc` class that is instantiated with a center location, two axis lengths, and starting and ending angles. If start and end are not specified or are the same angle, the `Arc` instance should draw an oval. If in addition the two axes are the same, the `Arc` instance should draw a circle. Create `Oval` and `Circle` classes that inherit from `Arc`. Test everything."
      ]
    },
    {
      "cell_type": "code",
      "metadata": {
        "id": "yhe3h0Owk-ej",
        "colab_type": "code",
        "colab": {}
      },
      "source": [
        "import math\n",
        "\n",
        "#counterclockwise orientation for angle def (in degrees)\n",
        "class Arc(Shape):\n",
        "  def __init__(self, centerX, centerY, axisA, axisB, start=0, end=2*math.pi, **kwargs):\n",
        "    Shape.__init__(self, **kwargs)\n",
        "    self.center=Point(centerX, centerY, **kwargs)\n",
        "    self.axisA=axisA\n",
        "    self.axisB=axisB\n",
        "    self.start=start\n",
        "    self.end=end\n",
        "  \n",
        "  def paint(self, canvas, points=4, **kwargs):\n",
        "    arc=(self.end-self.start)/points\n",
        "\n",
        "    for i in range(points):\n",
        "      t=self.start+(arc*(i))\n",
        "      ptX=self.center.x+(self.axisA*math.cos(t))\n",
        "      ptY=self.center.y+(self.axisB*math.sin(t))\n",
        "\n",
        "      canvas.set_pixel(math.ceil(ptX),math.ceil(ptY), **self.kwargs)\n",
        "    \n",
        "  def __str__(self):\n",
        "    if \"char\" in self.kwargs:\n",
        "      myChar=self.kwargs[\"char\"]\n",
        "    else:\n",
        "      myChar=\"*\"\n",
        "    instantiateTxt = \"Arc({:d},{:d},{:d},{:d},{:f},{:f},name='\"'{:s}'\"',char='\"'{:s}'\"')\"\n",
        "    return(instantiateTxt.format(self.center.x,self.center.y,self.axisA,self.axisB,\n",
        "                                self.start,self.end,self.name,myChar))\n",
        "\n",
        "\n",
        "class Circle(Arc):\n",
        "  def __init__(self, centerX, centerY, len1, start=0, end=0, **kwargs):\n",
        "    Arc.__init__(self, centerX, centerY, len1, len1, start=0, end=2*math.pi,**kwargs)\n",
        "    self.radius=len1\n",
        "\n",
        "  def get_radius(self):\n",
        "    return self.radius\n",
        "  \n",
        "\n",
        "  \n",
        "  def __str__(self):\n",
        "    if \"char\" in self.kwargs:\n",
        "      myChar=self.kwargs[\"char\"]\n",
        "    else:\n",
        "      myChar=\"*\"\n",
        "    instantiateTxt = \"Circle({:d},{:d},{:d},name='\"'{:s}'\"',char='\"'{:s}'\"')\"\n",
        "    return(instantiateTxt.format(self.center.x,self.center.y,self.radius,self.name,myChar))\n",
        "\n",
        "\n",
        "class Oval(Arc):\n",
        "  def __init__(self, centerX, centerY, len1, len2, start=0, end=0, **kwargs):\n",
        "    Arc.__init__(self, centerX, centerY, len1, len2, **kwargs)\n",
        "    self.len1=len1\n",
        "    self.len2=len2\n",
        "  \n",
        "  def __str__(self):\n",
        "    if \"char\" in self.kwargs:\n",
        "      myChar=self.kwargs[\"char\"]\n",
        "    else:\n",
        "      myChar=\"*\"\n",
        "    instantiateTxt = \"Oval({:d},{:d},{:d},{:d},name='\"'{:s}'\"',char='\"'{:s}'\"')\"\n",
        "    return(instantiateTxt.format(self.center.x,self.center.y,self.len1,self.len2,\n",
        "                                  self.name,myChar))"
      ],
      "execution_count": 0,
      "outputs": []
    },
    {
      "cell_type": "code",
      "metadata": {
        "id": "UXPhxmO_QBRk",
        "colab_type": "code",
        "colab": {
          "base_uri": "https://localhost:8080/",
          "height": 527
        },
        "outputId": "10e82107-ab95-4b3d-e397-86a906a5716f"
      },
      "source": [
        "#Test arc\n",
        "c4=Canvas(30,30)\n",
        "a1=Arc(15,18,10,5,math.pi,2*math.pi)\n",
        "a1.paint(c4,points=10)\n",
        "c4.display()"
      ],
      "execution_count": 9,
      "outputs": [
        {
          "output_type": "stream",
          "text": [
            " . . . . . . . . . . . . . . . . . . . . . . . . . . . . . \n",
            " . . . . . . . . . . . . . . . . . . . . . . . . . . . . . \n",
            " . . . . . . . . . . . . . . . . . . . . . . . . . . . . . \n",
            " . . . . . . . . . . . . . . . . . . . . . . . . . . . . . \n",
            " . . . . . . . . . . . . . . . . . . . . . . . . . . . . . \n",
            " . . . . . . . . . . . . . . . . . . . . . . . . . . . . . \n",
            " . . . . . . . . . . . . . . . . . . . . . . . . . . . . . \n",
            " . . . . . . . . . . . . . . . . . . . . . . . . . . . . . \n",
            " . . . . . . . . . . . . . . . . . . . . . . . . . . . . . \n",
            " . . . . . . . . . . . . . . . . . . . . . . . . . . . . . \n",
            " . . . . . . . . . . . . . . . . . . . . . . . . . . . . . \n",
            " . . . . .*. . . . . . . . . . . . . . . . . . . . . . . . \n",
            " . . . . . .*. . . . . . . . . . . . . . . . . . .*. . . . \n",
            " . . . . . . .*. . . . . . . . . . . . . . . . .*. . . . . \n",
            " . . . . . . . . . . . . . . . . . . . . . . . . . . . . . \n",
            " . . . . . . . . . .*. .*. . . . . . .*. .*. . . . . . . . \n",
            " . . . . . . . . . . . . . . .*. . . . . . . . . . . . . . \n",
            " . . . . . . . . . . . . . . . . . . . . . . . . . . . . . \n",
            " . . . . . . . . . . . . . . . . . . . . . . . . . . . . . \n",
            " . . . . . . . . . . . . . . . . . . . . . . . . . . . . . \n",
            " . . . . . . . . . . . . . . . . . . . . . . . . . . . . . \n",
            " . . . . . . . . . . . . . . . . . . . . . . . . . . . . . \n",
            " . . . . . . . . . . . . . . . . . . . . . . . . . . . . . \n",
            " . . . . . . . . . . . . . . . . . . . . . . . . . . . . . \n",
            " . . . . . . . . . . . . . . . . . . . . . . . . . . . . . \n",
            " . . . . . . . . . . . . . . . . . . . . . . . . . . . . . \n",
            " . . . . . . . . . . . . . . . . . . . . . . . . . . . . . \n",
            " . . . . . . . . . . . . . . . . . . . . . . . . . . . . . \n",
            " . . . . . . . . . . . . . . . . . . . . . . . . . . . . . \n",
            " . . . . . . . . . . . . . . . . . . . . . . . . . . . . . \n"
          ],
          "name": "stdout"
        }
      ]
    },
    {
      "cell_type": "code",
      "metadata": {
        "id": "5_BtRkKQrhDH",
        "colab_type": "code",
        "colab": {
          "base_uri": "https://localhost:8080/",
          "height": 357
        },
        "outputId": "137bbdb4-5740-4797-8b74-669ee41cf9b9"
      },
      "source": [
        "#Test circle\n",
        "canvas3=Canvas(20,20)\n",
        "\n",
        "rd=RasterDrawing()\n",
        "rd.add_shape(Circle(10,10,5,char='@'))\n",
        "rd.paint(canvas3,points=50)\n",
        "canvas3.display()"
      ],
      "execution_count": 10,
      "outputs": [
        {
          "output_type": "stream",
          "text": [
            " . . . . . . . . . . . . . . . . . . . \n",
            " . . . . . . . . . . . . . . . . . . . \n",
            " . . . . . . . . . . . . . . . . . . . \n",
            " . . . . . . . . . . . . . . . . . . . \n",
            " . . . . . . . .@.@.@.@.@.@. . . . . . \n",
            " . . . . . . .@. . . . . . .@. . . . . \n",
            " . . . . . .@. . . . . . . . .@. . . . \n",
            " . . . . . .@. . . . . . . . .@. . . . \n",
            " . . . . . .@. . . . . . . . .@. . . . \n",
            " . . . . .@.@. . . . . . . . .@. . . . \n",
            " . . . . . .@. . . . . . . . .@. . . . \n",
            " . . . . . .@. . . . . . . . .@. . . . \n",
            " . . . . . . .@. . . . . . .@. . . . . \n",
            " . . . . . . . .@.@.@.@.@.@. . . . . . \n",
            " . . . . . . . . . . . . . . . . . . . \n",
            " . . . . . . . . . . . . . . . . . . . \n",
            " . . . . . . . . . . . . . . . . . . . \n",
            " . . . . . . . . . . . . . . . . . . . \n",
            " . . . . . . . . . . . . . . . . . . . \n",
            " . . . . . . . . . . . . . . . . . . . \n"
          ],
          "name": "stdout"
        }
      ]
    },
    {
      "cell_type": "code",
      "metadata": {
        "id": "YQGFUL0zShBU",
        "colab_type": "code",
        "colab": {
          "base_uri": "https://localhost:8080/",
          "height": 527
        },
        "outputId": "e3ea581a-f116-47e8-b9ce-16e42e6020b3"
      },
      "source": [
        "#Test oval\n",
        "c5=Canvas(30,30)\n",
        "\n",
        "rd=RasterDrawing()\n",
        "rd.add_shape(Oval(15,15,12,6))\n",
        "rd.paint(c5,points=25)\n",
        "c5.display()"
      ],
      "execution_count": 11,
      "outputs": [
        {
          "output_type": "stream",
          "text": [
            " . . . . . . . . . . . . . . . . . . . . . . . . . . . . . \n",
            " . . . . . . . . . . . . . . . . . . . . . . . . . . . . . \n",
            " . . . . . . . . . . . . . . . . . . . . . . . . . . . . . \n",
            " . . . . . . . . . . . . . . . . . . . . . . . . . . . . . \n",
            " . . . . . . . . . . . . . . . . . . . . . . . . . . . . . \n",
            " . . . . . . . . . . . . . . . . . . . . . . . . . . . . . \n",
            " . . . . . . . . . . . . . . . . . . . . . . . . . . . . . \n",
            " . . . . . . . . . . . . . . . . . . . . . . . . . . . . . \n",
            " . . . . . . . . . .*. . .*. . .*. . .*. . .*. . . . . . . \n",
            " . . . . . . . .*. . . . . . . . . . . . . . . .*. . . . . \n",
            " . . . . . .*. . . . . . . . . . . . . . . . . . . . . . . \n",
            " . . . .*. . . . . . . . . . . . . . . . . . . . . .*. . . \n",
            " . . . . . . . . . . . . . . . . . . . . . . . . . . .*. . \n",
            " . . . .*. . . . . . . . . . . . . . . . . . . . . . . . . \n",
            " . . . .*. . . . . . . . . . . . . . . . . . . . . . .*. . \n",
            " . . . . . . . . . . . . . . . . . . . . . . . . . . .*. . \n",
            " . . . .*. . . . . . . . . . . . . . . . . . . . . .*. . . \n",
            " . . . . . .*. . . . . . . . . . . . . . . . . . . . . . . \n",
            " . . . . . . . .*. . . . . . . . . . . . . . . .*. . . . . \n",
            " . . . . . . . . . .*. . .*. . .*. . .*. . .*. . . . . . . \n",
            " . . . . . . . . . . . . . . . . . . . . . . . . . . . . . \n",
            " . . . . . . . . . . . . . . . . . . . . . . . . . . . . . \n",
            " . . . . . . . . . . . . . . . . . . . . . . . . . . . . . \n",
            " . . . . . . . . . . . . . . . . . . . . . . . . . . . . . \n",
            " . . . . . . . . . . . . . . . . . . . . . . . . . . . . . \n",
            " . . . . . . . . . . . . . . . . . . . . . . . . . . . . . \n",
            " . . . . . . . . . . . . . . . . . . . . . . . . . . . . . \n",
            " . . . . . . . . . . . . . . . . . . . . . . . . . . . . . \n",
            " . . . . . . . . . . . . . . . . . . . . . . . . . . . . . \n",
            " . . . . . . . . . . . . . . . . . . . . . . . . . . . . . \n"
          ],
          "name": "stdout"
        }
      ]
    },
    {
      "cell_type": "markdown",
      "metadata": {
        "id": "dlUBRlRxqn2P",
        "colab_type": "text"
      },
      "source": [
        "3. Use your classes to create a `RasterDrawing` that draws a happy face."
      ]
    },
    {
      "cell_type": "code",
      "metadata": {
        "id": "m6FcfTXPs-VV",
        "colab_type": "code",
        "colab": {
          "base_uri": "https://localhost:8080/",
          "height": 867
        },
        "outputId": "2c84bad9-b534-4007-a45c-855c80235977"
      },
      "source": [
        "c=Canvas(50,50)\n",
        "smileyFace=CompoundShape([Circle(25,25,20),\n",
        "                          Oval(33,31,3,5,char='o'),\n",
        "                          Oval(17, 31, 3, 5,char='o'),\n",
        "                          Arc(25,20,10,5,math.pi,char='&')])\n",
        "rd=RasterDrawing()\n",
        "rd.add_shape(smileyFace)\n",
        "smileyFace.paint(c,points=50)\n",
        "rd.paint(c, points=8)\n",
        "c.display()"
      ],
      "execution_count": 12,
      "outputs": [
        {
          "output_type": "stream",
          "text": [
            " . . . . . . . . . . . . . . . . . . . . . . . . . . . . . . . . . . . . . . . . . . . . . . . . . \n",
            " . . . . . . . . . . . . . . . . . . . . . . . . . . . . . . . . . . . . . . . . . . . . . . . . . \n",
            " . . . . . . . . . . . . . . . . . . . . . . . . . . . . . . . . . . . . . . . . . . . . . . . . . \n",
            " . . . . . . . . . . . . . . . . . . . . . . . . . . . . . . . . . . . . . . . . . . . . . . . . . \n",
            " . . . . . . . . . . . . . . . . . . .*. . .*. .*.*. .*. .*. . .*. . . . . . . . . . . . . . . . . \n",
            " . . . . . . . . . . . . . . . . .*. . . . . . . . . . . . . . . . .*. . . . . . . . . . . . . . . \n",
            " . . . . . . . . . . . . . . . . . . . . . . . . . . . . . . . . . . . . . . . . . . . . . . . . . \n",
            " . . . . . . . . . . . . . . .*. . . . . . . . . . . . . . . . . . . . .*. . . . . . . . . . . . . \n",
            " . . . . . . . . . . . . .*. . . . . . . . . . . . . . . . . . . . . . . . .*. . . . . . . . . . . \n",
            " . . . . . . . . . . .*. . . . . . . . . . . . . . . . . . . . . . . . . . . . .*. . . . . . . . . \n",
            " . . . . . . . . . . .*. . . . . . . . . . . . . . . . . . . . . . . . . . . . .*. . . . . . . . . \n",
            " . . . . . . . . . . . . . . . . . . . . . . . . . . . . . . . . . . . . . . . . . . . . . . . . . \n",
            " . . . . . . . . .*. . . . . . . . . . . . . . . . . . . . . . . . . . . . . . . . .*. . . . . . . \n",
            " . . . . . . . . . . . . . . . .o.o.o.o. . . . . . . . . . . . .o.o.o.o. . . . . . . . . . . . . . \n",
            " . . . . . . . .*. . . . . . .o.o. . .o.o. . . . . . . . . . .o.o. . .o.o. . . . . . .*. . . . . . \n",
            " . . . . . . . . . . . . . . .o. . . . .o. . . . . . . . . . .o. . . . .o. . . . . . . . . . . . . \n",
            " . . . . . . .*. . . . . . . .o. . . . .o. . . . . . . . . . .o. . . . .o. . . . . . . .*. . . . . \n",
            " . . . . . . . . . . . . . . .o. . . . .o. . . . . . . . . . .o. . . . .o. . . . . . . . . . . . . \n",
            " . . . . . . . . . . . . . .o.o. . . . .o. . . . . . . . . .o.o. . . . .o. . . . . . . . . . . . . \n",
            " . . . . . .*. . . . . . . . .o. . . . .o. . . . . . . . . . .o. . . . .o. . . . . . . . .*. . . . \n",
            " . . . . . . . . . . . . . . .o. . . . .o. . . . . . . . . . .o. . . . .o. . . . . . . . . . . . . \n",
            " . . . . . .*. . . . . . . . .o.o. . .o.o. . . . . . . . . . .o.o. . .o.o. . . . . . . . .*. . . . \n",
            " . . . . . . . . . . . . . . . .o.o.o.o. . . . . . . . . . . . .o.o.o.o. . . . . . . . . . . . . . \n",
            " . . . . .*. . . . . . . . . . . .o. . . . . . . . . . . . . . . .o. . . . . . . . . . . . . . . . \n",
            " . . . . .*. . . . . . . . . . . . . . . . . . . . . . . . . . . . . . . . . . . . . . . .*. . . . \n",
            " . . . . . . . . . . . . . . . . . . . . . . . . . . . . . . . . . . . . . . . . . . . . . . . . . \n",
            " . . . . . .*. . . . . . . . . . . . . . . . . . . . . . . . . . . . . . . . . . . . . . .*. . . . \n",
            " . . . . . . . . . . . . . . . . . . . . . . . . . . . . . . . . . . . . . . . . . . . . . . . . . \n",
            " . . . . . .*. . . . . . . . . . . . . . . . . . . . . . . . . . . . . . . . . . . . . . .*. . . . \n",
            " . . . . . . . . . . . . . . .&.&. . . . . . . . . . . . . . . . . . .&. . . . . . . . . . . . . . \n",
            " . . . . . . . . . . . . . . . .&. . . . . . . . . . . . . . . . . . .&. . . . . . . . . . . . . . \n",
            " . . . . . . .*. . . . . . . . .&.&. . . . . . . . . . . . . . . . .&.&. . . . . . . . .*. . . . . \n",
            " . . . . . . . . . . . . . . . . . .&.&. . . . . . . . . . . . .&.&. . . . . . . . . . . . . . . . \n",
            " . . . . . . . .*. . . . . . . . . . . .&.&.&.&.&.&.&.&.&.&.&.&. . . . . . . . . . . .*. . . . . . \n",
            " . . . . . . . . . . . . . . . . . . . . . . . . .&. . . . . . . . . . . . . . . . . . . . . . . . \n",
            " . . . . . . . . .*. . . . . . . . . . . . . . . . . . . . . . . . . . . . . . . . .*. . . . . . . \n",
            " . . . . . . . . . . . . . . . . . . . . . . . . . . . . . . . . . . . . . . . . . . . . . . . . . \n",
            " . . . . . . . . . . .*. . . . . . . . . . . . . . . . . . . . . . . . . . . . .*. . . . . . . . . \n",
            " . . . . . . . . . . .*. . . . . . . . . . . . . . . . . . . . . . . . . . . . .*. . . . . . . . . \n",
            " . . . . . . . . . . . . .*. . . . . . . . . . . . . . . . . . . . . . . . .*. . . . . . . . . . . \n",
            " . . . . . . . . . . . . . . .*. . . . . . . . . . . . . . . . . . . . .*. . . . . . . . . . . . . \n",
            " . . . . . . . . . . . . . . . . . . . . . . . . . . . . . . . . . . . . . . . . . . . . . . . . . \n",
            " . . . . . . . . . . . . . . . . .*. . . . . . . . . . . . . . . . .*. . . . . . . . . . . . . . . \n",
            " . . . . . . . . . . . . . . . . . . .*. . .*. .*. . .*. .*. . .*. . . . . . . . . . . . . . . . . \n",
            " . . . . . . . . . . . . . . . . . . . . . . . . .*. . . . . . . . . . . . . . . . . . . . . . . . \n",
            " . . . . . . . . . . . . . . . . . . . . . . . . . . . . . . . . . . . . . . . . . . . . . . . . . \n",
            " . . . . . . . . . . . . . . . . . . . . . . . . . . . . . . . . . . . . . . . . . . . . . . . . . \n",
            " . . . . . . . . . . . . . . . . . . . . . . . . . . . . . . . . . . . . . . . . . . . . . . . . . \n",
            " . . . . . . . . . . . . . . . . . . . . . . . . . . . . . . . . . . . . . . . . . . . . . . . . . \n",
            " . . . . . . . . . . . . . . . . . . . . . . . . . . . . . . . . . . . . . . . . . . . . . . . . . \n"
          ],
          "name": "stdout"
        }
      ]
    },
    {
      "cell_type": "markdown",
      "metadata": {
        "id": "t_dcil1rqn2T",
        "colab_type": "text"
      },
      "source": [
        "4. Add to the `Shape` base class a `__str__()` method. Overwrite the method in each shape to generate a string of the python code necessary to reinstantiate the object. For example, for a rectangle originally instantiated using `Square(5,5,20,char=\"^\")`, `__str__()` should return the string `'Square(5,5,20,char=\"^\")'`.\n"
      ]
    },
    {
      "cell_type": "code",
      "metadata": {
        "id": "_jciqEC1azaD",
        "colab_type": "code",
        "colab": {
          "base_uri": "https://localhost:8080/",
          "height": 153
        },
        "outputId": "b13cc1d1-f9bd-446e-bfd6-a100fe9c015b"
      },
      "source": [
        "r1=Rectangle(2,40,5,3,name=\"r1\",char=\"&\")\n",
        "s1=Square(4,4,6,name=\"sq1\")\n",
        "l1=Line(7,2,2,9,name=\"line1\",char=\"^\")\n",
        "p1=Point(5,5,name=\"point1\",char='+')\n",
        "t1=Triangle(11,11,6,6,name=\"tri1\",char='&')\n",
        "a1=Arc(25,18,10,5,math.pi,2*math.pi,char='*')\n",
        "c1=Circle(25,25,20,name=\"circ1\",char='@')\n",
        "o1=Oval(31,31,5,7,name=\"ov1\",char='o')\n",
        "\n",
        "print(r1)\n",
        "print(s1)\n",
        "print(l1)\n",
        "print(p1)\n",
        "print(t1)\n",
        "print(a1)\n",
        "print(c1)\n",
        "print(o1)"
      ],
      "execution_count": 13,
      "outputs": [
        {
          "output_type": "stream",
          "text": [
            "Rectangle(2,40,5,3,name='r1',char='&')\n",
            "Square(4,4,6,name='sq1',char='*')\n",
            "Line(7,2,2,9,name='line1',char='^')\n",
            "Point(5,5,name='point1',char='+')\n",
            "Triangle(11,11,6,6,name='tri1',char='&')\n",
            "Arc(25,18,10,5,3.141593,6.283185,name='',char='*')\n",
            "Circle(25,25,20,name='circ1',char='@')\n",
            "Oval(31,31,5,7,name='ov1',char='o')\n"
          ],
          "name": "stdout"
        }
      ]
    },
    {
      "cell_type": "markdown",
      "metadata": {
        "id": "CGC4OL7Vqn2W",
        "colab_type": "text"
      },
      "source": [
        "5. Add to `RasterDrawing` two functions, `save(filename)` and `load(filename)`. The save function writes the `__str__()` of all of the shapes in the drawing to a file (one shape per line). The load function, reads the file, and instantiates each object using the python `eval(expression)` function, and adds each shape to the drawing, thereby recreating a \"saved\" raster drawing. Use this functionality to save and load your happy face.\n",
        "\n",
        "   `eval` takes a string that contains a fragment of a python code and executes it. Consider the following examples: "
      ]
    },
    {
      "cell_type": "code",
      "metadata": {
        "id": "tJjH_cYKZcAp",
        "colab_type": "code",
        "colab": {
          "base_uri": "https://localhost:8080/",
          "height": 153
        },
        "outputId": "80faa5a4-20cb-403e-9c60-637632b852d5"
      },
      "source": [
        "r1=Rectangle(2,40,5,3,name=\"r1\",char=\"&\")\n",
        "s1=Square(4,4,6,name=\"sq1\")\n",
        "l1=Line(7,2,2,9,name=\"line1\",char=\"^\")\n",
        "p1=Point(5,5,name=\"point1\",char='+')\n",
        "t1=Triangle(11,11,6,6,name=\"tri1\",char='&')\n",
        "a1=Arc(25,18,10,5,math.pi,2*math.pi,char='*')\n",
        "c1=Circle(25,25,20,name=\"circ1\",char='@')\n",
        "o1=Oval(31,31,5,7,name=\"ov1\",char='o')\n",
        "\n",
        "print(eval(\"r1\"))\n",
        "print(eval(\"s1\"))\n",
        "print(eval(\"l1\"))\n",
        "print(eval(\"p1\"))\n",
        "print(eval(\"t1\"))\n",
        "print(eval(\"a1\"))\n",
        "print(eval(\"c1\"))\n",
        "print(eval(\"o1\"))"
      ],
      "execution_count": 14,
      "outputs": [
        {
          "output_type": "stream",
          "text": [
            "Rectangle(2,40,5,3,name='r1',char='&')\n",
            "Square(4,4,6,name='sq1',char='*')\n",
            "Line(7,2,2,9,name='line1',char='^')\n",
            "Point(5,5,name='point1',char='+')\n",
            "Triangle(11,11,6,6,name='tri1',char='&')\n",
            "Arc(25,18,10,5,3.141593,6.283185,name='',char='*')\n",
            "Circle(25,25,20,name='circ1',char='@')\n",
            "Oval(31,31,5,7,name='ov1',char='o')\n"
          ],
          "name": "stdout"
        }
      ]
    },
    {
      "cell_type": "code",
      "metadata": {
        "id": "pmufYTNUbGjS",
        "colab_type": "code",
        "colab": {
          "base_uri": "https://localhost:8080/",
          "height": 867
        },
        "outputId": "ab61dddd-edd4-4050-c77b-1f7eebdc8ac5"
      },
      "source": [
        "c=Canvas(50,50)\n",
        "\n",
        "r2=eval(\"r1\")\n",
        "s2 = eval(\"s1\")\n",
        "l2 = eval(\"l1\")\n",
        "p2 = eval(\"p1\")\n",
        "t2 = eval(\"t1\")\n",
        "a2 = eval(\"a1\")\n",
        "c2 = eval(\"c1\")\n",
        "o2 = eval(\"o1\")\n",
        "\n",
        "r2.paint(c)\n",
        "s2.paint(c)\n",
        "l2.paint(c)\n",
        "p2.paint(c)\n",
        "t2.paint(c)\n",
        "a2.paint(c,points=20)\n",
        "c2.paint(c,points=20)\n",
        "o2.paint(c,points=20)\n",
        "\n",
        "c.display()"
      ],
      "execution_count": 15,
      "outputs": [
        {
          "output_type": "stream",
          "text": [
            " . . . . . . . . . . . . . . . . . . . . . . . . . . . . . . . . . . . . . . . . . . . . . . . . . \n",
            " . . . . . . . . . . . . . . . . . . . . . . . . . . . . . . . . . . . . . . . . . . . . . . . . . \n",
            " . . . . . . . . . . . . . . . . . . . . . . . . . . . . . . . . . . . . . . . . . . . . . . . . . \n",
            " . . . . . . . . . . . . . . . . . . . . . . . . . . . . . . . . . . . . . . . . . . . . . . . . . \n",
            " . . . . . . . . . . . . . . . . . . .@. . . . . .@. . . . . . .@. . . . . . . . . . . . . . . . . \n",
            " . . . . . . . . . . . . . . . . . . . . . . . . . . . . . . . . . . . . . . . . . . . . . . . . . \n",
            " . .&.&.&.&.&. . . . . . . . . . . . . . . . . . . . . . . . . . . . . . . . . . . . . . . . . . . \n",
            " . .&. . . .&. . . . . . . .@. . . . . . . . . . . . . . . . . . . . . . .@. . . . . . . . . . . . \n",
            " . .&. . . .&. . . . . . . . . . . . . . . . . . . . . . . . . . . . . . . . . . . . . . . . . . . \n",
            " . .&.&.&.&.&. . . . . . . . . . . . . . . . . . . . . . . . . . . . . . . . . . . . . . . . . . . \n",
            " . . . . . . . . . . . . . . . . . . . . . . . . . . . . . . . . . . . . . . . . . . . . . . . . . \n",
            " . . . . . . . . . . . . . . . . . . . . . . . . . . . . . .o.o. .o. . . . . . . . . . . . . . . . \n",
            " . . . . . . . . .@. . . . . . . . . . . . . . . . . . . .o. . . . .o. . . . . . . .@. . . . . . . \n",
            " . . . . . . . . . . . . . . . . . . . . . . . . . . .o. . . . . . . . .o. . . . . . . . . . . . . \n",
            " . . . . . . . . . . . . . . . . . . . . . . . . . . . . . . . . . . . . . . . . . . . . . . . . . \n",
            " . . . . . . . . . . . . . . . . . . . . . . . . . . .o. . . . . . . . .o. . . . . . . . . . . . . \n",
            " . . . . . . . . . . . . . . . . . . . . . . . . . . . . . . . . . . . . . . . . . . . . . . . . . \n",
            " . . . . . .@. . . . . . . . . . . . . . . . . . . . . . . . . . . . . . . . . . . . . . .@. . . . \n",
            " . . . . . . . . . . . . . . . . . . . . . . . . . .o. . . . . . . . . .o. . . . . . . . . . . . . \n",
            " . . . . . . . . . . . . . . . . . . . . . . . . . . . . . . . . . . . . . . . . . . . . . . . . . \n",
            " . . . . . . . . . . . . . . . . . . . . . . . . . . .o. . . . . . . . .o. . . . . . . . . . . . . \n",
            " . . . . . . . . . . . . . . . . . . . . . . . . . . . . . . . . . . . . . . . . . . . . . . . . . \n",
            " . . . . . . . . . . . . . . . . . . . . . . . . . . .o. . . . . . . . .o. . . . . . . . . . . . . \n",
            " . . . . .@. . . . . . . . . . . . . . . . . . . . . . . .o. . . . .o. . . . . . . . . . . . . . . \n",
            " . . . . . . . . . . . . . . . . . . . . . . . . . . . . . .o. . .o. . . . . . . . . . . .@. . . . \n",
            " . . . . . . . . . . . . . . . . . . . . . . . . . . . . . . .o. . . . . . . . . . . . . . . . . . \n",
            " . . . . . . . . . . . . . . . . . . . . . . . . . . . . . . . . . . . . . . . . . . . . . . . . . \n",
            " . . . . . . . . . . . . . . . . . . . . . . . . . . . . . . . . . . . . . . . . . . . . . . . . . \n",
            " . . . . . . . . . . . . . . . . . . . . . . . . . . . . . . . . . . . . . . . . . . . . . . . . . \n",
            " . . . . . . . . . . . . . . . . . . . . . . . . . . . . . . . . . . . . . . . . . . . . . . . . . \n",
            " . . . . . .@. . . . . . . . . . . . . . . . . . . . . . . . . . . . . . . . . . . . . . .@. . . . \n",
            " . . . . . . . . . . . . . . .*.*. . . . . . . . . . . . . . . . . . .*. . . . . . . . . . . . . . \n",
            " . . . . . . . . . . . . . . . .*. . . . . . . . . . . . . . . . . . .*. . . . . . . . . . . . . . \n",
            " . . . . . . . . . . . . . . . .&.*. . . . . . . . . . . . . . . . .*. . . . . . . . . . . . . . . \n",
            " . . . . . . . . . . . . . . .&. .&.*. . . . . . . . . . . . . . .*. . . . . . . . . . . . . . . . \n",
            " . . . . . . . . .@. . . . .&. . .&. . .*.*.*. .*. . .*. .*.*.*. . . . . . . . . . .@. . . . . . . \n",
            " . . . . . . . . . . . . .&. . . .&. . . . . . . .*. . . . . . . . . . . . . . . . . . . . . . . . \n",
            " . . . . . . . . . . . .&. . . . .&. . . . . . . . . . . . . . . . . . . . . . . . . . . . . . . . \n",
            " . . . . . . . . . . .&.&.&.&.&.&.&. . . . . . . . . . . . . . . . . . . . . . . . . . . . . . . . \n",
            " . . . .*.*.*.*.*.*. . . . . . . . . . . . . . . . . . . . . . . . . . . . . . . . . . . . . . . . \n",
            " . . . .*. . . . .*. . . . .@. . . . . . . . . . . . . . . . . . . . . . .@. . . . . . . . . . . . \n",
            " . . . .*. . . . .*. . . . . . . . . . . . . . . . . . . . . . . . . . . . . .*. . . . . . . . . . \n",
            " . . . .*. . . . .*. . . . . . . . . . . . . . . . . . . . . . . . . . . . . . . .*. . . . . . . . \n",
            " . . . .*. . . . .*. . . . . . . . . .@. . . . . . . . . . . . .@. . . . . . . . . .*. . . . . . . \n",
            " . . . .*.+. . . .*. . . . . . . . . . . . . . . .@. . . . . . . . . . . . . . . . . .*. . . . . . \n",
            " . . . .*.*.*.*.*.*. . . . . . . . . . . . . . . . . . . . . . . . . . . . . . . . . . . .*. . . . \n",
            " . . . . . . . . . . . . . . . . . . . . . . . . . . . . . . . . . . . . . . . . . . . . . .*. . . \n",
            " . . . . . . . . . . . . . . . . . . . . . . . . . . . . . . . . . . . . . . . . . . . . . . . .*. \n",
            " . . . . . . . . . . . . . . . . . . . . . . . . . . . . . . . . . . . . . . . . . . . . . . . . . \n",
            " . . . . . . . . . . . . . . . . . . . . . . . . . . . . . . . . . . . . . . . . . . . . . . . . . \n"
          ],
          "name": "stdout"
        }
      ]
    },
    {
      "cell_type": "code",
      "metadata": {
        "id": "MXY6IeodbWsS",
        "colab_type": "code",
        "colab": {
          "base_uri": "https://localhost:8080/",
          "height": 153
        },
        "outputId": "38f41a0f-2eeb-4237-87c7-9936c587c7cc"
      },
      "source": [
        "#add shapes to RasterDrawing() obj and save to a file\n",
        "rd1=RasterDrawing()\n",
        "\n",
        "rd1.add_shape(r2)\n",
        "rd1.add_shape(s2)\n",
        "rd1.add_shape(l2)\n",
        "rd1.add_shape(p2)\n",
        "rd1.add_shape(t2)\n",
        "rd1.add_shape(a2)\n",
        "rd1.add_shape(c2)\n",
        "rd1.add_shape(o2)\n",
        "\n",
        "\n",
        "rd1.list()\n",
        "rd1.save(\"shapes_file.txt\")"
      ],
      "execution_count": 16,
      "outputs": [
        {
          "output_type": "stream",
          "text": [
            "r1\n",
            "sq1\n",
            "line1\n",
            "point1\n",
            "tri1\n",
            "shape_0\n",
            "circ1\n",
            "ov1\n"
          ],
          "name": "stdout"
        }
      ]
    },
    {
      "cell_type": "code",
      "metadata": {
        "id": "N2sMXnMkmj4z",
        "colab_type": "code",
        "colab": {
          "base_uri": "https://localhost:8080/",
          "height": 153
        },
        "outputId": "c73bb3b5-10cf-45fb-e4a1-957bee2615b3"
      },
      "source": [
        "rd2=RasterDrawing()\n",
        "rd2.list()\n",
        "rd2.load(\"shapes_file.txt\")\n",
        "rd2.list()"
      ],
      "execution_count": 17,
      "outputs": [
        {
          "output_type": "stream",
          "text": [
            "r1\n",
            "sq1\n",
            "line1\n",
            "point1\n",
            "tri1\n",
            "shape_0\n",
            "circ1\n",
            "ov1\n"
          ],
          "name": "stdout"
        }
      ]
    },
    {
      "cell_type": "code",
      "metadata": {
        "id": "wxfoYxnFchEL",
        "colab_type": "code",
        "colab": {
          "base_uri": "https://localhost:8080/",
          "height": 867
        },
        "outputId": "198f4426-520c-458e-e7dd-a3d4b299390b"
      },
      "source": [
        "c3=Canvas(50,50)\n",
        "rd2.paint(c3,points=20)\n",
        "c3.display()"
      ],
      "execution_count": 18,
      "outputs": [
        {
          "output_type": "stream",
          "text": [
            " . . . . . . . . . . . . . . . . . . . . . . . . . . . . . . . . . . . . . . . . . . . . . . . . . \n",
            " . . . . . . . . . . . . . . . . . . . . . . . . . . . . . . . . . . . . . . . . . . . . . . . . . \n",
            " . . . . . . . . . . . . . . . . . . . . . . . . . . . . . . . . . . . . . . . . . . . . . . . . . \n",
            " . . . . . . . . . . . . . . . . . . . . . . . . . . . . . . . . . . . . . . . . . . . . . . . . . \n",
            " . . . . . . . . . . . . . . . . . . .@. . . . . .@. . . . . . .@. . . . . . . . . . . . . . . . . \n",
            " . . . . . . . . . . . . . . . . . . . . . . . . . . . . . . . . . . . . . . . . . . . . . . . . . \n",
            " . .&.&.&.&.&. . . . . . . . . . . . . . . . . . . . . . . . . . . . . . . . . . . . . . . . . . . \n",
            " . .&. . . .&. . . . . . . .@. . . . . . . . . . . . . . . . . . . . . . .@. . . . . . . . . . . . \n",
            " . .&. . . .&. . . . . . . . . . . . . . . . . . . . . . . . . . . . . . . . . . . . . . . . . . . \n",
            " . .&.&.&.&.&. . . . . . . . . . . . . . . . . . . . . . . . . . . . . . . . . . . . . . . . . . . \n",
            " . . . . . . . . . . . . . . . . . . . . . . . . . . . . . . . . . . . . . . . . . . . . . . . . . \n",
            " . . . . . . . . . . . . . . . . . . . . . . . . . . . . . .o.o. .o. . . . . . . . . . . . . . . . \n",
            " . . . . . . . . .@. . . . . . . . . . . . . . . . . . . .o. . . . .o. . . . . . . .@. . . . . . . \n",
            " . . . . . . . . . . . . . . . . . . . . . . . . . . .o. . . . . . . . .o. . . . . . . . . . . . . \n",
            " . . . . . . . . . . . . . . . . . . . . . . . . . . . . . . . . . . . . . . . . . . . . . . . . . \n",
            " . . . . . . . . . . . . . . . . . . . . . . . . . . .o. . . . . . . . .o. . . . . . . . . . . . . \n",
            " . . . . . . . . . . . . . . . . . . . . . . . . . . . . . . . . . . . . . . . . . . . . . . . . . \n",
            " . . . . . .@. . . . . . . . . . . . . . . . . . . . . . . . . . . . . . . . . . . . . . .@. . . . \n",
            " . . . . . . . . . . . . . . . . . . . . . . . . . .o. . . . . . . . . .o. . . . . . . . . . . . . \n",
            " . . . . . . . . . . . . . . . . . . . . . . . . . . . . . . . . . . . . . . . . . . . . . . . . . \n",
            " . . . . . . . . . . . . . . . . . . . . . . . . . . .o. . . . . . . . .o. . . . . . . . . . . . . \n",
            " . . . . . . . . . . . . . . . . . . . . . . . . . . . . . . . . . . . . . . . . . . . . . . . . . \n",
            " . . . . . . . . . . . . . . . . . . . . . . . . . . .o. . . . . . . . .o. . . . . . . . . . . . . \n",
            " . . . . .@. . . . . . . . . . . . . . . . . . . . . . . .o. . . . .o. . . . . . . . . . . . . . . \n",
            " . . . . . . . . . . . . . . . . . . . . . . . . . . . . . .o. . .o. . . . . . . . . . . .@. . . . \n",
            " . . . . . . . . . . . . . . . . . . . . . . . . . . . . . . .o. . . . . . . . . . . . . . . . . . \n",
            " . . . . . . . . . . . . . . . . . . . . . . . . . . . . . . . . . . . . . . . . . . . . . . . . . \n",
            " . . . . . . . . . . . . . . . . . . . . . . . . . . . . . . . . . . . . . . . . . . . . . . . . . \n",
            " . . . . . . . . . . . . . . . . . . . . . . . . . . . . . . . . . . . . . . . . . . . . . . . . . \n",
            " . . . . . . . . . . . . . . . . . . . . . . . . . . . . . . . . . . . . . . . . . . . . . . . . . \n",
            " . . . . . .@. . . . . . . . . . . . . . . . . . . . . . . . . . . . . . . . . . . . . . .@. . . . \n",
            " . . . . . . . . . . . . . . . .*. . . . . . . . . . . . . . . . . . .*. . . . . . . . . . . . . . \n",
            " . . . . . . . . . . . . . . . .*. . . . . . . . . . . . . . . . . . .*. . . . . . . . . . . . . . \n",
            " . . . . . . . . . . . . . . . .&.*. . . . . . . . . . . . . . . . .*. . . . . . . . . . . . . . . \n",
            " . . . . . . . . . . . . . . .&. .&.*. . . . . . . . . . . . . . .*. . . . . . . . . . . . . . . . \n",
            " . . . . . . . . .@. . . . .&. . .&. . .*.*.*. .*. . .*. .*.*.*. . . . . . . . . . .@. . . . . . . \n",
            " . . . . . . . . . . . . .&. . . .&. . . . . . . . .*. . . . . . . . . . . . . . . . . . . . . . . \n",
            " . . . . . . . . . . . .&. . . . .&. . . . . . . . . . . . . . . . . . . . . . . . . . . . . . . . \n",
            " . . . . . . . . . . .&.&.&.&.&.&.&. . . . . . . . . . . . . . . . . . . . . . . . . . . . . . . . \n",
            " . . . .*.*.*.*.*.*. . . . . . . . . . . . . . . . . . . . . . . . . . . . . . . . . . . . . . . . \n",
            " . . . .*. . . . .*. . . . .@. . . . . . . . . . . . . . . . . . . . . . .@. . . . . . . . . . . . \n",
            " . . . .*. . . . .*. . . . . . . . . . . . . . . . . . . . . . . . . . . . . .*. . . . . . . . . . \n",
            " . . . .*. . . . .*. . . . . . . . . . . . . . . . . . . . . . . . . . . . . . . .*. . . . . . . . \n",
            " . . . .*. . . . .*. . . . . . . . . .@. . . . . . . . . . . . .@. . . . . . . . . .*. . . . . . . \n",
            " . . . .*.+. . . .*. . . . . . . . . . . . . . . .@. . . . . . . . . . . . . . . . . .*. . . . . . \n",
            " . . . .*.*.*.*.*.*. . . . . . . . . . . . . . . . . . . . . . . . . . . . . . . . . . . .*. . . . \n",
            " . . . . . . . . . . . . . . . . . . . . . . . . . . . . . . . . . . . . . . . . . . . . . .*. . . \n",
            " . . . . . . . . . . . . . . . . . . . . . . . . . . . . . . . . . . . . . . . . . . . . . . . .*. \n",
            " . . . . . . . . . . . . . . . . . . . . . . . . . . . . . . . . . . . . . . . . . . . . . . . . . \n",
            " . . . . . . . . . . . . . . . . . . . . . . . . . . . . . . . . . . . . . . . . . . . . . . . . . \n"
          ],
          "name": "stdout"
        }
      ]
    },
    {
      "cell_type": "code",
      "metadata": {
        "id": "HJLB8Xk8qn2W",
        "colab_type": "code",
        "colab": {
          "base_uri": "https://localhost:8080/",
          "height": 34
        },
        "outputId": "7da5a9a8-4481-4635-9741-800694342a49"
      },
      "source": [
        "eval(\"print('Hello')\")"
      ],
      "execution_count": 19,
      "outputs": [
        {
          "output_type": "stream",
          "text": [
            "Hello\n"
          ],
          "name": "stdout"
        }
      ]
    },
    {
      "cell_type": "code",
      "metadata": {
        "id": "xyn0mFG6qn2Z",
        "colab_type": "code",
        "colab": {
          "base_uri": "https://localhost:8080/",
          "height": 34
        },
        "outputId": "67298e79-3c4f-41b8-9c20-d3ee7cb13304"
      },
      "source": [
        "x = eval('1+2')\n",
        "print(x)"
      ],
      "execution_count": 20,
      "outputs": [
        {
          "output_type": "stream",
          "text": [
            "3\n"
          ],
          "name": "stdout"
        }
      ]
    },
    {
      "cell_type": "code",
      "metadata": {
        "id": "fTYeDkFxqn2b",
        "colab_type": "code",
        "colab": {}
      },
      "source": [
        ""
      ],
      "execution_count": 0,
      "outputs": []
    }
  ]
}