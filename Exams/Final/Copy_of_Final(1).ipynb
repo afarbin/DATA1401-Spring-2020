{
  "nbformat": 4,
  "nbformat_minor": 0,
  "metadata": {
    "kernelspec": {
      "display_name": "Python 3",
      "language": "python",
      "name": "python3"
    },
    "language_info": {
      "codemirror_mode": {
        "name": "ipython",
        "version": 3
      },
      "file_extension": ".py",
      "mimetype": "text/x-python",
      "name": "python",
      "nbconvert_exporter": "python",
      "pygments_lexer": "ipython3",
      "version": "3.8.0"
    },
    "colab": {
      "name": "Copy of Final.ipynb",
      "provenance": [],
      "collapsed_sections": []
    }
  },
  "cells": [
    {
      "cell_type": "markdown",
      "metadata": {
        "id": "cqdi2ZhGqreU",
        "colab_type": "text"
      },
      "source": [
        "# Final Exam\n",
        "\n",
        "[![Open In Colab](https://colab.research.google.com/assets/colab-badge.svg)](https://colab.research.google.com/github//afarbin/DATA1401-Spring-2020/blob/master/Exams/Final/Final.ipynb)"
      ]
    },
    {
      "cell_type": "markdown",
      "metadata": {
        "id": "AawewtE4qreW",
        "colab_type": "text"
      },
      "source": [
        "Recall the drawing system from lecture 18:"
      ]
    },
    {
      "cell_type": "code",
      "metadata": {
        "id": "wVyihGFsqreY",
        "colab_type": "code",
        "colab": {}
      },
      "source": [
        "class Canvas:\n",
        "    def __init__(self, width, height):\n",
        "        self.width = width\n",
        "        self.height = height\n",
        "        self.data = [[' '] * width for i in range(height)]\n",
        "\n",
        "    def set_pixel(self, row, col, char='*'):\n",
        "        self.data[row][col] = char\n",
        "\n",
        "    def get_pixel(self, row, col):\n",
        "        return self.data[row][col]\n",
        "    \n",
        "    def h_line(self, x, y, w, **kargs):\n",
        "        for i in range(x,x+w):\n",
        "            self.set_pixel(i,y, **kargs)\n",
        "\n",
        "    def v_line(self, x, y, h, **kargs):\n",
        "        for i in range(y,y+h):\n",
        "            self.set_pixel(x,i, **kargs)\n",
        "            \n",
        "    def line(self, x1, y1, x2, y2, **kargs):\n",
        "        slope = (y2-y1) / (x2-x1)\n",
        "        for y in range(y1,y2):\n",
        "            x= int(slope * y)\n",
        "            self.set_pixel(x,y, **kargs)\n",
        "            \n",
        "    def display(self):\n",
        "        print(\"\\n\".join([\"\".join(row) for row in self.data]))"
      ],
      "execution_count": 0,
      "outputs": []
    },
    {
      "cell_type": "code",
      "metadata": {
        "id": "V7yi8gyfqreu",
        "colab_type": "code",
        "colab": {}
      },
      "source": [
        "class Shape:\n",
        "    def __init__(self, name=\"\", **kwargs):\n",
        "        self.name=name\n",
        "        self.kwargs=kwargs\n",
        "    \n",
        "    def paint(self, canvas): pass\n",
        "\n",
        "class Rectangle(Shape):\n",
        "    def __init__(self, x, y, w, h, **kwargs):\n",
        "        Shape.__init__(self, **kwargs)\n",
        "        self.x = x\n",
        "        self.y = y\n",
        "        self.w = w\n",
        "        self.h = h\n",
        "\n",
        "    def paint(self, canvas):\n",
        "        canvas.h_line(self.x, self.y, self.w, **self.kwargs)\n",
        "        canvas.h_line(self.x, self.y + self.h, self.w, **self.kwargs)\n",
        "        canvas.v_line(self.x, self.y, self.h, **self.kwargs)\n",
        "        canvas.v_line(self.x + self.w, self.y, self.h, **self.kwargs)\n",
        "\n",
        "class Square(Rectangle):\n",
        "    def __init__(self, x, y, size, **kwargs):\n",
        "        Rectangle.__init__(self, x, y, size, size, **kwargs)\n",
        "\n",
        "class Line(Shape):\n",
        "    def __init__(self, x1, y1, x2, y2,  **kwargs):\n",
        "        Shape.__init__(self, **kwargs)\n",
        "        self.x1=x1\n",
        "        self.y1=y1\n",
        "        self.x2=x2\n",
        "        self.y2=y2\n",
        "        \n",
        "    def paint(self, canvas):\n",
        "        canvas.line(self.x1,self.y1,self.x2,self.y2)\n",
        "        \n",
        "class CompoundShape(Shape):\n",
        "    def __init__(self, shapes):\n",
        "        self.shapes = shapes\n",
        "\n",
        "    def paint(self, canvas):\n",
        "        for s in self.shapes:\n",
        "            s.paint(canvas)"
      ],
      "execution_count": 0,
      "outputs": []
    },
    {
      "cell_type": "code",
      "metadata": {
        "id": "o9hC1lgCqre7",
        "colab_type": "code",
        "colab": {}
      },
      "source": [
        "class RasterDrawing:\n",
        "    def __init__(self):\n",
        "        self.shapes=dict()\n",
        "        self.shape_names=list()\n",
        "        \n",
        "    def add_shape(self,shape):\n",
        "        if shape.name == \"\":\n",
        "            shape.name = self.assign_name()\n",
        "        \n",
        "        self.shapes[shape.name]=shape\n",
        "        self.shape_names.append(shape.name)\n",
        "        \n",
        "    def paint(self,canvas):\n",
        "        for shape_name in self.shape_names:\n",
        "            self.shapes[shape_name].paint(canvas)\n",
        "            \n",
        "    def assign_name(self):\n",
        "        name_base=\"shape\"\n",
        "        name = name_base+\"_0\"\n",
        "        \n",
        "        i=1\n",
        "        while name in self.shapes:\n",
        "            name = name_base+\"_\"+str(i)\n",
        "            \n",
        "        return name\n"
      ],
      "execution_count": 0,
      "outputs": []
    },
    {
      "cell_type": "markdown",
      "metadata": {
        "id": "u2-f-vGzqrfC",
        "colab_type": "text"
      },
      "source": [
        "1. Add `Point` and `Triangle` classes and test them."
      ]
    },
    {
      "cell_type": "code",
      "metadata": {
        "id": "HNeUtsPcqrfE",
        "colab_type": "code",
        "outputId": "0e473821-6f13-4bab-ca55-5f4da3e7cf21",
        "colab": {
          "base_uri": "https://localhost:8080/",
          "height": 35
        }
      },
      "source": [
        "class Point:\n",
        "    \"\"\" Point class represents and manipulates x,y coords. \"\"\"\n",
        "\n",
        "    def __init__(self):\n",
        "        \"\"\" Create a new point at the origin \"\"\"\n",
        "        self.x = 0\n",
        "        self.y = 0\n",
        "\n",
        "p = Point()         # Instantiate an object of type Point\n",
        "q = Point()         # Make a second point\n",
        "\n",
        "print(p.x, p.y, q.x, q.y)  # Each point object has its own x and y"
      ],
      "execution_count": 0,
      "outputs": [
        {
          "output_type": "stream",
          "text": [
            "0 0 0 0\n"
          ],
          "name": "stdout"
        }
      ]
    },
    {
      "cell_type": "code",
      "metadata": {
        "id": "vsUFtWjCstBp",
        "colab_type": "code",
        "colab": {}
      },
      "source": [
        "class triangle:\n",
        "  def __init__(self,base,height,x,y):\n",
        "      \n",
        "      x=__base=8\n",
        "      y=__height=4\n",
        "      self.__base=base\n",
        "      self.__height=height\n",
        "      self.__x=x\n",
        "      self.__y=y"
      ],
      "execution_count": 0,
      "outputs": []
    },
    {
      "cell_type": "markdown",
      "metadata": {
        "id": "LdYlpCKLsrvR",
        "colab_type": "text"
      },
      "source": [
        ""
      ]
    },
    {
      "cell_type": "markdown",
      "metadata": {
        "id": "jsn8lRksqrfL",
        "colab_type": "text"
      },
      "source": [
        "2. Add an `Arc` class that is instantiated with a center location, two axis lengths, and starting and ending angles. If start and end are not specified or are the same angle, the `Arc` instance should draw an oval. If in addition the two axes are the same, the `Arc` instance should draw a circle. Create `Oval` and `Circle` classes that inherit from `Arc`. Test everything."
      ]
    },
    {
      "cell_type": "code",
      "metadata": {
        "id": "xcF0uXSBqrfN",
        "colab_type": "code",
        "colab": {}
      },
      "source": [
        "import math \n",
        "  \n",
        "# function to print circle pattern \n",
        "def printPattern(radius): \n",
        "      \n",
        "    # dist represents distance to the center \n",
        "    # for horizontal movement \n",
        "    for i in range((2 * radius)+1): \n",
        "   \n",
        "        # for vertical movement \n",
        "        for j in range((2 * radius)+1): \n",
        "              \n",
        "            dist = math.sqrt((i - radius) * (i - radius) + \n",
        "                  (j - radius) * (j - radius)) \n",
        "   \n",
        "            # dist should be in the \n",
        "            # range (radius - 0.5) \n",
        "            # and (radius + 0.5) to print stars(*) \n",
        "            if (dist > radius - 0.5 and dist < radius + 0.5):  \n",
        "                print(\"*\",end=\"\") \n",
        "            else: \n",
        "                print(\" \",end=\"\")       \n",
        "      \n",
        "   \n",
        "        print() \n",
        "    "
      ],
      "execution_count": 0,
      "outputs": []
    },
    {
      "cell_type": "code",
      "metadata": {
        "id": "MXIrwVPCzp-l",
        "colab_type": "code",
        "outputId": "de5b5033-1333-432c-e25a-12d729d6588c",
        "colab": {
          "base_uri": "https://localhost:8080/",
          "height": 257
        }
      },
      "source": [
        "radius = 6\n",
        "printPattern(radius) "
      ],
      "execution_count": 33,
      "outputs": [
        {
          "output_type": "stream",
          "text": [
            "    *****    \n",
            "  **     **  \n",
            " **       ** \n",
            " *         * \n",
            "*           *\n",
            "*           *\n",
            "*           *\n",
            "*           *\n",
            "*           *\n",
            " *         * \n",
            " **       ** \n",
            "  **     **  \n",
            "    *****    \n"
          ],
          "name": "stdout"
        }
      ]
    },
    {
      "cell_type": "code",
      "metadata": {
        "id": "dQy1VDPolAR2",
        "colab_type": "code",
        "colab": {}
      },
      "source": [
        "import math \n",
        "  \n",
        "# function to print oval pattern \n",
        "def printPattern(radius): \n",
        "      \n",
        "    # dist represents distance to the center \n",
        "    # for horizontal movement \n",
        "    for i in range((2 * radius)+1): \n",
        "   \n",
        "        # for vertical movement \n",
        "        for j in range((2 * radius)+1): \n",
        "              \n",
        "            dist = math.sqrt((i - radius) * (i - radius) + \n",
        "                  (j - radius) * (j - radius)) \n",
        "   \n",
        "            # dist should be in the \n",
        "            # range (radius - 0.5) \n",
        "            # and (radius + 0.5) to print stars(*) \n",
        "            if (dist > radius - 0.3 and dist < radius + 0.3):  \n",
        "                print(\"*\",end=\"\") \n",
        "            else: \n",
        "                print(\" \",end=\"\")       \n",
        "      \n",
        "   \n",
        "        print() \n",
        "    "
      ],
      "execution_count": 0,
      "outputs": []
    },
    {
      "cell_type": "code",
      "metadata": {
        "id": "ebMvvFcal4Kl",
        "colab_type": "code",
        "colab": {
          "base_uri": "https://localhost:8080/",
          "height": 109
        },
        "outputId": "d7e99d52-1ba1-4070-8ba5-c02ccbbb2522"
      },
      "source": [
        "radius = 2\n",
        "printPattern(radius) "
      ],
      "execution_count": 66,
      "outputs": [
        {
          "output_type": "stream",
          "text": [
            " *** \n",
            "*   *\n",
            "*   *\n",
            "*   *\n",
            " *** \n"
          ],
          "name": "stdout"
        }
      ]
    },
    {
      "cell_type": "markdown",
      "metadata": {
        "id": "VpipnAL8qrfZ",
        "colab_type": "text"
      },
      "source": [
        "3. Use your classes to create a `RasterDrawing` that draws a happy face."
      ]
    },
    {
      "cell_type": "code",
      "metadata": {
        "id": "IOdMo032qrfb",
        "colab_type": "code",
        "colab": {
          "base_uri": "https://localhost:8080/",
          "height": 395
        },
        "outputId": "8db61fc2-6617-4dbe-de49-37aaef83023a"
      },
      "source": [
        "import arcade\n",
        "\n",
        "# Set constants for the screen size\n",
        "SCREEN_WIDTH = 600\n",
        "SCREEN_HEIGHT = 600\n",
        "SCREEN_TITLE = \"Happy Face Example\"\n",
        "\n",
        "# Open the window. Set the window title and dimensions\n",
        "arcade.open_window(SCREEN_WIDTH, SCREEN_HEIGHT, SCREEN_TITLE)\n",
        "\n",
        "# Set the background color\n",
        "arcade.set_background_color(arcade.color.WHITE)\n",
        "\n",
        "# Clear screen and start render process\n",
        "arcade.start_render()\n",
        "\n",
        "# --- Drawing Commands Will Go Here ---\n",
        "\n",
        "# Draw the face\n",
        "x = 300\n",
        "y = 300\n",
        "radius = 200\n",
        "arcade.draw_circle_filled(x, y, radius, arcade.color.YELLOW)\n",
        "\n",
        "# Draw the right eye\n",
        "x = 370\n",
        "y = 350\n",
        "radius = 20\n",
        "arcade.draw_circle_filled(x, y, radius, arcade.color.BLACK)\n",
        "\n",
        "# Draw the left eye\n",
        "x = 230\n",
        "y = 350\n",
        "radius = 20\n",
        "arcade.draw_circle_filled(x, y, radius, arcade.color.BLACK)\n",
        "\n",
        "# Draw the smile\n",
        "x = 300\n",
        "y = 280\n",
        "width = 120\n",
        "height = 100\n",
        "start_angle = 190\n",
        "end_angle = 350\n",
        "arcade.draw_arc_outline(x, y, width, height, arcade.color.BLACK,\n",
        "                        start_angle, end_angle, 10)\n",
        "\n",
        "# Finish drawing and display the result\n",
        "arcade.finish_render()\n",
        "\n",
        "# Keep the window open until the user hits the 'close' button\n",
        "arcade.run()"
      ],
      "execution_count": 54,
      "outputs": [
        {
          "output_type": "error",
          "ename": "ModuleNotFoundError",
          "evalue": "ignored",
          "traceback": [
            "\u001b[0;31m---------------------------------------------------------------------------\u001b[0m",
            "\u001b[0;31mModuleNotFoundError\u001b[0m                       Traceback (most recent call last)",
            "\u001b[0;32m<ipython-input-54-ccdbdef6c727>\u001b[0m in \u001b[0;36m<module>\u001b[0;34m()\u001b[0m\n\u001b[0;32m----> 1\u001b[0;31m \u001b[0;32mimport\u001b[0m \u001b[0marcade\u001b[0m\u001b[0;34m\u001b[0m\u001b[0;34m\u001b[0m\u001b[0m\n\u001b[0m\u001b[1;32m      2\u001b[0m \u001b[0;34m\u001b[0m\u001b[0m\n\u001b[1;32m      3\u001b[0m \u001b[0;31m# Set constants for the screen size\u001b[0m\u001b[0;34m\u001b[0m\u001b[0;34m\u001b[0m\u001b[0;34m\u001b[0m\u001b[0m\n\u001b[1;32m      4\u001b[0m \u001b[0mSCREEN_WIDTH\u001b[0m \u001b[0;34m=\u001b[0m \u001b[0;36m600\u001b[0m\u001b[0;34m\u001b[0m\u001b[0;34m\u001b[0m\u001b[0m\n\u001b[1;32m      5\u001b[0m \u001b[0mSCREEN_HEIGHT\u001b[0m \u001b[0;34m=\u001b[0m \u001b[0;36m600\u001b[0m\u001b[0;34m\u001b[0m\u001b[0;34m\u001b[0m\u001b[0m\n",
            "\u001b[0;31mModuleNotFoundError\u001b[0m: No module named 'arcade'",
            "",
            "\u001b[0;31m---------------------------------------------------------------------------\u001b[0;32m\nNOTE: If your import is failing due to a missing package, you can\nmanually install dependencies using either !pip or !apt.\n\nTo view examples of installing some common dependencies, click the\n\"Open Examples\" button below.\n\u001b[0;31m---------------------------------------------------------------------------\u001b[0m\n"
          ]
        }
      ]
    },
    {
      "cell_type": "code",
      "metadata": {
        "id": "19F8i7YvXxFr",
        "colab_type": "code",
        "outputId": "4fb043e8-4d60-4612-df9b-8a1706c88e35",
        "colab": {
          "base_uri": "https://localhost:8080/",
          "height": 35
        }
      },
      "source": [
        "class Circle():\n",
        "    def __init__(self, x0, y0, R):\n",
        "        self.x0, self.y0, self.R = x0, y0, R\n",
        "\n",
        "    def area(self):\n",
        "        return pi*self.R**2\n",
        "\n",
        "    def circumference(self):\n",
        "        return 2*pi*self.R\n",
        "\n",
        "    def __str__(self):\n",
        "        return 'Circle(6,6,4,char=\"^\")' \n",
        "\n",
        "\n",
        "obj = Circle('6','6','4')\n",
        "print(obj)        "
      ],
      "execution_count": 15,
      "outputs": [
        {
          "output_type": "stream",
          "text": [
            "Circle(6,6,4,char=\"^\")\n"
          ],
          "name": "stdout"
        }
      ]
    },
    {
      "cell_type": "code",
      "metadata": {
        "id": "C-rmUrmloOrj",
        "colab_type": "code",
        "colab": {}
      },
      "source": [
        "\n"
      ],
      "execution_count": 0,
      "outputs": []
    },
    {
      "cell_type": "markdown",
      "metadata": {
        "id": "qqjTf4UNqrfh",
        "colab_type": "text"
      },
      "source": [
        "4. Add to the `Shape` base class a `__str__()` method. Overwrite the method in each shape to generate a string of the python code necessary to reinstantiate the object. For example, for a rectangle originally instantiated using `Square(5,5,20,char=\"^\")`, `__str__()` should return the string `'Square(5,5,20,char=\"^\")'`.\n"
      ]
    },
    {
      "cell_type": "code",
      "metadata": {
        "id": "oAfhRnmUqrfi",
        "colab_type": "code",
        "colab": {
          "base_uri": "https://localhost:8080/",
          "height": 35
        },
        "outputId": "027ced39-e7ce-423e-d2ec-2f0874291488"
      },
      "source": [
        "class Circle():\n",
        "    def __init__(self, x0, y0, R):\n",
        "        self.x0, self.y0, self.R = x0, y0, R\n",
        "\n",
        "    def area(self):\n",
        "        return pi*self.R**2\n",
        "\n",
        "    def circumference(self):\n",
        "        return 2*pi*self.R\n",
        "\n",
        "    def __str__(self):\n",
        "        return 'Circle(6,6,4,char=\"^\")' \n",
        "\n",
        "\n",
        "obj = Circle('6','6','4')\n",
        "print(obj)        "
      ],
      "execution_count": 36,
      "outputs": [
        {
          "output_type": "stream",
          "text": [
            "Circle(6,6,4,char=\"^\")\n"
          ],
          "name": "stdout"
        }
      ]
    },
    {
      "cell_type": "code",
      "metadata": {
        "id": "NeB-sU7ePNcJ",
        "colab_type": "code",
        "outputId": "8fcd9843-ecb9-40f5-fe22-700067d234c0",
        "colab": {
          "base_uri": "https://localhost:8080/",
          "height": 35
        }
      },
      "source": [
        "class Oval():\n",
        "    def __init__(self, x0, y0, R):\n",
        "        self.x0, self.y0, self.R = x0, y0, R\n",
        "\n",
        "    def area(self):\n",
        "        return pi*self.R**2\n",
        "\n",
        "    def circumference(self):\n",
        "        return 2*pi*self.R\n",
        "\n",
        "    def __str__(self):\n",
        "        return 'Oval(3,3,2,char=\"^\")' \n",
        "\n",
        "obj = Oval('3','3','2')\n",
        "print(obj)        "
      ],
      "execution_count": 37,
      "outputs": [
        {
          "output_type": "stream",
          "text": [
            "Oval(3,3,2,char=\"^\")\n"
          ],
          "name": "stdout"
        }
      ]
    },
    {
      "cell_type": "markdown",
      "metadata": {
        "id": "Sh2TynSpqrfo",
        "colab_type": "text"
      },
      "source": [
        "5. Add to `RasterDrawing` two functions, `save(filename)` and `load(filename)`. The save function writes the `__str__()` of all of the shapes in the drawing to a file (one shape per line). The load function, reads the file, and instantiates each object using the python `eval(expression)` function, and adds each shape to the drawing, thereby recreating a \"saved\" raster drawing. Use this functionality to save and load your happy face.\n",
        "\n",
        "   `eval` takes a string that contains a fragment of a python code and executes it. Consider the following examples: "
      ]
    },
    {
      "cell_type": "code",
      "metadata": {
        "id": "IP-SI6iXqrfr",
        "colab_type": "code",
        "outputId": "261c2abd-0022-4a5f-f9b0-c19bb0fc4367",
        "colab": {
          "base_uri": "https://localhost:8080/",
          "height": 35
        }
      },
      "source": [
        "eval(\"print('Hello')\")"
      ],
      "execution_count": 0,
      "outputs": [
        {
          "output_type": "stream",
          "text": [
            "Hello\n"
          ],
          "name": "stdout"
        }
      ]
    },
    {
      "cell_type": "code",
      "metadata": {
        "id": "opbIo69Xqrfw",
        "colab_type": "code",
        "outputId": "1d81ce15-66f9-40cb-a468-2a1853122b0f",
        "colab": {
          "base_uri": "https://localhost:8080/",
          "height": 35
        }
      },
      "source": [
        "x = eval('1+2')\n",
        "print(x)"
      ],
      "execution_count": 0,
      "outputs": [
        {
          "output_type": "stream",
          "text": [
            "3\n"
          ],
          "name": "stdout"
        }
      ]
    },
    {
      "cell_type": "code",
      "metadata": {
        "id": "I7O3GTdBqrf4",
        "colab_type": "code",
        "colab": {}
      },
      "source": [
        ""
      ],
      "execution_count": 0,
      "outputs": []
    }
  ]
}