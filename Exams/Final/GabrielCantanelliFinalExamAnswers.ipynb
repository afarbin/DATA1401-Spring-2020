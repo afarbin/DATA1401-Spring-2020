{
  "nbformat": 4,
  "nbformat_minor": 0,
  "metadata": {
    "kernelspec": {
      "display_name": "Python 3",
      "language": "python",
      "name": "python3"
    },
    "language_info": {
      "codemirror_mode": {
        "name": "ipython",
        "version": 3
      },
      "file_extension": ".py",
      "mimetype": "text/x-python",
      "name": "python",
      "nbconvert_exporter": "python",
      "pygments_lexer": "ipython3",
      "version": "3.8.0"
    },
    "colab": {
      "name": "GabrielCantanelliFinalExamAnswers.ipynb",
      "provenance": [],
      "collapsed_sections": []
    }
  },
  "cells": [
    {
      "cell_type": "markdown",
      "metadata": {
        "id": "75FKynF2eRgi",
        "colab_type": "text"
      },
      "source": [
        "# Final Exam\n",
        "\n",
        "[![Open In Colab](https://colab.research.google.com/assets/colab-badge.svg)](https://colab.research.google.com/github//afarbin/DATA1401-Spring-2020/blob/master/Exams/Final/Final.ipynb)"
      ]
    },
    {
      "cell_type": "markdown",
      "metadata": {
        "id": "KXn5TOS-eRgm",
        "colab_type": "text"
      },
      "source": [
        "Recall the drawing system from lecture 18:"
      ]
    },
    {
      "cell_type": "code",
      "metadata": {
        "id": "IWvMlMkAeRgq",
        "colab_type": "code",
        "colab": {}
      },
      "source": [
        "class Canvas:\n",
        "    def __init__(self, width, height):\n",
        "        self.width = width\n",
        "        self.height = height\n",
        "        #length*width number of data points\n",
        "        self.data = [[' '] * width for i in range(height)]\n",
        "\n",
        "    def set_pixel(self, col, row, char='*'):\n",
        "        self.data[row][col] = char\n",
        "\n",
        "    def get_pixel(self, col, row):\n",
        "        return self.data[row][col]\n",
        "    \n",
        "    #can handle w>0 or w<0 (draw left or right)\n",
        "    def h_line(self, x, y, w, **kargs):\n",
        "      if w>0:\n",
        "        for i in range(x,x+w):\n",
        "            self.set_pixel(i,y, **kargs)\n",
        "      else:\n",
        "        for i in range(x+w,x):\n",
        "            self.set_pixel(i,y, **kargs)\n",
        "\n",
        "    #can handle h>0 or h<0 (draw up or down)\n",
        "    def v_line(self, x, y, h, **kargs):\n",
        "      if h>0:\n",
        "        for i in range(y,y+h):\n",
        "            self.set_pixel(x,i, **kargs)\n",
        "      else:\n",
        "        for i in range(y+h,y):\n",
        "            self.set_pixel(x,i, **kargs)\n",
        "            \n",
        "    #can draw the same line from either starting point      \n",
        "    def line(self, x1, y1, x2, y2, **kargs): \n",
        "      #going from x1 to x2 -> only need to check if x1<x2; otherwise, switch the points\n",
        "        if x1>x2:\n",
        "          x2_temp = x2\n",
        "          y2_temp = y2\n",
        "          x2 = x1\n",
        "          y2 = y1\n",
        "          x1 = x2_temp\n",
        "          y1 = y2_temp\n",
        "           \n",
        "        slope = (y2-y1) / (x2-x1)\n",
        "        b = y1-slope*x1\n",
        "        for x in range(x1,x2):\n",
        "            y = int(slope*x+b)\n",
        "            self.set_pixel(x,y, **kargs)\n",
        "        \n",
        "            \n",
        "    def display(self):\n",
        "        print(\"\\n\".join([\"\".join(row) for row in self.data]))"
      ],
      "execution_count": 0,
      "outputs": []
    },
    {
      "cell_type": "code",
      "metadata": {
        "id": "LehCq-OreRg7",
        "colab_type": "code",
        "colab": {}
      },
      "source": [
        "#Base class 'Shape'\n",
        "class Shape:\n",
        "    def __init__(self, name=\"\", **kwargs):\n",
        "        self.name=name\n",
        "        self.kwargs=kwargs\n",
        "    \n",
        "    def paint(self, canvas): pass\n",
        "\n",
        "class Rectangle(Shape):\n",
        "    def __init__(self, x, y, w, h, **kwargs):\n",
        "        Shape.__init__(self, **kwargs)\n",
        "        self.x = x\n",
        "        self.y = y\n",
        "        self.w = w\n",
        "        self.h = h\n",
        "\n",
        "    def paint(self, canvas):\n",
        "        canvas.h_line(self.x, self.y, self.w, **self.kwargs)\n",
        "        canvas.h_line(self.x, self.y + self.h, self.w, **self.kwargs)\n",
        "        canvas.v_line(self.x, self.y, self.h, **self.kwargs)\n",
        "        canvas.v_line(self.x + self.w, self.y, self.h, **self.kwargs)\n",
        "\n",
        "class Square(Rectangle):\n",
        "    def __init__(self, x, y, size, **kwargs):\n",
        "        Rectangle.__init__(self, x, y, size, size, **kwargs)\n",
        "\n",
        "class Line(Shape):\n",
        "    def __init__(self, x1, y1, x2, y2,  **kwargs):\n",
        "        Shape.__init__(self, **kwargs)\n",
        "        self.x1=x1\n",
        "        self.y1=y1\n",
        "        self.x2=x2\n",
        "        self.y2=y2\n",
        "        \n",
        "    def paint(self, canvas):\n",
        "        canvas.line(self.x1,self.y1,self.x2,self.y2)\n",
        "\n",
        "#class for a collection of shapes\n",
        "class CompoundShape(Shape):\n",
        "    def __init__(self, shapes):\n",
        "        self.shapes = shapes\n",
        "\n",
        "    def paint(self, canvas):\n",
        "        for s in self.shapes:\n",
        "            s.paint(canvas)"
      ],
      "execution_count": 0,
      "outputs": []
    },
    {
      "cell_type": "code",
      "metadata": {
        "id": "yGy6h348eRhE",
        "colab_type": "code",
        "colab": {}
      },
      "source": [
        "#saves shapes into the object\n",
        "class RasterDrawing:\n",
        "    def __init__(self):\n",
        "        self.shapes=dict()\n",
        "        self.shape_names=list()\n",
        "        \n",
        "    def add_shape(self,shape):\n",
        "        if shape.name == \"\":\n",
        "            shape.name = self.assign_name()\n",
        "        \n",
        "        self.shapes[shape.name]=shape\n",
        "        self.shape_names.append(shape.name)\n",
        "        \n",
        "    def paint(self,canvas):\n",
        "        for shape_name in self.shape_names:\n",
        "            self.shapes[shape_name].paint(canvas)\n",
        "            \n",
        "    def assign_name(self):\n",
        "        name_base=\"shape\"\n",
        "        name = name_base+\"_0\"\n",
        "        \n",
        "        i=1\n",
        "        while name in self.shapes:\n",
        "            name = name_base+\"_\"+str(i)\n",
        "            i+=1\n",
        "\n",
        "        return name"
      ],
      "execution_count": 0,
      "outputs": []
    },
    {
      "cell_type": "markdown",
      "metadata": {
        "id": "fKWN_3SKeRhQ",
        "colab_type": "text"
      },
      "source": [
        "1. Add `Point` and `Triangle` classes and test them."
      ]
    },
    {
      "cell_type": "code",
      "metadata": {
        "id": "H095-YhceRhS",
        "colab_type": "code",
        "colab": {}
      },
      "source": [
        "class Point(Shape):\n",
        "  def __init__(self,x,y,name=\"Point\"):\n",
        "    self.x = x\n",
        "    self.y = y\n",
        "    Shape.__init__(self,name)\n",
        "\n",
        "  def paint(self,canvas):\n",
        "    canvas.set_pixel(self.x,self.y)\n",
        "    \n",
        "class Triangle(Shape):\n",
        "  def __init__(self,x,y,w,h,name=\"Triangle\"):\n",
        "    self.x = x\n",
        "    self.y = y\n",
        "    self.w = w\n",
        "    self.h = h\n",
        "    Shape.__init__(self,name)\n",
        "\n",
        "  def paint(self,canvas):\n",
        "    canvas.v_line(self.x,self.y,self.h)\n",
        "    canvas.h_line(self.x,self.y+self.h,self.w)\n",
        "    canvas.line(self.x,self.y,self.x+self.w,self.y+self.h)\n",
        "    #add extra point to the end of the horizontal line to complete the triangle picture\n",
        "    canvas.set_pixel(self.x+self.w,self.y+self.h)"
      ],
      "execution_count": 0,
      "outputs": []
    },
    {
      "cell_type": "code",
      "metadata": {
        "id": "NnOykyubw-YP",
        "colab_type": "code",
        "outputId": "ae277f4d-9e0a-4c40-c183-f59fa34df008",
        "colab": {
          "base_uri": "https://localhost:8080/",
          "height": 201
        }
      },
      "source": [
        "slate = Canvas(10,10)\n",
        "point1 = Point(0,0)\n",
        "point2 = Point(0,9)\n",
        "point3 = Point(9,9)\n",
        "point4 = Point(9,0)\n",
        "point5 = Point(4,4)\n",
        "\n",
        "point1.paint(slate)\n",
        "point2.paint(slate)\n",
        "point3.paint(slate)\n",
        "point4.paint(slate)\n",
        "point5.paint(slate)\n",
        "\n",
        "slate.display()"
      ],
      "execution_count": 5,
      "outputs": [
        {
          "output_type": "stream",
          "text": [
            "*        *\n",
            "          \n",
            "          \n",
            "          \n",
            "    *     \n",
            "          \n",
            "          \n",
            "          \n",
            "          \n",
            "*        *\n"
          ],
          "name": "stdout"
        }
      ]
    },
    {
      "cell_type": "code",
      "metadata": {
        "id": "k7xZEO_plcXc",
        "colab_type": "code",
        "outputId": "72a3c72b-fd94-48d5-d5fa-0f04cde6fb25",
        "colab": {
          "base_uri": "https://localhost:8080/",
          "height": 384
        }
      },
      "source": [
        "slate = Canvas(40,20)\n",
        "triangle = Triangle(1,5,6,-3)\n",
        "triangle2 = Triangle(1,10,5,4)\n",
        "triangle.paint(slate)\n",
        "triangle2.paint(slate)\n",
        "slate.display()"
      ],
      "execution_count": 6,
      "outputs": [
        {
          "output_type": "stream",
          "text": [
            "                                        \n",
            "                                        \n",
            " *******                                \n",
            " *  **                                  \n",
            " ***                                    \n",
            " *                                      \n",
            "                                        \n",
            "                                        \n",
            "                                        \n",
            "                                        \n",
            " **                                     \n",
            " * *                                    \n",
            " *  *                                   \n",
            " *   *                                  \n",
            " ******                                 \n",
            "                                        \n",
            "                                        \n",
            "                                        \n",
            "                                        \n",
            "                                        \n"
          ],
          "name": "stdout"
        }
      ]
    },
    {
      "cell_type": "code",
      "metadata": {
        "id": "ta_1JiDgM0ns",
        "colab_type": "code",
        "colab": {
          "base_uri": "https://localhost:8080/",
          "height": 384
        },
        "outputId": "64c0abf3-375f-4954-c6a3-c4a97e10e38d"
      },
      "source": [
        "slate = Canvas(40,20)\n",
        "triangle3 = Triangle(10,5,-5,9)\n",
        "triangle4 = Triangle(20,10,-6,-6)\n",
        "triangle3.paint(slate)\n",
        "triangle4.paint(slate)\n",
        "slate.display()"
      ],
      "execution_count": 7,
      "outputs": [
        {
          "output_type": "stream",
          "text": [
            "                                        \n",
            "                                        \n",
            "                                        \n",
            "                                        \n",
            "              *******                   \n",
            "          *    *    *                   \n",
            "         **     *   *                   \n",
            "          *      *  *                   \n",
            "        * *       * *                   \n",
            "          *        **                   \n",
            "       *  *                             \n",
            "          *                             \n",
            "      *   *                             \n",
            "          *                             \n",
            "     *****                              \n",
            "                                        \n",
            "                                        \n",
            "                                        \n",
            "                                        \n",
            "                                        \n"
          ],
          "name": "stdout"
        }
      ]
    },
    {
      "cell_type": "markdown",
      "metadata": {
        "id": "412GSeWCeRhi",
        "colab_type": "text"
      },
      "source": [
        "2. Add an `Arc` class that is instantiated with a center location, two axis lengths, and starting and ending angles. If start and end are not specified or are the same angle, the `Arc` instance should draw an oval. If in addition the two axes are the same, the `Arc` instance should draw a circle. Create `Oval` and `Circle` classes that inherit from `Arc`. Test everything."
      ]
    },
    {
      "cell_type": "code",
      "metadata": {
        "id": "DLtH7eKPeRhk",
        "colab_type": "code",
        "colab": {}
      },
      "source": [
        "import math\n",
        "pi = math.pi\n",
        "sqrt = math.sqrt\n",
        "cos = math.cos\n",
        "sin = math.sin\n",
        "\n",
        "\n",
        "class Arc(Shape):\n",
        "  def __init__(self,x,y,a,b,realistic=False,name=\"Arc\",theta1=0,theta2=2*pi,n=15):\n",
        "    #if a proportional circle (a=b) is wanted then points will be generated \n",
        "    #to form a proportional circle, even though they will actually be points \n",
        "    #on an ellipse (uneven 'pixel' spacing for x and y directions)\n",
        "    if realistic and a==b:\n",
        "      self.a = 2*a\n",
        "    else:\n",
        "      self.a = a\n",
        "    self.b = b\n",
        "    self.x = x\n",
        "    self.y = y\n",
        "    self.n = n\n",
        "    if theta1==theta2:\n",
        "      theta1=0\n",
        "      theta2=2*pi\n",
        "    self.theta1 = theta1\n",
        "    self.theta2 = theta2\n",
        "    self.realistic = realistic\n",
        "    Shape.__init__(self,name)\n",
        "\n",
        "  #calculates points (x,y) based on polar coordinates (rcos(theta),rsin(theta))\n",
        "  def paint(self,canvas):\n",
        "    #create a list of angular steps to sweep out the arc\n",
        "    step = (self.theta2-self.theta1)/self.n\n",
        "    angle_list = [self.theta1+step*i for i in range(0,self.n+1)]  \n",
        "\n",
        "    #generating list of points on the ellipse centered at the origin\n",
        "    point_list = list()\n",
        "    for angle in angle_list:\n",
        "      point = list()\n",
        "      r = 1/sqrt(pow((cos(angle)/self.a),2)+pow((sin(angle)/self.b),2))\n",
        "      point = [r*cos(angle),r*sin(angle)]\n",
        "      point_list.append(point)\n",
        "\n",
        "    #shifting the points to be centered at (x,y)\n",
        "    shifted_points = list()\n",
        "    for point in point_list:\n",
        "      shifted_point = [point[0]+self.x,point[1]+self.y]\n",
        "      shifted_points.append(shifted_point)\n",
        "    \n",
        "    #puts the shifted points on the canvas\n",
        "    for shifted_point in shifted_points:\n",
        "      canvas.set_pixel(int(shifted_point[0]),int(shifted_point[1]))\n",
        "\n",
        "\n",
        "class Circle(Arc):\n",
        "  def __init__(self,x,y,r,realistic=False,name=\"Circle\"):\n",
        "    Arc.__init__(self,x,y,r,r,realistic,name)\n",
        "    self.r = r\n",
        "    \n",
        "class Oval(Arc):\n",
        "  def __init(self,x,y,a,b,name=\"Oval\"):\n",
        "    Arc.__init__(self,x,y,a,b,False,name)"
      ],
      "execution_count": 0,
      "outputs": []
    },
    {
      "cell_type": "markdown",
      "metadata": {
        "id": "zb4KLxyj3j5T",
        "colab_type": "text"
      },
      "source": [
        ""
      ]
    },
    {
      "cell_type": "code",
      "metadata": {
        "id": "KQwx4rsaImth",
        "colab_type": "code",
        "outputId": "e3ea2619-dc07-4e3d-83bf-7f81235be631",
        "colab": {
          "base_uri": "https://localhost:8080/",
          "height": 384
        }
      },
      "source": [
        "#no angle specified \n",
        "slate = Canvas(20,20)\n",
        "arc = Arc(10,10,8,6)\n",
        "arc.paint(slate)\n",
        "slate.display()"
      ],
      "execution_count": 9,
      "outputs": [
        {
          "output_type": "stream",
          "text": [
            "                    \n",
            "                    \n",
            "                    \n",
            "                    \n",
            "      *  * *        \n",
            "    *         *     \n",
            "                *   \n",
            "                    \n",
            "  *                 \n",
            "                  * \n",
            "                  * \n",
            "  *                 \n",
            "                    \n",
            "                *   \n",
            "    *         *     \n",
            "      *  * *        \n",
            "                    \n",
            "                    \n",
            "                    \n",
            "                    \n"
          ],
          "name": "stdout"
        }
      ]
    },
    {
      "cell_type": "code",
      "metadata": {
        "id": "Q_LFGfPfIbM_",
        "colab_type": "code",
        "outputId": "5edcb428-b8d2-4809-9cbd-dec05e91a832",
        "colab": {
          "base_uri": "https://localhost:8080/",
          "height": 384
        }
      },
      "source": [
        "#same start and end angle\n",
        "slate = Canvas(20,20)\n",
        "arc = Arc(10,10,8,6,theta1=0,theta2=0)\n",
        "arc.paint(slate)\n",
        "slate.display()"
      ],
      "execution_count": 10,
      "outputs": [
        {
          "output_type": "stream",
          "text": [
            "                    \n",
            "                    \n",
            "                    \n",
            "                    \n",
            "      *  * *        \n",
            "    *         *     \n",
            "                *   \n",
            "                    \n",
            "  *                 \n",
            "                  * \n",
            "                  * \n",
            "  *                 \n",
            "                    \n",
            "                *   \n",
            "    *         *     \n",
            "      *  * *        \n",
            "                    \n",
            "                    \n",
            "                    \n",
            "                    \n"
          ],
          "name": "stdout"
        }
      ]
    },
    {
      "cell_type": "code",
      "metadata": {
        "id": "o71CTvJmuyBz",
        "colab_type": "code",
        "outputId": "8ca21c4e-fff0-4490-83bb-ac102428a34c",
        "colab": {
          "base_uri": "https://localhost:8080/",
          "height": 384
        }
      },
      "source": [
        "#since the +y direction is downwards on the canvas, the arc gets drawn in the opposite direction,\n",
        "#but the points are correct on a normally oriented plane\n",
        "\n",
        "#arc is from 0 to pi \n",
        "slate = Canvas(20,20)\n",
        "arc = Arc(10,10,8,6,theta1=0,theta2=pi)\n",
        "arc.paint(slate)\n",
        "slate.display()"
      ],
      "execution_count": 11,
      "outputs": [
        {
          "output_type": "stream",
          "text": [
            "                    \n",
            "                    \n",
            "                    \n",
            "                    \n",
            "                    \n",
            "                    \n",
            "                    \n",
            "                    \n",
            "                    \n",
            "                    \n",
            "  *               * \n",
            "  *              *  \n",
            "                    \n",
            "   *            *   \n",
            "    **        **    \n",
            "      * **** *      \n",
            "                    \n",
            "                    \n",
            "                    \n",
            "                    \n"
          ],
          "name": "stdout"
        }
      ]
    },
    {
      "cell_type": "code",
      "metadata": {
        "id": "yS79DOsoJkiy",
        "colab_type": "code",
        "outputId": "8580b7ed-2629-4cc5-ed13-eb188a8f3151",
        "colab": {
          "base_uri": "https://localhost:8080/",
          "height": 384
        }
      },
      "source": [
        "#points of a circle, but not proportional\n",
        "slate = Canvas(20,20)\n",
        "arc = Arc(10,10,8,8)\n",
        "arc.paint(slate)\n",
        "slate.display()"
      ],
      "execution_count": 12,
      "outputs": [
        {
          "output_type": "stream",
          "text": [
            "                    \n",
            "                    \n",
            "         *  *       \n",
            "     *              \n",
            "               *    \n",
            "   *                \n",
            "                 *  \n",
            "                    \n",
            "  *                 \n",
            "                  * \n",
            "                  * \n",
            "  *                 \n",
            "                    \n",
            "                 *  \n",
            "   *                \n",
            "               *    \n",
            "      *             \n",
            "         *  *       \n",
            "                    \n",
            "                    \n"
          ],
          "name": "stdout"
        }
      ]
    },
    {
      "cell_type": "code",
      "metadata": {
        "colab_type": "code",
        "id": "nOm2GxjvJ0xk",
        "outputId": "a7a2359d-37bc-4cdb-ea73-56dde69d981b",
        "colab": {
          "base_uri": "https://localhost:8080/",
          "height": 752
        }
      },
      "source": [
        "#draws proportional circle, same radius from previous cell\n",
        "slate = Canvas(40,40)\n",
        "arc = Arc(20,20,8,8,True)\n",
        "arc.paint(slate)\n",
        "slate.display()"
      ],
      "execution_count": 13,
      "outputs": [
        {
          "output_type": "stream",
          "text": [
            "                                        \n",
            "                                        \n",
            "                                        \n",
            "                                        \n",
            "                                        \n",
            "                                        \n",
            "                                        \n",
            "                                        \n",
            "                                        \n",
            "                                        \n",
            "                                        \n",
            "                                        \n",
            "               *   *  *   *             \n",
            "          *                             \n",
            "                               *        \n",
            "                                        \n",
            "     *                                  \n",
            "                                        \n",
            "                                        \n",
            "                                    *   \n",
            "                                    *   \n",
            "                                        \n",
            "                                        \n",
            "     *                                  \n",
            "                                        \n",
            "                               *        \n",
            "          *                             \n",
            "               *   *  *   *             \n",
            "                                        \n",
            "                                        \n",
            "                                        \n",
            "                                        \n",
            "                                        \n",
            "                                        \n",
            "                                        \n",
            "                                        \n",
            "                                        \n",
            "                                        \n",
            "                                        \n",
            "                                        \n"
          ],
          "name": "stdout"
        }
      ]
    },
    {
      "cell_type": "code",
      "metadata": {
        "id": "iC_8xtprALCa",
        "colab_type": "code",
        "outputId": "966bab32-fd25-45f0-c334-15aeb2c3d27c",
        "colab": {
          "base_uri": "https://localhost:8080/",
          "height": 384
        }
      },
      "source": [
        "#proportions look off because of pixel spacing, but the points are that of a circle\n",
        "slate = Canvas(20,20)\n",
        "circle = Circle(8,7,4)\n",
        "circle.paint(slate)\n",
        "slate.display()"
      ],
      "execution_count": 14,
      "outputs": [
        {
          "output_type": "stream",
          "text": [
            "                    \n",
            "                    \n",
            "                    \n",
            "     * * *          \n",
            "    *     *         \n",
            "           *        \n",
            "    *       *       \n",
            "    *       *       \n",
            "           *        \n",
            "    *     *         \n",
            "      ** *          \n",
            "                    \n",
            "                    \n",
            "                    \n",
            "                    \n",
            "                    \n",
            "                    \n",
            "                    \n",
            "                    \n",
            "                    \n"
          ],
          "name": "stdout"
        }
      ]
    },
    {
      "cell_type": "code",
      "metadata": {
        "id": "lwYxZIAYJCkW",
        "colab_type": "code",
        "outputId": "be117dac-c96d-4c9d-f191-08cfda13f06e",
        "colab": {
          "base_uri": "https://localhost:8080/",
          "height": 384
        }
      },
      "source": [
        "#draws proportional circle\n",
        "slate = Canvas(20,20)\n",
        "circle = Circle(8,7,4,True)\n",
        "circle.paint(slate)\n",
        "slate.display()"
      ],
      "execution_count": 15,
      "outputs": [
        {
          "output_type": "stream",
          "text": [
            "                    \n",
            "                    \n",
            "                    \n",
            "   * * * * *        \n",
            "             *      \n",
            "*                   \n",
            "                *   \n",
            "                *   \n",
            "*                   \n",
            "             *      \n",
            "   * * * * *        \n",
            "                    \n",
            "                    \n",
            "                    \n",
            "                    \n",
            "                    \n",
            "                    \n",
            "                    \n",
            "                    \n",
            "                    \n"
          ],
          "name": "stdout"
        }
      ]
    },
    {
      "cell_type": "code",
      "metadata": {
        "id": "N0qiXHxqznMJ",
        "colab_type": "code",
        "outputId": "85a42e9d-a87b-46d2-a443-aa1681ec578b",
        "colab": {
          "base_uri": "https://localhost:8080/",
          "height": 384
        }
      },
      "source": [
        "slate = Canvas(20,20)\n",
        "oval = Oval(10,12,4,7)\n",
        "oval.paint(slate)\n",
        "slate.display()"
      ],
      "execution_count": 16,
      "outputs": [
        {
          "output_type": "stream",
          "text": [
            "                    \n",
            "                    \n",
            "                    \n",
            "                    \n",
            "                    \n",
            "         * *        \n",
            "                    \n",
            "       *            \n",
            "             *      \n",
            "      *             \n",
            "             *      \n",
            "      *       *     \n",
            "      *       *     \n",
            "             *      \n",
            "      *             \n",
            "             *      \n",
            "       *            \n",
            "                    \n",
            "         * *        \n",
            "                    \n"
          ],
          "name": "stdout"
        }
      ]
    },
    {
      "cell_type": "markdown",
      "metadata": {
        "id": "o0XgrW21eRhy",
        "colab_type": "text"
      },
      "source": [
        "3. Use your classes to create a `RasterDrawing` that draws a happy face."
      ]
    },
    {
      "cell_type": "code",
      "metadata": {
        "id": "oQZyTz6qeRh1",
        "colab_type": "code",
        "outputId": "01986cdf-eb7e-46e6-9e5b-d67a56915b2d",
        "colab": {
          "base_uri": "https://localhost:8080/",
          "height": 384
        }
      },
      "source": [
        "slate = Canvas(25,20)\n",
        "CoolDrawing = RasterDrawing()\n",
        "\n",
        "eye1 = Oval(6,5,4,2,name=\"eye1\")\n",
        "eye2 = Oval(18,5,4,2,name=\"eye2\")\n",
        "nose = Rectangle(7,7,5,1)\n",
        "smile = Arc(11,9,7,3,name=\"smile\",theta1=0,theta2=pi)\n",
        "\n",
        "CoolDrawing.add_shape(eye1)\n",
        "CoolDrawing.add_shape(eye2)\n",
        "CoolDrawing.add_shape(nose)\n",
        "CoolDrawing.add_shape(smile)\n",
        "\n",
        "CoolDrawing.paint(slate)\n",
        "slate.display()"
      ],
      "execution_count": 17,
      "outputs": [
        {
          "output_type": "stream",
          "text": [
            "                         \n",
            "                         \n",
            "                         \n",
            "   ******      ******    \n",
            "  *       *   *       *  \n",
            "  *       *   *       *  \n",
            "   ******      ******    \n",
            "       ******            \n",
            "       *****             \n",
            "    *             *      \n",
            "    *            *       \n",
            "      **********         \n",
            "                         \n",
            "                         \n",
            "                         \n",
            "                         \n",
            "                         \n",
            "                         \n",
            "                         \n",
            "                         \n"
          ],
          "name": "stdout"
        }
      ]
    },
    {
      "cell_type": "markdown",
      "metadata": {
        "id": "1A5SyETPeRh_",
        "colab_type": "text"
      },
      "source": [
        "4. Add to the `Shape` base class a `__str__()` method. Overwrite the method in each shape to generate a string of the python code necessary to reinstantiate the object. For example, for a rectangle originally instantiated using `Square(5,5,20,char=\"^\")`, `__str__()` should return the string `'Square(5,5,20,char=\"^\")'`.\n"
      ]
    },
    {
      "cell_type": "code",
      "metadata": {
        "id": "0fdEAk9feRiC",
        "colab_type": "code",
        "colab": {}
      },
      "source": [
        "class Shape:\n",
        "    def __init__(self, name=\"\", **kwargs):\n",
        "        self.name=name\n",
        "        self.kwargs=kwargs\n",
        "    \n",
        "    def paint(self, canvas): \n",
        "      pass\n",
        "\n",
        "    def __str__(self):\n",
        "      pass"
      ],
      "execution_count": 0,
      "outputs": []
    },
    {
      "cell_type": "code",
      "metadata": {
        "id": "5YYVjv52oKNH",
        "colab_type": "code",
        "colab": {}
      },
      "source": [
        "class Rectangle(Shape):\n",
        "    def __init__(self, x, y, w, h, **kwargs):\n",
        "        Shape.__init__(self, **kwargs)\n",
        "        self.x = x\n",
        "        self.y = y\n",
        "        self.w = w\n",
        "        self.h = h\n",
        "    \n",
        "    def __str__(self):\n",
        "        return \"Rectangle\"+\"(\"+str(self.x)+\",\"+str(self.y)+\",\"+str(self.w)+\",\"\\\n",
        "                            +str(self.h)+\",name=\\\"\"+str(self.name)+\"\\\")\"\n",
        "\n",
        "    def paint(self, canvas):\n",
        "        canvas.h_line(self.x, self.y, self.w, **self.kwargs)\n",
        "        canvas.h_line(self.x, self.y + self.h, self.w, **self.kwargs)\n",
        "        canvas.v_line(self.x, self.y, self.h, **self.kwargs)\n",
        "        canvas.v_line(self.x + self.w, self.y, self.h, **self.kwargs)\n",
        "\n",
        "class Square(Rectangle):\n",
        "    def __init__(self, x, y, size, **kwargs):\n",
        "        Rectangle.__init__(self, x, y, size, size, **kwargs)\n",
        "        self.size = size\n",
        "    \n",
        "    def __str__(self):\n",
        "        return \"Square\"+\"(\"+str(self.x)+\",\"+str(self.y)+\",\"+str(self.size)+\\\n",
        "                          \",name=\\\"\"+str(self.name)+\"\\\")\"\n",
        "\n",
        "class Line(Shape):\n",
        "    def __init__(self, x1, y1, x2, y2,  **kwargs):\n",
        "        Shape.__init__(self, **kwargs)\n",
        "        self.x1=x1\n",
        "        self.y1=y1\n",
        "        self.x2=x2\n",
        "        self.y2=y2\n",
        "\n",
        "    def __str__(self):\n",
        "        return \"Line\"+\"(\"+str(self.x1)+\",\"+str(self.y1)+\",\"+str(self.x2)+\",\"\\\n",
        "                        +str(self.y2)+\",name=\\\"\"+str(self.name)+\"\\\")\"\n",
        "        \n",
        "    def paint(self, canvas):\n",
        "        canvas.line(self.x1,self.y1,self.x2,self.y2)\n",
        "\n",
        "#class for a collection of shapes\n",
        "class CompoundShape(Shape):\n",
        "    def __init__(self, shapes):\n",
        "        self.shapes = shapes\n",
        "    \n",
        "    def __str__(self):\n",
        "        string_list = [s.__str__() for s in self.shapes]\n",
        "        return string_list\n",
        "\n",
        "    def paint(self, canvas):\n",
        "        for s in self.shapes:\n",
        "            s.paint(canvas)"
      ],
      "execution_count": 0,
      "outputs": []
    },
    {
      "cell_type": "code",
      "metadata": {
        "id": "CZlDmdceZ76H",
        "colab_type": "code",
        "colab": {}
      },
      "source": [
        "class Point(Shape):\n",
        "  def __init__(self,x,y,name=\"Point\"):\n",
        "    self.x = x\n",
        "    self.y = y\n",
        "    Shape.__init__(self,name)\n",
        "\n",
        "  def __str__(self):\n",
        "    return \"Point\"+\"(\"+str(self.x)+\",\"+str(self.y)+\",\\\"\"+str(self.name)+\"\\\")\"\n",
        "\n",
        "  def paint(self,canvas):\n",
        "    canvas.set_pixel(self.x,self.y)\n",
        "\n",
        "    \n",
        "class Triangle(Shape):\n",
        "  def __init__(self,x,y,w,h,name=\"Triangle\"):\n",
        "    self.x = x\n",
        "    self.y = y\n",
        "    self.w = w\n",
        "    self.h = h\n",
        "    Shape.__init__(self,name)\n",
        "\n",
        "  def __str__(self):\n",
        "    return \"Triangle\"+\"(\"+str(self.x)+\",\"+str(self.y)+\",\"+str(self.w)+\",\"\\\n",
        "                        +str(self.h)+\",\\\"\"+str(self.name)+\"\\\")\"\n",
        "\n",
        "  def paint(self,canvas):\n",
        "    canvas.v_line(self.x,self.y,self.h)\n",
        "    canvas.h_line(self.x,self.y+self.h,self.w)\n",
        "    canvas.line(self.x,self.y,self.x+self.w,self.y+self.h)\n",
        "    canvas.set_pixel(self.x+self.w,self.y+self.h)\n",
        "\n",
        "\n",
        "class Arc(Shape):\n",
        "  def __init__(self,x,y,a,b,realistic=False,name=\"Arc\",theta1=0,theta2=2*pi,n=15):\n",
        "    if realistic and a==b:\n",
        "      self.a = 2*a\n",
        "    else:\n",
        "      self.a = a\n",
        "    self.b = b\n",
        "    self.x = x\n",
        "    self.y = y\n",
        "    self.n = n\n",
        "    if theta1==theta2:\n",
        "      theta1=0\n",
        "      theta2=2*pi\n",
        "    self.theta1 = theta1\n",
        "    self.theta2 = theta2\n",
        "    self.realistic = realistic\n",
        "    Shape.__init__(self,name)\n",
        "  \n",
        "  def __str__(self):\n",
        "    return \"Arc\"+\"(\"+str(self.x)+\",\"+str(self.y)+\",\"+str(self.a)+\",\"\\\n",
        "                    +str(self.b)+\",\"+str(self.realistic)+\",\\\"\"+str(self.name)+\"\\\",\"\\\n",
        "                    +str(self.theta1)+\",\"+str(self.theta2)+\",\"+str(self.n)+\")\"\n",
        "                            \n",
        "\n",
        "  def paint(self,canvas):\n",
        "    step = (self.theta2-self.theta1)/self.n\n",
        "    angle_list = [self.theta1+step*i for i in range(0,self.n+1)]  \n",
        "\n",
        "    point_list = list()\n",
        "    for angle in angle_list:\n",
        "      point = list()\n",
        "      r = 1/sqrt(pow((cos(angle)/self.a),2)+pow((sin(angle)/self.b),2))\n",
        "      point = [r*cos(angle),r*sin(angle)]\n",
        "      point_list.append(point)\n",
        "\n",
        "    shifted_points = list()\n",
        "    for point in point_list:\n",
        "      shifted_point = [point[0]+self.x,point[1]+self.y]\n",
        "      shifted_points.append(shifted_point)\n",
        "    \n",
        "    for shifted_point in shifted_points:\n",
        "      canvas.set_pixel(int(shifted_point[0]),int(shifted_point[1]))\n",
        "\n",
        "\n",
        "class Circle(Arc):\n",
        "  def __init__(self,x,y,r,realistic=False,name=\"Circle\"):\n",
        "    Arc.__init__(self,x,y,r,r,realistic,name)\n",
        "    self.r = r\n",
        "    \n",
        "  \n",
        "  def __str__(self):\n",
        "    return \"Circle\"+\"(\"+str(self.x)+\",\"+str(self.y)+\",\"+str(self.r)+\",\"\\\n",
        "                      +str(self.realistic)+\",\\\"\"+str(self.name)+\"\\\")\"\n",
        "  \n",
        "\n",
        "class Oval(Arc):\n",
        "  def __init__(self,x,y,a,b,name=\"Oval\"):\n",
        "    Arc.__init__(self,x,y,a,b,False,name)\n",
        "  \n",
        "  def __str__(self):\n",
        "    return \"Oval\"+\"(\"+str(self.x)+\",\"+str(self.y)+\",\"+str(self.a)+\",\"\\\n",
        "                      +str(self.b)+\",\\\"\"+str(self.name)+\"\\\")\""
      ],
      "execution_count": 0,
      "outputs": []
    },
    {
      "cell_type": "code",
      "metadata": {
        "id": "hj7CW5U_pedf",
        "colab_type": "code",
        "outputId": "31294fa8-71c6-4703-a025-68bfda984503",
        "colab": {
          "base_uri": "https://localhost:8080/",
          "height": 35
        }
      },
      "source": [
        "rectangle = Rectangle(5,5,12,4,name=\"tangled\")\n",
        "rectangle.__str__()"
      ],
      "execution_count": 21,
      "outputs": [
        {
          "output_type": "execute_result",
          "data": {
            "text/plain": [
              "'Rectangle(5,5,12,4,name=\"tangled\")'"
            ]
          },
          "metadata": {
            "tags": []
          },
          "execution_count": 21
        }
      ]
    },
    {
      "cell_type": "code",
      "metadata": {
        "id": "CQVyVak-p9Ez",
        "colab_type": "code",
        "outputId": "9e05aaa3-8ebd-4977-f3ef-cd695fc2d99a",
        "colab": {
          "base_uri": "https://localhost:8080/",
          "height": 35
        }
      },
      "source": [
        "square = Square(0,0,5,name=\"good\")\n",
        "square.__str__()"
      ],
      "execution_count": 22,
      "outputs": [
        {
          "output_type": "execute_result",
          "data": {
            "text/plain": [
              "'Square(0,0,5,name=\"good\")'"
            ]
          },
          "metadata": {
            "tags": []
          },
          "execution_count": 22
        }
      ]
    },
    {
      "cell_type": "code",
      "metadata": {
        "id": "qrJRYKQ7rADa",
        "colab_type": "code",
        "outputId": "75b117ac-fb5f-4831-fda2-6ffe8a4ce540",
        "colab": {
          "base_uri": "https://localhost:8080/",
          "height": 35
        }
      },
      "source": [
        "line = Line(0,0,2,3,name=\"Straight\")\n",
        "line.__str__()"
      ],
      "execution_count": 23,
      "outputs": [
        {
          "output_type": "execute_result",
          "data": {
            "text/plain": [
              "'Line(0,0,2,3,name=\"Straight\")'"
            ]
          },
          "metadata": {
            "tags": []
          },
          "execution_count": 23
        }
      ]
    },
    {
      "cell_type": "code",
      "metadata": {
        "id": "SU03KFq9rOXg",
        "colab_type": "code",
        "outputId": "c40f31f2-e5f6-4808-e5de-edb8f438e2fa",
        "colab": {
          "base_uri": "https://localhost:8080/",
          "height": 72
        }
      },
      "source": [
        "manyshapes = CompoundShape([rectangle,square,line])\n",
        "manyshapes.__str__()"
      ],
      "execution_count": 24,
      "outputs": [
        {
          "output_type": "execute_result",
          "data": {
            "text/plain": [
              "['Rectangle(5,5,12,4,name=\"tangled\")',\n",
              " 'Square(0,0,5,name=\"good\")',\n",
              " 'Line(0,0,2,3,name=\"Straight\")']"
            ]
          },
          "metadata": {
            "tags": []
          },
          "execution_count": 24
        }
      ]
    },
    {
      "cell_type": "code",
      "metadata": {
        "id": "GzWNTkY6k7L_",
        "colab_type": "code",
        "outputId": "06ad5a61-9439-4022-e03a-a74055585170",
        "colab": {
          "base_uri": "https://localhost:8080/",
          "height": 35
        }
      },
      "source": [
        "point = Point(1,2,\"a_point\")\n",
        "point.__str__()"
      ],
      "execution_count": 25,
      "outputs": [
        {
          "output_type": "execute_result",
          "data": {
            "text/plain": [
              "'Point(1,2,\"a_point\")'"
            ]
          },
          "metadata": {
            "tags": []
          },
          "execution_count": 25
        }
      ]
    },
    {
      "cell_type": "code",
      "metadata": {
        "id": "kaj34WsFlSFA",
        "colab_type": "code",
        "outputId": "fd524a71-1ee5-4a68-d569-2b7adf99e3ec",
        "colab": {
          "base_uri": "https://localhost:8080/",
          "height": 35
        }
      },
      "source": [
        "triangle = Triangle(2,3,5,5,\"big_triangle\")\n",
        "triangle.__str__()"
      ],
      "execution_count": 26,
      "outputs": [
        {
          "output_type": "execute_result",
          "data": {
            "text/plain": [
              "'Triangle(2,3,5,5,\"big_triangle\")'"
            ]
          },
          "metadata": {
            "tags": []
          },
          "execution_count": 26
        }
      ]
    },
    {
      "cell_type": "code",
      "metadata": {
        "id": "kNMPlcR0bpoZ",
        "colab_type": "code",
        "outputId": "49809dca-16fe-45fe-d080-98b194c66b63",
        "colab": {
          "base_uri": "https://localhost:8080/",
          "height": 35
        }
      },
      "source": [
        "arc = Arc(1,1,3,4,False,\"cool_arc\",theta1=pi)\n",
        "arc.__str__()"
      ],
      "execution_count": 27,
      "outputs": [
        {
          "output_type": "execute_result",
          "data": {
            "text/plain": [
              "'Arc(1,1,3,4,False,\"cool_arc\",3.141592653589793,6.283185307179586,15)'"
            ]
          },
          "metadata": {
            "tags": []
          },
          "execution_count": 27
        }
      ]
    },
    {
      "cell_type": "code",
      "metadata": {
        "id": "rx_D6tncjc7E",
        "colab_type": "code",
        "outputId": "8170fd0f-2164-43b8-821b-00c460d604b4",
        "colab": {
          "base_uri": "https://localhost:8080/",
          "height": 35
        }
      },
      "source": [
        "oval = Oval(2,7,5,5,\"oblong\")\n",
        "oval.__str__()"
      ],
      "execution_count": 28,
      "outputs": [
        {
          "output_type": "execute_result",
          "data": {
            "text/plain": [
              "'Oval(2,7,5,5,\"oblong\")'"
            ]
          },
          "metadata": {
            "tags": []
          },
          "execution_count": 28
        }
      ]
    },
    {
      "cell_type": "code",
      "metadata": {
        "id": "MWnMf6NNje0K",
        "colab_type": "code",
        "outputId": "19a1f6d3-80f6-45ab-f5a7-c4b271ebd6b0",
        "colab": {
          "base_uri": "https://localhost:8080/",
          "height": 35
        }
      },
      "source": [
        "circle = Circle(12,12,4,True,\"round\")\n",
        "circle.__str__()"
      ],
      "execution_count": 29,
      "outputs": [
        {
          "output_type": "execute_result",
          "data": {
            "text/plain": [
              "'Circle(12,12,4,True,\"round\")'"
            ]
          },
          "metadata": {
            "tags": []
          },
          "execution_count": 29
        }
      ]
    },
    {
      "cell_type": "markdown",
      "metadata": {
        "id": "g9sfYCbpeRiH",
        "colab_type": "text"
      },
      "source": [
        "5. Add to `RasterDrawing` two functions, `save(filename)` and `load(filename)`. The save function writes the `__str__()` of all of the shapes in the drawing to a file (one shape per line). The load function, reads the file, and instantiates each object using the python `eval(expression)` function, and adds each shape to the drawing, thereby recreating a \"saved\" raster drawing. Use this functionality to save and load your happy face.\n",
        "\n",
        "   `eval` takes a string that contains a fragment of a python code and executes it. Consider the following examples: "
      ]
    },
    {
      "cell_type": "code",
      "metadata": {
        "id": "84jsi2bveRie",
        "colab_type": "code",
        "colab": {}
      },
      "source": [
        "class RasterDrawing:\n",
        "    def __init__(self):\n",
        "        self.shapes=dict()\n",
        "        self.shape_names=list()\n",
        "        \n",
        "    def add_shape(self,shape):\n",
        "        if shape.name == \"\":\n",
        "            shape.name = self.assign_name()\n",
        "        \n",
        "        self.shapes[shape.name]=shape\n",
        "        self.shape_names.append(shape.name)\n",
        "        \n",
        "    def paint(self,canvas):\n",
        "        for shape_name in self.shape_names:\n",
        "            self.shapes[shape_name].paint(canvas)\n",
        "            \n",
        "    def assign_name(self):\n",
        "        name_base=\"shape\"\n",
        "        name = name_base+\"_0\"\n",
        "        \n",
        "        i=1\n",
        "        while name in self.shapes:\n",
        "            name = name_base+\"_\"+str(i)\n",
        "            i+=1\n",
        "\n",
        "        return name\n",
        "\n",
        "    def save(self,filename):\n",
        "        shapes_file = open(filename,\"w+\")\n",
        "        for shape_name in self.shape_names:\n",
        "          shapes_file.write(self.shapes[shape_name].__str__()+\"\\n\")\n",
        "        shapes_file.close()\n",
        "\n",
        "    def load(self,filename):\n",
        "        shapes_file = open(filename,\"r\")\n",
        "        shapes_list = shapes_file.read().split(\"\\n\")\n",
        "        for shape in shapes_list:\n",
        "          if not shape==\"\":\n",
        "            self.add_shape(eval(shape))\n",
        "        shapes_file.close()"
      ],
      "execution_count": 0,
      "outputs": []
    },
    {
      "cell_type": "code",
      "metadata": {
        "id": "vxlxS7QI5OT-",
        "colab_type": "code",
        "outputId": "5db39d62-7550-47f2-d3ba-0ce7124bf26a",
        "colab": {
          "base_uri": "https://localhost:8080/",
          "height": 384
        }
      },
      "source": [
        "slate = Canvas(25,20)\n",
        "CoolDrawing = RasterDrawing()\n",
        "eye1 = Oval(6,5,4,2,name=\"eye1\")\n",
        "eye2 = Oval(18,5,4,2,name=\"eye2\")\n",
        "nose = Rectangle(7,7,5,1)\n",
        "smile = Arc(11,9,7,3,False,name=\"smile\",theta1=0,theta2=pi)\n",
        "\n",
        "CoolDrawing.add_shape(eye1)\n",
        "CoolDrawing.add_shape(eye2)\n",
        "CoolDrawing.add_shape(nose)\n",
        "CoolDrawing.add_shape(smile)\n",
        "\n",
        "CoolDrawing.paint(slate)\n",
        "slate.display()"
      ],
      "execution_count": 31,
      "outputs": [
        {
          "output_type": "stream",
          "text": [
            "                         \n",
            "                         \n",
            "                         \n",
            "   ******      ******    \n",
            "  *       *   *       *  \n",
            "  *       *   *       *  \n",
            "   ******      ******    \n",
            "       ******            \n",
            "       *****             \n",
            "    *             *      \n",
            "    *            *       \n",
            "      **********         \n",
            "                         \n",
            "                         \n",
            "                         \n",
            "                         \n",
            "                         \n",
            "                         \n",
            "                         \n",
            "                         \n"
          ],
          "name": "stdout"
        }
      ]
    },
    {
      "cell_type": "code",
      "metadata": {
        "id": "a01xn2zXazui",
        "colab_type": "code",
        "outputId": "47033798-0504-45a7-cbbc-57b430b2c38d",
        "colab": {
          "base_uri": "https://localhost:8080/",
          "height": 384
        }
      },
      "source": [
        "slate = Canvas(25,20)\n",
        "\n",
        "CoolDrawing.save(\"shapes.txt\")\n",
        "CoolDrawing2 = RasterDrawing()\n",
        "CoolDrawing2.load(\"shapes.txt\")\n",
        "CoolDrawing2.paint(slate)\n",
        "\n",
        "slate.display()"
      ],
      "execution_count": 32,
      "outputs": [
        {
          "output_type": "stream",
          "text": [
            "                         \n",
            "                         \n",
            "                         \n",
            "   ******      ******    \n",
            "  *       *   *       *  \n",
            "  *       *   *       *  \n",
            "   ******      ******    \n",
            "       ******            \n",
            "       *****             \n",
            "    *             *      \n",
            "    *            *       \n",
            "      **********         \n",
            "                         \n",
            "                         \n",
            "                         \n",
            "                         \n",
            "                         \n",
            "                         \n",
            "                         \n",
            "                         \n"
          ],
          "name": "stdout"
        }
      ]
    },
    {
      "cell_type": "code",
      "metadata": {
        "id": "9OAr1AcQeRiK",
        "colab_type": "code",
        "outputId": "e4d29e94-f6fb-4deb-9e44-d7ece85b5c60",
        "colab": {
          "base_uri": "https://localhost:8080/",
          "height": 35
        }
      },
      "source": [
        "eval(\"print('Hello')\")"
      ],
      "execution_count": 33,
      "outputs": [
        {
          "output_type": "stream",
          "text": [
            "Hello\n"
          ],
          "name": "stdout"
        }
      ]
    },
    {
      "cell_type": "code",
      "metadata": {
        "id": "Ozj89yNHeRiU",
        "colab_type": "code",
        "outputId": "1f4ce6cb-6ed8-4e79-abd3-f33db37e4675",
        "colab": {
          "base_uri": "https://localhost:8080/",
          "height": 35
        }
      },
      "source": [
        "x = eval('1+2')\n",
        "print(x)"
      ],
      "execution_count": 34,
      "outputs": [
        {
          "output_type": "stream",
          "text": [
            "3\n"
          ],
          "name": "stdout"
        }
      ]
    }
  ]
}