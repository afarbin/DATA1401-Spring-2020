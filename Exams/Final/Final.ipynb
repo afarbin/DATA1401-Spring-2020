{
 "cells": [
  {
   "cell_type": "markdown",
   "metadata": {
    "colab_type": "text",
    "id": "W7ENVyhJxDn0"
   },
   "source": [
    "# Final Exam\n",
    "\n",
    "[![Open In Colab](https://colab.research.google.com/assets/colab-badge.svg)](https://colab.research.google.com/github//afarbin/DATA1401-Spring-2020/blob/master/Exams/Final/Final.ipynb)"
   ]
  },
  {
   "cell_type": "markdown",
   "metadata": {
    "colab_type": "text",
    "id": "SJQxYcQmxDn1"
   },
   "source": [
    "Recall the drawing system from lecture 18:"
   ]
  },
  {
   "cell_type": "code",
   "execution_count": 129,
   "metadata": {
    "colab": {},
    "colab_type": "code",
    "id": "hx8t8kXaxDn1"
   },
   "outputs": [],
   "source": [
    "import math\n",
    "class Canvas:\n",
    "    def __init__(self, width, height):\n",
    "        self.width = width\n",
    "        self.height = height\n",
    "        self.data = [[' '] * width for i in range(height)]\n",
    "\n",
    "    def set_pixel(self, row, col, char='*'):\n",
    "        self.data[row][col] = char\n",
    "\n",
    "    def get_pixel(self, row, col):\n",
    "        return self.data[row][col]\n",
    "    \n",
    "    def h_line(self, x, y, w, **kargs):\n",
    "        for i in range(x,x+w):\n",
    "            self.set_pixel(i,y, **kargs)\n",
    "\n",
    "    def v_line(self, x, y, h, **kargs):\n",
    "        for i in range(y,y+h):\n",
    "            self.set_pixel(x,i, **kargs)\n",
    "            \n",
    "    def line(self, x1, y1, x2, y2, **kargs):\n",
    "        slope = (y2-y1) / (x2-x1)\n",
    "        for y in range(y1,y2):\n",
    "            x= int(slope * y)\n",
    "            self.set_pixel(x,y, **kargs)\n",
    "            \n",
    "    def display(self):\n",
    "        print(\"\\n\".join([\"\".join(row) for row in self.data]))\n",
    "        \n",
    "    def point(self,x,y,**kwargs): #question 1\n",
    "        self.set_pixel(x,y,**kwargs)\n",
    "        \n",
    "        \n",
    "    def arc(self,x,y,ax1,ax2,start,end,**kwargs): \n",
    "      \n",
    "        if ax1==ax2: \n",
    "            for i in range((2 * ax1)+1): \n",
    "   \n",
    "        # for vertical movement \n",
    "                for j in range((2 * ax1)+1): \n",
    "              \n",
    "                    dist = math.sqrt((i - ax1) * (i - ax1) + (j - ax1) * (j - ax1)) \n",
    "            \n",
    "                    if (dist > ax1 - 0.5 and dist < ax1 + 0.5):  \n",
    "                        print(\"*\",end=\"\") \n",
    "                    else: \n",
    "                        print(\" \",end=\"\")       \n",
    "                print() \n",
    "        elif (ax1!=ax2 or start==end):\n",
    "        #if (x!=y or start==end):\n",
    "            for i in range(0,ax1):\n",
    "                for j in range(0,ax2):\n",
    "                    if((j == 0 or j == ax2-1) and (i!=0 and i!=ax1-1)) :\n",
    "                        print('*',end='')  \n",
    "                    elif( ((i==0 or i==ax1-1) and (j>0 and j<ax2-1))):\n",
    "                        print('*',end='')\n",
    "                    else:\n",
    "                        print(end=' ')  \n",
    "                print()"
   ]
  },
  {
   "cell_type": "code",
   "execution_count": 130,
   "metadata": {
    "colab": {},
    "colab_type": "code",
    "id": "ySZ4l-bqxDn4"
   },
   "outputs": [],
   "source": [
    "class Shape:\n",
    "    def __init__(self, name=\"\", **kwargs):\n",
    "        self.name=name\n",
    "        self.kwargs=kwargs\n",
    "    \n",
    "    def paint(self, canvas): pass\n",
    "    \n",
    "    #def __str__(self):\n",
    "        #return str(Shape)+'('+self.name+str(self.x)+\",\"+str(self.y)+\",\"+str(self.w)+ str(self.kwargs)+ ')'\n",
    "    \n",
    "    def __str__(self):\n",
    "        return '('+self.name+str(self.x)+\",\"+str(self.y)+\",\"+str(self.w)+ str(self.kwargs)+ ')'\n",
    "    \n",
    "    def __repr__(self):\n",
    "        return self.__str__()\n",
    "\n",
    "class Rectangle(Shape):\n",
    "    def __init__(self, x, y, w, h, **kwargs):\n",
    "        Shape.__init__(self, **kwargs)\n",
    "        self.x = x\n",
    "        self.y = y\n",
    "        self.w = w\n",
    "        self.h = h\n",
    "        \n",
    "       \n",
    "    def paint(self, canvas):\n",
    "        canvas.h_line(self.x, self.y, self.w, **self.kwargs)\n",
    "        canvas.h_line(self.x, self.y + self.h, self.w, **self.kwargs)\n",
    "        canvas.v_line(self.x, self.y, self.h, **self.kwargs)\n",
    "        canvas.v_line(self.x + self.w, self.y, self.h, **self.kwargs)\n",
    "\n",
    "class Square(Rectangle):\n",
    "    def __init__(self, x, y, size, **kwargs):\n",
    "        Rectangle.__init__(self, x, y, size, size, **kwargs)\n",
    "        \n",
    "    \n",
    "\n",
    "class Line(Shape):\n",
    "    def __init__(self, x1, y1, x2, y2,  **kwargs):\n",
    "        Shape.__init__(self, **kwargs)\n",
    "        self.x1=x1\n",
    "        self.y1=y1\n",
    "        self.x2=x2\n",
    "        self.y2=y2\n",
    "        \n",
    "    def paint(self, canvas):\n",
    "        canvas.line(self.x1,self.y1,self.x2,self.y2)\n",
    "        \n",
    "class CompoundShape(Shape):\n",
    "    def __init__(self, shapes):\n",
    "        self.shapes = shapes\n",
    "\n",
    "    def paint(self, canvas):\n",
    "        for s in self.shapes:\n",
    "            s.paint(canvas)"
   ]
  },
  {
   "cell_type": "code",
   "execution_count": 149,
   "metadata": {
    "colab": {},
    "colab_type": "code",
    "id": "fJ3G1XC8xDn6"
   },
   "outputs": [],
   "source": [
    "class RasterDrawing:\n",
    "    def __init__(self,width,height):\n",
    "        self.shapes=dict()\n",
    "        self.shape_names=list()\n",
    "        self.width = width\n",
    "        self.height = height\n",
    "        self.data = [[' '] * width for i in range(height)]\n",
    "        \n",
    "    def set_pixel(self, row, col, char='*'):\n",
    "        self.data[row][col] = char\n",
    "\n",
    "    def get_pixel(self, row, col):\n",
    "        return self.data[row][col]\n",
    "        \n",
    "    def add_shape(self,shape):\n",
    "        if shape.name == \"\":\n",
    "            shape.name = self.assign_name()\n",
    "        \n",
    "        self.shapes[shape.name]=shape\n",
    "        self.shape_names.append(shape.name)\n",
    "        \n",
    "    def paint(self,canvas):\n",
    "        for shape_name in self.shape_names:\n",
    "            self.shapes[shape_name].paint(canvas)\n",
    "            \n",
    "    def assign_name(self):\n",
    "        name_base=\"shape\"\n",
    "        name = name_base+\"_0\"\n",
    "        \n",
    "        i=1\n",
    "        while name in self.shapes:\n",
    "            name = name_base+\"_\"+str(i)\n",
    "            \n",
    "        return name\n",
    "    \n",
    "    def h_line(self, x, y, w, **kargs):\n",
    "        for i in range(x,x+w):\n",
    "            self.set_pixel(i,y, **kargs)\n",
    "            \n",
    "\n",
    "    def v_line(self, x, y, h, **kargs):\n",
    "        for i in range(y,y+h):\n",
    "            self.set_pixel(x,i, **kargs)\n",
    "            \n",
    "    def line(self, x1, y1, x2, y2, **kargs):\n",
    "        slope = (y2-y1) / (x2-x1)\n",
    "        for y in range(y1,y2):\n",
    "            x= int(slope * y)\n",
    "            self.set_pixel(x,y, **kargs)\n",
    "            \n",
    "    def display(self):\n",
    "        print(\"\\n\".join([\"\".join(row) for row in self.data]))\n",
    "        \n",
    "    def point(self,x,y,**kwargs):\n",
    "        self.set_pixel(x,y,**kwargs)\n",
    "        \n",
    "        \n",
    "       \n",
    "    def arc(self,x,y,ax1,ax2,start,end,**kwargs): \n",
    "      \n",
    "        if ax1==ax2: \n",
    "            for i in range((2 * ax1)+1): \n",
    "   \n",
    "        # for vertical movement \n",
    "                for j in range((2 * ax1)+1): \n",
    "              \n",
    "                    dist = math.sqrt((i - ax1) * (i - ax1) + (j - ax1) * (j - ax1)) \n",
    "            \n",
    "                    if (dist > ax1 - 0.5 and dist < ax1 + 0.5):  \n",
    "                        print(\"*\",end=\"\") \n",
    "                    else: \n",
    "                        print(\" \",end=\"\")       \n",
    "                print() \n",
    "        elif (ax1!=ax2 or start==end):\n",
    "        #if (x!=y or start==end):\n",
    "            for i in range(0,ax1):\n",
    "                for j in range(0,ax2):\n",
    "                    if((j == 0 or j == ax2-1) and (i!=0 and i!=ax1-1)) :\n",
    "                        print('*',end='')  \n",
    "                    elif( ((i==0 or i==ax1-1) and (j>0 and j<ax2-1))):\n",
    "                        print('*',end='')\n",
    "                    else:\n",
    "                        print(end=' ')  \n",
    "                print() \n",
    "                \n",
    "#def save(filename):\n",
    "    def __str__(self):\n",
    "        return repr('rd'+self.point+'('+self.x+','+self.y+')')\n",
    "    \n",
    "\n",
    "    #def load(filename):\n",
    "        #pass"
   ]
  },
  {
   "cell_type": "markdown",
   "metadata": {
    "colab_type": "text",
    "id": "eWlsWeufxDn8"
   },
   "source": [
    "1. Add `Point` and `Triangle` classes and test them."
   ]
  },
  {
   "cell_type": "code",
   "execution_count": 132,
   "metadata": {
    "colab": {},
    "colab_type": "code",
    "id": "w_0fUG-sxDn9"
   },
   "outputs": [
    {
     "name": "stdout",
     "output_type": "stream",
     "text": [
      "          \n",
      "          \n",
      "          \n",
      "          \n",
      "     *    \n",
      "          \n",
      "          \n",
      "          \n",
      "          \n",
      "          \n"
     ]
    }
   ],
   "source": [
    "class Point:\n",
    "    def __init__(self,x,y,**kwargs):\n",
    "        self.x=x\n",
    "        self.y=y\n",
    "        self.kwargs=kwargs\n",
    "        \n",
    "    def paint(self,canvas):\n",
    "        canvas.paint\n",
    "        \n",
    "p1=Canvas(10,10)\n",
    "p1.point(4,5)\n",
    "p1.display()"
   ]
  },
  {
   "cell_type": "code",
   "execution_count": 133,
   "metadata": {},
   "outputs": [
    {
     "name": "stdout",
     "output_type": "stream",
     "text": [
      "*                   \n",
      "**                  \n",
      "* *                 \n",
      "*  *                \n",
      "*   *               \n",
      "*    *              \n",
      "*     *             \n",
      "*      *            \n",
      "*       *           \n",
      "*        *          \n",
      "***********         \n",
      "                    \n",
      "                    \n",
      "                    \n",
      "                    \n",
      "                    \n",
      "                    \n",
      "                    \n",
      "                    \n",
      "                    \n"
     ]
    }
   ],
   "source": [
    "class Triangle: \n",
    "    def __init__(self,x,y,x1,y1,x2,y2,h,w,**kwargs):\n",
    "        self.x=x\n",
    "        self.y=y\n",
    "        self.h=h+1\n",
    "        self.w=w\n",
    "        self.x1=x1\n",
    "        self.y1=y1\n",
    "        self.x2=x2\n",
    "        self.y2=y2\n",
    "        self.kwargs=kwargs\n",
    "        \n",
    "    def paint(self,canvas):\n",
    "        canvas.v_line(self.x, self.y, self.h, **self.kwargs)\n",
    "        canvas.h_line(self.x1, self.y1, self.w, **self.kwargs)\n",
    "        canvas.line(self.x1,self.y1,self.x2,self.y2,**self.kwargs)\n",
    "        \n",
    "       \n",
    "        \n",
    "c1=Canvas(20,20)\n",
    "t1=Triangle(10,0,0,0,10,10,10,10)\n",
    "t1.paint(c1)\n",
    "c1.display()"
   ]
  },
  {
   "cell_type": "markdown",
   "metadata": {
    "colab_type": "text",
    "id": "rf5I-hZOxDn_"
   },
   "source": [
    "2. Add an `Arc` class that is instantiated with a center location, two axis lengths, and starting and ending angles. If start and end are not specified or are the same angle, the `Arc` instance should draw an oval. If in addition the two axes are the same, the `Arc` instance should draw a circle. Create `Oval` and `Circle` classes that inherit from `Arc`. Test everything."
   ]
  },
  {
   "cell_type": "code",
   "execution_count": 134,
   "metadata": {
    "colab": {},
    "colab_type": "code",
    "id": "FNfB2LuQxDoA"
   },
   "outputs": [
    {
     "name": "stdout",
     "output_type": "stream",
     "text": [
      "     *****     \n",
      "   **     **   \n",
      "  *         *  \n",
      " *           * \n",
      " *           * \n",
      "*             *\n",
      "*             *\n",
      "*             *\n",
      "*             *\n",
      "*             *\n",
      " *           * \n",
      " *           * \n",
      "  *         *  \n",
      "   **     **   \n",
      "     *****     \n",
      "                    \n",
      "                    \n",
      "                    \n",
      "                    \n",
      "                    \n",
      "                    \n",
      "                    \n",
      "                    \n",
      "                    \n",
      "                    \n",
      "                    \n",
      "                    \n",
      "                    \n",
      "                    \n",
      "                    \n",
      "                    \n",
      "                    \n",
      "                    \n",
      "                    \n",
      "                    \n"
     ]
    }
   ],
   "source": [
    "class Arc(Shape):\n",
    "    def __init__(self,x,y,ax1,ax2,start,end,**kwargs):\n",
    "        Shape.__init__(self, **kwargs)\n",
    "        self.x=x\n",
    "        self.y=y\n",
    "        self.ax1=ax1\n",
    "        self.ax2=ax2\n",
    "        self.start=start\n",
    "        self.end=end\n",
    "        self.kwargs=kwargs\n",
    "    \n",
    "    def paint(self,canvas):\n",
    "        canvas.arc(self.x,self.y,self.ax1,self.ax2,self.start,self.end,**self.kwargs)\n",
    "        \n",
    "class Circle(Arc):\n",
    "    def __init__(self,x,y,ax1,ax2,start,end,**kwargs):\n",
    "        Arc.__init__(self,x,y,ax1,ax2,start,end,**kwargs)\n",
    "    \n",
    "    \n",
    "class Oval(Arc):\n",
    "    def __init__(self,x,y,ax1,ax2,start,end,**kwargs):\n",
    "        Arc.__init__(self,x,y,ax1,ax2,start,end,**kwargs)\n",
    "        \n",
    "        \n",
    "c1=Canvas(20,20)\n",
    "t1=Circle(10,10,7,7,5,5)\n",
    "t1.paint(c1)\n",
    "c1.display()\n",
    "#wont show a perfect circle but it is!!! \n",
    "#got some help from geeksforgeeks"
   ]
  },
  {
   "cell_type": "code",
   "execution_count": 135,
   "metadata": {},
   "outputs": [
    {
     "data": {
      "text/plain": [
       "[[7.0, 0.0],\n",
       " [6.893761795753681, 1.214927283176647],\n",
       " [6.578271913312289, 2.392976939823424],\n",
       " [6.0631066608382405, 3.4983907185017173],\n",
       " [5.363903247278091, 4.4976151406984055],\n",
       " [4.501885134077421, 5.360319975483993],\n",
       " [3.50321782305744, 6.060318876446411],\n",
       " [2.3982146347216524, 6.576364236096333],\n",
       " [1.2204165846172732, 6.892792130914083],\n",
       " [0.005574286975131289, 6.999997780522842],\n",
       " [-1.2094372113064926, 6.894727089008467],\n",
       " [-2.3877377274515794, 6.580175419007032]]"
      ]
     },
     "execution_count": 135,
     "metadata": {},
     "output_type": "execute_result"
    }
   ],
   "source": [
    "#extra/personal work\n",
    "import math\n",
    "import numpy as np\n",
    "def arcc(x,y,ax1,ax2,start,end,skip):\n",
    "    pi=3.14\n",
    "    new_xlst=list()\n",
    "    new_ylst=list()\n",
    "    if ax1==ax2:\n",
    "        r=ax1\n",
    "    \n",
    "    for i in range(start,end,skip):\n",
    "        i=i*(3.14/180)\n",
    "        new_x=r*math.cos(i)\n",
    "        new_y=r*math.sin(i)\n",
    "        #new_x=(new_x * 180)/pi\n",
    "        #new_x=math.(new_x)\n",
    "        #new_y=math.degrees(new_y)\n",
    "        new_xlst.append(new_x)\n",
    "        \n",
    "        new_ylst.append(new_y)\n",
    "        i+=1\n",
    "    #y=zip(new_xlst,new_ylst)\n",
    "    \n",
    "    y=list(map(list,zip(new_xlst,new_ylst)))\n",
    "    return y\n",
    "\n",
    "arcc(0,0,7,7,0,120,10)\n",
    "\n",
    "#gives you the points that would be plotted on a graph for the arc at that angle \n",
    "#in this case: 120 degree angle "
   ]
  },
  {
   "cell_type": "code",
   "execution_count": 136,
   "metadata": {},
   "outputs": [
    {
     "name": "stdout",
     "output_type": "stream",
     "text": [
      "          \n",
      "          \n",
      "      *   \n",
      "      *   \n",
      "          \n",
      "    *     \n",
      " *        \n",
      "*         \n",
      "          \n",
      "          \n"
     ]
    }
   ],
   "source": [
    "a1=Canvas(10,10)\n",
    "a1.point(7,0)\n",
    "a1.point(6,1)\n",
    "a1.point(5,4)\n",
    "a1.point(3,6)\n",
    "a1.point(2,6)\n",
    "a1.display()\n",
    "#just a few points plotted. thought it was pretty neat"
   ]
  },
  {
   "cell_type": "markdown",
   "metadata": {
    "colab_type": "text",
    "id": "MSsi376IxDoC"
   },
   "source": [
    "3. Use your classes to create a `RasterDrawing` that draws a happy face."
   ]
  },
  {
   "cell_type": "code",
   "execution_count": 137,
   "metadata": {
    "colab": {},
    "colab_type": "code",
    "id": "7vmIm3KhxDoC"
   },
   "outputs": [
    {
     "name": "stdout",
     "output_type": "stream",
     "text": [
      "     *****     \n",
      "   **     **   \n",
      "  *         *  \n",
      " *           * \n",
      " *           * \n",
      "*             *\n",
      "*             *\n",
      "*             *\n",
      "*             *\n",
      "*             *\n",
      " *           * \n",
      " *           * \n",
      "  *         *  \n",
      "   **     **   \n",
      "     *****     \n",
      "                                                  \n",
      "                                                  \n",
      "          ^^^^^^^^^^^^^^^^^^^^^                   \n",
      "          ^                   ^                   \n",
      "          ^                   ^                   \n",
      "          ^   ****     ****   ^                   \n",
      "          ^                   ^                   \n",
      "          ^    *        *     ^                   \n",
      "          ^                   ^                   \n",
      "          ^                   ^                   \n",
      "          ^         *         ^                   \n",
      "          ^         *         ^                   \n",
      "          ^        **         ^                   \n",
      "          ^                   ^                   \n",
      "          ^                   ^                   \n",
      "          ^    *         *    ^                   \n",
      "          ^    ***********    ^                   \n",
      "          ^                   ^                   \n",
      "          ^                   ^                   \n",
      "          ^                   ^                   \n",
      "          ^                   ^                   \n",
      "          ^                   ^                   \n",
      "          ^^^^^^^^^^^^^^^^^^^^                    \n",
      "                                                  \n",
      "                                                  \n",
      "                                                  \n",
      "                                                  \n",
      "                                                  \n",
      "                                                  \n",
      "                                                  \n",
      "                                                  \n",
      "                                                  \n",
      "                                                  \n",
      "                                                  \n",
      "                                                  \n",
      "                                                  \n",
      "                                                  \n",
      "                                                  \n",
      "                                                  \n",
      "                                                  \n"
     ]
    }
   ],
   "source": [
    "rd=RasterDrawing(50,40)\n",
    "#rd.add_shape(Line(5,2,10,9))\n",
    "\n",
    "rd.point(7,15)#eyes\n",
    "rd.point(7,24)#eyes\n",
    "rd.add_shape(Square(2,10,20,char=\"^\")) #use any shape from a class as basis. should be fine. \n",
    "\n",
    "rd.v_line(5,23,4)#eyebrow\n",
    "rd.v_line(5,14,4)#eyebrow\n",
    "rd.h_line(10,20,3) #nose\n",
    "rd.point(12,19)#nose\n",
    "rd.h_line(15,15,2)#mouth\n",
    "rd.v_line(16,15,10)#mouth\n",
    "rd.h_line(15,25,2)#mouth\n",
    "rd.add_shape(Circle(10,10,7,7,5,5)) #won't let me draw IN it, don't waste too much time\n",
    "# a smiley face is a smiley face i would just like to pass the class \n",
    "rd.paint(rd)\n",
    "rd.display()\n"
   ]
  },
  {
   "cell_type": "markdown",
   "metadata": {
    "colab_type": "text",
    "id": "b61X5UCUxDoF"
   },
   "source": [
    "4. Add to the `Shape` base class a `__str__()` method. Overwrite the method in each shape to generate a string of the python code necessary to reinstantiate the object. For example, for a rectangle originally instantiated using `Square(5,5,20,char=\"^\")`, `__str__()` should return the string `'Square(5,5,20,char=\"^\")'`.\n"
   ]
  },
  {
   "cell_type": "code",
   "execution_count": 138,
   "metadata": {
    "colab": {},
    "colab_type": "code",
    "id": "0VenvcTlxDoF"
   },
   "outputs": [
    {
     "data": {
      "text/plain": [
       "\"(5,5,20{'char': '^'})\""
      ]
     },
     "execution_count": 138,
     "metadata": {},
     "output_type": "execute_result"
    }
   ],
   "source": [
    "s2=Square(5,5,20,char=\"^\")\n",
    "s2.__str__() #gives the address of square instead of square itself but gets everything else..\n"
   ]
  },
  {
   "cell_type": "code",
   "execution_count": 145,
   "metadata": {},
   "outputs": [
    {
     "name": "stdout",
     "output_type": "stream",
     "text": [
      "Square(5,5,20{'char': '^'})\n"
     ]
    }
   ],
   "source": [
    "s3=Square(5,5,20,char=\"^\")\n",
    "s3.__str__() #gives the address\n",
    "r='Square'\n",
    "r+str(repr(s3)) "
   ]
  },
  {
   "cell_type": "code",
   "execution_count": 140,
   "metadata": {},
   "outputs": [
    {
     "name": "stdout",
     "output_type": "stream",
     "text": [
      "<class '__main__.Square'>\n"
     ]
    },
    {
     "data": {
      "text/plain": [
       "\"(5,5,20{'char': '^'})\""
      ]
     },
     "execution_count": 140,
     "metadata": {},
     "output_type": "execute_result"
    }
   ],
   "source": [
    "s = str(type(s2)) #<- gives the type\n",
    "print(s)\n",
    "s2.__str__()"
   ]
  },
  {
   "cell_type": "markdown",
   "metadata": {
    "colab_type": "text",
    "id": "fxxpUt-exDoH"
   },
   "source": [
    "5. Add to `RasterDrawing` two functions, `save(filename)` and `load(filename)`. The save function writes the `__str__()` of all of the shapes in the drawing to a file (one shape per line). The load function, reads the file, and instantiates each object using the python `eval(expression)` function, and adds each shape to the drawing, thereby recreating a \"saved\" raster drawing. Use this functionality to save and load your happy face.\n",
    "\n",
    "   `eval` takes a string that contains a fragment of a python code and executes it. Consider the following examples: "
   ]
  },
  {
   "cell_type": "code",
   "execution_count": 141,
   "metadata": {
    "colab": {},
    "colab_type": "code",
    "id": "Xameyp6lxDoH"
   },
   "outputs": [
    {
     "name": "stdout",
     "output_type": "stream",
     "text": [
      "Hello\n"
     ]
    }
   ],
   "source": [
    "eval(\"print('Hello')\")"
   ]
  },
  {
   "cell_type": "code",
   "execution_count": 142,
   "metadata": {
    "colab": {},
    "colab_type": "code",
    "id": "oppW4t_JxDoJ"
   },
   "outputs": [
    {
     "name": "stdout",
     "output_type": "stream",
     "text": [
      "3\n"
     ]
    }
   ],
   "source": [
    "x = eval('1+2')\n",
    "print(x)"
   ]
  },
  {
   "cell_type": "code",
   "execution_count": 148,
   "metadata": {
    "colab": {},
    "colab_type": "code",
    "id": "pK3t8QTAxDoL"
   },
   "outputs": [
    {
     "data": {
      "text/plain": [
       "__main__.Square"
      ]
     },
     "execution_count": 148,
     "metadata": {},
     "output_type": "execute_result"
    }
   ],
   "source": [
    "eval(r)"
   ]
  },
  {
   "cell_type": "code",
   "execution_count": null,
   "metadata": {},
   "outputs": [],
   "source": [
    "#been working on the exam for over 15 hours straight\n",
    "#check back on it later \n",
    "#import os\n",
    "#os.remove(\"drawing.txt\") <--HOW TO DELETE FILES\n",
    "\n",
    "#save(new_drawing)<-- \n",
    "        #__str__ of all the shapes in the drawing to a file\n",
    "    #one shape per line\n",
    "\n",
    "#load(new_drawing)"
   ]
  },
  {
   "cell_type": "code",
   "execution_count": null,
   "metadata": {},
   "outputs": [],
   "source": [
    "rd=RasterDrawing(40,40)\n",
    "#rd.add_shape(Line(5,2,10,9))\n",
    "\n",
    "rd.point(7,15)#eyes\n",
    "rd.point(7,24)#eyes\n",
    "rd.add_shape(Square(2,10,20,char=\"^\"))\n",
    "\n",
    "rd.v_line(5,23,4)#eyebrow\n",
    "rd.v_line(5,14,4)#eyebrow\n",
    "rd.h_line(10,20,3) #nose\n",
    "rd.point(12,19)#nose\n",
    "rd.h_line(15,15,2)#mouth\n",
    "rd.v_line(16,15,10)#mouth\n",
    "rd.h_line(15,25,2)#mouth\n",
    "\n",
    "rd.paint(rd)\n",
    "rd.display()\n",
    "#copy as reference\n",
    "#eval(\"rd=RasterDrawing(40,40)\")\n",
    "#eval(\"rd.point(7,15)\") <- essentially looking to get something like this\n"
   ]
  },
  {
   "cell_type": "code",
   "execution_count": 150,
   "metadata": {},
   "outputs": [
    {
     "data": {
      "text/plain": [
       "\"'None'\""
      ]
     },
     "execution_count": 150,
     "metadata": {},
     "output_type": "execute_result"
    }
   ],
   "source": [
    "s2=rd.point(7,15)\n",
    "repr(s2.__str__())"
   ]
  },
  {
   "cell_type": "code",
   "execution_count": null,
   "metadata": {},
   "outputs": [],
   "source": [
    "#^try to get it to give you what you want first and then work from there"
   ]
  }
 ],
 "metadata": {
  "colab": {
   "name": "Final.ipynb",
   "provenance": []
  },
  "kernelspec": {
   "display_name": "Python 3",
   "language": "python",
   "name": "python3"
  },
  "language_info": {
   "codemirror_mode": {
    "name": "ipython",
    "version": 3
   },
   "file_extension": ".py",
   "mimetype": "text/x-python",
   "name": "python",
   "nbconvert_exporter": "python",
   "pygments_lexer": "ipython3",
   "version": "3.7.4"
  }
 },
 "nbformat": 4,
 "nbformat_minor": 1
}
