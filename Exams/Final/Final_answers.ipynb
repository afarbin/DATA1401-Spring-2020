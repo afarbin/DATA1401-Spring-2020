{
  "nbformat": 4,
  "nbformat_minor": 0,
  "metadata": {
    "kernelspec": {
      "display_name": "Python 3",
      "language": "python",
      "name": "python3"
    },
    "language_info": {
      "codemirror_mode": {
        "name": "ipython",
        "version": 3
      },
      "file_extension": ".py",
      "mimetype": "text/x-python",
      "name": "python",
      "nbconvert_exporter": "python",
      "pygments_lexer": "ipython3",
      "version": "3.8.0"
    },
    "colab": {
      "name": "Final_answers.ipynb",
      "provenance": [],
      "collapsed_sections": []
    }
  },
  "cells": [
    {
      "cell_type": "markdown",
      "metadata": {
        "id": "OLHvh6r3k-pV",
        "colab_type": "text"
      },
      "source": [
        "# Final Exam\n",
        "\n",
        "[![Open In Colab](https://colab.research.google.com/assets/colab-badge.svg)](https://colab.research.google.com/github//afarbin/DATA1401-Spring-2020/blob/master/Exams/Final/Final.ipynb)"
      ]
    },
    {
      "cell_type": "markdown",
      "metadata": {
        "id": "fMVtgvxak-pW",
        "colab_type": "text"
      },
      "source": [
        "Recall the drawing system from lecture 18:"
      ]
    },
    {
      "cell_type": "code",
      "metadata": {
        "id": "eWWn5VRCk-pY",
        "colab_type": "code",
        "colab": {}
      },
      "source": [
        "class Canvas:\n",
        "    def __init__(self, width, height):\n",
        "        self.width = width\n",
        "        self.height = height\n",
        "        self.data = [[' '] * width for i in range(height)]\n",
        "\n",
        "    def set_pixel(self, row, col, char='*'):\n",
        "        self.data[row][col] = char\n",
        "\n",
        "    def get_pixel(self, row, col):\n",
        "        return self.data[row][col]\n",
        "    \n",
        "    def h_line(self, x, y, w, **kargs):\n",
        "        for i in range(x,x+w):\n",
        "            self.set_pixel(i,y, **kargs)\n",
        "\n",
        "    def v_line(self, x, y, h, **kargs):\n",
        "        for i in range(y,y+h):\n",
        "            self.set_pixel(x,i, **kargs)\n",
        "            \n",
        "    def line(self, x1, y1, x2, y2, **kargs):\n",
        "        slope = (y2-y1) / (x2-x1)\n",
        "        for y in range(y1,y2):\n",
        "            x= int(slope * y)\n",
        "            self.set_pixel(x,y, **kargs)\n",
        "            \n",
        "    def display(self):\n",
        "        print(\"\\n\".join([\"\".join(row) for row in self.data]))"
      ],
      "execution_count": 0,
      "outputs": []
    },
    {
      "cell_type": "code",
      "metadata": {
        "id": "Ccq2Pbgwk-pb",
        "colab_type": "code",
        "colab": {}
      },
      "source": [
        "class Shape:\n",
        "    def __init__(self, name=\"\", **kwargs):\n",
        "        self.name=name\n",
        "        self.kwargs=kwargs\n",
        "    \n",
        "    def paint(self, canvas): pass\n",
        "\n",
        "class Rectangle(Shape):\n",
        "    def __init__(self, x, y, w, h, **kwargs):\n",
        "        Shape.__init__(self, **kwargs)\n",
        "        self.x = x\n",
        "        self.y = y\n",
        "        self.w = w\n",
        "        self.h = h\n",
        "\n",
        "    def paint(self, canvas):\n",
        "        canvas.h_line(self.x, self.y, self.w, **self.kwargs)\n",
        "        canvas.h_line(self.x, self.y + self.h, self.w, **self.kwargs)\n",
        "        canvas.v_line(self.x, self.y, self.h, **self.kwargs)\n",
        "        canvas.v_line(self.x + self.w, self.y, self.h, **self.kwargs)\n",
        "    \n",
        "    def __str__(self):\n",
        "      print(\"Rectangle(\"+str(self.x)+','+str(self.y)+','+str(self.w)+','+str(self.h)+')')\n",
        "class Square(Rectangle):\n",
        "    def __init__(self, x, y, size, **kwargs):\n",
        "        Rectangle.__init__(self, x, y, size, size, **kwargs)\n",
        "   \n",
        "    def __str__(self):\n",
        "      print(\"Square(\"+str(self.x)+','+str(self.y)+','+str(self.size)+','+str(self.size)+')')\n",
        "class Line(Shape):\n",
        "    def __init__(self, x1, y1, x2, y2,  **kwargs):\n",
        "        Shape.__init__(self, **kwargs)\n",
        "        self.x1=x1\n",
        "        self.y1=y1\n",
        "        self.x2=x2\n",
        "        self.y2=y2\n",
        "        \n",
        "    def paint(self, canvas):\n",
        "        canvas.line(self.x1,self.y1,self.x2,self.y2)\n",
        "        \n",
        "class CompoundShape(Shape):\n",
        "    def __init__(self, shapes):\n",
        "        self.shapes = shapes\n",
        "\n",
        "    def paint(self, canvas):\n",
        "        for s in self.shapes:\n",
        "            s.paint(canvas)"
      ],
      "execution_count": 0,
      "outputs": []
    },
    {
      "cell_type": "code",
      "metadata": {
        "id": "qNo3ypgXk-pe",
        "colab_type": "code",
        "colab": {}
      },
      "source": [
        "class RasterDrawing:\n",
        "    def __init__(self):\n",
        "        self.shapes=dict()\n",
        "        self.shape_names=list()\n",
        "        \n",
        "    def add_shape(self,shape):\n",
        "        if shape.name == \"\":\n",
        "            shape.name = self.assign_name()\n",
        "        \n",
        "        self.shapes[shape.name]=shape\n",
        "        self.shape_names.append(shape.name)\n",
        "        \n",
        "    def paint(self,canvas):\n",
        "        for shape_name in self.shape_names:\n",
        "            self.shapes[shape_name].paint(canvas)\n",
        "            \n",
        "    def assign_name(self):\n",
        "        name_base=\"shape\"\n",
        "        name = name_base+\"_0\"\n",
        "        \n",
        "        i=1\n",
        "        while name in self.shapes:\n",
        "            name = name_base+\"_\"+str(i)\n",
        "            \n",
        "        return name\n"
      ],
      "execution_count": 0,
      "outputs": []
    },
    {
      "cell_type": "markdown",
      "metadata": {
        "id": "Fb-4H0jck-pk",
        "colab_type": "text"
      },
      "source": [
        "1. Add `Point` and `Triangle` classes and test them."
      ]
    },
    {
      "cell_type": "code",
      "metadata": {
        "id": "YwBoE94jk-pk",
        "colab_type": "code",
        "colab": {}
      },
      "source": [
        "class Triangle(Shape):\n",
        "  def __init__(self,x,y,w,h,**kwargs):\n",
        "    Shape.__init__(self, **kwargs)\n",
        "    self.x = x\n",
        "    self.y = y\n",
        "    self.w = w\n",
        "    self.h = h \n",
        "  def paint(self,canvas):\n",
        "    canvas.h_line(self.x, self.y, self.w, **self.kwargs)\n",
        "    canvas.v_line(self.x + self.w, self.y, self.h, **self.kwargs)\n",
        "  \n",
        "  def __str__(self):\n",
        "    print(\"Triangle(\"+str(self.x)+','+str(self.y)+','+str(self.w)+','+str(self.h)+')')\n",
        "\n",
        "class Point(Shape):\n",
        "  def __init__(self,x,y,**kwargs):\n",
        "    Shape.__init__(self, **kwargs)\n",
        "    self.x = x\n",
        "    self.y = y\n",
        "  \n",
        "  def paint(self,canvas):\n",
        "    canvas.set_pixel(self.x,self.y,**self.kwargs)\n",
        "  \n",
        "  def __str__(self):\n",
        "      print(\"Point(\"+str(self.x)+','+str(self.y)+')')"
      ],
      "execution_count": 0,
      "outputs": []
    },
    {
      "cell_type": "code",
      "metadata": {
        "id": "X0xOXS40KzSN",
        "colab_type": "code",
        "colab": {
          "base_uri": "https://localhost:8080/",
          "height": 697
        },
        "outputId": "16fa8e57-4b0d-400d-e61b-ebf2de634882"
      },
      "source": [
        "c1=Canvas(50,40)\n",
        "s1=Triangle(5,5,10,20,char=\"^\")\n",
        "s1.paint(c1)\n",
        "l1=Line(1,8,4,11)\n",
        "l1.paint(c1)\n",
        "\n",
        "p1=Point(1,1)\n",
        "p1.paint(c1)\n",
        "c1.display()"
      ],
      "execution_count": 228,
      "outputs": [
        {
          "output_type": "stream",
          "text": [
            "                                                  \n",
            " *                                                \n",
            "                                                  \n",
            "                                                  \n",
            "                                                  \n",
            "     ^                                            \n",
            "     ^                                            \n",
            "     ^                                            \n",
            "     ^  *                                         \n",
            "     ^   *                                        \n",
            "     ^    *                                       \n",
            "     ^                                            \n",
            "     ^                                            \n",
            "     ^                                            \n",
            "     ^                                            \n",
            "     ^^^^^^^^^^^^^^^^^^^^                         \n",
            "                                                  \n",
            "                                                  \n",
            "                                                  \n",
            "                                                  \n",
            "                                                  \n",
            "                                                  \n",
            "                                                  \n",
            "                                                  \n",
            "                                                  \n",
            "                                                  \n",
            "                                                  \n",
            "                                                  \n",
            "                                                  \n",
            "                                                  \n",
            "                                                  \n",
            "                                                  \n",
            "                                                  \n",
            "                                                  \n",
            "                                                  \n",
            "                                                  \n",
            "                                                  \n",
            "                                                  \n",
            "                                                  \n",
            "                                                  \n"
          ],
          "name": "stdout"
        }
      ]
    },
    {
      "cell_type": "markdown",
      "metadata": {
        "id": "4c2Afbs1k-po",
        "colab_type": "text"
      },
      "source": [
        "2. Add an `Arc` class that is instantiated with a center location, two axis lengths, and starting and ending angles. If start and end are not specified or are the same angle, the `Arc` instance should draw an oval. If in addition the two axes are the same, the `Arc` instance should draw a circle. Create `Oval` and `Circle` classes that inherit from `Arc`. Test everything."
      ]
    },
    {
      "cell_type": "code",
      "metadata": {
        "id": "ebqAa1xQk-pp",
        "colab_type": "code",
        "colab": {}
      },
      "source": [
        "class Arc():\n",
        "  def __init__(self, x0, y0, ax1, ax2, start, end, **kwargs):\n",
        "    Shape.__init__(self, **kwargs)\n",
        "    self.x0 = x0\n",
        "    self.y0 = y0    \n",
        "    self.a1 = a1\n",
        "    self.a2 = a2\n",
        "    self.start = start\n",
        "    self.end = end \n",
        "    \n",
        "  def paint(self,canvas):\n",
        "    \n",
        "class Circle(Arc):\n",
        "  def __init__(self, x0, y0, radius, **kwargs):\n",
        "    Shape.__init__(self, **kwargs)\n",
        "    self.x0 = x0\n",
        "    self.y0 = y0    \n",
        "    self.radius = radius\n",
        "\n",
        "  def paint(self,canvas):     \n",
        "    self.set_pixel(x0, y0 + radius, **kwargs)\n",
        "    self.set_pixel(x0, y0 - radius, **kwargs)\n",
        "    self.set_pixel(x0 + radius, y0, **kwargs)\n",
        "    self.set_pixel(x0 - radius, y0, **kwargs)\n",
        "  "
      ],
      "execution_count": 0,
      "outputs": []
    },
    {
      "cell_type": "code",
      "metadata": {
        "id": "tQ34Dp18fnGT",
        "colab_type": "code",
        "colab": {}
      },
      "source": [
        "c1=Canvas(50,40)\n",
        "C1=Circle(5,5,5)\n",
        "C1.paint(c1)"
      ],
      "execution_count": 0,
      "outputs": []
    },
    {
      "cell_type": "markdown",
      "metadata": {
        "id": "l5w8AVjsk-ps",
        "colab_type": "text"
      },
      "source": [
        "3. Use your classes to create a `RasterDrawing` that draws a happy face."
      ]
    },
    {
      "cell_type": "code",
      "metadata": {
        "id": "Acg8Guiyk-ps",
        "colab_type": "code",
        "colab": {
          "base_uri": "https://localhost:8080/",
          "height": 357
        },
        "outputId": "1b6da2d7-db3e-4969-e36c-ea80a6906bbd"
      },
      "source": [
        "c1=Canvas(20,20)\n",
        "rd=RasterDrawing()\n",
        "rd.add_shape(Point(10,10))#eyes\n",
        "rd.add_shape(Point(10,15))\n",
        "\n",
        "rd.paint(c1)\n",
        "c1.display()"
      ],
      "execution_count": 240,
      "outputs": [
        {
          "output_type": "stream",
          "text": [
            "                    \n",
            "                    \n",
            "                    \n",
            "                    \n",
            "                    \n",
            "                    \n",
            "                    \n",
            "                    \n",
            "                    \n",
            "                    \n",
            "          *    *    \n",
            "                    \n",
            "                    \n",
            "                    \n",
            "                    \n",
            "                    \n",
            "                    \n",
            "                    \n",
            "                    \n",
            "                    \n"
          ],
          "name": "stdout"
        }
      ]
    },
    {
      "cell_type": "markdown",
      "metadata": {
        "id": "ScMg7pBNk-pw",
        "colab_type": "text"
      },
      "source": [
        "4. Add to the `Shape` base class a `__str__()` method. Overwrite the method in each shape to generate a string of the python code necessary to reinstantiate the object. For example, for a rectangle originally instantiated using `Square(5,5,20,char=\"^\")`, `__str__()` should return the string `'Square(5,5,20,char=\"^\")'`.\n"
      ]
    },
    {
      "cell_type": "code",
      "metadata": {
        "id": "A8mH9tVxk-px",
        "colab_type": "code",
        "colab": {
          "base_uri": "https://localhost:8080/",
          "height": 34
        },
        "outputId": "dde6f57a-4a50-4108-84d5-ba7f89543870"
      },
      "source": [
        "c1=Canvas(20,20)\n",
        "s1=Triangle(5,5,10,20,char=\"^\")\n",
        "s1.__str__()"
      ],
      "execution_count": 248,
      "outputs": [
        {
          "output_type": "stream",
          "text": [
            "Triangle(5,5,10,20)\n"
          ],
          "name": "stdout"
        }
      ]
    },
    {
      "cell_type": "markdown",
      "metadata": {
        "id": "53an4Vpok-p0",
        "colab_type": "text"
      },
      "source": [
        "5. Add to `RasterDrawing` two functions, `save(filename)` and `load(filename)`. The save function writes the `__str__()` of all of the shapes in the drawing to a file (one shape per line). The load function, reads the file, and instantiates each object using the python `eval(expression)` function, and adds each shape to the drawing, thereby recreating a \"saved\" raster drawing. Use this functionality to save and load your happy face.\n",
        "\n",
        "   `eval` takes a string that contains a fragment of a python code and executes it. Consider the following examples: "
      ]
    },
    {
      "cell_type": "code",
      "metadata": {
        "id": "CM_A74gOk-p1",
        "colab_type": "code",
        "colab": {}
      },
      "source": [
        "eval(\"print('Hello')\")"
      ],
      "execution_count": 0,
      "outputs": []
    },
    {
      "cell_type": "code",
      "metadata": {
        "id": "3PGzlyJ-k-p3",
        "colab_type": "code",
        "colab": {}
      },
      "source": [
        "x = eval('1+2')\n",
        "print(x)"
      ],
      "execution_count": 0,
      "outputs": []
    },
    {
      "cell_type": "code",
      "metadata": {
        "id": "zgLMCeQHk-p6",
        "colab_type": "code",
        "colab": {}
      },
      "source": [
        ""
      ],
      "execution_count": 0,
      "outputs": []
    }
  ]
}