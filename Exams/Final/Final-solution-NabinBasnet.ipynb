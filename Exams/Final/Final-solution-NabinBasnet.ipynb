{
 "cells": [
  {
   "cell_type": "markdown",
   "metadata": {},
   "source": [
    "# Final Exam\n",
    "\n",
    "[![Open In Colab](https://colab.research.google.com/assets/colab-badge.svg)](https://colab.research.google.com/github//afarbin/DATA1401-Spring-2020/blob/master/Exams/Final/Final.ipynb)"
   ]
  },
  {
   "cell_type": "markdown",
   "metadata": {},
   "source": [
    "Recall the drawing system from lecture 18:"
   ]
  },
  {
   "cell_type": "code",
   "execution_count": 1,
   "metadata": {},
   "outputs": [],
   "source": [
    "class Canvas:\n",
    "    def __init__(self, width, height):\n",
    "        self.width = width\n",
    "        self.height = height\n",
    "        self.data = [[' '] * width for i in range(height)]\n",
    "\n",
    "    def set_pixel(self, row, col, char='*'):\n",
    "        self.data[row][col] = char\n",
    "\n",
    "    def get_pixel(self, row, col):\n",
    "        return self.data[row][col]\n",
    "    \n",
    "    def h_line(self, x, y, w, **kargs):\n",
    "        for i in range(x,x+w):\n",
    "            self.set_pixel(i,y, **kargs)\n",
    "\n",
    "    def v_line(self, x, y, h, **kargs):\n",
    "        for i in range(y,y+h):\n",
    "            self.set_pixel(x,i, **kargs)\n",
    "            \n",
    "    def line(self, x1, y1, x2, y2, **kargs):\n",
    "        slope = (y2-y1) / (x2-x1)\n",
    "        for x in range(x1,x2):\n",
    "            y= int(slope * x)+x\n",
    "            self.set_pixel(x,y, **kargs)\n",
    "            \n",
    "    def display(self):\n",
    "        print(\"\\n\".join([\"\".join(row) for row in self.data]))"
   ]
  },
  {
   "cell_type": "code",
   "execution_count": 2,
   "metadata": {},
   "outputs": [],
   "source": [
    "class Shape:\n",
    "    def __init__(self, name=\"\", **kwargs):\n",
    "        self.name=name\n",
    "        self.kwargs=kwargs\n",
    "    \n",
    "    def paint(self, canvas): pass\n",
    "    \n",
    "    #Added for Q.4, note it is overloading in every shape class below\n",
    "    def __str__(self): pass\n",
    "        \n",
    "    \n",
    "class Rectangle(Shape):\n",
    "    def __init__(self,x, y, w, h,name=\"\", **kwargs):\n",
    "        super().__init__(name=\"\", **kwargs)\n",
    "        self.x = x\n",
    "        self.y = y\n",
    "        self.w = w\n",
    "        self.h = h\n",
    "        self.name=\"Rectangle\"\n",
    "\n",
    "    def paint(self, canvas):\n",
    "        canvas.h_line(self.x, self.y, self.w, **self.kwargs)\n",
    "        canvas.h_line(self.x, self.y + self.h, self.w, **self.kwargs)\n",
    "        canvas.v_line(self.x, self.y, self.h, **self.kwargs)\n",
    "        canvas.v_line(self.x + self.w, self.y, self.h, **self.kwargs)\n",
    "    \n",
    "    def __str__(self):\n",
    "        return f'{self.name}({self.x},{self.y},{self.w},{self.h})'\n",
    "\n",
    "class Square(Rectangle):\n",
    "    def __init__(self, x, y, size,name=\"\", **kwargs):\n",
    "        super().__init__(x, y, size, size,name=\"\", **kwargs)\n",
    "        self.name=\"Square\"\n",
    "    \n",
    "    def __str__(self):\n",
    "        return f'{self.name}({self.x},{self.y},{self.w})'\n",
    "        \n",
    "class Line(Shape):\n",
    "    def __init__(self, x1, y1, x2, y2,name=\"\",  **kwargs):\n",
    "        super().__init__(name=\"\",**kwargs)\n",
    "        self.x1=x1\n",
    "        self.y1=y1\n",
    "        self.x2=x2\n",
    "        self.y2=y2\n",
    "        self.name=\"Line\"\n",
    "    def paint(self, canvas):\n",
    "        canvas.line(self.x1,self.y1,self.x2,self.y2)\n",
    "    def __str__(self):\n",
    "        return f'Line({self.x1},{self.y1},{self.x2},{self.y2})' \n",
    "    \n",
    "class CompoundShape(Shape):\n",
    "    def __init__(self, shapes):\n",
    "        self.shapes = shapes\n",
    "\n",
    "    def paint(self, canvas):\n",
    "        for s in self.shapes:\n",
    "            s.paint(canvas)"
   ]
  },
  {
   "cell_type": "code",
   "execution_count": 3,
   "metadata": {},
   "outputs": [],
   "source": [
    "C=Canvas(20,20)\n",
    "rec=Rectangle(10,10,20,20,char=\"^\")\n",
    "square=Square(10,10,20)\n",
    "line=Line(0,0,5,5)"
   ]
  },
  {
   "cell_type": "code",
   "execution_count": 4,
   "metadata": {},
   "outputs": [],
   "source": [
    "class RasterDrawing():\n",
    "    def __init__(self):\n",
    "        self.shapes=dict()\n",
    "        self.shape_names=list()\n",
    "        \n",
    "    def add_shape(self,shape):\n",
    "        if shape.name == \"\":\n",
    "            shape.name = self.assign_name()\n",
    "        \n",
    "        self.shapes[shape.name]=shape\n",
    "        self.shape_names.append(shape.name)\n",
    "        \n",
    "    def paint(self,canvas):\n",
    "        for shape_name in self.shape_names:\n",
    "            self.shapes[shape_name].paint(canvas)\n",
    "            \n",
    "    def assign_name(self):\n",
    "        name_base=\"shape\"\n",
    "        name = name_base+\"_0\"\n",
    "        \n",
    "        i=1\n",
    "        while name in self.shapes:\n",
    "            name = name_base+\"_\"+name+\"_\"+str(i)\n",
    "            \n",
    "        return name\n",
    "   \n",
    "    #Added Save and Load class below for Q5\n",
    "    def save(self,file_name):\n",
    "        self.file_name = file_name\n",
    "        file = open(self.file_name,'a')\n",
    "        for key in self.shapes.keys():\n",
    "            file.write(key)\n",
    "            file.write(\"\\n\")\n",
    "        file.close()\n",
    "    \n",
    "    def load(self,file_name):\n",
    "        self.file_name = file_name\n",
    "        file=open(self.file_name,\"r\")\n",
    "        C=Canvas(50,50)\n",
    "        raster = RasterDrawing()\n",
    "        for shape in file:\n",
    "            raster.add_shape(eval(shape))\n",
    "            raster.paint(C)\n",
    "        C.display()\n",
    "\n",
    "        file.close()"
   ]
  },
  {
   "cell_type": "markdown",
   "metadata": {},
   "source": [
    "1. Add `Point` and `Triangle` classes and test them."
   ]
  },
  {
   "cell_type": "code",
   "execution_count": 5,
   "metadata": {},
   "outputs": [],
   "source": [
    "class Point(Shape):\n",
    "    def __init__(self, x, y,name=\"\",**kwargs):\n",
    "        Shape.__init__(self, name=\"\",**kwargs)\n",
    "        self.x = x\n",
    "        self.y = y\n",
    "        self.name=\"Point\"\n",
    "        \n",
    "    def paint(self, canvas):\n",
    "        canvas.set_pixel(self.x, self.y, **self.kwargs)  \n",
    "    \n",
    "    def __str__(self):\n",
    "        return f'{self.name}({self.x},{self.y})' \n",
    "    \n",
    "class Traingle(Shape):\n",
    "    def __init__(self, x1, y1, x2, y2, x3,y3,name=\"\", **kwargs):\n",
    "        Shape.__init__(self,name=\"\", **kwargs)\n",
    "        self.x1=x1\n",
    "        self.y1=y1\n",
    "        self.x2=x2\n",
    "        self.y2=y2\n",
    "        self.x3=x3\n",
    "        self.y3=y3\n",
    "        self.name=\"Traingle\"\n",
    "        \n",
    "    def paint(self, canvas):\n",
    "        if self.y1==self.y2:\n",
    "            h1=abs(self.x1-self.x2)\n",
    "            canvas.h_line(self.x1,self.y1,h1,**self.kwargs)\n",
    "        if self.x1==self.x2:\n",
    "            w1=(self.y1-self.y2)\n",
    "            canvas.v_line(self.x1,self.y1,w1,**self.kwargs)\n",
    "        if self.y1!=self.y2 and self.x1!=self.x2:\n",
    "            canvas.line(self.x1,self.y1,self.x2,self.y2,**self.kwargs)\n",
    "            \n",
    "        if self.y1==self.y3:\n",
    "            h2=abs(self.x1-self.x3)\n",
    "            canvas.h_line(self.x1,self.y1,h2,**self.kwargs)\n",
    "        if self.x1==self.x3:\n",
    "            w2=abs(self.y1-self.y3)\n",
    "            canvas.v_line(self.x1,self.y1,w2,**self.kwargs)\n",
    "        if self.y1!=self.y3 and self.x1!=self.x3:\n",
    "            canvas.line(self.x1,self.y1,self.x3,self.y3,**self.kwargs) \n",
    "        if self.y2==self.y3:\n",
    "            h3=(self.x3-self.x2)\n",
    "            canvas.h_line(self.x2,self.y2,h3,**self.kwargs)\n",
    "        if self.x2==self.x3:\n",
    "            w3=(self.y3-self.y2)\n",
    "            canvas.v_line(self.x2,self.y2,w3,**self.kwargs)\n",
    "        if self.y2!=self.y3 and self.x2!=self.x3: \n",
    "            canvas.line(self.x2,self.y2,self.x3,self.y3,**self.kwargs)\n",
    "\n",
    "            \n",
    "    def __str__(self):\n",
    "        return f'{self.name}({self.x1},{self.y1},{self.x2},{self.y2},{self.x3},{self.y3})' "
   ]
  },
  {
   "cell_type": "code",
   "execution_count": 6,
   "metadata": {},
   "outputs": [
    {
     "name": "stdout",
     "output_type": "stream",
     "text": [
      "*                   \n",
      "* *                 \n",
      "*   *               \n",
      "*     *             \n",
      "*       *           \n",
      "*    *    *         \n",
      "*           *       \n",
      "*             *     \n",
      "*               *   \n",
      "*                 * \n",
      "**********          \n",
      "                    \n",
      "                    \n",
      "                    \n",
      "                    \n",
      "                    \n",
      "                    \n",
      "                    \n",
      "                    \n",
      "                    \n"
     ]
    }
   ],
   "source": [
    "D=Canvas(20,20)\n",
    "point=Point(5,5)\n",
    "point.paint(D)\n",
    "traingle=Traingle(0,0,10,0,10,10)\n",
    "traingle.paint(D)\n",
    "D.display()\n",
    "#Note that the x and y pixels are not same so it doesn't like the bottom corner is joined."
   ]
  },
  {
   "cell_type": "markdown",
   "metadata": {},
   "source": [
    "2. Add an `Arc` class that is instantiated with a center location, two axis lengths, and starting and ending angles. If start and end are not specified or are the same angle, the `Arc` instance should draw an oval. If in addition the two axes are the same, the `Arc` instance should draw a circle. Create `Oval` and `Circle` classes that inherit from `Arc`. Test everything."
   ]
  },
  {
   "cell_type": "code",
   "execution_count": 7,
   "metadata": {},
   "outputs": [],
   "source": [
    "import math\n",
    "\n",
    "class Arc(Shape):\n",
    "    def __init__(self, h, k, a, b, s_a,e_a,name=\"\", **kwargs):\n",
    "        Shape.__init__(self,name=\"\", **kwargs)\n",
    "        self.h=h           # x for center\n",
    "        self.k=k           # y for center\n",
    "        self.a=a           # width from center(h) in x direction\n",
    "        self.b=b           # width from center(k) in y direction\n",
    "        self.s_a=s_a       # starting angle\n",
    "        self.e_a=e_a       # ending angle\n",
    "        self.name=\"Arc\"\n",
    "        \n",
    "    def paint(self, canvas):    \n",
    "        \n",
    "        if (self.s_a + self.e_a)<360:\n",
    "            \n",
    "            for angle in range(self.s_a,self.e_a+1):\n",
    "                y=int((self.k+self.b)*math.cos(angle*0.0175))\n",
    "                c=(1-((y-self.k)/self.b)**2)\n",
    "                if c>0:\n",
    "                    x = int(self.h+self.a*(math.sqrt(c)))\n",
    "                    canvas.set_pixel(x,y)\n",
    "                else: pass\n",
    "        else: \n",
    "            for y in range(self.k-self.b,self.k+self.b+1):\n",
    "                x = int(self.h+self.a*(math.sqrt(1-((y-self.k)/self.b)**2)))\n",
    "                canvas.set_pixel(x,y)\n",
    "                x1 = -x\n",
    "                canvas.set_pixel(x1,y)\n",
    "            \n",
    "    def __str__(self):\n",
    "        return f'{self.name}({self.h},{self.k},{self.a},{self.b},{self.s_a},{self.e_a})'     \n",
    "\n",
    "class Oval(Arc):\n",
    "    def __init__(self, h, k, a, b, s_a,e_a,name=\"\", **kwargs):\n",
    "        super().__init__(h, k, a, b,s_a,e_a,name=\"\", **kwargs)\n",
    "        self.name=\"Oval\"\n",
    "        \n",
    "    def __str__(self):\n",
    "        return f'{self.name}({self.h},{self.k},{self.a},{self.b},{self.s_a},{self.e_a})'  \n",
    "\n",
    "class Circle(Arc):\n",
    "    def __init__(self, h, k, r, s_a,e_a,name=\"\", **kwargs):\n",
    "        super().__init__(h, k, r, r,s_a,e_a,name=\"\", **kwargs)\n",
    "        self.name=\"Circle\"\n",
    "    def __str__(self):\n",
    "        return f'{self.name}({self.h},{self.k},{self.a},{self.s_a},{self.e_a})'  \n",
    "        "
   ]
  },
  {
   "cell_type": "code",
   "execution_count": 8,
   "metadata": {},
   "outputs": [
    {
     "name": "stdout",
     "output_type": "stream",
     "text": [
      "                              \n",
      "                              \n",
      "                              \n",
      "                              \n",
      "                              \n",
      "                              \n",
      "                              \n",
      "                              \n",
      "                              \n",
      "                              \n",
      "                              \n",
      "                              \n",
      "                              \n",
      "                              \n",
      "                              \n",
      "                              \n",
      "                              \n",
      "                              \n",
      "                              \n",
      "      *                 *     \n",
      "                              \n",
      "       *               *      \n",
      "        *             *       \n",
      "         **         **        \n",
      "           **** ****          \n",
      "               *              \n",
      "                              \n",
      "                              \n",
      "                              \n",
      "                              \n"
     ]
    }
   ],
   "source": [
    "#Test for Arc\n",
    "C2=Canvas(30,30)\n",
    "arc=Arc(15,15,10,10,0,270)\n",
    "arc.paint(C2)\n",
    "C2.display()"
   ]
  },
  {
   "cell_type": "code",
   "execution_count": 9,
   "metadata": {},
   "outputs": [
    {
     "name": "stdout",
     "output_type": "stream",
     "text": [
      "                              \n",
      "                              \n",
      "                              \n",
      "                              \n",
      "                              \n",
      "               *              \n",
      "             ** **            \n",
      "            *     *           \n",
      "                              \n",
      "           *       *          \n",
      "                              \n",
      "                              \n",
      "                              \n",
      "                              \n",
      "                              \n",
      "          *         *         \n",
      "                              \n",
      "                              \n",
      "                              \n",
      "                              \n",
      "                              \n",
      "           *       *          \n",
      "                              \n",
      "            *     *           \n",
      "             ** **            \n",
      "               *              \n",
      "                              \n",
      "                              \n",
      "                              \n",
      "                              \n"
     ]
    }
   ],
   "source": [
    "#Test for Oval\n",
    "C3=Canvas(30,30)\n",
    "oval=Oval(15,15,10,5,0,360)\n",
    "oval.paint(C3)\n",
    "C3.display()"
   ]
  },
  {
   "cell_type": "code",
   "execution_count": 10,
   "metadata": {},
   "outputs": [
    {
     "name": "stdout",
     "output_type": "stream",
     "text": [
      "                              \n",
      "                              \n",
      "                              \n",
      "                              \n",
      "                              \n",
      "               *              \n",
      "           **** ****          \n",
      "         **         **        \n",
      "        *             *       \n",
      "       *               *      \n",
      "                              \n",
      "      *                 *     \n",
      "                              \n",
      "                              \n",
      "                              \n",
      "     *                   *    \n",
      "                              \n",
      "                              \n",
      "                              \n",
      "      *                 *     \n",
      "                              \n",
      "       *               *      \n",
      "        *             *       \n",
      "         **         **        \n",
      "           **** ****          \n",
      "               *              \n",
      "                              \n",
      "                              \n",
      "                              \n",
      "                              \n"
     ]
    }
   ],
   "source": [
    "#Test for Circle\n",
    "C4=Canvas(30,30)\n",
    "circle=Circle(15,15,10,0,360)\n",
    "circle.paint(C4)\n",
    "C4.display()"
   ]
  },
  {
   "cell_type": "markdown",
   "metadata": {},
   "source": [
    "3. Use your classes to create a `RasterDrawing` that draws a happy face."
   ]
  },
  {
   "cell_type": "code",
   "execution_count": 11,
   "metadata": {},
   "outputs": [],
   "source": [
    "#Using Raster Function\n",
    "C55=Canvas(50,50)\n",
    "raster=RasterDrawing()"
   ]
  },
  {
   "cell_type": "code",
   "execution_count": 12,
   "metadata": {},
   "outputs": [],
   "source": [
    "raster.add_shape(Circle(25,25,20,0,360))\n",
    "raster.paint(C55)"
   ]
  },
  {
   "cell_type": "code",
   "execution_count": 13,
   "metadata": {},
   "outputs": [],
   "source": [
    "raster.add_shape(Square(15,12,4))\n",
    "raster.paint(C55)"
   ]
  },
  {
   "cell_type": "code",
   "execution_count": 14,
   "metadata": {},
   "outputs": [],
   "source": [
    "raster.add_shape(Square(15,35,4))\n",
    "raster.paint(C55)"
   ]
  },
  {
   "cell_type": "code",
   "execution_count": 15,
   "metadata": {},
   "outputs": [],
   "source": [
    "raster.add_shape(Arc(30,25,6,5,0,180))\n",
    "raster.paint(C55)"
   ]
  },
  {
   "cell_type": "code",
   "execution_count": 16,
   "metadata": {},
   "outputs": [],
   "source": [
    "raster.add_shape(Circle(25,25,2,0,360))\n",
    "raster.paint(C55)"
   ]
  },
  {
   "cell_type": "code",
   "execution_count": 17,
   "metadata": {},
   "outputs": [
    {
     "name": "stdout",
     "output_type": "stream",
     "text": [
      "                                                  \n",
      "                                                  \n",
      "                                                  \n",
      "                                                  \n",
      "                                                  \n",
      "                         *                        \n",
      "                   ****** ******                  \n",
      "                 **             **                \n",
      "               **                 **              \n",
      "             **                     **            \n",
      "            *                         *           \n",
      "           *                           *          \n",
      "          *                             *         \n",
      "         *                               *        \n",
      "                                                  \n",
      "        *   *****                  *****  *       \n",
      "            *   *                  *   *          \n",
      "       *    *   *                  *   *   *      \n",
      "            *   *                  *   *          \n",
      "      *     ****                   ****     *     \n",
      "                                                  \n",
      "                                                  \n",
      "                                                  \n",
      "                         *                        \n",
      "                        * *                       \n",
      "     *                 *   *                 *    \n",
      "                        * *                       \n",
      "                         *                        \n",
      "                                                  \n",
      "                                                  \n",
      "                                                  \n",
      "      *                                     *     \n",
      "                                                  \n",
      "       *             *       *             *      \n",
      "                      *     *                     \n",
      "        *              ** **              *       \n",
      "                         *                        \n",
      "         *                               *        \n",
      "          *                             *         \n",
      "           *                           *          \n",
      "            *                         *           \n",
      "             **                     **            \n",
      "               **                 **              \n",
      "                 **             **                \n",
      "                   ****** ******                  \n",
      "                         *                        \n",
      "                                                  \n",
      "                                                  \n",
      "                                                  \n",
      "                                                  \n"
     ]
    }
   ],
   "source": [
    "raster.paint(C55)\n",
    "C55.display()"
   ]
  },
  {
   "cell_type": "code",
   "execution_count": 18,
   "metadata": {},
   "outputs": [
    {
     "name": "stdout",
     "output_type": "stream",
     "text": [
      "                                                  \n",
      "                                                  \n",
      "                                                  \n",
      "                                                  \n",
      "                                                  \n",
      "                         *                        \n",
      "                   ****** ******                  \n",
      "                 **             **                \n",
      "               **                 **              \n",
      "             **                     **            \n",
      "            *                         *           \n",
      "           *                           *          \n",
      "          *                             *         \n",
      "         *                               *        \n",
      "                                                  \n",
      "        *   *****                  *****  *       \n",
      "            *   *                  *   *          \n",
      "       *    *   *                  *   *   *      \n",
      "            *   *                  *   *          \n",
      "      *     ****                   ****     *     \n",
      "                                                  \n",
      "                                                  \n",
      "                                                  \n",
      "                         *                        \n",
      "                        * *                       \n",
      "     *                 *   *                 *    \n",
      "                        * *                       \n",
      "                         *                        \n",
      "                                                  \n",
      "                                                  \n",
      "                                                  \n",
      "      *                                     *     \n",
      "                                                  \n",
      "       *             *       *             *      \n",
      "                      *     *                     \n",
      "        *              ** **              *       \n",
      "                         *                        \n",
      "         *                               *        \n",
      "          *                             *         \n",
      "           *                           *          \n",
      "            *                         *           \n",
      "             **                     **            \n",
      "               **                 **              \n",
      "                 **             **                \n",
      "                   ****** ******                  \n",
      "                         *                        \n",
      "                                                  \n",
      "                                                  \n",
      "                                                  \n",
      "                                                  \n"
     ]
    }
   ],
   "source": [
    "#Using Compound function\n",
    "C5=Canvas(50,50)\n",
    "coumpound=CompoundShape([Circle(25,25,20,0,360),Circle(25,25,2,0,360),Square(15,12,4),Square(15,35,4),Arc(30,25,6,5,0,180)])\n",
    "coumpound.paint(C5)\n",
    "C5.display()"
   ]
  },
  {
   "cell_type": "markdown",
   "metadata": {},
   "source": [
    "4. Add to the `Shape` base class a `__str__()` method. Overwrite the method in each shape to generate a string of the python code necessary to reinstantiate the object. For example, for a rectangle originally instantiated using `Square(5,5,20,char=\"^\")`, `__str__()` should return the string `'Square(5,5,20,char=\"^\")'`.\n"
   ]
  },
  {
   "cell_type": "code",
   "execution_count": 19,
   "metadata": {},
   "outputs": [],
   "source": [
    "#Note that the __str__() class is added in each shape class above\n",
    "rec=Rectangle(10,10,20,20)\n",
    "sqr=Square(10,10,20)\n",
    "lin=Line(0,0,5,5)\n",
    "pnt=Point(5,5)\n",
    "trg=Traingle(0,0,10,0,10,10)\n",
    "arc=Arc(25,25,20,20,0,85)\n",
    "ovl=Oval(25,25,20,15,0,360)\n",
    "crc=Circle(25,25,15,0,360)"
   ]
  },
  {
   "cell_type": "code",
   "execution_count": 20,
   "metadata": {},
   "outputs": [
    {
     "data": {
      "text/plain": [
       "'Rectangle(10,10,20,20)'"
      ]
     },
     "execution_count": 20,
     "metadata": {},
     "output_type": "execute_result"
    }
   ],
   "source": [
    "rec.__str__()"
   ]
  },
  {
   "cell_type": "code",
   "execution_count": 21,
   "metadata": {},
   "outputs": [
    {
     "data": {
      "text/plain": [
       "'Square(10,10,20)'"
      ]
     },
     "execution_count": 21,
     "metadata": {},
     "output_type": "execute_result"
    }
   ],
   "source": [
    "sqr.__str__()"
   ]
  },
  {
   "cell_type": "code",
   "execution_count": 22,
   "metadata": {},
   "outputs": [
    {
     "data": {
      "text/plain": [
       "'Line(0,0,5,5)'"
      ]
     },
     "execution_count": 22,
     "metadata": {},
     "output_type": "execute_result"
    }
   ],
   "source": [
    "lin.__str__()"
   ]
  },
  {
   "cell_type": "code",
   "execution_count": 23,
   "metadata": {},
   "outputs": [
    {
     "data": {
      "text/plain": [
       "'Point(5,5)'"
      ]
     },
     "execution_count": 23,
     "metadata": {},
     "output_type": "execute_result"
    }
   ],
   "source": [
    "pnt.__str__()"
   ]
  },
  {
   "cell_type": "code",
   "execution_count": 24,
   "metadata": {},
   "outputs": [
    {
     "data": {
      "text/plain": [
       "'Traingle(0,0,10,0,10,10)'"
      ]
     },
     "execution_count": 24,
     "metadata": {},
     "output_type": "execute_result"
    }
   ],
   "source": [
    "trg.__str__()"
   ]
  },
  {
   "cell_type": "code",
   "execution_count": 25,
   "metadata": {},
   "outputs": [
    {
     "data": {
      "text/plain": [
       "'Arc(25,25,20,20,0,85)'"
      ]
     },
     "execution_count": 25,
     "metadata": {},
     "output_type": "execute_result"
    }
   ],
   "source": [
    "arc.__str__()"
   ]
  },
  {
   "cell_type": "code",
   "execution_count": 26,
   "metadata": {},
   "outputs": [
    {
     "data": {
      "text/plain": [
       "'Oval(25,25,20,15,0,360)'"
      ]
     },
     "execution_count": 26,
     "metadata": {},
     "output_type": "execute_result"
    }
   ],
   "source": [
    "ovl.__str__()"
   ]
  },
  {
   "cell_type": "code",
   "execution_count": 27,
   "metadata": {},
   "outputs": [
    {
     "data": {
      "text/plain": [
       "'Circle(25,25,15,0,360)'"
      ]
     },
     "execution_count": 27,
     "metadata": {},
     "output_type": "execute_result"
    }
   ],
   "source": [
    "crc.__str__()"
   ]
  },
  {
   "cell_type": "markdown",
   "metadata": {},
   "source": [
    "5. Add to `RasterDrawing` two functions, `save(filename)` and `load(filename)`. The save function writes the `__str__()` of all of the shapes in the drawing to a file (one shape per line). The load function, reads the file, and instantiates each object using the python `eval(expression)` function, and adds each shape to the drawing, thereby recreating a \"saved\" raster drawing. Use this functionality to save and load your happy face.\n",
    "\n",
    "   `eval` takes a string that contains a fragment of a python code and executes it. Consider the following examples: "
   ]
  },
  {
   "cell_type": "code",
   "execution_count": 28,
   "metadata": {},
   "outputs": [],
   "source": [
    "raster = RasterDrawing()"
   ]
  },
  {
   "cell_type": "code",
   "execution_count": 29,
   "metadata": {},
   "outputs": [],
   "source": [
    "raster.add_shape(Shape(\"Circle(25,25,20,0,360)\"))\n",
    "raster.add_shape(Shape(\"Square(15,12,4)\"))\n",
    "raster.add_shape(Shape(\"Square(15,35,4)\"))\n",
    "raster.add_shape(Shape(\"Arc(30,25,6,5,0,180)\"))"
   ]
  },
  {
   "cell_type": "code",
   "execution_count": 30,
   "metadata": {},
   "outputs": [
    {
     "data": {
      "text/plain": [
       "dict_keys(['Circle(25,25,20,0,360)', 'Square(15,12,4)', 'Square(15,35,4)', 'Arc(30,25,6,5,0,180)'])"
      ]
     },
     "execution_count": 30,
     "metadata": {},
     "output_type": "execute_result"
    }
   ],
   "source": [
    "raster.shapes.keys()"
   ]
  },
  {
   "cell_type": "code",
   "execution_count": 31,
   "metadata": {},
   "outputs": [],
   "source": [
    "raster.save(\"Shapes12.txt\")"
   ]
  },
  {
   "cell_type": "code",
   "execution_count": 32,
   "metadata": {},
   "outputs": [
    {
     "name": "stdout",
     "output_type": "stream",
     "text": [
      "                                                  \n",
      "                                                  \n",
      "                                                  \n",
      "                                                  \n",
      "                                                  \n",
      "                         *                        \n",
      "                   ****** ******                  \n",
      "                 **             **                \n",
      "               **                 **              \n",
      "             **                     **            \n",
      "            *                         *           \n",
      "           *                           *          \n",
      "          *                             *         \n",
      "         *                               *        \n",
      "                                                  \n",
      "        *   *****                  *****  *       \n",
      "            *   *                  *   *          \n",
      "       *    *   *                  *   *   *      \n",
      "            *   *                  *   *          \n",
      "      *     ****                   ****     *     \n",
      "                                                  \n",
      "                                                  \n",
      "                                                  \n",
      "                                                  \n",
      "                                                  \n",
      "     *                                       *    \n",
      "                                                  \n",
      "                                                  \n",
      "                                                  \n",
      "                                                  \n",
      "                                                  \n",
      "      *                                     *     \n",
      "                                                  \n",
      "       *             *       *             *      \n",
      "                      *     *                     \n",
      "        *              ** **              *       \n",
      "                         *                        \n",
      "         *                               *        \n",
      "          *                             *         \n",
      "           *                           *          \n",
      "            *                         *           \n",
      "             **                     **            \n",
      "               **                 **              \n",
      "                 **             **                \n",
      "                   ****** ******                  \n",
      "                         *                        \n",
      "                                                  \n",
      "                                                  \n",
      "                                                  \n",
      "                                                  \n"
     ]
    }
   ],
   "source": [
    "RasterDrawing().load(\"Shapes12.txt\")"
   ]
  },
  {
   "cell_type": "code",
   "execution_count": null,
   "metadata": {},
   "outputs": [],
   "source": []
  }
 ],
 "metadata": {
  "kernelspec": {
   "display_name": "Python 3",
   "language": "python",
   "name": "python3"
  },
  "language_info": {
   "codemirror_mode": {
    "name": "ipython",
    "version": 3
   },
   "file_extension": ".py",
   "mimetype": "text/x-python",
   "name": "python",
   "nbconvert_exporter": "python",
   "pygments_lexer": "ipython3",
   "version": "3.7.4"
  }
 },
 "nbformat": 4,
 "nbformat_minor": 2
}
