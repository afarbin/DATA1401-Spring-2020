{
  "nbformat": 4,
  "nbformat_minor": 0,
  "metadata": {
    "kernelspec": {
      "display_name": "Python 3",
      "language": "python",
      "name": "python3"
    },
    "language_info": {
      "codemirror_mode": {
        "name": "ipython",
        "version": 3
      },
      "file_extension": ".py",
      "mimetype": "text/x-python",
      "name": "python",
      "nbconvert_exporter": "python",
      "pygments_lexer": "ipython3",
      "version": "3.8.1"
    },
    "colab": {
      "name": "Copy of Exam.ipynb",
      "provenance": [],
      "collapsed_sections": []
    }
  },
  "cells": [
    {
      "cell_type": "markdown",
      "metadata": {
        "id": "San3z8DqRzfU",
        "colab_type": "text"
      },
      "source": [
        "# Mid-term Exam\n",
        "\n",
        "Add cells to this notebook as you need for you solutions and your test of your solutions."
      ]
    },
    {
      "cell_type": "markdown",
      "metadata": {
        "id": "dZObahlNRzfV",
        "colab_type": "text"
      },
      "source": [
        "1. Write a function `first_alphabetically(lst)` that takes a list `lst` of strings and returns the string that is alphabetically first. For example, calling your function with the list of states:"
      ]
    },
    {
      "cell_type": "code",
      "metadata": {
        "id": "VCeKZWToRzfW",
        "colab_type": "code",
        "colab": {}
      },
      "source": [
        "states=['Mississippi', 'Maryland', 'Delaware', 'Connecticut', 'Virginia', 'Utah', 'Kansas',\n",
        "        'Wyoming', 'Indiana', 'Louisiana', 'Missouri', 'Illinois', 'Minnesota', 'Vermont', \n",
        "        'New Mexico', 'North Dakota', 'Wisconsin', 'Tennessee', 'New York', 'Oklahoma', \n",
        "        'Colorado', 'Pennsylvania', 'West Virginia', 'Alabama', 'Montana', 'Texas', \n",
        "        'Washington', 'Michigan', 'New Hampshire', 'Arkansas', 'Hawaii', 'Iowa', \n",
        "        'Idaho', 'Kentucky', 'Ohio', 'Nebraska', 'Alaska', 'Oregon', 'South Dakota', \n",
        "        'New Jersey', 'Florida', 'Georgia', 'Rhode Island', 'Arizona', 'Maine', \n",
        "        'South Carolina', 'California', 'Nevada', 'Massachusetts', 'North Carolina']"
      ],
      "execution_count": 0,
      "outputs": []
    },
    {
      "cell_type": "markdown",
      "metadata": {
        "id": "UZ7nwwBtRzfZ",
        "colab_type": "text"
      },
      "source": [
        "should return the string `\"Alabama\"`. Note that you can compare strings:"
      ]
    },
    {
      "cell_type": "code",
      "metadata": {
        "id": "6zX9zrbBS2lj",
        "colab_type": "code",
        "colab": {}
      },
      "source": [
        "def first_alphabetically(lst):\n",
        "\n",
        "  minimum = lst[0]\n",
        "\n",
        "  for i in lst:\n",
        "    if i < minimum:\n",
        "      minimum = i\n",
        "      \n",
        "\n",
        "  return minimum\n"
      ],
      "execution_count": 0,
      "outputs": []
    },
    {
      "cell_type": "code",
      "metadata": {
        "id": "snoNfuImdlMz",
        "colab_type": "code",
        "outputId": "9adcfeab-c887-44c6-ea5e-d1f635882131",
        "colab": {
          "base_uri": "https://localhost:8080/",
          "height": 34
        }
      },
      "source": [
        "first_alphabetically(states)"
      ],
      "execution_count": 0,
      "outputs": [
        {
          "output_type": "execute_result",
          "data": {
            "text/plain": [
              "'Alabama'"
            ]
          },
          "metadata": {
            "tags": []
          },
          "execution_count": 78
        }
      ]
    },
    {
      "cell_type": "code",
      "metadata": {
        "id": "YA3VFUcHRzfZ",
        "colab_type": "code",
        "outputId": "1a134f2f-7214-4aa9-da85-00999decc2b9",
        "colab": {
          "base_uri": "https://localhost:8080/",
          "height": 85
        }
      },
      "source": [
        "print(\"A\">\"B\")\n",
        "print(\"B\">\"A\")\n",
        "print(\"A\">\"a\")\n",
        "print(\"bca\">\"bbc\")"
      ],
      "execution_count": 0,
      "outputs": [
        {
          "output_type": "stream",
          "text": [
            "False\n",
            "True\n",
            "False\n",
            "True\n"
          ],
          "name": "stdout"
        }
      ]
    },
    {
      "cell_type": "markdown",
      "metadata": {
        "id": "AMxlU7mARzfc",
        "colab_type": "text"
      },
      "source": [
        "Make sure your implementation isn't case sensitive. Do not use python's built-in `min`, `max`, `sort` or any other sort function you find."
      ]
    },
    {
      "cell_type": "markdown",
      "metadata": {
        "id": "C4lPZMF3Rzfd",
        "colab_type": "text"
      },
      "source": [
        "2. Write a function `arg_first_alphabetically(lst)`, which does the same thing as in exercise 1 but returns the index of the first string alphabetically."
      ]
    },
    {
      "cell_type": "code",
      "metadata": {
        "id": "JhCsZPLWlXx-",
        "colab_type": "code",
        "colab": {}
      },
      "source": [
        "def arg_first_alphabetically(lst):\n",
        "  minimum = lst[0]\n",
        "  minindex = 0\n",
        "  for count, state in enumerate(lst,1):\n",
        "    if state < minimum:\n",
        "      minimum = state\n",
        "      minindex = count\n",
        "  return minindex, minimum "
      ],
      "execution_count": 0,
      "outputs": []
    },
    {
      "cell_type": "code",
      "metadata": {
        "id": "b4lGalKAmqoh",
        "colab_type": "code",
        "outputId": "ef9ff2a9-4b20-4c55-a81d-81b0b8969709",
        "colab": {
          "base_uri": "https://localhost:8080/",
          "height": 34
        }
      },
      "source": [
        "arg_first_alphabetically(states)"
      ],
      "execution_count": 0,
      "outputs": [
        {
          "output_type": "execute_result",
          "data": {
            "text/plain": [
              "(24, 'Alabama')"
            ]
          },
          "metadata": {
            "tags": []
          },
          "execution_count": 148
        }
      ]
    },
    {
      "cell_type": "markdown",
      "metadata": {
        "id": "_kn4VSuaRzfd",
        "colab_type": "text"
      },
      "source": [
        "3. Use your result in question 2 to implement a function `arg_sort_alphabetically(lst)` that returns a list that is alphabetically sorted. Sorting can be accomplished by successively applying the function in question 1 and removing the first element alphabetically. You can remove an element from a list using `pop()`. Make sure your implementation isn't case sensitive. Do not use python's built-in `min`, `max`, `sort` or any other sort function you find."
      ]
    },
    {
      "cell_type": "code",
      "metadata": {
        "id": "AXgtZShMuC9m",
        "colab_type": "code",
        "colab": {}
      },
      "source": [
        "def minimum(lst):\n",
        "  m = lst[0]\n",
        "  for i in lst[0:]:\n",
        "    if i < m:\n",
        "      m = i\n",
        "  return m\n",
        "\n",
        "def arg_sort_alphabetically(lst):\n",
        "  out = []\n",
        "\n",
        "  while lst:\n",
        "    small = minimum(lst)\n",
        "    out.append(small)\n",
        "    lst.pop(lst.index(small))\n",
        "\n",
        "  return out"
      ],
      "execution_count": 0,
      "outputs": []
    },
    {
      "cell_type": "code",
      "metadata": {
        "id": "VK0oypUKqjkv",
        "colab_type": "code",
        "outputId": "3fabe64d-a547-452b-8a0b-e3055fb2f27e",
        "colab": {
          "base_uri": "https://localhost:8080/",
          "height": 867
        }
      },
      "source": [
        "arg_sort_alphabetically(states)"
      ],
      "execution_count": 0,
      "outputs": [
        {
          "output_type": "execute_result",
          "data": {
            "text/plain": [
              "['Alabama',\n",
              " 'Alaska',\n",
              " 'Arizona',\n",
              " 'Arkansas',\n",
              " 'California',\n",
              " 'Colorado',\n",
              " 'Connecticut',\n",
              " 'Delaware',\n",
              " 'Florida',\n",
              " 'Georgia',\n",
              " 'Hawaii',\n",
              " 'Idaho',\n",
              " 'Illinois',\n",
              " 'Indiana',\n",
              " 'Iowa',\n",
              " 'Kansas',\n",
              " 'Kentucky',\n",
              " 'Louisiana',\n",
              " 'Maine',\n",
              " 'Maryland',\n",
              " 'Massachusetts',\n",
              " 'Michigan',\n",
              " 'Minnesota',\n",
              " 'Mississippi',\n",
              " 'Missouri',\n",
              " 'Montana',\n",
              " 'Nebraska',\n",
              " 'Nevada',\n",
              " 'New Hampshire',\n",
              " 'New Jersey',\n",
              " 'New Mexico',\n",
              " 'New York',\n",
              " 'North Carolina',\n",
              " 'North Dakota',\n",
              " 'Ohio',\n",
              " 'Oklahoma',\n",
              " 'Oregon',\n",
              " 'Pennsylvania',\n",
              " 'Rhode Island',\n",
              " 'South Carolina',\n",
              " 'South Dakota',\n",
              " 'Tennessee',\n",
              " 'Texas',\n",
              " 'Utah',\n",
              " 'Vermont',\n",
              " 'Virginia',\n",
              " 'Washington',\n",
              " 'West Virginia',\n",
              " 'Wisconsin',\n",
              " 'Wyoming']"
            ]
          },
          "metadata": {
            "tags": []
          },
          "execution_count": 200
        }
      ]
    },
    {
      "cell_type": "markdown",
      "metadata": {
        "id": "9nSvF1eMRzfe",
        "colab_type": "text"
      },
      "source": [
        "4. Implement a function `outer_product` that takes two one-dimensional lists of numbers and returns the two-dimensional outer product matrix defined as:\n",
        "\n",
        "\\begin{equation*}\n",
        "\\begin{pmatrix} x_1\\\\x_2\\\\ \\vdots \\\\x_m \\end{pmatrix} \\begin{pmatrix} y_1&y_2& \\dots &y_n\\end{pmatrix} =\n",
        "\\begin{pmatrix}\n",
        "x_1y_1 & x_1y_2 & \\dots & x_1y_n\\\\\n",
        "x_2y_1 & x_2y_2 & \\dots & x_2y_n\\\\\n",
        "\\vdots & \\vdots & \\ddots & \\vdots \\\\\n",
        "x_my_1 & x_my_2 & \\dots & x_my_n\n",
        "\\end{pmatrix}\n",
        "\\end{equation*}\n",
        "\n",
        "In other words the elements of matrix C which is the outer product of A and B are $c_{ij} = a_i b_j$."
      ]
    },
    {
      "cell_type": "code",
      "metadata": {
        "id": "N5N6T30YuFru",
        "colab_type": "code",
        "colab": {}
      },
      "source": [
        "def zero_matrix(m,n):\n",
        "    out=list()\n",
        "    for i in range(m):\n",
        "        row=list()\n",
        "        for j in range(n):\n",
        "            row.append(0.)\n",
        "        out.append(row)\n",
        "    return out\n",
        "\n",
        "def matrix_shape(M):\n",
        "        m=len(M)\n",
        "        n=len(M[0])\n",
        "        return m,n\n",
        "\n",
        "\n",
        "\n",
        "def outer_product(xlst,ylst):\n",
        "  m1,n1 = matrix_shape(xlst)\n",
        "  m2,n2 = matrix_shape(ylst)\n",
        "  M_out = zero_matrix(2,2)\n",
        "  for i in range(m1):\n",
        "    for j in range(n2):\n",
        "      for k in range(0,m2):\n",
        "        M_out[i][j] += xlst[i][k]*ylst[k][j]\n",
        "  return M_out\n",
        "\n"
      ],
      "execution_count": 0,
      "outputs": []
    },
    {
      "cell_type": "code",
      "metadata": {
        "id": "C3iYgSsuGUhE",
        "colab_type": "code",
        "outputId": "002d84a9-3034-46dc-aff6-6bccc95ac39c",
        "colab": {
          "base_uri": "https://localhost:8080/",
          "height": 34
        }
      },
      "source": [
        "A = [[2,\n",
        "     0]]\n",
        "B = [[4,0]]\n",
        "\n",
        "outer_product(A,B)"
      ],
      "execution_count": 0,
      "outputs": [
        {
          "output_type": "execute_result",
          "data": {
            "text/plain": [
              "[[8.0, 0.0], [0.0, 0.0]]"
            ]
          },
          "metadata": {
            "tags": []
          },
          "execution_count": 111
        }
      ]
    },
    {
      "cell_type": "markdown",
      "metadata": {
        "id": "m6udwmmGRzfe",
        "colab_type": "text"
      },
      "source": [
        "5. Implement a function `cumulative_sum(lst)` that takes a list of numbers and returns a list of same size where the element `i` is the sum of the elements `0` to `i` of the input list. For example given `[1,2,3]`, you should return [1,3,6]."
      ]
    },
    {
      "cell_type": "code",
      "metadata": {
        "id": "0fx99lJzLf5I",
        "colab_type": "code",
        "colab": {}
      },
      "source": [
        "def cumulative_sum(lst):\n",
        "  l_sum = 0\n",
        "  ans = []\n",
        "  for i in lst:\n",
        "    l_sum += i\n",
        "    ans.append(l_sum)\n",
        "  return ans"
      ],
      "execution_count": 0,
      "outputs": []
    },
    {
      "cell_type": "code",
      "metadata": {
        "id": "VR6s3bVzTt1N",
        "colab_type": "code",
        "outputId": "56d4970d-da83-4548-d946-a6199dfceed9",
        "colab": {
          "base_uri": "https://localhost:8080/",
          "height": 34
        }
      },
      "source": [
        "a = [1,2,3]\n",
        "\n",
        "b = [1,3,6,9,15,24]\n",
        "\n",
        "cumulative_sum(b)"
      ],
      "execution_count": 0,
      "outputs": [
        {
          "output_type": "execute_result",
          "data": {
            "text/plain": [
              "[1, 4, 10, 19, 34, 58]"
            ]
          },
          "metadata": {
            "tags": []
          },
          "execution_count": 123
        }
      ]
    },
    {
      "cell_type": "code",
      "metadata": {
        "id": "B7g4VONBUKDF",
        "colab_type": "code",
        "outputId": "66eb527e-dee5-4f5b-b81e-c8c3b68ec0d3",
        "colab": {
          "base_uri": "https://localhost:8080/",
          "height": 34
        }
      },
      "source": [
        "cumulative_sum(a)"
      ],
      "execution_count": 0,
      "outputs": [
        {
          "output_type": "execute_result",
          "data": {
            "text/plain": [
              "[1, 3, 6]"
            ]
          },
          "metadata": {
            "tags": []
          },
          "execution_count": 124
        }
      ]
    },
    {
      "cell_type": "markdown",
      "metadata": {
        "id": "clrbnp01Rzff",
        "colab_type": "text"
      },
      "source": [
        "6. Imagine you have a normal distributed random variable `x`. For example `x` can be grades on this exam. Using the normal distribution generator and histogram functions from lecture (provided below) and `cumulative_sum` from previous question to compute what is the value of $x_{90}$ in $\\sigma$ such that 90% of the values $x$ are below $x_{90}$. In other words:"
      ]
    },
    {
      "cell_type": "markdown",
      "metadata": {
        "id": "ExxaapbhRzff",
        "colab_type": "text"
      },
      "source": [
        "$$\n",
        "\\int_{-\\infty}^{x_{90}} N(x;\\mu=0,\\sigma=1) dx = 0.9\n",
        "$$"
      ]
    },
    {
      "cell_type": "code",
      "metadata": {
        "id": "0Vb2i9HTRzfg",
        "colab_type": "code",
        "colab": {}
      },
      "source": [
        "import math,random\n",
        "\n",
        "def arange(x_min,x_max,steps=10):\n",
        "    step_size=(x_max-x_min)/steps\n",
        "    x=x_min\n",
        "    out = list()\n",
        "    for i in range(steps):\n",
        "        out.append(x)\n",
        "        x+=step_size\n",
        "    return out\n",
        "\n",
        "def generate_normal(N,m=0,s=1):\n",
        "    out = list() \n",
        "    \n",
        "    while len(out)<N:\n",
        "      for i in range(int(float(N)/2)+1):\n",
        "        U1=random.random()\n",
        "        U2=random.random()\n",
        "    \n",
        "        out.append(s*math.sqrt(-2*math.log(U1))*math.cos(2*math.pi*U2)+m)\n",
        "        out.append(s*math.sqrt(-2*math.log(U1))*math.sin(2*math.pi*U2)+m)\n",
        "\n",
        "    return out[:N]\n",
        "\n",
        "def histogram(data, n_bins=10,x_min=None, x_max=None):\n",
        "    if x_min==None:\n",
        "        x_min=min(data)\n",
        "    if x_max==None:\n",
        "        x_max=max(data)\n",
        "        \n",
        "    bin_edges = arange(x_min,x_max,n_bins)\n",
        "    bin_edges.append(x_max)\n",
        "\n",
        "    hist=[0]*n_bins\n",
        "    \n",
        "    for d in data:\n",
        "        for i in range(n_bins):\n",
        "            if d>=bin_edges[i] and d<bin_edges[i+1]:\n",
        "                hist[i]+=1\n",
        "                break\n",
        "                \n",
        "    return hist,bin_edges\n",
        "\n"
      ],
      "execution_count": 0,
      "outputs": []
    },
    {
      "cell_type": "code",
      "metadata": {
        "id": "5-jl22xWSQye",
        "colab_type": "code",
        "colab": {
          "base_uri": "https://localhost:8080/",
          "height": 391
        },
        "outputId": "3b611306-ebb1-4bcd-e15e-a7c55d99c554"
      },
      "source": [
        "a1 = generate_normal(90)\n",
        "histogram(a,20)"
      ],
      "execution_count": 32,
      "outputs": [
        {
          "output_type": "execute_result",
          "data": {
            "text/plain": [
              "([1, 1, 0, 2, 1, 5, 7, 9, 10, 8, 11, 9, 8, 4, 5, 2, 4, 1, 1, 0],\n",
              " [-2.8685125044366098,\n",
              "  -2.5812910430095313,\n",
              "  -2.2940695815824528,\n",
              "  -2.0068481201553743,\n",
              "  -1.7196266587282956,\n",
              "  -1.4324051973012168,\n",
              "  -1.1451837358741381,\n",
              "  -0.8579622744470594,\n",
              "  -0.5707408130199807,\n",
              "  -0.28351935159290204,\n",
              "  0.0037021098341766256,\n",
              "  0.2909235712612553,\n",
              "  0.578145032688334,\n",
              "  0.8653664941154127,\n",
              "  1.1525879555424914,\n",
              "  1.43980941696957,\n",
              "  1.7270308783966488,\n",
              "  2.0142523398237273,\n",
              "  2.301473801250806,\n",
              "  2.5886952626778843,\n",
              "  2.8759167241049632])"
            ]
          },
          "metadata": {
            "tags": []
          },
          "execution_count": 32
        }
      ]
    },
    {
      "cell_type": "code",
      "metadata": {
        "id": "1bHjnr4xSqi0",
        "colab_type": "code",
        "colab": {}
      },
      "source": [
        "def x_val(a):\n",
        "  for i in range(len(a)):\n",
        "    if cumulative_sum(a)< 0.9:\n",
        "      \n",
        "\n",
        "  return x\n"
      ],
      "execution_count": 0,
      "outputs": []
    }
  ]
}