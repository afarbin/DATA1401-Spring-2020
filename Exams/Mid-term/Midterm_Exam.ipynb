{
 "cells": [
  {
   "cell_type": "markdown",
   "metadata": {
    "colab_type": "text",
    "id": "jBSwNo3gT9QE"
   },
   "source": [
    "# Mid-term Exam\n",
    "\n",
    "[![Open In Colab](https://colab.research.google.com/assets/colab-badge.svg)](https://colab.research.google.com/github//afarbin/DATA1401-Spring-2020/blob/master/Exams/Mid-term/Exam.ipynb)\n",
    "\n",
    "Add cells to this notebook as you need for your solutions and your test of your solutions."
   ]
  },
  {
   "cell_type": "markdown",
   "metadata": {
    "colab_type": "text",
    "id": "PfZSbG3HT9QF"
   },
   "source": [
    "1. Write a function `first_alphabetically(lst)` that takes a list `lst` of strings and returns the string that is alphabetically first. For example, calling your function with the list of states:"
   ]
  },
  {
   "cell_type": "code",
   "execution_count": 83,
   "metadata": {
    "colab": {},
    "colab_type": "code",
    "id": "ejVQ_UaKT9QG"
   },
   "outputs": [],
   "source": [
    "states=['Mississippi', 'Maryland', 'Delaware', 'Connecticut', 'Virginia', 'Utah', 'Kansas',\n",
    "        'Wyoming', 'Indiana', 'Louisiana', 'Missouri', 'Illinois', 'Minnesota', 'Vermont', \n",
    "        'New Mexico', 'North Dakota', 'Wisconsin', 'Tennessee', 'New York', 'Oklahoma', \n",
    "        'Colorado', 'Pennsylvania', 'West Virginia', 'Alabama', 'Montana', 'Texas', \n",
    "        'Washington', 'Michigan', 'New Hampshire', 'Arkansas', 'Hawaii', 'Iowa', \n",
    "        'Idaho', 'Kentucky', 'Ohio', 'Nebraska', 'Alaska', 'Oregon', 'South Dakota', \n",
    "        'New Jersey', 'Florida', 'Georgia', 'Rhode Island', 'Arizona', 'Maine', \n",
    "        'South Carolina', 'California', 'Nevada', 'Massachusetts', 'North Carolina']"
   ]
  },
  {
   "cell_type": "markdown",
   "metadata": {
    "colab_type": "text",
    "id": "nhWByvk4T9QJ"
   },
   "source": [
    "should return the string `\"Alabama\"`. Note that you can compare strings:"
   ]
  },
  {
   "cell_type": "code",
   "execution_count": 84,
   "metadata": {},
   "outputs": [
    {
     "name": "stdout",
     "output_type": "stream",
     "text": [
      "['Mississippi', 'Maryland', 'Delaware', 'Connecticut', 'Virginia', 'Utah', 'Kansas', 'Wyoming', 'Indiana', 'Louisiana', 'Missouri', 'Illinois', 'Minnesota', 'Vermont', 'New Mexico', 'North Dakota', 'Wisconsin', 'Tennessee', 'New York', 'Oklahoma', 'Colorado', 'Pennsylvania', 'West Virginia', 'Alabama', 'Montana', 'Texas', 'Washington', 'Michigan', 'New Hampshire', 'Arkansas', 'Hawaii', 'Iowa', 'Idaho', 'Kentucky', 'Ohio', 'Nebraska', 'Alaska', 'Oregon', 'South Dakota', 'New Jersey', 'Florida', 'Georgia', 'Rhode Island', 'Arizona', 'Maine', 'South Carolina', 'California', 'Nevada', 'Massachusetts', 'North Carolina']\n"
     ]
    }
   ],
   "source": [
    "#using sorted function: NOT ALLOWED ON EXAM\n",
    "#just to see it work \n",
    "sortedlst= sorted(states)\n",
    "#print(sortedlst)\n",
    "#print(sortedlst[0])\n",
    "print(states)"
   ]
  },
  {
   "cell_type": "code",
   "execution_count": 85,
   "metadata": {},
   "outputs": [],
   "source": [
    "#Problem 1 Practice Solution \n",
    "#def first_alphabeticallyONE(states):\n",
    "    #alphabet=['A','B','C','D','E','F','G','H','I','J','K','L','M','N','O','P','Q','R','S','T','U','V','W','X','Y','Z']\n",
    "    #outlist=list()\n",
    "    #for state in states: \n",
    "            #if state < alphabet[3]:\n",
    "                #outlist.append(state)\n",
    "    #return outlist\n",
    "    #didn't work "
   ]
  },
  {
   "cell_type": "code",
   "execution_count": 86,
   "metadata": {},
   "outputs": [],
   "source": [
    "#Practice Solution #2\n",
    "#def first_alphabetically(states):\n",
    "    #[x.lower() for x in [states]]\n",
    "    #alphabet=['a','b','c','d','e','f','g','h','i','j','k','l','m','n','o','p','q','r','s','t','u','v','w','x','y','z']\n",
    "    #outlist=list()\n",
    "    #i=0\n",
    "    #for state in states: \n",
    "            #while i < len(alphabet):\n",
    "                #outlist.append(state)\n",
    "                #i+=1\n",
    "    #return outlist\n",
    "    \n",
    "    #seems like general idea is correct, fix up the indexing and you should be good "
   ]
  },
  {
   "cell_type": "code",
   "execution_count": 87,
   "metadata": {},
   "outputs": [],
   "source": [
    "#Practice Solution #3\n",
    "#def first_alphabetically(lst):\n",
    "    #k=0\n",
    "   # j=0\n",
    "    #alphabet=['a','b','c','d','e','f','g','h','i','j','k','l','m','n','o','p','q','r','s','t','u','v','w','x','y','z']\n",
    "    #outlist=list()\n",
    "    #for i in range(len(lst)):\n",
    "        #lst[i]=lst[i].lower()\n",
    "        \n",
    "    #for word in lst:\n",
    "        #while j < len(lst):\n",
    "            #if word <=alphabet[j]:\n",
    "                #outlist.append(word)\n",
    "                #lst.remove(word)\n",
    "               # j+=1\n",
    "        \n",
    "        \n",
    "        \n",
    "        \n",
    "        #indexing!!\n",
    "        \n",
    "   # print(outlist)\n",
    "    \n",
    "   # return outlist"
   ]
  },
  {
   "cell_type": "code",
   "execution_count": 88,
   "metadata": {},
   "outputs": [],
   "source": [
    "#lst=['a','c','d','b']\n",
    "#func(lst)\n",
    "#WORKS IN ALPHABETIZING THIS LIST!!! "
   ]
  },
  {
   "cell_type": "code",
   "execution_count": 89,
   "metadata": {},
   "outputs": [],
   "source": [
    "#FINAL SOLUTION TO PROBLEM 1\n",
    "def first_alphabetically(states):\n",
    "    for i in range(len(states)): #range: 0-49\n",
    "        states[i]=states[i].lower() #lowercases all the values in the list!! no longer case sensitive \n",
    "        \n",
    "    for state in range(len(states)-1,0,-1): #second for loop is in charge of organizing alphabetically\n",
    "        for i in range(state):\n",
    "            if states[i] > states[i+1]: #if state at index i is greater than the state at the index next to it...\n",
    "                newlst = states[i]      # it is essentially \"added\" to a newlst and is indexed to move on to next value\n",
    "                states[i] = states[i+1]\n",
    "                states[i+1] = newlst\n",
    "    return states[0] # we only want it to return alabama, which is why we ask for [0]\n",
    "                    # if we had just returned states, it wouldve given us the entire list alphabetically ordered\n",
    "\n"
   ]
  },
  {
   "cell_type": "code",
   "execution_count": 90,
   "metadata": {},
   "outputs": [
    {
     "data": {
      "text/plain": [
       "'alabama'"
      ]
     },
     "execution_count": 90,
     "metadata": {},
     "output_type": "execute_result"
    }
   ],
   "source": [
    "first_alphabetically(states)"
   ]
  },
  {
   "cell_type": "code",
   "execution_count": 91,
   "metadata": {},
   "outputs": [],
   "source": [
    "def first_alphabetically(states):\n",
    "    for i in range(len(states)): #range: 0-49\n",
    "        states[i]=states[i].lower() #lowercases all the values in the list!! no longer case sensitive \n",
    "        \n",
    "    for state in range(len(states)-1,0,-1): #second for loop is in charge of organizing alphabetically\n",
    "        for i in range(state):\n",
    "            if states[i] > states[i+1]: #if state at index i is greater than the state at the index next to it...\n",
    "                newlst = states[i]      # it is essentially \"added\" to a newlst and is indexed to move on to next value\n",
    "                states[i] = states[i+1]\n",
    "                states[i+1] = newlst\n",
    "    return states #RETURNS THE ENTIRE LIST OF STRINGS ALPHABETICALLY \n",
    "\n"
   ]
  },
  {
   "cell_type": "code",
   "execution_count": 92,
   "metadata": {},
   "outputs": [
    {
     "data": {
      "text/plain": [
       "['alabama',\n",
       " 'alaska',\n",
       " 'arizona',\n",
       " 'arkansas',\n",
       " 'california',\n",
       " 'colorado',\n",
       " 'connecticut',\n",
       " 'delaware',\n",
       " 'florida',\n",
       " 'georgia',\n",
       " 'hawaii',\n",
       " 'idaho',\n",
       " 'illinois',\n",
       " 'indiana',\n",
       " 'iowa',\n",
       " 'kansas',\n",
       " 'kentucky',\n",
       " 'louisiana',\n",
       " 'maine',\n",
       " 'maryland',\n",
       " 'massachusetts',\n",
       " 'michigan',\n",
       " 'minnesota',\n",
       " 'mississippi',\n",
       " 'missouri',\n",
       " 'montana',\n",
       " 'nebraska',\n",
       " 'nevada',\n",
       " 'new hampshire',\n",
       " 'new jersey',\n",
       " 'new mexico',\n",
       " 'new york',\n",
       " 'north carolina',\n",
       " 'north dakota',\n",
       " 'ohio',\n",
       " 'oklahoma',\n",
       " 'oregon',\n",
       " 'pennsylvania',\n",
       " 'rhode island',\n",
       " 'south carolina',\n",
       " 'south dakota',\n",
       " 'tennessee',\n",
       " 'texas',\n",
       " 'utah',\n",
       " 'vermont',\n",
       " 'virginia',\n",
       " 'washington',\n",
       " 'west virginia',\n",
       " 'wisconsin',\n",
       " 'wyoming']"
      ]
     },
     "execution_count": 92,
     "metadata": {},
     "output_type": "execute_result"
    }
   ],
   "source": [
    "first_alphabetically(states)"
   ]
  },
  {
   "cell_type": "code",
   "execution_count": 93,
   "metadata": {
    "colab": {},
    "colab_type": "code",
    "id": "nspsDE9nT9QK",
    "outputId": "80ebefb2-775b-4b27-b9b0-f60aa321dac0"
   },
   "outputs": [
    {
     "name": "stdout",
     "output_type": "stream",
     "text": [
      "False\n",
      "True\n",
      "False\n",
      "True\n",
      "True\n"
     ]
    }
   ],
   "source": [
    "print(\"A\">\"B\")\n",
    "print(\"B\">\"A\")\n",
    "print(\"A\">\"a\")\n",
    "print(\"bca\">\"bbc\")\n",
    "print('z'>'a')"
   ]
  },
  {
   "cell_type": "markdown",
   "metadata": {
    "colab_type": "text",
    "id": "w6gD7LCwT9QN"
   },
   "source": [
    "Make sure your implementation isn't case sensitive. Do not use python's built-in `min`, `max`, `sort` or any other sort function you find."
   ]
  },
  {
   "cell_type": "markdown",
   "metadata": {
    "colab_type": "text",
    "id": "17S75tnQT9QN"
   },
   "source": [
    "2. Write a function `arg_first_alphabetically(lst)`, which does the same thing as in exercise 1 but returns the index of the first string alphabetically."
   ]
  },
  {
   "cell_type": "code",
   "execution_count": 94,
   "metadata": {},
   "outputs": [],
   "source": [
    "#possible solution to problem #2\n",
    "def arg_first_alphabetically(states):\n",
    "    for j in range(len(states)):\n",
    "        while j<=0:\n",
    "            print (j, end=' ')\n",
    "            print(states[j])\n",
    "            j+=1  #we know that at index 0, we have the first value in the alphabetizied list\n",
    "            #there isn't really a point to going beyond that, can't we just set a condition that prevents\n",
    "            #the function from going further in the list?"
   ]
  },
  {
   "cell_type": "code",
   "execution_count": 95,
   "metadata": {},
   "outputs": [
    {
     "name": "stdout",
     "output_type": "stream",
     "text": [
      "0 alabama\n"
     ]
    }
   ],
   "source": [
    "arg_first_alphabetically(states) \n",
    "#output is index and state "
   ]
  },
  {
   "cell_type": "code",
   "execution_count": 96,
   "metadata": {},
   "outputs": [],
   "source": [
    "def arg_first_alphabeticallyY(states):\n",
    "    outlist=list()\n",
    "    for j in range(len(states)):\n",
    "        if j<(len(states)):\n",
    "            outlist.append(j)\n",
    "            j+=1\n",
    "    return outlist"
   ]
  },
  {
   "cell_type": "code",
   "execution_count": 97,
   "metadata": {},
   "outputs": [
    {
     "data": {
      "text/plain": [
       "[0,\n",
       " 1,\n",
       " 2,\n",
       " 3,\n",
       " 4,\n",
       " 5,\n",
       " 6,\n",
       " 7,\n",
       " 8,\n",
       " 9,\n",
       " 10,\n",
       " 11,\n",
       " 12,\n",
       " 13,\n",
       " 14,\n",
       " 15,\n",
       " 16,\n",
       " 17,\n",
       " 18,\n",
       " 19,\n",
       " 20,\n",
       " 21,\n",
       " 22,\n",
       " 23,\n",
       " 24,\n",
       " 25,\n",
       " 26,\n",
       " 27,\n",
       " 28,\n",
       " 29,\n",
       " 30,\n",
       " 31,\n",
       " 32,\n",
       " 33,\n",
       " 34,\n",
       " 35,\n",
       " 36,\n",
       " 37,\n",
       " 38,\n",
       " 39,\n",
       " 40,\n",
       " 41,\n",
       " 42,\n",
       " 43,\n",
       " 44,\n",
       " 45,\n",
       " 46,\n",
       " 47,\n",
       " 48,\n",
       " 49]"
      ]
     },
     "execution_count": 97,
     "metadata": {},
     "output_type": "execute_result"
    }
   ],
   "source": [
    "arg_first_alphabeticallyY(states)"
   ]
  },
  {
   "cell_type": "code",
   "execution_count": 98,
   "metadata": {},
   "outputs": [],
   "source": [
    "#this does the opposite, it gives the index of the last value in the list...\n",
    "#keep it as reference example \n",
    "def index_value(x):\n",
    "    index_value=x[0]\n",
    "    for i,x in enumerate(x):\n",
    "        if index_value<x:\n",
    "            max_value=x\n",
    "            max_index=i\n",
    "    \n",
    "    return max_index"
   ]
  },
  {
   "cell_type": "code",
   "execution_count": 99,
   "metadata": {},
   "outputs": [
    {
     "data": {
      "text/plain": [
       "49"
      ]
     },
     "execution_count": 99,
     "metadata": {},
     "output_type": "execute_result"
    }
   ],
   "source": [
    "index_value(states)"
   ]
  },
  {
   "cell_type": "markdown",
   "metadata": {
    "colab_type": "text",
    "id": "hZnFi6GlT9QO"
   },
   "source": [
    "3. Use your result in question 2 to implement a function `arg_sort_alphabetically(lst)` that returns a list that is alphabetically sorted. Sorting can be accomplished by successively applying the function in question 1 and removing the first element alphabetically. You can remove an element from a list using `pop()`. Make sure your implementation isn't case sensitive. Do not use python's built-in `min`, `max`, `sort` or any other sort function you find."
   ]
  },
  {
   "cell_type": "code",
   "execution_count": 100,
   "metadata": {},
   "outputs": [],
   "source": [
    "#just combine the two, the indexes and the string values\n",
    "def arg_sort_alphabetically(states):\n",
    "    for j in range(len(states)): \n",
    "        print (j, end = \" \") \n",
    "        print (states[j])\n",
    "        #returning got confusing/took too long, work on other problems maybe come back to it "
   ]
  },
  {
   "cell_type": "code",
   "execution_count": 101,
   "metadata": {},
   "outputs": [
    {
     "name": "stdout",
     "output_type": "stream",
     "text": [
      "0 alabama\n",
      "1 alaska\n",
      "2 arizona\n",
      "3 arkansas\n",
      "4 california\n",
      "5 colorado\n",
      "6 connecticut\n",
      "7 delaware\n",
      "8 florida\n",
      "9 georgia\n",
      "10 hawaii\n",
      "11 idaho\n",
      "12 illinois\n",
      "13 indiana\n",
      "14 iowa\n",
      "15 kansas\n",
      "16 kentucky\n",
      "17 louisiana\n",
      "18 maine\n",
      "19 maryland\n",
      "20 massachusetts\n",
      "21 michigan\n",
      "22 minnesota\n",
      "23 mississippi\n",
      "24 missouri\n",
      "25 montana\n",
      "26 nebraska\n",
      "27 nevada\n",
      "28 new hampshire\n",
      "29 new jersey\n",
      "30 new mexico\n",
      "31 new york\n",
      "32 north carolina\n",
      "33 north dakota\n",
      "34 ohio\n",
      "35 oklahoma\n",
      "36 oregon\n",
      "37 pennsylvania\n",
      "38 rhode island\n",
      "39 south carolina\n",
      "40 south dakota\n",
      "41 tennessee\n",
      "42 texas\n",
      "43 utah\n",
      "44 vermont\n",
      "45 virginia\n",
      "46 washington\n",
      "47 west virginia\n",
      "48 wisconsin\n",
      "49 wyoming\n"
     ]
    }
   ],
   "source": [
    "arg_sort_alphabetically(states)"
   ]
  },
  {
   "cell_type": "markdown",
   "metadata": {
    "colab_type": "text",
    "id": "S2aWvwjHT9QO"
   },
   "source": [
    "4. Implement a function `outer_product` that takes two one-dimensional lists of numbers and returns the two-dimensional outer product matrix defined as:\n",
    "\n",
    "\\begin{equation*}\n",
    "\\begin{pmatrix} x_1\\\\x_2\\\\ \\vdots \\\\x_m \\end{pmatrix} \\begin{pmatrix} y_1&y_2& \\dots &y_n\\end{pmatrix} =\n",
    "\\begin{pmatrix}\n",
    "x_1y_1 & x_1y_2 & \\dots & x_1y_n\\\\\n",
    "x_2y_1 & x_2y_2 & \\dots & x_2y_n\\\\\n",
    "\\vdots & \\vdots & \\ddots & \\vdots \\\\\n",
    "x_my_1 & x_my_2 & \\dots & x_my_n\n",
    "\\end{pmatrix}\n",
    "\\end{equation*}\n",
    "\n",
    "In other words the elements of matrix C which is the outer product of A and B are $c_{ij} = a_i b_j$."
   ]
  },
  {
   "cell_type": "code",
   "execution_count": 102,
   "metadata": {},
   "outputs": [],
   "source": [
    "lst1=([2,3,4])\n",
    "lst2=([4,5,6])"
   ]
  },
  {
   "cell_type": "code",
   "execution_count": 103,
   "metadata": {},
   "outputs": [],
   "source": [
    "#PROBLEM 4 SOLUTION \n",
    "def outer_product(lst1,lst2):\n",
    "    #rows, cols = (len(lst1),len(lst2))\n",
    "    outlist=list()\n",
    "    for i in lst1:\n",
    "        for j in lst2:\n",
    "            v = i * j \n",
    "            \n",
    "            outlist.append(v)\n",
    "            rows, cols = (len(lst1),len(lst2)) \n",
    "            arr = [[outlist]]*rows\n",
    "            \n",
    "           \n",
    "            \n",
    "    j+=1\n",
    "    i+=1\n",
    "     \n",
    "    \n",
    "    #print(arr)\n",
    "    return outlist"
   ]
  },
  {
   "cell_type": "code",
   "execution_count": 104,
   "metadata": {},
   "outputs": [
    {
     "data": {
      "text/plain": [
       "[8, 10, 12, 12, 15, 18, 16, 20, 24]"
      ]
     },
     "execution_count": 104,
     "metadata": {},
     "output_type": "execute_result"
    }
   ],
   "source": [
    "outer_product(lst1,lst2)\n",
    "#figure out how to get it into 3 seperate 1d arrays\n",
    "#maybe use a while function \n",
    "# while i <= len(lst1)....\n",
    "#go study for other exams rn, maybe come back to it \n",
    "#i got all the right values and it is working like it should. \n",
    "#maybe diff outlists?"
   ]
  },
  {
   "cell_type": "markdown",
   "metadata": {
    "colab_type": "text",
    "id": "lsefp8GlT9QO"
   },
   "source": [
    "5. Implement a function `cumulative_sum(lst)` that takes a list of numbers and returns a list of same size where the element `i` is the sum of the elements `0` to `i` of the input list. For example given `[1,2,3]`, you should return [1,3,6]."
   ]
  },
  {
   "cell_type": "code",
   "execution_count": 105,
   "metadata": {},
   "outputs": [],
   "source": [
    "#Problem 5 Solution\n",
    "def cumulative_sum(lst):\n",
    "    outlist=list()\n",
    "    i=0\n",
    "    v=0\n",
    "    while i < len(lst):\n",
    "        v= v + lst[i]\n",
    "        outlist.append(v)\n",
    "        i+=1\n",
    "    return outlist\n",
    "            "
   ]
  },
  {
   "cell_type": "code",
   "execution_count": 106,
   "metadata": {},
   "outputs": [
    {
     "data": {
      "text/plain": [
       "[1, 3, 6]"
      ]
     },
     "execution_count": 106,
     "metadata": {},
     "output_type": "execute_result"
    }
   ],
   "source": [
    "#Problem 5 Testing \n",
    "cumulative_sum([1,2,3])"
   ]
  },
  {
   "cell_type": "markdown",
   "metadata": {
    "colab_type": "text",
    "id": "UeRqbhYtT9QP"
   },
   "source": [
    "6. Imagine you have a normal distributed random variable `x`. For example `x` can be grades on this exam. Using the normal distribution generator and histogram functions from lecture (provided below) and `cumulative_sum` from previous question to compute what is the value of `x_{90}` in $\\sigma$ such that 90% of the values $x$ are below `x_{90}`. In other words:"
   ]
  },
  {
   "cell_type": "markdown",
   "metadata": {
    "colab_type": "text",
    "id": "uy8hkAndT9QP"
   },
   "source": [
    "$$\n",
    "\\int_{-\\infty}^{x_{90}} N(x;\\mu=0,\\sigma=1) dx = 0.9\n",
    "$$"
   ]
  },
  {
   "cell_type": "code",
   "execution_count": null,
   "metadata": {},
   "outputs": [],
   "source": [
    "#Professor said this one was \"optional\"\n",
    "#I don't have time to do this one, I have 2 other exams on friday and another one next week \n",
    "#Behind on labs\n",
    "#Work on those, do this during free time later "
   ]
  },
  {
   "cell_type": "code",
   "execution_count": 0,
   "metadata": {
    "colab": {},
    "colab_type": "code",
    "id": "1jGyHwFdT9QQ"
   },
   "outputs": [],
   "source": [
    "def generate_normal(N,m=0,s=1):\n",
    "    out = list() \n",
    "    \n",
    "    while len(out)<N:\n",
    "#    for _ in range(int(float(N)/2)+1):\n",
    "        U1=random.random()\n",
    "        U2=random.random()\n",
    "    \n",
    "        out.append(s*math.sqrt(-2*math.log(U1))*math.cos(2*math.pi*U2)+m)\n",
    "        out.append(s*math.sqrt(-2*math.log(U1))*math.sin(2*math.pi*U2)+m)\n",
    "\n",
    "    return out[:N]\n",
    "\n",
    "def histogram(data, n_bins=10,x_min=None, x_max=None):\n",
    "    if x_min==None:\n",
    "        x_min=min(data)\n",
    "    if x_max==None:\n",
    "        x_max=max(data)\n",
    "        \n",
    "    bin_edges = arange(x_min,x_max,n_bins)\n",
    "    bin_edges.append(x_max)\n",
    "\n",
    "    hist=[0]*n_bins\n",
    "    \n",
    "    for d in data:\n",
    "        for i in range(n_bins):\n",
    "            if d>=bin_edges[i] and d<bin_edges[i+1]:\n",
    "                hist[i]+=1\n",
    "                break\n",
    "                \n",
    "    return hist,bin_edges\n",
    "\n"
   ]
  },
  {
   "cell_type": "code",
   "execution_count": 0,
   "metadata": {
    "colab": {},
    "colab_type": "code",
    "id": "l-f451iPT9QS"
   },
   "outputs": [],
   "source": [
    "def func(lst):\n",
    "    for num in range(len(lst)-1,0,-1):\n",
    "        for i in range(num):\n",
    "            if lst[i] > lst[i+1]:\n",
    "                temp=lst[i]\n",
    "                lst[i]=lst[i+1]\n",
    "                lst[1+i]=temp\n",
    "    return lst"
   ]
  }
 ],
 "metadata": {
  "colab": {
   "name": "Exam.ipynb",
   "provenance": []
  },
  "kernelspec": {
   "display_name": "Python 3",
   "language": "python",
   "name": "python3"
  },
  "language_info": {
   "codemirror_mode": {
    "name": "ipython",
    "version": 3
   },
   "file_extension": ".py",
   "mimetype": "text/x-python",
   "name": "python",
   "nbconvert_exporter": "python",
   "pygments_lexer": "ipython3",
   "version": "3.7.4"
  }
 },
 "nbformat": 4,
 "nbformat_minor": 1
}
