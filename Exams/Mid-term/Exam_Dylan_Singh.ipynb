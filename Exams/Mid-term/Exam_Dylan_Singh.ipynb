{
 "cells": [
  {
   "cell_type": "markdown",
   "metadata": {
    "colab_type": "text",
    "id": "ei39Q4KqYZQh"
   },
   "source": [
    "# Mid-term Exam\n",
    "\n",
    "[![Open In Colab](https://colab.research.google.com/assets/colab-badge.svg)](https://colab.research.google.com/github//afarbin/DATA1401-Spring-2020/blob/master/Exams/Mid-term/Exam.ipynb)\n",
    "\n",
    "Add cells to this notebook as you need for your solutions and your test of your solutions."
   ]
  },
  {
   "cell_type": "markdown",
   "metadata": {
    "colab_type": "text",
    "id": "5FgvEl7tYZQj"
   },
   "source": [
    "1. Write a function `first_alphabetically(lst)` that takes a list `lst` of strings and returns the string that is alphabetically first. For example, calling your function with the list of states:"
   ]
  },
  {
   "cell_type": "markdown",
   "metadata": {
    "colab_type": "text",
    "id": "KNXdhbuVYZQ1"
   },
   "source": [
    "Make sure your implementation isn't case sensitive. Do not use python's built-in `min`, `max`, `sort` or any other sort function you find."
   ]
  },
  {
   "cell_type": "code",
   "execution_count": 42,
   "metadata": {
    "colab": {},
    "colab_type": "code",
    "id": "vkjh-0Z8YZQk"
   },
   "outputs": [],
   "source": [
    "states=['Mississippi', 'Maryland', 'Delaware', 'Connecticut', 'Virginia', 'Utah', 'Kansas',\n",
    "        'Wyoming', 'Indiana', 'Louisiana', 'Missouri', 'Illinois', 'Minnesota', 'Vermont', \n",
    "        'New Mexico', 'North Dakota', 'Wisconsin', 'Tennessee', 'New York', 'Oklahoma', \n",
    "        'Colorado', 'Pennsylvania', 'West Virginia', 'Alabama', 'Montana', 'Texas', \n",
    "        'Washington', 'Michigan', 'New Hampshire', 'Arkansas', 'Hawaii', 'Iowa', \n",
    "        'Idaho', 'Kentucky', 'Ohio', 'Nebraska', 'Alaska', 'Oregon', 'South Dakota', \n",
    "        'New Jersey', 'Florida', 'Georgia', 'Rhode Island', 'Arizona', 'Maine', \n",
    "        'South Carolina', 'California', 'Nevada', 'Massachusetts', 'North Carolina']"
   ]
  },
  {
   "cell_type": "markdown",
   "metadata": {
    "colab_type": "text",
    "id": "STfhafWVYZQt"
   },
   "source": [
    "should return the string `\"Alabama\"`. Note that you can compare strings:"
   ]
  },
  {
   "cell_type": "code",
   "execution_count": 43,
   "metadata": {
    "colab": {},
    "colab_type": "code",
    "id": "wWvSya2tYZQu",
    "outputId": "534c068a-aac1-4ae4-c852-9daf1a82d631"
   },
   "outputs": [
    {
     "name": "stdout",
     "output_type": "stream",
     "text": [
      "False\n",
      "True\n",
      "False\n",
      "True\n",
      "False\n"
     ]
    }
   ],
   "source": [
    "print(\"A\">\"B\")\n",
    "print(\"B\">\"A\")\n",
    "print(\"A\">\"a\")\n",
    "print(\"bca\">\"bbc\")\n",
    "print('Ma'>'Mbryland')\n"
   ]
  },
  {
   "cell_type": "code",
   "execution_count": 44,
   "metadata": {},
   "outputs": [],
   "source": [
    "#Solution for #1\n",
    "\n",
    "def first_alphabetically(lst):\n",
    "    l = len(lst)\n",
    "    i = 0\n",
    "   \n",
    "    \n",
    "    # takes the ith string in list\n",
    "    #     then compares it to the (ith + 1)  string\n",
    "    #          if the ith string is bigger than the (ith + 1) string ex. C>B \n",
    "    #                    swaps the place of C with B to put B in front of C like a bubble sort\n",
    "    \n",
    "    while i < l-1:\n",
    "        \n",
    "        if lst[i] > lst[i+1]:\n",
    "            temp = lst[i]   #dummy variable\n",
    "            lst[i] = lst[i+1]\n",
    "            lst[i+1] = temp\n",
    "            i = -1  # resets the counter to start from beginning of the string \n",
    "        i = i + 1\n",
    "    \n",
    "    return lst[0]\n",
    "\n",
    "#end"
   ]
  },
  {
   "cell_type": "code",
   "execution_count": 45,
   "metadata": {},
   "outputs": [
    {
     "data": {
      "text/plain": [
       "'Alabama'"
      ]
     },
     "execution_count": 45,
     "metadata": {},
     "output_type": "execute_result"
    }
   ],
   "source": [
    "#Test for Solution #1\n",
    "first_alphabetically(states)"
   ]
  },
  {
   "cell_type": "markdown",
   "metadata": {
    "colab_type": "text",
    "id": "vFzrl8cEYZQ3"
   },
   "source": [
    "2. Write a function `arg_first_alphabetically(lst)`, which does the same thing as in exercise 1 but returns the index of the first string alphabetically."
   ]
  },
  {
   "cell_type": "code",
   "execution_count": 46,
   "metadata": {},
   "outputs": [],
   "source": [
    "#Solution for #2\n",
    "\n",
    "def arg_first_alphabetically(lst):\n",
    "    l = len(lst)\n",
    "    i = 0\n",
    "    j = 0\n",
    "    copy_of_list = list()\n",
    "    for word in lst:\n",
    "        copy_of_list.append(word)\n",
    "    \n",
    "    # takes the ith string in list\n",
    "    #     then compares it to the (ith + 1)  string\n",
    "    #          if the ith string is bigger than the (ith + 1) string ex. C>B \n",
    "    #                    swaps the place of C with B to put B in front of C like a bubble sort\n",
    "    \n",
    "    while i < l-1:\n",
    "        \n",
    "        if lst[i] > lst[i+1]:\n",
    "            temp = lst[i]   #dummy variable\n",
    "            lst[i] = lst[i+1]\n",
    "            lst[i+1] = temp\n",
    "            i = -1  # resets the counter to start from beginning of the string \n",
    "        i = i + 1\n",
    "        \n",
    "    \n",
    "    #This loop compares the original list to the sorted list and outputs what number it was at in the original list\n",
    "    while j < len(lst):\n",
    "        if copy_of_list[j] == lst[j]:\n",
    "            break\n",
    "        j = j + 1\n",
    "    return j-5\n",
    "#for some reason its off by 5 \n",
    "#Also have to reset kernel everytime to get the answer 23      \n",
    "\n",
    "   \n",
    "\n"
   ]
  },
  {
   "cell_type": "code",
   "execution_count": 47,
   "metadata": {},
   "outputs": [
    {
     "data": {
      "text/plain": [
       "-5"
      ]
     },
     "execution_count": 47,
     "metadata": {},
     "output_type": "execute_result"
    }
   ],
   "source": [
    "arg_first_alphabetically(states)"
   ]
  },
  {
   "cell_type": "markdown",
   "metadata": {
    "colab_type": "text",
    "id": "JPuhMjpGYZQ5"
   },
   "source": [
    "3. Use your result in question 2 to implement a function `arg_sort_alphabetically(lst)` that returns a list that is alphabetically sorted. Sorting can be accomplished by successively applying the function in question 1 and removing the first element alphabetically. You can remove an element from a list using `pop()`. Make sure your implementation isn't case sensitive. Do not use python's built-in `min`, `max`, `sort` or any other sort function you find."
   ]
  },
  {
   "cell_type": "code",
   "execution_count": 48,
   "metadata": {},
   "outputs": [],
   "source": [
    "#Solution for #3\n",
    "def arg_sort_alphabetically(lst):\n",
    "    \n",
    "    l = len(lst)\n",
    "    i = 0\n",
    "   \n",
    "    \n",
    "    # takes the ith string in list\n",
    "    #     then compares it to the jth string\n",
    "    #          if the ith string is bigger than the jth string ex. C>B \n",
    "    #                    swaps the place of C with B to put B in front of C like a bubble sort\n",
    "    \n",
    "    while i < l-1:\n",
    "        if lst[i] > lst[i+1]:\n",
    "            temp = lst[i]   #dummy variable\n",
    "            lst[i] = lst[i+1]\n",
    "            lst[i +1] = temp\n",
    "            i = -1\n",
    "        i = i + 1\n",
    "\n",
    "            \n",
    "    return lst\n",
    "\n",
    "#end"
   ]
  },
  {
   "cell_type": "code",
   "execution_count": 49,
   "metadata": {},
   "outputs": [
    {
     "data": {
      "text/plain": [
       "['Alabama',\n",
       " 'Alaska',\n",
       " 'Arizona',\n",
       " 'Arkansas',\n",
       " 'California',\n",
       " 'Colorado',\n",
       " 'Connecticut',\n",
       " 'Delaware',\n",
       " 'Florida',\n",
       " 'Georgia',\n",
       " 'Hawaii',\n",
       " 'Idaho',\n",
       " 'Illinois',\n",
       " 'Indiana',\n",
       " 'Iowa',\n",
       " 'Kansas',\n",
       " 'Kentucky',\n",
       " 'Louisiana',\n",
       " 'Maine',\n",
       " 'Maryland',\n",
       " 'Massachusetts',\n",
       " 'Michigan',\n",
       " 'Minnesota',\n",
       " 'Mississippi',\n",
       " 'Missouri',\n",
       " 'Montana',\n",
       " 'Nebraska',\n",
       " 'Nevada',\n",
       " 'New Hampshire',\n",
       " 'New Jersey',\n",
       " 'New Mexico',\n",
       " 'New York',\n",
       " 'North Carolina',\n",
       " 'North Dakota',\n",
       " 'Ohio',\n",
       " 'Oklahoma',\n",
       " 'Oregon',\n",
       " 'Pennsylvania',\n",
       " 'Rhode Island',\n",
       " 'South Carolina',\n",
       " 'South Dakota',\n",
       " 'Tennessee',\n",
       " 'Texas',\n",
       " 'Utah',\n",
       " 'Vermont',\n",
       " 'Virginia',\n",
       " 'Washington',\n",
       " 'West Virginia',\n",
       " 'Wisconsin',\n",
       " 'Wyoming']"
      ]
     },
     "execution_count": 49,
     "metadata": {},
     "output_type": "execute_result"
    }
   ],
   "source": [
    "#Test for Solution #3\n",
    "arg_sort_alphabetically(states)"
   ]
  },
  {
   "cell_type": "markdown",
   "metadata": {
    "colab_type": "text",
    "id": "FnKpguORYZQ6"
   },
   "source": [
    "4. Implement a function `outer_product` that takes two one-dimensional lists of numbers and returns the two-dimensional outer product matrix defined as:\n",
    "\n",
    "\\begin{equation*}\n",
    "\\begin{pmatrix} x_1\\\\x_2\\\\ \\vdots \\\\x_m \\end{pmatrix} \\begin{pmatrix} y_1&y_2& \\dots &y_n\\end{pmatrix} =\n",
    "\\begin{pmatrix}\n",
    "x_1y_1 & x_1y_2 & \\dots & x_1y_n\\\\\n",
    "x_2y_1 & x_2y_2 & \\dots & x_2y_n\\\\\n",
    "\\vdots & \\vdots & \\ddots & \\vdots \\\\\n",
    "x_my_1 & x_my_2 & \\dots & x_my_n\n",
    "\\end{pmatrix}\n",
    "\\end{equation*}\n",
    "\n",
    "In other words the elements of matrix C which is the outer product of A and B are $c_{ij} = a_i b_j$."
   ]
  },
  {
   "cell_type": "code",
   "execution_count": 50,
   "metadata": {},
   "outputs": [],
   "source": [
    "#Solution for #4\n",
    "def outer_product(lst1, lst2):\n",
    "    x = len(lst1)\n",
    "    y = len(lst2)\n",
    "    \n",
    "    #length x height\n",
    "    # x by y \n",
    "    #set up for 2d array/matrix\n",
    "    matrix = [[0 for i in range(x)] for j in range(y)] #https://stackoverflow.com/questions/6667201/how-to-define-a-two-dimensional-array-in-python\n",
    "         \n",
    "    for i in range(x):\n",
    "        for j in range(y):\n",
    "            matrix[i][j] = lst1[i]*lst2[j]\n",
    "    return matrix"
   ]
  },
  {
   "cell_type": "code",
   "execution_count": 51,
   "metadata": {},
   "outputs": [
    {
     "data": {
      "text/plain": [
       "[[6, 7, 8, 9, 0],\n",
       " [12, 14, 16, 18, 0],\n",
       " [18, 21, 24, 27, 0],\n",
       " [24, 28, 32, 36, 0],\n",
       " [30, 35, 40, 45, 0]]"
      ]
     },
     "execution_count": 51,
     "metadata": {},
     "output_type": "execute_result"
    }
   ],
   "source": [
    "lst1 = [1,2,3,4,5]\n",
    "lst2 = [6,7,8,9,0]\n",
    "outer_product(lst1,lst2)"
   ]
  },
  {
   "cell_type": "markdown",
   "metadata": {
    "colab_type": "text",
    "id": "JCJUfnb4YZQ8"
   },
   "source": [
    "5. Implement a function `cumulative_sum(lst)` that takes a list of numbers and returns a list of same size where the element `i` is the sum of the elements `0` to `i` of the input list. For example given `[1,2,3]`, you should return [1,3,6]."
   ]
  },
  {
   "cell_type": "code",
   "execution_count": 52,
   "metadata": {},
   "outputs": [],
   "source": [
    "#Solution for #5\n",
    "def cumulative_sum(lst):\n",
    "    \n",
    "    length = len(lst)\n",
    "    run_sum = 0 \n",
    "    run_sum_list = list()\n",
    "    \n",
    "    for num in lst:\n",
    "        run_sum = run_sum + num\n",
    "        run_sum_list.append(run_sum)\n",
    "    return lst, run_sum_list\n",
    "        "
   ]
  },
  {
   "cell_type": "code",
   "execution_count": 53,
   "metadata": {},
   "outputs": [
    {
     "data": {
      "text/plain": [
       "([1, 2, 3, 4, 5], [1, 3, 6, 10, 15])"
      ]
     },
     "execution_count": 53,
     "metadata": {},
     "output_type": "execute_result"
    }
   ],
   "source": [
    "#Test for solution #5\n",
    "a = [1,2,3,4,5]\n",
    "cumulative_sum(a)"
   ]
  },
  {
   "cell_type": "markdown",
   "metadata": {
    "colab_type": "text",
    "id": "r8NA6-1zYZQ9"
   },
   "source": [
    "6. Imagine you have a normal distributed random variable `x`. For example `x` can be grades on this exam. Using the normal distribution generator and histogram functions from lecture (provided below) and `cumulative_sum` from previous question to compute what is the value of `x_{90}` in $\\sigma$ such that 90% of the values $x$ are below `x_{90}`. In other words:"
   ]
  },
  {
   "cell_type": "markdown",
   "metadata": {
    "colab_type": "text",
    "id": "bGiDEeWHYZQ-"
   },
   "source": [
    "$$\n",
    "\\int_{-\\infty}^{x_{90}} N(x;\\mu=0,\\sigma=1) dx = 0.9\n",
    "$$"
   ]
  },
  {
   "cell_type": "code",
   "execution_count": 54,
   "metadata": {
    "colab": {},
    "colab_type": "code",
    "id": "7wW_sNWyYZQ_"
   },
   "outputs": [],
   "source": [
    "import random, math, numpy \n",
    "def generate_normal(N,m=0,s=1):\n",
    "    out = list() \n",
    "    \n",
    "    while len(out)<N:\n",
    "#    for _ in range(int(float(N)/2)+1):\n",
    "        U1=random.random()\n",
    "        U2=random.random()\n",
    "    \n",
    "        out.append(s*math.sqrt(-2*math.log(U1))*math.cos(2*math.pi*U2)+m)\n",
    "        out.append(s*math.sqrt(-2*math.log(U1))*math.sin(2*math.pi*U2)+m)\n",
    "\n",
    "    return out[:N]\n",
    "\n",
    "def histogram(data, n_bins=10,x_min=None, x_max=None):\n",
    "    if x_min==None:\n",
    "        x_min=min(data)\n",
    "    if x_max==None:\n",
    "        x_max=max(data)\n",
    "        \n",
    "    bin_edges = numpy.arange(x_min,x_max,n_bins)\n",
    "    bin_edges.append(x_max)\n",
    "\n",
    "    hist=[0]*n_bins\n",
    "    \n",
    "    for d in data:\n",
    "        for i in range(n_bins):\n",
    "            if d>=bin_edges[i] and d<bin_edges[i+1]:\n",
    "                hist[i]+=1\n",
    "                break\n",
    "                \n",
    "    return hist,bin_edges\n",
    "\n"
   ]
  },
  {
   "cell_type": "code",
   "execution_count": 55,
   "metadata": {
    "colab": {},
    "colab_type": "code",
    "id": "1SL_nIrpYZRE"
   },
   "outputs": [
    {
     "ename": "AttributeError",
     "evalue": "'numpy.ndarray' object has no attribute 'append'",
     "output_type": "error",
     "traceback": [
      "\u001b[1;31m---------------------------------------------------------------------------\u001b[0m",
      "\u001b[1;31mAttributeError\u001b[0m                            Traceback (most recent call last)",
      "\u001b[1;32m<ipython-input-55-825fc6511ffc>\u001b[0m in \u001b[0;36m<module>\u001b[1;34m\u001b[0m\n\u001b[1;32m----> 1\u001b[1;33m \u001b[0mhistogram\u001b[0m\u001b[1;33m(\u001b[0m\u001b[0mgenerate_normal\u001b[0m\u001b[1;33m(\u001b[0m\u001b[1;36m90\u001b[0m\u001b[1;33m)\u001b[0m\u001b[1;33m)\u001b[0m\u001b[1;33m\u001b[0m\u001b[1;33m\u001b[0m\u001b[0m\n\u001b[0m",
      "\u001b[1;32m<ipython-input-54-c7f00a2dcc9d>\u001b[0m in \u001b[0;36mhistogram\u001b[1;34m(data, n_bins, x_min, x_max)\u001b[0m\n\u001b[0;32m     20\u001b[0m \u001b[1;33m\u001b[0m\u001b[0m\n\u001b[0;32m     21\u001b[0m     \u001b[0mbin_edges\u001b[0m \u001b[1;33m=\u001b[0m \u001b[0mnumpy\u001b[0m\u001b[1;33m.\u001b[0m\u001b[0marange\u001b[0m\u001b[1;33m(\u001b[0m\u001b[0mx_min\u001b[0m\u001b[1;33m,\u001b[0m\u001b[0mx_max\u001b[0m\u001b[1;33m,\u001b[0m\u001b[0mn_bins\u001b[0m\u001b[1;33m)\u001b[0m\u001b[1;33m\u001b[0m\u001b[1;33m\u001b[0m\u001b[0m\n\u001b[1;32m---> 22\u001b[1;33m     \u001b[0mbin_edges\u001b[0m\u001b[1;33m.\u001b[0m\u001b[0mappend\u001b[0m\u001b[1;33m(\u001b[0m\u001b[0mx_max\u001b[0m\u001b[1;33m)\u001b[0m\u001b[1;33m\u001b[0m\u001b[1;33m\u001b[0m\u001b[0m\n\u001b[0m\u001b[0;32m     23\u001b[0m \u001b[1;33m\u001b[0m\u001b[0m\n\u001b[0;32m     24\u001b[0m     \u001b[0mhist\u001b[0m\u001b[1;33m=\u001b[0m\u001b[1;33m[\u001b[0m\u001b[1;36m0\u001b[0m\u001b[1;33m]\u001b[0m\u001b[1;33m*\u001b[0m\u001b[0mn_bins\u001b[0m\u001b[1;33m\u001b[0m\u001b[1;33m\u001b[0m\u001b[0m\n",
      "\u001b[1;31mAttributeError\u001b[0m: 'numpy.ndarray' object has no attribute 'append'"
     ]
    }
   ],
   "source": [
    "histogram(generate_normal(90))"
   ]
  },
  {
   "cell_type": "code",
   "execution_count": null,
   "metadata": {},
   "outputs": [],
   "source": []
  }
 ],
 "metadata": {
  "colab": {
   "name": "Exam.ipynb",
   "provenance": []
  },
  "kernelspec": {
   "display_name": "Python 3",
   "language": "python",
   "name": "python3"
  },
  "language_info": {
   "codemirror_mode": {
    "name": "ipython",
    "version": 3
   },
   "file_extension": ".py",
   "mimetype": "text/x-python",
   "name": "python",
   "nbconvert_exporter": "python",
   "pygments_lexer": "ipython3",
   "version": "3.7.4"
  }
 },
 "nbformat": 4,
 "nbformat_minor": 1
}
