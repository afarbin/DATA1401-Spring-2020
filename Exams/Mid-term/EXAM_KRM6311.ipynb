{
  "nbformat": 4,
  "nbformat_minor": 0,
  "metadata": {
    "kernelspec": {
      "display_name": "Python 3",
      "language": "python",
      "name": "python3"
    },
    "language_info": {
      "codemirror_mode": {
        "name": "ipython",
        "version": 3
      },
      "file_extension": ".py",
      "mimetype": "text/x-python",
      "name": "python",
      "nbconvert_exporter": "python",
      "pygments_lexer": "ipython3",
      "version": "3.8.1"
    },
    "colab": {
      "name": "EXAM_KRM6311.ipynb",
      "provenance": [],
      "collapsed_sections": []
    }
  },
  "cells": [
    {
      "cell_type": "markdown",
      "metadata": {
        "id": "3ra-zJwyY_Ru",
        "colab_type": "text"
      },
      "source": [
        "# Mid-term Exam\n",
        "\n",
        "[![Open In Colab](https://colab.research.google.com/assets/colab-badge.svg)](https://colab.research.google.com/github//afarbin/DATA1401-Spring-2020/blob/master/Exams/Mid-term/Exam.ipynb)\n",
        "\n",
        "Add cells to this notebook as you need for your solutions and your test of your solutions."
      ]
    },
    {
      "cell_type": "markdown",
      "metadata": {
        "id": "Px0M9zCtY_Rw",
        "colab_type": "text"
      },
      "source": [
        "1. Write a function `first_alphabetically(lst)` that takes a list `lst` of strings and returns the string that is alphabetically first. For example, calling your function with the list of states:"
      ]
    },
    {
      "cell_type": "code",
      "metadata": {
        "id": "l-OW-Ls5Y_Ry",
        "colab_type": "code",
        "colab": {}
      },
      "source": [
        "states=['Mississippi', 'Maryland', 'Delaware', 'Connecticut', 'Virginia', 'Utah', 'Kansas',\n",
        "        'Wyoming', 'Indiana', 'Louisiana', 'Missouri', 'Illinois', 'Minnesota', 'Vermont', \n",
        "        'New Mexico', 'North Dakota', 'Wisconsin', 'Tennessee', 'New York', 'Oklahoma', \n",
        "        'Colorado', 'Pennsylvania', 'West Virginia', 'Alabama', 'Montana', 'Texas', \n",
        "        'Washington', 'Michigan', 'New Hampshire', 'Arkansas', 'Hawaii', 'Iowa', \n",
        "        'Idaho', 'Kentucky', 'Ohio', 'Nebraska', 'Alaska', 'Oregon', 'South Dakota', \n",
        "        'New Jersey', 'Florida', 'Georgia', 'Rhode Island', 'Arizona', 'Maine', \n",
        "        'South Carolina', 'California', 'Nevada', 'Massachusetts', 'North Carolina']"
      ],
      "execution_count": 0,
      "outputs": []
    },
    {
      "cell_type": "markdown",
      "metadata": {
        "id": "jsW8kBEeY_R7",
        "colab_type": "text"
      },
      "source": [
        "should return the string `\"Alabama\"`. Note that you can compare strings:"
      ]
    },
    {
      "cell_type": "code",
      "metadata": {
        "id": "9ThOyaa-Y_R9",
        "colab_type": "code",
        "outputId": "8c0a2161-5e8a-424e-972f-991db508a26c",
        "colab": {
          "base_uri": "https://localhost:8080/",
          "height": 90
        }
      },
      "source": [
        "print(\"A\">\"B\")\n",
        "print(\"B\">\"A\")\n",
        "print(\"A\">\"a\")\n",
        "print(\"bca\">\"bbc\")"
      ],
      "execution_count": 0,
      "outputs": [
        {
          "output_type": "stream",
          "text": [
            "False\n",
            "True\n",
            "False\n",
            "True\n"
          ],
          "name": "stdout"
        }
      ]
    },
    {
      "cell_type": "markdown",
      "metadata": {
        "id": "_KV5Ui6-Y_SD",
        "colab_type": "text"
      },
      "source": [
        "Make sure your implementation isn't case sensitive. Do not use python's built-in `min`, `max`, `sort` or any other sort function you find."
      ]
    },
    {
      "cell_type": "code",
      "metadata": {
        "id": "0P6iF_X1ZYwI",
        "colab_type": "code",
        "colab": {}
      },
      "source": [
        "def first_alphabetically(x, lst):\n",
        "  #create templist with different memory location got this idea from stackoverflow as passing lists edits the entire array\n",
        "  templst = lst[:]\n",
        "  #X determines what place you wanted from the sorted array\n",
        "  arrayLength = len(lst) - 1\n",
        "  if x < 1 or x > arrayLength:\n",
        "    print(\"Please enter a value greater than 0 and less than the length of the array\")\n",
        "    exit(0)\n",
        "  \n",
        "  index = x - 1\n",
        "  #Sorting Array\n",
        "  for i in range(arrayLength):\n",
        "    for j in range(arrayLength):\n",
        "      if templst[j] > templst[j+1]:\n",
        "        templst[j],templst[j+1] = templst[j+1],templst[j]\n",
        "  return templst[index]"
      ],
      "execution_count": 0,
      "outputs": []
    },
    {
      "cell_type": "code",
      "metadata": {
        "id": "Mz-EuDabcQyP",
        "colab_type": "code",
        "outputId": "7e333801-a9d3-4c27-ae4f-c59cb7831596",
        "colab": {
          "base_uri": "https://localhost:8080/",
          "height": 35
        }
      },
      "source": [
        "order = 23\n",
        "print(\"%s is at place %d when sorted alphebetically\"%(first_alphabetically(order,states),order))"
      ],
      "execution_count": 0,
      "outputs": [
        {
          "output_type": "stream",
          "text": [
            "Minnesota is at place 23 when sorted alphebetically\n"
          ],
          "name": "stdout"
        }
      ]
    },
    {
      "cell_type": "markdown",
      "metadata": {
        "id": "SvWBhkFHY_SE",
        "colab_type": "text"
      },
      "source": [
        "2. Write a function `arg_first_alphabetically(lst)`, which does the same thing as in exercise 1 but returns the index of the first string alphabetically."
      ]
    },
    {
      "cell_type": "code",
      "metadata": {
        "id": "eIY6ndwWgVgf",
        "colab_type": "code",
        "colab": {}
      },
      "source": [
        "def arg_first_alphabetically(lst):\n",
        "  arrayLength = len(lst) - 1\n",
        "  #create templist with different memory location\n",
        "  tmplst = lst[:]\n",
        "  #Sorting Array\n",
        "  for i in range(arrayLength):\n",
        "    for j in range(arrayLength):\n",
        "      if tmplst[j] > tmplst[j+1]:\n",
        "        temp = tmplst[j]\n",
        "        tmplst[j] = tmplst[j+1]\n",
        "        tmplst[j+1] = temp\n",
        "  for k in range(0,arrayLength):\n",
        "    if tmplst[0] == lst[k]:\n",
        "      return k\n",
        "  return None"
      ],
      "execution_count": 0,
      "outputs": []
    },
    {
      "cell_type": "code",
      "metadata": {
        "id": "yN02FyHijw11",
        "colab_type": "code",
        "outputId": "b868cd68-40a0-49ab-9145-42dd2751b24b",
        "colab": {
          "base_uri": "https://localhost:8080/",
          "height": 35
        }
      },
      "source": [
        "print(\"The index of the first alphebetic string is %d\" %(arg_first_alphabetically(states)))"
      ],
      "execution_count": 0,
      "outputs": [
        {
          "output_type": "stream",
          "text": [
            "The index of the first alphebetic string is 23\n"
          ],
          "name": "stdout"
        }
      ]
    },
    {
      "cell_type": "markdown",
      "metadata": {
        "id": "n0xE9bPsY_SF",
        "colab_type": "text"
      },
      "source": [
        "3. Use your result in question 2 to implement a function `arg_sort_alphabetically(lst)` that returns a list that is alphabetically sorted. Sorting can be accomplished by successively applying the function in question 1 and removing the first element alphabetically. You can remove an element from a list using `pop()`. Make sure your implementation isn't case sensitive. Do not use python's built-in `min`, `max`, `sort` or any other sort function you find."
      ]
    },
    {
      "cell_type": "code",
      "metadata": {
        "id": "X1aaCd-2zbpr",
        "colab_type": "code",
        "colab": {}
      },
      "source": [
        "def arg_sort_alphabetically(lst):\n",
        "  arrayLength = len(lst)-1\n",
        "  #create templist with different memory location\n",
        "  templst = lst[:]\n",
        "  #print(templst)\n",
        "  #Sorting Array\n",
        "  sort = True\n",
        "  while sort:\n",
        "    sort = False\n",
        "    for j in range(arrayLength):\n",
        "      if templst[j] > templst[j+1]:\n",
        "        templst[j],templst[j+1] = templst[j+1],templst[j]\n",
        "        sort = True\n",
        "  return templst"
      ],
      "execution_count": 0,
      "outputs": []
    },
    {
      "cell_type": "code",
      "metadata": {
        "id": "t8j1N5Fizcwx",
        "colab_type": "code",
        "outputId": "6f7c0698-dcb9-4f81-b595-9e0fcce47d81",
        "colab": {
          "base_uri": "https://localhost:8080/",
          "height": 55
        }
      },
      "source": [
        "print(str(arg_sort_alphabetically(states)))"
      ],
      "execution_count": 0,
      "outputs": [
        {
          "output_type": "stream",
          "text": [
            "['Alabama', 'Alaska', 'Arizona', 'Arkansas', 'California', 'Colorado', 'Connecticut', 'Delaware', 'Florida', 'Georgia', 'Hawaii', 'Idaho', 'Illinois', 'Indiana', 'Iowa', 'Kansas', 'Kentucky', 'Louisiana', 'Maine', 'Maryland', 'Massachusetts', 'Michigan', 'Minnesota', 'Mississippi', 'Missouri', 'Montana', 'Nebraska', 'Nevada', 'New Hampshire', 'New Jersey', 'New Mexico', 'New York', 'North Carolina', 'North Dakota', 'Ohio', 'Oklahoma', 'Oregon', 'Pennsylvania', 'Rhode Island', 'South Carolina', 'South Dakota', 'Tennessee', 'Texas', 'Utah', 'Vermont', 'Virginia', 'Washington', 'West Virginia', 'Wisconsin', 'Wyoming']\n"
          ],
          "name": "stdout"
        }
      ]
    },
    {
      "cell_type": "markdown",
      "metadata": {
        "id": "MLjHtc4vY_SG",
        "colab_type": "text"
      },
      "source": [
        "4. Implement a function `outer_product` that takes two one-dimensional lists of numbers and returns the two-dimensional outer product matrix defined as:\n",
        "\n",
        "\\begin{equation*}\n",
        "\\begin{pmatrix} x_1\\\\x_2\\\\ \\vdots \\\\x_m \\end{pmatrix} \\begin{pmatrix} y_1&y_2& \\dots &y_n\\end{pmatrix} =\n",
        "\\begin{pmatrix}\n",
        "x_1y_1 & x_1y_2 & \\dots & x_1y_n\\\\\n",
        "x_2y_1 & x_2y_2 & \\dots & x_2y_n\\\\\n",
        "\\vdots & \\vdots & \\ddots & \\vdots \\\\\n",
        "x_my_1 & x_my_2 & \\dots & x_my_n\n",
        "\\end{pmatrix}\n",
        "\\end{equation*}\n",
        "\n",
        "In other words the elements of matrix C which is the outer product of A and B are $c_{ij} = a_i b_j$."
      ]
    },
    {
      "cell_type": "code",
      "metadata": {
        "id": "kidQ3Ma187Ys",
        "colab_type": "code",
        "colab": {}
      },
      "source": [
        "def out_product(matrix1,matrix2):\n",
        "  matrix1_len = len(matrix1)\n",
        "  matrix2_len = len(matrix2)\n",
        "  #Defining the N by N matrix to manipulate\n",
        "  product = [[0 for x in range(matrix1_len)] for y in range(matrix2_len)] \n",
        "  for i in range(matrix1_len):\n",
        "    for j in range(matrix2_len):\n",
        "      product[i][j] = matrix1[i]*matrix2[j]\n",
        "  return product"
      ],
      "execution_count": 0,
      "outputs": []
    },
    {
      "cell_type": "code",
      "metadata": {
        "id": "r6it0psg-k6Z",
        "colab_type": "code",
        "outputId": "e962e7b5-2fd2-4a74-c02b-f6628caed164",
        "colab": {
          "base_uri": "https://localhost:8080/",
          "height": 35
        }
      },
      "source": [
        "twos = [3,3,3]\n",
        "threes = [2,2,2]\n",
        "out_product(twos,threes)"
      ],
      "execution_count": 0,
      "outputs": [
        {
          "output_type": "execute_result",
          "data": {
            "text/plain": [
              "[[6, 6, 6], [6, 6, 6], [6, 6, 6]]"
            ]
          },
          "metadata": {
            "tags": []
          },
          "execution_count": 174
        }
      ]
    },
    {
      "cell_type": "markdown",
      "metadata": {
        "id": "JwZkYKqHY_SH",
        "colab_type": "text"
      },
      "source": [
        "5. Implement a function `cumulative_sum(lst)` that takes a list of numbers and returns a list of same size where the element `i` is the sum of the elements `0` to `i` of the input list. For example given `[1,2,3]`, you should return [1,3,6]."
      ]
    },
    {
      "cell_type": "code",
      "metadata": {
        "id": "ISvedduWAWXK",
        "colab_type": "code",
        "colab": {}
      },
      "source": [
        "def cumulative_sum(lst):\n",
        "  length = len(lst)\n",
        "  out = []\n",
        "  for i in range(length):\n",
        "    sum = 0  \n",
        "    for j in range(i+1):#index place doesnt translate well to range function. Added 1.\n",
        "      sum += lst[j]\n",
        "    out.append(sum)\n",
        "  return out\n"
      ],
      "execution_count": 0,
      "outputs": []
    },
    {
      "cell_type": "code",
      "metadata": {
        "id": "g2PDaho1Cezn",
        "colab_type": "code",
        "outputId": "6942ebf8-2795-4e6b-d87d-8f5d0fa09858",
        "colab": {
          "base_uri": "https://localhost:8080/",
          "height": 54
        }
      },
      "source": [
        "test = [1,2,3]\n",
        "print(cumulative_sum(test))\n",
        "test2 = [20,30,40]\n",
        "print(cumulative_sum(test2))"
      ],
      "execution_count": 0,
      "outputs": [
        {
          "output_type": "stream",
          "text": [
            "[1, 3, 6]\n",
            "[20, 50, 90]\n"
          ],
          "name": "stdout"
        }
      ]
    },
    {
      "cell_type": "markdown",
      "metadata": {
        "id": "_tAxR7O1Y_SI",
        "colab_type": "text"
      },
      "source": [
        "6. Imagine you have a normal distributed random variable `x`. For example `x` can be grades on this exam. Using the normal distribution generator and histogram functions from lecture (provided below) and `cumulative_sum` from previous question to compute what is the value of $x_{90}$ in $\\sigma$ such that 90% of the values $x$ are below $x_{90}$. In other words:"
      ]
    },
    {
      "cell_type": "markdown",
      "metadata": {
        "id": "UCqXu1RLY_SJ",
        "colab_type": "text"
      },
      "source": [
        "$$\n",
        "\\int_{-\\infty}^{x_{90}} N(x;\\mu=0,\\sigma=1) dx = 0.9\n",
        "$$"
      ]
    },
    {
      "cell_type": "code",
      "metadata": {
        "id": "jDlWESdbY_SK",
        "colab_type": "code",
        "colab": {}
      },
      "source": [
        "import math,random\n",
        "\n",
        "def arange(x_min,x_max,steps=10):\n",
        "    step_size=(x_max-x_min)/steps\n",
        "    x=x_min\n",
        "    out = list()\n",
        "    for i in range(steps):\n",
        "        out.append(x)\n",
        "        x+=step_size\n",
        "    return out\n",
        "\n",
        "def generate_normal(N,m=0,s=1):\n",
        "    out = list() \n",
        "    \n",
        "    while len(out)<N:\n",
        "#    for _ in range(int(float(N)/2)+1):\n",
        "        U1=random.random()\n",
        "        U2=random.random()\n",
        "    \n",
        "        out.append(s*math.sqrt(-2*math.log(U1))*math.cos(2*math.pi*U2)+m)\n",
        "        out.append(s*math.sqrt(-2*math.log(U1))*math.sin(2*math.pi*U2)+m)\n",
        "\n",
        "    return out[:N]\n",
        "\n",
        "def histogram(data, n_bins=10,x_min=None, x_max=None):\n",
        "    if x_min==None:\n",
        "        x_min=min(data)\n",
        "    if x_max==None:\n",
        "        x_max=max(data)\n",
        "        \n",
        "    bin_edges = arange(x_min,x_max,n_bins)\n",
        "    bin_edges.append(x_max)\n",
        "\n",
        "    hist=[0]*n_bins\n",
        "    \n",
        "    for d in data:\n",
        "        for i in range(n_bins):\n",
        "            if d>=bin_edges[i] and d<bin_edges[i+1]:\n",
        "                hist[i]+=1\n",
        "                break\n",
        "                \n",
        "    return hist,bin_edges\n",
        "def integrate(func, x_min, x_max, n_points=1000):\n",
        "    out = list()\n",
        "    x_scan = arange(x_min,x_max,100)\n",
        "    y_scan = list(map(func,x_scan))\n",
        "    y_min = min(y_scan)\n",
        "    y_max = max(y_scan)\n",
        "\n",
        "    count=0\n",
        "    while len(out)<n_points:\n",
        "        count+=1\n",
        "        x = x_min + (x_max-x_min)*random.random()\n",
        "        y = y_min + (y_max-y_min)*random.random()\n",
        "          \n",
        "        if y<=func(x):\n",
        "            out.append(x)\n",
        "\n",
        "    integral=float(len(out))/float(count)\n",
        "    return integral\n",
        "    \n",
        "def gaussian(mean, sigma):\n",
        "    def f(x):\n",
        "        return math.exp(-((x-mean)**2)/(2*sigma**2))/math.sqrt(math.pi*sigma)\n",
        "    return f\n"
      ],
      "execution_count": 0,
      "outputs": []
    },
    {
      "cell_type": "code",
      "metadata": {
        "id": "speFy6u3Y_SP",
        "colab_type": "code",
        "colab": {
          "base_uri": "https://localhost:8080/",
          "height": 91
        },
        "outputId": "eb6076f7-ad59-46e5-9654-93b6fada6fac"
      },
      "source": [
        "N = 10000\n",
        "values = generate_normal(N)\n",
        "histogram,edges = histogram(values)\n",
        "print(histogram)\n",
        "x = cumulative_sum(values)\n",
        "sumof = x[len(x)-1]\n",
        "print(\"The sum of the values is: \"+str(sumof))\n",
        "avg = sumof/N\n",
        "print(\"The average of the values is: \"+str(avg))\n",
        "g1 = gaussian(0,1)\n",
        "integrate(g1, -1, 0.6, n_points=N)"
      ],
      "execution_count": 292,
      "outputs": [
        {
          "output_type": "stream",
          "text": [
            "[4, 62, 369, 1457, 2874, 2952, 1682, 527, 65, 7]\n",
            "The sum of the values is: -2.471880685260734\n",
            "The average of the values is: -0.0002471880685260734\n"
          ],
          "name": "stdout"
        },
        {
          "output_type": "execute_result",
          "data": {
            "text/plain": [
              "0.7222302470027445"
            ]
          },
          "metadata": {
            "tags": []
          },
          "execution_count": 292
        }
      ]
    }
  ]
}