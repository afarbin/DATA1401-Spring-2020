{
  "nbformat": 4,
  "nbformat_minor": 0,
  "metadata": {
    "kernelspec": {
      "name": "python3",
      "display_name": "Python 3"
    },
    "language_info": {
      "codemirror_mode": {
        "name": "ipython",
        "version": 3
      },
      "file_extension": ".py",
      "mimetype": "text/x-python",
      "name": "python",
      "nbconvert_exporter": "python",
      "pygments_lexer": "ipython3",
      "version": "3.8.1"
    },
    "colab": {
      "name": "GabrielCantanelliExam.ipynb",
      "provenance": [],
      "collapsed_sections": []
    }
  },
  "cells": [
    {
      "cell_type": "markdown",
      "metadata": {
        "id": "Eu1kE9BNS2yx",
        "colab_type": "text"
      },
      "source": [
        "# Mid-term Exam\n",
        "\n",
        "Add cells to this notebook as you need for you solutions and your test of your solutions."
      ]
    },
    {
      "cell_type": "markdown",
      "metadata": {
        "id": "G68DhuxmS2y5",
        "colab_type": "text"
      },
      "source": [
        "1. Write a function `first_alphabetically(lst)` that takes a list `lst` of strings and returns the string that is alphabetically first. For example, calling your function with the list of states:"
      ]
    },
    {
      "cell_type": "code",
      "metadata": {
        "id": "sVVRR_8CS2y-",
        "colab_type": "code",
        "colab": {}
      },
      "source": [
        "states=['Mississippi', 'Maryland', 'Delaware', 'Connecticut', 'Virginia', 'Utah', 'Kansas',\n",
        "        'Wyoming', 'Indiana', 'Louisiana', 'Missouri', 'Illinois', 'Minnesota', 'Vermont', \n",
        "        'New Mexico', 'North Dakota', 'Wisconsin', 'Tennessee', 'New York', 'Oklahoma', \n",
        "        'Colorado', 'Pennsylvania', 'West Virginia', 'Alabama', 'Montana', 'Texas', \n",
        "        'Washington', 'Michigan', 'New Hampshire', 'Arkansas', 'Hawaii', 'Iowa', \n",
        "        'Idaho', 'Kentucky', 'Ohio', 'Nebraska', 'Alaska', 'Oregon', 'South Dakota', \n",
        "        'New Jersey', 'Florida', 'Georgia', 'Rhode Island', 'Arizona', 'Maine', \n",
        "        'South Carolina', 'California', 'Nevada', 'Massachusetts', 'North Carolina']"
      ],
      "execution_count": 0,
      "outputs": []
    },
    {
      "cell_type": "code",
      "metadata": {
        "id": "3uEjncwfS8Y-",
        "colab_type": "code",
        "colab": {}
      },
      "source": [
        "def first_alphabetically(lst):\n",
        "  upper = \"ABCDEFGHIJKLMNOPQRSTUVWXYZ\"    #lists of lower- and uppercase letters for comparison\n",
        "  lower = \"abcdefghijklmnopqrstuvwxyz\"\n",
        "  stringlist = list()\n",
        "#converting 'lst' to lower-case strings\n",
        "  for string in lst:                      #cycling through each string in 'lst'\n",
        "    tempstr = \"\"\n",
        "    for letter in range(len(string)):     #cycling through each letter of each string\n",
        "      for entry in range(len(lower)):     #comparing each letter to the alphabet lists above\n",
        "        if string[letter]==upper[entry] or string[letter]==lower[entry]:    \n",
        "          tempstr+=lower[entry]           #converting all uppercase letters to lowercase\n",
        "    stringlist.append(tempstr) \n",
        "        \n",
        "  counter = 0\n",
        "  output = stringlist[0]\n",
        "  for index in range(len(stringlist)):    #comparing the new lowercase strings\n",
        "      if stringlist[index]<output:\n",
        "        output=stringlist[index]\n",
        "        counter=index                     #storing position of that string\n",
        "  \n",
        "  return lst[counter]                     #returning original string"
      ],
      "execution_count": 0,
      "outputs": []
    },
    {
      "cell_type": "code",
      "metadata": {
        "id": "UZn-cVNqY6Fi",
        "colab_type": "code",
        "outputId": "8078bd91-c4a8-4096-de90-ab4dd77b911c",
        "colab": {
          "base_uri": "https://localhost:8080/",
          "height": 35
        }
      },
      "source": [
        "first_alphabetically(states)"
      ],
      "execution_count": 19,
      "outputs": [
        {
          "output_type": "execute_result",
          "data": {
            "text/plain": [
              "'Alabama'"
            ]
          },
          "metadata": {
            "tags": []
          },
          "execution_count": 19
        }
      ]
    },
    {
      "cell_type": "markdown",
      "metadata": {
        "id": "LVcNSwxFS2zb",
        "colab_type": "text"
      },
      "source": [
        "should return the string `\"Alabama\"`. Note that you can compare strings:"
      ]
    },
    {
      "cell_type": "code",
      "metadata": {
        "id": "UeScbyWeS2ze",
        "colab_type": "code",
        "outputId": "4616bee2-7113-402a-d275-1c24719a6459",
        "colab": {
          "base_uri": "https://localhost:8080/",
          "height": 90
        }
      },
      "source": [
        "print(\"mississipi\">\"Alabama\")\n",
        "print(\"14\">=\"23\")\n",
        "print(\"A\"<\"a\")\n",
        "print(\"bca\">\"bbc\")"
      ],
      "execution_count": 20,
      "outputs": [
        {
          "output_type": "stream",
          "text": [
            "True\n",
            "False\n",
            "True\n",
            "True\n"
          ],
          "name": "stdout"
        }
      ]
    },
    {
      "cell_type": "markdown",
      "metadata": {
        "id": "dwFZG-_US2zx",
        "colab_type": "text"
      },
      "source": [
        "Make sure your implementation isn't case sensitive. Do not use python's built-in `min`, `max`, `sort` or any other sort function you find."
      ]
    },
    {
      "cell_type": "markdown",
      "metadata": {
        "id": "_TiesEPNS2z0",
        "colab_type": "text"
      },
      "source": [
        "2. Write a function `arg_first_alphabetically(lst)`, which does the same thing as in exercise 1 but returns the index of the first string alphabetically."
      ]
    },
    {
      "cell_type": "code",
      "metadata": {
        "id": "K7yWC_Hjv5xq",
        "colab_type": "code",
        "colab": {}
      },
      "source": [
        "#same function from problem one, but it returns 'counter' instead of list[counter]\n",
        "def arg_first_alphabetically(lst):\n",
        "  upper = \"ABCDEFGHIJKLMNOPQRSTUVWXYZ\"    \n",
        "  lower = \"abcdefghijklmnopqrstuvwxyz\"\n",
        "  stringlist = []\n",
        "\n",
        "  for string in lst:                      \n",
        "    tempstr = \"\"\n",
        "    for letter in range(len(string)):     \n",
        "      for entry in range(len(lower)):     \n",
        "        if string[letter]==upper[entry] or string[letter]==lower[entry]:    \n",
        "          tempstr+=lower[entry]           \n",
        "    stringlist.append(tempstr) \n",
        "        \n",
        "  counter = 0\n",
        "  output = stringlist[0]\n",
        "  for index in range(len(stringlist)):    \n",
        "      if stringlist[index]<output:\n",
        "        output=stringlist[index]\n",
        "        counter=index                     \n",
        "  \n",
        "  return counter        #returning counter (list indices, starting from 0) instead of original string"
      ],
      "execution_count": 0,
      "outputs": []
    },
    {
      "cell_type": "code",
      "metadata": {
        "id": "yttO8z0fwon4",
        "colab_type": "code",
        "outputId": "c13278e2-4804-4d92-cd7e-168de2d3b9db",
        "colab": {
          "base_uri": "https://localhost:8080/",
          "height": 35
        }
      },
      "source": [
        "arg_first_alphabetically(states)"
      ],
      "execution_count": 22,
      "outputs": [
        {
          "output_type": "execute_result",
          "data": {
            "text/plain": [
              "23"
            ]
          },
          "metadata": {
            "tags": []
          },
          "execution_count": 22
        }
      ]
    },
    {
      "cell_type": "markdown",
      "metadata": {
        "id": "Vak8AYNSS2z5",
        "colab_type": "text"
      },
      "source": [
        "3. Use your result in question 2 to implement a function `arg_sort_alphabetically(lst)` that returns a list that is alphabetically sorted. Sorting can be accomplished by successively applying the function in question 1 and removing the first element alphabetically. You can remove an element from a list using `pop()`. Make sure your implementation isn't case sensitive. Do not use python's built-in `min`, `max`, `sort` or any other sort function you find."
      ]
    },
    {
      "cell_type": "code",
      "metadata": {
        "id": "F4Y3ZaSYxJsQ",
        "colab_type": "code",
        "colab": {}
      },
      "source": [
        "def arg_sort_alphabetically(lst):\n",
        "  sortedlist = []\n",
        "  finallength = len(lst)\n",
        "  while len(sortedlist)<finallength:\n",
        "    index = arg_first_alphabetically(lst)\n",
        "    sortedlist.append(lst[index])\n",
        "    lst.pop(index)\n",
        "  return sortedlist"
      ],
      "execution_count": 0,
      "outputs": []
    },
    {
      "cell_type": "code",
      "metadata": {
        "id": "zQcabe6gzNPE",
        "colab_type": "code",
        "outputId": "4089dbcb-b789-4228-b54b-3077e6d13bf2",
        "colab": {
          "base_uri": "https://localhost:8080/",
          "height": 935
        }
      },
      "source": [
        "arg_sort_alphabetically(states)"
      ],
      "execution_count": 24,
      "outputs": [
        {
          "output_type": "execute_result",
          "data": {
            "text/plain": [
              "['Alabama',\n",
              " 'Alaska',\n",
              " 'Arizona',\n",
              " 'Arkansas',\n",
              " 'California',\n",
              " 'Colorado',\n",
              " 'Connecticut',\n",
              " 'Delaware',\n",
              " 'Florida',\n",
              " 'Georgia',\n",
              " 'Hawaii',\n",
              " 'Idaho',\n",
              " 'Illinois',\n",
              " 'Indiana',\n",
              " 'Iowa',\n",
              " 'Kansas',\n",
              " 'Kentucky',\n",
              " 'Louisiana',\n",
              " 'Maine',\n",
              " 'Maryland',\n",
              " 'Massachusetts',\n",
              " 'Michigan',\n",
              " 'Minnesota',\n",
              " 'Mississippi',\n",
              " 'Missouri',\n",
              " 'Montana',\n",
              " 'Nebraska',\n",
              " 'Nevada',\n",
              " 'New Hampshire',\n",
              " 'New Jersey',\n",
              " 'New Mexico',\n",
              " 'New York',\n",
              " 'North Carolina',\n",
              " 'North Dakota',\n",
              " 'Ohio',\n",
              " 'Oklahoma',\n",
              " 'Oregon',\n",
              " 'Pennsylvania',\n",
              " 'Rhode Island',\n",
              " 'South Carolina',\n",
              " 'South Dakota',\n",
              " 'Tennessee',\n",
              " 'Texas',\n",
              " 'Utah',\n",
              " 'Vermont',\n",
              " 'Virginia',\n",
              " 'Washington',\n",
              " 'West Virginia',\n",
              " 'Wisconsin',\n",
              " 'Wyoming']"
            ]
          },
          "metadata": {
            "tags": []
          },
          "execution_count": 24
        }
      ]
    },
    {
      "cell_type": "code",
      "metadata": {
        "id": "ebPqz5uodv0q",
        "colab_type": "code",
        "outputId": "b6fb78b4-c8e3-4ad7-e159-5785c6b81455",
        "colab": {
          "base_uri": "https://localhost:8080/",
          "height": 35
        }
      },
      "source": [
        "x = [\"something\", \"In\", \"tHe\", \"air\", \"TONIGHT\"]\n",
        "arg_sort_alphabetically(x)"
      ],
      "execution_count": 25,
      "outputs": [
        {
          "output_type": "execute_result",
          "data": {
            "text/plain": [
              "['air', 'In', 'something', 'tHe', 'TONIGHT']"
            ]
          },
          "metadata": {
            "tags": []
          },
          "execution_count": 25
        }
      ]
    },
    {
      "cell_type": "markdown",
      "metadata": {
        "id": "0yowKRHFS2z8",
        "colab_type": "text"
      },
      "source": [
        "4. Implement a function `outer_product` that takes two one-dimensional lists of numbers and returns the two-dimensional outer product matrix defined as:\n",
        "\n",
        "\\begin{equation*}\n",
        "\\begin{pmatrix} x_1\\\\x_2\\\\ \\vdots \\\\x_m \\end{pmatrix} \\begin{pmatrix} y_1&y_2& \\dots &y_n\\end{pmatrix} =\n",
        "\\begin{pmatrix}\n",
        "x_1y_1 & x_1y_2 & \\dots & x_1y_n\\\\\n",
        "x_2y_1 & x_2y_2 & \\dots & x_2y_n\\\\\n",
        "\\vdots & \\vdots & \\ddots & \\vdots \\\\\n",
        "x_my_1 & x_my_2 & \\dots & x_my_n\n",
        "\\end{pmatrix}\n",
        "\\end{equation*}\n",
        "\n",
        "In other words the elements of matrix C which is the outer product of A and B are $c_{ij} = a_i b_j$."
      ]
    },
    {
      "cell_type": "code",
      "metadata": {
        "id": "rihBpOeQ1cEK",
        "colab_type": "code",
        "colab": {}
      },
      "source": [
        "def outer_product(x,y):\n",
        "  matrix = []\n",
        "  for x_i in x:\n",
        "    templist = []\n",
        "    for y_i in y:\n",
        "      templist.append(x_i*y_i)\n",
        "    matrix.append(templist)\n",
        "  for rows in matrix:\n",
        "    print(rows)\n",
        "  return matrix"
      ],
      "execution_count": 0,
      "outputs": []
    },
    {
      "cell_type": "code",
      "metadata": {
        "id": "pc_YozL03tgz",
        "colab_type": "code",
        "outputId": "8775f2fc-8cab-46f4-892c-d09c77bdd423",
        "colab": {
          "base_uri": "https://localhost:8080/",
          "height": 109
        }
      },
      "source": [
        "x=[1,32,4,1]\n",
        "y=[1,11,9]\n",
        "outer_product(x,y)"
      ],
      "execution_count": 27,
      "outputs": [
        {
          "output_type": "stream",
          "text": [
            "[1, 11, 9]\n",
            "[32, 352, 288]\n",
            "[4, 44, 36]\n",
            "[1, 11, 9]\n"
          ],
          "name": "stdout"
        },
        {
          "output_type": "execute_result",
          "data": {
            "text/plain": [
              "[[1, 11, 9], [32, 352, 288], [4, 44, 36], [1, 11, 9]]"
            ]
          },
          "metadata": {
            "tags": []
          },
          "execution_count": 27
        }
      ]
    },
    {
      "cell_type": "markdown",
      "metadata": {
        "id": "b_fet0E4S2z_",
        "colab_type": "text"
      },
      "source": [
        "5. Implement a function `cumulative_sum(lst)` that takes a list of numbers and returns a list of same size where the element `i` is the sum of the elements `0` to `i` of the input list. For example given `[1,2,3]`, you should return [1,3,6]."
      ]
    },
    {
      "cell_type": "code",
      "metadata": {
        "id": "OkqhocTc4f-_",
        "colab_type": "code",
        "colab": {}
      },
      "source": [
        "def cumulative_sum(lst):\n",
        "  output = list()\n",
        "  for index in range(len(lst)):\n",
        "    tempsum=0\n",
        "    counter=index\n",
        "    while counter>=0:\n",
        "      tempsum+=lst[counter]\n",
        "      counter-=1\n",
        "    output.append(tempsum)\n",
        "  return output"
      ],
      "execution_count": 0,
      "outputs": []
    },
    {
      "cell_type": "code",
      "metadata": {
        "id": "lB8cOphhsydv",
        "colab_type": "code",
        "outputId": "16b61f49-36f9-4f0f-c40d-ea553edf1100",
        "colab": {
          "base_uri": "https://localhost:8080/",
          "height": 54
        }
      },
      "source": [
        "example = [1,2,3]\n",
        "print(cumulative_sum(example))\n",
        "example2 = [1,44,5,2,56,7]\n",
        "print(cumulative_sum(example2))"
      ],
      "execution_count": 29,
      "outputs": [
        {
          "output_type": "stream",
          "text": [
            "[1, 3, 6]\n",
            "[1, 45, 50, 52, 108, 115]\n"
          ],
          "name": "stdout"
        }
      ]
    },
    {
      "cell_type": "markdown",
      "metadata": {
        "id": "-yJGPLiNS20C",
        "colab_type": "text"
      },
      "source": [
        "6. Imagine you have a normal distributed random variable `x`. For example `x` can be grades on this exam. Using the normal distribution generator and histogram functions from lecture (provided below) and `cumulative_sum` from previous question to compute what is the value of `x_{90}` in $\\sigma$ such that 90% of the values $x$ are below `x_{90}`. In other words:"
      ]
    },
    {
      "cell_type": "markdown",
      "metadata": {
        "id": "Dt4L_juYS20F",
        "colab_type": "text"
      },
      "source": [
        "$$\n",
        "\\int_{-\\infty}^{x_{90}} N(x;\\mu=0,\\sigma=1) dx = 0.9\n",
        "$$"
      ]
    },
    {
      "cell_type": "code",
      "metadata": {
        "id": "XY2xQqcwS20H",
        "colab_type": "code",
        "colab": {}
      },
      "source": [
        "import math,random\n",
        "\n",
        "def arange(x_min,x_max,steps=10):\n",
        "    step_size=(x_max-x_min)/steps\n",
        "    x=x_min\n",
        "    out = list()\n",
        "    for i in range(steps):\n",
        "        out.append(x)\n",
        "        x+=step_size\n",
        "    return out\n",
        "\n",
        "def generate_normal(N,m=0,s=1):\n",
        "    out = list() \n",
        "    \n",
        "    while len(out)<N:\n",
        "#    for _ in range(int(float(N)/2)+1):\n",
        "        U1=random.random()\n",
        "        U2=random.random()\n",
        "    \n",
        "        out.append(s*math.sqrt(-2*math.log(U1))*math.cos(2*math.pi*U2)+m)\n",
        "        out.append(s*math.sqrt(-2*math.log(U1))*math.sin(2*math.pi*U2)+m)\n",
        "\n",
        "    return out[:N]\n",
        "\n",
        "def histogram(data, n_bins=10,x_min=None, x_max=None):\n",
        "    if x_min==None:\n",
        "        x_min=min(data)\n",
        "    if x_max==None:\n",
        "        x_max=max(data)\n",
        "        \n",
        "    bin_edges = arange(x_min,x_max,n_bins)\n",
        "    bin_edges.append(x_max)\n",
        "\n",
        "    hist=[0]*n_bins\n",
        "    \n",
        "    for d in data:\n",
        "        for i in range(n_bins):\n",
        "            if d>=bin_edges[i] and d<bin_edges[i+1]:\n",
        "                hist[i]+=1\n",
        "                break\n",
        "                \n",
        "    return hist,bin_edges"
      ],
      "execution_count": 0,
      "outputs": []
    },
    {
      "cell_type": "code",
      "metadata": {
        "id": "RzUTgvBvtyEn",
        "colab_type": "code",
        "colab": {}
      },
      "source": [
        "def percentile(boundary, threshold, N=10000, n_bins=500,runs=1):\n",
        "  counter = 0\n",
        "  edge_sum = 0\n",
        "  while counter < runs:                               #running the calculation 'runs' number of times\n",
        "    results = histogram(generate_normal(N),n_bins)    #generating histogram \n",
        "    hist = results[0]                                 #storing bin edges and data separately  \n",
        "    edges = results[1]  \n",
        "    areas = cumulative_sum(hist)                      #calculating list of cumulative sums\n",
        "    check = 0\n",
        "    while check == 0:                               \n",
        "      for index in range(len(areas)):                 #finding the lower bin edge of the bin corresponding to the first cumulative sum\n",
        "        ratio = areas[index]/N                        #that is greater than 'boundary' (0.9) * the total number of points\n",
        "        if ratio >= boundary and (ratio-boundary)<threshold:      #accepts bin edge if its within a certain distance of the boundary\n",
        "          edge_sum+=edges[index]                                \n",
        "          check = 1\n",
        "          break\n",
        "    counter+=1\n",
        "  edge_avg = edge_sum/runs                            #taking the average of bin edge values for a more accurate result\n",
        "  return edge_avg"
      ],
      "execution_count": 0,
      "outputs": []
    },
    {
      "cell_type": "code",
      "metadata": {
        "id": "S6ahKGyY2r9X",
        "colab_type": "code",
        "outputId": "cd79bfbf-d5e4-4ef6-e019-57bd08fc9d06",
        "colab": {
          "base_uri": "https://localhost:8080/",
          "height": 35
        }
      },
      "source": [
        "sigma = 1\n",
        "x_90 = percentile(0.9,0.01,runs=5)\n",
        "print(\"x_90 is approximately \" + str(x_90) + \", or \" + str(x_90/sigma) + \" standard deviations.\")\n"
      ],
      "execution_count": 32,
      "outputs": [
        {
          "output_type": "stream",
          "text": [
            "x_90 is approximately 1.2685663433631311, or 1.2685663433631311 standard deviations.\n"
          ],
          "name": "stdout"
        }
      ]
    }
  ]
}