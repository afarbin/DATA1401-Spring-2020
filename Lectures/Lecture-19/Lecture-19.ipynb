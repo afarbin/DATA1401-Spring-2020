{
 "cells": [
  {
   "cell_type": "markdown",
   "metadata": {},
   "source": [
    "# Lecture 19\n",
    "\n",
    "## Reading Data\n",
    "\n"
   ]
  },
  {
   "cell_type": "code",
   "execution_count": null,
   "metadata": {},
   "outputs": [],
   "source": [
    "!ls "
   ]
  },
  {
   "cell_type": "code",
   "execution_count": null,
   "metadata": {},
   "outputs": [],
   "source": [
    "!cat Scores.csv"
   ]
  },
  {
   "cell_type": "markdown",
   "metadata": {},
   "source": [
    "## Comma Separated Values (CSV) File Format\n",
    "\n",
    "The simplest and most common file format for storing data is called Comma Separated Values (CSV). Generally a CSV file represents a table, with the top row (first line of the file) consisting of the labels of the columns (separated by commas). Generally each column keeps a different feature or field. For example for student data, the first column could be the name, second the ID, third major, etc. After the first line, each row hold the data for one data point or example. In the case of student data, each row could correspond to one student."
   ]
  },
  {
   "cell_type": "markdown",
   "metadata": {},
   "source": [
    "### Reading CSV Files\n",
    "\n",
    "There are lots of libraries for reading CSV files into memory. Before we start using them, lets write our own. We'll need two things:\n",
    "\n",
    "* Means of reading and interpreting the file.\n",
    "* A representation of the read data in memory.\n",
    "\n",
    "We have written a simple CSV reader before. Lets recall one of the ways in python to read a file."
   ]
  },
  {
   "cell_type": "code",
   "execution_count": null,
   "metadata": {},
   "outputs": [],
   "source": [
    "f=open(\"Scores.csv\",\"r\")\n",
    "first_line = f.readline()\n",
    "\n",
    "line = f.readline()\n",
    "while line:\n",
    "    print(line)\n",
    "    line = f.readline()\n",
    "\n",
    "f.close()"
   ]
  },
  {
   "cell_type": "markdown",
   "metadata": {},
   "source": [
    "Let's work on the first line, which is special:"
   ]
  },
  {
   "cell_type": "code",
   "execution_count": null,
   "metadata": {},
   "outputs": [],
   "source": [
    "f=open(\"Scores.csv\",\"r\")\n",
    "first_line = f.readline()\n",
    "print(first_line.split(\",\"))\n",
    "f.close()"
   ]
  },
  {
   "cell_type": "markdown",
   "metadata": {},
   "source": [
    "It appears that each line ends with `\\n`. Here's how we can remove these newlines."
   ]
  },
  {
   "cell_type": "code",
   "execution_count": null,
   "metadata": {},
   "outputs": [],
   "source": [
    "f=open(\"Scores.csv\",\"r\")\n",
    "first_line = f.readline().rstrip()\n",
    "print(first_line.split(\",\"))\n",
    "f.close()"
   ]
  },
  {
   "cell_type": "markdown",
   "metadata": {},
   "source": [
    "Finally lets store the first line, which is a list of the column names:"
   ]
  },
  {
   "cell_type": "code",
   "execution_count": null,
   "metadata": {},
   "outputs": [],
   "source": [
    "f=open(\"Scores.csv\",\"r\")\n",
    "first_line = f.readline().rstrip()\n",
    "fields=first_line.split(\",\")\n",
    "f.close()"
   ]
  },
  {
   "cell_type": "code",
   "execution_count": null,
   "metadata": {},
   "outputs": [],
   "source": [
    "f=open(\"Scores.csv\",\"r\")\n",
    "first_line = f.readline().rstrip()\n",
    "fields=first_line.split(\",\")\n",
    "\n",
    "data=list()\n",
    "\n",
    "line = f.readline().rstrip()\n",
    "while line:\n",
    "    data.append(line.split(\",\"))\n",
    "    line = f.readline().rstrip()\n",
    "\n",
    "f.close()"
   ]
  },
  {
   "cell_type": "code",
   "execution_count": null,
   "metadata": {},
   "outputs": [],
   "source": [
    "data"
   ]
  },
  {
   "cell_type": "markdown",
   "metadata": {},
   "source": [
    "We have the basics down, but we have more things to consider:\n",
    "* We have written some example code, we should now write something that is general and we could use in different instances. \n",
    "* The fields can be different types: strings, numbers (integer or floating point). We should store the fields as the correct data type.\n",
    "* Still need to figure out how we will store the data in memory.\n",
    "\n",
    "\n",
    "We have some options on how to proceed:\n",
    "   * We could write a CSV reader function that given the filename of a CSV file, reads the data and returns it as a standard python data object. There are various suitable such representations, so we'll either have to pick one or provide some options to allow for other ones.\n",
    "   * Instead of a CSV reader function, we could create a CSV reader class. It will be instantiated with a CSV filename, so each instance would be uniquely connected to a specific file. It'll read the data into some representation that is kept private. We provide accessor methods to get to keep retrieve specific parts of the data, or the whole data as standard python data.\n",
    "   * We can separate the concepts of a CSV reader and how we store the data. In this way, we could write other readers (e.g. Excel file reader) that would still use the same data storage.\n",
    "   * We might want to also be able to write out CSV files."
   ]
  },
  {
   "cell_type": "code",
   "execution_count": null,
   "metadata": {},
   "outputs": [],
   "source": [
    "class DataFileHandler:\n",
    "    def __init__(self,extensions):\n",
    "        self.__extensions=extensions\n",
    "        \n",
    "    def check_extension(self,filename):\n",
    "        file_extension=filename.split(\".\")[-1]\n",
    "        return file_extension in self.__extensions\n",
    "\n",
    "    def _readfile(self,filename):\n",
    "        raise NotImplementedError    \n",
    "        \n",
    "    def readfile(self,filename,check_extension=True):\n",
    "        if not check_extension or self.check_extension(filename):\n",
    "            return self._readfile(filename)        \n",
    "        else:\n",
    "            print(\"Error: filename {} does not match acceptable extensions.\".format(filename))\n",
    "    \n",
    "    def _writefile(self,filename,data):\n",
    "        raise NotImplementedError\n",
    "        \n",
    "    def writefile(self,filename,data):\n",
    "        return self._writefile(filename,data)\n",
    "        \n",
    "        \n",
    "class CSVHandler(DataFileHandler):\n",
    "    def __init__(self):\n",
    "        #super(CSVHandler,self).__init__([\"csv\",\"CSV\"])\n",
    "        DataFileHandler.__init__(self,[\"csv\",\"CSV\"])\n",
    "        \n",
    "    def _readfile(self,filename):\n",
    "        f=open(filename,\"r\")\n",
    "        first_line = f.readline().rstrip()\n",
    "        fields=first_line.split(\",\")\n",
    "\n",
    "        data=list()\n",
    "\n",
    "        line = f.readline().rstrip()\n",
    "        while line:\n",
    "            data.append(line.split(\",\"))\n",
    "            line = f.readline().rstrip()\n",
    "\n",
    "        f.close()\n",
    "        \n",
    "        return fields,data\n",
    "        \n",
    "    "
   ]
  },
  {
   "cell_type": "code",
   "execution_count": null,
   "metadata": {},
   "outputs": [],
   "source": [
    "my_handler=CSVHandler()\n",
    "my_handler.readfile(\"Scores.csv\")"
   ]
  },
  {
   "cell_type": "markdown",
   "metadata": {},
   "source": [
    "## Pandas"
   ]
  },
  {
   "cell_type": "code",
   "execution_count": null,
   "metadata": {},
   "outputs": [],
   "source": [
    "import pandas as pd\n",
    "Data=pd.read_csv(\"Scores.csv\")"
   ]
  },
  {
   "cell_type": "code",
   "execution_count": null,
   "metadata": {},
   "outputs": [],
   "source": [
    "Data"
   ]
  },
  {
   "cell_type": "code",
   "execution_count": null,
   "metadata": {},
   "outputs": [],
   "source": []
  }
 ],
 "metadata": {
  "kernelspec": {
   "display_name": "Python 3",
   "language": "python",
   "name": "python3"
  },
  "language_info": {
   "codemirror_mode": {
    "name": "ipython",
    "version": 3
   },
   "file_extension": ".py",
   "mimetype": "text/x-python",
   "name": "python",
   "nbconvert_exporter": "python",
   "pygments_lexer": "ipython3",
   "version": "3.8.1"
  }
 },
 "nbformat": 4,
 "nbformat_minor": 2
}
