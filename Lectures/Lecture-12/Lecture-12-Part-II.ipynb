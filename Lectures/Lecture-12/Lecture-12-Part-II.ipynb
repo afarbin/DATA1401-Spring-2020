{
 "cells": [
  {
   "cell_type": "markdown",
   "metadata": {},
   "source": [
    "# Lecture 12 - Part II\n",
    "\n",
    "## Random Number Generator"
   ]
  },
  {
   "cell_type": "code",
   "execution_count": null,
   "metadata": {},
   "outputs": [],
   "source": [
    "# Setup to make historgrams later...\n",
    "%matplotlib inline\n",
    "import matplotlib.pyplot as plt"
   ]
  },
  {
   "cell_type": "code",
   "execution_count": null,
   "metadata": {},
   "outputs": [],
   "source": [
    "def uniform_generator(seed=123124.):\n",
    "    a=1111111\n",
    "    b=2222222\n",
    "    m=6700417 # This is a large prime number\n",
    "    x=seed\n",
    "    \n",
    "    def random():\n",
    "        nonlocal x\n",
    "        x=(a*x+b)%m\n",
    "        return x/m  # divide by m to set range to 0->1\n",
    "    \n",
    "    return random"
   ]
  },
  {
   "cell_type": "code",
   "execution_count": null,
   "metadata": {},
   "outputs": [],
   "source": [
    "my_uniform=uniform_generator()"
   ]
  },
  {
   "cell_type": "code",
   "execution_count": null,
   "metadata": {},
   "outputs": [],
   "source": [
    "random_numbers=list()\n",
    "for _ in range(10):\n",
    "    random_numbers.append(my_uniform())"
   ]
  },
  {
   "cell_type": "code",
   "execution_count": null,
   "metadata": {},
   "outputs": [],
   "source": [
    "random_numbers"
   ]
  },
  {
   "cell_type": "code",
   "execution_count": null,
   "metadata": {},
   "outputs": [],
   "source": [
    "random_numbers=list()\n",
    "for _ in range(10000):\n",
    "    random_numbers.append(my_uniform())\n",
    "_=plt.hist(random_numbers,bins=25)"
   ]
  },
  {
   "cell_type": "markdown",
   "metadata": {},
   "source": [
    "## Exponential Generator"
   ]
  },
  {
   "cell_type": "code",
   "execution_count": null,
   "metadata": {},
   "outputs": [],
   "source": [
    "import math\n",
    "\n",
    "def generate_exp(tau,seed=32144):\n",
    "    my_uniform=uniform_generator(seed)\n",
    "    \n",
    "    def generator():\n",
    "        nonlocal my_uniform\n",
    "        nonlocal tau\n",
    "        u = my_uniform()\n",
    "        return -tau*(math.log(1.-u))\n",
    "    \n",
    "    return generator"
   ]
  },
  {
   "cell_type": "code",
   "execution_count": null,
   "metadata": {},
   "outputs": [],
   "source": [
    "my_exp_generator= generate_exp(10.)"
   ]
  },
  {
   "cell_type": "code",
   "execution_count": null,
   "metadata": {},
   "outputs": [],
   "source": [
    "my_exp_generator()"
   ]
  },
  {
   "cell_type": "code",
   "execution_count": null,
   "metadata": {},
   "outputs": [],
   "source": [
    "random_numbers=list()\n",
    "for _ in range(10000):\n",
    "    random_numbers.append(my_exp_generator())\n",
    "_=plt.hist(random_numbers,bins=25)"
   ]
  },
  {
   "cell_type": "code",
   "execution_count": null,
   "metadata": {},
   "outputs": [],
   "source": []
  }
 ],
 "metadata": {
  "kernelspec": {
   "display_name": "Python 3",
   "language": "python",
   "name": "python3"
  },
  "language_info": {
   "codemirror_mode": {
    "name": "ipython",
    "version": 3
   },
   "file_extension": ".py",
   "mimetype": "text/x-python",
   "name": "python",
   "nbconvert_exporter": "python",
   "pygments_lexer": "ipython3",
   "version": "3.8.1"
  }
 },
 "nbformat": 4,
 "nbformat_minor": 2
}
