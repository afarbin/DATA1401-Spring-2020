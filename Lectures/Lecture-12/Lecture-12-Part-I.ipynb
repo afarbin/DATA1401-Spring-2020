{
 "cells": [
  {
   "cell_type": "markdown",
   "metadata": {},
   "source": [
    "# Lecture 12\n",
    "\n",
    "## Python Libraries\n",
    "\n",
    "Until now we have been primarily used python built-ins. One of the great things about python is the incredible libraries that are either already installed with python or easily to install. If you want to do something in python, you can probably find a library or a GitHub page that already does it. \n",
    "\n",
    "Two resources of libraries are:\n",
    "\n",
    "* [The Python Standard Library reference](https://docs.python.org/2.7/library/): These packages are most likely already available in your python installation.\n",
    "* [PyPI Repository](https://pypi.org): These packages can be installed easily using the `pip install` command.\n",
    "\n",
    "### `import`\n",
    "\n",
    "Up until now in this course we typically wrote everything in a jupyter notebook, which we sequentially executed. All of our variable assignments and function definitions are therefore executed in the python interperter that jupyter is running and available in the subsequent cells. In a real piece of software, the code would likely be organized into files. \n",
    "\n",
    "For example, consider the checkers example in lecture 6. We can copy all of the relevant code from that lecture into one file: [checkers.py](https://github.com/afarbin/DATA1401-Spring-2019/blob/master/Lectures/Lecture-8/checkers.py). \n",
    "\n",
    "Now we can run the checkers game by \"importing\" the checkers \"module\":"
   ]
  },
  {
   "cell_type": "code",
   "execution_count": null,
   "metadata": {},
   "outputs": [],
   "source": [
    "import checkers"
   ]
  },
  {
   "cell_type": "markdown",
   "metadata": {},
   "source": [
    "We now have an \"checkers\" object in our current context:"
   ]
  },
  {
   "cell_type": "code",
   "execution_count": null,
   "metadata": {},
   "outputs": [],
   "source": [
    "print(checkers)\n",
    "print(type(checkers))"
   ]
  },
  {
   "cell_type": "markdown",
   "metadata": {},
   "source": [
    "We can see the contents of the module using the `dir` built-in:"
   ]
  },
  {
   "cell_type": "code",
   "execution_count": null,
   "metadata": {},
   "outputs": [],
   "source": [
    "dir(checkers)"
   ]
  },
  {
   "cell_type": "markdown",
   "metadata": {},
   "source": [
    "Note that calling `dir()` without an argument will show you everything in your current context:"
   ]
  },
  {
   "cell_type": "code",
   "execution_count": null,
   "metadata": {},
   "outputs": [],
   "source": [
    "x=1\n",
    "dir()"
   ]
  },
  {
   "cell_type": "markdown",
   "metadata": {},
   "source": [
    "To call something from the checkers module, we simply do, for example:"
   ]
  },
  {
   "cell_type": "code",
   "execution_count": null,
   "metadata": {},
   "outputs": [],
   "source": [
    "checkers.make_game_board()"
   ]
  },
  {
   "cell_type": "markdown",
   "metadata": {},
   "source": [
    "This may be combersome, so we can import a specific part of the checkers into our current context:"
   ]
  },
  {
   "cell_type": "code",
   "execution_count": null,
   "metadata": {},
   "outputs": [],
   "source": [
    "from checkers import make_game_board\n",
    "print(make_game_board())\n",
    "dir()"
   ]
  },
  {
   "cell_type": "markdown",
   "metadata": {},
   "source": [
    "We can rename what we import in our current context:"
   ]
  },
  {
   "cell_type": "code",
   "execution_count": null,
   "metadata": {},
   "outputs": [],
   "source": [
    "from checkers import moves as checkers_moves\n",
    "print(checkers_moves)"
   ]
  },
  {
   "cell_type": "markdown",
   "metadata": {},
   "source": [
    "Or we can import everything into our current context using `*`:"
   ]
  },
  {
   "cell_type": "code",
   "execution_count": null,
   "metadata": {},
   "outputs": [],
   "source": [
    "from checkers import *\n",
    "dir()"
   ]
  },
  {
   "cell_type": "markdown",
   "metadata": {},
   "source": [
    "Now you know how to import libraries. For example, the python math library:"
   ]
  },
  {
   "cell_type": "code",
   "execution_count": null,
   "metadata": {},
   "outputs": [],
   "source": [
    "import math\n",
    "dir(math)"
   ]
  },
  {
   "cell_type": "code",
   "execution_count": null,
   "metadata": {},
   "outputs": [],
   "source": []
  },
  {
   "cell_type": "code",
   "execution_count": null,
   "metadata": {},
   "outputs": [],
   "source": []
  }
 ],
 "metadata": {
  "kernelspec": {
   "display_name": "Python 3",
   "language": "python",
   "name": "python3"
  },
  "language_info": {
   "codemirror_mode": {
    "name": "ipython",
    "version": 3
   },
   "file_extension": ".py",
   "mimetype": "text/x-python",
   "name": "python",
   "nbconvert_exporter": "python",
   "pygments_lexer": "ipython3",
   "version": "3.8.1"
  }
 },
 "nbformat": 4,
 "nbformat_minor": 2
}
