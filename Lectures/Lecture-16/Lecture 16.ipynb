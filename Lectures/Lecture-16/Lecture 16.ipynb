{
 "cells": [
  {
   "cell_type": "markdown",
   "metadata": {},
   "source": [
    "# Lecture 16"
   ]
  },
  {
   "cell_type": "markdown",
   "metadata": {},
   "source": [
    "Using the python math and random libraries, implement the Box-Muller transform. This transform generates 2 random variables $Z_0$ and $Z_1$ that are Normal distributed from two uniformly distributed random variables $U_1$ and $U_2$ using the relation:\n",
    "\n",
    "$$\n",
    "Z_0 = \\sqrt{-2 \\log{U_1}}\\cos{(2\\pi U_2)}\\\\\n",
    "Z_1 = \\sqrt{-2 \\log{U_1}}\\sin{(2\\pi U_2)}\n",
    "$$"
   ]
  },
  {
   "cell_type": "code",
   "execution_count": null,
   "metadata": {},
   "outputs": [],
   "source": [
    "import math\n",
    "import random\n",
    "\n",
    "x=.1\n",
    "# Useful functions\n",
    "math.pi\n",
    "math.sin(x)\n",
    "math.cos(x)\n",
    "math.log(x)\n",
    "math.sqrt(x)\n",
    "random.random()\n"
   ]
  },
  {
   "cell_type": "code",
   "execution_count": null,
   "metadata": {},
   "outputs": [],
   "source": [
    "def generate_normal(N):\n",
    "    out = list() \n",
    "    # Write your solution here\n",
    "    # …\n",
    "\n",
    "    return out"
   ]
  },
  {
   "cell_type": "code",
   "execution_count": null,
   "metadata": {},
   "outputs": [],
   "source": [
    "%matplotlib inline\n",
    "import matplotlib.pyplot as plt\n"
   ]
  },
  {
   "cell_type": "markdown",
   "metadata": {},
   "source": [
    "## Lab 4\n",
    "\n",
    "*Exercise 5:* Write a function the applies a booling function (that returns true/false) to every element in data, and return a list of indices of elements where the result was true. Use this function to find the indices of entries greater than 0.5. "
   ]
  },
  {
   "cell_type": "code",
   "execution_count": null,
   "metadata": {},
   "outputs": [],
   "source": [
    "def where(mylist,myfunc):\n",
    "    out= []\n",
    "    for i,v in enumerate(mylist):\n",
    "        if myfunc(v):\n",
    "            out.append(i)\n",
    "    \n",
    "    return out"
   ]
  },
  {
   "cell_type": "code",
   "execution_count": null,
   "metadata": {},
   "outputs": [],
   "source": [
    "# Test your solution here\n",
    "\n",
    "def greater_than_five(x):\n",
    "    return x>5\n",
    "\n",
    "where(range(1,10),greater_than_five)\n",
    "\n"
   ]
  },
  {
   "cell_type": "code",
   "execution_count": null,
   "metadata": {},
   "outputs": [],
   "source": [
    "where(range(1,10),lambda x: x>5)"
   ]
  },
  {
   "cell_type": "markdown",
   "metadata": {},
   "source": [
    "*Exercise 6:* The inrange(mymin,mymax) function below returns a function that tests if it's input is between the specified values. Write corresponding functions that test:\n",
    "* Even\n",
    "* Odd\n",
    "* Greater than\n",
    "* Less than\n",
    "* Equal\n",
    "* Divisible by"
   ]
  },
  {
   "cell_type": "code",
   "execution_count": null,
   "metadata": {},
   "outputs": [],
   "source": [
    "import random\n",
    "data= [ 10*random.random()+5 for _ in range(100) ]\n",
    "print(min(data),max(data))"
   ]
  },
  {
   "cell_type": "code",
   "execution_count": null,
   "metadata": {},
   "outputs": [],
   "source": [
    "def in_range(mymin,mymax):\n",
    "    def testrange(x):\n",
    "        return x<mymax and x>=mymin\n",
    "    return testrange\n",
    "\n",
    "# Examples:\n",
    "F1=in_range(0,10)\n",
    "F2=in_range(10,20)\n",
    "\n",
    "# Test of in_range\n",
    "print (F1(0), F1(1), F1(10), F1(15), F1(20))\n",
    "print (F2(0), F2(1), F2(10), F2(15), F2(20))\n",
    "\n",
    "print (\"Number of Entries passing F1:\", len(where(data,F1)))\n",
    "print (\"Number of Entries passing F2:\", len(where(data,F2)))"
   ]
  },
  {
   "cell_type": "code",
   "execution_count": null,
   "metadata": {},
   "outputs": [],
   "source": [
    "### BEGIN SOLUTION\n",
    "\n",
    "def even(x):\n",
    "    return x%2==0\n",
    "\n",
    "def odd(x):\n",
    "    return x%2==1\n",
    "    \n",
    "def greater_than(y):\n",
    "    def func(x):\n",
    "        return x>y\n",
    "    return func\n",
    "    \n",
    "def less_than(y):\n",
    "    def func(x):\n",
    "        return x<y\n",
    "    return func\n",
    "\n",
    "def equal(y):\n",
    "    def func(x):\n",
    "        return x==y\n",
    "    return func\n",
    "\n",
    "def divisible_by(y):\n",
    "    def func(x):\n",
    "        return x%y==0\n",
    "    return func\n",
    "    \n",
    "### END SOLUTION"
   ]
  },
  {
   "cell_type": "code",
   "execution_count": null,
   "metadata": {},
   "outputs": [],
   "source": [
    "# Test your solution\n",
    "\n",
    "d=list(range(50))\n",
    "\n",
    "print (\"Number of Entries passing even:\", len(where(d,even)))\n",
    "print (\"Number of Entries passing odd:\", len(where(d,odd)))\n",
    "print (\"Number of Entries passing greater than 10:\", len(where(d,greater_than(10))))\n",
    "print (\"Number of Entries passing less than 10:\", len(where(d,less_than(10))))\n",
    "print (\"Number of Entries passing equal to 10:\", len(where(d,equal(10))))\n",
    "print (\"Number of Entries passing divisible by 10:\", len(where(d,divisible_by(10))))\n"
   ]
  },
  {
   "cell_type": "markdown",
   "metadata": {},
   "source": [
    "*Exercise 7:* Repeat the previous exercise using `lambda` and the built-in python functions sum and map instead of your solution above. "
   ]
  },
  {
   "cell_type": "code",
   "execution_count": null,
   "metadata": {},
   "outputs": [],
   "source": [
    "### BEGIN SOLUTION\n",
    "\n",
    "print (\"Number of Entries passing even:\", sum(map(lambda x: x%2==0,d)))\n",
    "print (\"Number of Entries passing odd:\",  sum(map(lambda x: x%2==1,d)))\n",
    "print (\"Number of Entries passing greater than 10:\",  sum(map(lambda x: x>10,d)))\n",
    "print (\"Number of Entries passing less than 10:\", sum(map(lambda x: x<10,d)))\n",
    "print (\"Number of Entries passing equal to 10:\", sum(map(lambda x: x==10,d)))\n",
    "print (\"Number of Entries passing divisible by 10:\", sum(map(lambda x: x%10==0,d)))\n",
    "    \n",
    "### END SOLUTION"
   ]
  },
  {
   "cell_type": "markdown",
   "metadata": {},
   "source": [
    "## Monte Carlo\n",
    "\n",
    "*Exercise 7:* Write a \"generator\" function called `generate_function(func,x_min,x_max,N)`, that instead of generating a flat distribution, generates a distribution with functional form coded in `func`. Note that `func` will always be > 0.  \n",
    "\n",
    "Use the test function below and your histogramming functions above to demonstrate that your generator is working properly.\n",
    "\n",
    "Hint: A simple, but slow, solution is to a draw random number test_x within the specified range and another number p between the min and max of the function (which you will have to determine). If p<=function(test_x), then place test_x on the output. If not, repeat the process, drawing two new numbers. Repeat until you have the specified number of generated numbers, N. For this problem, it's OK to determine the min and max by numerically sampling the function.  "
   ]
  },
  {
   "cell_type": "code",
   "execution_count": null,
   "metadata": {},
   "outputs": [],
   "source": [
    "def arange(x_min,x_max,steps=10):\n",
    "    step_size=(x_max-x_min)/steps\n",
    "    x=x_min\n",
    "    out = list()\n",
    "    for i in range(steps):\n",
    "        out.append(x)\n",
    "        x+=step_size\n",
    "    return out\n",
    "\n",
    "def generate_function(func,x_min,x_max,N=1000):\n",
    "    out = list()\n",
    "    x_scan = arange(x_min,x_max,100)\n",
    "    y_scan = list(map(func,x_scan))\n",
    "    y_min = min(y_scan)\n",
    "    y_max = max(y_scan)\n",
    "    \n",
    "    while len(out)<N:\n",
    "        x = x_min + (x_max-x_min)*random.random()\n",
    "        y = y_min + (y_max-y_min)*random.random()\n",
    "        \n",
    "        if y<=func(x):\n",
    "            out.append(x)\n",
    "\n",
    "    return out"
   ]
  },
  {
   "cell_type": "code",
   "execution_count": null,
   "metadata": {},
   "outputs": [],
   "source": [
    "# A test function\n",
    "def test_func(x,a=1,b=1):\n",
    "    return abs(a*x+b)"
   ]
  },
  {
   "cell_type": "code",
   "execution_count": null,
   "metadata": {},
   "outputs": [],
   "source": [
    "def histogram(data, n_bins=10,x_min=None, x_max=None):\n",
    "    if x_min==None:\n",
    "        x_min=min(data)\n",
    "    if x_max==None:\n",
    "        x_max=max(data)\n",
    "        \n",
    "    bin_edges = arange(x_min,x_max,n_bins)\n",
    "    bin_edges.append(x_max)\n",
    "\n",
    "    hist=[0]*n_bins\n",
    "    \n",
    "    for d in data:\n",
    "        for i in range(n_bins):\n",
    "            if d>=bin_edges[i] and d<bin_edges[i+1]:\n",
    "                hist[i]+=1\n",
    "                break\n",
    "                \n",
    "    return hist,bin_edges"
   ]
  },
  {
   "cell_type": "code",
   "execution_count": null,
   "metadata": {},
   "outputs": [],
   "source": [
    "histogram(generate_function(test_func,0,10,100))"
   ]
  },
  {
   "cell_type": "code",
   "execution_count": null,
   "metadata": {},
   "outputs": [],
   "source": [
    "plt.hist(generate_function(test_func,0,10,100))"
   ]
  },
  {
   "cell_type": "markdown",
   "metadata": {},
   "source": [
    "*Exercise 8:* Use your function to generate 1000 numbers that are normal distributed, using the `gaussian` function below. Confirm the mean and variance of the data is close to the mean and variance you specify when building the Gaussian. Histogram the data. "
   ]
  },
  {
   "cell_type": "code",
   "execution_count": null,
   "metadata": {},
   "outputs": [],
   "source": [
    "import math\n",
    "\n",
    "def gaussian(mean, sigma):\n",
    "    def f(x):\n",
    "        return math.exp(-((x-mean)**2)/(2*sigma**2))/math.sqrt(math.pi*sigma)\n",
    "    return f\n",
    "\n",
    "# Example Instantiation\n",
    "g1=gaussian(0,1)\n",
    "g2=gaussian(10,3)"
   ]
  },
  {
   "cell_type": "code",
   "execution_count": null,
   "metadata": {},
   "outputs": [],
   "source": [
    "g1_data=generate_function(g1,-5,5,1000)\n",
    "g2_data=generate_function(g2,0,20,1000)\n",
    "\n",
    "plt.hist(g1_data)\n",
    "plt.show()\n",
    "plt.hist(g2_data)\n",
    "plt.show()\n",
    "\n"
   ]
  },
  {
   "cell_type": "code",
   "execution_count": null,
   "metadata": {},
   "outputs": [],
   "source": [
    "def mean(x):\n",
    "    return sum(x)/float(len(x))\n",
    "\n",
    "def variance(x):\n",
    "    m=mean(x)\n",
    "    return (sum(map(lambda y: (y-m)**2,x))/float(len(x)-1))\n",
    "\n",
    "import math\n",
    "\n",
    "print(mean(g1_data),math.sqrt(variance(g1_data)))\n",
    "print(mean(g2_data),math.sqrt(variance(g2_data)))\n"
   ]
  },
  {
   "cell_type": "markdown",
   "metadata": {},
   "source": [
    "*Exercise 9:* Combine your `generate_function`, `where`, and `in_range` functions above to create an integrate function. Use your integrate function to show that approximately 68% of Normal distribution is within one variance."
   ]
  },
  {
   "cell_type": "code",
   "execution_count": null,
   "metadata": {},
   "outputs": [],
   "source": [
    "def integrate(func, x_min, x_max, n_points=1000):\n",
    "    out = list()\n",
    "    x_scan = arange(x_min,x_max,100)\n",
    "    y_scan = list(map(func,x_scan))\n",
    "    y_min = min(y_scan)\n",
    "    y_max = max(y_scan)\n",
    "\n",
    "    count=0\n",
    "    while len(out)<n_points:\n",
    "        count+=1\n",
    "        x = x_min + (x_max-x_min)*random.random()\n",
    "        y = y_min + (y_max-y_min)*random.random()\n",
    "        \n",
    "        if y<=func(x):\n",
    "            out.append(x)\n",
    "\n",
    "    integral=float(len(out))/float(count)\n",
    "    return integral"
   ]
  },
  {
   "cell_type": "code",
   "execution_count": null,
   "metadata": {},
   "outputs": [],
   "source": [
    "integrate(g1, -1, 1, n_points=1000)"
   ]
  },
  {
   "cell_type": "code",
   "execution_count": null,
   "metadata": {},
   "outputs": [],
   "source": []
  }
 ],
 "metadata": {
  "kernelspec": {
   "display_name": "Python 3",
   "language": "python",
   "name": "python3"
  },
  "language_info": {
   "codemirror_mode": {
    "name": "ipython",
    "version": 3
   },
   "file_extension": ".py",
   "mimetype": "text/x-python",
   "name": "python",
   "nbconvert_exporter": "python",
   "pygments_lexer": "ipython3",
   "version": "3.8.1"
  }
 },
 "nbformat": 4,
 "nbformat_minor": 2
}
