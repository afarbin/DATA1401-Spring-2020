%cd /content/drive/My\ Drive
%cd Data-1401-Repo
#We will now connect your fork to the original so you can pull changes from there. 
!git remote -v
#From now on, you can get the newest version of class material by using:
!git pull