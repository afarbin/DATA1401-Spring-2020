{
  "nbformat": 4,
  "nbformat_minor": 0,
  "metadata": {
    "kernelspec": {
      "name": "python3",
      "display_name": "Python 3"
    },
    "colab": {
      "name": "Copy of Copy of Lab-3-part-3.ipynb",
      "provenance": [],
      "collapsed_sections": []
    }
  },
  "cells": [
    {
      "cell_type": "markdown",
      "metadata": {
        "id": "y3z1vdNVKJB7",
        "colab_type": "text"
      },
      "source": [
        "# Lab 3- Tic Tac Toe\n",
        "\n",
        "[![Open In Colab](https://colab.research.google.com/assets/colab-badge.svg)](https://colab.research.google.com/github//afarbin/DATA1401-Spring-2020/blob/master/Labs/Lab-3/Lab-3.ipynb)\n",
        "\n",
        "In this lab your will build a n x n Tic Tac Toe game. As you do the exercises, make sure your solutions work for any size Tic Tac Toe game. "
      ]
    },
    {
      "cell_type": "markdown",
      "metadata": {
        "id": "ro6p7KHrKJB-",
        "colab_type": "text"
      },
      "source": [
        "*Exercise 1:* Write a function that creates an n by n matrix (of list of lists) which will represent the state of a Tie Tac Toe game. Let 0, 1, and 2 represent empty, \"X\", or \"O\".\n"
      ]
    },
    {
      "cell_type": "code",
      "metadata": {
        "deletable": true,
        "editable": true,
        "id": "nK4kuWiPKJCC",
        "colab_type": "code",
        "colab": {}
      },
      "source": [
        "def TTT_board (num_space):\n",
        "  empty = 0\n",
        "  X = 1\n",
        "  O = 2\n",
        "  board = []\n",
        "  for i in range (num_space):\n",
        "    row=list()\n",
        "    for j in range(num_space):\n",
        "      row.append(empty)\n",
        "\n",
        "    board.append(row)\n",
        "  board[2][3]=1\n",
        "  return board"
      ],
      "execution_count": 0,
      "outputs": []
    },
    {
      "cell_type": "code",
      "metadata": {
        "deletable": true,
        "editable": true,
        "id": "eYFuqYCsKJCL",
        "colab_type": "code",
        "outputId": "3a32c8b8-703d-43cd-c037-0a7c39cbdcda",
        "colab": {
          "base_uri": "https://localhost:8080/",
          "height": 109
        }
      },
      "source": [
        "TTT_board(5)"
      ],
      "execution_count": 0,
      "outputs": [
        {
          "output_type": "execute_result",
          "data": {
            "text/plain": [
              "[[0, 0, 0, 0, 0],\n",
              " [0, 0, 0, 0, 0],\n",
              " [0, 0, 0, 1, 0],\n",
              " [0, 0, 0, 0, 0],\n",
              " [0, 0, 0, 0, 0]]"
            ]
          },
          "metadata": {
            "tags": []
          },
          "execution_count": 9
        }
      ]
    },
    {
      "cell_type": "code",
      "metadata": {
        "id": "rzfxjmpRSjst",
        "colab_type": "code",
        "colab": {}
      },
      "source": [
        ""
      ],
      "execution_count": 0,
      "outputs": []
    },
    {
      "cell_type": "markdown",
      "metadata": {
        "deletable": true,
        "editable": true,
        "id": "qejcH-C3KJCR",
        "colab_type": "text"
      },
      "source": [
        "*Exercise 2:* Write a function that takes a `n` by `n` matrix representing a tic-tac-toe game, and returns -1, 0, 1, or 2 indicating the game is incomplete, the game is a draw, player 1 has won, or player 2 has one, respectively. Here are some example inputs you can use to test your code:"
      ]
    },
    {
      "cell_type": "code",
      "metadata": {
        "deletable": true,
        "editable": true,
        "id": "YHD0P859KJCT",
        "colab_type": "code",
        "colab": {}
      },
      "source": [
        "winner_is_2 = [[2, 2, 0],\n",
        "\t[2, 1, 0],\n",
        "\t[2, 1, 1]]\n",
        "\n",
        "winner_is_1 = [[1, 2, 0],\n",
        "\t[2, 1, 0],\n",
        "\t[2, 1, 1]]\n",
        "\n",
        "winner_is_also_1 = [[0, 1, 0],\n",
        "\t[2, 1, 0],\n",
        "\t[2, 1, 1]]\n",
        "\n",
        "no_winner = [[1, 2, 0],\n",
        "\t[2, 1, 0],\n",
        "\t[2, 1, 2]]\n",
        "\n",
        "also_no_winner = [[1, 2, 0],\n",
        "\t[2, 1, 0],\n",
        "\t[2, 1, 0]]"
      ],
      "execution_count": 0,
      "outputs": []
    },
    {
      "cell_type": "code",
      "metadata": {
        "id": "hl_XRFFNUOd8",
        "colab_type": "code",
        "colab": {}
      },
      "source": [
        "def proto(result):\n",
        "  column_winner=0\n",
        "  row_winner=0\n",
        "  incomplete=0\n",
        "  game_status=-1\n",
        "  n=len(result[0])\n",
        "  #column check\n",
        "  diag_1=0\n",
        "  diag_2=0\n",
        "  empty_space=0\n",
        "  for j in range(len(result)):\n",
        "    player_1_col=0\n",
        "    player_2_col=0\n",
        "    player_1_rows=0\n",
        "    player_2_rows=0\n",
        "    row_winner=0\n",
        "    back=-1\n",
        "    #Row check\n",
        "    for k in range(len(result[0])):\n",
        "      if result[j][k]==1:\n",
        "        player_1_rows+=1\n",
        "      if result[j][k]==2:\n",
        "        player_2_rows+=1\n",
        "      if result [j][k]==0:\n",
        "        incomplete+=1\n",
        "      if player_1_rows==n:\n",
        "        row_winner=1\n",
        "        game_status=row_winner\n",
        "      if player_2_rows==n:\n",
        "        row_winner=2\n",
        "        game_status=row_winner\n",
        "      if game_status!=-1:\n",
        "        print(\"winner is player=\",game_status,\"\\n\")\n",
        "      #print(\" row check-in loop:P1=\",player_1_rows,\"P2=\",player_2_rows)\n",
        "      #print(\"row=\",j,\"column=\",k,row_winner,\"\\n\")\n",
        "      #diagonal check\n",
        "      diag_winner=0\n",
        "      if j==k:\n",
        "        if result[j][k]==1:\n",
        "          diag_1+=1\n",
        "        if result[j][k]==2:\n",
        "          diag_2+=1\n",
        "      if result[j][k]==result[k][j]:\n",
        "        if result[j][k]==1:\n",
        "          diag_1+=1\n",
        "        if result[j][k]==2:\n",
        "          diag_2+=1 \n",
        "      if diag_1==n:\n",
        "        diag_winner=1\n",
        "        game_status=diag_winner\n",
        "      if diag_2==n:\n",
        "        diag_winner=2\n",
        "        game_status=diag_winner\n",
        "      if incomplete==n:\n",
        "        diag_winner=-1\n",
        "        game_status=diag_winner\n",
        "      if game_status!=-1:\n",
        "        print(\"winning player=\",game_status,\"\\n\")\n",
        "      #Column check\n",
        "      print(\"row=\",j,\"column=\",k)\n",
        "      if result[k][j]==1:\n",
        "        player_1_col+=1\n",
        "        print(\"cell=\",result[k][j],\"play 1 col=\",player_1_col)\n",
        "      if result[k][j]==2:\n",
        "        player_2_col+=1\n",
        "        print(\"cell=\",result[k][j],\"play 2 col=\",player_2_col,\"\\n\")\n",
        "      if result[k][j]==0:\n",
        "        incomplete+=1\n",
        "      if player_1_col==n:\n",
        "        column_winner=1\n",
        "        game_status=column_winner\n",
        "      if player_2_col==n:\n",
        "        column_winner=2\n",
        "        game_status=column_winner\n",
        "      if game_status!=-1:\n",
        "        print(\"the winning player=\",game_status,\"\\n\")\n",
        "        return game_status\n",
        "    print(\"game status=\",game_status,\"\\n\")\n",
        "  if game_status!=1 and game_status!=2 and incomplete!=0:\n",
        "    print(\"The game is a draw\")  \n",
        "  print(\"winner is\",game_status)\n",
        "  print(\"diagonal count=\",diag_1)\n",
        "  return game_status"
      ],
      "execution_count": 0,
      "outputs": []
    },
    {
      "cell_type": "code",
      "metadata": {
        "deletable": true,
        "editable": true,
        "id": "CZk2yDmPKJCe",
        "colab_type": "code",
        "outputId": "505c95ca-863f-4327-f985-9126b4fd8d95",
        "colab": {
          "base_uri": "https://localhost:8080/",
          "height": 348
        }
      },
      "source": [
        "proto([[1,2,2],[2,2,0],[2,0,1]])"
      ],
      "execution_count": 40,
      "outputs": [
        {
          "output_type": "stream",
          "text": [
            "row= 0 column= 0\n",
            "cell= 1 play 1 col= 1\n",
            "row= 0 column= 1\n",
            "cell= 2 play 2 col= 1 \n",
            "\n",
            "row= 0 column= 2\n",
            "cell= 2 play 2 col= 2 \n",
            "\n",
            "game status= -1 \n",
            "\n",
            "winning player= 2 \n",
            "\n",
            "row= 1 column= 0\n",
            "cell= 2 play 2 col= 1 \n",
            "\n",
            "the winning player= 2 \n",
            "\n"
          ],
          "name": "stdout"
        },
        {
          "output_type": "execute_result",
          "data": {
            "text/plain": [
              "2"
            ]
          },
          "metadata": {
            "tags": []
          },
          "execution_count": 40
        }
      ]
    },
    {
      "cell_type": "markdown",
      "metadata": {
        "deletable": true,
        "editable": true,
        "id": "-Dx0OKWGKJCi",
        "colab_type": "text"
      },
      "source": [
        "*Exercise 3:* Write a function that takes 2 integers `n` and `m` as input and draws a `n` by `m` game board. For example the following is a 3x3 board:\n",
        "```\n",
        "   --- --- --- \n",
        "  |   |   |   | \n",
        "   --- --- ---  \n",
        "  |   |   |   | \n",
        "   --- --- ---  \n",
        "  |   |   |   | \n",
        "   --- --- --- \n",
        "   ```"
      ]
    },
    {
      "cell_type": "code",
      "metadata": {
        "deletable": true,
        "editable": true,
        "id": "eLmEHx2iKJCi",
        "colab_type": "code",
        "colab": {}
      },
      "source": [
        "# Write you solution here"
      ],
      "execution_count": 0,
      "outputs": []
    },
    {
      "cell_type": "code",
      "metadata": {
        "deletable": true,
        "editable": true,
        "id": "6NK7rBGVKJCo",
        "colab_type": "code",
        "colab": {}
      },
      "source": [
        "# Test your solution here"
      ],
      "execution_count": 0,
      "outputs": []
    },
    {
      "cell_type": "markdown",
      "metadata": {
        "deletable": true,
        "editable": true,
        "id": "38wcw3hVKJCs",
        "colab_type": "text"
      },
      "source": [
        "*Exercise 4:* Modify exercise 3, so that it takes a matrix of the form from exercise 2 and draws a tic-tac-tie board with \"X\"s and \"O\"s.  "
      ]
    },
    {
      "cell_type": "code",
      "metadata": {
        "deletable": true,
        "editable": true,
        "id": "ttiGCPG0KJCu",
        "colab_type": "code",
        "colab": {}
      },
      "source": [
        "# Write you solution here"
      ],
      "execution_count": 0,
      "outputs": []
    },
    {
      "cell_type": "code",
      "metadata": {
        "deletable": true,
        "editable": true,
        "id": "vWSIjdNCKJCy",
        "colab_type": "code",
        "colab": {}
      },
      "source": [
        "# Test your solution here"
      ],
      "execution_count": 0,
      "outputs": []
    },
    {
      "cell_type": "markdown",
      "metadata": {
        "deletable": true,
        "editable": true,
        "id": "tgTg2ohwKJC4",
        "colab_type": "text"
      },
      "source": [
        "*Exercise 5:* Write a function that takes a game board, player number, and `(x,y)` coordinates and places \"X\" or \"O\" in the correct location of the game board. Make sure that you only allow filling previously empty locations. Return `True` or `False` to indicate successful placement of \"X\" or \"O\"."
      ]
    },
    {
      "cell_type": "code",
      "metadata": {
        "deletable": true,
        "editable": true,
        "id": "3Jfnl0MfKJC5",
        "colab_type": "code",
        "colab": {}
      },
      "source": [
        "# Write you solution here"
      ],
      "execution_count": 0,
      "outputs": []
    },
    {
      "cell_type": "code",
      "metadata": {
        "deletable": true,
        "editable": true,
        "id": "UzBvZb6SKJC8",
        "colab_type": "code",
        "colab": {}
      },
      "source": [
        "# Test your solution here"
      ],
      "execution_count": 0,
      "outputs": []
    },
    {
      "cell_type": "markdown",
      "metadata": {
        "deletable": true,
        "editable": true,
        "id": "o6Ibs9uNKJDB",
        "colab_type": "text"
      },
      "source": [
        "*Exercise 6:* Modify Exercise 4 to show column and row labels so that players can specify location using \"A2\" or \"C1\"."
      ]
    },
    {
      "cell_type": "code",
      "metadata": {
        "id": "VlTa-VLGKJDC",
        "colab_type": "code",
        "colab": {}
      },
      "source": [
        "# Write you solution here"
      ],
      "execution_count": 0,
      "outputs": []
    },
    {
      "cell_type": "code",
      "metadata": {
        "deletable": true,
        "editable": true,
        "id": "6ewYNJVQKJDG",
        "colab_type": "code",
        "colab": {}
      },
      "source": [
        "# Test your solution here"
      ],
      "execution_count": 0,
      "outputs": []
    },
    {
      "cell_type": "markdown",
      "metadata": {
        "deletable": true,
        "editable": true,
        "id": "NcZNWEuOKJDJ",
        "colab_type": "text"
      },
      "source": [
        "*Exercise 7:* Write a function that takes a board, player number, and location specified as in exercise 6 and then calls exercise 5 to correctly modify the board.  "
      ]
    },
    {
      "cell_type": "code",
      "metadata": {
        "deletable": true,
        "editable": true,
        "id": "ruLXG_oOKJDL",
        "colab_type": "code",
        "colab": {}
      },
      "source": [
        "# Write you solution here"
      ],
      "execution_count": 0,
      "outputs": []
    },
    {
      "cell_type": "code",
      "metadata": {
        "deletable": true,
        "editable": true,
        "id": "9od7IfYhKJDP",
        "colab_type": "code",
        "colab": {}
      },
      "source": [
        "# Test your solution here"
      ],
      "execution_count": 0,
      "outputs": []
    },
    {
      "cell_type": "markdown",
      "metadata": {
        "deletable": true,
        "editable": true,
        "id": "3VynF5giKJDS",
        "colab_type": "text"
      },
      "source": [
        "*Exercise 8:* Write a function is called with a board and player number, takes input from the player using python's `input`, and modifies the board using your function from exercise 7. Note that you should keep asking for input until you have gotten a valid input that results in a valid move."
      ]
    },
    {
      "cell_type": "code",
      "metadata": {
        "deletable": true,
        "editable": true,
        "id": "VccpTH-4KJDU",
        "colab_type": "code",
        "colab": {}
      },
      "source": [
        "# Write you solution here"
      ],
      "execution_count": 0,
      "outputs": []
    },
    {
      "cell_type": "code",
      "metadata": {
        "deletable": true,
        "editable": true,
        "id": "4Osp2FMVKJDX",
        "colab_type": "code",
        "colab": {}
      },
      "source": [
        "# Test your solution here"
      ],
      "execution_count": 0,
      "outputs": []
    },
    {
      "cell_type": "markdown",
      "metadata": {
        "deletable": true,
        "editable": true,
        "id": "5l84b0rPKJDa",
        "colab_type": "text"
      },
      "source": [
        "*Exercise 9:* Use all of the previous exercises to implement a full tic-tac-toe game, where an appropriate board is drawn, 2 players are repeatedly asked for a location coordinates of where they wish to place a mark, and the game status is checked until a player wins or a draw occurs."
      ]
    },
    {
      "cell_type": "code",
      "metadata": {
        "deletable": true,
        "editable": true,
        "id": "QPW3YuPjKJDb",
        "colab_type": "code",
        "colab": {}
      },
      "source": [
        "# Write you solution here"
      ],
      "execution_count": 0,
      "outputs": []
    },
    {
      "cell_type": "code",
      "metadata": {
        "deletable": true,
        "editable": true,
        "id": "Yoq0viEwKJDe",
        "colab_type": "code",
        "colab": {}
      },
      "source": [
        "# Test your solution here"
      ],
      "execution_count": 0,
      "outputs": []
    },
    {
      "cell_type": "markdown",
      "metadata": {
        "deletable": true,
        "editable": true,
        "id": "wvq73NL3KJDh",
        "colab_type": "text"
      },
      "source": [
        "*Exercise 10:* Test that your game works for 5x5 Tic Tac Toe.  "
      ]
    },
    {
      "cell_type": "code",
      "metadata": {
        "deletable": true,
        "editable": true,
        "id": "8L0fl1gyKJDi",
        "colab_type": "code",
        "colab": {}
      },
      "source": [
        "# Test your solution here"
      ],
      "execution_count": 0,
      "outputs": []
    },
    {
      "cell_type": "markdown",
      "metadata": {
        "deletable": true,
        "editable": true,
        "id": "Wiip51ggKJDk",
        "colab_type": "text"
      },
      "source": [
        "*Exercise 11: (Extra Credit)* Develop a version of the game where one player is the computer. Note that you don't need to do an extensive seach for the best move. You can have the computer simply protect against loosing and otherwise try to win with straight or diagonal patterns."
      ]
    },
    {
      "cell_type": "code",
      "metadata": {
        "deletable": true,
        "editable": true,
        "id": "Mk5nXcEhKJDl",
        "colab_type": "code",
        "colab": {}
      },
      "source": [
        "# Write you solution here"
      ],
      "execution_count": 0,
      "outputs": []
    },
    {
      "cell_type": "code",
      "metadata": {
        "deletable": true,
        "editable": true,
        "id": "eBnMXlhAKJDp",
        "colab_type": "code",
        "colab": {}
      },
      "source": [
        "# Test your solution here"
      ],
      "execution_count": 0,
      "outputs": []
    }
  ]
}