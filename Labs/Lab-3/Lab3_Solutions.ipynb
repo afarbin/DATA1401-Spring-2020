{
  "nbformat": 4,
  "nbformat_minor": 0,
  "metadata": {
    "kernelspec": {
      "display_name": "Python 2",
      "language": "python",
      "name": "python2"
    },
    "language_info": {
      "codemirror_mode": {
        "name": "ipython",
        "version": 2
      },
      "file_extension": ".py",
      "mimetype": "text/x-python",
      "name": "python",
      "nbconvert_exporter": "python",
      "pygments_lexer": "ipython2",
      "version": "2.7.10"
    },
    "colab": {
      "name": "Copy of Lab-3.ipynb",
      "provenance": [],
      "collapsed_sections": []
    }
  },
  "cells": [
    {
      "cell_type": "markdown",
      "metadata": {
        "id": "cTu9VHYVwzsf",
        "colab_type": "text"
      },
      "source": [
        "# Lab 3- Tic Tac Toe\n",
        "\n",
        "[![Open In Colab](https://colab.research.google.com/assets/colab-badge.svg)](https://colab.research.google.com/github//afarbin/DATA1401-Spring-2020/blob/master/Labs/Lab-3/Lab-3.ipynb)\n",
        "\n",
        "In this lab your will build a n x n Tic Tac Toe game. As you do the exercises, make sure your solutions work for any size Tic Tac Toe game. "
      ]
    },
    {
      "cell_type": "markdown",
      "metadata": {
        "id": "K-8BNO9Uwzsj",
        "colab_type": "text"
      },
      "source": [
        "*Exercise 1:* Write a function that creates an n by n matrix (of list of lists) which will represent the state of a Tie Tac Toe game. Let 0, 1, and 2 represent empty, \"X\", or \"O\".\n"
      ]
    },
    {
      "cell_type": "code",
      "metadata": {
        "deletable": true,
        "editable": true,
        "id": "bedZQagAwzsl",
        "colab_type": "code",
        "outputId": "b63675be-4006-4001-8c56-e0d8175ef6b3",
        "colab": {
          "base_uri": "https://localhost:8080/",
          "height": 35
        }
      },
      "source": [
        "# Write you solution here\n",
        "n = input(\"Enter the dimension (nxn)\")\n",
        "matrix= [0] * n\n",
        "for i in range(n):\n",
        "  matrix[i] = [0] * n"
      ],
      "execution_count": 1,
      "outputs": [
        {
          "output_type": "stream",
          "text": [
            "Enter the dimension (nxn)5\n"
          ],
          "name": "stdout"
        }
      ]
    },
    {
      "cell_type": "code",
      "metadata": {
        "deletable": true,
        "editable": true,
        "id": "awTJq-X4wzsq",
        "colab_type": "code",
        "colab": {
          "base_uri": "https://localhost:8080/",
          "height": 104
        },
        "outputId": "a06a3b1e-da41-4c7c-a143-8f9f4ec2809c"
      },
      "source": [
        "# Test your solution here\n",
        "matrix"
      ],
      "execution_count": 2,
      "outputs": [
        {
          "output_type": "execute_result",
          "data": {
            "text/plain": [
              "[[0, 0, 0, 0, 0],\n",
              " [0, 0, 0, 0, 0],\n",
              " [0, 0, 0, 0, 0],\n",
              " [0, 0, 0, 0, 0],\n",
              " [0, 0, 0, 0, 0]]"
            ]
          },
          "metadata": {
            "tags": []
          },
          "execution_count": 2
        }
      ]
    },
    {
      "cell_type": "markdown",
      "metadata": {
        "deletable": true,
        "editable": true,
        "id": "RznXxXuPwzst",
        "colab_type": "text"
      },
      "source": [
        "*Exercise 2:* Write a function that takes a `n` by `n` matrix representing a tic-tac-toe game, and returns -1, 0, 1, or 2 indicating the game is incomplete, the game is a draw, player 1 has won, or player 2 has one, respectively. Here are some example inputs you can use to test your code:"
      ]
    },
    {
      "cell_type": "code",
      "metadata": {
        "deletable": true,
        "editable": true,
        "id": "8PkP7UyNwzsu",
        "colab_type": "code",
        "colab": {}
      },
      "source": [
        "winner_is_2 = [[2, 2, 0],\n",
        "\t[2, 1, 0],\n",
        "\t[2, 1, 1]]\n",
        "\n",
        "winner_is_1 = [[1, 2, 0],\n",
        "\t[2, 1, 0],\n",
        "\t[2, 1, 1]]\n",
        "\n",
        "winner_is_also_1 = [[0, 1, 0],\n",
        "\t[2, 1, 0],\n",
        "\t[2, 1, 1]]\n",
        "\n",
        "no_winner = [[1, 2, 0],\n",
        "\t[2, 1, 0],\n",
        "\t[2, 1, 2]]\n",
        "\n",
        "also_no_winner = [[1, 2, 0],\n",
        "\t[2, 1, 0],\n",
        "\t[2, 1, 0]]"
      ],
      "execution_count": 0,
      "outputs": []
    },
    {
      "cell_type": "code",
      "metadata": {
        "deletable": true,
        "editable": true,
        "id": "nJMWrWsTwzsz",
        "colab_type": "code",
        "colab": {}
      },
      "source": [
        "# Write you solution here\n",
        "def matrix(A):\n",
        " \n",
        "  for each_list in A:\n",
        "    result = all(elem == each_list[0] for elem in each_list)\n",
        "    if result:\n",
        "      return int(each_list[0])\n",
        "    \n",
        "  for i in range(len(A)):\n",
        "\n",
        "    result = all(elem == A[:i][0] for elem in A[:i])\n",
        "    if result:\n",
        "      return int(A[:i][0])\n",
        "  \n",
        "  list_diagonal_check_1 = []\n",
        "  list_diagonal_check_2 = []\n",
        "  for i in range(len(A)):\n",
        "    list_diagonal_check_1.append(A[i][i])\n",
        "\n",
        "  for i in range(len(A)):\n",
        "    for j in range(len(A) - 1, -1,-1):\n",
        "      list_diagonal_check_2.append(A[j][i])\n",
        "  \n",
        "  result = all(elem == list_diagonal_check_1[0] for elem in list_diagonal_check_1)\n",
        "\n",
        "  if result:\n",
        "    return list_diagonal_check_1[0]\n",
        "\n",
        "  result = all(elem == list_diagonal_check_2[0] for elem in list_diagonal_check_2)\n",
        "\n",
        "  if result:\n",
        "    return list_diagonal_check_2[0]\n",
        "\n",
        "  else:\n",
        "    return 0"
      ],
      "execution_count": 0,
      "outputs": []
    },
    {
      "cell_type": "code",
      "metadata": {
        "deletable": true,
        "editable": true,
        "id": "IDfMOr6Mwzs3",
        "colab_type": "code",
        "colab": {
          "base_uri": "https://localhost:8080/",
          "height": 322
        },
        "outputId": "ad0ef35e-42b2-412d-e4e9-0cc737205194"
      },
      "source": [
        "# Test your solution here\n",
        "A=[[2, 2, 0],\n",
        "\t[2, 1, 0],\n",
        "\t[2, 1, 1]]\n",
        "matrix(A)"
      ],
      "execution_count": 23,
      "outputs": [
        {
          "output_type": "error",
          "ename": "IndexError",
          "evalue": "ignored",
          "traceback": [
            "\u001b[0;31m\u001b[0m",
            "\u001b[0;31mIndexError\u001b[0mTraceback (most recent call last)",
            "\u001b[0;32m<ipython-input-23-1fdfaf920243>\u001b[0m in \u001b[0;36m<module>\u001b[0;34m()\u001b[0m\n\u001b[1;32m      2\u001b[0m         \u001b[0;34m[\u001b[0m\u001b[0;36m2\u001b[0m\u001b[0;34m,\u001b[0m \u001b[0;36m1\u001b[0m\u001b[0;34m,\u001b[0m \u001b[0;36m0\u001b[0m\u001b[0;34m]\u001b[0m\u001b[0;34m,\u001b[0m\u001b[0;34m\u001b[0m\u001b[0m\n\u001b[1;32m      3\u001b[0m \t[2, 1, 1]]\n\u001b[0;32m----> 4\u001b[0;31m \u001b[0mmatrix\u001b[0m\u001b[0;34m(\u001b[0m\u001b[0mA\u001b[0m\u001b[0;34m)\u001b[0m\u001b[0;34m\u001b[0m\u001b[0m\n\u001b[0m",
            "\u001b[0;32m<ipython-input-22-a28f36684054>\u001b[0m in \u001b[0;36mmatrix\u001b[0;34m(A)\u001b[0m\n\u001b[1;32m     18\u001b[0m     \u001b[0mresult\u001b[0m \u001b[0;34m=\u001b[0m \u001b[0mall\u001b[0m\u001b[0;34m(\u001b[0m\u001b[0melem\u001b[0m \u001b[0;34m==\u001b[0m \u001b[0mA\u001b[0m\u001b[0;34m[\u001b[0m\u001b[0;34m:\u001b[0m\u001b[0mi\u001b[0m\u001b[0;34m]\u001b[0m\u001b[0;34m[\u001b[0m\u001b[0;36m0\u001b[0m\u001b[0;34m]\u001b[0m \u001b[0;32mfor\u001b[0m \u001b[0melem\u001b[0m \u001b[0;32min\u001b[0m \u001b[0mA\u001b[0m\u001b[0;34m[\u001b[0m\u001b[0;34m:\u001b[0m\u001b[0mi\u001b[0m\u001b[0;34m]\u001b[0m\u001b[0;34m)\u001b[0m\u001b[0;34m\u001b[0m\u001b[0m\n\u001b[1;32m     19\u001b[0m     \u001b[0;32mif\u001b[0m \u001b[0mresult\u001b[0m\u001b[0;34m:\u001b[0m\u001b[0;34m\u001b[0m\u001b[0m\n\u001b[0;32m---> 20\u001b[0;31m       \u001b[0;32mreturn\u001b[0m \u001b[0mint\u001b[0m\u001b[0;34m(\u001b[0m\u001b[0mA\u001b[0m\u001b[0;34m[\u001b[0m\u001b[0;34m:\u001b[0m\u001b[0mi\u001b[0m\u001b[0;34m]\u001b[0m\u001b[0;34m[\u001b[0m\u001b[0;36m0\u001b[0m\u001b[0;34m]\u001b[0m\u001b[0;34m)\u001b[0m\u001b[0;34m\u001b[0m\u001b[0m\n\u001b[0m\u001b[1;32m     21\u001b[0m \u001b[0;34m\u001b[0m\u001b[0m\n\u001b[1;32m     22\u001b[0m   \u001b[0mlist_diagonal_check_1\u001b[0m \u001b[0;34m=\u001b[0m \u001b[0;34m[\u001b[0m\u001b[0;34m]\u001b[0m\u001b[0;34m\u001b[0m\u001b[0m\n",
            "\u001b[0;31mIndexError\u001b[0m: list index out of range"
          ]
        }
      ]
    },
    {
      "cell_type": "markdown",
      "metadata": {
        "deletable": true,
        "editable": true,
        "id": "fQUo_-Lywzs7",
        "colab_type": "text"
      },
      "source": [
        "*Exercise 3:* Write a function that takes 2 integers `n` and `m` as input and draws a `n` by `m` game board. For example the following is a 3x3 board:\n",
        "```\n",
        "   --- --- --- \n",
        "  |   |   |   | \n",
        "   --- --- ---  \n",
        "  |   |   |   | \n",
        "   --- --- ---  \n",
        "  |   |   |   | \n",
        "   --- --- --- \n",
        "   ```"
      ]
    },
    {
      "cell_type": "code",
      "metadata": {
        "id": "FLHNeoDnkShy",
        "colab_type": "code",
        "colab": {}
      },
      "source": [
        "# Write you solution here\n",
        "def mat(n,m):\n",
        "  matrix= [' '] * n\n",
        "  for i in range(n):\n",
        "    matrix[i] = [' '] * m\n",
        "  print matrix"
      ],
      "execution_count": 0,
      "outputs": []
    },
    {
      "cell_type": "code",
      "metadata": {
        "id": "0xHUFg7i2eJH",
        "colab_type": "code",
        "colab": {
          "base_uri": "https://localhost:8080/",
          "height": 35
        },
        "outputId": "f67b9394-9254-485d-9691-6ac23fd8e56c"
      },
      "source": [
        "# Test you solution here\n",
        "mat(3,3)"
      ],
      "execution_count": 51,
      "outputs": [
        {
          "output_type": "stream",
          "text": [
            "[[' ', ' ', ' '], [' ', ' ', ' '], [' ', ' ', ' ']]\n"
          ],
          "name": "stdout"
        }
      ]
    },
    {
      "cell_type": "markdown",
      "metadata": {
        "deletable": true,
        "editable": true,
        "id": "7-RHpsddwztF",
        "colab_type": "text"
      },
      "source": [
        "*Exercise 4:* Modify exercise 3, so that it takes a matrix of the form from exercise 2 and draws a tic-tac-tie board with \"X\"s and \"O\"s.  "
      ]
    },
    {
      "cell_type": "code",
      "metadata": {
        "deletable": true,
        "editable": true,
        "id": "wGZJfG_9wztG",
        "colab_type": "code",
        "colab": {}
      },
      "source": [
        "# Write you solution here\n",
        "def mat(n,m):\n",
        "  matrix= ['X'] * m\n",
        "  for i in range(n):\n",
        "    if (i%2==0):\n",
        "      matrix[i] = ['O'] * n\n",
        "    else:\n",
        "      matrix[i] = ['X'] * n\n",
        "  print matrix"
      ],
      "execution_count": 0,
      "outputs": []
    },
    {
      "cell_type": "code",
      "metadata": {
        "deletable": true,
        "editable": true,
        "id": "V59JwAxHwztK",
        "colab_type": "code",
        "colab": {
          "base_uri": "https://localhost:8080/",
          "height": 35
        },
        "outputId": "0c6047e8-4e3c-4712-b6fa-c83c901b945f"
      },
      "source": [
        "# Test your solution here\n",
        "mat(5,5)"
      ],
      "execution_count": 65,
      "outputs": [
        {
          "output_type": "stream",
          "text": [
            "[['O', 'O', 'O', 'O', 'O'], ['X', 'X', 'X', 'X', 'X'], ['O', 'O', 'O', 'O', 'O'], ['X', 'X', 'X', 'X', 'X'], ['O', 'O', 'O', 'O', 'O']]\n"
          ],
          "name": "stdout"
        }
      ]
    },
    {
      "cell_type": "markdown",
      "metadata": {
        "deletable": true,
        "editable": true,
        "id": "O5qm8KuRwztN",
        "colab_type": "text"
      },
      "source": [
        "*Exercise 5:* Write a function that takes a game board, player number, and `(x,y)` coordinates and places \"X\" or \"O\" in the correct location of the game board. Make sure that you only allow filling previously empty locations. Return `True` or `False` to indicate successful placement of \"X\" or \"O\"."
      ]
    },
    {
      "cell_type": "code",
      "metadata": {
        "deletable": true,
        "editable": true,
        "id": "kG5sbUMUwztO",
        "colab_type": "code",
        "colab": {}
      },
      "source": [
        "# Write you solution here\n",
        "def game():\n",
        "\n",
        "    player_1 = 'X'\n",
        "    player_2 = 'O'\n",
        "    \n",
        "    for i in range(10):\n",
        "            printBoard(matrix)\n",
        "            print(\"It's your turn,\" + player_1 + \".Move to which place?\")\n",
        "\n",
        "            move = input()        \n",
        "\n",
        "            if matrix[move] == ' ':\n",
        "                matrix[move] = turn\n",
        "            else:\n",
        "                print(\"That place is already filled.\\nMove to which place?\")\n",
        "                continue"
      ],
      "execution_count": 0,
      "outputs": []
    },
    {
      "cell_type": "code",
      "metadata": {
        "deletable": true,
        "editable": true,
        "id": "ItZjpiFEwztQ",
        "colab_type": "code",
        "colab": {
          "base_uri": "https://localhost:8080/",
          "height": 311
        },
        "outputId": "02136bb0-eead-4826-bfd4-fb15f837fa21"
      },
      "source": [
        "# Test your solution here\n",
        "game()"
      ],
      "execution_count": 67,
      "outputs": [
        {
          "output_type": "error",
          "ename": "TypeError",
          "evalue": "ignored",
          "traceback": [
            "\u001b[0;31m\u001b[0m",
            "\u001b[0;31mTypeError\u001b[0mTraceback (most recent call last)",
            "\u001b[0;32m<ipython-input-67-4a8413945148>\u001b[0m in \u001b[0;36m<module>\u001b[0;34m()\u001b[0m\n\u001b[0;32m----> 1\u001b[0;31m \u001b[0mgame\u001b[0m\u001b[0;34m(\u001b[0m\u001b[0;34m)\u001b[0m\u001b[0;34m\u001b[0m\u001b[0m\n\u001b[0m",
            "\u001b[0;32m<ipython-input-66-89ceab676fd1>\u001b[0m in \u001b[0;36mgame\u001b[0;34m()\u001b[0m\n\u001b[1;32m      5\u001b[0m \u001b[0;34m\u001b[0m\u001b[0m\n\u001b[1;32m      6\u001b[0m     \u001b[0;32mfor\u001b[0m \u001b[0mi\u001b[0m \u001b[0;32min\u001b[0m \u001b[0mrange\u001b[0m\u001b[0;34m(\u001b[0m\u001b[0;36m10\u001b[0m\u001b[0;34m)\u001b[0m\u001b[0;34m:\u001b[0m\u001b[0;34m\u001b[0m\u001b[0m\n\u001b[0;32m----> 7\u001b[0;31m             \u001b[0mprintBoard\u001b[0m\u001b[0;34m(\u001b[0m\u001b[0mmatrix\u001b[0m\u001b[0;34m)\u001b[0m\u001b[0;34m\u001b[0m\u001b[0m\n\u001b[0m\u001b[1;32m      8\u001b[0m             \u001b[0;32mprint\u001b[0m\u001b[0;34m(\u001b[0m\u001b[0;34m\"It's your turn,\"\u001b[0m \u001b[0;34m+\u001b[0m \u001b[0mplayer_1\u001b[0m \u001b[0;34m+\u001b[0m \u001b[0;34m\".Move to which place?\"\u001b[0m\u001b[0;34m)\u001b[0m\u001b[0;34m\u001b[0m\u001b[0m\n\u001b[1;32m      9\u001b[0m \u001b[0;34m\u001b[0m\u001b[0m\n",
            "\u001b[0;32m<ipython-input-14-812847a15fbc>\u001b[0m in \u001b[0;36mprintBoard\u001b[0;34m(board)\u001b[0m\n\u001b[1;32m      4\u001b[0m \u001b[0;34m\u001b[0m\u001b[0m\n\u001b[1;32m      5\u001b[0m \u001b[0;32mdef\u001b[0m \u001b[0mprintBoard\u001b[0m\u001b[0;34m(\u001b[0m\u001b[0mboard\u001b[0m\u001b[0;34m)\u001b[0m\u001b[0;34m:\u001b[0m\u001b[0;34m\u001b[0m\u001b[0m\n\u001b[0;32m----> 6\u001b[0;31m     \u001b[0;32mprint\u001b[0m\u001b[0;34m(\u001b[0m\u001b[0mboard\u001b[0m\u001b[0;34m[\u001b[0m\u001b[0;34m'7'\u001b[0m\u001b[0;34m]\u001b[0m \u001b[0;34m+\u001b[0m \u001b[0;34m'|'\u001b[0m \u001b[0;34m+\u001b[0m \u001b[0mboard\u001b[0m\u001b[0;34m[\u001b[0m\u001b[0;34m'8'\u001b[0m\u001b[0;34m]\u001b[0m \u001b[0;34m+\u001b[0m \u001b[0;34m'|'\u001b[0m \u001b[0;34m+\u001b[0m \u001b[0mboard\u001b[0m\u001b[0;34m[\u001b[0m\u001b[0;34m'9'\u001b[0m\u001b[0;34m]\u001b[0m\u001b[0;34m)\u001b[0m\u001b[0;34m\u001b[0m\u001b[0m\n\u001b[0m\u001b[1;32m      7\u001b[0m     \u001b[0;32mprint\u001b[0m\u001b[0;34m(\u001b[0m\u001b[0;34m'-+-+-'\u001b[0m\u001b[0;34m)\u001b[0m\u001b[0;34m\u001b[0m\u001b[0m\n\u001b[1;32m      8\u001b[0m     \u001b[0;32mprint\u001b[0m\u001b[0;34m(\u001b[0m\u001b[0mboard\u001b[0m\u001b[0;34m[\u001b[0m\u001b[0;34m'4'\u001b[0m\u001b[0;34m]\u001b[0m \u001b[0;34m+\u001b[0m \u001b[0;34m'|'\u001b[0m \u001b[0;34m+\u001b[0m \u001b[0mboard\u001b[0m\u001b[0;34m[\u001b[0m\u001b[0;34m'5'\u001b[0m\u001b[0;34m]\u001b[0m \u001b[0;34m+\u001b[0m \u001b[0;34m'|'\u001b[0m \u001b[0;34m+\u001b[0m \u001b[0mboard\u001b[0m\u001b[0;34m[\u001b[0m\u001b[0;34m'6'\u001b[0m\u001b[0;34m]\u001b[0m\u001b[0;34m)\u001b[0m\u001b[0;34m\u001b[0m\u001b[0m\n",
            "\u001b[0;31mTypeError\u001b[0m: 'function' object has no attribute '__getitem__'"
          ]
        }
      ]
    },
    {
      "cell_type": "markdown",
      "metadata": {
        "deletable": true,
        "editable": true,
        "id": "RheyjVbTwztU",
        "colab_type": "text"
      },
      "source": [
        "*Exercise 6:* Modify Exercise 4 to show column and row labels so that players can specify location using \"A2\" or \"C1\"."
      ]
    },
    {
      "cell_type": "code",
      "metadata": {
        "id": "zYpahL-IwztV",
        "colab_type": "code",
        "colab": {}
      },
      "source": [
        "# Write you solution here"
      ],
      "execution_count": 0,
      "outputs": []
    },
    {
      "cell_type": "code",
      "metadata": {
        "deletable": true,
        "editable": true,
        "id": "Z3iFrWBOwztY",
        "colab_type": "code",
        "colab": {}
      },
      "source": [
        "# Test your solution here"
      ],
      "execution_count": 0,
      "outputs": []
    },
    {
      "cell_type": "markdown",
      "metadata": {
        "deletable": true,
        "editable": true,
        "id": "1Tr1CqT3wzta",
        "colab_type": "text"
      },
      "source": [
        "*Exercise 7:* Write a function that takes a board, player number, and location specified as in exercise 6 and then calls exercise 5 to correctly modify the board.  "
      ]
    },
    {
      "cell_type": "code",
      "metadata": {
        "deletable": true,
        "editable": true,
        "id": "9B6BWa8Qwztc",
        "colab_type": "code",
        "colab": {}
      },
      "source": [
        "# Write you solution here"
      ],
      "execution_count": 0,
      "outputs": []
    },
    {
      "cell_type": "code",
      "metadata": {
        "deletable": true,
        "editable": true,
        "id": "fbd_afBNwztf",
        "colab_type": "code",
        "colab": {}
      },
      "source": [
        "# Test your solution here"
      ],
      "execution_count": 0,
      "outputs": []
    },
    {
      "cell_type": "markdown",
      "metadata": {
        "deletable": true,
        "editable": true,
        "id": "cN3HpCxGwzth",
        "colab_type": "text"
      },
      "source": [
        "*Exercise 8:* Write a function is called with a board and player number, takes input from the player using python's `input`, and modifies the board using your function from exercise 7. Note that you should keep asking for input until you have gotten a valid input that results in a valid move."
      ]
    },
    {
      "cell_type": "code",
      "metadata": {
        "deletable": true,
        "editable": true,
        "id": "VOmeBwIcwzti",
        "colab_type": "code",
        "colab": {}
      },
      "source": [
        "# Write you solution here"
      ],
      "execution_count": 0,
      "outputs": []
    },
    {
      "cell_type": "code",
      "metadata": {
        "deletable": true,
        "editable": true,
        "id": "bG6zeXcDwzto",
        "colab_type": "code",
        "colab": {}
      },
      "source": [
        "# Test your solution here"
      ],
      "execution_count": 0,
      "outputs": []
    },
    {
      "cell_type": "markdown",
      "metadata": {
        "deletable": true,
        "editable": true,
        "id": "SFIsRFOkwzts",
        "colab_type": "text"
      },
      "source": [
        "*Exercise 9:* Use all of the previous exercises to implement a full tic-tac-toe game, where an appropriate board is drawn, 2 players are repeatedly asked for a location coordinates of where they wish to place a mark, and the game status is checked until a player wins or a draw occurs."
      ]
    },
    {
      "cell_type": "code",
      "metadata": {
        "deletable": true,
        "editable": true,
        "id": "MrfLE37Kwztt",
        "colab_type": "code",
        "colab": {}
      },
      "source": [
        "# Write you solution here"
      ],
      "execution_count": 0,
      "outputs": []
    },
    {
      "cell_type": "code",
      "metadata": {
        "deletable": true,
        "editable": true,
        "id": "ST0bmfonwztw",
        "colab_type": "code",
        "colab": {}
      },
      "source": [
        "# Test your solution here"
      ],
      "execution_count": 0,
      "outputs": []
    },
    {
      "cell_type": "markdown",
      "metadata": {
        "deletable": true,
        "editable": true,
        "id": "WovpkNNAwzty",
        "colab_type": "text"
      },
      "source": [
        "*Exercise 10:* Test that your game works for 5x5 Tic Tac Toe.  "
      ]
    },
    {
      "cell_type": "code",
      "metadata": {
        "deletable": true,
        "editable": true,
        "id": "RoWzsDE9wztz",
        "colab_type": "code",
        "colab": {}
      },
      "source": [
        "# Test your solution here"
      ],
      "execution_count": 0,
      "outputs": []
    },
    {
      "cell_type": "markdown",
      "metadata": {
        "deletable": true,
        "editable": true,
        "id": "oTUr3ZQPwzt3",
        "colab_type": "text"
      },
      "source": [
        "*Exercise 11: (Extra Credit)* Develop a version of the game where one player is the computer. Note that you don't need to do an extensive seach for the best move. You can have the computer simply protect against loosing and otherwise try to win with straight or diagonal patterns."
      ]
    },
    {
      "cell_type": "code",
      "metadata": {
        "deletable": true,
        "editable": true,
        "id": "vVagDNnlwzt4",
        "colab_type": "code",
        "colab": {}
      },
      "source": [
        "# Write you solution here"
      ],
      "execution_count": 0,
      "outputs": []
    },
    {
      "cell_type": "code",
      "metadata": {
        "deletable": true,
        "editable": true,
        "id": "6J7DDmsDwzt7",
        "colab_type": "code",
        "colab": {}
      },
      "source": [
        "# Test your solution here"
      ],
      "execution_count": 0,
      "outputs": []
    }
  ]
}