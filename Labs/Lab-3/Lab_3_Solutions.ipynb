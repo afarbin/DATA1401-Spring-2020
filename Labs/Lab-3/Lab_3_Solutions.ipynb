{
  "nbformat": 4,
  "nbformat_minor": 0,
  "metadata": {
    "kernelspec": {
      "name": "python3",
      "display_name": "Python 3"
    },
    "colab": {
      "name": "Copy of Lab-3.ipynb",
      "provenance": []
    }
  },
  "cells": [
    {
      "cell_type": "markdown",
      "metadata": {
        "id": "IdltFBGZeATV",
        "colab_type": "text"
      },
      "source": [
        "# Lab 3- Tic Tac Toe\n",
        "\n",
        "[![Open In Colab](https://colab.research.google.com/assets/colab-badge.svg)](https://colab.research.google.com/github//afarbin/DATA1401-Spring-2020/blob/master/Labs/Lab-3/Lab-3.ipynb)\n",
        "\n",
        "In this lab your will build a n x n Tic Tac Toe game. As you do the exercises, make sure your solutions work for any size Tic Tac Toe game. "
      ]
    },
    {
      "cell_type": "markdown",
      "metadata": {
        "id": "o1g8qjmTeATY",
        "colab_type": "text"
      },
      "source": [
        "*Exercise 1:* Write a function that creates an n by n matrix (of list of lists) which will represent the state of a Tie Tac Toe game. Let 0, 1, and 2 represent empty, \"X\", or \"O\".\n"
      ]
    },
    {
      "cell_type": "code",
      "metadata": {
        "id": "K8u0WdnrfPMW",
        "colab_type": "code",
        "colab": {}
      },
      "source": [
        "empty=0\n",
        "X=1\n",
        "O=2\n",
        "\n",
        "def size(message):\n",
        "  while True:\n",
        "    try:\n",
        "      userin=int(input(message))\n",
        "    except ValueError:\n",
        "      print(\"Invalid. Size must be an integer: \")\n",
        "      continue\n",
        "    else:\n",
        "      return userin\n",
        "      break\n",
        "\n",
        "def print_board(board):\n",
        "  for count, row in enumerate(board):\n",
        "    print(count, row)\n",
        "\n",
        "def board_game():\n",
        "  print(\"Tic Tac Toe Game\")\n",
        "  board_size=size(\"Enter desired size of nxn game board: \")\n",
        "\n",
        "  \n",
        "  board=[[empty]*board_size for i in range(board_size)]\n",
        "\n",
        "  print_board(board)"
      ],
      "execution_count": 0,
      "outputs": []
    },
    {
      "cell_type": "code",
      "metadata": {
        "id": "gGbJsvxPiYtr",
        "colab_type": "code",
        "outputId": "1c49b60f-8843-493c-8445-27ee52fe3794",
        "colab": {
          "base_uri": "https://localhost:8080/",
          "height": 102
        }
      },
      "source": [
        "board_game()"
      ],
      "execution_count": 28,
      "outputs": [
        {
          "output_type": "stream",
          "text": [
            "Tic Tac Toe Game\n",
            "Enter desired size of nxn game board: 3\n",
            "0 [0, 0, 0]\n",
            "1 [0, 0, 0]\n",
            "2 [0, 0, 0]\n"
          ],
          "name": "stdout"
        }
      ]
    },
    {
      "cell_type": "markdown",
      "metadata": {
        "deletable": true,
        "editable": true,
        "id": "mrSlynpEeATg",
        "colab_type": "text"
      },
      "source": [
        "*Exercise 2:* Write a function that takes a `n` by `n` matrix representing a tic-tac-toe game, and returns -1, 0, 1, or 2 indicating the game is incomplete, the game is a draw, player 1 has won, or player 2 has one, respectively. Here are some example inputs you can use to test your code:"
      ]
    },
    {
      "cell_type": "code",
      "metadata": {
        "deletable": true,
        "editable": true,
        "id": "UqxHeWqdeATh",
        "colab_type": "code",
        "colab": {}
      },
      "source": [
        "winner_is_2 = [[2, 2, 0],\n",
        "\t[2, 1, 0],\n",
        "\t[2, 1, 1]]\n",
        "\n",
        "winner_is_1 = [[1, 2, 0],\n",
        "\t[2, 1, 0],\n",
        "\t[2, 1, 1]]\n",
        "\n",
        "winner_is_also_1 = [[0, 1, 0],\n",
        "\t[2, 1, 0],\n",
        "\t[2, 1, 1]]\n",
        "\n",
        "no_winner = [[1, 2, 0],\n",
        "\t[2, 1, 0],\n",
        "\t[2, 1, 2]]\n",
        "\n",
        "also_no_winner = [[1, 2, 0],\n",
        "\t[2, 1, 0],\n",
        "\t[2, 1, 0]]\n",
        "\n",
        "#extra tests for incomplete games\n",
        "incomplete_game1 = [[1, 2, 0],\n",
        "                    [0, 2, 0],\n",
        "\t\t\t\t\t\t\t\t\t\t[1, 0, 0]]\n",
        "\n",
        "incomplete_game2 = [[1, 2, 0],\n",
        "                    [2, 2, 0],\n",
        "\t\t\t\t\t\t\t\t\t\t[1, 1, 0]]\n",
        "\n",
        "incomplete_game3 = [[0, 2, 1],\n",
        "                    [2, 0, 2],\n",
        "\t\t\t\t\t\t\t\t\t\t[1, 1, 0]]\n",
        "\n",
        "incomplete_game4 = [[1, 2, 1],\n",
        "                    [2, 1, 2],\n",
        "\t\t\t\t\t\t\t\t\t\t[0, 0, 0]]\n",
        "\n",
        "diag_win_1 = [[1, 2, 1],\n",
        "              [2, 1, 2],\n",
        "\t\t\t\t\t\t  [0, 2, 1]]"
      ],
      "execution_count": 0,
      "outputs": []
    },
    {
      "cell_type": "code",
      "metadata": {
        "id": "63chiBZzbrHq",
        "colab_type": "code",
        "colab": {}
      },
      "source": [
        "incomplete_game=-1\n",
        "draw_game=0\n",
        "p1_wins=1\n",
        "p2_wins=2\n",
        "result_dict = {-1:\"Incomplete game\", 0:\"Draw game\", 1:\"Player 1 wins\",2:\"Player 2 wins\"}\n",
        "\n",
        "def row_win(current_board, player):\n",
        "  for i in range(len(current_board)):\n",
        "    is_winner=True\n",
        "\n",
        "    for j in range(len(current_board)):\n",
        "      if (current_board[i][j] != player):\n",
        "        is_winner=False\n",
        "        continue\n",
        "    if is_winner == True:\n",
        "      return is_winner\n",
        "  return is_winner \n",
        "\n",
        "\n",
        "def column_win(current_board, player):\n",
        "  for i in range(len(current_board)):\n",
        "    is_winner=True\n",
        "\n",
        "    for j in range(len(current_board)):\n",
        "      if (current_board[j][i] != player):\n",
        "        is_winner=False\n",
        "        continue\n",
        "    if is_winner == True:\n",
        "      return is_winner\n",
        "  return is_winner\n",
        "\n",
        "\n",
        "def diagonal_win(current_board, player):\n",
        "  is_winner=True\n",
        "\n",
        "  for i in range(len(current_board)):\n",
        "    if (current_board[i][i] != player):\n",
        "      is_winner=False\n",
        "  if (is_winner == True):\n",
        "    return is_winner\n",
        "  \n",
        "  is_winner=True\n",
        "  x = len(current_board)-1\n",
        "  for y in range(len(current_board)):\n",
        "    if (current_board[x][y] != player):\n",
        "      is_winner=False\n",
        "    x-=1\n",
        "\n",
        "def full_board(current_board):\n",
        "  for x in range(len(current_board)):\n",
        "    for y in range(len(current_board)):\n",
        "      if (current_board[x][y] == empty):\n",
        "        return False\n",
        "  return True\n",
        "\n",
        "\n",
        "def survey_board(current_board):\n",
        "  if (column_win(current_board,1) or\n",
        "     row_win(current_board,1) or\n",
        "     diagonal_win(current_board,1)):\n",
        "    return p1_wins\n",
        "\n",
        "  if (column_win(current_board,2) or\n",
        "     row_win(current_board,2) or\n",
        "     diagonal_win(current_board,2)):\n",
        "    return p2_wins\n",
        "\n",
        "  if (full_board(current_board)):\n",
        "    return draw_game\n",
        "  \n",
        "  return incomplete_game"
      ],
      "execution_count": 0,
      "outputs": []
    },
    {
      "cell_type": "code",
      "metadata": {
        "id": "8X9xhHH_od_t",
        "colab_type": "code",
        "outputId": "053b8aa4-5ad5-4034-840b-15a9f918de06",
        "colab": {
          "base_uri": "https://localhost:8080/",
          "height": 187
        }
      },
      "source": [
        "print(\"P2 should win: \"+result_dict.get(survey_board(winner_is_2)))\n",
        "print(\"P1 should win: \"+result_dict.get(survey_board(winner_is_1)))\n",
        "print(\"P1 should win: \"+result_dict.get(survey_board(winner_is_also_1)))\n",
        "print(\"Should be draw game: \"+result_dict.get(survey_board(no_winner)))\n",
        "print(\"Should be incomplete: \"+result_dict.get(survey_board(also_no_winner)))\n",
        "print(\"Should be incomplete: \"+result_dict.get(survey_board(incomplete_game1)))\n",
        "print(\"Should be incomplete: \"+result_dict.get(survey_board(incomplete_game2)))\n",
        "print(\"Should be incomplete: \"+result_dict.get(survey_board(incomplete_game3)))\n",
        "print(\"Should be incomplete: \"+result_dict.get(survey_board(incomplete_game4)))\n",
        "print(\"P1 should win: \"+result_dict.get(survey_board(diag_win_1)))"
      ],
      "execution_count": 81,
      "outputs": [
        {
          "output_type": "stream",
          "text": [
            "P2 should win: Player 2 wins\n",
            "P1 should win: Player 1 wins\n",
            "P1 should win: Player 1 wins\n",
            "Should be draw game: Incomplete game\n",
            "Should be incomplete: Incomplete game\n",
            "Should be incomplete: Incomplete game\n",
            "Should be incomplete: Incomplete game\n",
            "Should be incomplete: Incomplete game\n",
            "Should be incomplete: Incomplete game\n",
            "P1 should win: Player 1 wins\n"
          ],
          "name": "stdout"
        }
      ]
    },
    {
      "cell_type": "code",
      "metadata": {
        "deletable": true,
        "editable": true,
        "id": "oIv8fri-eATk",
        "colab_type": "code",
        "colab": {}
      },
      "source": [
        "# Write you solution here\n"
      ],
      "execution_count": 0,
      "outputs": []
    },
    {
      "cell_type": "code",
      "metadata": {
        "deletable": true,
        "editable": true,
        "id": "JrtUFdRCeATo",
        "colab_type": "code",
        "colab": {}
      },
      "source": [
        "# Test your solution here"
      ],
      "execution_count": 0,
      "outputs": []
    },
    {
      "cell_type": "markdown",
      "metadata": {
        "deletable": true,
        "editable": true,
        "id": "flxiNVB8eATr",
        "colab_type": "text"
      },
      "source": [
        "*Exercise 3:* Write a function that takes 2 integers `n` and `m` as input and draws a `n` by `m` game board. For example the following is a 3x3 board:\n",
        "```\n",
        "   --- --- --- \n",
        "  |   |   |   | \n",
        "   --- --- ---  \n",
        "  |   |   |   | \n",
        "   --- --- ---  \n",
        "  |   |   |   | \n",
        "   --- --- --- \n",
        "   ```"
      ]
    },
    {
      "cell_type": "code",
      "metadata": {
        "deletable": true,
        "editable": true,
        "id": "KZJMN7T3eATr",
        "colab_type": "code",
        "colab": {}
      },
      "source": [
        "# Write you solution here\n",
        "def draw_board(bm,bn):\n",
        "  for index in range(bm):\n",
        "    print(\" ---\"*bm)\n",
        "    print(\"|   \"*(bn+1))\n",
        "  print(\" ---\"*bm)\n",
        "  \n"
      ],
      "execution_count": 0,
      "outputs": []
    },
    {
      "cell_type": "code",
      "metadata": {
        "deletable": true,
        "editable": true,
        "id": "NpQ-xi9ceATu",
        "colab_type": "code",
        "outputId": "76305be1-adc0-4b50-b8df-39329b230a92",
        "colab": {
          "base_uri": "https://localhost:8080/",
          "height": 170
        }
      },
      "source": [
        "# Test your solution here\n",
        "bsize_m= int(input(\"Rows: \"))\n",
        "bsize_n= int(input(\"Columns: \"))\n",
        "\n",
        "draw_board(bsize_m, bsize_n)"
      ],
      "execution_count": 58,
      "outputs": [
        {
          "output_type": "stream",
          "text": [
            "Rows: 3\n",
            "Columns: 3\n",
            " --- --- ---\n",
            "|   |   |   |   \n",
            " --- --- ---\n",
            "|   |   |   |   \n",
            " --- --- ---\n",
            "|   |   |   |   \n",
            " --- --- ---\n"
          ],
          "name": "stdout"
        }
      ]
    },
    {
      "cell_type": "markdown",
      "metadata": {
        "deletable": true,
        "editable": true,
        "id": "nPv2OKYyeATw",
        "colab_type": "text"
      },
      "source": [
        "*Exercise 4:* Modify exercise 3, so that it takes a matrix of the form from exercise 2 and draws a tic-tac-tie board with \"X\"s and \"O\"s.  "
      ]
    },
    {
      "cell_type": "code",
      "metadata": {
        "deletable": true,
        "editable": true,
        "id": "luYy_8rmeATx",
        "colab_type": "code",
        "colab": {}
      },
      "source": [
        "# Write you solution here\n",
        "symbol_dict = { 0:' ', 1:'X', 2:'O'}\n",
        "\n",
        "def draw_niceboard(current_board):\n",
        "  for index in range(len(current_board)):\n",
        "    print(\" ---\"*len(current_board))\n",
        "    line=\"|\"\n",
        "    for y in range(len(current_board)):\n",
        "      line = line + \" \" + symbol_dict.get(current_board[index][y]) + \" |\"\n",
        "    print(line)\n",
        "  print(\" ---\" * len(current_board))\n"
      ],
      "execution_count": 0,
      "outputs": []
    },
    {
      "cell_type": "code",
      "metadata": {
        "deletable": true,
        "editable": true,
        "id": "FzRLtrmreAT0",
        "colab_type": "code",
        "outputId": "f8d239d8-6297-443e-cb18-a58ac7503c95",
        "colab": {
          "base_uri": "https://localhost:8080/",
          "height": 612
        }
      },
      "source": [
        "# Test your solution here\n",
        "draw_niceboard(winner_is_2)\n",
        "draw_niceboard(winner_is_1)\n",
        "draw_niceboard(winner_is_also_1)\n",
        "draw_niceboard(no_winner)\n",
        "draw_niceboard(also_no_winner)"
      ],
      "execution_count": 60,
      "outputs": [
        {
          "output_type": "stream",
          "text": [
            " --- --- ---\n",
            "| O | O |   |\n",
            " --- --- ---\n",
            "| O | X |   |\n",
            " --- --- ---\n",
            "| O | X | X |\n",
            " --- --- ---\n",
            " --- --- ---\n",
            "| X | O |   |\n",
            " --- --- ---\n",
            "| O | X |   |\n",
            " --- --- ---\n",
            "| O | X | X |\n",
            " --- --- ---\n",
            " --- --- ---\n",
            "|   | X |   |\n",
            " --- --- ---\n",
            "| O | X |   |\n",
            " --- --- ---\n",
            "| O | X | X |\n",
            " --- --- ---\n",
            " --- --- ---\n",
            "| X | O |   |\n",
            " --- --- ---\n",
            "| O | X |   |\n",
            " --- --- ---\n",
            "| O | X | O |\n",
            " --- --- ---\n",
            " --- --- ---\n",
            "| X | O |   |\n",
            " --- --- ---\n",
            "| O | X |   |\n",
            " --- --- ---\n",
            "| O | X |   |\n",
            " --- --- ---\n"
          ],
          "name": "stdout"
        }
      ]
    },
    {
      "cell_type": "markdown",
      "metadata": {
        "deletable": true,
        "editable": true,
        "id": "KwrIuJC9eAT2",
        "colab_type": "text"
      },
      "source": [
        "*Exercise 5:* Write a function that takes a game board, player number, and `(x,y)` coordinates and places \"X\" or \"O\" in the correct location of the game board. Make sure that you only allow filling previously empty locations. Return `True` or `False` to indicate successful placement of \"X\" or \"O\"."
      ]
    },
    {
      "cell_type": "code",
      "metadata": {
        "deletable": true,
        "editable": true,
        "id": "yDFMZVhFeAT3",
        "colab_type": "code",
        "colab": {}
      },
      "source": [
        "# Write you solution here\n",
        "def modify_board(current_board, player, bx, by):\n",
        "  if (bx < 0 or bx > len(current_board)-1):\n",
        "    print(\"Invalid, out of bounds\")\n",
        "    return False\n",
        "\n",
        "  if (by < 0 or by > len(current_board)-1):\n",
        "    print(\"Invalid, out of bounds\")\n",
        "    return False\n",
        "\n",
        "  if(current_board[bx][by] != empty):\n",
        "    print(\"Space already occupied\")\n",
        "    return False\n",
        "\n",
        "  if (player == 1):\n",
        "    current_board[bx][by] = X;\n",
        "  elif (player == 2):\n",
        "    current_board[bx][by] = O;\n",
        "  else:\n",
        "    print(\"Only player 1 or 2\")\n",
        "    return False\n",
        "\n",
        "  return True"
      ],
      "execution_count": 0,
      "outputs": []
    },
    {
      "cell_type": "code",
      "metadata": {
        "deletable": true,
        "editable": true,
        "id": "33kz9PJLeAT6",
        "colab_type": "code",
        "outputId": "5d1c0e6e-beca-467c-e72e-6252997601fa",
        "colab": {
          "base_uri": "https://localhost:8080/",
          "height": 306
        }
      },
      "source": [
        "# Test your solution here\n",
        "incomplete_game5 = [ [1, 2, 0],\n",
        "                    [0, 2, 0],\n",
        "                    [1, 0, 0]]\n",
        "valid_input=False\n",
        "draw_niceboard(incomplete_game5)\n",
        "\n",
        "while valid_input == False:\n",
        "  which_player = int(input(\"Which player: \"))\n",
        "  x_coord=int(input(\"X-coordinate: \"))\n",
        "  y_coord=int(input(\"Y-coordinate: \"))\n",
        "\n",
        "  valid_input=modify_board(incomplete_game5, which_player, x_coord, y_coord)\n",
        "\n",
        "\n",
        "draw_niceboard(incomplete_game5)"
      ],
      "execution_count": 62,
      "outputs": [
        {
          "output_type": "stream",
          "text": [
            " --- --- ---\n",
            "| X | O |   |\n",
            " --- --- ---\n",
            "|   | O |   |\n",
            " --- --- ---\n",
            "| X |   |   |\n",
            " --- --- ---\n",
            "Which player: 1\n",
            "X-coordinate: 2\n",
            "Y-coordinate: 2\n",
            " --- --- ---\n",
            "| X | O |   |\n",
            " --- --- ---\n",
            "|   | O |   |\n",
            " --- --- ---\n",
            "| X |   | X |\n",
            " --- --- ---\n"
          ],
          "name": "stdout"
        }
      ]
    },
    {
      "cell_type": "markdown",
      "metadata": {
        "deletable": true,
        "editable": true,
        "id": "4c9QmfB7eAT8",
        "colab_type": "text"
      },
      "source": [
        "*Exercise 6:* Modify Exercise 4 to show column and row labels so that players can specify location using \"A2\" or \"C1\"."
      ]
    },
    {
      "cell_type": "code",
      "metadata": {
        "id": "o9gbzwSAeAT9",
        "colab_type": "code",
        "colab": {}
      },
      "source": [
        "# Write you solution here\n",
        "row_names=(\"ABCDEFGHIJKLMNOPQRSTUVWXYZ\")\n",
        "row_map=dict(zip(row_names, range(len(row_names))))\n",
        "column_names=list(map(str, range(1,len(row_names)+1)))\n",
        "column_map=dict(zip(column_names,range(len(row_names))))\n",
        "\n",
        "def draw_niceboard(current_board):\n",
        "  for index in range(len(current_board)):\n",
        "    print(\"  \"+column_names[index], end=\" \")\n",
        "  print()\n",
        "\n",
        "  for index in range(len(current_board)):\n",
        "    print(\" \",\"--- \" * len(current_board))\n",
        "\n",
        "    line = row_names[index]+\"|\"\n",
        "    for y in range(len(current_board)):\n",
        "      line = line + \" \" + symbol_dict.get(current_board[index][y]) + \" |\"\n",
        "    print(line)\n",
        "\n",
        "  print(\" \",\"--- \" * len(current_board))\n",
        "  "
      ],
      "execution_count": 0,
      "outputs": []
    },
    {
      "cell_type": "code",
      "metadata": {
        "deletable": true,
        "editable": true,
        "id": "nLy4C0W1eAT_",
        "colab_type": "code",
        "outputId": "fcb2655c-6ccd-4f7d-8d45-5707e998c4ec",
        "colab": {
          "base_uri": "https://localhost:8080/",
          "height": 289
        }
      },
      "source": [
        "# Test your solution here\n",
        "draw_niceboard(winner_is_2)\n",
        "draw_niceboard(winner_is_1)\n"
      ],
      "execution_count": 64,
      "outputs": [
        {
          "output_type": "stream",
          "text": [
            "  1   2   3 \n",
            "  --- --- --- \n",
            "A| O | O |   |\n",
            "  --- --- --- \n",
            "B| O | X |   |\n",
            "  --- --- --- \n",
            "C| O | X | X |\n",
            "  --- --- --- \n",
            "  1   2   3 \n",
            "  --- --- --- \n",
            "A| X | O |   |\n",
            "  --- --- --- \n",
            "B| O | X |   |\n",
            "  --- --- --- \n",
            "C| O | X | X |\n",
            "  --- --- --- \n"
          ],
          "name": "stdout"
        }
      ]
    },
    {
      "cell_type": "markdown",
      "metadata": {
        "deletable": true,
        "editable": true,
        "id": "T1ZczV45eAUC",
        "colab_type": "text"
      },
      "source": [
        "*Exercise 7:* Write a function that takes a board, player number, and location specified as in exercise 6 and then calls exercise 5 to correctly modify the board.  "
      ]
    },
    {
      "cell_type": "code",
      "metadata": {
        "deletable": true,
        "editable": true,
        "id": "zUBtjAqleAUD",
        "colab_type": "code",
        "colab": {}
      },
      "source": [
        "# Write you solution here\n",
        "def parse_location(cellStr):\n",
        "  if not isinstance(cellStr, str):\n",
        "    print(\"Bad input. Location must be a string\")\n",
        "    return -1,-1,0\n",
        "  if len(cellStr) !=2:\n",
        "    print(\"Bad input, Location must be a string\")\n",
        "    return -1,-1,0\n",
        "\n",
        "  row=cellStr[0].upper()\n",
        "  col=cellStr[1].upper()\n",
        "\n",
        "  if not row in row_names:\n",
        "    print(\"Invalid row\")\n",
        "    return -1,-1,0\n",
        "  if not col in column_names:\n",
        "    print(\"Invalid column\")\n",
        "\n",
        "  return row_map[row],column_map[col],1\n",
        "\n",
        "\n",
        "def p_move(current_board, player, cellStr):\n",
        "  cell_coord=parse_location(cellStr)\n",
        "  if (cell_coord[2]==1):\n",
        "    return modify_board(current_board, player, cell_coord[0], cell_coord[1])\n",
        "  else:\n",
        "    return False"
      ],
      "execution_count": 0,
      "outputs": []
    },
    {
      "cell_type": "code",
      "metadata": {
        "deletable": true,
        "editable": true,
        "id": "_5UvOPazeAUE",
        "colab_type": "code",
        "outputId": "1aaf05dd-15bb-43b9-fd66-f1dd14b25da5",
        "colab": {
          "base_uri": "https://localhost:8080/",
          "height": 476
        }
      },
      "source": [
        "# Test your solution here\n",
        "incomplete_game5 = [[1, 2, 0],\n",
        "                    [0, 2, 0],\n",
        "\t\t\t\t\t\t\t\t\t\t[1, 0, 0]]\n",
        "\n",
        "valid_input=False\n",
        "draw_niceboard(incomplete_game5)\n",
        "\n",
        "while valid_input == False:\n",
        "  which_player = int(input(\"Which player: \"))\n",
        "  cell_choice=str(input(\"Choose cell location: \"))\n",
        "\n",
        "  valid_input=p_move(incomplete_game5, which_player, cell_choice)\n",
        "\n",
        "\n",
        "draw_niceboard(incomplete_game5)"
      ],
      "execution_count": 66,
      "outputs": [
        {
          "output_type": "stream",
          "text": [
            "  1   2   3 \n",
            "  --- --- --- \n",
            "A| X | O |   |\n",
            "  --- --- --- \n",
            "B|   | O |   |\n",
            "  --- --- --- \n",
            "C| X |   |   |\n",
            "  --- --- --- \n",
            "Which player: 1\n",
            "Choose cell location: a1\n",
            "Space already occupied\n",
            "Which player: 2\n",
            "Choose cell location: 1\n",
            "Bad input, Location must be a string\n",
            "Which player: 3\n",
            "Choose cell location: c2\n",
            "Only player 1 or 2\n",
            "Which player: 1\n",
            "Choose cell location: c3\n",
            "  1   2   3 \n",
            "  --- --- --- \n",
            "A| X | O |   |\n",
            "  --- --- --- \n",
            "B|   | O |   |\n",
            "  --- --- --- \n",
            "C| X |   | X |\n",
            "  --- --- --- \n"
          ],
          "name": "stdout"
        }
      ]
    },
    {
      "cell_type": "markdown",
      "metadata": {
        "deletable": true,
        "editable": true,
        "id": "venZ6-PIeAUG",
        "colab_type": "text"
      },
      "source": [
        "*Exercise 8:* Write a function is called with a board and player number, takes input from the player using python's `input`, and modifies the board using your function from exercise 7. Note that you should keep asking for input until you have gotten a valid input that results in a valid move."
      ]
    },
    {
      "cell_type": "code",
      "metadata": {
        "deletable": true,
        "editable": true,
        "id": "pDJmX7AFeAUH",
        "colab_type": "code",
        "colab": {}
      },
      "source": [
        "# Write you solution here\n",
        "def player_turn(current_board, player):\n",
        "  valid_input=False\n",
        "\n",
        "  while valid_input == False:\n",
        "    cell_choice=str(input(\"Player \"+str(player)+\" choose cell location: \"))\n",
        "\n",
        "    valid_input=p_move(current_board, player, cell_choice)"
      ],
      "execution_count": 0,
      "outputs": []
    },
    {
      "cell_type": "code",
      "metadata": {
        "deletable": true,
        "editable": true,
        "id": "JEVCMoIueAUJ",
        "colab_type": "code",
        "outputId": "4ac13859-e0e5-4711-e30a-762f06af9355",
        "colab": {
          "base_uri": "https://localhost:8080/",
          "height": 374
        }
      },
      "source": [
        "# Test your solution here\n",
        "incomplete_game5 = [[1, 2, 0],\n",
        "                    [0, 2, 0],\n",
        "\t\t\t\t\t\t\t\t\t\t[1, 0, 0]]\n",
        "\n",
        "\n",
        "draw_niceboard(incomplete_game5)\n",
        "player_turn(incomplete_game5,1)\n",
        "draw_niceboard(incomplete_game5)"
      ],
      "execution_count": 68,
      "outputs": [
        {
          "output_type": "stream",
          "text": [
            "  1   2   3 \n",
            "  --- --- --- \n",
            "A| X | O |   |\n",
            "  --- --- --- \n",
            "B|   | O |   |\n",
            "  --- --- --- \n",
            "C| X |   |   |\n",
            "  --- --- --- \n",
            "Player 1 choose cell location: a1\n",
            "Space already occupied\n",
            "Player 1 choose cell location: b2\n",
            "Space already occupied\n",
            "Player 1 choose cell location: c3\n",
            "  1   2   3 \n",
            "  --- --- --- \n",
            "A| X | O |   |\n",
            "  --- --- --- \n",
            "B|   | O |   |\n",
            "  --- --- --- \n",
            "C| X |   | X |\n",
            "  --- --- --- \n"
          ],
          "name": "stdout"
        }
      ]
    },
    {
      "cell_type": "markdown",
      "metadata": {
        "deletable": true,
        "editable": true,
        "id": "4e28CqQBeAUL",
        "colab_type": "text"
      },
      "source": [
        "*Exercise 9:* Use all of the previous exercises to implement a full tic-tac-toe game, where an appropriate board is drawn, 2 players are repeatedly asked for a location coordinates of where they wish to place a mark, and the game status is checked until a player wins or a draw occurs."
      ]
    },
    {
      "cell_type": "code",
      "metadata": {
        "deletable": true,
        "editable": true,
        "id": "-3fsvGvSeAUM",
        "colab_type": "code",
        "colab": {}
      },
      "source": [
        "# Write you solution here\n",
        "def alt_player(player):\n",
        "  return 2 if player==1 else 1\n",
        "\n",
        "def tic_tac_toe():\n",
        "  player = 2\n",
        "\n",
        "  print(\"Tic Tac Toe Game\")\n",
        "  board_size=size(\"Enter desired size of nxn game board: \")\n",
        "  gameboard=[[empty]*board_size for i in range(board_size)]\n",
        "\n",
        "  draw_niceboard(gameboard)\n",
        "\n",
        "  while (survey_board(gameboard)==incomplete_game):\n",
        "    player = alt_player(player)\n",
        "    player_turn(gameboard, player)\n",
        "    draw_niceboard(gameboard)\n",
        "  \n",
        "  print(result_dict.get(survey_board(gameboard)))"
      ],
      "execution_count": 0,
      "outputs": []
    },
    {
      "cell_type": "code",
      "metadata": {
        "deletable": true,
        "editable": true,
        "id": "DujbpnQ6eAUO",
        "colab_type": "code",
        "colab": {
          "base_uri": "https://localhost:8080/",
          "height": 1000
        },
        "outputId": "5a4c1826-a252-4687-fc69-c2df7050eee3"
      },
      "source": [
        "# Test your solution here\n",
        "tic_tac_toe()"
      ],
      "execution_count": 85,
      "outputs": [
        {
          "output_type": "stream",
          "text": [
            "Tic Tac Toe Game\n",
            "Enter desired size of nxn game board: 3\n",
            "  1   2   3 \n",
            "  --- --- --- \n",
            "A|   |   |   |\n",
            "  --- --- --- \n",
            "B|   |   |   |\n",
            "  --- --- --- \n",
            "C|   |   |   |\n",
            "  --- --- --- \n",
            "Player 1 choose cell location: a1\n",
            "  1   2   3 \n",
            "  --- --- --- \n",
            "A| X |   |   |\n",
            "  --- --- --- \n",
            "B|   |   |   |\n",
            "  --- --- --- \n",
            "C|   |   |   |\n",
            "  --- --- --- \n",
            "Player 2 choose cell location: b2\n",
            "  1   2   3 \n",
            "  --- --- --- \n",
            "A| X |   |   |\n",
            "  --- --- --- \n",
            "B|   | O |   |\n",
            "  --- --- --- \n",
            "C|   |   |   |\n",
            "  --- --- --- \n",
            "Player 1 choose cell location: a2\n",
            "  1   2   3 \n",
            "  --- --- --- \n",
            "A| X | X |   |\n",
            "  --- --- --- \n",
            "B|   | O |   |\n",
            "  --- --- --- \n",
            "C|   |   |   |\n",
            "  --- --- --- \n",
            "Player 2 choose cell location: a3\n",
            "  1   2   3 \n",
            "  --- --- --- \n",
            "A| X | X | O |\n",
            "  --- --- --- \n",
            "B|   | O |   |\n",
            "  --- --- --- \n",
            "C|   |   |   |\n",
            "  --- --- --- \n",
            "Player 1 choose cell location: c1\n",
            "  1   2   3 \n",
            "  --- --- --- \n",
            "A| X | X | O |\n",
            "  --- --- --- \n",
            "B|   | O |   |\n",
            "  --- --- --- \n",
            "C| X |   |   |\n",
            "  --- --- --- \n",
            "Player 2 choose cell location: c3\n",
            "  1   2   3 \n",
            "  --- --- --- \n",
            "A| X | X | O |\n",
            "  --- --- --- \n",
            "B|   | O |   |\n",
            "  --- --- --- \n",
            "C| X |   | O |\n",
            "  --- --- --- \n",
            "Player 1 choose cell location: b1\n",
            "  1   2   3 \n",
            "  --- --- --- \n",
            "A| X | X | O |\n",
            "  --- --- --- \n",
            "B| X | O |   |\n",
            "  --- --- --- \n",
            "C| X |   | O |\n",
            "  --- --- --- \n",
            "Player 1 wins\n"
          ],
          "name": "stdout"
        }
      ]
    },
    {
      "cell_type": "markdown",
      "metadata": {
        "deletable": true,
        "editable": true,
        "id": "y91406TXeAUQ",
        "colab_type": "text"
      },
      "source": [
        "*Exercise 10:* Test that your game works for 5x5 Tic Tac Toe.  "
      ]
    },
    {
      "cell_type": "code",
      "metadata": {
        "deletable": true,
        "editable": true,
        "id": "cuF2_5DIeAUQ",
        "colab_type": "code",
        "colab": {
          "base_uri": "https://localhost:8080/",
          "height": 1000
        },
        "outputId": "b980d191-5d82-4c57-fc47-6abd58213c0e"
      },
      "source": [
        "# Test your solution here\n",
        "tic_tac_toe()"
      ],
      "execution_count": 86,
      "outputs": [
        {
          "output_type": "stream",
          "text": [
            "Tic Tac Toe Game\n",
            "Enter desired size of nxn game board: 5\n",
            "  1   2   3   4   5 \n",
            "  --- --- --- --- --- \n",
            "A|   |   |   |   |   |\n",
            "  --- --- --- --- --- \n",
            "B|   |   |   |   |   |\n",
            "  --- --- --- --- --- \n",
            "C|   |   |   |   |   |\n",
            "  --- --- --- --- --- \n",
            "D|   |   |   |   |   |\n",
            "  --- --- --- --- --- \n",
            "E|   |   |   |   |   |\n",
            "  --- --- --- --- --- \n",
            "Player 1 choose cell location: c3\n",
            "  1   2   3   4   5 \n",
            "  --- --- --- --- --- \n",
            "A|   |   |   |   |   |\n",
            "  --- --- --- --- --- \n",
            "B|   |   |   |   |   |\n",
            "  --- --- --- --- --- \n",
            "C|   |   | X |   |   |\n",
            "  --- --- --- --- --- \n",
            "D|   |   |   |   |   |\n",
            "  --- --- --- --- --- \n",
            "E|   |   |   |   |   |\n",
            "  --- --- --- --- --- \n",
            "Player 2 choose cell location: e1\n",
            "  1   2   3   4   5 \n",
            "  --- --- --- --- --- \n",
            "A|   |   |   |   |   |\n",
            "  --- --- --- --- --- \n",
            "B|   |   |   |   |   |\n",
            "  --- --- --- --- --- \n",
            "C|   |   | X |   |   |\n",
            "  --- --- --- --- --- \n",
            "D|   |   |   |   |   |\n",
            "  --- --- --- --- --- \n",
            "E| O |   |   |   |   |\n",
            "  --- --- --- --- --- \n",
            "Player 1 choose cell location: 35\n",
            "Invalid row\n",
            "Player 1 choose cell location: e5\n",
            "  1   2   3   4   5 \n",
            "  --- --- --- --- --- \n",
            "A|   |   |   |   |   |\n",
            "  --- --- --- --- --- \n",
            "B|   |   |   |   |   |\n",
            "  --- --- --- --- --- \n",
            "C|   |   | X |   |   |\n",
            "  --- --- --- --- --- \n",
            "D|   |   |   |   |   |\n",
            "  --- --- --- --- --- \n",
            "E| O |   |   |   | X |\n",
            "  --- --- --- --- --- \n",
            "Player 2 choose cell location: a1\n",
            "  1   2   3   4   5 \n",
            "  --- --- --- --- --- \n",
            "A| O |   |   |   |   |\n",
            "  --- --- --- --- --- \n",
            "B|   |   |   |   |   |\n",
            "  --- --- --- --- --- \n",
            "C|   |   | X |   |   |\n",
            "  --- --- --- --- --- \n",
            "D|   |   |   |   |   |\n",
            "  --- --- --- --- --- \n",
            "E| O |   |   |   | X |\n",
            "  --- --- --- --- --- \n",
            "Player 1 choose cell location: c1\n",
            "  1   2   3   4   5 \n",
            "  --- --- --- --- --- \n",
            "A| O |   |   |   |   |\n",
            "  --- --- --- --- --- \n",
            "B|   |   |   |   |   |\n",
            "  --- --- --- --- --- \n",
            "C| X |   | X |   |   |\n",
            "  --- --- --- --- --- \n",
            "D|   |   |   |   |   |\n",
            "  --- --- --- --- --- \n",
            "E| O |   |   |   | X |\n",
            "  --- --- --- --- --- \n",
            "Player 2 choose cell location: a3\n",
            "  1   2   3   4   5 \n",
            "  --- --- --- --- --- \n",
            "A| O |   | O |   |   |\n",
            "  --- --- --- --- --- \n",
            "B|   |   |   |   |   |\n",
            "  --- --- --- --- --- \n",
            "C| X |   | X |   |   |\n",
            "  --- --- --- --- --- \n",
            "D|   |   |   |   |   |\n",
            "  --- --- --- --- --- \n",
            "E| O |   |   |   | X |\n",
            "  --- --- --- --- --- \n",
            "Player 1 choose cell location: c5\n",
            "  1   2   3   4   5 \n",
            "  --- --- --- --- --- \n",
            "A| O |   | O |   |   |\n",
            "  --- --- --- --- --- \n",
            "B|   |   |   |   |   |\n",
            "  --- --- --- --- --- \n",
            "C| X |   | X |   | X |\n",
            "  --- --- --- --- --- \n",
            "D|   |   |   |   |   |\n",
            "  --- --- --- --- --- \n",
            "E| O |   |   |   | X |\n",
            "  --- --- --- --- --- \n",
            "Player 2 choose cell location: c2\n",
            "  1   2   3   4   5 \n",
            "  --- --- --- --- --- \n",
            "A| O |   | O |   |   |\n",
            "  --- --- --- --- --- \n",
            "B|   |   |   |   |   |\n",
            "  --- --- --- --- --- \n",
            "C| X | O | X |   | X |\n",
            "  --- --- --- --- --- \n",
            "D|   |   |   |   |   |\n",
            "  --- --- --- --- --- \n",
            "E| O |   |   |   | X |\n",
            "  --- --- --- --- --- \n",
            "Player 1 choose cell location: a5\n",
            "  1   2   3   4   5 \n",
            "  --- --- --- --- --- \n",
            "A| O |   | O |   | X |\n",
            "  --- --- --- --- --- \n",
            "B|   |   |   |   |   |\n",
            "  --- --- --- --- --- \n",
            "C| X | O | X |   | X |\n",
            "  --- --- --- --- --- \n",
            "D|   |   |   |   |   |\n",
            "  --- --- --- --- --- \n",
            "E| O |   |   |   | X |\n",
            "  --- --- --- --- --- \n",
            "Player 2 choose cell location: b2\n",
            "  1   2   3   4   5 \n",
            "  --- --- --- --- --- \n",
            "A| O |   | O |   | X |\n",
            "  --- --- --- --- --- \n",
            "B|   | O |   |   |   |\n",
            "  --- --- --- --- --- \n",
            "C| X | O | X |   | X |\n",
            "  --- --- --- --- --- \n",
            "D|   |   |   |   |   |\n",
            "  --- --- --- --- --- \n",
            "E| O |   |   |   | X |\n",
            "  --- --- --- --- --- \n",
            "Player 1 choose cell location: d5\n",
            "  1   2   3   4   5 \n",
            "  --- --- --- --- --- \n",
            "A| O |   | O |   | X |\n",
            "  --- --- --- --- --- \n",
            "B|   | O |   |   |   |\n",
            "  --- --- --- --- --- \n",
            "C| X | O | X |   | X |\n",
            "  --- --- --- --- --- \n",
            "D|   |   |   |   | X |\n",
            "  --- --- --- --- --- \n",
            "E| O |   |   |   | X |\n",
            "  --- --- --- --- --- \n",
            "Player 2 choose cell location: d2\n",
            "  1   2   3   4   5 \n",
            "  --- --- --- --- --- \n",
            "A| O |   | O |   | X |\n",
            "  --- --- --- --- --- \n",
            "B|   | O |   |   |   |\n",
            "  --- --- --- --- --- \n",
            "C| X | O | X |   | X |\n",
            "  --- --- --- --- --- \n",
            "D|   | O |   |   | X |\n",
            "  --- --- --- --- --- \n",
            "E| O |   |   |   | X |\n",
            "  --- --- --- --- --- \n",
            "Player 1 choose cell location: b5\n",
            "  1   2   3   4   5 \n",
            "  --- --- --- --- --- \n",
            "A| O |   | O |   | X |\n",
            "  --- --- --- --- --- \n",
            "B|   | O |   |   | X |\n",
            "  --- --- --- --- --- \n",
            "C| X | O | X |   | X |\n",
            "  --- --- --- --- --- \n",
            "D|   | O |   |   | X |\n",
            "  --- --- --- --- --- \n",
            "E| O |   |   |   | X |\n",
            "  --- --- --- --- --- \n",
            "Player 1 wins\n"
          ],
          "name": "stdout"
        }
      ]
    },
    {
      "cell_type": "markdown",
      "metadata": {
        "deletable": true,
        "editable": true,
        "id": "6Ty40YsZeAUS",
        "colab_type": "text"
      },
      "source": [
        "*Exercise 11: (Extra Credit)* Develop a version of the game where one player is the computer. Note that you don't need to do an extensive seach for the best move. You can have the computer simply protect against loosing and otherwise try to win with straight or diagonal patterns."
      ]
    },
    {
      "cell_type": "code",
      "metadata": {
        "deletable": true,
        "editable": true,
        "id": "wN31QYlAeAUT",
        "colab_type": "code",
        "colab": {}
      },
      "source": [
        "# Write you solution here\n",
        "import random"
      ],
      "execution_count": 0,
      "outputs": []
    },
    {
      "cell_type": "code",
      "metadata": {
        "deletable": true,
        "editable": true,
        "id": "IWzQgG1veAUV",
        "colab_type": "code",
        "colab": {}
      },
      "source": [
        "# Test your solution here"
      ],
      "execution_count": 0,
      "outputs": []
    }
  ]
}