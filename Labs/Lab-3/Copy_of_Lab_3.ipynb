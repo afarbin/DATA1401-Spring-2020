{
  "nbformat": 4,
  "nbformat_minor": 0,
  "metadata": {
    "kernelspec": {
      "name": "python3",
      "display_name": "Python 3"
    },
    "colab": {
      "name": "Copy of Lab-3.ipynb",
      "provenance": [],
      "collapsed_sections": []
    }
  },
  "cells": [
    {
      "cell_type": "markdown",
      "metadata": {
        "id": "7ShMYtF_Ri2m",
        "colab_type": "text"
      },
      "source": [
        "\n",
        "\n",
        "\n",
        "\n",
        "\n",
        "\n",
        "\n",
        "\n",
        "\n",
        "\n",
        "\n",
        "\n",
        "\n",
        "\n",
        "\n",
        "\n",
        "\n",
        "\n",
        "\n",
        "\n",
        "\n",
        "\n",
        "\n",
        "\n",
        "\n",
        "# Lab 3- Tic Tac Toe\n",
        "\n",
        "[![Open In Colab](https://colab.research.google.com/assets/colab-badge.svg)](https://colab.research.google.com/github//afarbin/DATA1401-Spring-2020/blob/master/Labs/Lab-3/Lab-3.ipynb)\n",
        "\n",
        "In this lab your will build a n x n Tic Tac Toe game. As you do the exercises, make sure your solutions work for any size Tic Tac Toe game. "
      ]
    },
    {
      "cell_type": "markdown",
      "metadata": {
        "id": "RC2wuDbqRi2w",
        "colab_type": "text"
      },
      "source": [
        "*Exercise 1:* Write a function that creates an n by n matrix (of list of lists) which will represent the state of a Tie Tac Toe game. Let 0, 1, and 2 represent empty, \"X\", or \"O\".\n"
      ]
    },
    {
      "cell_type": "code",
      "metadata": {
        "deletable": true,
        "editable": true,
        "id": "ZdPhdgNgRi20",
        "colab_type": "code",
        "colab": {}
      },
      "source": [
        "empty = 0\n",
        "X=1\n",
        "O=2\n",
        "#Game board size\n",
        "size = 3\n"
      ],
      "execution_count": 0,
      "outputs": []
    },
    {
      "cell_type": "code",
      "metadata": {
        "deletable": true,
        "editable": true,
        "id": "T-HRsl25Ri2_",
        "colab_type": "code",
        "outputId": "90a0d757-f235-41a5-ecc7-c7781be27f86",
        "colab": {
          "base_uri": "https://localhost:8080/",
          "height": 34
        }
      },
      "source": [
        "[3]*8"
      ],
      "execution_count": 0,
      "outputs": [
        {
          "output_type": "execute_result",
          "data": {
            "text/plain": [
              "[3, 3, 3, 3, 3, 3, 3, 3]"
            ]
          },
          "metadata": {
            "tags": []
          },
          "execution_count": 23
        }
      ]
    },
    {
      "cell_type": "markdown",
      "metadata": {
        "deletable": true,
        "editable": true,
        "id": "Fg6L74F6Ri3J",
        "colab_type": "text"
      },
      "source": [
        "*Exercise 2:* Write a function that takes a `n` by `n` matrix representing a tic-tac-toe game, and returns -1, 0, 1, or 2 indicating the game is incomplete, the game is a draw, player 1 has won, or player 2 has one, respectively. Here are some example inputs you can use to test your code:"
      ]
    },
    {
      "cell_type": "code",
      "metadata": {
        "deletable": true,
        "editable": true,
        "id": "YHt5kt9JRi3L",
        "colab_type": "code",
        "outputId": "31cd5196-b35f-4e97-9852-b63f996ca639",
        "colab": {
          "base_uri": "https://localhost:8080/",
          "height": 119
        }
      },
      "source": [
        "\n",
        "winner_is_2 = [[2, 2, 0],\n",
        "\t[2, 1, 0],\n",
        "\t[2, 1, 1]]\n",
        "print (\"Player 2 wins\")\n",
        "\n",
        "winner_is_1 = [[1, 2, 0],\n",
        "\t[2, 1, 0],\n",
        "\t[2, 1, 1]]\n",
        "print (\"Player 1 wins the game\")\n",
        "\n",
        "winner_is_also_1 = [[0, 1, 0],\n",
        "\t[2, 1, 0],\n",
        "\t[2, 1, 1]]\n",
        "print (\"Player 1 wins the game\")\n",
        "\n",
        "no_winner = [[1, 2, 0],\n",
        "\t[2, 1, 0],\n",
        "\t[2, 1, 2]]\n",
        "print (\"Draw Game !\")\n",
        "\n",
        "also_no_winner = [[1, 2, 0],\n",
        "\t[2, 1, 0],\n",
        "\t[2, 1, 0]]\n",
        "print (\"Draw Game !\")\n",
        "\n",
        "again_no_winner = [[0,0,0],\n",
        "  [0,0,0],\n",
        "  [0,0,0]]\n",
        "print (\"The Game is incomplete\")                 \n"
      ],
      "execution_count": 0,
      "outputs": [
        {
          "output_type": "stream",
          "text": [
            "Player 2 wins\n",
            "Player 1 wins the game\n",
            "Player 1 wins the game\n",
            "Draw Game !\n",
            "Draw Game !\n",
            "The Game is incomplete\n"
          ],
          "name": "stdout"
        }
      ]
    },
    {
      "cell_type": "code",
      "metadata": {
        "deletable": true,
        "editable": true,
        "id": "2qxHwtCPRi3S",
        "colab_type": "code",
        "colab": {}
      },
      "source": [
        "size = 3\n",
        "board=list()\n",
        "for i in range(3):\n",
        "    row=list()\n",
        "    for j in range(3):\n",
        "        row.append(empty)\n",
        "        \n",
        "    board.append(row)\n",
        "    \n",
        "\n",
        "board\n",
        "\n",
        "if board[0][0] == board[0][1] == board[0][2] != 2:\n",
        "  print('Game Over')\n",
        "  print('player', turn, 'wins')\n",
        "elif board[1][0] == board[1][1] == board[1][2] !=0:\n",
        "  print('Game Over')\n",
        "  print ('player', turn, 'wins')\n",
        "elif board[2][0] == board[2][1] == board[2][2] !=0:\n",
        "  print('Game Over')\n",
        "  print ('player', turn, 'wins')\n",
        "elif board[0][0] == board[1][0] == board[2][0] !=0:\n",
        "  print('Game Over')\n",
        "  print ('player', turn, 'wins')\n",
        "elif board[0][1] == board[1][1] == board[2][1] !=0:\n",
        "  print('Game Over')\n",
        "  print ('player', turn, 'wins')\n",
        "elif board[0][2] == board[1][2] == board[2][2] !=0:\n",
        "  print('Game Over')\n",
        "  print ('player', turn, 'wins')\n",
        "elif board[0][0] == board[1][1] == board[2][2] !=0:\n",
        "  print('Game Over')\n",
        "  print ('player', turn, 'wins')\n",
        "elif board[0][2] == board[1][1] == board[2][0] !=0:\n",
        "  print('Game Over')\n",
        "  print ('player', turn, 'wins')"
      ],
      "execution_count": 0,
      "outputs": []
    },
    {
      "cell_type": "code",
      "metadata": {
        "deletable": true,
        "editable": true,
        "id": "KKMIbxJzRi3c",
        "colab_type": "code",
        "outputId": "fa350456-29d8-4de5-ab88-da5ff5333888",
        "colab": {
          "base_uri": "https://localhost:8080/",
          "height": 34
        }
      },
      "source": [
        " board[1][0]\n"
      ],
      "execution_count": 0,
      "outputs": [
        {
          "output_type": "execute_result",
          "data": {
            "text/plain": [
              "0"
            ]
          },
          "metadata": {
            "tags": []
          },
          "execution_count": 38
        }
      ]
    },
    {
      "cell_type": "markdown",
      "metadata": {
        "deletable": true,
        "editable": true,
        "id": "mKO9ktbBRi3j",
        "colab_type": "text"
      },
      "source": [
        "*Exercise 3:* Write a function that takes 2 integers `n` and `m` as input and draws a `n` by `m` game board. For example the following is a 3x3 board:\n",
        "```\n",
        "   --- --- --- \n",
        "  |   |   |   | \n",
        "   --- --- ---  \n",
        "  |   |   |   | \n",
        "   --- --- ---  \n",
        "  |   |   |   | \n",
        "   --- --- --- \n",
        "   ```"
      ]
    },
    {
      "cell_type": "code",
      "metadata": {
        "deletable": true,
        "editable": true,
        "id": "wDf7U5CXRi3l",
        "colab_type": "code",
        "colab": {}
      },
      "source": [
        "def print_horiz_line(board_size):\n",
        "  print(\" ---  \" * board_size)\n",
        "\n",
        "def print_vert_line(board_size):\n",
        "  print(\"|     \" * (board_size + 1))\n",
        "\n",
        "#if __name__ == \"__main__\":\n",
        "#  board_size = int(input(\"What size of game board? \"))\n",
        "\n",
        "def draw_board(board_size):\n",
        "  for index in range(board_size):\n",
        "    print_horiz_line(board_size)\n",
        "    print_vert_line(board_size)\n",
        "  print_horiz_line(board_size)\n",
        "\n",
        "\n",
        "\n",
        " "
      ],
      "execution_count": 0,
      "outputs": []
    },
    {
      "cell_type": "code",
      "metadata": {
        "deletable": true,
        "editable": true,
        "id": "tiQ3fEscRi3r",
        "colab_type": "code",
        "outputId": "fb1e047a-b384-41b1-e0cf-4825f26e229c",
        "colab": {
          "base_uri": "https://localhost:8080/",
          "height": 136
        }
      },
      "source": [
        "draw_board(3)"
      ],
      "execution_count": 62,
      "outputs": [
        {
          "output_type": "stream",
          "text": [
            " ---   ---   ---  \n",
            "|     |     |     |     \n",
            " ---   ---   ---  \n",
            "|     |     |     |     \n",
            " ---   ---   ---  \n",
            "|     |     |     |     \n",
            " ---   ---   ---  \n"
          ],
          "name": "stdout"
        }
      ]
    },
    {
      "cell_type": "markdown",
      "metadata": {
        "deletable": true,
        "editable": true,
        "id": "aP86Q1ebRi3y",
        "colab_type": "text"
      },
      "source": [
        "*Exercise 4:* Modify exercise 3, so that it takes a matrix of the form from exercise 2 and draws a tic-tac-tie board with \"X\"s and \"O\"s.  "
      ]
    },
    {
      "cell_type": "code",
      "metadata": {
        "deletable": true,
        "editable": true,
        "id": "9V9tlnclRi3z",
        "colab_type": "code",
        "outputId": "f2b50249-459a-4c75-9782-4f335a5152fe",
        "colab": {
          "base_uri": "https://localhost:8080/",
          "height": 34
        }
      },
      "source": [
        "\n",
        "player_1 = 1\n",
        "player_2 = 2\n",
        "empty = 0\n",
        "player_1_piece=\"X\"\n",
        "player_2_piece=\"O\"\n",
        "empty_space=\" \"\n",
        "space_character= { player_1: player_1_piece,\n",
        "                    player_2: player_2_piece,\n",
        "                    empty: empty_space }\n",
        "\n",
        "space_character\n"
      ],
      "execution_count": 78,
      "outputs": [
        {
          "output_type": "execute_result",
          "data": {
            "text/plain": [
              "{0: ' ', 1: 'X', 2: 'O'}"
            ]
          },
          "metadata": {
            "tags": []
          },
          "execution_count": 78
        }
      ]
    },
    {
      "cell_type": "code",
      "metadata": {
        "deletable": true,
        "editable": true,
        "id": "1JFvK4WSRi35",
        "colab_type": "code",
        "colab": {}
      },
      "source": [
        " draw_board(3)"
      ],
      "execution_count": 0,
      "outputs": []
    },
    {
      "cell_type": "markdown",
      "metadata": {
        "deletable": true,
        "editable": true,
        "id": "ZVUFnsELRi3-",
        "colab_type": "text"
      },
      "source": [
        "*Exercise 5:* Write a function that takes a game board, player number, and `(x,y)` coordinates and places \"X\" or \"O\" in the correct location of the game board. Make sure that you only allow filling previously empty locations. Return `True` or `False` to indicate successful placement of \"X\" or \"O\"."
      ]
    },
    {
      "cell_type": "code",
      "metadata": {
        "deletable": true,
        "editable": true,
        "id": "mpOUvc8TRi3_",
        "colab_type": "code",
        "colab": {}
      },
      "source": [
        "def move_piece(board,player,location,move,verbose=True):\n",
        "    x,y=location\n",
        "    if not board[x][y] == player:\n",
        "        print_message(\"Player does not have piece at location.\",verbose)\n",
        "        return False\n",
        "         # Fetch the offset for the move\n",
        "    x_offset,y_offset = moves[player][move]\n",
        "    \n",
        "    # Make sure the move is on the board:\n",
        "    move_possible= x+x_offset < size and \\\n",
        "                    x+x_offset >= 0 and \\\n",
        "                    y+y_offset < size and \\\n",
        "                    y+y_offset >= 0\n",
        "                \n",
        "                \n",
        "    jump_possible= x+2*x_offset < size and \\\n",
        "                    x+2*x_offset >= 0 and \\\n",
        "                    y+2*y_offset < size and \\\n",
        "                    y+2*y_offset >= 0\n",
        "    \n",
        "\n",
        "    \n",
        "    "
      ],
      "execution_count": 0,
      "outputs": []
    },
    {
      "cell_type": "code",
      "metadata": {
        "deletable": true,
        "editable": true,
        "id": "FUVqoMRXRi4E",
        "colab_type": "code",
        "colab": {}
      },
      "source": [
        "player_choice(3)"
      ],
      "execution_count": 0,
      "outputs": []
    },
    {
      "cell_type": "markdown",
      "metadata": {
        "deletable": true,
        "editable": true,
        "id": "xUI-eERlRi4J",
        "colab_type": "text"
      },
      "source": [
        "*Exercise 6:* Modify Exercise 4 to show column and row labels so that players can specify location using \"A2\" or \"C1\"."
      ]
    },
    {
      "cell_type": "code",
      "metadata": {
        "id": "3GEVozq8Ri4K",
        "colab_type": "code",
        "colab": {}
      },
      "source": [
        ""
      ],
      "execution_count": 0,
      "outputs": []
    },
    {
      "cell_type": "code",
      "metadata": {
        "deletable": true,
        "editable": true,
        "id": "lhzpTw5hRi4Q",
        "colab_type": "code",
        "colab": {}
      },
      "source": [
        ""
      ],
      "execution_count": 0,
      "outputs": []
    },
    {
      "cell_type": "markdown",
      "metadata": {
        "deletable": true,
        "editable": true,
        "id": "bclOar-xRi4U",
        "colab_type": "text"
      },
      "source": [
        "*Exercise 7:* Write a function that takes a board, player number, and location specified as in exercise 6 and then calls exercise 5 to correctly modify the board.  "
      ]
    },
    {
      "cell_type": "code",
      "metadata": {
        "deletable": true,
        "editable": true,
        "id": "bZS4A2KrRi4W",
        "colab_type": "code",
        "colab": {}
      },
      "source": [
        "\n",
        "\n"
      ],
      "execution_count": 0,
      "outputs": []
    },
    {
      "cell_type": "code",
      "metadata": {
        "deletable": true,
        "editable": true,
        "id": "5fflBRjLRi4c",
        "colab_type": "code",
        "colab": {}
      },
      "source": [
        ""
      ],
      "execution_count": 0,
      "outputs": []
    },
    {
      "cell_type": "markdown",
      "metadata": {
        "deletable": true,
        "editable": true,
        "id": "zhss69S1Ri4i",
        "colab_type": "text"
      },
      "source": [
        "*Exercise 8:* Write a function is called with a board and player number, takes input from the player using python's `input`, and modifies the board using your function from exercise 7. Note that you should keep asking for input until you have gotten a valid input that results in a valid move."
      ]
    },
    {
      "cell_type": "code",
      "metadata": {
        "deletable": true,
        "editable": true,
        "id": "l4O3SGrRRi4k",
        "colab_type": "code",
        "colab": {}
      },
      "source": [
        ""
      ],
      "execution_count": 0,
      "outputs": []
    },
    {
      "cell_type": "code",
      "metadata": {
        "deletable": true,
        "editable": true,
        "id": "lP_7WvhARi4q",
        "colab_type": "code",
        "colab": {}
      },
      "source": [
        ""
      ],
      "execution_count": 0,
      "outputs": []
    },
    {
      "cell_type": "markdown",
      "metadata": {
        "deletable": true,
        "editable": true,
        "id": "-HYOebKkRi4v",
        "colab_type": "text"
      },
      "source": [
        "*Exercise 9:* Use all of the previous exercises to implement a full tic-tac-toe game, where an appropriate board is drawn, 2 players are repeatedly asked for a location coordinates of where they wish to place a mark, and the game status is checked until a player wins or a draw occurs."
      ]
    },
    {
      "cell_type": "code",
      "metadata": {
        "deletable": true,
        "editable": true,
        "id": "E1p7ebsTRi4w",
        "colab_type": "code",
        "colab": {}
      },
      "source": [
        ""
      ],
      "execution_count": 0,
      "outputs": []
    },
    {
      "cell_type": "code",
      "metadata": {
        "deletable": true,
        "editable": true,
        "id": "Am2xV_LoRi40",
        "colab_type": "code",
        "colab": {}
      },
      "source": [
        "# Test your solution here"
      ],
      "execution_count": 0,
      "outputs": []
    },
    {
      "cell_type": "markdown",
      "metadata": {
        "deletable": true,
        "editable": true,
        "id": "F8wjkoz9Ri44",
        "colab_type": "text"
      },
      "source": [
        "*Exercise 10:* Test that your game works for 5x5 Tic Tac Toe.  "
      ]
    },
    {
      "cell_type": "code",
      "metadata": {
        "deletable": true,
        "editable": true,
        "id": "OfXmTjeRRi45",
        "colab_type": "code",
        "colab": {}
      },
      "source": [
        "# Test your solution here"
      ],
      "execution_count": 0,
      "outputs": []
    },
    {
      "cell_type": "markdown",
      "metadata": {
        "deletable": true,
        "editable": true,
        "id": "u9A0Y6uURi49",
        "colab_type": "text"
      },
      "source": [
        "*Exercise 11: (Extra Credit)* Develop a version of the game where one player is the computer. Note that you don't need to do an extensive seach for the best move. You can have the computer simply protect against loosing and otherwise try to win with straight or diagonal patterns."
      ]
    },
    {
      "cell_type": "code",
      "metadata": {
        "deletable": true,
        "editable": true,
        "id": "Zp89M9B_Ri4_",
        "colab_type": "code",
        "colab": {}
      },
      "source": [
        "# Write you solution here"
      ],
      "execution_count": 0,
      "outputs": []
    },
    {
      "cell_type": "code",
      "metadata": {
        "deletable": true,
        "editable": true,
        "id": "N8GCCq8KRi5F",
        "colab_type": "code",
        "colab": {}
      },
      "source": [
        "# Test your solution here"
      ],
      "execution_count": 0,
      "outputs": []
    }
  ]
}