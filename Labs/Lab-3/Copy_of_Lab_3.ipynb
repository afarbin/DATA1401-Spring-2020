{
  "nbformat": 4,
  "nbformat_minor": 0,
  "metadata": {
    "kernelspec": {
      "name": "python3",
      "display_name": "Python 3"
    },
    "colab": {
      "name": "Copy of Lab-3.ipynb",
      "provenance": []
    }
  },
  "cells": [
    {
      "cell_type": "markdown",
      "metadata": {
        "id": "YuaEkVael6wx",
        "colab_type": "text"
      },
      "source": [
        "# Lab 3- Tic Tac Toe\n",
        "\n",
        "[![Open In Colab](https://colab.research.google.com/assets/colab-badge.svg)](https://colab.research.google.com/github//afarbin/DATA1401-Spring-2020/blob/master/Labs/Lab-3/Lab-3.ipynb)\n",
        "\n",
        "In this lab your will build a n x n Tic Tac Toe game. As you do the exercises, make sure your solutions work for any size Tic Tac Toe game. "
      ]
    },
    {
      "cell_type": "markdown",
      "metadata": {
        "id": "7rZcHrSEl6w2",
        "colab_type": "text"
      },
      "source": [
        "*Exercise 1:* Write a function that creates an n by n matrix (of list of lists) which will represent the state of a Tie Tac Toe game. Let 0, 1, and 2 represent empty, \"X\", or \"O\".\n"
      ]
    },
    {
      "cell_type": "code",
      "metadata": {
        "deletable": true,
        "editable": true,
        "id": "qCG0daLAl6w4",
        "colab_type": "code",
        "colab": {}
      },
      "source": [
        "# Write you solution here\n",
        "empty = 0\n",
        "player_1 = 1\n",
        "player_2 = 2\n",
        "players = {0: \" \",\n",
        "           1: \"X\",\n",
        "           2: \"O\"}\n",
        "\n",
        "\n",
        "def make_game_board(n=3):\n",
        "  return [[empty] * n for i in range(n)]\n"
      ],
      "execution_count": 0,
      "outputs": []
    },
    {
      "cell_type": "code",
      "metadata": {
        "deletable": true,
        "editable": true,
        "id": "xLZxreLTl6w_",
        "colab_type": "code",
        "colab": {
          "base_uri": "https://localhost:8080/",
          "height": 34
        },
        "outputId": "a2fb5d59-e002-4117-8109-ddbc752389df"
      },
      "source": [
        "# Test your solution here\n",
        "print(make_game_board())"
      ],
      "execution_count": 2,
      "outputs": [
        {
          "output_type": "stream",
          "text": [
            "[[0, 0, 0], [0, 0, 0], [0, 0, 0]]\n"
          ],
          "name": "stdout"
        }
      ]
    },
    {
      "cell_type": "markdown",
      "metadata": {
        "deletable": true,
        "editable": true,
        "id": "1Gpsh1YMl6xD",
        "colab_type": "text"
      },
      "source": [
        "*Exercise 2:* Write a function that takes a `n` by `n` matrix representing a tic-tac-toe game, and returns -1, 0, 1, or 2 indicating the game is incomplete, the game is a draw, player 1 has won, or player 2 has one, respectively. Here are some example inputs you can use to test your code:"
      ]
    },
    {
      "cell_type": "code",
      "metadata": {
        "deletable": true,
        "editable": true,
        "id": "4edyIxvNl6xF",
        "colab_type": "code",
        "colab": {}
      },
      "source": [
        "winner_is_2 = [[2, 2, 0],\n",
        "\t[2, 1, 0],\n",
        "\t[2, 1, 1]]\n",
        "\n",
        "winner_is_1 = [[1, 2, 0],\n",
        "\t[2, 1, 0],\n",
        "\t[2, 1, 1]]\n",
        "\n",
        "winner_is_also_1 = [[0, 1, 0],\n",
        "\t[2, 1, 0],\n",
        "\t[2, 1, 1]]\n",
        "\n",
        "no_winner = [[1, 2, 0],\n",
        "\t[2, 1, 0],\n",
        "\t[2, 1, 2]]\n",
        "\n",
        "also_no_winner = [[1, 2, 0],\n",
        "\t[2, 1, 0],\n",
        "\t[2, 1, 0]]"
      ],
      "execution_count": 0,
      "outputs": []
    },
    {
      "cell_type": "code",
      "metadata": {
        "deletable": true,
        "editable": true,
        "id": "pMveSEzVl6xN",
        "colab_type": "code",
        "colab": {}
      },
      "source": [
        "# Write you solution here\n",
        "def check_game_finished(board):\n",
        "  board_wins = [row for row in board]\n",
        "  board_wins += [list(row) for row in zip(*board)]\n",
        "  board_wins += [[board[i][i] for i in range(len(board))]]\n",
        "  board_wins += [[board[len(board) - 1 - i][i] for i in range(len(board))]]\n",
        "  if [1] * len(board) in board_wins:\n",
        "      return 1\n",
        "  elif [2] * len(board) in board_wins:\n",
        "      return 2\n",
        "  elif 0 in [[row[col] for col in row] for row in board]:\n",
        "      return 0\n",
        "  else:\n",
        "    return -1\n"
      ],
      "execution_count": 0,
      "outputs": []
    },
    {
      "cell_type": "code",
      "metadata": {
        "deletable": true,
        "editable": true,
        "id": "jFvUimXMl6xS",
        "colab_type": "code",
        "colab": {
          "base_uri": "https://localhost:8080/",
          "height": 102
        },
        "outputId": "d97b7a37-3774-4628-970a-084f80c9c8b2"
      },
      "source": [
        "# Test your solution here\n",
        "print(check_game_finished(winner_is_1))\n",
        "print(check_game_finished(winner_is_2))\n",
        "print(check_game_finished(winner_is_also_1))\n",
        "print(check_game_finished(no_winner))\n",
        "print(check_game_finished(also_no_winner))"
      ],
      "execution_count": 66,
      "outputs": [
        {
          "output_type": "stream",
          "text": [
            "1\n",
            "2\n",
            "1\n",
            "-1\n",
            "-1\n"
          ],
          "name": "stdout"
        }
      ]
    },
    {
      "cell_type": "markdown",
      "metadata": {
        "deletable": true,
        "editable": true,
        "id": "KJ67s2CZl6xb",
        "colab_type": "text"
      },
      "source": [
        "*Exercise 3:* Write a function that takes 2 integers `n` and `m` as input and draws a `n` by `m` game board. For example the following is a 3x3 board:\n",
        "```\n",
        "   --- --- --- \n",
        "  |   |   |   | \n",
        "   --- --- ---  \n",
        "  |   |   |   | \n",
        "   --- --- ---  \n",
        "  |   |   |   | \n",
        "   --- --- --- \n",
        "   ```"
      ]
    },
    {
      "cell_type": "code",
      "metadata": {
        "deletable": true,
        "editable": true,
        "id": "u3NzwB4Jl6xd",
        "colab_type": "code",
        "colab": {}
      },
      "source": [
        "# Write you solution here\n",
        "def draw_game_board(n, m):\n",
        "  for row in range(n):\n",
        "    line_1 = \"\"\n",
        "    line_2 = \"\"\n",
        "    for col in range(m):\n",
        "      line_1 += \" ---\"\n",
        "      line_2 += \"|   \"\n",
        "    line_2 += \"|\"\n",
        "    print(line_1)\n",
        "    print(line_2)\n",
        "  bottom = \"\"\n",
        "  for col in range(m):\n",
        "    bottom += \" ---\"\n",
        "  print(bottom)\n"
      ],
      "execution_count": 0,
      "outputs": []
    },
    {
      "cell_type": "code",
      "metadata": {
        "deletable": true,
        "editable": true,
        "id": "wrLb0jtcl6xi",
        "colab_type": "code",
        "colab": {
          "base_uri": "https://localhost:8080/",
          "height": 374
        },
        "outputId": "b276b3f8-be68-43d8-8226-42b080ed6071"
      },
      "source": [
        "# Test your solution here\n",
        "draw_game_board(3, 3)\n",
        "draw_game_board(2, 4)\n",
        "draw_game_board(4, 5)"
      ],
      "execution_count": 12,
      "outputs": [
        {
          "output_type": "stream",
          "text": [
            " --- --- ---\n",
            "|   |   |   |\n",
            " --- --- ---\n",
            "|   |   |   |\n",
            " --- --- ---\n",
            "|   |   |   |\n",
            " --- --- ---\n",
            " --- --- --- ---\n",
            "|   |   |   |   |\n",
            " --- --- --- ---\n",
            "|   |   |   |   |\n",
            " --- --- --- ---\n",
            " --- --- --- --- ---\n",
            "|   |   |   |   |   |\n",
            " --- --- --- --- ---\n",
            "|   |   |   |   |   |\n",
            " --- --- --- --- ---\n",
            "|   |   |   |   |   |\n",
            " --- --- --- --- ---\n",
            "|   |   |   |   |   |\n",
            " --- --- --- --- ---\n"
          ],
          "name": "stdout"
        }
      ]
    },
    {
      "cell_type": "markdown",
      "metadata": {
        "deletable": true,
        "editable": true,
        "id": "nUAE_QUal6xq",
        "colab_type": "text"
      },
      "source": [
        "*Exercise 4:* Modify exercise 3, so that it takes a matrix of the form from exercise 2 and draws a tic-tac-tie board with \"X\"s and \"O\"s.  "
      ]
    },
    {
      "cell_type": "code",
      "metadata": {
        "deletable": true,
        "editable": true,
        "id": "fGddb0gIl6xs",
        "colab_type": "code",
        "colab": {}
      },
      "source": [
        "# Write you solution here\n",
        "def draw_game_board(board):\n",
        "  for row in board:\n",
        "    line_1 = \"\"\n",
        "    line_2 = \"\"\n",
        "    for col in row:\n",
        "      line_1 += \" ---\"\n",
        "      line_2 += \"| \" + players[col] + \" \"\n",
        "    line_2 += \"|\"\n",
        "    print(line_1)\n",
        "    print(line_2)\n",
        "  bottom = \"\"\n",
        "  for col in board:\n",
        "    bottom += \" ---\"\n",
        "  print(bottom)\n"
      ],
      "execution_count": 0,
      "outputs": []
    },
    {
      "cell_type": "code",
      "metadata": {
        "deletable": true,
        "editable": true,
        "id": "DNm_lodnl6xy",
        "colab_type": "code",
        "colab": {
          "base_uri": "https://localhost:8080/",
          "height": 612
        },
        "outputId": "2ebe7f2f-589a-4905-db1e-200ff4d0a522"
      },
      "source": [
        "# Test your solution here\n",
        "draw_game_board(winner_is_1)\n",
        "draw_game_board(winner_is_2)\n",
        "draw_game_board(winner_is_also_1)\n",
        "draw_game_board(no_winner)\n",
        "draw_game_board(also_no_winner)"
      ],
      "execution_count": 28,
      "outputs": [
        {
          "output_type": "stream",
          "text": [
            " --- --- ---\n",
            "| X | O |   |\n",
            " --- --- ---\n",
            "| O | X |   |\n",
            " --- --- ---\n",
            "| O | X | X |\n",
            " --- --- ---\n",
            " --- --- ---\n",
            "| O | O |   |\n",
            " --- --- ---\n",
            "| O | X |   |\n",
            " --- --- ---\n",
            "| O | X | X |\n",
            " --- --- ---\n",
            " --- --- ---\n",
            "|   | X |   |\n",
            " --- --- ---\n",
            "| O | X |   |\n",
            " --- --- ---\n",
            "| O | X | X |\n",
            " --- --- ---\n",
            " --- --- ---\n",
            "| X | O | X |\n",
            " --- --- ---\n",
            "| O | X |   |\n",
            " --- --- ---\n",
            "| O | X | O |\n",
            " --- --- ---\n",
            " --- --- ---\n",
            "| X | O |   |\n",
            " --- --- ---\n",
            "| O | X |   |\n",
            " --- --- ---\n",
            "| O | X | X |\n",
            " --- --- ---\n"
          ],
          "name": "stdout"
        }
      ]
    },
    {
      "cell_type": "markdown",
      "metadata": {
        "deletable": true,
        "editable": true,
        "id": "ehxOT9Ehl6x4",
        "colab_type": "text"
      },
      "source": [
        "*Exercise 5:* Write a function that takes a game board, player number, and `(x,y)` coordinates and places \"X\" or \"O\" in the correct location of the game board. Make sure that you only allow filling previously empty locations. Return `True` or `False` to indicate successful placement of \"X\" or \"O\"."
      ]
    },
    {
      "cell_type": "code",
      "metadata": {
        "deletable": true,
        "editable": true,
        "id": "MfTefPdll6x5",
        "colab_type": "code",
        "colab": {}
      },
      "source": [
        "# Write you solution here\n",
        "def _move(board, player, coordinates):\n",
        "  x, y = coordinates\n",
        "  if board[x][y] == 0:\n",
        "    board[x][y] = player\n",
        "    return True\n",
        "  else:\n",
        "    return False"
      ],
      "execution_count": 0,
      "outputs": []
    },
    {
      "cell_type": "code",
      "metadata": {
        "deletable": true,
        "editable": true,
        "id": "wk7OoaNcl6yA",
        "colab_type": "code",
        "colab": {
          "base_uri": "https://localhost:8080/",
          "height": 136
        },
        "outputId": "4ab40ac0-81ac-430d-cdd3-7be1834c4a69"
      },
      "source": [
        "# Test your solution here\n",
        "test_board = make_game_board()\n",
        "_move(test_board, 1, (1, 1))\n",
        "_move(test_board, 2, (2, 0))\n",
        "draw_game_board(test_board)"
      ],
      "execution_count": 17,
      "outputs": [
        {
          "output_type": "stream",
          "text": [
            " --- --- ---\n",
            "|   |   |   |\n",
            " --- --- ---\n",
            "|   | X |   |\n",
            " --- --- ---\n",
            "| O |   |   |\n",
            " --- --- ---\n"
          ],
          "name": "stdout"
        }
      ]
    },
    {
      "cell_type": "markdown",
      "metadata": {
        "deletable": true,
        "editable": true,
        "id": "OXmrF3VBl6yG",
        "colab_type": "text"
      },
      "source": [
        "*Exercise 6:* Modify Exercise 4 to show column and row labels so that players can specify location using \"A2\" or \"C1\"."
      ]
    },
    {
      "cell_type": "code",
      "metadata": {
        "id": "5luh37Ovl6yI",
        "colab_type": "code",
        "colab": {}
      },
      "source": [
        "# Write you solution here\n",
        "alphabet = \"ABCDEFGHIJKLMNOPQRSTUVWXYZ\"\n",
        "def draw_game_board(board):\n",
        "  top = \"   \"\n",
        "  for col in range(1, len(board) + 1):\n",
        "    top += \" \" + str(col) + \"  \"\n",
        "  print(top)\n",
        "  r = 0\n",
        "  for row in board:\n",
        "    line_1 = \"  \"\n",
        "    line_2 = alphabet[r] + \" \"\n",
        "    r += 1\n",
        "    for col in row:\n",
        "      line_1 += \" ---\"\n",
        "      line_2 += \"| \" + players[col] + \" \"\n",
        "    line_2 += \"|\"\n",
        "    print(line_1)\n",
        "    print(line_2)\n",
        "  print(\"  \" + \" ---\" * len(board))"
      ],
      "execution_count": 0,
      "outputs": []
    },
    {
      "cell_type": "code",
      "metadata": {
        "deletable": true,
        "editable": true,
        "id": "Zo6zTO_ll6yO",
        "colab_type": "code",
        "colab": {
          "base_uri": "https://localhost:8080/",
          "height": 697
        },
        "outputId": "c9d8347d-3da4-4d53-ff31-4a44c0eed36e"
      },
      "source": [
        "# Test your solution here\n",
        "draw_game_board(winner_is_1)\n",
        "draw_game_board(winner_is_2)\n",
        "draw_game_board(winner_is_also_1)\n",
        "draw_game_board(no_winner)\n",
        "draw_game_board(also_no_winner)"
      ],
      "execution_count": 34,
      "outputs": [
        {
          "output_type": "stream",
          "text": [
            "    1   2   3  \n",
            "   --- --- ---\n",
            "A | X | O |   |\n",
            "   --- --- ---\n",
            "B | O | X |   |\n",
            "   --- --- ---\n",
            "C | O | X | X |\n",
            "   --- --- ---\n",
            "    1   2   3  \n",
            "   --- --- ---\n",
            "A | O | O |   |\n",
            "   --- --- ---\n",
            "B | O | X |   |\n",
            "   --- --- ---\n",
            "C | O | X | X |\n",
            "   --- --- ---\n",
            "    1   2   3  \n",
            "   --- --- ---\n",
            "A |   | X |   |\n",
            "   --- --- ---\n",
            "B | O | X |   |\n",
            "   --- --- ---\n",
            "C | O | X | X |\n",
            "   --- --- ---\n",
            "    1   2   3  \n",
            "   --- --- ---\n",
            "A | X | O | X |\n",
            "   --- --- ---\n",
            "B | O | X |   |\n",
            "   --- --- ---\n",
            "C | O | X | O |\n",
            "   --- --- ---\n",
            "    1   2   3  \n",
            "   --- --- ---\n",
            "A | X | O |   |\n",
            "   --- --- ---\n",
            "B | O | X |   |\n",
            "   --- --- ---\n",
            "C | O | X | X |\n",
            "   --- --- ---\n"
          ],
          "name": "stdout"
        }
      ]
    },
    {
      "cell_type": "markdown",
      "metadata": {
        "deletable": true,
        "editable": true,
        "id": "rlfmfYRWl6yT",
        "colab_type": "text"
      },
      "source": [
        "*Exercise 7:* Write a function that takes a board, player number, and location specified as in exercise 6 and then calls exercise 5 to correctly modify the board.  "
      ]
    },
    {
      "cell_type": "code",
      "metadata": {
        "deletable": true,
        "editable": true,
        "id": "R9Lngg8wl6yW",
        "colab_type": "code",
        "colab": {}
      },
      "source": [
        "# Write you solution here\n",
        "def move(board, player, location):\n",
        "  row = alphabet.find(location[0])\n",
        "  col = int(location[1:]) - 1\n",
        "  if board[row][col] == 0:\n",
        "    _move(board, player, (row, col))\n",
        "    return True\n",
        "  else:\n",
        "    print(\"Cannot put \" + players[player] + \" at location \" + location)\n",
        "    return False"
      ],
      "execution_count": 0,
      "outputs": []
    },
    {
      "cell_type": "code",
      "metadata": {
        "deletable": true,
        "editable": true,
        "id": "on6HRvX7l6ya",
        "colab_type": "code",
        "colab": {
          "base_uri": "https://localhost:8080/",
          "height": 323
        },
        "outputId": "8b84374d-8d5a-4ca3-c8d0-64385fd42216"
      },
      "source": [
        "# Test your solution here\n",
        "move(no_winner, 1, \"A3\")\n",
        "draw_game_board(no_winner)\n",
        "move(also_no_winner, 1, \"C3\")\n",
        "draw_game_board(also_no_winner)"
      ],
      "execution_count": 36,
      "outputs": [
        {
          "output_type": "stream",
          "text": [
            "Cannot put X at location A3\n",
            "    1   2   3  \n",
            "   --- --- ---\n",
            "A | X | O | X |\n",
            "   --- --- ---\n",
            "B | O | X |   |\n",
            "   --- --- ---\n",
            "C | O | X | O |\n",
            "   --- --- ---\n",
            "Cannot put X at location C3\n",
            "    1   2   3  \n",
            "   --- --- ---\n",
            "A | X | O |   |\n",
            "   --- --- ---\n",
            "B | O | X |   |\n",
            "   --- --- ---\n",
            "C | O | X | X |\n",
            "   --- --- ---\n"
          ],
          "name": "stdout"
        }
      ]
    },
    {
      "cell_type": "markdown",
      "metadata": {
        "deletable": true,
        "editable": true,
        "id": "spCblEgSl6yf",
        "colab_type": "text"
      },
      "source": [
        "*Exercise 8:* Write a function is called with a board and player number, takes input from the player using python's `input`, and modifies the board using your function from exercise 7. Note that you should keep asking for input until you have gotten a valid input that results in a valid move."
      ]
    },
    {
      "cell_type": "code",
      "metadata": {
        "deletable": true,
        "editable": true,
        "id": "R2_KLmnhl6yi",
        "colab_type": "code",
        "colab": {}
      },
      "source": [
        "# Write you solution here\n",
        "def player_move(board, player):\n",
        "  location = \"A1\"\n",
        "  while True:\n",
        "    draw_game_board(board)\n",
        "    location = input(\"Place \" + players[player] + \" at: \").upper()\n",
        "    if location[0] in alphabet and 0 < int(location[1:]) <= len(board) <= 26:\n",
        "      break\n",
        "    else:\n",
        "      print(\"Invalid location. Try again.\")\n",
        "  if move(board, player, location):\n",
        "    return True\n",
        "  else:\n",
        "    return player_move(board, player)\n"
      ],
      "execution_count": 0,
      "outputs": []
    },
    {
      "cell_type": "code",
      "metadata": {
        "deletable": true,
        "editable": true,
        "id": "5klPGJNVl6yp",
        "colab_type": "code",
        "colab": {
          "base_uri": "https://localhost:8080/",
          "height": 595
        },
        "outputId": "bf4e8e13-ffe3-49f2-d6a4-3e537e607da1"
      },
      "source": [
        "# Test your solution here\n",
        "player_move(no_winner, 1)\n",
        "draw_game_board(no_winner)\n",
        "player_move(also_no_winner, 2)\n",
        "draw_game_board(also_no_winner)"
      ],
      "execution_count": 47,
      "outputs": [
        {
          "output_type": "stream",
          "text": [
            "    1   2   3  \n",
            "   --- --- ---\n",
            "A | X | O |   |\n",
            "   --- --- ---\n",
            "B | O | X |   |\n",
            "   --- --- ---\n",
            "C | O | X | O |\n",
            "   --- --- ---\n",
            "Place X at: A3\n",
            "    1   2   3  \n",
            "   --- --- ---\n",
            "A | X | O | X |\n",
            "   --- --- ---\n",
            "B | O | X |   |\n",
            "   --- --- ---\n",
            "C | O | X | O |\n",
            "   --- --- ---\n",
            "    1   2   3  \n",
            "   --- --- ---\n",
            "A | X | O |   |\n",
            "   --- --- ---\n",
            "B | O | X |   |\n",
            "   --- --- ---\n",
            "C | O | X |   |\n",
            "   --- --- ---\n",
            "Place O at: A3\n",
            "    1   2   3  \n",
            "   --- --- ---\n",
            "A | X | O | O |\n",
            "   --- --- ---\n",
            "B | O | X |   |\n",
            "   --- --- ---\n",
            "C | O | X |   |\n",
            "   --- --- ---\n"
          ],
          "name": "stdout"
        }
      ]
    },
    {
      "cell_type": "markdown",
      "metadata": {
        "deletable": true,
        "editable": true,
        "id": "RpFgUbL-l6yv",
        "colab_type": "text"
      },
      "source": [
        "*Exercise 9:* Use all of the previous exercises to implement a full tic-tac-toe game, where an appropriate board is drawn, 2 players are repeatedly asked for a location coordinates of where they wish to place a mark, and the game status is checked until a player wins or a draw occurs."
      ]
    },
    {
      "cell_type": "code",
      "metadata": {
        "deletable": true,
        "editable": true,
        "id": "cq9kSyn3l6yw",
        "colab_type": "code",
        "colab": {}
      },
      "source": [
        "# Write you solution here\n",
        "def tic_tac_toe(n=3):\n",
        "  board = make_game_board(n)\n",
        "  current_player = True\n",
        "  while check_game_finished(board) == -1:\n",
        "    if current_player:\n",
        "      player_move(board, 1)\n",
        "    else:\n",
        "      player_move(board, 2)\n",
        "    current_player = not current_player\n",
        "  result = check_game_finished(board)\n",
        "  draw_game_board(board)\n",
        "  print(\"It's a draw!\" if result == 0 else (\"Player 1 wins!\" if result == 1 else \"Player 2 wins!\"))"
      ],
      "execution_count": 0,
      "outputs": []
    },
    {
      "cell_type": "code",
      "metadata": {
        "deletable": true,
        "editable": true,
        "id": "aBSvAvKWl6yz",
        "colab_type": "code",
        "colab": {
          "base_uri": "https://localhost:8080/",
          "height": 969
        },
        "outputId": "3094cb92-ced1-41a7-8477-08f6015ffeb8"
      },
      "source": [
        "# Test your solution here\n",
        "tic_tac_toe()"
      ],
      "execution_count": 55,
      "outputs": [
        {
          "output_type": "stream",
          "text": [
            "    1   2   3  \n",
            "   --- --- ---\n",
            "A |   |   |   |\n",
            "   --- --- ---\n",
            "B |   |   |   |\n",
            "   --- --- ---\n",
            "C |   |   |   |\n",
            "   --- --- ---\n",
            "Place X at: B2\n",
            "    1   2   3  \n",
            "   --- --- ---\n",
            "A |   |   |   |\n",
            "   --- --- ---\n",
            "B |   | X |   |\n",
            "   --- --- ---\n",
            "C |   |   |   |\n",
            "   --- --- ---\n",
            "Place O at: A3\n",
            "    1   2   3  \n",
            "   --- --- ---\n",
            "A |   |   | O |\n",
            "   --- --- ---\n",
            "B |   | X |   |\n",
            "   --- --- ---\n",
            "C |   |   |   |\n",
            "   --- --- ---\n",
            "Place X at: A3\n",
            "Cannot put X at location A3\n",
            "    1   2   3  \n",
            "   --- --- ---\n",
            "A |   |   | O |\n",
            "   --- --- ---\n",
            "B |   | X |   |\n",
            "   --- --- ---\n",
            "C |   |   |   |\n",
            "   --- --- ---\n",
            "Place X at: C2\n",
            "    1   2   3  \n",
            "   --- --- ---\n",
            "A |   |   | O |\n",
            "   --- --- ---\n",
            "B |   | X |   |\n",
            "   --- --- ---\n",
            "C |   | X |   |\n",
            "   --- --- ---\n",
            "Place O at: B3\n",
            "    1   2   3  \n",
            "   --- --- ---\n",
            "A |   |   | O |\n",
            "   --- --- ---\n",
            "B |   | X | O |\n",
            "   --- --- ---\n",
            "C |   | X |   |\n",
            "   --- --- ---\n",
            "Place X at: a2\n",
            "Player 1 wins!\n"
          ],
          "name": "stdout"
        }
      ]
    },
    {
      "cell_type": "markdown",
      "metadata": {
        "deletable": true,
        "editable": true,
        "id": "_ecYRctEl6y3",
        "colab_type": "text"
      },
      "source": [
        "*Exercise 10:* Test that your game works for 5x5 Tic Tac Toe.  "
      ]
    },
    {
      "cell_type": "code",
      "metadata": {
        "deletable": true,
        "editable": true,
        "id": "SOV5nKS4l6y5",
        "colab_type": "code",
        "colab": {
          "base_uri": "https://localhost:8080/",
          "height": 1000
        },
        "outputId": "fca77933-3262-4cc3-fb85-7faa251f467f"
      },
      "source": [
        "# Test your solution here\n",
        "tic_tac_toe(5)"
      ],
      "execution_count": 70,
      "outputs": [
        {
          "output_type": "stream",
          "text": [
            "    1   2   3   4   5  \n",
            "   --- --- --- --- ---\n",
            "A |   |   |   |   |   |\n",
            "   --- --- --- --- ---\n",
            "B |   |   |   |   |   |\n",
            "   --- --- --- --- ---\n",
            "C |   |   |   |   |   |\n",
            "   --- --- --- --- ---\n",
            "D |   |   |   |   |   |\n",
            "   --- --- --- --- ---\n",
            "E |   |   |   |   |   |\n",
            "   --- --- --- --- ---\n",
            "Place X at: a1\n",
            "    1   2   3   4   5  \n",
            "   --- --- --- --- ---\n",
            "A | X |   |   |   |   |\n",
            "   --- --- --- --- ---\n",
            "B |   |   |   |   |   |\n",
            "   --- --- --- --- ---\n",
            "C |   |   |   |   |   |\n",
            "   --- --- --- --- ---\n",
            "D |   |   |   |   |   |\n",
            "   --- --- --- --- ---\n",
            "E |   |   |   |   |   |\n",
            "   --- --- --- --- ---\n",
            "Place O at: e1\n",
            "    1   2   3   4   5  \n",
            "   --- --- --- --- ---\n",
            "A | X |   |   |   |   |\n",
            "   --- --- --- --- ---\n",
            "B |   |   |   |   |   |\n",
            "   --- --- --- --- ---\n",
            "C |   |   |   |   |   |\n",
            "   --- --- --- --- ---\n",
            "D |   |   |   |   |   |\n",
            "   --- --- --- --- ---\n",
            "E | O |   |   |   |   |\n",
            "   --- --- --- --- ---\n",
            "Place X at: 2\n",
            "Invalid location. Try again.\n",
            "    1   2   3   4   5  \n",
            "   --- --- --- --- ---\n",
            "A | X |   |   |   |   |\n",
            "   --- --- --- --- ---\n",
            "B |   |   |   |   |   |\n",
            "   --- --- --- --- ---\n",
            "C |   |   |   |   |   |\n",
            "   --- --- --- --- ---\n",
            "D |   |   |   |   |   |\n",
            "   --- --- --- --- ---\n",
            "E | O |   |   |   |   |\n",
            "   --- --- --- --- ---\n",
            "Place X at: e2\n",
            "    1   2   3   4   5  \n",
            "   --- --- --- --- ---\n",
            "A | X |   |   |   |   |\n",
            "   --- --- --- --- ---\n",
            "B |   |   |   |   |   |\n",
            "   --- --- --- --- ---\n",
            "C |   |   |   |   |   |\n",
            "   --- --- --- --- ---\n",
            "D |   |   |   |   |   |\n",
            "   --- --- --- --- ---\n",
            "E | O | X |   |   |   |\n",
            "   --- --- --- --- ---\n",
            "Place O at: a2\n",
            "    1   2   3   4   5  \n",
            "   --- --- --- --- ---\n",
            "A | X | O |   |   |   |\n",
            "   --- --- --- --- ---\n",
            "B |   |   |   |   |   |\n",
            "   --- --- --- --- ---\n",
            "C |   |   |   |   |   |\n",
            "   --- --- --- --- ---\n",
            "D |   |   |   |   |   |\n",
            "   --- --- --- --- ---\n",
            "E | O | X |   |   |   |\n",
            "   --- --- --- --- ---\n",
            "Place X at: b2\n",
            "    1   2   3   4   5  \n",
            "   --- --- --- --- ---\n",
            "A | X | O |   |   |   |\n",
            "   --- --- --- --- ---\n",
            "B |   | X |   |   |   |\n",
            "   --- --- --- --- ---\n",
            "C |   |   |   |   |   |\n",
            "   --- --- --- --- ---\n",
            "D |   |   |   |   |   |\n",
            "   --- --- --- --- ---\n",
            "E | O | X |   |   |   |\n",
            "   --- --- --- --- ---\n",
            "Place O at: d2\n",
            "    1   2   3   4   5  \n",
            "   --- --- --- --- ---\n",
            "A | X | O |   |   |   |\n",
            "   --- --- --- --- ---\n",
            "B |   | X |   |   |   |\n",
            "   --- --- --- --- ---\n",
            "C |   |   |   |   |   |\n",
            "   --- --- --- --- ---\n",
            "D |   | O |   |   |   |\n",
            "   --- --- --- --- ---\n",
            "E | O | X |   |   |   |\n",
            "   --- --- --- --- ---\n",
            "Place X at: c4\n",
            "    1   2   3   4   5  \n",
            "   --- --- --- --- ---\n",
            "A | X | O |   |   |   |\n",
            "   --- --- --- --- ---\n",
            "B |   | X |   |   |   |\n",
            "   --- --- --- --- ---\n",
            "C |   |   |   | X |   |\n",
            "   --- --- --- --- ---\n",
            "D |   | O |   |   |   |\n",
            "   --- --- --- --- ---\n",
            "E | O | X |   |   |   |\n",
            "   --- --- --- --- ---\n",
            "Place O at: c3\n",
            "    1   2   3   4   5  \n",
            "   --- --- --- --- ---\n",
            "A | X | O |   |   |   |\n",
            "   --- --- --- --- ---\n",
            "B |   | X |   |   |   |\n",
            "   --- --- --- --- ---\n",
            "C |   |   | O | X |   |\n",
            "   --- --- --- --- ---\n",
            "D |   | O |   |   |   |\n",
            "   --- --- --- --- ---\n",
            "E | O | X |   |   |   |\n",
            "   --- --- --- --- ---\n",
            "Place X at: d4\n",
            "    1   2   3   4   5  \n",
            "   --- --- --- --- ---\n",
            "A | X | O |   |   |   |\n",
            "   --- --- --- --- ---\n",
            "B |   | X |   |   |   |\n",
            "   --- --- --- --- ---\n",
            "C |   |   | O | X |   |\n",
            "   --- --- --- --- ---\n",
            "D |   | O |   | X |   |\n",
            "   --- --- --- --- ---\n",
            "E | O | X |   |   |   |\n",
            "   --- --- --- --- ---\n",
            "Place O at: b4\n",
            "    1   2   3   4   5  \n",
            "   --- --- --- --- ---\n",
            "A | X | O |   |   |   |\n",
            "   --- --- --- --- ---\n",
            "B |   | X |   | O |   |\n",
            "   --- --- --- --- ---\n",
            "C |   |   | O | X |   |\n",
            "   --- --- --- --- ---\n",
            "D |   | O |   | X |   |\n",
            "   --- --- --- --- ---\n",
            "E | O | X |   |   |   |\n",
            "   --- --- --- --- ---\n",
            "Place X at: e5\n",
            "    1   2   3   4   5  \n",
            "   --- --- --- --- ---\n",
            "A | X | O |   |   |   |\n",
            "   --- --- --- --- ---\n",
            "B |   | X |   | O |   |\n",
            "   --- --- --- --- ---\n",
            "C |   |   | O | X |   |\n",
            "   --- --- --- --- ---\n",
            "D |   | O |   | X |   |\n",
            "   --- --- --- --- ---\n",
            "E | O | X |   |   | X |\n",
            "   --- --- --- --- ---\n",
            "Place O at: b5\n",
            "    1   2   3   4   5  \n",
            "   --- --- --- --- ---\n",
            "A | X | O |   |   |   |\n",
            "   --- --- --- --- ---\n",
            "B |   | X |   | O | O |\n",
            "   --- --- --- --- ---\n",
            "C |   |   | O | X |   |\n",
            "   --- --- --- --- ---\n",
            "D |   | O |   | X |   |\n",
            "   --- --- --- --- ---\n",
            "E | O | X |   |   | X |\n",
            "   --- --- --- --- ---\n",
            "Place X at: b5\n",
            "Cannot put X at location B5\n",
            "    1   2   3   4   5  \n",
            "   --- --- --- --- ---\n",
            "A | X | O |   |   |   |\n",
            "   --- --- --- --- ---\n",
            "B |   | X |   | O | O |\n",
            "   --- --- --- --- ---\n",
            "C |   |   | O | X |   |\n",
            "   --- --- --- --- ---\n",
            "D |   | O |   | X |   |\n",
            "   --- --- --- --- ---\n",
            "E | O | X |   |   | X |\n",
            "   --- --- --- --- ---\n",
            "Place X at: b6\n",
            "Invalid location. Try again.\n",
            "    1   2   3   4   5  \n",
            "   --- --- --- --- ---\n",
            "A | X | O |   |   |   |\n",
            "   --- --- --- --- ---\n",
            "B |   | X |   | O | O |\n",
            "   --- --- --- --- ---\n",
            "C |   |   | O | X |   |\n",
            "   --- --- --- --- ---\n",
            "D |   | O |   | X |   |\n",
            "   --- --- --- --- ---\n",
            "E | O | X |   |   | X |\n",
            "   --- --- --- --- ---\n",
            "Place X at: d5\n",
            "    1   2   3   4   5  \n",
            "   --- --- --- --- ---\n",
            "A | X | O |   |   |   |\n",
            "   --- --- --- --- ---\n",
            "B |   | X |   | O | O |\n",
            "   --- --- --- --- ---\n",
            "C |   |   | O | X |   |\n",
            "   --- --- --- --- ---\n",
            "D |   | O |   | X | X |\n",
            "   --- --- --- --- ---\n",
            "E | O | X |   |   | X |\n",
            "   --- --- --- --- ---\n",
            "Place O at: a5\n",
            "    1   2   3   4   5  \n",
            "   --- --- --- --- ---\n",
            "A | X | O |   |   | O |\n",
            "   --- --- --- --- ---\n",
            "B |   | X |   | O | O |\n",
            "   --- --- --- --- ---\n",
            "C |   |   | O | X |   |\n",
            "   --- --- --- --- ---\n",
            "D |   | O |   | X | X |\n",
            "   --- --- --- --- ---\n",
            "E | O | X |   |   | X |\n",
            "   --- --- --- --- ---\n",
            "Player 2 wins!\n"
          ],
          "name": "stdout"
        }
      ]
    },
    {
      "cell_type": "markdown",
      "metadata": {
        "deletable": true,
        "editable": true,
        "id": "6W-bTUC9l6y8",
        "colab_type": "text"
      },
      "source": [
        "*Exercise 11: (Extra Credit)* Develop a version of the game where one player is the computer. Note that you don't need to do an extensive seach for the best move. You can have the computer simply protect against loosing and otherwise try to win with straight or diagonal patterns."
      ]
    },
    {
      "cell_type": "code",
      "metadata": {
        "deletable": true,
        "editable": true,
        "id": "TRfUlsytl6y-",
        "colab_type": "code",
        "colab": {}
      },
      "source": [
        "# Write you solution here"
      ],
      "execution_count": 0,
      "outputs": []
    },
    {
      "cell_type": "code",
      "metadata": {
        "deletable": true,
        "editable": true,
        "id": "EdxBYXsLl6zD",
        "colab_type": "code",
        "colab": {}
      },
      "source": [
        "# Test your solution here"
      ],
      "execution_count": 0,
      "outputs": []
    }
  ]
}