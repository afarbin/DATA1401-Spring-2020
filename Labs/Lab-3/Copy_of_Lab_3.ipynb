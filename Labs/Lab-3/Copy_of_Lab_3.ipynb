{
  "nbformat": 4,
  "nbformat_minor": 0,
  "metadata": {
    "kernelspec": {
      "display_name": "Python 2",
      "language": "python",
      "name": "python2"
    },
    "language_info": {
      "codemirror_mode": {
        "name": "ipython",
        "version": 2
      },
      "file_extension": ".py",
      "mimetype": "text/x-python",
      "name": "python",
      "nbconvert_exporter": "python",
      "pygments_lexer": "ipython2",
      "version": "2.7.10"
    },
    "colab": {
      "name": "Copy of Lab-3.ipynb",
      "provenance": [],
      "collapsed_sections": []
    }
  },
  "cells": [
    {
      "cell_type": "markdown",
      "metadata": {
        "id": "DkBlPk0lMitj",
        "colab_type": "text"
      },
      "source": [
        "# Lab 3- Tic Tac Toe\n",
        "\n",
        "[![Open In Colab](https://colab.research.google.com/assets/colab-badge.svg)](https://colab.research.google.com/github//afarbin/DATA1401-Spring-2020/blob/master/Labs/Lab-3/Lab-3.ipynb)\n",
        "\n",
        "In this lab your will build a n x n Tic Tac Toe game. As you do the exercises, make sure your solutions work for any size Tic Tac Toe game. "
      ]
    },
    {
      "cell_type": "markdown",
      "metadata": {
        "id": "tSe6DEqRMito",
        "colab_type": "text"
      },
      "source": [
        "*Exercise 1:* Write a function that creates an n by n matrix (of list of lists) which will represent the state of a Tie Tac Toe game. Let 0, 1, and 2 represent empty, \"X\", or \"O\".\n"
      ]
    },
    {
      "cell_type": "code",
      "metadata": {
        "deletable": true,
        "editable": true,
        "id": "tl6eRKkOMits",
        "colab_type": "code",
        "colab": {}
      },
      "source": [
        "# Write you solution here\n",
        "player1 = 1\n",
        "player2 = 2\n",
        "empty=0\n",
        "\n",
        "player1_piece = \"X\"\n",
        "player2_piece = \"O\"\n",
        "empty_space = \" \"\n",
        "\n",
        "size = 3\n",
        "\n",
        "def game_board(size):\n",
        "  board = [[empty]*size for i in range(size) ]\n",
        "  return board\n"
      ],
      "execution_count": 0,
      "outputs": []
    },
    {
      "cell_type": "code",
      "metadata": {
        "deletable": true,
        "editable": true,
        "id": "UUlbPwFoMit4",
        "colab_type": "code",
        "outputId": "f661baf0-b0c0-4790-b447-5666b5dd5dc2",
        "colab": {
          "base_uri": "https://localhost:8080/",
          "height": 35
        }
      },
      "source": [
        "# Test your solution here\n",
        "game_board(3)\n"
      ],
      "execution_count": 4,
      "outputs": [
        {
          "output_type": "execute_result",
          "data": {
            "text/plain": [
              "[[0, 0, 0], [0, 0, 0], [0, 0, 0]]"
            ]
          },
          "metadata": {
            "tags": []
          },
          "execution_count": 4
        }
      ]
    },
    {
      "cell_type": "markdown",
      "metadata": {
        "deletable": true,
        "editable": true,
        "id": "Cob_EyZLMit_",
        "colab_type": "text"
      },
      "source": [
        "*Exercise 2:* Write a function that takes a `n` by `n` matrix representing a tic-tac-toe game, and returns -1, 0, 1, or 2 indicating the game is incomplete, the game is a draw, player 1 has won, or player 2 has one, respectively. Here are some example inputs you can use to test your code:"
      ]
    },
    {
      "cell_type": "code",
      "metadata": {
        "deletable": true,
        "editable": true,
        "id": "Q2rN_UmAMiuD",
        "colab_type": "code",
        "colab": {}
      },
      "source": [
        "winner_is_2 = [[2, 2, 0],\n",
        "\t[2, 1, 0],\n",
        "\t[2, 1, 1]]\n",
        "\n",
        "winner_is_1 = [[1, 2, 0],\n",
        "\t[2, 1, 0],\n",
        "\t[2, 1, 1]]\n",
        "\n",
        "winner_is_also_1 = [[0, 1, 0],\n",
        "\t[2, 1, 0],\n",
        "\t[2, 1, 1]]\n",
        "\n",
        "no_winner = [[1, 2, 0],\n",
        "\t[2, 1, 0],\n",
        "\t[2, 1, 2]]\n",
        "\n",
        "also_no_winner = [[1, 2, 0],\n",
        "\t[2, 1, 0],\n",
        "\t[2, 1, 0]]"
      ],
      "execution_count": 0,
      "outputs": []
    },
    {
      "cell_type": "code",
      "metadata": {
        "deletable": true,
        "editable": true,
        "id": "E7Gz99ueMiuK",
        "colab_type": "code",
        "colab": {}
      },
      "source": [
        "# Write you solution here\n",
        "\n",
        "player1 = 1\n",
        "player2 = 2\n",
        "empty=0\n",
        "\n",
        "player1_piece = \"X\"\n",
        "player2_piece = \"O\"\n",
        "empty_space = \" \"\n",
        "\n",
        "size = 3\n",
        "\n",
        "def game_board(size):\n",
        "  board = [[empty]*size for i in range(size) ]\n",
        "  return board\n",
        "\n",
        "game = [[2, 2, 0],\n",
        "        [2, 1, 0],\n",
        "        [2, 1, 1]]\n",
        "\n",
        "def winner(game):\n",
        "\n",
        "  for row in game:\n",
        "    #print(row)\n",
        "    if row.count(row[0]) == len(row) and row[0] != 0:\n",
        "      print( \"You win!\" + str({row[0]}) )\n",
        "\n",
        "  for col in range(len(game)):\n",
        "    cols = []\n",
        "\n",
        "  for row in game:\n",
        "    cols.append(row[col])\n",
        "    if cols.count(cols[0]) == len(cols) and cols[0] != 0:\n",
        "      print(\"You win Player:\" + str({cols[0]}))\n",
        "\n",
        "  diag = []\n",
        "  for xy in range(len(game)):\n",
        "    diag.append(game[xy][xy])\n",
        "  if diag.count(diag[0]) == len(diag) and diag[0] != 0:\n",
        "      print(\"You win Player\" + str({diag[0]}) + \"Congrats!\")\n",
        "\n",
        "  for col, row, in zip(list(reversed(range(len(game)))), range(len(game))):\n",
        "    diag.append(game[row][col])\n",
        "  if diag.count(diag[0]) == len(diag) and diag[0] != 0:\n",
        "      print(\"You win Player\" + str({diag[0]}) + \"Congrats!\")\n",
        "\n"
      ],
      "execution_count": 0,
      "outputs": []
    },
    {
      "cell_type": "code",
      "metadata": {
        "deletable": true,
        "editable": true,
        "id": "GLNxsNqvMiuV",
        "colab_type": "code",
        "outputId": "599bbe66-cd3f-458f-d1d2-12256a2a2e26",
        "colab": {
          "base_uri": "https://localhost:8080/",
          "height": 53
        }
      },
      "source": [
        "# Test your solution here\n",
        "game = [[2, 2, 2],\n",
        "\t      [1, 1, 0],\n",
        "\t      [2, 1, 1]]\n",
        "\n",
        "winner(game)"
      ],
      "execution_count": 42,
      "outputs": [
        {
          "output_type": "stream",
          "text": [
            "You win!set([2])\n",
            "You win Player:set([2])\n"
          ],
          "name": "stdout"
        }
      ]
    },
    {
      "cell_type": "code",
      "metadata": {
        "id": "ZUgS5ZYgXVDT",
        "colab_type": "code",
        "colab": {
          "base_uri": "https://localhost:8080/",
          "height": 72
        },
        "outputId": "432d35d4-a171-47ea-d87b-bfeb6099e942"
      },
      "source": [
        "game = [[1, 2, 2],\n",
        "\t      [1, 2, 2],\n",
        "\t      [0, 0, 2]]\n",
        "winner(game)"
      ],
      "execution_count": 43,
      "outputs": [
        {
          "output_type": "stream",
          "text": [
            "You win Player:set([2])\n",
            "You win Player:set([2])\n",
            "You win Player:set([2])\n"
          ],
          "name": "stdout"
        }
      ]
    },
    {
      "cell_type": "markdown",
      "metadata": {
        "deletable": true,
        "editable": true,
        "id": "ckf1JmBJMiua",
        "colab_type": "text"
      },
      "source": [
        "*Exercise 3:* Write a function that takes 2 integers `n` and `m` as input and draws a `n` by `m` game board. For example the following is a 3x3 board:\n",
        "```\n",
        "   --- --- --- \n",
        "  |   |   |   | \n",
        "   --- --- ---  \n",
        "  |   |   |   | \n",
        "   --- --- ---  \n",
        "  |   |   |   | \n",
        "   --- --- --- \n",
        "   ```"
      ]
    },
    {
      "cell_type": "code",
      "metadata": {
        "deletable": true,
        "editable": true,
        "id": "VADqZnW1Miuc",
        "colab_type": "code",
        "colab": {}
      },
      "source": [
        "# Write you solution here\n",
        "m = 7\n",
        "n = 8\n",
        "def n_m_gameboard():\n",
        "  board_1 = [[empty]*n for i in range(m)]\n",
        "  return board_1"
      ],
      "execution_count": 0,
      "outputs": []
    },
    {
      "cell_type": "code",
      "metadata": {
        "deletable": true,
        "editable": true,
        "id": "F-Y1UBObMiui",
        "colab_type": "code",
        "outputId": "3f110510-e73d-429d-b6be-a4c313919737",
        "colab": {
          "base_uri": "https://localhost:8080/",
          "height": 146
        }
      },
      "source": [
        "# Test your solution here\n",
        "n_m_gameboard()"
      ],
      "execution_count": 0,
      "outputs": [
        {
          "output_type": "execute_result",
          "data": {
            "text/plain": [
              "[[0, 0, 0, 0, 0, 0, 0, 0],\n",
              " [0, 0, 0, 0, 0, 0, 0, 0],\n",
              " [0, 0, 0, 0, 0, 0, 0, 0],\n",
              " [0, 0, 0, 0, 0, 0, 0, 0],\n",
              " [0, 0, 0, 0, 0, 0, 0, 0],\n",
              " [0, 0, 0, 0, 0, 0, 0, 0],\n",
              " [0, 0, 0, 0, 0, 0, 0, 0]]"
            ]
          },
          "metadata": {
            "tags": []
          },
          "execution_count": 11
        }
      ]
    },
    {
      "cell_type": "markdown",
      "metadata": {
        "deletable": true,
        "editable": true,
        "id": "_v_gaRDrMiur",
        "colab_type": "text"
      },
      "source": [
        "*Exercise 4:* Modify exercise 3, so that it takes a matrix of the form from exercise 2 and draws a tic-tac-tie board with \"X\"s and \"O\"s.  "
      ]
    },
    {
      "cell_type": "code",
      "metadata": {
        "deletable": true,
        "editable": true,
        "id": "mO9EPUufMiuu",
        "colab_type": "code",
        "colab": {}
      },
      "source": [
        "# Write you solution here\n",
        "space_character= { player1: player1_piece,\n",
        "                    player2: player2_piece,\n",
        "                    empty: empty_space }\n",
        "\n",
        "space_character\n",
        "size = 3\n",
        "\n",
        "row_names=list(\"ABCDEFGHIJKLMNOPQRSTUVWXYZ\")\n",
        "row_map=dict(zip(row_names,range(size)))\n",
        "\n",
        "row_map\n",
        "\n",
        "\n",
        "\n",
        "row_names=list(\"ABCDEFGHIJKLMNOPQRSTUVWXYZ\")\n",
        "\n",
        "list(zip(row_names,range(size)))\n",
        "\n",
        "column_names=list(map(str,range(1,size+1)))\n",
        "column_map=dict(zip(column_names,range(size)))\n",
        "\n",
        "column_map\n",
        "board=[[empty]*size for i in range(size)]\n",
        "def draw_boardgame(board):\n",
        "    print(empty)\n",
        "    for j in range(3):\n",
        "        print(column_names[j])\n",
        "    print()\n",
        "    \n",
        "    for i in range(3):\n",
        "        print(row_names[i])\n",
        "        for j in range(3):\n",
        "            print(space_character[board[i][j]])\n",
        "        print()\n",
        "\n",
        "  "
      ],
      "execution_count": 0,
      "outputs": []
    },
    {
      "cell_type": "code",
      "metadata": {
        "deletable": true,
        "editable": true,
        "id": "NSD6FljIMiu1",
        "colab_type": "code",
        "outputId": "d7194d8f-6c57-42b6-e0db-7c35a8e122bd",
        "colab": {
          "base_uri": "https://localhost:8080/",
          "height": 384
        }
      },
      "source": [
        "# Test your solution here\n",
        "draw_boardgame(board)"
      ],
      "execution_count": 0,
      "outputs": [
        {
          "output_type": "stream",
          "text": [
            "0\n",
            "1\n",
            "2\n",
            "3\n",
            "()\n",
            "A\n",
            " \n",
            " \n",
            " \n",
            "()\n",
            "B\n",
            " \n",
            " \n",
            " \n",
            "()\n",
            "C\n",
            " \n",
            " \n",
            " \n",
            "()\n"
          ],
          "name": "stdout"
        }
      ]
    },
    {
      "cell_type": "markdown",
      "metadata": {
        "deletable": true,
        "editable": true,
        "id": "MsUtlXeaMiu9",
        "colab_type": "text"
      },
      "source": [
        "*Exercise 5:* Write a function that takes a game board, player number, and `(x,y)` coordinates and places \"X\" or \"O\" in the correct location of the game board. Make sure that you only allow filling previously empty locations. Return `True` or `False` to indicate successful placement of \"X\" or \"O\"."
      ]
    },
    {
      "cell_type": "code",
      "metadata": {
        "deletable": true,
        "editable": true,
        "id": "BnVCMW2eMivA",
        "colab_type": "code",
        "colab": {}
      },
      "source": [
        "# Write you solution here\n",
        "def place_piece(board, player, location, move):\n",
        "  x,y = location \n",
        "\n",
        "  if not board [x][y] == 0:\n",
        "    print(\"cannot place piece here\")\n",
        "\n",
        "\n",
        "player1 = 1\n",
        "player2 = 2\n",
        "empty=0\n",
        "\n",
        "player1_piece = \"X\"\n",
        "player2_piece = \"O\"\n",
        "empty_space = \" \"\n",
        "    "
      ],
      "execution_count": 0,
      "outputs": []
    },
    {
      "cell_type": "code",
      "metadata": {
        "deletable": true,
        "editable": true,
        "id": "53Ab2v-UMivF",
        "colab_type": "code",
        "colab": {}
      },
      "source": [
        "# Test your solution here\n",
        "place_piece(board, player, location, move)"
      ],
      "execution_count": 0,
      "outputs": []
    },
    {
      "cell_type": "markdown",
      "metadata": {
        "deletable": true,
        "editable": true,
        "id": "jMSqvTKWMivK",
        "colab_type": "text"
      },
      "source": [
        "*Exercise 6:* Modify Exercise 4 to show column and row labels so that players can specify location using \"A2\" or \"C1\"."
      ]
    },
    {
      "cell_type": "code",
      "metadata": {
        "id": "liw9VIcfMivM",
        "colab_type": "code",
        "colab": {}
      },
      "source": [
        "# Write you solution here\n",
        "game = [[0, 0, 0],\n",
        "        [0, 0, 0],\n",
        "        [0, 0, 0],]\n",
        "def game_board():\n",
        "  print (\"     A  B  C\")\n",
        "  for count, row in enumerate(game):\n",
        "    print(count, row)\n"
      ],
      "execution_count": 0,
      "outputs": []
    },
    {
      "cell_type": "code",
      "metadata": {
        "deletable": true,
        "editable": true,
        "id": "rqAxJY3uMivS",
        "colab_type": "code",
        "outputId": "3834e357-6e94-4364-8244-9aea9f6a20ac",
        "colab": {
          "base_uri": "https://localhost:8080/",
          "height": 85
        }
      },
      "source": [
        "# Test your solution here\n",
        "game_board()"
      ],
      "execution_count": 0,
      "outputs": [
        {
          "output_type": "stream",
          "text": [
            "     A  B  C\n",
            "(0, [0, 0, 0])\n",
            "(1, [0, 0, 0])\n",
            "(2, [0, 0, 0])\n"
          ],
          "name": "stdout"
        }
      ]
    },
    {
      "cell_type": "markdown",
      "metadata": {
        "deletable": true,
        "editable": true,
        "id": "Jwa0sMlKMivV",
        "colab_type": "text"
      },
      "source": [
        "*Exercise 7:* Write a function that takes a board, player number, and location specified as in exercise 6 and then calls exercise 5 to correctly modify the board.  "
      ]
    },
    {
      "cell_type": "code",
      "metadata": {
        "deletable": true,
        "editable": true,
        "id": "KoU7-AWTMivW",
        "colab_type": "code",
        "colab": {
          "base_uri": "https://localhost:8080/",
          "height": 135
        },
        "outputId": "172982a7-0df4-4d0d-be0b-f37be907bc06"
      },
      "source": [
        "# Write you solution here\n",
        "def place_piece(board, player, location, move):\n",
        "  x,y = location \n",
        "\n",
        "  if not board [x][y] == 0:\n",
        "    print(\"cannot place piece here\")\n",
        "\n",
        "player1 = 1\n",
        "player2 = 2\n",
        "empty=0\n",
        "\n",
        "player1_piece = \"X\"\n",
        "player2_piece = \"O\"\n",
        "empty_space = \" \"\n",
        "\n",
        "size = 3\n",
        "\n",
        "def game(size):\n",
        "  board = [[empty]*size for i in range(size) ]\n",
        "  return board\n",
        "\n",
        "import itertools\n",
        "def game_board(game_map, plyer =0, row = 0, column = 0, game_display = False):\n",
        "  try:\n",
        "    if game_map[row][column] != 0:\n",
        "      print(\"Cannot make move!\")\n",
        "      return game_map, False\n",
        "    print(\" \" + \" \",join(str(i) for i in range(len(game_map))))\n",
        "    if not game_display:\n",
        "      game_map[row][column] = players\n",
        "    for count, row in enumerate(game_map):\n",
        "      print(count, row)\n",
        "\n",
        "\n",
        "def winner(game):\n",
        "  for row in game:\n",
        "    print(row)\n",
        "    if row.count(row[0]) == len(row) and row[0] != 0:\n",
        "      print( \"You win!\" + {row[0]} )\n",
        "\n",
        "  for col in range (len(game)):\n",
        "    check = []\n",
        "\n",
        "  for row in game: \n",
        "    check.append(row[col])\n",
        "\n",
        "  if check.count(check[0]) == len(check) and check[0] != 0:\n",
        "    print(\"You win Player:\" + {check[0]})\n",
        "\n",
        "  diagonallyonallyonally = []\n",
        "  for ix in range(len(game)):\n",
        "    diagonallyonallyonally.append(game[ix][ix])\n",
        "  if diagonallyonallyonally.count(diagonallyonallyonally[0]) == len(diagonallyonallyonally) and diagonallyonallyonally[0] != 0:\n",
        "      print(\"You win Player\" + {diagonallyonallyonally[0]} + \"Congrats!\")\n",
        "\n",
        "  for col, row, in zip(list(reversed(range(len(game)))), range(len(game))):\n",
        "    diagonallyonallyonally.append(game[row][col])\n",
        "  if diagonallyonallyonally.count(diagonallyonallyonally[0]) == len(diagonallyonallyonally) and diagonallyonallyonally[0] != 0:\n",
        "      print(\"You win Player\" + {diagonallyonallyonally[0]} + \"Congrats!\")\n",
        "\n",
        "play = True\n",
        "players = [player1_piece, player2_piece]\n",
        "while play:\n",
        "  won_game = False\n",
        "  game, _ = game_board(game, game_display = True)\n",
        "  player_choice = itertools.cycle([1,2])\n",
        "  while not won_game:\n",
        "    current_player = next(player_choice)    \n",
        "    print(\"Plater: \" + {current_player})\n",
        "if winner(game):\n",
        "  won_game = True"
      ],
      "execution_count": 1,
      "outputs": [
        {
          "output_type": "error",
          "ename": "IndentationError",
          "evalue": "ignored",
          "traceback": [
            "\u001b[0;36m  File \u001b[0;32m\"<ipython-input-1-5bf580024b52>\"\u001b[0;36m, line \u001b[0;32m34\u001b[0m\n\u001b[0;31m    def winner(game):\u001b[0m\n\u001b[0m                     ^\u001b[0m\n\u001b[0;31mIndentationError\u001b[0m\u001b[0;31m:\u001b[0m unexpected unindent\n"
          ]
        }
      ]
    },
    {
      "cell_type": "code",
      "metadata": {
        "deletable": true,
        "editable": true,
        "id": "ariapVDyMivc",
        "colab_type": "code",
        "colab": {}
      },
      "source": [
        "# Test your solution here"
      ],
      "execution_count": 0,
      "outputs": []
    },
    {
      "cell_type": "markdown",
      "metadata": {
        "deletable": true,
        "editable": true,
        "id": "g649arHvMivg",
        "colab_type": "text"
      },
      "source": [
        "*Exercise 8:* Write a function is called with a board and player number, takes input from the player using python's `input`, and modifies the board using your function from exercise 7. Note that you should keep asking for input until you have gotten a valid input that results in a valid move."
      ]
    },
    {
      "cell_type": "code",
      "metadata": {
        "deletable": true,
        "editable": true,
        "id": "UzV_b7xvMivk",
        "colab_type": "code",
        "colab": {}
      },
      "source": [
        "# Write you solution here\n",
        "player1 = 1\n",
        "player2 = 2\n",
        "empty=0\n",
        "\n",
        "player1_piece = \"X\"\n",
        "player2_piece = \"O\"\n",
        "empty_space = \" \"\n",
        "\n",
        "size = 3\n",
        "\n",
        "def game(size):\n",
        "  board = [[empty]*size for i in range(size) ]\n",
        "  return board\n",
        "\n",
        "import itertools\n",
        "def game_board(game_map, player =0, row = 0, column = 0, game_display = False):\n",
        "  try:\n",
        "    if game_map[row][column] != 0:\n",
        "      print(\"Cannot make move!\")\n",
        "      return game_map, False\n",
        "    print(\" \" + \" \",join(str(i) for i in range(len(game_map))))\n",
        "    if not game_display:\n",
        "      game_map[row][column] = players\n",
        "    for count, row in enumerate(game_map):\n",
        "      print(count, row)\n",
        "\n",
        "\n",
        "def winner(game):\n",
        "  for row in game:\n",
        "    print(row)\n",
        "    if row.count(row[0]) == len(row) and row[0] != 0:\n",
        "      print( \"You win!\" + {row[0]} )\n",
        "\n",
        "  for col in range (len(game)):\n",
        "    check = []\n",
        "\n",
        "  for row in game: \n",
        "    check.append(row[col])\n",
        "\n",
        "  if check.count(check[0]) == len(check) and check[0] != 0:\n",
        "    print(\"You win Player:\" + {check[0]})\n",
        "\n",
        "  diag = []\n",
        "  for ix in range(len(game)):\n",
        "    diagonally.append(game[ix][ix])\n",
        "  if diagonally.count(diagonally[0]) == len(diagonally) and diagonally[0] != 0:\n",
        "      print(\"You win Player\" + {diagonally[0]} + \"Congrats!\")\n",
        "\n",
        "  for col, row, in zip(list(reversed(range(len(game)))), range(len(game))):\n",
        "    diagonally.append(game[row][col])\n",
        "  if diagonally.count(diagonally[0]) == len(diagonally) and diagonally[0] != 0:\n",
        "      print(\"You win Player\" + {diagonally[0]} + \"Congrats!\")\n",
        "\n",
        "play = True\n",
        "players = [player1_piece, player2_piece]\n",
        "while play:\n",
        "  won_game = False\n",
        "  game, _ = game_board(game, game_display = True)\n",
        "  player_choice = itertools.cycle([1,2])\n",
        "  while not won_game:\n",
        "    current_player = next(player_choice)    \n",
        "    print(\"Plater: \" + {current_player})\n",
        "if winner(game):\n",
        "  won_game = True"
      ],
      "execution_count": 0,
      "outputs": []
    },
    {
      "cell_type": "code",
      "metadata": {
        "deletable": true,
        "editable": true,
        "id": "kQYj5okuMivq",
        "colab_type": "code",
        "colab": {}
      },
      "source": [
        "# Test your solution here"
      ],
      "execution_count": 0,
      "outputs": []
    },
    {
      "cell_type": "markdown",
      "metadata": {
        "deletable": true,
        "editable": true,
        "id": "FfySjXk2Mivu",
        "colab_type": "text"
      },
      "source": [
        "*Exercise 9:* Use all of the previous exercises to implement a full tic-tac-toe game, where an appropriate board is drawn, 2 players are repeatedly asked for a location coordinates of where they wish to place a mark, and the game status is checked until a player wins or a draw occurs."
      ]
    },
    {
      "cell_type": "code",
      "metadata": {
        "deletable": true,
        "editable": true,
        "id": "8g33BFXhMivw",
        "colab_type": "code",
        "outputId": "56bc2452-19c3-4c22-c826-c43e227907c0",
        "colab": {
          "base_uri": "https://localhost:8080/",
          "height": 129
        }
      },
      "source": [
        "# Write you solution here\n",
        "player1 = 1\n",
        "player2 = 2\n",
        "empty=0\n",
        "\n",
        "player1_piece = \"X\"\n",
        "player2_piece = \"O\"\n",
        "empty_space = \" \"\n",
        "\n",
        "size = 3\n",
        "\n",
        "def game(size):\n",
        "  board = [[empty]*size for i in range(size) ]\n",
        "  return board\n",
        "\n",
        "import itertools\n",
        "def game_board(game_map, plyer =0, row = 0, column = 0, game_display = False):\n",
        "  try:\n",
        "    if game_map[row][column] != 0:\n",
        "      print(\"Cannot make move!\")\n",
        "      return game_map, False\n",
        "    print(\" \" + \" \",join(str(i) for i in range(len(game_map))))\n",
        "    if not game_display:\n",
        "      game_map[row][column] = players\n",
        "    for count, row in enumerate(game_map):\n",
        "      print(count, row)\n",
        "\n",
        "\n",
        "def winner(game):\n",
        "  for row in game:\n",
        "    print(row)\n",
        "    if row.count(row[0]) == len(row) and row[0] != 0:\n",
        "      print( \"You win!\" + {row[0]} )\n",
        "\n",
        "  for col in range (len(game)):\n",
        "    check = []\n",
        "\n",
        "  for row in game: \n",
        "    check.append(row[col])\n",
        "\n",
        "  if check.count(check[0]) == len(check) and check[0] != 0:\n",
        "    print(\"You win Player:\" + {check[0]})\n",
        "\n",
        "  diagonally = []\n",
        "  for ix in range(len(game)):\n",
        "    diagonally.append(game[ix][ix])\n",
        "  if diagonally.count(diagonally[0]) == len(diagonally) and diagonally[0] != 0:\n",
        "      print(\"You win Player\" + {diagonally[0]} + \"Congrats!\")\n",
        "\n",
        "  for col, row, in zip(list(reversed(range(len(game)))), range(len(game))):\n",
        "    diagonally.append(game[row][col])\n",
        "  if diagonally.count(diagonally[0]) == len(diagonally) and diagonally[0] != 0:\n",
        "      print(\"You win Player\" + {diagonally[0]} + \"Congrats!\")\n",
        "\n",
        "play = True\n",
        "players = [player1_piece, player2_piece]\n",
        "while play:\n",
        "  won_game = False\n",
        "  game, _ = game_board(game, game_display = True)\n",
        "  player_choice = itertools.cycle([1,2])\n",
        "  while not won_game:\n",
        "    current_player = next(player_choice)    \n",
        "    print(\"Plater: \" + {current_player})\n",
        "if winner(game):\n",
        "  won_game = True\n"
      ],
      "execution_count": 0,
      "outputs": [
        {
          "output_type": "error",
          "ename": "SyntaxError",
          "evalue": "ignored",
          "traceback": [
            "\u001b[0;36m  File \u001b[0;32m\"<ipython-input-24-8b1ff5530f21>\"\u001b[0;36m, line \u001b[0;32m28\u001b[0m\n\u001b[0;31m    def winner(game):\u001b[0m\n\u001b[0m      ^\u001b[0m\n\u001b[0;31mSyntaxError\u001b[0m\u001b[0;31m:\u001b[0m invalid syntax\n"
          ]
        }
      ]
    },
    {
      "cell_type": "code",
      "metadata": {
        "deletable": true,
        "editable": true,
        "id": "wBAhpU0WMiv1",
        "colab_type": "code",
        "outputId": "2759d08e-1ff7-4417-8798-2e211401c70c",
        "colab": {
          "base_uri": "https://localhost:8080/",
          "height": 34
        }
      },
      "source": [
        "game(3)"
      ],
      "execution_count": 0,
      "outputs": [
        {
          "output_type": "execute_result",
          "data": {
            "text/plain": [
              "[[0, 0, 0], [0, 0, 0], [0, 0, 0]]"
            ]
          },
          "metadata": {
            "tags": []
          },
          "execution_count": 25
        }
      ]
    },
    {
      "cell_type": "markdown",
      "metadata": {
        "deletable": true,
        "editable": true,
        "id": "kFFf9d-rMiwC",
        "colab_type": "text"
      },
      "source": [
        "*Exercise 10:* Test that your game works for 5x5 Tic Tac Toe.  "
      ]
    },
    {
      "cell_type": "code",
      "metadata": {
        "deletable": true,
        "editable": true,
        "id": "4pNKIaISMiwE",
        "colab_type": "code",
        "outputId": "39086be7-5d91-4fb3-c1d4-a3270823801b",
        "colab": {
          "base_uri": "https://localhost:8080/",
          "height": 129
        }
      },
      "source": [
        "# Test your solution here\n",
        "size = 5\n",
        "\n",
        "def game(size):\n",
        "  board = [[empty]*size for i in range(size) ]\n",
        "  return board\n",
        "player1 = 1\n",
        "player2 = 2\n",
        "empty=0\n",
        "\n",
        "player1_piece = \"X\"\n",
        "player2_piece = \"O\"\n",
        "empty_space = \" \"\n",
        "\n",
        "size = 3\n",
        "\n",
        "game = [[empty]*size for i in range(size) ]\n",
        "\n",
        "import itertools\n",
        "def game_board(game_map, plyer =0, row = 0, column = 0, game_display = False):\n",
        "  try:\n",
        "    if game_map[row][column] != 0:\n",
        "      print(\"Cannot make move!\")\n",
        "      return game_map, False\n",
        "    print(\" \" + \" \",join(str(i) for i in range(len(game_map))))\n",
        "    if not game_display:\n",
        "      game_map[row][column] = players\n",
        "    for count, row in enumerate(game_map):\n",
        "      print(count, row)\n",
        "\n",
        "\n",
        "def winner(game):\n",
        "  for row in game:\n",
        "    print(row)\n",
        "    if row.count(row[0]) == len(row) and row[0] != 0:\n",
        "      print( \"You win!\" + {row[0]} )\n",
        "\n",
        "  for col in range (len(game)):\n",
        "    check = []\n",
        "\n",
        "  for row in game: \n",
        "    check.append(row[col])\n",
        "\n",
        "  if check.count(check[0]) == len(check) and check[0] != 0:\n",
        "    print(\"You win Player:\" + {check[0]})\n",
        "\n",
        "  diagonally = []\n",
        "  for ix in range(len(game)):\n",
        "    diagonally.append(game[ix][ix])\n",
        "  if diagonally.count(diagonally[0]) == len(diagonally) and diagonally[0] != 0:\n",
        "      print(\"You win Player\" + {diagonally[0]} + \"Congrats!\")\n",
        "\n",
        "  for col, row, in zip(list(reversed(range(len(game)))), range(len(game))):\n",
        "    diagonally.append(game[row][col])\n",
        "  if diagonally.count(diagonally[0]) == len(diagonally) and diagonally[0] != 0:\n",
        "      print(\"You win Player\" + {diagonally[0]} + \"Congrats!\")\n",
        "\n",
        "play = True\n",
        "players = [player1_piece, player2_piece]\n",
        "while play:\n",
        "  won_game = False\n",
        "  game, _ = game_board(game, game_display = True)\n",
        "  player_choice = itertools.cycle([1,2])\n",
        "  while not won_game:\n",
        "    current_player = next(player_choice)    \n",
        "    print(\"Plater: \" + {current_player})\n",
        "if winner(game):\n",
        "  won_game = True\n",
        "\n",
        "  game(5)"
      ],
      "execution_count": 0,
      "outputs": [
        {
          "output_type": "error",
          "ename": "IndentationError",
          "evalue": "ignored",
          "traceback": [
            "\u001b[0;36m  File \u001b[0;32m\"<ipython-input-31-3fff55ee57cb>\"\u001b[0;36m, line \u001b[0;32m31\u001b[0m\n\u001b[0;31m    def winner(game):\u001b[0m\n\u001b[0m                     ^\u001b[0m\n\u001b[0;31mIndentationError\u001b[0m\u001b[0;31m:\u001b[0m unexpected unindent\n"
          ]
        }
      ]
    },
    {
      "cell_type": "markdown",
      "metadata": {
        "deletable": true,
        "editable": true,
        "id": "DMDHVEWgMiwH",
        "colab_type": "text"
      },
      "source": [
        "*Exercise 11: (Extra Credit)* Develop a version of the game where one player is the computer. Note that you don't need to do an extensive seach for the best move. You can have the computer simply protect against loosing and otherwise try to win with straight or diagonal patterns."
      ]
    },
    {
      "cell_type": "code",
      "metadata": {
        "deletable": true,
        "editable": true,
        "id": "9UFirnS0MiwJ",
        "colab_type": "code",
        "colab": {}
      },
      "source": [
        "# Write you solution here"
      ],
      "execution_count": 0,
      "outputs": []
    },
    {
      "cell_type": "code",
      "metadata": {
        "deletable": true,
        "editable": true,
        "id": "iD67M7gAMiwO",
        "colab_type": "code",
        "colab": {}
      },
      "source": [
        "# Test your solution here\n"
      ],
      "execution_count": 0,
      "outputs": []
    }
  ]
}