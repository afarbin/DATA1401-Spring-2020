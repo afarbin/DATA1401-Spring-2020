{
  "nbformat": 4,
  "nbformat_minor": 0,
  "metadata": {
    "kernelspec": {
      "name": "python3",
      "display_name": "Python 3"
    },
    "colab": {
      "name": "Copy of Lab-3.ipynb",
      "provenance": []
    }
  },
  "cells": [
    {
      "cell_type": "markdown",
      "metadata": {
        "id": "YuaEkVael6wx",
        "colab_type": "text"
      },
      "source": [
        "# Lab 3- Tic Tac Toe\n",
        "\n",
        "[![Open In Colab](https://colab.research.google.com/assets/colab-badge.svg)](https://colab.research.google.com/github//afarbin/DATA1401-Spring-2020/blob/master/Labs/Lab-3/Lab-3.ipynb)\n",
        "\n",
        "In this lab your will build a n x n Tic Tac Toe game. As you do the exercises, make sure your solutions work for any size Tic Tac Toe game. "
      ]
    },
    {
      "cell_type": "markdown",
      "metadata": {
        "id": "7rZcHrSEl6w2",
        "colab_type": "text"
      },
      "source": [
        "*Exercise 1:* Write a function that creates an n by n matrix (of list of lists) which will represent the state of a Tie Tac Toe game. Let 0, 1, and 2 represent empty, \"X\", or \"O\".\n"
      ]
    },
    {
      "cell_type": "code",
      "metadata": {
        "deletable": true,
        "editable": true,
        "id": "qCG0daLAl6w4",
        "colab_type": "code",
        "colab": {}
      },
      "source": [
        "# Write you solution here\n",
        "empty = 0\n",
        "player_1 = 1\n",
        "player_2 = 2\n",
        "players = {0: \" \",\n",
        "           1: \"X\",\n",
        "           2: \"O\"}\n",
        "\n",
        "\n",
        "def make_game_board(n=3):\n",
        "  return [[empty] * n for i in range(n)]\n"
      ],
      "execution_count": 0,
      "outputs": []
    },
    {
      "cell_type": "code",
      "metadata": {
        "deletable": true,
        "editable": true,
        "id": "xLZxreLTl6w_",
        "colab_type": "code",
        "outputId": "fe454a38-9d17-4bb6-bb49-4ee1b2c8f4a6",
        "colab": {
          "base_uri": "https://localhost:8080/",
          "height": 34
        }
      },
      "source": [
        "# Test your solution here\n",
        "print(make_game_board())"
      ],
      "execution_count": 0,
      "outputs": [
        {
          "output_type": "stream",
          "text": [
            "[[0, 0, 0], [0, 0, 0], [0, 0, 0]]\n"
          ],
          "name": "stdout"
        }
      ]
    },
    {
      "cell_type": "markdown",
      "metadata": {
        "deletable": true,
        "editable": true,
        "id": "1Gpsh1YMl6xD",
        "colab_type": "text"
      },
      "source": [
        "*Exercise 2:* Write a function that takes a `n` by `n` matrix representing a tic-tac-toe game, and returns -1, 0, 1, or 2 indicating the game is incomplete, the game is a draw, player 1 has won, or player 2 has one, respectively. Here are some example inputs you can use to test your code:"
      ]
    },
    {
      "cell_type": "code",
      "metadata": {
        "deletable": true,
        "editable": true,
        "id": "4edyIxvNl6xF",
        "colab_type": "code",
        "colab": {}
      },
      "source": [
        "winner_is_2 = [[2, 2, 0],\n",
        "\t[2, 1, 0],\n",
        "\t[2, 1, 1]]\n",
        "\n",
        "winner_is_1 = [[1, 2, 0],\n",
        "\t[2, 1, 0],\n",
        "\t[2, 1, 1]]\n",
        "\n",
        "winner_is_also_1 = [[0, 1, 0],\n",
        "\t[2, 1, 0],\n",
        "\t[2, 1, 1]]\n",
        "\n",
        "no_winner = [[1, 2, 0],\n",
        "\t[2, 1, 0],\n",
        "\t[2, 1, 2]]\n",
        "\n",
        "also_no_winner = [[1, 2, 0],\n",
        "\t[2, 1, 0],\n",
        "\t[2, 1, 0]]"
      ],
      "execution_count": 0,
      "outputs": []
    },
    {
      "cell_type": "code",
      "metadata": {
        "deletable": true,
        "editable": true,
        "id": "pMveSEzVl6xN",
        "colab_type": "code",
        "colab": {}
      },
      "source": [
        "# Write you solution here\n",
        "def check_game_finished(board):\n",
        "  board_wins = [row for row in board] # rows\n",
        "  board_wins += [list(row) for row in zip(*board)] # columns\n",
        "  board_wins += [[board[i][i] for i in range(len(board))]] # right down diagonal\n",
        "  board_wins += [[board[len(board) - 1 - i][i] for i in range(len(board))]] # left down diagonal\n",
        "  if [1] * len(board) in board_wins:\n",
        "    return 1\n",
        "  elif [2] * len(board) in board_wins:\n",
        "    return 2\n",
        "  elif True in [board[i][j] == 0 for i in range(len(board)) for j in range(len(board))]:\n",
        "    return -1\n",
        "  else:\n",
        "    return 0\n"
      ],
      "execution_count": 0,
      "outputs": []
    },
    {
      "cell_type": "code",
      "metadata": {
        "deletable": true,
        "editable": true,
        "id": "jFvUimXMl6xS",
        "colab_type": "code",
        "outputId": "ab2ed326-4253-42dc-d3ea-72e57487da20",
        "colab": {
          "base_uri": "https://localhost:8080/",
          "height": 102
        }
      },
      "source": [
        "# Test your solution here\n",
        "print(check_game_finished(winner_is_2))\n",
        "print(check_game_finished(winner_is_1))\n",
        "print(check_game_finished(winner_is_also_1))\n",
        "print(check_game_finished(no_winner))\n",
        "print(check_game_finished(also_no_winner))"
      ],
      "execution_count": 0,
      "outputs": [
        {
          "output_type": "stream",
          "text": [
            "2\n",
            "1\n",
            "1\n",
            "-1\n",
            "-1\n"
          ],
          "name": "stdout"
        }
      ]
    },
    {
      "cell_type": "markdown",
      "metadata": {
        "deletable": true,
        "editable": true,
        "id": "KJ67s2CZl6xb",
        "colab_type": "text"
      },
      "source": [
        "*Exercise 3:* Write a function that takes 2 integers `n` and `m` as input and draws a `n` by `m` game board. For example the following is a 3x3 board:\n",
        "```\n",
        "   --- --- --- \n",
        "  |   |   |   | \n",
        "   --- --- ---  \n",
        "  |   |   |   | \n",
        "   --- --- ---  \n",
        "  |   |   |   | \n",
        "   --- --- --- \n",
        "   ```"
      ]
    },
    {
      "cell_type": "code",
      "metadata": {
        "deletable": true,
        "editable": true,
        "id": "u3NzwB4Jl6xd",
        "colab_type": "code",
        "colab": {}
      },
      "source": [
        "# Write you solution here\n",
        "def draw_game_board(n, m):\n",
        "  for row in range(n):\n",
        "    line_1 = \"\"\n",
        "    line_2 = \"\"\n",
        "    for col in range(m):\n",
        "      line_1 += \" ---\"\n",
        "      line_2 += \"|   \"\n",
        "    line_2 += \"|\"\n",
        "    print(line_1)\n",
        "    print(line_2)\n",
        "  bottom = \"\"\n",
        "  for col in range(m):\n",
        "    bottom += \" ---\"\n",
        "  print(bottom)\n"
      ],
      "execution_count": 0,
      "outputs": []
    },
    {
      "cell_type": "code",
      "metadata": {
        "deletable": true,
        "editable": true,
        "id": "wrLb0jtcl6xi",
        "colab_type": "code",
        "outputId": "11643445-b2a6-4274-b9d4-983254111bef",
        "colab": {
          "base_uri": "https://localhost:8080/",
          "height": 374
        }
      },
      "source": [
        "# Test your solution here\n",
        "draw_game_board(3, 3)\n",
        "draw_game_board(2, 4)\n",
        "draw_game_board(4, 5)"
      ],
      "execution_count": 0,
      "outputs": [
        {
          "output_type": "stream",
          "text": [
            " --- --- ---\n",
            "|   |   |   |\n",
            " --- --- ---\n",
            "|   |   |   |\n",
            " --- --- ---\n",
            "|   |   |   |\n",
            " --- --- ---\n",
            " --- --- --- ---\n",
            "|   |   |   |   |\n",
            " --- --- --- ---\n",
            "|   |   |   |   |\n",
            " --- --- --- ---\n",
            " --- --- --- --- ---\n",
            "|   |   |   |   |   |\n",
            " --- --- --- --- ---\n",
            "|   |   |   |   |   |\n",
            " --- --- --- --- ---\n",
            "|   |   |   |   |   |\n",
            " --- --- --- --- ---\n",
            "|   |   |   |   |   |\n",
            " --- --- --- --- ---\n"
          ],
          "name": "stdout"
        }
      ]
    },
    {
      "cell_type": "markdown",
      "metadata": {
        "deletable": true,
        "editable": true,
        "id": "nUAE_QUal6xq",
        "colab_type": "text"
      },
      "source": [
        "*Exercise 4:* Modify exercise 3, so that it takes a matrix of the form from exercise 2 and draws a tic-tac-tie board with \"X\"s and \"O\"s.  "
      ]
    },
    {
      "cell_type": "code",
      "metadata": {
        "deletable": true,
        "editable": true,
        "id": "fGddb0gIl6xs",
        "colab_type": "code",
        "colab": {}
      },
      "source": [
        "# Write you solution here\n",
        "def draw_game_board(board):\n",
        "  for row in board:\n",
        "    line_1 = \"\"\n",
        "    line_2 = \"\"\n",
        "    for col in row:\n",
        "      line_1 += \" ---\"\n",
        "      line_2 += \"| \" + players[col] + \" \"\n",
        "    line_2 += \"|\"\n",
        "    print(line_1)\n",
        "    print(line_2)\n",
        "  bottom = \"\"\n",
        "  for col in board:\n",
        "    bottom += \" ---\"\n",
        "  print(bottom)\n"
      ],
      "execution_count": 0,
      "outputs": []
    },
    {
      "cell_type": "code",
      "metadata": {
        "deletable": true,
        "editable": true,
        "id": "DNm_lodnl6xy",
        "colab_type": "code",
        "outputId": "f39170d3-4772-4aa4-c143-57c5559e8ad7",
        "colab": {
          "base_uri": "https://localhost:8080/",
          "height": 612
        }
      },
      "source": [
        "# Test your solution here\n",
        "draw_game_board(winner_is_1)\n",
        "draw_game_board(winner_is_2)\n",
        "draw_game_board(winner_is_also_1)\n",
        "draw_game_board(no_winner)\n",
        "draw_game_board(also_no_winner)"
      ],
      "execution_count": 0,
      "outputs": [
        {
          "output_type": "stream",
          "text": [
            " --- --- ---\n",
            "| X | O |   |\n",
            " --- --- ---\n",
            "| O | X |   |\n",
            " --- --- ---\n",
            "| O | X | X |\n",
            " --- --- ---\n",
            " --- --- ---\n",
            "| O | O |   |\n",
            " --- --- ---\n",
            "| O | X |   |\n",
            " --- --- ---\n",
            "| O | X | X |\n",
            " --- --- ---\n",
            " --- --- ---\n",
            "|   | X |   |\n",
            " --- --- ---\n",
            "| O | X |   |\n",
            " --- --- ---\n",
            "| O | X | X |\n",
            " --- --- ---\n",
            " --- --- ---\n",
            "| X | O |   |\n",
            " --- --- ---\n",
            "| O | X |   |\n",
            " --- --- ---\n",
            "| O | X | O |\n",
            " --- --- ---\n",
            " --- --- ---\n",
            "| X | O |   |\n",
            " --- --- ---\n",
            "| O | X |   |\n",
            " --- --- ---\n",
            "| O | X |   |\n",
            " --- --- ---\n"
          ],
          "name": "stdout"
        }
      ]
    },
    {
      "cell_type": "markdown",
      "metadata": {
        "deletable": true,
        "editable": true,
        "id": "ehxOT9Ehl6x4",
        "colab_type": "text"
      },
      "source": [
        "*Exercise 5:* Write a function that takes a game board, player number, and `(x,y)` coordinates and places \"X\" or \"O\" in the correct location of the game board. Make sure that you only allow filling previously empty locations. Return `True` or `False` to indicate successful placement of \"X\" or \"O\"."
      ]
    },
    {
      "cell_type": "code",
      "metadata": {
        "deletable": true,
        "editable": true,
        "id": "MfTefPdll6x5",
        "colab_type": "code",
        "colab": {}
      },
      "source": [
        "# Write you solution here\n",
        "def _move(board, player, coordinates):\n",
        "  x, y = coordinates\n",
        "  if board[x][y] == 0:\n",
        "    board[x][y] = player\n",
        "    return True\n",
        "  else:\n",
        "    return False"
      ],
      "execution_count": 0,
      "outputs": []
    },
    {
      "cell_type": "code",
      "metadata": {
        "deletable": true,
        "editable": true,
        "id": "wk7OoaNcl6yA",
        "colab_type": "code",
        "outputId": "fac2d9fd-42a5-43ce-a297-c62787bc7674",
        "colab": {
          "base_uri": "https://localhost:8080/",
          "height": 136
        }
      },
      "source": [
        "# Test your solution here\n",
        "test_board = make_game_board()\n",
        "_move(test_board, 1, (1, 1))\n",
        "_move(test_board, 2, (2, 0))\n",
        "draw_game_board(test_board)"
      ],
      "execution_count": 0,
      "outputs": [
        {
          "output_type": "stream",
          "text": [
            " --- --- ---\n",
            "|   |   |   |\n",
            " --- --- ---\n",
            "|   | X |   |\n",
            " --- --- ---\n",
            "| O |   |   |\n",
            " --- --- ---\n"
          ],
          "name": "stdout"
        }
      ]
    },
    {
      "cell_type": "markdown",
      "metadata": {
        "deletable": true,
        "editable": true,
        "id": "OXmrF3VBl6yG",
        "colab_type": "text"
      },
      "source": [
        "*Exercise 6:* Modify Exercise 4 to show column and row labels so that players can specify location using \"A2\" or \"C1\"."
      ]
    },
    {
      "cell_type": "code",
      "metadata": {
        "id": "5luh37Ovl6yI",
        "colab_type": "code",
        "colab": {}
      },
      "source": [
        "# Write you solution here\n",
        "alphabet = \"ABCDEFGHIJKLMNOPQRSTUVWXYZ\"\n",
        "def draw_game_board(board):\n",
        "  top = \"   \"\n",
        "  for col in range(1, len(board) + 1):\n",
        "    top += \" \" + str(col) + \"  \"\n",
        "  print(top)\n",
        "  r = 0\n",
        "  for row in board:\n",
        "    line_1 = \"  \"\n",
        "    line_2 = alphabet[r] + \" \"\n",
        "    r += 1\n",
        "    for col in row:\n",
        "      line_1 += \" ---\"\n",
        "      line_2 += \"| \" + players[col] + \" \"\n",
        "    line_2 += \"|\"\n",
        "    print(line_1)\n",
        "    print(line_2)\n",
        "  print(\"  \" + \" ---\" * len(board))"
      ],
      "execution_count": 0,
      "outputs": []
    },
    {
      "cell_type": "code",
      "metadata": {
        "deletable": true,
        "editable": true,
        "id": "Zo6zTO_ll6yO",
        "colab_type": "code",
        "outputId": "5935d556-6d31-4fc0-cfab-c4e741625ea5",
        "colab": {
          "base_uri": "https://localhost:8080/",
          "height": 697
        }
      },
      "source": [
        "# Test your solution here\n",
        "draw_game_board(winner_is_1)\n",
        "draw_game_board(winner_is_2)\n",
        "draw_game_board(winner_is_also_1)\n",
        "draw_game_board(no_winner)\n",
        "draw_game_board(also_no_winner)"
      ],
      "execution_count": 0,
      "outputs": [
        {
          "output_type": "stream",
          "text": [
            "    1   2   3  \n",
            "   --- --- ---\n",
            "A | X | O |   |\n",
            "   --- --- ---\n",
            "B | O | X |   |\n",
            "   --- --- ---\n",
            "C | O | X | X |\n",
            "   --- --- ---\n",
            "    1   2   3  \n",
            "   --- --- ---\n",
            "A | O | O |   |\n",
            "   --- --- ---\n",
            "B | O | X |   |\n",
            "   --- --- ---\n",
            "C | O | X | X |\n",
            "   --- --- ---\n",
            "    1   2   3  \n",
            "   --- --- ---\n",
            "A |   | X |   |\n",
            "   --- --- ---\n",
            "B | O | X |   |\n",
            "   --- --- ---\n",
            "C | O | X | X |\n",
            "   --- --- ---\n",
            "    1   2   3  \n",
            "   --- --- ---\n",
            "A | X | O |   |\n",
            "   --- --- ---\n",
            "B | O | X |   |\n",
            "   --- --- ---\n",
            "C | O | X | O |\n",
            "   --- --- ---\n",
            "    1   2   3  \n",
            "   --- --- ---\n",
            "A | X | O |   |\n",
            "   --- --- ---\n",
            "B | O | X |   |\n",
            "   --- --- ---\n",
            "C | O | X |   |\n",
            "   --- --- ---\n"
          ],
          "name": "stdout"
        }
      ]
    },
    {
      "cell_type": "markdown",
      "metadata": {
        "deletable": true,
        "editable": true,
        "id": "rlfmfYRWl6yT",
        "colab_type": "text"
      },
      "source": [
        "*Exercise 7:* Write a function that takes a board, player number, and location specified as in exercise 6 and then calls exercise 5 to correctly modify the board.  "
      ]
    },
    {
      "cell_type": "code",
      "metadata": {
        "deletable": true,
        "editable": true,
        "id": "R9Lngg8wl6yW",
        "colab_type": "code",
        "colab": {}
      },
      "source": [
        "# Write you solution here\n",
        "def move(board, player, location):\n",
        "  row = alphabet.find(location[0])\n",
        "  col = int(location[1:]) - 1\n",
        "  if board[row][col] == 0:\n",
        "    _move(board, player, (row, col))\n",
        "    return True\n",
        "  else:\n",
        "    print(\"Cannot put \" + players[player] + \" at location \" + location)\n",
        "    return False"
      ],
      "execution_count": 0,
      "outputs": []
    },
    {
      "cell_type": "code",
      "metadata": {
        "deletable": true,
        "editable": true,
        "id": "on6HRvX7l6ya",
        "colab_type": "code",
        "outputId": "5e9f3a17-275d-4c55-cd81-9e198ccb05dd",
        "colab": {
          "base_uri": "https://localhost:8080/",
          "height": 289
        }
      },
      "source": [
        "# Test your solution here\n",
        "move(no_winner, 1, \"A3\")\n",
        "draw_game_board(no_winner)\n",
        "move(also_no_winner, 1, \"C3\")\n",
        "draw_game_board(also_no_winner)"
      ],
      "execution_count": 0,
      "outputs": [
        {
          "output_type": "stream",
          "text": [
            "    1   2   3  \n",
            "   --- --- ---\n",
            "A | X | O | X |\n",
            "   --- --- ---\n",
            "B | O | X |   |\n",
            "   --- --- ---\n",
            "C | O | X | O |\n",
            "   --- --- ---\n",
            "    1   2   3  \n",
            "   --- --- ---\n",
            "A | X | O |   |\n",
            "   --- --- ---\n",
            "B | O | X |   |\n",
            "   --- --- ---\n",
            "C | O | X | X |\n",
            "   --- --- ---\n"
          ],
          "name": "stdout"
        }
      ]
    },
    {
      "cell_type": "markdown",
      "metadata": {
        "deletable": true,
        "editable": true,
        "id": "spCblEgSl6yf",
        "colab_type": "text"
      },
      "source": [
        "*Exercise 8:* Write a function is called with a board and player number, takes input from the player using python's `input`, and modifies the board using your function from exercise 7. Note that you should keep asking for input until you have gotten a valid input that results in a valid move."
      ]
    },
    {
      "cell_type": "code",
      "metadata": {
        "deletable": true,
        "editable": true,
        "id": "R2_KLmnhl6yi",
        "colab_type": "code",
        "colab": {}
      },
      "source": [
        "# Write you solution here\n",
        "def player_move(board, player):\n",
        "  location = \"A1\"\n",
        "  while True:\n",
        "    draw_game_board(board)\n",
        "    location = input(\"Place \" + players[player] + \" at: \").upper()\n",
        "    if location[0] in alphabet and alphabet.find(location[0]) < len(board) and location[1:].isnumeric() and 0 < int(location[1:]) <= len(board) <= 26:\n",
        "      break\n",
        "    else:\n",
        "      print(\"Invalid location. Try again.\")\n",
        "  if move(board, player, location):\n",
        "    return True\n",
        "  else:\n",
        "    return player_move(board, player)\n"
      ],
      "execution_count": 0,
      "outputs": []
    },
    {
      "cell_type": "code",
      "metadata": {
        "deletable": true,
        "editable": true,
        "id": "5klPGJNVl6yp",
        "colab_type": "code",
        "outputId": "031bd46e-7997-43e3-e391-7f23d78dd946",
        "colab": {
          "base_uri": "https://localhost:8080/",
          "height": 595
        }
      },
      "source": [
        "# Test your solution here\n",
        "player_move(no_winner, 1)\n",
        "draw_game_board(no_winner)\n",
        "player_move(also_no_winner, 2)\n",
        "draw_game_board(also_no_winner)"
      ],
      "execution_count": 0,
      "outputs": [
        {
          "output_type": "stream",
          "text": [
            "    1   2   3  \n",
            "   --- --- ---\n",
            "A | X | O | X |\n",
            "   --- --- ---\n",
            "B | O | X |   |\n",
            "   --- --- ---\n",
            "C | O | X | O |\n",
            "   --- --- ---\n",
            "Place X at: b3\n",
            "    1   2   3  \n",
            "   --- --- ---\n",
            "A | X | O | X |\n",
            "   --- --- ---\n",
            "B | O | X | X |\n",
            "   --- --- ---\n",
            "C | O | X | O |\n",
            "   --- --- ---\n",
            "    1   2   3  \n",
            "   --- --- ---\n",
            "A | X | O |   |\n",
            "   --- --- ---\n",
            "B | O | X |   |\n",
            "   --- --- ---\n",
            "C | O | X | X |\n",
            "   --- --- ---\n",
            "Place O at: a3\n",
            "    1   2   3  \n",
            "   --- --- ---\n",
            "A | X | O | O |\n",
            "   --- --- ---\n",
            "B | O | X |   |\n",
            "   --- --- ---\n",
            "C | O | X | X |\n",
            "   --- --- ---\n"
          ],
          "name": "stdout"
        }
      ]
    },
    {
      "cell_type": "markdown",
      "metadata": {
        "deletable": true,
        "editable": true,
        "id": "RpFgUbL-l6yv",
        "colab_type": "text"
      },
      "source": [
        "*Exercise 9:* Use all of the previous exercises to implement a full tic-tac-toe game, where an appropriate board is drawn, 2 players are repeatedly asked for a location coordinates of where they wish to place a mark, and the game status is checked until a player wins or a draw occurs."
      ]
    },
    {
      "cell_type": "code",
      "metadata": {
        "deletable": true,
        "editable": true,
        "id": "cq9kSyn3l6yw",
        "colab_type": "code",
        "colab": {}
      },
      "source": [
        "# Write you solution here\n",
        "def tic_tac_toe(n=3):\n",
        "  board = make_game_board(n)\n",
        "  current_player = True\n",
        "  while check_game_finished(board) == -1:\n",
        "    if current_player:\n",
        "      player_move(board, 1)\n",
        "    else:\n",
        "      player_move(board, 2)\n",
        "    current_player = not current_player\n",
        "  result = check_game_finished(board)\n",
        "  draw_game_board(board)\n",
        "  print(\"It's a draw!\" if result == 0 else (\"Player 1 wins!\" if result == 1 else \"Player 2 wins!\"))"
      ],
      "execution_count": 0,
      "outputs": []
    },
    {
      "cell_type": "code",
      "metadata": {
        "deletable": true,
        "editable": true,
        "id": "aBSvAvKWl6yz",
        "colab_type": "code",
        "outputId": "868b6418-dbad-4a09-dd92-46829dcc78be",
        "colab": {
          "base_uri": "https://localhost:8080/",
          "height": 765
        }
      },
      "source": [
        "# Test your solution here\n",
        "tic_tac_toe()"
      ],
      "execution_count": 0,
      "outputs": [
        {
          "output_type": "stream",
          "text": [
            "    1   2   3  \n",
            "   --- --- ---\n",
            "A |   |   |   |\n",
            "   --- --- ---\n",
            "B |   |   |   |\n",
            "   --- --- ---\n",
            "C |   |   |   |\n",
            "   --- --- ---\n",
            "Place X at: a1\n",
            "    1   2   3  \n",
            "   --- --- ---\n",
            "A | X |   |   |\n",
            "   --- --- ---\n",
            "B |   |   |   |\n",
            "   --- --- ---\n",
            "C |   |   |   |\n",
            "   --- --- ---\n",
            "Place O at: a2\n",
            "    1   2   3  \n",
            "   --- --- ---\n",
            "A | X | O |   |\n",
            "   --- --- ---\n",
            "B |   |   |   |\n",
            "   --- --- ---\n",
            "C |   |   |   |\n",
            "   --- --- ---\n",
            "Place X at: \n"
          ],
          "name": "stdout"
        },
        {
          "output_type": "error",
          "ename": "IndexError",
          "evalue": "ignored",
          "traceback": [
            "\u001b[0;31m---------------------------------------------------------------------------\u001b[0m",
            "\u001b[0;31mIndexError\u001b[0m                                Traceback (most recent call last)",
            "\u001b[0;32m<ipython-input-63-d5912735471a>\u001b[0m in \u001b[0;36m<module>\u001b[0;34m()\u001b[0m\n\u001b[0;32m----> 1\u001b[0;31m \u001b[0mtic_tac_toe\u001b[0m\u001b[0;34m(\u001b[0m\u001b[0;34m)\u001b[0m\u001b[0;34m\u001b[0m\u001b[0;34m\u001b[0m\u001b[0m\n\u001b[0m",
            "\u001b[0;32m<ipython-input-62-bf25fa5ba471>\u001b[0m in \u001b[0;36mtic_tac_toe\u001b[0;34m(n)\u001b[0m\n\u001b[1;32m      4\u001b[0m   \u001b[0;32mwhile\u001b[0m \u001b[0mcheck_game_finished\u001b[0m\u001b[0;34m(\u001b[0m\u001b[0mboard\u001b[0m\u001b[0;34m)\u001b[0m \u001b[0;34m==\u001b[0m \u001b[0;34m-\u001b[0m\u001b[0;36m1\u001b[0m\u001b[0;34m:\u001b[0m\u001b[0;34m\u001b[0m\u001b[0;34m\u001b[0m\u001b[0m\n\u001b[1;32m      5\u001b[0m     \u001b[0;32mif\u001b[0m \u001b[0mcurrent_player\u001b[0m\u001b[0;34m:\u001b[0m\u001b[0;34m\u001b[0m\u001b[0;34m\u001b[0m\u001b[0m\n\u001b[0;32m----> 6\u001b[0;31m       \u001b[0mplayer_move\u001b[0m\u001b[0;34m(\u001b[0m\u001b[0mboard\u001b[0m\u001b[0;34m,\u001b[0m \u001b[0;36m1\u001b[0m\u001b[0;34m)\u001b[0m\u001b[0;34m\u001b[0m\u001b[0;34m\u001b[0m\u001b[0m\n\u001b[0m\u001b[1;32m      7\u001b[0m     \u001b[0;32melse\u001b[0m\u001b[0;34m:\u001b[0m\u001b[0;34m\u001b[0m\u001b[0;34m\u001b[0m\u001b[0m\n\u001b[1;32m      8\u001b[0m       \u001b[0mplayer_move\u001b[0m\u001b[0;34m(\u001b[0m\u001b[0mboard\u001b[0m\u001b[0;34m,\u001b[0m \u001b[0;36m2\u001b[0m\u001b[0;34m)\u001b[0m\u001b[0;34m\u001b[0m\u001b[0;34m\u001b[0m\u001b[0m\n",
            "\u001b[0;32m<ipython-input-60-6b90710794e3>\u001b[0m in \u001b[0;36mplayer_move\u001b[0;34m(board, player)\u001b[0m\n\u001b[1;32m      4\u001b[0m     \u001b[0mdraw_game_board\u001b[0m\u001b[0;34m(\u001b[0m\u001b[0mboard\u001b[0m\u001b[0;34m)\u001b[0m\u001b[0;34m\u001b[0m\u001b[0;34m\u001b[0m\u001b[0m\n\u001b[1;32m      5\u001b[0m     \u001b[0mlocation\u001b[0m \u001b[0;34m=\u001b[0m \u001b[0minput\u001b[0m\u001b[0;34m(\u001b[0m\u001b[0;34m\"Place \"\u001b[0m \u001b[0;34m+\u001b[0m \u001b[0mplayers\u001b[0m\u001b[0;34m[\u001b[0m\u001b[0mplayer\u001b[0m\u001b[0;34m]\u001b[0m \u001b[0;34m+\u001b[0m \u001b[0;34m\" at: \"\u001b[0m\u001b[0;34m)\u001b[0m\u001b[0;34m.\u001b[0m\u001b[0mupper\u001b[0m\u001b[0;34m(\u001b[0m\u001b[0;34m)\u001b[0m\u001b[0;34m\u001b[0m\u001b[0;34m\u001b[0m\u001b[0m\n\u001b[0;32m----> 6\u001b[0;31m     \u001b[0;32mif\u001b[0m \u001b[0mlocation\u001b[0m\u001b[0;34m[\u001b[0m\u001b[0;36m0\u001b[0m\u001b[0;34m]\u001b[0m \u001b[0;32min\u001b[0m \u001b[0malphabet\u001b[0m \u001b[0;32mand\u001b[0m \u001b[0malphabet\u001b[0m\u001b[0;34m.\u001b[0m\u001b[0mfind\u001b[0m\u001b[0;34m(\u001b[0m\u001b[0mlocation\u001b[0m\u001b[0;34m[\u001b[0m\u001b[0;36m0\u001b[0m\u001b[0;34m]\u001b[0m\u001b[0;34m)\u001b[0m \u001b[0;34m<\u001b[0m \u001b[0mlen\u001b[0m\u001b[0;34m(\u001b[0m\u001b[0mboard\u001b[0m\u001b[0;34m)\u001b[0m \u001b[0;32mand\u001b[0m \u001b[0mlocation\u001b[0m\u001b[0;34m[\u001b[0m\u001b[0;36m1\u001b[0m\u001b[0;34m:\u001b[0m\u001b[0;34m]\u001b[0m\u001b[0;34m.\u001b[0m\u001b[0misnumeric\u001b[0m\u001b[0;34m(\u001b[0m\u001b[0;34m)\u001b[0m \u001b[0;32mand\u001b[0m \u001b[0;36m0\u001b[0m \u001b[0;34m<\u001b[0m \u001b[0mint\u001b[0m\u001b[0;34m(\u001b[0m\u001b[0mlocation\u001b[0m\u001b[0;34m[\u001b[0m\u001b[0;36m1\u001b[0m\u001b[0;34m:\u001b[0m\u001b[0;34m]\u001b[0m\u001b[0;34m)\u001b[0m \u001b[0;34m<=\u001b[0m \u001b[0mlen\u001b[0m\u001b[0;34m(\u001b[0m\u001b[0mboard\u001b[0m\u001b[0;34m)\u001b[0m \u001b[0;34m<=\u001b[0m \u001b[0;36m26\u001b[0m\u001b[0;34m:\u001b[0m\u001b[0;34m\u001b[0m\u001b[0;34m\u001b[0m\u001b[0m\n\u001b[0m\u001b[1;32m      7\u001b[0m       \u001b[0;32mbreak\u001b[0m\u001b[0;34m\u001b[0m\u001b[0;34m\u001b[0m\u001b[0m\n\u001b[1;32m      8\u001b[0m     \u001b[0;32melse\u001b[0m\u001b[0;34m:\u001b[0m\u001b[0;34m\u001b[0m\u001b[0;34m\u001b[0m\u001b[0m\n",
            "\u001b[0;31mIndexError\u001b[0m: string index out of range"
          ]
        }
      ]
    },
    {
      "cell_type": "markdown",
      "metadata": {
        "deletable": true,
        "editable": true,
        "id": "_ecYRctEl6y3",
        "colab_type": "text"
      },
      "source": [
        "*Exercise 10:* Test that your game works for 5x5 Tic Tac Toe.  "
      ]
    },
    {
      "cell_type": "code",
      "metadata": {
        "deletable": true,
        "editable": true,
        "id": "SOV5nKS4l6y5",
        "colab_type": "code",
        "colab": {}
      },
      "source": [
        "# Test your solution here\n",
        "tic_tac_toe(5)"
      ],
      "execution_count": 0,
      "outputs": []
    },
    {
      "cell_type": "markdown",
      "metadata": {
        "deletable": true,
        "editable": true,
        "id": "6W-bTUC9l6y8",
        "colab_type": "text"
      },
      "source": [
        "*Exercise 11: (Extra Credit)* Develop a version of the game where one player is the computer. Note that you don't need to do an extensive seach for the best move. You can have the computer simply protect against loosing and otherwise try to win with straight or diagonal patterns."
      ]
    },
    {
      "cell_type": "code",
      "metadata": {
        "deletable": true,
        "editable": true,
        "id": "TRfUlsytl6y-",
        "colab_type": "code",
        "colab": {}
      },
      "source": [
        "# Write you solution here\n",
        "\n",
        "\n",
        "def tic_tac_toe(n=3):\n",
        "  board = make_game_board(n)\n",
        "  current_player = True\n",
        "  while check_game_finished(board) == -1:\n",
        "    if current_player:\n",
        "      player_move(board, 1)\n",
        "    else:\n",
        "      player_move(board, 2)\n",
        "    current_player = not current_player\n",
        "  result = check_game_finished(board)\n",
        "  draw_game_board(board)\n",
        "  print(\"It's a draw!\" if result == 0 else (\"Player 1 wins!\" if result == 1 else \"Player 2 wins!\"))"
      ],
      "execution_count": 0,
      "outputs": []
    },
    {
      "cell_type": "code",
      "metadata": {
        "deletable": true,
        "editable": true,
        "id": "EdxBYXsLl6zD",
        "colab_type": "code",
        "colab": {}
      },
      "source": [
        "# Test your solution here"
      ],
      "execution_count": 0,
      "outputs": []
    }
  ]
}