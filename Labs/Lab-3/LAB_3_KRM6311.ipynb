{
  "nbformat": 4,
  "nbformat_minor": 0,
  "metadata": {
    "kernelspec": {
      "name": "python3",
      "display_name": "Python 3"
    },
    "colab": {
      "name": "Lab_3_KRM6311",
      "provenance": [],
      "collapsed_sections": [],
      "toc_visible": true
    }
  },
  "cells": [
    {
      "cell_type": "code",
      "metadata": {
        "id": "hwvQgVoYzkto",
        "colab_type": "code",
        "outputId": "86aaeb4e-b63c-464d-a9e5-fba0ce5c13ad",
        "colab": {
          "base_uri": "https://localhost:8080/",
          "height": 34
        }
      },
      "source": [
        "!git pull"
      ],
      "execution_count": 0,
      "outputs": [
        {
          "output_type": "stream",
          "text": [
            "fatal: not a git repository (or any of the parent directories): .git\n"
          ],
          "name": "stdout"
        }
      ]
    },
    {
      "cell_type": "code",
      "metadata": {
        "id": "62qTO_H51wwY",
        "colab_type": "code",
        "outputId": "b09c1e09-f1d6-4bf5-fa24-387ba424b9ff",
        "colab": {
          "base_uri": "https://localhost:8080/",
          "height": 34
        }
      },
      "source": [
        "%pwd"
      ],
      "execution_count": 0,
      "outputs": [
        {
          "output_type": "execute_result",
          "data": {
            "text/plain": [
              "'/content'"
            ]
          },
          "metadata": {
            "tags": []
          },
          "execution_count": 5
        }
      ]
    },
    {
      "cell_type": "code",
      "metadata": {
        "id": "3fmuWPW-1050",
        "colab_type": "code",
        "outputId": "145fefc4-c4e1-4ec7-ab82-895053bba40f",
        "colab": {
          "base_uri": "https://localhost:8080/",
          "height": 129
        }
      },
      "source": [
        "from google.colab import drive\n",
        "drive.mount('/content/drive')"
      ],
      "execution_count": 0,
      "outputs": [
        {
          "output_type": "stream",
          "text": [
            "Go to this URL in a browser: https://accounts.google.com/o/oauth2/auth?client_id=947318989803-6bn6qk8qdgf4n4g3pfee6491hc0brc4i.apps.googleusercontent.com&redirect_uri=urn%3aietf%3awg%3aoauth%3a2.0%3aoob&response_type=code&scope=email%20https%3a%2f%2fwww.googleapis.com%2fauth%2fdocs.test%20https%3a%2f%2fwww.googleapis.com%2fauth%2fdrive%20https%3a%2f%2fwww.googleapis.com%2fauth%2fdrive.photos.readonly%20https%3a%2f%2fwww.googleapis.com%2fauth%2fpeopleapi.readonly\n",
            "\n",
            "Enter your authorization code:\n",
            "··········\n",
            "Mounted at /content/drive\n"
          ],
          "name": "stdout"
        }
      ]
    },
    {
      "cell_type": "markdown",
      "metadata": {
        "id": "wbdYKgdRzeWz",
        "colab_type": "text"
      },
      "source": [
        "*Exercise 1:* Write a function that creates an n by n matrix (of list of lists) which will represent the state of a Tie Tac Toe game. Let 0, 1, and 2 represent empty, \"X\", or \"O\".\n"
      ]
    },
    {
      "cell_type": "code",
      "metadata": {
        "deletable": true,
        "editable": true,
        "id": "voLkLkc8zeW9",
        "colab_type": "code",
        "colab": {}
      },
      "source": [
        "def gameMake(n):\n",
        "  out = [[' ' for x in range(n)] for x in range(n)]\n",
        "  return out\n",
        "\n",
        "def printGame(game):\n",
        "  length = len(game)\n",
        "  for i in range(length):\n",
        "    print(\"\\n --- --- ---\")\n",
        "    print(\"|\",end=' ')\n",
        "    for j in range(length):\n",
        "      print(\"%s |\" %(game[i][j]),end = ' '),\n",
        "    #print(\"\\n --- --- ---\")\n",
        "  \n"
      ],
      "execution_count": 0,
      "outputs": []
    },
    {
      "cell_type": "code",
      "metadata": {
        "deletable": true,
        "editable": true,
        "id": "MG5E8HaDzeXU",
        "colab_type": "code",
        "outputId": "ede4ddac-8687-499a-8a79-77b007141d8c",
        "colab": {
          "base_uri": "https://localhost:8080/",
          "height": 136
        }
      },
      "source": [
        "new = gameMake(3)\n",
        "printGame(new)"
      ],
      "execution_count": 0,
      "outputs": [
        {
          "output_type": "stream",
          "text": [
            "\n",
            " --- --- ---\n",
            "|   |   |   | \n",
            " --- --- ---\n",
            "|   |   |   | \n",
            " --- --- ---\n",
            "|   |   |   | "
          ],
          "name": "stdout"
        }
      ]
    },
    {
      "cell_type": "markdown",
      "metadata": {
        "deletable": true,
        "editable": true,
        "id": "ZAQkc9bgzeXk",
        "colab_type": "text"
      },
      "source": [
        "*Exercise 2:* Write a function that takes a `n` by `n` matrix representing a tic-tac-toe game, and returns -1, 0, 1, or 2 indicating the game is incomplete, the game is a draw, player 1 has won, or player 2 has one, respectively. Here are some example inputs you can use to test your code:"
      ]
    },
    {
      "cell_type": "code",
      "metadata": {
        "deletable": true,
        "editable": true,
        "id": "gPxgcoLRzeXo",
        "colab_type": "code",
        "colab": {}
      },
      "source": [
        "winner_is_2 = [[2, 2, 0],\n",
        "\t            [2, 1, 0],\n",
        "\t            [2, 1, 1]]\n",
        "\n",
        "winner_is_1 = [[1, 2, 0],\n",
        "\t            [2, 1, 0],\n",
        "\t            [2, 1, 1]]\n",
        "\n",
        "winner_is_also_1 = [[0, 1, 0],\n",
        "\t                  [2, 1, 0],\n",
        "\t                  [2, 1, 1]]\n",
        "\n",
        "no_winner = [[1, 2, 0],\n",
        "\t           [2, 1, 0],\n",
        "\t           [2, 1, 2]]\n",
        "\n",
        "also_no_winner = [[1, 2, 1],\n",
        "\t\t\t\t\t\t\t\t\t[2, 2, 1],\n",
        "\t\t\t\t\t\t\t\t\t[2, 1, 2]]"
      ],
      "execution_count": 0,
      "outputs": []
    },
    {
      "cell_type": "code",
      "metadata": {
        "deletable": true,
        "editable": true,
        "id": "IrYQvdSPzeX6",
        "colab_type": "code",
        "colab": {}
      },
      "source": [
        "def checkRows(game,player):\n",
        "  length = len(game)\n",
        "  for i in range(length):\n",
        "    winer = True\n",
        "    for j in range(length):\n",
        "      if game[i][j] != player:\n",
        "        winner = False\n",
        "        continue\n",
        "    if winner == True:\n",
        "      return winner \n",
        "  return winner\n",
        "\n",
        "#Check Columns\n",
        "def checkColumns(game,player):\n",
        "  length = len(game)\n",
        "  for i in range(length):\n",
        "    winner = True\n",
        "    for j in range(length):\n",
        "      if game[j][i] != player:\n",
        "        winner = False\n",
        "        continue\n",
        "    if winner == True:\n",
        "      return winner\n",
        "  return winner\n",
        "\n",
        "#Check Diagonals\n",
        "def checkDiagonals(game,player):\n",
        "  length = len(game)\n",
        "  winner = False\n",
        "  if game[0][0] == game[1][1] == game[2][2] and game[0][0] == player:\n",
        "    return True\n",
        "  elif game[2][0] == game[1][1] == game[0][2] and game[2][0] == player:\n",
        "    return True\n",
        "  return winner\n",
        "\n",
        "#Check tie Game\n",
        "def checkTie(game):\n",
        "  length = len(game)\n",
        "  tieGame = True\n",
        "  for i in range(length):\n",
        "    for j in range(length):\n",
        "      if game[i][j] != 0:\n",
        "        tieGame = False\n",
        "        break\n",
        "  return tieGame\n",
        "\n",
        "def checkGame(game):\n",
        "  print(\"___________\")\n",
        "  tieGame = 0\n",
        "  playerWins = 0\n",
        "  length = len(game)\n",
        "  if checkRows(game,1) or checkColumns(game,1) or checkDiagonals(game,1):\n",
        "    #print(checkRows(game,1),checkColumns(game,1),checkDiagonals(game,1))\n",
        "    print(\"Player 1 wins!\")\n",
        "    playerWins = 1\n",
        "  elif checkRows(game,2) or checkColumns(game,2) or checkDiagonals(game,2):\n",
        "    print(\"Player 2 wins!\")\n",
        "    playerWins = 2\n",
        "  elif checkTie(game) == False:\n",
        "    print(\"Tie Game!\")\n",
        "  else:\n",
        "    for i in range(length):\n",
        "      for j in range(length):\n",
        "        if game[i][j] == 0 and playerWins == 0:\n",
        "          print(\"Next Move\")\n",
        "          playerWins = -1\n",
        "          return -1\n",
        "  return playerWins\n",
        "  \n",
        "  \n",
        "\n"
      ],
      "execution_count": 0,
      "outputs": []
    },
    {
      "cell_type": "code",
      "metadata": {
        "deletable": true,
        "editable": true,
        "id": "lr-LbmH4zeYJ",
        "colab_type": "code",
        "outputId": "c165a2c6-3d9d-47ab-b400-6b9215d92be2",
        "colab": {
          "base_uri": "https://localhost:8080/",
          "height": 170
        }
      },
      "source": [
        "checkGame(winner_is_1)\n",
        "checkGame(no_winner)\n",
        "checkGame(winner_is_2)\n",
        "checkGame(also_no_winner)"
      ],
      "execution_count": 0,
      "outputs": [
        {
          "output_type": "stream",
          "text": [
            "___________\n",
            "Player 1 wins!\n",
            "___________\n",
            "Tie Game!\n",
            "___________\n",
            "Player 2 wins!\n",
            "___________\n",
            "Tie Game!\n"
          ],
          "name": "stdout"
        },
        {
          "output_type": "execute_result",
          "data": {
            "text/plain": [
              "0"
            ]
          },
          "metadata": {
            "tags": []
          },
          "execution_count": 11
        }
      ]
    },
    {
      "cell_type": "markdown",
      "metadata": {
        "deletable": true,
        "editable": true,
        "id": "aYa8bFxQzeYX",
        "colab_type": "text"
      },
      "source": [
        "*Exercise 3:* Write a function that takes 2 integers `n` and `m` as input and draws a `n` by `m` game board. For example the following is a 3x3 board:\n",
        "```\n",
        "   --- --- --- \n",
        "  |   |   |   | \n",
        "   --- --- ---  \n",
        "  |   |   |   | \n",
        "   --- --- ---  \n",
        "  |   |   |   | \n",
        "   --- --- --- \n",
        "   ```"
      ]
    },
    {
      "cell_type": "code",
      "metadata": {
        "deletable": true,
        "editable": true,
        "id": "nykrRZ7yzeYb",
        "colab_type": "code",
        "colab": {}
      },
      "source": [
        "#From exercise one, modified.\n",
        "def gameMake(n,m):\n",
        "  out = [[' ' for x in range(n)] for x in range(m)]\n",
        "  return out\n",
        "\n",
        "def printGame(n,m):\n",
        "  game = gameMake(n,m)\n",
        "  length = len(game)\n",
        "  for i in range(length):\n",
        "    print(\"\\n --- --- ---\")\n",
        "    print(\"|\",end=' ')\n",
        "    for j in range(length):\n",
        "      print(\"%s |\" %(game[i][j]),end = ' '),\n",
        "    #print(\"\\n --- --- ---\")\n",
        "  print(\"\\n --- --- ---\")"
      ],
      "execution_count": 0,
      "outputs": []
    },
    {
      "cell_type": "code",
      "metadata": {
        "deletable": true,
        "editable": true,
        "id": "4jgtgmA1zeYm",
        "colab_type": "code",
        "outputId": "a3bc1c82-2c96-4df4-8c18-ef4d1282cc3f",
        "colab": {
          "base_uri": "https://localhost:8080/",
          "height": 153
        }
      },
      "source": [
        "n = 3\n",
        "m = 3\n",
        "printGame(n,m)\n"
      ],
      "execution_count": 0,
      "outputs": [
        {
          "output_type": "stream",
          "text": [
            "\n",
            " --- --- ---\n",
            "|   |   |   | \n",
            " --- --- ---\n",
            "|   |   |   | \n",
            " --- --- ---\n",
            "|   |   |   | \n",
            " --- --- ---\n"
          ],
          "name": "stdout"
        }
      ]
    },
    {
      "cell_type": "markdown",
      "metadata": {
        "deletable": true,
        "editable": true,
        "id": "hJogGSAAzeYx",
        "colab_type": "text"
      },
      "source": [
        "*Exercise 4:* Modify exercise 3, so that it takes a matrix of the form from exercise 2 and draws a tic-tac-tie board with \"X\"s and \"O\"s.  "
      ]
    },
    {
      "cell_type": "code",
      "metadata": {
        "deletable": true,
        "editable": true,
        "id": "rlOlF7luzeY0",
        "colab_type": "code",
        "colab": {}
      },
      "source": [
        "def convertGame(n):\n",
        "  if n == 2:\n",
        "    return 'X'\n",
        "  elif n == 1:\n",
        "    return 'O'\n",
        "  elif n == 0:\n",
        "    return ' '\n",
        "  return ' '\n",
        "#From exercise one, modified.\n",
        "def gameMake(n,m):\n",
        "  out = [[0 for x in range(n)] for x in range(m)]\n",
        "  return out\n",
        "\n",
        "def printGame(game):\n",
        "  #game = gameMake(n,m)\n",
        "  length = len(game)\n",
        "  for i in range(length):\n",
        "    print(\"\\n --- --- ---\")\n",
        "    print(\"|\",end=' ')\n",
        "    for j in range(length):\n",
        "      temp = convertGame(game[i][j])\n",
        "      print(\"%s |\" %(temp),end = ' '),\n",
        "    #print(\"\\n --- --- ---\")\n",
        "  print(\"\\n --- --- ---\")"
      ],
      "execution_count": 0,
      "outputs": []
    },
    {
      "cell_type": "code",
      "metadata": {
        "deletable": true,
        "editable": true,
        "id": "ujMnS5whzeY_",
        "colab_type": "code",
        "outputId": "c2c3eb0c-7bcf-41d6-bcb0-a69e0bf9b406",
        "colab": {
          "base_uri": "https://localhost:8080/",
          "height": 425
        }
      },
      "source": [
        "n = 3\n",
        "m = 3\n",
        "printGame(gameMake(n,m))\n",
        "printGame(winner_is_1)\n",
        "printGame(winner_is_2)\n"
      ],
      "execution_count": 0,
      "outputs": [
        {
          "output_type": "stream",
          "text": [
            "\n",
            " --- --- ---\n",
            "|   |   |   | \n",
            " --- --- ---\n",
            "|   |   |   | \n",
            " --- --- ---\n",
            "|   |   |   | \n",
            " --- --- ---\n",
            "\n",
            " --- --- ---\n",
            "| O | X |   | \n",
            " --- --- ---\n",
            "| X | O |   | \n",
            " --- --- ---\n",
            "| X | O | O | \n",
            " --- --- ---\n",
            "\n",
            " --- --- ---\n",
            "| X | X |   | \n",
            " --- --- ---\n",
            "| X | O |   | \n",
            " --- --- ---\n",
            "| X | O | O | \n",
            " --- --- ---\n"
          ],
          "name": "stdout"
        }
      ]
    },
    {
      "cell_type": "markdown",
      "metadata": {
        "deletable": true,
        "editable": true,
        "id": "8QN_E7BXzeZL",
        "colab_type": "text"
      },
      "source": [
        "*Exercise 5:* Write a function that takes a game board, player number, and `(x,y)` coordinates and places \"X\" or \"O\" in the correct location of the game board. Make sure that you only allow filling previously empty locations. Return `True` or `False` to indicate successful placement of \"X\" or \"O\"."
      ]
    },
    {
      "cell_type": "code",
      "metadata": {
        "deletable": true,
        "editable": true,
        "id": "IjEJKmEbzeZP",
        "colab_type": "code",
        "colab": {}
      },
      "source": [
        "#Checks if input is integer before converting\n",
        "def convertGame(n):\n",
        "  if type(n) == int:\n",
        "    if n == 2:\n",
        "      return 'X'\n",
        "    elif n == 1:\n",
        "      return 'O'\n",
        "    elif n == 0:\n",
        "      return ' '\n",
        "  return n\n",
        "#From exercise one, modified.\n",
        "def gameMake(n,m):\n",
        "  out = [[0 for x in range(n)] for x in range(m)]\n",
        "  return out\n",
        "\n",
        "def printGame(game):\n",
        "  #game = gameMake(n,m)\n",
        "  length = len(game)\n",
        "  for i in range(length):\n",
        "    print(\"\\n --- --- ---\")\n",
        "    print(\"|\",end=' ')\n",
        "    for j in range(length):\n",
        "      temp = convertGame(game[i][j])\n",
        "      print(\"%s |\" %(temp),end = ' '),\n",
        "  print(\"\\n --- --- ---\")\n",
        "\n",
        "# def playerInput(message):\n",
        "  # n = 2\n",
        "  # choice = input(message)\n",
        "  # coor = list(map(int,choice.split()))\n",
        "  # for test in range(n):\n",
        "    # if coor[test] > 2 or coor[test] < 0:\n",
        "      # print(\"Please input valid coordinates\")\n",
        "      # return -1\n",
        "  # #xo = input(\"Player %d\")\n",
        "  # print(coor)\n",
        "  # return coor\n",
        "\n",
        "def checkInput(coor,game):\n",
        "  length = len(game)\n",
        "  coor1 = coor[0]  \n",
        "  coor2 = coor[1]\n",
        "  empty = True\n",
        "  if game[coor1][coor2] != 0:\n",
        "    empty = False\n",
        "    return False\n",
        "  return empty\n",
        "\n",
        "def placeInput(coor,game,player):\n",
        "  out = game\n",
        "  coor1 = coor[0]  \n",
        "  coor2 = coor[1]\n",
        "  if checkInput(coor,out):\n",
        "    out[coor1][coor2] = convertGame(player)\n",
        "    return out\n",
        "  else:\n",
        "    print(\"Space occupied\")\n",
        "    return False"
      ],
      "execution_count": 0,
      "outputs": []
    },
    {
      "cell_type": "code",
      "metadata": {
        "deletable": true,
        "editable": true,
        "id": "N4FkHSwVzeZY",
        "colab_type": "code",
        "outputId": "4da279f8-63b1-4374-c8cb-a38e2b1c7d32",
        "colab": {
          "base_uri": "https://localhost:8080/",
          "height": 323
        }
      },
      "source": [
        "player = 2\n",
        "game = gameMake(3,3)\n",
        "choice = playerInput(\"Enter valid coordinate with a space: \")\n",
        "printGame(game)\n",
        "game2 = placeInput(choice,game,player)\n",
        "printGame(game2)\n",
        "\n"
      ],
      "execution_count": 0,
      "outputs": [
        {
          "output_type": "stream",
          "text": [
            "Enter valid coordinate with a space: 0 2\n",
            "[0, 2]\n",
            "\n",
            " --- --- ---\n",
            "|   |   |   | \n",
            " --- --- ---\n",
            "|   |   |   | \n",
            " --- --- ---\n",
            "|   |   |   | \n",
            " --- --- ---\n",
            "\n",
            " --- --- ---\n",
            "|   |   | X | \n",
            " --- --- ---\n",
            "|   |   |   | \n",
            " --- --- ---\n",
            "|   |   |   | \n",
            " --- --- ---\n"
          ],
          "name": "stdout"
        }
      ]
    },
    {
      "cell_type": "markdown",
      "metadata": {
        "deletable": true,
        "editable": true,
        "id": "GmzjsPwyzeZh",
        "colab_type": "text"
      },
      "source": [
        "*Exercise 6:* Modify Exercise 4 to show column and row labels so that players can specify location using \"A2\" or \"C1\"."
      ]
    },
    {
      "cell_type": "code",
      "metadata": {
        "id": "LwiVXWEjzeZj",
        "colab_type": "code",
        "colab": {}
      },
      "source": [
        "def printGame(game):\n",
        " #game = gameMake(n,m)\n",
        "  length = len(game)\n",
        "  print(\"    A   B   C  \",end = '')\n",
        "  for i in range(length):\n",
        "    print(\"\\n   --- --- ---\\n%d \"%(i),end='')\n",
        "    print(\"|\",end=' ')\n",
        "    for j in range(length):\n",
        "      temp = convertGame(game[i][j])\n",
        "      print(\"%s |\" %(temp),end = ' '),\n",
        "  print(\"\\n   --- --- ---\")\n",
        "\n",
        "def playerInput(message):\n",
        "  choice = input(message).lower()\n",
        "  coor = list(choice)\n",
        "  if ord(coor[0]) > ord('c')  or ord(coor[0]) < ord('a') or ord(coor[1]) > ord('2') or ord(coor[1]) < ord('0'):\n",
        "    print(\"Please input valid coordinates\")\n",
        "    return -1\n",
        "  return coor\n",
        "\n",
        "def toOrd(locale):\n",
        "  out = [0,0]\n",
        "  if locale[0] == 'a':\n",
        "    out[0] = 0\n",
        "  elif locale[0] == 'b':\n",
        "    out[0] = 1\n",
        "  elif locale[0] == 'c':\n",
        "    out[0] = 2\n",
        "  if locale[1] == '0':\n",
        "    out[1] = 0\n",
        "  elif locale[1] == '1':\n",
        "    out[1] = 1\n",
        "  elif locale[1] == '2':\n",
        "    out[1] = 2\n",
        "  return out\n",
        "\n",
        "def checkInput(coor,game):\n",
        "  length = len(game)\n",
        "  ords = list(map(int,toOrd(coor)))\n",
        "  coor1 = ords[0]  \n",
        "  coor2 = ords[1]\n",
        "  empty = True\n",
        "  if game[coor1][coor2] != 0:\n",
        "    empty = False\n",
        "    return False\n",
        "  return empty\n",
        "\n",
        "def convertGame(n):\n",
        "  if type(n) == int:\n",
        "    if n == 2:\n",
        "      return 'X'\n",
        "    elif n == 1:\n",
        "      return 'O'\n",
        "    elif n == 0:\n",
        "      return ' '\n",
        "  return n\n",
        "\n",
        "def placeInput(coor,game,player):\n",
        "  out = game\n",
        "  ords = list(map(int,toOrd(coor)))\n",
        "  coor1 = ords[0]  \n",
        "  coor2 = ords[1]\n",
        "  if checkInput(coor,out):\n",
        "    out[coor1][coor2] = convertGame(player)\n",
        "    return out\n",
        "  else:\n",
        "    print(\"Space occupied\")\n",
        "    return False"
      ],
      "execution_count": 0,
      "outputs": []
    },
    {
      "cell_type": "code",
      "metadata": {
        "deletable": true,
        "editable": true,
        "id": "yZbZzuNUzeZr",
        "colab_type": "code",
        "outputId": "26e3b08d-5351-4314-80d7-9d0df00b7dfb",
        "colab": {
          "base_uri": "https://localhost:8080/",
          "height": 306
        }
      },
      "source": [
        "game = gameMake(3,3)\n",
        "printGame(game)\n",
        "choice = playerInput(\"Enter coordinate for placement: \")\n",
        "game = placeInput(choice,game)\n",
        "printGame(game)"
      ],
      "execution_count": 0,
      "outputs": [
        {
          "output_type": "stream",
          "text": [
            "    A   B   C  \n",
            "   --- --- ---\n",
            "0 |   |   |   | \n",
            "   --- --- ---\n",
            "1 |   |   |   | \n",
            "   --- --- ---\n",
            "2 |   |   |   | \n",
            "   --- --- ---\n",
            "Enter coordinate for placement: A2\n",
            "    A   B   C  \n",
            "   --- --- ---\n",
            "0 |   |   | X | \n",
            "   --- --- ---\n",
            "1 |   |   |   | \n",
            "   --- --- ---\n",
            "2 |   |   |   | \n",
            "   --- --- ---\n"
          ],
          "name": "stdout"
        }
      ]
    },
    {
      "cell_type": "markdown",
      "metadata": {
        "deletable": true,
        "editable": true,
        "id": "U9i--jvDzeZ4",
        "colab_type": "text"
      },
      "source": [
        "*Exercise 7:* Write a function that takes a board, player number, and location specified as in exercise 6 and then calls exercise 5 to correctly modify the board.  "
      ]
    },
    {
      "cell_type": "code",
      "metadata": {
        "deletable": true,
        "editable": true,
        "id": "CM3XLbGTzeaD",
        "colab_type": "code",
        "colab": {}
      },
      "source": [
        "def playerInput(player):\n",
        "  loop = True\n",
        "  while loop:\n",
        "    message = \"Enter coordinate for Player \" + str(player) + \": \"\n",
        "    choice = input(message).lower()\n",
        "    if choice == \"exit\":\n",
        "      print(\"Exiting\")\n",
        "      break\n",
        "    coor = list(choice)\n",
        "    loop = False\n",
        "    if ord(coor[0]) > ord('c')  or ord(coor[0]) < ord('a') or ord(coor[1]) > ord('2') or ord(coor[1]) < ord('0'):\n",
        "      print(\"Error: **Please input valid coordinates**\")\n",
        "      loop = True\n",
        "\n",
        "  return coor\n",
        "\n",
        "def placeInput(coor,game,player):\n",
        "  out = game\n",
        "  ords = list(map(int,toOrd(coor)))\n",
        "  coor1 = ords[0]  \n",
        "  coor2 = ords[1]\n",
        "  if checkInput(coor,out):\n",
        "    out[coor1][coor2] = convertGame(player)\n",
        "    return out\n",
        "  else:\n",
        "    print(\"Space occupied\")\n",
        "    return False"
      ],
      "execution_count": 0,
      "outputs": []
    },
    {
      "cell_type": "code",
      "metadata": {
        "deletable": true,
        "editable": true,
        "id": "YZ7N4svozeaM",
        "colab_type": "code",
        "outputId": "1bf28831-c358-4303-9adf-a0081b8b0552",
        "colab": {
          "base_uri": "https://localhost:8080/",
          "height": 884
        }
      },
      "source": [
        "game = gameMake(3,3)\n",
        "printGame(game)\n",
        "player = 2\n",
        "playerChoice = playerInput(player)\n",
        "game = placeInput(playerChoice,game,player)\n",
        "printGame(game)\n",
        "player = 1\n",
        "playerChoice = playerInput(player)\n",
        "game = placeInput(playerChoice,game,player)\n",
        "printGame(game)\n",
        "exit\n"
      ],
      "execution_count": 0,
      "outputs": [
        {
          "output_type": "stream",
          "text": [
            "    A   B   C  \n",
            "   --- --- ---\n",
            "0 |   |   |   | \n",
            "   --- --- ---\n",
            "1 |   |   |   | \n",
            "   --- --- ---\n",
            "2 |   |   |   | \n",
            "   --- --- ---\n",
            "Enter coordinate for Player 2: F3\n",
            "Error: **Please input valid coordinates**\n",
            "Enter coordinate for Player 2: C2\n",
            "    A   B   C  \n",
            "   --- --- ---\n",
            "0 |   |   |   | \n",
            "   --- --- ---\n",
            "1 |   |   |   | \n",
            "   --- --- ---\n",
            "2 |   |   | X | \n",
            "   --- --- ---\n",
            "Enter coordinate for Player 1: exit\n",
            "Error: **Please input valid coordinates**\n"
          ],
          "name": "stdout"
        },
        {
          "output_type": "error",
          "ename": "KeyboardInterrupt",
          "evalue": "ignored",
          "traceback": [
            "\u001b[0;31m---------------------------------------------------------------------------\u001b[0m",
            "\u001b[0;31mKeyboardInterrupt\u001b[0m                         Traceback (most recent call last)",
            "\u001b[0;32m/usr/local/lib/python3.6/dist-packages/ipykernel/kernelbase.py\u001b[0m in \u001b[0;36m_input_request\u001b[0;34m(self, prompt, ident, parent, password)\u001b[0m\n\u001b[1;32m    729\u001b[0m             \u001b[0;32mtry\u001b[0m\u001b[0;34m:\u001b[0m\u001b[0;34m\u001b[0m\u001b[0;34m\u001b[0m\u001b[0m\n\u001b[0;32m--> 730\u001b[0;31m                 \u001b[0mident\u001b[0m\u001b[0;34m,\u001b[0m \u001b[0mreply\u001b[0m \u001b[0;34m=\u001b[0m \u001b[0mself\u001b[0m\u001b[0;34m.\u001b[0m\u001b[0msession\u001b[0m\u001b[0;34m.\u001b[0m\u001b[0mrecv\u001b[0m\u001b[0;34m(\u001b[0m\u001b[0mself\u001b[0m\u001b[0;34m.\u001b[0m\u001b[0mstdin_socket\u001b[0m\u001b[0;34m,\u001b[0m \u001b[0;36m0\u001b[0m\u001b[0;34m)\u001b[0m\u001b[0;34m\u001b[0m\u001b[0;34m\u001b[0m\u001b[0m\n\u001b[0m\u001b[1;32m    731\u001b[0m             \u001b[0;32mexcept\u001b[0m \u001b[0mException\u001b[0m\u001b[0;34m:\u001b[0m\u001b[0;34m\u001b[0m\u001b[0;34m\u001b[0m\u001b[0m\n",
            "\u001b[0;32m/usr/local/lib/python3.6/dist-packages/jupyter_client/session.py\u001b[0m in \u001b[0;36mrecv\u001b[0;34m(self, socket, mode, content, copy)\u001b[0m\n\u001b[1;32m    802\u001b[0m         \u001b[0;32mtry\u001b[0m\u001b[0;34m:\u001b[0m\u001b[0;34m\u001b[0m\u001b[0;34m\u001b[0m\u001b[0m\n\u001b[0;32m--> 803\u001b[0;31m             \u001b[0mmsg_list\u001b[0m \u001b[0;34m=\u001b[0m \u001b[0msocket\u001b[0m\u001b[0;34m.\u001b[0m\u001b[0mrecv_multipart\u001b[0m\u001b[0;34m(\u001b[0m\u001b[0mmode\u001b[0m\u001b[0;34m,\u001b[0m \u001b[0mcopy\u001b[0m\u001b[0;34m=\u001b[0m\u001b[0mcopy\u001b[0m\u001b[0;34m)\u001b[0m\u001b[0;34m\u001b[0m\u001b[0;34m\u001b[0m\u001b[0m\n\u001b[0m\u001b[1;32m    804\u001b[0m         \u001b[0;32mexcept\u001b[0m \u001b[0mzmq\u001b[0m\u001b[0;34m.\u001b[0m\u001b[0mZMQError\u001b[0m \u001b[0;32mas\u001b[0m \u001b[0me\u001b[0m\u001b[0;34m:\u001b[0m\u001b[0;34m\u001b[0m\u001b[0;34m\u001b[0m\u001b[0m\n",
            "\u001b[0;32m/usr/local/lib/python3.6/dist-packages/zmq/sugar/socket.py\u001b[0m in \u001b[0;36mrecv_multipart\u001b[0;34m(self, flags, copy, track)\u001b[0m\n\u001b[1;32m    465\u001b[0m         \"\"\"\n\u001b[0;32m--> 466\u001b[0;31m         \u001b[0mparts\u001b[0m \u001b[0;34m=\u001b[0m \u001b[0;34m[\u001b[0m\u001b[0mself\u001b[0m\u001b[0;34m.\u001b[0m\u001b[0mrecv\u001b[0m\u001b[0;34m(\u001b[0m\u001b[0mflags\u001b[0m\u001b[0;34m,\u001b[0m \u001b[0mcopy\u001b[0m\u001b[0;34m=\u001b[0m\u001b[0mcopy\u001b[0m\u001b[0;34m,\u001b[0m \u001b[0mtrack\u001b[0m\u001b[0;34m=\u001b[0m\u001b[0mtrack\u001b[0m\u001b[0;34m)\u001b[0m\u001b[0;34m]\u001b[0m\u001b[0;34m\u001b[0m\u001b[0;34m\u001b[0m\u001b[0m\n\u001b[0m\u001b[1;32m    467\u001b[0m         \u001b[0;31m# have first part already, only loop while more to receive\u001b[0m\u001b[0;34m\u001b[0m\u001b[0;34m\u001b[0m\u001b[0;34m\u001b[0m\u001b[0m\n",
            "\u001b[0;32mzmq/backend/cython/socket.pyx\u001b[0m in \u001b[0;36mzmq.backend.cython.socket.Socket.recv\u001b[0;34m()\u001b[0m\n",
            "\u001b[0;32mzmq/backend/cython/socket.pyx\u001b[0m in \u001b[0;36mzmq.backend.cython.socket.Socket.recv\u001b[0;34m()\u001b[0m\n",
            "\u001b[0;32mzmq/backend/cython/socket.pyx\u001b[0m in \u001b[0;36mzmq.backend.cython.socket._recv_copy\u001b[0;34m()\u001b[0m\n",
            "\u001b[0;32m/usr/local/lib/python3.6/dist-packages/zmq/backend/cython/checkrc.pxd\u001b[0m in \u001b[0;36mzmq.backend.cython.checkrc._check_rc\u001b[0;34m()\u001b[0m\n",
            "\u001b[0;31mKeyboardInterrupt\u001b[0m: ",
            "\nDuring handling of the above exception, another exception occurred:\n",
            "\u001b[0;31mKeyboardInterrupt\u001b[0m                         Traceback (most recent call last)",
            "\u001b[0;32m<ipython-input-150-ffe065be775e>\u001b[0m in \u001b[0;36m<module>\u001b[0;34m()\u001b[0m\n\u001b[1;32m      6\u001b[0m \u001b[0mprintGame\u001b[0m\u001b[0;34m(\u001b[0m\u001b[0mgame\u001b[0m\u001b[0;34m)\u001b[0m\u001b[0;34m\u001b[0m\u001b[0;34m\u001b[0m\u001b[0m\n\u001b[1;32m      7\u001b[0m \u001b[0mplayer\u001b[0m \u001b[0;34m=\u001b[0m \u001b[0;36m1\u001b[0m\u001b[0;34m\u001b[0m\u001b[0;34m\u001b[0m\u001b[0m\n\u001b[0;32m----> 8\u001b[0;31m \u001b[0mplayerChoice\u001b[0m \u001b[0;34m=\u001b[0m \u001b[0mplayerInput\u001b[0m\u001b[0;34m(\u001b[0m\u001b[0mplayer\u001b[0m\u001b[0;34m)\u001b[0m\u001b[0;34m\u001b[0m\u001b[0;34m\u001b[0m\u001b[0m\n\u001b[0m\u001b[1;32m      9\u001b[0m \u001b[0mgame\u001b[0m \u001b[0;34m=\u001b[0m \u001b[0mplaceInput\u001b[0m\u001b[0;34m(\u001b[0m\u001b[0mplayerChoice\u001b[0m\u001b[0;34m,\u001b[0m\u001b[0mgame\u001b[0m\u001b[0;34m,\u001b[0m\u001b[0mplayer\u001b[0m\u001b[0;34m)\u001b[0m\u001b[0;34m\u001b[0m\u001b[0;34m\u001b[0m\u001b[0m\n\u001b[1;32m     10\u001b[0m \u001b[0mprintGame\u001b[0m\u001b[0;34m(\u001b[0m\u001b[0mgame\u001b[0m\u001b[0;34m)\u001b[0m\u001b[0;34m\u001b[0m\u001b[0;34m\u001b[0m\u001b[0m\n",
            "\u001b[0;32m<ipython-input-149-d314ab05bb25>\u001b[0m in \u001b[0;36mplayerInput\u001b[0;34m(player)\u001b[0m\n\u001b[1;32m      3\u001b[0m   \u001b[0;32mwhile\u001b[0m \u001b[0mloop\u001b[0m\u001b[0;34m:\u001b[0m\u001b[0;34m\u001b[0m\u001b[0;34m\u001b[0m\u001b[0m\n\u001b[1;32m      4\u001b[0m     \u001b[0mmessage\u001b[0m \u001b[0;34m=\u001b[0m \u001b[0;34m\"Enter coordinate for Player \"\u001b[0m \u001b[0;34m+\u001b[0m \u001b[0mstr\u001b[0m\u001b[0;34m(\u001b[0m\u001b[0mplayer\u001b[0m\u001b[0;34m)\u001b[0m \u001b[0;34m+\u001b[0m \u001b[0;34m\": \"\u001b[0m\u001b[0;34m\u001b[0m\u001b[0;34m\u001b[0m\u001b[0m\n\u001b[0;32m----> 5\u001b[0;31m     \u001b[0mchoice\u001b[0m \u001b[0;34m=\u001b[0m \u001b[0minput\u001b[0m\u001b[0;34m(\u001b[0m\u001b[0mmessage\u001b[0m\u001b[0;34m)\u001b[0m\u001b[0;34m.\u001b[0m\u001b[0mlower\u001b[0m\u001b[0;34m(\u001b[0m\u001b[0;34m)\u001b[0m\u001b[0;34m\u001b[0m\u001b[0;34m\u001b[0m\u001b[0m\n\u001b[0m\u001b[1;32m      6\u001b[0m     \u001b[0mcoor\u001b[0m \u001b[0;34m=\u001b[0m \u001b[0mlist\u001b[0m\u001b[0;34m(\u001b[0m\u001b[0mchoice\u001b[0m\u001b[0;34m)\u001b[0m\u001b[0;34m\u001b[0m\u001b[0;34m\u001b[0m\u001b[0m\n\u001b[1;32m      7\u001b[0m     \u001b[0mloop\u001b[0m \u001b[0;34m=\u001b[0m \u001b[0;32mFalse\u001b[0m\u001b[0;34m\u001b[0m\u001b[0;34m\u001b[0m\u001b[0m\n",
            "\u001b[0;32m/usr/local/lib/python3.6/dist-packages/ipykernel/kernelbase.py\u001b[0m in \u001b[0;36mraw_input\u001b[0;34m(self, prompt)\u001b[0m\n\u001b[1;32m    703\u001b[0m             \u001b[0mself\u001b[0m\u001b[0;34m.\u001b[0m\u001b[0m_parent_ident\u001b[0m\u001b[0;34m,\u001b[0m\u001b[0;34m\u001b[0m\u001b[0;34m\u001b[0m\u001b[0m\n\u001b[1;32m    704\u001b[0m             \u001b[0mself\u001b[0m\u001b[0;34m.\u001b[0m\u001b[0m_parent_header\u001b[0m\u001b[0;34m,\u001b[0m\u001b[0;34m\u001b[0m\u001b[0;34m\u001b[0m\u001b[0m\n\u001b[0;32m--> 705\u001b[0;31m             \u001b[0mpassword\u001b[0m\u001b[0;34m=\u001b[0m\u001b[0;32mFalse\u001b[0m\u001b[0;34m,\u001b[0m\u001b[0;34m\u001b[0m\u001b[0;34m\u001b[0m\u001b[0m\n\u001b[0m\u001b[1;32m    706\u001b[0m         )\n\u001b[1;32m    707\u001b[0m \u001b[0;34m\u001b[0m\u001b[0m\n",
            "\u001b[0;32m/usr/local/lib/python3.6/dist-packages/ipykernel/kernelbase.py\u001b[0m in \u001b[0;36m_input_request\u001b[0;34m(self, prompt, ident, parent, password)\u001b[0m\n\u001b[1;32m    733\u001b[0m             \u001b[0;32mexcept\u001b[0m \u001b[0mKeyboardInterrupt\u001b[0m\u001b[0;34m:\u001b[0m\u001b[0;34m\u001b[0m\u001b[0;34m\u001b[0m\u001b[0m\n\u001b[1;32m    734\u001b[0m                 \u001b[0;31m# re-raise KeyboardInterrupt, to truncate traceback\u001b[0m\u001b[0;34m\u001b[0m\u001b[0;34m\u001b[0m\u001b[0;34m\u001b[0m\u001b[0m\n\u001b[0;32m--> 735\u001b[0;31m                 \u001b[0;32mraise\u001b[0m \u001b[0mKeyboardInterrupt\u001b[0m\u001b[0;34m\u001b[0m\u001b[0;34m\u001b[0m\u001b[0m\n\u001b[0m\u001b[1;32m    736\u001b[0m             \u001b[0;32melse\u001b[0m\u001b[0;34m:\u001b[0m\u001b[0;34m\u001b[0m\u001b[0;34m\u001b[0m\u001b[0m\n\u001b[1;32m    737\u001b[0m                 \u001b[0;32mbreak\u001b[0m\u001b[0;34m\u001b[0m\u001b[0;34m\u001b[0m\u001b[0m\n",
            "\u001b[0;31mKeyboardInterrupt\u001b[0m: "
          ]
        }
      ]
    },
    {
      "cell_type": "markdown",
      "metadata": {
        "deletable": true,
        "editable": true,
        "id": "3McC14iuzeaV",
        "colab_type": "text"
      },
      "source": [
        "*Exercise 8:* Write a function is called with a board and player number, takes input from the player using python's `input`, and modifies the board using your function from exercise 7. Note that you should keep asking for input until you have gotten a valid input that results in a valid move."
      ]
    },
    {
      "cell_type": "code",
      "metadata": {
        "deletable": true,
        "editable": true,
        "id": "bNhoceoPzeac",
        "colab_type": "code",
        "colab": {}
      },
      "source": [
        "#Function count: 7\n",
        "def gameMake(n,m):\n",
        "  out = [[0 for x in range(n)] for x in range(m)]\n",
        "  return out\n",
        "\n",
        "def printGame(game):\n",
        " #game = gameMake(n,m)\n",
        "  length = len(game)\n",
        "  print(\"    A   B   C  \",end = '')\n",
        "  for i in range(length):\n",
        "    print(\"\\n   --- --- ---\\n%d \"%(i),end='')\n",
        "    print(\"|\",end=' ')\n",
        "    for j in range(length):\n",
        "      temp = convertGame(game[i][j])\n",
        "      print(\"%s |\" %(temp),end = ' '),\n",
        "  print(\"\\n   --- --- ---\")\n",
        "\n",
        "def convertGame(n):\n",
        "  if type(n) == int:\n",
        "    if n == 2:\n",
        "      return 'X'\n",
        "    elif n == 1:\n",
        "      return 'O'\n",
        "    elif n == 0:\n",
        "      return ' '\n",
        "  return n\n",
        "\n",
        "def toOrd(locale):\n",
        "  out = [0,0]\n",
        "  if locale[0] == 'a':\n",
        "    out[0] = 0\n",
        "  elif locale[0] == 'b':\n",
        "    out[0] = 1\n",
        "  elif locale[0] == 'c':\n",
        "    out[0] = 2\n",
        "  if locale[1] == '0':\n",
        "    out[1] = 0\n",
        "  elif locale[1] == '1':\n",
        "    out[1] = 1\n",
        "  elif locale[1] == '2':\n",
        "    out[1] = 2\n",
        "  return out\n",
        "\n",
        "def checkInput(coor,game):\n",
        "  length = len(game)\n",
        "  ords = list(map(int,toOrd(coor)))\n",
        "  coor1 = ords[0]  \n",
        "  coor2 = ords[1]\n",
        "  empty = True\n",
        "  if game[coor1][coor2] != 0:\n",
        "    empty = False\n",
        "    return False\n",
        "  return empty\n",
        "\n",
        "def playerInput(player):\n",
        "  loop = True\n",
        "  while loop:\n",
        "    message = \"Enter coordinate for Player \" + str(player) + \": \"\n",
        "    choice = input(message).lower()\n",
        "    if choice == \"exit\":\n",
        "      print(\"Exiting\")\n",
        "      quit()\n",
        "      break\n",
        "    coor = list(choice)\n",
        "    loop = False\n",
        "    if ord(coor[0]) > ord('c')  or ord(coor[0]) < ord('a') or ord(coor[1]) > ord('2') or ord(coor[1]) < ord('0'):\n",
        "      print(\"Error: **Please input valid coordinates**\")\n",
        "      loop = True\n",
        "  return coor\n",
        "\n",
        "def placeInput(coor,game,player):\n",
        "  loop = True\n",
        "  while loop:\n",
        "    out = game\n",
        "    ords = list(map(int,toOrd(coor)))\n",
        "    coor1 = ords[0]  \n",
        "    coor2 = ords[1]\n",
        "    if checkInput(coor,out):\n",
        "      out[coor1][coor2] = convertGame(player)\n",
        "      return out\n",
        "    else:\n",
        "      print(\"Space occupied. Try another space.\")\n",
        "  def playTicTacToe(n)\n",
        "    game = gameMake(n,n)\n",
        "    printGame(game)\n",
        "    loop = True\n",
        "    while(true):\n",
        "      playerChoice"
      ],
      "execution_count": 0,
      "outputs": []
    },
    {
      "cell_type": "code",
      "metadata": {
        "deletable": true,
        "editable": true,
        "id": "9QNO29qZzeaj",
        "colab_type": "code",
        "colab": {}
      },
      "source": [
        "game = gameMake(3,3)\n",
        "printGame(game)\n",
        "player = 2\n",
        "playerChoice = playerInput(player)\n",
        "game = placeInput(playerChoice,game,player)\n",
        "printGame(game)\n",
        "player = 1\n",
        "playerChoice = playerInput(player)\n",
        "game = placeInput(playerChoice,game,player)"
      ],
      "execution_count": 0,
      "outputs": []
    },
    {
      "cell_type": "markdown",
      "metadata": {
        "deletable": true,
        "editable": true,
        "id": "cdAEKGJozeat",
        "colab_type": "text"
      },
      "source": [
        "*Exercise 9:* Use all of the previous exercises to implement a full tic-tac-toe game, where an appropriate board is drawn, 2 players are repeatedly asked for a location coordinates of where they wish to place a mark, and the game status is checked until a player wins or a draw occurs."
      ]
    },
    {
      "cell_type": "code",
      "metadata": {
        "deletable": true,
        "editable": true,
        "id": "duQv1vTizea3",
        "colab_type": "code",
        "colab": {}
      },
      "source": [
        "import sys\n",
        "#Function count: 8\n",
        "def gameMake(n,m):\n",
        "  out = [[0 for x in range(n)] for x in range(m)]\n",
        "  return out\n",
        "\n",
        "def printGame(game):\n",
        " #game = gameMake(n,m)\n",
        "  length = len(game)\n",
        "  print(\"    A   B   C  \",end = '')\n",
        "  for i in range(length):\n",
        "    print(\"\\n   --- --- ---\\n%d \"%(i),end='')\n",
        "    print(\"|\",end=' ')\n",
        "    for j in range(length):\n",
        "      temp = convertGame(game[i][j])\n",
        "      print(\"%s |\" %(temp),end = ' '),\n",
        "  print(\"\\n   --- --- ---\")\n",
        "\n",
        "def checkRows(game,player):\n",
        "  length = len(game)\n",
        "  for i in range(length):\n",
        "    winner = True\n",
        "    for j in range(length):\n",
        "      if game[i][j] != player:\n",
        "        winner = False\n",
        "        continue\n",
        "    if winner == True:\n",
        "      return winner \n",
        "  return winner\n",
        "\n",
        "#Check Columns\n",
        "def checkColumns(game,player):\n",
        "  length = len(game)\n",
        "  for i in range(length):\n",
        "    winner = True\n",
        "    for j in range(length):\n",
        "      if game[i][j] != player:\n",
        "        #print(game[i][j])\n",
        "        winner = False\n",
        "        continue\n",
        "    if winner == True:\n",
        "      return winner\n",
        "  return winner\n",
        "\n",
        "#Check Diagonals\n",
        "def checkDiagonals(game,player):\n",
        "  length = len(game)\n",
        "  winner = False\n",
        "  if game[0][0] == game[1][1] == game[2][2] and game[0][0] == player:\n",
        "    return True\n",
        "  elif game[2][0] == game[1][1] == game[0][2] and game[2][0] == player:\n",
        "    return True\n",
        "  return winner\n",
        "\n",
        "#Check tie Game\n",
        "def checkTie(game):\n",
        "  length = len(game)\n",
        "  tieGame = True\n",
        "  for i in range(length):\n",
        "    for j in range(length):\n",
        "      if game[j][i] != 0:\n",
        "        tieGame = False\n",
        "        break\n",
        "  return tieGame\n",
        "\n",
        "def checkGame(game):\n",
        "  tieGame = 0\n",
        "  playerWins = 0\n",
        "  length = len(game)\n",
        "  #print(checkRows(game,1),checkColumns(game,1),checkDiagonals(game,1))\n",
        "  if checkRows(game,1) or checkColumns(game,1) or checkDiagonals(game,1):\n",
        "    #print(checkRows(game,1),checkColumns(game,1),checkDiagonals(game,1))\n",
        "    print(\"Player 1 wins!\")\n",
        "    playerWins = 1 \n",
        "    #1 signifies p1 wins\n",
        "  elif checkRows(game,2) or checkColumns(game,2) or checkDiagonals(game,2):\n",
        "    print(\"Player 2 wins!\")\n",
        "    playerWins = 2\n",
        "    #2 signifies p2 wins\n",
        "  elif checkTie(game) == True:\n",
        "    print(\"Tie Game!\")\n",
        "  else:\n",
        "    for i in range(length):\n",
        "      for j in range(length):\n",
        "        if game[i][j] == 0 and playerWins == 0:\n",
        "          playerWins = -1\n",
        "          return -1\n",
        "  return playerWins\n",
        "\n",
        "def convertGame(n):\n",
        "  if type(n) == int:\n",
        "    if n == 2:\n",
        "      return 'X'\n",
        "    elif n == 1:\n",
        "      return 'O'\n",
        "    elif n == 0:\n",
        "      return ' '\n",
        "  return n\n",
        "\n",
        "def toOrd(locale):\n",
        "  out = [0,0]\n",
        "  if locale[0] == 'a':\n",
        "    out[0] = 0\n",
        "  elif locale[0] == 'b':\n",
        "    out[0] = 1\n",
        "  elif locale[0] == 'c':\n",
        "    out[0] = 2\n",
        "  if locale[1] == '0':\n",
        "    out[1] = 0\n",
        "  elif locale[1] == '1':\n",
        "    out[1] = 1\n",
        "  elif locale[1] == '2':\n",
        "    out[1] = 2\n",
        "  return out[::-1]\n",
        "\n",
        "def checkInput(coor,game):\n",
        "  length = len(game)\n",
        "  ords = list(map(int,toOrd(coor)))\n",
        "  coor1 = ords[0]  \n",
        "  coor2 = ords[1]\n",
        "  empty = True\n",
        "  if game[coor1][coor2] != 0:\n",
        "    empty = False\n",
        "    return False\n",
        "  return empty\n",
        "\n",
        "def playerInput(player):\n",
        "  loop = True\n",
        "  while loop:\n",
        "    message = \"Enter coordinate for Player \" + str(player) + \": \"\n",
        "    choice = input(message).lower()\n",
        "    if choice == \"exit\":\n",
        "      print(\"Exiting\")\n",
        "      sys.exit()\n",
        "    coor = list(choice)\n",
        "    loop = False\n",
        "    if ord(coor[0]) > ord('c')  or ord(coor[0]) < ord('a') or ord(coor[1]) > ord('2') or ord(coor[1]) < ord('0'):\n",
        "      print(\"Error: **Please input valid coordinates**\")\n",
        "      loop = True\n",
        "  return coor\n",
        "\n",
        "def placeInput(coor,game,player):\n",
        "  loop = True\n",
        "  while loop:\n",
        "    out = game\n",
        "    ords = list(map(int,toOrd(coor)))\n",
        "    coor1 = ords[0]  \n",
        "    coor2 = ords[1]\n",
        "    if checkInput(coor,out):\n",
        "      out[coor1][coor2] = player\n",
        "      return out\n",
        "    print(\"Space Occupied... Enter another coordinate.\")\n",
        "    return placeInput(playerInput(player), game, player)\n",
        "\n",
        "    \n",
        "def playTicTacToe(n):\n",
        "  game = gameMake(n,n)\n",
        "  printGame(game)\n",
        "  loop = True\n",
        "  player = 1\n",
        "  while loop:\n",
        "    #print(game)\n",
        "    if checkTie(game):\n",
        "      print(\"Tie game. Ending...\")\n",
        "      loop = False\n",
        "    elif checkGame(game) == 1 or checkGame(game) == 2:\n",
        "      print(\"Game over\")\n",
        "      loop = False\n",
        "    print(\"Next Move\")\n",
        "    playerChoice = playerInput(player)\n",
        "    game = placeInput(playerChoice,game,player)\n",
        "    printGame(game)\n",
        "    if player == 1:\n",
        "      player = 2\n",
        "    elif player == 2:\n",
        "      player = 1\n",
        "    loop = True"
      ],
      "execution_count": 0,
      "outputs": []
    },
    {
      "cell_type": "code",
      "metadata": {
        "deletable": true,
        "editable": true,
        "id": "gnqVXQ8rzea_",
        "colab_type": "code",
        "outputId": "9caeb786-f34b-4e89-dd9f-f7d272b3a886",
        "colab": {
          "base_uri": "https://localhost:8080/",
          "height": 545
        }
      },
      "source": [
        "playTicTacToe(3)\n"
      ],
      "execution_count": 0,
      "outputs": [
        {
          "output_type": "stream",
          "text": [
            "    A   B   C  \n",
            "   --- --- ---\n",
            "0 |   |   |   | \n",
            "   --- --- ---\n",
            "1 |   |   |   | \n",
            "   --- --- ---\n",
            "2 |   |   |   | \n",
            "   --- --- ---\n",
            "Tie game. Ending...\n",
            "Next Move\n",
            "Enter coordinate for Player 1: exit\n",
            "Exiting\n"
          ],
          "name": "stdout"
        },
        {
          "output_type": "error",
          "ename": "NameError",
          "evalue": "ignored",
          "traceback": [
            "\u001b[0;31m---------------------------------------------------------------------------\u001b[0m",
            "\u001b[0;31mNameError\u001b[0m                                 Traceback (most recent call last)",
            "\u001b[0;32m<ipython-input-5-a7b88dd932cd>\u001b[0m in \u001b[0;36m<module>\u001b[0;34m()\u001b[0m\n\u001b[0;32m----> 1\u001b[0;31m \u001b[0mplayTicTacToe\u001b[0m\u001b[0;34m(\u001b[0m\u001b[0;36m3\u001b[0m\u001b[0;34m)\u001b[0m\u001b[0;34m\u001b[0m\u001b[0;34m\u001b[0m\u001b[0m\n\u001b[0m",
            "\u001b[0;32m<ipython-input-4-bae9af36d9ab>\u001b[0m in \u001b[0;36mplayTicTacToe\u001b[0;34m(n)\u001b[0m\n\u001b[1;32m    166\u001b[0m       \u001b[0mloop\u001b[0m \u001b[0;34m=\u001b[0m \u001b[0;32mFalse\u001b[0m\u001b[0;34m\u001b[0m\u001b[0;34m\u001b[0m\u001b[0m\n\u001b[1;32m    167\u001b[0m     \u001b[0mprint\u001b[0m\u001b[0;34m(\u001b[0m\u001b[0;34m\"Next Move\"\u001b[0m\u001b[0;34m)\u001b[0m\u001b[0;34m\u001b[0m\u001b[0;34m\u001b[0m\u001b[0m\n\u001b[0;32m--> 168\u001b[0;31m     \u001b[0mplayerChoice\u001b[0m \u001b[0;34m=\u001b[0m \u001b[0mplayerInput\u001b[0m\u001b[0;34m(\u001b[0m\u001b[0mplayer\u001b[0m\u001b[0;34m)\u001b[0m\u001b[0;34m\u001b[0m\u001b[0;34m\u001b[0m\u001b[0m\n\u001b[0m\u001b[1;32m    169\u001b[0m     \u001b[0mgame\u001b[0m \u001b[0;34m=\u001b[0m \u001b[0mplaceInput\u001b[0m\u001b[0;34m(\u001b[0m\u001b[0mplayerChoice\u001b[0m\u001b[0;34m,\u001b[0m\u001b[0mgame\u001b[0m\u001b[0;34m,\u001b[0m\u001b[0mplayer\u001b[0m\u001b[0;34m)\u001b[0m\u001b[0;34m\u001b[0m\u001b[0;34m\u001b[0m\u001b[0m\n\u001b[1;32m    170\u001b[0m     \u001b[0mprintGame\u001b[0m\u001b[0;34m(\u001b[0m\u001b[0mgame\u001b[0m\u001b[0;34m)\u001b[0m\u001b[0;34m\u001b[0m\u001b[0;34m\u001b[0m\u001b[0m\n",
            "\u001b[0;32m<ipython-input-4-bae9af36d9ab>\u001b[0m in \u001b[0;36mplayerInput\u001b[0;34m(player)\u001b[0m\n\u001b[1;32m    130\u001b[0m     \u001b[0;32mif\u001b[0m \u001b[0mchoice\u001b[0m \u001b[0;34m==\u001b[0m \u001b[0;34m\"exit\"\u001b[0m\u001b[0;34m:\u001b[0m\u001b[0;34m\u001b[0m\u001b[0;34m\u001b[0m\u001b[0m\n\u001b[1;32m    131\u001b[0m       \u001b[0mprint\u001b[0m\u001b[0;34m(\u001b[0m\u001b[0;34m\"Exiting\"\u001b[0m\u001b[0;34m)\u001b[0m\u001b[0;34m\u001b[0m\u001b[0;34m\u001b[0m\u001b[0m\n\u001b[0;32m--> 132\u001b[0;31m       \u001b[0msys\u001b[0m\u001b[0;34m.\u001b[0m\u001b[0mexit\u001b[0m\u001b[0;34m(\u001b[0m\u001b[0;34m)\u001b[0m\u001b[0;34m\u001b[0m\u001b[0;34m\u001b[0m\u001b[0m\n\u001b[0m\u001b[1;32m    133\u001b[0m     \u001b[0mcoor\u001b[0m \u001b[0;34m=\u001b[0m \u001b[0mlist\u001b[0m\u001b[0;34m(\u001b[0m\u001b[0mchoice\u001b[0m\u001b[0;34m)\u001b[0m\u001b[0;34m\u001b[0m\u001b[0;34m\u001b[0m\u001b[0m\n\u001b[1;32m    134\u001b[0m     \u001b[0mloop\u001b[0m \u001b[0;34m=\u001b[0m \u001b[0;32mFalse\u001b[0m\u001b[0;34m\u001b[0m\u001b[0;34m\u001b[0m\u001b[0m\n",
            "\u001b[0;31mNameError\u001b[0m: name 'sys' is not defined"
          ]
        }
      ]
    },
    {
      "cell_type": "markdown",
      "metadata": {
        "deletable": true,
        "editable": true,
        "id": "YJxMrVAQzebN",
        "colab_type": "text"
      },
      "source": [
        "*Exercise 10:* Test that your game works for 5x5 Tic Tac Toe.  "
      ]
    },
    {
      "cell_type": "code",
      "metadata": {
        "deletable": true,
        "editable": true,
        "id": "-devgkt7zebQ",
        "colab_type": "code",
        "colab": {}
      },
      "source": [
        "# Test your solution here"
      ],
      "execution_count": 0,
      "outputs": []
    },
    {
      "cell_type": "markdown",
      "metadata": {
        "deletable": true,
        "editable": true,
        "id": "Pg3qN4t0zebc",
        "colab_type": "text"
      },
      "source": [
        "*Exercise 11: (Extra Credit)* Develop a version of the game where one player is the computer. Note that you don't need to do an extensive seach for the best move. You can have the computer simply protect against loosing and otherwise try to win with straight or diagonal patterns."
      ]
    },
    {
      "cell_type": "code",
      "metadata": {
        "deletable": true,
        "editable": true,
        "id": "cOjMjiL1zebe",
        "colab_type": "code",
        "colab": {}
      },
      "source": [
        "# Write you solution here"
      ],
      "execution_count": 0,
      "outputs": []
    },
    {
      "cell_type": "code",
      "metadata": {
        "deletable": true,
        "editable": true,
        "id": "AtOknUJ6zeb0",
        "colab_type": "code",
        "colab": {}
      },
      "source": [
        "# Test your solution here"
      ],
      "execution_count": 0,
      "outputs": []
    }
  ]
}