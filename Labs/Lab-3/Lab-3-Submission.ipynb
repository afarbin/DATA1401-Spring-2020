{
 "cells": [
  {
   "cell_type": "markdown",
   "metadata": {
    "colab_type": "text",
    "id": "ma6clCnfJ4Dj"
   },
   "source": [
    "# Lab 3- Tic Tac Toe\n",
    "\n",
    "[![Open In Colab](https://colab.research.google.com/assets/colab-badge.svg)](https://colab.research.google.com/github//afarbin/DATA1401-Spring-2020/blob/master/Labs/Lab-3/Lab-3.ipynb)\n",
    "\n",
    "In this lab your will build a n x n Tic Tac Toe game. As you do the exercises, make sure your solutions work for any size Tic Tac Toe game. "
   ]
  },
  {
   "cell_type": "markdown",
   "metadata": {
    "colab_type": "text",
    "id": "Uhe_Vb2SJ4Dr"
   },
   "source": [
    "*Exercise 1:* Write a function that creates an n by n matrix (of list of lists) which will represent the state of a Tie Tac Toe game. Let 0, 1, and 2 represent empty, \"X\", or \"O\".\n"
   ]
  },
  {
   "cell_type": "code",
   "execution_count": 391,
   "metadata": {
    "colab": {},
    "colab_type": "code",
    "id": "eDNc3n1UJ4Dv"
   },
   "outputs": [
    {
     "name": "stdout",
     "output_type": "stream",
     "text": [
      "Enter the size of the board\n",
      "5\n"
     ]
    },
    {
     "data": {
      "text/plain": [
       "[[0, 0, 0, 0, 0],\n",
       " [0, 0, 0, 0, 0],\n",
       " [0, 0, 0, 0, 0],\n",
       " [0, 0, 0, 0, 0],\n",
       " [0, 0, 0, 0, 0]]"
      ]
     },
     "execution_count": 391,
     "metadata": {},
     "output_type": "execute_result"
    }
   ],
   "source": [
    "# Write you solution here\n",
    "player_1 = 1\n",
    "player_2 = 2\n",
    "empty = 0\n",
    "player_1_piece=\"X\"\n",
    "player_2_piece=\"O\"\n",
    "empty_space=\" \"\n",
    "print(\"Enter the size of the board\")\n",
    "size = int(input())\n",
    "def tic_tac_toe_board(size):\n",
    "    board = [[empty]*size for i in range(size)]\n",
    "    return board\n",
    "tic_tac_toe_board(size)"
   ]
  },
  {
   "cell_type": "code",
   "execution_count": 392,
   "metadata": {},
   "outputs": [
    {
     "data": {
      "text/plain": [
       "[[0, 0, 0, 0, 0],\n",
       " [0, 0, 0, 0, 0],\n",
       " [0, 0, 0, 0, 0],\n",
       " [0, 0, 0, 0, 0],\n",
       " [0, 0, 0, 0, 0]]"
      ]
     },
     "execution_count": 392,
     "metadata": {},
     "output_type": "execute_result"
    }
   ],
   "source": [
    "# Test your solution here\n",
    "#tic_tac_toe_board(3)\n",
    "#tic_tac_toe_board(4)\n",
    "gboard=tic_tac_toe_board(5)\n",
    "#print(tic_tac_toe_board(6))\n",
    "gboard"
   ]
  },
  {
   "cell_type": "markdown",
   "metadata": {
    "colab_type": "text",
    "id": "T4kfpTb4J4EJ"
   },
   "source": [
    "*Exercise 2:* Write a function that takes a `n` by `n` matrix representing a tic-tac-toe game, and returns -1, 0, 1, or 2 indicating the game is incomplete, the game is a draw, player 1 has won, or player 2 has one, respectively. Here are some example inputs you can use to test your code:"
   ]
  },
  {
   "cell_type": "code",
   "execution_count": 393,
   "metadata": {
    "colab": {},
    "colab_type": "code",
    "id": "mcpYwoPsJ4EM"
   },
   "outputs": [],
   "source": [
    "# Write you solution here\n",
    "import numpy as np\n",
    "\n",
    "def checkRows(board):\n",
    "    for row in board:\n",
    "        if len(set(row)) == 1:\n",
    "            return row[0]\n",
    "    return 0\n",
    "\n",
    "def checkDiagonals(board):\n",
    "    if len(set([board[i][i] for i in range(len(board))])) == 1:\n",
    "        return board[0][0]\n",
    "    if len(set([board[i][len(board)-i-1] for i in range(len(board))])) == 1:\n",
    "        return board[0][len(board)-1]\n",
    "    return 0\n",
    "\n",
    "def checkIsWin(board):\n",
    "    #transposition to check rows, then columns\n",
    "    for newBoard in [board, np.transpose(board)]:\n",
    "        result = checkRows(newBoard)\n",
    "        if result:\n",
    "            return result\n",
    "    return checkDiagonals(board)\n"
   ]
  },
  {
   "cell_type": "code",
   "execution_count": 394,
   "metadata": {
    "colab": {},
    "colab_type": "code",
    "id": "ofKfwqunJ4EV"
   },
   "outputs": [
    {
     "name": "stdout",
     "output_type": "stream",
     "text": [
      "1\n",
      "1\n",
      "2\n",
      "0\n",
      "0\n",
      "1\n"
     ]
    }
   ],
   "source": [
    "# Test your solution here\n",
    "\n",
    "winner_is_2 =[[2, 2, 0,0],\n",
    "              [2, 1, 0,1],\n",
    "              [2, 1, 1,2],\n",
    "              [2, 1, 1,0]]\n",
    "\n",
    "winner_is_1 =[[1, 2, 0],\n",
    "             [2, 1, 0],\n",
    "             [2, 1, 1]]\n",
    "\n",
    "winner_is_also_1 =[[0, 1, 0],\n",
    "                   [2, 1, 0],\n",
    "                   [2, 1, 1]]\n",
    "\n",
    "no_winner =[[1, 2, 0],\n",
    "            [2, 1, 0],\n",
    "            [2, 1, 2]]\n",
    "\n",
    "also_no_winner =[[1, 2, 0],\n",
    "                 [2, 1, 0],\n",
    "                 [2, 1, 0]]\n",
    "\n",
    "board_5X5 =[[1, 2, 0,0,1],\n",
    "           [0, 1, 0,1,2],\n",
    "           [2, 1, 1,2,0],\n",
    "           [2, 1, 1,1,2],\n",
    "           [2, 1, 1,0,1]]\n",
    "\n",
    "print(checkIsWin(winner_is_1))\n",
    "print(checkIsWin(winner_is_also_1))\n",
    "print(checkIsWin(winner_is_2))\n",
    "print(checkIsWin(no_winner))\n",
    "print(checkIsWin(also_no_winner))\n",
    "print(checkIsWin(board_5X5))\n"
   ]
  },
  {
   "cell_type": "markdown",
   "metadata": {
    "colab_type": "text",
    "id": "UK3wvAPLJ4El"
   },
   "source": [
    "*Exercise 3:* Write a function that takes 2 integers `n` and `m` as input and draws a `n` by `m` game board. For example the following is a 3x3 board:\n",
    "```\n",
    "   --- --- --- \n",
    "  |   |   |   | \n",
    "   --- --- ---  \n",
    "  |   |   |   | \n",
    "   --- --- ---  \n",
    "  |   |   |   | \n",
    "   --- --- --- \n",
    "   ```"
   ]
  },
  {
   "cell_type": "code",
   "execution_count": 395,
   "metadata": {
    "colab": {},
    "colab_type": "code",
    "id": "j8Z21YiQJ4Eo"
   },
   "outputs": [
    {
     "name": "stdout",
     "output_type": "stream",
     "text": [
      " ---  ---  ---  ---  --- \n",
      "|    |    |    |    |    |    \n",
      " ---  ---  ---  ---  --- \n",
      "|    |    |    |    |    |    \n",
      " ---  ---  ---  ---  --- \n",
      "|    |    |    |    |    |    \n",
      " ---  ---  ---  ---  --- \n",
      "|    |    |    |    |    |    \n",
      " ---  ---  ---  ---  --- \n",
      "|    |    |    |    |    |    \n",
      " ---  ---  ---  ---  --- \n"
     ]
    }
   ],
   "source": [
    "# Write you solution here\n",
    "def draw_game_board(size): \n",
    "    i = 0\n",
    "    h = \" --- \"\n",
    "    v = \"|    \"\n",
    "    h = h * size\n",
    "    v = v * (size+1)\n",
    "    while i < size+1:\n",
    "        print (h)\n",
    "        if not (i == size):\n",
    "            print (v)\n",
    "        i += 1\n",
    "board=draw_game_board(size)\n"
   ]
  },
  {
   "cell_type": "code",
   "execution_count": 396,
   "metadata": {
    "colab": {},
    "colab_type": "code",
    "id": "mC2qENzHJ4Ex"
   },
   "outputs": [
    {
     "name": "stdout",
     "output_type": "stream",
     "text": [
      " ---  ---  ---  ---  ---  --- \n",
      "|    |    |    |    |    |    |    \n",
      " ---  ---  ---  ---  ---  --- \n",
      "|    |    |    |    |    |    |    \n",
      " ---  ---  ---  ---  ---  --- \n",
      "|    |    |    |    |    |    |    \n",
      " ---  ---  ---  ---  ---  --- \n",
      "|    |    |    |    |    |    |    \n",
      " ---  ---  ---  ---  ---  --- \n",
      "|    |    |    |    |    |    |    \n",
      " ---  ---  ---  ---  ---  --- \n",
      "|    |    |    |    |    |    |    \n",
      " ---  ---  ---  ---  ---  --- \n"
     ]
    }
   ],
   "source": [
    "# Test your solution here\n",
    "#draw_game_board(3)\n",
    "#draw_game_board(4)\n",
    "draw_game_board(6)"
   ]
  },
  {
   "cell_type": "markdown",
   "metadata": {
    "colab_type": "text",
    "id": "NE16SLTUJ4E5"
   },
   "source": [
    "*Exercise 4:* Modify exercise 3, so that it takes a matrix of the form from exercise 2 and draws a tic-tac-tie board with \"X\"s and \"O\"s.  "
   ]
  },
  {
   "cell_type": "code",
   "execution_count": 397,
   "metadata": {},
   "outputs": [],
   "source": [
    "# Write you solution here\n",
    "\n",
    "def Tic_Tac_Toe_board(board):\n",
    "    for i in range(len(board)):\n",
    "        for j in range(len(board[i])):\n",
    "            if board[i][j] == 1:\n",
    "                board[i][j]=player_1_piece\n",
    "            elif board[i][j] == 2:\n",
    "                board[i][j]=player_2_piece\n",
    "            else:\n",
    "                board[i][j]=empty_space\n",
    "    \n",
    "    for row in board:\n",
    "        print(''.join([f\"| {element} \" for element in row]))\n",
    "        \n",
    "            "
   ]
  },
  {
   "cell_type": "code",
   "execution_count": 398,
   "metadata": {},
   "outputs": [
    {
     "name": "stdout",
     "output_type": "stream",
     "text": [
      "| X | O |   |   | X \n",
      "|   | X |   | X | O \n",
      "| O | X | X | O |   \n",
      "| O | X | X | X | O \n",
      "| O | X | X |   | X \n"
     ]
    }
   ],
   "source": [
    "# Test your solution here\n",
    "\n",
    "Tic_Tac_Toe_board(board_5X5) "
   ]
  },
  {
   "cell_type": "markdown",
   "metadata": {
    "colab_type": "text",
    "id": "WbXLA9fAJ4FL"
   },
   "source": [
    "*Exercise 5:* Write a function that takes a game board, player number, and `(x,y)` coordinates and places \"X\" or \"O\" in the correct location of the game board. Make sure that you only allow filling previously empty locations. Return `True` or `False` to indicate successful placement of \"X\" or \"O\"."
   ]
  },
  {
   "cell_type": "code",
   "execution_count": 399,
   "metadata": {
    "colab": {},
    "colab_type": "code",
    "id": "hHLW_m__J4FO"
   },
   "outputs": [],
   "source": [
    "# Write you solution here\n",
    "\n",
    "def place_piece(board,player,coordinate,verbose=True):\n",
    "    x,y = coordinate\n",
    "    \n",
    "    # Check if player's piece is at location\n",
    "    if not board[x][y]==player:\n",
    "        print(f\"player does not have piece at {coordinate}\", \"location.\",verbose)\n",
    "        #return False\n",
    "        if board[x][y]==empty:\n",
    "            board[x][y]=player\n",
    "            print(f\"Successfully Placed Player {player}!\",verbose)\n",
    "            return True\n",
    "        if not board[x][y]==empty:\n",
    "            print(\"Move not possible coz the place is already occupied other by player\")\n",
    "            return False\n",
    "    else:\n",
    "        print(f\"Move not possible coz the place is already occupied by player {player}\")\n",
    "        return False\n"
   ]
  },
  {
   "cell_type": "code",
   "execution_count": 415,
   "metadata": {},
   "outputs": [
    {
     "name": "stdout",
     "output_type": "stream",
     "text": [
      "player does not have piece at (0, 2) location. True\n",
      "Successfully Placed Player 1! True\n"
     ]
    },
    {
     "data": {
      "text/plain": [
       "[[1, 2, 1, 0, 1],\n",
       " [0, 1, 0, 1, 2],\n",
       " [2, 1, 1, 2, 0],\n",
       " [2, 1, 1, 1, 2],\n",
       " [2, 1, 1, 0, 1]]"
      ]
     },
     "execution_count": 415,
     "metadata": {},
     "output_type": "execute_result"
    }
   ],
   "source": [
    "# Test your solution here\n",
    "board_5X5 =[[1, 2, 0,0,1],\n",
    "           [0, 1, 0,1,2],\n",
    "           [2, 1, 1,2,0],\n",
    "           [2, 1, 1,1,2],\n",
    "           [2, 1, 1,0,1]]\n",
    "\n",
    "place_piece(board_5X5,player_1,(0,2))\n",
    "gameboard"
   ]
  },
  {
   "cell_type": "markdown",
   "metadata": {
    "colab_type": "text",
    "id": "nU8pP2PCJ4Fb"
   },
   "source": [
    "*Exercise 6:* Modify Exercise 4 to show column and row labels so that players can specify location using \"A2\" or \"C1\"."
   ]
  },
  {
   "cell_type": "code",
   "execution_count": 401,
   "metadata": {
    "colab": {},
    "colab_type": "code",
    "id": "ZsieEzORJ4Fd"
   },
   "outputs": [],
   "source": [
    "# Write you solution here\n",
    "\n",
    "def draw_nice_board(board):\n",
    "    row_names=list(\"ABCDEFGHIJKLMNOPQRSTUVWXYZ\")\n",
    "    row_map=dict(zip(row_names,range(len(board))))\n",
    "    column_names=list(map(str,range(1,len(board)+1)))\n",
    "    column_map=dict(zip(column_names,range(len(board))))\n",
    "\n",
    "    space_character= { player_1: player_1_piece,\n",
    "                    player_2: player_2_piece,\n",
    "                    empty: empty_space }\n",
    "    \n",
    "    print(\" \",end=\"  \")\n",
    "    for j in range(len(board)):\n",
    "        print(column_names[j],end=\"  \")\n",
    "    print()\n",
    "    for i in range(len(board)):\n",
    "        print(row_names[i],end=\"  \")\n",
    "        for j in range(len(board)):\n",
    "            print(space_character[board[i][j]],end=\"  \")\n",
    "        print()"
   ]
  },
  {
   "cell_type": "code",
   "execution_count": 403,
   "metadata": {},
   "outputs": [
    {
     "name": "stdout",
     "output_type": "stream",
     "text": [
      "   1  2  3  4  5  \n",
      "A  X  O        X  \n",
      "B     X     X  O  \n",
      "C  O  X  X  O     \n",
      "D  O  X  X  X  O  \n",
      "E  O  X  X     X  \n"
     ]
    }
   ],
   "source": [
    "# Test your solution here\n",
    "newboard =[[1, 2, 0,0,1],\n",
    "           [0, 1, 0,1,2],\n",
    "           [2, 1, 1,2,0],\n",
    "           [2, 1, 1,1,2],\n",
    "           [2, 1, 1,0,1]]\n",
    "draw_nice_board(newboard)"
   ]
  },
  {
   "cell_type": "markdown",
   "metadata": {
    "colab_type": "text",
    "id": "jL3YbD09J4Fr"
   },
   "source": [
    "*Exercise 7:* Write a function that takes a board, player number, and location specified as in exercise 6 and then calls exercise 5 to correctly modify the board.  "
   ]
  },
  {
   "cell_type": "code",
   "execution_count": 404,
   "metadata": {
    "colab": {},
    "colab_type": "code",
    "id": "aQmKiaFmJ4Fu"
   },
   "outputs": [],
   "source": [
    "# Write you solution here\n",
    "def print_message(message,verbose=True):\n",
    "    if verbose:\n",
    "        print(message)\n",
    "        \n",
    "\n",
    "def specified_location(l_string):\n",
    "    if not isinstance(l_string,str):\n",
    "        print_message(\"Bad Input. Location must be string.\")\n",
    "        return False\n",
    "    \n",
    "    if len(l_string)!=2:\n",
    "        print_message(\"Bad Input. Location must be 2 characters.\")\n",
    "        return False\n",
    "    \n",
    "    row=l_string[0].upper()\n",
    "    col=l_string[1].upper()\n",
    "    \n",
    "    if not row in row_names:\n",
    "        print_message(\"Bad Row.\")\n",
    "        return False\n",
    "\n",
    "    if not col in column_names:\n",
    "        print_message(\"Bad Column.\")\n",
    "        return False\n",
    "\n",
    "    return row_map[row],column_map[col]\n",
    "\n",
    "def nice_placing_piece(board,player,location):\n",
    "    loc=specified_location(location)\n",
    "    #mov=parse_move(move)\n",
    "\n",
    "    if loc !=-1:\n",
    "        return place_piece(board,player,loc)\n",
    "    else:\n",
    "        return print_message(\"Bad placing.\")"
   ]
  },
  {
   "cell_type": "code",
   "execution_count": 406,
   "metadata": {
    "colab": {},
    "colab_type": "code",
    "id": "dOZfOL_SJ4Fz"
   },
   "outputs": [
    {
     "name": "stdout",
     "output_type": "stream",
     "text": [
      "   1  2  3  4  5  \n",
      "A  X  O        X  \n",
      "B     X     X  O  \n",
      "C  O  X  X  O     \n",
      "D  O  X  X  X  O  \n",
      "E  O  X  X     X  \n",
      "player does not have piece at (2, 4) location. True\n",
      "Successfully Placed Player 1! True\n",
      "   1  2  3  4  5  \n",
      "A  X  O        X  \n",
      "B     X     X  O  \n",
      "C  O  X  X  O  X  \n",
      "D  O  X  X  X  O  \n",
      "E  O  X  X     X  \n"
     ]
    }
   ],
   "source": [
    "# Test your solution here\n",
    "draw_nice_board(newboard)\n",
    "nice_placing_piece(newboard,player_1,\"C5\")\n",
    "draw_nice_board(newboard)\n"
   ]
  },
  {
   "cell_type": "code",
   "execution_count": 408,
   "metadata": {},
   "outputs": [
    {
     "name": "stdout",
     "output_type": "stream",
     "text": [
      "   1  2  3  4  5  \n",
      "A  X  O     O  X  \n",
      "B     X     X  O  \n",
      "C  O  X  X  O  X  \n",
      "D  O  X  X  X  O  \n",
      "E  O  X  X     X  \n",
      "player does not have piece at (0, 2) location. True\n",
      "Successfully Placed Player 2! True\n",
      "   1  2  3  4  5  \n",
      "A  X  O  O  O  X  \n",
      "B     X     X  O  \n",
      "C  O  X  X  O  X  \n",
      "D  O  X  X  X  O  \n",
      "E  O  X  X     X  \n"
     ]
    }
   ],
   "source": [
    "draw_nice_board(newboard)\n",
    "nice_placing_piece(newboard,player_2,\"A3\")\n",
    "draw_nice_board(newboard)\n"
   ]
  },
  {
   "cell_type": "markdown",
   "metadata": {
    "colab_type": "text",
    "id": "UPhJrxV5J4F4"
   },
   "source": [
    "*Exercise 8:* Write a function is called with a board and player number, takes input from the player using python's `input`, and modifies the board using your function from exercise 7. Note that you should keep asking for input until you have gotten a valid input that results in a valid move."
   ]
  },
  {
   "cell_type": "code",
   "execution_count": 409,
   "metadata": {
    "colab": {},
    "colab_type": "code",
    "id": "Hi1MO3I5J4F7"
   },
   "outputs": [],
   "source": [
    "# Write you solution here\n",
    "def take_place(board,player):\n",
    "    good_place=False\n",
    "    \n",
    "    while not good_place:\n",
    "        loc_str =input(\"Enter your location:\")\n",
    "                   \n",
    "        good_place = nice_placing_piece(board,player,loc_str)"
   ]
  },
  {
   "cell_type": "code",
   "execution_count": 410,
   "metadata": {
    "colab": {},
    "colab_type": "code",
    "id": "-Za9PvDAJ4GA"
   },
   "outputs": [
    {
     "name": "stdout",
     "output_type": "stream",
     "text": [
      "   1  2  3  4  5  \n",
      "A  X  O  O  O  X  \n",
      "B     X     X  O  \n",
      "C  O  X  X  O  X  \n",
      "D  O  X  X  X  O  \n",
      "E  O  X  X     X  \n",
      "Enter your location:b1\n",
      "player does not have piece at (1, 0) location. True\n",
      "Successfully Placed Player 2! True\n",
      "   1  2  3  4  5  \n",
      "A  X  O  O  O  X  \n",
      "B  O  X     X  O  \n",
      "C  O  X  X  O  X  \n",
      "D  O  X  X  X  O  \n",
      "E  O  X  X     X  \n"
     ]
    }
   ],
   "source": [
    "# Test your solution here\n",
    "draw_nice_board(newboard)\n",
    "take_place(newboard,player_2)\n",
    "draw_nice_board(newboard)"
   ]
  },
  {
   "cell_type": "markdown",
   "metadata": {
    "colab_type": "text",
    "id": "h5DrjSARJ4GG"
   },
   "source": [
    "*Exercise 9:* Use all of the previous exercises to implement a full tic-tac-toe game, where an appropriate board is drawn, 2 players are repeatedly asked for a location coordinates of where they wish to place a mark, and the game status is checked until a player wins or a draw occurs."
   ]
  },
  {
   "cell_type": "code",
   "execution_count": 411,
   "metadata": {
    "colab": {},
    "colab_type": "code",
    "id": "rT3toqvJJ4GJ"
   },
   "outputs": [],
   "source": [
    "# Write you solution here\n",
    "def Tic_Tac_Toe():\n",
    "    \n",
    "    print (\"Welcome to Tic Tac Toe Game.\")\n",
    "    print (\"----------------------------\")\n",
    "    size = int(input(\"Enter the size of the game board \"))\n",
    "\n",
    "    # Make a game board\n",
    "    board_0=tic_tac_toe_board(size)\n",
    "    \n",
    "    # Start with player 1=\"X\"\n",
    "    player=player_1\n",
    "    \n",
    "    this_game_won=False\n",
    "    while not this_game_won:\n",
    "        # Draw the board\n",
    "        draw_nice_board(board_0)\n",
    "        \n",
    "        # Take a place\n",
    "        print (\"Player\",player,\"place:\")\n",
    "        take_place(board_0,player)\n",
    "\n",
    "        # Check if the game has been won\n",
    "        this_game_won=checkIsWin(board_0)\n",
    "\n",
    "        # Switch players\n",
    "        if player==player_1:\n",
    "            player=player_2\n",
    "        else:\n",
    "            player=player_1\n",
    "            \n",
    "    draw_nice_board(board_0)    \n",
    "    print(\"Winner is player:\",this_game_won, \"Congratulations!!\")\n",
    "          "
   ]
  },
  {
   "cell_type": "code",
   "execution_count": 412,
   "metadata": {
    "colab": {},
    "colab_type": "code",
    "id": "wa1ZYp1BJ4GO"
   },
   "outputs": [
    {
     "name": "stdout",
     "output_type": "stream",
     "text": [
      "Welcome to Tic Tac Toe Game.\n",
      "----------------------------\n",
      "Enter the size of the game board 3\n",
      "   1  2  3  \n",
      "A           \n",
      "B           \n",
      "C           \n",
      "Player 1 place:\n",
      "Enter your location:a1\n",
      "player does not have piece at (0, 0) location. True\n",
      "Successfully Placed Player 1! True\n",
      "   1  2  3  \n",
      "A  X        \n",
      "B           \n",
      "C           \n",
      "Player 2 place:\n",
      "Enter your location:b3\n",
      "player does not have piece at (1, 2) location. True\n",
      "Successfully Placed Player 2! True\n",
      "   1  2  3  \n",
      "A  X        \n",
      "B        O  \n",
      "C           \n",
      "Player 1 place:\n",
      "Enter your location:b2\n",
      "player does not have piece at (1, 1) location. True\n",
      "Successfully Placed Player 1! True\n",
      "   1  2  3  \n",
      "A  X        \n",
      "B     X  O  \n",
      "C           \n",
      "Player 2 place:\n",
      "Enter your location:c1\n",
      "player does not have piece at (2, 0) location. True\n",
      "Successfully Placed Player 2! True\n",
      "   1  2  3  \n",
      "A  X        \n",
      "B     X  O  \n",
      "C  O        \n",
      "Player 1 place:\n",
      "Enter your location:c3\n",
      "player does not have piece at (2, 2) location. True\n",
      "Successfully Placed Player 1! True\n",
      "   1  2  3  \n",
      "A  X        \n",
      "B     X  O  \n",
      "C  O     X  \n",
      "Winner is player: 1 Congratulations!!\n"
     ]
    }
   ],
   "source": [
    "# Test your solution here\n",
    "Tic_Tac_Toe()"
   ]
  },
  {
   "cell_type": "markdown",
   "metadata": {
    "colab_type": "text",
    "id": "kyDby7JdJ4GT"
   },
   "source": [
    "*Exercise 10:* Test that your game works for 5x5 Tic Tac Toe.  "
   ]
  },
  {
   "cell_type": "code",
   "execution_count": 414,
   "metadata": {
    "colab": {},
    "colab_type": "code",
    "id": "sueLdBPRJ4GV"
   },
   "outputs": [
    {
     "name": "stdout",
     "output_type": "stream",
     "text": [
      "Welcome to Tic Tac Toe Game.\n",
      "----------------------------\n",
      "Enter the size of the game board 5\n",
      "   1  2  3  4  5  \n",
      "A                 \n",
      "B                 \n",
      "C                 \n",
      "D                 \n",
      "E                 \n",
      "Player 1 place:\n",
      "Enter your location:a1\n",
      "player does not have piece at (0, 0) location. True\n",
      "Successfully Placed Player 1! True\n",
      "   1  2  3  4  5  \n",
      "A  X              \n",
      "B                 \n",
      "C                 \n",
      "D                 \n",
      "E                 \n",
      "Player 2 place:\n",
      "Enter your location:b3\n",
      "player does not have piece at (1, 2) location. True\n",
      "Successfully Placed Player 2! True\n",
      "   1  2  3  4  5  \n",
      "A  X              \n",
      "B        O        \n",
      "C                 \n",
      "D                 \n",
      "E                 \n",
      "Player 1 place:\n",
      "Enter your location:c2\n",
      "player does not have piece at (2, 1) location. True\n",
      "Successfully Placed Player 1! True\n",
      "   1  2  3  4  5  \n",
      "A  X              \n",
      "B        O        \n",
      "C     X           \n",
      "D                 \n",
      "E                 \n",
      "Player 2 place:\n",
      "Enter your location:e1\n",
      "player does not have piece at (4, 0) location. True\n",
      "Successfully Placed Player 2! True\n",
      "   1  2  3  4  5  \n",
      "A  X              \n",
      "B        O        \n",
      "C     X           \n",
      "D                 \n",
      "E  O              \n",
      "Player 1 place:\n",
      "Enter your location:b2\n",
      "player does not have piece at (1, 1) location. True\n",
      "Successfully Placed Player 1! True\n",
      "   1  2  3  4  5  \n",
      "A  X              \n",
      "B     X  O        \n",
      "C     X           \n",
      "D                 \n",
      "E  O              \n",
      "Player 2 place:\n",
      "Enter your location:d3\n",
      "player does not have piece at (3, 2) location. True\n",
      "Successfully Placed Player 2! True\n",
      "   1  2  3  4  5  \n",
      "A  X              \n",
      "B     X  O        \n",
      "C     X           \n",
      "D        O        \n",
      "E  O              \n",
      "Player 1 place:\n",
      "Enter your location:c1\n",
      "player does not have piece at (2, 0) location. True\n",
      "Successfully Placed Player 1! True\n",
      "   1  2  3  4  5  \n",
      "A  X              \n",
      "B     X  O        \n",
      "C  X  X           \n",
      "D        O        \n",
      "E  O              \n",
      "Player 2 place:\n",
      "Enter your location:a5\n",
      "player does not have piece at (0, 4) location. True\n",
      "Successfully Placed Player 2! True\n",
      "   1  2  3  4  5  \n",
      "A  X           O  \n",
      "B     X  O        \n",
      "C  X  X           \n",
      "D        O        \n",
      "E  O              \n",
      "Player 1 place:\n",
      "Enter your location:e5\n",
      "player does not have piece at (4, 4) location. True\n",
      "Successfully Placed Player 1! True\n",
      "   1  2  3  4  5  \n",
      "A  X           O  \n",
      "B     X  O        \n",
      "C  X  X           \n",
      "D        O        \n",
      "E  O           X  \n",
      "Player 2 place:\n",
      "Enter your location:b4\n",
      "player does not have piece at (1, 3) location. True\n",
      "Successfully Placed Player 2! True\n",
      "   1  2  3  4  5  \n",
      "A  X           O  \n",
      "B     X  O  O     \n",
      "C  X  X           \n",
      "D        O        \n",
      "E  O           X  \n",
      "Player 1 place:\n",
      "Enter your location:d2\n",
      "player does not have piece at (3, 1) location. True\n",
      "Successfully Placed Player 1! True\n",
      "   1  2  3  4  5  \n",
      "A  X           O  \n",
      "B     X  O  O     \n",
      "C  X  X           \n",
      "D     X  O        \n",
      "E  O           X  \n",
      "Player 2 place:\n",
      "Enter your location:a3\n",
      "player does not have piece at (0, 2) location. True\n",
      "Successfully Placed Player 2! True\n",
      "   1  2  3  4  5  \n",
      "A  X     O     O  \n",
      "B     X  O  O     \n",
      "C  X  X           \n",
      "D     X  O        \n",
      "E  O           X  \n",
      "Player 1 place:\n",
      "Enter your location:c4\n",
      "player does not have piece at (2, 3) location. True\n",
      "Successfully Placed Player 1! True\n",
      "   1  2  3  4  5  \n",
      "A  X     O     O  \n",
      "B     X  O  O     \n",
      "C  X  X     X     \n",
      "D     X  O        \n",
      "E  O           X  \n",
      "Player 2 place:\n",
      "Enter your location:c3\n",
      "player does not have piece at (2, 2) location. True\n",
      "Successfully Placed Player 2! True\n",
      "   1  2  3  4  5  \n",
      "A  X     O     O  \n",
      "B     X  O  O     \n",
      "C  X  X  O  X     \n",
      "D     X  O        \n",
      "E  O           X  \n",
      "Player 1 place:\n",
      "Enter your location:e2\n",
      "player does not have piece at (4, 1) location. True\n",
      "Successfully Placed Player 1! True\n",
      "   1  2  3  4  5  \n",
      "A  X     O     O  \n",
      "B     X  O  O     \n",
      "C  X  X  O  X     \n",
      "D     X  O        \n",
      "E  O  X        X  \n",
      "Player 2 place:\n",
      "Enter your location:e3\n",
      "player does not have piece at (4, 2) location. True\n",
      "Successfully Placed Player 2! True\n",
      "   1  2  3  4  5  \n",
      "A  X     O     O  \n",
      "B     X  O  O     \n",
      "C  X  X  O  X     \n",
      "D     X  O        \n",
      "E  O  X  O     X  \n",
      "Winner is player: 2 Congratulations!!\n"
     ]
    }
   ],
   "source": [
    "# Test your solution here\n",
    "Tic_Tac_Toe()"
   ]
  },
  {
   "cell_type": "markdown",
   "metadata": {
    "colab_type": "text",
    "id": "olA3sZVDJ4Ga"
   },
   "source": [
    "*Exercise 11: (Extra Credit)* Develop a version of the game where one player is the computer. Note that you don't need to do an extensive seach for the best move. You can have the computer simply protect against loosing and otherwise try to win with straight or diagonal patterns."
   ]
  },
  {
   "cell_type": "code",
   "execution_count": 418,
   "metadata": {
    "colab": {},
    "colab_type": "code",
    "id": "LXRZ7ndjJ4Gb"
   },
   "outputs": [
    {
     "name": "stdout",
     "output_type": "stream",
     "text": [
      "Welcome to Tic Tac Toe!\n",
      "Do you want to be X or O?\n",
      "x\n",
      "The player will go first.\n",
      "   |   |\n",
      "   |   |  \n",
      "   |   |\n",
      "-----------\n",
      "   |   |\n",
      "   |   |  \n",
      "   |   |\n",
      "-----------\n",
      "   |   |\n",
      "   |   |  \n",
      "   |   |\n",
      "What is your next move? (1-9)\n",
      "2\n",
      "   |   |\n",
      "   |   |  \n",
      "   |   |\n",
      "-----------\n",
      "   |   |\n",
      "   |   |  \n",
      "   |   |\n",
      "-----------\n",
      "   |   |\n",
      "   | X | O\n",
      "   |   |\n",
      "What is your next move? (1-9)\n",
      "6\n",
      "   |   |\n",
      "   |   |  \n",
      "   |   |\n",
      "-----------\n",
      "   |   |\n",
      "   |   | X\n",
      "   |   |\n",
      "-----------\n",
      "   |   |\n",
      " O | X | O\n",
      "   |   |\n",
      "What is your next move? (1-9)\n",
      "6\n",
      "What is your next move? (1-9)\n",
      "1\n",
      "What is your next move? (1-9)\n",
      "\n",
      "What is your next move? (1-9)\n",
      "5\n",
      "   |   |\n",
      "   |   |  \n",
      "   |   |\n",
      "-----------\n",
      "   |   |\n",
      " O | X | X\n",
      "   |   |\n",
      "-----------\n",
      "   |   |\n",
      " O | X | O\n",
      "   |   |\n",
      "What is your next move? (1-9)\n",
      "8\n",
      "   |   |\n",
      "   | X |  \n",
      "   |   |\n",
      "-----------\n",
      "   |   |\n",
      " O | X | X\n",
      "   |   |\n",
      "-----------\n",
      "   |   |\n",
      " O | X | O\n",
      "   |   |\n",
      "Hooray! You have won the game!\n",
      "Do you want to play again? (yes or no)\n",
      "no\n"
     ]
    }
   ],
   "source": [
    "# Write you solution here\n",
    " # Tic Tac Toe for 3x3 game board\n",
    "\n",
    "import random\n",
    "\n",
    "def drawBoard(board):\n",
    "\n",
    "# This function prints out the board that it was passed.\n",
    "\n",
    "# \"board\" is a list of 10 strings representing the board (ignore index 0)\n",
    "\n",
    "    print('   |   |')\n",
    "\n",
    "    print(' ' + board[7] + ' | ' + board[8] + ' | ' + board[9])\n",
    "\n",
    "    print('   |   |')\n",
    "\n",
    "    print('-----------')\n",
    "\n",
    "    print('   |   |')\n",
    "\n",
    "    print(' ' + board[4] + ' | ' + board[5] + ' | ' + board[6])\n",
    "\n",
    "    print('   |   |')\n",
    "\n",
    "    print('-----------')\n",
    "\n",
    "    print('   |   |')\n",
    "\n",
    "    print(' ' + board[1] + ' | ' + board[2] + ' | ' + board[3])\n",
    "\n",
    "    print('   |   |')\n",
    "\n",
    "\n",
    "def inputPlayerLetter():\n",
    "    \n",
    "    letter = ''\n",
    "\n",
    "# Lets the player type which letter they want to be.\n",
    "\n",
    "# Returns a list with the player’s letter as the first item, and the computer's letter as the second.\n",
    "\n",
    "    while not (letter == 'X' or letter == 'O'):\n",
    "        print('Do you want to be X or O?')\n",
    "        letter = input().upper()\n",
    "\n",
    "# the first element in the list is the player’s letter, the second is the computer's letter.\n",
    "\n",
    "    if letter == 'X':\n",
    "        return ['X', 'O']\n",
    "\n",
    "    else:\n",
    "        return ['O', 'X']\n",
    "\n",
    "def whoGoesFirst():\n",
    "\n",
    " # Randomly choose the player who goes first.\n",
    "\n",
    "    if random.randint(0, 1) == 0:\n",
    "        return 'computer'\n",
    "\n",
    "    else:\n",
    "        return 'player'\n",
    "\n",
    "def playAgain():\n",
    "\n",
    " # This function returns True if the player wants to play again, otherwise it returns False.\n",
    "    \n",
    "    print('Do you want to play again? (yes or no)')\n",
    "    return input().lower().startswith('y')\n",
    " \n",
    "def makeMove(board, letter, move):\n",
    "    board[move] = letter\n",
    "\n",
    "def isWinner(bo, le):\n",
    "\n",
    "# Given a board and a player’s letter, this function returns True if that player has won.\n",
    "\n",
    "# We use bo instead of board and le instead of letter so we don’t have to type as much.\n",
    "\n",
    "    return ((bo[7] == le and bo[8] == le and bo[9] == le) or # across the top\n",
    "\n",
    "    (bo[4] == le and bo[5] == le and bo[6] == le) or # across the middle\n",
    "\n",
    "    (bo[1] == le and bo[2] == le and bo[3] == le) or # across the bottom\n",
    "\n",
    "    (bo[7] == le and bo[4] == le and bo[1] == le) or # down the left side\n",
    "\n",
    "    (bo[8] == le and bo[5] == le and bo[2] == le) or # down the middle\n",
    "\n",
    "    (bo[9] == le and bo[6] == le and bo[3] == le) or # down the right side\n",
    "\n",
    "    (bo[7] == le and bo[5] == le and bo[3] == le) or # diagonal\n",
    "\n",
    "    (bo[9] == le and bo[5] == le and bo[1] == le)) # diagonal\n",
    "\n",
    "def getBoardCopy(board):\n",
    " # Make a duplicate of the board list and return it the duplicate.\n",
    "\n",
    "    dupeBoard = []\n",
    "\n",
    "    for i in board:\n",
    "        dupeBoard.append(i)\n",
    "\n",
    "    return dupeBoard\n",
    "\n",
    "def isSpaceFree(board, move):\n",
    "# Return true if the passed move is free on the passed board.\n",
    "    return board[move] == ' '\n",
    "\n",
    "def getPlayerMove(board):\n",
    "\n",
    "# Let the player type in their move.\n",
    "\n",
    "    move = ' '\n",
    "\n",
    "    while move not in '1 2 3 4 5 6 7 8 9'.split() or not isSpaceFree(board, int(move)):\n",
    "        print('What is your next move? (1-9)')\n",
    "        move = input()\n",
    "    return int(move)\n",
    "\n",
    "def chooseRandomMoveFromList(board, movesList):\n",
    "\n",
    "# Returns a valid move from the passed list on the passed board.\n",
    "# Returns None if there is no valid move.\n",
    "    possibleMoves = []\n",
    "    for i in movesList:\n",
    "        if isSpaceFree(board, i):\n",
    "            possibleMoves.append(i)\n",
    "\n",
    "    if len(possibleMoves) != 0:\n",
    "        return random.choice(possibleMoves)\n",
    "\n",
    "    else:\n",
    "        return None\n",
    "\n",
    "def getComputerMove(board, computerLetter):\n",
    "\n",
    "# Given a board and the computer's letter, determine where to move and return that move.\n",
    "\n",
    "    if computerLetter == 'X':\n",
    "        playerLetter = 'O'\n",
    "\n",
    "    else:\n",
    "        playerLetter = 'X'\n",
    "\n",
    "# Here is our algorithm for our Tic Tac Toe AI:\n",
    "# First, check if we can win in the next move\n",
    "\n",
    "    for i in range(1, 10):\n",
    "        copy = getBoardCopy(board)\n",
    "        if isSpaceFree(copy, i):\n",
    "            makeMove(copy, computerLetter, i)\n",
    "            if isWinner(copy, computerLetter):\n",
    "                return i\n",
    "\n",
    "# Check if the player could win on their next move, and block them.\n",
    "\n",
    "    for i in range(1, 10):\n",
    "        copy = getBoardCopy(board)\n",
    "        if isSpaceFree(copy, i):\n",
    "            makeMove(copy, playerLetter, i)\n",
    "            if isWinner(copy, playerLetter):\n",
    "                return i\n",
    "\n",
    "# Try to take one of the corners, if they are free.\n",
    "\n",
    "    move = chooseRandomMoveFromList(board, [1, 3, 7, 9])\n",
    "    if move != None:\n",
    "        return move\n",
    "# Try to take the center, if it is free.\n",
    "\n",
    "    if isSpaceFree(board, 5):\n",
    "        return 5\n",
    "# Move on one of the sides.\n",
    "    return chooseRandomMoveFromList(board, [2, 4, 6, 8])\n",
    "\n",
    "def isBoardFull(board):\n",
    "# Return True if every space on the board has been taken. Otherwise return False.\n",
    "    for i in range(1, 10):\n",
    "        if isSpaceFree(board, i):\n",
    "            return False\n",
    "    return True\n",
    "print('Welcome to Tic Tac Toe!')\n",
    "\n",
    "while True:\n",
    "# Reset the board\n",
    "    theBoard = [' '] * 10\n",
    "    playerLetter, computerLetter = inputPlayerLetter()\n",
    "    turn = whoGoesFirst()\n",
    "    print('The ' + turn + ' will go first.')\n",
    "    gameIsPlaying = True\n",
    "    \n",
    "    while gameIsPlaying:\n",
    "        if turn == 'player':\n",
    "            # Player’s turn.\n",
    "            drawBoard(theBoard)\n",
    "            move = getPlayerMove(theBoard)\n",
    "            makeMove(theBoard, playerLetter, move)\n",
    "            \n",
    "            if isWinner(theBoard, playerLetter):\n",
    "                drawBoard(theBoard)\n",
    "                print('Hooray! You have won the game!')\n",
    "                gameIsPlaying = False\n",
    "\n",
    "            else:\n",
    "                if isBoardFull(theBoard):\n",
    "                    drawBoard(theBoard)\n",
    "                    print('The game is a tie!')\n",
    "                    break\n",
    "                else:\n",
    "                    turn = 'computer'\n",
    "        else:\n",
    "            # Computer’s turn.\n",
    "            move = getComputerMove(theBoard, computerLetter)\n",
    "            makeMove(theBoard, computerLetter, move)\n",
    "            if isWinner(theBoard, computerLetter):\n",
    "                drawBoard(theBoard)\n",
    "                print('The computer has beaten you! You lose.')\n",
    "                gameIsPlaying = False\n",
    "            else:\n",
    "                if isBoardFull(theBoard):\n",
    "                    drawBoard(theBoard)\n",
    "                    print('The game is a tie!')\n",
    "                    break\n",
    "                else:\n",
    "                    turn = 'player'\n",
    "    if not playAgain():\n",
    "        break"
   ]
  }
 ],
 "metadata": {
  "colab": {
   "name": "Lab-3.ipynb",
   "provenance": []
  },
  "kernelspec": {
   "display_name": "Python 3",
   "language": "python",
   "name": "python3"
  },
  "language_info": {
   "codemirror_mode": {
    "name": "ipython",
    "version": 3
   },
   "file_extension": ".py",
   "mimetype": "text/x-python",
   "name": "python",
   "nbconvert_exporter": "python",
   "pygments_lexer": "ipython3",
   "version": "3.7.4"
  }
 },
 "nbformat": 4,
 "nbformat_minor": 1
}
