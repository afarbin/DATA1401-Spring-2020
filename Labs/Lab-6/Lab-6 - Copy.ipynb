{
 "cells": [
  {
   "cell_type": "markdown",
   "metadata": {},
   "source": [
    "# Lab 6\n"
   ]
  },
  {
   "cell_type": "markdown",
   "metadata": {},
   "source": [
    "Matrix Representation: In this lab you will be creating a simple linear algebra system. In memory, we will represent matrices as nested python lists as we have done in lecture. \n",
    "\n",
    "1. Create a `matrix` class with the following properties:\n",
    "    * It can be initialized in 2 ways:\n",
    "        1. with arguments `n` and `m`, the size of the matrix. A newly instanciated matrix will contain all zeros.\n",
    "        2. with a list of lists of values. Note that since we are using lists of lists to implement matrices, it is possible that not all rows have the same number of columns. Test explicitly that the matrix is properly specified.\n",
    "    * Matrix instances `M` can be indexed with `M[i][j]` and `M[i,j]`.\n",
    "    * Matrix assignment works in 2 ways:\n",
    "        1. If `M_1` and `M_2` are `matrix` instances `M_1=M_2` sets the values of `M_1` to those of `M_2`, if they are the same size. Error otherwise.\n",
    "        2. In example above `M_2` can be a list of lists of correct size.\n"
   ]
  },
  {
   "cell_type": "code",
   "execution_count": 248,
   "metadata": {},
   "outputs": [],
   "source": [
    "class matrix:\n",
    "    _M = None\n",
    "    def __init__(self, *args):\n",
    "        if isinstance(args[0], list):\n",
    "            if (isinstance(args[0][_], list) for _ in range(len(args[0]))):\n",
    "                lengths = set(len(args[0][_]) for _ in range(len(args[0])))\n",
    "                if len(lengths) == 1:\n",
    "                    self._M = args[0]\n",
    "        elif isinstance(args[0], int) and isinstance(args[1], int):\n",
    "            self._M = [[0 for _ in range(args[1])] for __ in range(args[0])]\n",
    "        \n",
    "    def __getitem__(self, index):\n",
    "        if isinstance(index, tuple):\n",
    "            i, j = index\n",
    "            return self._M[i][j]\n",
    "        else:\n",
    "            return self._M[index]\n",
    "    \n",
    "    def __str__(self):\n",
    "        return str(self._M)"
   ]
  },
  {
   "cell_type": "code",
   "execution_count": 249,
   "metadata": {},
   "outputs": [
    {
     "name": "stdout",
     "output_type": "stream",
     "text": [
      "M=matrix(2,3): [[0, 0, 0], [0, 0, 0]]\n",
      "M=matrix([[],[]]): [[1, 2, 3], [4, 5, 6]]\n",
      "M[1][0]: 4\n",
      "M[1,0]: 4\n",
      "M = M2: [[2, 3], [4, 5], [6, 7]]\n"
     ]
    }
   ],
   "source": [
    "M = matrix(2,3)\n",
    "print(\"M=matrix(2,3): {}\".format(M))\n",
    "M = matrix([[1,2,3],[4,5,6]])\n",
    "print(\"M=matrix([[],[]]): {}\".format(M))\n",
    "print(\"M[1][0]: {}\".format(M[1][0]))\n",
    "print(\"M[1,0]: {}\".format(M[1,0]))\n",
    "# can't figure out how to override assignment operator\n",
    "M2 = matrix([[2,3],[4,5],[6,7]])\n",
    "M = M2\n",
    "print(\"M = M2: {}\".format(M))\n",
    "#M = [[3,4],[5,6],[7,8]]\n",
    "#print(\"M=[[],[],[]]\".format(M.M()))"
   ]
  },
  {
   "cell_type": "markdown",
   "metadata": {},
   "source": [
    "2. Add the following methods:\n",
    "    * `shape()`: returns a tuple `(n,m)` of the shape of the matrix.\n",
    "    * `transpose()`: returns a new matrix instance which is the transpose of the matrix.\n",
    "    * `row(n)` and `column(n)`: that return the nth row or column of the matrix M as a new appropriately shaped matrix object.\n",
    "    * `to_list()`: which returns the matrix as a list of lists.\n",
    "    *  `block(n_0,n_1,m_0,m_1)` that returns a smaller matrix located at the n_0 to n_1 columns and m_0 to m_1 rows. \n",
    "    * (Extra credit) Modify `__getitem__` implemented above to support slicing.\n",
    "        "
   ]
  },
  {
   "cell_type": "code",
   "execution_count": 250,
   "metadata": {},
   "outputs": [],
   "source": [
    "def shape(self):\n",
    "    return len(self._M), len(self._M[0])\n",
    "\n",
    "def transpose(self):\n",
    "    n, m = self.shape()\n",
    "    M = matrix(m,n)\n",
    "    for _ in range(m):\n",
    "        for __ in range(n):\n",
    "            M[_][__] = self._M[__][_]\n",
    "    return M\n",
    "\n",
    "def row(self, n):\n",
    "    return matrix([self._M[n]])\n",
    "def column(self, n):\n",
    "    return matrix([self.transpose()._M[n]])\n",
    "\n",
    "def to_list(self):\n",
    "    return self._M\n",
    "\n",
    "def block(self, n_0, n_1, m_0, m_1):\n",
    "    if 0 <= n_0 and 0 <= m_0 and n_1 <= len(self._M) and m_1 <= len(self.transpose()._M):\n",
    "        ml = [[0 for _ in range(m_1-m_0)] for __ in range(n_1-n_0)]\n",
    "        for n in range(n_0, n_1):\n",
    "            for m in range(m_0, m_1):\n",
    "                ml[n-n_0][m-m_0] = self._M[n][m]\n",
    "        return matrix(ml)\n",
    "    else:\n",
    "        return None\n",
    "\n",
    "# modification was not necessary but now explicit\n",
    "def __getitem__(self, index):\n",
    "    if isinstance(index, tuple):\n",
    "        i, j = index\n",
    "        return self._M[i][j]\n",
    "    elif isinstance(index, slice):\n",
    "        return self._M[index]\n",
    "    else:\n",
    "        return self._M[index]\n",
    "\n",
    "setattr(matrix, 'shape', shape)\n",
    "setattr(matrix, 'transpose', transpose)\n",
    "setattr(matrix, 'row', row)\n",
    "setattr(matrix, 'column', column)\n",
    "setattr(matrix, 'to_list', to_list)\n",
    "setattr(matrix, 'block', block)\n",
    "setattr(matrix, '__getitem__', __getitem__)"
   ]
  },
  {
   "cell_type": "code",
   "execution_count": 265,
   "metadata": {},
   "outputs": [
    {
     "name": "stdout",
     "output_type": "stream",
     "text": [
      "M: [[1, 2, 3], [4, 5, 6], [7, 8, 9]]\n",
      "M.shape(): (3, 3)\n",
      "M.transpose()._M: [[1, 4, 7], [2, 5, 8], [3, 6, 9]]\n",
      "M.row(0)._M: [[1, 2, 3]]\n",
      "M.column(0)._M: [[1, 4, 7]]\n",
      "M.to_list(): [[1, 2, 3], [4, 5, 6], [7, 8, 9]]\n",
      "M.block(0,2,0,2): [[1, 2], [4, 5]]\n",
      "M[:][:2]: [[1, 2, 3], [4, 5, 6]]\n"
     ]
    }
   ],
   "source": [
    "M = matrix([[1,2,3],[4,5,6],[7,8,9]])\n",
    "print(\"M: {}\".format(M))\n",
    "print(\"M.shape(): {}\".format(M.shape()))\n",
    "print(\"M.transpose()._M: {}\".format(M.transpose()))\n",
    "print(\"M.row(0)._M: {}\".format(M.row(0)))\n",
    "print(\"M.column(0)._M: {}\".format(M.column(0)))\n",
    "print(\"M.to_list(): {}\".format(M.to_list()))\n",
    "print(\"M.block(0,2,0,2): {}\".format(M.block(0,2,0,2).to_list()))\n",
    "print(\"M[:][:2]: {}\".format(M[:2]))"
   ]
  },
  {
   "cell_type": "markdown",
   "metadata": {},
   "source": [
    "3. Write functions that create special matrices (note these are standalone functions, not member functions of your `matrix` class):\n",
    "    * `constant(n,m,c)`: returns a `n` by `m` matrix filled with floats of value `c`.\n",
    "    * `zeros(n,m)` and `ones(n,m)`: return `n` by `m` matrices filled with floats of value `0` and `1`, respectively.\n",
    "    * `eye(n)`: returns the n by n identity matrix."
   ]
  },
  {
   "cell_type": "code",
   "execution_count": 252,
   "metadata": {},
   "outputs": [],
   "source": [
    "def constant(n,m,c):\n",
    "    return matrix([[c for _ in range(m)] for __ in range(n)])\n",
    "\n",
    "def zeros(n,m):\n",
    "    return matrix([[0.0 for _ in range(m)] for __ in range(n)])\n",
    "\n",
    "def ones(n,m):\n",
    "    return matrix([[1.0 for _ in range(m)] for __ in range(n)])\n",
    "\n",
    "def eye(n):\n",
    "    return matrix([[0 if _ != __ else 1 for _ in range(n)] for __ in range(n)])"
   ]
  },
  {
   "cell_type": "code",
   "execution_count": 253,
   "metadata": {},
   "outputs": [
    {
     "name": "stdout",
     "output_type": "stream",
     "text": [
      "[[5, 5, 5, 5], [5, 5, 5, 5], [5, 5, 5, 5]]\n",
      "[[0.0, 0.0, 0.0, 0.0], [0.0, 0.0, 0.0, 0.0], [0.0, 0.0, 0.0, 0.0]]\n",
      "[[1.0, 1.0, 1.0, 1.0], [1.0, 1.0, 1.0, 1.0], [1.0, 1.0, 1.0, 1.0]]\n",
      "[[1, 0, 0, 0, 0], [0, 1, 0, 0, 0], [0, 0, 1, 0, 0], [0, 0, 0, 1, 0], [0, 0, 0, 0, 1]]\n"
     ]
    }
   ],
   "source": [
    "print(constant(3,4,5))\n",
    "print(zeros(3,4))\n",
    "print(ones(3,4))\n",
    "print(eye(5))"
   ]
  },
  {
   "cell_type": "markdown",
   "metadata": {},
   "source": [
    "4. Add the following member functions to your class. Make sure to appropriately test the dimensions of the matrices to make sure the operations are correct.\n",
    "    * `M.scalarmul(c)`: a matrix that is scalar product $cM$, where every element of $M$ is multiplied by $c$.\n",
    "    * `M.add(N)`: adds two matrices $M$ and $N$. Don’t forget to test that the sizes of the matrices are compatible for this and all other operations.\n",
    "    * `M.sub(N)`: subtracts two matrices $M$ and $N$.\n",
    "    * `M.mat_mult(N)`: returns a matrix that is the matrix product of two matrices $M$ and $N$.\n",
    "    * `M.element_mult(N)`: returns a matrix that is the element-wise product of two matrices $M$ and $N$.\n",
    "    * `M.equals(N)`: returns true/false if $M==N$."
   ]
  },
  {
   "cell_type": "code",
   "execution_count": 254,
   "metadata": {},
   "outputs": [],
   "source": [
    "def scalarmul(self, c):\n",
    "    n,m = self.shape()\n",
    "    M = matrix(n,m)\n",
    "    for _ in range(len(self._M)):\n",
    "        for __ in range(len(self._M[_])):\n",
    "            M._M[_][__] = self._M[_][__] * c\n",
    "    return M\n",
    "def add(self, N):\n",
    "    n,m = self.shape()\n",
    "    M = matrix(n,m)\n",
    "    if self.shape() == N.shape():\n",
    "        for _ in range(n):\n",
    "            for __ in range(m):\n",
    "                M._M[_][__] = self._M[_][__] + N._M[_][__]\n",
    "    return M\n",
    "def sub(self, N):\n",
    "    M = None\n",
    "    if self.shape() == N.shape():\n",
    "        n,m = self.shape()\n",
    "        M = matrix(n,m)\n",
    "        for _ in range(n):\n",
    "            for __ in range(m):\n",
    "                M._M[_][__] = self._M[_][__] - N._M[_][__]\n",
    "    return M\n",
    "def mat_mult(self, N):\n",
    "    M = None\n",
    "    if len(self._M[0]) == len(N._M):\n",
    "        M = matrix(len(self._M), len(N._M[0]))\n",
    "        for i in range(len(self._M)):\n",
    "            for j in range(len(N._M[0])):\n",
    "                for k in range(len(N._M)):\n",
    "                    M[i][j] += self._M[i][k] * N._M[k][j]\n",
    "    return M\n",
    "def element_mult(self, N):\n",
    "    M = None\n",
    "    if self.shape() == N.shape():\n",
    "        n,m = self.shape()\n",
    "        M = matrix(n,m)\n",
    "        for _ in range(n):\n",
    "            for __ in range(m):\n",
    "                M._M[_][__] = self._M[_][__] * N._M[_][__]\n",
    "    return M\n",
    "setattr(matrix, 'scalarmul', scalarmul)\n",
    "setattr(matrix, 'add', add)\n",
    "setattr(matrix, 'sub', sub)\n",
    "setattr(matrix, 'mat_mult', mat_mult)\n",
    "setattr(matrix, 'element_mult', element_mult)"
   ]
  },
  {
   "cell_type": "code",
   "execution_count": 255,
   "metadata": {},
   "outputs": [
    {
     "name": "stdout",
     "output_type": "stream",
     "text": [
      "[[1, 2, 3], [4, 5, 6]]\n",
      "[[2, 4, 6], [8, 10, 12]]\n",
      "[[4, 4, 4], [10, 10, 10]]\n",
      "[[1, 1, 1], [2, 2, 2]]\n",
      "[[1, 2, 3], [4, 5, 6]]\n",
      "[[2, 6, 12], [0, 5, 12]]\n"
     ]
    }
   ],
   "source": [
    "M1 = matrix([[1,2,3],[4,5,6]])\n",
    "print(M1)\n",
    "print(M1.scalarmul(2))\n",
    "print(M1.add(matrix([[3,2,1],[6,5,4]])))\n",
    "print(M1.sub(matrix([[0,1,2],[2,3,4]])))\n",
    "print(M1.mat_mult(eye(3)))\n",
    "print(M1.element_mult(matrix([[2,3,4],[0,1,2]])))"
   ]
  },
  {
   "cell_type": "markdown",
   "metadata": {},
   "source": [
    "5. Overload python operators to appropriately use your functions in 4 and allow expressions like:\n",
    "    * 2*M\n",
    "    * M*2\n",
    "    * M+N\n",
    "    * M-N\n",
    "    * M*N\n",
    "    * M==N\n",
    "    * M=N\n"
   ]
  },
  {
   "cell_type": "code",
   "execution_count": 256,
   "metadata": {},
   "outputs": [],
   "source": [
    "def __mul__(self,o):\n",
    "    if isinstance(o, int) or isinstance(o, float):\n",
    "        return self.scalarmul(o)\n",
    "    elif len(self._M[0]) == len(o._M):\n",
    "        return self.mat_mult(o)\n",
    "    elif self.shape() == o.shape():\n",
    "        return self.element_mult(o)\n",
    "    else:\n",
    "        print(\"invalid __mul__ usage\")\n",
    "        return None\n",
    "def __rmul__(self,o):\n",
    "    return self * o\n",
    "def __add__(self,o):\n",
    "    if isinstance(o, matrix) and self.shape() == o.shape():\n",
    "        return self.add(o)\n",
    "    else:\n",
    "        print(\"invalid __add__ usage\")\n",
    "        return None\n",
    "def __sub__(self,o):\n",
    "    if isinstance(o, matrix) and self.shape() == o.shape():\n",
    "        return self.sub(o)\n",
    "    else:\n",
    "        print(\"invalid __sub__ usage\")\n",
    "        return None\n",
    "def __eq__(self,o):\n",
    "    if isinstance(o, matrix) and self.shape() == o.shape():\n",
    "        n,m = self.shape()\n",
    "        for i in range(n):\n",
    "            for j in range(m):\n",
    "                if self.to_list()[i][j] != o.to_list()[i][j]:\n",
    "                    return False\n",
    "        return True\n",
    "    else:\n",
    "        return False\n",
    "setattr(matrix, '__mul__', __mul__)\n",
    "setattr(matrix, '__rmul__', __rmul__)\n",
    "setattr(matrix, '__add__', __add__)\n",
    "setattr(matrix, '__sub__', __sub__)\n",
    "setattr(matrix, '__eq__', __eq__)"
   ]
  },
  {
   "cell_type": "code",
   "execution_count": 257,
   "metadata": {},
   "outputs": [
    {
     "name": "stdout",
     "output_type": "stream",
     "text": [
      "[[1, 2, 3], [4, 5, 6]]\n",
      "[[2, 4, 6], [8, 10, 12]]\n",
      "[[2, 4, 6], [8, 10, 12]]\n",
      "[[4, 4, 4], [10, 10, 10]]\n",
      "[[1, 1, 1], [2, 2, 2]]\n",
      "[[1, 2, 3], [4, 5, 6]]\n",
      "[[2, 6, 12], [0, 5, 12]]\n",
      "True\n"
     ]
    }
   ],
   "source": [
    "M1 = matrix([[1,2,3],[4,5,6]])\n",
    "print(M1)\n",
    "print(M1*2)\n",
    "print(2*M1)\n",
    "print(M1+matrix([[3,2,1],[6,5,4]]))\n",
    "print(M1-matrix([[0,1,2],[2,3,4]]))\n",
    "print(M1*eye(3))\n",
    "print(M1*matrix([[2,3,4],[0,1,2]]))\n",
    "print(M1==matrix([[1,2,3],[4,5,6]]))"
   ]
  },
  {
   "cell_type": "markdown",
   "metadata": {},
   "source": [
    "6. Demonstrate the basic properties of matrices with your matrix class by creating two 2 by 2 example matrices using your Matrix class and illustrating the following:\n",
    "\n",
    "$$\n",
    "(AB)C=A(BC)\n",
    "$$\n",
    "$$\n",
    "A(B+C)=AB+AC\n",
    "$$\n",
    "$$\n",
    "AB\\neq BA\n",
    "$$\n",
    "$$\n",
    "AI=A\n",
    "$$"
   ]
  },
  {
   "cell_type": "code",
   "execution_count": 258,
   "metadata": {},
   "outputs": [
    {
     "name": "stdout",
     "output_type": "stream",
     "text": [
      "(AB)C: [[95, 118], [211, 262]]\n",
      "A(BC): [[95, 118], [211, 262]]\n",
      "A(B+C): [[23, 29], [51, 65]]\n",
      "AB+AC: [[23, 29], [51, 65]]\n",
      "AB: [[10, 13], [22, 29]]\n",
      "BA: [[11, 16], [19, 28]]\n",
      "AI: [[1, 2], [3, 4]]\n",
      "A: [[1, 2], [3, 4]]\n"
     ]
    }
   ],
   "source": [
    "A = matrix([[1,2],[3,4]])\n",
    "B = matrix([[2,3],[4,5]])\n",
    "C = matrix([[3,4],[5,6]])\n",
    "print(\"(AB)C: {}\".format((A*B)* C))\n",
    "print(\"A(BC): {}\".format(A*(B*C)))\n",
    "print(\"A(B+C): {}\".format(A*(B+C)))\n",
    "print(\"AB+AC: {}\".format(A*B + A*C))\n",
    "print(\"AB: {}\".format(A*B))\n",
    "print(\"BA: {}\".format(B*A))\n",
    "print(\"AI: {}\".format(A*eye(2)))\n",
    "print(\"A: {}\".format(A))"
   ]
  },
  {
   "cell_type": "code",
   "execution_count": null,
   "metadata": {},
   "outputs": [],
   "source": []
  }
 ],
 "metadata": {
  "kernelspec": {
   "display_name": "Python 3",
   "language": "python",
   "name": "python3"
  },
  "language_info": {
   "codemirror_mode": {
    "name": "ipython",
    "version": 3
   },
   "file_extension": ".py",
   "mimetype": "text/x-python",
   "name": "python",
   "nbconvert_exporter": "python",
   "pygments_lexer": "ipython3",
   "version": "3.7.2"
  }
 },
 "nbformat": 4,
 "nbformat_minor": 2
}
