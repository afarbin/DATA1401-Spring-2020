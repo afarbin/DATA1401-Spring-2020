{
  "nbformat": 4,
  "nbformat_minor": 0,
  "metadata": {
    "kernelspec": {
      "display_name": "Python 3",
      "language": "python",
      "name": "python3"
    },
    "language_info": {
      "codemirror_mode": {
        "name": "ipython",
        "version": 3
      },
      "file_extension": ".py",
      "mimetype": "text/x-python",
      "name": "python",
      "nbconvert_exporter": "python",
      "pygments_lexer": "ipython3",
      "version": "3.8.1"
    },
    "colab": {
      "name": "Copy of Lab-6.ipynb",
      "provenance": []
    }
  },
  "cells": [
    {
      "cell_type": "markdown",
      "metadata": {
        "id": "9wgeYHU0dhn5",
        "colab_type": "text"
      },
      "source": [
        "# Lab 6\n"
      ]
    },
    {
      "cell_type": "markdown",
      "metadata": {
        "id": "d8tXN6zSdhn5",
        "colab_type": "text"
      },
      "source": [
        "Matrix Representation: In this lab you will be creating a simple linear algebra system. In memory, we will represent matrices as nested python lists as we have done in lecture. \n",
        "\n",
        "1. Create a `matrix` class with the following properties:\n",
        "    * It can be initialized in 2 ways:\n",
        "        1. with arguments `n` and `m`, the size of the matrix. A newly instanciated matrix will contain all zeros.\n",
        "        2. with a list of lists of values. Note that since we are using lists of lists to implement matrices, it is possible that not all rows have the same number of columns. Test explicitly that the matrix is properly specified.\n",
        "    * Matrix instances `M` can be indexed with `M[i][j]` and `M[i,j]`.\n",
        "    * Matrix assignment works in 2 ways:\n",
        "        1. If `M_1` and `M_2` are `matrix` instances `M_1=M_2` sets the values of `M_1` to those of `M_2`, if they are the same size. Error otherwise.\n",
        "        2. In example above `M_2` can be a list of lists of correct size.\n"
      ]
    },
    {
      "cell_type": "code",
      "metadata": {
        "id": "N2UH3lxsilOH",
        "colab_type": "code",
        "colab": {}
      },
      "source": [
        "class Matrix:\n",
        "    __data=list()\n",
        "\n",
        "    def __init__(self, m, n, fillVal=0):\n",
        "        if (isinstance(fillVal, list)):\n",
        "            check = True\n",
        "            if (len(fillVal)==m):\n",
        "                for element in (fillVal):\n",
        "                    if (len(element)!=n):\n",
        "                        isGood = False\n",
        "                        break\n",
        "\n",
        "            if (check):\n",
        "                self.__data = []\n",
        "                for element in (fillVal):\n",
        "                    self.__data.append(element)\n",
        "        else:\n",
        "            if (n>=0 and m>=0):\n",
        "                self.__data = [[fillVal]*n for iter in range(m)]\n",
        "                \n",
        "            \n",
        "    def shape(self):\n",
        "        return((len(self.__data), len(self.__data[0])))\n",
        "        \n",
        "    def areCompatable(self, testM):\n",
        "        if (isinstance(testM, Matrix)):\n",
        "            rows, cols = testM.shape()\n",
        "            myRows, myCols = self.shape()\n",
        "            if (myRows == rows and myCols == cols ):\n",
        "                return True\n",
        "            else:\n",
        "                return False\n",
        "        else:\n",
        "            return False\n",
        "\n",
        "    def areEqual(self, testM):\n",
        "        if (isinstance(testM, Matrix)):\n",
        "            if (self.areCompatable(testM)):\n",
        "                myRows, myCols = self.shape()\n",
        "                for i in range(myRows):\n",
        "                    for j in range(myCols):\n",
        "                        if (self.__data[i][j] != testM[i][j]):\n",
        "                            return False\n",
        "            else:\n",
        "                return False\n",
        "        else:\n",
        "            return False\n",
        "        \n",
        "        return True\n",
        "\n",
        "    def __str__(self):\n",
        "        return '\\n'.join(map(str, self.__data))      \n",
        "    \n",
        "    def __getitem__(self, index):\n",
        "        if (isinstance(index,int)):\n",
        "            return self.__data[index]\n",
        "        elif (isinstance(index,tuple)):\n",
        "            row, col = index\n",
        "            return self.__data[row][col]\n",
        "        else:\n",
        "            return None  \n",
        "\n",
        " \n",
        "    def __eq__(self, compare):\n",
        "        return self.areEqual(compare)\n",
        "    \n",
        "    def __ne__(self, compare):\n",
        "        if (self.areEqual(compare) == True):\n",
        "            return False\n",
        "        else:\n",
        "            return True"
      ],
      "execution_count": 0,
      "outputs": []
    },
    {
      "cell_type": "code",
      "metadata": {
        "id": "Pq9WLPsYEoxG",
        "colab_type": "code",
        "outputId": "93c98fda-b43c-4851-e146-d862ba75ba50",
        "colab": {
          "base_uri": "https://localhost:8080/",
          "height": 85
        }
      },
      "source": [
        "m1=Matrix(2,3)\n",
        "print(m1.shape())\n",
        "print(m1)\n",
        "print(m1[0][0])"
      ],
      "execution_count": 113,
      "outputs": [
        {
          "output_type": "stream",
          "text": [
            "(2, 3)\n",
            "[0, 0, 0]\n",
            "[0, 0, 0]\n",
            "0\n"
          ],
          "name": "stdout"
        }
      ]
    },
    {
      "cell_type": "code",
      "metadata": {
        "id": "LfbXiI1bEozP",
        "colab_type": "code",
        "outputId": "602e559b-1e2e-458e-f133-882a43e394a1",
        "colab": {
          "base_uri": "https://localhost:8080/",
          "height": 119
        }
      },
      "source": [
        "m2=Matrix(4,4,10)\n",
        "print(m2.shape())\n",
        "print(m2)\n",
        "print(m2[1][0])"
      ],
      "execution_count": 114,
      "outputs": [
        {
          "output_type": "stream",
          "text": [
            "(4, 4)\n",
            "[10, 10, 10, 10]\n",
            "[10, 10, 10, 10]\n",
            "[10, 10, 10, 10]\n",
            "[10, 10, 10, 10]\n",
            "10\n"
          ],
          "name": "stdout"
        }
      ]
    },
    {
      "cell_type": "code",
      "metadata": {
        "id": "5y1n4z0BFBK3",
        "colab_type": "code",
        "outputId": "3cbc7b08-c7ec-4230-b217-e9339958d0a9",
        "colab": {
          "base_uri": "https://localhost:8080/",
          "height": 153
        }
      },
      "source": [
        "m1[0][0]=5\n",
        "print(m1)\n",
        "\n",
        "print('\\n')\n",
        "m2[1][0]=2\n",
        "print(m2)"
      ],
      "execution_count": 115,
      "outputs": [
        {
          "output_type": "stream",
          "text": [
            "[5, 0, 0]\n",
            "[0, 0, 0]\n",
            "\n",
            "\n",
            "[10, 10, 10, 10]\n",
            "[2, 10, 10, 10]\n",
            "[10, 10, 10, 10]\n",
            "[10, 10, 10, 10]\n"
          ],
          "name": "stdout"
        }
      ]
    },
    {
      "cell_type": "code",
      "metadata": {
        "id": "3Gn_Yo-NFymF",
        "colab_type": "code",
        "outputId": "256c9f75-f8df-4f6b-88d5-812b0044d615",
        "colab": {
          "base_uri": "https://localhost:8080/",
          "height": 85
        }
      },
      "source": [
        "print(m1.areCompatable(m2))\n",
        "print(m1==m2)\n",
        "\n",
        "m3=Matrix(4,4,6)\n",
        "print(m2.areCompatable(m3))\n",
        "print(m2==m3)"
      ],
      "execution_count": 116,
      "outputs": [
        {
          "output_type": "stream",
          "text": [
            "False\n",
            "False\n",
            "True\n",
            "False\n"
          ],
          "name": "stdout"
        }
      ]
    },
    {
      "cell_type": "markdown",
      "metadata": {
        "id": "uucB2mOpdhn6",
        "colab_type": "text"
      },
      "source": [
        "2. Add the following methods:\n",
        "    * `shape()`: returns a tuple `(n,m)` of the shape of the matrix.\n",
        "    * `transpose()`: returns a new matrix instance which is the transpose of the matrix.\n",
        "    * `row(n)` and `column(n)`: that return the nth row or column of the matrix M as a new appropriately shaped matrix object.\n",
        "    * `to_list()`: which returns the matrix as a list of lists.\n",
        "    *  `block(n_0,n_1,m_0,m_1)` that returns a smaller matrix located at the n_0 to n_1 columns and m_0 to m_1 rows. \n",
        "    * (Extra credit) Modify `__getitem__` implemented above to support slicing.\n",
        "        "
      ]
    },
    {
      "cell_type": "code",
      "metadata": {
        "id": "E7AjKFQLGdHB",
        "colab_type": "code",
        "colab": {}
      },
      "source": [
        "class Matrix:\n",
        "    __data=list()\n",
        "\n",
        "    def __init__(self, m, n, fillVal=0):\n",
        "        if (isinstance(fillVal, list)):\n",
        "            check = True\n",
        "            if (len(fillVal)==m):\n",
        "                for element in (fillVal):\n",
        "                    if (len(element)!=n):\n",
        "                        isGood = False\n",
        "                        break\n",
        "\n",
        "            if (check):\n",
        "                self.__data = []\n",
        "                for element in (fillVal):\n",
        "                    self.__data.append(element)\n",
        "        else:\n",
        "            if (n>=0 and m>=0):\n",
        "                self.__data = [[fillVal]*n for iter in range(m)]\n",
        "                \n",
        "            \n",
        "    def shape(self):\n",
        "        return((len(self.__data), len(self.__data[0])))\n",
        "        \n",
        "    def areCompatable(self, testM):\n",
        "        if (isinstance(testM, Matrix)):\n",
        "            rows, cols = testM.shape()\n",
        "            myRows, myCols = self.shape()\n",
        "            if (myRows == rows and myCols == cols ):\n",
        "                return True\n",
        "            else:\n",
        "                return False\n",
        "        else:\n",
        "            return False\n",
        "    \n",
        "    def areEqual(self, testM):\n",
        "        if (isinstance(testM, Matrix)):\n",
        "            if (self.areCompatable(testM)):\n",
        "                myRows, myCols = self.shape()\n",
        "                for i in range(myRows):\n",
        "                    for j in range(myCols):\n",
        "                        if (self.__data[i][j] != testM[i][j]):\n",
        "                            return False\n",
        "            else:\n",
        "                return False\n",
        "        else:\n",
        "            return False\n",
        "        \n",
        "        return True\n",
        "\n",
        "    def transpose(self):\n",
        "      rows=len(self.__data)\n",
        "      cols=len(self.__data[0])\n",
        "      out=list()\n",
        "      for i in range(rows):\n",
        "        row=list()\n",
        "        for j in range(cols):\n",
        "          row.append(self.__data[j][i])\n",
        "        out.append(row)\n",
        "      return out\n",
        "\n",
        "    #for row(n) im assuming Dr.Farbin means take the nth row and convert it to a (length of row)x1 matrix\n",
        "    #ex: 3x3 matrix ==> nth row would be converted to a 3x1 matrix\n",
        "    def row(self, n):\n",
        "      out=list()\n",
        "      x=self.__data[n]\n",
        "\n",
        "      for i in range(len(x)):\n",
        "        rows=list()\n",
        "        for j in range(0,1):\n",
        "          rows.append(x[i])\n",
        "        out.append(rows)\n",
        "      return out\n",
        "\n",
        "    #for column(n) im assuming Dr.Farbin means take the nth col and convert it to 1x(# of rows in column) matrix\n",
        "    def column(self, n):\n",
        "      out=list()\n",
        "      \n",
        "      for i in range(len(self.__data)):\n",
        "        for j in range(len(self.__data[i])):\n",
        "          out.append(self.__data[i][n])\n",
        "          break\n",
        "      return out\n",
        "\n",
        "    def to_list(self):\n",
        "      return list(self.__data)\n",
        "\n",
        "    def block(self, m_0,m_1,n_0,n_1):\n",
        "        myRows, myCols = self.shape()\n",
        "        if((m_0>=0 and m_1 <= myRows-1) and (n_0>=0 and n_1<= myCols-1)):\n",
        "          out=list()\n",
        "          for x in self.__data[m_0:m_1]:\n",
        "            out.append(x[n_0:n_1+1])\n",
        "          return out\n",
        "        else:\n",
        "          return None\n",
        "\n",
        "\n",
        "    def __str__(self):\n",
        "        return '\\n'.join(map(str, self.__data))      \n",
        "    \n",
        "    def __getitem__(self, index):\n",
        "        if (isinstance(index,int)):\n",
        "            return self.__data[index]\n",
        "        elif (isinstance(index,tuple)):\n",
        "            row, col = index\n",
        "            return self.__data[row][col]\n",
        "        else:\n",
        "            return None  \n",
        "\n",
        " \n",
        "    def __eq__(self, compare):\n",
        "        return self.areEqual(compare)\n",
        "    \n",
        "    def __ne__(self, compare):\n",
        "        if (self.areEqual(compare) == True):\n",
        "            return False\n",
        "        else:\n",
        "            return True"
      ],
      "execution_count": 0,
      "outputs": []
    },
    {
      "cell_type": "code",
      "metadata": {
        "id": "fZ_ZfQ9YHW3b",
        "colab_type": "code",
        "outputId": "0e42667a-254d-4cde-bc82-453d055cd0de",
        "colab": {
          "base_uri": "https://localhost:8080/",
          "height": 119
        }
      },
      "source": [
        "data=[[1,2,3],[4,5,6],[7,8,9]]\n",
        "m4=Matrix(3, 3, data)\n",
        "print(m4)\n",
        "print(\"Tranpose: \",m4.transpose())\n",
        "print(\"Return 3x1 matrix of row 2:\",m4.row(1))\n",
        "print(\"Return 1x3 matrix of column 1:\",m4.column(0))"
      ],
      "execution_count": 118,
      "outputs": [
        {
          "output_type": "stream",
          "text": [
            "[1, 2, 3]\n",
            "[4, 5, 6]\n",
            "[7, 8, 9]\n",
            "Tranpose:  [[1, 4, 7], [2, 5, 8], [3, 6, 9]]\n",
            "Return 3x1 matrix of row 2: [[4], [5], [6]]\n",
            "Return 1x3 matrix of column 1: [1, 4, 7]\n"
          ],
          "name": "stdout"
        }
      ]
    },
    {
      "cell_type": "code",
      "metadata": {
        "id": "8MQ8QxSzNt1_",
        "colab_type": "code",
        "outputId": "e97df432-073b-4256-f172-37d5d85198bd",
        "colab": {
          "base_uri": "https://localhost:8080/",
          "height": 51
        }
      },
      "source": [
        "print(m4.to_list())\n",
        "m4.block(0,2,1,2)"
      ],
      "execution_count": 119,
      "outputs": [
        {
          "output_type": "stream",
          "text": [
            "[[1, 2, 3], [4, 5, 6], [7, 8, 9]]\n"
          ],
          "name": "stdout"
        },
        {
          "output_type": "execute_result",
          "data": {
            "text/plain": [
              "[[2, 3], [5, 6]]"
            ]
          },
          "metadata": {
            "tags": []
          },
          "execution_count": 119
        }
      ]
    },
    {
      "cell_type": "markdown",
      "metadata": {
        "id": "IzOzXnJAdhn7",
        "colab_type": "text"
      },
      "source": [
        "3. Write functions that create special matrices (note these are standalone functions, not member functions of your `matrix` class):\n",
        "    * `constant(n,m,c)`: returns a `n` by `m` matrix filled with floats of value `c`.\n",
        "    * `zeros(n,m)` and `ones(n,m)`: return `n` by `m` matrices filled with floats of value `0` and `1`, respectively.\n",
        "    * `eye(n)`: returns the n by n identity matrix."
      ]
    },
    {
      "cell_type": "code",
      "metadata": {
        "id": "alBvqi0MzJaR",
        "colab_type": "code",
        "colab": {}
      },
      "source": [
        "def constant(n,m,c):\n",
        "  return [ [c for _ in range(m)] for _ in range(n)]\n",
        "\n",
        "def zeros(n,m):\n",
        "  return [ [0 for _ in range(m)] for _ in range(n)]\n",
        "\n",
        "def ones(n,m):\n",
        "  return [ [1 for _ in range(m)] for _ in range(n)]\n",
        "\n",
        "\n",
        "def eye(n):\n",
        "  M=Matrix(n,n)\n",
        "  for i in range(n):\n",
        "    M[i][i]=1\n",
        "  return M\n"
      ],
      "execution_count": 0,
      "outputs": []
    },
    {
      "cell_type": "code",
      "metadata": {
        "id": "3G9Vc60dzUhP",
        "colab_type": "code",
        "outputId": "8d571a8f-9352-4b26-9b3c-d9405eed7f05",
        "colab": {
          "base_uri": "https://localhost:8080/",
          "height": 187
        }
      },
      "source": [
        "print(\"Constant matrix:\",constant(2,2,4.5))\n",
        "print(\"\\nZero matrix:\",zeros(3,3))\n",
        "print(\"\\nOnes matrix:\",ones(2,3))\n",
        "print(\"\\nIdentity matrix:\",eye(4))"
      ],
      "execution_count": 121,
      "outputs": [
        {
          "output_type": "stream",
          "text": [
            "Constant matrix: [[4.5, 4.5], [4.5, 4.5]]\n",
            "\n",
            "Zero matrix: [[0, 0, 0], [0, 0, 0], [0, 0, 0]]\n",
            "\n",
            "Ones matrix: [[1, 1, 1], [1, 1, 1]]\n",
            "\n",
            "Identity matrix: [1, 0, 0, 0]\n",
            "[0, 1, 0, 0]\n",
            "[0, 0, 1, 0]\n",
            "[0, 0, 0, 1]\n"
          ],
          "name": "stdout"
        }
      ]
    },
    {
      "cell_type": "markdown",
      "metadata": {
        "id": "mq-ygKz5dhn7",
        "colab_type": "text"
      },
      "source": [
        "4. Add the following member functions to your class. Make sure to appropriately test the dimensions of the matrices to make sure the operations are correct.\n",
        "    * `M.scalarmul(c)`: a matrix that is scalar product $cM$, where every element of $M$ is multiplied by $c$.\n",
        "    * `M.add(N)`: adds two matrices $M$ and $N$. Don’t forget to test that the sizes of the matrices are compatible for this and all other operations.\n",
        "    * `M.sub(N)`: subtracts two matrices $M$ and $N$.\n",
        "    * `M.mat_mult(N)`: returns a matrix that is the matrix product of two matrices $M$ and $N$.\n",
        "    * `M.element_mult(N)`: returns a matrix that is the element-wise product of two matrices $M$ and $N$.\n",
        "    * `M.equals(N)`: returns true/false if $M==N$."
      ]
    },
    {
      "cell_type": "code",
      "metadata": {
        "id": "RSk4z9ckbiAM",
        "colab_type": "code",
        "colab": {}
      },
      "source": [
        "class Matrix:\n",
        "    __data=list()\n",
        "\n",
        "    def __init__(self, m, n, fillVal=0):\n",
        "        if (isinstance(fillVal, list)):\n",
        "            check = True\n",
        "            if (len(fillVal)==m):\n",
        "                for element in (fillVal):\n",
        "                    if (len(element)!=n):\n",
        "                        isGood = False\n",
        "                        break\n",
        "\n",
        "            if (check):\n",
        "                self.__data = []\n",
        "                for element in (fillVal):\n",
        "                    self.__data.append(element)\n",
        "        else:\n",
        "            if (n>=0 and m>=0):\n",
        "                self.__data = [[fillVal]*n for iter in range(m)]\n",
        "                \n",
        "            \n",
        "    def shape(self):\n",
        "        return((len(self.__data), len(self.__data[0])))\n",
        "        \n",
        "    def areCompatable(self, testM):\n",
        "        if (isinstance(testM, Matrix)):\n",
        "            rows, cols = testM.shape()\n",
        "            myRows, myCols = self.shape()\n",
        "            if (myRows == rows and myCols == cols ):\n",
        "                return True\n",
        "            else:\n",
        "                return False\n",
        "        else:\n",
        "            return False\n",
        "\n",
        "    def transpose(self):\n",
        "      rows=len(self.__data)\n",
        "      cols=len(self.__data[0])\n",
        "      out=list()\n",
        "      for i in range(rows):\n",
        "        row=list()\n",
        "        for j in range(cols):\n",
        "          row.append(self.__data[j][i])\n",
        "        out.append(row)\n",
        "      return out\n",
        "\n",
        "    #for row(n) im assuming Dr.Farbin means take the nth row and convert it to a (length of row)x1 matrix\n",
        "    #ex: 3x3 matrix ==> nth row would be converted to a 3x1 matrix\n",
        "    def row(self, n):\n",
        "      out=list()\n",
        "      x=self.__data[n]\n",
        "\n",
        "      for i in range(len(x)):\n",
        "        rows=list()\n",
        "        for j in range(0,1):\n",
        "          rows.append(x[i])\n",
        "        out.append(rows)\n",
        "      return out\n",
        "      \n",
        "    #for column(n) im assuming Dr.Farbin means take the nth col and convert it to 1x(# of rows in column) matrix\n",
        "    def column(self, n):\n",
        "      out=list()\n",
        "      \n",
        "      for i in range(len(self.__data)):\n",
        "        for j in range(len(self.__data[i])):\n",
        "          out.append(self.__data[i][n])\n",
        "          break\n",
        "      return out\n",
        "\n",
        "    def to_list(self):\n",
        "      return list(self.__data)\n",
        "\n",
        "    def block(self, m_0,m_1,n_0,n_1):\n",
        "        myRows, myCols = self.shape()\n",
        "        if((m_0>=0 and m_1 <= myRows-1) and (n_0>=0 and n_1<= myCols-1)):\n",
        "          out=list()\n",
        "          for x in self.__data[m_0:m_1]:\n",
        "            out.append(x[n_0:n_1+1])\n",
        "          return out\n",
        "        else:\n",
        "          return None\n",
        "\n",
        "    def M_scalarmul(self,c):\n",
        "      if(isinstance(c, int)==True or (isinstance(c,float)==True)):\n",
        "        out=list()\n",
        "        rows=len(self.__data)\n",
        "        cols=len(self.__data[0])\n",
        "        for i in range(rows):\n",
        "          row=list()\n",
        "          for j in range(cols):\n",
        "            row.append(c*self.__data[i][j])\n",
        "          out.append(row)\n",
        "        return out\n",
        "      else:\n",
        "        return None\n",
        "\n",
        "    def M_add(self, N):\n",
        "      if (isinstance(N, Matrix)):\n",
        "        if(self.areCompatable(N)):\n",
        "          out=self.to_list()\n",
        "          myRows, myCols = self.shape()\n",
        "          for i in range(myRows):\n",
        "            for j in range(myCols):\n",
        "              out[i][j]=self.__data[i][j]+N[i][j]\n",
        "          return out\n",
        "        else:\n",
        "          return None\n",
        "      else:\n",
        "        return None\n",
        "\n",
        "    def M_sub(self, N):\n",
        "      if (isinstance(N, Matrix)):\n",
        "        if(self.areCompatable(N)):\n",
        "          out=self.to_list()\n",
        "          myRows, myCols = self.shape()\n",
        "          for i in range(myRows):\n",
        "            for j in range(myCols):\n",
        "              out[i][j]=self.__data[i][j]-N[i][j]\n",
        "          return out\n",
        "        else:\n",
        "          return None\n",
        "      else:\n",
        "        return None\n",
        "\n",
        "    def M_mat_mul(self, N):\n",
        "      if (isinstance(N, Matrix)):\n",
        "        myRows, myCols = self.shape()\n",
        "        nRows, nCols = N.shape()\n",
        "        if( myCols==nRows ):\n",
        "          out=[[0]*nCols for i in range(myRows)]\n",
        "          for i in range(myRows):\n",
        "            for j in range(nCols):\n",
        "              for k in range(nRows):\n",
        "                out[i][j] += self.__data[i][k] * N[k][j]\n",
        "          return out\n",
        "        else:\n",
        "          return None\n",
        "      else:\n",
        "        return None\n",
        "\n",
        "    def M_element_mul(self, N):\n",
        "      if(isinstance(N,Matrix)):\n",
        "        if(self.areCompatable(N)):\n",
        "          myRows, myCols = self.shape()\n",
        "          out=self.to_list()\n",
        "          for i in range(myRows):\n",
        "            for j in range(myCols):\n",
        "              out[i][j]=self.__data[i][j]*N[i][j]\n",
        "          return out\n",
        "        else:\n",
        "          return None\n",
        "\n",
        "    def M_equal(self, N):\n",
        "        if (isinstance(N, Matrix)):\n",
        "            if (self.areCompatable(N)):\n",
        "                myRows, myCols = self.shape()\n",
        "                for i in range(myRows):\n",
        "                    for j in range(myCols):\n",
        "                        if (self.__data[i][j] != N[i][j]):\n",
        "                            return False\n",
        "            else:\n",
        "                return False\n",
        "        else:\n",
        "            return False\n",
        "        \n",
        "        return True\n",
        "\n",
        "\n",
        "\n",
        "\n",
        "    def __str__(self):\n",
        "        return '\\n'.join(map(str, self.__data))      \n",
        "    \n",
        "    def __getitem__(self, index):\n",
        "        if (isinstance(index,int)):\n",
        "            return self.__data[index]\n",
        "        elif (isinstance(index,tuple)):\n",
        "            row, col = index\n",
        "            return self.__data[row][col]\n",
        "        else:\n",
        "            return None  \n",
        " \n",
        "    def __eq__(self, compare):\n",
        "        return self.areEqual(compare)"
      ],
      "execution_count": 0,
      "outputs": []
    },
    {
      "cell_type": "code",
      "metadata": {
        "id": "3TxG8rvcwG3P",
        "colab_type": "code",
        "outputId": "4038124c-d9a6-474e-8c93-ea05a901ccb7",
        "colab": {
          "base_uri": "https://localhost:8080/",
          "height": 153
        }
      },
      "source": [
        "m1=Matrix(2,2,2)\n",
        "m2=Matrix(2,3,5)\n",
        "print(\"Matrix 1:\",m1)\n",
        "print(\"Matrix 2:\", m2)\n",
        "\n",
        "print(\"\\nScalar Multi. M1*4:\",m1.M_scalarmul(4))\n",
        "print(\"\\nScalar Multi. M2*3:\", m2.M_scalarmul(3))"
      ],
      "execution_count": 123,
      "outputs": [
        {
          "output_type": "stream",
          "text": [
            "Matrix 1: [2, 2]\n",
            "[2, 2]\n",
            "Matrix 2: [5, 5, 5]\n",
            "[5, 5, 5]\n",
            "\n",
            "Scalar Multi. M1*4: [[8, 8], [8, 8]]\n",
            "\n",
            "Scalar Multi. M2*3: [[15, 15, 15], [15, 15, 15]]\n"
          ],
          "name": "stdout"
        }
      ]
    },
    {
      "cell_type": "code",
      "metadata": {
        "id": "td53WVicmPK9",
        "colab_type": "code",
        "outputId": "6fe20c19-3789-4fdd-91a1-4f2b4b1229b0",
        "colab": {
          "base_uri": "https://localhost:8080/",
          "height": 187
        }
      },
      "source": [
        "mat1=Matrix(2,2,5)\n",
        "mat2=Matrix(2,2,[[1,2],[3,4]])\n",
        "mat3=Matrix(2,3,4)\n",
        "print(\"Matrix 1:\",mat1)\n",
        "print(\"Matrix 2:\", mat2)\n",
        "print(\"Matrix 3:\", mat3)\n",
        "\n",
        "print(\"\\nMatrix Addition M1+M2:\", mat1.M_add(mat2), \"\\n\")\n",
        "print(\"Matrix Addition M1+M3:\",mat1.M_add(mat3))\n"
      ],
      "execution_count": 124,
      "outputs": [
        {
          "output_type": "stream",
          "text": [
            "Matrix 1: [5, 5]\n",
            "[5, 5]\n",
            "Matrix 2: [1, 2]\n",
            "[3, 4]\n",
            "Matrix 3: [4, 4, 4]\n",
            "[4, 4, 4]\n",
            "\n",
            "Matrix Addition M1+M2: [[6, 7], [8, 9]] \n",
            "\n",
            "Matrix Addition M1+M3: None\n"
          ],
          "name": "stdout"
        }
      ]
    },
    {
      "cell_type": "code",
      "metadata": {
        "id": "LH-fWOG0oURf",
        "colab_type": "code",
        "outputId": "4ed48ea1-0bb6-438f-b626-fb62a316a865",
        "colab": {
          "base_uri": "https://localhost:8080/",
          "height": 255
        }
      },
      "source": [
        "m1=Matrix(3,3,5)\n",
        "m2=Matrix(3,3,2)\n",
        "m3=Matrix(4,3,2)\n",
        "print(\"Matrix 1:\", m1)\n",
        "print(\"Matrix 2:\", m2)\n",
        "print(\"Matrix 3:\", m3)\n",
        "\n",
        "print(\"\\nMatrix Subtraction: M1-M2:\", m1.M_sub(m2))\n",
        "print(\"\\nMatrix Subtraction M1-M3:\", m1.M_sub(m3))"
      ],
      "execution_count": 125,
      "outputs": [
        {
          "output_type": "stream",
          "text": [
            "Matrix 1: [5, 5, 5]\n",
            "[5, 5, 5]\n",
            "[5, 5, 5]\n",
            "Matrix 2: [2, 2, 2]\n",
            "[2, 2, 2]\n",
            "[2, 2, 2]\n",
            "Matrix 3: [2, 2, 2]\n",
            "[2, 2, 2]\n",
            "[2, 2, 2]\n",
            "[2, 2, 2]\n",
            "\n",
            "Matrix Subtraction: M1-M2: [[3, 3, 3], [3, 3, 3], [3, 3, 3]]\n",
            "\n",
            "Matrix Subtraction M1-M3: None\n"
          ],
          "name": "stdout"
        }
      ]
    },
    {
      "cell_type": "code",
      "metadata": {
        "id": "40nFark2psjo",
        "colab_type": "code",
        "outputId": "a7c8ddb5-d2bb-4d78-9041-f92c78a3700f",
        "colab": {
          "base_uri": "https://localhost:8080/",
          "height": 204
        }
      },
      "source": [
        "m1=Matrix(2,2,[[1,2],[3,4,]])\n",
        "m2=Matrix(2,3,3)\n",
        "m3=Matrix(3,2,4)\n",
        "print(\"Matrix 1:\", m1)\n",
        "print(\"Matrix 2:\", m2)\n",
        "print(\"Matrix 3:\", m3)\n",
        "\n",
        "print(\"\\nMatrix Multi. M1*M2:\", m1.M_mat_mul(m2))\n",
        "print(\"\\nMatrix Multi. M1*M3:\", m1.M_mat_mul(m3))"
      ],
      "execution_count": 126,
      "outputs": [
        {
          "output_type": "stream",
          "text": [
            "Matrix 1: [1, 2]\n",
            "[3, 4]\n",
            "Matrix 2: [3, 3, 3]\n",
            "[3, 3, 3]\n",
            "Matrix 3: [4, 4]\n",
            "[4, 4]\n",
            "[4, 4]\n",
            "\n",
            "Matrix Multi. M1*M2: [[9, 9, 9], [21, 21, 21]]\n",
            "\n",
            "Matrix Multi. M1*M3: None\n"
          ],
          "name": "stdout"
        }
      ]
    },
    {
      "cell_type": "code",
      "metadata": {
        "id": "7e4EqHyupsmQ",
        "colab_type": "code",
        "outputId": "62d81f57-a512-4932-80d2-9f9d9d1fe17a",
        "colab": {
          "base_uri": "https://localhost:8080/",
          "height": 187
        }
      },
      "source": [
        "data=[[1,2],[3,4]]\n",
        "m1=Matrix(2,2,data)\n",
        "m2=Matrix(2,2,3)\n",
        "m3=Matrix(2,3,4)\n",
        "print(\"Matrix 1:\", m1)\n",
        "print(\"Matrix 2:\", m2)\n",
        "print(\"Matrix 3:\", m3)\n",
        "\n",
        "print(\"\\nElement mult. M1*M2:\", m1.M_element_mul(m2))\n",
        "print(\"\\nElement mult. M1*M3:\", m1.M_element_mul(m3))"
      ],
      "execution_count": 127,
      "outputs": [
        {
          "output_type": "stream",
          "text": [
            "Matrix 1: [1, 2]\n",
            "[3, 4]\n",
            "Matrix 2: [3, 3]\n",
            "[3, 3]\n",
            "Matrix 3: [4, 4, 4]\n",
            "[4, 4, 4]\n",
            "\n",
            "Element mult. M1*M2: [[3, 6], [9, 12]]\n",
            "\n",
            "Element mult. M1*M3: None\n"
          ],
          "name": "stdout"
        }
      ]
    },
    {
      "cell_type": "code",
      "metadata": {
        "id": "L3t7ZBx2psoN",
        "colab_type": "code",
        "outputId": "3dc5c966-7a7f-41bc-9b01-6b4d6ed07b52",
        "colab": {
          "base_uri": "https://localhost:8080/",
          "height": 187
        }
      },
      "source": [
        "m1=Matrix(2,2,[[1,2],[3,4]])\n",
        "m2=Matrix(2,2,[[1,2],[3,4]])\n",
        "m3=Matrix(2,2,4)\n",
        "print(\"Matrix 1:\", m1)\n",
        "print(\"Matrix 2:\", m2)\n",
        "print(\"Matrix 3:\", m3)\n",
        "\n",
        "print(\"\\nMatrix equality M1==M2:\", m1.M_equal(m2))\n",
        "print(\"\\nMatrix equality M1==M3:\", m1.M_equal(m3))"
      ],
      "execution_count": 128,
      "outputs": [
        {
          "output_type": "stream",
          "text": [
            "Matrix 1: [1, 2]\n",
            "[3, 4]\n",
            "Matrix 2: [1, 2]\n",
            "[3, 4]\n",
            "Matrix 3: [4, 4]\n",
            "[4, 4]\n",
            "\n",
            "Matrix equality M1==M2: True\n",
            "\n",
            "Matrix equality M1==M3: False\n"
          ],
          "name": "stdout"
        }
      ]
    },
    {
      "cell_type": "markdown",
      "metadata": {
        "id": "qzF8yeeTdhn8",
        "colab_type": "text"
      },
      "source": [
        "5. Overload python operators to appropriately use your functions in 4 and allow expressions like:\n",
        "    * 2*M\n",
        "    * M*2\n",
        "    * M+N\n",
        "    * M-N\n",
        "    * M*N\n",
        "    * M==N\n",
        "    * M=N\n"
      ]
    },
    {
      "cell_type": "code",
      "metadata": {
        "id": "fx90OofGuYmU",
        "colab_type": "code",
        "colab": {}
      },
      "source": [
        "class Matrix:\n",
        "    __data=list()\n",
        "\n",
        "    def __init__(self, m, n, fillVal=0):\n",
        "        if (isinstance(fillVal, list)):\n",
        "            check = True\n",
        "            if (len(fillVal)==m):\n",
        "                for element in (fillVal):\n",
        "                    if (len(element)!=n):\n",
        "                        isGood = False\n",
        "                        break\n",
        "\n",
        "            if (check):\n",
        "                self.__data = []\n",
        "                for element in (fillVal):\n",
        "                    self.__data.append(element)\n",
        "        else:\n",
        "            if (n>=0 and m>=0):\n",
        "                self.__data = [[fillVal]*n for iter in range(m)]\n",
        "                \n",
        "            \n",
        "    def shape(self):\n",
        "        return((len(self.__data), len(self.__data[0])))\n",
        "        \n",
        "    def areCompatable(self, testM):\n",
        "        if (isinstance(testM, Matrix)):\n",
        "            rows, cols = testM.shape()\n",
        "            myRows, myCols = self.shape()\n",
        "            if (myRows == rows and myCols == cols ):\n",
        "                return True\n",
        "            else:\n",
        "                return False\n",
        "        else:\n",
        "            return False\n",
        "\n",
        "    def transpose(self):\n",
        "      rows=len(self.__data)\n",
        "      cols=len(self.__data[0])\n",
        "      out=list()\n",
        "      for i in range(rows):\n",
        "        row=list()\n",
        "        for j in range(cols):\n",
        "          row.append(self.__data[j][i])\n",
        "        out.append(row)\n",
        "      return out\n",
        "\n",
        "    #for row(n) im assuming Dr.Farbin means take the nth row and convert it to a (length of row)x1 matrix\n",
        "    #ex: 3x3 matrix ==> nth row would be converted to a 3x1 matrix\n",
        "    def row(self, n):\n",
        "      out=list()\n",
        "      x=self.__data[n]\n",
        "\n",
        "      for i in range(len(x)):\n",
        "        rows=list()\n",
        "        for j in range(0,1):\n",
        "          rows.append(x[i])\n",
        "        out.append(rows)\n",
        "      return out\n",
        "      \n",
        "    #for column(n) im assuming Dr.Farbin means take the nth col and convert it to 1x(# of rows in column) matrix\n",
        "    def column(self, n):\n",
        "      out=list()\n",
        "      \n",
        "      for i in range(len(self.__data)):\n",
        "        for j in range(len(self.__data[i])):\n",
        "          out.append(self.__data[i][n])\n",
        "          break\n",
        "      return out\n",
        "\n",
        "    def to_list(self):\n",
        "      return list(self.__data)\n",
        "\n",
        "    def block(self, m_0,m_1,n_0,n_1):\n",
        "        myRows, myCols = self.shape()\n",
        "        if((m_0>=0 and m_1 <= myRows-1) and (n_0>=0 and n_1<= myCols-1)):\n",
        "          out=list()\n",
        "          for x in self.__data[m_0:m_1]:\n",
        "            out.append(x[n_0:n_1+1])\n",
        "          return out\n",
        "        else:\n",
        "          return None\n",
        "\n",
        "    def M_scalarmul(self,c):\n",
        "      if(isinstance(c, int)==True or (isinstance(c,float)==True)):\n",
        "        rows=len(self.__data)\n",
        "        cols=len(self.__data[0])\n",
        "        outM=Matrix(rows,cols)\n",
        "        for i in range(rows):\n",
        "          for j in range(cols):\n",
        "            outM[i][j]=c*self.__data[i][j]\n",
        "        return outM\n",
        "      else:\n",
        "        return None\n",
        "\n",
        "    def M_add(self, N):\n",
        "      if (isinstance(N, Matrix)):\n",
        "        if(self.areCompatable(N)):\n",
        "          myRows, myCols = self.shape()\n",
        "          outM=Matrix(myRows,myCols)\n",
        "          for i in range(myRows):\n",
        "            for j in range(myCols):\n",
        "              outM[i][j]=self.__data[i][j]+N[i][j]\n",
        "          return outM\n",
        "        else:\n",
        "          return None\n",
        "      else:\n",
        "        return None\n",
        "\n",
        "    def M_sub(self, N):\n",
        "      if (isinstance(N, Matrix)):\n",
        "        if(self.areCompatable(N)):\n",
        "          myRows, myCols = self.shape()\n",
        "          outM=Matrix(myRows,myCols)\n",
        "          for i in range(myRows):\n",
        "            for j in range(myCols):\n",
        "              outM[i][j]=self.__data[i][j]-N[i][j]\n",
        "          return outM\n",
        "        else:\n",
        "          return None\n",
        "      else:\n",
        "        return None\n",
        "\n",
        "    def M_mat_mul(self, N):\n",
        "      if (isinstance(N, Matrix)):\n",
        "        myRows, myCols = self.shape()\n",
        "        nRows, nCols = N.shape()\n",
        "        if( myCols==nRows ):\n",
        "          outM=Matrix(myRows,myCols)\n",
        "          for i in range(myRows):\n",
        "            for j in range(nCols):\n",
        "              for k in range(nRows):\n",
        "                outM[i][j] += self.__data[i][k] * N[k][j]\n",
        "          return outM\n",
        "        else:\n",
        "          return None\n",
        "      else:\n",
        "        return None\n",
        "\n",
        "    def M_element_mul(self, N):\n",
        "      if(isinstance(N,Matrix)):\n",
        "        if(self.areCompatable(N)):\n",
        "          myRows, myCols = self.shape()\n",
        "          outM=Matrix(myRows,myCols)\n",
        "          for i in range(myRows):\n",
        "            for j in range(myCols):\n",
        "              outM[i][j]=self.__data[i][j]*N[i][j]\n",
        "          return outM\n",
        "        else:\n",
        "          return None\n",
        "\n",
        "    def M_equal(self, N):\n",
        "        if (isinstance(N, Matrix)):\n",
        "            if (self.areCompatable(N)):\n",
        "                myRows, myCols = self.shape()\n",
        "                for i in range(myRows):\n",
        "                    for j in range(myCols):\n",
        "                        if (self.__data[i][j] != N[i][j]):\n",
        "                            return False\n",
        "            else:\n",
        "                return False\n",
        "        else:\n",
        "            return False\n",
        "        \n",
        "        return True\n",
        "\n",
        "    def set_equal(self, N):\n",
        "      if (isinstance(N,Matrix)):\n",
        "        if(self.areCompatable(N)):\n",
        "          myRows, myCols = self.shape()\n",
        "          for i in range(myRows):\n",
        "            for j in range(myCols):\n",
        "              self.__data[i][j]=N[i][j]\n",
        "        else:\n",
        "          print(\"Matrices must be same dimension\")\n",
        "      else:\n",
        "        return None\n",
        "\n",
        "      return self.__data\n",
        "\n",
        "\n",
        "\n",
        "\n",
        "    def __str__(self):\n",
        "        return '\\n'.join(map(str, self.__data))      \n",
        "    \n",
        "    def __getitem__(self, index):\n",
        "        if (isinstance(index,int)):\n",
        "            return self.__data[index]\n",
        "        elif (isinstance(index,tuple)):\n",
        "            row, col = index\n",
        "            return self.__data[row][col]\n",
        "        else:\n",
        "            return None  \n",
        " \n",
        "    def __eq__(self, compare):\n",
        "        return self.M_equal(compare)\n",
        "\n",
        "    def __seq__(self, compare):\n",
        "      return self.set_equal(compare)\n",
        "\n",
        "    def __add__(self, other):\n",
        "      return self.M_add(other)\n",
        "    \n",
        "    def __sub__(self, other):\n",
        "      return self.M_sub(other)\n",
        "\n",
        "    def __mul__(self,other):\n",
        "      if(isinstance(other, Matrix)):\n",
        "        return self.M_mat_mul(other)\n",
        "      else:\n",
        "        return self.M_scalarmul(other)"
      ],
      "execution_count": 0,
      "outputs": []
    },
    {
      "cell_type": "code",
      "metadata": {
        "id": "0oi_YvcYFPJU",
        "colab_type": "code",
        "colab": {
          "base_uri": "https://localhost:8080/",
          "height": 697
        },
        "outputId": "0594839b-1094-44ea-c50f-27b99fa52d21"
      },
      "source": [
        "m1 = Matrix(4,4,5)\n",
        "m2 = Matrix(4,4,6)\n",
        "print('Matrix 1:\\n', m1)\n",
        "print(\"Matrix 2:\\n\", m2)\n",
        "\n",
        "print('\\nM1*2')\n",
        "r1 = m1*2\n",
        "print(r1)\n",
        "\n",
        "print('\\n2*M1')\n",
        "r1 = m1*2\n",
        "print(r1)\n",
        "\n",
        "r2=m1+m2\n",
        "print(\"\\nM1+M2:\\n\",r2)\n",
        "\n",
        "r3=m2-m1\n",
        "print(\"\\nM2-M1:\\n\", r3)\n",
        "\n",
        "print(\"\\nM1==M2:\\n\", m1==m2)\n",
        "\n",
        "print(\"\\nM1=M2:\\nNew Matrix 1:\", m1.set_equal(m2))"
      ],
      "execution_count": 133,
      "outputs": [
        {
          "output_type": "stream",
          "text": [
            "Matrix 1:\n",
            " [5, 5, 5, 5]\n",
            "[5, 5, 5, 5]\n",
            "[5, 5, 5, 5]\n",
            "[5, 5, 5, 5]\n",
            "Matrix 2:\n",
            " [6, 6, 6, 6]\n",
            "[6, 6, 6, 6]\n",
            "[6, 6, 6, 6]\n",
            "[6, 6, 6, 6]\n",
            "\n",
            "M1*2\n",
            "[10, 10, 10, 10]\n",
            "[10, 10, 10, 10]\n",
            "[10, 10, 10, 10]\n",
            "[10, 10, 10, 10]\n",
            "\n",
            "2*M1\n",
            "[10, 10, 10, 10]\n",
            "[10, 10, 10, 10]\n",
            "[10, 10, 10, 10]\n",
            "[10, 10, 10, 10]\n",
            "\n",
            "M1+M2:\n",
            " [11, 11, 11, 11]\n",
            "[11, 11, 11, 11]\n",
            "[11, 11, 11, 11]\n",
            "[11, 11, 11, 11]\n",
            "\n",
            "M2-M1:\n",
            " [1, 1, 1, 1]\n",
            "[1, 1, 1, 1]\n",
            "[1, 1, 1, 1]\n",
            "[1, 1, 1, 1]\n",
            "\n",
            "M1==M2:\n",
            " False\n",
            "\n",
            "M1=M2:\n",
            "New Matrix 1: [[6, 6, 6, 6], [6, 6, 6, 6], [6, 6, 6, 6], [6, 6, 6, 6]]\n"
          ],
          "name": "stdout"
        }
      ]
    },
    {
      "cell_type": "markdown",
      "metadata": {
        "id": "9CPWxgxgdhn8",
        "colab_type": "text"
      },
      "source": [
        "6. Demonstrate the basic properties of matrices with your matrix class by creating two 2 by 2 example matrices using your Matrix class and illustrating the following:\n",
        "\n",
        "$$\n",
        "(AB)C=A(BC)\n",
        "$$\n",
        "$$\n",
        "A(B+C)=AB+AC\n",
        "$$\n",
        "$$\n",
        "AB\\neq BA\n",
        "$$\n",
        "$$\n",
        "AI=A\n",
        "$$"
      ]
    },
    {
      "cell_type": "code",
      "metadata": {
        "id": "ZmXfUipydhn9",
        "colab_type": "code",
        "colab": {
          "base_uri": "https://localhost:8080/",
          "height": 170
        },
        "outputId": "99edd0d6-3145-41a6-f287-0c2994232919"
      },
      "source": [
        "matrixA=Matrix(2,2,3)\n",
        "matrixB=Matrix(2,2,4)\n",
        "matrixC=Matrix(2,2,2)\n",
        "print('Matrix A:\\n', matrixA)\n",
        "print(\"Matrix B:\\n\", matrixB)\n",
        "print(\"Matrix C:\\n\", matrixC)"
      ],
      "execution_count": 131,
      "outputs": [
        {
          "output_type": "stream",
          "text": [
            "Matrix A:\n",
            " [3, 3]\n",
            "[3, 3]\n",
            "Matrix B:\n",
            " [4, 4]\n",
            "[4, 4]\n",
            "Matrix C:\n",
            " [2, 2]\n",
            "[2, 2]\n"
          ],
          "name": "stdout"
        }
      ]
    },
    {
      "cell_type": "code",
      "metadata": {
        "id": "IckvLQGqUDxQ",
        "colab_type": "code",
        "colab": {
          "base_uri": "https://localhost:8080/",
          "height": 867
        },
        "outputId": "1e18c21f-c505-43bf-e182-ade4269a0ae1"
      },
      "source": [
        "AB=matrixA*matrixB\n",
        "AB_C=AB*matrixC\n",
        "print(\"Testing (AB)C=A(BC):\")\n",
        "print(\"(AB)C:\\n\", AB_C)\n",
        "A_BC=matrixA*(matrixB*matrixC)\n",
        "print(\"\\nA(BC):\\n\", A_BC)\n",
        "print(\"\\n(AB)C=A(BC):\\n\", AB_C==A_BC)\n",
        "\n",
        "\n",
        "print(\"\\n\\nTesting A(B+C)=AB+AC:\")\n",
        "A_BpC=matrixA*(matrixB+matrixC)\n",
        "print(\"A(B+C):\\n\", A_BpC)\n",
        "AB_AC=(matrixA*matrixB)+(matrixA*matrixC)\n",
        "print(\"\\nAB+AC:\\n\", AB_AC)\n",
        "print(\"\\nA(B+C)=AB+AC:\\n\", A_BpC==AB_AC)\n",
        "\n",
        "\n",
        "print(\"\\n\\nTesting 𝐴𝐵≠𝐵𝐴:\")\n",
        "BA=matrixA*matrixB\n",
        "print(\"AB:\\n\", AB)\n",
        "print(\"\\nBA:\\n\", BA)\n",
        "print(\"\\n𝐴𝐵≠𝐵𝐴:\\n\", AB==BA)\n",
        "\n",
        "\n",
        "print(\"\\n\\nTesting AI=A:\")\n",
        "I=eye(2)\n",
        "AI=matrixA*I\n",
        "print(\"AI:\\n\",AI)\n",
        "print(\"\\nA:\\n\", matrixA)\n",
        "print(\"\\nAI=A:\\n\", AI==matrixA)"
      ],
      "execution_count": 132,
      "outputs": [
        {
          "output_type": "stream",
          "text": [
            "Testing (AB)C=A(BC):\n",
            "(AB)C:\n",
            " [96, 96]\n",
            "[96, 96]\n",
            "\n",
            "A(BC):\n",
            " [96, 96]\n",
            "[96, 96]\n",
            "\n",
            "(AB)C=A(BC):\n",
            " True\n",
            "\n",
            "\n",
            "Testing A(B+C)=AB+AC:\n",
            "A(B+C):\n",
            " [36, 36]\n",
            "[36, 36]\n",
            "\n",
            "AB+AC:\n",
            " [36, 36]\n",
            "[36, 36]\n",
            "\n",
            "A(B+C)=AB+AC:\n",
            " True\n",
            "\n",
            "\n",
            "Testing 𝐴𝐵≠𝐵𝐴:\n",
            "AB:\n",
            " [24, 24]\n",
            "[24, 24]\n",
            "\n",
            "BA:\n",
            " [24, 24]\n",
            "[24, 24]\n",
            "\n",
            "𝐴𝐵≠𝐵𝐴:\n",
            " True\n",
            "\n",
            "\n",
            "Testing AI=A:\n",
            "AI:\n",
            " [3, 3]\n",
            "[3, 3]\n",
            "\n",
            "A:\n",
            " [3, 3]\n",
            "[3, 3]\n",
            "\n",
            "AI=A:\n",
            " True\n"
          ],
          "name": "stdout"
        }
      ]
    },
    {
      "cell_type": "code",
      "metadata": {
        "id": "OgOhZ40vxd_x",
        "colab_type": "code",
        "colab": {}
      },
      "source": [
        ""
      ],
      "execution_count": 0,
      "outputs": []
    }
  ]
}