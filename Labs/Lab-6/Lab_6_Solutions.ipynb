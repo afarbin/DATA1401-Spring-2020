{
 "cells": [
  {
   "cell_type": "markdown",
   "metadata": {},
   "source": [
    "# LAB 6"
   ]
  },
  {
   "cell_type": "markdown",
   "metadata": {},
   "source": [
    "problem 1: "
   ]
  },
  {
   "cell_type": "code",
   "execution_count": 154,
   "metadata": {},
   "outputs": [],
   "source": [
    "#solution\n",
    "class Matrix:\n",
    "    def matrix(self,n,m):\n",
    "        empty=0\n",
    "        board=[[empty]*n for i in range(m)]\n",
    "        board=np.array(board)\n",
    "        return board\n",
    "mat=Matrix()"
   ]
  },
  {
   "cell_type": "code",
   "execution_count": 160,
   "metadata": {},
   "outputs": [
    {
     "name": "stdout",
     "output_type": "stream",
     "text": [
      "n x m matrix:\n",
      "[[0 0]\n",
      " [0 0]\n",
      " [0 0]\n",
      " [0 0]\n",
      " [0 0]]\n",
      "specific list within the list:\n",
      "[0 0]\n",
      "initializes another list & sets them equal in value:\n",
      "[[0 0]\n",
      " [0 0]\n",
      " [0 0]\n",
      " [0 0]\n",
      " [0 0]]\n"
     ]
    }
   ],
   "source": [
    "#test run\n",
    "practice=mat.matrix(2,5)\n",
    "print(\"n x m matrix:\")\n",
    "print(practice) #prints the n x m matrix\n",
    "print(\"specific list within the list:\")\n",
    "print(practice[2]) #prints a specific list within the list \n",
    "print(\"initializes another list & sets them equal in value:\")\n",
    "practice1=practice #initializes another list, sets them equal in value\n",
    "print(practice1) #prints the second list out "
   ]
  },
  {
   "cell_type": "markdown",
   "metadata": {},
   "source": [
    "problem 2:"
   ]
  },
  {
   "cell_type": "code",
   "execution_count": 161,
   "metadata": {},
   "outputs": [],
   "source": [
    "#solution\n",
    "#add the following methods to the matrix class above \n",
    "#methods: functions that are defined as part of a class \n",
    "#no indication that they need to be \"private\"\n",
    "import numpy as np\n",
    "class Matrix:\n",
    "    def matrix(self,n,m):\n",
    "        empty=0\n",
    "        board=[[empty]*n for i in range(m)]\n",
    "        board=np.array(board)\n",
    "        return board\n",
    "    \n",
    "    def shape(self,n,m):\n",
    "        empty=0\n",
    "        board=[[empty]*n for i in range(m)]\n",
    "        x = np.array(board)\n",
    "        x2= np.shape(x)\n",
    "        return x2\n",
    "    \n",
    "    def transpose(self,n,m):\n",
    "        empty=0\n",
    "        board=[[empty]*n for i in range(m)]\n",
    "        x=np.transpose(board)\n",
    "        return x\n",
    "    \n",
    "    def row_col(self,n,m,row,col):\n",
    "        empty=0\n",
    "        board=[[empty]*n for i in range(m)]\n",
    "        print(board[row])\n",
    "        columns=[]\n",
    "        for arr in board:\n",
    "            arr=arr[col]\n",
    "            columns.append(arr)\n",
    "        return columns\n",
    "    \n",
    "    def to_list(self,n,m): #this method returns the matrix as a list of lists \n",
    "        empty=0\n",
    "        board=[[empty]*n for i in range(m)]\n",
    "        return board\n",
    "        \n",
    "    def block(self, n,m, startRow, startCol, size):\n",
    "        empty=0\n",
    "        board=[[empty]*n for i in range(m)]\n",
    "        x = np.array(board)\n",
    "        return x[startRow:startRow+size,startCol:startCol+size]\n",
    "        ###REVIEW THE BLOCK PORTION AGAIN TRY TO MAKE IT FIT THE MATRIX WE CREATE \n",
    "    \n",
    "    \n",
    "mat=Matrix()"
   ]
  },
  {
   "cell_type": "code",
   "execution_count": 173,
   "metadata": {},
   "outputs": [
    {
     "name": "stdout",
     "output_type": "stream",
     "text": [
      "returns the matrix:\n",
      "[[0 0]\n",
      " [0 0]\n",
      " [0 0]\n",
      " [0 0]\n",
      " [0 0]]\n",
      "returns the tuple:\n",
      "(5, 2)\n",
      "returns the transpose matrix:\n",
      "[[0 0 0 0 0]\n",
      " [0 0 0 0 0]]\n",
      "returns the row & column:\n",
      "[0, 0]\n",
      "[0, 0, 0, 0, 0]\n",
      "returns the matrix as a list of lists:\n",
      "[[0, 0], [0, 0], [0, 0], [0, 0], [0, 0]]\n",
      "returns a block of the matrix:\n",
      "[]\n"
     ]
    }
   ],
   "source": [
    "#test run\n",
    "practice_matrix=mat.matrix(2,5)\n",
    "practice_shape=mat.shape(2,5)\n",
    "practice_transpose=mat.transpose(2,5)\n",
    "#practice_rowcol=mat.row_col(2,5,0,1)\n",
    "practice_tolist=mat.to_list(2,5)\n",
    "practice_block=mat.block(2,5,1,3,2)\n",
    "\n",
    "print(\"returns the matrix:\")\n",
    "print(practice_matrix)\n",
    "print(\"returns the tuple:\")\n",
    "print(practice_shape)\n",
    "print(\"returns the transpose matrix:\")\n",
    "print(practice_transpose)\n",
    "print(\"returns the row & column:\")\n",
    "practice_rowcol=mat.row_col(2,5,0,1)\n",
    "print(practice_rowcol) #prints col, not row. figure out how to return row \n",
    "print(\"returns the matrix as a list of lists:\")\n",
    "print(practice_tolist)\n",
    "print(\"returns a block of the matrix:\")\n",
    "print(practice_block)"
   ]
  },
  {
   "cell_type": "markdown",
   "metadata": {},
   "source": [
    "problem 3:"
   ]
  },
  {
   "cell_type": "code",
   "execution_count": 226,
   "metadata": {},
   "outputs": [
    {
     "data": {
      "text/plain": [
       "array([[5, 5],\n",
       "       [5, 5],\n",
       "       [5, 5]])"
      ]
     },
     "execution_count": 226,
     "metadata": {},
     "output_type": "execute_result"
    }
   ],
   "source": [
    "#solution\n",
    "import numpy as np\n",
    "def constant(n,m,c):\n",
    "    board=[[c]*n for i in range(m)]\n",
    "    board=np.array(board)\n",
    "    return board\n",
    "\n",
    "constant(2,3,5)"
   ]
  },
  {
   "cell_type": "code",
   "execution_count": 216,
   "metadata": {},
   "outputs": [
    {
     "data": {
      "text/plain": [
       "array([[0, 0, 0],\n",
       "       [0, 0, 0]])"
      ]
     },
     "execution_count": 216,
     "metadata": {},
     "output_type": "execute_result"
    }
   ],
   "source": [
    "import numpy as np\n",
    "def zero(n,m):\n",
    "    zero = np.zeros([n, m], dtype = int) \n",
    "    return zero\n",
    "\n",
    "zero(2,3)"
   ]
  },
  {
   "cell_type": "code",
   "execution_count": 217,
   "metadata": {},
   "outputs": [
    {
     "data": {
      "text/plain": [
       "array([[1, 1, 1],\n",
       "       [1, 1, 1]])"
      ]
     },
     "execution_count": 217,
     "metadata": {},
     "output_type": "execute_result"
    }
   ],
   "source": [
    "import numpy as np\n",
    "def one(n,m):\n",
    "    one = np.ones([n, m], dtype = int) \n",
    "    return one\n",
    "\n",
    "one(2,3)"
   ]
  },
  {
   "cell_type": "code",
   "execution_count": 225,
   "metadata": {},
   "outputs": [
    {
     "data": {
      "text/plain": [
       "array([[3, 3, 3],\n",
       "       [3, 3, 3],\n",
       "       [3, 3, 3]])"
      ]
     },
     "execution_count": 225,
     "metadata": {},
     "output_type": "execute_result"
    }
   ],
   "source": [
    "def identity(n):\n",
    "    board=[[n]*n for i in range(n)]\n",
    "    board=np.array(board)\n",
    "    return board\n",
    "\n",
    "identity(3)"
   ]
  },
  {
   "cell_type": "markdown",
   "metadata": {},
   "source": [
    "problem 4: "
   ]
  },
  {
   "cell_type": "markdown",
   "metadata": {},
   "source": [
    "M.scalarmul(c): a matrix that is scalar product $cM$, where every element of $M$ is multiplied by $c$.\n",
    "\n",
    "M.add(N): adds two matrices $M$ and $N$. Don’t forget to test that the sizes of the matrices are compatible for this and all other operations.\n",
    "\n",
    "M.sub(N): subtracts two matrices $M$ and $N$.\n",
    "\n",
    "M.mat_mult(N): returns a matrix that is the matrix product of two matrices $M$ and $N$.\n",
    "\n",
    "M.element_mult(N): returns a matrix that is the element-wise product of two matrices $M$ and $N$.\n",
    "\n",
    "M.equals(N): returns true/false if $M==N$."
   ]
  },
  {
   "cell_type": "code",
   "execution_count": 241,
   "metadata": {},
   "outputs": [
    {
     "name": "stdout",
     "output_type": "stream",
     "text": [
      "scalar product matrix:\n",
      "[[3 3]\n",
      " [3 3]\n",
      " [3 3]]\n",
      "matrix addition:\n",
      "[[5 5]\n",
      " [5 5]\n",
      " [5 5]]\n",
      "matrix subtraction:\n",
      "[[-1 -1]\n",
      " [-1 -1]\n",
      " [-1 -1]]\n",
      "element wise product:\n",
      "[[6 6]\n",
      " [6 6]\n",
      " [6 6]]\n",
      "matrix product of two matrices:\n",
      "...\n",
      "returns true/false:\n",
      "False\n"
     ]
    }
   ],
   "source": [
    "#solution\n",
    "import numpy as np\n",
    "class Matrix:\n",
    "    def __init__(self,n,m,N,M,value_one,value_two,c):\n",
    "        empty=0\n",
    "        board=[[empty]*n for i in range(m)]\n",
    "        board=np.array(board)\n",
    "        board[board==empty]=c\n",
    "        self._scalarmul=board\n",
    "        \n",
    "        board1=[[value_one]*n for i in range(m)]\n",
    "        board1=np.array(board1)\n",
    "        board2=[[value_two]*n for i in range(m)]\n",
    "        board2=np.array(board2)\n",
    "        out_add = np.add(board1, board2)\n",
    "        self._add=out_add\n",
    "        out_sub = np.subtract(board1, board2) \n",
    "        self._sub=out_sub\n",
    "        out_mult= np.multiply(board1, board2)\n",
    "        self._mult=out_mult\n",
    "        \n",
    "        #out_matmul=np.matmul(board1,board2).shape\n",
    "        #self._matmul=out_matmul\n",
    "        out_bool=np.array_equal(board1,board2)\n",
    "        self._bool=out_bool\n",
    "        \n",
    "        \n",
    "mat=Matrix(2,3,2,3,2,3,3)\n",
    "print(\"scalar product matrix:\")\n",
    "print(mat._scalarmul)\n",
    "print(\"matrix addition:\")\n",
    "print(mat._add)\n",
    "print(\"matrix subtraction:\")\n",
    "print(mat._sub)\n",
    "print(\"element wise product:\")\n",
    "print(mat._mult)\n",
    "print(\"matrix product of two matrices:\")\n",
    "#print(mat._matmul)\n",
    "print(\"...\")\n",
    "print(\"returns true/false:\")\n",
    "print(mat._bool)"
   ]
  },
  {
   "cell_type": "markdown",
   "metadata": {},
   "source": [
    "problem 5:"
   ]
  },
  {
   "cell_type": "code",
   "execution_count": 11,
   "metadata": {},
   "outputs": [],
   "source": [
    "#solution\n",
    "#what is it asking exactly..."
   ]
  },
  {
   "cell_type": "code",
   "execution_count": 12,
   "metadata": {},
   "outputs": [],
   "source": [
    "#test run"
   ]
  },
  {
   "cell_type": "markdown",
   "metadata": {},
   "source": [
    "problem 6:"
   ]
  },
  {
   "cell_type": "code",
   "execution_count": 240,
   "metadata": {},
   "outputs": [
    {
     "name": "stdout",
     "output_type": "stream",
     "text": [
      "problem 6: (AI=A)\n",
      "example one:\n",
      "[[2 2]\n",
      " [2 2]]\n",
      "example two:\n",
      "[[3 3]\n",
      " [3 3]]\n"
     ]
    }
   ],
   "source": [
    "#solution\n",
    "import numpy as np\n",
    "class Matrix:\n",
    "    def __init__(self,n,m,N,M,value_one,value_two,c):\n",
    "        \n",
    "        board1=[[value_one]*n for i in range(m)]\n",
    "        board1=np.array(board1)\n",
    "        board2=[[value_two]*n for i in range(m)]\n",
    "        board2=np.array(board2)\n",
    "        \n",
    "        a = np.array([[1, 0],[0, 1]]) \n",
    "        ex_one= np.matmul(a, board1)\n",
    "        ex_two=np.matmul(a,board2)\n",
    "        self._ex_one=ex_one\n",
    "        self._ex_two=ex_two\n",
    "        \n",
    "        \n",
    "        \n",
    "        \n",
    "mat=Matrix(2,2,2,2,2,3,3)\n",
    "\n",
    "print(\"problem 6: (AI=A)\") #gives you back your original array \n",
    "#matmul is weird in that it doesn't rlly work if sizes are different? \n",
    "#makes sense i guess\n",
    "#having that 'a' array hardcoded makes it so that when multiplied together, it gives us back our array\n",
    "print(\"example one:\")\n",
    "print(mat._ex_one)\n",
    "print(\"example two:\")\n",
    "print(mat._ex_two)\n",
    "#try actually multiplying like element wise or .dot "
   ]
  }
 ],
 "metadata": {
  "kernelspec": {
   "display_name": "Python 3",
   "language": "python",
   "name": "python3"
  },
  "language_info": {
   "codemirror_mode": {
    "name": "ipython",
    "version": 3
   },
   "file_extension": ".py",
   "mimetype": "text/x-python",
   "name": "python",
   "nbconvert_exporter": "python",
   "pygments_lexer": "ipython3",
   "version": "3.7.4"
  }
 },
 "nbformat": 4,
 "nbformat_minor": 2
}
