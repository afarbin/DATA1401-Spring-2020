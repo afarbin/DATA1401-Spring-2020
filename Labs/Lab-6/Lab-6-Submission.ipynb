{
 "cells": [
  {
   "cell_type": "markdown",
   "metadata": {},
   "source": [
    "# Lab 6\n"
   ]
  },
  {
   "cell_type": "markdown",
   "metadata": {},
   "source": [
    "Matrix Representation: In this lab you will be creating a simple linear algebra system. In memory, we will represent matrices as nested python lists as we have done in lecture. \n",
    "\n",
    "1. Create a `matrix` class with the following properties:\n",
    "    * It can be initialized in 2 ways:\n",
    "        1. with arguments `n` and `m`, the size of the matrix. A newly instanciated matrix will contain all zeros.\n",
    "        2. with a list of lists of values. Note that since we are using lists of lists to implement matrices, it is possible that not all rows have the same number of columns. Test explicitly that the matrix is properly specified.\n",
    "    * Matrix instances `M` can be indexed with `M[i][j]` and `M[i,j]`.\n",
    "    * Matrix assignment works in 2 ways:\n",
    "        1. If `M_1` and `M_2` are `matrix` instances `M_1=M_2` sets the values of `M_1` to those of `M_2`, if they are the same size. Error otherwise.\n",
    "        2. In example above `M_2` can be a list of lists of correct size.\n"
   ]
  },
  {
   "cell_type": "code",
   "execution_count": 2,
   "metadata": {},
   "outputs": [],
   "source": [
    "#A\n",
    "class MatrixA:\n",
    "    def __init__(self):\n",
    "        pass\n",
    "    def zeroMatrix(self,n,m):\n",
    "        self.n = n\n",
    "        self.m = m\n",
    "        return [[0]*self.m for i in range(self.n)]\n",
    "    def addValues(self):\n",
    "        M=self.zeroMatrix(self.n,self.m)\n",
    "        for i in range(self.n):\n",
    "            for j in range(self.m):\n",
    "                M[i][j]=int(input())\n",
    "        return M\n",
    "    \n",
    "    def shapeMatrix(self,M):\n",
    "        self.M = M\n",
    "        if isinstance(self.M,list):\n",
    "            row_length=len(self.M[0])\n",
    "            n=len(self.M)\n",
    "            m=len(self.M[0])\n",
    "            for row in self.M:\n",
    "                if not row_length==len(row):\n",
    "                    return False\n",
    "        else:\n",
    "            False\n",
    "        return n,m\n",
    "    def setValues(self,M1,M2):\n",
    "        self.M1 = M1\n",
    "        self.M2 = M2\n",
    "        if self.shapeMatrix(self.M1)==self.shapeMatrix(self.M2):\n",
    "            for i in range(len(self.M1)):\n",
    "                for j in range(len(self.M1[0])):\n",
    "                    self.M2[i][j]=self.M1[i][j]\n",
    "            return self.M2\n",
    "        else:\n",
    "            print(\"The matrix are not of same shape!\")\n",
    "            \n"
   ]
  },
  {
   "cell_type": "code",
   "execution_count": 2,
   "metadata": {},
   "outputs": [],
   "source": [
    "M1 = MatrixA()\n",
    "M2 = MatrixA()"
   ]
  },
  {
   "cell_type": "code",
   "execution_count": 3,
   "metadata": {},
   "outputs": [
    {
     "data": {
      "text/plain": [
       "[[0, 0, 0], [0, 0, 0]]"
      ]
     },
     "execution_count": 3,
     "metadata": {},
     "output_type": "execute_result"
    }
   ],
   "source": [
    "M1.zeroMatrix(2,3)"
   ]
  },
  {
   "cell_type": "code",
   "execution_count": 4,
   "metadata": {},
   "outputs": [
    {
     "data": {
      "text/plain": [
       "[[0, 0, 0], [0, 0, 0]]"
      ]
     },
     "execution_count": 4,
     "metadata": {},
     "output_type": "execute_result"
    }
   ],
   "source": [
    "M2.zeroMatrix(2,3)"
   ]
  },
  {
   "cell_type": "code",
   "execution_count": 5,
   "metadata": {},
   "outputs": [
    {
     "name": "stdout",
     "output_type": "stream",
     "text": [
      "1\n",
      "2\n",
      "3\n",
      "4\n",
      "5\n",
      "6\n"
     ]
    },
    {
     "data": {
      "text/plain": [
       "[[1, 2, 3], [4, 5, 6]]"
      ]
     },
     "execution_count": 5,
     "metadata": {},
     "output_type": "execute_result"
    }
   ],
   "source": [
    "M3=M1.addValues()\n",
    "M3"
   ]
  },
  {
   "cell_type": "code",
   "execution_count": 6,
   "metadata": {},
   "outputs": [
    {
     "name": "stdout",
     "output_type": "stream",
     "text": [
      "9\n",
      "8\n",
      "7\n",
      "6\n",
      "5\n",
      "4\n"
     ]
    },
    {
     "data": {
      "text/plain": [
       "[[9, 8, 7], [6, 5, 4]]"
      ]
     },
     "execution_count": 6,
     "metadata": {},
     "output_type": "execute_result"
    }
   ],
   "source": [
    "M4=M2.addValues()\n",
    "M4"
   ]
  },
  {
   "cell_type": "code",
   "execution_count": 7,
   "metadata": {},
   "outputs": [
    {
     "name": "stdout",
     "output_type": "stream",
     "text": [
      "Size of first Matrix is (2, 3)\n",
      "Size of second Matrix is (2, 3)\n"
     ]
    }
   ],
   "source": [
    "print(\"Size of first Matrix is\", M1.shapeMatrix(M3))\n",
    "print(\"Size of second Matrix is\",M2.shapeMatrix(M4))"
   ]
  },
  {
   "cell_type": "code",
   "execution_count": 8,
   "metadata": {},
   "outputs": [
    {
     "data": {
      "text/plain": [
       "[[1, 2, 3], [4, 5, 6]]"
      ]
     },
     "execution_count": 8,
     "metadata": {},
     "output_type": "execute_result"
    }
   ],
   "source": [
    "#replacing values of second matrix by first matrix\n",
    "M1.setValues(M3,M4)"
   ]
  },
  {
   "cell_type": "markdown",
   "metadata": {},
   "source": [
    "2. Add the following methods:\n",
    "    * `shape()`: returns a tuple `(n,m)` of the shape of the matrix.\n",
    "    * `transpose()`: returns a new matrix instance which is the transpose of the matrix.\n",
    "    * `row(n)` and `column(n)`: that return the nth row or column of the matrix M as a new appropriately shaped matrix object.\n",
    "    * `to_list()`: which returns the matrix as a list of lists.\n",
    "    *  `block(n_0,n_1,m_0,m_1)` that returns a smaller matrix located at the n_0 to n_1 columns and m_0 to m_1 rows. \n",
    "    * (Extra credit) Modify `__getitem__` implemented above to support slicing.\n",
    "        "
   ]
  },
  {
   "cell_type": "code",
   "execution_count": 3,
   "metadata": {},
   "outputs": [],
   "source": [
    "class Mattrix_methods(MatrixA):\n",
    "    def __init__(self):\n",
    "        super().__init__()\n",
    "        pass\n",
    "    def shape(self,M):\n",
    "        self.M = M\n",
    "        if isinstance(self.M,list):\n",
    "            length_row=len(self.M[0])\n",
    "            n=len(self.M)\n",
    "            m=len(self.M[0])\n",
    "            for row in self.M:\n",
    "                if not length_row==len(row):\n",
    "                    return False\n",
    "        else:\n",
    "            False\n",
    "        return n,m\n",
    "  \n",
    "    def transpose(self,M):\n",
    "        self.M = M\n",
    "        n,m=self.shape(self.M)\n",
    "        MT=MatrixA.zeroMatrix(self,self.m,self.n)\n",
    "        for i in range(n):\n",
    "            for j in range(m):\n",
    "                MT[j][i]=M[i][j]\n",
    "        return MT\n",
    "    def row(self,M,n):\n",
    "        self.M = M\n",
    "        self.n = n\n",
    "        p,q=self.shape(self.M)\n",
    "        if len(self.M)>=self.n:\n",
    "            return self.M[self.n]\n",
    "        else:\n",
    "            print(\"Inser the value within the range of row\")\n",
    "            \n",
    "    def column(self,M,n):\n",
    "        self.M = M\n",
    "        self.n = n\n",
    "        p,q=self.shape(self.M)\n",
    "        self.column = list()\n",
    "        for i in range(p):\n",
    "            col = self.M[i][n]\n",
    "            self.column.append(col)\n",
    "        \n",
    "        return self.column\n",
    "    \n",
    "    def to_list(self,M):\n",
    "        self.M = M\n",
    "        self.Mat = []\n",
    "        p,q=self.shape(self.M)\n",
    "        for i in range(p):\n",
    "            self.row = []\n",
    "            for j in range(q):\n",
    "                self.row.append(self.M[i][j])\n",
    "            self.Mat.append(self.row)\n",
    "        return self.Mat\n",
    "    \n",
    "    def block(self,M,n_0,n_1,m_0,m_1):\n",
    "        self.M = M\n",
    "        self.n_0 = n_0\n",
    "        self.n_1 = n_1\n",
    "        self.m_0 = m_0\n",
    "        self.m_1 = m_1\n",
    "        n,m=self.shape(self.M)\n",
    "        if self.n_0<0 or self.n_0>n or self.n_1<self.n_0 or self.n_1>n:\n",
    "            print(\"Column Number is not Valid!\")\n",
    "        elif self.m_0<0 or self.m_0>m or self.m_1<self.m_0 or self.m_1>m:\n",
    "            print(\"Row number is not Valid\")\n",
    "        else:\n",
    "            block_mat = []\n",
    "            for i in range(self.n_0-1,self.n_1):\n",
    "                row = []\n",
    "                for j in range(self.m_0-1,self.m_1):\n",
    "                    row.append(M[i][j])\n",
    "                block_mat.append(row)\n",
    "            return block_mat\n",
    "        \n",
    "        \n"
   ]
  },
  {
   "cell_type": "code",
   "execution_count": 10,
   "metadata": {},
   "outputs": [],
   "source": [
    "mat = Mattrix_methods()"
   ]
  },
  {
   "cell_type": "code",
   "execution_count": 11,
   "metadata": {},
   "outputs": [
    {
     "data": {
      "text/plain": [
       "[[0, 0, 0, 0, 0],\n",
       " [0, 0, 0, 0, 0],\n",
       " [0, 0, 0, 0, 0],\n",
       " [0, 0, 0, 0, 0],\n",
       " [0, 0, 0, 0, 0]]"
      ]
     },
     "execution_count": 11,
     "metadata": {},
     "output_type": "execute_result"
    }
   ],
   "source": [
    "m1 = mat.zeroMatrix(5,5)\n",
    "m1"
   ]
  },
  {
   "cell_type": "code",
   "execution_count": 12,
   "metadata": {},
   "outputs": [
    {
     "data": {
      "text/plain": [
       "(5, 5)"
      ]
     },
     "execution_count": 12,
     "metadata": {},
     "output_type": "execute_result"
    }
   ],
   "source": [
    "mat.shapeMatrix(m1)"
   ]
  },
  {
   "cell_type": "code",
   "execution_count": 13,
   "metadata": {},
   "outputs": [
    {
     "name": "stdout",
     "output_type": "stream",
     "text": [
      "11\n",
      "22\n",
      "33\n",
      "44\n",
      "55\n",
      "66\n",
      "77\n",
      "88\n",
      "99\n",
      "10\n",
      "20\n",
      "30\n",
      "40\n",
      "50\n",
      "60\n",
      "70\n",
      "80\n",
      "90\n",
      "21\n",
      "31\n",
      "41\n",
      "51\n",
      "61\n",
      "71\n",
      "81\n"
     ]
    },
    {
     "data": {
      "text/plain": [
       "[[11, 22, 33, 44, 55],\n",
       " [66, 77, 88, 99, 10],\n",
       " [20, 30, 40, 50, 60],\n",
       " [70, 80, 90, 21, 31],\n",
       " [41, 51, 61, 71, 81]]"
      ]
     },
     "execution_count": 13,
     "metadata": {},
     "output_type": "execute_result"
    }
   ],
   "source": [
    "m2 = mat.addValues()\n",
    "m2"
   ]
  },
  {
   "cell_type": "code",
   "execution_count": 14,
   "metadata": {},
   "outputs": [
    {
     "data": {
      "text/plain": [
       "[[11, 66, 20, 70, 41],\n",
       " [22, 77, 30, 80, 51],\n",
       " [33, 88, 40, 90, 61],\n",
       " [44, 99, 50, 21, 71],\n",
       " [55, 10, 60, 31, 81]]"
      ]
     },
     "execution_count": 14,
     "metadata": {},
     "output_type": "execute_result"
    }
   ],
   "source": [
    "m3 = mat.transpose(m2)\n",
    "m3"
   ]
  },
  {
   "cell_type": "code",
   "execution_count": 15,
   "metadata": {},
   "outputs": [
    {
     "data": {
      "text/plain": [
       "[44, 99, 50, 21, 71]"
      ]
     },
     "execution_count": 15,
     "metadata": {},
     "output_type": "execute_result"
    }
   ],
   "source": [
    "mat.row(m3,3)"
   ]
  },
  {
   "cell_type": "code",
   "execution_count": 16,
   "metadata": {},
   "outputs": [
    {
     "data": {
      "text/plain": [
       "[20, 30, 40, 50, 60]"
      ]
     },
     "execution_count": 16,
     "metadata": {},
     "output_type": "execute_result"
    }
   ],
   "source": [
    "mat.column(m3,2)"
   ]
  },
  {
   "cell_type": "code",
   "execution_count": 17,
   "metadata": {},
   "outputs": [
    {
     "data": {
      "text/plain": [
       "[[11, 66, 20, 70, 41],\n",
       " [22, 77, 30, 80, 51],\n",
       " [33, 88, 40, 90, 61],\n",
       " [44, 99, 50, 21, 71],\n",
       " [55, 10, 60, 31, 81]]"
      ]
     },
     "execution_count": 17,
     "metadata": {},
     "output_type": "execute_result"
    }
   ],
   "source": [
    "matlist = mat.to_list(m3)\n",
    "matlist"
   ]
  },
  {
   "cell_type": "code",
   "execution_count": 18,
   "metadata": {},
   "outputs": [
    {
     "data": {
      "text/plain": [
       "[[40, 90], [50, 21]]"
      ]
     },
     "execution_count": 18,
     "metadata": {},
     "output_type": "execute_result"
    }
   ],
   "source": [
    "mat.block(m3,3,4,3,4)"
   ]
  },
  {
   "cell_type": "markdown",
   "metadata": {},
   "source": [
    "3. Write functions that create special matrices (note these are standalone functions, not member functions of your `matrix` class):\n",
    "    * `constant(n,m,c)`: returns a `n` by `m` matrix filled with floats of value `c`.\n",
    "    * `zeros(n,m)` and `ones(n,m)`: return `n` by `m` matrices filled with floats of value `0` and `1`, respectively.\n",
    "    * `eye(n)`: returns the n by n identity matrix."
   ]
  },
  {
   "cell_type": "code",
   "execution_count": 4,
   "metadata": {},
   "outputs": [],
   "source": [
    "def constant(n,m,c):\n",
    "    return [[float(c)]*m for i in range(n)]\n",
    "    \n",
    "def zeros(n,m):\n",
    "    return [[0.]*m for i in range(n)]\n",
    "    \n",
    "    \n",
    "def ones(n,m):\n",
    "     return [[1.]*m for i in range(n)]\n",
    "    \n",
    "    \n",
    "def eye(n): \n",
    "    M=zeros(n,n)\n",
    "    for i in range(n):\n",
    "        M[i][i]=1.\n",
    "    return M\n",
    "     "
   ]
  },
  {
   "cell_type": "code",
   "execution_count": 20,
   "metadata": {},
   "outputs": [
    {
     "data": {
      "text/plain": [
       "[[10.0, 10.0, 10.0, 10.0, 10.0, 10.0],\n",
       " [10.0, 10.0, 10.0, 10.0, 10.0, 10.0],\n",
       " [10.0, 10.0, 10.0, 10.0, 10.0, 10.0],\n",
       " [10.0, 10.0, 10.0, 10.0, 10.0, 10.0],\n",
       " [10.0, 10.0, 10.0, 10.0, 10.0, 10.0]]"
      ]
     },
     "execution_count": 20,
     "metadata": {},
     "output_type": "execute_result"
    }
   ],
   "source": [
    "constant(5,6,10)"
   ]
  },
  {
   "cell_type": "code",
   "execution_count": 21,
   "metadata": {},
   "outputs": [
    {
     "data": {
      "text/plain": [
       "[[0.0, 0.0, 0.0, 0.0, 0.0, 0.0],\n",
       " [0.0, 0.0, 0.0, 0.0, 0.0, 0.0],\n",
       " [0.0, 0.0, 0.0, 0.0, 0.0, 0.0],\n",
       " [0.0, 0.0, 0.0, 0.0, 0.0, 0.0],\n",
       " [0.0, 0.0, 0.0, 0.0, 0.0, 0.0]]"
      ]
     },
     "execution_count": 21,
     "metadata": {},
     "output_type": "execute_result"
    }
   ],
   "source": [
    "zeros(5,6)"
   ]
  },
  {
   "cell_type": "code",
   "execution_count": 22,
   "metadata": {},
   "outputs": [
    {
     "data": {
      "text/plain": [
       "[[1.0, 1.0, 1.0, 1.0, 1.0, 1.0],\n",
       " [1.0, 1.0, 1.0, 1.0, 1.0, 1.0],\n",
       " [1.0, 1.0, 1.0, 1.0, 1.0, 1.0],\n",
       " [1.0, 1.0, 1.0, 1.0, 1.0, 1.0],\n",
       " [1.0, 1.0, 1.0, 1.0, 1.0, 1.0]]"
      ]
     },
     "execution_count": 22,
     "metadata": {},
     "output_type": "execute_result"
    }
   ],
   "source": [
    "ones(5,6)"
   ]
  },
  {
   "cell_type": "code",
   "execution_count": 23,
   "metadata": {},
   "outputs": [
    {
     "data": {
      "text/plain": [
       "[[1.0, 0.0, 0.0, 0.0, 0.0],\n",
       " [0.0, 1.0, 0.0, 0.0, 0.0],\n",
       " [0.0, 0.0, 1.0, 0.0, 0.0],\n",
       " [0.0, 0.0, 0.0, 1.0, 0.0],\n",
       " [0.0, 0.0, 0.0, 0.0, 1.0]]"
      ]
     },
     "execution_count": 23,
     "metadata": {},
     "output_type": "execute_result"
    }
   ],
   "source": [
    "eye(5)"
   ]
  },
  {
   "cell_type": "markdown",
   "metadata": {},
   "source": [
    "4. Add the following member functions to your class. Make sure to appropriately test the dimensions of the matrices to make sure the operations are correct.\n",
    "    * `M.scalarmul(c)`: a matrix that is scalar product $cM$, where every element of $M$ is multiplied by $c$.\n",
    "    * `M.add(N)`: adds two matrices $M$ and $N$. Don’t forget to test that the sizes of the matrices are compatible for this and all other operations.\n",
    "    * `M.sub(N)`: subtracts two matrices $M$ and $N$.\n",
    "    * `M.mat_mult(N)`: returns a matrix that is the matrix product of two matrices $M$ and $N$.\n",
    "    * `M.element_mult(N)`: returns a matrix that is the element-wise product of two matrices $M$ and $N$.\n",
    "    * `M.equals(N)`: returns true/false if $M==N$."
   ]
  },
  {
   "cell_type": "code",
   "execution_count": 260,
   "metadata": {},
   "outputs": [],
   "source": [
    "class matrix_operation(Mattrix_methods):\n",
    "    def __init__(self):\n",
    "        super().__init__()\n",
    "        pass\n",
    "    \n",
    "    def scalarmul(self,M,c):\n",
    "        self.M = M\n",
    "        self.c = c\n",
    "        n,m = self.shape(self.M)\n",
    "        SM = zeros(n,m)\n",
    "        for i in range(n):\n",
    "            for j in range(m):\n",
    "                if isinstance(self.M,(list)):\n",
    "                    SM[i][j]=M[i][j]*self.c\n",
    "                elif isinstance(self.c,(int,float)):\n",
    "                    SM[i][j]=self.c*M[i][j]\n",
    "        return SM\n",
    "    \n",
    "    def add(self,M,N):\n",
    "        self.M = M\n",
    "        self.N = N\n",
    "        n1,m1 = self.shape(self.M)\n",
    "        n2,m2 = self.shape(self.N)\n",
    "        MN = zeros(n1,m1)\n",
    "        #if self.shape(self.M)==self.shape(self.N):\n",
    "        if (n1,m1) ==(n2,m2):          \n",
    "            for i in range(n1):\n",
    "                for j in range(m1):\n",
    "                    MN[i][j] = M[i][j]+N[i][j]\n",
    "            return MN\n",
    "        else:\n",
    "            print(\"The matrix are not of same shape\")\n",
    "        \n",
    "            \n",
    "    def sub(self,M, N):\n",
    "        self.M = M\n",
    "        self.N = N\n",
    "        n1,m1 = self.shape(self.M)\n",
    "        n2,m2 = self.shape(self.N)\n",
    "        MN1 = self.zeroMatrix(n1,m1)\n",
    "        if (n1,m1) ==(n2,m2):\n",
    "            for i in range(n1):\n",
    "                for j in range(m1):\n",
    "                    MN1[i][j] = M[i][j]-N[i][j]\n",
    "            return MN1\n",
    "        else:\n",
    "            print(\"The matrix are not of same shape\")\n",
    "       \n",
    "    def mat_mult(self,M,N):\n",
    "        self.M = M\n",
    "        self.N = N\n",
    "        m1,n1=self.shape(self.M)\n",
    "        m2,n2=self.shape(self.N)\n",
    "        out_matrix= self.zeroMatrix(m1,n2)\n",
    "        if n1==m2:\n",
    "            for i in range(m1):\n",
    "                for j in range(n2):\n",
    "                    for k in range(n1):\n",
    "                        out_matrix[i][j]+=M[i][k]*N[k][j]\n",
    "            return out_matrix\n",
    "        else:\n",
    "            print(\"Matries are not of same shape, so multiplication is not possible!\")\n",
    "\n",
    "    def element_mult(self,M,N):\n",
    "        self.M = M\n",
    "        self.N = N\n",
    "        n1,m1 = self.shape(self.M)\n",
    "        n2,m2 = self.shape(self.N)\n",
    "        MN2 = self.zeroMatrix(n1,m1)\n",
    "        if (n1,m1) ==(n2,m2):\n",
    "            for i in range(n1):\n",
    "                for j in range(m1):\n",
    "                    MN2[i][j] = M[i][j]*N[i][j]\n",
    "            return MN2\n",
    "        else:\n",
    "            print(\"Matries are not of same shape, so multiplication is not possible!\")\n",
    "        \n",
    "    def equals(self,M,N):\n",
    "        self.M = M\n",
    "        self.N = N\n",
    "        n1,m1 = self.shape(self.M)\n",
    "        n2,m2 = self.shape(self.N)\n",
    "        if (n1,m1) ==(n2,m2):\n",
    "            for i in range(n1):\n",
    "                for j in range(m1):\n",
    "                    if M[i][j]==N[i][j]:\n",
    "                        return True\n",
    "                    else:\n",
    "                        return False\n",
    "        else:\n",
    "            print(\"Since the matrix are not of same shape, so they are not equal!\")\n",
    "        "
   ]
  },
  {
   "cell_type": "code",
   "execution_count": 25,
   "metadata": {},
   "outputs": [],
   "source": [
    "op = matrix_operation()"
   ]
  },
  {
   "cell_type": "code",
   "execution_count": 26,
   "metadata": {},
   "outputs": [
    {
     "data": {
      "text/plain": [
       "[[1.0, 1.0, 1.0, 1.0, 1.0],\n",
       " [1.0, 1.0, 1.0, 1.0, 1.0],\n",
       " [1.0, 1.0, 1.0, 1.0, 1.0],\n",
       " [1.0, 1.0, 1.0, 1.0, 1.0],\n",
       " [1.0, 1.0, 1.0, 1.0, 1.0]]"
      ]
     },
     "execution_count": 26,
     "metadata": {},
     "output_type": "execute_result"
    }
   ],
   "source": [
    "m= constant(5,5,1)\n",
    "m"
   ]
  },
  {
   "cell_type": "code",
   "execution_count": 27,
   "metadata": {},
   "outputs": [
    {
     "data": {
      "text/plain": [
       "[[4.0, 4.0, 4.0, 4.0, 4.0],\n",
       " [4.0, 4.0, 4.0, 4.0, 4.0],\n",
       " [4.0, 4.0, 4.0, 4.0, 4.0],\n",
       " [4.0, 4.0, 4.0, 4.0, 4.0],\n",
       " [4.0, 4.0, 4.0, 4.0, 4.0]]"
      ]
     },
     "execution_count": 27,
     "metadata": {},
     "output_type": "execute_result"
    }
   ],
   "source": [
    "n= constant(5,5,4)\n",
    "n"
   ]
  },
  {
   "cell_type": "code",
   "execution_count": 28,
   "metadata": {},
   "outputs": [
    {
     "data": {
      "text/plain": [
       "[[5.0, 5.0, 5.0, 5.0],\n",
       " [5.0, 5.0, 5.0, 5.0],\n",
       " [5.0, 5.0, 5.0, 5.0],\n",
       " [5.0, 5.0, 5.0, 5.0],\n",
       " [5.0, 5.0, 5.0, 5.0],\n",
       " [5.0, 5.0, 5.0, 5.0]]"
      ]
     },
     "execution_count": 28,
     "metadata": {},
     "output_type": "execute_result"
    }
   ],
   "source": [
    "p= constant(6,4,5)\n",
    "p"
   ]
  },
  {
   "cell_type": "code",
   "execution_count": 29,
   "metadata": {},
   "outputs": [
    {
     "data": {
      "text/plain": [
       "[[2.0, 2.0, 2.0, 2.0, 2.0],\n",
       " [2.0, 2.0, 2.0, 2.0, 2.0],\n",
       " [2.0, 2.0, 2.0, 2.0, 2.0],\n",
       " [2.0, 2.0, 2.0, 2.0, 2.0],\n",
       " [2.0, 2.0, 2.0, 2.0, 2.0]]"
      ]
     },
     "execution_count": 29,
     "metadata": {},
     "output_type": "execute_result"
    }
   ],
   "source": [
    "op.scalarmul(m,2)"
   ]
  },
  {
   "cell_type": "code",
   "execution_count": 30,
   "metadata": {},
   "outputs": [
    {
     "data": {
      "text/plain": [
       "[[5.0, 5.0, 5.0, 5.0, 5.0],\n",
       " [5.0, 5.0, 5.0, 5.0, 5.0],\n",
       " [5.0, 5.0, 5.0, 5.0, 5.0],\n",
       " [5.0, 5.0, 5.0, 5.0, 5.0],\n",
       " [5.0, 5.0, 5.0, 5.0, 5.0]]"
      ]
     },
     "execution_count": 30,
     "metadata": {},
     "output_type": "execute_result"
    }
   ],
   "source": [
    "op.add(m,n)"
   ]
  },
  {
   "cell_type": "code",
   "execution_count": 31,
   "metadata": {},
   "outputs": [
    {
     "name": "stdout",
     "output_type": "stream",
     "text": [
      "The matrix are not of same shape\n"
     ]
    }
   ],
   "source": [
    "op.add(m,p)"
   ]
  },
  {
   "cell_type": "code",
   "execution_count": 32,
   "metadata": {},
   "outputs": [
    {
     "data": {
      "text/plain": [
       "[[-3.0, -3.0, -3.0, -3.0, -3.0],\n",
       " [-3.0, -3.0, -3.0, -3.0, -3.0],\n",
       " [-3.0, -3.0, -3.0, -3.0, -3.0],\n",
       " [-3.0, -3.0, -3.0, -3.0, -3.0],\n",
       " [-3.0, -3.0, -3.0, -3.0, -3.0]]"
      ]
     },
     "execution_count": 32,
     "metadata": {},
     "output_type": "execute_result"
    }
   ],
   "source": [
    "op.sub(m,n)"
   ]
  },
  {
   "cell_type": "code",
   "execution_count": 33,
   "metadata": {},
   "outputs": [
    {
     "name": "stdout",
     "output_type": "stream",
     "text": [
      "The matrix are not of same shape\n"
     ]
    }
   ],
   "source": [
    "op.sub(m,p)"
   ]
  },
  {
   "cell_type": "code",
   "execution_count": 34,
   "metadata": {},
   "outputs": [
    {
     "data": {
      "text/plain": [
       "[[20.0, 20.0, 20.0, 20.0, 20.0],\n",
       " [20.0, 20.0, 20.0, 20.0, 20.0],\n",
       " [20.0, 20.0, 20.0, 20.0, 20.0],\n",
       " [20.0, 20.0, 20.0, 20.0, 20.0],\n",
       " [20.0, 20.0, 20.0, 20.0, 20.0]]"
      ]
     },
     "execution_count": 34,
     "metadata": {},
     "output_type": "execute_result"
    }
   ],
   "source": [
    "op.mat_mult(m,n)"
   ]
  },
  {
   "cell_type": "code",
   "execution_count": 35,
   "metadata": {},
   "outputs": [
    {
     "name": "stdout",
     "output_type": "stream",
     "text": [
      "Matries are not of same shape, so multiplication is not possible!\n"
     ]
    }
   ],
   "source": [
    "op.mat_mult(m,p)"
   ]
  },
  {
   "cell_type": "code",
   "execution_count": 36,
   "metadata": {},
   "outputs": [
    {
     "data": {
      "text/plain": [
       "[[4.0, 4.0, 4.0, 4.0, 4.0],\n",
       " [4.0, 4.0, 4.0, 4.0, 4.0],\n",
       " [4.0, 4.0, 4.0, 4.0, 4.0],\n",
       " [4.0, 4.0, 4.0, 4.0, 4.0],\n",
       " [4.0, 4.0, 4.0, 4.0, 4.0]]"
      ]
     },
     "execution_count": 36,
     "metadata": {},
     "output_type": "execute_result"
    }
   ],
   "source": [
    "op.element_mult(m,n)"
   ]
  },
  {
   "cell_type": "code",
   "execution_count": 37,
   "metadata": {},
   "outputs": [
    {
     "name": "stdout",
     "output_type": "stream",
     "text": [
      "Matries are not of same shape, so multiplication is not possible!\n"
     ]
    }
   ],
   "source": [
    "op.element_mult(m,p)"
   ]
  },
  {
   "cell_type": "code",
   "execution_count": 38,
   "metadata": {},
   "outputs": [
    {
     "data": {
      "text/plain": [
       "[[5.0, 5.0, 5.0, 5.0, 5.0],\n",
       " [5.0, 5.0, 5.0, 5.0, 5.0],\n",
       " [5.0, 5.0, 5.0, 5.0, 5.0],\n",
       " [5.0, 5.0, 5.0, 5.0, 5.0],\n",
       " [5.0, 5.0, 5.0, 5.0, 5.0]]"
      ]
     },
     "execution_count": 38,
     "metadata": {},
     "output_type": "execute_result"
    }
   ],
   "source": [
    "m13 = constant(5,5,5)\n",
    "m13"
   ]
  },
  {
   "cell_type": "code",
   "execution_count": 39,
   "metadata": {},
   "outputs": [
    {
     "data": {
      "text/plain": [
       "[[5.0, 5.0, 5.0, 5.0, 5.0],\n",
       " [5.0, 5.0, 5.0, 5.0, 5.0],\n",
       " [5.0, 5.0, 5.0, 5.0, 5.0],\n",
       " [5.0, 5.0, 5.0, 5.0, 5.0],\n",
       " [5.0, 5.0, 5.0, 5.0, 5.0]]"
      ]
     },
     "execution_count": 39,
     "metadata": {},
     "output_type": "execute_result"
    }
   ],
   "source": [
    "m14= constant(5,5,5)\n",
    "m14"
   ]
  },
  {
   "cell_type": "code",
   "execution_count": 40,
   "metadata": {},
   "outputs": [
    {
     "data": {
      "text/plain": [
       "True"
      ]
     },
     "execution_count": 40,
     "metadata": {},
     "output_type": "execute_result"
    }
   ],
   "source": [
    "op.equals(m13,m14)"
   ]
  },
  {
   "cell_type": "code",
   "execution_count": 41,
   "metadata": {},
   "outputs": [
    {
     "data": {
      "text/plain": [
       "[[10.0, 10.0, 10.0, 10.0, 10.0],\n",
       " [10.0, 10.0, 10.0, 10.0, 10.0],\n",
       " [10.0, 10.0, 10.0, 10.0, 10.0],\n",
       " [10.0, 10.0, 10.0, 10.0, 10.0],\n",
       " [10.0, 10.0, 10.0, 10.0, 10.0]]"
      ]
     },
     "execution_count": 41,
     "metadata": {},
     "output_type": "execute_result"
    }
   ],
   "source": [
    "m15 = constant(5,5,10)\n",
    "m15"
   ]
  },
  {
   "cell_type": "code",
   "execution_count": 42,
   "metadata": {},
   "outputs": [
    {
     "data": {
      "text/plain": [
       "False"
      ]
     },
     "execution_count": 42,
     "metadata": {},
     "output_type": "execute_result"
    }
   ],
   "source": [
    "op.equals(m13,m15)"
   ]
  },
  {
   "cell_type": "code",
   "execution_count": 43,
   "metadata": {},
   "outputs": [
    {
     "data": {
      "text/plain": [
       "[[5.0, 5.0, 5.0, 5.0],\n",
       " [5.0, 5.0, 5.0, 5.0],\n",
       " [5.0, 5.0, 5.0, 5.0],\n",
       " [5.0, 5.0, 5.0, 5.0],\n",
       " [5.0, 5.0, 5.0, 5.0]]"
      ]
     },
     "execution_count": 43,
     "metadata": {},
     "output_type": "execute_result"
    }
   ],
   "source": [
    "m16 = constant(5,4,5)\n",
    "m16"
   ]
  },
  {
   "cell_type": "code",
   "execution_count": 44,
   "metadata": {},
   "outputs": [
    {
     "name": "stdout",
     "output_type": "stream",
     "text": [
      "Since the matrix are not of same shape, so they are not equal!\n"
     ]
    }
   ],
   "source": [
    "op.equals(m13,m16)"
   ]
  },
  {
   "cell_type": "markdown",
   "metadata": {},
   "source": [
    "5. Overload python operators to appropriately use your functions in 4 and allow expressions like:\n",
    "    * 2*M\n",
    "    * M*2\n",
    "    * M+N\n",
    "    * M-N\n",
    "    * M*N\n",
    "    * M==N\n",
    "    * M=N\n"
   ]
  },
  {
   "cell_type": "code",
   "execution_count": 405,
   "metadata": {},
   "outputs": [],
   "source": [
    "class operator_overloading(matrix_operation):\n",
    "    def __init__(self, M):\n",
    "        self.M = M\n",
    "        super().__init__()\n",
    "        pass\n",
    "        \n",
    "    def __add__(self,other):\n",
    "        return self.add(self.M,other.M)\n",
    "    \n",
    "    def __sub__(self,other):\n",
    "        return self.sub(self.M,other.M)\n",
    "    \n",
    "    def __mul__(self,other):\n",
    "        if isinstance(other,(int,float)):\n",
    "            return self.scalarmul(self.M,other)\n",
    "        else:\n",
    "            return self.mat_mult(self.M,other.M)\n",
    "        \n",
    "    def __eq__(self,other):\n",
    "        return self.equals(self.M,other.M)\n",
    "    \n",
    "    def __iadd__(self,other):\n",
    "        return self.setValues(self.M,other.M)"
   ]
  },
  {
   "cell_type": "code",
   "execution_count": 406,
   "metadata": {},
   "outputs": [
    {
     "data": {
      "text/plain": [
       "[[1.0, 1.0, 1.0, 1.0, 1.0],\n",
       " [1.0, 1.0, 1.0, 1.0, 1.0],\n",
       " [1.0, 1.0, 1.0, 1.0, 1.0],\n",
       " [1.0, 1.0, 1.0, 1.0, 1.0],\n",
       " [1.0, 1.0, 1.0, 1.0, 1.0]]"
      ]
     },
     "execution_count": 406,
     "metadata": {},
     "output_type": "execute_result"
    }
   ],
   "source": [
    "x1=constant(5,5,1)\n",
    "x1"
   ]
  },
  {
   "cell_type": "code",
   "execution_count": 407,
   "metadata": {},
   "outputs": [
    {
     "data": {
      "text/plain": [
       "[[2.0, 2.0, 2.0, 2.0, 2.0],\n",
       " [2.0, 2.0, 2.0, 2.0, 2.0],\n",
       " [2.0, 2.0, 2.0, 2.0, 2.0],\n",
       " [2.0, 2.0, 2.0, 2.0, 2.0],\n",
       " [2.0, 2.0, 2.0, 2.0, 2.0]]"
      ]
     },
     "execution_count": 407,
     "metadata": {},
     "output_type": "execute_result"
    }
   ],
   "source": [
    "x2=constant(5,5,2)\n",
    "x2"
   ]
  },
  {
   "cell_type": "code",
   "execution_count": 408,
   "metadata": {},
   "outputs": [],
   "source": [
    "M=operator_overloading(x1)\n",
    "N=operator_overloading(x2)"
   ]
  },
  {
   "cell_type": "code",
   "execution_count": 409,
   "metadata": {},
   "outputs": [
    {
     "data": {
      "text/plain": [
       "[[2.0, 2.0, 2.0, 2.0, 2.0],\n",
       " [2.0, 2.0, 2.0, 2.0, 2.0],\n",
       " [2.0, 2.0, 2.0, 2.0, 2.0],\n",
       " [2.0, 2.0, 2.0, 2.0, 2.0],\n",
       " [2.0, 2.0, 2.0, 2.0, 2.0]]"
      ]
     },
     "execution_count": 409,
     "metadata": {},
     "output_type": "execute_result"
    }
   ],
   "source": [
    "#Testing\n",
    "M*2"
   ]
  },
  {
   "cell_type": "code",
   "execution_count": 325,
   "metadata": {},
   "outputs": [],
   "source": [
    "M=operator_overloading(x1)\n",
    "N=operator_overloading(x2)"
   ]
  },
  {
   "cell_type": "code",
   "execution_count": 326,
   "metadata": {},
   "outputs": [
    {
     "data": {
      "text/plain": [
       "[[3.0, 3.0, 3.0, 3.0, 3.0],\n",
       " [3.0, 3.0, 3.0, 3.0, 3.0],\n",
       " [3.0, 3.0, 3.0, 3.0, 3.0],\n",
       " [3.0, 3.0, 3.0, 3.0, 3.0],\n",
       " [3.0, 3.0, 3.0, 3.0, 3.0]]"
      ]
     },
     "execution_count": 326,
     "metadata": {},
     "output_type": "execute_result"
    }
   ],
   "source": [
    "#Testing\n",
    "M+N"
   ]
  },
  {
   "cell_type": "code",
   "execution_count": 327,
   "metadata": {},
   "outputs": [],
   "source": [
    "M=operator_overloading(x1)\n",
    "N=operator_overloading(x2)"
   ]
  },
  {
   "cell_type": "code",
   "execution_count": 328,
   "metadata": {},
   "outputs": [
    {
     "data": {
      "text/plain": [
       "[[-1.0, -1.0, -1.0, -1.0, -1.0],\n",
       " [-1.0, -1.0, -1.0, -1.0, -1.0],\n",
       " [-1.0, -1.0, -1.0, -1.0, -1.0],\n",
       " [-1.0, -1.0, -1.0, -1.0, -1.0],\n",
       " [-1.0, -1.0, -1.0, -1.0, -1.0]]"
      ]
     },
     "execution_count": 328,
     "metadata": {},
     "output_type": "execute_result"
    }
   ],
   "source": [
    "#Testing\n",
    "M-N"
   ]
  },
  {
   "cell_type": "code",
   "execution_count": 329,
   "metadata": {},
   "outputs": [],
   "source": [
    "M=operator_overloading(x1)\n",
    "N=operator_overloading(x2)"
   ]
  },
  {
   "cell_type": "code",
   "execution_count": 330,
   "metadata": {},
   "outputs": [
    {
     "data": {
      "text/plain": [
       "[[10.0, 10.0, 10.0, 10.0, 10.0],\n",
       " [10.0, 10.0, 10.0, 10.0, 10.0],\n",
       " [10.0, 10.0, 10.0, 10.0, 10.0],\n",
       " [10.0, 10.0, 10.0, 10.0, 10.0],\n",
       " [10.0, 10.0, 10.0, 10.0, 10.0]]"
      ]
     },
     "execution_count": 330,
     "metadata": {},
     "output_type": "execute_result"
    }
   ],
   "source": [
    "#Testing\n",
    "M*N"
   ]
  },
  {
   "cell_type": "code",
   "execution_count": 332,
   "metadata": {},
   "outputs": [],
   "source": [
    "M=operator_overloading(x1)\n",
    "N=operator_overloading(x2)"
   ]
  },
  {
   "cell_type": "code",
   "execution_count": 333,
   "metadata": {},
   "outputs": [
    {
     "data": {
      "text/plain": [
       "False"
      ]
     },
     "execution_count": 333,
     "metadata": {},
     "output_type": "execute_result"
    }
   ],
   "source": [
    "#Testing\n",
    "M==N"
   ]
  },
  {
   "cell_type": "code",
   "execution_count": 334,
   "metadata": {},
   "outputs": [],
   "source": [
    "M=operator_overloading(x1)\n",
    "N=operator_overloading(x2)"
   ]
  },
  {
   "cell_type": "code",
   "execution_count": 335,
   "metadata": {},
   "outputs": [],
   "source": [
    "#Testing\n",
    "M=N"
   ]
  },
  {
   "cell_type": "code",
   "execution_count": 336,
   "metadata": {},
   "outputs": [
    {
     "data": {
      "text/plain": [
       "True"
      ]
     },
     "execution_count": 336,
     "metadata": {},
     "output_type": "execute_result"
    }
   ],
   "source": [
    "M==N"
   ]
  },
  {
   "cell_type": "markdown",
   "metadata": {},
   "source": [
    "6. Demonstrate the basic properties of matrices with your matrix class by creating two 2 by 2 example matrices using your Matrix class and illustrating the following:\n",
    "\n",
    "$$\n",
    "(AB)C=A(BC)\n",
    "$$\n",
    "$$\n",
    "A(B+C)=AB+AC\n",
    "$$\n",
    "$$\n",
    "AB\\neq BA\n",
    "$$\n",
    "$$\n",
    "AI=A\n",
    "$$"
   ]
  },
  {
   "cell_type": "code",
   "execution_count": 444,
   "metadata": {},
   "outputs": [],
   "source": [
    "# Creatig a matrix object named as \"mat\"\n",
    "mat = matrix_operation()"
   ]
  },
  {
   "cell_type": "code",
   "execution_count": 445,
   "metadata": {},
   "outputs": [
    {
     "name": "stdout",
     "output_type": "stream",
     "text": [
      "1\n",
      "2\n",
      "3\n",
      "4\n"
     ]
    },
    {
     "data": {
      "text/plain": [
       "[[1, 2], [3, 4]]"
      ]
     },
     "execution_count": 445,
     "metadata": {},
     "output_type": "execute_result"
    }
   ],
   "source": [
    "A = mat.zeroMatrix(2,2)\n",
    "A = mat.addValues()\n",
    "A"
   ]
  },
  {
   "cell_type": "code",
   "execution_count": 446,
   "metadata": {},
   "outputs": [
    {
     "name": "stdout",
     "output_type": "stream",
     "text": [
      "9\n",
      "8\n",
      "7\n",
      "6\n"
     ]
    },
    {
     "data": {
      "text/plain": [
       "[[9, 8], [7, 6]]"
      ]
     },
     "execution_count": 446,
     "metadata": {},
     "output_type": "execute_result"
    }
   ],
   "source": [
    "B = mat.zeroMatrix(2,2)\n",
    "B = mat.addValues()\n",
    "B"
   ]
  },
  {
   "cell_type": "code",
   "execution_count": 447,
   "metadata": {},
   "outputs": [
    {
     "name": "stdout",
     "output_type": "stream",
     "text": [
      "2\n",
      "2\n",
      "2\n",
      "2\n"
     ]
    },
    {
     "data": {
      "text/plain": [
       "[[2, 2], [2, 2]]"
      ]
     },
     "execution_count": 447,
     "metadata": {},
     "output_type": "execute_result"
    }
   ],
   "source": [
    "C = mat.zeroMatrix(2,2)\n",
    "C = mat.addValues()\n",
    "C"
   ]
  },
  {
   "cell_type": "code",
   "execution_count": 448,
   "metadata": {},
   "outputs": [
    {
     "data": {
      "text/plain": [
       "[[23, 20], [55, 48]]"
      ]
     },
     "execution_count": 448,
     "metadata": {},
     "output_type": "execute_result"
    }
   ],
   "source": [
    "# 6.1.(𝐴𝐵)𝐶=𝐴(𝐵𝐶)\n",
    "AB = mat.mat_mult(A,B)\n",
    "AB"
   ]
  },
  {
   "cell_type": "code",
   "execution_count": 449,
   "metadata": {},
   "outputs": [
    {
     "data": {
      "text/plain": [
       "[[86, 86], [206, 206]]"
      ]
     },
     "execution_count": 449,
     "metadata": {},
     "output_type": "execute_result"
    }
   ],
   "source": [
    "ABCL = mat.mat_mult(AB,C)\n",
    "ABCL"
   ]
  },
  {
   "cell_type": "code",
   "execution_count": 450,
   "metadata": {},
   "outputs": [
    {
     "data": {
      "text/plain": [
       "[[34, 34], [26, 26]]"
      ]
     },
     "execution_count": 450,
     "metadata": {},
     "output_type": "execute_result"
    }
   ],
   "source": [
    "BC = mat.mat_mult(B,C)\n",
    "BC"
   ]
  },
  {
   "cell_type": "code",
   "execution_count": 451,
   "metadata": {},
   "outputs": [
    {
     "data": {
      "text/plain": [
       "[[86, 86], [206, 206]]"
      ]
     },
     "execution_count": 451,
     "metadata": {},
     "output_type": "execute_result"
    }
   ],
   "source": [
    "ABCR = mat.mat_mult(A,BC)\n",
    "ABCR"
   ]
  },
  {
   "cell_type": "code",
   "execution_count": 452,
   "metadata": {},
   "outputs": [
    {
     "data": {
      "text/plain": [
       "True"
      ]
     },
     "execution_count": 452,
     "metadata": {},
     "output_type": "execute_result"
    }
   ],
   "source": [
    "#(𝐴𝐵)𝐶=𝐴(𝐵𝐶) (Proved)\n",
    "mat.equals(ABCL,ABCR)"
   ]
  },
  {
   "cell_type": "code",
   "execution_count": 453,
   "metadata": {},
   "outputs": [
    {
     "data": {
      "text/plain": [
       "[[11, 10], [9, 8]]"
      ]
     },
     "execution_count": 453,
     "metadata": {},
     "output_type": "execute_result"
    }
   ],
   "source": [
    "# 6.2. 𝐴(𝐵+𝐶)=𝐴𝐵+𝐴𝐶\n",
    "B_plus_C = mat.add(B,C)\n",
    "B_plus_C"
   ]
  },
  {
   "cell_type": "code",
   "execution_count": 454,
   "metadata": {},
   "outputs": [
    {
     "data": {
      "text/plain": [
       "[[29, 26], [69, 62]]"
      ]
     },
     "execution_count": 454,
     "metadata": {},
     "output_type": "execute_result"
    }
   ],
   "source": [
    "AB_plus_C = mat.mat_mult(A,B_plus_C)\n",
    "AB_plus_C"
   ]
  },
  {
   "cell_type": "code",
   "execution_count": 455,
   "metadata": {},
   "outputs": [
    {
     "data": {
      "text/plain": [
       "[[6, 6], [14, 14]]"
      ]
     },
     "execution_count": 455,
     "metadata": {},
     "output_type": "execute_result"
    }
   ],
   "source": [
    "AC = mat.mat_mult(A,C)\n",
    "AC"
   ]
  },
  {
   "cell_type": "code",
   "execution_count": 456,
   "metadata": {},
   "outputs": [
    {
     "data": {
      "text/plain": [
       "[[29, 26], [69, 62]]"
      ]
     },
     "execution_count": 456,
     "metadata": {},
     "output_type": "execute_result"
    }
   ],
   "source": [
    "AB_plus_AC = mat.add(AB,AC)\n",
    "AB_plus_AC"
   ]
  },
  {
   "cell_type": "code",
   "execution_count": 457,
   "metadata": {},
   "outputs": [
    {
     "data": {
      "text/plain": [
       "True"
      ]
     },
     "execution_count": 457,
     "metadata": {},
     "output_type": "execute_result"
    }
   ],
   "source": [
    "# 𝐴(𝐵+𝐶)=𝐴𝐵+𝐴𝐶 (Proved)\n",
    "mat.equals(AB_plus_C,AB_plus_AC)"
   ]
  },
  {
   "cell_type": "code",
   "execution_count": 458,
   "metadata": {},
   "outputs": [
    {
     "data": {
      "text/plain": [
       "[[33, 50], [25, 38]]"
      ]
     },
     "execution_count": 458,
     "metadata": {},
     "output_type": "execute_result"
    }
   ],
   "source": [
    "# 6.3. 𝐴𝐵≠𝐵𝐴\n",
    "BA = mat.mat_mult(B,A)\n",
    "BA"
   ]
  },
  {
   "cell_type": "code",
   "execution_count": 459,
   "metadata": {},
   "outputs": [
    {
     "data": {
      "text/plain": [
       "False"
      ]
     },
     "execution_count": 459,
     "metadata": {},
     "output_type": "execute_result"
    }
   ],
   "source": [
    "# 𝐴𝐵≠𝐵𝐴 (Proved)\n",
    "mat.equals(AB,BA)"
   ]
  },
  {
   "cell_type": "code",
   "execution_count": 460,
   "metadata": {},
   "outputs": [
    {
     "data": {
      "text/plain": [
       "[[1.0, 0.0], [0.0, 1.0]]"
      ]
     },
     "execution_count": 460,
     "metadata": {},
     "output_type": "execute_result"
    }
   ],
   "source": [
    "# 6.4. 𝐴𝐼=𝐴\n",
    "I = eye(2)\n",
    "I"
   ]
  },
  {
   "cell_type": "code",
   "execution_count": 461,
   "metadata": {},
   "outputs": [
    {
     "data": {
      "text/plain": [
       "[[1.0, 2.0], [3.0, 4.0]]"
      ]
     },
     "execution_count": 461,
     "metadata": {},
     "output_type": "execute_result"
    }
   ],
   "source": [
    "AI = mat.mat_mult(A,I)\n",
    "AI"
   ]
  },
  {
   "cell_type": "code",
   "execution_count": 462,
   "metadata": {},
   "outputs": [
    {
     "data": {
      "text/plain": [
       "[[1, 2], [3, 4]]"
      ]
     },
     "execution_count": 462,
     "metadata": {},
     "output_type": "execute_result"
    }
   ],
   "source": [
    "A"
   ]
  },
  {
   "cell_type": "code",
   "execution_count": 463,
   "metadata": {},
   "outputs": [
    {
     "data": {
      "text/plain": [
       "True"
      ]
     },
     "execution_count": 463,
     "metadata": {},
     "output_type": "execute_result"
    }
   ],
   "source": [
    "# 𝐴𝐼=𝐴 (Proved)\n",
    "mat.equals(AI,A)"
   ]
  },
  {
   "cell_type": "code",
   "execution_count": null,
   "metadata": {},
   "outputs": [],
   "source": []
  }
 ],
 "metadata": {
  "kernelspec": {
   "display_name": "Python 3",
   "language": "python",
   "name": "python3"
  },
  "language_info": {
   "codemirror_mode": {
    "name": "ipython",
    "version": 3
   },
   "file_extension": ".py",
   "mimetype": "text/x-python",
   "name": "python",
   "nbconvert_exporter": "python",
   "pygments_lexer": "ipython3",
   "version": "3.7.4"
  }
 },
 "nbformat": 4,
 "nbformat_minor": 2
}
