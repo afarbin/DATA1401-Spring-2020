{
 "cells": [
  {
   "cell_type": "markdown",
   "metadata": {},
   "source": [
    "# Lab 6\n"
   ]
  },
  {
   "cell_type": "markdown",
   "metadata": {},
   "source": [
    "Matrix Representation: In this lab you will be creating a simple linear algebra system. In memory, we will represent matrices as nested python lists as we have done in lecture. \n",
    "\n",
    "1. Create a `matrix` class with the following properties:\n",
    "    * It can be initialized in 2 ways:\n",
    "        1. with arguments `n` and `m`, the size of the matrix. A newly instanciated matrix will contain all zeros.\n",
    "        2. with a list of lists of values. Note that since we are using lists of lists to implement matrices, it is possible that not all rows have the same number of columns. Test explicitly that the matrix is properly specified.\n",
    "    * Matrix instances `M` can be indexed with `M[i][j]` and `M[i,j]`.\n",
    "    * Matrix assignment works in 2 ways:\n",
    "        1. If `M_1` and `M_2` are `matrix` instances `M_1=M_2` sets the values of `M_1` to those of `M_2`, if they are the same size. Error otherwise.\n",
    "        2. In example above `M_2` can be a list of lists of correct size.\n"
   ]
  },
  {
   "cell_type": "code",
   "execution_count": 259,
   "metadata": {},
   "outputs": [],
   "source": [
    "class matrix:\n",
    "    def __init__(self):\n",
    "        pass\n",
    "        \n",
    "    def zero_matrix(self,n,m):\n",
    "        self.n = n\n",
    "        self.m = m\n",
    "        return [[0] * self.m for i in range(self.n)]\n",
    "    \n",
    "    def matrix_assignment(self):\n",
    "        M=self.zero_matrix(self.n,self.m)\n",
    "        print(\"Enter the values for the matrix\")\n",
    "        for i in range(self.n):\n",
    "            for j in range(self.m):\n",
    "                M[i][j]=int(input())\n",
    "        return M\n",
    "    \n",
    "    def matrix_check(self,Mat):\n",
    "        self.Mat=Mat\n",
    "        if isinstance(self.Mat,list):\n",
    "            i=len(Mat)\n",
    "            j=len(Mat[0])\n",
    "            for row in self.Mat:\n",
    "                if not i==len(row):\n",
    "                    False\n",
    "        else:\n",
    "            False\n",
    "        return i,j\n",
    "    \n",
    "    def matrix_swap(self,M1,M2): # The function will replace the values of M1 to M2\n",
    "        self.M1=M1\n",
    "        self.M2=M2\n",
    "        if self.matrix_check(self.M1)==self.matrix_check(M2):\n",
    "            for i in range(len(self.M1)):\n",
    "                for j in range(len(self.M1[0])):\n",
    "                    self.M2[i][j]=self.M1[i][j]\n",
    "            return self.M2\n",
    "        else:\n",
    "            print(\"ERRO!! The given matrix shapes are different\")\n",
    "    \n",
    "            \n"
   ]
  },
  {
   "cell_type": "code",
   "execution_count": 260,
   "metadata": {},
   "outputs": [
    {
     "data": {
      "text/plain": [
       "[[0, 0, 0, 0], [0, 0, 0, 0], [0, 0, 0, 0]]"
      ]
     },
     "execution_count": 260,
     "metadata": {},
     "output_type": "execute_result"
    }
   ],
   "source": [
    "data1=matrix()\n",
    "M1=data1.zero_matrix(3,4)\n",
    "M1"
   ]
  },
  {
   "cell_type": "code",
   "execution_count": 261,
   "metadata": {},
   "outputs": [
    {
     "name": "stdout",
     "output_type": "stream",
     "text": [
      "Enter the values for the matrix\n",
      "2\n",
      "2\n",
      "2\n",
      "2\n",
      "2\n",
      "2\n",
      "2\n",
      "2\n",
      "2\n",
      "2\n",
      "2\n",
      "2\n"
     ]
    },
    {
     "data": {
      "text/plain": [
       "[[2, 2, 2, 2], [2, 2, 2, 2], [2, 2, 2, 2]]"
      ]
     },
     "execution_count": 261,
     "metadata": {},
     "output_type": "execute_result"
    }
   ],
   "source": [
    "M_1=data1.matrix_assignment()\n",
    "M_1"
   ]
  },
  {
   "cell_type": "code",
   "execution_count": 262,
   "metadata": {},
   "outputs": [
    {
     "data": {
      "text/plain": [
       "(3, 4)"
      ]
     },
     "execution_count": 262,
     "metadata": {},
     "output_type": "execute_result"
    }
   ],
   "source": [
    "data1.matrix_check(M_1)"
   ]
  },
  {
   "cell_type": "code",
   "execution_count": 263,
   "metadata": {},
   "outputs": [
    {
     "name": "stdout",
     "output_type": "stream",
     "text": [
      "Enter the values for the matrix\n",
      "3\n",
      "3\n",
      "3\n",
      "3\n",
      "3\n",
      "3\n",
      "3\n",
      "3\n",
      "3\n",
      "3\n",
      "3\n",
      "3\n"
     ]
    },
    {
     "data": {
      "text/plain": [
       "(3, 4)"
      ]
     },
     "execution_count": 263,
     "metadata": {},
     "output_type": "execute_result"
    }
   ],
   "source": [
    "data2=matrix()\n",
    "M2=data2.zero_matrix(3,4)\n",
    "M_2=data2.matrix_assignment()\n",
    "data2.matrix_check(M_2)"
   ]
  },
  {
   "cell_type": "code",
   "execution_count": 264,
   "metadata": {},
   "outputs": [
    {
     "data": {
      "text/plain": [
       "[[2, 2, 2, 2], [2, 2, 2, 2], [2, 2, 2, 2]]"
      ]
     },
     "execution_count": 264,
     "metadata": {},
     "output_type": "execute_result"
    }
   ],
   "source": [
    "data=matrix()\n",
    "data.matrix_swap(M_1,M_2)"
   ]
  },
  {
   "cell_type": "markdown",
   "metadata": {},
   "source": [
    "2. Add the following methods:\n",
    "    * `shape()`: returns a tuple `(n,m)` of the shape of the matrix.\n",
    "    * `transpose()`: returns a new matrix instance which is the transpose of the matrix.\n",
    "    * `row(n)` and `column(n)`: that return the nth row or column of the matrix M as a new appropriately shaped matrix object.\n",
    "    * `to_list()`: which returns the matrix as a list of lists.\n",
    "    *  `block(n_0,n_1,m_0,m_1)` that returns a smaller matrix located at the n_0 to n_1 columns and m_0 to m_1 rows. \n",
    "    * (Extra credit) Modify `__getitem__` implemented above to support slicing.\n",
    "        "
   ]
  },
  {
   "cell_type": "code",
   "execution_count": 265,
   "metadata": {},
   "outputs": [],
   "source": [
    "class matrix_2(matrix):\n",
    "    def __init__(self):\n",
    "        super().__init__()\n",
    "        pass\n",
    "    \n",
    "    def shape(self,M):\n",
    "        self.M=M\n",
    "        if isinstance(self.M,list):\n",
    "            j=len(self.M[0])\n",
    "            i=len(self.M)\n",
    "            for row in self.M:\n",
    "                if not j==len(row):\n",
    "                    False\n",
    "        else:\n",
    "            False\n",
    "        return i,j\n",
    "    \n",
    "    def transpose(self,M):\n",
    "        self.M=M\n",
    "        n,m=self.shape(self.M)\n",
    "        TM=matrix.zero_matrix(self,m,n)\n",
    "        for i in range(n):\n",
    "            for j in range(m):\n",
    "                TM[j][i]=M[i][j]\n",
    "        return TM\n",
    "    \n",
    "    def column_values(self,M):\n",
    "        self.M=M\n",
    "        n,m=self.shape(self.M)\n",
    "        \n",
    "        print (\"Enter the column number to display values\")\n",
    "        self.C=int(input())\n",
    "        if self.C>n:\n",
    "            print (\"The column number should be lower\")\n",
    "        else:\n",
    "            self.V=[]\n",
    "            for i in range(n):\n",
    "                c=M[i][self.C-1]\n",
    "                self.V.append(c)\n",
    "            return self.V\n",
    "    \n",
    "    def row_values(self,M):\n",
    "        self.M=M\n",
    "        n,m=self.shape(self.M)\n",
    "        print (\"Enter the row number to dispaly values\")\n",
    "        self.R=int(input())\n",
    "        if self.R>m:\n",
    "            print (\"The column number should be lower\")\n",
    "        else:\n",
    "            return M[self.R-1]\n",
    "    \n",
    "    def to_list(self,M):\n",
    "        self.M=M\n",
    "        n,m=self.shape(self.M)\n",
    "        M_0=[[0]*m]*n\n",
    "        #M_1=matrix.matrix_swap(self,self.M,M_0)\n",
    "        return M_0\n",
    "       \n",
    "    \n",
    "    def block(self,M,n_0,n_1,m_0,m_1):\n",
    "        self.M=M\n",
    "        self.n_0=n_0\n",
    "        self.n_1=n_1\n",
    "        self.m_0=m_0\n",
    "        self.m_1=m_1\n",
    "        n,m=self.shape(self.M)\n",
    " \n",
    "        if self.n_0<0 or self.n_0>n or self.n_1<self.n_0 or self.n_1>n :\n",
    "            print (\"Invalid column number\")\n",
    "        elif self.n_0<0 or self.m_0>m or self.m_1<self.m_0 or self.m_1>m : \n",
    "            print (\"Invalid row number\")\n",
    "        else:\n",
    "            l=[]\n",
    "            for i in range(self.n_0-1,self.n_1):\n",
    "                r=[]\n",
    "                for j in range(self.m_0-1,self.m_1):\n",
    "                    r.append(M[i][j])\n",
    "                l.append(r)       \n",
    "        return l\n",
    "                \n",
    "        "
   ]
  },
  {
   "cell_type": "code",
   "execution_count": 266,
   "metadata": {},
   "outputs": [],
   "source": [
    "mat = matrix_2()"
   ]
  },
  {
   "cell_type": "code",
   "execution_count": 267,
   "metadata": {},
   "outputs": [
    {
     "data": {
      "text/plain": [
       "(3, 4)"
      ]
     },
     "execution_count": 267,
     "metadata": {},
     "output_type": "execute_result"
    }
   ],
   "source": [
    "M=[[1,2,3,4],[5,6,7,8],[9,10,11,12]]\n",
    "mat.shape(M)"
   ]
  },
  {
   "cell_type": "code",
   "execution_count": 268,
   "metadata": {},
   "outputs": [
    {
     "data": {
      "text/plain": [
       "[[1, 5, 9], [2, 6, 10], [3, 7, 11], [4, 8, 12]]"
      ]
     },
     "execution_count": 268,
     "metadata": {},
     "output_type": "execute_result"
    }
   ],
   "source": [
    "TM=mat.transpose(M)\n",
    "TM"
   ]
  },
  {
   "cell_type": "code",
   "execution_count": 269,
   "metadata": {},
   "outputs": [
    {
     "name": "stdout",
     "output_type": "stream",
     "text": [
      "Enter the column number to display values\n",
      "2\n"
     ]
    },
    {
     "data": {
      "text/plain": [
       "[5, 6, 7, 8]"
      ]
     },
     "execution_count": 269,
     "metadata": {},
     "output_type": "execute_result"
    }
   ],
   "source": [
    "mat.column_values(TM)"
   ]
  },
  {
   "cell_type": "code",
   "execution_count": 270,
   "metadata": {},
   "outputs": [
    {
     "name": "stdout",
     "output_type": "stream",
     "text": [
      "Enter the row number to dispaly values\n",
      "2\n"
     ]
    },
    {
     "data": {
      "text/plain": [
       "[2, 6, 10]"
      ]
     },
     "execution_count": 270,
     "metadata": {},
     "output_type": "execute_result"
    }
   ],
   "source": [
    "mat.row_values(TM)"
   ]
  },
  {
   "cell_type": "code",
   "execution_count": 271,
   "metadata": {},
   "outputs": [
    {
     "data": {
      "text/plain": [
       "[[0, 0, 0, 0], [0, 0, 0, 0], [0, 0, 0, 0]]"
      ]
     },
     "execution_count": 271,
     "metadata": {},
     "output_type": "execute_result"
    }
   ],
   "source": [
    "M_1=mat.to_list(M)\n",
    "M_1"
   ]
  },
  {
   "cell_type": "code",
   "execution_count": 272,
   "metadata": {},
   "outputs": [
    {
     "data": {
      "text/plain": [
       "[[0, 0, 0, 0], [0, 0, 0, 0], [0, 0, 0, 0]]"
      ]
     },
     "execution_count": 272,
     "metadata": {},
     "output_type": "execute_result"
    }
   ],
   "source": [
    "M_1=mat.to_list(M)\n",
    "M_1"
   ]
  },
  {
   "cell_type": "code",
   "execution_count": 273,
   "metadata": {},
   "outputs": [
    {
     "data": {
      "text/plain": [
       "[[0, 1, 0, 0], [0, 1, 0, 0], [0, 1, 0, 0]]"
      ]
     },
     "execution_count": 273,
     "metadata": {},
     "output_type": "execute_result"
    }
   ],
   "source": [
    "#To prove the new matric M_1 is list of list\n",
    "M_1[1][1]=1\n",
    "M_1"
   ]
  },
  {
   "cell_type": "code",
   "execution_count": 274,
   "metadata": {},
   "outputs": [
    {
     "data": {
      "text/plain": [
       "[[1, 2, 3, 4], [5, 1, 7, 8], [9, 10, 11, 12]]"
      ]
     },
     "execution_count": 274,
     "metadata": {},
     "output_type": "execute_result"
    }
   ],
   "source": [
    "#To test the orginal matrix M is not list of list\n",
    "M[1][1]=1\n",
    "M"
   ]
  },
  {
   "cell_type": "code",
   "execution_count": 275,
   "metadata": {},
   "outputs": [
    {
     "data": {
      "text/plain": [
       "[[1, 2, 3], [5, 1, 7], [9, 10, 11]]"
      ]
     },
     "execution_count": 275,
     "metadata": {},
     "output_type": "execute_result"
    }
   ],
   "source": [
    "mat.block(M,1,3,1,3)"
   ]
  },
  {
   "cell_type": "markdown",
   "metadata": {},
   "source": [
    "3. Write functions that create special matrices (note these are standalone functions, not member functions of your `matrix` class):\n",
    "    * `constant(n,m,c)`: returns a `n` by `m` matrix filled with floats of value `c`.\n",
    "    * `zeros(n,m)` and `ones(n,m)`: return `n` by `m` matrices filled with floats of value `0` and `1`, respectively.\n",
    "    * `eye(n)`: returns the n by n identity matrix."
   ]
  },
  {
   "cell_type": "code",
   "execution_count": 276,
   "metadata": {},
   "outputs": [],
   "source": [
    "def constant(n,m,c):\n",
    "    return [[float(c)] * m for i in range(n)]\n",
    "\n",
    "def zeros(n,m):\n",
    "    return [[0.] * m for i in range(n)]\n",
    "\n",
    "def ones(n,m):\n",
    "    return [[1.] * m for i in range(n)]\n",
    "\n",
    "def eye(n):\n",
    "    m=zeros(n,n)\n",
    "    for i in range(n):\n",
    "        m[i][i]=1\n",
    "    return m\n",
    "\n"
   ]
  },
  {
   "cell_type": "code",
   "execution_count": 277,
   "metadata": {},
   "outputs": [
    {
     "data": {
      "text/plain": [
       "[[6.0, 6.0, 6.0, 6.0, 6.0],\n",
       " [6.0, 6.0, 6.0, 6.0, 6.0],\n",
       " [6.0, 6.0, 6.0, 6.0, 6.0],\n",
       " [6.0, 6.0, 6.0, 6.0, 6.0]]"
      ]
     },
     "execution_count": 277,
     "metadata": {},
     "output_type": "execute_result"
    }
   ],
   "source": [
    "constant(4,5,6)"
   ]
  },
  {
   "cell_type": "code",
   "execution_count": 278,
   "metadata": {},
   "outputs": [
    {
     "data": {
      "text/plain": [
       "[[0.0, 0.0, 0.0, 0.0, 0.0],\n",
       " [0.0, 0.0, 0.0, 0.0, 0.0],\n",
       " [0.0, 0.0, 0.0, 0.0, 0.0],\n",
       " [0.0, 0.0, 0.0, 0.0, 0.0]]"
      ]
     },
     "execution_count": 278,
     "metadata": {},
     "output_type": "execute_result"
    }
   ],
   "source": [
    "zeros(4,5)"
   ]
  },
  {
   "cell_type": "code",
   "execution_count": 279,
   "metadata": {},
   "outputs": [
    {
     "data": {
      "text/plain": [
       "[[1.0, 1.0, 1.0, 1.0, 1.0],\n",
       " [1.0, 1.0, 1.0, 1.0, 1.0],\n",
       " [1.0, 1.0, 1.0, 1.0, 1.0],\n",
       " [1.0, 1.0, 1.0, 1.0, 1.0]]"
      ]
     },
     "execution_count": 279,
     "metadata": {},
     "output_type": "execute_result"
    }
   ],
   "source": [
    "ones(4,5)"
   ]
  },
  {
   "cell_type": "code",
   "execution_count": 280,
   "metadata": {},
   "outputs": [
    {
     "data": {
      "text/plain": [
       "[[1, 0.0, 0.0, 0.0, 0.0],\n",
       " [0.0, 1, 0.0, 0.0, 0.0],\n",
       " [0.0, 0.0, 1, 0.0, 0.0],\n",
       " [0.0, 0.0, 0.0, 1, 0.0],\n",
       " [0.0, 0.0, 0.0, 0.0, 1]]"
      ]
     },
     "execution_count": 280,
     "metadata": {},
     "output_type": "execute_result"
    }
   ],
   "source": [
    "eye(5)"
   ]
  },
  {
   "cell_type": "markdown",
   "metadata": {},
   "source": [
    "4. Add the following member functions to your class. Make sure to appropriately test the dimensions of the matrices to make sure the operations are correct.\n",
    "    * `M.scalarmul(c)`: a matrix that is scalar product $cM$, where every element of $M$ is multiplied by $c$.\n",
    "    * `M.add(N)`: adds two matrices $M$ and $N$. Don’t forget to test that the sizes of the matrices are compatible for this and all other operations.\n",
    "    * `M.sub(N)`: subtracts two matrices $M$ and $N$.\n",
    "    * `M.mat_mult(N)`: returns a matrix that is the matrix product of two matrices $M$ and $N$.\n",
    "    * `M.element_mult(N)`: returns a matrix that is the element-wise product of two matrices $M$ and $N$.\n",
    "    * `M.equals(N)`: returns true/false if $M==N$."
   ]
  },
  {
   "cell_type": "code",
   "execution_count": 281,
   "metadata": {},
   "outputs": [],
   "source": [
    "class operation(matrix_2):\n",
    "    def __init__(self):\n",
    "        pass\n",
    "    \n",
    "    def scalarmul(self,M,c):\n",
    "        self.M=M\n",
    "        self.c=c\n",
    "        n,m=self.shape(self.M)\n",
    "        R=zeros(n,m)\n",
    "        for i in range(n):\n",
    "            for j in range(m):\n",
    "                R[i][j]=M[i][j]*self.c\n",
    "        return R\n",
    "    \n",
    "    def add(self,M,N):\n",
    "        self.M=M\n",
    "        self.N=N\n",
    "        n1,m1=self.shape(self.M)\n",
    "        n2,m2=self.shape(self.N)\n",
    "        R=zeros(n1,m1)\n",
    "        if (n1,m1)==(n2,m2):\n",
    "            for i in range(n1):\n",
    "                for j in range(m1):\n",
    "                    R[i][j]=M[i][j]+N[i][j]\n",
    "            return R\n",
    "        else:\n",
    "            print(\"The matrix shapes has to be same for the summation\")\n",
    "            \n",
    "    def sub(self,M,N):\n",
    "        self.M=M\n",
    "        self.N=N\n",
    "        n1,m1=self.shape(self.M)\n",
    "        n2,m2=self.shape(self.N)\n",
    "        R=zeros(n1,m1)\n",
    "        if (n1,m1)==(n2,m2):\n",
    "            for i in range(n1):\n",
    "                for j in range(m1):\n",
    "                    R[i][j]=M[i][j]-N[i][j]\n",
    "            return R\n",
    "        else:\n",
    "            print(\"The matrix shapes has to be same for the subtraction\")\n",
    "            \n",
    "    def mat_mult(self,M,N):\n",
    "        self.M=M\n",
    "        self.N=N\n",
    "        n1,m1=self.shape(self.M)\n",
    "        n2,m2=self.shape(self.N)\n",
    "        R=zeros(n1,m2)\n",
    "        if (m1)==(n2):\n",
    "            for i in range(n1):\n",
    "                for j in range(m2):\n",
    "                    for k in range(m1):\n",
    "                        R[i][j]+=M[i][k]*N[k][j]\n",
    "            return R\n",
    "        else:\n",
    "            print(\"The matrix multiplication is not possible for the given matrix shapes\")\n",
    "            \n",
    "    def element_mult(self,M,N):\n",
    "        self.M=M\n",
    "        self.N=N\n",
    "        n1,m1=self.shape(self.M)\n",
    "        n2,m2=self.shape(self.N)\n",
    "        R=zeros(n1,m1)\n",
    "        if (n1,m1)==(n2,m2):\n",
    "            for i in range(n1):\n",
    "                for j in range(m1):\n",
    "                    R[i][j]=M[i][j]*N[i][j]\n",
    "            return R\n",
    "        else:\n",
    "            print(\"The matrix shapes has to be same for the emelemt multipication\")\n",
    "            \n",
    "    def equals(self,M,N):\n",
    "        self.M=M\n",
    "        self.N=N\n",
    "        n1,m1=self.shape(self.M)\n",
    "        n2,m2=self.shape(self.N)\n",
    "        if (n1,m1)==(n2,m2):\n",
    "            for i in range(n1):\n",
    "                for j in range(m1):\n",
    "                    if M[i][j]==N[i][j]:\n",
    "                        return True\n",
    "                    else:\n",
    "                        return False\n",
    "        else:\n",
    "            print(\"The matrix shapes has to be same for the equal check\")\n",
    "            \n",
    "                "
   ]
  },
  {
   "cell_type": "code",
   "execution_count": 282,
   "metadata": {},
   "outputs": [
    {
     "data": {
      "text/plain": [
       "[[1.0, 1.0, 1.0, 1.0],\n",
       " [1.0, 1.0, 1.0, 1.0],\n",
       " [1.0, 1.0, 1.0, 1.0],\n",
       " [1.0, 1.0, 1.0, 1.0]]"
      ]
     },
     "execution_count": 282,
     "metadata": {},
     "output_type": "execute_result"
    }
   ],
   "source": [
    "o=operation()\n",
    "M=ones(4,4)\n",
    "M"
   ]
  },
  {
   "cell_type": "code",
   "execution_count": 283,
   "metadata": {},
   "outputs": [
    {
     "data": {
      "text/plain": [
       "[[4.0, 4.0, 4.0, 4.0],\n",
       " [4.0, 4.0, 4.0, 4.0],\n",
       " [4.0, 4.0, 4.0, 4.0],\n",
       " [4.0, 4.0, 4.0, 4.0]]"
      ]
     },
     "execution_count": 283,
     "metadata": {},
     "output_type": "execute_result"
    }
   ],
   "source": [
    "M1=o.scalarmul(M,4)\n",
    "M1"
   ]
  },
  {
   "cell_type": "code",
   "execution_count": 284,
   "metadata": {},
   "outputs": [
    {
     "data": {
      "text/plain": [
       "[[5.0, 5.0, 5.0, 5.0],\n",
       " [5.0, 5.0, 5.0, 5.0],\n",
       " [5.0, 5.0, 5.0, 5.0],\n",
       " [5.0, 5.0, 5.0, 5.0]]"
      ]
     },
     "execution_count": 284,
     "metadata": {},
     "output_type": "execute_result"
    }
   ],
   "source": [
    "o.add(M,M1)"
   ]
  },
  {
   "cell_type": "code",
   "execution_count": 285,
   "metadata": {},
   "outputs": [
    {
     "data": {
      "text/plain": [
       "[[-3.0, -3.0, -3.0, -3.0],\n",
       " [-3.0, -3.0, -3.0, -3.0],\n",
       " [-3.0, -3.0, -3.0, -3.0],\n",
       " [-3.0, -3.0, -3.0, -3.0]]"
      ]
     },
     "execution_count": 285,
     "metadata": {},
     "output_type": "execute_result"
    }
   ],
   "source": [
    "o.sub(M,M1)"
   ]
  },
  {
   "cell_type": "code",
   "execution_count": 286,
   "metadata": {},
   "outputs": [
    {
     "data": {
      "text/plain": [
       "[[16.0, 16.0, 16.0, 16.0],\n",
       " [16.0, 16.0, 16.0, 16.0],\n",
       " [16.0, 16.0, 16.0, 16.0],\n",
       " [16.0, 16.0, 16.0, 16.0]]"
      ]
     },
     "execution_count": 286,
     "metadata": {},
     "output_type": "execute_result"
    }
   ],
   "source": [
    "o.mat_mult(M,M1)"
   ]
  },
  {
   "cell_type": "code",
   "execution_count": 287,
   "metadata": {},
   "outputs": [
    {
     "data": {
      "text/plain": [
       "[[4.0, 4.0, 4.0, 4.0],\n",
       " [4.0, 4.0, 4.0, 4.0],\n",
       " [4.0, 4.0, 4.0, 4.0],\n",
       " [4.0, 4.0, 4.0, 4.0]]"
      ]
     },
     "execution_count": 287,
     "metadata": {},
     "output_type": "execute_result"
    }
   ],
   "source": [
    "o.element_mult(M,M1)"
   ]
  },
  {
   "cell_type": "code",
   "execution_count": 288,
   "metadata": {},
   "outputs": [
    {
     "data": {
      "text/plain": [
       "False"
      ]
     },
     "execution_count": 288,
     "metadata": {},
     "output_type": "execute_result"
    }
   ],
   "source": [
    "o.equals(M,M1)"
   ]
  },
  {
   "cell_type": "markdown",
   "metadata": {},
   "source": [
    "5. Overload python operators to appropriately use your functions in 4 and allow expressions like:\n",
    "    * 2*M\n",
    "    * M*2\n",
    "    * M+N\n",
    "    * M-N\n",
    "    * M*N\n",
    "    * M==N\n",
    "    * M=N\n"
   ]
  },
  {
   "cell_type": "code",
   "execution_count": 289,
   "metadata": {},
   "outputs": [],
   "source": [
    "class overload(operation):\n",
    "    def __init__(self,M):\n",
    "        self.M=M\n",
    "        pass\n",
    "    \n",
    "    def __add__(self, other):\n",
    "        return self.add(self.M,other.M)\n",
    "    \n",
    "    def __sub__(self, other):\n",
    "        return self.sub(self.M,other.M)\n",
    "    \n",
    "    def __mul__(self, other):\n",
    "        if isinstance(other,(int,float)):\n",
    "            return self.scalarmul(self.M,other)\n",
    "        else:\n",
    "            return self.mat_mult(self.M,other.M)\n",
    "    \n",
    "    def __eq__(self, other):\n",
    "        return self.equals(self.M,other.M)\n",
    "    \n",
    "    def __set__(self, other):\n",
    "        return matrix.matric_swap(self.M,other.M)\n",
    "    "
   ]
  },
  {
   "cell_type": "code",
   "execution_count": 290,
   "metadata": {},
   "outputs": [],
   "source": [
    "M = [[1.0, 1.0, 1.0, 1.0],\n",
    " [1.0, 1.0, 1.0, 1.0],\n",
    " [1.0, 1.0, 1.0, 1.0],\n",
    " [1.0, 1.0, 1.0, 1.0]]"
   ]
  },
  {
   "cell_type": "code",
   "execution_count": 291,
   "metadata": {},
   "outputs": [],
   "source": [
    "M1 = [[4.0, 4.0, 4.0, 4.0],\n",
    " [4.0, 4.0, 4.0, 4.0],\n",
    " [4.0, 4.0, 4.0, 4.0],\n",
    " [4.0, 4.0, 4.0, 4.0]]"
   ]
  },
  {
   "cell_type": "code",
   "execution_count": 292,
   "metadata": {},
   "outputs": [
    {
     "data": {
      "text/plain": [
       "[[5.0, 5.0, 5.0, 5.0],\n",
       " [5.0, 5.0, 5.0, 5.0],\n",
       " [5.0, 5.0, 5.0, 5.0],\n",
       " [5.0, 5.0, 5.0, 5.0]]"
      ]
     },
     "execution_count": 292,
     "metadata": {},
     "output_type": "execute_result"
    }
   ],
   "source": [
    "# test M+N\n",
    "A=overload(M)\n",
    "B=overload(M1)\n",
    "A+B"
   ]
  },
  {
   "cell_type": "code",
   "execution_count": 293,
   "metadata": {},
   "outputs": [
    {
     "data": {
      "text/plain": [
       "[[-3.0, -3.0, -3.0, -3.0],\n",
       " [-3.0, -3.0, -3.0, -3.0],\n",
       " [-3.0, -3.0, -3.0, -3.0],\n",
       " [-3.0, -3.0, -3.0, -3.0]]"
      ]
     },
     "execution_count": 293,
     "metadata": {},
     "output_type": "execute_result"
    }
   ],
   "source": [
    "# test M-N\n",
    "A=overload(M)\n",
    "B=overload(M1)\n",
    "A-B"
   ]
  },
  {
   "cell_type": "code",
   "execution_count": 294,
   "metadata": {},
   "outputs": [
    {
     "data": {
      "text/plain": [
       "[[16.0, 16.0, 16.0, 16.0],\n",
       " [16.0, 16.0, 16.0, 16.0],\n",
       " [16.0, 16.0, 16.0, 16.0],\n",
       " [16.0, 16.0, 16.0, 16.0]]"
      ]
     },
     "execution_count": 294,
     "metadata": {},
     "output_type": "execute_result"
    }
   ],
   "source": [
    "# test M*N\n",
    "A=overload(M)\n",
    "B=overload(M1)\n",
    "A*B"
   ]
  },
  {
   "cell_type": "code",
   "execution_count": 296,
   "metadata": {},
   "outputs": [
    {
     "data": {
      "text/plain": [
       "[[2.0, 2.0, 2.0, 2.0],\n",
       " [2.0, 2.0, 2.0, 2.0],\n",
       " [2.0, 2.0, 2.0, 2.0],\n",
       " [2.0, 2.0, 2.0, 2.0]]"
      ]
     },
     "execution_count": 296,
     "metadata": {},
     "output_type": "execute_result"
    }
   ],
   "source": [
    "# test M*2\n",
    "A=overload(M)\n",
    "A*2"
   ]
  },
  {
   "cell_type": "code",
   "execution_count": 297,
   "metadata": {},
   "outputs": [
    {
     "data": {
      "text/plain": [
       "False"
      ]
     },
     "execution_count": 297,
     "metadata": {},
     "output_type": "execute_result"
    }
   ],
   "source": [
    "# test M==N\n",
    "A=overload(M)\n",
    "B=overload(M1)\n",
    "A==B"
   ]
  },
  {
   "cell_type": "code",
   "execution_count": 298,
   "metadata": {},
   "outputs": [
    {
     "data": {
      "text/plain": [
       "True"
      ]
     },
     "execution_count": 298,
     "metadata": {},
     "output_type": "execute_result"
    }
   ],
   "source": [
    "# test M=N\n",
    "A=overload(M)\n",
    "B=overload(M1)\n",
    "A=B\n",
    "A==B"
   ]
  },
  {
   "cell_type": "markdown",
   "metadata": {},
   "source": [
    "6. Demonstrate the basic properties of matrices with your matrix class by creating two 2 by 2 example matrices using your Matrix class and illustrating the following:\n",
    "\n",
    "$$\n",
    "(AB)C=A(BC)\n",
    "$$\n",
    "$$\n",
    "A(B+C)=AB+AC\n",
    "$$\n",
    "$$\n",
    "AB\\neq BA\n",
    "$$\n",
    "$$\n",
    "AI=A\n",
    "$$"
   ]
  },
  {
   "cell_type": "code",
   "execution_count": 299,
   "metadata": {},
   "outputs": [],
   "source": [
    "A = [[1,2], [3,4]]"
   ]
  },
  {
   "cell_type": "code",
   "execution_count": 300,
   "metadata": {},
   "outputs": [],
   "source": [
    "B = [[5,6], [7,8]]"
   ]
  },
  {
   "cell_type": "code",
   "execution_count": 301,
   "metadata": {},
   "outputs": [],
   "source": [
    "C = [[9,10], [11,12]]"
   ]
  },
  {
   "cell_type": "code",
   "execution_count": 302,
   "metadata": {},
   "outputs": [
    {
     "data": {
      "text/plain": [
       "[[19.0, 22.0], [43.0, 50.0]]"
      ]
     },
     "execution_count": 302,
     "metadata": {},
     "output_type": "execute_result"
    }
   ],
   "source": [
    "O=operation()\n",
    "AB=o.mat_mult(A,B)\n",
    "AB"
   ]
  },
  {
   "cell_type": "code",
   "execution_count": 303,
   "metadata": {},
   "outputs": [
    {
     "data": {
      "text/plain": [
       "[[111.0, 122.0], [151.0, 166.0]]"
      ]
     },
     "execution_count": 303,
     "metadata": {},
     "output_type": "execute_result"
    }
   ],
   "source": [
    "O=operation()\n",
    "BC=o.mat_mult(B,C)\n",
    "BC"
   ]
  },
  {
   "cell_type": "code",
   "execution_count": 304,
   "metadata": {},
   "outputs": [
    {
     "data": {
      "text/plain": [
       "[[31.0, 34.0], [71.0, 78.0]]"
      ]
     },
     "execution_count": 304,
     "metadata": {},
     "output_type": "execute_result"
    }
   ],
   "source": [
    "O=operation()\n",
    "AC=o.mat_mult(A,C)\n",
    "AC"
   ]
  },
  {
   "cell_type": "code",
   "execution_count": 305,
   "metadata": {},
   "outputs": [
    {
     "data": {
      "text/plain": [
       "[[23.0, 34.0], [31.0, 46.0]]"
      ]
     },
     "execution_count": 305,
     "metadata": {},
     "output_type": "execute_result"
    }
   ],
   "source": [
    "O=operation()\n",
    "BA=o.mat_mult(B,A)\n",
    "BA"
   ]
  },
  {
   "cell_type": "code",
   "execution_count": 306,
   "metadata": {},
   "outputs": [],
   "source": [
    "#6.1 checking if (AB)C=A(BC)"
   ]
  },
  {
   "cell_type": "code",
   "execution_count": 307,
   "metadata": {},
   "outputs": [
    {
     "data": {
      "text/plain": [
       "[[413.0, 454.0], [937.0, 1030.0]]"
      ]
     },
     "execution_count": 307,
     "metadata": {},
     "output_type": "execute_result"
    }
   ],
   "source": [
    "O=operation() #ABC2 is (AB)C\n",
    "ABC1=o.mat_mult(AB,C)\n",
    "ABC1 "
   ]
  },
  {
   "cell_type": "code",
   "execution_count": 308,
   "metadata": {},
   "outputs": [
    {
     "data": {
      "text/plain": [
       "[[413.0, 454.0], [937.0, 1030.0]]"
      ]
     },
     "execution_count": 308,
     "metadata": {},
     "output_type": "execute_result"
    }
   ],
   "source": [
    "O=operation() #ABC2 is A(BC)\n",
    "ABC2=o.mat_mult(A,BC)\n",
    "ABC2 "
   ]
  },
  {
   "cell_type": "code",
   "execution_count": 309,
   "metadata": {},
   "outputs": [
    {
     "data": {
      "text/plain": [
       "True"
      ]
     },
     "execution_count": 309,
     "metadata": {},
     "output_type": "execute_result"
    }
   ],
   "source": [
    "#checking if (AB)C=A(BC), where ABC1 is (AB)C and ABC2=A(BC) \n",
    "o.equals(ABC1,ABC2)"
   ]
  },
  {
   "cell_type": "code",
   "execution_count": 310,
   "metadata": {},
   "outputs": [],
   "source": [
    "#6.2 𝐴(𝐵+𝐶)=𝐴𝐵+𝐴𝐶"
   ]
  },
  {
   "cell_type": "code",
   "execution_count": 311,
   "metadata": {},
   "outputs": [
    {
     "data": {
      "text/plain": [
       "[[14, 16], [18, 20]]"
      ]
     },
     "execution_count": 311,
     "metadata": {},
     "output_type": "execute_result"
    }
   ],
   "source": [
    "O=operation() #BC1 is (B+C)\n",
    "BC1=o.add(B,C)\n",
    "BC1"
   ]
  },
  {
   "cell_type": "code",
   "execution_count": 312,
   "metadata": {},
   "outputs": [
    {
     "data": {
      "text/plain": [
       "[[50.0, 56.0], [114.0, 128.0]]"
      ]
     },
     "execution_count": 312,
     "metadata": {},
     "output_type": "execute_result"
    }
   ],
   "source": [
    "O=operation() #ABC3 is A(B+C)\n",
    "ABC3=o.mat_mult(A,BC1)\n",
    "ABC3"
   ]
  },
  {
   "cell_type": "code",
   "execution_count": 313,
   "metadata": {},
   "outputs": [
    {
     "data": {
      "text/plain": [
       "[[50.0, 56.0], [114.0, 128.0]]"
      ]
     },
     "execution_count": 313,
     "metadata": {},
     "output_type": "execute_result"
    }
   ],
   "source": [
    "O=operation() #ABAC is AB+AC\n",
    "ABAC=o.add(AB,AC)\n",
    "ABAC"
   ]
  },
  {
   "cell_type": "code",
   "execution_count": 314,
   "metadata": {},
   "outputs": [
    {
     "data": {
      "text/plain": [
       "True"
      ]
     },
     "execution_count": 314,
     "metadata": {},
     "output_type": "execute_result"
    }
   ],
   "source": [
    "# Test if 𝐴(𝐵+𝐶)=𝐴𝐵+𝐴𝐶\n",
    "o.equals(ABC3,ABAC)"
   ]
  },
  {
   "cell_type": "code",
   "execution_count": 315,
   "metadata": {},
   "outputs": [
    {
     "data": {
      "text/plain": [
       "False"
      ]
     },
     "execution_count": 315,
     "metadata": {},
     "output_type": "execute_result"
    }
   ],
   "source": [
    "#6.3 test if 𝐴𝐵=𝐵𝐴\n",
    "o.equals(AB,BA)"
   ]
  },
  {
   "cell_type": "code",
   "execution_count": 316,
   "metadata": {},
   "outputs": [],
   "source": [
    "#6.4 𝐴𝐼=𝐴"
   ]
  },
  {
   "cell_type": "code",
   "execution_count": 317,
   "metadata": {},
   "outputs": [
    {
     "data": {
      "text/plain": [
       "[[1, 0.0], [0.0, 1]]"
      ]
     },
     "execution_count": 317,
     "metadata": {},
     "output_type": "execute_result"
    }
   ],
   "source": [
    "I=eye(2)\n",
    "I"
   ]
  },
  {
   "cell_type": "code",
   "execution_count": 318,
   "metadata": {},
   "outputs": [
    {
     "data": {
      "text/plain": [
       "[[1.0, 2.0], [3.0, 4.0]]"
      ]
     },
     "execution_count": 318,
     "metadata": {},
     "output_type": "execute_result"
    }
   ],
   "source": [
    "O=operation()\n",
    "AI=o.mat_mult(A,I)\n",
    "AI"
   ]
  },
  {
   "cell_type": "code",
   "execution_count": 319,
   "metadata": {},
   "outputs": [
    {
     "data": {
      "text/plain": [
       "True"
      ]
     },
     "execution_count": 319,
     "metadata": {},
     "output_type": "execute_result"
    }
   ],
   "source": [
    "# Test if 𝐴𝐼=𝐴\n",
    "o.equals(AI,A)"
   ]
  },
  {
   "cell_type": "code",
   "execution_count": null,
   "metadata": {},
   "outputs": [],
   "source": []
  }
 ],
 "metadata": {
  "kernelspec": {
   "display_name": "Python 3",
   "language": "python",
   "name": "python3"
  },
  "language_info": {
   "codemirror_mode": {
    "name": "ipython",
    "version": 3
   },
   "file_extension": ".py",
   "mimetype": "text/x-python",
   "name": "python",
   "nbconvert_exporter": "python",
   "pygments_lexer": "ipython3",
   "version": "3.7.4"
  }
 },
 "nbformat": 4,
 "nbformat_minor": 2
}
