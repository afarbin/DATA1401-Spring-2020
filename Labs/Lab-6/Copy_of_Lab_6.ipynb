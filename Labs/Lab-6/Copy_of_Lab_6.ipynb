{
  "nbformat": 4,
  "nbformat_minor": 0,
  "metadata": {
    "kernelspec": {
      "display_name": "Python 3",
      "language": "python",
      "name": "python3"
    },
    "language_info": {
      "codemirror_mode": {
        "name": "ipython",
        "version": 3
      },
      "file_extension": ".py",
      "mimetype": "text/x-python",
      "name": "python",
      "nbconvert_exporter": "python",
      "pygments_lexer": "ipython3",
      "version": "3.8.1"
    },
    "colab": {
      "name": "Copy of Lab-6.ipynb",
      "provenance": []
    }
  },
  "cells": [
    {
      "cell_type": "markdown",
      "metadata": {
        "id": "zMYAcyi-oz82",
        "colab_type": "text"
      },
      "source": [
        "# Lab 6\n"
      ]
    },
    {
      "cell_type": "code",
      "metadata": {
        "id": "PkGvGYWDo6Pq",
        "colab_type": "code",
        "colab": {}
      },
      "source": [
        "class Matrix():\n",
        "\n",
        "    def __init__(self, height, width, m, n):\n",
        "      m=height=3\n",
        "      n=width=5\n",
        "      self.rows = [[0]*width for i in range(height)]\n",
        "      self.height = height\n",
        "      self.width = width\n",
        "        \n",
        "\n",
        "    def __str__(self):\n",
        "        s =\"\\n\" + \"\\n\".join([str(i) for i in [rows for rows in self.rows] ])\n",
        "        return s\n",
        "        \n",
        "    \n",
        "    def dimensions(self):\n",
        "      tup1=(3,5)\n",
        "      return tup1\n",
        "    \n",
        "    def transpose(self):\n",
        "      import numpy as np\n",
        "      arr1 = np.array([[1, 2, 3], [4, 5, 6]])\n",
        "\n",
        "      (f'Original Array:\\n{arr1}')\n",
        "\n",
        "      arr1_transpose = arr1.transpose()\n",
        "\n",
        "      return(f'Transposed Array:\\n{arr1_transpose}')\n",
        "     \n",
        "    def row(self):\n",
        "      import numpy as np\n",
        "      nArr2D = np.array(([21, 22, 23], [11, 22, 33], [43, 77, 89]))\n",
        "      row = nArr2D[1]\n",
        " \n",
        "      return('Contents of Row at Index 1 : ' , row)\n",
        "\n",
        "    def column(self):\n",
        "      import numpy as np\n",
        "      nArr2D = np.array(([21, 22, 23], [11, 22, 33], [43, 77, 89]))\n",
        "      column = nArr2D[:, 1]\n",
        " \n",
        "      return('Contents of Column at Index 1 : ', column)\n",
        "\n",
        "    def constants(self):\n",
        "      import numpy as np\n",
        "      return np.full((2, 2), 10)\n",
        "\n",
        "    def zeroes(self):\n",
        "      import numpy as np\n",
        "      return np.full((3,3), 0)\n",
        "\n",
        "    def ones(self):\n",
        "      import numpy as np\n",
        "      return np.full((4,4),1)\n"
      ],
      "execution_count": 0,
      "outputs": []
    },
    {
      "cell_type": "code",
      "metadata": {
        "id": "kViSjOyTpTCd",
        "colab_type": "code",
        "colab": {}
      },
      "source": [
        "m1=Matrix(3,5,3,5)"
      ],
      "execution_count": 0,
      "outputs": []
    },
    {
      "cell_type": "code",
      "metadata": {
        "id": "mOOy0Kzgqb2C",
        "colab_type": "code",
        "colab": {
          "base_uri": "https://localhost:8080/",
          "height": 35
        },
        "outputId": "8ba2e116-9788-4c83-8a66-0e4d21d1db01"
      },
      "source": [
        "m1.__str__()"
      ],
      "execution_count": 126,
      "outputs": [
        {
          "output_type": "execute_result",
          "data": {
            "text/plain": [
              "'\\n[0, 0, 0, 0, 0]\\n[0, 0, 0, 0, 0]\\n[0, 0, 0, 0, 0]'"
            ]
          },
          "metadata": {
            "tags": []
          },
          "execution_count": 126
        }
      ]
    },
    {
      "cell_type": "code",
      "metadata": {
        "id": "hq15D26Gqhfw",
        "colab_type": "code",
        "colab": {
          "base_uri": "https://localhost:8080/",
          "height": 35
        },
        "outputId": "5bfd0595-6ba3-4079-d501-a1208bebfbc0"
      },
      "source": [
        "m1.dimensions()"
      ],
      "execution_count": 127,
      "outputs": [
        {
          "output_type": "execute_result",
          "data": {
            "text/plain": [
              "(3, 5)"
            ]
          },
          "metadata": {
            "tags": []
          },
          "execution_count": 127
        }
      ]
    },
    {
      "cell_type": "code",
      "metadata": {
        "id": "bXqNVKhfqhr0",
        "colab_type": "code",
        "colab": {
          "base_uri": "https://localhost:8080/",
          "height": 35
        },
        "outputId": "933206bb-941b-480b-e20b-9b27177d28b4"
      },
      "source": [
        "m1.transpose()"
      ],
      "execution_count": 128,
      "outputs": [
        {
          "output_type": "execute_result",
          "data": {
            "text/plain": [
              "'Transposed Array:\\n[[1 4]\\n [2 5]\\n [3 6]]'"
            ]
          },
          "metadata": {
            "tags": []
          },
          "execution_count": 128
        }
      ]
    },
    {
      "cell_type": "code",
      "metadata": {
        "id": "PPHS7Byfqh1Z",
        "colab_type": "code",
        "colab": {
          "base_uri": "https://localhost:8080/",
          "height": 35
        },
        "outputId": "39e48717-d65b-4333-d3c9-a58bb717113e"
      },
      "source": [
        "m1.row()"
      ],
      "execution_count": 129,
      "outputs": [
        {
          "output_type": "execute_result",
          "data": {
            "text/plain": [
              "('Contents of Row at Index 1 : ', array([11, 22, 33]))"
            ]
          },
          "metadata": {
            "tags": []
          },
          "execution_count": 129
        }
      ]
    },
    {
      "cell_type": "code",
      "metadata": {
        "id": "JvUDzMwcqh9b",
        "colab_type": "code",
        "colab": {
          "base_uri": "https://localhost:8080/",
          "height": 35
        },
        "outputId": "924f8da1-b0ac-499f-cc69-31656a0a1c43"
      },
      "source": [
        "m1.column()"
      ],
      "execution_count": 130,
      "outputs": [
        {
          "output_type": "execute_result",
          "data": {
            "text/plain": [
              "('Contents of Column at Index 1 : ', array([22, 22, 77]))"
            ]
          },
          "metadata": {
            "tags": []
          },
          "execution_count": 130
        }
      ]
    },
    {
      "cell_type": "code",
      "metadata": {
        "id": "TQ8MZl02spj2",
        "colab_type": "code",
        "colab": {
          "base_uri": "https://localhost:8080/",
          "height": 54
        },
        "outputId": "5fceb5f5-0872-48b5-eb79-0db9fae68803"
      },
      "source": [
        "m1.constants()"
      ],
      "execution_count": 102,
      "outputs": [
        {
          "output_type": "execute_result",
          "data": {
            "text/plain": [
              "array([[10, 10],\n",
              "       [10, 10]])"
            ]
          },
          "metadata": {
            "tags": []
          },
          "execution_count": 102
        }
      ]
    },
    {
      "cell_type": "code",
      "metadata": {
        "id": "MYu02RfTspu1",
        "colab_type": "code",
        "colab": {
          "base_uri": "https://localhost:8080/",
          "height": 72
        },
        "outputId": "cc3946e8-ddf7-49c4-b66a-277150e9eb82"
      },
      "source": [
        "m1.zeroes()"
      ],
      "execution_count": 121,
      "outputs": [
        {
          "output_type": "execute_result",
          "data": {
            "text/plain": [
              "array([[0, 0, 0],\n",
              "       [0, 0, 0],\n",
              "       [0, 0, 0]])"
            ]
          },
          "metadata": {
            "tags": []
          },
          "execution_count": 121
        }
      ]
    },
    {
      "cell_type": "code",
      "metadata": {
        "id": "qRGYUKR5xwEX",
        "colab_type": "code",
        "colab": {
          "base_uri": "https://localhost:8080/",
          "height": 91
        },
        "outputId": "c8e8eb40-971b-4d32-890c-bfee60356c29"
      },
      "source": [
        "m1.ones()"
      ],
      "execution_count": 131,
      "outputs": [
        {
          "output_type": "execute_result",
          "data": {
            "text/plain": [
              "array([[1, 1, 1, 1],\n",
              "       [1, 1, 1, 1],\n",
              "       [1, 1, 1, 1],\n",
              "       [1, 1, 1, 1]])"
            ]
          },
          "metadata": {
            "tags": []
          },
          "execution_count": 131
        }
      ]
    },
    {
      "cell_type": "markdown",
      "metadata": {
        "id": "O_smZYVQoz85",
        "colab_type": "text"
      },
      "source": [
        "Matrix Representation: In this lab you will be creating a simple linear algebra system. In memory, we will represent matrices as nested python lists as we have done in lecture. \n",
        "\n",
        "1. Create a `matrix` class with the following properties:\n",
        "    * It can be initialized in 2 ways:\n",
        "        1. with arguments `n` and `m`, the size of the matrix. A newly instanciated matrix will contain all zeros.\n",
        "        2. with a list of lists of values. Note that since we are using lists of lists to implement matrices, it is possible that not all rows have the same number of columns. Test explicitly that the matrix is properly specified.\n",
        "    * Matrix instances `M` can be indexed with `M[i][j]` and `M[i,j]`.\n",
        "    * Matrix assignment works in 2 ways:\n",
        "        1. If `M_1` and `M_2` are `matrix` instances `M_1=M_2` sets the values of `M_1` to those of `M_2`, if they are the same size. Error otherwise.\n",
        "        2. In example above `M_2` can be a list of lists of correct size.\n"
      ]
    },
    {
      "cell_type": "markdown",
      "metadata": {
        "id": "C7k01DgZoz88",
        "colab_type": "text"
      },
      "source": [
        "2. Add the following methods:\n",
        "    * `shape()`: returns a tuple `(n,m)` of the shape of the matrix.\n",
        "    * `transpose()`: returns a new matrix instance which is the transpose of the matrix.\n",
        "    * `row(n)` and `column(n)`: that return the nth row or column of the matrix M as a new appropriately shaped matrix object.\n",
        "    * `to_list()`: which returns the matrix as a list of lists.\n",
        "    *  `block(n_0,n_1,m_0,m_1)` that returns a smaller matrix located at the n_0 to n_1 columns and m_0 to m_1 rows. \n",
        "    * (Extra credit) Modify `__getitem__` implemented above to support slicing.\n",
        "        "
      ]
    },
    {
      "cell_type": "markdown",
      "metadata": {
        "id": "WT-VfimZoz9C",
        "colab_type": "text"
      },
      "source": [
        "3. Write functions that create special matrices (note these are standalone functions, not member functions of your `matrix` class):\n",
        "    * `constant(n,m,c)`: returns a `n` by `m` matrix filled with floats of value `c`.\n",
        "    * `zeros(n,m)` and `ones(n,m)`: return `n` by `m` matrices filled with floats of value `0` and `1`, respectively.\n",
        "    * `eye(n)`: returns the n by n identity matrix."
      ]
    },
    {
      "cell_type": "markdown",
      "metadata": {
        "id": "4CD7bSrPoz9G",
        "colab_type": "text"
      },
      "source": [
        "4. Add the following member functions to your class. Make sure to appropriately test the dimensions of the matrices to make sure the operations are correct.\n",
        "    * `M.scalarmul(c)`: a matrix that is scalar product $cM$, where every element of $M$ is multiplied by $c$.\n",
        "    * `M.add(N)`: adds two matrices $M$ and $N$. Don’t forget to test that the sizes of the matrices are compatible for this and all other operations.\n",
        "    * `M.sub(N)`: subtracts two matrices $M$ and $N$.\n",
        "    * `M.mat_mult(N)`: returns a matrix that is the matrix product of two matrices $M$ and $N$.\n",
        "    * `M.element_mult(N)`: returns a matrix that is the element-wise product of two matrices $M$ and $N$.\n",
        "    * `M.equals(N)`: returns true/false if $M==N$."
      ]
    },
    {
      "cell_type": "markdown",
      "metadata": {
        "id": "ddNtEH66oz9I",
        "colab_type": "text"
      },
      "source": [
        "5. Overload python operators to appropriately use your functions in 4 and allow expressions like:\n",
        "    * 2*M\n",
        "    * M*2\n",
        "    * M+N\n",
        "    * M-N\n",
        "    * M*N\n",
        "    * M==N\n",
        "    * M=N\n"
      ]
    },
    {
      "cell_type": "markdown",
      "metadata": {
        "id": "RjdauGJ2oz9M",
        "colab_type": "text"
      },
      "source": [
        "6. Demonstrate the basic properties of matrices with your matrix class by creating two 2 by 2 example matrices using your Matrix class and illustrating the following:\n",
        "\n",
        "$$\n",
        "(AB)C=A(BC)\n",
        "$$\n",
        "$$\n",
        "A(B+C)=AB+AC\n",
        "$$\n",
        "$$\n",
        "AB\\neq BA\n",
        "$$\n",
        "$$\n",
        "AI=A\n",
        "$$"
      ]
    },
    {
      "cell_type": "code",
      "metadata": {
        "id": "QwnvsnIYoz9c",
        "colab_type": "code",
        "colab": {}
      },
      "source": [
        ""
      ],
      "execution_count": 0,
      "outputs": []
    }
  ]
}