{
  "nbformat": 4,
  "nbformat_minor": 0,
  "metadata": {
    "kernelspec": {
      "display_name": "Python 3",
      "language": "python",
      "name": "python3"
    },
    "language_info": {
      "codemirror_mode": {
        "name": "ipython",
        "version": 3
      },
      "file_extension": ".py",
      "mimetype": "text/x-python",
      "name": "python",
      "nbconvert_exporter": "python",
      "pygments_lexer": "ipython3",
      "version": "3.8.1"
    },
    "colab": {
      "name": "Copy of Lab-6.ipynb",
      "provenance": []
    }
  },
  "cells": [
    {
      "cell_type": "markdown",
      "metadata": {
        "id": "OPqz8c0Eb7VX",
        "colab_type": "text"
      },
      "source": [
        "# Lab 6\n"
      ]
    },
    {
      "cell_type": "markdown",
      "metadata": {
        "id": "7CZVZmPTb7VX",
        "colab_type": "text"
      },
      "source": [
        "Matrix Representation: In this lab you will be creating a simple linear algebra system. In memory, we will represent matrices as nested python lists as we have done in lecture. \n",
        "\n",
        "1. Create a `matrix` class with the following properties:\n",
        "    * It can be initialized in 2 ways:\n",
        "        1. with arguments `n` and `m`, the size of the matrix. A newly instanciated matrix will contain all zeros.\n",
        "        2. with a list of lists of values. Note that since we are using lists of lists to implement matrices, it is possible that not all rows have the same number of columns. Test explicitly that the matrix is properly specified.\n",
        "    * Matrix instances `M` can be indexed with `M[i][j]` and `M[i,j]`.\n",
        "    * Matrix assignment works in 2 ways:\n",
        "        1. If `M_1` and `M_2` are `matrix` instances `M_1=M_2` sets the values of `M_1` to those of `M_2`, if they are the same size. Error otherwise.\n",
        "        2. In example above `M_2` can be a list of lists of correct size.\n"
      ]
    },
    {
      "cell_type": "code",
      "metadata": {
        "id": "fI3YRAVNb_MZ",
        "colab_type": "code",
        "colab": {}
      },
      "source": [
        "import copy\n",
        "\n",
        "class matrix():\n",
        "\n",
        "  def __init__(self, rowsval, cols = None):\n",
        "    if cols is None:\n",
        "      rowsize = None\n",
        "      for row in rowsval:\n",
        "        if(rowsize is None):\n",
        "          if isinstance(row,int):\n",
        "            self.__array = rowsval\n",
        "            return \n",
        "            rowsize = len(row)\n",
        "        elif len(row) != rowsize:\n",
        "          raise Exception(\"Not a rectanle or square Matrix\")\n",
        "\n",
        "        self.__array = rowsval\n",
        "    else:\n",
        "      self.__array = []\n",
        "      if rowsval < 0:\n",
        "        raise Exception(\"Cannot have negative\")\n",
        "      for i in range(rowsval):\n",
        "        self.__array.append([])\n",
        "        for colval in range(cols):\n",
        "          self.__array[i].append(0)\n",
        "\n",
        "  def __getitem__(self, index):\n",
        "    if (isinstance(index, tuple)):\n",
        "      index1 = None\n",
        "      index2 = None\n",
        "      for value in index:\n",
        "        if index1 is None:\n",
        "           index1 = value\n",
        "        elif index2 is None:\n",
        "          index2 = value\n",
        "        else:\n",
        "          raise Exception (\"Too many Values\")\n",
        "      return self.__array[index1][index2]\n",
        "    else:\n",
        "      return self.__array[index]\n",
        "\n",
        "  def __setitem__(self, index, value):\n",
        "    if isinstance(index, tuple):\n",
        "      index1 = None\n",
        "      index2 = None\n",
        "      for valuep in index:\n",
        "        if index1 is None:\n",
        "          index1 = valuep\n",
        "        elif index2 is None:\n",
        "          index2 = valuep\n",
        "        else:\n",
        "          raise Exception (\"Too many Values\")\n",
        "        self.__array[index1][index2] = value\n",
        "      else:\n",
        "        return self.__array[index]\n",
        "\n",
        "  def assignFromto(FMat, TMat):\n",
        "    if FMat.array() is None or TMat.array() is None:\n",
        "      return \"No array in matrix\"\n",
        "    if not(len(FMat.array()) == len(TMat.array())):\n",
        "      return \"Matrix row count do no match\"\n",
        "\n",
        "    for rowindex in range(len(FMat.array())):\n",
        "      if len(FMat[rowindex]) != len(TMat[rowindex]):\n",
        "        return \"Matrix row length do not Match\"\n",
        "    TMat.__setArray(FMat.array())\n",
        "\n",
        "  def one(rows, cols):\n",
        "    return matrix.constant(rows, cols, 1)\n",
        "\n",
        "  def array(self):\n",
        "    return self.__array\n",
        "\n",
        "  def __setArray(self, SetTo):\n",
        "    self.__array = copy.deepcopy(SetTo)\n",
        "\n",
        "  def shape(self):\n",
        "    if len(self.__array) > 0:\n",
        "      return len(self.__array), len(self.__array[0])\n",
        "    return len(self.__array)\n",
        "\n",
        "  def equal(self, to):\n",
        "    selfshape = self.shape()\n",
        "    Shapecheck = to.shape()\n",
        "    if selfshape[0] != Shapecheck[0] or selfshape[1] != Shapecheck[1]:\n",
        "      return False\n",
        "    for row in range(selfshape[0]):\n",
        "      for col in range(selfshape[1]):\n",
        "        if self.__array[row][col] != Shapecheck.array()[row][col]:\n",
        "          return False\n",
        "    return True\n",
        "\n"
      ],
      "execution_count": 0,
      "outputs": []
    },
    {
      "cell_type": "code",
      "metadata": {
        "id": "I21xGiihuph_",
        "colab_type": "code",
        "outputId": "49670f28-65c2-46e8-bfb9-6d83505be825",
        "colab": {
          "base_uri": "https://localhost:8080/",
          "height": 85
        }
      },
      "source": [
        "Matrix1 = matrix(3,3)\n",
        "Matrix2 = matrix([[7,8,9], [4,3,8], [2,9,7]])\n",
        "\n",
        "print(\"Matrix1:\", Matrix1.array())\n",
        "print(\"Matrix2:\", Matrix2.array())\n",
        "\n",
        "print(\"Testing regular indexing:\", Matrix2[1][2])\n",
        "print(\"Testing comma indexing:\", Matrix2[1,2])\n"
      ],
      "execution_count": 0,
      "outputs": [
        {
          "output_type": "stream",
          "text": [
            "Matrix1: [[0, 0, 0], [0, 0, 0], [0, 0, 0]]\n",
            "Matrix2: [[7, 8, 9], [4, 3, 8], [2, 9, 7]]\n",
            "Testing regular indexing: 8\n",
            "Testing comma indexing: 8\n"
          ],
          "name": "stdout"
        }
      ]
    },
    {
      "cell_type": "code",
      "metadata": {
        "id": "wcxPZGcVGgwy",
        "colab_type": "code",
        "outputId": "efbf1a21-ccb9-4e93-863a-6272d98c1b63",
        "colab": {
          "base_uri": "https://localhost:8080/",
          "height": 34
        }
      },
      "source": [
        "Matrix1 = matrix(3,3)\n",
        "Matrix2 = matrix([[7,8,9], [4,3,8], [2,9,7]])\n",
        "print(\"Testing successful assinging of matrix2 to matrix1 - None:\", matrix.assignFromto(Matrix2, Matrix1))"
      ],
      "execution_count": 0,
      "outputs": [
        {
          "output_type": "stream",
          "text": [
            "Testing successful assinging of matrix2 to matrix1 - None: None\n"
          ],
          "name": "stdout"
        }
      ]
    },
    {
      "cell_type": "markdown",
      "metadata": {
        "id": "7PJL0vFNb7VY",
        "colab_type": "text"
      },
      "source": [
        "2. Add the following methods:\n",
        "    * `shape()`: returns a tuple `(n,m)` of the shape of the matrix.\n",
        "    * `transpose()`: returns a new matrix instance which is the transpose of the matrix.\n",
        "    * `row(n)` and `column(n)`: that return the nth row or column of the matrix M as a new appropriately shaped matrix object.\n",
        "    * `to_list()`: which returns the matrix as a list of lists.\n",
        "    *  `block(n_0,n_1,m_0,m_1)` that returns a smaller matrix located at the n_0 to n_1 columns and m_0 to m_1 rows. \n",
        "    * (Extra credit) Modify `__getitem__` implemented above to support slicing.\n",
        "        "
      ]
    },
    {
      "cell_type": "code",
      "metadata": {
        "id": "R8g6qfvmv8Q2",
        "colab_type": "code",
        "colab": {}
      },
      "source": [
        "import copy\n",
        "\n",
        "class matrix():\n",
        "\n",
        "  def __init__(self, rowsval, cols = None):\n",
        "    if cols is None:\n",
        "      rowsize = None\n",
        "      for row in rowsval:\n",
        "        if(rowsize is None):\n",
        "          if isinstance(row,int):\n",
        "            self.__array = rowsval\n",
        "            return \n",
        "            rowsize = len(row)\n",
        "        elif len(row) != rowsize:\n",
        "          raise Exception(\"Not a rectanle or square Matrix\")\n",
        "\n",
        "        self.__array = rowsval\n",
        "    else:\n",
        "      self.__array = []\n",
        "      if rowsval < 0:\n",
        "        raise Exception(\"Cannot have negative\")\n",
        "      for i in range(rowsval):\n",
        "        self.__array.append([])\n",
        "        for colval in range(cols):\n",
        "          self.__array[i].append(0)\n",
        "\n",
        "  def __getitem__(self, index):\n",
        "    if (isinstance(index, tuple)):\n",
        "      index1 = None\n",
        "      index2 = None\n",
        "      for value in index:\n",
        "        if index1 is None:\n",
        "           index1 = value\n",
        "        elif index2 is None:\n",
        "          index2 = value\n",
        "        else:\n",
        "          raise Exception (\"Too many Values\")\n",
        "      return self.__array[index1][index2]\n",
        "    else:\n",
        "      return self.__array[index]\n",
        "\n",
        "  def __setitem__(self, index, value):\n",
        "    if isinstance(index, tuple):\n",
        "      index1 = None\n",
        "      index2 = None\n",
        "      for valuep in index:\n",
        "        if index1 is None:\n",
        "          index1 = valuep\n",
        "        elif index2 is None:\n",
        "          index2 = valuep\n",
        "        else:\n",
        "          raise Exception (\"Too many Values\")\n",
        "      self.__array[index1][index2] = value\n",
        "    else:\n",
        "      return self.__array[index]\n",
        "\n",
        "  def assignFrom(FMat, TMat):\n",
        "    if FMat.array() is None or TMat.array() is None:\n",
        "      return \"No array in matrix\"\n",
        "    if not(len(FMat.array()) == len(TMat.array())):\n",
        "      return \"Matrix row count do no match\"\n",
        "\n",
        "    for rowindex in range(len(FMat.array())):\n",
        "      if len(FMat[rowindex]) != len(TMat[rowindex]):\n",
        "        return \"Matrix row length do not Match\"\n",
        "    return TMat.__setArray(FMat.array())\n",
        "\n",
        "  def constant(rows, cols, value):\n",
        "    conMat = matrix(rows, cols)\n",
        "    for row in range(rows):\n",
        "      for col in range(cols):\n",
        "        conMat[row][col] = float(value)\n",
        "    return conMat\n",
        "\n",
        "  def zeros(rows, cols):\n",
        "    return matrix(rows, cols)\n",
        "\n",
        "  def eye(size):\n",
        "    iMat = matrix(size, size)\n",
        "    for row in range(size):\n",
        "      iMat[row][row] = 1.0\n",
        "    return iMat\n",
        "\n",
        "  def one(rows, cols):\n",
        "    return matrix.constant(rows, cols, 1)\n",
        "\n",
        "  def array(self):\n",
        "    return self.__array\n",
        "\n",
        "  def __setArray(self, SetTo):\n",
        "    self.__array = copy.deepcopy(SetTo)\n",
        "\n",
        "  def shape(self):\n",
        "    if len(self.__array) > 0:\n",
        "      return len(self.__array), len(self.__array[0])\n",
        "    return len(self.__array)\n",
        "\n",
        "  def transpose(self):\n",
        "    MatShape = self.shape()\n",
        "    if MatShape == 0:\n",
        "      return matrix(0,0)\n",
        "    tranMat = matrix(MatShape[1], MatShape[0])\n",
        "    for rowindex in range(MatShape[0]):\n",
        "      for colindex in range(MatShape[1]):\n",
        "        tranMat[colindex,rowindex] = self.__array[rowindex][colindex]\n",
        "    return tranMat\n",
        "\n",
        "  def row(self, Nrow):\n",
        "    MatShape = self.shape()\n",
        "    if MatShape == 0: \n",
        "      return matrix(0,0)\n",
        "    return matrix(self.__array[Nrow])\n",
        "\n",
        "  def column(self, Ncol):\n",
        "    MatShape = self.shape()\n",
        "    if MatShape ==0:\n",
        "      return matrix(0,0)\n",
        "    coll = []\n",
        "    for Nrow in range(MatShape[0]):\n",
        "      coll.append([self.__array[Nrow][Ncol]])\n",
        "    return matrix(coll)\n",
        "\n",
        "  def to_list(self):\n",
        "    MatShape = self.shape()\n",
        "    matLst = []\n",
        "    for Nrow in range(MatShape[0]):\n",
        "      for Ncol in range(MatShape[1]):\n",
        "        matLst.append(self.__array[Nrow][Ncol])\n",
        "    return matLst\n",
        "\n",
        "  def block(self, n_0, n_1, m_0, m_1):\n",
        "    MatShape = self.shape()\n",
        "    if matshape == 0 and n_0 != 0 and n_1 != 0 and m_0 != 0 and m_1 != 0:\n",
        "      return \"Cannot take block of empty Matrix\"\n",
        "    blocklst = []\n",
        "    for row in range(m_1 - m_0 +1):\n",
        "      blocklst.append([])\n",
        "      for col in range(n_1 - n_0 +1):\n",
        "        blocklst[row].append(0)\n",
        "    rowcount = 0\n",
        "    colcount = 0\n",
        "    for row in range(m_0, m_1 +1):\n",
        "      blocklst.append([])\n",
        "      for col in range(n_1, n_0 + 1):\n",
        "        blocklst[rowcount][colcount] = self.__array[row][col]\n",
        "        colcount += 1\n",
        "      colcount = 0\n",
        "      rowcount += 1\n",
        "\n",
        "    return blocklst\n"
      ],
      "execution_count": 0,
      "outputs": []
    },
    {
      "cell_type": "code",
      "metadata": {
        "id": "aRMG7ZTzJEoD",
        "colab_type": "code",
        "outputId": "dc80b178-7e39-4379-b5a2-eaf2e560a5d1",
        "colab": {
          "base_uri": "https://localhost:8080/",
          "height": 153
        }
      },
      "source": [
        "print(\"matrix1 to matrix2:\", matrix.assignFrom(Matrix1, Matrix2))\n",
        "\n",
        "print(\"Matrix1 shape: \", Matrix1.shape())\n",
        "print(\"Matrix2 shape: \", Matrix2.shape())\n",
        "print(\"Matrix2 Transpose:\", Matrix2.transpose().array())\n",
        "print(\"Matrix1 row:\", Matrix2.row(0).array())\n",
        "print(\"Matrix1 column:\", Matrix2.column(0).array())\n",
        "print(\"Matrix2 to_list:\", Matrix2.to_list())\n",
        "print(\"Matrix2 block[1,2,1,2]:\", Matrix2.block(1,2,1,2))"
      ],
      "execution_count": 0,
      "outputs": [
        {
          "output_type": "stream",
          "text": [
            "matrix1 to matrix2: None\n",
            "Matrix1 shape:  (3, 3)\n",
            "Matrix2 shape:  (3, 3)\n",
            "Matrix2 Transpose: [[7, 4, 2], [8, 3, 9], [9, 8, 7]]\n",
            "Matrix1 row: [7, 8, 9]\n",
            "Matrix1 column: [[7], [4], [2]]\n",
            "Matrix2 to_list: [7, 8, 9, 4, 3, 8, 2, 9, 7]\n",
            "Matrix2 block[1,2,1,2]: [[0, 0], [0, 0], [], []]\n"
          ],
          "name": "stdout"
        }
      ]
    },
    {
      "cell_type": "markdown",
      "metadata": {
        "id": "jl4V1vnPb7VZ",
        "colab_type": "text"
      },
      "source": [
        "3. Write functions that create special matrices (note these are standalone functions, not member functions of your `matrix` class):\n",
        "    * `constant(n,m,c)`: returns a `n` by `m` matrix filled with floats of value `c`.\n",
        "    * `zeros(n,m)` and `ones(n,m)`: return `n` by `m` matrices filled with floats of value `0` and `1`, respectively.\n",
        "    * `eye(n)`: returns the n by n identity matrix."
      ]
    },
    {
      "cell_type": "code",
      "metadata": {
        "id": "_hEOhtILcAL3",
        "colab_type": "code",
        "colab": {}
      },
      "source": [
        "import copy\n",
        "\n",
        "class matrix():\n",
        "\n",
        "  def __init__(self, rowsval, cols = None):\n",
        "    if cols is None:\n",
        "      rowsize = None\n",
        "      for row in rowsval:\n",
        "        if(rowsize is None):\n",
        "          if isinstance(row,int):\n",
        "            self.__array = rowsval\n",
        "            return \n",
        "            rowsize = len(row)\n",
        "        elif len(row) != rowsize:\n",
        "          raise Exception(\"Not a rectanle or square Matrix\")\n",
        "\n",
        "        self.__array = rowsval\n",
        "    else:\n",
        "      self.__array = []\n",
        "      if rowsval < 0:\n",
        "        raise Exception(\"Cannot have negative\")\n",
        "      for i in range(rowsval):\n",
        "        self.__array.append([])\n",
        "        for colval in range(cols):\n",
        "          self.__array[i].append(0)\n",
        "\n",
        "  def __getitem__(self, index):\n",
        "    if (isinstance(index, tuple)):\n",
        "      index1 = None\n",
        "      index2 = None\n",
        "      for value in index:\n",
        "        if index1 is None:\n",
        "           index1 = value\n",
        "        elif index2 is None:\n",
        "          index2 = value\n",
        "        else:\n",
        "          raise Exception (\"Too many Values\")\n",
        "      return self.__array[index1][index2]\n",
        "    else:\n",
        "      return self.__array[index]\n",
        "\n",
        "  def __setitem__(self, index, value):\n",
        "    if isinstance(index, tuple):\n",
        "      index1 = None\n",
        "      index2 = None\n",
        "      for valuep in index:\n",
        "        if index1 is None:\n",
        "          index1 = valuep\n",
        "        elif index2 is None:\n",
        "          index2 = valuep\n",
        "        else:\n",
        "          raise Exception (\"Too many Values\")\n",
        "        self.__array[index1][index2] = value\n",
        "      else:\n",
        "        return self.__array[index]\n",
        "\n",
        "  def assignFromto(FMat, TMat):\n",
        "    if FMat.array() is None or TMat.array() is None:\n",
        "      return \"No array in matrix\"\n",
        "    if not(len(FMat.array()) == len(TMat.array())):\n",
        "      return \"Matrix row count do no match\"\n",
        "\n",
        "    for rowindex in range(len(FMat.array())):\n",
        "      if len(FMat[rowindex]) != len(TMat[rowindex]):\n",
        "        return \"Matrix row length do not Match\"\n",
        "    TMat.__setArray(FMat.array())\n",
        "\n",
        "  def one(rows, cols):\n",
        "    return matrix.constant(rows, cols, 1)\n",
        "\n",
        "  def array(self):\n",
        "    return self.__array\n",
        "\n",
        "  def __setArray(self, SetTo):\n",
        "    self.__array = copy.deepcopy(SetTo)\n",
        "\n",
        "  def shape(self):\n",
        "    if len(self.__array) > 0:\n",
        "      return len(self.__array), len(self.__array[0])\n",
        "    return len(self.__array)\n",
        "\n",
        "  def transpose(self):\n",
        "    MatShape = self.shape()\n",
        "    if MatShape == 0:\n",
        "      return matrix(0,0)\n",
        "    tranMat = matrix(MatShape[1], MatShape[0])\n",
        "    for rowindex in range(MatShape[0]):\n",
        "      for colindex in range(MatShape[1]):\n",
        "        tranMat[colindex,rowindex] = self.__array[rowindex][colindex]\n",
        "    return tranMat\n",
        "\n",
        "  def row(self, Nrow):\n",
        "    MatShape = self.shape()\n",
        "    if MatShape == 0: \n",
        "      return matrix(0,0)\n",
        "    return matrix(self.__array[Nrow])\n",
        "\n",
        "  def column(self, Ncol):\n",
        "    MatShape = self.shape()\n",
        "    if MatShape ==0:\n",
        "      return matrix(0,0)\n",
        "    coll = []\n",
        "    for Nrow in range(MatShape[0]):\n",
        "      coll.append([self.__array[Nrow][Ncol]])\n",
        "    return matrix(coll)\n",
        "\n",
        "  def to_list(self):\n",
        "    MatShape = self.shape()\n",
        "    matLst = []\n",
        "    for Nrow in range(MatShape[0]):\n",
        "      for Ncol in range(MatShape[1]):\n",
        "        matLst.append(self.__array[Nrow][Ncol])\n",
        "    return matLst\n",
        "\n",
        "  def block(self, n_0, n_1, m_0, m_1):\n",
        "    MatShape = self.shape()\n",
        "    if MatShape == 0 and n_0 != 0 and n_1 != 0 and m_0 != 0 and m_1 != 0:\n",
        "      return \"Cannot take block of empty Matrix\"\n",
        "    blocklst = []\n",
        "    for row in range(m_1 - m_0 +1):\n",
        "      blocklst.append([])\n",
        "      for col in range(n_1 - n_0 +1):\n",
        "        blocklst[row].append(0)\n",
        "    rowcount = 0\n",
        "    colcount = 0\n",
        "    for row in range(m_0, m_1 +1):\n",
        "      blocklst.append([])\n",
        "      for col in range(n_1, n_0 + 1):\n",
        "        blocklst[rowcount][colcount] = self.__array[row][col]\n",
        "        colcount += 1\n",
        "      colcount = 0\n",
        "      rowcount += 1\n",
        "\n",
        "    return blocklst\n",
        "\n",
        "  def constant(rows, cols, value):\n",
        "    conMat = matrix(rows, cols)\n",
        "    for row in range(rows):\n",
        "      for col in range(cols):\n",
        "        conMat[row][col] = float(value)\n",
        "    return conMat\n",
        "\n",
        "  def zeros(rows, cols):\n",
        "    return matrix(rows, cols)\n",
        "\n",
        "  def eye(size):\n",
        "    iMat = matrix(size, size)\n",
        "    for row in range(size):\n",
        "      iMat[row][row] = 1.0\n",
        "    return iMat\n"
      ],
      "execution_count": 0,
      "outputs": []
    },
    {
      "cell_type": "code",
      "metadata": {
        "id": "AL74VNEoLzeO",
        "colab_type": "code",
        "outputId": "bd53c73c-65eb-4732-ba84-5a57f97d6715",
        "colab": {
          "base_uri": "https://localhost:8080/",
          "height": 85
        }
      },
      "source": [
        "print(\"Matrix constant:\", matrix.constant(3,3,4).array())\n",
        "print(\"Zeros:\", matrix.zeros(3,3).array())\n",
        "print(\"One:\", matrix.one(3,3).array())\n",
        "print(\"Identity:\", matrix.eye(3).array())"
      ],
      "execution_count": 0,
      "outputs": [
        {
          "output_type": "stream",
          "text": [
            "Matrix constant: [[4.0, 4.0, 4.0], [4.0, 4.0, 4.0], [4.0, 4.0, 4.0]]\n",
            "Zeros: [[0, 0, 0], [0, 0, 0], [0, 0, 0]]\n",
            "One: [[1.0, 1.0, 1.0], [1.0, 1.0, 1.0], [1.0, 1.0, 1.0]]\n",
            "Identity: [[1.0, 0, 0], [0, 1.0, 0], [0, 0, 1.0]]\n"
          ],
          "name": "stdout"
        }
      ]
    },
    {
      "cell_type": "markdown",
      "metadata": {
        "id": "_WuA-xcfb7VZ",
        "colab_type": "text"
      },
      "source": [
        "4. Add the following member functions to your class. Make sure to appropriately test the dimensions of the matrices to make sure the operations are correct.\n",
        "    * `M.scalarmul(c)`: a matrix that is scalar product $cM$, where every element of $M$ is multiplied by $c$.\n",
        "    * `M.add(N)`: adds two matrices $M$ and $N$. Don’t forget to test that the sizes of the matrices are compatible for this and all other operations.\n",
        "    * `M.sub(N)`: subtracts two matrices $M$ and $N$.\n",
        "    * `M.mat_mult(N)`: returns a matrix that is the matrix product of two matrices $M$ and $N$.\n",
        "    * `M.element_mult(N)`: returns a matrix that is the element-wise product of two matrices $M$ and $N$.\n",
        "    * `M.equals(N)`: returns true/false if $M==N$."
      ]
    },
    {
      "cell_type": "code",
      "metadata": {
        "id": "1nrnoNw1cAlF",
        "colab_type": "code",
        "colab": {}
      },
      "source": [
        "import copy\n",
        "\n",
        "class matrix():\n",
        "\n",
        "  def __init__(self, rowsval, cols = None):\n",
        "    if cols is None:\n",
        "      rowsize = None\n",
        "      for row in rowsval:\n",
        "        if(rowsize is None):\n",
        "          if isinstance(row,int):\n",
        "            self.__array = rowsval\n",
        "            return \n",
        "            rowsize = len(row)\n",
        "        elif len(row) != rowsize:\n",
        "          raise Exception(\"Not a rectanle or square Matrix\")\n",
        "\n",
        "        self.__array = rowsval\n",
        "    else:\n",
        "      self.__array = []\n",
        "      if rowsval < 0:\n",
        "        raise Exception(\"Cannot have negative\")\n",
        "      for i in range(rowsval):\n",
        "        self.__array.append([])\n",
        "        for colval in range(cols):\n",
        "          self.__array[i].append(0)\n",
        "\n",
        "  def __getitem__(self, index):\n",
        "    if (isinstance(index, tuple)):\n",
        "      index1 = None\n",
        "      index2 = None\n",
        "      for value in index:\n",
        "        if index1 is None:\n",
        "           index1 = value\n",
        "        elif index2 is None:\n",
        "          index2 = value\n",
        "        else:\n",
        "          raise Exception (\"Too many Values\")\n",
        "      return self.__array[index1][index2]\n",
        "    else:\n",
        "      return self.__array[index]\n",
        "\n",
        "  def __setitem__(self, index, value):\n",
        "    if isinstance(index, tuple):\n",
        "      index1 = None\n",
        "      index2 = None\n",
        "      for valuep in index:\n",
        "        if index1 is None:\n",
        "          index1 = valuep\n",
        "        elif index2 is None:\n",
        "          index2 = valuep\n",
        "        else:\n",
        "          raise Exception (\"Too many Values\")\n",
        "        self.__array[index1][index2] = value\n",
        "      else:\n",
        "        return self.__array[index]\n",
        "  \n",
        "  @staticmethod\n",
        "  def assignFrom(FMat, TMat):\n",
        "    if FMat.array() is None or TMat.array() is None:\n",
        "      return \"No array in matrix\"\n",
        "    if not(len(FMat.array()) == len(TMat.array())):\n",
        "      return \"Matrix row count do no match\"\n",
        "\n",
        "    for rowindex in range(len(FMat.array())):\n",
        "      if len(FMat[rowindex]) != len(TMat[rowindex]):\n",
        "        return \"Matrix row length do not Match\"\n",
        "    TMat.__setArray(FMat.array())\n",
        "\n",
        "  def one(rows, cols):\n",
        "    return matrix.constant(rows, cols, 1)\n",
        "\n",
        "  def array(self):\n",
        "    return self.__array\n",
        "\n",
        "  def __setArray(self, SetTo):\n",
        "    self.__array = copy.deepcopy(SetTo)\n",
        "\n",
        "  def shape(self):\n",
        "    if len(self.__array) > 0:\n",
        "      return len(self.__array), len(self.__array[0])\n",
        "    return len(self.__array)\n",
        "\n",
        "  def transpose(self):\n",
        "    MatShape = self.shape()\n",
        "    if MatShape == 0:\n",
        "      return matrix(0,0)\n",
        "    tranMat = matrix(MatShape[1], MatShape[0])\n",
        "    for rowindex in range(MatShape[0]):\n",
        "      for colindex in range(MatShape[1]):\n",
        "        tranMat[colindex,rowindex] = self.__array[rowindex][colindex]\n",
        "    return tranMat\n",
        "\n",
        "  def row(self, Nrow):\n",
        "    MatShape = self.shape()\n",
        "    if MatShape == 0: \n",
        "      return matrix(0,0)\n",
        "    return matrix(self.__array[Nrow])\n",
        "\n",
        "  def column(self, Ncol):\n",
        "    MatShape = self.shape()\n",
        "    if MatShape ==0:\n",
        "      return matrix(0,0)\n",
        "    coll = []\n",
        "    for Nrow in range(MatShape[0]):\n",
        "      coll.append([self.__array[Nrow][Ncol]])\n",
        "    return matrix(coll)\n",
        "\n",
        "  def to_list(self):\n",
        "    MatShape = self.shape()\n",
        "    matLst = []\n",
        "    for Nrow in range(MatShape[0]):\n",
        "      for Ncol in range(MatShape[1]):\n",
        "        matLst.append(self.__array[Nrow][Ncol])\n",
        "    return matLst\n",
        "\n",
        "  def block(self, n_0, n_1, m_0, m_1):\n",
        "    MatShape = self.shape()\n",
        "    if MatShape == 0 and n_0 != 0 and n_1 != 0 and m_0 != 0 and m_1 != 0:\n",
        "      return \"Cannot take block of empty Matrix\"\n",
        "    blocklst = []\n",
        "    for row in range(m_1 - m_0 +1):\n",
        "      blocklst.append([])\n",
        "      for col in range(n_1 - n_0 +1):\n",
        "        blocklst[row].append(0)\n",
        "    rowcount = 0\n",
        "    colcount = 0\n",
        "    for row in range(m_0, m_1 +1):\n",
        "      blocklst.append([])\n",
        "      for col in range(n_1, n_0 + 1):\n",
        "        blocklst[rowcount][colcount] = self.__array[row][col]\n",
        "        colcount += 1\n",
        "      colcount = 0\n",
        "      rowcount += 1\n",
        "\n",
        "    return blocklst\n",
        "\n",
        "  def constant(rows, cols, value):\n",
        "    conMat = matrix(rows, cols)\n",
        "    for row in range(rows):\n",
        "      for col in range(cols):\n",
        "        conMat[row][col] = float(value)\n",
        "    return conMat\n",
        "\n",
        "  def zeros(rows, cols):\n",
        "    return matrix(rows, cols)\n",
        "\n",
        "  def eye(size):\n",
        "    iMat = matrix(size, size)\n",
        "    for row in range(size):\n",
        "      iMat[row][row] = 1.0\n",
        "    return iMat\n",
        "\n",
        "  def scalarmul(self, C):\n",
        "    MatShape = self.shape()\n",
        "    for row in range(MatShape[0]):\n",
        "      for col in range(MatShape[1]):\n",
        "        self.__array[row][col] *= C\n",
        "    return self\n",
        "\n",
        "  def add(self, N):\n",
        "    selfshape = self.shape()\n",
        "    Nshape = N.shape()\n",
        "    if selfshape == 0 and Nshape == 0:\n",
        "      return matrix(0,0)\n",
        "    if  selfshape[0] != Nshape[0] or selfshape[1] != Nshape[1]:\n",
        "      return \"Can not add matrices of different sizes\"\n",
        "    AddMat = matrix(selfshape[0], selfshape[1])\n",
        "    for row in range(selfshape[0]):\n",
        "      for col in range(selfshape[1]):\n",
        "        AddMat[row][col] = self.__array[row][col] + N.array()[row][col]\n",
        "    return AddMat\n",
        "\n",
        "  def sub(self, N):\n",
        "    selfshape = self.shape()\n",
        "    Nshape = N.shape()\n",
        "    subMat = matrix(selfshape[0], selfshape[1])\n",
        "    for row in range(selfshape[0]):\n",
        "      for col in range(selfshape[1]):\n",
        "        subMat[row][col] = self.__array[row][col] - N.array()[row][col]\n",
        "    return subMat\n",
        "\n",
        "  def mat_mult(self, N):\n",
        "    selfshape = self.shape()\n",
        "    Nshape = N.shape()\n",
        "    mulMat = matrix(selfshape[0], selfshape[1])\n",
        "    for mrow in range(selfshape[0]):\n",
        "      for mcol in range(Nshape[1]):\n",
        "        for mul in range(selfshape[0]):\n",
        "          mulMat[mrow][mcol] += self[mrow][mul] * N[mul][mcol] \n",
        "    return mulMat\n",
        "\n",
        "  def equals(self, to):\n",
        "    selfshape = self.shape()\n",
        "    Shapecheck = to.shape()\n",
        "    if selfshape[0] != Shapecheck[0] or selfshape[1] != Shapecheck[1]:\n",
        "      return False\n",
        "    for row in range(selfshape[0]):\n",
        "      for col in range(selfshape[1]):\n",
        "        if self.__array[row][col] != Shapecheck.array()[row][col]:\n",
        "          return False\n",
        "    return True\n",
        "\n",
        "  def __mul__(self, other):\n",
        "      return self.mat_mult(other)\n",
        "        \n",
        "  def __rmul__(self, other):\n",
        "      return self.mat_mult(other)\n",
        "        \n",
        "  def __add__(self, other):\n",
        "      return self.add(other)\n",
        "    \n",
        "  def __sub__(self, other):\n",
        "      return self.sub(other)\n",
        "    \n",
        "  def __eq__(self, other):\n",
        "      return self.equals(other)"
      ],
      "execution_count": 0,
      "outputs": []
    },
    {
      "cell_type": "code",
      "metadata": {
        "id": "Uss2f9zlMur1",
        "colab_type": "code",
        "outputId": "d1b17985-e1a3-4d05-b494-ce52e5d56cc1",
        "colab": {
          "base_uri": "https://localhost:8080/",
          "height": 68
        }
      },
      "source": [
        "print(\"Matrix2 * 3:\", Matrix2.scalarmul(3).array())\n",
        "Matrix3 = matrix([[5,3,7], [6,7,2], [6,4,7]])\n",
        "print(\"Matrix2 + Matrix3\", Matrix2.add(Matrix3).array())\n",
        "print(\"Matrix2 - Matrix3\", Matrix2.sub(Matrix3).array())\n"
      ],
      "execution_count": 0,
      "outputs": [
        {
          "output_type": "stream",
          "text": [
            "Matrix2 * 3: [[63, 72, 81], [36, 27, 72], [18, 81, 63]]\n",
            "Matrix2 + Matrix3 [[68, 75, 88], [42, 34, 74], [24, 85, 70]]\n",
            "Matrix2 - Matrix3 [[58, 69, 74], [30, 20, 70], [12, 77, 56]]\n"
          ],
          "name": "stdout"
        }
      ]
    },
    {
      "cell_type": "code",
      "metadata": {
        "id": "5BUAOt5UOnU5",
        "colab_type": "code",
        "outputId": "fbb767a7-1e60-4aad-f0c6-954482c4badd",
        "colab": {
          "base_uri": "https://localhost:8080/",
          "height": 34
        }
      },
      "source": [
        "print(\"Matrix2 * Matrix 3:\", Matrix2.mat_mult(Matrix3).array())"
      ],
      "execution_count": 0,
      "outputs": [
        {
          "output_type": "stream",
          "text": [
            "Matrix2 * Matrix 3: [[1233, 1017, 1152], [774, 585, 810], [954, 873, 729]]\n"
          ],
          "name": "stdout"
        }
      ]
    },
    {
      "cell_type": "markdown",
      "metadata": {
        "id": "z31_MRuAb7Va",
        "colab_type": "text"
      },
      "source": [
        "5. Overload python operators to appropriately use your functions in 4 and allow expressions like:\n",
        "    * 2*M\n",
        "    * M*2\n",
        "    * M+N\n",
        "    * M-N\n",
        "    * M*N\n",
        "    * M==N\n",
        "    * M=N\n"
      ]
    },
    {
      "cell_type": "code",
      "metadata": {
        "id": "8NsEMnLJcBcm",
        "colab_type": "code",
        "outputId": "049e94c9-0be8-4f30-f89f-982dace28516",
        "colab": {
          "base_uri": "https://localhost:8080/",
          "height": 85
        }
      },
      "source": [
        "aMatrix1 = matrix(3,3)\n",
        "aMatrix2 = matrix([[7,8,9], [4,3,8], [2,9,7]])\n",
        "\n",
        "print(\"Matrix1:\", Matrix1.array())\n",
        "print(\"Matrix2:\", Matrix2.array())\n",
        "\n",
        "print(\"Testing regular indexing:\", Matrix2[1][2])\n",
        "print(\"Testing comma indexing:\", Matrix2[1,2])"
      ],
      "execution_count": 0,
      "outputs": [
        {
          "output_type": "stream",
          "text": [
            "Matrix1: [[7, 8, 9], [4, 3, 8], [2, 9, 7]]\n",
            "Matrix2: [[63, 72, 81], [36, 27, 72], [18, 81, 63]]\n",
            "Testing regular indexing: 72\n",
            "Testing comma indexing: 72\n"
          ],
          "name": "stdout"
        }
      ]
    },
    {
      "cell_type": "code",
      "metadata": {
        "id": "jar7cNGbnbGN",
        "colab_type": "code",
        "outputId": "712efc79-b4e9-41fe-a35f-ded841d1367d",
        "colab": {
          "base_uri": "https://localhost:8080/",
          "height": 51
        }
      },
      "source": [
        "print(myMatrix2.array())\n",
        "print(\"Testing 5 * myMatrix:\", (5 * myMatrix2).array() )"
      ],
      "execution_count": 0,
      "outputs": [
        {
          "output_type": "stream",
          "text": [
            "[[625, 1250, 1875], [3125, 3750, 4375], [5000, 5625, 0]]\n",
            "Testing 5 * myMatrix: [[3125, 6250, 9375], [15625, 18750, 21875], [25000, 28125, 0]]\n"
          ],
          "name": "stdout"
        }
      ]
    },
    {
      "cell_type": "code",
      "metadata": {
        "id": "oohriTqSplNa",
        "colab_type": "code",
        "outputId": "5bcc064e-894f-47b4-c490-bf23b694809c",
        "colab": {
          "base_uri": "https://localhost:8080/",
          "height": 102
        }
      },
      "source": [
        "print(\"Testing myMatrix1 + myMatrix2:\", (myMatrix1 + myMatrix2).array() )\n",
        "print(\"Testing myMatrix1 - myMatrix2:\", (myMatrix1 - myMatrix2).array() )\n",
        "print(\"Testing myMatrix2 * myMatrix3:\", (myMatrix2 * myMatrix3).array() )\n",
        "print(\"Testing myMatrix2 == myMatrix3:\", (myMatrix2 == myMatrix3) )\n",
        "print(\"Testing myMatrix1 == myMatrix1:\", (myMatrix1 == myMatrix1) )"
      ],
      "execution_count": 0,
      "outputs": [
        {
          "output_type": "stream",
          "text": [
            "Testing myMatrix1 + myMatrix2: [[3750, 7500, 11250], [18750, 22500, 26250], [30000, 33750, 0]]\n",
            "Testing myMatrix1 - myMatrix2: [[-2500, -5000, -7500], [-12500, -15000, -17500], [-20000, -22500, 0]]\n",
            "Testing myMatrix2 * myMatrix3: [[43750], [118750], [81250]]\n",
            "Testing myMatrix2 == myMatrix3: False\n",
            "Testing myMatrix1 == myMatrix1: True\n"
          ],
          "name": "stdout"
        }
      ]
    },
    {
      "cell_type": "markdown",
      "metadata": {
        "id": "OxMJ0_3_b7Va",
        "colab_type": "text"
      },
      "source": [
        "6. Demonstrate the basic properties of matrices with your matrix class by creating two 2 by 2 example matrices using your Matrix class and illustrating the following:\n",
        "\n",
        "$$\n",
        "(AB)C=A(BC)\n",
        "$$\n",
        "$$\n",
        "A(B+C)=AB+AC\n",
        "$$\n",
        "$$\n",
        "AB\\neq BA\n",
        "$$\n",
        "$$\n",
        "AI=A\n",
        "$$"
      ]
    },
    {
      "cell_type": "code",
      "metadata": {
        "id": "BQgq8ZJob7Vb",
        "colab_type": "code",
        "outputId": "9a3896f8-de10-404c-8566-e1029a939244",
        "colab": {
          "base_uri": "https://localhost:8080/",
          "height": 136
        }
      },
      "source": [
        "print(\"Matrix 1:\", myMatrix1.array())\n",
        "print(\"Matrix 2:\", myMatrix2.array())\n",
        "print(\"Matrix 6:\", myMatrix6.array())\n",
        "print(\"(AB)C = A(BC): (Matrix1 * Matrix2) * Matrix6:\", ((myMatrix1 * myMatrix2) * myMatrix6).array())\n",
        "print(\"(AB)C = A(BC): Matrix1 * (Matrix2 * Matrix6):\", (myMatrix1 * (myMatrix2 * myMatrix6)).array())\n",
        "print(\"A(B+C) = AB + AC: Matrix1 * (Matrix2 + Matrix6):\", (myMatrix1 * (myMatrix2 + myMatrix6)).array())\n",
        "print(\"A(B+C) = AB + AC: (Matrix1 * Matrix2) + (Matrix1 + Matrix6):\", ((myMatrix1 * myMatrix2) +  (myMatrix1 * myMatrix6)).array())"
      ],
      "execution_count": 0,
      "outputs": [
        {
          "output_type": "stream",
          "text": [
            "Matrix 1: [[625, 1250, 1875], [3125, 3750, 4375], [5000, 5625, 0]]\n",
            "Matrix 2: [[3125, 6250, 9375], [15625, 18750, 21875], [25000, 28125, 0]]\n",
            "Matrix 6: [[10, 8, 6], [6, 8, 2], [1, 2, 3]]\n",
            "(AB)C = A(BC): (Matrix1 * Matrix2) * Matrix6: [[1197265625, 1253906250, 669921875], [3166015625, 3347656250, 1826171875], [2025390625, 2261718750, 1404296875]]\n",
            "(AB)C = A(BC): Matrix1 * (Matrix2 * Matrix6): [[1197265625, 1253906250, 669921875], [3166015625, 3347656250, 1826171875], [2025390625, 2261718750, 1404296875]]\n",
            "A(B+C) = AB + AC: Matrix1 * (Matrix2 + Matrix6): [[68375000, 80096875, 33215000], [177792500, 212954375, 111367500], [103599375, 136803750, 169963125]]\n",
            "A(B+C) = AB + AC: (Matrix1 * Matrix2) + (Matrix1 + Matrix6): [[68375000, 80096875, 33215000], [177792500, 212954375, 111367500], [103599375, 136803750, 169963125]]\n"
          ],
          "name": "stdout"
        }
      ]
    },
    {
      "cell_type": "code",
      "metadata": {
        "id": "SZzG1HqVpslM",
        "colab_type": "code",
        "outputId": "c8c97bbe-0db3-496e-f805-1d4bcf5c4218",
        "colab": {
          "base_uri": "https://localhost:8080/",
          "height": 187
        }
      },
      "source": [
        "print(\"Matrix 2:\", myMatrix2.array())\n",
        "print(\"Matrix 3:\", myMatrix3.array())\n",
        "print(\"Matrix 6:\", myMatrix6.array())\n",
        "print(\"AB =/= BA: Matrix2 * Matrix3:\", (myMatrix2 * myMatrix3).array())\n",
        "print(\"AB =/= BA: Matrix3 * Matrix2:\", (myMatrix3 * myMatrix2))\n",
        "print(\"AB =/= BA: Matrix2 * Matrix6:\", (myMatrix2 * myMatrix6).array())\n",
        "print(\"AB =/= BA: Matrix6 * Matrix2:\", (myMatrix6 * myMatrix2).array())\n",
        "\n",
        "print(\"Matrix 1:\", myMatrix1.array())\n",
        "print(\"Matrix1 * Identity:\", (myMatrix1 * matrix.eye(myMatrix1.shape()[0])).array())"
      ],
      "execution_count": 0,
      "outputs": [
        {
          "output_type": "stream",
          "text": [
            "Matrix 2: [[3125, 6250, 9375], [15625, 18750, 21875], [25000, 28125, 0]]\n",
            "Matrix 3: [[1], [2], [3]]\n",
            "Matrix 6: [[10, 8, 6], [6, 8, 2], [1, 2, 3]]\n",
            "AB =/= BA: Matrix2 * Matrix3: [[43750], [118750], [81250]]\n",
            "AB =/= BA: Matrix3 * Matrix2: Can not multiply matrices of incorrect sizes\n",
            "AB =/= BA: Matrix2 * Matrix6: [[78125, 93750, 59375], [290625, 318750, 196875], [418750, 425000, 206250]]\n",
            "AB =/= BA: Matrix6 * Matrix2: [[306250, 381250, 268750], [193750, 243750, 231250], [109375, 128125, 53125]]\n",
            "\n",
            "Matrix 1: [[625, 1250, 1875], [3125, 3750, 4375], [5000, 5625, 0]]\n",
            "Matrix1 * Identity: [[625.0, 1250.0, 1875.0], [3125.0, 3750.0, 4375.0], [5000.0, 5625.0, 0.0]]\n"
          ],
          "name": "stdout"
        }
      ]
    }
  ]
}