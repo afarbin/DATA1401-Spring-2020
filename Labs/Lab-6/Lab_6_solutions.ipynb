{
  "nbformat": 4,
  "nbformat_minor": 0,
  "metadata": {
    "kernelspec": {
      "display_name": "Python 3",
      "language": "python",
      "name": "python3"
    },
    "language_info": {
      "codemirror_mode": {
        "name": "ipython",
        "version": 3
      },
      "file_extension": ".py",
      "mimetype": "text/x-python",
      "name": "python",
      "nbconvert_exporter": "python",
      "pygments_lexer": "ipython3",
      "version": "3.8.1"
    },
    "colab": {
      "name": "Lab-6 solutions.ipynb",
      "provenance": []
    }
  },
  "cells": [
    {
      "cell_type": "markdown",
      "metadata": {
        "id": "I_e0U8LvpZct",
        "colab_type": "text"
      },
      "source": [
        "# Lab 6\n"
      ]
    },
    {
      "cell_type": "code",
      "metadata": {
        "id": "ryFrBTWXlYCd",
        "colab_type": "code",
        "colab": {}
      },
      "source": [
        "import numpy as np"
      ],
      "execution_count": 0,
      "outputs": []
    },
    {
      "cell_type": "markdown",
      "metadata": {
        "id": "HsfA3kdNpZcv",
        "colab_type": "text"
      },
      "source": [
        "Matrix Representation: In this lab you will be creating a simple linear algebra system. In memory, we will represent matrices as nested python lists as we have done in lecture. \n",
        "\n",
        "1. Create a `matrix` class with the following properties:\n",
        "    * It can be initialized in 2 ways:\n",
        "        1. with arguments `n` and `m`, the size of the matrix. A newly instanciated matrix will contain all zeros.\n",
        "        2. with a list of lists of values. Note that since we are using lists of lists to implement matrices, it is possible that not all rows have the same number of columns. Test explicitly that the matrix is properly specified.\n",
        "    * Matrix instances `M` can be indexed with `M[i][j]` and `M[i,j]`.\n",
        "    * Matrix assignment works in 2 ways:\n",
        "        1. If `M_1` and `M_2` are `matrix` instances `M_1=M_2` sets the values of `M_1` to those of `M_2`, if they are the same size. Error otherwise.\n",
        "        2. In example above `M_2` can be a list of lists of correct size.\n"
      ]
    },
    {
      "cell_type": "code",
      "metadata": {
        "id": "eUcY-fw08zrx",
        "colab_type": "code",
        "colab": {}
      },
      "source": [
        "class matrix:\n",
        "  def __init__(self,n,m,c=1,N=[[2,2,2],[2,2,2],[2,2,2]]):\n",
        "    self.n=n\n",
        "    self.m=m\n",
        "    self.c=c\n",
        "    self.N=N\n",
        "    self.rows = [[1 for self.n in range(n)] for self.m in range(m)]\n",
        "    print(\"Matrix: \",self.rows)\n",
        "\n",
        "  def __getitem__(self, i, j):\n",
        "    return self.rows[i][j]\n",
        "\n",
        "  def shape(self):\n",
        "    s=np.array(self.rows)\n",
        "    return s.shape\n",
        "\n",
        "  def transpose(self):\n",
        "    t=np.array(self.rows)\n",
        "    return t.transpose()\n",
        "\n",
        "  def row(self,k):\n",
        "    return self.rows[k-1]\n",
        "\n",
        "  def column(self,l):\n",
        "    lst=[]\n",
        "    for i in range(self.n):\n",
        "      lst.append(self.rows[i][l])\n",
        "    return lst\n",
        "\n",
        "  def scalarmul(self,c): \n",
        "    for i in range(self.n+1): \n",
        "        for j in range(self.m+1):  \n",
        "            self.rows[i][j] = self.rows[i][j]*c      \n",
        "    print(\"Scalar Product Matrix is : \") \n",
        "    for i in range(self.n+1): \n",
        "        for j in range(self.m+1): \n",
        "            print(self.rows[i][j], end = \" \") \n",
        "        print() \n",
        "  \n",
        "  def add(self, N):\n",
        "    if ((len(self.rows)  != len(N)) or (len(self.rows[0]) != len(N[0]))):\n",
        "      print('Dimentions don\\'t agree')\n",
        "    for i in range(self.n+1):\n",
        "      for j in range(self.m+1):\n",
        "        self.rows[i][j] = self.rows[i][j] + N[i][j]\n",
        "    print(\"Addition of Matrices is : \") \n",
        "    for i in range(self.n+1): \n",
        "        for j in range(self.m+1): \n",
        "            print(self.rows[i][j], end = \" \") \n",
        "        print()\n",
        "\n",
        "  def sub(self, N):\n",
        "    if ((len(self.rows)  != len(N)) or (len(self.rows[0]) != len(N[0]))):\n",
        "      print('Dimentions don\\'t agree')\n",
        "    for i in range(self.n+1):\n",
        "      for j in range(self.m+1):\n",
        "        self.rows[i][j] = self.rows[i][j] - N[i][j]\n",
        "    print(\"Subtration of Matrices is : \") \n",
        "    for i in range(self.n+1): \n",
        "        for j in range(self.m+1): \n",
        "            print(self.rows[i][j], end = \" \") \n",
        "        print()\n",
        "\n",
        "  '''def mat_mult(self, N):\n",
        "    result=[[0 for self.n in range(self.n)] for self.m in range(self.m)]\n",
        "    for i in range(len(self.rows)):\n",
        "      for j in range(len(N[0])):\n",
        "        for k in range(len(N)):\n",
        "          result[i][j] += self.rows[i][k] * N[k][j]\n",
        "    for r in result:\n",
        "      print(r) '''\n",
        "  def mat_mult(self,N):\n",
        "    if ((len(self.rows)  != len(N)) or (len(self.rows[0]) != len(N[0]))):\n",
        "      print('Dimentions don\\'t agree')\n",
        "    a=np.array(self.rows)\n",
        "    b=np.array(N)\n",
        "    c=np.dot(a,b)\n",
        "    print(\"Product of matrices: \")\n",
        "    return c\n",
        "\n",
        "  def element_mult(self, N):\n",
        "    if ((len(self.rows)  != len(N)) or (len(self.rows[0]) != len(N[0]))):\n",
        "      print('Dimentions don\\'t agree')\n",
        "    for i in range(self.n+1):\n",
        "      for j in range(self.m+1):\n",
        "        self.rows[i][j] = self.rows[i][j] * N[i][j]\n",
        "    print(\"Elementwise product of Matrices is : \") \n",
        "    for i in range(self.n+1): \n",
        "        for j in range(self.m+1): \n",
        "            print(self.rows[i][j], end = \" \") \n",
        "        print()\n",
        "  \n",
        "  def equals(self, N):\n",
        "    token=0\n",
        "    if ((len(self.rows)  != len(N)) or (len(self.rows[0]) != len(N[0]))):\n",
        "      print('Matrices not equal')\n",
        "    for i in range(self.n+1):\n",
        "      for j in range(self.m+1):\n",
        "        if self.rows[i][j]!=N[i][j]:\n",
        "          token=1\n",
        "    if (token==1):\n",
        "      print(\"Matrices not equal\")\n",
        "    else:\n",
        "      print(\"Matrices are equal\")\n",
        "\n",
        "  def __mul__(self, other): \n",
        "    return self.rows*other.c\n",
        "  \n",
        "  def __add__(self, other):\n",
        "    if ((len(self.rows)  != len(other.N)) or (len(self.rows[0]) != len(other.N[0]))):\n",
        "      print('Dimentions don\\'t agree')\n",
        "    for i in range(self.n+1):\n",
        "      for j in range(self.m+1):\n",
        "        self.rows[i][j] = self.rows[i][j] + other.N[i][j]\n",
        "    print(\"Addition of Matrices is : \") \n",
        "    for i in range(self.n+1): \n",
        "        for j in range(self.m+1): \n",
        "            print(self.rows[i][j], end = \" \") \n",
        "        print()\n",
        "\n",
        "  def __sub__(self,other):\n",
        "    return self.rows - other.N\n"
      ],
      "execution_count": 0,
      "outputs": []
    },
    {
      "cell_type": "code",
      "metadata": {
        "id": "cYIgOE619CGG",
        "colab_type": "code",
        "colab": {
          "base_uri": "https://localhost:8080/",
          "height": 397
        },
        "outputId": "41504e34-a7d0-411e-ea23-163a71e64306"
      },
      "source": [
        "M_1=matrix(3,3)\n",
        "M_2=[[2,2,2],[2,2,2],[2,2,2]]\n",
        "print(\"Matrix M_2: \",M_2)\n",
        "M_2=M_1\n",
        "print(\"Matrix M_2 after assigning M_1: \",M_2.rows)\n",
        "print(\"For given i,j, M[i][j]: \",M_1.rows[2][2])\n",
        "M=matrix(3,3,2)\n",
        "print(M*2)"
      ],
      "execution_count": 52,
      "outputs": [
        {
          "output_type": "stream",
          "text": [
            "Matrix:  [[1, 1, 1], [1, 1, 1], [1, 1, 1]]\n",
            "Matrix M_2:  [[2, 2, 2], [2, 2, 2], [2, 2, 2]]\n",
            "Matrix M_2 after assigning M_1:  [[1, 1, 1], [1, 1, 1], [1, 1, 1]]\n",
            "For given i,j, M[i][j]:  1\n",
            "Matrix:  [[1, 1, 1], [1, 1, 1], [1, 1, 1]]\n"
          ],
          "name": "stdout"
        },
        {
          "output_type": "error",
          "ename": "AttributeError",
          "evalue": "ignored",
          "traceback": [
            "\u001b[0;31m---------------------------------------------------------------------------\u001b[0m",
            "\u001b[0;31mAttributeError\u001b[0m                            Traceback (most recent call last)",
            "\u001b[0;32m<ipython-input-52-95fa17094d20>\u001b[0m in \u001b[0;36m<module>\u001b[0;34m()\u001b[0m\n\u001b[1;32m      6\u001b[0m \u001b[0mprint\u001b[0m\u001b[0;34m(\u001b[0m\u001b[0;34m\"For given i,j, M[i][j]: \"\u001b[0m\u001b[0;34m,\u001b[0m\u001b[0mM_1\u001b[0m\u001b[0;34m.\u001b[0m\u001b[0mrows\u001b[0m\u001b[0;34m[\u001b[0m\u001b[0;36m2\u001b[0m\u001b[0;34m]\u001b[0m\u001b[0;34m[\u001b[0m\u001b[0;36m2\u001b[0m\u001b[0;34m]\u001b[0m\u001b[0;34m)\u001b[0m\u001b[0;34m\u001b[0m\u001b[0;34m\u001b[0m\u001b[0m\n\u001b[1;32m      7\u001b[0m \u001b[0mM\u001b[0m\u001b[0;34m=\u001b[0m\u001b[0mmatrix\u001b[0m\u001b[0;34m(\u001b[0m\u001b[0;36m3\u001b[0m\u001b[0;34m,\u001b[0m\u001b[0;36m3\u001b[0m\u001b[0;34m,\u001b[0m\u001b[0;36m2\u001b[0m\u001b[0;34m)\u001b[0m\u001b[0;34m\u001b[0m\u001b[0;34m\u001b[0m\u001b[0m\n\u001b[0;32m----> 8\u001b[0;31m \u001b[0mprint\u001b[0m\u001b[0;34m(\u001b[0m\u001b[0mM\u001b[0m\u001b[0;34m*\u001b[0m\u001b[0;36m2\u001b[0m\u001b[0;34m)\u001b[0m\u001b[0;34m\u001b[0m\u001b[0;34m\u001b[0m\u001b[0m\n\u001b[0m",
            "\u001b[0;32m<ipython-input-51-c7c97ab7fac3>\u001b[0m in \u001b[0;36m__mul__\u001b[0;34m(self, other)\u001b[0m\n\u001b[1;32m    105\u001b[0m \u001b[0;34m\u001b[0m\u001b[0m\n\u001b[1;32m    106\u001b[0m   \u001b[0;32mdef\u001b[0m \u001b[0m__mul__\u001b[0m\u001b[0;34m(\u001b[0m\u001b[0mself\u001b[0m\u001b[0;34m,\u001b[0m \u001b[0mother\u001b[0m\u001b[0;34m)\u001b[0m\u001b[0;34m:\u001b[0m\u001b[0;34m\u001b[0m\u001b[0;34m\u001b[0m\u001b[0m\n\u001b[0;32m--> 107\u001b[0;31m     \u001b[0;32mreturn\u001b[0m \u001b[0mself\u001b[0m\u001b[0;34m.\u001b[0m\u001b[0mrows\u001b[0m\u001b[0;34m*\u001b[0m\u001b[0mother\u001b[0m\u001b[0;34m.\u001b[0m\u001b[0mc\u001b[0m\u001b[0;34m\u001b[0m\u001b[0;34m\u001b[0m\u001b[0m\n\u001b[0m\u001b[1;32m    108\u001b[0m \u001b[0;34m\u001b[0m\u001b[0m\n\u001b[1;32m    109\u001b[0m   \u001b[0;32mdef\u001b[0m \u001b[0m__add__\u001b[0m\u001b[0;34m(\u001b[0m\u001b[0mself\u001b[0m\u001b[0;34m,\u001b[0m\u001b[0mother\u001b[0m\u001b[0;34m)\u001b[0m\u001b[0;34m:\u001b[0m\u001b[0;34m\u001b[0m\u001b[0;34m\u001b[0m\u001b[0m\n",
            "\u001b[0;31mAttributeError\u001b[0m: 'int' object has no attribute 'c'"
          ]
        }
      ]
    },
    {
      "cell_type": "markdown",
      "metadata": {
        "id": "s4TNIc7qpZcx",
        "colab_type": "text"
      },
      "source": [
        "2. Add the following methods:\n",
        "    * `shape()`: returns a tuple `(n,m)` of the shape of the matrix.\n",
        "    * `transpose()`: returns a new matrix instance which is the transpose of the matrix.\n",
        "    * `row(n)` and `column(n)`: that return the nth row or column of the matrix M as a new appropriately shaped matrix object.\n",
        "    * `to_list()`: which returns the matrix as a list of lists.\n",
        "    *  `block(n_0,n_1,m_0,m_1)` that returns a smaller matrix located at the n_0 to n_1 columns and m_0 to m_1 rows. \n",
        "    * (Extra credit) Modify `__getitem__` implemented above to support slicing.\n",
        "        "
      ]
    },
    {
      "cell_type": "code",
      "metadata": {
        "id": "f7y8HRtOG9ym",
        "colab_type": "code",
        "colab": {
          "base_uri": "https://localhost:8080/",
          "height": 118
        },
        "outputId": "b5b69319-65b3-4bca-e544-7911cbf23784"
      },
      "source": [
        "print(\"Tuple: \", M_1.shape())\n",
        "print(\"Transpose: \", M_1.transpose())\n",
        "print(\"row(n): \", M_1.row(2))\n",
        "print(\"column(n): \", M_1.column(2))"
      ],
      "execution_count": 453,
      "outputs": [
        {
          "output_type": "stream",
          "text": [
            "Tuple:  (3, 3)\n",
            "Transpose:  [[8 8 8]\n",
            " [8 8 8]\n",
            " [8 8 8]]\n",
            "row(n):  [8, 8, 8]\n",
            "column(n):  [8, 8]\n"
          ],
          "name": "stdout"
        }
      ]
    },
    {
      "cell_type": "markdown",
      "metadata": {
        "id": "D5U0sygUpZcy",
        "colab_type": "text"
      },
      "source": [
        "3. Write functions that create special matrices (note these are standalone functions, not member functions of your `matrix` class):\n",
        "    * `constant(n,m,c)`: returns a `n` by `m` matrix filled with floats of value `c`.\n",
        "    * `zeros(n,m)` and `ones(n,m)`: return `n` by `m` matrices filled with floats of value `0` and `1`, respectively.\n",
        "    * `eye(n)`: returns the n by n identity matrix."
      ]
    },
    {
      "cell_type": "code",
      "metadata": {
        "id": "OMhtWitPSUp0",
        "colab_type": "code",
        "colab": {}
      },
      "source": [
        "#contact function\n",
        "def constant(n,m,c):\n",
        "    c_mat=[[c for n in range(n)] for m in range(m)]\n",
        "    const_mat=np.array(c_mat)\n",
        "    return const_mat.astype(float)"
      ],
      "execution_count": 0,
      "outputs": []
    },
    {
      "cell_type": "code",
      "metadata": {
        "id": "1Sj-nANuTBL9",
        "colab_type": "code",
        "colab": {
          "base_uri": "https://localhost:8080/",
          "height": 84
        },
        "outputId": "f2fe718e-4231-445f-d1c2-278da9cf16f3"
      },
      "source": [
        "#test\n",
        "constant(3,4,5)"
      ],
      "execution_count": 444,
      "outputs": [
        {
          "output_type": "execute_result",
          "data": {
            "text/plain": [
              "array([[5., 5., 5.],\n",
              "       [5., 5., 5.],\n",
              "       [5., 5., 5.],\n",
              "       [5., 5., 5.]])"
            ]
          },
          "metadata": {
            "tags": []
          },
          "execution_count": 444
        }
      ]
    },
    {
      "cell_type": "code",
      "metadata": {
        "id": "c5OL9XizViiC",
        "colab_type": "code",
        "colab": {}
      },
      "source": [
        "#zeroes & ones function\n",
        "def zeroes(n,m):\n",
        "    z_mat=[[0 for n in range(n)] for m in range(m)]\n",
        "    zero_mat=np.array(z_mat)\n",
        "    return zero_mat.astype(float)"
      ],
      "execution_count": 0,
      "outputs": []
    },
    {
      "cell_type": "code",
      "metadata": {
        "id": "EiEFFUbnWvQI",
        "colab_type": "code",
        "colab": {
          "base_uri": "https://localhost:8080/",
          "height": 84
        },
        "outputId": "3c6c2c55-fcd3-4a87-a5fb-d37521b01025"
      },
      "source": [
        "#test\n",
        "zeroes(3,4)"
      ],
      "execution_count": 450,
      "outputs": [
        {
          "output_type": "execute_result",
          "data": {
            "text/plain": [
              "array([[0., 0., 0.],\n",
              "       [0., 0., 0.],\n",
              "       [0., 0., 0.],\n",
              "       [0., 0., 0.]])"
            ]
          },
          "metadata": {
            "tags": []
          },
          "execution_count": 450
        }
      ]
    },
    {
      "cell_type": "code",
      "metadata": {
        "id": "HV9F1t6dW0Z6",
        "colab_type": "code",
        "colab": {}
      },
      "source": [
        "def ones(n,m):\n",
        "    o_mat=[[1 for n in range(n)] for m in range(m)]\n",
        "    ones_mat=np.array(o_mat)\n",
        "    return ones_mat.astype(float)"
      ],
      "execution_count": 0,
      "outputs": []
    },
    {
      "cell_type": "code",
      "metadata": {
        "id": "pUarwxliW79A",
        "colab_type": "code",
        "colab": {
          "base_uri": "https://localhost:8080/",
          "height": 84
        },
        "outputId": "05a68daf-df7d-4fec-d23a-7b7165d2e15d"
      },
      "source": [
        "#test\n",
        "ones(3,4)"
      ],
      "execution_count": 448,
      "outputs": [
        {
          "output_type": "execute_result",
          "data": {
            "text/plain": [
              "array([[1., 1., 1.],\n",
              "       [1., 1., 1.],\n",
              "       [1., 1., 1.],\n",
              "       [1., 1., 1.]])"
            ]
          },
          "metadata": {
            "tags": []
          },
          "execution_count": 448
        }
      ]
    },
    {
      "cell_type": "markdown",
      "metadata": {
        "id": "G5pmZWjbpZcy",
        "colab_type": "text"
      },
      "source": [
        "4. Add the following member functions to your class. Make sure to appropriately test the dimensions of the matrices to make sure the operations are correct.\n",
        "    * `M.scalarmul(c)`: a matrix that is scalar product $cM$, where every element of $M$ is multiplied by $c$.\n",
        "    * `M.add(N)`: adds two matrices $M$ and $N$. Don’t forget to test that the sizes of the matrices are compatible for this and all other operations.\n",
        "    * `M.sub(N)`: subtracts two matrices $M$ and $N$.\n",
        "    * `M.mat_mult(N)`: returns a matrix that is the matrix product of two matrices $M$ and $N$.\n",
        "    * `M.element_mult(N)`: returns a matrix that is the element-wise product of two matrices $M$ and $N$.\n",
        "    * `M.equals(N)`: returns true/false if $M==N$."
      ]
    },
    {
      "cell_type": "code",
      "metadata": {
        "id": "s8dDLwild8Ye",
        "colab_type": "code",
        "colab": {
          "base_uri": "https://localhost:8080/",
          "height": 302
        },
        "outputId": "c327324a-6b3f-43d4-90c3-b0226f512915"
      },
      "source": [
        "M=matrix(3,3)\n",
        "M.scalarmul(5)\n",
        "M.add([[2,2,2],[2,2,2],[2,2,2]])\n",
        "M.sub([[3,3,3],[3,3,3],[3,3,3]])\n",
        "M.mat_mult([[2,2,2],[2,2,2],[2,2,2]])"
      ],
      "execution_count": 39,
      "outputs": [
        {
          "output_type": "stream",
          "text": [
            "Matrix M_1:  [[1, 1, 1], [1, 1, 1], [1, 1, 1]]\n",
            "Scalar Product Matrix is : \n",
            "5 5 5 \n",
            "5 5 5 \n",
            "5 5 5 \n",
            "Addition of Matrices is : \n",
            "7 7 7 \n",
            "7 7 7 \n",
            "7 7 7 \n",
            "Subtration of Matrices is : \n",
            "4 4 4 \n",
            "4 4 4 \n",
            "4 4 4 \n",
            "Product of matrices: \n"
          ],
          "name": "stdout"
        },
        {
          "output_type": "execute_result",
          "data": {
            "text/plain": [
              "array([[24, 24, 24],\n",
              "       [24, 24, 24],\n",
              "       [24, 24, 24]])"
            ]
          },
          "metadata": {
            "tags": []
          },
          "execution_count": 39
        }
      ]
    },
    {
      "cell_type": "code",
      "metadata": {
        "id": "UCIcMJ1ELcif",
        "colab_type": "code",
        "colab": {
          "base_uri": "https://localhost:8080/",
          "height": 101
        },
        "outputId": "37782e52-f1dc-45e7-de10-5de8dccd13a6"
      },
      "source": [
        "M.element_mult([[5,5,5],[5,5,5],[5,5,5]])\n",
        "M.equals([[20,20,20],[20,20,20],[20,20,20]])"
      ],
      "execution_count": 40,
      "outputs": [
        {
          "output_type": "stream",
          "text": [
            "Elementwise product of Matrices is : \n",
            "20 20 20 \n",
            "20 20 20 \n",
            "20 20 20 \n",
            "Matrices are equal\n"
          ],
          "name": "stdout"
        }
      ]
    },
    {
      "cell_type": "markdown",
      "metadata": {
        "id": "RITRuV6NpZcz",
        "colab_type": "text"
      },
      "source": [
        "5. Overload python operators to appropriately use your functions in 4 and allow expressions like:\n",
        "    * 2*M\n",
        "    * M*2\n",
        "    * M+N\n",
        "    * M-N\n",
        "    * M*N\n",
        "    * M==N\n",
        "    * M=N\n"
      ]
    },
    {
      "cell_type": "code",
      "metadata": {
        "id": "RKrAIYT5OXde",
        "colab_type": "code",
        "colab": {
          "base_uri": "https://localhost:8080/",
          "height": 363
        },
        "outputId": "0f869d09-7614-48df-ba65-8e97e3cf53ca"
      },
      "source": [
        "M=matrix(4,4)\n",
        "N=matrix(4,4)\n",
        "M+N"
      ],
      "execution_count": 55,
      "outputs": [
        {
          "output_type": "stream",
          "text": [
            "Matrix:  [[1, 1, 1, 1], [1, 1, 1, 1], [1, 1, 1, 1], [1, 1, 1, 1]]\n",
            "Matrix:  [[1, 1, 1, 1], [1, 1, 1, 1], [1, 1, 1, 1], [1, 1, 1, 1]]\n",
            "Dimentions don't agree\n"
          ],
          "name": "stdout"
        },
        {
          "output_type": "error",
          "ename": "IndexError",
          "evalue": "ignored",
          "traceback": [
            "\u001b[0;31m---------------------------------------------------------------------------\u001b[0m",
            "\u001b[0;31mIndexError\u001b[0m                                Traceback (most recent call last)",
            "\u001b[0;32m<ipython-input-55-8d4031ffc8a1>\u001b[0m in \u001b[0;36m<module>\u001b[0;34m()\u001b[0m\n\u001b[1;32m      1\u001b[0m \u001b[0mM\u001b[0m\u001b[0;34m=\u001b[0m\u001b[0mmatrix\u001b[0m\u001b[0;34m(\u001b[0m\u001b[0;36m4\u001b[0m\u001b[0;34m,\u001b[0m\u001b[0;36m4\u001b[0m\u001b[0;34m)\u001b[0m\u001b[0;34m\u001b[0m\u001b[0;34m\u001b[0m\u001b[0m\n\u001b[1;32m      2\u001b[0m \u001b[0mN\u001b[0m\u001b[0;34m=\u001b[0m\u001b[0mmatrix\u001b[0m\u001b[0;34m(\u001b[0m\u001b[0;36m4\u001b[0m\u001b[0;34m,\u001b[0m\u001b[0;36m4\u001b[0m\u001b[0;34m)\u001b[0m\u001b[0;34m\u001b[0m\u001b[0;34m\u001b[0m\u001b[0m\n\u001b[0;32m----> 3\u001b[0;31m \u001b[0mM\u001b[0m\u001b[0;34m+\u001b[0m\u001b[0mN\u001b[0m\u001b[0;34m\u001b[0m\u001b[0;34m\u001b[0m\u001b[0m\n\u001b[0m",
            "\u001b[0;32m<ipython-input-53-b8d8b7517ddc>\u001b[0m in \u001b[0;36m__add__\u001b[0;34m(self, other)\u001b[0m\n\u001b[1;32m    112\u001b[0m     \u001b[0;32mfor\u001b[0m \u001b[0mi\u001b[0m \u001b[0;32min\u001b[0m \u001b[0mrange\u001b[0m\u001b[0;34m(\u001b[0m\u001b[0mself\u001b[0m\u001b[0;34m.\u001b[0m\u001b[0mn\u001b[0m\u001b[0;34m+\u001b[0m\u001b[0;36m1\u001b[0m\u001b[0;34m)\u001b[0m\u001b[0;34m:\u001b[0m\u001b[0;34m\u001b[0m\u001b[0;34m\u001b[0m\u001b[0m\n\u001b[1;32m    113\u001b[0m       \u001b[0;32mfor\u001b[0m \u001b[0mj\u001b[0m \u001b[0;32min\u001b[0m \u001b[0mrange\u001b[0m\u001b[0;34m(\u001b[0m\u001b[0mself\u001b[0m\u001b[0;34m.\u001b[0m\u001b[0mm\u001b[0m\u001b[0;34m+\u001b[0m\u001b[0;36m1\u001b[0m\u001b[0;34m)\u001b[0m\u001b[0;34m:\u001b[0m\u001b[0;34m\u001b[0m\u001b[0;34m\u001b[0m\u001b[0m\n\u001b[0;32m--> 114\u001b[0;31m         \u001b[0mself\u001b[0m\u001b[0;34m.\u001b[0m\u001b[0mrows\u001b[0m\u001b[0;34m[\u001b[0m\u001b[0mi\u001b[0m\u001b[0;34m]\u001b[0m\u001b[0;34m[\u001b[0m\u001b[0mj\u001b[0m\u001b[0;34m]\u001b[0m \u001b[0;34m=\u001b[0m \u001b[0mself\u001b[0m\u001b[0;34m.\u001b[0m\u001b[0mrows\u001b[0m\u001b[0;34m[\u001b[0m\u001b[0mi\u001b[0m\u001b[0;34m]\u001b[0m\u001b[0;34m[\u001b[0m\u001b[0mj\u001b[0m\u001b[0;34m]\u001b[0m \u001b[0;34m+\u001b[0m \u001b[0mother\u001b[0m\u001b[0;34m.\u001b[0m\u001b[0mN\u001b[0m\u001b[0;34m[\u001b[0m\u001b[0mi\u001b[0m\u001b[0;34m]\u001b[0m\u001b[0;34m[\u001b[0m\u001b[0mj\u001b[0m\u001b[0;34m]\u001b[0m\u001b[0;34m\u001b[0m\u001b[0;34m\u001b[0m\u001b[0m\n\u001b[0m\u001b[1;32m    115\u001b[0m     \u001b[0mprint\u001b[0m\u001b[0;34m(\u001b[0m\u001b[0;34m\"Addition of Matrices is : \"\u001b[0m\u001b[0;34m)\u001b[0m\u001b[0;34m\u001b[0m\u001b[0;34m\u001b[0m\u001b[0m\n\u001b[1;32m    116\u001b[0m     \u001b[0;32mfor\u001b[0m \u001b[0mi\u001b[0m \u001b[0;32min\u001b[0m \u001b[0mrange\u001b[0m\u001b[0;34m(\u001b[0m\u001b[0mself\u001b[0m\u001b[0;34m.\u001b[0m\u001b[0mn\u001b[0m\u001b[0;34m+\u001b[0m\u001b[0;36m1\u001b[0m\u001b[0;34m)\u001b[0m\u001b[0;34m:\u001b[0m\u001b[0;34m\u001b[0m\u001b[0;34m\u001b[0m\u001b[0m\n",
            "\u001b[0;31mIndexError\u001b[0m: list index out of range"
          ]
        }
      ]
    },
    {
      "cell_type": "markdown",
      "metadata": {
        "id": "p4aag6BepZc0",
        "colab_type": "text"
      },
      "source": [
        "6. Demonstrate the basic properties of matrices with your matrix class by creating two 2 by 2 example matrices using your Matrix class and illustrating the following:\n",
        "\n",
        "$$\n",
        "(AB)C=A(BC)\n",
        "$$\n",
        "$$\n",
        "A(B+C)=AB+AC\n",
        "$$\n",
        "$$\n",
        "AB\\neq BA\n",
        "$$\n",
        "$$\n",
        "AI=A\n",
        "$$"
      ]
    }
  ]
}