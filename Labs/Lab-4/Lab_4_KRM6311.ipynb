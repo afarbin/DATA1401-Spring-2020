{
  "nbformat": 4,
  "nbformat_minor": 0,
  "metadata": {
    "kernelspec": {
      "display_name": "Python 3",
      "language": "python",
      "name": "python3"
    },
    "language_info": {
      "codemirror_mode": {
        "name": "ipython",
        "version": 3
      },
      "file_extension": ".py",
      "mimetype": "text/x-python",
      "name": "python",
      "nbconvert_exporter": "python",
      "pygments_lexer": "ipython3",
      "version": "3.8.0"
    },
    "colab": {
      "name": "Lab_4_KRM6311",
      "provenance": [],
      "collapsed_sections": []
    }
  },
  "cells": [
    {
      "cell_type": "markdown",
      "metadata": {
        "id": "NeaeoO1C0q5f",
        "colab_type": "text"
      },
      "source": [
        "## Lab 4\n",
        "\n",
        "[![Open In Colab](https://colab.research.google.com/assets/colab-badge.svg)](https://colab.research.google.com/github//afarbin/DATA1401-Spring-2020/blob/master/Labs/Lab-4/Lab-4.ipynb)\n",
        "\n",
        "In this lab we will become familiar with distributions, histograms, and functional programming. \n",
        "\n",
        "\n",
        "### Uniform Distribution\n",
        "Lets start with generating some fake random data. You can get a random number between 0 and 1 using the python random module as follow:"
      ]
    },
    {
      "cell_type": "code",
      "metadata": {
        "id": "1WVqDYKa0q5g",
        "colab_type": "code",
        "outputId": "b6753071-5ce3-4e39-d605-fc9b6f289aa6",
        "colab": {
          "base_uri": "https://localhost:8080/",
          "height": 34
        }
      },
      "source": [
        "import random\n",
        "x=random.random()\n",
        "print(\"The Value of x is\", x)"
      ],
      "execution_count": 51,
      "outputs": [
        {
          "output_type": "stream",
          "text": [
            "The Value of x is 0.2185106669454585\n"
          ],
          "name": "stdout"
        }
      ]
    },
    {
      "cell_type": "markdown",
      "metadata": {
        "id": "pn6GRcNQ0q5l",
        "colab_type": "text"
      },
      "source": [
        "Everytime you call random, you will get a new number.\n",
        "\n",
        "*Exercise 1:* Using random, write a function `generate_uniform(N, mymin, mymax)`, that returns a python list containing N random numbers between specified minimum and maximum value. Note that you may want to quickly work out on paper how to turn numbers between 0 and 1 to between other values. "
      ]
    },
    {
      "cell_type": "code",
      "metadata": {
        "id": "IQSWYD-V0q5m",
        "colab_type": "code",
        "colab": {}
      },
      "source": [
        "# Skeleton\n",
        "def generate_uniform(N,x_min,x_max):\n",
        "    out = []\n",
        "    ### BEGIN SOLUTION\n",
        "    for i in range(0,N):\n",
        "      out.append(random.randint(x_min, x_max))\n",
        "    \n",
        "    ### END SOLUTION\n",
        "    return out"
      ],
      "execution_count": 0,
      "outputs": []
    },
    {
      "cell_type": "code",
      "metadata": {
        "id": "AXOe7zUk0q5p",
        "colab_type": "code",
        "colab": {
          "base_uri": "https://localhost:8080/",
          "height": 102
        },
        "outputId": "68fea0fe-c80a-4e39-d194-8b424b023aef"
      },
      "source": [
        "# Test your solution here\n",
        "data=generate_uniform(1000,-10,10)\n",
        "print (\"Data Type:\", type(data))\n",
        "print (\"Data Length:\", len(data))\n",
        "if len(data)>0: \n",
        "    print (\"Type of Data Contents:\", type(data[0]))\n",
        "    print (\"Data Minimum:\", min(data))\n",
        "    print (\"Data Maximum:\", max(data))"
      ],
      "execution_count": 144,
      "outputs": [
        {
          "output_type": "stream",
          "text": [
            "Data Type: <class 'list'>\n",
            "Data Length: 1000\n",
            "Type of Data Contents: <class 'int'>\n",
            "Data Minimum: -10\n",
            "Data Maximum: 10\n"
          ],
          "name": "stdout"
        }
      ]
    },
    {
      "cell_type": "markdown",
      "metadata": {
        "id": "lsjUDJj50q5s",
        "colab_type": "text"
      },
      "source": [
        "*Exercise 2a:* \n",
        "Write a function that computes the mean of values in a list."
      ]
    },
    {
      "cell_type": "code",
      "metadata": {
        "id": "5ZD_wsZ10q5s",
        "colab_type": "code",
        "colab": {}
      },
      "source": [
        "# Skeleton\n",
        "def mean(Data):\n",
        "    m=0.\n",
        "    for i in Data:\n",
        "      m += Data[i]\n",
        "    avg = m/len(Data)\n",
        "    return abs(avg)"
      ],
      "execution_count": 0,
      "outputs": []
    },
    {
      "cell_type": "code",
      "metadata": {
        "id": "kepkNKXC0q5v",
        "colab_type": "code",
        "colab": {
          "base_uri": "https://localhost:8080/",
          "height": 34
        },
        "outputId": "adfee1c9-df91-47ad-ee55-f09788747b4c"
      },
      "source": [
        "# Test your solution here\n",
        "print (\"Mean of Data:\", mean(data))"
      ],
      "execution_count": 133,
      "outputs": [
        {
          "output_type": "stream",
          "text": [
            "Mean of Data: 0.39\n"
          ],
          "name": "stdout"
        }
      ]
    },
    {
      "cell_type": "markdown",
      "metadata": {
        "id": "LdpefGla0q5y",
        "colab_type": "text"
      },
      "source": [
        "*Exercise 2b:* \n",
        "Write a function that computes the variance of values in a list."
      ]
    },
    {
      "cell_type": "code",
      "metadata": {
        "id": "77kH_6iX0q50",
        "colab_type": "code",
        "colab": {}
      },
      "source": [
        "# Skeleton\n",
        "def variance(Data):\n",
        "    ### BEGIN SOLUTION\n",
        "    avg = mean(Data)\n",
        "    #Calculate numerator\n",
        "    numerator = 0\n",
        "    for i in Data:\n",
        "      numerator += (Data[i] - avg)**2\n",
        "      #print(numerator, Data[i], avg)   \n",
        "    variance = numerator/(len(Data) - 1)\n",
        "\n",
        "    ### END SOLUTION\n",
        "    \n",
        "    return variance"
      ],
      "execution_count": 0,
      "outputs": []
    },
    {
      "cell_type": "code",
      "metadata": {
        "id": "A6iwY4Rs0q53",
        "colab_type": "code",
        "colab": {
          "base_uri": "https://localhost:8080/",
          "height": 34
        },
        "outputId": "1cd12e7c-79b3-4233-d1b0-f4f7e36eea45"
      },
      "source": [
        "# Test your solution here\n",
        "print (\"Variance of Data:\", variance(data))"
      ],
      "execution_count": 128,
      "outputs": [
        {
          "output_type": "stream",
          "text": [
            "Variance of Data: 42.1639393939394\n"
          ],
          "name": "stdout"
        }
      ]
    },
    {
      "cell_type": "markdown",
      "metadata": {
        "id": "3OoGcySC0q56",
        "colab_type": "text"
      },
      "source": [
        "## Histogramming"
      ]
    },
    {
      "cell_type": "markdown",
      "metadata": {
        "id": "sm_BbJLx0q56",
        "colab_type": "text"
      },
      "source": [
        "*Exercise 3:* Write a function that bins the data so that you can create a histogram. An example of how to implement histogramming is the following logic:\n",
        "\n",
        "* User inputs a list of values `x` and optionally `n_bins` which defaults to 10.\n",
        "* If not supplied, find the minimum and maximum (`x_min`,`x_max`) of the values in x.\n",
        "* Determine the bin size (`bin_size`) by dividing the range of the function by the number of bins.\n",
        "* Create an empty list of zeros of size `n_bins`, call it `hist`.\n",
        "* Loop over the values in `x`\n",
        "    * Loop over the values in `hist` with index `i`:\n",
        "        * If x is between `x_min+i*bin_size` and `x_min+(i+1)*bin_size`, increment `hist[i].` \n",
        "        * For efficiency, try to use continue to goto the next bin and data point.\n",
        "* Return `hist` and the list corresponding of the bin edges (i.e. of `x_min+i*bin_size`).    "
      ]
    },
    {
      "cell_type": "markdown",
      "metadata": {
        "id": "Qz12gSoYHVLg",
        "colab_type": "text"
      },
      "source": [
        ""
      ]
    },
    {
      "cell_type": "code",
      "metadata": {
        "id": "Fo65MGsr0q57",
        "colab_type": "code",
        "colab": {}
      },
      "source": [
        "def histogram(x,n_bins=10,x_min=None,x_max=None):\n",
        "    ### BEGIN SOLUTION\n",
        "    if x_min == None or x_max == None:\n",
        "      x_min = min(x)\n",
        "      x_max = max(x)\n",
        "    bin_size = ((x_max - x_min)/n_bins)\n",
        "    hist = [0]*n_bins\n",
        "    bin_edges = []\n",
        "    for j in x:\n",
        "      for i in range(len(hist)):\n",
        "        bin_edges.append(x_min+i*bin_size)\n",
        "        if x_min*bin_size <= j and j <= x_min+(i+1)*bin_size:\n",
        "          hist[i] += 1\n",
        "    # Fill in your solution here        \n",
        "    \n",
        "    ### END SOLUTION\n",
        "\n",
        "    return hist, bin_edges"
      ],
      "execution_count": 0,
      "outputs": []
    },
    {
      "cell_type": "code",
      "metadata": {
        "id": "CsbzrTRo0q59",
        "colab_type": "code",
        "colab": {
          "base_uri": "https://localhost:8080/",
          "height": 34
        },
        "outputId": "858b433a-9af0-4e42-c3d0-1d6d0133872e"
      },
      "source": [
        "h,b=histogram(data, 10)\n",
        "print(h)"
      ],
      "execution_count": 150,
      "outputs": [
        {
          "output_type": "stream",
          "text": [
            "[150, 247, 329, 421, 529, 609, 706, 796, 888, 1000]\n"
          ],
          "name": "stdout"
        }
      ]
    },
    {
      "cell_type": "markdown",
      "metadata": {
        "id": "vsJj4tZD0q5_",
        "colab_type": "text"
      },
      "source": [
        "*Exercise 4:* Write a function that uses the histogram function in the previous exercise to create a text-based \"graph\". For example the output could look like the following:\n",
        "```\n",
        "[  0,  1] : ######\n",
        "[  1,  2] : #####\n",
        "[  2,  3] : ######\n",
        "[  3,  4] : ####\n",
        "[  4,  5] : ####\n",
        "[  5,  6] : ######\n",
        "[  6,  7] : #####\n",
        "[  7,  8] : ######\n",
        "[  8,  9] : ####\n",
        "[  9, 10] : #####\n",
        "```\n",
        "\n",
        "Where each line corresponds to a bin and the number of `#`'s are proportional to the value of the data in the bin. "
      ]
    },
    {
      "cell_type": "code",
      "metadata": {
        "id": "45jtHMdL0q6A",
        "colab_type": "code",
        "colab": {}
      },
      "source": [
        "# Solution\n",
        "def draw_histogram(x,n_bins,x_min=None,x_max=None,character=\"#\",max_character_per_line=20):\n",
        "  x_max = max(x)\n",
        "  x_min = min(x)\n",
        "  count = 0\n",
        "  print(\"Note: # = 150\")\n",
        "  for i in range(0,n_bins):\n",
        "    print(\"[ %2.0d, %2.0d]: \" %(i,i+1), end =\"\")\n",
        "    count = int((x[i]/x_max) * 20)\n",
        "    print('#'*count)\n",
        "    ### END SOLUTION"
      ],
      "execution_count": 0,
      "outputs": []
    },
    {
      "cell_type": "code",
      "metadata": {
        "id": "mR9rjhs20q6D",
        "colab_type": "code",
        "colab": {
          "base_uri": "https://localhost:8080/",
          "height": 204
        },
        "outputId": "9d97be49-89a8-42d0-82d2-e46371a5e947"
      },
      "source": [
        "h,b=histogram(data, 10)\n",
        "draw_histogram(h,10)"
      ],
      "execution_count": 186,
      "outputs": [
        {
          "output_type": "stream",
          "text": [
            "Note: # = 150\n",
            "[  0,  1]: ###\n",
            "[  1,  2]: ####\n",
            "[  2,  3]: ######\n",
            "[  3,  4]: ########\n",
            "[  4,  5]: ##########\n",
            "[  5,  6]: ############\n",
            "[  6,  7]: ##############\n",
            "[  7,  8]: ###############\n",
            "[  8,  9]: #################\n",
            "[  9, 10]: ####################\n"
          ],
          "name": "stdout"
        }
      ]
    },
    {
      "cell_type": "markdown",
      "metadata": {
        "id": "TK5YJzjv0q6F",
        "colab_type": "text"
      },
      "source": [
        "## Functional Programming\n",
        "\n",
        "*Exercise 5:* Write a function the applies a booling function (that returns true/false) to every element in data, and return a list of indices of elements where the result was true. Use this function to find the indices of entries greater than 0.5. "
      ]
    },
    {
      "cell_type": "code",
      "metadata": {
        "id": "fsTSIzKb0q6G",
        "colab_type": "code",
        "colab": {}
      },
      "source": [
        "def testg(x):\n",
        "  if x > 0.5:\n",
        "    return True\n",
        "  return False\n",
        "\n",
        "def where(mylist,myfunc):\n",
        "  out= []\n",
        "  ### BEGIN SOLUTION\n",
        "  for i in mylist:\n",
        "    if myfunc(mylist[i]):\n",
        "      out.append(mylist[i])\n",
        "  ### END SOLUTION\n",
        "    \n",
        "  return out"
      ],
      "execution_count": 0,
      "outputs": []
    },
    {
      "cell_type": "code",
      "metadata": {
        "id": "bVcIDoSv0q6I",
        "colab_type": "code",
        "colab": {
          "base_uri": "https://localhost:8080/",
          "height": 54
        },
        "outputId": "32eb12ea-4d01-447c-d3c6-8661c5b63d21"
      },
      "source": [
        "print(where(data, testg))\n"
      ],
      "execution_count": 75,
      "outputs": [
        {
          "output_type": "stream",
          "text": [
            "[4, 4, 5, 2, 4, 3, 10, 1, 1, 5, 1, 4, 10, 1, 2, 1, 6, 2, 1, 5, 1, 2, 5, 1, 1, 5, 6, 2, 5, 1, 4, 2, 5, 4, 3, 6, 5, 5, 4, 5, 5, 2, 5, 2, 4, 5, 1, 5, 4, 10, 3, 2, 6, 5, 3, 2, 5, 5, 5, 1, 2, 1, 10, 5, 5, 5, 10, 5, 6, 3, 6, 5, 1, 2, 5, 5, 2, 4, 5, 6, 2, 10, 10, 10, 5, 4, 2, 3, 10, 2, 2, 4, 1, 5, 5, 4, 4, 5, 1, 5, 2, 5, 1, 5, 1, 1, 4, 5, 1, 2, 2, 3, 2, 6, 3, 2, 6, 5, 10, 6, 5, 3, 2, 4, 6, 5, 5, 1, 10, 10, 1, 6, 6, 4, 2, 1, 10, 4, 3, 5, 10, 10, 1, 10, 2, 1, 3, 10, 5, 1, 6, 5, 1, 2, 1, 4, 1, 5, 2, 10, 10, 1, 5, 5, 5, 5, 5, 2, 6, 10, 10, 5, 3, 10, 1, 10, 3, 1, 10, 4, 2, 5, 2, 5, 5, 5, 5, 1, 5, 5, 1, 2, 5, 5, 2, 1, 3, 10, 2, 6, 5, 3, 3, 4, 2, 10, 1, 5, 5, 5, 1, 5, 6, 3, 10, 5, 3, 5, 2, 10, 5, 4, 2, 5, 1, 2, 10, 2, 1, 5, 5, 5, 1, 1, 6, 5, 1, 1, 1, 5, 4, 5, 2, 6, 3, 3, 5, 10, 2, 5, 6, 10, 4, 5, 2, 1, 1, 1, 1, 2, 4, 1, 2, 1, 5, 5, 10, 5, 2, 5, 2, 5, 5, 3, 4, 1, 1, 1, 5, 10, 5, 3, 2, 2, 1, 1, 2, 5, 2, 6, 1, 5, 2, 1, 4, 6, 5, 5, 1, 2, 2, 5, 4, 5, 6, 1, 2, 1, 5, 1, 10, 2, 2, 5, 5, 5, 5, 2, 1, 4, 3, 5, 6, 10, 2, 5, 5, 1, 2, 5, 5, 2, 5, 3, 5, 1, 4, 10, 3, 4, 4, 1, 4, 5, 5, 1, 6, 10, 1, 1, 5, 10, 6, 6, 2, 1, 5, 5, 4, 3, 5, 10, 2, 3, 6, 3, 1, 5, 1, 2, 5, 1, 1, 2, 5, 2, 1, 6, 1, 5, 4, 2, 6, 10, 10, 1, 5, 2, 2, 5, 5, 6, 6, 2, 6, 1, 2, 10, 5, 5, 5, 1, 4, 2, 6, 1, 2, 5, 4, 10, 2, 2, 10, 1, 10, 5, 2, 1, 4, 2, 4, 1, 5, 2, 5, 1, 1, 5, 5, 2, 1, 5, 1, 4, 5, 2, 10, 3, 5, 1, 1, 6, 1, 2, 2, 1, 10, 3, 4, 5, 6, 5, 5, 10, 3, 4, 10, 5, 10, 1, 1, 1, 1, 2, 5, 5, 2, 1, 1, 5, 4, 2, 3, 2, 10, 5, 2, 2, 3, 2, 5, 4, 5, 4, 5, 5, 2, 6, 5, 2, 5, 5, 2, 6, 5, 5, 2, 2, 1, 5, 5, 1, 6, 3, 5, 2, 4, 2, 1, 5, 6, 10, 5, 2, 1, 5, 3, 5, 6, 4, 2, 2, 5, 5, 2, 1, 5, 3, 4, 1, 5, 2, 5, 1, 3, 2, 5, 6, 3]\n"
          ],
          "name": "stdout"
        }
      ]
    },
    {
      "cell_type": "markdown",
      "metadata": {
        "id": "HJNfahDK0q6L",
        "colab_type": "text"
      },
      "source": [
        "*Exercise 6:* The inrange(mymin,mymax) function below returns a function that tests if it's input is between the specified values. Write corresponding functions that test:\n",
        "* Even\n",
        "* Odd\n",
        "* Greater than\n",
        "* Less than\n",
        "* Equal\n",
        "* Divisible by"
      ]
    },
    {
      "cell_type": "code",
      "metadata": {
        "id": "72XQF70b0q6L",
        "colab_type": "code",
        "colab": {
          "base_uri": "https://localhost:8080/",
          "height": 85
        },
        "outputId": "a2718505-77de-40fd-902e-7efd0294a4f9"
      },
      "source": [
        "def inrange(mymin,mymax):\n",
        "    def testrange(x):\n",
        "        return x<mymax and x>=mymin\n",
        "    return testrange\n",
        "\n",
        "# Examples:\n",
        "F1=inrange(0,10)\n",
        "F2=inrange(10,20)\n",
        "\n",
        "# Test of in_range\n",
        "print (F1(0), F1(1), F1(10), F1(15), F1(20))\n",
        "print (F2(0), F2(1), F2(10), F2(15), F2(20))\n",
        "\n",
        "print (\"Number of Entries passing F1:\", len(where(data,F1)))\n",
        "print (\"Number of Entries passing F2:\", len(where(data,F2)))"
      ],
      "execution_count": 152,
      "outputs": [
        {
          "output_type": "stream",
          "text": [
            "True True False False False\n",
            "False False True True False\n",
            "Number of Entries passing F1: 327\n",
            "Number of Entries passing F2: 102\n"
          ],
          "name": "stdout"
        }
      ]
    },
    {
      "cell_type": "code",
      "metadata": {
        "id": "Zxfa6VT70q6N",
        "colab_type": "code",
        "colab": {}
      },
      "source": [
        "def isEvenOdd(feed):\n",
        "  if feed % 2 == 0:\n",
        "    return True\n",
        "  return False\n",
        "def isGreaterThan(feed,x):\n",
        "  if feed > x:\n",
        "    return True\n",
        "  return False\n",
        "def isEqual(feed, x):\n",
        "  if feed == x:\n",
        "    return True\n",
        "  return False\n",
        "def isDivisible(feed,x):\n",
        "  if feed % x == 0:\n",
        "    return True\n",
        "  return False"
      ],
      "execution_count": 0,
      "outputs": []
    },
    {
      "cell_type": "code",
      "metadata": {
        "id": "GYHOoncY0q6Q",
        "colab_type": "code",
        "colab": {
          "base_uri": "https://localhost:8080/",
          "height": 85
        },
        "outputId": "717a5823-e34c-4605-a557-f44db33a78d2"
      },
      "source": [
        "# Test yoxur solution\n",
        "test = 21\n",
        "opposed = 7\n",
        "print(\"Is even: \"+str(isEvenOdd(test)))\n",
        "print(\"%d Is greater than %d: \" %(test, opposed)+str(isGreaterThan(test,opposed) %(test)))\n",
        "print(str(isEqual(test,opposed)))\n",
        "print(str(isDivisible(test,opposed)))"
      ],
      "execution_count": 88,
      "outputs": [
        {
          "output_type": "stream",
          "text": [
            "Is even: False\n",
            "21 Is greater than 7: 1\n",
            "False\n",
            "True\n"
          ],
          "name": "stdout"
        }
      ]
    },
    {
      "cell_type": "markdown",
      "metadata": {
        "id": "MtabxBD60q6U",
        "colab_type": "text"
      },
      "source": [
        "*Exercise 7:* Repeat the previous exercise using `lambda` and the built-in python functions sum and map instead of your solution above. "
      ]
    },
    {
      "cell_type": "code",
      "metadata": {
        "id": "CCg2FHoa0q6V",
        "colab_type": "code",
        "colab": {}
      },
      "source": [
        ""
      ],
      "execution_count": 0,
      "outputs": []
    },
    {
      "cell_type": "markdown",
      "metadata": {
        "id": "dLk8gkIp0q6X",
        "colab_type": "text"
      },
      "source": [
        "## Monte Carlo\n",
        "\n",
        "*Exercise 7:* Write a \"generator\" function called `generate_function(func,x_min,x_max,N)`, that instead of generating a flat distribution, generates a distribution with functional form coded in `func`. Note that `func` will always be > 0.  \n",
        "\n",
        "Use the test function below and your histogramming functions above to demonstrate that your generator is working properly.\n",
        "\n",
        "Hint: A simple, but slow, solution is to a draw random number test_x within the specified range and another number p between the min and max of the function (which you will have to determine). If p<=function(test_x), then place test_x on the output. If not, repeat the process, drawing two new numbers. Repeat until you have the specified number of generated numbers, N. For this problem, it's OK to determine the min and max by numerically sampling the function.  "
      ]
    },
    {
      "cell_type": "code",
      "metadata": {
        "id": "NHc4ev5y0q6Y",
        "colab_type": "code",
        "colab": {}
      },
      "source": [
        "def generate_function(func,x_min,x_max,N=1000):\n",
        "    out = list()\n",
        "    ### BEGIN SOLUTION\n",
        "\n",
        "    # Fill in your solution here        \n",
        "    \n",
        "    ### END SOLUTION\n",
        "    \n",
        "    return out"
      ],
      "execution_count": 0,
      "outputs": []
    },
    {
      "cell_type": "code",
      "metadata": {
        "id": "HzuPnhAD0q6a",
        "colab_type": "code",
        "colab": {}
      },
      "source": [
        "# A test function\n",
        "def test_func(x,a=1,b=1):\n",
        "    return abs(a*x+b)"
      ],
      "execution_count": 0,
      "outputs": []
    },
    {
      "cell_type": "markdown",
      "metadata": {
        "id": "cHLdIa-I0q6c",
        "colab_type": "text"
      },
      "source": [
        "*Exercise 8:* Use your function to generate 1000 numbers that are normal distributed, using the `gaussian` function below. Confirm the mean and variance of the data is close to the mean and variance you specify when building the Gaussian. Histogram the data. "
      ]
    },
    {
      "cell_type": "code",
      "metadata": {
        "id": "3CjDT4dW0q6c",
        "colab_type": "code",
        "colab": {}
      },
      "source": [
        "import math\n",
        "\n",
        "def gaussian(mean, sigma):\n",
        "    def f(x):\n",
        "        return math.exp(-((x-mean)**2)/(2*sigma**2))/math.sqrt(math.pi*sigma)\n",
        "    return f\n",
        "\n",
        "# Example Instantiation\n",
        "g1=gaussian(0,1)\n",
        "g2=gaussian(10,3)"
      ],
      "execution_count": 0,
      "outputs": []
    },
    {
      "cell_type": "markdown",
      "metadata": {
        "id": "rAATsBxZ0q6f",
        "colab_type": "text"
      },
      "source": [
        "*Exercise 9:* Combine your `generate_function`, `where`, and `in_range` functions above to create an integrate function. Use your integrate function to show that approximately 68% of Normal distribution is within one variance."
      ]
    },
    {
      "cell_type": "code",
      "metadata": {
        "id": "lSGbV3Pr0q6f",
        "colab_type": "code",
        "colab": {}
      },
      "source": [
        "def integrate(func, x_min, x_max, n_points=1000):\n",
        "    \n",
        "    return integral"
      ],
      "execution_count": 0,
      "outputs": []
    },
    {
      "cell_type": "code",
      "metadata": {
        "id": "oKAillOR0q6h",
        "colab_type": "code",
        "colab": {}
      },
      "source": [
        ""
      ],
      "execution_count": 0,
      "outputs": []
    }
  ]
}