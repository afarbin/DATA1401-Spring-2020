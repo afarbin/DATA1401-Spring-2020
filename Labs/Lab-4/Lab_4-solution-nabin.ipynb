{
 "cells": [
  {
   "cell_type": "markdown",
   "metadata": {
    "colab_type": "text",
    "id": "vOEKs4WOZ0iN"
   },
   "source": [
    "## Lab 4\n",
    "\n",
    "[![Open In Colab](https://colab.research.google.com/assets/colab-badge.svg)](https://colab.research.google.com/github//afarbin/DATA1401-Spring-2020/blob/master/Labs/Lab-4/Lab-4.ipynb)\n",
    "\n",
    "In this lab we will become familiar with distributions, histograms, and functional programming. \n",
    "\n",
    "\n",
    "### Uniform Distribution\n",
    "Lets start with generating some fake random data. You can get a random number between 0 and 1 using the python random module as follow:"
   ]
  },
  {
   "cell_type": "code",
   "execution_count": 111,
   "metadata": {
    "colab": {},
    "colab_type": "code",
    "id": "jq1sEO6pZ0iP"
   },
   "outputs": [
    {
     "name": "stdout",
     "output_type": "stream",
     "text": [
      "The Value of x is 0.34985239712602334\n"
     ]
    }
   ],
   "source": [
    "import random\n",
    "x=random.random()\n",
    "print (\"The Value of x is\", x)"
   ]
  },
  {
   "cell_type": "markdown",
   "metadata": {
    "colab_type": "text",
    "id": "KByBvCioZ0iX"
   },
   "source": [
    "Everytime you call random, you will get a new number.\n",
    "\n",
    "*Exercise 1:* Using random, write a function `generate_uniform(N, mymin, mymax)`, that returns a python list containing N random numbers between specified minimum and maximum value. Note that you may want to quickly work out on paper how to turn numbers between 0 and 1 to between other values. "
   ]
  },
  {
   "cell_type": "code",
   "execution_count": 122,
   "metadata": {
    "colab": {},
    "colab_type": "code",
    "id": "Jp52YsR_Z0ib"
   },
   "outputs": [],
   "source": [
    "# Skeleton\n",
    "def generate_uniform(N,x_min,x_max):\n",
    "    out = []\n",
    "    for i in range(N):\n",
    "        out.append(random.randint(x_min,x_max))\n",
    "    return out"
   ]
  },
  {
   "cell_type": "code",
   "execution_count": 123,
   "metadata": {
    "colab": {},
    "colab_type": "code",
    "id": "wvJBapRFZ0i5"
   },
   "outputs": [
    {
     "name": "stdout",
     "output_type": "stream",
     "text": [
      "[0, 2, 2, 8, 1, 8, 1, 8, 4, 1]\n",
      "Data Type: <class 'list'>\n",
      "Data Length: 10\n",
      "Type of Data Contents: <class 'int'>\n",
      "Data Minimum: 0\n",
      "Data Maximum: 8\n"
     ]
    }
   ],
   "source": [
    "# Test your solution here\n",
    "data=generate_uniform(10,0,10)\n",
    "print(data)\n",
    "print (\"Data Type:\", type(data))\n",
    "print (\"Data Length:\", len(data))\n",
    "if len(data)>0: \n",
    "    print (\"Type of Data Contents:\", type(data[0]))\n",
    "    print (\"Data Minimum:\", min(data))\n",
    "    print (\"Data Maximum:\", max(data))"
   ]
  },
  {
   "cell_type": "markdown",
   "metadata": {
    "colab_type": "text",
    "id": "5xel1cFLZ0jD"
   },
   "source": [
    "*Exercise 2a:* \n",
    "Write a function that computes the mean of values in a list."
   ]
  },
  {
   "cell_type": "code",
   "execution_count": 168,
   "metadata": {},
   "outputs": [],
   "source": [
    "# Skeleton\n",
    "def mean(Data):\n",
    "    m=0\n",
    "    for i in Data:\n",
    "        m=m+i/len(Data)\n",
    "    return m"
   ]
  },
  {
   "cell_type": "code",
   "execution_count": 169,
   "metadata": {
    "colab": {},
    "colab_type": "code",
    "id": "D0nIaMIgZ0jP"
   },
   "outputs": [
    {
     "name": "stdout",
     "output_type": "stream",
     "text": [
      "Mean of Data: 3.500000000000001\n"
     ]
    }
   ],
   "source": [
    "# Test your solution here\n",
    "#data =(2,4,6,8,10)\n",
    "print (\"Mean of Data:\", mean(data))"
   ]
  },
  {
   "cell_type": "markdown",
   "metadata": {
    "colab_type": "text",
    "id": "Mv8oKWDaZ0jX"
   },
   "source": [
    "*Exercise 2b:* \n",
    "Write a function that computes the variance of values in a list."
   ]
  },
  {
   "cell_type": "code",
   "execution_count": 170,
   "metadata": {
    "colab": {},
    "colab_type": "code",
    "id": "C516mxrHZ0jc"
   },
   "outputs": [],
   "source": [
    "# Skeleton\n",
    "def variance(Data):\n",
    "    v=0.\n",
    "    for i in Data:\n",
    "        v=v +(i-mean(Data))**2/len(Data)\n",
    "    return v"
   ]
  },
  {
   "cell_type": "code",
   "execution_count": 171,
   "metadata": {
    "colab": {},
    "colab_type": "code",
    "id": "8zkbbPKPZ0jj"
   },
   "outputs": [
    {
     "name": "stdout",
     "output_type": "stream",
     "text": [
      "Variance of Data: 9.65\n"
     ]
    }
   ],
   "source": [
    "# Test your solution here\n",
    "#data=(2,4,6,8,10)\n",
    "print (\"Variance of Data:\", variance(data))"
   ]
  },
  {
   "cell_type": "markdown",
   "metadata": {
    "colab_type": "text",
    "id": "kQg1FqfUZ0jq"
   },
   "source": [
    "## Histogramming"
   ]
  },
  {
   "cell_type": "markdown",
   "metadata": {
    "colab_type": "text",
    "id": "niMCYS3QZ0js"
   },
   "source": [
    "*Exercise 3:* Write a function that bins the data so that you can create a histogram. An example of how to implement histogramming is the following logic:\n",
    "\n",
    "* User inputs a list of values `x` and optionally `n_bins` which defaults to 10.\n",
    "* If not supplied, find the minimum and maximum (`x_min`,`x_max`) of the values in x.\n",
    "* Determine the bin size (`bin_size`) by dividing the range of the function by the number of bins.\n",
    "* Create an empty list of zeros of size `n_bins`, call it `hist`.\n",
    "* Loop over the values in `x`\n",
    "    * Loop over the values in `hist` with index `i`:\n",
    "        * If x is between `x_min+i*bin_size` and `x_min+i*2*bin_size`, increment `hist[i].` \n",
    "        * For efficiency, try to use continue to goto the next bin and data point.\n",
    "* Return `hist` and the list corresponding of the bin edges (i.e. of `x_min+i*bin_size`).    "
   ]
  },
  {
   "cell_type": "code",
   "execution_count": 130,
   "metadata": {},
   "outputs": [],
   "source": [
    "# Solution\n",
    "def histogram(x,n_bins=10,x_min=None,x_max=None):\n",
    "    x_min=min(x)\n",
    "    x_max=max(x)\n",
    "    bin_size=(x_max-x_min)/n_bins\n",
    "    hist=[0]*n_bins\n",
    "    for value in x:\n",
    "        for i in range(n_bins):\n",
    "            if x_min+i*bin_size<= value <=x_min+(i+1)*bin_size:\n",
    "                hist[i]+=1\n",
    "    \n",
    "    bin_edges=[]\n",
    "    for edge in range(n_bins+1):\n",
    "        bin_edges.append(x_min+edge*bin_size)\n",
    "    bin_edges=[round(z,2) for z in bin_edges]\n",
    "    return hist,bin_edges"
   ]
  },
  {
   "cell_type": "code",
   "execution_count": 132,
   "metadata": {},
   "outputs": [
    {
     "name": "stdout",
     "output_type": "stream",
     "text": [
      "[1, 3, 2, 0, 1, 1, 0, 0, 0, 3]\n"
     ]
    }
   ],
   "source": [
    "# Test your solution here\n",
    "h,b=histogram(data,10)\n",
    "print(h)"
   ]
  },
  {
   "cell_type": "markdown",
   "metadata": {
    "colab_type": "text",
    "id": "peAvKcAZZ0kC"
   },
   "source": [
    "*Exercise 4:* Write a function that uses the histogram function in the previous exercise to create a text-based \"graph\". For example the output could look like the following:\n",
    "```\n",
    "[  0,  1] : ######\n",
    "[  1,  2] : #####\n",
    "[  2,  3] : ######\n",
    "[  3,  4] : ####\n",
    "[  4,  5] : ####\n",
    "[  5,  6] : ######\n",
    "[  6,  7] : #####\n",
    "[  7,  8] : ######\n",
    "[  8,  9] : ####\n",
    "[  9, 10] : #####\n",
    "```\n",
    "\n",
    "Where each line corresponds to a bin and the number of `#`'s are proportional to the value of the data in the bin. "
   ]
  },
  {
   "cell_type": "code",
   "execution_count": 134,
   "metadata": {},
   "outputs": [],
   "source": [
    "# Solution\n",
    "def draw_histogram(x,n_bins,x_min=None,x_max=None,character=\"#\",max_character_per_line=20):\n",
    "    x_min=min(x)\n",
    "    x_max=max(x)\n",
    "    bin_size=(x_max-x_min)/n_bins\n",
    "    hist=[0]*n_bins\n",
    "    for value in x:\n",
    "        for i in range(n_bins):\n",
    "            if x_min+i*bin_size<= value <=x_min+(i+1)*bin_size:\n",
    "                hist[i]+=1\n",
    "    \n",
    "    bin_edges=[]\n",
    "    for edge in range(n_bins+1):\n",
    "        bin_edges.append(x_min+edge*bin_size)\n",
    "    bin_edges=[round(z,2) for z in bin_edges]\n",
    "    \n",
    "    for i in range(len(hist)):\n",
    "        print(\"[\",bin_edges[i],\",\",bin_edges[i+1],\"]\",\":\",int(hist[i])*character)\n",
    "\n",
    "    return hist,bin_edges"
   ]
  },
  {
   "cell_type": "code",
   "execution_count": 135,
   "metadata": {},
   "outputs": [
    {
     "name": "stdout",
     "output_type": "stream",
     "text": [
      "[0, 2, 2, 8, 1, 8, 1, 8, 4, 1]\n",
      "[ 0.0 , 0.8 ] : #\n",
      "[ 0.8 , 1.6 ] : ###\n",
      "[ 1.6 , 2.4 ] : ##\n",
      "[ 2.4 , 3.2 ] : \n",
      "[ 3.2 , 4.0 ] : #\n",
      "[ 4.0 , 4.8 ] : #\n",
      "[ 4.8 , 5.6 ] : \n",
      "[ 5.6 , 6.4 ] : \n",
      "[ 6.4 , 7.2 ] : \n",
      "[ 7.2 , 8.0 ] : ###\n"
     ]
    },
    {
     "data": {
      "text/plain": [
       "([1, 3, 2, 0, 1, 1, 0, 0, 0, 3],\n",
       " [0.0, 0.8, 1.6, 2.4, 3.2, 4.0, 4.8, 5.6, 6.4, 7.2, 8.0])"
      ]
     },
     "execution_count": 135,
     "metadata": {},
     "output_type": "execute_result"
    }
   ],
   "source": [
    "# Test your solution here\n",
    "print(data)\n",
    "draw_histogram(data,10)"
   ]
  },
  {
   "cell_type": "markdown",
   "metadata": {
    "colab_type": "text",
    "id": "2EfI49faZ0kS"
   },
   "source": [
    "## Functional Programming\n",
    "\n",
    "*Exercise 5:* Write a function the applies a booling function (that returns true/false) to every element in data, and return a list of indices of elements where the result was true. Use this function to find the indices of entries greater than 0.5. "
   ]
  },
  {
   "cell_type": "code",
   "execution_count": 139,
   "metadata": {},
   "outputs": [],
   "source": [
    "# Solution\n",
    "def where(mylist,myfunction):\n",
    "    out=[]\n",
    "    for i,val in enumerate(mylist): \n",
    "        if myfunction(val):\n",
    "            out.append(i)\n",
    "    return out"
   ]
  },
  {
   "cell_type": "code",
   "execution_count": 141,
   "metadata": {},
   "outputs": [
    {
     "name": "stdout",
     "output_type": "stream",
     "text": [
      "[0, 2, 2, 8, 1, 8, 1, 8, 4, 1]\n"
     ]
    },
    {
     "data": {
      "text/plain": [
       "[1, 2, 3, 4, 5, 6, 7, 8, 9]"
      ]
     },
     "execution_count": 141,
     "metadata": {},
     "output_type": "execute_result"
    }
   ],
   "source": [
    "# Test your solution here\n",
    "print(data)\n",
    "where(data,lambda x:x>0.5)"
   ]
  },
  {
   "cell_type": "markdown",
   "metadata": {
    "colab_type": "text",
    "id": "chGzRgHyZ0ko"
   },
   "source": [
    "*Exercise 6:* The inrange(mymin,mymax) function below returns a function that tests if it's input is between the specified values. Write corresponding functions that test:\n",
    "* Even\n",
    "* Odd\n",
    "* Greater than\n",
    "* Less than\n",
    "* Equal\n",
    "* Divisible by"
   ]
  },
  {
   "cell_type": "code",
   "execution_count": 142,
   "metadata": {
    "colab": {},
    "colab_type": "code",
    "id": "U8kJPP6BZ0kr"
   },
   "outputs": [
    {
     "name": "stdout",
     "output_type": "stream",
     "text": [
      "True True False False False\n",
      "False False True True False\n",
      "Number of Entries passing F1: 10\n",
      "Number of Entries passing F2: 0\n"
     ]
    }
   ],
   "source": [
    "def inrange(mymin,mymax):\n",
    "    def testrange(x):\n",
    "        return x<mymax and x>=mymin\n",
    "    return testrange\n",
    "\n",
    "# Examples:\n",
    "F1=inrange(0,10)\n",
    "F2=inrange(10,20)\n",
    "\n",
    "# Test of in_range\n",
    "print (F1(0), F1(1), F1(10), F1(15), F1(20))\n",
    "print (F2(0), F2(1), F2(10), F2(15), F2(20))\n",
    "\n",
    "print(\"Number of Entries passing F1:\", len(where(data,F1)))\n",
    "print(\"Number of Entries passing F2:\", len(where(data,F2)))"
   ]
  },
  {
   "cell_type": "code",
   "execution_count": 143,
   "metadata": {
    "colab": {},
    "colab_type": "code",
    "id": "YJS1JRmgZ0kw"
   },
   "outputs": [
    {
     "name": "stdout",
     "output_type": "stream",
     "text": [
      "True False True False True\n",
      "False True False True False\n",
      "False False False False True\n",
      "True True True False False\n",
      "False False False True False\n",
      "True False False True False\n"
     ]
    }
   ],
   "source": [
    "### BEGIN SOLUTION\n",
    "\n",
    "def even(x):\n",
    "    return x%2==0\n",
    "    return even\n",
    "\n",
    "def odd(x):\n",
    "    return x%2!=0\n",
    "    return odd\n",
    "\n",
    "def greaterthan(x,y):\n",
    "    return x>y\n",
    "    return greaterthan\n",
    "\n",
    "def lessthan(x,y):\n",
    "    return x<y\n",
    "    return lessthan\n",
    "\n",
    "def equal(x,y):\n",
    "    return x==y\n",
    "    return equal\n",
    "\n",
    "def divisibleby(x,y):\n",
    "    return x%y==0\n",
    "    return divisibleby\n",
    "\n",
    "\n",
    "print (even(0), even(1), even(10), even(15), even(20))\n",
    "print (odd(0), odd(1), odd(10), odd(15), odd(20))\n",
    "print (greaterthan(0,15), greaterthan(1,15), greaterthan(10,15), greaterthan(15,15), greaterthan(20,15))\n",
    "print (lessthan(0,15), lessthan(1,15), lessthan(10,15), lessthan(15,15), lessthan(20,15))\n",
    "print (equal(0,15), equal(1,15), equal(10,15), equal(15,15), equal(20,15))\n",
    "print (divisibleby(0,15), divisibleby(1,15), divisibleby(10,15), divisibleby(15,15), divisibleby(20,15))"
   ]
  },
  {
   "cell_type": "markdown",
   "metadata": {
    "colab_type": "text",
    "id": "hXuPLM5DZ0lB"
   },
   "source": [
    "*Exercise 7:* Repeat the previous exercise using `lambda` and the built-in python functions sum and map instead of your solution above. "
   ]
  },
  {
   "cell_type": "code",
   "execution_count": 144,
   "metadata": {
    "colab": {},
    "colab_type": "code",
    "id": "pFoTI-YeZ0lE"
   },
   "outputs": [
    {
     "name": "stdout",
     "output_type": "stream",
     "text": [
      "True False True False True\n",
      "False True False True False\n",
      "False False False False True\n",
      "True True True False False\n",
      "False False False True False\n",
      "True False False True False\n"
     ]
    }
   ],
   "source": [
    "### BEGIN SOLUTION\n",
    "\n",
    "even=lambda x:x%2==0\n",
    "\n",
    "odd=lambda x: x%2!=0\n",
    "\n",
    "greaterthan=lambda x,y: x>y\n",
    "\n",
    "lessthan=lambda x,y: x<y\n",
    "\n",
    "equal=lambda x,y:x==y\n",
    "\n",
    "divisibleby=lambda x,y:x%y==0\n",
    "\n",
    "print (even(0), even(1), even(10), even(15), even(20))\n",
    "print (odd(0), odd(1), odd(10), odd(15), odd(20))\n",
    "print (greaterthan(0,15), greaterthan(1,15), greaterthan(10,15), greaterthan(15,15), greaterthan(20,15))\n",
    "print (lessthan(0,15), lessthan(1,15), lessthan(10,15), lessthan(15,15), lessthan(20,15))\n",
    "print (equal(0,15), equal(1,15), equal(10,15), equal(15,15), equal(20,15))\n",
    "print (divisibleby(0,15), divisibleby(1,15), divisibleby(10,15), divisibleby(15,15), divisibleby(20,15))      \n",
    "    \n",
    "### END SOLUTION"
   ]
  },
  {
   "cell_type": "markdown",
   "metadata": {
    "colab_type": "text",
    "id": "vdL8sUKVZ0lN"
   },
   "source": [
    "## Monte Carlo\n",
    "\n",
    "*Exercise 7:* Write a \"generator\" function called `generate_function(func,x_min,x_max,N)`, that instead of generating a flat distribution, generates a distribution with functional form coded in `func`. Note that `func` will always be > 0.  \n",
    "\n",
    "Use the test function below and your histogramming functions above to demonstrate that your generator is working properly.\n",
    "\n",
    "Hint: A simple, but slow, solution is to a draw random number test_x within the specified range and another number p between the min and max of the function (which you will have to determine). If p<=function(test_x), then place test_x on the output. If not, repeat the process, drawing two new numbers. Repeat until you have the specified number of generated numbers, N. For this problem, it's OK to determine the min and max by numerically sampling the function.  "
   ]
  },
  {
   "cell_type": "code",
   "execution_count": 150,
   "metadata": {
    "colab": {},
    "colab_type": "code",
    "id": "Yr1bmyiuZ0lP"
   },
   "outputs": [
    {
     "ename": "SyntaxError",
     "evalue": "invalid syntax (<ipython-input-150-299c0ab7cb58>, line 9)",
     "output_type": "error",
     "traceback": [
      "\u001b[1;36m  File \u001b[1;32m\"<ipython-input-150-299c0ab7cb58>\"\u001b[1;36m, line \u001b[1;32m9\u001b[0m\n\u001b[1;33m    if p=func(x):\u001b[0m\n\u001b[1;37m        ^\u001b[0m\n\u001b[1;31mSyntaxError\u001b[0m\u001b[1;31m:\u001b[0m invalid syntax\n"
     ]
    }
   ],
   "source": [
    "import random\n",
    "\n",
    "def generate_function(func,x_min,x_max,N=1000):\n",
    "    out = []\n",
    "    i=0\n",
    "    while i<=N:\n",
    "        x=random.choice(range(x_min,x_max))\n",
    "        p=random.choice(range((x_min,x_max))\n",
    "        if p<=func(x):\n",
    "            out.append(x)\n",
    "        i+=1\n",
    "    return out"
   ]
  },
  {
   "cell_type": "code",
   "execution_count": 159,
   "metadata": {},
   "outputs": [],
   "source": [
    "import random\n",
    "def generate_function(func,x_min,x_max,N=1000):\n",
    "    out=[]\n",
    "    i=0\n",
    "    while i<=N:\n",
    "        x=random.randint(x_min,x_max)\n",
    "        p=random.randint(x_min,x_max)\n",
    "        if p<=func(x):\n",
    "            out.append(x)\n",
    "        i+=1\n",
    "    return out"
   ]
  },
  {
   "cell_type": "code",
   "execution_count": 160,
   "metadata": {},
   "outputs": [],
   "source": [
    "# A test function\n",
    "def test_func(x,a=1,b=1):\n",
    "    return abs(a*x+b)"
   ]
  },
  {
   "cell_type": "code",
   "execution_count": 161,
   "metadata": {},
   "outputs": [
    {
     "name": "stdout",
     "output_type": "stream",
     "text": [
      "[10, 3, 7, 10, 6, 8, 3, 8, 10, 3, 1, 9, 8, 3, 2, 3, 10, 8, 1, 8, 8, 8, 9, 10, 7, 7, 9, 10, 1, 9, 10, 8, 8, 5, 5, 1, 10, 10, 2, 6, 7, 6, 2, 8, 4, 3, 1, 8, 8, 6, 8, 5, 7, 5, 4, 10, 10, 10, 10, 6, 6, 3, 8, 7, 6, 8, 9, 8, 9, 8, 6, 5, 10, 8, 5, 8, 0, 5, 5, 1, 10, 8, 0, 10, 9, 7, 5, 9, 7, 10, 9, 8, 6, 3, 8, 0, 9, 0, 8, 4, 9, 7, 6, 8, 7, 3, 6, 7, 6, 9, 7, 6, 8, 9, 9, 8, 9, 9, 8, 1, 3, 4, 9, 8, 5, 3, 10, 10, 8, 6, 5, 3, 5, 5, 9, 8, 10, 2, 9, 7, 9, 8, 7, 10, 4, 9, 9, 8, 8, 5, 3, 5, 9, 8, 9, 6, 8, 4, 7, 5, 5, 8, 1, 8, 2, 9, 10, 3, 5, 9, 8, 10, 8, 9, 10, 7, 2, 0, 7, 8, 9, 7, 4, 10, 3, 9, 10, 5, 9, 10, 10, 7, 8, 10, 6, 5, 7, 3, 9, 10, 10, 6, 7, 7, 2, 5, 6, 8, 6, 3, 6, 8, 1, 5, 8, 5, 9, 4, 9, 3, 5, 9, 9, 6, 5, 10, 8, 8, 7, 8, 2, 5, 9, 7, 3, 10, 5, 3, 3, 10, 10, 1, 10, 8, 1, 9, 10, 9, 5, 10, 3, 4, 6, 9, 8, 2, 9, 8, 9, 5, 6, 0, 8, 6, 4, 6, 8, 4, 10, 3, 6, 8, 3, 9, 8, 4, 2, 9, 6, 7, 9, 8, 2, 8, 9, 7, 4, 10, 3, 8, 10, 8, 8, 8, 6, 4, 4, 1, 1, 10, 6, 9, 7, 8, 6, 10, 10, 4, 8, 6, 3, 8, 8, 1, 8, 9, 5, 10, 10, 8, 9, 10, 6, 0, 3, 9, 7, 6, 7, 5, 5, 1, 7, 10, 10, 9, 9, 6, 10, 8, 9, 9, 3, 2, 10, 4, 10, 9, 5, 10, 9, 3, 7, 4, 8, 7, 9, 9, 3, 7, 9, 6, 8, 9, 7, 10, 4, 10, 5, 4, 6, 8, 8, 9, 3, 6, 3, 4, 3, 8, 0, 9, 9, 5, 7, 7, 9, 6, 9, 4, 0, 9, 2, 5, 10, 5, 1, 10, 3, 10, 9, 9, 4, 7, 3, 8, 2, 10, 9, 5, 6, 7, 1, 8, 6, 7, 0, 8, 9, 8, 3, 8, 7, 6, 6, 3, 9, 4, 9, 3, 5, 3, 7, 9, 8, 6, 7, 7, 6, 3, 6, 4, 8, 5, 8, 9, 1, 10, 8, 9, 8, 4, 8, 8, 1, 10, 9, 4, 9, 8, 7, 1, 9, 8, 2, 8, 8, 9, 4, 9, 7, 3, 1, 10, 0, 10, 5, 3, 7, 7, 7, 3, 8, 6, 9, 4, 10, 9, 1, 7, 9, 6, 4, 3, 6, 2, 7, 5, 3, 7, 9, 7, 8, 8, 8, 4, 4, 8, 9, 5, 5, 10, 3, 7, 8, 3, 10, 9, 3, 7, 3, 2, 9, 4, 4, 7, 0, 7, 8, 9, 5, 6, 7, 7, 9, 7, 8, 10, 10, 10, 6, 6, 9, 3, 7, 8, 9, 9, 10, 10, 8, 6, 5, 6, 3, 2, 8, 8, 9, 5, 9, 1, 7, 6, 5, 9, 9, 4, 6, 6, 8, 4, 6, 1, 10, 10, 3, 8, 10, 10, 2, 10, 8, 5, 5, 8, 5, 8, 9, 8, 5, 4, 8, 6, 8, 6, 1, 8, 10, 10, 8, 2, 4, 7, 5, 8, 6, 6, 8, 10, 10, 7, 10, 10, 9, 7, 7, 7, 0, 10, 7, 8, 10, 6, 6, 3, 2, 6, 8, 7, 9, 6, 0, 0, 10, 4, 4, 5, 9, 10, 8, 4, 6, 10, 9]\n"
     ]
    }
   ],
   "source": [
    "#test_func(10)\n",
    "test=generate_function(test_func,0,10)\n",
    "print(test)"
   ]
  },
  {
   "cell_type": "markdown",
   "metadata": {
    "colab_type": "text",
    "id": "S8ACDLiPZ0lY"
   },
   "source": [
    "*Exercise 8:* Use your function to generate 1000 numbers that are normal distributed, using the `gaussian` function below. Confirm the mean and variance of the data is close to the mean and variance you specify when building the Gaussian. Histogram the data. "
   ]
  },
  {
   "cell_type": "code",
   "execution_count": 162,
   "metadata": {
    "colab": {},
    "colab_type": "code",
    "id": "2DxoiyJkZ0la"
   },
   "outputs": [],
   "source": [
    "import math\n",
    "\n",
    "def gaussian(mean, sigma):\n",
    "    def f(x):\n",
    "        return math.exp(-((x-mean)**2)/(2*sigma**2))/math.sqrt(math.pi*sigma)\n",
    "    return f\n",
    "\n",
    "# Example Instantiation\n",
    "g1=gaussian(0,1)\n",
    "g2=gaussian(10,3)"
   ]
  },
  {
   "cell_type": "code",
   "execution_count": 166,
   "metadata": {},
   "outputs": [
    {
     "name": "stdout",
     "output_type": "stream",
     "text": [
      "[9, 2, 9, 7, 10, 0, 5, 1, 8, 10, 7, 7, 8, 10, 1, 7, 9, 0, 5, 8, 0, 9, 10, 4, 9, 6, 4, 4, 9, 6, 0, 2, 3, 8, 6, 7, 6, 4, 7, 10, 9, 0, 2, 8, 1, 0, 0, 9, 7, 2, 6, 5, 9, 3, 6, 6, 8, 9, 2, 6, 8, 4, 3, 9, 9, 4, 7, 5, 4, 7, 0, 6, 0, 3, 6, 5, 9, 1, 5, 1, 9, 4, 9, 2, 6, 8, 5]\n"
     ]
    }
   ],
   "source": [
    "test2=generate_function(g1,0,10)\n",
    "print(test2)\n",
    "#test3=generate_function(g2,0,10)\n",
    "#print(test3)"
   ]
  },
  {
   "cell_type": "code",
   "execution_count": 173,
   "metadata": {},
   "outputs": [
    {
     "name": "stdout",
     "output_type": "stream",
     "text": [
      "5.448275862068969 9.764565992865645\n"
     ]
    }
   ],
   "source": [
    "m=mean(test2)\n",
    "v=variance(test2)\n",
    "print(m,v)"
   ]
  },
  {
   "cell_type": "code",
   "execution_count": 178,
   "metadata": {},
   "outputs": [
    {
     "name": "stdout",
     "output_type": "stream",
     "text": [
      "[0, 4, 3, 0, 0, 8, 7, 3, 7, 9, 5, 2, 2, 10, 1, 2, 3, 0, 4, 8, 4, 3, 6, 9, 0, 4, 8, 5, 8, 7, 10, 6, 3, 8, 4, 6, 9, 6, 6, 8, 9, 3, 6, 8, 7, 1, 8, 9, 0, 10, 0, 6, 7, 10, 9, 1, 7, 7, 8, 8, 0, 9, 0, 3, 6, 0, 3, 9, 5, 2, 1, 10, 9, 4, 1, 9, 4, 10, 2, 10, 4, 10, 3, 10, 3, 6, 3, 8, 3, 7, 10, 0, 3, 5, 0]\n"
     ]
    }
   ],
   "source": [
    "g2=gaussian(5.448275862068969, 9.764565992865645)\n",
    "result=generate_function(g2,0,10)\n",
    "print(result)\n"
   ]
  },
  {
   "cell_type": "code",
   "execution_count": 179,
   "metadata": {},
   "outputs": [
    {
     "name": "stdout",
     "output_type": "stream",
     "text": [
      "5.1999999999999975 10.854736842105268\n"
     ]
    }
   ],
   "source": [
    "m=mean(result)\n",
    "v=variance(result)\n",
    "print(m,v)"
   ]
  },
  {
   "cell_type": "markdown",
   "metadata": {
    "colab_type": "text",
    "id": "AtfVcDd4Z0lf"
   },
   "source": [
    "*Exercise 9:* Combine your `generate_function`, `where`, and `in_range` functions above to create an integrate function. Use your integrate function to show that approximately 68% of Normal distribution is within one variance."
   ]
  },
  {
   "cell_type": "code",
   "execution_count": 0,
   "metadata": {
    "colab": {},
    "colab_type": "code",
    "id": "pM5RLjRgZ0li"
   },
   "outputs": [],
   "source": [
    "def integrate(func, x_min, x_max, n_points=1000):\n",
    "    \n",
    "    return integral"
   ]
  },
  {
   "cell_type": "code",
   "execution_count": 0,
   "metadata": {
    "colab": {},
    "colab_type": "code",
    "id": "Ey6fyDK-Z0lp"
   },
   "outputs": [],
   "source": []
  }
 ],
 "metadata": {
  "colab": {
   "name": "Lab-4.ipynb",
   "provenance": []
  },
  "kernelspec": {
   "display_name": "Python 3",
   "language": "python",
   "name": "python3"
  },
  "language_info": {
   "codemirror_mode": {
    "name": "ipython",
    "version": 3
   },
   "file_extension": ".py",
   "mimetype": "text/x-python",
   "name": "python",
   "nbconvert_exporter": "python",
   "pygments_lexer": "ipython3",
   "version": "3.7.4"
  }
 },
 "nbformat": 4,
 "nbformat_minor": 1
}
