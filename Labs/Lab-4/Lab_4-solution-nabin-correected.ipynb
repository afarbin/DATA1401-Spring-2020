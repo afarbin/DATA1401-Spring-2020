{
 "cells": [
  {
   "cell_type": "markdown",
   "metadata": {
    "colab_type": "text",
    "id": "vOEKs4WOZ0iN"
   },
   "source": [
    "## Lab 4\n",
    "\n",
    "[![Open In Colab](https://colab.research.google.com/assets/colab-badge.svg)](https://colab.research.google.com/github//afarbin/DATA1401-Spring-2020/blob/master/Labs/Lab-4/Lab-4.ipynb)\n",
    "\n",
    "In this lab we will become familiar with distributions, histograms, and functional programming. \n",
    "\n",
    "\n",
    "### Uniform Distribution\n",
    "Lets start with generating some fake random data. You can get a random number between 0 and 1 using the python random module as follow:"
   ]
  },
  {
   "cell_type": "code",
   "execution_count": 46,
   "metadata": {
    "colab": {},
    "colab_type": "code",
    "id": "jq1sEO6pZ0iP"
   },
   "outputs": [
    {
     "name": "stdout",
     "output_type": "stream",
     "text": [
      "The Value of x is 0.7623145433892383\n"
     ]
    }
   ],
   "source": [
    "import random\n",
    "x=random.random()\n",
    "print (\"The Value of x is\", x)"
   ]
  },
  {
   "cell_type": "markdown",
   "metadata": {
    "colab_type": "text",
    "id": "KByBvCioZ0iX"
   },
   "source": [
    "Everytime you call random, you will get a new number.\n",
    "\n",
    "*Exercise 1:* Using random, write a function `generate_uniform(N, mymin, mymax)`, that returns a python list containing N random numbers between specified minimum and maximum value. Note that you may want to quickly work out on paper how to turn numbers between 0 and 1 to between other values. "
   ]
  },
  {
   "cell_type": "code",
   "execution_count": 47,
   "metadata": {
    "colab": {},
    "colab_type": "code",
    "id": "Jp52YsR_Z0ib"
   },
   "outputs": [],
   "source": [
    "# Skeleton\n",
    "def generate_uniform(N,x_min,x_max):\n",
    "    out = []\n",
    "    for i in range(N):\n",
    "        out.append(random.randint(x_min,x_max))\n",
    "    return out"
   ]
  },
  {
   "cell_type": "code",
   "execution_count": 48,
   "metadata": {},
   "outputs": [
    {
     "data": {
      "text/plain": [
       "[2, 4, 10, 9, 3, 1, 10, 2, 10, 9]"
      ]
     },
     "execution_count": 48,
     "metadata": {},
     "output_type": "execute_result"
    }
   ],
   "source": [
    "generate_uniform(10,0,10)"
   ]
  },
  {
   "cell_type": "code",
   "execution_count": 49,
   "metadata": {
    "colab": {},
    "colab_type": "code",
    "id": "wvJBapRFZ0i5"
   },
   "outputs": [
    {
     "name": "stdout",
     "output_type": "stream",
     "text": [
      "[2, 3, 1, 9, 10, 9, 2, 7, 7, 8]\n",
      "Data Type: <class 'list'>\n",
      "Data Length: 10\n",
      "Type of Data Contents: <class 'int'>\n",
      "Data Minimum: 1\n",
      "Data Maximum: 10\n"
     ]
    }
   ],
   "source": [
    "# Test your solution here\n",
    "data=generate_uniform(10,0,10)\n",
    "print(data)\n",
    "print (\"Data Type:\", type(data))\n",
    "print (\"Data Length:\", len(data))\n",
    "if len(data)>0: \n",
    "    print (\"Type of Data Contents:\", type(data[0]))\n",
    "    print (\"Data Minimum:\", min(data))\n",
    "    print (\"Data Maximum:\", max(data))"
   ]
  },
  {
   "cell_type": "markdown",
   "metadata": {
    "colab_type": "text",
    "id": "5xel1cFLZ0jD"
   },
   "source": [
    "*Exercise 2a:* \n",
    "Write a function that computes the mean of values in a list."
   ]
  },
  {
   "cell_type": "code",
   "execution_count": 50,
   "metadata": {},
   "outputs": [],
   "source": [
    "# Skeleton\n",
    "def mean(data):\n",
    "    m=0\n",
    "    for i in data:\n",
    "        m=m+i/len(data)\n",
    "    return m"
   ]
  },
  {
   "cell_type": "code",
   "execution_count": 51,
   "metadata": {
    "colab": {},
    "colab_type": "code",
    "id": "D0nIaMIgZ0jP"
   },
   "outputs": [
    {
     "name": "stdout",
     "output_type": "stream",
     "text": [
      "Mean of Data: 5.8\n"
     ]
    }
   ],
   "source": [
    "# Test your solution here\n",
    "#data =(2,4,6,8,10)\n",
    "print (\"Mean of Data:\", mean(data))"
   ]
  },
  {
   "cell_type": "markdown",
   "metadata": {
    "colab_type": "text",
    "id": "Mv8oKWDaZ0jX"
   },
   "source": [
    "*Exercise 2b:* \n",
    "Write a function that computes the variance of values in a list."
   ]
  },
  {
   "cell_type": "code",
   "execution_count": 52,
   "metadata": {
    "colab": {},
    "colab_type": "code",
    "id": "C516mxrHZ0jc"
   },
   "outputs": [],
   "source": [
    "# Skeleton\n",
    "def variance(data):\n",
    "    v=0.\n",
    "    for i in data:\n",
    "        v=v +(i-mean(data))**2/len(data)\n",
    "    return v"
   ]
  },
  {
   "cell_type": "code",
   "execution_count": 53,
   "metadata": {
    "colab": {},
    "colab_type": "code",
    "id": "8zkbbPKPZ0jj"
   },
   "outputs": [
    {
     "name": "stdout",
     "output_type": "stream",
     "text": [
      "Variance of Data: 10.56\n"
     ]
    }
   ],
   "source": [
    "# Test your solution here\n",
    "#data=(2,4,6,8,10)\n",
    "print (\"Variance of Data:\", variance(data))"
   ]
  },
  {
   "cell_type": "markdown",
   "metadata": {
    "colab_type": "text",
    "id": "kQg1FqfUZ0jq"
   },
   "source": [
    "## Histogramming"
   ]
  },
  {
   "cell_type": "markdown",
   "metadata": {
    "colab_type": "text",
    "id": "niMCYS3QZ0js"
   },
   "source": [
    "*Exercise 3:* Write a function that bins the data so that you can create a histogram. An example of how to implement histogramming is the following logic:\n",
    "\n",
    "* User inputs a list of values `x` and optionally `n_bins` which defaults to 10.\n",
    "* If not supplied, find the minimum and maximum (`x_min`,`x_max`) of the values in x.\n",
    "* Determine the bin size (`bin_size`) by dividing the range of the function by the number of bins.\n",
    "* Create an empty list of zeros of size `n_bins`, call it `hist`.\n",
    "* Loop over the values in `x`\n",
    "    * Loop over the values in `hist` with index `i`:\n",
    "        * If x is between `x_min+i*bin_size` and `x_min+i*2*bin_size`, increment `hist[i].` \n",
    "        * For efficiency, try to use continue to goto the next bin and data point.\n",
    "* Return `hist` and the list corresponding of the bin edges (i.e. of `x_min+i*bin_size`).    "
   ]
  },
  {
   "cell_type": "code",
   "execution_count": 54,
   "metadata": {},
   "outputs": [],
   "source": [
    "# Solution\n",
    "def histogram(x,n_bins=10,x_min=None,x_max=None):\n",
    "    x_min=min(x)\n",
    "    x_max=max(x)\n",
    "    bin_size=(x_max-x_min)/n_bins\n",
    "    hist=[0]*n_bins\n",
    "    for value in x:\n",
    "        for i in range(n_bins):\n",
    "            if x_min+i*bin_size<= value <=x_min+(i+1)*bin_size:\n",
    "                hist[i]+=1\n",
    "    \n",
    "    bin_edges=[]\n",
    "    for edge in range(n_bins+1):\n",
    "        bin_edges.append(x_min+edge*bin_size)\n",
    "    bin_edges=[round(z,2) for z in bin_edges]\n",
    "    return hist,bin_edges"
   ]
  },
  {
   "cell_type": "code",
   "execution_count": 55,
   "metadata": {},
   "outputs": [
    {
     "name": "stdout",
     "output_type": "stream",
     "text": [
      "[1, 2, 1, 0, 0, 0, 2, 1, 2, 1]\n"
     ]
    }
   ],
   "source": [
    "# Test your solution here\n",
    "h,b=histogram(data,10)\n",
    "print(h)"
   ]
  },
  {
   "cell_type": "markdown",
   "metadata": {
    "colab_type": "text",
    "id": "peAvKcAZZ0kC"
   },
   "source": [
    "*Exercise 4:* Write a function that uses the histogram function in the previous exercise to create a text-based \"graph\". For example the output could look like the following:\n",
    "```\n",
    "[  0,  1] : ######\n",
    "[  1,  2] : #####\n",
    "[  2,  3] : ######\n",
    "[  3,  4] : ####\n",
    "[  4,  5] : ####\n",
    "[  5,  6] : ######\n",
    "[  6,  7] : #####\n",
    "[  7,  8] : ######\n",
    "[  8,  9] : ####\n",
    "[  9, 10] : #####\n",
    "```\n",
    "\n",
    "Where each line corresponds to a bin and the number of `#`'s are proportional to the value of the data in the bin. "
   ]
  },
  {
   "cell_type": "code",
   "execution_count": 56,
   "metadata": {},
   "outputs": [],
   "source": [
    "# Solution\n",
    "def draw_histogram(x,n_bins,x_min=None,x_max=None,character=\"#\",max_character_per_line=20):\n",
    "    x_min=min(x)\n",
    "    x_max=max(x)\n",
    "    bin_size=(x_max-x_min)/n_bins\n",
    "    hist=[0]*n_bins\n",
    "    for value in x:\n",
    "        for i in range(n_bins):\n",
    "            if x_min+i*bin_size<= value <=x_min+(i+1)*bin_size:\n",
    "                hist[i]+=1\n",
    "    \n",
    "    bin_edges=[]\n",
    "    for edge in range(n_bins+1):\n",
    "        bin_edges.append(x_min+edge*bin_size)\n",
    "    bin_edges=[round(z,2) for z in bin_edges]\n",
    "    \n",
    "    for i in range(len(hist)):\n",
    "        print(\"[\",bin_edges[i],\",\",bin_edges[i+1],\"]\",\":\",int(hist[i])*character)\n",
    "\n",
    "    return hist,bin_edges"
   ]
  },
  {
   "cell_type": "code",
   "execution_count": 57,
   "metadata": {},
   "outputs": [
    {
     "name": "stdout",
     "output_type": "stream",
     "text": [
      "[2, 3, 1, 9, 10, 9, 2, 7, 7, 8]\n",
      "[ 1.0 , 1.9 ] : #\n",
      "[ 1.9 , 2.8 ] : ##\n",
      "[ 2.8 , 3.7 ] : #\n",
      "[ 3.7 , 4.6 ] : \n",
      "[ 4.6 , 5.5 ] : \n",
      "[ 5.5 , 6.4 ] : \n",
      "[ 6.4 , 7.3 ] : ##\n",
      "[ 7.3 , 8.2 ] : #\n",
      "[ 8.2 , 9.1 ] : ##\n",
      "[ 9.1 , 10.0 ] : #\n"
     ]
    },
    {
     "data": {
      "text/plain": [
       "([1, 2, 1, 0, 0, 0, 2, 1, 2, 1],\n",
       " [1.0, 1.9, 2.8, 3.7, 4.6, 5.5, 6.4, 7.3, 8.2, 9.1, 10.0])"
      ]
     },
     "execution_count": 57,
     "metadata": {},
     "output_type": "execute_result"
    }
   ],
   "source": [
    "# Test your solution here\n",
    "print(data)\n",
    "draw_histogram(data,10)"
   ]
  },
  {
   "cell_type": "markdown",
   "metadata": {
    "colab_type": "text",
    "id": "2EfI49faZ0kS"
   },
   "source": [
    "## Functional Programming\n",
    "\n",
    "*Exercise 5:* Write a function the applies a booling function (that returns true/false) to every element in data, and return a list of indices of elements where the result was true. Use this function to find the indices of entries greater than 0.5. "
   ]
  },
  {
   "cell_type": "code",
   "execution_count": 58,
   "metadata": {},
   "outputs": [],
   "source": [
    "# Solution\n",
    "def where(mylist,myfunction):\n",
    "    out=[]\n",
    "    for i,val in enumerate(mylist): \n",
    "        if myfunction(val):\n",
    "            out.append(i)\n",
    "    return out"
   ]
  },
  {
   "cell_type": "code",
   "execution_count": 59,
   "metadata": {},
   "outputs": [
    {
     "name": "stdout",
     "output_type": "stream",
     "text": [
      "[2, 3, 1, 9, 10, 9, 2, 7, 7, 8]\n"
     ]
    },
    {
     "data": {
      "text/plain": [
       "[0, 1, 2, 3, 4, 5, 6, 7, 8, 9]"
      ]
     },
     "execution_count": 59,
     "metadata": {},
     "output_type": "execute_result"
    }
   ],
   "source": [
    "# Test your solution here\n",
    "print(data)\n",
    "where(data,lambda x:x>0.5)"
   ]
  },
  {
   "cell_type": "markdown",
   "metadata": {
    "colab_type": "text",
    "id": "chGzRgHyZ0ko"
   },
   "source": [
    "*Exercise 6:* The inrange(mymin,mymax) function below returns a function that tests if it's input is between the specified values. Write corresponding functions that test:\n",
    "* Even\n",
    "* Odd\n",
    "* Greater than\n",
    "* Less than\n",
    "* Equal\n",
    "* Divisible by"
   ]
  },
  {
   "cell_type": "code",
   "execution_count": 60,
   "metadata": {
    "colab": {},
    "colab_type": "code",
    "id": "U8kJPP6BZ0kr"
   },
   "outputs": [
    {
     "name": "stdout",
     "output_type": "stream",
     "text": [
      "True True False False False\n",
      "False False True True False\n",
      "Number of Entries passing F1: 9\n",
      "Number of Entries passing F2: 1\n"
     ]
    }
   ],
   "source": [
    "def inrange(mymin,mymax):\n",
    "    def testrange(x):\n",
    "        return x<mymax and x>=mymin\n",
    "    return testrange\n",
    "\n",
    "# Examples:\n",
    "F1=inrange(0,10)\n",
    "F2=inrange(10,20)\n",
    "\n",
    "# Test of in_range\n",
    "print (F1(0), F1(1), F1(10), F1(15), F1(20))\n",
    "print (F2(0), F2(1), F2(10), F2(15), F2(20))\n",
    "\n",
    "print(\"Number of Entries passing F1:\", len(where(data,F1)))\n",
    "print(\"Number of Entries passing F2:\", len(where(data,F2)))"
   ]
  },
  {
   "cell_type": "code",
   "execution_count": 61,
   "metadata": {
    "colab": {},
    "colab_type": "code",
    "id": "YJS1JRmgZ0kw"
   },
   "outputs": [],
   "source": [
    "### BEGIN SOLUTION\n",
    "\n",
    "def even(x):\n",
    "    return x%2==0\n",
    "\n",
    "def odd(x):\n",
    "    return x%2!=0\n",
    "\n",
    "def greaterthan(y):\n",
    "    def func(x):\n",
    "        return x>y\n",
    "    return func\n",
    "\n",
    "def lessthan(y):\n",
    "    def func(x):\n",
    "        return x<y\n",
    "    return func\n",
    "\n",
    "def equal(y):\n",
    "    def func(x):\n",
    "        return x==y\n",
    "    return func\n",
    "\n",
    "def divisibleby(y):\n",
    "    def func(x):\n",
    "        return x%y==0\n",
    "    return func\n",
    "\n"
   ]
  },
  {
   "cell_type": "code",
   "execution_count": 62,
   "metadata": {},
   "outputs": [
    {
     "name": "stdout",
     "output_type": "stream",
     "text": [
      "Number of Entries passing even: 25\n",
      "Number of Entries passing odd: 25\n",
      "Number of Entries passing greater than 10: 39\n",
      "Number of Entries passing less than 10: 10\n",
      "Number of Entries passing equal to 10: 1\n",
      "Number of Entries passing divisible by 10: 5\n"
     ]
    }
   ],
   "source": [
    "# Test your solution\n",
    "\n",
    "d=list(range(50))\n",
    "\n",
    "print (\"Number of Entries passing even:\", len(where(d,even)))\n",
    "print (\"Number of Entries passing odd:\", len(where(d,odd)))\n",
    "print (\"Number of Entries passing greater than 10:\", len(where(d,greaterthan(10))))\n",
    "print (\"Number of Entries passing less than 10:\", len(where(d,lessthan(10))))\n",
    "print (\"Number of Entries passing equal to 10:\", len(where(d,equal(10))))\n",
    "print (\"Number of Entries passing divisible by 10:\", len(where(d,divisibleby(10))))"
   ]
  },
  {
   "cell_type": "markdown",
   "metadata": {
    "colab_type": "text",
    "id": "hXuPLM5DZ0lB"
   },
   "source": [
    "*Exercise 7:* Repeat the previous exercise using `lambda` and the built-in python functions sum and map instead of your solution above. "
   ]
  },
  {
   "cell_type": "code",
   "execution_count": 63,
   "metadata": {
    "colab": {},
    "colab_type": "code",
    "id": "pFoTI-YeZ0lE"
   },
   "outputs": [],
   "source": [
    "### BEGIN SOLUTION\n",
    "\n",
    "even=lambda x:x%2==0\n",
    "\n",
    "odd=lambda x: x%2!=0\n",
    "\n",
    "#greaterthan=lambda x,y: x>y\n",
    "greaterthan=lambda x: x>10\n",
    "\n",
    "#lessthan=lambda x,y: x<y\n",
    "lessthan=lambda x: x<10\n",
    "\n",
    "#equal=lambda x,y:x==y\n",
    "equal=lambda x:x==10\n",
    "\n",
    "#divisibleby=lambda x,y:x%y==0\n",
    "divisibleby=lambda x:x%10==0\n",
    "    \n",
    "### END SOLUTION"
   ]
  },
  {
   "cell_type": "code",
   "execution_count": 64,
   "metadata": {},
   "outputs": [
    {
     "name": "stdout",
     "output_type": "stream",
     "text": [
      "Number of Entries passing even: 25\n",
      "Number of Entries passing odd: 25\n",
      "Number of Entries passing greater than 10: 39\n",
      "Number of Entries passing less than 10: 10\n",
      "Number of Entries passing equal to 10: 1\n",
      "Number of Entries passing divisible by 10: 5\n"
     ]
    }
   ],
   "source": [
    "# Test your solution\n",
    "\n",
    "d=list(range(50))\n",
    "\n",
    "print (\"Number of Entries passing even:\", len(where(d,even)))\n",
    "print (\"Number of Entries passing odd:\", len(where(d,odd)))\n",
    "print (\"Number of Entries passing greater than 10:\", len(where(d,greaterthan)))\n",
    "print (\"Number of Entries passing less than 10:\", len(where(d,lessthan)))\n",
    "print (\"Number of Entries passing equal to 10:\", len(where(d,equal)))\n",
    "print (\"Number of Entries passing divisible by 10:\", len(where(d,divisibleby)))"
   ]
  },
  {
   "cell_type": "markdown",
   "metadata": {
    "colab_type": "text",
    "id": "vdL8sUKVZ0lN"
   },
   "source": [
    "## Monte Carlo\n",
    "\n",
    "*Exercise 7:* Write a \"generator\" function called `generate_function(func,x_min,x_max,N)`, that instead of generating a flat distribution, generates a distribution with functional form coded in `func`. Note that `func` will always be > 0.  \n",
    "\n",
    "Use the test function below and your histogramming functions above to demonstrate that your generator is working properly.\n",
    "\n",
    "Hint: A simple, but slow, solution is to a draw random number test_x within the specified range and another number p between the min and max of the function (which you will have to determine). If p<=function(test_x), then place test_x on the output. If not, repeat the process, drawing two new numbers. Repeat until you have the specified number of generated numbers, N. For this problem, it's OK to determine the min and max by numerically sampling the function.  "
   ]
  },
  {
   "cell_type": "code",
   "execution_count": 125,
   "metadata": {
    "colab": {},
    "colab_type": "code",
    "id": "Yr1bmyiuZ0lP"
   },
   "outputs": [],
   "source": [
    "\n",
    "def arange(x_min,x_max,steps=10):\n",
    "    step_size=(x_max-x_min)/steps\n",
    "    x=x_min\n",
    "    out=list()\n",
    "    for i in range(steps):\n",
    "        out.append(x)\n",
    "        x+=step_size\n",
    "    out.append(x_max)    \n",
    "    return out\n",
    "\n",
    "def generate_function(func,x_min,x_max,N=100):\n",
    "    out=list()\n",
    "    x_scan=arange(x_min,x_max,100)\n",
    "    p_scan=list(map(func,x_scan))\n",
    "    p_min=min(p_scan)\n",
    "    p_max=max(p_scan)\n",
    "    \n",
    "    while len(out)<N:\n",
    "        x=x_min + (x_min-x_max)*random.random()\n",
    "        p=p_min + (p_min-p_max)*random.random()\n",
    "        \n",
    "        if p<=func(x):\n",
    "            out.append(x)\n",
    "    return out"
   ]
  },
  {
   "cell_type": "code",
   "execution_count": 84,
   "metadata": {},
   "outputs": [],
   "source": [
    "import random\n",
    "def generate_function(func,x_min,x_max,N=100):\n",
    "    out=[]\n",
    " \n",
    "    while len(out)<N:\n",
    "        x=random.randint(x_min,x_max)\n",
    "        p=random.randint(x_min,x_max)\n",
    "        if p<=func(x):\n",
    "            out.append(x)\n",
    " \n",
    "    return out"
   ]
  },
  {
   "cell_type": "code",
   "execution_count": 123,
   "metadata": {},
   "outputs": [],
   "source": [
    "# A test function\n",
    "def test_func(x,a=1,b=1):\n",
    "    return abs(a*x+b)"
   ]
  },
  {
   "cell_type": "code",
   "execution_count": 126,
   "metadata": {},
   "outputs": [
    {
     "name": "stdout",
     "output_type": "stream",
     "text": [
      "[-8.964826139040973, -8.740277005741955, -1.8141039525553382, -1.9153131982349858, -3.0051592897801447, -3.5149074858659457, -8.730650433565646, -6.0354716003379245, -4.0421788896593425, -2.6812729034229967, -4.839254661161131, -4.530297060975518, -7.898071323903709, -2.933944345921, -0.0471006612791125, -2.593282129643497, -9.653776576784773, -2.9304098850436713, -0.7814760922668018, -3.624209505295565, -4.966045676863857, -5.14386358737427, -8.435823735268336, -6.408535185492854, -6.5216655302192805, -3.785696794474914, -7.2417702213413895, -4.9259613081154665, -7.502546619541686, -0.38292529556748556, -1.1197005898281465, -7.081600742834721, -2.2731504995581653, -0.2974181084409855, -8.999018800977499, -5.522065709763435, -6.539837207021664, -3.8098560215262167, -4.111548519039933, -7.299121546114914, -1.006337825473782, -8.220648114645972, -9.857912176129036, -5.007255494045053, -0.4934950540760952, -5.032451530657498, -0.9124803651617552, -4.823988174450361, -6.52171784649331, -8.164407944086811, -4.532198228901725, -9.527532709249412, -9.666980938289132, -5.120225143876553, -5.733412517727048, -4.061371545028516, -4.050043192287712, -0.6473549948084356, -9.792939565930398, -7.8219007850521125, -9.320201959096796, -7.939383381448265, -2.5133223033674126, -5.125929895438196, -0.46495476725883056, -6.920308337913052, -7.616474714581725, -7.186503764273672, -4.767341588683514, -2.3911608123717807, -3.8690867577125045, -6.270105684780269, -2.520067035107779, -5.016592146341239, -7.4198817804011465, -5.63254713955364, -5.287870832464017, -8.024087147716765, -9.334801748218082, -5.712664999340581, -6.648951684677106, -6.4750936129496335, -2.0621841682215223, -5.48122875634415, -2.352575430380195, -2.5180603542033397, -3.448152231545485, -3.9100673936791006, -4.878707128266776, -4.509002285155947, -9.268394805942386, -3.354525223249365, -7.92861668201645, -5.786812972803358, -6.902557844667343, -4.275415917387482, -0.686332857891262, -6.59960222955254, -4.174467273721215, -1.3976214229527073]\n"
     ]
    }
   ],
   "source": [
    "#test_func(10)\n",
    "test=generate_function(test_func,0,10)\n",
    "print(test)"
   ]
  },
  {
   "cell_type": "code",
   "execution_count": 127,
   "metadata": {},
   "outputs": [
    {
     "data": {
      "text/plain": [
       "(array([12.,  6., 10., 12., 11., 14.,  8.,  9.,  9.,  9.]),\n",
       " array([-9.78581198, -8.81880424, -7.85179649, -6.88478875, -5.917781  ,\n",
       "        -4.95077326, -3.98376551, -3.01675777, -2.04975003, -1.08274228,\n",
       "        -0.11573454]),\n",
       " <a list of 10 Patch objects>)"
      ]
     },
     "execution_count": 127,
     "metadata": {},
     "output_type": "execute_result"
    },
    {
     "data": {
      "image/png": "[encoded data removed]",
      "text/plain": [
       "<Figure size 432x288 with 1 Axes>"
      ]
     },
     "metadata": {
      "needs_background": "light"
     },
     "output_type": "display_data"
    }
   ],
   "source": [
    "%matplotlib inline\n",
    "import matplotlib.pyplot as plt\n",
    "\n",
    "plt.hist(generate_function(test_func,0,10))"
   ]
  },
  {
   "cell_type": "markdown",
   "metadata": {
    "colab_type": "text",
    "id": "S8ACDLiPZ0lY"
   },
   "source": [
    "*Exercise 8:* Use your function to generate 1000 numbers that are normal distributed, using the `gaussian` function below. Confirm the mean and variance of the data is close to the mean and variance you specify when building the Gaussian. Histogram the data. "
   ]
  },
  {
   "cell_type": "code",
   "execution_count": 88,
   "metadata": {
    "colab": {},
    "colab_type": "code",
    "id": "2DxoiyJkZ0la"
   },
   "outputs": [],
   "source": [
    "import math\n",
    "\n",
    "def gaussian(mean, sigma):\n",
    "    def f(x):\n",
    "        return math.exp(-((x-mean)**2)/(2*sigma**2))/math.sqrt(math.pi*sigma)\n",
    "    return f\n",
    "\n",
    "# Example Instantiation\n",
    "g1=gaussian(0,1)\n",
    "g2=gaussian(10,3)"
   ]
  },
  {
   "cell_type": "code",
   "execution_count": 89,
   "metadata": {},
   "outputs": [
    {
     "name": "stdout",
     "output_type": "stream",
     "text": [
      "[9, 7, 6, 9, 0, 7, 0, 2, 0, 9, 7, 10, 8, 4, 5, 4, 0, 7, 4, 4, 3, 8, 9, 1, 1, 4, 3, 10, 1, 2, 0, 5, 5, 10, 2, 4, 3, 0, 5, 5, 10, 7, 10, 4, 6, 2, 6, 2, 2, 5, 9, 4, 6, 10, 4, 7, 10, 5, 5, 10, 3, 7, 0, 7, 0, 4, 0, 6, 1, 3, 6, 9, 9, 2, 3, 3, 5, 6, 6, 8, 4, 3, 8, 6, 5, 1, 8, 6, 5, 7, 7, 3, 4, 4, 1, 0, 2, 3, 1, 3]\n"
     ]
    }
   ],
   "source": [
    "test2=generate_function(g1,0,10)\n",
    "print(test2)\n",
    "#test3=generate_function(g2,0,10)\n",
    "#print(test3)"
   ]
  },
  {
   "cell_type": "code",
   "execution_count": 136,
   "metadata": {},
   "outputs": [
    {
     "data": {
      "image/png": "[encoded data removed]",
      "text/plain": [
       "<Figure size 432x288 with 1 Axes>"
      ]
     },
     "metadata": {
      "needs_background": "light"
     },
     "output_type": "display_data"
    }
   ],
   "source": [
    "plt.hist(test2)\n",
    "plt.show()"
   ]
  },
  {
   "cell_type": "code",
   "execution_count": 90,
   "metadata": {},
   "outputs": [
    {
     "name": "stdout",
     "output_type": "stream",
     "text": [
      "4.759999999999999 8.922399999999996\n"
     ]
    }
   ],
   "source": [
    "m=mean(test2)\n",
    "v=variance(test2)\n",
    "print(m,v)"
   ]
  },
  {
   "cell_type": "code",
   "execution_count": 91,
   "metadata": {},
   "outputs": [
    {
     "name": "stdout",
     "output_type": "stream",
     "text": [
      "[2, 2, 3, 1, 8, 8, 0, 0, 10, 4, 3, 10, 2, 1, 3, 5, 6, 5, 7, 2, 5, 0, 4, 8, 5, 2, 3, 4, 8, 5, 1, 7, 0, 5, 3, 7, 2, 1, 5, 6, 8, 10, 6, 2, 4, 8, 8, 0, 3, 10, 10, 6, 7, 4, 8, 9, 9, 8, 6, 0, 3, 5, 8, 3, 8, 0, 9, 9, 2, 0, 10, 7, 4, 10, 3, 3, 10, 3, 4, 3, 0, 8, 2, 1, 6, 2, 0, 7, 9, 0, 3, 10, 9, 2, 2, 5, 5, 6, 0, 0]\n"
     ]
    }
   ],
   "source": [
    "g2=gaussian(5.448275862068969, 9.764565992865645)\n",
    "result=generate_function(g2,0,10)\n",
    "print(result)\n"
   ]
  },
  {
   "cell_type": "code",
   "execution_count": 92,
   "metadata": {},
   "outputs": [
    {
     "name": "stdout",
     "output_type": "stream",
     "text": [
      "4.699999999999996 10.230000000000011\n"
     ]
    }
   ],
   "source": [
    "m=mean(result)\n",
    "v=variance(result)\n",
    "print(m,v)"
   ]
  },
  {
   "cell_type": "markdown",
   "metadata": {
    "colab_type": "text",
    "id": "AtfVcDd4Z0lf"
   },
   "source": [
    "*Exercise 9:* Combine your `generate_function`, `where`, and `in_range` functions above to create an integrate function. Use your integrate function to show that approximately 68% of Normal distribution is within one variance."
   ]
  },
  {
   "cell_type": "code",
   "execution_count": 130,
   "metadata": {
    "colab": {},
    "colab_type": "code",
    "id": "pM5RLjRgZ0li"
   },
   "outputs": [],
   "source": [
    "def integrate(func, x_min, x_max, n_points=1000):\n",
    "    out = list()\n",
    "    x_scan=arange(x_min,x_max,100)\n",
    "    p_scan=list(map(func,x_scan))\n",
    "    p_min=min(p_scan)\n",
    "    p_max=max(p_scan)\n",
    "    \n",
    "    count=0\n",
    "    while len(out)<n_points:\n",
    "        count+=1\n",
    "        x=x_min+(x_max-x_min)*random.random()\n",
    "        p=p_min+(p_max-p_min)*random.random()\n",
    "        \n",
    "        if p<=func(x):\n",
    "            out.append(x)\n",
    "            \n",
    "    integral = float(len(out))/float(count)\n",
    "    return integral"
   ]
  },
  {
   "cell_type": "code",
   "execution_count": 131,
   "metadata": {
    "colab": {},
    "colab_type": "code",
    "id": "Ey6fyDK-Z0lp"
   },
   "outputs": [
    {
     "data": {
      "text/plain": [
       "0.6269592476489029"
      ]
     },
     "execution_count": 131,
     "metadata": {},
     "output_type": "execute_result"
    }
   ],
   "source": [
    "integrate(g1, -1, 1, n_points=1000)"
   ]
  },
  {
   "cell_type": "code",
   "execution_count": null,
   "metadata": {},
   "outputs": [],
   "source": []
  }
 ],
 "metadata": {
  "colab": {
   "name": "Lab-4.ipynb",
   "provenance": []
  },
  "kernelspec": {
   "display_name": "Python 3",
   "language": "python",
   "name": "python3"
  },
  "language_info": {
   "codemirror_mode": {
    "name": "ipython",
    "version": 3
   },
   "file_extension": ".py",
   "mimetype": "text/x-python",
   "name": "python",
   "nbconvert_exporter": "python",
   "pygments_lexer": "ipython3",
   "version": "3.7.4"
  }
 },
 "nbformat": 4,
 "nbformat_minor": 1
}
