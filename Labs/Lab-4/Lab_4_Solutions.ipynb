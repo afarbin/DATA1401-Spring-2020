{
  "nbformat": 4,
  "nbformat_minor": 0,
  "metadata": {
    "kernelspec": {
      "display_name": "Python 3",
      "language": "python",
      "name": "python3"
    },
    "language_info": {
      "codemirror_mode": {
        "name": "ipython",
        "version": 3
      },
      "file_extension": ".py",
      "mimetype": "text/x-python",
      "name": "python",
      "nbconvert_exporter": "python",
      "pygments_lexer": "ipython3",
      "version": "3.8.1"
    },
    "colab": {
      "name": "Copy of Lab-4.ipynb",
      "provenance": []
    }
  },
  "cells": [
    {
      "cell_type": "markdown",
      "metadata": {
        "id": "NpJwRQ5jR_UE",
        "colab_type": "text"
      },
      "source": [
        "## Lab 4\n",
        "\n",
        "[![Open In Colab](https://colab.research.google.com/assets/colab-badge.svg)](https://colab.research.google.com/github//afarbin/DATA1401-Spring-2020/blob/master/Labs/Lab-4/Lab-4.ipynb)\n",
        "\n",
        "In this lab we will become familiar with distributions, histograms, and functional programming. \n",
        "\n",
        "\n",
        "### Uniform Distribution\n",
        "Lets start with generating some fake random data. You can get a random number between 0 and 1 using the python random module as follow:"
      ]
    },
    {
      "cell_type": "code",
      "metadata": {
        "id": "4X73PSMdT2Dz",
        "colab_type": "code",
        "outputId": "141ac6db-19df-4af9-d132-5a1869a61007",
        "colab": {
          "base_uri": "https://localhost:8080/",
          "height": 122
        }
      },
      "source": [
        "from google.colab import drive\n",
        "drive.mount('/content/drive')"
      ],
      "execution_count": 0,
      "outputs": [
        {
          "output_type": "stream",
          "text": [
            "Go to this URL in a browser: https://accounts.google.com/o/oauth2/auth?client_id=947318989803-6bn6qk8qdgf4n4g3pfee6491hc0brc4i.apps.googleusercontent.com&redirect_uri=urn%3aietf%3awg%3aoauth%3a2.0%3aoob&response_type=code&scope=email%20https%3a%2f%2fwww.googleapis.com%2fauth%2fdocs.test%20https%3a%2f%2fwww.googleapis.com%2fauth%2fdrive%20https%3a%2f%2fwww.googleapis.com%2fauth%2fdrive.photos.readonly%20https%3a%2f%2fwww.googleapis.com%2fauth%2fpeopleapi.readonly\n",
            "\n",
            "Enter your authorization code:\n",
            "··········\n",
            "Mounted at /content/drive\n"
          ],
          "name": "stdout"
        }
      ]
    },
    {
      "cell_type": "code",
      "metadata": {
        "id": "YqXRLT7NR_UG",
        "colab_type": "code",
        "outputId": "2d062356-783a-4848-e806-da1689876380",
        "colab": {
          "base_uri": "https://localhost:8080/",
          "height": 34
        }
      },
      "source": [
        "import random\n",
        "x=random.random()\n",
        "print(\"The Value of x is\", x)"
      ],
      "execution_count": 3,
      "outputs": [
        {
          "output_type": "stream",
          "text": [
            "The Value of x is 0.10057148881070455\n"
          ],
          "name": "stdout"
        }
      ]
    },
    {
      "cell_type": "markdown",
      "metadata": {
        "id": "Ker61ylkR_UK",
        "colab_type": "text"
      },
      "source": [
        "Everytime you call random, you will get a new number.\n",
        "\n",
        "*Exercise 1:* Using random, write a function `generate_uniform(N, mymin, mymax)`, that returns a python list containing N random numbers between specified minimum and maximum value. Note that you may want to quickly work out on paper how to turn numbers between 0 and 1 to between other values. "
      ]
    },
    {
      "cell_type": "code",
      "metadata": {
        "id": "NzxgWIMRR_UL",
        "colab_type": "code",
        "colab": {}
      },
      "source": [
        "# Skeleton\n",
        "def generate_uniform(N,x_min,x_max):\n",
        "    out = []\n",
        "\n",
        "    for i in range(N):\n",
        "      out.append(random.randrange(x_min,x_max))\n",
        "\n",
        "\n",
        "    ### BEGIN SOLUTION\n",
        "\n",
        "    # Fill in your solution here        \n",
        "    \n",
        "    ### END SOLUTION\n",
        "    return out"
      ],
      "execution_count": 0,
      "outputs": []
    },
    {
      "cell_type": "code",
      "metadata": {
        "id": "YU1ceSAuR_UO",
        "colab_type": "code",
        "outputId": "acfae7aa-e7fb-46c1-e705-951d8852f185",
        "colab": {
          "base_uri": "https://localhost:8080/",
          "height": 139
        }
      },
      "source": [
        "# Test your solution here\n",
        "data=generate_uniform(1000,-10,10)\n",
        "print(data)\n",
        "print(\"Data Type:\", type(data))\n",
        "print(\"Data Length:\", len(data))\n",
        "if len(data)>0: \n",
        "    print(\"Type of Data Contents:\", type(data[0]))\n",
        "    print(\"Data Minimum:\", min(data))\n",
        "    print(\"Data Maximum:\", max(data))"
      ],
      "execution_count": 5,
      "outputs": [
        {
          "output_type": "stream",
          "text": [
            "[9, 7, -8, 6, -9, -10, 8, 5, 3, -1, 9, 2, -3, 1, -5, -9, -7, -2, 1, -9, 0, 6, 1, 8, -8, 1, 1, -8, 2, 3, -9, -5, 0, -4, 4, 8, -3, -6, 6, -3, 8, 1, -3, 5, -10, -8, -10, 1, -1, -5, 5, 4, 1, 8, 9, -10, -8, -7, -1, -8, -9, -2, -1, 0, -4, -4, 5, 9, 5, -7, -1, 5, -8, 3, -4, -6, -10, -10, 4, -9, 3, 2, 9, 8, -1, 3, 2, -8, 4, 6, -2, -1, -10, 4, -10, 1, 9, -5, -2, 2, -9, 5, 8, 0, 4, 0, -9, -9, -9, 1, 2, -8, 8, -7, 5, 4, 6, 0, -2, 0, -7, -5, 9, -7, 4, 4, 9, -1, 3, 0, -1, 7, -1, -8, -6, -7, -10, 4, -3, -7, -8, 2, -5, -4, -6, 7, 9, 6, -9, -8, 1, -10, -2, -3, -8, 3, 7, 9, 6, -2, -8, -8, 4, -5, -4, -7, 3, -8, 0, 9, -7, 6, 1, 1, -7, -4, -10, 3, 4, -5, -10, 4, -4, -1, -5, 4, -9, -5, 5, -10, -6, 0, -3, -4, 4, -1, 0, 9, -10, -4, 2, 1, -9, -7, 0, -1, -2, -10, 4, 8, -1, -2, 0, -5, -2, 0, 4, 1, -6, -4, -7, -9, -10, 5, -2, 9, 4, -10, -3, -2, -2, 1, 6, 1, 4, -3, 5, 6, -8, -10, -10, -3, 4, -1, 2, 8, -2, -4, 1, 5, 8, 6, -9, -4, -8, 9, -9, -4, 9, -3, -7, -6, -5, 2, 9, -2, 8, 5, -5, -3, 4, 0, -1, 0, 7, 8, -5, -6, 1, -8, -1, 9, 2, -6, 6, 9, -10, 3, 2, -5, 7, 8, 1, 5, 6, -6, 5, 7, 4, 9, 3, -9, -5, -10, -9, -10, 0, -1, -3, -6, -5, 9, 9, -1, 0, -4, -2, -6, -1, -3, 1, 9, -7, 8, 6, -4, 5, -3, -6, 1, -6, 2, -7, 3, -8, -10, -8, -5, -6, 8, 4, 5, -10, 9, 1, 9, 7, 6, 1, 7, -3, 3, -3, 6, 1, -8, 8, 6, -4, 8, -7, -2, -9, -3, -1, 4, -9, -6, 7, -10, -6, 9, -9, -5, -10, 1, 9, -4, -4, -3, -1, 2, 8, 4, 5, -6, 8, 3, -3, -2, 5, 1, -2, 7, -2, -1, 4, 5, -8, 8, 6, -8, -10, -10, -6, -7, -8, 9, -2, 5, -1, -6, -8, -2, 6, 0, 5, 1, -10, 6, -3, -5, -1, -5, 0, 2, -5, -5, 8, -8, -6, 5, 2, -7, 8, 4, 3, -1, -10, 9, 7, 3, -6, -4, 0, 2, -8, 5, 1, 2, -9, 5, -1, 5, 6, -5, 5, -2, 2, 0, -9, 2, -1, -9, -2, -1, 6, -9, 7, 1, -3, -7, 5, -9, -2, -8, 4, -6, -4, 4, 8, -1, -4, -9, 4, -4, 5, 9, -6, 3, -2, -6, -6, 9, -2, -5, 8, -5, 6, 0, -6, -3, 1, -10, -5, 9, -8, -9, -2, -8, 3, 5, -9, 7, -3, 0, -8, 6, -4, 0, -9, 1, -6, -3, 1, -8, 0, -5, 9, 9, 7, -10, -8, 3, -5, 0, -10, -9, 8, -8, -2, -9, 4, -9, -5, -4, 5, 8, 1, 4, 1, 4, -10, 4, -10, -4, 6, 5, -3, -1, 4, -2, -1, 5, -3, 9, 1, 4, -1, -5, 8, -5, 5, -1, 5, -3, -2, 2, -4, -10, 5, -4, 3, 6, -3, -10, -8, -6, 0, 4, 7, 4, 4, 8, 7, 1, -4, -7, -2, -6, 9, 9, 0, -3, 6, 0, -4, 5, -2, -8, 2, 0, -2, 0, -4, -10, 1, 6, 9, 1, 8, -8, -9, -9, -4, 8, 9, -4, 1, -6, -6, -2, 5, -3, -3, -7, -1, 9, 3, 9, 7, 8, 5, -8, -4, 6, 3, 7, 4, 9, -8, 6, 9, -8, -6, -7, 8, -7, -4, 3, -9, -7, -6, -9, 6, 0, 3, 3, -1, -2, -9, -5, -8, -1, 5, 1, 0, -4, -9, 5, 2, -7, 3, -5, -8, 2, -1, -4, -1, -1, 4, 3, -9, -5, 5, 6, -8, -5, -6, -8, 8, -4, 2, 6, 7, -1, 1, 4, 2, 6, 4, -10, 6, -5, 2, 1, 8, 4, -7, 8, 1, -6, 2, 4, -10, -1, 5, -1, -8, -7, -3, 3, 2, 1, -5, -7, -4, 1, -7, 0, -3, 0, -7, 5, -2, 1, 1, 8, 7, -1, -6, -7, -1, 6, -6, -10, -7, 2, -10, -3, 9, -6, -8, 4, 1, -4, -5, -2, -3, -5, 1, 7, 1, -1, 8, -7, -4, 3, -6, 8, 8, -7, 1, -7, 3, 5, -9, -10, -8, -4, 4, -9, -7, 1, -6, -7, 6, -5, 4, -9, -10, 8, -1, -3, 1, -6, -2, 7, 5, -6, -10, 5, -1, 5, 2, 4, -8, -5, -7, 6, 2, -10, 7, 6, -3, 2, 8, -3, 4, 4, 0, 6, 9, 2, 8, 9, -8, -4, 9, -4, -9, 5, 2, 7, -3, -8, 1, -2, 1, -4, -6, -10, -7, 0, -10, 1, 9, 2, 0, 2, 3, 7, 6, 1, -6, 9, -2, -9, -1, 9, 3, -8, -5, 0, -10, -10, -2, 4, -1, -5, -1, 8, -4, -4, 4, -9, -8, -7, 3, 2, 2, -9, -5, -2, -5, 8, 6, 7, 4, -9, -2, -6, 1, -9, -1, 4, -8, 8, -2, 2, 3, -2, 2, -7, -7, 4, 8, 3, -7, 5, -4, -1, 4, 1, -6, 3, -6, 8, -5, 6, 2, -4, 4, -3, -9, 3, -3, -8, 9, 8, 9, 0, -9, 7, -6, 0, -3, -10, -9, 0, -4, 9, -1, -2, -9, -7, -8, 9, -9, 3, 2, 9, 3, -8, 2, 1, 6, 3, 1, 2, 2, 0, 1, 5, -8, -2, -2, -8, -7, -10, 8, -9, 3, -1, 9, -3, 9, -8, 3, -4, 3, 2, 1, 9, 1, 0, 1, 8, -8, -3]\n",
            "Data Type: <class 'list'>\n",
            "Data Length: 1000\n",
            "Type of Data Contents: <class 'int'>\n",
            "Data Minimum: -10\n",
            "Data Maximum: 9\n"
          ],
          "name": "stdout"
        }
      ]
    },
    {
      "cell_type": "markdown",
      "metadata": {
        "id": "6C1BlyXQR_UR",
        "colab_type": "text"
      },
      "source": [
        "*Exercise 2a:* \n",
        "Write a function that computes the mean of values in a list."
      ]
    },
    {
      "cell_type": "code",
      "metadata": {
        "id": "joY08GajR_US",
        "colab_type": "code",
        "colab": {}
      },
      "source": [
        "# Skeleton\n",
        "def mean(Data):\n",
        "    m=0.\n",
        "    m=sum(Data)/len(Data)\n",
        "    \n",
        "    \n",
        "    ### BEGIN SOLUTION\n",
        "\n",
        "    # Fill in your solution here        \n",
        "    \n",
        "    ### END SOLUTION\n",
        "    \n",
        "    return m"
      ],
      "execution_count": 0,
      "outputs": []
    },
    {
      "cell_type": "code",
      "metadata": {
        "id": "3Xap_PV3R_UV",
        "colab_type": "code",
        "outputId": "87234dad-07c6-460b-9f49-d465177508f1",
        "colab": {
          "base_uri": "https://localhost:8080/",
          "height": 34
        }
      },
      "source": [
        "# Test your solution here\n",
        "print(\"Mean of Data:\", mean(data))"
      ],
      "execution_count": 91,
      "outputs": [
        {
          "output_type": "stream",
          "text": [
            "Mean of Data: -0.689\n"
          ],
          "name": "stdout"
        }
      ]
    },
    {
      "cell_type": "markdown",
      "metadata": {
        "id": "SwH2z0qTR_UY",
        "colab_type": "text"
      },
      "source": [
        "*Exercise 2b:* \n",
        "Write a function that computes the variance of values in a list."
      ]
    },
    {
      "cell_type": "code",
      "metadata": {
        "id": "LgrjlNaeR_UZ",
        "colab_type": "code",
        "colab": {}
      },
      "source": [
        "# Skeleton\n",
        "def variance(Data):\n",
        "    m=0.\n",
        "    mean=sum(Data)/len(Data)\n",
        "\n",
        "    m=sum((i - mean) ** 2 for i in Data) / len(Data)\n",
        "    \n",
        "\n",
        "    ### BEGIN SOLUTION\n",
        "\n",
        "    # Fill in your solution here        \n",
        "    \n",
        "    ### END SOLUTION\n",
        "    \n",
        "    return m"
      ],
      "execution_count": 0,
      "outputs": []
    },
    {
      "cell_type": "code",
      "metadata": {
        "id": "_4pQ07e2R_Ub",
        "colab_type": "code",
        "outputId": "8ab72317-f57e-4ccc-a015-a21e8849af1c",
        "colab": {
          "base_uri": "https://localhost:8080/",
          "height": 34
        }
      },
      "source": [
        "# Test your solution here\n",
        "print(\"Variance of Data:\", variance(data))"
      ],
      "execution_count": 94,
      "outputs": [
        {
          "output_type": "stream",
          "text": [
            "Variance of Data: 33.4302790000001\n"
          ],
          "name": "stdout"
        }
      ]
    },
    {
      "cell_type": "code",
      "metadata": {
        "id": "LZcfSOEwrw2w",
        "colab_type": "code",
        "outputId": "27ffbe4a-2406-4ae3-f8f4-8d80a5017868",
        "colab": {
          "base_uri": "https://localhost:8080/",
          "height": 34
        }
      },
      "source": [
        "import numpy as np\n",
        "print(np.var(data))"
      ],
      "execution_count": 93,
      "outputs": [
        {
          "output_type": "stream",
          "text": [
            "33.43027899999999\n"
          ],
          "name": "stdout"
        }
      ]
    },
    {
      "cell_type": "markdown",
      "metadata": {
        "id": "n0yQdF-uR_Ue",
        "colab_type": "text"
      },
      "source": [
        "## Histogramming"
      ]
    },
    {
      "cell_type": "markdown",
      "metadata": {
        "id": "2EI_oj_ER_Uf",
        "colab_type": "text"
      },
      "source": [
        "*Exercise 3:* Write a function that bins the data so that you can create a histogram. An example of how to implement histogramming is the following logic:\n",
        "\n",
        "* User inputs a list of values `x` and optionally `n_bins` which defaults to 10.\n",
        "* If not supplied, find the minimum and maximum (`x_min`,`x_max`) of the values in x.\n",
        "* Determine the bin size (`bin_size`) by dividing the range of the function by the number of bins.\n",
        "* Create an empty list of zeros of size `n_bins`, call it `hist`.\n",
        "* Loop over the values in `x`\n",
        "    * Loop over the values in `hist` with index `i`:\n",
        "        * If x is between `x_min+i*bin_size` and `x_min+i*2*bin_size`, increment `hist[i].` \n",
        "        * For efficiency, try to use continue to goto the next bin and data point.\n",
        "* Return `hist` and the list corresponding of the bin edges (i.e. of `x_min+i*bin_size`).    "
      ]
    },
    {
      "cell_type": "code",
      "metadata": {
        "id": "xYXsJGGHR_Uf",
        "colab_type": "code",
        "colab": {}
      },
      "source": [
        "# Solution\n",
        "def arange(x_min, x_max, steps=10):\n",
        "  step_size=(x_max-x_min)/steps\n",
        "  x=x_min\n",
        "  out=[0]\n",
        "  for i in range(steps):\n",
        "    out.append(x)\n",
        "    x+=step_size\n",
        "  return out\n",
        "\n",
        "\n",
        "def histogram(x,n_bins=10,x_min=None,x_max=None):\n",
        "    if x_min==None:\n",
        "      x_min=min(data)\n",
        "    if x_max==None:\n",
        "      x_max=max(data)\n",
        "    \n",
        "    bin_edges=arange(x_min,x_max, n_bins)\n",
        "    bin_edges.append(x_max)\n",
        "    \n",
        "    hist= [0] * n_bins\n",
        "\n",
        "    for a in x:\n",
        "      for i in range(n_bins):\n",
        "        if a>=bin_edges[i] and a<bin_edges[i+1]:\n",
        "          hist[i]+=1\n",
        "          break\n",
        "    ### BEGIN SOLUTION\n",
        "\n",
        "    # Fill in your solution here        \n",
        "    \n",
        "    ### END SOLUTION\n",
        "\n",
        "    return hist,bin_edges"
      ],
      "execution_count": 0,
      "outputs": []
    },
    {
      "cell_type": "code",
      "metadata": {
        "id": "lTnr9KD8tgVo",
        "colab_type": "code",
        "outputId": "38192252-fac1-4185-e13f-c2c966945671",
        "colab": {
          "base_uri": "https://localhost:8080/",
          "height": 51
        }
      },
      "source": [
        "hist=[0] * 3\n",
        "print(hist)\n",
        "out=[0]*3\n",
        "print(out)"
      ],
      "execution_count": 12,
      "outputs": [
        {
          "output_type": "stream",
          "text": [
            "[0, 0, 0]\n",
            "[0, 0, 0]\n"
          ],
          "name": "stdout"
        }
      ]
    },
    {
      "cell_type": "code",
      "metadata": {
        "id": "Pwl28bjCR_Ui",
        "colab_type": "code",
        "outputId": "51333838-7b8e-4d0e-e352-08d23a8d3e42",
        "colab": {
          "base_uri": "https://localhost:8080/",
          "height": 71
        }
      },
      "source": [
        "# Test your solution here\n",
        "h,b=histogram(data,10)\n",
        "print(h)\n",
        "print(b)"
      ],
      "execution_count": 13,
      "outputs": [
        {
          "output_type": "stream",
          "text": [
            "[0, 107, 107, 96, 96, 104, 111, 90, 109, 72]\n",
            "[0, -10, -8.1, -6.199999999999999, -4.299999999999999, -2.399999999999999, -0.4999999999999991, 1.4000000000000008, 3.3000000000000007, 5.200000000000001, 7.100000000000001, 9]\n"
          ],
          "name": "stdout"
        }
      ]
    },
    {
      "cell_type": "code",
      "metadata": {
        "id": "u-4lSeM7IITQ",
        "colab_type": "code",
        "colab": {
          "base_uri": "https://localhost:8080/",
          "height": 350
        },
        "outputId": "99c6cae0-e268-4cf1-a02a-cbab8e61c40a"
      },
      "source": [
        "import matplotlib.pyplot as plt\n",
        "plt.hist(histogram(data,10))"
      ],
      "execution_count": 106,
      "outputs": [
        {
          "output_type": "execute_result",
          "data": {
            "text/plain": [
              "(array([[1., 0., 0., 0., 0., 0., 1., 0., 3., 5.],\n",
              "        [8., 4., 0., 0., 0., 0., 0., 0., 0., 0.]]),\n",
              " array([-10. ,   2.1,  14.2,  26.3,  38.4,  50.5,  62.6,  74.7,  86.8,\n",
              "         98.9, 111. ]),\n",
              " <a list of 2 Lists of Patches objects>)"
            ]
          },
          "metadata": {
            "tags": []
          },
          "execution_count": 106
        },
        {
          "output_type": "display_data",
          "data": {
            "image/png": "[encoded data removed]",
            "text/plain": [
              "<Figure size 432x288 with 1 Axes>"
            ]
          },
          "metadata": {
            "tags": []
          }
        }
      ]
    },
    {
      "cell_type": "markdown",
      "metadata": {
        "id": "vAy9bGmTR_Uk",
        "colab_type": "text"
      },
      "source": [
        "*Exercise 4:* Write a function that uses the histogram function in the previous exercise to create a text-based \"graph\". For example the output could look like the following:\n",
        "```\n",
        "[  0,  1] : ######\n",
        "[  1,  2] : #####\n",
        "[  2,  3] : ######\n",
        "[  3,  4] : ####\n",
        "[  4,  5] : ####\n",
        "[  5,  6] : ######\n",
        "[  6,  7] : #####\n",
        "[  7,  8] : ######\n",
        "[  8,  9] : ####\n",
        "[  9, 10] : #####\n",
        "```\n",
        "\n",
        "Where each line corresponds to a bin and the number of `#`'s are proportional to the value of the data in the bin. "
      ]
    },
    {
      "cell_type": "code",
      "metadata": {
        "id": "rA2tKsFaR_Ul",
        "colab_type": "code",
        "colab": {}
      },
      "source": [
        "# Solution\n",
        "def draw_histogram(x,n_bins,x_min=None,x_max=None,character=\"#\",max_character_per_line=20):\n",
        "    h, b=histogram(x,n_bins)\n",
        "\n",
        "    for i in range(0,n_bins):\n",
        "      print(b[i]*character)\n",
        "\n",
        "      \n",
        "      \n",
        "\n",
        "    ### BEGIN SOLUTION\n",
        "\n",
        "    # Fill in your solution here        \n",
        "    \n",
        "    ### END SOLUTION  \n"
      ],
      "execution_count": 0,
      "outputs": []
    },
    {
      "cell_type": "code",
      "metadata": {
        "id": "B_yGbeijxmsh",
        "colab_type": "code",
        "colab": {}
      },
      "source": [
        "draw_histogram(data,20)"
      ],
      "execution_count": 0,
      "outputs": []
    },
    {
      "cell_type": "code",
      "metadata": {
        "id": "XoNy1WikR_Un",
        "colab_type": "code",
        "outputId": "30d3b335-d23c-4bc2-f19d-002249ce7832",
        "colab": {
          "base_uri": "https://localhost:8080/",
          "height": 34
        }
      },
      "source": [
        "# Test your solution here\n",
        "h,b=histogram(data,20)\n",
        "print(h)\n"
      ],
      "execution_count": 107,
      "outputs": [
        {
          "output_type": "stream",
          "text": [
            "[0, 52, 55, 61, 46, 49, 47, 51, 45, 49, 55, 45, 66, 47, 43, 58, 51, 44, 28, 51]\n"
          ],
          "name": "stdout"
        }
      ]
    },
    {
      "cell_type": "markdown",
      "metadata": {
        "id": "wu0ihO4PR_Uq",
        "colab_type": "text"
      },
      "source": [
        "## Functional Programming\n",
        "\n",
        "*Exercise 5:* Write a function the applies a booling function (that returns true/false) to every element in data, and return a list of indices of elements where the result was true. Use this function to find the indices of entries greater than 0.5. "
      ]
    },
    {
      "cell_type": "code",
      "metadata": {
        "id": "mQ_IbqZQR_Uq",
        "colab_type": "code",
        "colab": {}
      },
      "source": [
        "def where(mylist,myfunc):\n",
        "    out= []\n",
        "\n",
        "    for index, element in enumerate(mylist):\n",
        "      if myfunc(element):\n",
        "        out.append(index)\n",
        "    \n",
        "    ### BEGIN SOLUTION\n",
        "\n",
        "    # Fill in your solution here        \n",
        "    \n",
        "    ### END SOLUTION\n",
        "    \n",
        "    return out\n",
        "\n",
        "def greater_than_five(x):\n",
        "    return x>5"
      ],
      "execution_count": 0,
      "outputs": []
    },
    {
      "cell_type": "code",
      "metadata": {
        "id": "aDAf3yEkU_a2",
        "colab_type": "code",
        "colab": {}
      },
      "source": [
        " def greater_five(x):\n",
        "  out=[]\n",
        "\n",
        "  for index, element in enumerate(x):\n",
        "    if element>5:\n",
        "      out.append(index)\n",
        "\n",
        "  return out"
      ],
      "execution_count": 0,
      "outputs": []
    },
    {
      "cell_type": "code",
      "metadata": {
        "id": "yKjh5hL9VQ_2",
        "colab_type": "code",
        "colab": {
          "base_uri": "https://localhost:8080/",
          "height": 1000
        },
        "outputId": "d478ddbf-b65b-493d-be8d-e69897078d02"
      },
      "source": [
        "greater_five(data)"
      ],
      "execution_count": 45,
      "outputs": [
        {
          "output_type": "execute_result",
          "data": {
            "text/plain": [
              "[0,\n",
              " 1,\n",
              " 3,\n",
              " 6,\n",
              " 10,\n",
              " 21,\n",
              " 23,\n",
              " 35,\n",
              " 38,\n",
              " 40,\n",
              " 53,\n",
              " 54,\n",
              " 67,\n",
              " 82,\n",
              " 83,\n",
              " 89,\n",
              " 96,\n",
              " 102,\n",
              " 112,\n",
              " 116,\n",
              " 122,\n",
              " 126,\n",
              " 131,\n",
              " 145,\n",
              " 146,\n",
              " 147,\n",
              " 156,\n",
              " 157,\n",
              " 158,\n",
              " 169,\n",
              " 171,\n",
              " 197,\n",
              " 209,\n",
              " 225,\n",
              " 232,\n",
              " 237,\n",
              " 245,\n",
              " 250,\n",
              " 251,\n",
              " 255,\n",
              " 258,\n",
              " 264,\n",
              " 266,\n",
              " 274,\n",
              " 275,\n",
              " 281,\n",
              " 284,\n",
              " 285,\n",
              " 290,\n",
              " 291,\n",
              " 294,\n",
              " 297,\n",
              " 299,\n",
              " 311,\n",
              " 312,\n",
              " 321,\n",
              " 323,\n",
              " 324,\n",
              " 339,\n",
              " 343,\n",
              " 345,\n",
              " 346,\n",
              " 347,\n",
              " 349,\n",
              " 353,\n",
              " 356,\n",
              " 357,\n",
              " 359,\n",
              " 368,\n",
              " 371,\n",
              " 376,\n",
              " 382,\n",
              " 386,\n",
              " 393,\n",
              " 399,\n",
              " 400,\n",
              " 407,\n",
              " 414,\n",
              " 419,\n",
              " 428,\n",
              " 434,\n",
              " 439,\n",
              " 440,\n",
              " 454,\n",
              " 466,\n",
              " 468,\n",
              " 480,\n",
              " 487,\n",
              " 493,\n",
              " 496,\n",
              " 498,\n",
              " 505,\n",
              " 513,\n",
              " 517,\n",
              " 528,\n",
              " 529,\n",
              " 530,\n",
              " 538,\n",
              " 547,\n",
              " 556,\n",
              " 565,\n",
              " 570,\n",
              " 583,\n",
              " 590,\n",
              " 593,\n",
              " 594,\n",
              " 600,\n",
              " 601,\n",
              " 604,\n",
              " 617,\n",
              " 618,\n",
              " 620,\n",
              " 625,\n",
              " 626,\n",
              " 637,\n",
              " 639,\n",
              " 640,\n",
              " 641,\n",
              " 645,\n",
              " 647,\n",
              " 649,\n",
              " 651,\n",
              " 652,\n",
              " 656,\n",
              " 664,\n",
              " 695,\n",
              " 700,\n",
              " 703,\n",
              " 704,\n",
              " 709,\n",
              " 712,\n",
              " 716,\n",
              " 719,\n",
              " 747,\n",
              " 748,\n",
              " 753,\n",
              " 760,\n",
              " 771,\n",
              " 774,\n",
              " 779,\n",
              " 780,\n",
              " 796,\n",
              " 801,\n",
              " 807,\n",
              " 819,\n",
              " 822,\n",
              " 823,\n",
              " 826,\n",
              " 831,\n",
              " 832,\n",
              " 834,\n",
              " 835,\n",
              " 838,\n",
              " 843,\n",
              " 856,\n",
              " 861,\n",
              " 862,\n",
              " 865,\n",
              " 869,\n",
              " 881,\n",
              " 895,\n",
              " 896,\n",
              " 897,\n",
              " 907,\n",
              " 916,\n",
              " 927,\n",
              " 929,\n",
              " 938,\n",
              " 939,\n",
              " 940,\n",
              " 943,\n",
              " 951,\n",
              " 957,\n",
              " 961,\n",
              " 966,\n",
              " 980,\n",
              " 984,\n",
              " 986,\n",
              " 993,\n",
              " 997]"
            ]
          },
          "metadata": {
            "tags": []
          },
          "execution_count": 45
        }
      ]
    },
    {
      "cell_type": "code",
      "metadata": {
        "id": "UF0qIvNIR_Ut",
        "colab_type": "code",
        "colab": {
          "base_uri": "https://localhost:8080/",
          "height": 1000
        },
        "outputId": "61da7731-30bc-49ed-ef6b-46488557af7f"
      },
      "source": [
        "# Test your solution here\n",
        "print(data)\n",
        "where(data, greater_than_five)"
      ],
      "execution_count": 40,
      "outputs": [
        {
          "output_type": "execute_result",
          "data": {
            "text/plain": [
              "[0,\n",
              " 1,\n",
              " 3,\n",
              " 6,\n",
              " 10,\n",
              " 21,\n",
              " 23,\n",
              " 35,\n",
              " 38,\n",
              " 40,\n",
              " 53,\n",
              " 54,\n",
              " 67,\n",
              " 82,\n",
              " 83,\n",
              " 89,\n",
              " 96,\n",
              " 102,\n",
              " 112,\n",
              " 116,\n",
              " 122,\n",
              " 126,\n",
              " 131,\n",
              " 145,\n",
              " 146,\n",
              " 147,\n",
              " 156,\n",
              " 157,\n",
              " 158,\n",
              " 169,\n",
              " 171,\n",
              " 197,\n",
              " 209,\n",
              " 225,\n",
              " 232,\n",
              " 237,\n",
              " 245,\n",
              " 250,\n",
              " 251,\n",
              " 255,\n",
              " 258,\n",
              " 264,\n",
              " 266,\n",
              " 274,\n",
              " 275,\n",
              " 281,\n",
              " 284,\n",
              " 285,\n",
              " 290,\n",
              " 291,\n",
              " 294,\n",
              " 297,\n",
              " 299,\n",
              " 311,\n",
              " 312,\n",
              " 321,\n",
              " 323,\n",
              " 324,\n",
              " 339,\n",
              " 343,\n",
              " 345,\n",
              " 346,\n",
              " 347,\n",
              " 349,\n",
              " 353,\n",
              " 356,\n",
              " 357,\n",
              " 359,\n",
              " 368,\n",
              " 371,\n",
              " 376,\n",
              " 382,\n",
              " 386,\n",
              " 393,\n",
              " 399,\n",
              " 400,\n",
              " 407,\n",
              " 414,\n",
              " 419,\n",
              " 428,\n",
              " 434,\n",
              " 439,\n",
              " 440,\n",
              " 454,\n",
              " 466,\n",
              " 468,\n",
              " 480,\n",
              " 487,\n",
              " 493,\n",
              " 496,\n",
              " 498,\n",
              " 505,\n",
              " 513,\n",
              " 517,\n",
              " 528,\n",
              " 529,\n",
              " 530,\n",
              " 538,\n",
              " 547,\n",
              " 556,\n",
              " 565,\n",
              " 570,\n",
              " 583,\n",
              " 590,\n",
              " 593,\n",
              " 594,\n",
              " 600,\n",
              " 601,\n",
              " 604,\n",
              " 617,\n",
              " 618,\n",
              " 620,\n",
              " 625,\n",
              " 626,\n",
              " 637,\n",
              " 639,\n",
              " 640,\n",
              " 641,\n",
              " 645,\n",
              " 647,\n",
              " 649,\n",
              " 651,\n",
              " 652,\n",
              " 656,\n",
              " 664,\n",
              " 695,\n",
              " 700,\n",
              " 703,\n",
              " 704,\n",
              " 709,\n",
              " 712,\n",
              " 716,\n",
              " 719,\n",
              " 747,\n",
              " 748,\n",
              " 753,\n",
              " 760,\n",
              " 771,\n",
              " 774,\n",
              " 779,\n",
              " 780,\n",
              " 796,\n",
              " 801,\n",
              " 807,\n",
              " 819,\n",
              " 822,\n",
              " 823,\n",
              " 826,\n",
              " 831,\n",
              " 832,\n",
              " 834,\n",
              " 835,\n",
              " 838,\n",
              " 843,\n",
              " 856,\n",
              " 861,\n",
              " 862,\n",
              " 865,\n",
              " 869,\n",
              " 881,\n",
              " 895,\n",
              " 896,\n",
              " 897,\n",
              " 907,\n",
              " 916,\n",
              " 927,\n",
              " 929,\n",
              " 938,\n",
              " 939,\n",
              " 940,\n",
              " 943,\n",
              " 951,\n",
              " 957,\n",
              " 961,\n",
              " 966,\n",
              " 980,\n",
              " 984,\n",
              " 986,\n",
              " 993,\n",
              " 997]"
            ]
          },
          "metadata": {
            "tags": []
          },
          "execution_count": 40
        }
      ]
    },
    {
      "cell_type": "markdown",
      "metadata": {
        "id": "kuEPYBkGR_Uw",
        "colab_type": "text"
      },
      "source": [
        "*Exercise 6:* The inrange(mymin,mymax) function below returns a function that tests if it's input is between the specified values. Write corresponding functions that test:\n",
        "* Even\n",
        "* Odd\n",
        "* Greater than\n",
        "* Less than\n",
        "* Equal\n",
        "* Divisible by"
      ]
    },
    {
      "cell_type": "code",
      "metadata": {
        "id": "AmP9x8O7R_Uw",
        "colab_type": "code",
        "colab": {
          "base_uri": "https://localhost:8080/",
          "height": 85
        },
        "outputId": "4731f7a0-be9e-47df-9933-ddb532b24d5b"
      },
      "source": [
        "def in_range(mymin,mymax):\n",
        "    def between(x):\n",
        "        return x<mymax and x>=mymin\n",
        "    return between\n",
        "\n",
        "# Examples:\n",
        "F1=in_range(0,10)\n",
        "F2=in_range(10,20)\n",
        "\n",
        "# Test of in_range\n",
        "print(F1(0), F1(1), F1(10), F1(15), F1(20))\n",
        "print(F2(0), F2(1), F2(10), F2(15), F2(20))\n",
        "\n",
        "print(\"Number of Entries passing F1:\", len(where(data,F1)))\n",
        "print(\"Number of Entries passing F2:\", len(where(data,F2)))"
      ],
      "execution_count": 46,
      "outputs": [
        {
          "output_type": "stream",
          "text": [
            "True True False False False\n",
            "False False True True False\n",
            "Number of Entries passing F1: 490\n",
            "Number of Entries passing F2: 0\n"
          ],
          "name": "stdout"
        }
      ]
    },
    {
      "cell_type": "code",
      "metadata": {
        "id": "Diz9mY84R_Uz",
        "colab_type": "code",
        "colab": {}
      },
      "source": [
        "### BEGIN SOLUTION\n",
        "def is_even(x):\n",
        "  return x%2==0\n",
        "\n",
        "def is_odd(x):\n",
        "  return x%2!=0\n",
        "\n",
        "def is_greater_than(a):\n",
        "  def datas(x):\n",
        "    return x>a\n",
        "  return datas\n",
        "\n",
        "\n",
        "def is_less_than(a):\n",
        "  def datas(x):\n",
        "    return x<a\n",
        "  return datas\n",
        "\n",
        "def is_equal_to(a):\n",
        "  def datas(x):\n",
        "    return x==a\n",
        "  return datas\n",
        "\n",
        "def is_divisible_by(a):\n",
        "  def datas(x):\n",
        "    return x%a==0\n",
        "  return datas\n",
        "\n",
        "\n",
        "\n",
        "    # Fill in your solution here        \n",
        "    \n",
        "### END SOLUTION"
      ],
      "execution_count": 0,
      "outputs": []
    },
    {
      "cell_type": "code",
      "metadata": {
        "id": "V4MOmt9-R_U1",
        "colab_type": "code",
        "colab": {
          "base_uri": "https://localhost:8080/",
          "height": 119
        },
        "outputId": "e95046dc-d80a-408c-bacb-ab8e4ae7363f"
      },
      "source": [
        "# Test your solution\n",
        "print(\"# of entries that are even:\", len(where(data, is_even)))\n",
        "print(\"# of entries that are odd:\", len(where(data, is_odd)))\n",
        "print(\"# of entries that are greater than 5:\", len(where(data, is_greater_than(5))))\n",
        "print(\"# of entries that are less than 5:\", len(where(data, is_less_than(5))))\n",
        "print(\"# of entries that are equal to 5:\", len(where(data, is_equal_to(5))))\n",
        "print(\"# of entries that are divisible by 3:\", len(where(data, is_divisible_by(3))))"
      ],
      "execution_count": 59,
      "outputs": [
        {
          "output_type": "stream",
          "text": [
            "# of entries that are even: 507\n",
            "# of entries that are odd: 493\n",
            "# of entries that are greater than 5: 180\n",
            "# of entries that are less than 5: 769\n",
            "# of entries that are equal to 5: 51\n",
            "# of entries that are divisible by 3: 338\n"
          ],
          "name": "stdout"
        }
      ]
    },
    {
      "cell_type": "code",
      "metadata": {
        "id": "kymwr8bWYouF",
        "colab_type": "code",
        "colab": {
          "base_uri": "https://localhost:8080/",
          "height": 1000
        },
        "outputId": "13e6a2db-2006-40a4-8157-e0a5293d2b19"
      },
      "source": [
        "where(data,is_greater_than(5))"
      ],
      "execution_count": 58,
      "outputs": [
        {
          "output_type": "execute_result",
          "data": {
            "text/plain": [
              "[0,\n",
              " 1,\n",
              " 3,\n",
              " 6,\n",
              " 10,\n",
              " 21,\n",
              " 23,\n",
              " 35,\n",
              " 38,\n",
              " 40,\n",
              " 53,\n",
              " 54,\n",
              " 67,\n",
              " 82,\n",
              " 83,\n",
              " 89,\n",
              " 96,\n",
              " 102,\n",
              " 112,\n",
              " 116,\n",
              " 122,\n",
              " 126,\n",
              " 131,\n",
              " 145,\n",
              " 146,\n",
              " 147,\n",
              " 156,\n",
              " 157,\n",
              " 158,\n",
              " 169,\n",
              " 171,\n",
              " 197,\n",
              " 209,\n",
              " 225,\n",
              " 232,\n",
              " 237,\n",
              " 245,\n",
              " 250,\n",
              " 251,\n",
              " 255,\n",
              " 258,\n",
              " 264,\n",
              " 266,\n",
              " 274,\n",
              " 275,\n",
              " 281,\n",
              " 284,\n",
              " 285,\n",
              " 290,\n",
              " 291,\n",
              " 294,\n",
              " 297,\n",
              " 299,\n",
              " 311,\n",
              " 312,\n",
              " 321,\n",
              " 323,\n",
              " 324,\n",
              " 339,\n",
              " 343,\n",
              " 345,\n",
              " 346,\n",
              " 347,\n",
              " 349,\n",
              " 353,\n",
              " 356,\n",
              " 357,\n",
              " 359,\n",
              " 368,\n",
              " 371,\n",
              " 376,\n",
              " 382,\n",
              " 386,\n",
              " 393,\n",
              " 399,\n",
              " 400,\n",
              " 407,\n",
              " 414,\n",
              " 419,\n",
              " 428,\n",
              " 434,\n",
              " 439,\n",
              " 440,\n",
              " 454,\n",
              " 466,\n",
              " 468,\n",
              " 480,\n",
              " 487,\n",
              " 493,\n",
              " 496,\n",
              " 498,\n",
              " 505,\n",
              " 513,\n",
              " 517,\n",
              " 528,\n",
              " 529,\n",
              " 530,\n",
              " 538,\n",
              " 547,\n",
              " 556,\n",
              " 565,\n",
              " 570,\n",
              " 583,\n",
              " 590,\n",
              " 593,\n",
              " 594,\n",
              " 600,\n",
              " 601,\n",
              " 604,\n",
              " 617,\n",
              " 618,\n",
              " 620,\n",
              " 625,\n",
              " 626,\n",
              " 637,\n",
              " 639,\n",
              " 640,\n",
              " 641,\n",
              " 645,\n",
              " 647,\n",
              " 649,\n",
              " 651,\n",
              " 652,\n",
              " 656,\n",
              " 664,\n",
              " 695,\n",
              " 700,\n",
              " 703,\n",
              " 704,\n",
              " 709,\n",
              " 712,\n",
              " 716,\n",
              " 719,\n",
              " 747,\n",
              " 748,\n",
              " 753,\n",
              " 760,\n",
              " 771,\n",
              " 774,\n",
              " 779,\n",
              " 780,\n",
              " 796,\n",
              " 801,\n",
              " 807,\n",
              " 819,\n",
              " 822,\n",
              " 823,\n",
              " 826,\n",
              " 831,\n",
              " 832,\n",
              " 834,\n",
              " 835,\n",
              " 838,\n",
              " 843,\n",
              " 856,\n",
              " 861,\n",
              " 862,\n",
              " 865,\n",
              " 869,\n",
              " 881,\n",
              " 895,\n",
              " 896,\n",
              " 897,\n",
              " 907,\n",
              " 916,\n",
              " 927,\n",
              " 929,\n",
              " 938,\n",
              " 939,\n",
              " 940,\n",
              " 943,\n",
              " 951,\n",
              " 957,\n",
              " 961,\n",
              " 966,\n",
              " 980,\n",
              " 984,\n",
              " 986,\n",
              " 993,\n",
              " 997]"
            ]
          },
          "metadata": {
            "tags": []
          },
          "execution_count": 58
        }
      ]
    },
    {
      "cell_type": "markdown",
      "metadata": {
        "id": "86mCI-xXR_U3",
        "colab_type": "text"
      },
      "source": [
        "*Exercise 7:* Repeat the previous exercise using `lambda` and the built-in python functions sum and map instead of your solution above. "
      ]
    },
    {
      "cell_type": "code",
      "metadata": {
        "id": "Exo45cPlR_U4",
        "colab_type": "code",
        "colab": {}
      },
      "source": [
        "### BEGIN SOLUTION\n",
        "\n",
        "def even_lambda(x):\n",
        "  return sum(map(lambda x:x%2==0, x))\n",
        "\n",
        "def odd_lambda(x):\n",
        "  return sum(map(lambda x: x%2!=0, x))\n",
        "\n",
        "    # Fill in your solution here        \n",
        "    \n",
        "### END SOLUTION"
      ],
      "execution_count": 0,
      "outputs": []
    },
    {
      "cell_type": "code",
      "metadata": {
        "id": "4Qd8ZXPWZgAO",
        "colab_type": "code",
        "colab": {
          "base_uri": "https://localhost:8080/",
          "height": 119
        },
        "outputId": "8bc5c642-188f-4a0b-93a6-65f08bd1d249"
      },
      "source": [
        "print(\"# of entries that are even:\", even_lambda(data))\n",
        "print(\"# of entries that are odd:\", odd_lambda(data))\n",
        "print(\"# of entries that are greater than 5:\", sum(map(lambda x: x>5, data)))\n",
        "print(\"# of entries that are less than 5:\", sum(map(lambda x: x<5, data)))\n",
        "print(\"# of entries that are equal to 5:\", sum(map(lambda x: x==5, data)))\n",
        "print(\"# of entries that are divisible by 3:\", sum(map(lambda x: x%3==0, data)))"
      ],
      "execution_count": 79,
      "outputs": [
        {
          "output_type": "stream",
          "text": [
            "# of entries that are even: 507\n",
            "# of entries that are odd: 493\n",
            "# of entries that are greater than 5: 180\n",
            "# of entries that are less than 5: 769\n",
            "# of entries that are equal to 5: 51\n",
            "# of entries that are divisible by 3: 338\n"
          ],
          "name": "stdout"
        }
      ]
    },
    {
      "cell_type": "markdown",
      "metadata": {
        "id": "PglELr9_R_U7",
        "colab_type": "text"
      },
      "source": [
        "## Monte Carlo\n",
        "\n",
        "*Exercise 7:* Write a \"generator\" function called `generate_function(func,x_min,x_max,N)`, that instead of generating a flat distribution, generates a distribution with functional form coded in `func`. Note that `func` will always be > 0.  \n",
        "\n",
        "Use the test function below and your histogramming functions above to demonstrate that your generator is working properly.\n",
        "\n",
        "Hint: A simple, but slow, solution is to a draw random number test_x within the specified range and another number p between the min and max of the function (which you will have to determine). If p<=function(test_x), then place test_x on the output. If not, repeat the process, drawing two new numbers. Repeat until you have the specified number of generated numbers, N. For this problem, it's OK to determine the min and max by numerically sampling the function.  "
      ]
    },
    {
      "cell_type": "code",
      "metadata": {
        "id": "xjcJ4i3qR_U7",
        "colab_type": "code",
        "colab": {}
      },
      "source": [
        "def generate_function(func,x_min,x_max,N=1000):\n",
        "    out = list()\n",
        "\n",
        "    x_scan=arange(x_min, x_max, 100)\n",
        "    y_scan=list(map(func, x_scan))\n",
        "    y_min=min(y_scan)\n",
        "    y_max=max(y_scan)\n",
        "\n",
        "    while len(out)<N:\n",
        "      x=x_min+(x_max-x_min)*random.random()\n",
        "      y=y_min+(y_max-y_min)*random.random()\n",
        "\n",
        "      if y<=func(x):\n",
        "        out.append(x)\n",
        "        \n",
        "    ### BEGIN SOLUTION\n",
        "\n",
        "    # Fill in your solution here        \n",
        "    \n",
        "    ### END SOLUTION\n",
        "    \n",
        "    return out"
      ],
      "execution_count": 0,
      "outputs": []
    },
    {
      "cell_type": "code",
      "metadata": {
        "id": "XDkQyricR_U9",
        "colab_type": "code",
        "colab": {}
      },
      "source": [
        "# A test function\n",
        "def test_func(x,a=1,b=1):\n",
        "    return abs(a*x+b)\n"
      ],
      "execution_count": 0,
      "outputs": []
    },
    {
      "cell_type": "code",
      "metadata": {
        "id": "V_xMExfKkoha",
        "colab_type": "code",
        "colab": {
          "base_uri": "https://localhost:8080/",
          "height": 238
        },
        "outputId": "1ad184fa-408d-4412-bda5-212a45ae6c80"
      },
      "source": [
        "histogram(generate_function(test_func,0,10,100))"
      ],
      "execution_count": 82,
      "outputs": [
        {
          "output_type": "execute_result",
          "data": {
            "text/plain": [
              "([0, 0, 0, 0, 0, 0, 3, 9, 15, 29],\n",
              " [0,\n",
              "  -10,\n",
              "  -8.1,\n",
              "  -6.199999999999999,\n",
              "  -4.299999999999999,\n",
              "  -2.399999999999999,\n",
              "  -0.4999999999999991,\n",
              "  1.4000000000000008,\n",
              "  3.3000000000000007,\n",
              "  5.200000000000001,\n",
              "  7.100000000000001,\n",
              "  9])"
            ]
          },
          "metadata": {
            "tags": []
          },
          "execution_count": 82
        }
      ]
    },
    {
      "cell_type": "code",
      "metadata": {
        "id": "2bNJ5ODOloF9",
        "colab_type": "code",
        "colab": {
          "base_uri": "https://localhost:8080/",
          "height": 350
        },
        "outputId": "62d4a828-f12a-439c-f21f-397e9728f55e"
      },
      "source": [
        "plt.hist(generate_function(test_func,0,10,100))"
      ],
      "execution_count": 83,
      "outputs": [
        {
          "output_type": "execute_result",
          "data": {
            "text/plain": [
              "(array([ 2.,  4.,  7.,  9., 11.,  5., 12., 12., 18., 20.]),\n",
              " array([0.93707086, 1.84266811, 2.74826536, 3.65386261, 4.55945986,\n",
              "        5.46505711, 6.37065436, 7.27625161, 8.18184885, 9.0874461 ,\n",
              "        9.99304335]),\n",
              " <a list of 10 Patch objects>)"
            ]
          },
          "metadata": {
            "tags": []
          },
          "execution_count": 83
        },
        {
          "output_type": "display_data",
          "data": {
            "image/png": "[encoded data removed]",
            "text/plain": [
              "<Figure size 432x288 with 1 Axes>"
            ]
          },
          "metadata": {
            "tags": []
          }
        }
      ]
    },
    {
      "cell_type": "markdown",
      "metadata": {
        "id": "VZzVx1i_R_U_",
        "colab_type": "text"
      },
      "source": [
        "*Exercise 8:* Use your function to generate 1000 numbers that are normal distributed, using the `gaussian` function below. Confirm the mean and variance of the data is close to the mean and variance you specify when building the Gaussian. Histogram the data. "
      ]
    },
    {
      "cell_type": "code",
      "metadata": {
        "id": "AhSTTxTcR_U_",
        "colab_type": "code",
        "colab": {}
      },
      "source": [
        "import math\n",
        "\n",
        "def gaussian(mean, sigma):\n",
        "    def f(x):\n",
        "        return math.exp(-((x-mean)**2)/(2*sigma**2))/math.sqrt(math.pi*sigma)\n",
        "    return f\n",
        "\n",
        "# Example Instantiation\n",
        "g1=gaussian(0,1)\n",
        "g2=gaussian(10,3)"
      ],
      "execution_count": 0,
      "outputs": []
    },
    {
      "cell_type": "code",
      "metadata": {
        "id": "W-NKDlXklxzt",
        "colab_type": "code",
        "colab": {
          "base_uri": "https://localhost:8080/",
          "height": 351
        },
        "outputId": "0725df0e-a1d1-484d-919a-f8b578163db6"
      },
      "source": [
        "g1info=generate_function(g1,0,10,1000)\n",
        "plt.hist(g1info)"
      ],
      "execution_count": 86,
      "outputs": [
        {
          "output_type": "execute_result",
          "data": {
            "text/plain": [
              "(array([242., 234., 194., 137.,  84.,  51.,  34.,  14.,   6.,   4.]),\n",
              " array([3.11044595e-03, 3.23691713e-01, 6.44272980e-01, 9.64854247e-01,\n",
              "        1.28543551e+00, 1.60601678e+00, 1.92659805e+00, 2.24717931e+00,\n",
              "        2.56776058e+00, 2.88834185e+00, 3.20892312e+00]),\n",
              " <a list of 10 Patch objects>)"
            ]
          },
          "metadata": {
            "tags": []
          },
          "execution_count": 86
        },
        {
          "output_type": "display_data",
          "data": {
            "image/png": "[encoded data removed]",
            "text/plain": [
              "<Figure size 432x288 with 1 Axes>"
            ]
          },
          "metadata": {
            "tags": []
          }
        }
      ]
    },
    {
      "cell_type": "code",
      "metadata": {
        "id": "BzI-XSkkmBLH",
        "colab_type": "code",
        "colab": {
          "base_uri": "https://localhost:8080/",
          "height": 350
        },
        "outputId": "9c0576ec-2195-40b3-e5ed-6f230cab6229"
      },
      "source": [
        "g2info=generate_function(g2,5,15,1000)\n",
        "plt.hist(g2info)"
      ],
      "execution_count": 89,
      "outputs": [
        {
          "output_type": "execute_result",
          "data": {
            "text/plain": [
              "(array([ 59.,  79., 101., 114., 140., 143., 146., 103.,  68.,  47.]),\n",
              " array([ 5.09776993,  6.08298058,  7.06819123,  8.05340188,  9.03861253,\n",
              "        10.02382317, 11.00903382, 11.99424447, 12.97945512, 13.96466577,\n",
              "        14.94987642]),\n",
              " <a list of 10 Patch objects>)"
            ]
          },
          "metadata": {
            "tags": []
          },
          "execution_count": 89
        },
        {
          "output_type": "display_data",
          "data": {
            "image/png": "[encoded data removed]",
            "text/plain": [
              "<Figure size 432x288 with 1 Axes>"
            ]
          },
          "metadata": {
            "tags": []
          }
        }
      ]
    },
    {
      "cell_type": "code",
      "metadata": {
        "id": "HXCbkQiImYvc",
        "colab_type": "code",
        "colab": {
          "base_uri": "https://localhost:8080/",
          "height": 51
        },
        "outputId": "57fb51a1-87da-47a5-c1b0-03f4e16e25ca"
      },
      "source": [
        "print(mean(g1info), variance(g1info))\n",
        "print(mean(g2info), variance(g2info))"
      ],
      "execution_count": 97,
      "outputs": [
        {
          "output_type": "stream",
          "text": [
            "0.8018799043020864 0.3600985339731254\n",
            "9.993224116867157 5.699140138239852\n"
          ],
          "name": "stdout"
        }
      ]
    },
    {
      "cell_type": "markdown",
      "metadata": {
        "id": "09uXtZ_7R_VB",
        "colab_type": "text"
      },
      "source": [
        "*Exercise 9:* Combine your `generate_function`, `where`, and `in_range` functions above to create an integrate function. Use your integrate function to show that approximately 68% of Normal distribution is within one variance."
      ]
    },
    {
      "cell_type": "code",
      "metadata": {
        "id": "QPjfq47KR_VC",
        "colab_type": "code",
        "colab": {}
      },
      "source": [
        "def integrate(func, x_min, x_max, n_points=1000):\n",
        "    out = list()\n",
        "    x_scan = arange(x_min,x_max,100)\n",
        "    y_scan = list(map(func,x_scan))\n",
        "    y_min = min(y_scan)\n",
        "    y_max = max(y_scan)\n",
        "\n",
        "    count=0\n",
        "    while len(out)<n_points:\n",
        "        count+=1\n",
        "        x = x_min + (x_max-x_min)*random.random()\n",
        "        y = y_min + (y_max-y_min)*random.random()\n",
        "        \n",
        "        if y<=func(x):\n",
        "            out.append(x)\n",
        "\n",
        "    integral=float(len(out))/(count)\n",
        "    return integral"
      ],
      "execution_count": 0,
      "outputs": []
    },
    {
      "cell_type": "code",
      "metadata": {
        "id": "XZy1jiOWR_VE",
        "colab_type": "code",
        "colab": {
          "base_uri": "https://localhost:8080/",
          "height": 34
        },
        "outputId": "03b68df3-2def-4f91-eaef-84605e754cff"
      },
      "source": [
        "integrate(g1,-1,1)"
      ],
      "execution_count": 100,
      "outputs": [
        {
          "output_type": "execute_result",
          "data": {
            "text/plain": [
              "0.6369426751592356"
            ]
          },
          "metadata": {
            "tags": []
          },
          "execution_count": 100
        }
      ]
    },
    {
      "cell_type": "code",
      "metadata": {
        "id": "Cpu5GautqscU",
        "colab_type": "code",
        "colab": {}
      },
      "source": [
        "#Some solutions are from Dr. Farbin explaining them in the online class lectures"
      ],
      "execution_count": 0,
      "outputs": []
    }
  ]
}