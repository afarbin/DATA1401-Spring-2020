{
  "nbformat": 4,
  "nbformat_minor": 0,
  "metadata": {
    "kernelspec": {
      "display_name": "Python 3",
      "language": "python",
      "name": "python3"
    },
    "language_info": {
      "codemirror_mode": {
        "name": "ipython",
        "version": 3
      },
      "file_extension": ".py",
      "mimetype": "text/x-python",
      "name": "python",
      "nbconvert_exporter": "python",
      "pygments_lexer": "ipython3",
      "version": "3.8.1"
    },
    "colab": {
      "name": "Copy of Lab-4.ipynb",
      "provenance": []
    }
  },
  "cells": [
    {
      "cell_type": "markdown",
      "metadata": {
        "id": "NoBj18wB_1fa",
        "colab_type": "text"
      },
      "source": [
        "## Lab 4\n",
        "\n",
        "[![Open In Colab](https://colab.research.google.com/assets/colab-badge.svg)](https://colab.research.google.com/github//afarbin/DATA1401-Spring-2020/blob/master/Labs/Lab-4/Lab-4.ipynb)\n",
        "\n",
        "In this lab we will become familiar with distributions, histograms, and functional programming. \n",
        "\n",
        "\n",
        "### Uniform Distribution\n",
        "Lets start with generating some fake random data. You can get a random number between 0 and 1 using the python random module as follow:"
      ]
    },
    {
      "cell_type": "code",
      "metadata": {
        "id": "TmrUVAv1_1ff",
        "colab_type": "code",
        "outputId": "588189e3-fb26-49e2-9163-1aa3ccf64718",
        "colab": {
          "base_uri": "https://localhost:8080/",
          "height": 34
        }
      },
      "source": [
        "import random\n",
        "x=random.random()\n",
        "print(\"The Value of x is\", x)"
      ],
      "execution_count": 1,
      "outputs": [
        {
          "output_type": "stream",
          "text": [
            "The Value of x is 0.04751343885168802\n"
          ],
          "name": "stdout"
        }
      ]
    },
    {
      "cell_type": "markdown",
      "metadata": {
        "id": "NtxsuHTs_1fw",
        "colab_type": "text"
      },
      "source": [
        "Everytime you call random, you will get a new number.\n",
        "\n",
        "*Exercise 1:* Using random, write a function `generate_uniform(N, mymin, mymax)`, that returns a python list containing N random numbers between specified minimum and maximum value. Note that you may want to quickly work out on paper how to turn numbers between 0 and 1 to between other values. "
      ]
    },
    {
      "cell_type": "code",
      "metadata": {
        "id": "Z9GzQB02_1fy",
        "colab_type": "code",
        "colab": {}
      },
      "source": [
        "# Skeleton\n",
        "def generate_uniform(N,x_min,x_max):\n",
        "    out = []\n",
        "    ### BEGIN SOLUTION\n",
        "\n",
        "    while len(out) < N:\n",
        "      out.append(random.uniform(x_min, x_max))      \n",
        "    \n",
        "    ### END SOLUTION\n",
        "    return out"
      ],
      "execution_count": 0,
      "outputs": []
    },
    {
      "cell_type": "code",
      "metadata": {
        "id": "eiWTH4-H_1f6",
        "colab_type": "code",
        "outputId": "1b0f6d0c-dfcc-4791-86d1-df408908062e",
        "colab": {
          "base_uri": "https://localhost:8080/",
          "height": 102
        }
      },
      "source": [
        "# Test your solution here\n",
        "data=generate_uniform(1000,-10,10)\n",
        "print(\"Data Type:\", type(data))\n",
        "print(\"Data Length:\", len(data))\n",
        "if len(data)>0: \n",
        "    print(\"Type of Data Contents:\", type(data[0]))\n",
        "    print(\"Data Minimum:\", min(data))\n",
        "    print(\"Data Maximum:\", max(data))"
      ],
      "execution_count": 3,
      "outputs": [
        {
          "output_type": "stream",
          "text": [
            "Data Type: <class 'list'>\n",
            "Data Length: 1000\n",
            "Type of Data Contents: <class 'float'>\n",
            "Data Minimum: -9.996467198995925\n",
            "Data Maximum: 9.96441797265739\n"
          ],
          "name": "stdout"
        }
      ]
    },
    {
      "cell_type": "markdown",
      "metadata": {
        "id": "VOUqBefH_1gA",
        "colab_type": "text"
      },
      "source": [
        "*Exercise 2a:* \n",
        "Write a function that computes the mean of values in a list."
      ]
    },
    {
      "cell_type": "code",
      "metadata": {
        "id": "6sDXXVHB_1gE",
        "colab_type": "code",
        "colab": {}
      },
      "source": [
        "# Skeleton\n",
        "def mean(Data):\n",
        "    m=0.\n",
        "    \n",
        "    ### BEGIN SOLUTION\n",
        "    \n",
        "    m = sum(Data) / len(Data)\n",
        "    \n",
        "    ### END SOLUTION\n",
        "    \n",
        "    return m"
      ],
      "execution_count": 0,
      "outputs": []
    },
    {
      "cell_type": "code",
      "metadata": {
        "id": "0Z8u7_Hq_1gK",
        "colab_type": "code",
        "outputId": "990a6dae-5b2c-4594-9e61-9f4e10cae468",
        "colab": {
          "base_uri": "https://localhost:8080/",
          "height": 34
        }
      },
      "source": [
        "# Test your solution here\n",
        "print(\"Mean of Data:\", mean(data))"
      ],
      "execution_count": 161,
      "outputs": [
        {
          "output_type": "stream",
          "text": [
            "Mean of Data: -0.17178090426615691\n"
          ],
          "name": "stdout"
        }
      ]
    },
    {
      "cell_type": "markdown",
      "metadata": {
        "id": "b1CWdjfM_1gR",
        "colab_type": "text"
      },
      "source": [
        "*Exercise 2b:* \n",
        "Write a function that computes the variance of values in a list."
      ]
    },
    {
      "cell_type": "code",
      "metadata": {
        "id": "gfiiJxZl_1gT",
        "colab_type": "code",
        "colab": {}
      },
      "source": [
        "# Skeleton\n",
        "def variance(Data):\n",
        "    m=0.\n",
        "    \n",
        "    ### BEGIN SOLUTION\n",
        "\n",
        "    m = mean(Data)\n",
        "    variance = sum((x - m) ** 2 for x in Data) / len(Data)\n",
        "    \n",
        "    ### END SOLUTION\n",
        "    \n",
        "    return variance"
      ],
      "execution_count": 0,
      "outputs": []
    },
    {
      "cell_type": "code",
      "metadata": {
        "id": "IbasE7ma_1gZ",
        "colab_type": "code",
        "outputId": "5eaada1f-e6ba-4ec2-b683-a561978bd8d9",
        "colab": {
          "base_uri": "https://localhost:8080/",
          "height": 34
        }
      },
      "source": [
        "# Test your solution here\n",
        "print(\"Variance of Data:\", variance(data))"
      ],
      "execution_count": 156,
      "outputs": [
        {
          "output_type": "stream",
          "text": [
            "Variance of Data: 31.828907048258063\n"
          ],
          "name": "stdout"
        }
      ]
    },
    {
      "cell_type": "markdown",
      "metadata": {
        "id": "7qtsjJNA_1ge",
        "colab_type": "text"
      },
      "source": [
        "## Histogramming"
      ]
    },
    {
      "cell_type": "markdown",
      "metadata": {
        "id": "FJsWb1o9_1gf",
        "colab_type": "text"
      },
      "source": [
        "*Exercise 3:* Write a function that bins the data so that you can create a histogram. An example of how to implement histogramming is the following logic:\n",
        "\n",
        "* User inputs a list of values `x` and optionally `n_bins` which defaults to 10.\n",
        "* If not supplied, find the minimum and maximum (`x_min`,`x_max`) of the values in x.\n",
        "* Determine the bin size (`bin_size`) by dividing the range of the function by the number of bins.\n",
        "* Create an empty list of zeros of size `n_bins`, call it `hist`.\n",
        "* Loop over the values in `x`\n",
        "    * Loop over the values in `hist` with index `i`:\n",
        "        * If x is between `x_min+i*bin_size` and `x_min+i*2*bin_size`, increment `hist[i].` \n",
        "        * For efficiency, try to use continue to goto the next bin and data point.\n",
        "* Return `hist` and the list corresponding of the bin edges (i.e. of `x_min+i*bin_size`).    "
      ]
    },
    {
      "cell_type": "code",
      "metadata": {
        "id": "Yp85CdIF_1gh",
        "colab_type": "code",
        "colab": {}
      },
      "source": [
        "# Solution\n",
        "def histogram(x,n_bins=10,x_min=None,x_max=None):\n",
        "    ### BEGIN SOLUTION\n",
        "\n",
        "    if x_min == None:\n",
        "      x_min = min(x)\n",
        "    if x_max == None:\n",
        "      x_max = max(x)\n",
        "    \n",
        "    bin_size = (x_max - x_min) / n_bins\n",
        "\n",
        "    hist = [0] * n_bins\n",
        "    bin_edges = [x_min]\n",
        "    for i in range(1, n_bins + 1):\n",
        "      bin_edges.append(x_min + i * bin_size)\n",
        "    for value in x:\n",
        "      for i in range(n_bins):\n",
        "        if (x_min + (i * bin_size)) <= value <= (x_min + ((i + 1) * bin_size)):\n",
        "          hist[i] += 1\n",
        "          break\n",
        "    \n",
        "    ### END SOLUTION\n",
        "\n",
        "    return hist,bin_edges"
      ],
      "execution_count": 0,
      "outputs": []
    },
    {
      "cell_type": "code",
      "metadata": {
        "id": "CQg5EFMg_1gn",
        "colab_type": "code",
        "outputId": "4b8ebd11-18fc-41b7-f4d0-30e2c80bcc27",
        "colab": {
          "base_uri": "https://localhost:8080/",
          "height": 54
        }
      },
      "source": [
        "# Test your solution here\n",
        "h,b=histogram(data,100)\n",
        "print(len(b),h)"
      ],
      "execution_count": 9,
      "outputs": [
        {
          "output_type": "stream",
          "text": [
            "101 [13, 13, 10, 12, 7, 9, 6, 8, 3, 5, 6, 11, 11, 7, 14, 19, 10, 10, 8, 15, 12, 9, 8, 6, 15, 10, 14, 9, 9, 12, 9, 14, 6, 16, 13, 14, 10, 5, 9, 17, 12, 10, 10, 13, 8, 10, 7, 10, 7, 17, 4, 14, 8, 11, 15, 9, 7, 13, 13, 8, 10, 4, 6, 14, 13, 10, 10, 13, 7, 8, 11, 18, 5, 6, 13, 13, 2, 9, 11, 9, 8, 11, 10, 9, 12, 8, 11, 10, 10, 12, 6, 11, 11, 10, 9, 9, 7, 10, 6, 8]\n"
          ],
          "name": "stdout"
        }
      ]
    },
    {
      "cell_type": "markdown",
      "metadata": {
        "id": "miaZ7qfS_1gs",
        "colab_type": "text"
      },
      "source": [
        "*Exercise 4:* Write a function that uses the histogram function in the previous exercise to create a text-based \"graph\". For example the output could look like the following:\n",
        "```\n",
        "[  0,  1] : ######\n",
        "[  1,  2] : #####\n",
        "[  2,  3] : ######\n",
        "[  3,  4] : ####\n",
        "[  4,  5] : ####\n",
        "[  5,  6] : ######\n",
        "[  6,  7] : #####\n",
        "[  7,  8] : ######\n",
        "[  8,  9] : ####\n",
        "[  9, 10] : #####\n",
        "```\n",
        "\n",
        "Where each line corresponds to a bin and the number of `#`'s are proportional to the value of the data in the bin. "
      ]
    },
    {
      "cell_type": "code",
      "metadata": {
        "id": "ajxAao2B_1gt",
        "colab_type": "code",
        "colab": {}
      },
      "source": [
        "# Solution\n",
        "def draw_histogram(x,n_bins,x_min=None,x_max=None,character=\"#\",max_character_per_line=20):\n",
        "    ### BEGIN SOLUTION\n",
        "\n",
        "    bins = []\n",
        "\n",
        "    hist, bin_edges = histogram(x, n_bins, x_min, x_max)\n",
        "\n",
        "    max_hist = max(hist)\n",
        "\n",
        "    for i in range(len(bin_edges) - 1):\n",
        "      print(\"[\" + \"{:7.3f}\".format(bin_edges[i]) + \",\" + \"{:7.3f}\".format(bin_edges[i + 1]) + \"] : \" + (str(character) * int(hist[i] / max_hist * max_character_per_line)))\n",
        "    \n",
        "    ### END SOLUTION\n",
        "\n",
        "    return hist,bin_edges"
      ],
      "execution_count": 0,
      "outputs": []
    },
    {
      "cell_type": "code",
      "metadata": {
        "id": "EsQxIs9U_1gy",
        "colab_type": "code",
        "outputId": "638ca22a-a07b-4f19-dd39-36c4f786c0d8",
        "colab": {
          "base_uri": "https://localhost:8080/",
          "height": 357
        }
      },
      "source": [
        "# Test your solution here\n",
        "h,b=draw_histogram(data,20)"
      ],
      "execution_count": 107,
      "outputs": [
        {
          "output_type": "stream",
          "text": [
            "[ -9.996, -8.998] : #################\n",
            "[ -8.998, -8.000] : ##########\n",
            "[ -8.000, -7.002] : ###############\n",
            "[ -7.002, -6.004] : ####################\n",
            "[ -6.004, -5.006] : ################\n",
            "[ -5.006, -4.008] : #################\n",
            "[ -4.008, -3.010] : ##################\n",
            "[ -3.010, -2.012] : #################\n",
            "[ -2.012, -1.014] : #################\n",
            "[ -1.014, -0.016] : ################\n",
            "[ -0.016,  0.982] : ################\n",
            "[  0.982,  1.980] : ################\n",
            "[  1.980,  2.978] : ###############\n",
            "[  2.978,  3.976] : ###############\n",
            "[  3.976,  4.974] : #################\n",
            "[  4.974,  5.972] : ##############\n",
            "[  5.972,  6.970] : ################\n",
            "[  6.970,  7.968] : ################\n",
            "[  7.968,  8.966] : ###############\n",
            "[  8.966,  9.964] : ############\n"
          ],
          "name": "stdout"
        }
      ]
    },
    {
      "cell_type": "markdown",
      "metadata": {
        "id": "ppoPnjV4_1g3",
        "colab_type": "text"
      },
      "source": [
        "## Functional Programming\n",
        "\n",
        "*Exercise 5:* Write a function the applies a booling function (that returns true/false) to every element in data, and return a list of indices of elements where the result was true. Use this function to find the indices of entries greater than 0.5. "
      ]
    },
    {
      "cell_type": "code",
      "metadata": {
        "id": "HTTvnZDl_1hK",
        "colab_type": "code",
        "colab": {}
      },
      "source": [
        "def where(mylist,myfunc):\n",
        "    out= []\n",
        "    \n",
        "    ### BEGIN SOLUTION\n",
        "    for i in range(len(mylist)):\n",
        "      if myfunc(mylist[i]):\n",
        "        out.append(i)       \n",
        "    \n",
        "    ### END SOLUTION\n",
        "    \n",
        "    return out"
      ],
      "execution_count": 0,
      "outputs": []
    },
    {
      "cell_type": "code",
      "metadata": {
        "id": "ZyXbNZK7_1hS",
        "colab_type": "code",
        "colab": {
          "base_uri": "https://localhost:8080/",
          "height": 54
        },
        "outputId": "17c89f30-d78f-4176-9c26-1a641bd59952"
      },
      "source": [
        "# Test your solution here\n",
        "def myfunc(n):\n",
        "  return n > 0.5\n",
        "\n",
        "print(where(data, myfunc))"
      ],
      "execution_count": 13,
      "outputs": [
        {
          "output_type": "stream",
          "text": [
            "[0, 1, 2, 3, 7, 9, 10, 13, 16, 17, 18, 19, 21, 24, 25, 27, 30, 31, 33, 36, 37, 38, 39, 40, 41, 43, 44, 49, 51, 52, 54, 59, 60, 61, 62, 64, 65, 69, 70, 72, 73, 74, 75, 77, 78, 80, 82, 83, 85, 86, 88, 90, 91, 92, 95, 97, 98, 101, 104, 106, 108, 109, 111, 113, 114, 116, 118, 124, 126, 128, 131, 132, 134, 136, 140, 143, 145, 147, 155, 156, 160, 162, 164, 166, 168, 170, 174, 178, 179, 180, 181, 183, 185, 186, 189, 190, 191, 193, 195, 197, 198, 201, 205, 206, 209, 213, 215, 217, 221, 222, 225, 231, 235, 239, 243, 245, 246, 247, 248, 249, 250, 251, 252, 253, 254, 256, 261, 264, 266, 268, 270, 271, 272, 274, 278, 280, 284, 285, 286, 287, 294, 295, 299, 302, 303, 305, 306, 307, 309, 314, 317, 325, 326, 329, 331, 333, 334, 337, 338, 340, 341, 342, 343, 344, 351, 353, 355, 356, 359, 361, 362, 363, 364, 366, 369, 373, 374, 375, 394, 396, 398, 401, 402, 403, 405, 406, 411, 412, 413, 414, 415, 417, 419, 425, 429, 430, 432, 433, 434, 437, 438, 439, 440, 444, 446, 448, 450, 453, 454, 458, 459, 460, 461, 462, 463, 464, 465, 468, 469, 474, 475, 478, 479, 480, 487, 490, 491, 492, 494, 495, 496, 499, 500, 501, 502, 504, 506, 508, 509, 513, 515, 516, 517, 518, 521, 526, 529, 530, 532, 534, 539, 544, 545, 546, 549, 550, 552, 553, 555, 556, 558, 560, 561, 562, 563, 564, 565, 569, 572, 573, 575, 581, 583, 585, 586, 587, 588, 589, 592, 597, 599, 603, 607, 608, 609, 611, 612, 613, 616, 618, 619, 621, 623, 624, 626, 627, 631, 632, 635, 636, 639, 641, 645, 646, 648, 650, 653, 654, 655, 658, 660, 671, 673, 676, 685, 688, 689, 690, 694, 696, 697, 700, 702, 703, 706, 708, 709, 711, 713, 716, 719, 720, 721, 723, 725, 726, 729, 735, 736, 738, 739, 740, 741, 743, 747, 748, 751, 753, 758, 763, 764, 765, 766, 770, 773, 780, 783, 785, 786, 788, 790, 792, 795, 799, 801, 806, 809, 810, 811, 813, 815, 816, 817, 821, 822, 824, 826, 828, 830, 831, 833, 840, 841, 842, 844, 847, 850, 851, 855, 856, 857, 859, 860, 861, 862, 866, 867, 870, 872, 874, 875, 877, 878, 880, 882, 884, 891, 892, 896, 898, 902, 903, 904, 907, 909, 912, 913, 915, 917, 921, 923, 924, 925, 928, 930, 931, 933, 936, 938, 939, 940, 943, 944, 946, 947, 951, 952, 953, 954, 958, 960, 961, 963, 966, 968, 973, 974, 976, 978, 979, 981, 983, 985, 987, 989, 991, 992, 996, 999]\n"
          ],
          "name": "stdout"
        }
      ]
    },
    {
      "cell_type": "markdown",
      "metadata": {
        "id": "jt4S-KN0_1hZ",
        "colab_type": "text"
      },
      "source": [
        "*Exercise 6:* The inrange(mymin,mymax) function below returns a function that tests if it's input is between the specified values. Write corresponding functions that test:\n",
        "* Even\n",
        "* Odd\n",
        "* Greater than\n",
        "* Less than\n",
        "* Equal\n",
        "* Divisible by"
      ]
    },
    {
      "cell_type": "code",
      "metadata": {
        "id": "kkchtWxy_1hb",
        "colab_type": "code",
        "colab": {
          "base_uri": "https://localhost:8080/",
          "height": 85
        },
        "outputId": "c92f822f-3b11-46d1-b2ce-3b491dd7b45e"
      },
      "source": [
        "def in_range(mymin,mymax):\n",
        "    def testrange(x):\n",
        "        return x<mymax and x>=mymin\n",
        "    return testrange\n",
        "\n",
        "# Examples:\n",
        "F1=in_range(0,10)\n",
        "F2=in_range(10,20)\n",
        "\n",
        "# Test of in_range\n",
        "print(F1(0), F1(1), F1(10), F1(15), F1(20))\n",
        "print(F2(0), F2(1), F2(10), F2(15), F2(20))\n",
        "\n",
        "print(\"Number of Entries passing F1:\", len(where(data,F1)))\n",
        "print(\"Number of Entries passing F2:\", len(where(data,F2)))"
      ],
      "execution_count": 14,
      "outputs": [
        {
          "output_type": "stream",
          "text": [
            "True True False False False\n",
            "False False True True False\n",
            "Number of Entries passing F1: 482\n",
            "Number of Entries passing F2: 0\n"
          ],
          "name": "stdout"
        }
      ]
    },
    {
      "cell_type": "code",
      "metadata": {
        "id": "tcReOq0v_1hf",
        "colab_type": "code",
        "colab": {}
      },
      "source": [
        "### BEGIN SOLUTION\n",
        "\n",
        "def even():\n",
        "  def is_even(x):\n",
        "    return x % 2 == 0\n",
        "  return is_even\n",
        "\n",
        "def odd():\n",
        "  def is_odd(x):\n",
        "    return x % 2 == 1\n",
        "  return is_odd\n",
        "\n",
        "def greater_than(n):\n",
        "  def is_greater_than(x):\n",
        "    return x > n\n",
        "  return is_greater_than\n",
        "\n",
        "def less_than(n):\n",
        "  def is_less_than(x):\n",
        "    return x < n\n",
        "  return is_less_than\n",
        "\n",
        "def equal_to(n):\n",
        "  def is_equal_to(x):\n",
        "    return x == n\n",
        "  return is_equal_to\n",
        "\n",
        "def divisible_by(n):\n",
        "  def is_divisible_by(x):\n",
        "    return x % n == 0\n",
        "  return is_divisible_by\n",
        "    \n",
        "### END SOLUTION"
      ],
      "execution_count": 0,
      "outputs": []
    },
    {
      "cell_type": "code",
      "metadata": {
        "id": "3AhyJZjf_1hj",
        "colab_type": "code",
        "colab": {
          "base_uri": "https://localhost:8080/",
          "height": 153
        },
        "outputId": "b6717252-32eb-4c61-ee9d-ed959ff40fee"
      },
      "source": [
        "# Test your solution\n",
        "E = even()\n",
        "O = odd()\n",
        "G = greater_than(0)\n",
        "L = less_than(0)\n",
        "EQ = equal_to(data[20])\n",
        "D = divisible_by(data[50])\n",
        "\n",
        "print(E(2), O(2), G(2), L(2), EQ(2), D(2))\n",
        "print(E(-1), O(-1), G(-1), L(-1), EQ(-1), D(-1))\n",
        "\n",
        "print(\"Number of Entries passing E:\", len(where(data,E)))\n",
        "print(\"Number of Entries passing O:\", len(where(data,O)))\n",
        "print(\"Number of Entries passing G:\", len(where(data,G)))\n",
        "print(\"Number of Entries passing L:\", len(where(data,L)))\n",
        "print(\"Number of Entries passing EQ:\", len(where(data,EQ)))\n",
        "print(\"Number of Entries passing D:\", len(where(data,D)))"
      ],
      "execution_count": 16,
      "outputs": [
        {
          "output_type": "stream",
          "text": [
            "True False True False False False\n",
            "False True False True False False\n",
            "Number of Entries passing E: 0\n",
            "Number of Entries passing O: 0\n",
            "Number of Entries passing G: 482\n",
            "Number of Entries passing L: 518\n",
            "Number of Entries passing EQ: 1\n",
            "Number of Entries passing D: 1\n"
          ],
          "name": "stdout"
        }
      ]
    },
    {
      "cell_type": "markdown",
      "metadata": {
        "id": "tEhLwDyH_1hq",
        "colab_type": "text"
      },
      "source": [
        "*Exercise 7:* Repeat the previous exercise using `lambda` and the built-in python functions sum and map instead of your solution above. "
      ]
    },
    {
      "cell_type": "code",
      "metadata": {
        "id": "VlWCyUXL_1hr",
        "colab_type": "code",
        "colab": {
          "base_uri": "https://localhost:8080/",
          "height": 119
        },
        "outputId": "c6ec9f60-850f-4397-ba0b-d568ef2af42d"
      },
      "source": [
        "### BEGIN SOLUTION\n",
        "\n",
        "print(\"Number of Entries passing E:\", sum(map(lambda x: x % 2 == 0,data)))\n",
        "print(\"Number of Entries passing O:\", sum(map(lambda x: x % 2 == 1, data)))\n",
        "print(\"Number of Entries passing G:\", sum(map(lambda x: x > 0, data)))\n",
        "print(\"Number of Entries passing L:\", sum(map(lambda x: x < 0, data)))\n",
        "print(\"Number of Entries passing EQ:\", sum(map(lambda x: x == data[20], data)))\n",
        "print(\"Number of Entries passing D:\", sum(map(lambda x: x % data[50] == 0, data)))\n",
        "### END SOLUTION"
      ],
      "execution_count": 17,
      "outputs": [
        {
          "output_type": "stream",
          "text": [
            "Number of Entries passing E: 0\n",
            "Number of Entries passing O: 0\n",
            "Number of Entries passing G: 482\n",
            "Number of Entries passing L: 518\n",
            "Number of Entries passing EQ: 1\n",
            "Number of Entries passing D: 1\n"
          ],
          "name": "stdout"
        }
      ]
    },
    {
      "cell_type": "markdown",
      "metadata": {
        "id": "7IsTjLuQ_1hz",
        "colab_type": "text"
      },
      "source": [
        "## Monte Carlo\n",
        "\n",
        "*Exercise 7:* Write a \"generator\" function called `generate_function(func,x_min,x_max,N)`, that instead of generating a flat distribution, generates a distribution with functional form coded in `func`. Note that `func` will always be > 0.  \n",
        "\n",
        "Use the test function below and your histogramming functions above to demonstrate that your generator is working properly.\n",
        "\n",
        "Hint: A simple, but slow, solution is to a draw random number test_x within the specified range and another number p between the min and max of the function (which you will have to determine). If p<=function(test_x), then place test_x on the output. If not, repeat the process, drawing two new numbers. Repeat until you have the specified number of generated numbers, N. For this problem, it's OK to determine the min and max by numerically sampling the function.  "
      ]
    },
    {
      "cell_type": "code",
      "metadata": {
        "id": "NL7k4NeJ_1h1",
        "colab_type": "code",
        "colab": {}
      },
      "source": [
        "def generate_function(func,x_min,x_max,N=1000):\n",
        "    out = list()\n",
        "    ### BEGIN SOLUTION\n",
        "    d = (x_max - x_min) / N\n",
        "    numbers = [x * d + x_min for x in range(N + 1)]\n",
        "    frequency = [func(n * d + x_min) for n in range(N + 1)]\n",
        "    #aux = [frequency[0]] + [0] * N\n",
        "    for i in range(1, N + 1):\n",
        "      frequency[i] = (frequency[i - 1] + frequency[i])\n",
        "    #print(*zip(numbers, frequency))\n",
        "    #print(numbers)\n",
        "    #print(frequency)\n",
        "    while len(out) < N:\n",
        "      num = random.random() * frequency[-1]\n",
        "      #print(num)\n",
        "      for i in range(len(frequency)):\n",
        "        if frequency[i] >= num:\n",
        "          out.append(numbers[i])\n",
        "          #print(frequency[i], num)\n",
        "          break\n",
        "    ### END SOLUTION\n",
        "    \n",
        "    return out"
      ],
      "execution_count": 0,
      "outputs": []
    },
    {
      "cell_type": "code",
      "metadata": {
        "id": "IOfuFLBX_1h6",
        "colab_type": "code",
        "colab": {
          "base_uri": "https://localhost:8080/",
          "height": 1000
        },
        "outputId": "7dfd5e18-c0d4-48ca-ad30-f379131d61cc"
      },
      "source": [
        "# A test function\n",
        "def test_func(x,a=1,b=1):\n",
        "    return abs(a*x+b)\n",
        "x_min = 0\n",
        "x_max = 10\n",
        "N = 1000\n",
        "n_bins = 20\n",
        "draw_histogram(generate_function(lambda x: -((x - 5)**2) + 5 ** 2, x_min, x_max, N), n_bins, x_min, x_max, \"#\", 50)\n",
        "draw_histogram(generate_function(test_func, x_min, x_max, N), n_bins, x_min, x_max, \"#\", 50)"
      ],
      "execution_count": 242,
      "outputs": [
        {
          "output_type": "stream",
          "text": [
            "[  0.000,  0.500] : ###\n",
            "[  0.500,  1.000] : ###############\n",
            "[  1.000,  1.500] : ###################\n",
            "[  1.500,  2.000] : ######################\n",
            "[  2.000,  2.500] : ############################\n",
            "[  2.500,  3.000] : ####################################\n",
            "[  3.000,  3.500] : ###################################\n",
            "[  3.500,  4.000] : ##########################################\n",
            "[  4.000,  4.500] : ########################################\n",
            "[  4.500,  5.000] : ################################################\n",
            "[  5.000,  5.500] : ##################################################\n",
            "[  5.500,  6.000] : #########################################\n",
            "[  6.000,  6.500] : #######################################\n",
            "[  6.500,  7.000] : ###################################\n",
            "[  7.000,  7.500] : #################################\n",
            "[  7.500,  8.000] : ###############################\n",
            "[  8.000,  8.500] : #######################\n",
            "[  8.500,  9.000] : #################\n",
            "[  9.000,  9.500] : ###########\n",
            "[  9.500, 10.000] : ####\n",
            "[  0.000,  0.500] : ######\n",
            "[  0.500,  1.000] : ########\n",
            "[  1.000,  1.500] : ######\n",
            "[  1.500,  2.000] : ###########\n",
            "[  2.000,  2.500] : ##############\n",
            "[  2.500,  3.000] : #############\n",
            "[  3.000,  3.500] : #################\n",
            "[  3.500,  4.000] : ###################\n",
            "[  4.000,  4.500] : ####################\n",
            "[  4.500,  5.000] : ##########################\n",
            "[  5.000,  5.500] : ##################\n",
            "[  5.500,  6.000] : ################################\n",
            "[  6.000,  6.500] : ##########################\n",
            "[  6.500,  7.000] : ##################################\n",
            "[  7.000,  7.500] : #############################\n",
            "[  7.500,  8.000] : #######################################\n",
            "[  8.000,  8.500] : #################################\n",
            "[  8.500,  9.000] : ##############################################\n",
            "[  9.000,  9.500] : ##################################################\n",
            "[  9.500, 10.000] : ######################################\n"
          ],
          "name": "stdout"
        },
        {
          "output_type": "execute_result",
          "data": {
            "text/plain": [
              "([14,\n",
              "  18,\n",
              "  14,\n",
              "  23,\n",
              "  30,\n",
              "  28,\n",
              "  35,\n",
              "  39,\n",
              "  41,\n",
              "  53,\n",
              "  38,\n",
              "  65,\n",
              "  54,\n",
              "  70,\n",
              "  60,\n",
              "  79,\n",
              "  68,\n",
              "  93,\n",
              "  101,\n",
              "  77],\n",
              " [0,\n",
              "  0.5,\n",
              "  1.0,\n",
              "  1.5,\n",
              "  2.0,\n",
              "  2.5,\n",
              "  3.0,\n",
              "  3.5,\n",
              "  4.0,\n",
              "  4.5,\n",
              "  5.0,\n",
              "  5.5,\n",
              "  6.0,\n",
              "  6.5,\n",
              "  7.0,\n",
              "  7.5,\n",
              "  8.0,\n",
              "  8.5,\n",
              "  9.0,\n",
              "  9.5,\n",
              "  10.0])"
            ]
          },
          "metadata": {
            "tags": []
          },
          "execution_count": 242
        }
      ]
    },
    {
      "cell_type": "markdown",
      "metadata": {
        "id": "tEdnKUPz_1h-",
        "colab_type": "text"
      },
      "source": [
        "*Exercise 8:* Use your function to generate 1000 numbers that are normal distributed, using the `gaussian` function below. Confirm the mean and variance of the data is close to the mean and variance you specify when building the Gaussian. Histogram the data. "
      ]
    },
    {
      "cell_type": "code",
      "metadata": {
        "id": "wnZFkATK_1h_",
        "colab_type": "code",
        "colab": {
          "base_uri": "https://localhost:8080/",
          "height": 819
        },
        "outputId": "8c649788-7438-4645-9e49-3df31267f58c"
      },
      "source": [
        "import math\n",
        "\n",
        "def gaussian(mean, sigma):\n",
        "    def f(x):\n",
        "        return math.exp(-((x-mean)**2)/(2*sigma**2))/math.sqrt(math.pi*sigma)\n",
        "    return f\n",
        "\n",
        "# Example Instantiation\n",
        "g1=gaussian(0,1)\n",
        "g2=gaussian(10,3)\n",
        "\n",
        "g1_data = generate_function(g1, -4, 4, 1000)\n",
        "g2_data = generate_function(g2, 0, 20, 10000)\n",
        "print(g1_data)\n",
        "print(g2_data)\n",
        "draw_histogram(g1_data, 20)\n",
        "print(\"g1 mean = \" + str(mean(g1_data)))\n",
        "print(\"g1 variance = \" + str(variance(g1_data)))\n",
        "draw_histogram(g2_data, 20)\n",
        "print(\"g2 mean = \" + str(mean(g2_data)))\n",
        "print(\"g2 variance = \" + str(variance(g2_data)))"
      ],
      "execution_count": 224,
      "outputs": [
        {
          "output_type": "stream",
          "text": [
            "[-0.4079999999999999, 0.6799999999999997, 0.08000000000000007, 0.6080000000000005, 0.9359999999999999, 0.24800000000000022, 0.16800000000000015, 1.056, 0.5840000000000005, 0.2240000000000002, 0.6479999999999997, -0.13600000000000012, 0.7439999999999998, -1.2319999999999998, 1.5200000000000005, 1.2320000000000002, 0.3280000000000003, -0.31199999999999983, -0.3599999999999999, -0.7999999999999998, 0.08000000000000007, -0.3919999999999999, 0.5120000000000005, 3.048, -0.9119999999999999, 1.7359999999999998, -1.7199999999999998, 0.8639999999999999, -0.944, -0.3919999999999999, 0.4480000000000004, 0.1280000000000001, -1.424, -0.7199999999999998, -0.7439999999999998, 1.056, 0.37600000000000033, 1.2960000000000003, 1.08, 1.2320000000000002, -1.6400000000000001, -1.488, -1.2319999999999998, 0.6399999999999997, 0.39200000000000035, 1.2000000000000002, -0.5680000000000001, 1.2160000000000002, -1.616, -0.31999999999999984, 0.27200000000000024, 1.04, 1.6559999999999997, -1.6880000000000002, -1.384, 0.7279999999999998, -1.616, -0.7119999999999997, 0.4240000000000004, -1.016, -0.08800000000000008, 0.28000000000000025, -0.984, -0.7759999999999998, 0.4560000000000004, -0.3839999999999999, 0.6159999999999997, -0.35199999999999987, 0.7199999999999998, 0.8479999999999999, 0.6799999999999997, 0.9199999999999999, -0.03200000000000003, -1.1680000000000001, 2.4480000000000004, -1.552, 0.6319999999999997, 1.1840000000000002, -0.9119999999999999, -1.2799999999999998, 1.8559999999999999, 0.29600000000000026, -0.32799999999999985, 1.3280000000000003, -0.040000000000000036, 1.2800000000000002, -1.056, 0.8879999999999999, 0.4240000000000004, -0.31199999999999983, 0.28000000000000025, 0.26400000000000023, -1.08, 1.104, -1.624, 2.808, 0.39200000000000035, -0.7119999999999997, -0.6000000000000001, 0.5520000000000005, 0.4320000000000004, 0.984, -0.02400000000000002, -1.064, 0.9119999999999999, 0.6399999999999997, -0.44799999999999995, -0.3759999999999999, -2.12, 0.7199999999999998, 0.4400000000000004, -1.1280000000000001, -0.8479999999999999, -1.6400000000000001, 1.3040000000000003, -0.2799999999999998, 0.8559999999999999, 0.3520000000000003, 1.2960000000000003, -0.8079999999999998, -0.22399999999999975, -0.6080000000000001, 1.944, -0.6240000000000001, 0.3440000000000003, -1.3279999999999998, -0.20799999999999974, -1.88, -0.7359999999999998, 0.16800000000000015, 2.6080000000000005, 0.992, -1.904, 0.3520000000000003, 0.5680000000000005, 1.7599999999999998, -0.24799999999999978, -1.448, -0.7519999999999998, 2.152, -1.888, -1.1280000000000001, 1.6959999999999997, 1.4640000000000004, 2.5760000000000005, 0.0, 0.16800000000000015, 1.1680000000000001, -0.1280000000000001, -2.344, -0.504, 0.7919999999999998, -0.8079999999999998, 0.3600000000000003, -0.3599999999999999, -0.7999999999999998, -0.7119999999999997, -1.2399999999999998, 0.03200000000000003, 1.008, -1.2719999999999998, -0.2639999999999998, -0.6480000000000001, -0.7119999999999997, 0.3440000000000003, -0.7759999999999998, 1.8479999999999999, 0.09600000000000009, 0.03200000000000003, 0.968, 0.08800000000000008, -0.3759999999999999, -1.456, -0.9359999999999999, 0.8479999999999999, 0.38400000000000034, 1.2400000000000002, -0.10400000000000009, -0.944, -0.07200000000000006, -0.2639999999999998, 0.4720000000000004, 0.9119999999999999, 0.05600000000000005, -1.3119999999999998, -1.48, 0.040000000000000036, -0.52, 0.5600000000000005, -0.016000000000000014, -1.8319999999999999, 0.19200000000000017, 0.7599999999999998, 0.09600000000000009, -2.176, -0.7199999999999998, 1.096, -0.10400000000000009, -1.7119999999999997, -0.5920000000000001, -0.08800000000000008, 0.02400000000000002, 1.5680000000000005, -0.46399999999999997, -0.15200000000000014, -0.1759999999999997, -0.19199999999999973, 1.1360000000000001, 0.8159999999999998, 1.1760000000000002, 0.5760000000000005, -1.6480000000000001, -0.31199999999999983, -0.45599999999999996, 0.5840000000000005, 0.8719999999999999, -0.52, 1.1520000000000001, 0.3520000000000003, 1.888, -0.43999999999999995, 0.28800000000000026, -1.2479999999999998, -0.016000000000000014, 1.6799999999999997, 0.976, -1.608, 1.064, -0.504, -0.7119999999999997, 2.936, 1.2080000000000002, -0.22399999999999975, 0.3280000000000003, -0.6560000000000001, 0.14400000000000013, -0.32799999999999985, -0.976, -0.5840000000000001, 0.7599999999999998, -1.2639999999999998, -0.19999999999999973, 0.5360000000000005, -1.6400000000000001, -0.1120000000000001, 0.06400000000000006, 1.6240000000000006, 1.056, -1.3439999999999999, 0.0, 0.2560000000000002, 0.4720000000000004, -0.496, 0.1120000000000001, -0.2559999999999998, -0.7599999999999998, 1.4640000000000004, -0.4079999999999999, 0.2160000000000002, 0.02400000000000002, 1.3280000000000003, 1.088, -0.3919999999999999, -0.4159999999999999, 0.008000000000000007, -0.952, 0.016000000000000014, -1.6880000000000002, -0.552, -0.4159999999999999, -0.20799999999999974, -0.23999999999999977, -0.6160000000000001, -0.20799999999999974, 1.1600000000000001, -0.7119999999999997, 2.216, -0.42399999999999993, -0.31999999999999984, -0.09600000000000009, 0.6080000000000005, -0.6480000000000001, 1.4880000000000004, 0.3200000000000003, 0.7039999999999997, -0.3599999999999999, -1.392, 0.4480000000000004, 1.6319999999999997, -1.6720000000000002, -1.2399999999999998, 0.4640000000000004, -1.6480000000000001, -0.528, 0.9199999999999999, -1.392, -0.552, -0.6400000000000001, 0.9039999999999999, 0.8559999999999999, -0.040000000000000036, -0.040000000000000036, -1.104, 0.20800000000000018, -1.3279999999999998, 1.08, -0.3679999999999999, -1.6880000000000002, 0.2320000000000002, -0.34399999999999986, 0.6639999999999997, 0.37600000000000033, -0.528, -0.7199999999999998, -0.472, -2.472, -0.07200000000000006, -0.7279999999999998, -0.1759999999999997, -0.7119999999999997, 1.6719999999999997, 0.4560000000000004, -2.152, 0.008000000000000007, 0.20000000000000018, 1.3920000000000003, -0.8159999999999998, 0.02400000000000002, 0.27200000000000024, -0.48, -0.9359999999999999, 0.7439999999999998, 0.1280000000000001, 0.9039999999999999, -1.96, -0.6320000000000001, -0.31999999999999984, 0.6639999999999997, -0.1200000000000001, -0.544, -0.31999999999999984, 0.07200000000000006, 1.112, -1.2159999999999997, 0.26400000000000023, -1.1919999999999997, -1.424, 0.1280000000000001, -0.31199999999999983, -1.7919999999999998, 0.6879999999999997, 0.13600000000000012, 0.6159999999999997, -0.6560000000000001, 0.016000000000000014, -0.6480000000000001, 1.2000000000000002, -1.6480000000000001, 0.4480000000000004, -0.552, -0.3999999999999999, 0.8959999999999999, -1.016, 1.2400000000000002, 0.4560000000000004, 1.4480000000000004, -0.3759999999999999, 0.1120000000000001, -0.1679999999999997, 0.37600000000000033, 1.112, -1.04, 0.6399999999999997, 0.6479999999999997, -0.10400000000000009, -0.5920000000000001, -0.8639999999999999, -0.5840000000000001, -0.6000000000000001, 0.05600000000000005, -1.3439999999999999, -0.34399999999999986, 0.8719999999999999, 1.04, -2.064, -0.6160000000000001, -0.8319999999999999, -1.04, -0.23999999999999977, -2.584, 1.3200000000000003, 0.3600000000000003, 1.3040000000000003, 0.5040000000000004, -1.1680000000000001, 0.09600000000000009, -0.7519999999999998, -0.24799999999999978, 0.8479999999999999, -2.6879999999999997, -1.2319999999999998, 0.7039999999999997, -1.1760000000000002, 0.3440000000000003, 0.04800000000000004, 1.5120000000000005, -0.16000000000000014, 0.37600000000000033, -2.2880000000000003, -1.1600000000000001, -0.34399999999999986, -0.3839999999999999, -0.7439999999999998, -0.22399999999999975, 0.2560000000000002, 1.096, -0.56, -0.10400000000000009, -0.472, 0.16800000000000015, 1.016, 1.1600000000000001, -1.104, 0.4800000000000004, 1.4880000000000004, -0.008000000000000007, 0.2560000000000002, 0.016000000000000014, -0.4159999999999999, -1.3599999999999999, -1.0, -0.9119999999999999, 0.5120000000000005, -2.048, 1.016, -2.088, 1.6000000000000005, 1.1440000000000001, 1.3920000000000003, -1.12, 0.29600000000000026, -0.992, -2.488, 0.26400000000000023, -0.7759999999999998, 0.5120000000000005, 0.40800000000000036, 0.8639999999999999, -1.048, -1.7679999999999998, 0.040000000000000036, -0.2559999999999998, -0.04800000000000004, -0.8719999999999999, 1.4800000000000004, -0.8959999999999999, -0.02400000000000002, -0.7679999999999998, -0.6480000000000001, 1.4240000000000004, -0.19999999999999973, 0.5920000000000005, 1.112, -0.016000000000000014, 0.7519999999999998, -0.2879999999999998, -1.6400000000000001, 0.7279999999999998, -0.6879999999999997, 0.5920000000000005, 0.6159999999999997, -3.448, 0.016000000000000014, -0.992, 0.040000000000000036, -0.8799999999999999, 0.952, 2.3920000000000003, 0.6399999999999997, 0.992, 0.40000000000000036, 0.5840000000000005, -1.032, 0.39200000000000035, 0.03200000000000003, 0.09600000000000009, -0.1200000000000001, 0.4400000000000004, 0.8159999999999998, -0.08800000000000008, -0.33599999999999985, 0.9279999999999999, 0.15200000000000014, -1.1919999999999997, -0.42399999999999993, 0.30400000000000027, -0.09600000000000009, 3.216, 0.17600000000000016, 1.4320000000000004, 0.6239999999999997, -0.22399999999999975, -1.7439999999999998, -1.008, 0.2400000000000002, -0.1280000000000001, 1.2000000000000002, -0.23999999999999977, 0.5600000000000005, -1.7679999999999998, 0.1200000000000001, -0.6719999999999997, 0.4720000000000004, 0.4400000000000004, -1.7999999999999998, 1.3200000000000003, 1.3440000000000003, 0.5360000000000005, 0.14400000000000013, 1.7119999999999997, -1.2879999999999998, 1.7759999999999998, 0.3280000000000003, -0.24799999999999978, 0.9279999999999999, -1.12, -0.496, -0.6799999999999997, 0.6639999999999997, 1.6879999999999997, -1.408, -0.488, -0.7919999999999998, 0.7439999999999998, 1.1280000000000001, -0.944, 0.9039999999999999, -2.232, -0.8399999999999999, -0.2799999999999998, 0.6479999999999997, -0.5760000000000001, 0.24800000000000022, -0.19999999999999973, 1.3440000000000003, -1.064, -1.016, -1.3359999999999999, -0.6640000000000001, -1.6400000000000001, 0.4800000000000004, -1.424, -1.2639999999999998, 1.032, -0.968, 1.2400000000000002, -0.06400000000000006, 0.04800000000000004, -1.12, 0.48800000000000043, -0.08000000000000007, 0.09600000000000009, 0.7919999999999998, 0.49600000000000044, -0.22399999999999975, -0.31199999999999983, 1.3200000000000003, -0.992, 0.3680000000000003, 1.4640000000000004, -0.4079999999999999, -0.976, -2.208, -0.3039999999999998, -1.512, -0.14400000000000013, 2.216, 0.30400000000000027, -0.7439999999999998, 0.9039999999999999, 0.5360000000000005, 0.5280000000000005, 0.7359999999999998, -0.488, -0.13600000000000012, -0.5680000000000001, -1.1999999999999997, -0.48, -1.472, -0.15200000000000014, -2.2, 0.96, -0.19199999999999973, 0.7439999999999998, 2.112, -1.1520000000000001, -0.6320000000000001, 0.040000000000000036, 0.07200000000000006, 2.016, 1.2800000000000002, 0.03200000000000003, 0.3360000000000003, -0.944, -1.088, 0.2320000000000002, 2.096, 1.1840000000000002, 1.4240000000000004, 0.4480000000000004, -2.6639999999999997, -1.08, 0.07200000000000006, 1.08, -0.5840000000000001, -0.43199999999999994, -0.9039999999999999, -0.016000000000000014, -0.35199999999999987, 1.1440000000000001, -1.544, -1.1760000000000002, 1.12, 1.2480000000000002, -0.7759999999999998, 0.5760000000000005, 0.1120000000000001, 0.06400000000000006, -0.6719999999999997, -0.43999999999999995, 1.064, 0.7759999999999998, -0.43199999999999994, 0.17600000000000016, 0.4400000000000004, 0.6799999999999997, -0.6879999999999997, 1.88, -1.8399999999999999, -2.12, 0.08800000000000008, 0.4720000000000004, -1.2799999999999998, 0.5120000000000005, 0.2400000000000002, 0.05600000000000005, -1.048, 0.8159999999999998, 0.3440000000000003, 0.49600000000000044, 0.37600000000000033, 0.992, -0.22399999999999975, 0.984, 0.6639999999999997, 1.96, 0.7519999999999998, -0.2719999999999998, 0.8799999999999999, 0.5360000000000005, -0.21599999999999975, -0.06400000000000006, -0.21599999999999975, -0.992, -0.1200000000000001, 0.07200000000000006, -1.968, -0.7439999999999998, -0.05600000000000005, -0.3679999999999999, -1.384, -0.5760000000000001, -0.1200000000000001, -0.4159999999999999, -0.23199999999999976, -0.19199999999999973, -1.88, 1.6879999999999997, -0.10400000000000009, 1.7519999999999998, 1.1280000000000001, 2.4480000000000004, 0.20800000000000018, -0.2559999999999998, 0.2320000000000002, 0.4640000000000004, 0.7919999999999998, -0.512, -0.7279999999999998, 0.30400000000000027, 1.5040000000000004, -0.3039999999999998, -0.7279999999999998, 1.4480000000000004, 0.1200000000000001, -0.544, -0.976, -0.7439999999999998, 1.2320000000000002, 0.6879999999999997, -0.23999999999999977, -0.528, 0.3120000000000003, 1.8239999999999998, 0.8959999999999999, 0.37600000000000033, -0.45599999999999996, -1.2719999999999998, 0.6799999999999997, 1.3680000000000003, 1.1600000000000001, 0.1120000000000001, -1.624, 0.6479999999999997, 0.04800000000000004, -0.1200000000000001, 0.07200000000000006, 0.6959999999999997, 0.2240000000000002, -1.2799999999999998, 0.8479999999999999, -1.2559999999999998, 1.2080000000000002, 0.1280000000000001, -0.552, -0.7279999999999998, 0.06400000000000006, -0.3039999999999998, -1.2799999999999998, 0.2160000000000002, 0.04800000000000004, 1.5760000000000005, -1.4, -1.2319999999999998, 1.8479999999999999, 0.7199999999999998, -0.5680000000000001, 1.5520000000000005, -0.2879999999999998, 0.4640000000000004, -1.8399999999999999, 0.7759999999999998, -0.528, 0.5680000000000005, -0.6320000000000001, -0.8479999999999999, -0.008000000000000007, -1.2319999999999998, 1.6319999999999997, -0.6080000000000001, -0.512, 0.2160000000000002, 1.7679999999999998, 0.16000000000000014, -0.52, -0.8239999999999998, 0.16000000000000014, -1.44, -1.0, -1.592, -0.02400000000000002, -1.592, -0.2959999999999998, 0.968, 0.8799999999999999, 0.17600000000000016, 1.2640000000000002, 0.5680000000000005, 1.1440000000000001, -0.3919999999999999, 0.2160000000000002, 0.40000000000000036, 0.07200000000000006, -0.8239999999999998, -1.1999999999999997, 0.8399999999999999, -1.1919999999999997, -1.528, -0.7119999999999997, 1.2000000000000002, 0.38400000000000034, -1.4, -1.576, 2.6480000000000006, -0.21599999999999975, 0.4320000000000004, 0.40800000000000036, -0.1280000000000001, 2.912, 1.5440000000000005, 0.09600000000000009, -1.528, -0.2559999999999998, 0.2160000000000002, 0.13600000000000012, -2.064, 0.6479999999999997, -0.9279999999999999, -0.6560000000000001, 0.5040000000000004, 0.2160000000000002, -0.9119999999999999, -0.19999999999999973, -0.23199999999999976, -0.016000000000000014, -0.6080000000000001, 2.4960000000000004, 1.5280000000000005, 0.2320000000000002, -2.808, 1.1360000000000001, -0.15200000000000014, -0.1280000000000001, 0.20000000000000018, -0.08000000000000007, -0.3759999999999999, 0.1120000000000001, 0.5600000000000005, -0.488, -0.43999999999999995, -0.2959999999999998, 0.6639999999999997, 0.2240000000000002, 0.14400000000000013, -1.8159999999999998, 0.96, -1.2399999999999998, -0.2559999999999998, 0.3280000000000003, 1.2880000000000003, 2.4240000000000004, -1.104, -0.18399999999999972, -2.008, 0.16000000000000014, -0.5760000000000001, 0.37600000000000033, -0.43999999999999995, -0.19199999999999973, -0.16000000000000014, 0.6159999999999997, 0.24800000000000022, -1.52, 0.26400000000000023, -0.19199999999999973, 0.7519999999999998, -1.1360000000000001, 0.18400000000000016, 1.1920000000000002, -0.1200000000000001, -0.6080000000000001, -0.31199999999999983, 0.7279999999999998, 0.17600000000000016, -1.016, -1.032, 0.8559999999999999, 1.1520000000000001, 0.7519999999999998, 1.4240000000000004, -0.08800000000000008, 0.02400000000000002, 0.30400000000000027, 1.3200000000000003, 1.5120000000000005, 0.27200000000000024, 1.8239999999999998, -0.10400000000000009, 1.2080000000000002, 1.3520000000000003, -2.424, -0.1759999999999997, 0.5920000000000005, 1.4560000000000004, 1.1520000000000001, -0.5760000000000001, 0.19200000000000017, -1.032, -0.09600000000000009, -1.12, -1.8639999999999999, 1.6559999999999997, -0.32799999999999985, 0.6319999999999997, 0.16800000000000015, 0.8959999999999999, -1.416, 2.224, -0.9039999999999999, 1.1440000000000001, -0.8079999999999998, -0.16000000000000014, -0.504, -0.544, -0.43199999999999994, -0.04800000000000004, -0.7519999999999998, 0.4320000000000004, 0.40000000000000036, -0.9359999999999999, -1.2079999999999997, -0.45599999999999996, 0.3440000000000003, 1.3120000000000003, 0.20800000000000018, -2.464, -0.1120000000000001, -2.904, -0.8399999999999999, 0.7439999999999998, -2.592, 0.4480000000000004, -0.31999999999999984, 0.4720000000000004, -0.6160000000000001, -0.472, -0.24799999999999978, -0.44799999999999995, -1.032, 0.944, -0.7199999999999998, 1.912, -0.2879999999999998, 0.6639999999999997, 0.1120000000000001, -1.7679999999999998, -0.952, 0.2160000000000002, -1.7599999999999998, 0.2160000000000002, -1.112, -1.2559999999999998, 0.49600000000000044, -0.44799999999999995, -0.8399999999999999, -1.6480000000000001, 1.4720000000000004, 0.3360000000000003, 0.28000000000000025, 1.3360000000000003, 0.4560000000000004, 0.03200000000000003, 0.18400000000000016, -0.05600000000000005, 0.20000000000000018, 1.3840000000000003, -0.08000000000000007, 0.37600000000000033, 2.4720000000000004, 1.1920000000000002, -0.33599999999999985, 2.16, 1.3920000000000003, 0.3680000000000003, -1.6959999999999997, 0.976, 1.7199999999999998, -0.31999999999999984, 1.048, -0.3679999999999999, -0.7839999999999998, 0.8639999999999999, -0.504, 0.06400000000000006, -1.1919999999999997, -1.0, 0.8319999999999999, 0.2400000000000002, -1.48, -0.008000000000000007, 0.5040000000000004, 0.37600000000000033, 0.7279999999999998, -0.504, -0.552, -1.064, 0.7599999999999998, 0.3360000000000003, 2.184, 0.4240000000000004, 0.07200000000000006, -0.528, 0.5520000000000005, -0.56, 0.41600000000000037, -0.6560000000000001, 0.15200000000000014, -0.5840000000000001, 0.6239999999999997, 0.41600000000000037, 1.016, 0.28000000000000025, -1.8079999999999998, 1.4720000000000004, -0.06400000000000006, -1.016, 0.952, -0.5840000000000001, 1.08, -2.368]\n",
            "[4.678, 10.158, 11.748000000000001, 17.282, 10.602, 6.242, 13.378, 9.016, 7.244, 10.58, 6.756, 10.318, 9.568, 13.392, 7.796, 8.59, 8.642, 6.876, 10.524000000000001, 9.558, 13.156, 6.796, 13.794, 11.572000000000001, 3.138, 10.120000000000001, 12.302, 14.126, 8.592, 6.28, 3.374, 3.484, 15.804, 9.586, 13.51, 12.876, 7.84, 9.782, 5.2780000000000005, 7.606, 12.276, 7.072, 8.522, 15.908, 12.394, 5.538, 10.836, 12.108, 6.678, 9.168000000000001, 11.212, 6.316, 4.554, 9.056000000000001, 8.752, 12.828, 8.578, 11.34, 10.602, 6.94, 13.558, 10.624, 11.364, 4.8260000000000005, 9.700000000000001, 7.418, 12.936, 6.066, 14.062000000000001, 9.244, 8.8, 7.898000000000001, 10.916, 7.768, 10.006, 13.14, 6.206, 8.004, 11.642, 10.94, 10.84, 9.104000000000001, 12.91, 10.352, 7.6240000000000006, 7.258, 12.714, 9.788, 9.466000000000001, 6.024, 5.636, 12.540000000000001, 7.958, 12.836, 12.620000000000001, 8.69, 8.896, 9.132, 13.028, 6.628, 8.006, 10.142, 14.450000000000001, 8.438, 9.362, 6.872, 5.172, 10.874, 3.592, 13.692, 14.206, 10.552, 10.16, 12.394, 12.716000000000001, 6.498, 4.93, 6.2620000000000005, 10.058, 4.648, 13.92, 9.194, 10.648, 7.126, 8.056000000000001, 6.432, 5.308, 10.370000000000001, 7.726, 11.748000000000001, 11.648, 11.672, 5.368, 13.158, 6.602, 2.516, 10.304, 12.142, 10.886000000000001, 11.872, 9.996, 13.968, 9.450000000000001, 9.264, 6.878, 16.27, 13.666, 10.732000000000001, 9.068, 7.324, 11.68, 8.102, 11.904, 7.344, 8.006, 13.026, 8.620000000000001, 8.394, 13.126, 9.724, 8.782, 8.816, 10.94, 10.162, 10.612, 13.848, 11.116, 13.164, 11.128, 10.162, 7.816, 5.3660000000000005, 9.702, 11.886000000000001, 12.294, 10.41, 8.064, 2.572, 6.38, 6.106, 15.016, 11.562, 14.304, 9.15, 9.436, 5.45, 7.47, 8.218, 3.84, 9.92, 10.528, 4.22, 12.004, 7.946, 8.17, 8.196, 6.898000000000001, 12.978, 8.668000000000001, 5.18, 7.488, 10.21, 9.0, 12.356, 8.49, 8.016, 9.708, 14.912, 10.618, 11.276, 9.724, 7.694, 9.518, 11.568, 15.294, 12.944, 15.048, 8.814, 9.186, 12.516, 9.306000000000001, 8.286, 12.370000000000001, 9.732, 13.334, 11.236, 14.152000000000001, 3.928, 7.484, 11.794, 11.014, 8.984, 6.208, 6.788, 9.354000000000001, 14.21, 6.03, 11.156, 11.612, 9.524000000000001, 11.366, 11.218, 12.620000000000001, 6.692, 7.256, 16.576, 12.666, 8.58, 6.844, 11.742, 10.322000000000001, 9.542, 11.81, 12.158, 14.522, 15.132, 6.016, 8.628, 10.646, 11.82, 5.666, 10.216000000000001, 6.106, 7.86, 11.204, 8.768, 9.304, 6.988, 12.450000000000001, 6.798, 9.334, 8.098, 12.392, 11.446, 11.074, 8.23, 11.77, 7.332, 9.874, 10.69, 7.788, 10.498, 6.1000000000000005, 9.972, 3.158, 11.546, 15.226, 9.866, 10.458, 10.826, 13.488, 10.692, 11.154, 6.494, 14.69, 14.178, 9.722, 7.932, 9.212, 7.916, 5.13, 16.188, 3.5140000000000002, 9.832, 9.27, 13.002, 9.752, 8.224, 13.21, 17.21, 10.114, 9.646, 7.7940000000000005, 12.162, 2.162, 7.37, 12.112, 9.912, 8.132, 8.718, 9.626, 13.146, 9.704, 10.446, 12.094, 8.122, 14.906, 7.498, 12.508000000000001, 13.72, 8.784, 7.798, 9.966000000000001, 6.7620000000000005, 3.462, 4.0040000000000004, 15.952, 11.822000000000001, 6.642, 6.732, 8.334, 7.532, 11.458, 5.7540000000000004, 15.9, 11.168000000000001, 12.684000000000001, 9.27, 9.052, 5.336, 9.568, 11.76, 9.978, 7.296, 11.258000000000001, 9.134, 8.404, 12.058, 8.654, 15.538, 12.504, 14.054, 9.828, 5.51, 13.530000000000001, 7.408, 12.128, 8.31, 13.162, 17.2, 9.714, 10.806000000000001, 10.492, 12.234, 9.024000000000001, 9.594, 9.16, 13.994, 9.784, 8.26, 3.8280000000000003, 11.694, 12.83, 9.24, 8.798, 9.424, 10.572000000000001, 11.4, 14.448, 13.222, 3.138, 9.794, 8.088000000000001, 9.028, 15.94, 16.48, 9.934000000000001, 8.376, 4.984, 8.46, 8.128, 10.950000000000001, 13.366, 11.566, 11.77, 9.72, 5.526, 2.62, 9.616, 7.0520000000000005, 13.97, 9.356, 8.982, 6.626, 7.51, 11.334, 5.8260000000000005, 11.308, 5.8740000000000006, 6.382000000000001, 5.248, 12.862, 8.352, 9.912, 7.08, 11.422, 5.96, 9.348, 14.644, 10.882, 8.598, 7.868, 16.65, 9.738, 8.83, 6.1080000000000005, 12.168000000000001, 8.008000000000001, 6.356, 10.646, 6.896, 7.354, 6.876, 12.004, 13.234, 10.28, 9.526, 9.536, 9.07, 6.312, 6.406, 7.632000000000001, 9.966000000000001, 11.638, 6.55, 13.97, 10.15, 6.838, 4.644, 9.766, 6.5040000000000004, 4.74, 13.484, 8.158, 8.104000000000001, 13.016, 7.558, 10.404, 9.038, 5.05, 10.9, 5.426, 12.21, 4.5, 12.498000000000001, 8.53, 3.66, 8.808, 4.09, 14.318, 9.66, 11.712, 4.508, 14.51, 14.01, 10.732000000000001, 9.172, 12.044, 12.02, 10.878, 13.084, 11.488, 13.084, 11.91, 7.914000000000001, 14.902000000000001, 5.21, 8.506, 8.218, 9.902000000000001, 10.334, 8.692, 4.7860000000000005, 12.544, 9.064, 9.332, 9.93, 11.924, 11.18, 7.6240000000000006, 11.768, 4.406, 12.13, 13.994, 12.620000000000001, 8.48, 8.45, 1.248, 12.876, 5.66, 4.224, 8.67, 12.666, 7.174, 14.334, 12.996, 11.806000000000001, 7.404, 8.178, 13.258000000000001, 6.736, 12.052, 10.138, 5.698, 8.564, 11.056000000000001, 13.232000000000001, 11.99, 8.122, 8.508000000000001, 14.012, 7.04, 11.316, 10.612, 9.200000000000001, 7.622, 6.436, 7.746, 7.468, 12.94, 12.672, 4.972, 10.99, 15.85, 12.36, 5.868, 9.516, 8.082, 9.434000000000001, 8.938, 10.222, 8.112, 9.142, 8.126, 5.2700000000000005, 10.5, 14.07, 6.328, 14.946, 5.166, 11.394, 10.738, 8.014, 7.468, 9.682, 13.274000000000001, 12.682, 1.474, 8.518, 8.668000000000001, 11.082, 13.302, 10.318, 12.8, 7.696, 8.386000000000001, 8.388, 13.496, 7.3500000000000005, 10.292, 11.446, 9.816, 4.992, 11.022, 10.436, 7.08, 11.02, 7.83, 9.83, 13.858, 9.904, 13.948, 6.758, 10.224, 5.95, 9.01, 7.272, 10.064, 12.636000000000001, 9.506, 14.67, 9.648, 10.574, 7.34, 9.724, 11.048, 8.576, 4.0360000000000005, 8.036, 11.562, 6.442, 11.624, 6.3740000000000006, 12.716000000000001, 9.98, 10.284, 9.384, 8.924, 9.774000000000001, 10.03, 13.998000000000001, 11.742, 12.842, 11.262, 16.65, 6.996, 9.332, 7.288, 8.828, 7.364, 15.872, 7.728, 12.158, 5.796, 15.928, 6.848, 8.482, 10.054, 9.282, 11.106, 7.668, 11.398, 12.244, 5.8180000000000005, 17.112000000000002, 11.122, 13.870000000000001, 11.426, 13.026, 6.216, 14.164, 10.574, 13.656, 7.578, 6.922, 9.082, 14.378, 11.332, 8.972, 3.5420000000000003, 4.646, 11.558, 11.942, 11.508000000000001, 11.864, 12.842, 9.182, 9.954, 5.26, 7.7940000000000005, 7.854, 6.46, 6.88, 8.468, 6.142, 6.16, 6.51, 9.24, 16.674, 8.832, 12.532, 4.688, 3.08, 17.756, 13.154, 15.162, 10.256, 15.93, 11.824, 10.842, 10.744, 12.484, 10.76, 19.112000000000002, 10.53, 13.01, 9.684000000000001, 11.606, 14.46, 7.306, 12.424, 7.192, 3.128, 5.256, 12.686, 13.414, 13.656, 13.468, 9.446, 5.682, 9.704, 9.586, 12.562, 6.8420000000000005, 9.976, 9.89, 10.09, 11.296, 12.61, 13.418000000000001, 9.992, 5.482, 12.434000000000001, 9.984, 13.168000000000001, 1.05, 4.942, 10.396, 13.072000000000001, 12.956, 8.334, 10.294, 10.896, 10.074, 6.824, 8.784, 7.61, 9.78, 14.708, 10.378, 10.870000000000001, 7.344, 3.182, 9.442, 10.738, 10.232000000000001, 10.702, 7.522, 12.352, 11.912, 10.386000000000001, 6.272, 11.69, 12.204, 8.18, 12.896, 12.822000000000001, 10.58, 14.314, 5.98, 9.522, 10.786, 6.714, 14.774000000000001, 10.364, 9.92, 7.682, 9.392, 5.774, 8.746, 17.44, 12.288, 10.948, 7.282, 12.728, 6.018, 6.016, 6.94, 10.672, 12.994, 10.012, 9.394, 13.46, 11.71, 12.222, 9.702, 7.642, 12.14, 8.97, 8.894, 11.966000000000001, 8.022, 13.58, 6.952, 4.904, 8.812, 15.996, 2.582, 12.65, 11.704, 11.838000000000001, 11.200000000000001, 12.086, 15.082, 7.746, 7.05, 5.684, 12.454, 6.732, 8.752, 13.436, 8.994, 5.804, 8.688, 9.348, 10.294, 5.996, 8.576, 11.422, 14.428, 11.886000000000001, 12.132, 12.3, 7.712, 11.302, 14.056000000000001, 12.026, 16.272000000000002, 11.898, 11.99, 14.214, 7.62, 11.412, 12.964, 14.874, 17.288, 13.302, 14.202, 8.45, 8.844, 4.87, 5.986, 9.778, 9.326, 11.31, 9.728, 5.486, 12.118, 8.742, 9.27, 8.61, 12.302, 12.75, 15.08, 7.8340000000000005, 10.994, 4.0840000000000005, 10.496, 10.11, 9.158, 10.766, 14.302, 7.984, 9.796, 11.202, 10.376, 4.962, 12.062, 7.72, 11.642, 10.386000000000001, 7.932, 11.93, 7.1160000000000005, 14.782, 5.76, 7.852, 13.996, 15.078000000000001, 9.828, 9.564, 11.424, 10.152000000000001, 9.968, 10.290000000000001, 15.63, 4.666, 16.316, 9.262, 12.672, 5.658, 7.838, 14.192, 12.116, 13.758000000000001, 14.57, 12.528, 14.22, 10.912, 13.244, 7.67, 6.412, 10.724, 5.508, 11.532, 10.048, 9.564, 7.178, 16.588, 9.82, 8.018, 13.706, 15.782, 10.144, 12.038, 7.328, 11.612, 14.94, 8.592, 12.6, 6.418, 15.358, 13.406, 12.466000000000001, 8.41, 5.5920000000000005, 14.354000000000001, 10.14, 9.34, 3.884, 9.294, 5.84, 6.472, 10.25, 9.540000000000001, 10.5, 9.972, 12.596, 11.398, 10.472, 10.582, 15.812000000000001, 6.94, 4.55, 6.0280000000000005, 16.990000000000002, 7.306, 10.982000000000001, 9.512, 8.468, 11.812, 8.592, 14.094, 8.202, 13.378, 15.38, 11.984, 9.904, 9.646, 10.93, 14.928, 9.196, 12.778, 9.022, 7.194, 13.236, 4.884, 8.578, 6.058, 9.38, 6.806, 9.744, 6.05, 5.362, 15.620000000000001, 13.504, 9.48, 7.53, 10.24, 6.594, 9.14, 14.168000000000001, 3.856, 4.298, 11.424, 5.0280000000000005, 10.216000000000001, 6.8580000000000005, 7.878, 7.1240000000000006, 5.466, 8.96, 4.41, 18.924, 10.51, 11.772, 13.414, 7.646, 11.316, 12.754, 13.176, 9.86, 5.728, 4.23, 9.294, 9.124, 8.894, 11.23, 17.06, 7.998, 14.764000000000001, 8.806000000000001, 11.168000000000001, 12.762, 7.354, 10.862, 7.8260000000000005, 9.352, 10.428, 8.124, 13.638, 9.336, 8.09, 7.228, 7.6000000000000005, 12.282, 13.154, 10.882, 9.196, 9.466000000000001, 13.494, 6.138, 11.612, 12.122, 8.242, 14.040000000000001, 11.828, 5.3740000000000006, 9.292, 9.540000000000001, 9.274000000000001, 15.672, 6.76, 10.432, 4.848, 15.934000000000001, 5.99, 8.858, 11.886000000000001, 7.924, 9.906, 6.042, 12.828, 11.308, 10.568, 10.35, 6.344, 6.0920000000000005, 5.824, 10.448, 11.884, 16.2, 11.266, 11.098, 10.684000000000001, 13.448, 8.52, 5.0520000000000005, 7.962, 7.8660000000000005, 4.472, 8.24, 9.798, 6.22, 5.086, 9.948, 8.732, 11.486, 9.266, 10.626, 5.412, 11.268, 7.824, 12.968, 8.19, 9.540000000000001, 9.574, 16.378, 7.644, 8.816, 9.646, 9.412, 4.95, 15.082, 8.908, 11.868, 9.556000000000001, 6.908, 10.736, 11.134, 9.838000000000001, 6.878, 9.742, 10.57, 9.198, 11.056000000000001, 10.524000000000001, 3.306, 10.39, 9.040000000000001, 6.662, 11.724, 11.886000000000001, 12.790000000000001, 9.664, 10.156, 11.114, 14.876, 7.752, 9.468, 10.108, 9.762, 8.464, 7.128, 12.312, 12.002, 12.47, 10.168000000000001, 10.722, 9.936, 12.834, 14.306000000000001, 14.346, 7.414000000000001, 9.534, 8.334, 14.290000000000001, 13.362, 5.372, 8.67, 10.572000000000001, 13.794, 10.722, 13.922, 7.658, 12.066, 7.97, 4.532, 13.942, 4.82, 11.046, 12.666, 8.774000000000001, 7.1240000000000006, 9.174, 5.282, 10.200000000000001, 10.14, 12.284, 6.57, 6.42, 7.104, 7.356, 9.752, 13.27, 8.496, 14.64, 8.286, 9.386000000000001, 10.51, 4.154, 11.636000000000001, 8.48, 11.32, 10.546, 10.446, 11.408, 6.666, 6.392, 8.31, 14.122, 6.142, 6.228, 13.166, 13.514000000000001, 8.64, 11.644, 7.71, 13.028, 11.58, 16.306, 10.738, 10.518, 8.856, 13.958, 3.052, 10.556000000000001, 7.704, 6.604, 5.266, 9.626, 10.448, 11.626, 12.834, 11.112, 9.492, 6.6240000000000006, 6.752, 7.23, 9.928, 8.016, 11.098, 13.42, 12.422, 12.14, 16.096, 12.280000000000001, 12.554, 14.774000000000001, 3.45, 9.370000000000001, 15.212, 5.166, 6.522, 8.148, 10.784, 9.96, 7.742, 6.936, 8.63, 10.898, 6.8260000000000005, 11.804, 6.974, 8.788, 8.522, 11.5, 9.084, 8.32, 9.06, 10.784, 6.758, 4.54, 12.886000000000001, 11.868, 12.408, 8.32, 10.388, 8.844, 10.81, 14.846, 7.654, 8.106, 11.336, 13.328, 7.74, 12.344, 7.746, 3.228, 12.634, 11.23, 10.626, 8.442, 15.518, 5.242, 9.278, 13.104000000000001, 7.824, 14.698, 8.796, 10.412, 6.456, 9.084, 10.694, 9.002, 9.158, 15.72, 9.734, 11.676, 15.174, 7.026, 15.834, 12.728, 12.272, 8.6, 16.41, 9.242, 4.498, 6.892, 5.126, 13.132, 11.56, 10.932, 11.354000000000001, 11.544, 13.232000000000001, 5.928, 10.142, 10.482000000000001, 10.408, 11.336, 4.234, 13.988, 4.312, 8.286, 6.868, 12.062, 7.978, 8.796, 15.83, 16.156, 13.668000000000001, 15.222, 13.838000000000001, 12.938, 14.576, 13.282, 7.494, 11.988, 12.142, 9.458, 8.322000000000001, 12.508000000000001, 10.958, 9.158, 11.832, 13.836, 8.274000000000001, 7.628, 13.638, 11.098, 6.138, 11.958, 9.496, 12.448, 14.442, 11.82, 11.004, 9.406, 7.0, 1.782, 4.014, 9.65, 10.992, 12.214, 9.738, 9.888, 12.352, 12.328, 14.418000000000001, 9.278, 11.16, 14.034, 9.894, 4.406, 5.882000000000001, 10.998000000000001, 8.808, 12.33, 11.214, 8.656, 12.898, 11.98, 9.518, 3.94, 12.65, 13.308, 8.19, 11.352, 10.086, 11.232000000000001, 16.168, 8.978, 12.362, 9.414, 10.428, 10.944, 11.906, 12.91, 9.18, 6.816, 11.016, 7.928, 5.958, 11.796, 10.676, 13.928, 11.536, 7.362, 8.28, 9.618, 8.818, 11.78, 8.736, 8.682, 13.97, 11.342, 5.516, 9.03, 9.562, 5.352, 6.832, 12.906, 6.766, 8.514, 4.346, 9.212, 12.086, 16.136, 8.474, 10.948, 7.912, 12.91, 13.672, 10.782, 7.312, 10.716000000000001, 10.5, 6.95, 9.512, 11.994, 13.532, 17.916, 6.538, 6.978, 7.486, 12.462, 9.586, 6.122, 11.862, 7.0360000000000005, 17.904, 11.372, 8.504, 9.846, 10.196, 6.312, 9.462, 8.428, 13.748000000000001, 10.324, 8.92, 13.318, 12.838000000000001, 15.456, 7.214, 12.92, 9.388, 9.244, 8.492, 6.236, 10.636000000000001, 8.71, 14.214, 6.202, 11.616, 5.468, 12.206, 9.862, 11.326, 13.776, 7.23, 10.404, 11.156, 8.066, 5.482, 9.232, 11.78, 12.324, 8.858, 6.642, 3.888, 9.348, 12.536, 13.632, 10.404, 11.516, 8.59, 5.822, 12.672, 5.574, 13.236, 10.99, 7.872, 12.17, 17.228, 10.864, 8.022, 8.892, 8.56, 5.774, 11.606, 10.950000000000001, 8.896, 13.442, 9.852, 14.098, 10.23, 8.662, 12.946, 10.67, 9.464, 4.418, 9.218, 6.9, 13.84, 14.966000000000001, 8.866, 9.384, 10.642, 4.078, 12.446, 9.572000000000001, 8.158, 12.65, 9.912, 9.532, 13.746, 9.978, 8.49, 13.012, 14.594, 9.412, 13.554, 10.768, 10.182, 8.062, 11.488, 9.946, 8.52, 9.428, 9.288, 3.68, 12.052, 10.56, 9.684000000000001, 11.106, 7.098, 12.200000000000001, 8.188, 9.44, 8.64, 9.966000000000001, 9.388, 11.044, 11.004, 10.754, 10.742, 6.448, 9.334, 11.0, 6.458, 9.164, 11.538, 17.02, 10.898, 10.322000000000001, 12.868, 10.384, 16.296, 12.156, 11.57, 10.498, 6.096, 8.424, 9.57, 10.616, 10.984, 9.344, 6.688, 11.434000000000001, 11.726, 6.96, 11.536, 9.182, 11.694, 7.814, 13.132, 13.780000000000001, 9.124, 7.144, 11.466000000000001, 8.040000000000001, 8.466, 8.364, 6.07, 9.17, 8.892, 9.918000000000001, 13.404, 12.424, 11.4, 10.484, 14.47, 9.394, 11.158, 14.514000000000001, 6.602, 8.348, 8.324, 7.172, 8.914, 6.714, 8.708, 8.172, 9.798, 9.352, 10.816, 9.562, 13.944, 12.094, 10.950000000000001, 4.562, 9.816, 10.494, 8.34, 12.74, 8.934000000000001, 9.692, 7.84, 2.584, 8.894, 14.464, 9.72, 17.108, 10.89, 9.338000000000001, 9.376, 8.808, 3.922, 12.568, 8.484, 8.622, 11.276, 15.502, 6.188, 16.830000000000002, 6.712, 6.274, 13.686, 11.786, 8.84, 8.392, 7.132000000000001, 10.728, 5.5360000000000005, 14.21, 6.5600000000000005, 10.08, 10.178, 14.72, 11.718, 10.478, 6.432, 11.886000000000001, 6.868, 12.102, 12.628, 11.076, 8.896, 7.554, 13.624, 5.812, 11.262, 7.784, 7.538, 10.052, 8.858, 10.93, 7.704, 5.6000000000000005, 6.424, 8.468, 10.994, 4.5120000000000005, 9.444, 5.3500000000000005, 10.802, 15.432, 8.248, 10.506, 4.558, 9.918000000000001, 11.188, 12.672, 9.452, 12.344, 9.82, 8.236, 7.684, 10.526, 7.684, 11.802, 5.7700000000000005, 11.354000000000001, 15.924, 7.972, 8.992, 10.07, 7.752, 7.524, 14.27, 4.14, 11.48, 10.478, 9.27, 9.858, 11.192, 12.878, 10.566, 7.5600000000000005, 13.348, 6.93, 5.468, 6.742, 10.868, 14.958, 11.352, 6.5920000000000005, 11.746, 9.414, 6.426, 10.742, 9.298, 15.604000000000001, 13.83, 9.602, 5.914, 9.504, 9.986, 7.572, 10.188, 14.442, 5.534, 5.338, 12.158, 11.362, 8.522, 15.348, 8.298, 11.712, 8.146, 7.0840000000000005, 11.948, 16.012, 13.542, 9.452, 10.818, 9.572000000000001, 8.842, 8.5, 9.15, 5.492, 8.724, 9.568, 13.226, 14.99, 5.904, 10.942, 9.752, 10.102, 2.782, 12.082, 9.478, 13.290000000000001, 6.134, 12.462, 7.618, 11.834, 15.058, 12.368, 11.540000000000001, 10.994, 11.788, 7.632000000000001, 4.782, 9.48, 8.362, 5.04, 8.286, 9.934000000000001, 16.144000000000002, 11.912, 6.798, 10.258000000000001, 11.378, 3.742, 13.406, 8.626, 13.9, 7.072, 7.736, 12.728, 9.702, 4.926, 7.756, 8.442, 12.394, 14.318, 11.714, 8.494, 8.55, 8.370000000000001, 9.124, 9.312, 13.148, 11.126, 4.434, 6.964, 8.118, 13.924, 13.688, 7.8, 11.382, 9.076, 9.196, 11.362, 11.15, 5.438, 7.496, 4.906, 14.938, 13.336, 14.292, 14.602, 10.058, 11.186, 9.712, 8.19, 8.22, 9.78, 9.494, 9.994, 13.498000000000001, 3.3280000000000003, 7.2700000000000005, 9.108, 9.796, 10.312, 9.586, 11.708, 7.788, 15.318, 9.07, 11.408, 6.8260000000000005, 8.446, 8.956, 11.592, 13.072000000000001, 9.542, 11.944, 10.048, 10.49, 10.718, 13.908, 8.256, 15.948, 7.046, 13.204, 14.676, 10.458, 11.678, 15.754, 9.540000000000001, 6.284, 9.296, 8.824, 11.344, 6.392, 1.672, 9.884, 11.540000000000001, 11.88, 13.726, 11.082, 12.442, 9.366, 8.858, 11.17, 12.504, 14.922, 9.468, 11.246, 13.494, 13.686, 11.38, 7.206, 8.790000000000001, 7.0280000000000005, 11.084, 10.032, 8.108, 8.826, 10.388, 9.55, 8.21, 8.634, 10.290000000000001, 8.796, 11.132, 8.446, 8.03, 9.0, 14.928, 6.7940000000000005, 11.234, 9.768, 8.184000000000001, 6.96, 8.076, 8.24, 4.742, 10.496, 8.696, 9.186, 7.566, 11.644, 9.642, 13.546000000000001, 8.216, 6.944, 13.59, 8.612, 11.274000000000001, 11.468, 9.946, 11.452, 13.396, 11.952, 12.870000000000001, 7.058, 12.47, 12.864, 9.94, 13.398, 4.912, 11.912, 11.928, 9.23, 12.468, 15.598, 7.742, 6.144, 11.664, 10.048, 7.514, 10.828, 5.884, 10.448, 10.792, 12.504, 14.856, 6.524, 9.278, 13.700000000000001, 12.136000000000001, 11.77, 12.298, 8.58, 9.164, 8.642, 10.212, 12.370000000000001, 3.154, 12.898, 8.036, 14.72, 11.492, 5.946, 14.282, 9.578, 11.496, 8.954, 9.434000000000001, 5.88, 9.462, 7.416, 10.65, 11.768, 6.178, 8.176, 10.55, 9.498, 14.84, 9.472, 10.458, 7.71, 9.706, 18.242, 14.836, 7.396, 7.998, 7.474, 9.216000000000001, 4.242, 9.094, 11.01, 4.518, 8.56, 4.764, 9.822000000000001, 10.488, 12.272, 8.102, 13.8, 13.36, 10.358, 9.38, 8.106, 4.746, 8.57, 13.248000000000001, 7.782, 10.202, 6.07, 12.824, 12.322000000000001, 9.148, 7.0, 10.692, 9.19, 7.574, 11.17, 13.806000000000001, 10.838000000000001, 11.326, 12.448, 9.312, 5.3, 9.474, 9.298, 9.476, 11.226, 7.228, 10.334, 13.05, 7.046, 9.674, 9.352, 10.096, 18.696, 10.03, 6.026, 8.71, 8.208, 12.656, 12.008000000000001, 12.942, 8.238, 2.206, 10.620000000000001, 9.682, 5.976, 14.836, 10.39, 6.214, 6.3, 7.752, 7.5, 10.6, 6.332, 8.120000000000001, 8.31, 4.248, 13.194, 10.622, 13.534, 15.312000000000001, 8.736, 7.546, 14.622, 9.138, 7.914000000000001, 8.55, 10.216000000000001, 11.136000000000001, 11.222, 10.652000000000001, 15.524000000000001, 9.26, 7.95, 5.226, 12.506, 9.226, 10.422, 11.448, 5.3340000000000005, 11.028, 15.38, 14.272, 11.700000000000001, 9.542, 7.752, 6.890000000000001, 6.804, 7.998, 10.752, 9.9, 5.672, 15.328000000000001, 11.666, 8.532, 17.852, 8.668000000000001, 5.924, 12.318, 11.888, 7.05, 11.474, 9.492, 6.6080000000000005, 6.266, 8.588000000000001, 7.49, 10.802, 7.806, 9.318, 9.896, 11.802, 9.972, 6.882000000000001, 13.868, 12.656, 8.032, 7.646, 9.378, 16.93, 8.304, 10.822000000000001, 7.716, 7.664000000000001, 13.878, 14.918000000000001, 6.392, 14.242, 4.804, 11.4, 6.026, 11.620000000000001, 6.508, 11.394, 7.606, 7.824, 6.926, 13.348, 15.632, 3.398, 7.132000000000001, 9.55, 10.06, 9.67, 6.164, 11.488, 9.422, 5.694, 10.23, 7.158, 13.334, 14.108, 10.638, 15.312000000000001, 7.732, 9.382, 10.948, 1.3940000000000001, 12.72, 12.172, 12.362, 8.58, 10.14, 6.768, 8.52, 8.776, 7.554, 9.998, 9.546, 9.904, 7.5520000000000005, 10.508000000000001, 7.558, 6.22, 11.832, 13.32, 2.992, 14.068, 8.456, 11.706, 9.76, 10.568, 12.416, 11.556000000000001, 12.394, 4.12, 9.59, 7.468, 7.792, 9.068, 6.936, 8.46, 11.25, 12.018, 10.98, 8.294, 7.456, 13.316, 12.558, 8.700000000000001, 8.418000000000001, 16.864, 4.0920000000000005, 6.654, 10.198, 13.61, 8.392, 5.97, 7.542, 13.696, 12.906, 8.198, 11.524000000000001, 5.472, 9.656, 9.13, 6.958, 11.588000000000001, 10.744, 7.0600000000000005, 10.222, 15.864, 10.894, 13.15, 15.434000000000001, 13.226, 11.658, 9.676, 3.606, 15.9, 8.884, 6.448, 9.55, 7.788, 18.076, 8.214, 15.184000000000001, 7.18, 11.812, 3.716, 10.986, 7.378, 8.442, 9.736, 11.496, 7.118, 11.274000000000001, 10.098, 10.082, 9.358, 12.848, 4.986, 6.692, 11.444, 9.64, 8.862, 8.352, 8.704, 12.486, 11.652000000000001, 11.156, 10.94, 15.754, 12.132, 9.75, 17.444, 9.844, 5.5680000000000005, 13.816, 12.376, 10.044, 7.328, 10.14, 3.914, 10.178, 16.992, 13.096, 10.322000000000001, 9.198, 13.756, 8.23, 7.12, 10.84, 12.11, 18.476, 6.01, 8.34, 13.122, 12.986, 9.742, 4.942, 10.870000000000001, 9.41, 12.290000000000001, 14.228, 8.700000000000001, 16.11, 8.118, 11.138, 7.33, 12.632, 9.708, 9.528, 11.084, 9.616, 9.908, 10.154, 7.464, 12.586, 13.034, 5.92, 12.382, 13.532, 11.414, 13.062, 13.736, 7.5760000000000005, 14.716000000000001, 13.618, 13.530000000000001, 15.008000000000001, 9.692, 10.988, 7.994, 13.524000000000001, 14.012, 7.538, 13.638, 9.274000000000001, 2.5460000000000003, 9.224, 14.84, 7.298, 11.442, 5.382, 9.084, 10.57, 10.726, 6.242, 6.734, 11.968, 9.192, 10.65, 12.664, 11.718, 8.344, 9.806000000000001, 15.42, 9.132, 7.276, 10.078, 13.098, 4.952, 13.922, 17.176000000000002, 12.77, 9.426, 11.47, 10.102, 5.702, 10.248, 11.724, 7.5200000000000005, 9.862, 6.714, 5.588, 6.844, 8.626, 6.692, 14.726, 15.244, 8.312, 9.334, 12.414, 9.488, 7.78, 14.626, 11.784, 8.47, 15.256, 12.682, 11.742, 12.142, 11.290000000000001, 8.88, 10.918000000000001, 12.438, 10.076, 8.602, 13.206, 10.73, 8.358, 14.41, 8.138, 12.146, 3.612, 11.926, 12.530000000000001, 10.408, 8.566, 14.444, 12.252, 13.036, 7.916, 15.172, 10.766, 11.902000000000001, 7.064, 2.822, 12.466000000000001, 8.870000000000001, 7.604, 9.99, 11.41, 10.664, 7.034, 9.824, 11.342, 14.122, 12.370000000000001, 11.208, 9.996, 6.862, 10.182, 13.422, 11.858, 9.99, 4.662, 10.49, 2.728, 6.316, 9.216000000000001, 7.596, 7.862, 11.538, 8.768, 14.72, 10.700000000000001, 8.282, 13.0, 10.262, 11.214, 13.426, 12.66, 8.57, 7.422000000000001, 7.032, 8.028, 10.202, 11.072000000000001, 14.046000000000001, 4.15, 7.356, 12.242, 6.508, 8.862, 7.912, 4.66, 10.806000000000001, 9.322000000000001, 6.332, 8.162, 13.63, 9.566, 12.174, 14.112, 7.282, 9.388, 8.91, 10.452, 13.372, 16.678, 7.08, 9.13, 8.224, 14.712, 10.69, 5.798, 9.854000000000001, 8.872, 10.9, 10.536, 7.714, 8.802, 8.4, 2.834, 7.55, 13.68, 7.716, 12.66, 6.304, 10.624, 8.542, 9.528, 12.792, 5.658, 6.448, 13.218, 3.074, 10.38, 16.61, 10.838000000000001, 7.884, 10.478, 7.844, 6.054, 6.2, 9.488, 14.772, 11.778, 13.68, 5.498, 12.298, 9.08, 12.772, 7.734, 6.668, 11.482000000000001, 12.07, 9.736, 7.42, 11.934000000000001, 10.756, 14.374, 9.08, 10.312, 6.812, 14.536, 4.714, 12.372, 8.794, 5.55, 6.316, 10.16, 13.018, 7.48, 9.882, 10.842, 6.3580000000000005, 12.426, 8.596, 10.116, 9.086, 11.94, 6.982, 11.708, 7.244, 9.15, 8.618, 4.522, 7.246, 7.2700000000000005, 5.444, 10.422, 12.244, 10.518, 9.668000000000001, 10.296, 9.426, 7.934, 11.06, 9.794, 11.314, 11.406, 3.9, 12.370000000000001, 13.934000000000001, 9.61, 9.86, 4.01, 7.054, 17.036, 10.996, 5.222, 5.514, 8.654, 8.486, 4.242, 4.636, 5.2540000000000004, 8.59, 10.122, 11.678, 7.46, 7.174, 8.372, 10.946, 9.618, 9.088000000000001, 10.322000000000001, 11.188, 9.994, 12.334, 7.644, 11.904, 15.016, 2.918, 11.952, 10.942, 10.534, 9.842, 12.536, 7.228, 7.082, 8.934000000000001, 10.518, 8.91, 12.248000000000001, 4.7780000000000005, 10.97, 13.14, 11.796, 6.41, 4.78, 9.974, 6.34, 9.082, 11.128, 9.368, 7.3420000000000005, 10.174, 14.168000000000001, 7.166, 17.122, 6.846, 11.32, 12.896, 6.76, 11.316, 8.218, 6.672, 13.43, 12.540000000000001, 8.144, 9.878, 6.398000000000001, 6.892, 6.722, 10.812, 14.924, 9.344, 7.708, 14.144, 2.162, 9.506, 8.788, 9.33, 11.006, 11.682, 11.624, 9.262, 11.518, 10.99, 15.734, 6.914, 10.65, 9.652000000000001, 14.298, 7.672000000000001, 12.584, 14.262, 11.616, 7.978, 10.356, 12.004, 12.66, 11.132, 13.522, 12.922, 10.540000000000001, 12.144, 10.182, 8.68, 11.252, 6.716, 8.978, 9.738, 3.218, 7.182, 13.51, 11.75, 10.92, 8.72, 11.864, 15.522, 12.196, 13.458, 12.682, 10.790000000000001, 8.906, 14.016, 8.238, 13.700000000000001, 7.704, 8.768, 6.388, 8.072000000000001, 7.758, 12.166, 5.906, 10.164, 8.112, 7.058, 7.158, 10.548, 8.3, 7.212, 9.188, 9.120000000000001, 6.5520000000000005, 12.192, 8.99, 12.078, 4.48, 8.694, 11.984, 8.482, 11.464, 11.742, 8.488, 12.1, 8.648, 10.8, 11.558, 4.21, 14.63, 11.508000000000001, 6.862, 8.276, 5.954, 13.024000000000001, 13.26, 14.864, 8.5, 10.106, 12.368, 9.276, 10.302, 9.968, 16.256, 10.084, 12.836, 11.096, 8.064, 10.668000000000001, 10.57, 10.288, 11.508000000000001, 10.402000000000001, 7.238, 15.126, 4.948, 4.422, 7.894, 8.69, 5.26, 8.682, 11.284, 12.6, 6.716, 10.804, 5.846, 13.462, 9.524000000000001, 5.664, 9.144, 11.02, 8.802, 13.556000000000001, 7.472, 13.084, 4.5920000000000005, 8.516, 10.68, 16.794, 9.726, 8.264, 18.736, 10.804, 10.282, 10.262, 6.312, 10.33, 5.26, 6.458, 12.790000000000001, 10.448, 13.188, 8.81, 10.116, 8.976, 6.716, 6.878, 13.574, 11.084, 17.674, 11.128, 5.446, 7.332, 10.502, 12.314, 9.812, 9.316, 9.118, 12.502, 0.8180000000000001, 4.314, 10.72, 14.064, 12.178, 11.004, 6.3100000000000005, 9.268, 10.55, 7.016, 4.514, 5.34, 9.246, 4.0200000000000005, 11.758000000000001, 9.356, 7.8, 6.848, 12.97, 9.484, 10.542, 6.096, 5.622, 9.018, 11.540000000000001, 2.878, 11.508000000000001, 15.542, 12.728, 9.402000000000001, 12.098, 14.244, 9.282, 9.242, 11.962, 7.668, 13.018, 6.792, 12.07, 8.838000000000001, 4.212, 8.120000000000001, 10.67, 10.564, 6.764, 9.072000000000001, 10.778, 9.428, 9.036, 10.352, 7.694, 11.578, 7.656000000000001, 9.378, 15.894, 14.262, 5.934, 9.33, 12.966000000000001, 13.484, 3.314, 10.732000000000001, 13.23, 9.544, 8.496, 6.914, 12.004, 7.888, 14.854000000000001, 6.774, 12.186, 10.51, 13.768, 9.24, 16.438, 16.066, 13.816, 8.838000000000001, 6.37, 6.8660000000000005, 10.290000000000001, 9.748, 12.982000000000001, 12.388, 6.752, 9.312, 11.504, 7.44, 12.232000000000001, 3.77, 6.238, 9.26, 13.896, 7.164000000000001, 4.666, 11.266, 15.35, 6.892, 6.1080000000000005, 6.964, 14.868, 10.73, 13.766, 12.914, 13.982000000000001, 10.49, 10.24, 6.474, 15.044, 6.066, 16.94, 7.658, 9.544, 10.474, 10.894, 7.656000000000001, 5.888, 10.598, 8.162, 9.766, 9.974, 7.640000000000001, 14.536, 4.63, 9.862, 12.708, 11.414, 7.948, 12.902000000000001, 12.382, 12.224, 9.836, 6.772, 9.676, 14.572000000000001, 12.382, 11.450000000000001, 8.77, 15.108, 13.676, 9.832, 10.138, 7.474, 3.106, 7.484, 15.444, 9.402000000000001, 15.854000000000001, 16.002, 9.298, 8.386000000000001, 8.082, 9.884, 13.4, 9.432, 11.316, 11.75, 13.478, 12.608, 10.26, 8.154, 5.07, 15.5, 7.752, 12.072000000000001, 8.872, 6.12, 5.522, 12.238, 7.942, 10.796, 10.974, 9.014, 12.844, 9.558, 9.668000000000001, 8.306000000000001, 11.054, 9.88, 11.754, 6.798, 6.634, 8.09, 13.686, 7.272, 11.372, 10.024000000000001, 9.168000000000001, 9.582, 11.008000000000001, 9.814, 5.398, 12.392, 7.946, 7.064, 3.956, 13.718, 16.056, 7.368, 11.17, 11.18, 6.072, 8.764, 6.382000000000001, 1.074, 11.348, 16.018, 11.38, 15.652000000000001, 6.0280000000000005, 12.124, 11.932, 8.09, 9.504, 8.762, 6.764, 9.97, 10.124, 4.68, 7.0680000000000005, 9.388, 12.316, 15.618, 4.328, 7.644, 11.992, 11.72, 6.176, 11.248000000000001, 10.382, 5.7, 6.836, 9.232, 10.224, 17.34, 7.918, 14.752, 13.31, 16.39, 10.084, 12.540000000000001, 5.946, 11.174, 4.522, 7.8660000000000005, 9.892, 12.324, 9.074, 7.632000000000001, 8.474, 10.864, 6.61, 9.65, 7.444, 9.552, 8.538, 9.404, 6.872, 15.062000000000001, 13.652000000000001, 10.292, 11.146, 8.26, 6.632000000000001, 7.0760000000000005, 8.084, 7.164000000000001, 11.766, 10.968, 14.016, 6.25, 8.206, 12.062, 14.874, 13.822000000000001, 8.876, 6.008, 11.524000000000001, 11.540000000000001, 9.522, 16.644000000000002, 6.404, 4.654, 8.052, 6.3660000000000005, 9.214, 8.328, 8.454, 7.908, 9.874, 15.444, 13.672, 8.166, 9.122, 11.484, 6.916, 9.436, 6.338, 10.518, 11.47, 9.408, 13.258000000000001, 8.752, 9.24, 10.088000000000001, 9.998, 7.7940000000000005, 15.982000000000001, 6.886, 8.25, 12.64, 8.476, 8.32, 7.912, 10.056000000000001, 10.064, 8.186, 10.392, 5.8180000000000005, 13.038, 4.992, 9.594, 9.35, 7.07, 11.03, 10.728, 14.068, 4.95, 11.374, 9.872, 12.264000000000001, 12.58, 11.17, 11.534, 3.5020000000000002, 10.456, 4.5, 3.124, 10.368, 12.71, 6.354, 7.812, 9.926, 10.194, 10.33, 13.032, 12.268, 12.432, 13.266, 12.394, 12.208, 4.356, 11.316, 9.416, 13.478, 15.082, 10.040000000000001, 15.784, 11.976, 10.972, 11.202, 12.366, 11.1, 11.6, 10.022, 13.376, 11.736, 12.134, 10.068, 14.88, 8.554, 7.8, 10.906, 7.2940000000000005, 6.902, 8.414, 10.082, 6.0, 11.536, 11.596, 10.338000000000001, 18.54, 15.89, 7.868, 6.41, 8.84, 5.174, 12.606, 9.43, 9.546, 6.178, 9.682, 11.974, 10.192, 12.67, 7.248, 16.844, 6.782, 14.376, 8.972, 6.088, 8.286, 8.828, 12.76, 9.062, 5.892, 8.852, 15.716000000000001, 6.654, 13.842, 5.766, 7.434, 8.502, 8.64, 7.98, 12.99, 13.222, 11.16, 11.104000000000001, 6.596, 9.88, 16.816, 7.24, 8.92, 16.822, 10.766, 12.414, 7.488, 7.336, 10.246, 14.592, 8.602, 8.112, 14.296000000000001, 10.322000000000001, 9.91, 9.392, 13.21, 10.602, 11.796, 15.194, 7.058, 9.57, 6.54, 6.498, 6.852, 14.572000000000001, 13.946, 8.234, 7.768, 11.292, 9.772, 12.398, 10.61, 9.858, 13.57, 9.954, 8.002, 8.422, 8.332, 5.604, 13.152000000000001, 8.632, 10.342, 14.044, 9.018, 8.634, 9.482, 9.544, 8.956, 13.878, 7.688, 6.932, 5.618, 9.512, 9.714, 10.374, 13.096, 8.75, 9.696, 4.072, 7.8180000000000005, 6.61, 14.236, 14.016, 14.612, 8.55, 9.058, 8.986, 12.236, 6.314, 10.052, 5.2860000000000005, 7.244, 10.694, 11.834, 6.172, 9.518, 11.252, 9.812, 10.788, 10.106, 11.262, 9.508000000000001, 11.674, 13.472, 13.088000000000001, 7.966, 5.7, 8.876, 12.656, 8.83, 11.594, 11.92, 11.738, 11.496, 7.0200000000000005, 8.436, 9.208, 11.788, 10.966000000000001, 8.366, 9.976, 6.5280000000000005, 9.06, 12.994, 4.402, 5.958, 6.224, 4.934, 10.768, 8.564, 12.336, 9.228, 9.808, 12.488, 10.74, 12.428, 14.888, 7.462, 6.306, 10.058, 13.784, 14.262, 10.946, 9.504, 7.156000000000001, 10.02, 11.388, 6.752, 11.984, 15.17, 9.092, 8.608, 11.962, 13.592, 10.65, 6.232, 9.872, 6.704, 6.582, 7.95, 11.402000000000001, 7.38, 6.248, 7.752, 7.292, 7.144, 9.694, 8.598, 7.378, 9.06, 9.308, 12.316, 8.682, 8.75, 8.68, 12.658, 10.006, 10.588000000000001, 9.35, 2.222, 9.848, 8.896, 9.838000000000001, 14.142, 12.644, 17.14, 4.586, 11.34, 13.866, 10.81, 10.812, 5.758, 9.464, 16.07, 11.39, 9.31, 5.682, 9.712, 13.776, 3.0260000000000002, 9.75, 14.916, 8.58, 11.822000000000001, 12.484, 13.744, 6.6160000000000005, 8.31, 5.636, 11.988, 8.788, 9.232, 8.212, 8.15, 9.652000000000001, 10.73, 9.022, 9.824, 3.396, 9.578, 10.844, 8.458, 5.0920000000000005, 7.716, 11.15, 12.028, 13.58, 9.342, 16.232, 11.200000000000001, 12.328, 5.08, 13.534, 10.540000000000001, 13.138, 12.97, 10.212, 7.5760000000000005, 5.932, 13.008000000000001, 8.622, 12.486, 11.316, 15.418000000000001, 11.544, 8.78, 9.186, 11.856, 8.154, 17.196, 12.636000000000001, 10.082, 8.904, 9.05, 9.526, 1.974, 8.714, 13.004, 9.788, 8.32, 7.888, 10.586, 8.452, 8.234, 10.386000000000001, 8.428, 10.678, 10.352, 14.534, 7.21, 11.22, 8.732, 11.816, 8.44, 11.938, 17.926000000000002, 5.848, 12.49, 4.956, 12.468, 6.904, 13.848, 13.956, 11.622, 11.82, 7.91, 12.968, 11.924, 8.208, 9.96, 8.536, 9.464, 10.958, 12.14, 10.412, 15.654, 7.292, 15.120000000000001, 9.182, 7.916, 13.496, 9.3, 9.916, 12.118, 5.8340000000000005, 14.258000000000001, 17.682, 10.554, 5.886, 12.106, 13.432, 13.77, 11.158, 12.596, 8.612, 7.11, 6.862, 6.708, 11.848, 12.732000000000001, 15.064, 11.576, 6.1000000000000005, 8.726, 6.756, 14.424, 9.118, 7.7860000000000005, 8.888, 6.458, 7.668, 8.416, 12.766, 11.524000000000001, 8.53, 18.988, 8.604000000000001, 9.120000000000001, 10.034, 10.978, 10.192, 12.246, 12.672, 7.198, 3.0660000000000003, 12.024000000000001, 11.546, 14.692, 13.352, 14.028, 14.752, 6.758, 6.63, 9.988, 14.994, 9.904, 10.318, 7.094, 7.464, 9.598, 5.5520000000000005, 7.956, 4.66, 11.174, 11.366, 10.726, 6.306, 12.136000000000001, 11.540000000000001, 14.886000000000001, 10.620000000000001, 12.102, 12.404, 6.376, 7.248, 10.28, 11.494, 10.18, 15.954, 9.038, 15.788, 7.618, 10.318, 7.0520000000000005, 11.774000000000001, 7.694, 14.41, 4.978, 8.69, 13.77, 10.688, 14.134, 2.864, 5.042, 10.322000000000001, 7.79, 9.188, 12.422, 10.512, 8.774000000000001, 11.578, 12.064, 6.3340000000000005, 17.364, 11.426, 9.71, 13.106, 10.51, 12.174, 10.638, 9.722, 4.442, 15.64, 5.5600000000000005, 6.804, 15.252, 9.8, 10.08, 8.382, 4.356, 12.412, 11.518, 11.978, 11.194, 10.376, 8.546, 12.012, 6.582, 10.856, 5.014, 6.638, 6.338, 5.476, 8.004, 6.974, 5.368, 6.534, 8.268, 11.394, 11.184000000000001, 8.012, 3.2840000000000003, 11.616, 11.116, 8.058, 5.478, 13.816, 11.14, 6.398000000000001, 12.816, 13.200000000000001, 6.382000000000001, 9.494, 8.808, 6.16, 5.32, 7.24, 10.24, 10.618, 11.152000000000001, 9.69, 12.478, 10.31, 7.5520000000000005, 11.082, 7.634, 7.378, 13.030000000000001, 12.046, 8.998, 9.962, 14.976, 9.846, 12.832, 6.932, 15.592, 4.624, 5.104, 10.834, 12.552, 11.892, 6.468, 6.956, 11.286, 11.614, 6.964, 11.574, 15.610000000000001, 8.798, 9.794, 7.38, 13.476, 11.454, 10.968, 16.05, 7.478, 9.05, 11.268, 10.716000000000001, 9.72, 7.496, 9.094, 11.246, 11.986, 12.604000000000001, 11.13, 6.8, 10.784, 16.934, 11.9, 11.552, 10.526, 2.754, 5.756, 13.236, 14.616, 8.562, 10.454, 6.8260000000000005, 11.344, 7.346, 8.288, 10.932, 8.63, 9.524000000000001, 10.324, 5.868, 11.292, 5.65, 16.004, 5.62, 4.488, 10.692, 7.078, 7.258, 14.734, 11.018, 9.536, 8.21, 10.0, 10.19, 5.128, 6.622, 6.9, 12.348, 9.648, 13.042, 8.014, 12.234, 4.0120000000000005, 13.998000000000001, 11.788, 8.898, 7.0440000000000005, 7.994, 8.536, 3.648, 11.184000000000001, 12.074, 10.006, 6.494, 8.912, 10.83, 10.978, 8.91, 8.948, 8.678, 9.076, 14.574, 14.88, 14.620000000000001, 8.912, 9.592, 7.276, 9.58, 7.764, 12.07, 7.924, 8.006, 12.35, 6.946, 14.706, 15.302, 7.738, 11.108, 10.646, 15.996, 6.5760000000000005, 10.186, 9.826, 6.812, 6.242, 10.208, 12.89, 12.916, 8.442, 8.274000000000001, 5.088, 6.288, 10.49, 9.102, 14.462, 1.364, 9.042, 9.116, 13.866, 12.552, 17.456, 6.784, 11.138, 9.604000000000001, 5.538, 12.902000000000001, 8.11, 10.368, 8.022, 6.688, 10.328, 11.976, 7.45, 10.370000000000001, 12.314, 8.026, 8.232, 7.056, 9.43, 12.258000000000001, 10.498, 9.484, 17.3, 7.498, 10.268, 10.084, 12.374, 11.174, 10.906, 11.788, 5.558, 13.458, 9.386000000000001, 14.02, 10.212, 8.664, 14.272, 13.704, 7.0440000000000005, 10.456, 12.998000000000001, 6.298, 11.856, 9.526, 7.078, 10.450000000000001, 6.16, 9.346, 12.342, 7.102, 7.464, 8.174, 12.912, 13.824, 8.948, 14.030000000000001, 8.534, 7.83, 11.356, 13.276, 9.232, 13.132, 12.508000000000001, 12.784, 12.72, 9.504, 9.888, 13.156, 14.926, 7.96, 8.266, 4.776, 9.134, 7.0040000000000004, 6.654, 9.18, 9.184000000000001, 9.24, 8.790000000000001, 14.122, 8.404, 9.932, 7.73, 4.188, 4.522, 11.886000000000001, 8.968, 7.166, 3.138, 14.076, 13.492, 7.8660000000000005, 13.204, 11.106, 10.188, 9.27, 11.96, 11.63, 9.184000000000001, 10.678, 3.228, 6.0680000000000005, 15.128, 12.328, 9.678, 10.702, 14.908, 10.41, 9.028, 13.084, 14.994, 9.950000000000001, 6.7, 7.72, 8.01, 12.51, 10.92, 10.852, 6.686, 12.226, 9.472, 8.544, 4.49, 7.474, 10.274000000000001, 13.558, 9.294, 6.76, 8.38, 6.0920000000000005, 12.540000000000001, 13.214, 8.864, 9.128, 5.736, 5.888, 9.5, 9.58, 9.664, 11.632, 9.578, 8.422, 7.074, 9.358, 10.656, 10.97, 11.322000000000001, 7.18, 9.818, 17.436, 11.028, 8.236, 8.998, 6.12, 10.9, 8.636000000000001, 4.434, 12.488, 11.066, 8.084, 11.01, 11.376, 7.564, 9.316, 11.638, 8.018, 10.038, 7.382000000000001, 15.572000000000001, 12.398, 9.622, 13.232000000000001, 10.48, 12.47, 15.008000000000001, 12.016, 8.684000000000001, 10.104000000000001, 8.674, 10.098, 6.816, 8.18, 6.372, 14.368, 8.468, 15.1, 2.62, 17.532, 8.922, 7.34, 12.992, 17.164, 7.516, 3.08, 9.548, 11.16, 7.68, 8.68, 13.358, 7.882000000000001, 7.16, 10.596, 13.248000000000001, 3.346, 14.91, 13.674, 12.33, 7.2700000000000005, 8.284, 6.708, 9.924, 9.424, 7.424, 12.8, 7.348, 9.046, 10.858, 15.094000000000001, 8.072000000000001, 4.828, 12.31, 6.606, 9.392, 8.898, 7.832, 8.462, 12.628, 8.746, 13.308, 12.856, 9.862, 7.492, 10.626, 11.128, 7.74, 7.942, 10.628, 10.152000000000001, 9.14, 8.784, 13.586, 11.19, 14.066, 14.882, 9.362, 12.232000000000001, 8.926, 9.726, 12.904, 11.92, 11.168000000000001, 6.196, 9.616, 9.166, 13.954, 10.732000000000001, 4.824, 8.672, 11.532, 7.952, 11.88, 12.738, 9.942, 7.426, 11.118, 5.0600000000000005, 5.416, 12.434000000000001, 11.404, 15.678, 6.774, 9.292, 6.392, 2.5420000000000003, 2.95, 9.91, 9.09, 6.982, 8.116, 7.088, 10.476, 7.954, 11.126, 7.876, 6.494, 9.642, 12.620000000000001, 13.44, 14.3, 12.298, 9.292, 2.316, 13.682, 6.908, 14.154, 12.046, 9.226, 19.312, 8.552, 9.302, 10.548, 7.844, 10.618, 11.624, 8.384, 5.32, 12.1, 9.64, 12.592, 10.546, 8.214, 10.984, 5.5680000000000005, 12.378, 11.194, 8.13, 10.762, 16.56, 10.208, 7.86, 8.686, 10.08, 6.29, 8.262, 7.386, 11.532, 9.67, 14.974, 10.27, 13.05, 7.934, 11.466000000000001, 11.290000000000001, 9.574, 12.108, 12.702, 11.69, 17.088, 14.114, 10.674, 10.232000000000001, 15.902000000000001, 15.982000000000001, 10.108, 11.766, 12.694, 10.368, 9.164, 14.76, 7.664000000000001, 12.984, 11.374, 18.054000000000002, 10.55, 8.684000000000001, 8.342, 9.97, 5.404, 8.72, 6.78, 10.106, 9.512, 9.158, 15.378, 6.204, 8.074, 18.282, 16.092, 10.482000000000001, 11.586, 12.644, 7.938, 7.738, 14.824, 10.61, 8.874, 10.818, 12.262, 12.202, 15.118, 6.934, 11.088000000000001, 8.218, 8.064, 11.122, 7.16, 8.264, 14.52, 7.71, 5.244, 8.212, 10.472, 9.788, 13.134, 10.036, 11.64, 7.994, 7.32, 9.302, 8.592, 8.166, 9.004, 6.968, 14.86, 11.642, 11.962, 9.338000000000001, 10.018, 9.042, 8.228, 9.394, 7.92, 13.752, 8.51, 10.956, 13.258000000000001, 8.13, 10.256, 11.582, 9.798, 10.07, 9.852, 11.058, 10.68, 10.14, 12.46, 11.642, 10.08, 18.086000000000002, 12.5, 9.324, 7.59, 6.268, 15.754, 11.96, 4.654, 13.194, 13.264000000000001, 11.902000000000001, 4.932, 9.114, 11.174, 9.514, 10.43, 6.492, 12.106, 7.07, 6.3340000000000005, 10.966000000000001, 9.872, 11.348, 10.766, 10.450000000000001, 12.118, 7.416, 14.272, 10.418000000000001, 13.768, 6.356, 10.958, 13.544, 9.108, 3.348, 10.44, 12.97, 9.254, 3.398, 8.268, 8.906, 10.408, 7.7620000000000005, 6.8100000000000005, 10.154, 8.756, 7.988, 12.622, 16.974, 12.46, 9.368, 11.504, 11.674, 5.8, 17.544, 13.348, 7.538, 9.814, 5.166, 10.534, 9.002, 7.332, 10.088000000000001, 8.728, 11.264, 13.096, 12.038, 9.088000000000001, 9.842, 5.8340000000000005, 12.166, 11.24, 9.278, 5.212, 8.492, 8.32, 8.916, 9.796, 8.854000000000001, 7.582, 7.006, 11.592, 9.956, 8.774000000000001, 10.008000000000001, 12.796000000000001, 11.044, 9.306000000000001, 6.948, 9.832, 5.014, 14.544, 15.222, 13.014000000000001, 4.062, 10.554, 9.462, 6.5680000000000005, 11.034, 7.364, 7.158, 11.08, 11.36, 10.002, 11.056000000000001, 11.282, 11.542, 9.374, 9.474, 13.004, 11.936, 9.452, 6.33, 11.98, 5.41, 7.3260000000000005, 12.536, 8.268, 3.482, 11.722, 9.602, 9.006, 10.688, 11.522, 8.808, 8.596, 8.602, 7.8100000000000005, 10.77, 5.71, 7.508, 11.174, 13.336, 5.21, 13.436, 10.708, 6.514, 12.138, 8.638, 5.144, 10.756, 12.818, 12.922, 10.446, 11.39, 8.178, 4.24, 6.564, 9.98, 11.806000000000001, 10.924, 12.274000000000001, 11.596, 11.35, 6.674, 12.32, 11.342, 6.2860000000000005, 6.04, 12.08, 13.040000000000001, 4.358, 9.392, 7.8580000000000005, 7.824, 11.896, 11.814, 19.21, 6.99, 9.450000000000001, 4.542, 10.256, 13.582, 6.582, 9.4, 12.780000000000001, 10.874, 10.424, 8.678, 9.81, 11.47, 6.79, 16.27, 13.524000000000001, 8.936, 9.27, 15.936, 7.526, 5.97, 13.398, 17.304000000000002, 11.478, 16.18, 9.22, 11.118, 9.66, 11.49, 11.348, 8.382, 12.372, 9.644, 9.348, 10.726, 10.82, 11.096, 11.074, 12.304, 11.068, 11.912, 8.904, 6.462, 16.456, 12.422, 11.24, 10.694, 8.168000000000001, 4.9, 7.176, 8.378, 16.42, 3.3160000000000003, 10.204, 8.99, 7.982, 16.428, 10.026, 8.514, 12.578, 10.236, 6.04, 8.042, 8.604000000000001, 7.908, 11.126, 7.038, 9.016, 8.978, 14.55, 13.67, 4.978, 8.248, 8.318, 7.768, 11.52, 7.3100000000000005, 7.518, 10.236, 7.516, 11.832, 8.74, 7.71, 9.98, 11.73, 13.034, 12.172, 11.732000000000001, 11.52, 9.066, 11.768, 14.418000000000001, 14.074, 10.356, 15.336, 8.974, 13.586, 12.812, 5.5920000000000005, 13.874, 6.162, 11.66, 8.022, 14.57, 10.348, 8.626, 9.838000000000001, 11.776, 9.120000000000001, 9.63, 10.48, 16.666, 15.176, 9.540000000000001, 8.552, 13.602, 9.178, 10.432, 4.934, 16.114, 9.26, 10.448, 9.266, 13.662, 4.168, 9.864, 4.808, 9.276, 8.02, 10.756, 9.244, 5.394, 5.916, 8.644, 6.672, 10.032, 5.812, 9.446, 8.008000000000001, 6.112, 10.026, 10.208, 7.966, 11.66, 14.142, 10.950000000000001, 12.906, 10.372, 7.982, 8.888, 14.612, 7.062, 6.0840000000000005, 8.984, 10.308, 17.162, 3.926, 11.608, 6.984, 12.512, 6.784, 9.008000000000001, 13.05, 3.226, 7.466, 14.944, 13.842, 14.358, 11.018, 10.774000000000001, 11.536, 13.88, 10.728, 14.514000000000001, 15.13, 9.458, 5.104, 7.936, 7.694, 6.724, 12.336, 4.644, 12.678, 10.258000000000001, 11.700000000000001, 9.06, 11.814, 11.012, 8.526, 11.256, 12.528, 10.196, 9.77, 17.330000000000002, 10.168000000000001, 13.74, 8.034, 10.778, 15.216000000000001, 11.540000000000001, 10.66, 10.218, 9.032, 11.714, 8.790000000000001, 9.928, 8.044, 9.232, 10.608, 9.694, 10.398, 12.528, 8.738, 0.7000000000000001, 8.64, 12.074, 11.018, 9.232, 10.916, 14.566, 8.728, 13.182, 7.698, 8.014, 10.784, 7.922000000000001, 5.44, 3.672, 7.062, 11.784, 11.35, 8.904, 7.97, 6.946, 3.888, 15.902000000000001, 9.078, 11.978, 13.048, 11.138, 12.124, 11.398, 9.336, 7.71, 12.166, 11.952, 16.272000000000002, 9.508000000000001, 10.790000000000001, 8.942, 11.506, 9.788, 9.428, 8.352, 13.096, 10.128, 8.052, 8.816, 10.004, 13.846, 9.008000000000001, 11.794, 9.954, 4.792, 10.974, 16.22, 9.596, 8.86, 9.088000000000001, 12.026, 11.454, 6.018, 8.82, 11.776, 7.974, 13.894, 6.538, 11.28, 6.232, 14.962, 16.356, 13.948, 6.066, 5.458, 10.27, 8.51, 14.566, 8.35, 11.556000000000001, 10.39, 11.792, 6.96, 16.116, 8.536, 9.286, 14.71, 12.364, 14.952, 10.972, 13.542, 7.064, 7.444, 12.394, 19.262, 8.632, 14.790000000000001, 11.46, 12.832, 10.23, 5.216, 8.962, 9.958, 12.624, 14.370000000000001, 9.616, 7.452, 8.174, 8.244, 11.474, 8.244, 14.328000000000001, 4.5600000000000005, 13.098, 10.114, 14.566, 6.1000000000000005, 7.288, 11.892, 14.516, 11.876, 13.55, 5.938, 8.738, 5.558, 15.048, 6.05, 8.71, 9.152000000000001, 12.326, 7.972, 9.682, 14.44, 5.622, 10.538, 11.276, 13.104000000000001, 9.902000000000001, 5.166, 8.564, 17.898, 10.964, 14.148, 16.116, 6.432, 12.34, 3.43, 9.544, 13.398, 7.0760000000000005, 6.532, 8.294, 8.638, 10.062, 13.784, 6.216, 9.158, 11.378, 9.258000000000001, 8.244, 10.36, 11.482000000000001, 9.67, 7.814, 13.564, 6.522, 6.938, 12.790000000000001, 10.008000000000001, 7.992, 11.282, 5.498, 7.5200000000000005, 10.102, 13.436, 12.452, 6.0120000000000005, 9.398, 6.872, 5.922, 12.938, 12.042, 10.238, 9.944, 7.026, 12.728, 15.36, 11.238, 13.282, 9.546, 13.026, 3.2600000000000002, 3.954, 10.154, 14.338000000000001, 14.09, 13.318, 8.86, 12.664, 9.8, 9.872, 9.944, 2.672, 9.042, 13.776, 6.72, 12.118, 6.964, 4.864, 7.732, 8.192, 14.116, 11.178, 9.062, 11.526, 9.294, 9.31, 14.874, 18.518, 9.966000000000001, 4.53, 7.448, 8.236, 11.896, 8.024000000000001, 10.732000000000001, 10.704, 10.48, 12.188, 14.752, 6.556, 6.338, 5.064, 11.19, 8.71, 4.494, 5.8020000000000005, 11.78, 5.572, 16.968, 7.1000000000000005, 10.05, 7.216, 10.748000000000001, 5.918, 11.216000000000001, 10.566, 7.884, 8.766, 9.988, 12.694, 3.0700000000000003, 8.076, 12.688, 11.574, 7.588, 13.458, 9.568, 6.746, 9.858, 7.966, 6.11, 9.438, 9.674, 8.696, 7.952, 10.754, 7.390000000000001, 11.292, 13.802, 12.870000000000001, 7.914000000000001, 6.6240000000000006, 7.516, 10.972, 7.894, 8.278, 11.098, 6.428, 10.754, 9.068, 15.696, 9.276, 10.134, 10.574, 10.638, 10.198, 9.798, 4.416, 9.88, 12.302, 10.624, 13.454, 12.736, 12.444, 5.906, 8.8, 8.11, 5.298, 11.572000000000001, 10.374, 11.212, 10.226, 8.756, 15.782, 11.4, 9.72, 11.008000000000001, 7.212, 15.17, 13.6, 8.496, 11.72, 10.22, 10.292, 10.522, 8.948, 9.448, 11.118, 12.56, 6.3500000000000005, 7.95, 9.178, 6.33, 4.876, 12.88, 8.65, 10.262, 9.418000000000001, 2.936, 9.916, 18.896, 9.05, 12.370000000000001, 7.574, 12.632, 4.354, 8.01, 12.338000000000001, 5.5920000000000005, 13.042, 10.290000000000001, 7.3660000000000005, 12.116, 4.892, 10.338000000000001, 13.016, 4.252, 12.678, 6.074, 17.43, 10.654, 6.216, 13.24, 13.802, 12.86, 5.216, 6.966, 8.16, 15.844000000000001, 8.438, 8.21, 10.884, 5.33, 7.7940000000000005, 11.84, 12.012, 9.64, 12.620000000000001, 10.256, 11.264, 6.146, 13.702, 9.608, 7.8660000000000005, 11.492, 14.0, 11.17, 10.96, 12.186, 7.51, 10.692, 14.134, 9.426, 4.376, 5.0040000000000004, 9.958, 12.926, 10.91, 9.302, 13.674, 11.57, 8.382, 6.5120000000000005, 12.724, 11.072000000000001, 15.09, 10.71, 12.596, 7.2860000000000005, 10.48, 8.038, 11.28, 11.558, 7.878, 10.728, 10.242, 7.12, 6.6080000000000005, 12.19, 11.526, 8.648, 14.732000000000001, 8.648, 11.032, 10.384, 10.898, 13.078, 6.446, 13.414, 15.304, 5.428, 7.466, 10.620000000000001, 8.942, 10.89, 13.698, 7.408, 8.678, 5.5280000000000005, 8.97, 14.396, 8.866, 7.3740000000000006, 13.956, 8.322000000000001, 12.272, 8.954, 16.674, 5.99, 10.412, 10.848, 8.966, 4.678, 11.566, 8.176, 11.33, 12.442, 7.21, 9.35, 13.280000000000001, 8.834, 11.586, 8.186, 6.452, 5.666, 9.112, 4.158, 6.532, 10.626, 9.154, 6.996, 13.078, 13.116, 7.422000000000001, 14.398, 7.0, 8.934000000000001, 8.732, 7.844, 10.822000000000001, 12.76, 7.904, 6.684, 14.164, 9.004, 11.472, 9.774000000000001, 12.122, 9.328, 7.714, 8.65, 11.006, 11.97, 13.1, 8.728, 8.488, 13.948, 13.398, 10.316, 10.09, 8.734, 9.454, 11.508000000000001, 12.076, 17.248, 13.504, 10.43, 18.378, 12.394, 8.436, 10.582, 11.61, 7.618, 12.656, 10.788, 8.366, 11.99, 14.56, 1.6520000000000001, 13.85, 11.638, 11.624, 5.138, 16.754, 10.38, 4.178, 12.364, 11.71, 10.206, 7.58, 2.434, 13.43, 10.736, 10.272, 7.5680000000000005, 10.888, 9.736, 13.61, 7.506, 5.0440000000000005, 11.33, 13.344, 14.348, 8.644, 13.008000000000001, 5.578, 12.786, 10.392, 9.888, 16.838, 12.042, 10.068, 9.392, 10.198, 7.72, 15.478, 7.154, 11.59, 7.714, 10.338000000000001, 14.494, 8.328, 8.104000000000001, 8.964, 13.428, 15.406, 13.404, 8.502, 12.56, 2.988, 5.94, 14.546000000000001, 10.314, 5.836, 16.29, 8.950000000000001, 10.386000000000001, 9.722, 8.942, 13.620000000000001, 13.358, 15.538, 10.950000000000001, 10.166, 10.450000000000001, 9.1, 13.25, 6.066, 10.67, 8.984, 6.162, 9.266, 8.366, 10.372, 10.602, 5.182, 13.082, 15.136000000000001, 7.7620000000000005, 8.496, 15.370000000000001, 9.89, 3.93, 11.618, 12.244, 11.774000000000001, 11.784, 13.164, 9.854000000000001, 11.046, 10.68, 8.3, 14.516, 5.66, 7.364, 5.376, 13.536, 14.242, 10.186, 5.352, 10.376, 12.530000000000001, 12.398, 9.002, 10.056000000000001, 11.292, 7.8420000000000005, 7.798, 9.922, 10.57, 11.024000000000001, 11.282, 9.966000000000001, 8.686, 9.938, 13.116, 8.632, 10.612, 8.674, 12.384, 7.112, 4.678, 8.596, 7.424, 9.894, 14.978, 12.338000000000001, 9.022, 15.372, 12.418000000000001, 9.02, 7.8500000000000005, 8.286, 14.558, 11.828, 9.702, 6.5, 9.364, 9.724, 5.6000000000000005, 9.186, 12.226, 2.358, 12.656, 10.044, 10.356, 3.222, 13.82, 9.552, 9.22, 10.624, 10.67, 8.758000000000001, 6.726, 15.128, 14.792, 10.654, 10.118, 10.338000000000001, 13.264000000000001, 15.882, 3.668, 16.854, 7.056, 18.830000000000002, 10.952, 10.352, 9.13, 14.304, 13.574, 7.438, 12.258000000000001, 5.438, 9.792, 4.146, 11.698, 9.808, 12.290000000000001, 4.3100000000000005, 9.188, 13.974, 13.856, 10.764, 10.66, 7.876, 8.218, 8.52, 18.276, 8.936, 6.956, 11.616, 5.268, 10.542, 9.348, 7.932, 9.058, 9.768, 9.274000000000001, 10.014, 7.132000000000001, 11.51, 5.132, 8.768, 9.36, 13.328, 8.45, 9.348, 11.976, 12.528, 8.246, 5.934, 6.806, 14.642, 9.956, 10.216000000000001, 5.524, 13.074, 12.586, 9.654, 13.004, 13.616, 11.516, 10.554, 9.016, 7.426, 6.642, 14.116, 11.156, 12.05, 10.312, 13.768, 6.0120000000000005, 8.066, 4.048, 12.58, 6.384, 6.5840000000000005, 12.338000000000001, 3.394, 7.908, 10.98, 9.228, 15.17, 11.648, 11.434000000000001, 11.804, 6.2, 9.842, 12.574, 10.63, 9.788, 9.674, 13.344, 11.026, 10.116, 9.944, 13.05, 15.626, 12.868, 12.23, 4.74, 11.024000000000001, 5.714, 4.0520000000000005, 15.486, 6.898000000000001, 9.568, 9.758000000000001, 12.664, 15.336, 5.112, 8.036, 9.44, 10.062, 13.634, 9.406, 10.014, 11.378, 10.264, 8.978, 11.57, 6.666, 10.968, 12.86, 7.166, 5.026, 10.852, 13.968, 9.588000000000001, 6.3340000000000005, 9.35, 4.894, 9.454, 8.406, 13.444, 9.694, 12.268, 10.022, 8.966, 7.976, 8.568, 10.82, 2.79, 10.468, 6.816, 2.122, 6.182, 14.474, 7.856, 6.864, 10.478, 15.49, 10.35, 7.532, 7.42, 11.388, 8.612, 13.074, 10.112, 13.450000000000001, 8.374, 8.744, 7.912, 15.118, 11.99, 15.716000000000001, 7.256, 12.048, 7.388, 9.974, 13.218, 10.402000000000001, 13.744, 9.168000000000001, 10.1, 12.448, 12.118, 9.012, 11.006, 4.8420000000000005, 12.536, 11.336, 10.464, 9.566, 14.98, 7.162, 11.158, 14.484, 14.364, 9.548, 13.17, 10.578, 12.21, 8.608, 8.286, 12.772, 5.5840000000000005, 14.526, 12.922, 11.308, 13.036, 9.876, 12.612, 7.98, 5.4, 8.108, 10.138, 8.798, 9.692, 12.098, 6.824, 12.274000000000001, 12.618, 3.706, 7.434, 11.15, 7.398000000000001, 9.574, 6.884, 8.536, 10.418000000000001, 6.214, 12.732000000000001, 5.234, 10.268, 5.958, 10.870000000000001, 10.042, 12.334, 10.624, 14.348, 8.16, 9.612, 6.09, 10.17, 8.892, 10.464, 12.15, 7.68, 7.59, 11.368, 6.678, 8.836, 6.0760000000000005, 11.546, 13.314, 8.518, 9.982000000000001, 9.348, 6.652, 14.06, 14.700000000000001, 7.924, 9.628, 8.388, 9.046, 11.346, 8.654, 4.356, 11.024000000000001, 15.656, 9.044, 15.756, 9.664, 8.048, 8.222, 6.45, 6.446, 11.094, 11.352, 8.72, 12.462, 7.54, 5.84, 12.168000000000001, 9.1, 6.432, 12.790000000000001, 4.306, 10.964, 4.23, 15.122, 12.738, 11.472, 10.200000000000001, 11.364, 12.622, 6.944, 10.542, 10.512, 6.788, 10.81, 8.722, 10.552, 9.686, 10.192, 11.42, 10.818, 15.096, 16.904, 9.156, 5.54, 3.0700000000000003, 12.356, 11.686, 13.444, 7.6160000000000005, 10.17, 5.572, 15.96, 10.14, 9.194, 5.556, 7.064, 7.988, 9.21, 11.474, 12.604000000000001, 5.0280000000000005, 15.146, 11.01, 11.996, 10.478, 5.344, 15.0, 11.048, 11.296, 5.942, 9.622, 6.014, 16.852, 6.196, 9.46, 8.742, 8.31, 11.200000000000001, 11.526, 10.392, 7.0280000000000005, 10.592, 11.022, 13.938, 14.316, 4.484, 9.69, 7.65, 6.51, 9.086, 3.52, 8.074, 10.166, 7.442, 9.33, 11.044, 18.456, 9.598, 13.354000000000001, 16.732, 10.668000000000001, 7.618, 6.962, 10.472, 2.2760000000000002, 10.068, 9.706, 14.126, 10.344, 12.012, 9.83, 11.404, 11.268, 8.462, 13.176, 9.362, 7.752, 8.738, 8.08, 5.6160000000000005, 7.114, 11.620000000000001, 9.738, 5.994, 8.06, 11.082, 10.572000000000001, 14.244, 13.540000000000001, 13.51, 11.138, 9.458, 14.85, 13.27, 7.23, 12.182, 12.684000000000001, 11.584, 5.564, 6.924, 11.076, 9.78, 7.958, 11.632, 3.892, 6.024, 7.354, 14.062000000000001, 13.43, 13.844, 11.578, 10.944, 14.756, 10.556000000000001, 13.052, 13.866, 7.906000000000001, 4.68, 10.168000000000001, 10.05, 11.908, 8.328, 9.452, 15.598, 11.164, 8.55, 13.98, 14.138, 6.806, 12.832, 13.288, 11.484, 7.658, 8.638, 10.844, 6.104, 17.136, 9.884, 6.372, 12.672, 15.4, 7.836, 14.31, 7.998, 9.042, 8.862, 14.492, 13.39, 10.03, 7.788, 10.652000000000001, 9.21, 6.11, 15.572000000000001, 6.134, 15.05, 13.18, 12.524000000000001, 11.636000000000001, 9.502, 7.640000000000001, 8.346, 17.858, 11.978, 5.21, 10.99, 9.01, 8.686, 8.572000000000001, 3.7840000000000003, 7.742, 10.162, 13.114, 15.146, 11.824, 9.618, 4.354, 10.594, 5.614, 11.708, 12.638, 8.31, 3.368, 9.636000000000001, 9.818, 9.438, 6.862, 7.876, 12.502, 7.164000000000001, 10.334, 13.058, 11.726, 14.49, 13.076, 9.36, 11.304, 10.068, 11.552, 9.064, 9.796, 9.356, 8.686, 12.618, 7.37, 13.092, 7.328, 9.868, 9.92, 14.216000000000001, 7.392, 12.01, 9.858, 14.652000000000001, 7.3020000000000005, 8.09, 5.276, 8.434000000000001, 14.282, 9.646, 18.982, 8.524000000000001, 9.02, 8.836, 9.682, 12.284, 12.782, 9.054, 12.294, 9.56, 7.026, 13.372, 6.074, 6.448, 14.682, 9.856, 7.356, 3.388, 7.212, 10.768, 3.436, 8.062, 10.134, 12.278, 12.536, 7.238, 8.436, 11.554, 8.934000000000001, 10.308, 4.14, 12.128, 8.286, 10.464, 11.632, 9.884, 11.586, 10.794, 12.662, 15.666, 10.602, 7.902, 9.76, 9.89, 8.76, 8.436, 9.668000000000001, 8.438, 15.280000000000001, 12.148, 6.352, 8.194, 8.424, 13.844, 12.856, 8.624, 5.816, 11.852, 8.49, 10.01, 5.94, 8.098, 13.09, 15.384, 16.63, 10.994, 9.814, 12.118, 11.908, 8.996, 7.3500000000000005, 3.116, 7.0680000000000005, 5.124, 11.512, 10.494, 8.352, 12.052, 12.98, 10.126, 8.776, 8.994, 5.622, 10.878, 10.722, 12.578, 10.978, 13.918000000000001, 17.48, 11.196, 6.444, 10.57, 14.448, 7.906000000000001, 7.268, 15.598, 11.208, 11.838000000000001, 8.21, 10.804, 10.370000000000001, 10.678, 6.902, 7.006, 11.202, 6.104, 10.368, 8.1, 11.348, 10.254, 5.362, 9.424, 7.588, 9.236, 10.258000000000001, 13.776, 10.138, 12.068, 8.506, 9.068, 9.512, 5.344, 11.47, 10.620000000000001, 10.946, 9.836, 8.052, 14.34, 9.106, 9.516, 11.896, 10.258000000000001, 10.226, 10.126, 8.032, 9.818, 12.896, 12.322000000000001, 15.96, 11.472, 10.396, 5.918, 14.808, 9.842, 9.188, 14.620000000000001, 13.634, 3.984, 11.772, 12.904, 7.156000000000001, 10.762, 9.744, 7.904, 9.548, 8.488, 11.13, 10.544, 6.978, 5.32, 8.564, 12.418000000000001, 4.602, 10.58, 6.748, 13.444, 13.096, 7.654, 12.33, 11.024000000000001, 12.504, 9.478, 12.996, 11.142, 7.7860000000000005, 7.496, 13.022, 14.032, 12.950000000000001, 15.526, 7.7780000000000005, 12.528, 13.982000000000001, 11.482000000000001, 10.424, 9.69, 15.546000000000001, 9.89, 7.1000000000000005, 15.76, 14.062000000000001, 10.128, 12.48, 6.622, 7.482, 4.8500000000000005, 12.304, 8.714, 10.968, 11.076, 12.370000000000001, 12.814, 9.212, 10.916, 6.4, 5.484, 12.994, 6.04, 12.648, 7.848, 10.124, 13.93, 7.154, 4.864, 12.218, 7.66, 10.182, 6.24, 6.8100000000000005, 10.022, 8.382, 11.332, 5.984, 9.892, 8.314, 10.622, 5.62, 9.59, 11.754, 13.816, 8.756, 9.964, 13.98, 10.68, 13.176, 7.752, 8.84, 13.744, 13.216000000000001, 6.564, 7.43, 8.102, 7.216, 9.844, 8.264, 6.226, 10.344, 8.318, 11.704, 5.442, 8.966, 9.772, 13.208, 2.336, 8.106, 9.294, 11.454, 4.92, 11.432, 11.738, 9.928, 11.458, 6.648000000000001, 17.356, 9.626, 7.148000000000001, 5.99, 16.428, 6.734, 13.144, 8.07, 9.1, 10.646, 6.648000000000001, 11.226, 11.528, 11.276, 12.772, 5.0520000000000005, 7.088, 4.782, 12.024000000000001, 6.7620000000000005, 8.478, 15.762, 9.052, 7.564, 9.894, 8.73, 9.568, 16.078, 11.956, 11.216000000000001, 7.804, 12.192, 9.706, 7.3260000000000005, 11.238, 9.91, 9.872, 13.696, 7.518, 9.284, 7.748, 12.27, 9.326, 14.3, 14.378, 11.244, 9.952, 9.502, 11.638, 8.624, 8.904, 8.924, 12.362, 10.576, 11.352, 12.694, 12.902000000000001, 6.382000000000001, 9.392, 12.808, 10.988, 9.452, 9.4, 14.13, 14.908, 3.866, 9.234, 11.124, 8.122, 9.428, 5.518, 9.32, 3.462, 6.238, 8.218, 12.136000000000001, 10.884, 3.948, 6.332, 8.24, 8.46, 7.566, 14.038, 11.450000000000001, 11.084, 6.714, 15.286, 12.044, 7.126, 8.662, 5.212, 8.044, 13.816, 10.056000000000001, 7.876, 13.952, 8.376, 8.652000000000001, 7.392, 13.290000000000001, 11.658, 10.908, 10.612, 6.518, 7.0200000000000005, 6.652, 6.298, 12.616, 11.356, 4.838, 10.47, 10.022, 3.636, 13.344, 8.024000000000001, 8.76, 9.848, 10.658, 10.784, 13.01, 9.052, 12.798, 13.3, 14.416, 11.78, 9.562, 10.4, 11.168000000000001, 11.956, 8.49, 10.876, 11.486, 8.18, 9.792, 9.042, 9.370000000000001, 11.188, 14.018, 19.87, 10.562, 8.346, 7.002, 8.202, 10.304, 6.952, 10.722, 8.278, 13.374, 11.092, 15.394, 14.226, 10.882, 13.524000000000001, 15.49, 14.368, 6.682, 12.852, 13.18, 11.824, 7.1000000000000005, 4.71, 15.688, 11.85, 9.356, 10.032, 9.73, 12.168000000000001, 11.158, 12.574, 14.094, 13.864, 13.18, 3.184, 6.916, 11.932, 10.262, 8.68, 7.246, 12.134, 12.084, 10.75, 5.6160000000000005, 3.198, 7.55, 13.554, 3.334, 14.31, 7.2780000000000005, 5.62, 9.126, 11.708, 15.082, 6.072, 9.842, 14.18, 6.1000000000000005, 12.996, 7.532, 12.158, 13.752, 10.632, 12.362, 8.654, 6.284, 16.528, 9.638, 6.7, 11.404, 18.336000000000002, 5.764, 9.88, 8.11, 6.662, 11.82, 13.008000000000001, 2.056, 12.32, 9.112, 11.372, 8.208, 14.008000000000001, 6.426, 9.73, 11.120000000000001, 9.284, 10.562, 5.978, 6.556, 10.346, 10.938, 11.426, 9.93, 11.012, 9.176, 7.5280000000000005, 10.086, 16.558, 14.256, 10.348, 9.116, 7.848, 12.612, 12.368, 12.216000000000001, 3.858, 18.608, 9.592, 10.57, 14.174, 9.512, 10.22, 12.040000000000001, 5.066, 9.156, 11.106, 15.378, 9.236, 13.362, 12.074, 9.83, 9.722, 7.992, 13.304, 10.746, 12.242, 9.552, 7.234, 10.532, 13.608, 8.818, 11.054, 7.352, 4.714, 10.82, 14.408, 12.592, 11.062, 12.484, 11.486, 13.376, 9.316, 10.608, 11.646, 11.074, 7.972, 10.714, 7.0840000000000005, 9.132, 7.924, 8.664, 14.56, 7.516, 9.004, 14.458, 16.376, 9.728, 11.484, 9.3, 8.554, 13.012, 7.336, 9.544, 7.428, 15.568, 10.616, 6.63, 8.206, 10.724, 5.692, 9.836, 11.63, 10.96, 6.92, 10.024000000000001, 12.308, 15.424, 15.076, 11.0, 11.218, 10.994, 8.504, 11.068, 5.776, 10.384, 7.188, 12.142, 11.166, 10.19, 11.562, 15.862, 11.794, 11.374, 6.922, 16.918, 11.102, 11.564, 12.5, 4.744, 7.72, 12.556000000000001, 10.136000000000001, 8.382, 15.158, 11.128, 10.922, 6.8, 10.066, 10.0, 7.192, 13.472, 13.19, 11.1, 12.542, 13.014000000000001, 9.44, 6.276, 10.620000000000001, 11.156, 7.542, 3.332, 11.298, 15.092, 8.78, 11.702, 15.106, 7.36, 7.246, 11.018, 9.882, 13.506, 8.134, 5.41, 10.03, 8.69, 3.86, 9.058, 19.698, 6.37, 13.388, 16.976, 13.196, 8.786, 10.886000000000001, 9.802, 11.548, 7.894, 4.804, 8.454, 9.414, 13.278, 10.082, 6.514, 2.658, 13.55, 9.072000000000001, 10.6, 16.042, 12.81, 9.756, 7.94, 12.048, 7.926, 9.77, 5.9, 10.61, 9.774000000000001, 13.032, 9.076, 6.244, 4.566, 6.312, 10.586, 6.16, 12.196, 6.876, 12.682, 6.798, 13.944, 15.036, 11.258000000000001, 14.362, 5.3, 10.056000000000001, 12.816, 10.23, 12.386000000000001, 10.856, 8.326, 10.81, 6.474, 8.148, 11.354000000000001, 11.968, 10.148, 12.538, 11.48, 8.158, 11.178, 5.82, 9.888, 10.846, 9.612, 12.01, 7.962, 9.21, 6.522, 9.6, 11.364, 12.736, 11.652000000000001, 13.794, 12.062, 10.646, 7.71, 5.484, 9.062, 13.536, 13.894, 7.182, 11.01, 10.216000000000001, 11.634, 12.584, 8.63, 7.152, 9.772, 15.936, 14.066, 10.28, 8.984, 9.588000000000001, 10.162, 12.038, 8.898, 8.798, 9.128, 14.044, 6.5200000000000005, 12.722, 8.106, 14.268, 5.6080000000000005, 10.812, 10.156, 13.01, 8.594, 11.292, 13.786, 12.732000000000001, 11.864, 5.192, 14.696, 13.586, 9.452, 13.708, 5.868, 10.824, 13.48, 15.99, 10.296, 9.786, 8.724, 8.294, 10.452, 10.374, 9.048, 7.384, 10.734, 6.862, 9.768, 5.146, 5.614, 11.302, 7.492, 14.134, 12.256, 5.148, 3.4, 9.8, 14.334, 14.064, 3.5660000000000003, 12.172, 6.29, 3.462, 9.24, 9.034, 13.634, 6.316, 4.438, 6.972, 7.554, 13.238, 10.792, 12.21, 3.426, 10.002, 10.376, 8.904, 11.468, 6.042, 5.422, 10.362, 10.322000000000001, 5.174, 13.544, 8.054, 14.68, 15.942, 9.208, 10.184000000000001, 13.608, 10.194, 15.164, 11.026, 7.6080000000000005, 10.596, 6.122, 9.458, 14.464, 12.782, 8.3, 9.578, 11.9, 6.284, 7.948, 19.82, 11.656, 7.906000000000001, 9.19, 11.716000000000001, 9.632, 6.032, 5.0, 7.0200000000000005, 9.936, 14.700000000000001, 5.718, 8.620000000000001, 12.262, 11.048, 8.888, 11.05, 11.426, 10.56, 9.806000000000001, 9.27, 9.968, 13.218, 14.21, 11.43, 11.52, 15.682, 6.882000000000001, 7.594, 13.126, 11.858, 11.540000000000001, 13.17, 12.238, 13.702, 16.684, 8.936, 10.898, 8.768, 12.956, 10.792, 10.146, 12.31, 14.534, 7.2780000000000005, 15.012, 13.67, 7.612, 10.212, 8.07, 9.292, 11.728, 13.948, 10.144, 8.19, 13.824, 9.082, 8.832, 9.376, 5.01, 11.588000000000001, 12.556000000000001, 7.892, 6.68, 6.0280000000000005, 10.146, 6.338, 6.894, 11.200000000000001, 7.8500000000000005, 8.05, 14.392, 9.764, 11.058, 9.966000000000001, 14.716000000000001, 10.882, 9.198, 7.05, 7.282, 16.352, 10.902000000000001, 12.552, 10.032, 11.48, 8.572000000000001, 9.426, 11.456, 10.676, 10.206, 12.438, 9.812, 12.238, 12.536, 6.348, 9.848, 15.4, 8.288, 11.024000000000001, 15.83, 13.632, 7.65, 9.178, 6.042, 10.61, 7.416, 12.776, 6.188, 11.946, 17.318, 6.41, 10.026, 10.25, 8.148, 5.844, 8.414, 11.902000000000001, 7.6160000000000005, 15.094000000000001, 12.106, 13.394, 5.8740000000000006, 12.39, 11.934000000000001, 9.224, 7.3100000000000005, 12.798, 9.21, 10.994, 7.1080000000000005, 6.972, 9.61, 14.544, 9.354000000000001, 7.494, 11.128, 10.436, 7.654, 16.934, 8.804, 4.236, 8.718, 7.88, 10.762, 11.304, 8.112, 13.046000000000001, 14.108, 14.086, 9.824, 7.312, 10.092, 13.014000000000001, 11.796, 14.796000000000001, 11.388, 11.962, 14.278, 3.728, 15.986, 13.772, 9.994, 9.946, 12.858, 11.806000000000001, 13.108, 14.114, 8.614, 10.054, 9.118, 14.508000000000001, 6.3500000000000005, 9.702, 8.708, 9.214, 10.574, 14.290000000000001, 10.224, 13.546000000000001, 16.564, 6.416, 7.3180000000000005, 5.522, 9.478, 14.804, 5.692, 16.312, 2.196, 8.186, 16.25, 12.23, 7.378, 11.200000000000001, 11.918000000000001, 8.802, 12.038, 11.68, 11.656, 6.774, 9.138, 10.306000000000001, 9.822000000000001, 9.556000000000001, 9.08, 3.118, 14.518, 6.694, 9.628, 13.838000000000001, 7.692, 11.358, 8.096, 12.618, 14.524000000000001, 15.106, 8.558, 11.232000000000001, 6.914, 5.756, 12.724, 10.136000000000001, 8.742, 8.098, 11.112, 8.42, 9.268, 10.726, 8.686, 10.422, 8.586, 13.862, 14.642, 9.036, 7.59, 10.808, 6.902, 10.604000000000001, 14.434000000000001, 7.574, 14.096, 7.482, 5.992, 12.996, 8.946, 8.004, 7.362, 13.242, 13.346, 6.5760000000000005, 12.47, 7.466, 10.582, 8.69, 7.684, 17.28, 12.52, 9.33, 8.654, 9.792, 9.078, 9.73, 6.5280000000000005, 7.274, 6.088, 5.578, 13.756, 10.368, 12.874, 12.16, 12.754, 13.236, 4.054, 12.278, 5.054, 4.5200000000000005, 12.724, 7.574, 12.382, 5.704, 14.61, 4.224, 10.612, 10.758000000000001, 6.744, 9.822000000000001, 7.276, 6.376, 11.73, 7.71, 10.724, 10.524000000000001, 11.856, 11.392, 5.2, 13.976, 9.518, 8.344, 8.182, 11.196, 11.812, 7.514, 4.738, 9.99, 12.032, 13.17, 10.754, 13.288, 5.928, 11.46, 8.472, 10.426, 12.34, 11.306000000000001, 10.106, 6.664, 13.606, 10.336, 11.374, 8.76, 10.83, 14.126, 5.642, 11.376, 8.554, 12.298, 8.598, 16.952, 15.132, 16.058, 10.988, 13.722, 10.466000000000001, 8.832, 8.18, 7.554, 11.916, 11.836, 4.742, 8.622, 8.808, 8.222, 7.718, 9.696, 11.644, 10.976, 15.614, 7.574, 12.622, 9.08, 8.488, 13.14, 10.086, 10.268, 8.728, 13.224, 7.644, 8.424, 5.764, 6.828, 12.012, 12.664, 9.614, 6.928, 15.266, 11.118, 9.896, 12.034, 9.606, 14.25, 7.886, 11.548, 11.86, 9.596, 14.68, 12.596, 8.662, 14.51, 14.962, 19.794, 8.51, 9.856, 12.474, 7.8340000000000005, 10.47, 9.5, 14.450000000000001, 13.166, 10.156, 11.686, 10.77, 6.538, 6.026, 9.118, 7.742, 9.076, 14.338000000000001, 12.376, 8.348, 11.48, 6.5200000000000005, 9.716000000000001, 11.266, 9.89, 11.238, 7.656000000000001, 11.394, 11.27, 7.3660000000000005, 8.254, 7.736, 8.162, 9.82, 12.542, 7.46, 7.87, 9.912, 10.024000000000001, 7.996, 7.518, 12.532, 10.96, 10.256, 9.986, 7.8340000000000005, 9.874, 8.638, 6.486, 10.07, 9.264, 11.124, 9.146, 13.790000000000001, 6.386, 12.056000000000001, 8.964, 9.678, 10.766, 8.856, 11.48, 4.104, 5.656, 1.3840000000000001, 2.63, 18.288, 9.468, 9.462, 7.0920000000000005, 14.02, 11.72, 8.342, 7.5680000000000005, 10.01, 7.8, 12.956, 12.094, 8.656, 14.414, 7.588, 11.288, 13.652000000000001, 9.448, 6.908, 9.038, 16.616, 10.46, 2.954, 7.36, 10.968, 8.376, 13.846, 9.0, 9.828, 7.516, 11.354000000000001, 8.166, 12.496, 13.91, 16.974, 9.006, 8.324, 12.238, 14.144, 13.17, 6.5440000000000005, 7.798, 5.414, 11.72, 8.834, 10.496, 7.8, 17.162, 11.406, 8.462, 12.854000000000001, 11.012, 9.15, 12.870000000000001, 5.94, 7.258, 6.01, 12.548, 10.482000000000001, 15.31, 14.18, 16.89, 11.5, 15.072000000000001, 8.062, 13.06, 6.0360000000000005, 1.412, 8.02, 8.174, 13.282, 7.8340000000000005, 10.554, 11.802, 13.77, 14.138, 11.888, 14.776, 13.624, 7.558, 8.846, 14.02, 12.536, 7.176, 8.766, 7.908, 8.394, 13.702, 16.018, 11.786, 13.278, 10.798, 6.142, 14.778, 9.384, 7.514, 11.518, 9.824, 15.276, 14.986, 4.654, 5.4, 9.472, 12.624, 8.908, 7.5440000000000005, 15.806000000000001, 7.702, 9.698, 7.002, 9.386000000000001, 10.262, 8.71, 6.5200000000000005, 13.626, 14.636000000000001, 14.412, 7.854, 11.77, 14.372, 14.104000000000001, 10.692, 8.264, 12.744, 9.304, 11.034, 13.86, 8.206, 8.496, 10.058, 15.308, 11.376, 9.618, 5.564, 10.868, 14.154, 9.700000000000001, 11.07, 10.796, 11.834, 13.018, 2.09, 5.712, 5.97, 9.876, 9.118, 14.23, 14.858, 13.906, 7.208, 13.154, 10.224, 11.13, 12.856, 5.172, 8.964, 9.84, 7.252, 7.244, 13.358, 10.724, 11.628, 10.83, 11.598, 8.99, 12.488, 9.824, 8.744, 12.476, 8.14, 10.662, 7.390000000000001, 8.714, 9.002, 10.620000000000001, 8.32, 8.73, 9.67, 17.632, 12.232000000000001, 13.494, 6.8100000000000005, 12.254, 10.948, 10.238, 11.284, 6.964, 13.31, 7.1080000000000005, 12.574, 12.844, 9.178, 6.526, 8.934000000000001, 9.862, 10.614, 13.752, 7.642, 12.028, 7.822, 13.258000000000001, 10.73, 12.24, 5.824, 8.494, 8.89, 7.208, 8.134, 9.764, 9.428, 10.106, 8.418000000000001, 14.128, 10.316, 2.07, 11.054, 12.984, 11.892, 8.136000000000001, 7.412, 11.628, 11.27, 7.708, 5.634, 8.662, 12.258000000000001, 14.032, 13.858, 6.51, 14.866, 8.532, 14.016, 10.51, 4.046, 5.058, 12.016, 12.542, 9.666, 6.352, 14.02, 7.148000000000001, 7.348, 11.572000000000001, 9.728, 5.742, 5.39, 13.808, 4.518, 5.8, 10.392, 6.936, 15.014000000000001, 5.954, 6.868, 11.198, 6.796, 7.632000000000001, 11.866, 6.514, 12.288, 9.884, 9.354000000000001, 15.386000000000001, 7.972, 6.902, 13.91, 7.346, 11.838000000000001, 12.462, 6.312, 12.42, 11.646, 5.814, 15.75, 12.486, 7.306, 11.512, 8.838000000000001, 11.792, 10.528, 10.134, 5.7780000000000005, 4.428, 10.378, 13.502, 11.422, 8.69, 8.802, 8.068, 9.132, 11.200000000000001, 9.864, 10.878, 11.368, 7.992, 6.258, 10.702, 16.896, 4.846, 7.936, 11.144, 4.204, 14.472, 11.200000000000001, 10.808, 11.102, 5.514, 8.822000000000001, 2.376, 11.44, 10.662, 1.29, 8.584, 12.11, 6.6160000000000005, 9.382, 11.81, 4.042, 4.232, 6.964, 9.746, 6.8340000000000005, 14.502, 11.044, 14.118, 9.652000000000001, 11.954, 12.268, 6.390000000000001, 12.008000000000001, 11.19, 13.18, 11.018, 4.678, 7.8500000000000005, 7.388, 12.894, 9.354000000000001, 10.954, 9.986, 10.366, 12.124, 7.8, 16.052, 11.092, 10.406, 12.07, 6.3740000000000006, 5.706, 11.964, 5.862, 8.66, 16.22, 13.488, 7.42, 8.13, 15.88, 4.04, 12.226, 9.468, 10.072000000000001, 12.904, 7.656000000000001, 10.5, 10.514, 12.034, 9.356, 11.526, 9.556000000000001, 14.356, 12.474, 12.314, 8.682, 10.956, 11.950000000000001, 11.71, 12.08, 13.58, 4.46, 12.748000000000001, 8.272, 8.654, 11.562, 5.862, 14.454, 13.246, 7.712, 10.578, 10.104000000000001, 12.892, 10.834, 6.0200000000000005, 12.112, 7.808, 4.722, 4.8260000000000005, 10.112, 8.112, 10.784, 10.186, 12.108, 12.88, 7.8180000000000005, 8.558, 9.118, 10.966000000000001, 11.262, 9.348, 7.862, 12.372, 6.5280000000000005, 4.406, 12.292, 10.306000000000001, 13.614, 8.290000000000001, 11.376, 7.416, 12.792, 6.678, 11.99, 8.324, 3.0620000000000003, 3.166, 6.2700000000000005, 9.182, 8.268, 10.268, 9.014, 8.724, 9.698, 4.0280000000000005, 4.248, 8.902000000000001, 9.11, 10.762, 10.118, 6.0840000000000005, 15.542, 6.894, 8.568, 7.332, 5.402, 4.0840000000000005, 8.128, 14.144, 16.45, 5.968, 13.11, 11.156, 7.132000000000001, 11.744, 10.398, 11.02, 14.732000000000001, 7.61, 13.916, 9.432, 11.702, 9.41, 9.82, 8.498, 9.378, 15.59, 5.932, 10.898, 13.552, 9.038, 9.99, 4.5680000000000005, 15.312000000000001, 11.466000000000001, 4.8020000000000005, 7.048, 9.386000000000001, 7.352, 14.14, 13.044, 5.422, 11.784, 9.402000000000001, 11.352, 14.284, 8.616, 6.996, 7.112, 10.74, 5.516, 11.744, 8.82, 12.342, 12.688, 14.63, 10.502, 9.3, 10.700000000000001, 11.758000000000001, 10.734, 9.422, 8.422, 11.316, 7.034, 8.244, 6.666, 7.9, 11.844, 9.02, 6.032, 11.726, 5.99, 6.974, 13.736, 7.5280000000000005, 10.052, 13.974, 10.858, 12.582, 9.176, 12.308, 12.68, 8.646, 11.816, 10.074, 10.950000000000001, 14.34, 9.424, 11.834, 15.414, 14.592, 8.11, 8.744, 10.618, 8.856, 14.49, 10.104000000000001, 1.948, 6.0440000000000005, 6.184, 11.284, 14.43, 12.26, 11.752, 7.184, 17.014, 6.248, 10.158, 6.37, 12.322000000000001, 15.782, 8.63, 9.040000000000001, 11.442, 9.642, 14.206, 12.162, 11.578, 11.164, 11.358, 9.924, 13.068, 11.666, 8.746, 16.056, 8.71, 7.542, 8.786, 6.08, 7.074, 9.164, 11.594, 13.658, 4.846, 9.504, 7.352, 4.308, 9.986, 9.778, 10.412, 9.35, 6.292, 9.044, 13.418000000000001, 10.358, 7.232, 13.854000000000001, 8.26, 9.308, 6.46, 15.948, 12.194, 8.242, 11.074, 13.818, 9.932, 12.006, 10.686, 13.356, 9.106, 10.164, 13.562000000000001, 8.870000000000001, 13.25, 8.334, 8.476, 9.738, 12.872, 7.936, 16.842, 9.642, 1.462, 12.11, 7.598, 4.738, 7.936, 6.656000000000001, 8.696, 10.964, 13.648, 5.5520000000000005, 7.926, 9.776, 8.362, 7.856, 8.324, 5.436, 11.1, 4.3100000000000005, 10.46, 9.598, 8.192, 8.22, 16.254, 12.102, 8.498, 6.244, 9.186, 10.236, 3.532, 10.576, 7.324, 11.832, 12.786, 11.008000000000001, 14.224, 9.274000000000001, 9.078, 5.034, 9.138, 7.3500000000000005, 8.922, 7.152, 8.008000000000001, 8.396, 8.286, 4.782, 11.758000000000001, 10.022, 8.38, 7.432, 7.686, 13.46, 5.632, 11.352, 11.136000000000001, 2.578, 9.46, 6.668, 13.224, 8.862, 16.602, 12.656, 11.51, 5.994, 5.344, 8.97, 9.876, 5.954, 7.736, 10.290000000000001, 10.922, 7.8020000000000005, 7.132000000000001, 8.96, 7.694, 3.246, 12.464, 9.608, 2.266, 10.822000000000001, 12.788, 9.746, 11.182, 6.872, 11.594, 10.05, 13.744, 9.71, 9.24, 8.832, 7.386, 11.386000000000001, 12.25, 5.222, 6.86, 9.682, 13.176, 9.228, 16.104, 6.288, 14.232000000000001, 13.772, 8.694, 8.2, 9.804, 8.256, 10.700000000000001, 11.418000000000001, 12.762, 14.714, 5.44, 10.84, 11.688, 12.496, 10.382, 8.546, 10.518, 12.984, 13.266, 10.546, 11.158, 10.116, 7.582, 12.018, 11.924, 12.49, 15.708, 10.07, 7.12, 14.144, 14.75, 7.408, 10.31, 9.186, 8.906, 7.474, 12.844, 11.39, 5.372, 10.056000000000001, 8.714, 7.832, 8.462, 7.964, 14.154, 10.44, 10.48, 7.614, 14.096, 7.672000000000001, 9.318, 6.948, 17.978, 18.092, 14.036, 0.784, 5.214, 8.978, 9.488, 15.540000000000001, 10.22, 9.67, 11.57, 5.72, 10.044, 12.974, 6.332, 10.044, 12.646, 6.356, 10.49, 8.762, 9.878, 12.206, 3.624, 3.774, 9.144, 12.904, 8.07, 8.27, 8.792, 15.394, 7.476, 9.822000000000001, 14.762, 8.342, 7.37, 15.346, 12.662, 12.718, 8.874, 8.016, 13.126, 11.548, 10.262, 9.69, 7.84, 16.046, 16.61, 10.796, 8.72, 12.51, 8.354000000000001, 14.27, 12.592, 2.862, 14.188, 10.496, 13.3, 7.596, 9.244, 12.142, 12.794, 13.582, 6.554, 13.51, 7.8580000000000005, 8.858, 9.636000000000001, 8.268, 6.996, 7.446, 9.608, 8.166, 14.936, 7.824, 15.736, 13.284, 6.324, 12.452, 9.888, 12.368, 10.05, 11.256, 11.19, 11.912, 11.902000000000001, 9.612, 6.298, 15.328000000000001, 12.5, 6.726, 8.198, 7.394, 6.314, 6.2, 9.098, 7.936, 14.06, 6.24, 9.984, 7.016, 7.9, 12.41, 13.208, 12.244, 10.794, 13.85, 13.914, 6.474, 9.516, 14.568, 9.61, 10.092, 6.95, 8.282, 8.994, 13.528, 9.584, 11.484, 5.128, 8.448, 9.436, 16.176000000000002, 5.5600000000000005, 8.782, 5.502, 7.658, 9.632, 10.362, 8.092, 10.676, 8.368, 13.172, 11.228, 7.284, 10.834, 8.124, 8.63, 12.234, 12.852, 5.796, 9.392, 7.388, 14.31, 8.586, 10.298, 17.604, 16.794, 12.502, 12.818, 10.076, 11.058, 11.532, 10.968, 9.686, 12.424, 13.386000000000001, 10.618, 13.56, 6.936, 9.044, 10.66, 10.222, 9.738, 9.862, 12.546, 8.278, 7.542, 11.874, 7.368, 11.134, 12.192, 4.83, 8.93, 5.14, 13.666, 12.646, 12.612, 13.734, 11.622, 10.116, 13.514000000000001, 11.056000000000001, 9.808, 10.426, 8.252, 11.658, 14.382, 5.966, 12.194, 8.562, 3.8320000000000003, 8.534, 1.006, 7.784, 7.054, 7.5200000000000005, 11.022, 11.124, 5.998, 9.778, 10.368, 12.01, 9.892, 13.1, 8.584, 9.976, 9.662, 10.56, 6.634, 11.776, 12.628, 9.200000000000001, 14.598, 13.870000000000001, 4.894, 4.772, 7.886, 10.306000000000001, 12.934000000000001, 9.282, 17.114, 6.8500000000000005, 12.06, 8.512, 8.276, 6.236, 8.8, 5.024, 7.882000000000001, 5.7, 8.158, 4.478, 10.584, 12.622, 5.352, 8.894, 15.148, 12.008000000000001, 9.99, 8.726, 11.040000000000001, 8.538, 7.572, 7.354, 12.588000000000001, 9.812, 10.58, 10.506, 9.200000000000001, 13.156, 4.678, 10.672, 12.128, 11.728, 7.848, 6.742, 9.336, 9.352, 8.224, 6.628, 9.706, 13.1, 9.442, 16.052, 7.392, 7.256, 9.448, 12.188, 12.486, 12.872, 11.26, 2.968, 12.422, 8.222, 12.988, 10.356, 12.71, 13.048, 13.05, 13.120000000000001, 9.22, 12.586, 7.324, 13.122, 7.92, 13.422, 11.122, 15.23, 6.976, 9.892, 7.988, 8.984, 8.828, 10.368, 7.006, 13.764000000000001, 14.664, 11.478, 14.002, 12.386000000000001, 11.94, 6.2780000000000005, 10.044, 10.138, 6.142, 7.23, 9.016, 11.446, 13.994, 7.526, 7.844, 10.414, 7.622, 6.6160000000000005, 5.894, 10.64, 12.008000000000001, 12.646, 12.192, 11.09, 6.726, 9.198, 12.09, 11.85, 12.304, 10.61, 12.44, 15.030000000000001, 10.464, 14.542, 6.338, 9.518, 8.644, 12.934000000000001, 4.186, 11.468, 9.886000000000001, 16.194, 6.8420000000000005, 12.27, 10.132, 4.902, 6.086, 5.91, 12.586, 11.224, 7.182, 14.096, 11.412, 11.178, 9.398, 7.538, 9.556000000000001, 5.3180000000000005, 12.838000000000001, 10.774000000000001, 8.016, 13.69, 10.016, 15.966000000000001, 12.870000000000001, 7.016, 8.996, 8.782, 6.106, 10.984, 5.7940000000000005, 10.1, 7.976, 8.57, 13.716000000000001, 11.97, 9.446, 9.594, 6.554, 10.186, 9.304, 7.774, 11.406, 11.058, 8.846, 9.91, 6.816, 12.936, 8.620000000000001, 8.374, 7.956, 6.434, 10.494, 11.962, 9.126, 9.838000000000001, 13.244, 11.252, 7.71, 7.184, 8.42, 14.68, 12.982000000000001, 8.442, 7.390000000000001, 10.984, 3.536, 4.28, 9.03, 12.884, 11.348, 11.532, 6.236, 9.32, 6.776, 2.668, 12.726, 6.284, 4.178, 15.112, 6.138, 9.154, 14.23, 11.912, 11.86, 12.916, 11.676, 5.126, 8.804, 13.442, 9.126, 7.1000000000000005, 6.244, 12.97, 8.664, 9.404, 13.344, 9.592, 7.7940000000000005, 11.938, 12.674, 6.312, 8.07, 9.870000000000001, 13.974, 7.5200000000000005, 12.556000000000001, 7.176, 14.332, 7.196, 13.084, 11.948, 8.922, 8.016, 12.248000000000001, 8.638, 11.1, 8.702, 9.664, 8.988, 12.586, 9.484, 10.876, 14.32, 15.916, 8.346, 9.004, 2.072, 9.006, 12.202, 7.354, 6.532, 12.162, 8.612, 9.76, 17.118000000000002, 15.756, 8.436, 10.536, 14.062000000000001, 6.572, 13.318, 14.496, 11.596, 8.442, 10.046, 11.34, 11.972, 16.14, 9.296, 5.414, 8.69, 12.692, 11.254, 6.838, 9.96, 12.762, 11.858, 10.81, 4.722, 12.356, 4.664, 7.426, 15.984, 13.888, 8.232, 12.542, 4.706, 13.35, 9.398, 9.244, 4.486, 9.538, 11.542, 12.286, 11.73, 6.224, 7.242, 8.768, 10.558, 7.916, 12.776, 6.38, 11.154, 7.97, 9.286, 12.228, 11.338000000000001, 11.648, 10.468, 10.074, 11.264, 9.648, 8.05, 7.5360000000000005, 12.768, 7.708, 8.506, 8.056000000000001, 10.86, 10.066, 9.232, 9.93, 10.034, 10.288, 14.826, 5.8, 13.972, 11.89, 10.476, 12.034, 11.238, 13.712, 10.446, 7.97, 11.956, 8.322000000000001, 12.638, 14.326, 13.544, 16.608, 16.676000000000002, 11.432, 9.998, 8.01, 12.11, 8.986, 13.744, 4.886, 6.234, 9.388, 7.006, 9.352, 14.594, 9.196, 10.172, 11.966000000000001, 7.704, 12.620000000000001, 5.08, 2.996, 8.582, 7.55, 7.728, 13.604000000000001, 11.006, 12.786, 5.34, 4.732, 9.088000000000001, 10.06, 6.308, 9.22, 12.358, 6.988, 14.488, 15.262, 14.07, 11.36, 9.21, 11.886000000000001, 9.416, 10.978, 13.582, 9.862, 11.5, 10.294, 11.346, 13.192, 12.968, 7.43, 15.056000000000001, 12.36, 11.342, 13.834, 6.93, 5.5680000000000005, 12.958, 7.890000000000001, 8.954, 7.92, 12.726, 8.262, 6.646, 10.620000000000001, 14.484, 8.528, 12.13, 9.026, 12.318, 10.36, 7.198, 8.676, 8.136000000000001, 6.496, 12.332, 14.280000000000001, 8.688, 10.606, 9.768, 10.788, 3.452, 9.918000000000001, 10.152000000000001, 9.732, 10.81, 7.7860000000000005, 5.514, 11.992, 9.546, 6.11, 16.532, 13.712, 14.42, 11.202, 6.38, 10.912, 12.048, 15.006, 12.362, 6.296, 11.27, 7.244, 9.506, 0.374, 15.878, 8.092, 7.5200000000000005, 8.502, 12.576, 12.146, 10.766, 10.502, 10.098, 8.194, 6.972, 8.588000000000001, 8.808, 13.738, 7.88, 10.772, 9.874, 16.832, 9.434000000000001, 10.71, 8.718, 12.446, 9.162, 9.868, 13.844, 8.48, 10.396, 7.7780000000000005, 12.01, 5.986, 8.638, 13.89, 6.916, 11.134, 8.612, 9.952, 8.044, 11.292, 11.91, 10.008000000000001, 10.914, 16.22, 11.572000000000001, 12.374, 10.766, 12.918000000000001, 11.904, 6.2860000000000005, 7.78, 11.49, 10.756, 7.986, 7.216, 9.258000000000001, 7.796, 10.422, 7.432, 4.712, 14.222, 7.016, 8.77, 6.942, 10.744, 11.144, 5.396, 11.89, 5.99, 8.942, 8.85, 7.258, 12.268, 10.252, 11.176, 7.390000000000001, 10.31, 11.124, 7.228, 13.686, 10.196, 14.438, 6.8420000000000005, 4.946, 12.226, 8.02, 11.126, 7.708, 12.426, 6.2, 10.812, 2.474, 9.858, 11.55, 7.0280000000000005, 9.988, 5.3740000000000006, 3.954, 7.422000000000001, 8.25, 8.736, 10.678, 10.82, 13.836, 7.122, 14.652000000000001, 12.902000000000001, 14.126, 8.562, 9.568, 9.618, 8.17, 9.540000000000001, 11.364, 9.618, 7.096, 7.482, 11.096, 12.344, 9.028, 15.932, 15.834, 7.0120000000000005, 5.8180000000000005, 12.078, 9.934000000000001, 12.916, 7.518, 8.790000000000001, 12.424, 7.094, 9.046, 8.89, 8.794, 13.216000000000001, 8.502, 6.782, 11.1, 10.454, 6.736, 13.43, 10.972, 8.596, 5.632, 10.552, 0.87, 13.062, 8.13, 5.76, 10.848, 9.018, 14.22, 14.038, 9.434000000000001, 9.38, 7.288, 12.886000000000001, 10.118, 9.492, 9.488, 12.068, 19.394000000000002, 9.202, 12.898, 12.49, 6.916, 11.234, 5.5520000000000005, 12.956, 10.352, 4.662, 10.784, 9.222, 12.276, 9.92, 6.958, 10.932, 10.182, 5.522, 12.15, 7.3, 12.296, 4.21, 10.842, 10.024000000000001, 8.278, 14.26, 10.038, 12.988, 11.174, 14.65, 8.978, 6.932, 8.85, 14.676, 7.266, 15.860000000000001, 13.748000000000001, 6.898000000000001, 10.958, 12.966000000000001, 7.29, 12.198, 14.258000000000001, 6.6000000000000005, 8.436, 10.16, 9.858, 9.168000000000001, 10.484, 5.632, 13.298, 12.530000000000001, 4.0040000000000004, 2.81, 12.754, 10.904, 11.568, 9.522, 7.008, 10.266, 10.3, 8.336, 10.594, 10.488, 12.212, 10.782, 8.15, 9.496, 4.632, 12.296, 8.266, 11.166, 7.55, 10.086, 11.02, 13.314, 10.608, 10.158, 10.316, 10.392, 6.008, 11.98, 9.518, 10.076, 9.57, 9.084, 12.478, 7.208, 10.178, 13.276, 14.898, 10.416, 8.016, 7.508, 13.41, 13.65, 11.398, 6.664, 11.628, 12.798, 9.786, 11.59, 12.888, 8.782, 7.502, 10.346, 8.284, 11.040000000000001, 9.782, 10.116, 10.434000000000001, 8.648, 10.912, 15.16, 13.076, 6.598, 12.584, 5.652, 8.482, 9.784, 10.284, 10.048, 7.976, 6.164, 9.006, 12.462, 13.42, 10.136000000000001, 11.576, 9.266, 8.592, 16.306, 8.632, 3.198, 11.746, 8.51, 10.112, 9.762, 11.322000000000001, 9.492, 10.114, 11.872, 4.946, 8.658, 9.646, 7.75, 16.312, 8.888, 9.496, 6.51, 5.306, 4.978, 15.624, 5.4, 10.902000000000001, 11.906, 8.896, 12.6, 12.040000000000001, 10.194, 10.784, 11.444, 11.352, 11.012, 10.74, 7.406000000000001, 12.56, 16.794, 12.842, 4.202, 12.028, 10.058, 11.594, 9.02, 13.718, 8.646, 11.186, 8.136000000000001, 10.126, 8.97, 9.126, 10.596, 5.944, 8.92, 3.614, 6.8740000000000006, 5.674, 11.35, 10.428, 12.706, 15.588000000000001, 10.552, 7.706, 8.27, 7.206, 8.83, 6.7940000000000005, 12.796000000000001, 11.432, 14.238, 6.968, 8.192, 8.18, 10.406, 10.714, 4.422, 8.642, 12.27, 9.572000000000001, 5.69, 10.484, 7.436, 7.394, 12.208, 11.028, 7.8, 10.986, 10.78, 8.492, 12.714, 4.682, 15.31, 8.434000000000001, 9.738, 15.328000000000001, 8.354000000000001, 13.126, 9.128, 6.7780000000000005, 0.858, 9.68, 8.47, 6.622, 11.522, 11.714, 7.558, 10.58, 9.91, 11.392, 9.892, 11.27, 13.72, 9.248, 5.198, 7.19, 11.534, 7.74, 14.256, 12.184000000000001, 9.486, 10.21, 14.74, 4.5360000000000005, 11.902000000000001, 11.762, 5.466, 8.266, 17.886, 13.22, 13.528, 8.396, 9.11, 5.414, 8.766, 11.788, 11.514000000000001, 11.014, 9.442, 4.896, 16.42, 12.426, 18.35, 7.314, 9.736, 11.062, 9.018, 6.434, 7.322, 14.098, 8.96, 7.098, 12.674, 8.454, 9.4, 12.522, 10.666, 9.092, 12.084, 13.754, 6.17, 6.612, 13.306000000000001, 9.986, 9.76, 10.540000000000001, 12.366, 8.84, 8.782, 9.736, 9.712, 12.844, 14.214, 12.408, 7.58, 14.058, 6.69, 12.284, 11.388, 12.07, 8.284, 9.064, 17.494, 8.838000000000001, 6.78, 9.298, 12.424, 10.904, 8.3, 6.93, 16.404, 11.706, 9.352, 8.41, 17.884, 9.620000000000001, 7.7620000000000005, 8.378, 7.214, 9.61, 11.59, 13.514000000000001, 8.088000000000001, 10.352, 11.086, 6.704, 7.618, 10.52, 6.276, 11.266, 6.128, 13.994, 7.63, 12.786, 7.256, 7.588, 9.61, 15.452, 8.016, 15.524000000000001, 10.658, 12.56, 4.96, 7.922000000000001, 11.836, 8.972, 6.462, 10.42, 14.004, 14.722, 7.182, 11.59, 14.692, 10.132, 11.486, 10.988, 8.528, 9.412, 11.724, 14.17, 9.874, 8.278, 12.992, 8.738, 9.768, 13.986, 8.886000000000001, 8.632, 12.534, 5.5, 7.44, 6.862, 9.958, 8.42, 12.026, 12.01, 9.59, 8.864, 7.684, 9.346, 10.858, 11.858, 16.062, 7.546, 15.22, 10.856, 11.026, 15.552, 11.312, 10.702, 6.942, 14.794, 16.604, 7.684, 8.498, 5.244, 9.450000000000001, 11.094, 9.612, 8.952, 10.122, 11.11, 14.184000000000001, 8.06, 7.2940000000000005, 5.8100000000000005, 7.902, 9.332, 12.47, 9.532, 8.578, 9.396, 9.632, 11.664, 11.752, 11.208, 9.372, 5.442, 10.122, 11.506, 12.906, 14.344, 10.442, 11.708, 10.07, 8.546, 12.436, 9.056000000000001, 9.790000000000001, 8.594, 3.126, 9.202, 10.214, 12.958, 6.8, 13.636000000000001, 13.166, 8.34, 6.17, 10.734, 11.604000000000001, 13.408, 7.136, 13.442, 6.654, 13.142, 16.766000000000002, 12.620000000000001, 12.104000000000001, 11.308, 8.25, 11.1, 9.786, 10.654, 9.644, 7.36, 5.312, 8.476, 10.772, 8.598, 5.0680000000000005, 11.78, 5.88, 5.782, 13.758000000000001, 15.288, 13.538, 12.17, 12.616, 12.308, 11.922, 10.534, 7.67, 11.450000000000001, 8.462, 16.274, 13.194, 12.248000000000001, 9.456, 8.974, 13.568, 10.552, 11.19, 10.688, 15.516, 12.426, 11.584, 11.454, 9.646, 5.606, 9.370000000000001, 4.7780000000000005, 9.544, 11.092, 8.728, 10.344, 6.79, 18.304000000000002, 7.692, 13.358, 9.162, 8.540000000000001, 8.42, 10.208, 13.516, 5.712, 16.93, 6.922, 6.764, 7.204, 13.144, 8.026, 6.5, 7.898000000000001, 11.278, 11.764000000000001, 8.798, 3.7800000000000002, 10.598, 12.73, 13.062, 11.258000000000001, 6.348, 11.206, 7.046, 8.054, 4.19, 12.176, 12.386000000000001, 9.636000000000001, 12.316, 10.244, 14.078000000000001, 10.744, 7.698, 13.428, 11.856, 9.94, 12.52, 12.834, 2.548, 6.3180000000000005, 8.882, 7.972, 12.012, 6.8740000000000006, 13.192, 6.946, 7.612, 9.464, 10.066, 9.450000000000001, 6.684, 14.280000000000001, 6.458, 12.562, 3.71, 10.292, 9.822000000000001, 10.896, 10.756, 12.870000000000001, 7.784, 13.964, 5.664, 7.344, 12.636000000000001, 5.18, 12.736, 10.0, 10.63, 9.218, 10.05, 13.036, 6.33, 10.222, 11.974, 9.854000000000001, 13.924, 10.498, 7.672000000000001, 14.936, 7.008, 9.258000000000001, 9.454, 9.48, 13.248000000000001, 2.83, 8.982, 9.262, 10.066, 13.738, 14.042, 11.254, 7.214, 11.272, 7.33, 11.288, 11.568, 10.286, 11.82, 7.048, 5.01, 11.218, 10.288, 10.438, 8.456, 14.198, 9.774000000000001, 8.326, 9.73, 8.354000000000001, 11.492, 10.03, 3.67, 14.69, 13.738, 11.266, 11.372, 12.834, 11.526, 11.342, 11.302, 17.650000000000002, 9.526, 10.266, 13.286, 12.858, 8.904, 12.714, 7.264, 6.684, 7.546, 16.46, 6.744, 7.84, 13.708, 16.136, 8.82, 15.116, 7.898000000000001, 13.926, 7.84, 14.832, 12.224, 11.282, 12.21, 12.98, 13.644, 16.916, 5.0920000000000005, 13.278, 9.65, 8.044, 12.632, 8.736, 12.556000000000001, 6.0680000000000005, 4.63, 9.120000000000001, 11.370000000000001, 10.338000000000001, 12.194, 9.824, 11.064, 9.306000000000001, 8.494, 7.34, 7.104, 11.09, 7.5120000000000005, 10.498, 8.236, 12.61, 12.658, 14.614, 15.71, 6.776, 10.950000000000001, 9.762, 4.972, 12.796000000000001, 13.586, 14.502, 9.11, 12.748000000000001, 11.256, 13.13, 16.126, 4.282, 4.426, 5.566, 7.532, 8.808, 8.996, 16.696, 8.206, 6.206, 11.604000000000001, 5.792, 12.912, 7.122, 10.518, 11.004, 12.682, 11.540000000000001, 12.200000000000001, 5.686, 9.13, 4.912, 9.074, 9.798, 8.15, 13.694, 11.77, 11.444, 17.338, 13.562000000000001, 12.492, 11.062, 8.372, 7.708, 8.754, 6.15, 7.606, 4.86, 8.57, 14.548, 12.244, 11.956, 5.846, 11.608, 13.376, 6.094, 15.138, 10.206, 8.672, 13.178, 10.338000000000001, 10.07, 10.44, 7.194, 13.556000000000001, 7.596, 13.374, 8.58, 10.858, 6.634, 7.394, 10.322000000000001, 12.09, 5.694, 8.156, 6.94, 8.454, 7.478, 8.6, 10.058, 13.694, 7.414000000000001, 9.458, 5.71, 9.592, 12.622, 12.722, 8.542, 10.964, 9.174, 4.082, 9.368, 8.546, 4.838, 13.638, 15.808, 13.578, 15.006, 9.846, 14.31, 8.55, 9.548, 6.82, 5.868, 12.33, 13.332, 9.764, 6.7780000000000005, 7.426, 6.022, 10.092, 6.218, 10.428, 11.048, 8.032, 6.5440000000000005, 9.258000000000001, 10.648, 7.008, 6.446, 10.438, 15.676, 9.02, 4.986, 10.03, 10.404, 8.366, 8.790000000000001, 14.786, 6.892, 6.8100000000000005, 11.72, 14.328000000000001, 11.364, 5.274, 13.522, 8.964, 12.22, 11.628, 4.506, 13.976, 13.396, 13.812000000000001, 6.0760000000000005, 4.784, 11.962, 11.022, 6.25, 7.948, 8.75, 11.978, 9.462, 12.322000000000001, 7.272, 9.774000000000001, 7.822, 9.094, 9.574, 11.472, 7.856, 6.336, 11.06, 12.676, 5.728, 10.132, 9.796, 9.652000000000001, 9.756, 6.188, 8.716, 10.988, 5.016, 12.478, 8.076, 17.582, 7.902, 9.604000000000001, 9.932, 11.536, 11.362, 11.36, 11.452, 7.82, 8.544, 10.072000000000001, 8.24, 14.142, 8.884, 11.218, 5.208, 9.342, 11.85, 8.6, 5.892, 7.882000000000001, 12.16, 11.3, 9.61, 13.97, 8.464, 7.428, 10.338000000000001, 10.522, 11.082, 10.542, 5.748, 11.664, 16.07, 7.636, 6.822, 13.922, 6.98, 9.0, 8.14, 7.662, 10.602, 5.396, 10.678, 7.572, 11.024000000000001, 10.952, 13.200000000000001, 8.446, 14.368, 5.244, 10.106, 10.692, 11.634, 14.492, 5.434, 12.344, 5.524, 8.584, 10.042, 13.204, 11.578, 13.138, 13.174, 10.514, 11.03, 4.816, 6.894, 8.334, 14.934000000000001, 13.55, 15.138, 6.598, 7.556, 9.844, 8.59, 6.304, 13.958, 8.062, 8.476, 11.198, 8.688, 10.826, 11.852, 9.346, 11.22, 12.73, 13.528, 11.49, 8.326, 11.124, 8.606, 4.882, 16.242, 10.794, 6.388, 6.666, 16.256, 9.716000000000001, 8.262, 13.426, 13.538, 11.46, 14.804, 12.26, 13.11, 10.046, 9.13, 13.006, 9.766, 11.81, 11.1, 9.374, 8.68, 9.454, 7.51, 9.994, 16.528, 13.658, 12.392, 10.984, 5.55, 8.934000000000001, 5.022, 11.148, 4.616, 11.34, 10.632, 9.84, 7.8740000000000006, 10.938, 10.246, 4.078, 17.306, 9.526, 12.794, 14.108, 10.83, 10.594, 10.88, 12.046, 6.228, 11.89, 7.904, 6.398000000000001, 15.968, 8.734, 9.444, 7.45, 15.486, 6.438, 10.74, 12.624, 12.948, 12.448, 7.58, 12.018, 6.424, 5.978, 9.732, 10.26, 11.914, 8.404, 10.248, 8.58, 6.614, 4.166, 7.392, 8.644, 15.5, 10.914, 13.638, 11.582, 7.7860000000000005, 5.38, 11.968, 7.344, 12.734, 12.906, 11.354000000000001, 11.152000000000001, 13.918000000000001, 14.4, 8.946, 9.362, 13.002, 13.138, 12.448, 12.534, 7.498, 12.306000000000001, 11.408, 9.362, 11.828, 10.962, 8.386000000000001, 7.522, 11.19, 9.792, 14.412, 8.136000000000001, 11.726, 13.492, 7.508, 11.094, 11.11, 8.744, 7.784, 11.574, 9.672, 9.282, 9.142, 11.966000000000001, 5.808, 8.53, 11.158, 12.426, 13.564, 8.474, 12.76, 8.298, 9.338000000000001, 11.23, 13.776, 10.302, 13.404, 6.942, 9.96, 10.612, 13.586, 9.018, 13.09, 6.008, 16.9, 5.548, 10.396, 4.532, 10.904, 8.332, 11.564, 12.282, 4.71, 11.896, 10.008000000000001, 6.0600000000000005, 10.646, 12.768, 11.18, 15.038, 8.65, 10.936, 9.486, 17.964, 10.852, 13.57, 10.596, 15.34, 5.63, 5.316, 12.812, 7.352, 9.282, 10.19, 9.65, 6.472, 5.488, 9.76, 11.778, 14.186, 7.156000000000001, 13.168000000000001, 7.828, 8.308, 12.808, 8.132, 10.68, 8.57, 8.736, 10.678, 6.974, 10.906, 13.018, 13.168000000000001, 14.348, 8.822000000000001, 7.96, 8.436, 13.4, 12.72, 8.058, 8.498, 12.540000000000001, 9.866, 8.742, 5.128, 13.58, 12.92, 10.422, 16.146, 8.288, 6.242, 11.33, 9.308, 7.412, 14.032, 10.826, 9.196, 9.916, 9.808, 7.194, 14.982000000000001, 8.466, 9.938, 11.902000000000001, 10.088000000000001, 13.384, 10.972, 13.23, 14.002, 10.452, 6.772, 7.812, 7.8020000000000005, 8.192, 11.454, 13.518, 10.728, 5.3260000000000005, 11.18, 9.796, 8.824, 10.9, 11.844, 11.376, 9.698, 8.28, 6.896, 9.05, 14.442, 10.414, 8.156, 18.046, 7.292, 9.518, 11.676, 9.734, 8.198, 2.77, 13.498000000000001, 11.562, 14.234, 4.892, 9.75, 7.218, 9.26, 12.348, 10.622, 12.164, 9.272, 9.792, 8.768, 12.866, 9.44, 10.772, 11.014, 8.856, 8.68, 7.578, 12.092, 6.488, 12.43, 7.666, 9.666, 9.336, 12.032, 9.666, 8.708, 10.344, 2.858, 6.96, 9.69, 12.452, 11.562, 10.608, 13.166, 12.994, 7.84, 10.316, 6.09, 11.354000000000001, 10.848, 9.954, 11.168000000000001, 7.868, 10.236, 7.564, 15.514000000000001, 4.25, 9.374, 13.054, 6.19, 9.262, 6.162, 6.5760000000000005, 7.194, 9.966000000000001, 11.032, 15.81, 9.544, 12.346, 8.22, 9.282, 8.778, 12.842, 4.812, 9.068, 5.908, 9.518, 6.642, 8.396, 12.484, 5.89, 14.33, 10.97, 13.636000000000001, 14.896, 7.094, 12.07, 5.89, 9.33, 5.67, 10.266, 13.514000000000001, 14.176, 13.006, 11.838000000000001, 9.13, 11.884, 9.428, 8.092, 3.56, 7.0360000000000005, 7.638, 9.758000000000001, 9.704, 9.632, 12.814, 10.18, 11.578, 13.264000000000001, 16.11, 9.828, 8.204, 13.062, 17.236, 9.976, 13.88, 5.368, 10.564, 12.482000000000001]\n",
            "[ -3.448, -3.115] : \n",
            "[ -3.115, -2.782] : \n",
            "[ -2.782, -2.448] : #\n",
            "[ -2.448, -2.115] : #\n",
            "[ -2.115, -1.782] : ##\n",
            "[ -1.782, -1.449] : #####\n",
            "[ -1.449, -1.116] : ########\n",
            "[ -1.116, -0.782] : ##########\n",
            "[ -0.782, -0.449] : ################\n",
            "[ -0.449, -0.116] : ##################\n",
            "[ -0.116,  0.217] : ####################\n",
            "[  0.217,  0.550] : #################\n",
            "[  0.550,  0.884] : #############\n",
            "[  0.884,  1.217] : ###########\n",
            "[  1.217,  1.550] : #######\n",
            "[  1.550,  1.883] : ###\n",
            "[  1.883,  2.216] : #\n",
            "[  2.216,  2.550] : #\n",
            "[  2.550,  2.883] : \n",
            "[  2.883,  3.216] : \n",
            "g1 mean = -0.016807999999999896\n",
            "g1 variance = 1.020684979135999\n",
            "[  0.374,  1.349] : \n",
            "[  1.349,  2.324] : \n",
            "[  2.324,  3.298] : #\n",
            "[  3.298,  4.273] : ##\n",
            "[  4.273,  5.248] : ####\n",
            "[  5.248,  6.223] : #######\n",
            "[  6.223,  7.198] : ###########\n",
            "[  7.198,  8.172] : ##############\n",
            "[  8.172,  9.147] : #################\n",
            "[  9.147, 10.122] : ####################\n",
            "[ 10.122, 11.097] : #################\n",
            "[ 11.097, 12.072] : ################\n",
            "[ 12.072, 13.046] : #############\n",
            "[ 13.046, 14.021] : #########\n",
            "[ 14.021, 14.996] : ######\n",
            "[ 14.996, 15.971] : ###\n",
            "[ 15.971, 16.946] : ##\n",
            "[ 16.946, 17.920] : \n",
            "[ 17.920, 18.895] : \n",
            "[ 18.895, 19.870] : \n",
            "g2 mean = 10.014089200000036\n",
            "g2 variance = 8.766713087243378\n"
          ],
          "name": "stdout"
        }
      ]
    },
    {
      "cell_type": "markdown",
      "metadata": {
        "id": "0X96qgN8_1iD",
        "colab_type": "text"
      },
      "source": [
        "*Exercise 9:* Combine your `generate_function`, `where`, and `in_range` functions above to create an integrate function. Use your integrate function to show that approximately 68% of Normal distribution is within one variance."
      ]
    },
    {
      "cell_type": "code",
      "metadata": {
        "id": "A51dSStW_1iF",
        "colab_type": "code",
        "colab": {
          "base_uri": "https://localhost:8080/",
          "height": 51
        },
        "outputId": "0ddd25e6-821c-4f09-daeb-12cca565bc7a"
      },
      "source": [
        "def integrate(func, x_min, x_max, n_points=1000):\n",
        "    '''\n",
        "    points = generate_function(func, x_min, x_max, n_points)\n",
        "    m = mean(points)\n",
        "    #draw_histogram(points, 10, x_min, x_max, '#', 75)\n",
        "    dx = (x_max - x_min) / n_points\n",
        "    integral = m * sum(len(where(points, in_range(x_min + i * dx, x_min + (i + 1) * dx))) for i in range(n_points))\n",
        "    '''\n",
        "    i = x_min\n",
        "    integral = 0\n",
        "    dx = (x_max - x_min) / n_points\n",
        "    while i < x_max:\n",
        "      integral += func(i) * dx\n",
        "      i += dx\n",
        "    return integral\n",
        "print(integrate(lambda x: -((x - 10) ** 2) + 100, 0, 20, 1000))\n",
        "print(integrate(g2, 7, 13, 1000)/integrate(g2, 0, 20, 1000))"
      ],
      "execution_count": 256,
      "outputs": [
        {
          "output_type": "stream",
          "text": [
            "1333.3320000000258\n",
            "0.6832686585265082\n"
          ],
          "name": "stdout"
        }
      ]
    },
    {
      "cell_type": "code",
      "metadata": {
        "id": "d87Vi_Zj_1iL",
        "colab_type": "code",
        "colab": {}
      },
      "source": [
        ""
      ],
      "execution_count": 0,
      "outputs": []
    }
  ]
}