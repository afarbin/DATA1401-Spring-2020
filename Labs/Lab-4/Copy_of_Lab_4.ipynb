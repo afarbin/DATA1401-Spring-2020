{
  "nbformat": 4,
  "nbformat_minor": 0,
  "metadata": {
    "kernelspec": {
      "display_name": "Python 3",
      "language": "python",
      "name": "python3"
    },
    "language_info": {
      "codemirror_mode": {
        "name": "ipython",
        "version": 3
      },
      "file_extension": ".py",
      "mimetype": "text/x-python",
      "name": "python",
      "nbconvert_exporter": "python",
      "pygments_lexer": "ipython3",
      "version": "3.8.1"
    },
    "colab": {
      "name": "Copy of Lab-4.ipynb",
      "provenance": [],
      "collapsed_sections": []
    }
  },
  "cells": [
    {
      "cell_type": "markdown",
      "metadata": {
        "id": "NoBj18wB_1fa",
        "colab_type": "text"
      },
      "source": [
        "## Lab 4\n",
        "\n",
        "[![Open In Colab](https://colab.research.google.com/assets/colab-badge.svg)](https://colab.research.google.com/github//afarbin/DATA1401-Spring-2020/blob/master/Labs/Lab-4/Lab-4.ipynb)\n",
        "\n",
        "In this lab we will become familiar with distributions, histograms, and functional programming. \n",
        "\n",
        "\n",
        "### Uniform Distribution\n",
        "Lets start with generating some fake random data. You can get a random number between 0 and 1 using the python random module as follow:"
      ]
    },
    {
      "cell_type": "code",
      "metadata": {
        "id": "TmrUVAv1_1ff",
        "colab_type": "code",
        "outputId": "055500e9-f47c-49e2-fcad-e9430e15fecd",
        "colab": {
          "base_uri": "https://localhost:8080/",
          "height": 34
        }
      },
      "source": [
        "import random\n",
        "x=random.random()\n",
        "print(\"The Value of x is\", x)"
      ],
      "execution_count": 1,
      "outputs": [
        {
          "output_type": "stream",
          "text": [
            "The Value of x is 0.32871666542362765\n"
          ],
          "name": "stdout"
        }
      ]
    },
    {
      "cell_type": "markdown",
      "metadata": {
        "id": "NtxsuHTs_1fw",
        "colab_type": "text"
      },
      "source": [
        "Everytime you call random, you will get a new number.\n",
        "\n",
        "*Exercise 1:* Using random, write a function `generate_uniform(N, mymin, mymax)`, that returns a python list containing N random numbers between specified minimum and maximum value. Note that you may want to quickly work out on paper how to turn numbers between 0 and 1 to between other values. "
      ]
    },
    {
      "cell_type": "code",
      "metadata": {
        "id": "Z9GzQB02_1fy",
        "colab_type": "code",
        "colab": {}
      },
      "source": [
        "# Skeleton\n",
        "def generate_uniform(N,x_min,x_max):\n",
        "    out = []\n",
        "    ### BEGIN SOLUTION\n",
        "\n",
        "    while len(out) < N:\n",
        "      out.append(x_min + random.random() * (x_max - x_min))      \n",
        "    \n",
        "    ### END SOLUTION\n",
        "    return out"
      ],
      "execution_count": 0,
      "outputs": []
    },
    {
      "cell_type": "code",
      "metadata": {
        "id": "eiWTH4-H_1f6",
        "colab_type": "code",
        "outputId": "37ef9700-6316-4947-9baa-fc05fd121af2",
        "colab": {
          "base_uri": "https://localhost:8080/",
          "height": 102
        }
      },
      "source": [
        "# Test your solution here\n",
        "data=generate_uniform(1000,-10,10)\n",
        "print(\"Data Type:\", type(data))\n",
        "print(\"Data Length:\", len(data))\n",
        "if len(data)>0: \n",
        "    print(\"Type of Data Contents:\", type(data[0]))\n",
        "    print(\"Data Minimum:\", min(data))\n",
        "    print(\"Data Maximum:\", max(data))"
      ],
      "execution_count": 3,
      "outputs": [
        {
          "output_type": "stream",
          "text": [
            "Data Type: <class 'list'>\n",
            "Data Length: 1000\n",
            "Type of Data Contents: <class 'float'>\n",
            "Data Minimum: -9.975816305169623\n",
            "Data Maximum: 9.995291400820292\n"
          ],
          "name": "stdout"
        }
      ]
    },
    {
      "cell_type": "markdown",
      "metadata": {
        "id": "VOUqBefH_1gA",
        "colab_type": "text"
      },
      "source": [
        "*Exercise 2a:* \n",
        "Write a function that computes the mean of values in a list."
      ]
    },
    {
      "cell_type": "code",
      "metadata": {
        "id": "6sDXXVHB_1gE",
        "colab_type": "code",
        "colab": {}
      },
      "source": [
        "# Skeleton\n",
        "def mean(Data):\n",
        "    m=0.\n",
        "    \n",
        "    ### BEGIN SOLUTION\n",
        "    \n",
        "    m = sum(Data) / len(Data)\n",
        "    \n",
        "    ### END SOLUTION\n",
        "    \n",
        "    return m"
      ],
      "execution_count": 0,
      "outputs": []
    },
    {
      "cell_type": "code",
      "metadata": {
        "id": "0Z8u7_Hq_1gK",
        "colab_type": "code",
        "outputId": "25a2074a-f16a-4229-c2ad-e3827754aad1",
        "colab": {
          "base_uri": "https://localhost:8080/",
          "height": 34
        }
      },
      "source": [
        "# Test your solution here\n",
        "print(\"Mean of Data:\", mean(data))"
      ],
      "execution_count": 5,
      "outputs": [
        {
          "output_type": "stream",
          "text": [
            "Mean of Data: -0.03451181690297556\n"
          ],
          "name": "stdout"
        }
      ]
    },
    {
      "cell_type": "markdown",
      "metadata": {
        "id": "b1CWdjfM_1gR",
        "colab_type": "text"
      },
      "source": [
        "*Exercise 2b:* \n",
        "Write a function that computes the variance of values in a list."
      ]
    },
    {
      "cell_type": "code",
      "metadata": {
        "id": "gfiiJxZl_1gT",
        "colab_type": "code",
        "colab": {}
      },
      "source": [
        "# Skeleton\n",
        "def variance(Data):\n",
        "    m=0.\n",
        "    \n",
        "    ### BEGIN SOLUTION\n",
        "\n",
        "    m = mean(Data)\n",
        "    variance = sum((x - m) ** 2 for x in Data) / len(Data)\n",
        "    \n",
        "    ### END SOLUTION\n",
        "    \n",
        "    return variance"
      ],
      "execution_count": 0,
      "outputs": []
    },
    {
      "cell_type": "code",
      "metadata": {
        "id": "IbasE7ma_1gZ",
        "colab_type": "code",
        "outputId": "654d0f50-968d-4669-e051-e12d3905741c",
        "colab": {
          "base_uri": "https://localhost:8080/",
          "height": 34
        }
      },
      "source": [
        "# Test your solution here\n",
        "print(\"Variance of Data:\", variance(data))"
      ],
      "execution_count": 7,
      "outputs": [
        {
          "output_type": "stream",
          "text": [
            "Variance of Data: 31.635785180548243\n"
          ],
          "name": "stdout"
        }
      ]
    },
    {
      "cell_type": "markdown",
      "metadata": {
        "id": "7qtsjJNA_1ge",
        "colab_type": "text"
      },
      "source": [
        "## Histogramming"
      ]
    },
    {
      "cell_type": "markdown",
      "metadata": {
        "id": "FJsWb1o9_1gf",
        "colab_type": "text"
      },
      "source": [
        "*Exercise 3:* Write a function that bins the data so that you can create a histogram. An example of how to implement histogramming is the following logic:\n",
        "\n",
        "* User inputs a list of values `x` and optionally `n_bins` which defaults to 10.\n",
        "* If not supplied, find the minimum and maximum (`x_min`,`x_max`) of the values in x.\n",
        "* Determine the bin size (`bin_size`) by dividing the range of the function by the number of bins.\n",
        "* Create an empty list of zeros of size `n_bins`, call it `hist`.\n",
        "* Loop over the values in `x`\n",
        "    * Loop over the values in `hist` with index `i`:\n",
        "        * If x is between `x_min+i*bin_size` and `x_min+i*2*bin_size`, increment `hist[i].` \n",
        "        * For efficiency, try to use continue to goto the next bin and data point.\n",
        "* Return `hist` and the list corresponding of the bin edges (i.e. of `x_min+i*bin_size`).    "
      ]
    },
    {
      "cell_type": "code",
      "metadata": {
        "id": "Yp85CdIF_1gh",
        "colab_type": "code",
        "colab": {}
      },
      "source": [
        "# Solution\n",
        "def histogram(x,n_bins=10,x_min=None,x_max=None):\n",
        "    ### BEGIN SOLUTION\n",
        "\n",
        "    if x_min == None:\n",
        "      x_min = min(x)\n",
        "    if x_max == None:\n",
        "      x_max = max(x)\n",
        "    \n",
        "    bin_size = (x_max - x_min) / n_bins\n",
        "\n",
        "    hist = [0] * n_bins\n",
        "    bin_edges = [x_min]\n",
        "    for i in range(1, n_bins + 1):\n",
        "      bin_edges.append(x_min + i * bin_size)\n",
        "    for value in x:\n",
        "      for i in range(n_bins):\n",
        "        if (x_min + (i * bin_size)) <= value <= (x_min + ((i + 1) * bin_size)):\n",
        "          hist[i] += 1\n",
        "          break\n",
        "    \n",
        "    ### END SOLUTION\n",
        "\n",
        "    return hist,bin_edges"
      ],
      "execution_count": 0,
      "outputs": []
    },
    {
      "cell_type": "code",
      "metadata": {
        "id": "CQg5EFMg_1gn",
        "colab_type": "code",
        "outputId": "11e0626a-665e-4487-c67d-9a915e38acef",
        "colab": {
          "base_uri": "https://localhost:8080/",
          "height": 54
        }
      },
      "source": [
        "# Test your solution here\n",
        "h,b=histogram(data,100)\n",
        "print(len(b),h)"
      ],
      "execution_count": 9,
      "outputs": [
        {
          "output_type": "stream",
          "text": [
            "101 [8, 7, 8, 9, 10, 11, 13, 5, 15, 6, 8, 14, 11, 10, 11, 14, 7, 4, 7, 4, 15, 11, 16, 5, 11, 7, 12, 10, 11, 12, 10, 14, 17, 9, 7, 8, 7, 9, 8, 13, 7, 9, 8, 11, 13, 12, 11, 15, 15, 10, 9, 13, 8, 13, 14, 8, 16, 11, 15, 14, 6, 13, 12, 8, 5, 9, 5, 13, 7, 13, 6, 4, 11, 12, 9, 13, 11, 10, 3, 9, 16, 11, 7, 13, 9, 7, 13, 3, 8, 11, 8, 13, 13, 14, 6, 9, 5, 13, 10, 6]\n"
          ],
          "name": "stdout"
        }
      ]
    },
    {
      "cell_type": "markdown",
      "metadata": {
        "id": "miaZ7qfS_1gs",
        "colab_type": "text"
      },
      "source": [
        "*Exercise 4:* Write a function that uses the histogram function in the previous exercise to create a text-based \"graph\". For example the output could look like the following:\n",
        "```\n",
        "[  0,  1] : ######\n",
        "[  1,  2] : #####\n",
        "[  2,  3] : ######\n",
        "[  3,  4] : ####\n",
        "[  4,  5] : ####\n",
        "[  5,  6] : ######\n",
        "[  6,  7] : #####\n",
        "[  7,  8] : ######\n",
        "[  8,  9] : ####\n",
        "[  9, 10] : #####\n",
        "```\n",
        "\n",
        "Where each line corresponds to a bin and the number of `#`'s are proportional to the value of the data in the bin. "
      ]
    },
    {
      "cell_type": "code",
      "metadata": {
        "id": "ajxAao2B_1gt",
        "colab_type": "code",
        "colab": {}
      },
      "source": [
        "# Solution\n",
        "def draw_histogram(x,n_bins,x_min=None,x_max=None,character=\"#\",max_character_per_line=20):\n",
        "    ### BEGIN SOLUTION\n",
        "\n",
        "    bins = []\n",
        "\n",
        "    hist, bin_edges = histogram(x, n_bins, x_min, x_max)\n",
        "\n",
        "    max_hist = max(hist)\n",
        "\n",
        "    for i in range(len(bin_edges) - 1):\n",
        "      print(\"[\" + \"{:7.3f}\".format(bin_edges[i]) + \",\" + \"{:7.3f}\".format(bin_edges[i + 1]) + \"] : \" + (str(character) * int(hist[i] / max_hist * max_character_per_line)))\n",
        "    \n",
        "    ### END SOLUTION\n",
        "\n",
        "    return hist,bin_edges"
      ],
      "execution_count": 0,
      "outputs": []
    },
    {
      "cell_type": "code",
      "metadata": {
        "id": "EsQxIs9U_1gy",
        "colab_type": "code",
        "outputId": "4ccda8ad-657b-4977-b32a-16e14dca8033",
        "colab": {
          "base_uri": "https://localhost:8080/",
          "height": 357
        }
      },
      "source": [
        "# Test your solution here\n",
        "h,b=draw_histogram(data,20)"
      ],
      "execution_count": 11,
      "outputs": [
        {
          "output_type": "stream",
          "text": [
            "[ -9.976, -8.977] : #############\n",
            "[ -8.977, -7.979] : ###############\n",
            "[ -7.979, -6.980] : ################\n",
            "[ -6.980, -5.982] : ###########\n",
            "[ -5.982, -4.983] : ##################\n",
            "[ -4.983, -3.984] : ################\n",
            "[ -3.984, -2.986] : #################\n",
            "[ -2.986, -1.987] : ##############\n",
            "[ -1.987, -0.989] : ###############\n",
            "[ -0.989,  0.010] : ###################\n",
            "[  0.010,  1.008] : #################\n",
            "[  1.008,  2.007] : ####################\n",
            "[  2.007,  3.005] : #############\n",
            "[  3.005,  4.004] : ##############\n",
            "[  4.004,  5.003] : #############\n",
            "[  5.003,  6.001] : ##############\n",
            "[  6.001,  7.000] : #################\n",
            "[  7.000,  7.998] : #############\n",
            "[  7.998,  8.997] : ################\n",
            "[  8.997,  9.995] : #############\n"
          ],
          "name": "stdout"
        }
      ]
    },
    {
      "cell_type": "markdown",
      "metadata": {
        "id": "ppoPnjV4_1g3",
        "colab_type": "text"
      },
      "source": [
        "## Functional Programming\n",
        "\n",
        "*Exercise 5:* Write a function the applies a booling function (that returns true/false) to every element in data, and return a list of indices of elements where the result was true. Use this function to find the indices of entries greater than 0.5. "
      ]
    },
    {
      "cell_type": "code",
      "metadata": {
        "id": "HTTvnZDl_1hK",
        "colab_type": "code",
        "colab": {}
      },
      "source": [
        "def where(mylist,myfunc):\n",
        "    out= []\n",
        "    \n",
        "    ### BEGIN SOLUTION\n",
        "    for i in range(len(mylist)):\n",
        "      if myfunc(mylist[i]):\n",
        "        out.append(i)       \n",
        "    \n",
        "    ### END SOLUTION\n",
        "    \n",
        "    return out"
      ],
      "execution_count": 0,
      "outputs": []
    },
    {
      "cell_type": "code",
      "metadata": {
        "id": "ZyXbNZK7_1hS",
        "colab_type": "code",
        "outputId": "3953bc9b-ae61-44b9-c7e9-c05e3548f65d",
        "colab": {
          "base_uri": "https://localhost:8080/",
          "height": 54
        }
      },
      "source": [
        "# Test your solution here\n",
        "def myfunc(n):\n",
        "  return n > 0.5\n",
        "\n",
        "print(where(data, myfunc))"
      ],
      "execution_count": 13,
      "outputs": [
        {
          "output_type": "stream",
          "text": [
            "[2, 3, 4, 7, 9, 13, 15, 16, 19, 22, 23, 24, 25, 27, 29, 30, 32, 33, 35, 36, 37, 38, 39, 40, 41, 42, 43, 48, 50, 53, 59, 61, 66, 69, 73, 74, 78, 82, 85, 87, 89, 93, 94, 96, 97, 98, 101, 102, 105, 106, 111, 114, 115, 116, 117, 120, 122, 124, 125, 126, 127, 128, 129, 130, 131, 132, 133, 134, 140, 144, 145, 146, 148, 149, 150, 151, 155, 158, 159, 161, 162, 163, 164, 165, 167, 170, 171, 173, 174, 175, 178, 187, 188, 189, 190, 193, 195, 196, 198, 199, 201, 202, 204, 208, 209, 210, 212, 213, 215, 220, 222, 225, 226, 227, 228, 229, 230, 235, 236, 238, 241, 245, 246, 253, 258, 259, 262, 263, 267, 268, 270, 271, 275, 277, 279, 280, 284, 290, 291, 295, 297, 298, 300, 302, 304, 306, 307, 308, 309, 312, 313, 314, 318, 319, 321, 326, 327, 329, 330, 331, 334, 337, 338, 340, 341, 343, 346, 353, 354, 355, 356, 358, 359, 361, 362, 363, 364, 365, 366, 369, 370, 371, 376, 377, 378, 379, 381, 388, 393, 396, 401, 403, 405, 406, 408, 409, 411, 412, 413, 419, 420, 423, 424, 425, 427, 429, 434, 436, 440, 442, 443, 445, 446, 447, 454, 455, 462, 463, 466, 468, 470, 471, 473, 474, 475, 478, 489, 490, 491, 494, 497, 498, 501, 502, 503, 504, 505, 506, 507, 509, 515, 518, 523, 524, 526, 528, 529, 530, 532, 533, 534, 535, 536, 537, 540, 541, 544, 545, 546, 547, 550, 551, 552, 554, 555, 559, 568, 569, 572, 574, 575, 576, 580, 581, 584, 587, 588, 589, 591, 592, 593, 598, 600, 601, 605, 613, 614, 615, 617, 620, 622, 625, 627, 628, 629, 630, 632, 633, 635, 639, 643, 648, 649, 650, 654, 655, 660, 662, 664, 665, 669, 671, 674, 675, 676, 677, 679, 680, 683, 684, 689, 690, 691, 693, 699, 701, 702, 703, 706, 707, 710, 712, 713, 718, 719, 720, 724, 728, 731, 733, 734, 736, 737, 739, 741, 743, 744, 745, 747, 748, 751, 755, 756, 769, 770, 774, 775, 777, 778, 779, 780, 783, 785, 787, 788, 790, 794, 795, 796, 797, 801, 807, 808, 810, 811, 814, 815, 816, 817, 818, 820, 821, 822, 823, 824, 826, 827, 829, 837, 838, 840, 847, 848, 851, 852, 853, 854, 855, 857, 859, 860, 863, 864, 866, 869, 870, 871, 873, 874, 876, 877, 878, 881, 882, 885, 886, 887, 889, 890, 892, 893, 895, 897, 898, 899, 900, 903, 906, 907, 910, 911, 920, 921, 922, 923, 924, 928, 932, 933, 935, 937, 942, 943, 944, 945, 950, 951, 952, 954, 956, 958, 959, 960, 961, 963, 965, 966, 972, 973, 981, 983, 984, 986, 987, 988, 989, 990, 993, 996, 997, 999]\n"
          ],
          "name": "stdout"
        }
      ]
    },
    {
      "cell_type": "markdown",
      "metadata": {
        "id": "jt4S-KN0_1hZ",
        "colab_type": "text"
      },
      "source": [
        "*Exercise 6:* The inrange(mymin,mymax) function below returns a function that tests if it's input is between the specified values. Write corresponding functions that test:\n",
        "* Even\n",
        "* Odd\n",
        "* Greater than\n",
        "* Less than\n",
        "* Equal\n",
        "* Divisible by"
      ]
    },
    {
      "cell_type": "code",
      "metadata": {
        "id": "kkchtWxy_1hb",
        "colab_type": "code",
        "outputId": "ff8b5e85-d03d-4652-bca9-63a18f201af4",
        "colab": {
          "base_uri": "https://localhost:8080/",
          "height": 85
        }
      },
      "source": [
        "def in_range(mymin,mymax):\n",
        "    def testrange(x):\n",
        "        return x<mymax and x>=mymin\n",
        "    return testrange\n",
        "\n",
        "# Examples:\n",
        "F1=in_range(0,10)\n",
        "F2=in_range(10,20)\n",
        "\n",
        "# Test of in_range\n",
        "print(F1(0), F1(1), F1(10), F1(15), F1(20))\n",
        "print(F2(0), F2(1), F2(10), F2(15), F2(20))\n",
        "\n",
        "print(\"Number of Entries passing F1:\", len(where(data,F1)))\n",
        "print(\"Number of Entries passing F2:\", len(where(data,F2)))"
      ],
      "execution_count": 14,
      "outputs": [
        {
          "output_type": "stream",
          "text": [
            "True True False False False\n",
            "False False True True False\n",
            "Number of Entries passing F1: 496\n",
            "Number of Entries passing F2: 0\n"
          ],
          "name": "stdout"
        }
      ]
    },
    {
      "cell_type": "code",
      "metadata": {
        "id": "tcReOq0v_1hf",
        "colab_type": "code",
        "colab": {}
      },
      "source": [
        "### BEGIN SOLUTION\n",
        "\n",
        "def even():\n",
        "  def is_even(x):\n",
        "    return x % 2 == 0\n",
        "  return is_even\n",
        "\n",
        "def odd():\n",
        "  def is_odd(x):\n",
        "    return x % 2 == 1\n",
        "  return is_odd\n",
        "\n",
        "def greater_than(n):\n",
        "  def is_greater_than(x):\n",
        "    return x > n\n",
        "  return is_greater_than\n",
        "\n",
        "def less_than(n):\n",
        "  def is_less_than(x):\n",
        "    return x < n\n",
        "  return is_less_than\n",
        "\n",
        "def equal_to(n):\n",
        "  def is_equal_to(x):\n",
        "    return x == n\n",
        "  return is_equal_to\n",
        "\n",
        "def divisible_by(n):\n",
        "  def is_divisible_by(x):\n",
        "    return x % n == 0\n",
        "  return is_divisible_by\n",
        "    \n",
        "### END SOLUTION"
      ],
      "execution_count": 0,
      "outputs": []
    },
    {
      "cell_type": "code",
      "metadata": {
        "id": "3AhyJZjf_1hj",
        "colab_type": "code",
        "outputId": "5f6d8f63-6e9a-4cd0-9932-31e0650a90cf",
        "colab": {
          "base_uri": "https://localhost:8080/",
          "height": 153
        }
      },
      "source": [
        "# Test your solution\n",
        "E = even()\n",
        "O = odd()\n",
        "G = greater_than(0)\n",
        "L = less_than(0)\n",
        "EQ = equal_to(data[20])\n",
        "D = divisible_by(data[50])\n",
        "\n",
        "print(E(2), O(2), G(2), L(2), EQ(2), D(2))\n",
        "print(E(-1), O(-1), G(-1), L(-1), EQ(-1), D(-1))\n",
        "\n",
        "print(\"Number of Entries passing E:\", len(where(data,E)))\n",
        "print(\"Number of Entries passing O:\", len(where(data,O)))\n",
        "print(\"Number of Entries passing G:\", len(where(data,G)))\n",
        "print(\"Number of Entries passing L:\", len(where(data,L)))\n",
        "print(\"Number of Entries passing EQ:\", len(where(data,EQ)))\n",
        "print(\"Number of Entries passing D:\", len(where(data,D)))"
      ],
      "execution_count": 16,
      "outputs": [
        {
          "output_type": "stream",
          "text": [
            "True False True False False False\n",
            "False True False True False False\n",
            "Number of Entries passing E: 0\n",
            "Number of Entries passing O: 0\n",
            "Number of Entries passing G: 496\n",
            "Number of Entries passing L: 504\n",
            "Number of Entries passing EQ: 1\n",
            "Number of Entries passing D: 1\n"
          ],
          "name": "stdout"
        }
      ]
    },
    {
      "cell_type": "markdown",
      "metadata": {
        "id": "tEhLwDyH_1hq",
        "colab_type": "text"
      },
      "source": [
        "*Exercise 7:* Repeat the previous exercise using `lambda` and the built-in python functions sum and map instead of your solution above. "
      ]
    },
    {
      "cell_type": "code",
      "metadata": {
        "id": "VlWCyUXL_1hr",
        "colab_type": "code",
        "outputId": "8cc4be15-dcd4-4016-8234-2188876aa9e6",
        "colab": {
          "base_uri": "https://localhost:8080/",
          "height": 119
        }
      },
      "source": [
        "### BEGIN SOLUTION\n",
        "\n",
        "print(\"Number of Entries passing E:\", sum(map(lambda x: x % 2 == 0,data)))\n",
        "print(\"Number of Entries passing O:\", sum(map(lambda x: x % 2 == 1, data)))\n",
        "print(\"Number of Entries passing G:\", sum(map(lambda x: x > 0, data)))\n",
        "print(\"Number of Entries passing L:\", sum(map(lambda x: x < 0, data)))\n",
        "print(\"Number of Entries passing EQ:\", sum(map(lambda x: x == data[20], data)))\n",
        "print(\"Number of Entries passing D:\", sum(map(lambda x: x % data[50] == 0, data)))\n",
        "### END SOLUTION"
      ],
      "execution_count": 17,
      "outputs": [
        {
          "output_type": "stream",
          "text": [
            "Number of Entries passing E: 0\n",
            "Number of Entries passing O: 0\n",
            "Number of Entries passing G: 496\n",
            "Number of Entries passing L: 504\n",
            "Number of Entries passing EQ: 1\n",
            "Number of Entries passing D: 1\n"
          ],
          "name": "stdout"
        }
      ]
    },
    {
      "cell_type": "markdown",
      "metadata": {
        "id": "7IsTjLuQ_1hz",
        "colab_type": "text"
      },
      "source": [
        "## Monte Carlo\n",
        "\n",
        "*Exercise 7:* Write a \"generator\" function called `generate_function(func,x_min,x_max,N)`, that instead of generating a flat distribution, generates a distribution with functional form coded in `func`. Note that `func` will always be > 0.  \n",
        "\n",
        "Use the test function below and your histogramming functions above to demonstrate that your generator is working properly.\n",
        "\n",
        "Hint: A simple, but slow, solution is to a draw random number test_x within the specified range and another number p between the min and max of the function (which you will have to determine). If p<=function(test_x), then place test_x on the output. If not, repeat the process, drawing two new numbers. Repeat until you have the specified number of generated numbers, N. For this problem, it's OK to determine the min and max by numerically sampling the function.  "
      ]
    },
    {
      "cell_type": "code",
      "metadata": {
        "id": "NL7k4NeJ_1h1",
        "colab_type": "code",
        "colab": {}
      },
      "source": [
        "def generate_function(func,x_min,x_max,N=1000):\n",
        "    out = list()\n",
        "    ### BEGIN SOLUTION\n",
        "    d = (x_max - x_min) / N\n",
        "    numbers = [x * d + x_min for x in range(N + 1)]\n",
        "    frequency = [func(n * d + x_min) for n in range(N + 1)]\n",
        "    #aux = [frequency[0]] + [0] * N\n",
        "    for i in range(1, N + 1):\n",
        "      frequency[i] = (frequency[i - 1] + frequency[i])\n",
        "    #print(*zip(numbers, frequency))\n",
        "    #print(numbers)\n",
        "    #print(frequency)\n",
        "    while len(out) < N:\n",
        "      num = random.random() * frequency[-1]\n",
        "      #print(num)\n",
        "      for i in range(len(frequency)):\n",
        "        if frequency[i] >= num:\n",
        "          out.append(numbers[i])\n",
        "          #print(frequency[i], num)\n",
        "          break\n",
        "    ### END SOLUTION\n",
        "    \n",
        "    return out"
      ],
      "execution_count": 0,
      "outputs": []
    },
    {
      "cell_type": "code",
      "metadata": {
        "id": "IOfuFLBX_1h6",
        "colab_type": "code",
        "outputId": "a5dc3747-a7ed-4987-c196-1ec4cb29e877",
        "colab": {
          "base_uri": "https://localhost:8080/",
          "height": 1000
        }
      },
      "source": [
        "# A test function\n",
        "def test_func(x,a=1,b=1):\n",
        "    return abs(a*x+b)\n",
        "x_min = 0\n",
        "x_max = 10\n",
        "N = 1000\n",
        "n_bins = 20\n",
        "draw_histogram(generate_function(lambda x: -((x - 5)**2) + 5 ** 2, x_min, x_max, N), n_bins, x_min, x_max, \"#\", 50)\n",
        "draw_histogram(generate_function(test_func, x_min, x_max, N), n_bins, x_min, x_max, \"#\", 50)"
      ],
      "execution_count": 19,
      "outputs": [
        {
          "output_type": "stream",
          "text": [
            "[  0.000,  0.500] : ######\n",
            "[  0.500,  1.000] : ######\n",
            "[  1.000,  1.500] : ###################\n",
            "[  1.500,  2.000] : #########################\n",
            "[  2.000,  2.500] : #########################\n",
            "[  2.500,  3.000] : #########################################\n",
            "[  3.000,  3.500] : #####################################\n",
            "[  3.500,  4.000] : ###########################################\n",
            "[  4.000,  4.500] : #########################################\n",
            "[  4.500,  5.000] : #############################################\n",
            "[  5.000,  5.500] : ###########################################\n",
            "[  5.500,  6.000] : ##################################################\n",
            "[  6.000,  6.500] : ################################################\n",
            "[  6.500,  7.000] : ########################################\n",
            "[  7.000,  7.500] : ####################################\n",
            "[  7.500,  8.000] : ##############################\n",
            "[  8.000,  8.500] : #########################\n",
            "[  8.500,  9.000] : ###################\n",
            "[  9.000,  9.500] : #######\n",
            "[  9.500, 10.000] : #####\n",
            "[  0.000,  0.500] : #####\n",
            "[  0.500,  1.000] : ########\n",
            "[  1.000,  1.500] : ##############\n",
            "[  1.500,  2.000] : ############\n",
            "[  2.000,  2.500] : ##############\n",
            "[  2.500,  3.000] : ###################\n",
            "[  3.000,  3.500] : ####################\n",
            "[  3.500,  4.000] : #########################\n",
            "[  4.000,  4.500] : ##################\n",
            "[  4.500,  5.000] : ################################\n",
            "[  5.000,  5.500] : #############################\n",
            "[  5.500,  6.000] : ###########################\n",
            "[  6.000,  6.500] : ###################################\n",
            "[  6.500,  7.000] : ##################################\n",
            "[  7.000,  7.500] : #############################################\n",
            "[  7.500,  8.000] : #######################################\n",
            "[  8.000,  8.500] : #################################################\n",
            "[  8.500,  9.000] : ############################################\n",
            "[  9.000,  9.500] : ###############################################\n",
            "[  9.500, 10.000] : ##################################################\n"
          ],
          "name": "stdout"
        },
        {
          "output_type": "execute_result",
          "data": {
            "text/plain": [
              "([10,\n",
              "  14,\n",
              "  26,\n",
              "  22,\n",
              "  25,\n",
              "  34,\n",
              "  35,\n",
              "  44,\n",
              "  33,\n",
              "  57,\n",
              "  52,\n",
              "  47,\n",
              "  61,\n",
              "  60,\n",
              "  79,\n",
              "  69,\n",
              "  86,\n",
              "  77,\n",
              "  82,\n",
              "  87],\n",
              " [0,\n",
              "  0.5,\n",
              "  1.0,\n",
              "  1.5,\n",
              "  2.0,\n",
              "  2.5,\n",
              "  3.0,\n",
              "  3.5,\n",
              "  4.0,\n",
              "  4.5,\n",
              "  5.0,\n",
              "  5.5,\n",
              "  6.0,\n",
              "  6.5,\n",
              "  7.0,\n",
              "  7.5,\n",
              "  8.0,\n",
              "  8.5,\n",
              "  9.0,\n",
              "  9.5,\n",
              "  10.0])"
            ]
          },
          "metadata": {
            "tags": []
          },
          "execution_count": 19
        }
      ]
    },
    {
      "cell_type": "markdown",
      "metadata": {
        "id": "tEdnKUPz_1h-",
        "colab_type": "text"
      },
      "source": [
        "*Exercise 8:* Use your function to generate 1000 numbers that are normal distributed, using the `gaussian` function below. Confirm the mean and variance of the data is close to the mean and variance you specify when building the Gaussian. Histogram the data. "
      ]
    },
    {
      "cell_type": "code",
      "metadata": {
        "id": "wnZFkATK_1h_",
        "colab_type": "code",
        "outputId": "ca30831f-6686-410f-b844-8d58e42c02ff",
        "colab": {
          "base_uri": "https://localhost:8080/",
          "height": 819
        }
      },
      "source": [
        "import math\n",
        "\n",
        "def gaussian(mean, sigma):\n",
        "    def f(x):\n",
        "        return math.exp(-((x-mean)**2)/(2*sigma**2))/math.sqrt(math.pi*sigma)\n",
        "    return f\n",
        "\n",
        "# Example Instantiation\n",
        "g1=gaussian(0,1)\n",
        "g2=gaussian(10,3)\n",
        "\n",
        "g1_data = generate_function(g1, -4, 4, 1000)\n",
        "g2_data = generate_function(g2, 0, 20, 1000)\n",
        "print(g1_data)\n",
        "print(g2_data)\n",
        "draw_histogram(g1_data, 20)\n",
        "print(\"g1 mean = \" + str(mean(g1_data)))\n",
        "print(\"g1 variance = \" + str(variance(g1_data)))\n",
        "draw_histogram(g2_data, 20)\n",
        "print(\"g2 mean = \" + str(mean(g2_data)))\n",
        "print(\"g2 variance = \" + str(variance(g2_data)))"
      ],
      "execution_count": 20,
      "outputs": [
        {
          "output_type": "stream",
          "text": [
            "[0.15200000000000014, 0.7519999999999998, 0.3360000000000003, -1.08, -1.104, -0.05600000000000005, -0.08000000000000007, -0.7839999999999998, -0.992, -0.32799999999999985, 0.3120000000000003, -0.21599999999999975, -0.8959999999999999, -0.552, 0.2240000000000002, 0.16800000000000015, 0.3600000000000003, -1.096, 0.04800000000000004, 1.12, 0.6479999999999997, -1.112, -0.3759999999999999, 0.5520000000000005, -0.45599999999999996, 0.984, 0.16000000000000014, -0.6640000000000001, 1.3680000000000003, -0.9039999999999999, -1.3599999999999999, 0.08000000000000007, -0.496, 0.8959999999999999, 1.096, -1.2719999999999998, 0.15200000000000014, -0.7439999999999998, -0.14400000000000013, 0.5120000000000005, 0.4400000000000004, 0.1200000000000001, -0.44799999999999995, 0.944, 0.3360000000000003, 0.968, -0.3039999999999998, -1.1840000000000002, -1.6959999999999997, -0.552, 0.07200000000000006, 0.6559999999999997, -1.024, 0.4240000000000004, -0.7599999999999998, -0.8959999999999999, -1.52, -0.6719999999999997, -0.9039999999999999, -1.496, 1.5120000000000005, 0.40800000000000036, -0.48, -0.04800000000000004, -0.8239999999999998, -0.7039999999999997, -0.8799999999999999, 1.3360000000000003, 0.09600000000000009, -0.9359999999999999, -1.1840000000000002, 0.08800000000000008, -1.3199999999999998, 0.7999999999999998, 0.2240000000000002, 0.16800000000000015, -0.3599999999999999, -0.8959999999999999, 0.17600000000000016, -0.33599999999999985, -0.528, -1.992, 1.2160000000000002, 1.2160000000000002, 1.3600000000000003, 1.7519999999999998, -0.472, -1.6720000000000002, -0.944, -0.528, 0.6879999999999997, 0.0, -0.3679999999999999, -0.7039999999999997, -1.6320000000000001, 1.1360000000000001, 0.7039999999999997, 2.4960000000000004, 1.2640000000000002, -0.8559999999999999, 0.2400000000000002, -0.8639999999999999, 0.3200000000000003, 0.8399999999999999, 0.20800000000000018, -0.2879999999999998, 1.3200000000000003, 1.6000000000000005, 0.5360000000000005, -0.976, -2.152, -1.064, -0.13600000000000012, 0.992, -0.536, -0.10400000000000009, -0.1120000000000001, -0.56, -0.7839999999999998, 0.7999999999999998, -0.2719999999999998, -1.2319999999999998, -0.13600000000000012, 2.032, -1.2559999999999998, -1.1999999999999997, -0.6959999999999997, 0.8399999999999999, 0.1280000000000001, 1.8559999999999999, 0.944, 0.7119999999999997, -1.376, -0.4159999999999999, -0.4079999999999999, 0.6239999999999997, 1.7359999999999998, 0.3440000000000003, -1.6480000000000001, 0.040000000000000036, 0.4400000000000004, 0.6959999999999997, -0.7599999999999998, 0.5520000000000005, -0.496, -0.6959999999999997, 0.3200000000000003, 0.952, 0.15200000000000014, 0.08800000000000008, 0.976, 0.19200000000000017, 0.38400000000000034, 0.7919999999999998, 0.9039999999999999, 1.6799999999999997, 0.3360000000000003, 1.3520000000000003, 0.03200000000000003, -1.464, -0.23999999999999977, -0.15200000000000014, 0.26400000000000023, -0.6959999999999997, 0.0, 0.4640000000000004, -0.944, 0.4560000000000004, 0.4640000000000004, 0.8879999999999999, -2.3120000000000003, -0.8319999999999999, 0.5200000000000005, -0.06400000000000006, 1.3840000000000003, -1.072, 2.056, -0.8639999999999999, -0.3839999999999999, 0.6799999999999997, -1.12, -0.7279999999999998, -0.22399999999999975, -2.048, 0.2320000000000002, -0.8159999999999998, 0.6319999999999997, -0.19999999999999973, 1.1840000000000002, -1.2639999999999998, 0.02400000000000002, -1.4, 0.03200000000000003, -1.576, -0.3599999999999999, 0.9119999999999999, -1.7119999999999997, -0.6799999999999997, -0.5760000000000001, -1.7519999999999998, -0.008000000000000007, -0.8079999999999998, -1.456, -0.5920000000000001, 0.9359999999999999, 0.8799999999999999, -0.08000000000000007, -0.09600000000000009, -1.2559999999999998, 1.6879999999999997, -1.112, -2.48, -0.7359999999999998, 0.5600000000000005, 0.30400000000000027, -0.5680000000000001, 0.6000000000000005, -0.6080000000000001, -1.6, 0.06400000000000006, 1.024, -1.1520000000000001, 2.024, 0.944, 1.8159999999999998, 0.06400000000000006, -0.8079999999999998, -0.008000000000000007, 0.4640000000000004, -0.008000000000000007, 0.3600000000000003, -0.6080000000000001, -0.976, 0.6639999999999997, -1.44, 1.8079999999999998, 0.20800000000000018, -0.6560000000000001, -0.6799999999999997, 0.8639999999999999, -0.8319999999999999, 0.16000000000000014, 0.6639999999999997, -0.008000000000000007, 0.4240000000000004, -0.952, 1.2000000000000002, 1.2640000000000002, -0.3919999999999999, -0.45599999999999996, -0.96, 2.0, 0.14400000000000013, 1.3520000000000003, -0.552, 0.5760000000000005, 0.0, 0.8719999999999999, -0.8079999999999998, -0.03200000000000003, -1.528, -0.05600000000000005, 0.008000000000000007, 0.4560000000000004, 1.04, 0.3520000000000003, -0.5680000000000001, -0.31999999999999984, 0.8079999999999998, -0.6240000000000001, 0.5120000000000005, -1.616, -0.46399999999999997, -0.1200000000000001, 0.7439999999999998, 0.19200000000000017, -0.8239999999999998, 0.008000000000000007, 1.976, 1.096, 0.8719999999999999, 1.024, 2.3200000000000003, 0.4800000000000004, 0.5200000000000005, -1.384, 0.3280000000000003, 0.8879999999999999, 0.6000000000000005, -0.03200000000000003, 0.8319999999999999, 0.7999999999999998, 0.5840000000000005, 1.064, -0.8959999999999999, -1.2159999999999997, -0.8639999999999999, -0.016000000000000014, 0.6399999999999997, 2.4640000000000004, -0.6320000000000001, -1.096, -1.2159999999999997, 0.24800000000000022, -0.7679999999999998, -0.2959999999999998, 0.15200000000000014, 2.152, -0.536, -0.8319999999999999, 0.4400000000000004, 0.16800000000000015, -2.7119999999999997, 1.032, -0.06400000000000006, -0.6160000000000001, -1.3279999999999998, -0.7599999999999998, 1.8159999999999998, -0.528, -0.6320000000000001, -0.7839999999999998, 0.5520000000000005, 0.016000000000000014, -0.6000000000000001, 0.992, 2.16, -0.22399999999999975, 1.2000000000000002, -0.6240000000000001, -0.13600000000000012, -1.6320000000000001, -0.7119999999999997, 1.056, 1.3360000000000003, -0.3919999999999999, 0.5840000000000005, 0.5680000000000005, -0.6000000000000001, 0.5200000000000005, -0.3679999999999999, 0.49600000000000044, -1.448, -0.23199999999999976, 1.3920000000000003, 0.2320000000000002, -0.46399999999999997, 0.3360000000000003, 0.26400000000000023, 0.5040000000000004, -0.984, 1.08, -0.976, -0.8079999999999998, -1.3119999999999998, 0.38400000000000034, -0.3919999999999999, 0.7279999999999998, 1.08, 0.8559999999999999, -0.19999999999999973, 1.032, 1.3280000000000003, -1.3439999999999999, 0.4640000000000004, -1.4, 1.5280000000000005, 0.2320000000000002, 0.7919999999999998, 0.08800000000000008, -1.016, -0.2559999999999998, 1.024, 0.15200000000000014, 0.3280000000000003, 0.7439999999999998, -0.8319999999999999, 0.7119999999999997, -0.7839999999999998, -0.22399999999999975, 1.984, 0.27200000000000024, -2.384, 0.6719999999999997, -0.7759999999999998, -0.1759999999999997, -1.7519999999999998, -1.1280000000000001, 0.96, 0.7679999999999998, 0.40800000000000036, 0.7199999999999998, 0.3600000000000003, -0.6320000000000001, -1.112, 0.3120000000000003, -0.1759999999999997, -1.032, -0.6640000000000001, 0.29600000000000026, -0.496, -0.7999999999999998, -1.448, 1.992, -0.7439999999999998, 0.5040000000000004, 1.4320000000000004, 0.38400000000000034, -0.4079999999999999, 1.6399999999999997, -0.8879999999999999, -1.8239999999999998, -0.7279999999999998, -0.7759999999999998, 1.3200000000000003, -1.048, -0.14400000000000013, 2.872, -0.9199999999999999, -2.528, 1.4480000000000004, -1.1999999999999997, -0.3759999999999999, 2.088, 0.13600000000000012, 0.6479999999999997, 0.008000000000000007, 1.2000000000000002, 0.08000000000000007, 0.28800000000000026, 0.8159999999999998, 0.24800000000000022, -0.04800000000000004, 1.4800000000000004, 0.8479999999999999, 1.08, -1.7519999999999998, -2.0, 0.03200000000000003, 0.30400000000000027, 0.02400000000000002, -2.248, 0.7039999999999997, 0.016000000000000014, 1.5520000000000005, 0.5360000000000005, 0.26400000000000023, 0.2240000000000002, 0.26400000000000023, -0.7039999999999997, -1.432, 0.6239999999999997, -0.6240000000000001, -1.968, -1.072, -0.15200000000000014, 0.2240000000000002, 0.16000000000000014, 1.064, -1.8479999999999999, 0.14400000000000013, 0.6959999999999997, 2.04, -0.02400000000000002, -0.1679999999999997, 0.6879999999999997, -0.040000000000000036, 0.7679999999999998, 2.856, -0.31999999999999984, -0.1280000000000001, 0.6959999999999997, 0.20000000000000018, -0.944, 0.8079999999999998, -1.2719999999999998, -1.984, -1.1360000000000001, -0.42399999999999993, 0.7999999999999998, -0.08800000000000008, -0.3839999999999999, 0.38400000000000034, -0.42399999999999993, 0.8799999999999999, 2.6080000000000005, -2.2720000000000002, 1.7999999999999998, 0.5680000000000005, -0.14400000000000013, 0.8719999999999999, 0.2560000000000002, 0.3280000000000003, 0.5840000000000005, 1.6799999999999997, -0.9359999999999999, -0.504, 0.5280000000000005, 0.08000000000000007, 1.7679999999999998, 0.5360000000000005, 0.5680000000000005, -0.1200000000000001, 0.20800000000000018, -1.416, -0.6719999999999997, -1.1760000000000002, -3.016, 2.6240000000000006, -0.6959999999999997, -0.56, -0.2719999999999998, 0.04800000000000004, -0.03200000000000003, -1.008, 2.088, 1.96, -1.1760000000000002, 0.28000000000000025, 0.040000000000000036, -0.3919999999999999, -0.1679999999999997, -0.6799999999999997, -0.8639999999999999, -1.56, 0.8799999999999999, 0.5040000000000004, 1.6959999999999997, -0.10400000000000009, -2.448, 0.07200000000000006, -0.9119999999999999, 0.016000000000000014, -1.408, -0.8559999999999999, -1.3439999999999999, 0.5440000000000005, 1.2640000000000002, -0.2799999999999998, -0.1679999999999997, -0.040000000000000036, 1.5920000000000005, -0.23199999999999976, 0.24800000000000022, 0.7279999999999998, 0.4320000000000004, 0.28000000000000025, -0.9279999999999999, 0.976, -1.1360000000000001, -0.8319999999999999, 0.6879999999999997, -0.04800000000000004, 0.48800000000000043, -0.33599999999999985, -0.22399999999999975, -1.888, -0.20799999999999974, -0.6160000000000001, 0.4320000000000004, 0.6080000000000005, -1.1360000000000001, -0.52, -0.008000000000000007, 1.2400000000000002, -0.7759999999999998, -0.1200000000000001, 0.17600000000000016, -0.18399999999999972, 2.4880000000000004, -0.7999999999999998, -1.6, -0.5760000000000001, -0.02400000000000002, -0.8399999999999999, 0.5120000000000005, 0.8079999999999998, 0.6399999999999997, -0.19999999999999973, 1.2560000000000002, 0.4320000000000004, -0.44799999999999995, 0.9359999999999999, 0.976, 2.7439999999999998, 0.3680000000000003, -1.432, -0.7199999999999998, 0.3200000000000003, 1.088, -0.1679999999999997, 0.28000000000000025, -0.3679999999999999, -0.040000000000000036, -0.34399999999999986, 1.6000000000000005, 0.6159999999999997, -1.2159999999999997, 0.09600000000000009, -2.2800000000000002, -1.0, -2.456, -1.2719999999999998, -1.08, -0.6000000000000001, -0.552, -0.23199999999999976, 0.5040000000000004, -0.8559999999999999, 0.03200000000000003, 0.040000000000000036, -0.1200000000000001, -0.06400000000000006, 0.02400000000000002, 1.6639999999999997, -2.56, -2.3040000000000003, -0.6959999999999997, 0.2400000000000002, 0.1280000000000001, 0.8639999999999999, 0.20000000000000018, -1.024, 0.1200000000000001, 2.4720000000000004, -0.2799999999999998, -0.15200000000000014, 0.04800000000000004, -1.6640000000000001, -1.3199999999999998, 0.16800000000000015, 0.06400000000000006, 1.0, 1.8479999999999999, -0.1759999999999997, -1.408, 0.5920000000000005, -1.072, 1.8719999999999999, -0.544, -0.18399999999999972, -1.8079999999999998, -1.392, 1.2160000000000002, 0.5920000000000005, -1.376, 1.072, -0.008000000000000007, 2.848, 2.096, -1.2719999999999998, -1.3199999999999998, -2.336, -1.1919999999999997, -0.7919999999999998, -0.544, 1.024, 0.03200000000000003, 0.5200000000000005, 0.3360000000000003, 0.2240000000000002, -0.536, 0.8399999999999999, 0.6639999999999997, -0.7519999999999998, -0.528, 1.2800000000000002, -0.05600000000000005, -0.1759999999999997, -0.7199999999999998, 1.3040000000000003, -0.33599999999999985, -1.096, 1.3280000000000003, 0.9119999999999999, -0.976, -0.5840000000000001, -1.1760000000000002, -0.544, -0.2879999999999998, -1.064, 0.09600000000000009, -0.7999999999999998, -0.3999999999999999, -1.2479999999999998, 1.2320000000000002, -0.1679999999999997, -0.488, 1.064, -0.9279999999999999, -0.31199999999999983, 0.3280000000000003, -0.8959999999999999, -0.34399999999999986, -0.5760000000000001, -0.8239999999999998, -0.7519999999999998, 0.8159999999999998, -0.4159999999999999, -0.10400000000000009, -0.6879999999999997, 0.7759999999999998, 0.27200000000000024, 0.5760000000000005, 1.8079999999999998, -2.096, 0.6239999999999997, 1.6319999999999997, 1.6240000000000006, -0.14400000000000013, 2.208, 0.16000000000000014, -1.016, 2.12, -1.456, -0.96, -0.008000000000000007, -1.6720000000000002, -1.0, 1.936, -1.2639999999999998, 0.06400000000000006, 0.5360000000000005, 0.8079999999999998, 1.064, -0.19999999999999973, 0.7999999999999998, -2.064, -1.056, 0.6479999999999997, -0.19199999999999973, 0.6159999999999997, -2.184, 0.29600000000000026, 0.49600000000000044, -0.6560000000000001, 0.8879999999999999, 0.8319999999999999, 0.6479999999999997, 1.1360000000000001, -1.7439999999999998, -1.592, 0.15200000000000014, 0.06400000000000006, 0.29600000000000026, -1.3439999999999999, -0.2799999999999998, -0.6959999999999997, -0.6320000000000001, -0.1679999999999997, -0.9039999999999999, -0.016000000000000014, -1.1760000000000002, -0.21599999999999975, -2.2640000000000002, -1.576, 2.128, -1.048, -0.5840000000000001, 0.1200000000000001, 0.38400000000000034, -0.6400000000000001, 1.1360000000000001, 1.1600000000000001, 1.072, 0.3440000000000003, 0.952, 1.08, 1.8399999999999999, 0.3120000000000003, -0.46399999999999997, -0.9039999999999999, -0.2719999999999998, -0.1759999999999997, -0.16000000000000014, 1.6000000000000005, 0.984, -2.088, 0.4800000000000004, -0.552, -1.7999999999999998, 0.28800000000000026, 1.3840000000000003, 0.5680000000000005, -1.6800000000000002, 1.5440000000000005, 0.7519999999999998, 0.1200000000000001, -0.488, 0.6080000000000005, 0.7199999999999998, 0.040000000000000036, -0.4159999999999999, -1.96, 0.16000000000000014, 1.5760000000000005, 0.14400000000000013, 0.6479999999999997, 0.0, 1.048, -0.496, 0.38400000000000034, 1.4640000000000004, -0.6480000000000001, 1.1760000000000002, 1.2320000000000002, 1.6559999999999997, -1.112, -2.392, -0.7599999999999998, -1.7919999999999998, -0.08000000000000007, -1.1999999999999997, 0.30400000000000027, -1.12, -0.5920000000000001, 0.49600000000000044, -0.7119999999999997, -0.2799999999999998, -0.22399999999999975, -0.9119999999999999, -0.3759999999999999, -1.3119999999999998, 0.17600000000000016, -0.08800000000000008, 0.1280000000000001, 1.7839999999999998, -0.2799999999999998, -0.2879999999999998, 0.7759999999999998, -0.7199999999999998, -1.7839999999999998, 0.6239999999999997, 0.05600000000000005, -0.21599999999999975, -1.04, -0.1120000000000001, -1.3519999999999999, -0.32799999999999985, 0.8559999999999999, -0.23199999999999976, -0.3839999999999999, 1.1920000000000002, -0.7199999999999998, 0.38400000000000034, -0.496, -0.23999999999999977, -0.7759999999999998, -0.1120000000000001, -0.23999999999999977, -1.392, 0.7999999999999998, -0.9359999999999999, -1.92, -0.07200000000000006, -1.7759999999999998, 0.2240000000000002, 1.4320000000000004, 1.08, -0.03200000000000003, -0.6160000000000001, 0.38400000000000034, 0.18400000000000016, -0.7359999999999998, -0.56, 0.8799999999999999, -0.3919999999999999, 1.1600000000000001, -1.456, -0.7999999999999998, -0.7119999999999997, -1.6, -1.6800000000000002, -1.2559999999999998, 1.1600000000000001, 0.5200000000000005, 2.176, -0.45599999999999996, -1.48, 1.0, -0.7919999999999998, -2.112, 0.7439999999999998, -1.3679999999999999, -0.496, -1.3359999999999999, 0.8879999999999999, -0.040000000000000036, -0.6400000000000001, 0.06400000000000006, -0.6879999999999997, -1.1999999999999997, -0.18399999999999972, 0.5200000000000005, 0.38400000000000034, -1.7839999999999998, -0.8319999999999999, 1.04, -1.7359999999999998, 0.5520000000000005, 1.2400000000000002, 0.4240000000000004, -0.040000000000000036, -0.8719999999999999, -0.7119999999999997, 0.20800000000000018, 1.4720000000000004, 0.4640000000000004, 0.5200000000000005, 0.5760000000000005, 0.4640000000000004, -1.1919999999999997, -0.9039999999999999, -1.2399999999999998, -1.584, 0.5280000000000005, 0.3120000000000003, 0.2320000000000002, -0.3839999999999999, 0.2400000000000002, 0.3200000000000003, -1.1680000000000001, 1.072, -1.7359999999999998, -0.31199999999999983, -0.15200000000000014, -1.4, -0.7839999999999998, -1.2079999999999997, 0.08800000000000008, 0.9199999999999999, 1.072, -0.1280000000000001, -0.992, -0.33599999999999985, -0.4159999999999999, 0.4720000000000004, 0.07200000000000006, 1.008, -1.096, -1.568, 1.0, 1.6559999999999997, -1.032, 2.6639999999999997, -1.1680000000000001, -1.096, 1.5200000000000005, 0.4240000000000004, -1.7279999999999998, -1.944, -0.10400000000000009, 0.984, -0.544, -1.3519999999999999, -0.5760000000000001, 0.8319999999999999, 0.4720000000000004, 0.24800000000000022, -1.072, -1.1999999999999997, -1.6959999999999997, -0.2719999999999998, -0.8079999999999998, 1.3200000000000003, 1.3040000000000003, 0.992, -0.3679999999999999, 1.6319999999999997, 0.1200000000000001, 0.016000000000000014, -0.512, 0.08000000000000007, -1.432, -0.10400000000000009, 0.040000000000000036, -0.7679999999999998, 1.984, 1.4080000000000004, 0.07200000000000006, 0.09600000000000009, 0.7759999999999998, 0.6399999999999997, 1.1840000000000002, 1.032, -0.7359999999999998, 0.7759999999999998, 0.4720000000000004, 0.28800000000000026, -0.536, 1.912, 0.9039999999999999, 1.4320000000000004, 1.5280000000000005, 0.16000000000000014, 0.9039999999999999, 0.3440000000000003, -2.376, -0.8479999999999999, 0.03200000000000003]\n",
            "[9.74, 13.88, 8.42, 3.56, 8.4, 6.88, 8.78, 10.8, 11.78, 8.5, 12.26, 11.08, 10.0, 10.38, 11.72, 13.9, 8.9, 6.54, 8.52, 7.26, 3.5, 10.98, 11.64, 8.38, 10.14, 12.98, 8.84, 4.0200000000000005, 16.92, 11.94, 8.74, 9.34, 18.16, 8.64, 11.18, 12.58, 6.84, 11.120000000000001, 11.0, 9.56, 10.46, 10.72, 9.040000000000001, 5.64, 12.700000000000001, 11.46, 13.200000000000001, 11.44, 8.46, 10.76, 9.78, 9.72, 19.04, 9.56, 9.84, 11.3, 9.56, 11.14, 11.4, 7.2, 15.34, 8.540000000000001, 7.68, 7.16, 11.16, 10.1, 6.3, 9.94, 11.32, 4.22, 8.64, 5.08, 9.5, 10.620000000000001, 8.56, 11.6, 9.78, 12.68, 14.6, 9.540000000000001, 11.48, 11.14, 10.08, 9.84, 8.94, 6.3, 9.9, 13.96, 12.96, 8.4, 10.76, 7.34, 7.24, 11.700000000000001, 12.56, 13.74, 8.68, 12.58, 8.76, 12.72, 17.54, 5.66, 10.74, 8.72, 15.68, 7.62, 13.52, 11.36, 12.48, 12.58, 10.68, 5.62, 2.62, 9.64, 19.14, 13.14, 10.98, 10.56, 13.94, 11.58, 10.66, 4.92, 8.66, 8.6, 12.1, 10.32, 5.5200000000000005, 15.620000000000001, 8.32, 10.64, 8.84, 7.76, 7.96, 12.56, 13.14, 10.44, 9.700000000000001, 6.04, 8.22, 3.52, 5.36, 11.42, 9.66, 7.16, 12.6, 10.72, 12.040000000000001, 8.120000000000001, 10.18, 9.94, 8.4, 7.34, 10.44, 6.16, 10.02, 13.52, 15.06, 9.5, 12.64, 10.98, 8.94, 6.88, 11.36, 9.200000000000001, 8.3, 10.84, 11.040000000000001, 5.94, 10.48, 10.42, 6.08, 12.200000000000001, 10.72, 6.98, 12.88, 12.96, 5.08, 4.12, 10.86, 1.9000000000000001, 8.18, 10.1, 7.66, 10.18, 13.02, 9.36, 14.700000000000001, 9.200000000000001, 7.38, 10.06, 16.36, 14.96, 11.68, 8.68, 13.34, 10.5, 11.3, 12.22, 10.84, 9.14, 8.72, 8.52, 6.94, 9.78, 4.7, 2.9, 4.78, 12.84, 8.38, 15.700000000000001, 10.1, 8.96, 13.1, 8.66, 14.26, 16.12, 7.84, 12.200000000000001, 5.86, 14.16, 9.08, 12.6, 7.0200000000000005, 9.64, 9.84, 11.540000000000001, 11.82, 10.620000000000001, 15.860000000000001, 6.1000000000000005, 11.28, 14.120000000000001, 5.6000000000000005, 9.64, 6.68, 13.76, 10.84, 4.68, 11.32, 17.56, 8.44, 9.94, 7.140000000000001, 9.18, 9.94, 10.700000000000001, 8.6, 10.72, 11.9, 12.34, 9.4, 8.88, 9.5, 12.1, 8.32, 14.24, 14.64, 10.3, 7.92, 8.9, 9.42, 3.5, 5.96, 4.18, 11.200000000000001, 13.24, 13.34, 11.56, 10.42, 6.0, 12.040000000000001, 10.68, 6.62, 11.02, 12.32, 16.44, 8.4, 13.48, 13.66, 7.08, 7.08, 9.8, 10.620000000000001, 12.74, 8.18, 6.16, 10.72, 8.94, 5.96, 9.22, 8.28, 9.94, 13.42, 9.0, 10.86, 5.88, 5.4, 7.38, 11.8, 11.52, 12.540000000000001, 8.040000000000001, 7.82, 8.22, 7.4, 9.9, 14.4, 10.120000000000001, 4.68, 9.5, 9.44, 11.98, 12.06, 7.12, 13.8, 5.26, 13.02, 11.94, 6.5, 7.5, 15.46, 11.3, 9.98, 9.38, 7.08, 12.96, 15.0, 7.84, 10.94, 12.82, 8.44, 11.02, 11.620000000000001, 7.94, 7.12, 8.24, 4.0600000000000005, 7.18, 11.08, 15.34, 11.58, 10.98, 10.74, 4.36, 7.58, 13.82, 9.66, 6.8, 13.280000000000001, 10.32, 11.200000000000001, 16.56, 12.48, 7.26, 10.52, 10.94, 7.12, 10.58, 5.4, 7.54, 11.620000000000001, 12.42, 12.84, 10.84, 9.540000000000001, 11.02, 8.9, 11.44, 7.22, 10.76, 13.22, 14.36, 11.14, 8.72, 9.4, 6.54, 12.34, 7.08, 9.32, 7.140000000000001, 8.26, 13.0, 8.82, 12.98, 6.5200000000000005, 8.64, 6.28, 13.38, 8.44, 9.92, 8.8, 10.8, 12.9, 12.94, 13.4, 13.120000000000001, 7.74, 11.88, 9.1, 11.46, 8.18, 8.44, 6.48, 13.0, 7.94, 9.38, 8.700000000000001, 14.92, 11.3, 13.34, 1.4000000000000001, 7.54, 9.52, 8.22, 15.82, 9.48, 8.64, 7.9, 7.3, 11.36, 13.14, 5.78, 10.36, 6.5600000000000005, 5.96, 12.700000000000001, 11.620000000000001, 15.68, 9.88, 14.24, 8.88, 8.76, 11.52, 9.72, 12.32, 12.1, 4.12, 7.7, 9.92, 14.44, 2.44, 13.36, 11.44, 14.46, 16.82, 10.38, 9.14, 5.66, 15.0, 10.44, 9.74, 7.34, 12.48, 9.14, 7.22, 4.34, 11.02, 10.92, 9.28, 9.44, 7.7, 9.24, 10.18, 9.78, 12.540000000000001, 11.08, 9.28, 11.58, 8.18, 11.36, 12.96, 7.22, 6.4, 6.9, 10.4, 11.28, 12.48, 5.0200000000000005, 15.4, 11.0, 10.28, 12.6, 6.5200000000000005, 14.46, 3.2800000000000002, 10.74, 10.48, 13.5, 9.120000000000001, 8.620000000000001, 3.38, 7.24, 6.32, 12.76, 11.48, 10.58, 7.38, 10.56, 8.34, 8.66, 12.44, 6.0, 13.92, 12.9, 11.72, 10.620000000000001, 7.18, 12.98, 14.6, 8.38, 10.040000000000001, 12.48, 12.32, 9.06, 12.0, 9.700000000000001, 9.040000000000001, 12.22, 11.700000000000001, 0.86, 11.22, 5.0, 6.94, 11.32, 13.44, 13.6, 5.46, 11.66, 10.0, 8.58, 3.02, 9.26, 8.96, 10.88, 8.02, 11.9, 16.96, 8.38, 11.9, 12.040000000000001, 13.96, 13.94, 9.34, 5.36, 13.86, 9.14, 7.5600000000000005, 7.88, 10.64, 10.4, 14.280000000000001, 10.14, 8.52, 7.9, 8.78, 11.540000000000001, 10.18, 8.040000000000001, 10.56, 9.92, 8.08, 10.26, 7.54, 6.34, 5.14, 9.3, 10.64, 9.200000000000001, 7.140000000000001, 7.44, 7.54, 13.42, 4.34, 6.4, 9.38, 10.96, 10.82, 11.66, 9.0, 8.02, 10.14, 10.82, 10.4, 12.44, 8.620000000000001, 9.98, 6.58, 12.02, 9.14, 12.18, 7.28, 7.24, 11.120000000000001, 12.88, 8.38, 11.48, 12.64, 10.120000000000001, 13.14, 9.06, 11.700000000000001, 9.02, 7.42, 8.620000000000001, 8.26, 9.78, 8.48, 14.02, 5.34, 11.46, 5.94, 6.62, 12.9, 8.3, 15.58, 6.0600000000000005, 7.62, 14.8, 6.36, 10.120000000000001, 6.38, 9.72, 10.68, 7.48, 9.72, 6.54, 10.72, 14.16, 9.120000000000001, 9.86, 8.44, 9.82, 12.66, 5.7, 8.48, 14.58, 10.02, 6.640000000000001, 12.06, 6.22, 8.28, 13.46, 11.42, 9.88, 4.6000000000000005, 9.32, 13.200000000000001, 5.7, 9.48, 5.42, 6.1000000000000005, 5.6000000000000005, 11.9, 11.24, 10.700000000000001, 16.2, 12.92, 9.86, 13.26, 9.5, 9.38, 5.4, 9.0, 8.68, 9.94, 3.8000000000000003, 9.3, 10.8, 9.6, 17.1, 10.96, 13.48, 12.88, 15.42, 11.72, 14.780000000000001, 13.620000000000001, 10.78, 9.52, 5.3, 14.200000000000001, 8.64, 11.14, 6.9, 2.42, 9.28, 13.74, 9.96, 11.18, 17.52, 8.42, 12.02, 12.620000000000001, 12.58, 11.24, 10.32, 8.36, 13.98, 12.38, 13.86, 8.86, 11.44, 10.3, 10.92, 5.5600000000000005, 15.280000000000001, 10.32, 9.02, 5.1000000000000005, 10.6, 10.78, 7.3, 7.44, 8.22, 9.26, 7.12, 2.46, 12.700000000000001, 6.3, 12.44, 7.3, 7.28, 16.3, 9.76, 3.92, 10.44, 7.34, 9.46, 6.76, 7.640000000000001, 2.2600000000000002, 7.08, 10.52, 14.3, 3.0, 8.36, 8.620000000000001, 9.88, 14.040000000000001, 10.0, 14.44, 5.54, 12.48, 8.8, 12.16, 11.68, 10.42, 10.8, 7.32, 13.42, 11.26, 6.82, 5.08, 6.6000000000000005, 7.92, 11.120000000000001, 14.1, 9.82, 7.24, 6.58, 15.18, 7.5600000000000005, 9.82, 4.36, 10.58, 14.32, 6.9, 9.58, 10.34, 5.58, 11.540000000000001, 11.26, 5.5600000000000005, 9.6, 9.06, 8.74, 4.5200000000000005, 9.92, 10.72, 10.52, 5.72, 6.86, 10.78, 14.84, 15.82, 4.72, 10.120000000000001, 10.74, 10.68, 15.36, 12.92, 9.74, 10.52, 6.9, 4.3, 10.52, 4.04, 5.22, 11.540000000000001, 8.9, 12.8, 1.3, 10.66, 8.64, 9.8, 11.94, 9.200000000000001, 11.88, 7.7, 6.72, 9.8, 10.46, 15.56, 10.88, 7.0200000000000005, 9.200000000000001, 11.540000000000001, 8.06, 6.5, 13.56, 9.08, 10.6, 10.120000000000001, 9.32, 5.5600000000000005, 8.28, 10.9, 9.96, 9.16, 11.44, 13.72, 12.32, 12.72, 4.6000000000000005, 13.0, 11.46, 14.92, 5.98, 11.18, 11.48, 5.12, 15.58, 9.44, 12.3, 8.84, 12.68, 10.58, 16.34, 10.94, 10.46, 7.5600000000000005, 11.18, 12.5, 8.02, 7.94, 12.56, 8.2, 6.76, 11.58, 13.48, 9.52, 8.2, 9.34, 6.38, 13.280000000000001, 10.14, 9.16, 11.26, 8.9, 9.88, 9.6, 9.82, 6.86, 7.86, 13.0, 13.92, 9.22, 7.38, 9.98, 11.16, 10.46, 11.96, 6.98, 11.08, 12.34, 10.1, 12.52, 4.12, 8.86, 9.200000000000001, 8.08, 12.66, 15.88, 10.02, 6.24, 8.92, 12.98, 14.76, 9.74, 8.36, 14.84, 9.98, 10.74, 11.78, 12.64, 10.82, 13.3, 3.7600000000000002, 16.02, 4.38, 13.120000000000001, 11.06, 10.8, 9.88, 6.16, 11.58, 12.0, 10.24, 7.48, 11.22, 12.72, 5.62, 6.98, 7.2, 5.98, 8.5, 12.4, 9.02, 8.82, 13.02, 11.200000000000001, 8.5, 9.78, 7.7, 6.7, 12.22, 7.1000000000000005, 13.36, 5.04, 10.78, 8.76, 10.42, 7.6000000000000005, 3.48, 9.78, 8.0, 10.78, 10.56, 5.04, 8.64, 13.76, 12.84, 12.94, 7.6000000000000005, 13.48, 15.0, 4.0, 14.280000000000001, 9.28, 7.16, 7.08, 4.5200000000000005, 10.14, 11.72, 7.16, 6.26, 6.44, 10.44, 10.8, 11.76, 12.38, 9.92, 12.5, 12.120000000000001, 12.46, 6.32, 7.54, 14.18, 7.5200000000000005, 14.620000000000001, 9.8, 9.16, 6.9, 13.040000000000001, 14.74, 11.02, 6.32, 9.700000000000001, 15.280000000000001, 6.3, 13.8, 9.200000000000001, 6.18, 8.94, 12.72, 8.56, 8.5, 7.96, 7.48, 12.92]\n",
            "[ -3.016, -2.722] : \n",
            "[ -2.722, -2.427] : #\n",
            "[ -2.427, -2.133] : ##\n",
            "[ -2.133, -1.838] : ##\n",
            "[ -1.838, -1.544] : #####\n",
            "[ -1.544, -1.250] : ########\n",
            "[ -1.250, -0.955] : ###########\n",
            "[ -0.955, -0.661] : #################\n",
            "[ -0.661, -0.366] : ################\n",
            "[ -0.366, -0.072] : ################\n",
            "[ -0.072,  0.222] : ####################\n",
            "[  0.222,  0.517] : #################\n",
            "[  0.517,  0.811] : ###############\n",
            "[  0.811,  1.106] : #############\n",
            "[  1.106,  1.400] : #######\n",
            "[  1.400,  1.694] : ####\n",
            "[  1.694,  1.989] : ###\n",
            "[  1.989,  2.283] : ##\n",
            "[  2.283,  2.578] : \n",
            "[  2.578,  2.872] : #\n",
            "g1 mean = -0.0460959999999999\n",
            "g1 variance = 1.0227577187840005\n",
            "[  0.860,  1.774] : \n",
            "[  1.774,  2.688] : \n",
            "[  2.688,  3.602] : #\n",
            "[  3.602,  4.516] : ##\n",
            "[  4.516,  5.430] : ####\n",
            "[  5.430,  6.344] : #######\n",
            "[  6.344,  7.258] : ###########\n",
            "[  7.258,  8.172] : ##########\n",
            "[  8.172,  9.086] : ##################\n",
            "[  9.086, 10.000] : ####################\n",
            "[ 10.000, 10.914] : ##################\n",
            "[ 10.914, 11.828] : ################\n",
            "[ 11.828, 12.742] : ############\n",
            "[ 12.742, 13.656] : ##########\n",
            "[ 13.656, 14.570] : ######\n",
            "[ 14.570, 15.484] : ####\n",
            "[ 15.484, 16.398] : ##\n",
            "[ 16.398, 17.312] : \n",
            "[ 17.312, 18.226] : \n",
            "[ 18.226, 19.140] : \n",
            "g2 mean = 9.911780000000002\n",
            "g2 variance = 8.671936831599995\n"
          ],
          "name": "stdout"
        }
      ]
    },
    {
      "cell_type": "markdown",
      "metadata": {
        "id": "0X96qgN8_1iD",
        "colab_type": "text"
      },
      "source": [
        "*Exercise 9:* Combine your `generate_function`, `where`, and `in_range` functions above to create an integrate function. Use your integrate function to show that approximately 68% of Normal distribution is within one variance."
      ]
    },
    {
      "cell_type": "code",
      "metadata": {
        "id": "A51dSStW_1iF",
        "colab_type": "code",
        "outputId": "7d1b1f31-1786-4d1c-ae00-0249023581e9",
        "colab": {
          "base_uri": "https://localhost:8080/",
          "height": 153
        }
      },
      "source": [
        "def integrate(func, x_min, x_max, n_points=1000):\n",
        "  # monte carlo integral\n",
        "  # max f(x) over [x_min, x_max] in steps of (1/1000 or 1/n_points) * the difference\n",
        "  f_max = max([func(x) for x in [x_min + n * (x_max - x_min) / max(1000, n_points) for n in range(max(1000, n_points))]])\n",
        "  # generate n_points random x and y values on a grid x = [x_min, x_max] and y = [0, f_max]\n",
        "  x_rand = [x_min + random.random() * (x_max - x_min) for n in range(n_points)]\n",
        "  y_rand = [random.random() * f_max for n in range(n_points)]\n",
        "  # return height * width * (# of points on grid below the function curve)\n",
        "  #                             # of pts where passing x and y as tuples                0 < y < func(x)\n",
        "  return f_max * (x_max - x_min) * len(where(list(zip(x_rand, y_rand)), lambda xy: in_range(0, func(xy[0]))(xy[1]))) / n_points\n",
        "\n",
        "\n",
        "def integrate_properly(func, x_min, x_max, n_points=1000):\n",
        "  # proper integral\n",
        "  i = x_min\n",
        "  integral = 0\n",
        "  dx = (x_max - x_min) / n_points\n",
        "  while i < x_max:\n",
        "    integral += func(i) * dx\n",
        "    i += dx\n",
        "  return integral\n",
        "\n",
        "mc_integral = integrate(lambda x: -((x - 10) ** 2) + 100, 0, 20, 10000)\n",
        "proper_integral = integrate_properly(lambda x: -((x - 10) ** 2) + 100, 0, 20, 10000)\n",
        "print(\"Integral from {:d} to \".format(x_min) + \"{:d} of -((x - 10) ^ 2) + 100:\".format(x_max))\n",
        "print(\"    data: {:4.3f}\".format(mc_integral))\n",
        "print(\"  theory: {:4.3f}\".format(proper_integral))\n",
        "print(\" % error: {:3.1f}%\".format(100*abs(mc_integral-proper_integral)/proper_integral))\n",
        "data_norm_integral = integrate(g2, 7, 13, 10000)/integrate(g2, 0, 20, 10000)\n",
        "proper_norm_integral = integrate_properly(g2, 7, 13, 10000)/integrate_properly(g2, 0, 20, 10000)\n",
        "print(\"Percent of Normal distribution within one variance:\")\n",
        "print(\"    data: {:3.1f}%\".format(100*data_norm_integral))\n",
        "print(\"  theory: {:3.1f}%\".format(100*proper_norm_integral))\n",
        "print(\" % error: {:3.1f}%\".format(100*abs(data_norm_integral-proper_norm_integral)/proper_norm_integral))"
      ],
      "execution_count": 36,
      "outputs": [
        {
          "output_type": "stream",
          "text": [
            "Integral from 0 to 10 of -((x - 10) ^ 2) + 100:\n",
            "    data: 1324.600\n",
            "  theory: 1333.333\n",
            " % error: 0.7%\n",
            "Percent of Normal distribution within one variance:\n",
            "    data: 68.2%\n",
            "  theory: 68.3%\n",
            " % error: 0.1%\n"
          ],
          "name": "stdout"
        }
      ]
    },
    {
      "cell_type": "code",
      "metadata": {
        "id": "d87Vi_Zj_1iL",
        "colab_type": "code",
        "colab": {}
      },
      "source": [
        ""
      ],
      "execution_count": 0,
      "outputs": []
    }
  ]
}