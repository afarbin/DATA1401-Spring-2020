{
  "nbformat": 4,
  "nbformat_minor": 0,
  "metadata": {
    "kernelspec": {
      "display_name": "Python 3",
      "language": "python",
      "name": "python3"
    },
    "language_info": {
      "codemirror_mode": {
        "name": "ipython",
        "version": 3
      },
      "file_extension": ".py",
      "mimetype": "text/x-python",
      "name": "python",
      "nbconvert_exporter": "python",
      "pygments_lexer": "ipython3",
      "version": "3.8.0"
    },
    "colab": {
      "name": "Copy of Lab-4.ipynb",
      "provenance": [],
      "machine_shape": "hm"
    }
  },
  "cells": [
    {
      "cell_type": "markdown",
      "metadata": {
        "id": "NRp9_yqqrAbJ",
        "colab_type": "text"
      },
      "source": [
        "## Lab 4\n",
        "\n",
        "[![Open In Colab](https://colab.research.google.com/assets/colab-badge.svg)](https://colab.research.google.com/github//afarbin/DATA1401-Spring-2020/blob/master/Labs/Lab-4/Lab-4.ipynb)\n",
        "\n",
        "In this lab we will become familiar with distributions, histograms, and functional programming. \n",
        "\n",
        "\n",
        "### Uniform Distribution\n",
        "Lets start with generating some fake random data. You can get a random number between 0 and 1 using the python random module as follow:"
      ]
    },
    {
      "cell_type": "code",
      "metadata": {
        "id": "6_I6IDUGrAbM",
        "colab_type": "code",
        "outputId": "2208455f-4ec4-4571-e5cd-78a9590b6e75",
        "colab": {
          "base_uri": "https://localhost:8080/",
          "height": 34
        }
      },
      "source": [
        "import random\n",
        "x=random.random()\n",
        "print(\"The Value of x is\", x)"
      ],
      "execution_count": 3,
      "outputs": [
        {
          "output_type": "stream",
          "text": [
            "The Value of x is 0.11216294497338641\n"
          ],
          "name": "stdout"
        }
      ]
    },
    {
      "cell_type": "markdown",
      "metadata": {
        "id": "qod3nmiwrAbT",
        "colab_type": "text"
      },
      "source": [
        "Everytime you call random, you will get a new number.\n",
        "\n",
        "*Exercise 1:* Using random, write a function `generate_uniform(N, mymin, mymax)`, that returns a python list containing N random numbers between specified minimum and maximum value. Note that you may want to quickly work out on paper how to turn numbers between 0 and 1 to between other values. "
      ]
    },
    {
      "cell_type": "code",
      "metadata": {
        "id": "H3BQWqJsrAbU",
        "colab_type": "code",
        "colab": {}
      },
      "source": [
        "# Skeleton\n",
        "def generate_uniform(N,x_min,x_max):\n",
        "    out = []\n",
        "    ### BEGIN SOLUTION\n",
        "\n",
        "    # Fill in your solution here        \n",
        "    for i in range(N):\n",
        "      out.append(x_min+(x_max-x_min)*random.random())\n",
        "    ### END SOLUTION\n",
        "    return out"
      ],
      "execution_count": 0,
      "outputs": []
    },
    {
      "cell_type": "code",
      "metadata": {
        "id": "EXSgMnszrAbX",
        "colab_type": "code",
        "outputId": "2bbbba01-7595-4afe-c5b0-b61e1aeb8502",
        "colab": {
          "base_uri": "https://localhost:8080/",
          "height": 101
        }
      },
      "source": [
        "# Test your solution here\n",
        "data=generate_uniform(1000,-10,10)\n",
        "print (\"Data Type:\", type(data))\n",
        "print (\"Data Length:\", len(data))\n",
        "if len(data)>0: \n",
        "    print (\"Type of Data Contents:\", type(data[0]))\n",
        "    print (\"Data Minimum:\", min(data))\n",
        "    print (\"Data Maximum:\", max(data))"
      ],
      "execution_count": 5,
      "outputs": [
        {
          "output_type": "stream",
          "text": [
            "Data Type: <class 'list'>\n",
            "Data Length: 1000\n",
            "Type of Data Contents: <class 'float'>\n",
            "Data Minimum: -9.996239947115985\n",
            "Data Maximum: 9.953934501339386\n"
          ],
          "name": "stdout"
        }
      ]
    },
    {
      "cell_type": "markdown",
      "metadata": {
        "id": "BvnbLZJRrAbb",
        "colab_type": "text"
      },
      "source": [
        "*Exercise 2a:* \n",
        "Write a function that computes the mean of values in a list."
      ]
    },
    {
      "cell_type": "code",
      "metadata": {
        "id": "zMr6HuAnrAbc",
        "colab_type": "code",
        "colab": {}
      },
      "source": [
        "# Skeleton\n",
        "def mean(Data):\n",
        "    m=0.\n",
        "    \n",
        "    ### BEGIN SOLUTION\n",
        "\n",
        "    # Fill in your solution here        \n",
        "    m=sum(Data)/len(Data)\n",
        "    ### END SOLUTION\n",
        "    \n",
        "    return m"
      ],
      "execution_count": 0,
      "outputs": []
    },
    {
      "cell_type": "code",
      "metadata": {
        "id": "6_KBumNyrAbf",
        "colab_type": "code",
        "outputId": "03a50291-ab72-4c90-8c83-502537191372",
        "colab": {
          "base_uri": "https://localhost:8080/",
          "height": 34
        }
      },
      "source": [
        "# Test your solution here\n",
        "print (\"Mean of Data:\", mean(data))"
      ],
      "execution_count": 7,
      "outputs": [
        {
          "output_type": "stream",
          "text": [
            "Mean of Data: -0.17088827715215185\n"
          ],
          "name": "stdout"
        }
      ]
    },
    {
      "cell_type": "markdown",
      "metadata": {
        "id": "IVwtA9wIrAbj",
        "colab_type": "text"
      },
      "source": [
        "*Exercise 2b:* \n",
        "Write a function that computes the variance of values in a list."
      ]
    },
    {
      "cell_type": "code",
      "metadata": {
        "id": "vfT7wKjCrAbl",
        "colab_type": "code",
        "colab": {}
      },
      "source": [
        "# Skeleton\n",
        "def variance(Data):\n",
        "    m=0\n",
        "    \n",
        "    ### BEGIN SOLUTION\n",
        "\n",
        "    # Fill in your solution here \n",
        "    var=0       \n",
        "    for i in range(len(Data)):\n",
        "      var+= (mean(data)-Data[i])**2\n",
        "    m=var/(len(Data)-1)\n",
        "    ### END SOLUTION\n",
        "    \n",
        "    return m"
      ],
      "execution_count": 0,
      "outputs": []
    },
    {
      "cell_type": "code",
      "metadata": {
        "id": "Rp_-3rWTrAbp",
        "colab_type": "code",
        "outputId": "a383fe59-bccf-4dd7-fe9b-a0db1b67cbef",
        "colab": {
          "base_uri": "https://localhost:8080/",
          "height": 34
        }
      },
      "source": [
        "# Test your solution here\n",
        "print (\"Variance of Data:\", variance(data))"
      ],
      "execution_count": 9,
      "outputs": [
        {
          "output_type": "stream",
          "text": [
            "Variance of Data: 33.48842533253748\n"
          ],
          "name": "stdout"
        }
      ]
    },
    {
      "cell_type": "markdown",
      "metadata": {
        "id": "WF3jqM6MrAbr",
        "colab_type": "text"
      },
      "source": [
        "## Histogramming"
      ]
    },
    {
      "cell_type": "markdown",
      "metadata": {
        "id": "iNk2AwvMrAbs",
        "colab_type": "text"
      },
      "source": [
        "*Exercise 3:* Write a function that bins the data so that you can create a histogram. An example of how to implement histogramming is the following logic:\n",
        "\n",
        "* User inputs a list of values `x` and optionally `n_bins` which defaults to 10.\n",
        "* If not supplied, find the minimum and maximum (`x_min`,`x_max`) of the values in x.\n",
        "* Determine the bin size (`bin_size`) by dividing the range of the function by the number of bins.\n",
        "* Create an empty list of zeros of size `n_bins`, call it `hist`.\n",
        "* Loop over the values in `x`\n",
        "    * Loop over the values in `hist` with index `i`:\n",
        "        * If x is between `x_min+i*bin_size` and `x_min+(i+1)*bin_size`, increment `hist[i].` \n",
        "        * For efficiency, try to use continue to goto the next bin and data point.\n",
        "* Return `hist` and the list corresponding of the bin edges (i.e. of `x_min+i*bin_size`).    "
      ]
    },
    {
      "cell_type": "code",
      "metadata": {
        "id": "z4RwK-BRrAbs",
        "colab_type": "code",
        "colab": {}
      },
      "source": [
        "# Solution\n",
        "def histogram(x,n_bins=10,x_min=None,x_max=None):\n",
        "    ### BEGIN SOLUTION\n",
        "  #x = [1,1,1,5,5,5,9,9,9,9] \n",
        "  #n = int(input(\"Enter number of elements : \"))  \n",
        "  #for i in range(0, n): \n",
        "    #xi = int(input())\n",
        "    #x.append(xi)\n",
        "  x_max=x[0]\n",
        "  x_min=x[0]\n",
        "  for i in x:\n",
        "    if x_max<i:\n",
        "      x_max=i\n",
        "    if x_min>i:  \n",
        "      x_min=i\n",
        "    #x_max=xmax\n",
        "    #x_min=xmin\n",
        "  bin_size=(x_max-x_min)/n_bins\n",
        "  hist=[0]*n_bins\n",
        "  bin_edge=[]\n",
        "  for i in range(len(hist)):\n",
        "    bin_edge.append(x_min+(i*bin_size))\n",
        "  for j in x:\n",
        "    for i in range(len(hist)):\n",
        "      if (j>=(x_min+i*bin_size)) and (j<=(x_min+(i+1)*bin_size)):\n",
        "        hist[i]+=1\n",
        "  bin_edge.append(x_max)\n",
        "    ### END SOLUTION\n",
        "  return hist,bin_edge"
      ],
      "execution_count": 0,
      "outputs": []
    },
    {
      "cell_type": "code",
      "metadata": {
        "id": "6-ZuoIJGrAbw",
        "colab_type": "code",
        "outputId": "07802c39-a4a0-458b-dd85-80832435f686",
        "colab": {
          "base_uri": "https://localhost:8080/",
          "height": 34
        }
      },
      "source": [
        "# Test your solution here\n",
        "h,b=histogram(data,5)\n",
        "print(h,b)"
      ],
      "execution_count": 65,
      "outputs": [
        {
          "output_type": "stream",
          "text": [
            "[199, 222, 190, 198, 217] [-9.996239947115985, -6.006205057424911, -2.0161701677338364, 1.9738647219572378, 5.963899611648312, 9.953934501339386]\n"
          ],
          "name": "stdout"
        }
      ]
    },
    {
      "cell_type": "markdown",
      "metadata": {
        "id": "TNYjhQY4rAb1",
        "colab_type": "text"
      },
      "source": [
        "*Exercise 4:* Write a function that uses the histogram function in the previous exercise to create a text-based \"graph\". For example the output could look like the following:\n",
        "```\n",
        "[  0,  1] : ######\n",
        "[  1,  2] : #####\n",
        "[  2,  3] : ######\n",
        "[  3,  4] : ####\n",
        "[  4,  5] : ####\n",
        "[  5,  6] : ######\n",
        "[  6,  7] : #####\n",
        "[  7,  8] : ######\n",
        "[  8,  9] : ####\n",
        "[  9, 10] : #####\n",
        "```\n",
        "\n",
        "Where each line corresponds to a bin and the number of `#`'s are proportional to the value of the data in the bin. "
      ]
    },
    {
      "cell_type": "code",
      "metadata": {
        "id": "JDMu_IZ4rAb4",
        "colab_type": "code",
        "colab": {}
      },
      "source": [
        "# Solution\n",
        "def draw_histogram(x,n_bins,x_min=None,x_max=None,character=\"#\",max_character_per_line=20):\n",
        "    ### BEGIN SOLUTION\n",
        "\n",
        "    # Fill in your solution here        \n",
        "    h,b=histogram(data,n_bins)\n",
        "    for i in range(len(h)):\n",
        "      print(\"[\",b[i],\",\",b[i+1],\"]:\",character*h[i])\n",
        "    ### END SOLUTION\n",
        "\n",
        "    #return hist,bin_edges"
      ],
      "execution_count": 0,
      "outputs": []
    },
    {
      "cell_type": "code",
      "metadata": {
        "id": "gG1tOSx7rAb7",
        "colab_type": "code",
        "colab": {
          "base_uri": "https://localhost:8080/",
          "height": 353
        },
        "outputId": "5985aecd-1a84-4005-9571-c4c7cd67d2aa"
      },
      "source": [
        "# Test your solution here\n",
        "draw_histogram(data,20)"
      ],
      "execution_count": 103,
      "outputs": [
        {
          "output_type": "stream",
          "text": [
            "[ -9.996239947115985 , -8.998731224693216 ]: ############################################################\n",
            "[ -8.998731224693216 , -8.001222502270448 ]: #############################################\n",
            "[ -8.001222502270448 , -7.003713779847679 ]: ################################################\n",
            "[ -7.003713779847679 , -6.006205057424911 ]: ##############################################\n",
            "[ -6.006205057424911 , -5.008696335002142 ]: ###############################################\n",
            "[ -5.008696335002142 , -4.0111876125793735 ]: ###################################################################\n",
            "[ -4.0111876125793735 , -3.013678890156605 ]: ######################################################\n",
            "[ -3.013678890156605 , -2.0161701677338364 ]: ######################################################\n",
            "[ -2.0161701677338364 , -1.0186614453110678 ]: #######################################################\n",
            "[ -1.0186614453110678 , -0.02115272288829928 ]: #####################################################\n",
            "[ -0.02115272288829928 , 0.9763559995344693 ]: ######################################\n",
            "[ 0.9763559995344693 , 1.9738647219572378 ]: ############################################\n",
            "[ 1.9738647219572378 , 2.9713734443800064 ]: ###########################################\n",
            "[ 2.9713734443800064 , 3.968882166802775 ]: #######################################################\n",
            "[ 3.968882166802775 , 4.9663908892255435 ]: ######################################################\n",
            "[ 4.9663908892255435 , 5.963899611648312 ]: ##############################################\n",
            "[ 5.963899611648312 , 6.961408334071081 ]: ##########################################################\n",
            "[ 6.961408334071081 , 7.958917056493849 ]: ################################################################\n",
            "[ 7.958917056493849 , 8.956425778916618 ]: ###################################################\n",
            "[ 8.956425778916618 , 9.953934501339386 ]: ############################################\n"
          ],
          "name": "stdout"
        }
      ]
    },
    {
      "cell_type": "markdown",
      "metadata": {
        "id": "kVchoCfErAb9",
        "colab_type": "text"
      },
      "source": [
        "## Functional Programming\n",
        "\n",
        "*Exercise 5:* Write a function the applies a booling function (that returns true/false) to every element in data, and return a list of indices of elements where the result was true. Use this function to find the indices of entries greater than 0.5. "
      ]
    },
    {
      "cell_type": "code",
      "metadata": {
        "id": "iNyhcNTGrAb-",
        "colab_type": "code",
        "colab": {}
      },
      "source": [
        "def where(mylist):\n",
        "    out= []\n",
        "    \n",
        "    ### BEGIN SOLUTION\n",
        "    def myfunc(x):\n",
        "      if (x>0.5):\n",
        "        return 'true'\n",
        "      else:\n",
        "        return 'false'\n",
        "    for i in range(len(mylist)):\n",
        "      result=myfunc(mylist[i])\n",
        "      if result=='true':\n",
        "        out.append(i)\n",
        "    # Fill in your solution here        \n",
        "    \n",
        "    ### END SOLUTION\n",
        "    \n",
        "    return out"
      ],
      "execution_count": 0,
      "outputs": []
    },
    {
      "cell_type": "code",
      "metadata": {
        "id": "xqOBrDc7rAcB",
        "colab_type": "code",
        "colab": {
          "base_uri": "https://localhost:8080/",
          "height": 1000
        },
        "outputId": "a2b61c58-2d5a-458a-e5cf-2ebf313047a9"
      },
      "source": [
        "# Test your solution here\n",
        "where(data)"
      ],
      "execution_count": 111,
      "outputs": [
        {
          "output_type": "execute_result",
          "data": {
            "text/plain": [
              "[1,\n",
              " 3,\n",
              " 5,\n",
              " 7,\n",
              " 9,\n",
              " 16,\n",
              " 18,\n",
              " 20,\n",
              " 26,\n",
              " 27,\n",
              " 28,\n",
              " 29,\n",
              " 31,\n",
              " 34,\n",
              " 35,\n",
              " 37,\n",
              " 39,\n",
              " 41,\n",
              " 42,\n",
              " 43,\n",
              " 44,\n",
              " 49,\n",
              " 50,\n",
              " 52,\n",
              " 53,\n",
              " 55,\n",
              " 56,\n",
              " 59,\n",
              " 60,\n",
              " 62,\n",
              " 64,\n",
              " 65,\n",
              " 66,\n",
              " 67,\n",
              " 68,\n",
              " 69,\n",
              " 74,\n",
              " 75,\n",
              " 79,\n",
              " 81,\n",
              " 86,\n",
              " 88,\n",
              " 91,\n",
              " 92,\n",
              " 93,\n",
              " 95,\n",
              " 98,\n",
              " 99,\n",
              " 100,\n",
              " 103,\n",
              " 106,\n",
              " 107,\n",
              " 109,\n",
              " 114,\n",
              " 120,\n",
              " 122,\n",
              " 123,\n",
              " 125,\n",
              " 126,\n",
              " 127,\n",
              " 130,\n",
              " 133,\n",
              " 134,\n",
              " 138,\n",
              " 141,\n",
              " 142,\n",
              " 146,\n",
              " 147,\n",
              " 148,\n",
              " 150,\n",
              " 152,\n",
              " 156,\n",
              " 157,\n",
              " 160,\n",
              " 162,\n",
              " 165,\n",
              " 168,\n",
              " 170,\n",
              " 172,\n",
              " 173,\n",
              " 174,\n",
              " 177,\n",
              " 178,\n",
              " 179,\n",
              " 180,\n",
              " 181,\n",
              " 182,\n",
              " 186,\n",
              " 187,\n",
              " 191,\n",
              " 193,\n",
              " 198,\n",
              " 202,\n",
              " 206,\n",
              " 207,\n",
              " 209,\n",
              " 211,\n",
              " 213,\n",
              " 217,\n",
              " 218,\n",
              " 220,\n",
              " 222,\n",
              " 224,\n",
              " 225,\n",
              " 227,\n",
              " 228,\n",
              " 229,\n",
              " 232,\n",
              " 233,\n",
              " 234,\n",
              " 238,\n",
              " 240,\n",
              " 241,\n",
              " 242,\n",
              " 244,\n",
              " 245,\n",
              " 246,\n",
              " 248,\n",
              " 249,\n",
              " 251,\n",
              " 252,\n",
              " 256,\n",
              " 258,\n",
              " 259,\n",
              " 263,\n",
              " 267,\n",
              " 269,\n",
              " 270,\n",
              " 272,\n",
              " 273,\n",
              " 277,\n",
              " 278,\n",
              " 279,\n",
              " 282,\n",
              " 284,\n",
              " 286,\n",
              " 289,\n",
              " 290,\n",
              " 291,\n",
              " 297,\n",
              " 299,\n",
              " 302,\n",
              " 307,\n",
              " 311,\n",
              " 312,\n",
              " 314,\n",
              " 315,\n",
              " 319,\n",
              " 321,\n",
              " 326,\n",
              " 327,\n",
              " 328,\n",
              " 331,\n",
              " 332,\n",
              " 334,\n",
              " 335,\n",
              " 336,\n",
              " 339,\n",
              " 340,\n",
              " 341,\n",
              " 342,\n",
              " 344,\n",
              " 345,\n",
              " 348,\n",
              " 349,\n",
              " 353,\n",
              " 355,\n",
              " 356,\n",
              " 357,\n",
              " 362,\n",
              " 365,\n",
              " 366,\n",
              " 367,\n",
              " 369,\n",
              " 370,\n",
              " 371,\n",
              " 372,\n",
              " 377,\n",
              " 380,\n",
              " 382,\n",
              " 386,\n",
              " 387,\n",
              " 390,\n",
              " 391,\n",
              " 392,\n",
              " 394,\n",
              " 397,\n",
              " 401,\n",
              " 403,\n",
              " 406,\n",
              " 407,\n",
              " 408,\n",
              " 409,\n",
              " 417,\n",
              " 418,\n",
              " 419,\n",
              " 421,\n",
              " 422,\n",
              " 423,\n",
              " 426,\n",
              " 427,\n",
              " 430,\n",
              " 433,\n",
              " 434,\n",
              " 435,\n",
              " 437,\n",
              " 438,\n",
              " 440,\n",
              " 445,\n",
              " 448,\n",
              " 452,\n",
              " 455,\n",
              " 456,\n",
              " 462,\n",
              " 463,\n",
              " 466,\n",
              " 468,\n",
              " 470,\n",
              " 472,\n",
              " 474,\n",
              " 475,\n",
              " 476,\n",
              " 477,\n",
              " 481,\n",
              " 483,\n",
              " 485,\n",
              " 486,\n",
              " 487,\n",
              " 488,\n",
              " 490,\n",
              " 491,\n",
              " 492,\n",
              " 495,\n",
              " 496,\n",
              " 497,\n",
              " 501,\n",
              " 504,\n",
              " 507,\n",
              " 508,\n",
              " 509,\n",
              " 512,\n",
              " 514,\n",
              " 517,\n",
              " 518,\n",
              " 520,\n",
              " 521,\n",
              " 526,\n",
              " 530,\n",
              " 531,\n",
              " 534,\n",
              " 538,\n",
              " 540,\n",
              " 543,\n",
              " 546,\n",
              " 549,\n",
              " 551,\n",
              " 553,\n",
              " 556,\n",
              " 557,\n",
              " 559,\n",
              " 561,\n",
              " 563,\n",
              " 564,\n",
              " 566,\n",
              " 567,\n",
              " 573,\n",
              " 578,\n",
              " 579,\n",
              " 580,\n",
              " 581,\n",
              " 582,\n",
              " 584,\n",
              " 585,\n",
              " 586,\n",
              " 587,\n",
              " 591,\n",
              " 592,\n",
              " 595,\n",
              " 596,\n",
              " 597,\n",
              " 599,\n",
              " 600,\n",
              " 602,\n",
              " 603,\n",
              " 606,\n",
              " 607,\n",
              " 611,\n",
              " 613,\n",
              " 614,\n",
              " 616,\n",
              " 617,\n",
              " 619,\n",
              " 620,\n",
              " 622,\n",
              " 624,\n",
              " 625,\n",
              " 626,\n",
              " 629,\n",
              " 631,\n",
              " 632,\n",
              " 634,\n",
              " 637,\n",
              " 639,\n",
              " 640,\n",
              " 642,\n",
              " 644,\n",
              " 646,\n",
              " 649,\n",
              " 650,\n",
              " 651,\n",
              " 652,\n",
              " 654,\n",
              " 655,\n",
              " 656,\n",
              " 657,\n",
              " 659,\n",
              " 660,\n",
              " 662,\n",
              " 664,\n",
              " 667,\n",
              " 669,\n",
              " 675,\n",
              " 686,\n",
              " 688,\n",
              " 691,\n",
              " 692,\n",
              " 696,\n",
              " 699,\n",
              " 702,\n",
              " 711,\n",
              " 712,\n",
              " 714,\n",
              " 715,\n",
              " 717,\n",
              " 718,\n",
              " 722,\n",
              " 723,\n",
              " 724,\n",
              " 727,\n",
              " 729,\n",
              " 732,\n",
              " 736,\n",
              " 739,\n",
              " 747,\n",
              " 751,\n",
              " 756,\n",
              " 761,\n",
              " 762,\n",
              " 768,\n",
              " 769,\n",
              " 770,\n",
              " 771,\n",
              " 772,\n",
              " 778,\n",
              " 782,\n",
              " 786,\n",
              " 787,\n",
              " 790,\n",
              " 792,\n",
              " 796,\n",
              " 799,\n",
              " 801,\n",
              " 804,\n",
              " 806,\n",
              " 808,\n",
              " 811,\n",
              " 813,\n",
              " 814,\n",
              " 818,\n",
              " 819,\n",
              " 821,\n",
              " 825,\n",
              " 826,\n",
              " 832,\n",
              " 833,\n",
              " 835,\n",
              " 836,\n",
              " 837,\n",
              " 838,\n",
              " 840,\n",
              " 844,\n",
              " 845,\n",
              " 847,\n",
              " 848,\n",
              " 852,\n",
              " 853,\n",
              " 855,\n",
              " 857,\n",
              " 858,\n",
              " 861,\n",
              " 865,\n",
              " 866,\n",
              " 869,\n",
              " 871,\n",
              " 873,\n",
              " 877,\n",
              " 879,\n",
              " 882,\n",
              " 884,\n",
              " 886,\n",
              " 889,\n",
              " 890,\n",
              " 891,\n",
              " 897,\n",
              " 898,\n",
              " 903,\n",
              " 905,\n",
              " 908,\n",
              " 912,\n",
              " 913,\n",
              " 914,\n",
              " 915,\n",
              " 916,\n",
              " 918,\n",
              " 920,\n",
              " 922,\n",
              " 924,\n",
              " 931,\n",
              " 933,\n",
              " 938,\n",
              " 939,\n",
              " 940,\n",
              " 941,\n",
              " 943,\n",
              " 944,\n",
              " 951,\n",
              " 953,\n",
              " 955,\n",
              " 956,\n",
              " 957,\n",
              " 958,\n",
              " 959,\n",
              " 962,\n",
              " 963,\n",
              " 966,\n",
              " 968,\n",
              " 969,\n",
              " 970,\n",
              " 971,\n",
              " 973,\n",
              " 974,\n",
              " 984,\n",
              " 987,\n",
              " 988,\n",
              " 990,\n",
              " 992,\n",
              " 993,\n",
              " 994,\n",
              " 995,\n",
              " 996,\n",
              " 1000,\n",
              " 1001,\n",
              " 1002,\n",
              " 1003,\n",
              " 1004,\n",
              " 1005,\n",
              " 1006,\n",
              " 1007,\n",
              " 1008,\n",
              " 1009,\n",
              " 1010,\n",
              " 1011,\n",
              " 1012,\n",
              " 1013,\n",
              " 1014,\n",
              " 1015,\n",
              " 1016,\n",
              " 1017,\n",
              " 1018,\n",
              " 1019,\n",
              " 1020,\n",
              " 1021,\n",
              " 1022,\n",
              " 1023,\n",
              " 1024,\n",
              " 1025]"
            ]
          },
          "metadata": {
            "tags": []
          },
          "execution_count": 111
        }
      ]
    },
    {
      "cell_type": "markdown",
      "metadata": {
        "id": "95fjDN_XrAcF",
        "colab_type": "text"
      },
      "source": [
        "*Exercise 6:* The inrange(mymin,mymax) function below returns a function that tests if it's input is between the specified values. Write corresponding functions that test:\n",
        "* Even\n",
        "* Odd\n",
        "* Greater than\n",
        "* Less than\n",
        "* Equal\n",
        "* Divisible by"
      ]
    },
    {
      "cell_type": "code",
      "metadata": {
        "id": "qK4IB3WSrAcG",
        "colab_type": "code",
        "colab": {}
      },
      "source": [
        "def in_range(mymin,mymax):\n",
        "    def testrange(x):\n",
        "        return x<mymax and x>=mymin\n",
        "    return testrange\n",
        "\n",
        "# Examples:\n",
        "F1=inrange(0,10)\n",
        "F2=inrange(10,20)\n",
        "\n",
        "# Test of in_range\n",
        "print (F1(0), F1(1), F1(10), F1(15), F1(20))\n",
        "print (F2(0), F2(1), F2(10), F2(15), F2(20))\n",
        "\n",
        "print (\"Number of Entries passing F1:\", len(where(data,F1)))\n",
        "print (\"Number of Entries passing F2:\", len(where(data,F2)))"
      ],
      "execution_count": 0,
      "outputs": []
    },
    {
      "cell_type": "code",
      "metadata": {
        "id": "QK4TJskSrAcJ",
        "colab_type": "code",
        "colab": {}
      },
      "source": [
        "### BEGIN SOLUTION\n",
        "\n",
        "    # Fill in your solution here        \n",
        "    \n",
        "### END SOLUTION"
      ],
      "execution_count": 0,
      "outputs": []
    },
    {
      "cell_type": "code",
      "metadata": {
        "id": "geL0bgDYrAcL",
        "colab_type": "code",
        "colab": {}
      },
      "source": [
        "# Test your solution"
      ],
      "execution_count": 0,
      "outputs": []
    },
    {
      "cell_type": "markdown",
      "metadata": {
        "id": "YaI-KVKfrAcN",
        "colab_type": "text"
      },
      "source": [
        "*Exercise 7:* Repeat the previous exercise using `lambda` and the built-in python functions sum and map instead of your solution above. "
      ]
    },
    {
      "cell_type": "code",
      "metadata": {
        "id": "9_InCpGzrAcN",
        "colab_type": "code",
        "colab": {}
      },
      "source": [
        "### BEGIN SOLUTION\n",
        "\n",
        "    # Fill in your solution here        \n",
        "    \n",
        "### END SOLUTION"
      ],
      "execution_count": 0,
      "outputs": []
    },
    {
      "cell_type": "markdown",
      "metadata": {
        "id": "IulmepeKrAcQ",
        "colab_type": "text"
      },
      "source": [
        "## Monte Carlo\n",
        "\n",
        "*Exercise 7:* Write a \"generator\" function called `generate_function(func,x_min,x_max,N)`, that instead of generating a flat distribution, generates a distribution with functional form coded in `func`. Note that `func` will always be > 0.  \n",
        "\n",
        "Use the test function below and your histogramming functions above to demonstrate that your generator is working properly.\n",
        "\n",
        "Hint: A simple, but slow, solution is to a draw random number test_x within the specified range and another number p between the min and max of the function (which you will have to determine). If p<=function(test_x), then place test_x on the output. If not, repeat the process, drawing two new numbers. Repeat until you have the specified number of generated numbers, N. For this problem, it's OK to determine the min and max by numerically sampling the function.  "
      ]
    },
    {
      "cell_type": "code",
      "metadata": {
        "id": "M2OvPsA4rAcR",
        "colab_type": "code",
        "colab": {}
      },
      "source": [
        "def generate_function(func,x_min,x_max,N=1000):\n",
        "    out = list()\n",
        "    ### BEGIN SOLUTION\n",
        "\n",
        "    # Fill in your solution here        \n",
        "    \n",
        "    ### END SOLUTION\n",
        "    \n",
        "    return out"
      ],
      "execution_count": 0,
      "outputs": []
    },
    {
      "cell_type": "code",
      "metadata": {
        "id": "b-KrDl4PrAcT",
        "colab_type": "code",
        "colab": {}
      },
      "source": [
        "# A test function\n",
        "def test_func(x,a=1,b=1):\n",
        "    return abs(a*x+b)"
      ],
      "execution_count": 0,
      "outputs": []
    },
    {
      "cell_type": "markdown",
      "metadata": {
        "id": "YQU9A8uGrAcW",
        "colab_type": "text"
      },
      "source": [
        "*Exercise 8:* Use your function to generate 1000 numbers that are normal distributed, using the `gaussian` function below. Confirm the mean and variance of the data is close to the mean and variance you specify when building the Gaussian. Histogram the data. "
      ]
    },
    {
      "cell_type": "code",
      "metadata": {
        "id": "Vj_ibEanrAcX",
        "colab_type": "code",
        "colab": {}
      },
      "source": [
        "import math\n",
        "\n",
        "def gaussian(mean, sigma):\n",
        "    def f(x):\n",
        "        return math.exp(-((x-mean)**2)/(2*sigma**2))/math.sqrt(math.pi*sigma)\n",
        "    return f\n",
        "\n",
        "# Example Instantiation\n",
        "g1=gaussian(0,1)\n",
        "g2=gaussian(10,3)"
      ],
      "execution_count": 0,
      "outputs": []
    },
    {
      "cell_type": "markdown",
      "metadata": {
        "id": "b6i0YgmurAca",
        "colab_type": "text"
      },
      "source": [
        "*Exercise 9:* Combine your `generate_function`, `where`, and `in_range` functions above to create an integrate function. Use your integrate function to show that approximately 68% of Normal distribution is within one variance."
      ]
    },
    {
      "cell_type": "code",
      "metadata": {
        "id": "635HB8rKrAcb",
        "colab_type": "code",
        "colab": {}
      },
      "source": [
        "def integrate(func, x_min, x_max, n_points=1000):\n",
        "    \n",
        "    return integral"
      ],
      "execution_count": 0,
      "outputs": []
    },
    {
      "cell_type": "code",
      "metadata": {
        "id": "5aUMIj4arAcd",
        "colab_type": "code",
        "colab": {}
      },
      "source": [
        ""
      ],
      "execution_count": 0,
      "outputs": []
    }
  ]
}