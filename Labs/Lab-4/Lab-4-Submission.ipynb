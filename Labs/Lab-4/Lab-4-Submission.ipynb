{
 "cells": [
  {
   "cell_type": "markdown",
   "metadata": {
    "colab_type": "text",
    "id": "h5Q5XArdIQ7l"
   },
   "source": [
    "## Lab 4\n",
    "\n",
    "[![Open In Colab](https://colab.research.google.com/assets/colab-badge.svg)](https://colab.research.google.com/github//afarbin/DATA1401-Spring-2020/blob/master/Labs/Lab-4/Lab-4.ipynb)\n",
    "\n",
    "In this lab we will become familiar with distributions, histograms, and functional programming. \n",
    "\n",
    "\n",
    "### Uniform Distribution\n",
    "Lets start with generating some fake random data. You can get a random number between 0 and 1 using the python random module as follow:"
   ]
  },
  {
   "cell_type": "code",
   "execution_count": 2,
   "metadata": {
    "colab": {},
    "colab_type": "code",
    "id": "HxvJuGAAIQ7p"
   },
   "outputs": [
    {
     "name": "stdout",
     "output_type": "stream",
     "text": [
      "The Value of x is 0.5574752118833375\n"
     ]
    }
   ],
   "source": [
    "import random\n",
    "x=random.random()\n",
    "print (\"The Value of x is\", x)"
   ]
  },
  {
   "cell_type": "markdown",
   "metadata": {
    "colab_type": "text",
    "id": "ZBPVSjQtIQ79"
   },
   "source": [
    "Everytime you call random, you will get a new number.\n",
    "\n",
    "*Exercise 1:* Using random, write a function `generate_uniform(N, mymin, mymax)`, that returns a python list containing N random numbers between specified minimum and maximum value. Note that you may want to quickly work out on paper how to turn numbers between 0 and 1 to between other values. "
   ]
  },
  {
   "cell_type": "code",
   "execution_count": 3,
   "metadata": {
    "colab": {},
    "colab_type": "code",
    "id": "QP4JyGB3IQ7_"
   },
   "outputs": [],
   "source": [
    "# Skeleton\n",
    "def generate_uniform(N,x_min,x_max):\n",
    "    out = []\n",
    "    for i in range(N): \n",
    "        out.append(random.randint(x_min, x_max))\n",
    "    return out"
   ]
  },
  {
   "cell_type": "code",
   "execution_count": 4,
   "metadata": {},
   "outputs": [
    {
     "name": "stdout",
     "output_type": "stream",
     "text": [
      "[128, 595, 508, 784, 974, 94, 917, 526, 783, 142, 894, 264, 94, 43, 374, 305, 594, 491, 771, 284]\n"
     ]
    }
   ],
   "source": [
    "# Testing \n",
    "N = 20\n",
    "x_min = 10\n",
    "x_max = 1000\n",
    "x=generate_uniform(N, x_min, x_max)\n",
    "print(x) "
   ]
  },
  {
   "cell_type": "code",
   "execution_count": 5,
   "metadata": {
    "colab": {},
    "colab_type": "code",
    "id": "9CtuMQ7eIQ8H"
   },
   "outputs": [
    {
     "name": "stdout",
     "output_type": "stream",
     "text": [
      "Data Type: <class 'list'>\n",
      "Data Length: 1000\n",
      "Type of Data Contents: <class 'int'>\n",
      "Data Minimum: -10\n",
      "Data Maximum: 10\n"
     ]
    }
   ],
   "source": [
    "# Test you solution here\n",
    "data=generate_uniform(1000,-10,10)\n",
    "print (\"Data Type:\", type(data))\n",
    "print (\"Data Length:\", len(data))\n",
    "if len(data)>0: \n",
    "    print (\"Type of Data Contents:\", type(data[0]))\n",
    "    print (\"Data Minimum:\", min(data))\n",
    "    print (\"Data Maximum:\", max(data))"
   ]
  },
  {
   "cell_type": "markdown",
   "metadata": {
    "colab_type": "text",
    "id": "Txq5nj9YIQ8M"
   },
   "source": [
    "*Exercise 2a:* \n",
    "Write a function that computes the mean of values in a list."
   ]
  },
  {
   "cell_type": "code",
   "execution_count": 6,
   "metadata": {
    "colab": {},
    "colab_type": "code",
    "id": "VL8WtAJcIQ8P"
   },
   "outputs": [],
   "source": [
    "# Skeleton\n",
    "def mean(Data): \n",
    "    m= sum(Data, 0.0) / len(Data)\n",
    "    \n",
    "    return m"
   ]
  },
  {
   "cell_type": "code",
   "execution_count": 10,
   "metadata": {
    "colab": {},
    "colab_type": "code",
    "id": "Mvx7bXw2IQ8W"
   },
   "outputs": [
    {
     "name": "stdout",
     "output_type": "stream",
     "text": [
      "Mean of Data: 478.25\n",
      "Mean of Data: 5.5\n"
     ]
    }
   ],
   "source": [
    "# Test your solution here\n",
    "data1 = list(range(1,11))\n",
    "print (\"Mean of Data:\", mean(x))\n",
    "print (\"Mean of Data:\", mean(data1))\n"
   ]
  },
  {
   "cell_type": "markdown",
   "metadata": {
    "colab_type": "text",
    "id": "9ssysQGdIQ8a"
   },
   "source": [
    "*Exercise 2b:* \n",
    "Write a function that computes the variance of values in a list."
   ]
  },
  {
   "cell_type": "code",
   "execution_count": 11,
   "metadata": {
    "colab": {},
    "colab_type": "code",
    "id": "16ySAPEaIQ8c"
   },
   "outputs": [],
   "source": [
    "# Skeleton\n",
    "def variance(Data):\n",
    "    total = 0.0\n",
    "    for i in Data:\n",
    "        sum_total =(i - mean(Data))**2\n",
    "        total +=sum_total\n",
    "    var = total/(len(Data)-1)\n",
    "    \n",
    "    return var\n",
    "   \n",
    "   "
   ]
  },
  {
   "cell_type": "code",
   "execution_count": 13,
   "metadata": {
    "colab": {},
    "colab_type": "code",
    "id": "W2528u2XIQ8j"
   },
   "outputs": [
    {
     "name": "stdout",
     "output_type": "stream",
     "text": [
      "Variance of Data: 92554.19736842105\n"
     ]
    }
   ],
   "source": [
    "# Test your solution here\n",
    "print (\"Variance of Data:\", variance(x))"
   ]
  },
  {
   "cell_type": "code",
   "execution_count": 14,
   "metadata": {},
   "outputs": [
    {
     "name": "stdout",
     "output_type": "stream",
     "text": [
      "Variance of Data: 32.024849178421285\n"
     ]
    }
   ],
   "source": [
    "results = [-14.82381293, -0.29423447, -13.56067979, -1.6288903, -0.31632439,\n",
    "          0.53459687, -1.34069996, -1.61042692, -4.03220519, -0.24332097]\n",
    "print (\"Variance of Data:\", variance(results))"
   ]
  },
  {
   "cell_type": "markdown",
   "metadata": {
    "colab_type": "text",
    "id": "iRCc06j7IQ8o"
   },
   "source": [
    "## Histogramming"
   ]
  },
  {
   "cell_type": "markdown",
   "metadata": {
    "colab_type": "text",
    "id": "keq79QLTIQ8p"
   },
   "source": [
    "*Exercise 3:* Write a function that bins the data so that you can create a histogram. An example of how to implement histogramming is the following logic:\n",
    "\n",
    "* User inputs a list of values `x` and optionally `n_bins` which defaults to 10.\n",
    "* If not supplied, find the minimum and maximum (`x_min`,`x_max`) of the values in x.\n",
    "* Determine the bin size (`bin_size`) by dividing the range of the function by the number of bins.\n",
    "* Create an empty list of zeros of size `n_bins`, call it `hist`.\n",
    "* Loop over the values in `x`\n",
    "    * Loop over the values in `hist` with index `i`:\n",
    "        * If x is between `x_min+i*bin_size` and `x_min+i*2*bin_size`, increment `hist[i].` \n",
    "        * For efficiency, try to use continue to goto the next bin and data point.\n",
    "* Return `hist` and the list corresponding of the bin edges (i.e. of `x_min+i*bin_size`).    "
   ]
  },
  {
   "cell_type": "code",
   "execution_count": 15,
   "metadata": {
    "colab": {},
    "colab_type": "code",
    "id": "bhJdNLobIQ8r"
   },
   "outputs": [],
   "source": [
    "# Solution\n",
    "x = generate_uniform(20, 0, 1000)\n",
    "def histogram(x,n_bins=10,x_min=None,x_max=None):\n",
    "    ### BEGIN SOLUTION\n",
    "    x_min = min(x)\n",
    "    x_max = max(x)\n",
    "    bin_size = (x_max-x_min)/n_bins\n",
    "    hist= [0]*n_bins\n",
    "    bin_edges = list()\n",
    "    for edge in range(n_bins+1):\n",
    "        bin_edges.append(x_min+edge*bin_size)\n",
    "    for item in x:\n",
    "        for i in range(n_bins):\n",
    "            if x_min+i*bin_size <= item <= x_min+(i+1)*bin_size:\n",
    "                hist[i] +=1 \n",
    "    bin_edges = [round(x,2) for x in bin_edges]\n",
    "    return hist,bin_edges\n"
   ]
  },
  {
   "cell_type": "code",
   "execution_count": 16,
   "metadata": {},
   "outputs": [
    {
     "name": "stdout",
     "output_type": "stream",
     "text": [
      "([3, 2, 4, 1, 3, 1, 2, 2, 0, 2], [40.0, 134.6, 229.2, 323.8, 418.4, 513.0, 607.6, 702.2, 796.8, 891.4, 986.0])\n"
     ]
    }
   ],
   "source": [
    "# Test your solution here\n",
    "print(histogram(x,n_bins=10))"
   ]
  },
  {
   "cell_type": "markdown",
   "metadata": {
    "colab_type": "text",
    "id": "xYbLbQVbIQ82"
   },
   "source": [
    "*Exercise 4:* Write a function that uses the histogram function in the previous exercise to create a text-based \"graph\". For example the output could look like the following:\n",
    "```\n",
    "[  0,  9] : ######\n",
    "[  1,  2] : #####\n",
    "[  2,  3] : ######\n",
    "[  3,  4] : ####\n",
    "[  4,  5] : ####\n",
    "[  5,  6] : ######\n",
    "[  6,  7] : #####\n",
    "[  7,  8] : ######\n",
    "[  8,  9] : ####\n",
    "[  9, 10] : #####\n",
    "```\n",
    "\n",
    "Where each line corresponds to a bin and the number of `#`'s are proportional to the value of the data in the bin. "
   ]
  },
  {
   "cell_type": "code",
   "execution_count": 17,
   "metadata": {
    "colab": {},
    "colab_type": "code",
    "id": "o2rLSzI_IQ84"
   },
   "outputs": [],
   "source": [
    "# Solution\n",
    "def draw_histogram(x,n_bins,x_min=None,x_max=None,character=\"#\",max_character_per_line=20):\n",
    "    ### BEGIN SOLUTION\n",
    "    x_min = min(x)\n",
    "    x_max = max(x)\n",
    "    bin_size = (x_max-x_min)/n_bins\n",
    "    hist= [0]*n_bins\n",
    "    bin_edges = list()\n",
    "    for edge in range(n_bins+1):\n",
    "        bin_edges.append(x_min+edge*bin_size)\n",
    "    for item in x:\n",
    "        for i in range(n_bins):\n",
    "            if x_min+i*bin_size <= item <= x_min+(i+1)*bin_size:\n",
    "                hist[i] +=1 \n",
    "    bin_edges = [round(x,2) for x in bin_edges]       \n",
    "    for i, j in enumerate(hist):\n",
    "        print(f\"[ {bin_edges[i]} , {bin_edges[i+1]} ] : {int(hist[i])*character} \")\n",
    "    \n",
    "    return hist,bin_edges"
   ]
  },
  {
   "cell_type": "code",
   "execution_count": 18,
   "metadata": {
    "colab": {},
    "colab_type": "code",
    "id": "tW1_Rnj2IQ88"
   },
   "outputs": [
    {
     "name": "stdout",
     "output_type": "stream",
     "text": [
      "[ 40.0 , 134.6 ] : ### \n",
      "[ 134.6 , 229.2 ] : ## \n",
      "[ 229.2 , 323.8 ] : #### \n",
      "[ 323.8 , 418.4 ] : # \n",
      "[ 418.4 , 513.0 ] : ### \n",
      "[ 513.0 , 607.6 ] : # \n",
      "[ 607.6 , 702.2 ] : ## \n",
      "[ 702.2 , 796.8 ] : ## \n",
      "[ 796.8 , 891.4 ] :  \n",
      "[ 891.4 , 986.0 ] : ## \n"
     ]
    },
    {
     "data": {
      "text/plain": [
       "([3, 2, 4, 1, 3, 1, 2, 2, 0, 2],\n",
       " [40.0, 134.6, 229.2, 323.8, 418.4, 513.0, 607.6, 702.2, 796.8, 891.4, 986.0])"
      ]
     },
     "execution_count": 18,
     "metadata": {},
     "output_type": "execute_result"
    }
   ],
   "source": [
    "# Test your solution here\n",
    "draw_histogram(x,10)"
   ]
  },
  {
   "cell_type": "markdown",
   "metadata": {
    "colab_type": "text",
    "id": "9xOOI51iIQ9A"
   },
   "source": [
    "## Functional Programming\n",
    "\n",
    "*Exercise 5:* Write a function the applies a booling function (that returns true/false) to every element in data, and return a list of indices of elements where the result was true. Use this function to find the indices of entries greater than 0.5. "
   ]
  },
  {
   "cell_type": "code",
   "execution_count": 19,
   "metadata": {},
   "outputs": [],
   "source": [
    "def where(mylist,myfunc):\n",
    "    out = []\n",
    "    for i,val in enumerate(mylist):\n",
    "        if myfunc(val):\n",
    "            out.append(i)\n",
    "    \n",
    "    return out\n",
    "#f = lambda x: x>0.5"
   ]
  },
  {
   "cell_type": "code",
   "execution_count": 20,
   "metadata": {},
   "outputs": [
    {
     "data": {
      "text/plain": [
       "[0, 2, 4, 5, 6, 9]"
      ]
     },
     "execution_count": 20,
     "metadata": {},
     "output_type": "execute_result"
    }
   ],
   "source": [
    "lst = [0.7,-0.1,5,0.2,9,1.6,7,-0.7,0.5,0.6]\n",
    "where(lst,lambda x: x>0.5)"
   ]
  },
  {
   "cell_type": "code",
   "execution_count": 21,
   "metadata": {},
   "outputs": [
    {
     "data": {
      "text/plain": [
       "[0, 2, 4, 5, 6, 9, 11]"
      ]
     },
     "execution_count": 21,
     "metadata": {},
     "output_type": "execute_result"
    }
   ],
   "source": [
    "data = generate_uniform(20, 0, 1000)\n",
    "l = [0.7,-0.1,5,0.2,9,1.6,7,-0.7,0.5,0.6,-7,2]\n",
    "where(l,lambda x: x>0.5)"
   ]
  },
  {
   "cell_type": "markdown",
   "metadata": {
    "colab_type": "text",
    "id": "km1Nbsq5IQ9L"
   },
   "source": [
    "*Exercise 6:* The inrange(mymin,mymax) function below returns a function that tests if it's input is between the specified values. Write corresponding functions that test:\n",
    "* Even\n",
    "* Odd\n",
    "* Greater than\n",
    "* Less than\n",
    "* Equal\n",
    "* Divisible by"
   ]
  },
  {
   "cell_type": "code",
   "execution_count": 22,
   "metadata": {
    "colab": {},
    "colab_type": "code",
    "id": "thDnjHdrIQ9N"
   },
   "outputs": [
    {
     "name": "stdout",
     "output_type": "stream",
     "text": [
      "True True False False False\n",
      "False False True True False\n",
      "Number of Entries passing F1: 9\n",
      "Number of Entries passing F2: 0\n"
     ]
    }
   ],
   "source": [
    "def inrange(mymin,mymax):\n",
    "    def testrange(x):\n",
    "        return x<mymax and x>=mymin\n",
    "    return testrange\n",
    "\n",
    "# Examples:\n",
    "F1=inrange(0,10)\n",
    "F2=inrange(10,20)\n",
    "\n",
    "# Test of in_range\n",
    "print (F1(0), F1(1), F1(10), F1(15), F1(20))\n",
    "print (F2(0), F2(1), F2(10), F2(15), F2(20))\n",
    "\n",
    "print (\"Number of Entries passing F1:\", len(where(l,F1)))\n",
    "print (\"Number of Entries passing F2:\", len(where(l,F2)))"
   ]
  },
  {
   "cell_type": "code",
   "execution_count": 23,
   "metadata": {
    "colab": {},
    "colab_type": "code",
    "id": "sL6knjoZIQ9Q"
   },
   "outputs": [],
   "source": [
    "### BEGIN SOLUTION\n",
    "\n",
    "def even(x):\n",
    "        return x%2==0\n",
    "\n",
    "def odd(x):\n",
    "        return x%2!=0\n",
    "def greater_than(x,y):\n",
    "    return x>y\n",
    "\n",
    "def less_than(x,y):\n",
    "    return x<y\n",
    "\n",
    "def equal(x,y):\n",
    "    return x==y\n",
    "def divisible_by(x,y):\n",
    "    return x%y==0\n"
   ]
  },
  {
   "cell_type": "code",
   "execution_count": 24,
   "metadata": {
    "colab": {},
    "colab_type": "code",
    "id": "fiaejoRRIQ9U"
   },
   "outputs": [
    {
     "name": "stdout",
     "output_type": "stream",
     "text": [
      "True False True False True\n",
      "False True False True False\n",
      "False True True False False\n",
      "True False False True False\n",
      "False False False False True\n",
      "True False True False True\n"
     ]
    }
   ],
   "source": [
    "# Test your solution\n",
    "print (even(0), even(1), even(10), even(15), even(20))\n",
    "print (odd(0), odd(1), odd(10), odd(15), odd(20))\n",
    "print (greater_than(0,1), greater_than(1,-5), greater_than(10,0), greater_than(12,15), greater_than(20,20))\n",
    "print (less_than(0,1), less_than(1,-5), less_than(10,0), less_than(12,15), less_than(20,20))\n",
    "print (equal(0,1), equal(1,-5), equal(10,0), equal(12,15), equal(20,20))\n",
    "print (divisible_by(1,1), divisible_by(1,5), divisible_by(10,1), divisible_by(12,15), divisible_by(20,20))"
   ]
  },
  {
   "cell_type": "markdown",
   "metadata": {
    "colab_type": "text",
    "id": "YtyB2I4aIQ9Y"
   },
   "source": [
    "*Exercise 7:* Repeat the previous exercise using `lambda` and the built-in python functions sum and map instead of your solution above. "
   ]
  },
  {
   "cell_type": "code",
   "execution_count": 25,
   "metadata": {
    "colab": {},
    "colab_type": "code",
    "id": "NckpZK_RIQ9Z"
   },
   "outputs": [],
   "source": [
    "### BEGIN SOLUTION\n",
    "\n",
    "even =lambda x: x%2==0\n",
    "\n",
    "odd =lambda x: x%2!=0\n",
    "\n",
    "greater_than =lambda x,y: x>y\n",
    "\n",
    "less_than =lambda x,y: x<y\n",
    "\n",
    "equal =lambda x,y: x==y\n",
    "\n",
    "divisible_by =lambda x,y: x%y==0\n"
   ]
  },
  {
   "cell_type": "code",
   "execution_count": 26,
   "metadata": {},
   "outputs": [
    {
     "data": {
      "text/plain": [
       "True"
      ]
     },
     "execution_count": 26,
     "metadata": {},
     "output_type": "execute_result"
    }
   ],
   "source": [
    "data = [0,1,10,15,20]\n",
    "list(map(even,data))\n",
    "list(map(odd,data))\n",
    "greater_than(4,2)\n",
    "less_than(4,2)\n",
    "equal(4,2)\n",
    "divisible_by(4,2)"
   ]
  },
  {
   "cell_type": "markdown",
   "metadata": {
    "colab_type": "text",
    "id": "9E3wJ1MdIQ9e"
   },
   "source": [
    "## Monte Carlo\n",
    "\n",
    "*Exercise 7:* Write a \"generator\" function called `generate_function(func,x_min,x_max,N)`, that instead of generating a flat distribution, generates a distribution with functional form coded in `func`. Note that `func` will always be > 0.  \n",
    "\n",
    "Use the test function below and your histogramming functions above to demonstrate that your generator is working properly.\n",
    "\n",
    "Hint: A simple, but slow, solution is to a draw random number test_x within the specified range and another number p between the min and max of the function (which you will have to determine). If p<=function(test_x), then place test_x on the output. If not, repeat the process, drawing two new numbers. Repeat until you have the specified number of generated numbers, N. For this problem, it's OK to determine the min and max by numerically sampling the function.  "
   ]
  },
  {
   "cell_type": "code",
   "execution_count": 29,
   "metadata": {
    "colab": {},
    "colab_type": "code",
    "id": "hLS9VHV-IQ9f"
   },
   "outputs": [],
   "source": [
    "def generate_function(func,x_min,x_max,N=1000):\n",
    "    import random\n",
    "    out = list()\n",
    "    while True:\n",
    "        test_x=random.choice(range(x_min,x_max))\n",
    "        p=random.choice(range(x_min,x_max))\n",
    "        if p<=func(test_x):\n",
    "            out.append(test_x)\n",
    "        if len(out) ==N:\n",
    "            break\n",
    "    \n",
    "    return out"
   ]
  },
  {
   "cell_type": "code",
   "execution_count": 30,
   "metadata": {
    "colab": {},
    "colab_type": "code",
    "id": "SXRrs-n7IQ9i"
   },
   "outputs": [],
   "source": [
    "# A test function\n",
    "def test_func(x,a=1,b=1):\n",
    "    return abs(a*x+b)\n"
   ]
  },
  {
   "cell_type": "code",
   "execution_count": 33,
   "metadata": {},
   "outputs": [
    {
     "name": "stdout",
     "output_type": "stream",
     "text": [
      "[7, 7, 5, 4, 4, 3, 2, 0, 7, 8, 9, 7, 8, 9, 9, 4, 2, 1, 6, 7, 8, 8, 8, 9, 6, 9, 5, 7, 8, 6, 7, 6, 9, 8, 4, 7, 8, 2, 9, 3, 8, 3, 9, 8, 7, 9, 9, 9, 6, 3, 1, 6, 6, 2, 5, 9, 2, 7, 2, 5, 6, 5, 7, 2, 6, 5, 9, 2, 2, 3, 7, 0, 8, 6, 6, 5, 6, 6, 2, 2, 8, 3, 6, 3, 1, 8, 1, 1, 1, 8, 2, 0, 1, 8, 1, 8, 8, 8, 6, 1, 8, 8, 5, 3, 6, 9, 9, 2, 7, 1, 8, 9, 8, 1, 9, 8, 5, 1, 5, 3, 6, 2, 9, 3, 0, 5, 0, 7, 4, 9, 0, 8, 4, 7, 7, 5, 7, 5, 3, 7, 9, 4, 9, 5, 3, 8, 3, 9, 6, 2, 6, 6, 6, 4, 8, 5, 8, 7, 0, 9, 8, 2, 8, 7, 8, 7, 9, 5, 8, 3, 8, 8, 0, 7, 4, 1, 8, 1, 2, 0, 2, 9, 3, 5, 6, 8, 1, 8, 4, 4, 6, 7, 8, 8, 9, 8, 4, 5, 9, 4, 6, 4, 3, 3, 3, 1, 3, 7, 8, 2, 4, 7, 2, 9, 4, 3, 6, 4, 3, 5, 7, 3, 3, 7, 1, 3, 5, 9, 5, 6, 0, 8, 5, 6, 8, 7, 3, 9, 5, 3, 9, 9, 6, 8, 6, 2, 8, 9, 2, 6, 5, 3, 3, 9, 8, 7, 6, 4, 9, 4, 9, 8, 3, 5, 0, 9, 7, 3, 1, 7, 7, 6, 4, 6, 7, 9, 7, 4, 4, 7, 6, 3, 7, 9, 5, 8, 2, 4, 7, 5, 0, 3, 6, 3, 7, 2, 8, 0, 8, 5, 2, 2, 5, 7, 8, 6, 6, 7, 8, 5, 7, 7, 9, 6, 8, 2, 8, 2, 2, 9, 3, 7, 1, 4, 8, 5, 5, 9, 8, 5, 6, 5, 3, 4, 2, 7, 9, 7, 9, 6, 8, 7, 7, 6, 5, 9, 5, 8, 5, 5, 5, 3, 9, 5, 5, 4, 9, 7, 7, 3, 8, 5, 6, 6, 6, 7, 8, 8, 1, 4, 3, 4, 7, 9, 5, 3, 4, 6, 9, 5, 5, 9, 8, 4, 6, 7, 8, 4, 6, 5, 5, 3, 4, 5, 6, 8, 5, 9, 6, 7, 7, 8, 6, 6, 9, 3, 9, 7, 9, 9, 4, 7, 5, 9, 3, 6, 5, 7, 2, 6, 9, 3, 5, 0, 9, 6, 0, 8, 8, 4, 8, 5, 8, 3, 9, 4, 7, 8, 6, 8, 7, 7, 5, 9, 9, 1, 3, 4, 8, 7, 9, 3, 4, 8, 6, 8, 9, 6, 5, 3, 9, 6, 4, 8, 4, 3, 4, 3, 3, 8, 8, 2, 7, 9, 8, 8, 8, 9, 6, 9, 9, 6, 7, 0, 3, 4, 0, 3, 8, 4, 8, 4, 9, 9, 8, 0, 9, 8, 9, 8, 5, 3, 8, 6, 4, 5, 9, 3, 9, 9, 4, 4, 6, 2, 8, 7, 6, 1, 9, 7, 3, 6, 9, 6, 8, 3, 9, 9, 6, 7, 8, 0, 0, 2, 8, 8, 2, 9, 9, 8, 6, 8, 8, 6, 6, 9, 3, 9, 7, 7, 6, 9, 8, 6, 6, 8, 8, 4, 7, 9, 8, 2, 8, 9, 7, 8, 2, 5, 2, 4, 6, 7, 4, 6, 5, 3, 4, 7, 4, 4, 3, 0, 6, 7, 6, 3, 1, 4, 1, 9, 6, 5, 0, 5, 7, 6, 4, 9, 8, 1, 9, 6, 5, 4, 3, 1, 3, 5, 3, 9, 8, 9, 2, 2, 5, 9, 5, 4, 9, 4, 5, 8, 8, 9, 2, 8, 6, 6, 3, 8, 4, 9, 7, 7, 9, 6, 5, 9, 1, 4, 6, 9, 9, 9, 9, 2, 5, 0, 9, 3, 8, 9, 8, 3, 0, 7, 6, 8, 4, 8, 0, 2, 8, 5, 8, 8, 0, 5, 7, 9, 5, 1, 9, 2, 2, 1, 8, 2, 4, 6, 2, 0, 6, 3, 8, 4, 5, 3, 0, 5, 6, 8, 4, 7, 8, 6, 6, 5, 2, 5, 1, 5, 7, 9, 6, 9, 6, 8, 7, 3, 4, 4, 9, 1, 8, 5, 5, 7, 8, 6, 7, 0, 7, 9, 6, 2, 6, 7, 3, 8, 8, 5, 9, 4, 5, 2, 2, 6, 3, 5, 6, 7, 5, 2, 9, 6, 8, 7, 3, 8, 4, 8, 8, 8, 8, 7, 6, 9, 6, 8, 7, 8, 9, 8, 6, 9, 4, 8, 8, 7, 5, 9, 8, 7, 7, 5, 8, 9, 9, 7, 9, 5, 8, 7, 4, 6, 6, 5, 4, 4, 7, 7, 6, 9, 7, 0, 8, 9, 9, 3, 0, 8, 9, 6, 3, 9, 5, 9, 5, 7, 6, 4, 4, 9, 7, 8, 8, 4, 9, 1, 5, 3, 2, 7, 8, 8, 5, 9, 8, 6, 6, 8, 9, 8, 0, 4, 3, 7, 8, 8, 5, 7, 7, 7, 7, 7, 9, 4, 4, 2, 3, 8, 8, 8, 4, 3, 8, 9, 7, 9, 5, 4, 9, 5, 7, 1, 5, 9, 7, 1, 9, 1, 9, 8, 6, 7, 8, 4, 8, 2, 8, 9, 9, 9, 9, 7, 7, 7, 6, 9, 8, 8, 6, 8, 8, 6, 4, 7, 6, 9, 8, 6, 7, 6, 5, 1, 6, 3, 0, 8, 7, 2, 7, 9, 5, 9, 4, 6, 8, 8, 1, 2, 5, 9, 2, 5, 9, 6, 5, 3, 7, 3, 8, 8, 9, 3, 6, 6, 9, 2, 2, 4, 8, 4, 7, 2, 6, 7, 4, 9, 5, 8, 8, 7, 6, 8, 1, 8, 5, 9, 7, 7, 2, 2, 3, 0, 4, 8, 8, 1, 2, 3, 6, 2, 9, 1, 8, 7, 5, 6, 8, 9, 8, 4, 2, 4, 1, 5, 1, 2, 9, 5, 6, 8, 4, 1, 8, 7, 2, 9]\n"
     ]
    }
   ],
   "source": [
    "x=generate_function(test_func,0,10)\n",
    "print(x)"
   ]
  },
  {
   "cell_type": "code",
   "execution_count": 34,
   "metadata": {},
   "outputs": [
    {
     "name": "stdout",
     "output_type": "stream",
     "text": [
      "[ 0.0 , 0.9 ] : ################################## \n",
      "[ 0.9 , 1.8 ] : ########################################### \n",
      "[ 1.8 , 2.7 ] : #################################################################### \n",
      "[ 2.7 , 3.6 ] : #################################################################################### \n",
      "[ 3.6 , 4.5 ] : ######################################################################################### \n",
      "[ 4.5 , 5.4 ] : ######################################################################################################## \n",
      "[ 5.4 , 6.3 ] : ############################################################################################################################ \n",
      "[ 6.3 , 7.2 ] : ############################################################################################################################# \n",
      "[ 7.2 , 8.1 ] : ################################################################################################################################################################################ \n",
      "[ 8.1 , 9.0 ] : ######################################################################################################################################################### \n"
     ]
    },
    {
     "data": {
      "text/plain": [
       "([34, 43, 68, 84, 89, 104, 124, 125, 176, 153],\n",
       " [0.0, 0.9, 1.8, 2.7, 3.6, 4.5, 5.4, 6.3, 7.2, 8.1, 9.0])"
      ]
     },
     "execution_count": 34,
     "metadata": {},
     "output_type": "execute_result"
    }
   ],
   "source": [
    "draw_histogram(x,10)"
   ]
  },
  {
   "cell_type": "code",
   "execution_count": 35,
   "metadata": {},
   "outputs": [
    {
     "name": "stdout",
     "output_type": "stream",
     "text": [
      "mean : 5.711\n",
      "variance : 6.732211211211208\n"
     ]
    }
   ],
   "source": [
    "m =mean(x)\n",
    "v =variance(x)\n",
    "print(\"mean :\",m)\n",
    "print(\"variance :\",v)"
   ]
  },
  {
   "cell_type": "markdown",
   "metadata": {
    "colab_type": "text",
    "id": "TSJNFJ6lIQ9n"
   },
   "source": [
    "*Exercise 8:* Use your function to generate 1000 numbers that are normal distributed, using the `gaussian` function below. Confirm the mean and variance of the data is close to the mean and variance you specify when building the Gaussian. Histogram the data. "
   ]
  },
  {
   "cell_type": "code",
   "execution_count": null,
   "metadata": {},
   "outputs": [],
   "source": [
    "def normal(x,mu,sigma):\n",
    "    return ( 2.*np.pi*sigma**2. )**-.5 * np.exp( -.5 * (x-mu)**2. / sigma**2. )"
   ]
  },
  {
   "cell_type": "code",
   "execution_count": 36,
   "metadata": {
    "colab": {},
    "colab_type": "code",
    "id": "ibYoQs0eIQ9o"
   },
   "outputs": [],
   "source": [
    "import math\n",
    "\n",
    "def gaussian(mean, sigma):\n",
    "    def f(x):\n",
    "        return math.exp(-((x-mean)**2)/(2*sigma**2))/math.sqrt(math.pi*sigma)\n",
    "    return f\n",
    "\n",
    "# Example Instantiation\n",
    "g1=gaussian(5.711,6.732211211211208)\n",
    "g2=gaussian(10,3)"
   ]
  },
  {
   "cell_type": "code",
   "execution_count": 37,
   "metadata": {},
   "outputs": [
    {
     "name": "stdout",
     "output_type": "stream",
     "text": [
      "[0, 0, 1, 1, 8, 7, 2, 4, 0, 4, 1, 7, 9, 5, 3, 7, 0, 1, 0, 1, 1, 2, 3, 6, 9, 8, 0, 9, 9, 4, 2, 0, 5, 0, 4, 4, 9, 0, 1, 0, 6, 4, 0, 0, 7, 5, 2, 1, 1, 7, 5, 1, 5, 7, 7, 7, 9, 8, 9, 9, 4, 1, 0, 2, 5, 2, 4, 5, 8, 5, 3, 2, 7, 6, 6, 1, 0, 7, 1, 5, 5, 3, 5, 3, 1, 9, 3, 5, 1, 5, 6, 7, 8, 3, 7, 3, 0, 6, 5, 7, 7, 9, 1, 2, 9, 7, 3, 0, 2, 5, 7, 9, 6, 6, 6, 0, 1, 6, 1, 8, 5, 0, 7, 6, 9, 1, 6, 4, 1, 8, 2, 2, 5, 2, 1, 9, 3, 0, 1, 2, 7, 6, 9, 9, 0, 2, 8, 2, 1, 3, 3, 3, 2, 7, 8, 9, 0, 7, 9, 0, 6, 2, 0, 9, 5, 4, 2, 1, 0, 0, 9, 1, 4, 1, 8, 7, 4, 1, 7, 3, 1, 2, 0, 3, 8, 7, 7, 7, 2, 7, 2, 7, 0, 2, 0, 5, 9, 1, 6, 2, 2, 2, 6, 0, 6, 4, 1, 0, 7, 8, 8, 9, 8, 0, 2, 5, 1, 9, 7, 5, 4, 4, 2, 5, 1, 0, 3, 0, 4, 5, 5, 5, 1, 6, 4, 7, 9, 4, 3, 8, 4, 3, 0, 8, 4, 8, 8, 2, 3, 7, 8, 1, 4, 8, 0, 9, 6, 0, 5, 4, 7, 9, 0, 6, 7, 8, 7, 4, 9, 2, 8, 0, 4, 3, 8, 0, 7, 3, 4, 1, 5, 4, 2, 1, 9, 3, 3, 0, 9, 0, 2, 9, 2, 3, 8, 9, 8, 5, 0, 0, 2, 8, 2, 8, 4, 5, 3, 0, 4, 0, 4, 8, 7, 9, 7, 8, 7, 4, 7, 2, 3, 8, 8, 4, 3, 7, 1, 2, 4, 1, 0, 0, 1, 8, 2, 5, 4, 1, 4, 9, 6, 7, 2, 6, 6, 7, 8, 1, 6, 8, 4, 4, 7, 1, 3, 3, 0, 2, 5, 4, 7, 3, 4, 0, 5, 5, 7, 2, 3, 6, 4, 8, 3, 9, 1, 6, 4, 8, 9, 5, 8, 8, 3, 5, 0, 6, 1, 1, 3, 3, 1, 3, 1, 1, 0, 7, 3, 6, 6, 3, 1, 4, 1, 3, 2, 1, 8, 5, 6, 5, 4, 6, 0, 9, 0, 2, 9, 9, 9, 9, 8, 8, 5, 4, 0, 0, 3, 7, 9, 5, 7, 9, 2, 6, 8, 7, 2, 6, 1, 7, 1, 9, 8, 7, 0, 2, 2, 4, 2, 1, 6, 6, 5, 4, 6, 8, 6, 4, 7, 6, 1, 0, 0, 0, 2, 2, 5, 6, 0, 2, 1, 2, 6, 4, 8, 1, 1, 1, 0, 2, 4, 7, 5, 7, 1, 9, 3, 3, 9, 1, 0, 8, 8, 9, 2, 6, 0, 5, 2, 0, 7, 0, 8, 7, 6, 1, 6, 7, 3, 0, 2, 1, 3, 6, 7, 3, 0, 9, 7, 1, 0, 4, 9, 2, 1, 1, 0, 7, 4, 9, 9, 0, 8, 7, 0, 2, 4, 1, 0, 3, 3, 6, 2, 2, 9, 7, 4, 2, 3, 0, 5, 6, 5, 9, 4, 6, 3, 6, 8, 7, 5, 9, 6, 6, 9, 9, 7, 4, 8, 3, 9, 6, 4, 1, 5, 3, 0, 1, 6, 4, 9, 8, 6, 5, 9, 3, 0, 7, 8, 3, 5, 5, 5, 6, 4, 6, 7, 7, 8, 3, 6, 1, 1, 8, 5, 7, 9, 2, 4, 0, 7, 6, 6, 8, 3, 1, 9, 9, 8, 3, 7, 8, 9, 8, 9, 0, 2, 6, 3, 2, 8, 7, 5, 2, 3, 0, 3, 4, 0, 2, 5, 5, 0, 8, 2, 8, 4, 0, 3, 8, 8, 4, 0, 8, 4, 3, 3, 8, 3, 4, 8, 7, 7, 9, 8, 3, 1, 1, 0, 1, 5, 0, 9, 9, 1, 9, 8, 7, 3, 9, 8, 4, 8, 4, 2, 2, 1, 7, 7, 5, 5, 4, 2, 2, 0, 2, 6, 4, 6, 8, 5, 4, 7, 0, 6, 3, 4, 2, 7, 1, 5, 8, 2, 7, 3, 3, 9, 5, 6, 9, 1, 8, 0, 9, 4, 7, 2, 2, 3, 7, 3, 2, 3, 5, 1, 6, 8, 5, 8, 6, 4, 4, 8, 4, 7, 0, 7, 6, 5, 2, 2, 6, 4, 2, 5, 8, 7, 8, 8, 5, 5, 7, 0, 1, 3, 1, 1, 2, 7, 5, 4, 2, 7, 3, 8, 0, 2, 1, 0, 2, 9, 6, 3, 1, 1, 6, 7, 1, 6, 0, 3, 5, 8, 5, 1, 9, 7, 2, 0, 2, 2, 5, 9, 4, 3, 5, 9, 8, 6, 7, 4, 6, 6, 3, 0, 5, 8, 1, 0, 3, 2, 3, 9, 6, 2, 3, 7, 1, 4, 9, 6, 8, 7, 8, 5, 5, 3, 1, 9, 1, 6, 4, 0, 9, 7, 2, 7, 5, 9, 4, 4, 0, 9, 3, 7, 8, 6, 6, 7, 5, 0, 2, 2, 3, 4, 9, 5, 5, 4, 7, 3, 5, 1, 2, 2, 9, 3, 0, 0, 2, 1, 1, 4, 6, 5, 1, 9, 4, 1, 6, 5, 9, 1, 7, 5, 5, 3, 6, 7, 3, 0, 6, 3, 9, 9, 9, 0, 0, 9, 0, 5, 1, 2, 6, 5, 8, 0, 8, 3, 4, 9, 0, 4, 6, 6, 3, 0, 1, 4, 3, 1, 7, 5, 1, 5, 8, 0, 3, 5, 7, 4, 4, 3, 8, 9, 3, 1, 5, 6, 0, 0, 7, 8, 3, 0, 6, 8, 3, 7, 0, 9, 4, 6, 8, 7, 2, 3, 5, 2, 4, 4, 6, 8, 4, 9, 4, 2, 4, 3, 5, 2, 5, 1, 6, 9, 5, 6, 7, 0, 7, 4, 5, 7, 9, 1, 3, 9, 5, 6, 2]\n"
     ]
    }
   ],
   "source": [
    "x=generate_function(g1,0,10)\n",
    "print(x)"
   ]
  },
  {
   "cell_type": "code",
   "execution_count": 38,
   "metadata": {},
   "outputs": [
    {
     "name": "stdout",
     "output_type": "stream",
     "text": [
      "[ 0.0 , 0.9 ] : ################################################################################################################# \n",
      "[ 0.9 , 1.8 ] : ######################################################################################################### \n",
      "[ 1.8 , 2.7 ] : #################################################################################################### \n",
      "[ 2.7 , 3.6 ] : ################################################################################################### \n",
      "[ 3.6 , 4.5 ] : ################################################################################################# \n",
      "[ 4.5 , 5.4 ] : ################################################################################################ \n",
      "[ 5.4 , 6.3 ] : ############################################################################################ \n",
      "[ 6.3 , 7.2 ] : ########################################################################################################### \n",
      "[ 7.2 , 8.1 ] : ############################################################################################### \n",
      "[ 8.1 , 9.0 ] : ################################################################################################ \n"
     ]
    },
    {
     "data": {
      "text/plain": [
       "([113, 105, 100, 99, 97, 96, 92, 107, 95, 96],\n",
       " [0.0, 0.9, 1.8, 2.7, 3.6, 4.5, 5.4, 6.3, 7.2, 8.1, 9.0])"
      ]
     },
     "execution_count": 38,
     "metadata": {},
     "output_type": "execute_result"
    }
   ],
   "source": [
    "draw_histogram(x,10)"
   ]
  },
  {
   "cell_type": "code",
   "execution_count": 39,
   "metadata": {},
   "outputs": [
    {
     "name": "stdout",
     "output_type": "stream",
     "text": [
      "mean : 4.395\n",
      "variance : 8.451426426426545\n"
     ]
    }
   ],
   "source": [
    "m =mean(x)\n",
    "v =variance(x)\n",
    "print(\"mean :\",m)\n",
    "print(\"variance :\",v)"
   ]
  },
  {
   "cell_type": "markdown",
   "metadata": {
    "colab_type": "text",
    "id": "Q4DVjd3IIQ9q"
   },
   "source": [
    "*Exercise 9:* Combine your `generate_function`, `where`, and `in_range` functions above to create an integrate function. Use your integrate function to show that approximately 68% of Normal distribution is within one variance."
   ]
  },
  {
   "cell_type": "code",
   "execution_count": 0,
   "metadata": {
    "colab": {},
    "colab_type": "code",
    "id": "M-eIBsdQIQ9r"
   },
   "outputs": [],
   "source": [
    "def integrate(func, x_min, x_max, n_points=1000):\n",
    "    x=generate_function(g1,0,10)\n",
    "    \n",
    "    where(lst,lambda x: x>1)\n",
    "    \n",
    "    F1=inrange(0,10)\n",
    "    \n",
    "    return integral"
   ]
  },
  {
   "cell_type": "code",
   "execution_count": 40,
   "metadata": {
    "colab": {},
    "colab_type": "code",
    "id": "Ce6bnXzrIQ9v"
   },
   "outputs": [],
   "source": [
    "import math\n",
    "def integrate(func, x_min, x_max, n_points=1000):\n",
    "    x=generate_function(g1,0,10)\n",
    "    h = (x_max-x_min)/float(n_points)\n",
    "    s = 0.5*(func(x_min) + func(x_max))\n",
    "    for i in range(1,n_points,1):\n",
    "        s = s + func(x_min + i*h)\n",
    "    return h*s\n",
    "\n",
    "    #where(lst,lambda x: x>1)\n",
    "    #F1=inrange(x_min,x_max)\n",
    "def integral(x):\n",
    "    constant = 1.0 / math.sqrt(2*math.pi)\n",
    "    return(constant * math.exp((-x**2) / 2.0) )"
   ]
  },
  {
   "cell_type": "code",
   "execution_count": 42,
   "metadata": {},
   "outputs": [
    {
     "name": "stdout",
     "output_type": "stream",
     "text": [
      "0.6826893308232487\n"
     ]
    }
   ],
   "source": [
    "result = integrate(integral, -1, 1)\n",
    "print (result)"
   ]
  },
  {
   "cell_type": "code",
   "execution_count": 43,
   "metadata": {},
   "outputs": [
    {
     "name": "stdout",
     "output_type": "stream",
     "text": [
      "0.9973001241637547\n"
     ]
    }
   ],
   "source": [
    "result = integrate(integral, -3, 3)\n",
    "print (result)"
   ]
  },
  {
   "cell_type": "code",
   "execution_count": 45,
   "metadata": {},
   "outputs": [
    {
     "name": "stdout",
     "output_type": "stream",
     "text": [
      "0.954499448151897\n"
     ]
    }
   ],
   "source": [
    "result = integrate(integral, -2, 2,1000)\n",
    "print (result)"
   ]
  }
 ],
 "metadata": {
  "colab": {
   "name": "Copy of Lab-4.ipynb",
   "provenance": [
    {
     "file_id": "https://github.com/afarbin/DATA1401-Spring-2020/blob/master/Labs/Lab-4/Lab-4.ipynb",
     "timestamp": 1582311752013
    }
   ]
  },
  "kernelspec": {
   "display_name": "Python 3",
   "language": "python",
   "name": "python3"
  },
  "language_info": {
   "codemirror_mode": {
    "name": "ipython",
    "version": 3
   },
   "file_extension": ".py",
   "mimetype": "text/x-python",
   "name": "python",
   "nbconvert_exporter": "python",
   "pygments_lexer": "ipython3",
   "version": "3.7.4"
  }
 },
 "nbformat": 4,
 "nbformat_minor": 1
}
