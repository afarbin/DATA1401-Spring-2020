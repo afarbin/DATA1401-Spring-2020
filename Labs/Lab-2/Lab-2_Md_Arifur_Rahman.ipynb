{
 "cells": [
  {
   "cell_type": "code",
   "execution_count": 1,
   "metadata": {},
   "outputs": [],
   "source": [
    "#Exercise 1: Write 2 functions even(x) and odd(x) \n",
    "#that take an integer and returns True if the input is even or odd, otherwise returns False.\n",
    "# Write you solution here\n",
    "def even(x):\n",
    "    return x%2==0\n",
    "def odd(x):\n",
    "    return x%2!=0"
   ]
  },
  {
   "cell_type": "code",
   "execution_count": 2,
   "metadata": {},
   "outputs": [
    {
     "name": "stdout",
     "output_type": "stream",
     "text": [
      "Testing 2 if Even : True\n",
      "Testing 3 if Even : False\n",
      "Testing 4 if Even : True\n",
      "Testing 5 if odd : True\n",
      "Testing 6 if odd : False\n",
      "Testing 7 if odd : True\n",
      "Testing 246465 if odd : True\n",
      "Testing 4634650 if Even : True\n"
     ]
    }
   ],
   "source": [
    "# Test your solution here\n",
    "print(\"Testing 2 if Even :\", even(2))\n",
    "print(\"Testing 3 if Even :\", even(3))\n",
    "print(\"Testing 4 if Even :\", even(4))\n",
    "print(\"Testing 5 if odd :\", odd(5))\n",
    "print(\"Testing 6 if odd :\", odd(6))\n",
    "print(\"Testing 7 if odd :\", odd(7))\n",
    "print(\"Testing 246465 if odd :\", odd(246465))\n",
    "print(\"Testing 4634650 if Even :\", even(463460))"
   ]
  },
  {
   "cell_type": "code",
   "execution_count": 1,
   "metadata": {},
   "outputs": [],
   "source": [
    "#Exercise 2: Write a function that takes a list of numbers as input \n",
    "#and returns a list of the subset of elements that are less that 10\n",
    "# Write you solution here\n",
    "def less_than_ten(lst):\n",
    "    out_list = list()\n",
    "    for element in lst:\n",
    "        if element <10:\n",
    "            out_list.append(element)\n",
    "    return out_list\n",
    "    "
   ]
  },
  {
   "cell_type": "code",
   "execution_count": 2,
   "metadata": {},
   "outputs": [
    {
     "name": "stdout",
     "output_type": "stream",
     "text": [
      "[1, 3, 4, 5, 0, 2, 9, -45, -12, -7]\n"
     ]
    }
   ],
   "source": [
    "# Test your solution here\n",
    "print(less_than_ten([1,3,4,5,12,0,45,2,9,452,-45,-12,-7,56,123]))"
   ]
  },
  {
   "cell_type": "code",
   "execution_count": 5,
   "metadata": {},
   "outputs": [],
   "source": [
    "#Exercise 3: Write a function that takes a number x_max as input \n",
    "#and returns a function that performs the same task as exercise 2, \n",
    "#but for x_max instead of 10.\n",
    "# Write you solution here\n",
    "def less_than_xmax(lst):\n",
    "    x_max = max(lst)\n",
    "    out_list = list()\n",
    "    for element in lst:\n",
    "        if element <x_max:\n",
    "            out_list.append(element)\n",
    "    return out_list"
   ]
  },
  {
   "cell_type": "code",
   "execution_count": 6,
   "metadata": {},
   "outputs": [
    {
     "name": "stdout",
     "output_type": "stream",
     "text": [
      "[1, 3, 4, 5, 12, 0, 45, 2, 9, 452, -45, -12, -7, 56, 123]\n"
     ]
    }
   ],
   "source": [
    "# Test your solution here\n",
    "print(less_than_xmax([1,3,4,5,12,0,45,2,9,452,-45,-12,-7,56,123,1245]))"
   ]
  },
  {
   "cell_type": "code",
   "execution_count": null,
   "metadata": {},
   "outputs": [],
   "source": [
    "#Exercise 4: Write a function that takes an interger as input and returns a list of all divisors of that number.\n",
    "# Write you solution here\n",
    "def list_divisors(n) : \n",
    "    i = 1\n",
    "    divisor_list = list()\n",
    "    while i <= n : \n",
    "        if n % i==0 :\n",
    "            divisor_list.append(i)\n",
    "        i = i + 1\n",
    "    return divisor_list\n",
    "        "
   ]
  },
  {
   "cell_type": "code",
   "execution_count": null,
   "metadata": {},
   "outputs": [],
   "source": [
    "# Test your solution here\n",
    "print(list_divisors(10))\n",
    "print(list_divisors(100))"
   ]
  },
  {
   "cell_type": "code",
   "execution_count": 40,
   "metadata": {},
   "outputs": [],
   "source": [
    "#Exercise 5: Write a function that takes 2 lists as input \n",
    "#and returns a list that contains only the elements that are common between the lists (without duplicates). \n",
    "#Make sure your program works on two lists of different sizes.\n",
    "def common_list(lst1,lst2):\n",
    "    list_common = list()\n",
    "    for i in lst1:\n",
    "        if i in lst2 and i not in list_common:\n",
    "            list_common.append(i)\n",
    "    return list_common"
   ]
  },
  {
   "cell_type": "code",
   "execution_count": 45,
   "metadata": {},
   "outputs": [
    {
     "name": "stdout",
     "output_type": "stream",
     "text": [
      "[1, 2, 5, 6]\n",
      "[11, 454]\n"
     ]
    }
   ],
   "source": [
    "# Test your solution here\n",
    "print(common_list([1,2,4,5,6],[2,1,5,6,7,8,9]))\n",
    "print(common_list([11,52,454,554,6000],[1252,11245,587,454,11,9,14,78,98]))"
   ]
  },
  {
   "cell_type": "code",
   "execution_count": 36,
   "metadata": {},
   "outputs": [],
   "source": [
    "#Exercise 6: Write a function that reads takes a string and returns True if the string is a palindrome. \n",
    "#(A palindrome is a string that reads the same forwards and backwards.)\n",
    "# Write you solution here\n",
    "def isPalindrome(word):\n",
    "    rev_string = word[::-1]\n",
    "    if word == rev_string:\n",
    "        return True\n",
    "    else:\n",
    "        return False"
   ]
  },
  {
   "cell_type": "code",
   "execution_count": 38,
   "metadata": {},
   "outputs": [
    {
     "name": "stdout",
     "output_type": "stream",
     "text": [
      "True\n",
      "False\n",
      "False\n",
      "False\n",
      "True\n",
      "True\n"
     ]
    }
   ],
   "source": [
    "# Test your solution here\n",
    "print(isPalindrome(\"malayalam\"))\n",
    "print(isPalindrome(\"arifur\"))\n",
    "print(isPalindrome(\"mississippi\"))\n",
    "print(isPalindrome(\"america\"))\n",
    "print(isPalindrome(\"madam\"))\n",
    "print(isPalindrome(\"hannah\"))"
   ]
  },
  {
   "cell_type": "code",
   "execution_count": 3,
   "metadata": {},
   "outputs": [
    {
     "name": "stdout",
     "output_type": "stream",
     "text": [
      "\n",
      "Player 1 choose Rock, Paper or Scissors: paper\n",
      "Player 2 choose Rock, Paper or Scissors: rock\n",
      "\n",
      "Player-1 chose paper and The Player-2 chose rock. Player-1 wins the game.\n",
      "\n",
      "Player-1 wins: 1\n",
      "Player-2 wins: 0\n",
      "\n",
      "Do you want to play again? (y/n): y\n",
      "\n",
      "Player 1 choose Rock, Paper or Scissors: s\n",
      "Player 2 choose Rock, Paper or Scissors: s\n",
      "\n",
      "Player-1 chose scissors and The Player-2 chose scissors. You guys tied the game!!\n",
      "\n",
      "Player-1 wins: 1\n",
      "Player-2 wins: 0\n",
      "\n",
      "Since you tied the game, please play agin to win!!\n",
      "\n",
      "Player 1 choose Rock, Paper or Scissors: r\n",
      "Player 2 choose Rock, Paper or Scissors: s\n",
      "\n",
      "Player-1 chose rock and The Player-2 chose scissors. Player-1 wins the game.\n",
      "\n",
      "Player-1 wins: 2\n",
      "Player-2 wins: 0\n",
      "\n",
      "Do you want to play again? (y/n): n\n",
      "Thanks for Playing, Have a good time!!\n"
     ]
    }
   ],
   "source": [
    "#Exercise 7: Write a Rock-Paper-Scissors game function, that takes 2 strings, the inputs of player 1 and player 2, \n",
    "#and output 1 or 2 corresponding to which player wins, or 0 if draw.\n",
    "#Implement a Rock-Paper-Scissors game by soliciting input from 2 players, testing with this function, \n",
    "#and repeating if there is a draw.\n",
    "#Remember the rules: Rock beats scissors; Scissors beats paper; Paper beats rock\n",
    "\n",
    "# Write you solution here\n",
    "\n",
    "player_1 = 0\n",
    "player_2 = 0\n",
    "\n",
    "def Player1_Option():\n",
    "    player_1_choice = input(\"Player 1 choose Rock, Paper or Scissors: \")\n",
    "    if player_1_choice in [\"Rock\", \"rock\", \"r\", \"R\"]:\n",
    "        player_1_choice = \"r\"\n",
    "    elif player_1_choice in [\"Paper\", \"paper\", \"p\", \"P\"]:\n",
    "        player_1_choice = \"p\"\n",
    "    elif player_1_choice in [\"Scissors\", \"scissors\", \"s\", \"S\"]:\n",
    "        player_1_choice = \"s\"\n",
    "    else:\n",
    "        print(\"I don't understand your choice, Please try again!!\")\n",
    "        Player1_Option()\n",
    "    return player_1_choice\n",
    "\n",
    "def Player2_Option():\n",
    "    player_2_choice = input(\"Player 2 choose Rock, Paper or Scissors: \")\n",
    "    if player_2_choice in [\"Rock\", \"rock\", \"r\", \"R\"]:\n",
    "        player_2_choice = \"r\"\n",
    "    elif player_2_choice in [\"Paper\", \"paper\", \"p\", \"P\"]:\n",
    "        player_2_choice = \"p\"\n",
    "    elif player_2_choice in [\"Scissors\", \"scissors\", \"s\", \"S\"]:\n",
    "        player_2_choice = \"s\"\n",
    "    else:\n",
    "        print(\"I don't get you, Please try again!!\")\n",
    "        Player2_Option()\n",
    "    return player_2_choice\n",
    "\n",
    "\n",
    "while True:\n",
    "    print(\"\")\n",
    "    \n",
    "    player_1_choice = Player1_Option()\n",
    "    player_2_choice = Player2_Option()\n",
    "\n",
    "    print(\"\")\n",
    "    \n",
    "    if player_1_choice == \"r\":\n",
    "        if player_2_choice == \"r\":\n",
    "            print(\"Player-1 chose rock and The Player-2 chose also rock. You guys tied the game!!\")\n",
    "        \n",
    "        elif player_2_choice == \"p\":\n",
    "            print(\"Player-1 chose rock and The Player-2 chose paper. Player-1 lose the game.\")\n",
    "            player_2 += 1\n",
    "            \n",
    "        elif player_2_choice == \"s\":\n",
    "            print(\"Player-1 chose rock and The Player-2 chose scissors. Player-1 wins the game.\")\n",
    "            player_1 += 1\n",
    "\n",
    "    elif player_1_choice == \"p\":\n",
    "        if player_2_choice == \"r\":\n",
    "            print(\"Player-1 chose paper and The Player-2 chose rock. Player-1 wins the game.\")\n",
    "            player_1 += 1\n",
    "        \n",
    "        elif player_2_choice == \"p\":\n",
    "            print(\"Player-1 chose paper and The Player-2 chose paper. You guys tied the game!!\")\n",
    "            \n",
    "            \n",
    "        elif player_2_choice == \"s\":\n",
    "            print(\"Player-1 chose paper and The Player-2 chose scissors. Player-1 lose the game.\")\n",
    "            player_2 += 1\n",
    "\n",
    "    elif player_1_choice == \"s\":\n",
    "        if player_2_choice == \"r\":\n",
    "            print(\"Player-1 chose scissors and The Player-2 chose rock. Player-1 lose the game.\")\n",
    "            player_2 += 1\n",
    "        \n",
    "        elif player_2_choice == \"p\":\n",
    "            print(\"Player-1 chose scissors and The Player-2 chose paper. Player-1 wins the game.\")\n",
    "            player_1 += 1\n",
    "            \n",
    "        elif player_2_choice == \"s\":\n",
    "            print(\"Player-1 chose scissors and The Player-2 chose scissors. You guys tied the game!!\")\n",
    "\n",
    "    print(\"\")\n",
    "    print(\"Player-1 wins: \" + str(player_1))\n",
    "    print(\"Player-2 wins: \" + str(player_2))\n",
    "    print(\"\")\n",
    "    \n",
    "    if player_1_choice == player_2_choice:\n",
    "        print(\"Since you tied the game, please play agin to win!!\")\n",
    "        pass\n",
    "    else:\n",
    "        player_1_choice = input(\"Do you want to play again? (y/n): \")\n",
    "        if player_1_choice in [\"Y\", \"y\", \"yes\", \"Yes\"]:\n",
    "            pass\n",
    "        elif player_1_choice in [\"N\", \"n\", \"no\", \"No\"]:\n",
    "            print(\"Thanks for Playing, Have a good time!!\")\n",
    "            break\n",
    "    \n"
   ]
  },
  {
   "cell_type": "code",
   "execution_count": 46,
   "metadata": {},
   "outputs": [],
   "source": [
    "#Exercise 8: Write a function that takes a integer n as input and outputs a list of the first n Fibonnaci numbers.\n",
    "# Write you solution here\n",
    "def fibonnaci(n):\n",
    "    fibonnaci_list = list()\n",
    "    p = 0\n",
    "    q = 1\n",
    "    if n <=0:\n",
    "        print(\"Fibonnaci is not possible\")\n",
    "    elif n ==1:\n",
    "            fibonnaci_list.append(p)\n",
    "    elif n >= 2:\n",
    "        fibonnaci_list.append(p)\n",
    "        fibonnaci_list.append(q)\n",
    "      \n",
    "        for i in range(2,n):\n",
    "            r = p + q\n",
    "            p = q\n",
    "            q = r\n",
    "            #print(\",{}\".format(r),end=\"\")\n",
    "            fibonnaci_list.append(r)\n",
    "    return fibonnaci_list\n"
   ]
  },
  {
   "cell_type": "code",
   "execution_count": 49,
   "metadata": {},
   "outputs": [
    {
     "data": {
      "text/plain": [
       "[0, 1, 1, 2, 3, 5, 8, 13, 21, 34]"
      ]
     },
     "execution_count": 49,
     "metadata": {},
     "output_type": "execute_result"
    }
   ],
   "source": [
    "# Test your solution here\n",
    "#fibonnaci(-10)\n",
    "#fibonnaci(0)\n",
    "fibonnaci(10)\n",
    "#fibonnaci(15)\n"
   ]
  },
  {
   "cell_type": "code",
   "execution_count": 64,
   "metadata": {},
   "outputs": [],
   "source": [
    "#Exercise 9: Write a function that takes a string of consisting of several words \n",
    "#and returns a string that reverses the order of the words.\n",
    "# Write you solution here\n",
    "def reverse_words(word_list):\n",
    "    reversed_list = list()\n",
    "    word_list.reverse()\n",
    "    reversed_list.append(word_list)\n",
    "    return reversed_list\n"
   ]
  },
  {
   "cell_type": "code",
   "execution_count": 70,
   "metadata": {},
   "outputs": [
    {
     "data": {
      "text/plain": [
       "[['Banna', 'Almod', 'Orange', 'Pineapple', 'Mango', 'Apple']]"
      ]
     },
     "execution_count": 70,
     "metadata": {},
     "output_type": "execute_result"
    }
   ],
   "source": [
    "# Test your solution here\n",
    "reverse_words([\"Apple\", \"Mango\", \"Pineapple\", \"Orange\",\"Almod\",\"Banna\"])\n",
    "#reverse_words([\"Arif\", \"Nabin\", \"Dr. Eapi\", \"Vaghef\",\"Ali\",\"Ann\",\"Helia\",\"Farhad\", \"Fahad\",\"Babak\",\"Rahman\"])"
   ]
  },
  {
   "cell_type": "code",
   "execution_count": 2,
   "metadata": {},
   "outputs": [
    {
     "name": "stdout",
     "output_type": "stream",
     "text": [
      "Hello! What is your name?\n",
      "Arif\n",
      "Well, Arif, I am thinking of a number between 1 and 20.\n",
      "Take a guess.\n",
      "9\n",
      "Your guess is too low.\n",
      "Take a guess.\n",
      "12\n",
      "Your guess is too high.\n",
      "Take a guess.\n",
      "10\n",
      "Good job, Arif! You guessed my number in 3 guesses!\n"
     ]
    }
   ],
   "source": [
    "#Exercise 10: Write a guessing game program that will repeatedly guess a number that the users picks,\n",
    "#with the user indicating higher or lower, until it correctly guesses the number.\n",
    "# Write you solution here\n",
    "import random\n",
    "guessesTaken = 0\n",
    "print('Hello! What is your name?')\n",
    "myName = input()\n",
    "number = random.randint(1, 20)\n",
    "print('Well, ' + myName + ', I am thinking of a number between 1 and 20.')\n",
    "\n",
    "while guessesTaken < 6:\n",
    "    print('Take a guess.')\n",
    "    guess = input()\n",
    "    guess = int(guess)\n",
    "    guessesTaken = guessesTaken + 1\n",
    "\n",
    "    if guess < number:\n",
    "        print('Your guess is too low.') # There are eight spaces in front of print.\n",
    "\n",
    "    if guess > number:\n",
    "        print('Your guess is too high.')\n",
    "\n",
    "    if guess == number:\n",
    "        break\n",
    "if guess == number:\n",
    "    guessesTaken = str(guessesTaken)\n",
    "    print('Good job, ' + myName + '! You guessed my number in ' + guessesTaken + ' guesses!')\n",
    "\n",
    "if guess != number:\n",
    "    number = str(number)\n",
    "    print('Nope. The number I was thinking of was ' + number)"
   ]
  },
  {
   "cell_type": "code",
   "execution_count": null,
   "metadata": {},
   "outputs": [],
   "source": [
    "# Test your solution here"
   ]
  }
 ],
 "metadata": {
  "kernelspec": {
   "display_name": "Python 3",
   "language": "python",
   "name": "python3"
  },
  "language_info": {
   "codemirror_mode": {
    "name": "ipython",
    "version": 3
   },
   "file_extension": ".py",
   "mimetype": "text/x-python",
   "name": "python",
   "nbconvert_exporter": "python",
   "pygments_lexer": "ipython3",
   "version": "3.7.4"
  }
 },
 "nbformat": 4,
 "nbformat_minor": 2
}
