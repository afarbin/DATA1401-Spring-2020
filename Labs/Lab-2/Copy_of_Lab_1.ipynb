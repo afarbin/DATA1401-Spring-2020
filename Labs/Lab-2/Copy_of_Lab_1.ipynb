{
  "nbformat": 4,
  "nbformat_minor": 0,
  "metadata": {
    "kernelspec": {
      "name": "python3",
      "display_name": "Python 3"
    },
    "colab": {
      "name": "Copy of Lab-1.ipynb",
      "provenance": [],
      "collapsed_sections": [],
      "toc_visible": true
    }
  },
  "cells": [
    {
      "cell_type": "markdown",
      "metadata": {
        "id": "O5vg8KKRq0sy",
        "colab_type": "text"
      },
      "source": [
        "# Lab 1\n",
        "\n",
        "## Python Notebooks on Google Colab\n",
        "\n",
        "Data 1401's Labs, Homework, and Exams will be all in form of iPython notebooks. You may already be familiar with python notebooks if you have used Jupyter before, for example in Data 1301. If so, you are welcome to use whatever means you have to run Jupyter notebooks for this course, though you may get limited support. Our primary means of running python notebooks will be through [Google Colab](https://colab.research.google.com) and we will be storing files on google drive.\n",
        "\n",
        "You will need a google account. If you do not have one or you wish to use a different account for this course, please follow [these instructions](https://edu.gcfglobal.org/en/googledriveanddocs/getting-started-with-google-drive/1/) to make an account.\n",
        "\n",
        "Once you are ready with your account, you can continue in Colab. Click on the following badge to open this notebook in Colab:\n",
        "\n",
        "[![Open In Colab](https://colab.research.google.com/assets/colab-badge.svg)](https://colab.research.google.com/github//afarbin/DATA1401-Spring-2020/blob/master/Labs/Lab-1/Lab-1.ipynb)\n"
      ]
    },
    {
      "cell_type": "code",
      "metadata": {
        "id": "guur-Rduodta",
        "colab_type": "code",
        "colab": {}
      },
      "source": [
        ""
      ],
      "execution_count": 0,
      "outputs": []
    },
    {
      "cell_type": "markdown",
      "metadata": {
        "id": "FVt_1hPt1dAK",
        "colab_type": "text"
      },
      "source": [
        "## Notebooks in Colab\n",
        "\n",
        "You now are presumably in Colab. Word of caution, by default, Google Colab does not save your notebooks, so if you close your session, you will loose your work.\n",
        "\n",
        "So first thing: from the file menu above select \"Save a copy in Drive\"."
      ]
    },
    {
      "cell_type": "markdown",
      "metadata": {
        "id": "x0JBL_RFrDDj",
        "colab_type": "text"
      },
      "source": [
        "## Storing Notebooks in Google Drive\n",
        "A better way to work is to save your notebooks directly into Google Drive and upload directly to Git (where you will be downloading and uploading your homework). In order properly setup Git, we'll need to work more directly in your Google Drive.\n",
        "\n",
        "On the left sidebar, press the file icon to see a listing of files accessibile to this Notebook. Then press \"Mount Drive\" and follow the instructions to mount your Google Drive in this notebook. A new cell will be inserted into this notebook, which after you run by pressing the play button will instruct you to follow a link to log into your Google Account and enable access to your Drive in another tab. Finally you will copy a link from the new tab back into the cell in this notebook. Once you are done, press refresh under files in the left sidebar and you should have \"drive/My Drive\" appear."
      ]
    },
    {
      "cell_type": "markdown",
      "metadata": {
        "id": "hwJ6wJk3tiLv",
        "colab_type": "text"
      },
      "source": [
        "## Github\n",
        "All the class material will be stored on github. You will also submit your homework using github. To do so, you will need a github account.\n",
        "\n",
        "If you do not already have a github account or wish to create a new one for this course, create one:\n",
        "* Browse to [github.com](https://github.com).\n",
        "* Click the green “Sign up for GitHub”\tbutton.\n",
        "* Follow instructions for creating an account.\n",
        "* Make sure you remember your github username and password.\n",
        "\n",
        "Write an email to the course TA titled \"Data 1401: Github account\" with your github username (not your password) as the contents.\n",
        "\n",
        "## Google Groups\n",
        "\n",
        "Class annoucements will be made via google groups. If you did not already receive an invite to the class google group, had trouble with the invite, or wish to use a different email address, write an email to the course TA titled \"Data 1401: Google Group\" with your preferred email.\n"
      ]
    },
    {
      "cell_type": "markdown",
      "metadata": {
        "id": "TjfIzdQZqvzk",
        "colab_type": "text"
      },
      "source": [
        "## Introduction: Unix, Git, and Jupyter\n",
        "\n",
        "This lab aims to introduce you to basic Unix, familiarize you with iPython notebooks and get you setup to submit your homework.\n",
        "*italicized text*"
      ]
    },
    {
      "cell_type": "markdown",
      "metadata": {
        "id": "C_LmOgzFqvzp",
        "colab_type": "text"
      },
      "source": [
        "\n",
        "\n",
        "### Terminal, Shell, and ssh\n",
        "\n",
        "\n",
        "The terminal is a simple program that generally runs another program, taking mostly keyboard input from you, passing it to this other program, and taking the output of the program and displaying on the screen for you.\n",
        "\n",
        "The terminal usually runs a program called a shell. Shells present a command prompt where you can type in commands, which are then executed when you press enter. In most shells, there are some special commands which the shell will execute. Everything else you type in, the shell will assume is a name of a program you want to run and arguments you want to pass that program. So if the shell doesn't recognize something you type in, it'll try to find a program with a name that is the same as the first word you gave it. \n",
        "\n",
        "### Shell in Colab\n",
        "\n",
        "Unfortunately, google Colab does not allow you to open a terminal window. Jupyter does, so if you are running in Jupyter (which most of you will not be), you may choose to open a terminal window by returning to the jupyter file list tab and selecting new terminal from the top right.\n",
        "\n",
        "For Colab, we will have to do something non-ideal, but functional. There are several ways to execute shell commands from within a python notebook. For example, you can use any shell command by putting \"!\" in front of the command:\n",
        "\n",
        "\n",
        "\n"
      ]
    },
    {
      "cell_type": "code",
      "metadata": {
        "id": "KJ5f-WO0wcAv",
        "colab_type": "code",
        "colab": {
          "base_uri": "https://localhost:8080/",
          "height": 106
        },
        "outputId": "fa03c8bc-9edc-4239-c987-fbdb4a495b3a"
      },
      "source": [
        "!ls\n",
        "!echo \"----------\"\n",
        "!ls sample_data"
      ],
      "execution_count": 1,
      "outputs": [
        {
          "output_type": "stream",
          "text": [
            "sample_data\n",
            "----------\n",
            "anscombe.json\t\t      mnist_test.csv\n",
            "california_housing_test.csv   mnist_train_small.csv\n",
            "california_housing_train.csv  README.md\n"
          ],
          "name": "stdout"
        }
      ]
    },
    {
      "cell_type": "markdown",
      "metadata": {
        "id": "8f-n4AXFw-dD",
        "colab_type": "text"
      },
      "source": [
        "Unfortunately, every time you use \"!\" a new environment is created and the state reverted to the original state. Try to understand the difference between the following two sets of commands:\n"
      ]
    },
    {
      "cell_type": "code",
      "metadata": {
        "id": "99nrBYTWxZJr",
        "colab_type": "code",
        "colab": {
          "base_uri": "https://localhost:8080/",
          "height": 71
        },
        "outputId": "93bd66ee-8b16-41f4-82ec-ff3a0ef859af"
      },
      "source": [
        "!echo \"Technique 1:\"\n",
        "!ls\n",
        "!cd sample_data\n",
        "!ls"
      ],
      "execution_count": 2,
      "outputs": [
        {
          "output_type": "stream",
          "text": [
            "Technique 1:\n",
            "sample_data\n",
            "sample_data\n"
          ],
          "name": "stdout"
        }
      ]
    },
    {
      "cell_type": "code",
      "metadata": {
        "id": "2-Znf97Lxl-Z",
        "colab_type": "code",
        "colab": {
          "base_uri": "https://localhost:8080/",
          "height": 106
        },
        "outputId": "c583a8a8-3ddb-425a-cb4b-fbea5ea61226"
      },
      "source": [
        "!echo \"Technique 2:\"\n",
        "!ls ; cd sample_data ;ls"
      ],
      "execution_count": 3,
      "outputs": [
        {
          "output_type": "stream",
          "text": [
            "Technique 2:\n",
            "sample_data\n",
            "anscombe.json\t\t      mnist_test.csv\n",
            "california_housing_test.csv   mnist_train_small.csv\n",
            "california_housing_train.csv  README.md\n"
          ],
          "name": "stdout"
        }
      ]
    },
    {
      "cell_type": "markdown",
      "metadata": {
        "id": "4x9n1rAkxyYl",
        "colab_type": "text"
      },
      "source": [
        "Notebooks allow a bit of \"magic\" (using \"%\") to avoid some of these limitations:\n"
      ]
    },
    {
      "cell_type": "code",
      "metadata": {
        "id": "vLBPTX4rx3gd",
        "colab_type": "code",
        "colab": {
          "base_uri": "https://localhost:8080/",
          "height": 124
        },
        "outputId": "04476fc8-9ce6-4023-daa0-dc82926f434b"
      },
      "source": [
        "!echo \"Technique 3:\"\n",
        "!ls \n",
        "%cd sample_data \n",
        "!ls"
      ],
      "execution_count": 4,
      "outputs": [
        {
          "output_type": "stream",
          "text": [
            "Technique 3:\n",
            "sample_data\n",
            "/content/sample_data\n",
            "anscombe.json\t\t      mnist_test.csv\n",
            "california_housing_test.csv   mnist_train_small.csv\n",
            "california_housing_train.csv  README.md\n"
          ],
          "name": "stdout"
        }
      ]
    },
    {
      "cell_type": "code",
      "metadata": {
        "id": "a0V_wt5uQwvQ",
        "colab_type": "code",
        "colab": {}
      },
      "source": [
        "!/bin/bash --noediting"
      ],
      "execution_count": 0,
      "outputs": []
    },
    {
      "cell_type": "markdown",
      "metadata": {
        "id": "U8XpvPjcyH0w",
        "colab_type": "text"
      },
      "source": [
        "For our purposes, we are just going to explicitly start a new shell and interact with it in the output cell. Execute the following cell. You will be able to type and execute commands. Look around a bit using \"ls\" and \"cd. You can stop the cell from running by typing \"exit\"."
      ]
    },
    {
      "cell_type": "markdown",
      "metadata": {
        "id": "q-4hfZBywW25",
        "colab_type": "text"
      },
      "source": [
        "While in this instance your shell is running in a this notebook, you can also run terminals natively on your own computer. On Linux or MacOS, you just have to run a program called terminal. In Windows you can start a \"command prompt\". \n",
        "\n",
        "\n",
        "Type in \"ls\" into the terminal and press enter. The shell will find a program called \"ls\", a standard tool in Unix, and run it. \"ls\" lists the contents (files and directories) of your current directory. If you are just starting in this course, you probably only see the git repository you cloned. \n",
        "\n",
        "A subtle point to realize here is that while the terminal is running in the browser that is running on the computer in front of you, the shell is actually running on a machine on google hardware. The shell prompt typically displays the name of the machine you are using. What you are not seeing is that there is an intermidate program between the terminal running on your computer and the shell running on google. This intermidary program is taking your input from the terminal sending it over the network to google and bringing back the responses for you terminal to display.\n",
        "\n",
        "A bit of extra information. If you start a terminal on your own computer, the shell runs locally. The \"ls\" command would then list contents of a directory on your computer. You can typically connect to Unix computers by evoking a shell running on that machine over the network. In this case, you would have to initiate this intermidiary program yourself. The program is called \"ssh\" (secure shell). You can \"ssh\" to another machine from your machine, by simply typing \"ssh\" followed by the machine name or IP address. Most likely you would be prompted for a password, after which you would dropped into the prompt of a shell running on the remote machine. \n"
      ]
    },
    {
      "cell_type": "markdown",
      "metadata": {
        "id": "51Eya4LBqvzs",
        "colab_type": "text"
      },
      "source": [
        "## Programs and Environment Variables\n",
        "\n",
        "You have a listing of your current directory, but you don't know where that directory resides. You can see what directory you are using the command \"pwd\" (print working directory). Issue the command and look at the response. You'll get a slash (\"/\") separated list, known as the path, of the directory hierarchy of your current working directory. On Colab, this will start with \"contents\"\n",
        "\n",
        "Now back to thinking about the command prompt. Since \"ls\" is a program, it most be stored somewhere. It is clearly not in your working directory, because you didn't see it when you executed \"ls\". We can ask the shell to tell us where it found \"ls\" using the \"which ls\" command. Note that \"which\" is also a program. \"which ls\" comes back with \"/bin/ls\", telling you the \"ls\" program is sitting in \"/bin\" directory of the system. \n",
        "\n",
        "Lets see what else is in there by issuing a \"ls /bin\" command. You will get a long list of programs. You can run any of these programs by just typing their names and pressing enter. You may be able to guess what some of these programs do, but if you want to know, most of them provide you help, using \"--help\" or \"-h\" flag. For example execute \"ls --help\". For more information about a program or command, you can use Unix's manual pages using the \"man\" command. Try typing \"man ls\". Note that you will need to press space to scroll through lengthy manual pages and \"q\" to exit back to the shell prompt. \n",
        "\n",
        "Another command interesting is \"echo\". \"echo\" simply prints whatever you put after it to the screen. Try executing \"echo Hello World.\"\n",
        "\n",
        "At this point, you may wonder how was it that the shell knew to look for programs in \"/bin\"? The shell keeps a list of places to look for programs an environment variable with the name \"PATH\". The shell keeps a table that map string variable names to string expressions. When the shell starts, its configuration files set some environment variables that it uses. You can see the full list of defined environment variables using the command \"printenv\".\n",
        "\n",
        "You can use a environment variable in a shell by prepending name of the variable with a dollar sign character (\"\\$\"). So you can print out the PATH environment variable using the command \"echo $PATH\". What you will see is a colon (\":\") separated list of directories that the shell will search (in order) whenever you type in anything.\n",
        "\n",
        "You can set you own environment variables. Different shells have different syntax. Lets first figure out what shell we are running. \n",
        "\n",
        "*Exercise 1:* Use the \"echo\" command to print out the value of the \"SHELL\" environment variable:"
      ]
    },
    {
      "cell_type": "code",
      "metadata": {
        "id": "5soC4JWQJ9G2",
        "colab_type": "code",
        "colab": {
          "base_uri": "https://localhost:8080/",
          "height": 35
        },
        "outputId": "3adab65f-fe50-4774-d61a-7b68ba8780a9"
      },
      "source": [
        "!echo $SHELL"
      ],
      "execution_count": 17,
      "outputs": [
        {
          "output_type": "stream",
          "text": [
            "/bin/bash\n"
          ],
          "name": "stdout"
        }
      ]
    },
    {
      "cell_type": "markdown",
      "metadata": {
        "id": "YS7YFiPwqvzu",
        "colab_type": "text"
      },
      "source": [
        "!/bin/bash --noediting"
      ]
    },
    {
      "cell_type": "markdown",
      "metadata": {
        "id": "YoEgruUhqvzw",
        "colab_type": "text"
      },
      "source": [
        "## Navigating Directories\n",
        "\n",
        "You can change your current directory using the \"cd\" shell command. Note that \"cd\" is not a Unix program. Once in a directory, you can use the \"ls\" command to list the contents or \"pwd\" to remind yourself your current working directory. You can move back one level in your current directory hierarchy using \"cd ..\". In general \"..\" represents the path to a directory one level above your current directory, \"../..\" represents two levels up, and so on. \".\" represents the current directory. If you look at the PATH environment variable, you'll notice that the last item is \".\", telling the shell to look into your current directory for commands. Finally the \"~\" character always refers to your home directory.\n",
        "\n",
        "Some other file manipulation commands:\n",
        "\n",
        "   - The \"mkdir\" command creates new directories. \n",
        "   - \"cp\" and \"mv\" allow you to copy and move (or rename) files, taking 2 arguments: the original path/filename and the target path/filename.  \n",
        "   - The \"rm\" and \"rmdir\" commands remove (delete) files and directories.\n",
        "\n",
        "\n",
        "*Exercise 2:* Using the \"cd\" command, navigate into \"drive/My\\ Drive\" directory. Create a new directory called \"Data-1441\", and another directory inside \"Data-1441\" called \"Lab-1-Solutions\". Perform the rest of the lab in this directory."
      ]
    },
    {
      "cell_type": "code",
      "metadata": {
        "id": "gSTrLpwcSLGr",
        "colab_type": "code",
        "colab": {}
      },
      "source": [
        "!/bin/bash --noediting"
      ],
      "execution_count": 0,
      "outputs": []
    },
    {
      "cell_type": "code",
      "metadata": {
        "id": "jZgVG-6hSEdL",
        "colab_type": "code",
        "colab": {
          "base_uri": "https://localhost:8080/",
          "height": 126
        },
        "outputId": "bd66f690-cef5-43d1-97e1-f1a1c04e6177"
      },
      "source": [
        "from google.colab import drive\n",
        "drive.mount('/content/drive')"
      ],
      "execution_count": 19,
      "outputs": [
        {
          "output_type": "stream",
          "text": [
            "Go to this URL in a browser: https://accounts.google.com/o/oauth2/auth?client_id=947318989803-6bn6qk8qdgf4n4g3pfee6491hc0brc4i.apps.googleusercontent.com&redirect_uri=urn%3aietf%3awg%3aoauth%3a2.0%3aoob&response_type=code&scope=email%20https%3a%2f%2fwww.googleapis.com%2fauth%2fdocs.test%20https%3a%2f%2fwww.googleapis.com%2fauth%2fdrive%20https%3a%2f%2fwww.googleapis.com%2fauth%2fdrive.photos.readonly%20https%3a%2f%2fwww.googleapis.com%2fauth%2fpeopleapi.readonly\n",
            "\n",
            "Enter your authorization code:\n",
            "··········\n",
            "Mounted at /content/drive\n"
          ],
          "name": "stdout"
        }
      ]
    },
    {
      "cell_type": "code",
      "metadata": {
        "id": "nzqj2-ahKPWl",
        "colab_type": "code",
        "colab": {
          "base_uri": "https://localhost:8080/",
          "height": 1000
        },
        "outputId": "29c58201-02a3-4712-ec13-2dbf6d17d112"
      },
      "source": [
        "!/bin/bash --noediting"
      ],
      "execution_count": 20,
      "outputs": [
        {
          "output_type": "stream",
          "text": [
            "bash: cannot set terminal process group (123): Inappropriate ioctl for device\n",
            "bash: no job control in this shell\n",
            "\u001b]0;root@4a3f943c3636: /content/sample_data\u0007\u001b[01;32mroot@4a3f943c3636\u001b[00m:\u001b[01;34m/content/sample_data\u001b[00m# ls\n",
            "\u001b[0m\u001b[01;32manscombe.json\u001b[0m                 \u001b[01;34mData-1441\u001b[0m                 mnist_train_small.csv\n",
            "california_housing_test.csv   favorite-colors-list.txt  \u001b[01;32mREADME.md\u001b[0m\n",
            "california_housing_train.csv  mnist_test.csv\n",
            "\u001b]0;root@4a3f943c3636: /content/sample_data\u0007\u001b[01;32mroot@4a3f943c3636\u001b[00m:\u001b[01;34m/content/sample_data\u001b[00m# cd ..\n",
            "\u001b]0;root@4a3f943c3636: /content\u0007\u001b[01;32mroot@4a3f943c3636\u001b[00m:\u001b[01;34m/content\u001b[00m# ls\n",
            "\u001b[0m\u001b[01;34mdrive\u001b[0m  \u001b[01;34msample_data\u001b[0m\n",
            "\u001b]0;root@4a3f943c3636: /content\u0007\u001b[01;32mroot@4a3f943c3636\u001b[00m:\u001b[01;34m/content\u001b[00m# cd drive\n",
            "\u001b]0;root@4a3f943c3636: /content/drive\u0007\u001b[01;32mroot@4a3f943c3636\u001b[00m:\u001b[01;34m/content/drive\u001b[00m# ls\n",
            "\u001b[0m\u001b[01;34m'My Drive'\u001b[0m\n",
            "\u001b]0;root@4a3f943c3636: /content/drive\u0007\u001b[01;32mroot@4a3f943c3636\u001b[00m:\u001b[01;34m/content/drive\u001b[00m# cd My\\Drive\n",
            "bash: cd: MyDrive: No such file or directory\n",
            "\u001b]0;root@4a3f943c3636: /content/drive\u0007\u001b[01;32mroot@4a3f943c3636\u001b[00m:\u001b[01;34m/content/drive\u001b[00m# ls\n",
            "\u001b[0m\u001b[01;34m'My Drive'\u001b[0m\n",
            "\u001b]0;root@4a3f943c3636: /content/drive\u0007\u001b[01;32mroot@4a3f943c3636\u001b[00m:\u001b[01;34m/content/drive\u001b[00m# cd /My\\ Drive\n",
            "bash: cd: /My Drive: No such file or directory\n",
            "\u001b]0;root@4a3f943c3636: /content/drive\u0007\u001b[01;32mroot@4a3f943c3636\u001b[00m:\u001b[01;34m/content/drive\u001b[00m# cd ..\n",
            "\u001b]0;root@4a3f943c3636: /content\u0007\u001b[01;32mroot@4a3f943c3636\u001b[00m:\u001b[01;34m/content\u001b[00m# ls\n",
            "\u001b[0m\u001b[01;34mdrive\u001b[0m  \u001b[01;34msample_data\u001b[0m\n",
            "\u001b]0;root@4a3f943c3636: /content\u0007\u001b[01;32mroot@4a3f943c3636\u001b[00m:\u001b[01;34m/content\u001b[00m# cd drive/My\\ Drive\n",
            "\u001b]0;root@4a3f943c3636: /content/drive/My Drive\u0007\u001b[01;32mroot@4a3f943c3636\u001b[00m:\u001b[01;34m/content/drive/My Drive\u001b[00m# mkdir Data-1441\n",
            "\u001b]0;root@4a3f943c3636: /content/drive/My Drive\u0007\u001b[01;32mroot@4a3f943c3636\u001b[00m:\u001b[01;34m/content/drive/My Drive\u001b[00m# ls\n",
            " 010-CV_BRTC-Arif-2017.docx\n",
            " \u001b[0m\u001b[01;35m20170317_112443.jpg\u001b[0m\n",
            " \u001b[01;35m20180221_110637.jpg\u001b[0m\n",
            " 6-15_math-bangla.pdf\n",
            "'Application Form.pdf'\n",
            " \u001b[01;34mApplication_USA\u001b[0m\n",
            "\u001b[01;34m'Arif-M.Sc Presentation'\u001b[0m\n",
            "'Arif_Pad (1).docx'\n",
            " Arif_Pad.docx\n",
            "\u001b[01;34m'Auto Call Recorder'\u001b[0m\n",
            "'BD map.gmap'\n",
            " \u001b[01;34mBirthday_Aishy\u001b[0m\n",
            " \u001b[01;34mBRTC_Secretary\u001b[0m\n",
            " \u001b[01;35mBUET.png\u001b[0m\n",
            " \u001b[01;34mBUGS_Secretary\u001b[0m\n",
            "\u001b[01;34m'Car Ownership Transfer'\u001b[0m\n",
            "\u001b[01;34m'Colab Notebooks'\u001b[0m\n",
            " \u001b[01;34mConvener\u001b[0m\n",
            "'CV_Academic_ Arif.pdf'\n",
            " CV_BRTC-Arif.doc\n",
            " \u001b[01;34mData-1441\u001b[0m\n",
            " \u001b[01;34mDelft3D_manuals\u001b[0m\n",
            " document.pdf\n",
            " \u001b[01;35mdr-ferdousi-islam-lipi_70_1.jpg\u001b[0m\n",
            "\u001b[01;34m'Duncan Brothers Ltd'\u001b[0m\n",
            "\u001b[01;34m'Earthquake Assignment'\u001b[0m\n",
            " \u001b[01;34mEbook\u001b[0m\n",
            " \u001b[01;34mE_Flow_Gorai\u001b[0m\n",
            "\u001b[01;34m'Ehsan Vai'\u001b[0m\n",
            " \u001b[01;34mEnglish_Learning\u001b[0m\n",
            " excel.pdf\n",
            " ex_routine_final.pdf\n",
            " Final_List_of_Group_A_House_05.02.2017.xls\n",
            " Flow_Duration_Tutorial_DL_File.xls\n",
            " folder-lock-en.exe\n",
            "\u001b[01;34m'For Sheola Hydrology expert'\u001b[0m\n",
            "\u001b[01;34m'From Dropbox'\u001b[0m\n",
            " \u001b[01;34mGeoSWMM\u001b[0m\n",
            " \u001b[01;34mGIS\u001b[0m\n",
            "\u001b[01;34m'Google Photos'\u001b[0m\n",
            "\u001b[01;34m'GPS Data Extraction'\u001b[0m\n",
            " Grade_Sheet_Preparation.xlsx\n",
            " \u001b[01;34mGRE_Triumph\u001b[0m\n",
            " \u001b[01;34mHEC-Soft\u001b[0m\n",
            " \u001b[01;34mHEQEP\u001b[0m\n",
            " house_allotment_A.pdf\n",
            "'Invitation List for Marriage Ceremony.docx'\n",
            " Item_Nuffic_PnD.docx\n",
            "\u001b[01;34m'January 15 Term'\u001b[0m\n",
            "\u001b[01;34m'January 16 Term'\u001b[0m\n",
            "\u001b[01;34m'January 17 Term'\u001b[0m\n",
            "\u001b[01;34m'January 18 Term'\u001b[0m\n",
            " \u001b[01;34mJFCL\u001b[0m\n",
            " \u001b[01;34mJFCL_Visit\u001b[0m\n",
            "\u001b[01;34m'July 14 Term'\u001b[0m\n",
            "\u001b[01;34m'July 15 Term'\u001b[0m\n",
            "\u001b[01;34m'July 16 Term'\u001b[0m\n",
            "\u001b[01;34m'July 17 Term'\u001b[0m\n",
            "\u001b[01;34m'July 18 Term'\u001b[0m\n",
            " \u001b[01;34mKaharole_Bridge\u001b[0m\n",
            "\u001b[01;34m'Lab Sheet'\u001b[0m\n",
            "\u001b[01;34m'Learn Excel'\u001b[0m\n",
            " LinearScalingBiasCorrectionV.1.0.xlsx\n",
            " MAC_Collect_Notice.pdf\n",
            " Map.docx\n",
            "\u001b[01;34m'Matagorda_HMS Model'\u001b[0m\n",
            "'Meal Calculation Arifur Rahman (July 1-15) 2016.xlsx'\n",
            " Minutes_BUGS_WRE_BUET.pdf\n",
            "'MSc admission April 2017 Semester (Equivalence).xlsx'\n",
            "'M.Sc. Engg. Admission April 2017 (Degree Equivalence).docx'\n",
            " M.Sc_WRE_6501.pdf\n",
            " \u001b[01;34mMuhuri\u001b[0m\n",
            " \u001b[01;34mNafi_data\u001b[0m\n",
            " NID.docx\n",
            " \u001b[01;35mNID.jpg\u001b[0m\n",
            " NID.pdf\n",
            " \u001b[01;34mNSU\u001b[0m\n",
            " \u001b[01;34mNuffic_\u001b[0m\n",
            " \u001b[01;34mNuffic_155\u001b[0m\n",
            " pad.wre.docx\n",
            "'Pay_Scale For Public_Univ.Treachers.pdf'\n",
            " \u001b[01;31mPHSetup.zip\u001b[0m\n",
            " \u001b[01;34mpython-3.6.5-docs-pdf-letter\u001b[0m\n",
            "'Question Format.doc'\n",
            "'Question Format.docx'\n",
            "\u001b[01;34m'Recommendations for Students'\u001b[0m\n",
            "'Request_Recommendation(2).pdf'\n",
            " Resume-of-Arif.pdf\n",
            "'Resume of Md Arifur Rahman.pdf'\n",
            " \u001b[01;34mR-Studio\u001b[0m\n",
            " \u001b[01;34mSandwip\u001b[0m\n",
            " \u001b[01;34mSonagaon\u001b[0m\n",
            " Statistical_Methods.docx\n",
            " \u001b[01;31mStatistical-Methods-in-Hydrology-C-T-HaaN.zip\u001b[0m\n",
            " StudentGradeSheet.pdf\n",
            " \u001b[01;34mSWAT_DATA\u001b[0m\n",
            " Syllabus_WRE.pdf\n",
            " \u001b[01;34mTAX-2015-2016\u001b[0m\n",
            " \u001b[01;34mTOEFL_Triumph\u001b[0m\n",
            " \u001b[01;34mUGC\u001b[0m\n",
            " Uni_Teacher_Uniform_Upgradation_Rules_Drafted_by_UGC.pdf\n",
            "\u001b[01;34m'US Visa 2018'\u001b[0m\n",
            "\u001b[01;34m'UTA_Fall 2018'\u001b[0m\n",
            " \u001b[01;34mVideo\u001b[0m\n",
            " \u001b[01;34mWallpapers\u001b[0m\n",
            " \u001b[01;34mWedding_Photos_Vedios\u001b[0m\n",
            "\u001b[01;34m'Wedding Sweety'\u001b[0m\n",
            "\u001b[01;34m'WRE 404- Excersizes'\u001b[0m\n",
            "\u001b[01;34m'WRE 428_GIS'\u001b[0m\n",
            " \u001b[01;34mWRE_Curriculum\u001b[0m\n",
            " \u001b[01;34mWrite-up\u001b[0m\n",
            "\u001b[01;35m'www (1).weddingdiary.bd.com190-1.jpg'\u001b[0m\n",
            " \u001b[01;35mwww.weddingdiary.bd.com190-1.jpg\u001b[0m\n",
            " \u001b[01;34mX-sections_Data\u001b[0m\n",
            " \u001b[01;34mX-Trail\u001b[0m\n",
            "\u001b]0;root@4a3f943c3636: /content/drive/My Drive\u0007\u001b[01;32mroot@4a3f943c3636\u001b[00m:\u001b[01;34m/content/drive/My Drive\u001b[00m# cd Data-1441\n",
            "\u001b]0;root@4a3f943c3636: /content/drive/My Drive/Data-1441\u0007\u001b[01;32mroot@4a3f943c3636\u001b[00m:\u001b[01;34m/content/drive/My Drive/Data-1441\u001b[00m# ls\n",
            "\u001b]0;root@4a3f943c3636: /content/drive/My Drive/Data-1441\u0007\u001b[01;32mroot@4a3f943c3636\u001b[00m:\u001b[01;34m/content/drive/My Drive/Data-1441\u001b[00m# mkdir Lab-1-Solutions\n",
            "\u001b]0;root@4a3f943c3636: /content/drive/My Drive/Data-1441\u0007\u001b[01;32mroot@4a3f943c3636\u001b[00m:\u001b[01;34m/content/drive/My Drive/Data-1441\u001b[00m# ls\n",
            "\u001b[0m\u001b[01;34mLab-1-Solutions\u001b[0m\n",
            "\u001b]0;root@4a3f943c3636: /content/drive/My Drive/Data-1441\u0007\u001b[01;32mroot@4a3f943c3636\u001b[00m:\u001b[01;34m/content/drive/My Drive/Data-1441\u001b[00m# cd Lab-1-Solutions\n",
            "\u001b]0;root@4a3f943c3636: /content/drive/My Drive/Data-1441/Lab-1-Solutions\u0007\u001b[01;32mroot@4a3f943c3636\u001b[00m:\u001b[01;34m/content/drive/My Drive/Data-1441/Lab-1-Solutions\u001b[00m# ls\n",
            "\u001b]0;root@4a3f943c3636: /content/drive/My Drive/Data-1441/Lab-1-Solutions\u0007\u001b[01;32mroot@4a3f943c3636\u001b[00m:\u001b[01;34m/content/drive/My Drive/Data-1441/Lab-1-Solutions\u001b[00m# exit\n",
            "exit\n"
          ],
          "name": "stdout"
        }
      ]
    },
    {
      "cell_type": "markdown",
      "metadata": {
        "id": "o38c4lbsqvzy",
        "colab_type": "text"
      },
      "source": [
        "## Exploring Unix Filesystem\n",
        "\n",
        "You can look at the root directory of the system by issuing \"ls /\". As explained in lecture, Unix uses the file system to communicate with devices and between processes. \"/etc\" keeps the configuration files of the system. \"/bin\" and \"/sbin\" store most of the standard Unix programs. \"/usr\" stores installes programs and their associate files, with \"/usr/bin\" usually storing the commands you can run. \n",
        "\n",
        "*Exercise 3:* List the \"/dev\" directory. How many SSD storage devices do you see? How many partitions does each device have? (Answer in box below)"
      ]
    },
    {
      "cell_type": "code",
      "metadata": {
        "id": "yNj2LXzP2ksl",
        "colab_type": "code",
        "colab": {
          "base_uri": "https://localhost:8080/",
          "height": 1000
        },
        "outputId": "5d7696b9-1245-4164-ba03-8e7f4411320c"
      },
      "source": [
        "!/bin/bash --noediting\n"
      ],
      "execution_count": 0,
      "outputs": [
        {
          "output_type": "stream",
          "text": [
            "bash: cannot set terminal process group (123): Inappropriate ioctl for device\n",
            "bash: no job control in this shell\n",
            "\u001b]0;root@4a3f943c3636: /content/sample_data\u0007\u001b[01;32mroot@4a3f943c3636\u001b[00m:\u001b[01;34m/content/sample_data\u001b[00m# cd ..\n",
            "\u001b]0;root@4a3f943c3636: /content\u0007\u001b[01;32mroot@4a3f943c3636\u001b[00m:\u001b[01;34m/content\u001b[00m# cd ..\n",
            "\u001b]0;root@4a3f943c3636: /\u0007\u001b[01;32mroot@4a3f943c3636\u001b[00m:\u001b[01;34m/\u001b[00m# ls\n",
            "\u001b[0m\u001b[01;34mbin\u001b[0m                                        \u001b[01;34metc\u001b[0m    \u001b[01;34mopt\u001b[0m    \u001b[01;34msys\u001b[0m\n",
            "\u001b[01;34mboot\u001b[0m                                       \u001b[01;34mhome\u001b[0m   \u001b[01;34mproc\u001b[0m   \u001b[01;34mtensorflow-2.1.0\u001b[0m\n",
            "\u001b[01;34mcontent\u001b[0m                                    \u001b[01;34mlib\u001b[0m    \u001b[01;34mroot\u001b[0m   \u001b[30;42mtmp\u001b[0m\n",
            "\u001b[01;34mdatalab\u001b[0m                                    \u001b[01;34mlib32\u001b[0m  \u001b[01;34mrun\u001b[0m    \u001b[01;34mtools\u001b[0m\n",
            "\u001b[01;34mdev\u001b[0m                                        \u001b[01;34mlib64\u001b[0m  \u001b[01;34msbin\u001b[0m   \u001b[01;34musr\u001b[0m\n",
            "dlib-19.18.0-cp27-cp27mu-linux_x86_64.whl  \u001b[01;34mmedia\u001b[0m  \u001b[01;34msrv\u001b[0m    \u001b[01;34mvar\u001b[0m\n",
            "dlib-19.18.0-cp36-cp36m-linux_x86_64.whl   \u001b[01;34mmnt\u001b[0m    \u001b[01;34mswift\u001b[0m\n",
            "\u001b]0;root@4a3f943c3636: /\u0007\u001b[01;32mroot@4a3f943c3636\u001b[00m:\u001b[01;34m/\u001b[00m# cd /etc\n",
            "\u001b]0;root@4a3f943c3636: /etc\u0007\u001b[01;32mroot@4a3f943c3636\u001b[00m:\u001b[01;34m/etc\u001b[00m# cd ..\n",
            "\u001b]0;root@4a3f943c3636: /\u0007\u001b[01;32mroot@4a3f943c3636\u001b[00m:\u001b[01;34m/\u001b[00m# cd /dev\n",
            "\u001b]0;root@4a3f943c3636: /dev\u0007\u001b[01;32mroot@4a3f943c3636\u001b[00m:\u001b[01;34m/dev\u001b[00m# ls\n",
            "\u001b[0m\u001b[01;36mcore\u001b[0m  \u001b[40;33;01mfull\u001b[0m  \u001b[30;42mmqueue\u001b[0m  \u001b[01;36mptmx\u001b[0m  \u001b[40;33;01mrandom\u001b[0m  \u001b[01;36mstderr\u001b[0m  \u001b[01;36mstdout\u001b[0m  \u001b[40;33;01murandom\u001b[0m\n",
            "\u001b[01;36mfd\u001b[0m    \u001b[40;33;01mfuse\u001b[0m  \u001b[40;33;01mnull\u001b[0m    \u001b[01;34mpts\u001b[0m   \u001b[30;42mshm\u001b[0m     \u001b[01;36mstdin\u001b[0m   \u001b[40;33;01mtty\u001b[0m     \u001b[40;33;01mzero\u001b[0m\n",
            "\u001b]0;root@4a3f943c3636: /dev\u0007\u001b[01;32mroot@4a3f943c3636\u001b[00m:\u001b[01;34m/dev\u001b[00m# cd ..\n",
            "\u001b]0;root@4a3f943c3636: /\u0007\u001b[01;32mroot@4a3f943c3636\u001b[00m:\u001b[01;34m/\u001b[00m# ll\n",
            "total 7916\n",
            "drwxr-xr-x   1 root root    4096 Feb  7 19:24 \u001b[0m\u001b[01;34m.\u001b[0m/\n",
            "drwxr-xr-x   1 root root    4096 Feb  7 19:24 \u001b[01;34m..\u001b[0m/\n",
            "drwxr-xr-x   1 root root    4096 Feb  5 18:29 \u001b[01;34mbin\u001b[0m/\n",
            "drwxr-xr-x   2 root root    4096 Apr 24  2018 \u001b[01;34mboot\u001b[0m/\n",
            "drwxr-xr-x   1 root root    4096 Feb  7 20:13 \u001b[01;34mcontent\u001b[0m/\n",
            "drwxr-xr-x   1 root root    4096 Feb  6 17:43 \u001b[01;34mdatalab\u001b[0m/\n",
            "drwxr-xr-x   5 root root     360 Feb  7 19:24 \u001b[01;34mdev\u001b[0m/\n",
            "-rw-r--r--   1 root root 3989833 Feb  6 17:12 dlib-19.18.0-cp27-cp27mu-linux_x86_64.whl\n",
            "-rw-r--r--   1 root root 3997028 Feb  6 17:12 dlib-19.18.0-cp36-cp36m-linux_x86_64.whl\n",
            "-rwxr-xr-x   1 root root       0 Feb  7 19:24 \u001b[01;32m.dockerenv\u001b[0m*\n",
            "drwxr-xr-x   1 root root    4096 Feb  7 19:24 \u001b[01;34metc\u001b[0m/\n",
            "drwxr-xr-x   2 root root    4096 Apr 24  2018 \u001b[01;34mhome\u001b[0m/\n",
            "drwxr-xr-x   1 root root    4096 Feb  5 18:31 \u001b[01;34mlib\u001b[0m/\n",
            "drwxr-xr-x   2 root root    4096 Feb  5 18:27 \u001b[01;34mlib32\u001b[0m/\n",
            "drwxr-xr-x   2 root root    4096 Oct 29 21:25 \u001b[01;34mlib64\u001b[0m/\n",
            "drwxr-xr-x   2 root root    4096 Oct 29 21:25 \u001b[01;34mmedia\u001b[0m/\n",
            "drwxr-xr-x   2 root root    4096 Oct 29 21:25 \u001b[01;34mmnt\u001b[0m/\n",
            "drwxr-xr-x   1 root root    4096 Feb  5 18:32 \u001b[01;34mopt\u001b[0m/\n",
            "dr-xr-xr-x 115 root root       0 Feb  7 19:24 \u001b[01;34mproc\u001b[0m/\n",
            "drwx------   1 root root    4096 Feb  7 20:13 \u001b[01;34mroot\u001b[0m/\n",
            "drwxr-xr-x   1 root root    4096 Feb  5 18:29 \u001b[01;34mrun\u001b[0m/\n",
            "drwxr-xr-x   1 root root    4096 Feb  5 18:31 \u001b[01;34msbin\u001b[0m/\n",
            "drwxr-xr-x   2 root root    4096 Oct 29 21:25 \u001b[01;34msrv\u001b[0m/\n",
            "drwxr-xr-x   4 root root    4096 Feb  6 17:42 \u001b[01;34mswift\u001b[0m/\n",
            "dr-xr-xr-x  12 root root       0 Feb  7 19:24 \u001b[01;34msys\u001b[0m/\n",
            "drwxr-xr-x   4 root root    4096 Feb  6 17:38 \u001b[01;34mtensorflow-2.1.0\u001b[0m/\n",
            "drwxrwxrwt   1 root root    4096 Feb  7 20:13 \u001b[30;42mtmp\u001b[0m/\n",
            "drwxr-xr-x   1 root root    4096 Feb  6 17:43 \u001b[01;34mtools\u001b[0m/\n",
            "drwxr-xr-x   1 root root    4096 Feb  5 18:32 \u001b[01;34musr\u001b[0m/\n",
            "drwxr-xr-x   1 root root    4096 Feb  7 19:24 \u001b[01;34mvar\u001b[0m/\n",
            "\u001b]0;root@4a3f943c3636: /\u0007\u001b[01;32mroot@4a3f943c3636\u001b[00m:\u001b[01;34m/\u001b[00m# cd /etc\n",
            "\u001b]0;root@4a3f943c3636: /etc\u0007\u001b[01;32mroot@4a3f943c3636\u001b[00m:\u001b[01;34m/etc\u001b[00m# ls\n",
            "adduser.conf            \u001b[0m\u001b[01;34mgtk-3.0\u001b[0m          mke2fs.conf      \u001b[01;34mrc4.d\u001b[0m\n",
            "\u001b[01;34malternatives\u001b[0m            host.conf        \u001b[01;34mmodprobe.d\u001b[0m       \u001b[01;34mrc5.d\u001b[0m\n",
            "\u001b[01;34mapparmor.d\u001b[0m              hostname         modules          \u001b[01;34mrc6.d\u001b[0m\n",
            "\u001b[01;34mapt\u001b[0m                     hosts            \u001b[01;34mmodules-load.d\u001b[0m   \u001b[01;34mrcS.d\u001b[0m\n",
            "bash.bashrc             hosts.allow      \u001b[01;36mmtab\u001b[0m             resolv.conf\n",
            "\u001b[01;34mbash_completion.d\u001b[0m       hosts.deny       \u001b[01;34mmysql\u001b[0m            \u001b[01;32mrmt\u001b[0m\n",
            "bindresvport.blacklist  \u001b[01;34minit.d\u001b[0m           networks         securetty\n",
            "\u001b[01;34mbinfmt.d\u001b[0m                inputrc          nsswitch.conf    \u001b[01;34msecurity\u001b[0m\n",
            "\u001b[01;34mca-certificates\u001b[0m         \u001b[01;34mipython\u001b[0m          \u001b[01;34mODBCDataSources\u001b[0m  \u001b[01;34mselinux\u001b[0m\n",
            "ca-certificates.conf    issue            odbc.ini         sensors3.conf\n",
            "\u001b[01;34mcalendar\u001b[0m                issue.net        odbcinst.ini     \u001b[01;34msensors.d\u001b[0m\n",
            "\u001b[01;34mcron.daily\u001b[0m              \u001b[01;34mjava-11-openjdk\u001b[0m  \u001b[01;34mopenal\u001b[0m           shadow\n",
            "\u001b[01;34mcron.weekly\u001b[0m             \u001b[01;34mjava-8-openjdk\u001b[0m   \u001b[01;34mOpenCL\u001b[0m           shadow-\n",
            "\u001b[01;34mdbus-1\u001b[0m                  \u001b[01;34mjupyter\u001b[0m          \u001b[01;34mopenmpi\u001b[0m          shells\n",
            "debconf.conf            \u001b[01;34mkernel\u001b[0m           \u001b[01;34mopt\u001b[0m              \u001b[01;34mskel\u001b[0m\n",
            "debian_version          \u001b[01;34mldap\u001b[0m             \u001b[01;36mos-release\u001b[0m       \u001b[01;34mssh\u001b[0m\n",
            "\u001b[01;34mdefault\u001b[0m                 ld.so.cache      pam.conf         \u001b[01;34mssl\u001b[0m\n",
            "deluser.conf            ld.so.conf       \u001b[01;34mpam.d\u001b[0m            subgid\n",
            "\u001b[01;34mdepmod.d\u001b[0m                \u001b[01;34mld.so.conf.d\u001b[0m     papersize        subuid\n",
            "\u001b[01;34mdhcp\u001b[0m                    legal            passwd           sudoers\n",
            "\u001b[01;34mdkms\u001b[0m                    libaudit.conf    passwd-          \u001b[01;34msudoers.d\u001b[0m\n",
            "\u001b[01;34mdpkg\u001b[0m                    \u001b[01;34mlibibverbs.d\u001b[0m     \u001b[01;34mperl\u001b[0m             sysctl.conf\n",
            "\u001b[01;34memacs\u001b[0m                   \u001b[01;34mlibnl-3\u001b[0m          \u001b[01;32mpip.conf\u001b[0m         \u001b[01;34msysctl.d\u001b[0m\n",
            "environment             \u001b[01;34mlibpaper.d\u001b[0m       \u001b[01;34mpolkit-1\u001b[0m         \u001b[01;34msystemd\u001b[0m\n",
            "ffserver.conf           locale.alias     profile          \u001b[01;34mterminfo\u001b[0m\n",
            "\u001b[01;34mfonts\u001b[0m                   locale.gen       \u001b[01;34mprofile.d\u001b[0m        timezone\n",
            "fstab                   \u001b[01;36mlocaltime\u001b[0m        \u001b[01;34mpulse\u001b[0m            \u001b[01;34mtmpfiles.d\u001b[0m\n",
            "fuse.conf               \u001b[01;34mlogcheck\u001b[0m         \u001b[01;34mpython\u001b[0m           ucf.conf\n",
            "gai.conf                login.defs       \u001b[01;34mpython2.7\u001b[0m        \u001b[01;34mudev\u001b[0m\n",
            "\u001b[01;34mglvnd\u001b[0m                   \u001b[01;34mlogrotate.d\u001b[0m      \u001b[01;34mpython3\u001b[0m          \u001b[01;34mupdate-motd.d\u001b[0m\n",
            "\u001b[01;34mgroff\u001b[0m                   lsb-release      \u001b[01;34mpython3.6\u001b[0m        vdpau_wrapper.cfg\n",
            "group                   machine-id       \u001b[01;34mR\u001b[0m                wgetrc\n",
            "group-                  mailcap          \u001b[01;34mrc0.d\u001b[0m            \u001b[01;34mX11\u001b[0m\n",
            "gshadow                 mailcap.order    \u001b[01;34mrc1.d\u001b[0m            \u001b[01;34mxdg\u001b[0m\n",
            "gshadow-                manpath.config   \u001b[01;34mrc2.d\u001b[0m\n",
            "\u001b[01;34mgss\u001b[0m                     mime.types       \u001b[01;34mrc3.d\u001b[0m\n",
            "\u001b]0;root@4a3f943c3636: /etc\u0007\u001b[01;32mroot@4a3f943c3636\u001b[00m:\u001b[01;34m/etc\u001b[00m# cd passwd\n",
            "bash: cd: passwd: Not a directory\n",
            "\u001b]0;root@4a3f943c3636: /etc\u0007\u001b[01;32mroot@4a3f943c3636\u001b[00m:\u001b[01;34m/etc\u001b[00m# cd /passwd\n",
            "bash: cd: /passwd: No such file or directory\n",
            "\u001b]0;root@4a3f943c3636: /etc\u0007\u001b[01;32mroot@4a3f943c3636\u001b[00m:\u001b[01;34m/etc\u001b[00m# cd ..\n",
            "\u001b]0;root@4a3f943c3636: /\u0007\u001b[01;32mroot@4a3f943c3636\u001b[00m:\u001b[01;34m/\u001b[00m# ls\n",
            "\u001b[0m\u001b[01;34mbin\u001b[0m                                        \u001b[01;34metc\u001b[0m    \u001b[01;34mopt\u001b[0m    \u001b[01;34msys\u001b[0m\n",
            "\u001b[01;34mboot\u001b[0m                                       \u001b[01;34mhome\u001b[0m   \u001b[01;34mproc\u001b[0m   \u001b[01;34mtensorflow-2.1.0\u001b[0m\n",
            "\u001b[01;34mcontent\u001b[0m                                    \u001b[01;34mlib\u001b[0m    \u001b[01;34mroot\u001b[0m   \u001b[30;42mtmp\u001b[0m\n",
            "\u001b[01;34mdatalab\u001b[0m                                    \u001b[01;34mlib32\u001b[0m  \u001b[01;34mrun\u001b[0m    \u001b[01;34mtools\u001b[0m\n",
            "\u001b[01;34mdev\u001b[0m                                        \u001b[01;34mlib64\u001b[0m  \u001b[01;34msbin\u001b[0m   \u001b[01;34musr\u001b[0m\n",
            "dlib-19.18.0-cp27-cp27mu-linux_x86_64.whl  \u001b[01;34mmedia\u001b[0m  \u001b[01;34msrv\u001b[0m    \u001b[01;34mvar\u001b[0m\n",
            "dlib-19.18.0-cp36-cp36m-linux_x86_64.whl   \u001b[01;34mmnt\u001b[0m    \u001b[01;34mswift\u001b[0m\n",
            "\u001b]0;root@4a3f943c3636: /\u0007\u001b[01;32mroot@4a3f943c3636\u001b[00m:\u001b[01;34m/\u001b[00m# cd /etc/passwd\n",
            "bash: cd: /etc/passwd: Not a directory\n",
            "\u001b]0;root@4a3f943c3636: /\u0007\u001b[01;32mroot@4a3f943c3636\u001b[00m:\u001b[01;34m/\u001b[00m# cd /etc\n",
            "\u001b]0;root@4a3f943c3636: /etc\u0007\u001b[01;32mroot@4a3f943c3636\u001b[00m:\u001b[01;34m/etc\u001b[00m# ls\n",
            "adduser.conf            \u001b[0m\u001b[01;34mgtk-3.0\u001b[0m          mke2fs.conf      \u001b[01;34mrc4.d\u001b[0m\n",
            "\u001b[01;34malternatives\u001b[0m            host.conf        \u001b[01;34mmodprobe.d\u001b[0m       \u001b[01;34mrc5.d\u001b[0m\n",
            "\u001b[01;34mapparmor.d\u001b[0m              hostname         modules          \u001b[01;34mrc6.d\u001b[0m\n",
            "\u001b[01;34mapt\u001b[0m                     hosts            \u001b[01;34mmodules-load.d\u001b[0m   \u001b[01;34mrcS.d\u001b[0m\n",
            "bash.bashrc             hosts.allow      \u001b[01;36mmtab\u001b[0m             resolv.conf\n",
            "\u001b[01;34mbash_completion.d\u001b[0m       hosts.deny       \u001b[01;34mmysql\u001b[0m            \u001b[01;32mrmt\u001b[0m\n",
            "bindresvport.blacklist  \u001b[01;34minit.d\u001b[0m           networks         securetty\n",
            "\u001b[01;34mbinfmt.d\u001b[0m                inputrc          nsswitch.conf    \u001b[01;34msecurity\u001b[0m\n",
            "\u001b[01;34mca-certificates\u001b[0m         \u001b[01;34mipython\u001b[0m          \u001b[01;34mODBCDataSources\u001b[0m  \u001b[01;34mselinux\u001b[0m\n",
            "ca-certificates.conf    issue            odbc.ini         sensors3.conf\n",
            "\u001b[01;34mcalendar\u001b[0m                issue.net        odbcinst.ini     \u001b[01;34msensors.d\u001b[0m\n",
            "\u001b[01;34mcron.daily\u001b[0m              \u001b[01;34mjava-11-openjdk\u001b[0m  \u001b[01;34mopenal\u001b[0m           shadow\n",
            "\u001b[01;34mcron.weekly\u001b[0m             \u001b[01;34mjava-8-openjdk\u001b[0m   \u001b[01;34mOpenCL\u001b[0m           shadow-\n",
            "\u001b[01;34mdbus-1\u001b[0m                  \u001b[01;34mjupyter\u001b[0m          \u001b[01;34mopenmpi\u001b[0m          shells\n",
            "debconf.conf            \u001b[01;34mkernel\u001b[0m           \u001b[01;34mopt\u001b[0m              \u001b[01;34mskel\u001b[0m\n",
            "debian_version          \u001b[01;34mldap\u001b[0m             \u001b[01;36mos-release\u001b[0m       \u001b[01;34mssh\u001b[0m\n",
            "\u001b[01;34mdefault\u001b[0m                 ld.so.cache      pam.conf         \u001b[01;34mssl\u001b[0m\n",
            "deluser.conf            ld.so.conf       \u001b[01;34mpam.d\u001b[0m            subgid\n",
            "\u001b[01;34mdepmod.d\u001b[0m                \u001b[01;34mld.so.conf.d\u001b[0m     papersize        subuid\n",
            "\u001b[01;34mdhcp\u001b[0m                    legal            passwd           sudoers\n",
            "\u001b[01;34mdkms\u001b[0m                    libaudit.conf    passwd-          \u001b[01;34msudoers.d\u001b[0m\n",
            "\u001b[01;34mdpkg\u001b[0m                    \u001b[01;34mlibibverbs.d\u001b[0m     \u001b[01;34mperl\u001b[0m             sysctl.conf\n",
            "\u001b[01;34memacs\u001b[0m                   \u001b[01;34mlibnl-3\u001b[0m          \u001b[01;32mpip.conf\u001b[0m         \u001b[01;34msysctl.d\u001b[0m\n",
            "environment             \u001b[01;34mlibpaper.d\u001b[0m       \u001b[01;34mpolkit-1\u001b[0m         \u001b[01;34msystemd\u001b[0m\n",
            "ffserver.conf           locale.alias     profile          \u001b[01;34mterminfo\u001b[0m\n",
            "\u001b[01;34mfonts\u001b[0m                   locale.gen       \u001b[01;34mprofile.d\u001b[0m        timezone\n",
            "fstab                   \u001b[01;36mlocaltime\u001b[0m        \u001b[01;34mpulse\u001b[0m            \u001b[01;34mtmpfiles.d\u001b[0m\n",
            "fuse.conf               \u001b[01;34mlogcheck\u001b[0m         \u001b[01;34mpython\u001b[0m           ucf.conf\n",
            "gai.conf                login.defs       \u001b[01;34mpython2.7\u001b[0m        \u001b[01;34mudev\u001b[0m\n",
            "\u001b[01;34mglvnd\u001b[0m                   \u001b[01;34mlogrotate.d\u001b[0m      \u001b[01;34mpython3\u001b[0m          \u001b[01;34mupdate-motd.d\u001b[0m\n",
            "\u001b[01;34mgroff\u001b[0m                   lsb-release      \u001b[01;34mpython3.6\u001b[0m        vdpau_wrapper.cfg\n",
            "group                   machine-id       \u001b[01;34mR\u001b[0m                wgetrc\n",
            "group-                  mailcap          \u001b[01;34mrc0.d\u001b[0m            \u001b[01;34mX11\u001b[0m\n",
            "gshadow                 mailcap.order    \u001b[01;34mrc1.d\u001b[0m            \u001b[01;34mxdg\u001b[0m\n",
            "gshadow-                manpath.config   \u001b[01;34mrc2.d\u001b[0m\n",
            "\u001b[01;34mgss\u001b[0m                     mime.types       \u001b[01;34mrc3.d\u001b[0m\n",
            "\u001b]0;root@4a3f943c3636: /etc\u0007\u001b[01;32mroot@4a3f943c3636\u001b[00m:\u001b[01;34m/etc\u001b[00m# cat passwd\n",
            "root:x:0:0:root:/root:/bin/bash\n",
            "daemon:x:1:1:daemon:/usr/sbin:/usr/sbin/nologin\n",
            "bin:x:2:2:bin:/bin:/usr/sbin/nologin\n",
            "sys:x:3:3:sys:/dev:/usr/sbin/nologin\n",
            "sync:x:4:65534:sync:/bin:/bin/sync\n",
            "games:x:5:60:games:/usr/games:/usr/sbin/nologin\n",
            "man:x:6:12:man:/var/cache/man:/usr/sbin/nologin\n",
            "lp:x:7:7:lp:/var/spool/lpd:/usr/sbin/nologin\n",
            "mail:x:8:8:mail:/var/mail:/usr/sbin/nologin\n",
            "news:x:9:9:news:/var/spool/news:/usr/sbin/nologin\n",
            "uucp:x:10:10:uucp:/var/spool/uucp:/usr/sbin/nologin\n",
            "proxy:x:13:13:proxy:/bin:/usr/sbin/nologin\n",
            "www-data:x:33:33:www-data:/var/www:/usr/sbin/nologin\n",
            "backup:x:34:34:backup:/var/backups:/usr/sbin/nologin\n",
            "list:x:38:38:Mailing List Manager:/var/list:/usr/sbin/nologin\n",
            "irc:x:39:39:ircd:/var/run/ircd:/usr/sbin/nologin\n",
            "gnats:x:41:41:Gnats Bug-Reporting System (admin):/var/lib/gnats:/usr/sbin/nologin\n",
            "nobody:x:65534:65534:nobody:/nonexistent:/usr/sbin/nologin\n",
            "_apt:x:100:65534::/nonexistent:/usr/sbin/nologin\n",
            "systemd-network:x:101:104:systemd Network Management,,,:/run/systemd/netif:/usr/sbin/nologin\n",
            "systemd-resolve:x:102:105:systemd Resolver,,,:/run/systemd/resolve:/usr/sbin/nologin\n",
            "messagebus:x:103:107::/nonexistent:/usr/sbin/nologin\n",
            "nvidia-persistenced:x:104:108:NVIDIA Persistence Daemon,,,:/nonexistent:/sbin/nologin\n",
            "\u001b]0;root@4a3f943c3636: /etc\u0007\u001b[01;32mroot@4a3f943c3636\u001b[00m:\u001b[01;34m/etc\u001b[00m# cd ..\n",
            "\u001b]0;root@4a3f943c3636: /\u0007\u001b[01;32mroot@4a3f943c3636\u001b[00m:\u001b[01;34m/\u001b[00m# ls\n",
            "\u001b[0m\u001b[01;34mbin\u001b[0m                                        \u001b[01;34metc\u001b[0m    \u001b[01;34mopt\u001b[0m    \u001b[01;34msys\u001b[0m\n",
            "\u001b[01;34mboot\u001b[0m                                       \u001b[01;34mhome\u001b[0m   \u001b[01;34mproc\u001b[0m   \u001b[01;34mtensorflow-2.1.0\u001b[0m\n",
            "\u001b[01;34mcontent\u001b[0m                                    \u001b[01;34mlib\u001b[0m    \u001b[01;34mroot\u001b[0m   \u001b[30;42mtmp\u001b[0m\n",
            "\u001b[01;34mdatalab\u001b[0m                                    \u001b[01;34mlib32\u001b[0m  \u001b[01;34mrun\u001b[0m    \u001b[01;34mtools\u001b[0m\n",
            "\u001b[01;34mdev\u001b[0m                                        \u001b[01;34mlib64\u001b[0m  \u001b[01;34msbin\u001b[0m   \u001b[01;34musr\u001b[0m\n",
            "dlib-19.18.0-cp27-cp27mu-linux_x86_64.whl  \u001b[01;34mmedia\u001b[0m  \u001b[01;34msrv\u001b[0m    \u001b[01;34mvar\u001b[0m\n",
            "dlib-19.18.0-cp36-cp36m-linux_x86_64.whl   \u001b[01;34mmnt\u001b[0m    \u001b[01;34mswift\u001b[0m\n",
            "\u001b]0;root@4a3f943c3636: /\u0007\u001b[01;32mroot@4a3f943c3636\u001b[00m:\u001b[01;34m/\u001b[00m# cd /content\n",
            "\u001b]0;root@4a3f943c3636: /content\u0007\u001b[01;32mroot@4a3f943c3636\u001b[00m:\u001b[01;34m/content\u001b[00m# ls\n",
            "\u001b[0m\u001b[01;34mdrive\u001b[0m  \u001b[01;34msample_data\u001b[0m\n",
            "\u001b]0;root@4a3f943c3636: /content\u0007\u001b[01;32mroot@4a3f943c3636\u001b[00m:\u001b[01;34m/content\u001b[00m# cd /drive/My\\ Drive\n",
            "bash: cd: /drive/My Drive: No such file or directory\n",
            "\u001b]0;root@4a3f943c3636: /content\u0007\u001b[01;32mroot@4a3f943c3636\u001b[00m:\u001b[01;34m/content\u001b[00m# ls\n",
            "\u001b[0m\u001b[01;34mdrive\u001b[0m  \u001b[01;34msample_data\u001b[0m\n",
            "\u001b]0;root@4a3f943c3636: /content\u0007\u001b[01;32mroot@4a3f943c3636\u001b[00m:\u001b[01;34m/content\u001b[00m# cd /drive/My\\ Drive\n",
            "bash: cd: /drive/My Drive: No such file or directory\n",
            "\u001b]0;root@4a3f943c3636: /content\u0007\u001b[01;32mroot@4a3f943c3636\u001b[00m:\u001b[01;34m/content\u001b[00m# ls\n",
            "\u001b[0m\u001b[01;34mdrive\u001b[0m  \u001b[01;34msample_data\u001b[0m\n",
            "\u001b]0;root@4a3f943c3636: /content\u0007\u001b[01;32mroot@4a3f943c3636\u001b[00m:\u001b[01;34m/content\u001b[00m# cd drive/My\\ Drive\n",
            "\u001b]0;root@4a3f943c3636: /content/drive/My Drive\u0007\u001b[01;32mroot@4a3f943c3636\u001b[00m:\u001b[01;34m/content/drive/My Drive\u001b[00m# ls\n",
            " 010-CV_BRTC-Arif-2017.docx\n",
            " \u001b[0m\u001b[01;35m20170317_112443.jpg\u001b[0m\n",
            " \u001b[01;35m20180221_110637.jpg\u001b[0m\n",
            " 6-15_math-bangla.pdf\n",
            "'Application Form.pdf'\n",
            " \u001b[01;34mApplication_USA\u001b[0m\n",
            "\u001b[01;34m'Arif-M.Sc Presentation'\u001b[0m\n",
            "'Arif_Pad (1).docx'\n",
            " Arif_Pad.docx\n",
            "\u001b[01;34m'Auto Call Recorder'\u001b[0m\n",
            "'BD map.gmap'\n",
            " \u001b[01;34mBirthday_Aishy\u001b[0m\n",
            " \u001b[01;34mBRTC_Secretary\u001b[0m\n",
            " \u001b[01;35mBUET.png\u001b[0m\n",
            " \u001b[01;34mBUGS_Secretary\u001b[0m\n",
            "\u001b[01;34m'Car Ownership Transfer'\u001b[0m\n",
            "\u001b[01;34m'Colab Notebooks'\u001b[0m\n",
            " \u001b[01;34mConvener\u001b[0m\n",
            "'CV_Academic_ Arif.pdf'\n",
            " CV_BRTC-Arif.doc\n",
            " \u001b[01;34mData-1441\u001b[0m\n",
            " \u001b[01;34mDelft3D_manuals\u001b[0m\n",
            " document.pdf\n",
            " \u001b[01;35mdr-ferdousi-islam-lipi_70_1.jpg\u001b[0m\n",
            "\u001b[01;34m'Duncan Brothers Ltd'\u001b[0m\n",
            "\u001b[01;34m'Earthquake Assignment'\u001b[0m\n",
            " \u001b[01;34mEbook\u001b[0m\n",
            " \u001b[01;34mE_Flow_Gorai\u001b[0m\n",
            "\u001b[01;34m'Ehsan Vai'\u001b[0m\n",
            " \u001b[01;34mEnglish_Learning\u001b[0m\n",
            " excel.pdf\n",
            " ex_routine_final.pdf\n",
            " Final_List_of_Group_A_House_05.02.2017.xls\n",
            " Flow_Duration_Tutorial_DL_File.xls\n",
            " folder-lock-en.exe\n",
            "\u001b[01;34m'For Sheola Hydrology expert'\u001b[0m\n",
            "\u001b[01;34m'From Dropbox'\u001b[0m\n",
            " \u001b[01;34mGeoSWMM\u001b[0m\n",
            " \u001b[01;34mGIS\u001b[0m\n",
            "\u001b[01;34m'Google Photos'\u001b[0m\n",
            "\u001b[01;34m'GPS Data Extraction'\u001b[0m\n",
            " Grade_Sheet_Preparation.xlsx\n",
            " \u001b[01;34mGRE_Triumph\u001b[0m\n",
            " \u001b[01;34mHEC-Soft\u001b[0m\n",
            " \u001b[01;34mHEQEP\u001b[0m\n",
            " house_allotment_A.pdf\n",
            "'Invitation List for Marriage Ceremony.docx'\n",
            " Item_Nuffic_PnD.docx\n",
            "\u001b[01;34m'January 15 Term'\u001b[0m\n",
            "\u001b[01;34m'January 16 Term'\u001b[0m\n",
            "\u001b[01;34m'January 17 Term'\u001b[0m\n",
            "\u001b[01;34m'January 18 Term'\u001b[0m\n",
            " \u001b[01;34mJFCL\u001b[0m\n",
            " \u001b[01;34mJFCL_Visit\u001b[0m\n",
            "\u001b[01;34m'July 14 Term'\u001b[0m\n",
            "\u001b[01;34m'July 15 Term'\u001b[0m\n",
            "\u001b[01;34m'July 16 Term'\u001b[0m\n",
            "\u001b[01;34m'July 17 Term'\u001b[0m\n",
            "\u001b[01;34m'July 18 Term'\u001b[0m\n",
            " \u001b[01;34mKaharole_Bridge\u001b[0m\n",
            "\u001b[01;34m'Lab Sheet'\u001b[0m\n",
            "\u001b[01;34m'Learn Excel'\u001b[0m\n",
            " LinearScalingBiasCorrectionV.1.0.xlsx\n",
            " MAC_Collect_Notice.pdf\n",
            " Map.docx\n",
            "\u001b[01;34m'Matagorda_HMS Model'\u001b[0m\n",
            "'Meal Calculation Arifur Rahman (July 1-15) 2016.xlsx'\n",
            " Minutes_BUGS_WRE_BUET.pdf\n",
            "'MSc admission April 2017 Semester (Equivalence).xlsx'\n",
            "'M.Sc. Engg. Admission April 2017 (Degree Equivalence).docx'\n",
            " M.Sc_WRE_6501.pdf\n",
            " \u001b[01;34mMuhuri\u001b[0m\n",
            " \u001b[01;34mNafi_data\u001b[0m\n",
            " NID.docx\n",
            " \u001b[01;35mNID.jpg\u001b[0m\n",
            " NID.pdf\n",
            " \u001b[01;34mNSU\u001b[0m\n",
            " \u001b[01;34mNuffic_\u001b[0m\n",
            " \u001b[01;34mNuffic_155\u001b[0m\n",
            " pad.wre.docx\n",
            "'Pay_Scale For Public_Univ.Treachers.pdf'\n",
            " \u001b[01;31mPHSetup.zip\u001b[0m\n",
            " \u001b[01;34mpython-3.6.5-docs-pdf-letter\u001b[0m\n",
            "'Question Format.doc'\n",
            "'Question Format.docx'\n",
            "\u001b[01;34m'Recommendations for Students'\u001b[0m\n",
            "'Request_Recommendation(2).pdf'\n",
            " Resume-of-Arif.pdf\n",
            "'Resume of Md Arifur Rahman.pdf'\n",
            " \u001b[01;34mR-Studio\u001b[0m\n",
            " \u001b[01;34mSandwip\u001b[0m\n",
            " \u001b[01;34mSonagaon\u001b[0m\n",
            " Statistical_Methods.docx\n",
            " \u001b[01;31mStatistical-Methods-in-Hydrology-C-T-HaaN.zip\u001b[0m\n",
            " StudentGradeSheet.pdf\n",
            " \u001b[01;34mSWAT_DATA\u001b[0m\n",
            " Syllabus_WRE.pdf\n",
            " \u001b[01;34mTAX-2015-2016\u001b[0m\n",
            " \u001b[01;34mTOEFL_Triumph\u001b[0m\n",
            " \u001b[01;34mUGC\u001b[0m\n",
            " Uni_Teacher_Uniform_Upgradation_Rules_Drafted_by_UGC.pdf\n",
            "\u001b[01;34m'US Visa 2018'\u001b[0m\n",
            "\u001b[01;34m'UTA_Fall 2018'\u001b[0m\n",
            " \u001b[01;34mVideo\u001b[0m\n",
            " \u001b[01;34mWallpapers\u001b[0m\n",
            " \u001b[01;34mWedding_Photos_Vedios\u001b[0m\n",
            "\u001b[01;34m'Wedding Sweety'\u001b[0m\n",
            "\u001b[01;34m'WRE 404- Excersizes'\u001b[0m\n",
            "\u001b[01;34m'WRE 428_GIS'\u001b[0m\n",
            " \u001b[01;34mWRE_Curriculum\u001b[0m\n",
            " \u001b[01;34mWrite-up\u001b[0m\n",
            "\u001b[01;35m'www (1).weddingdiary.bd.com190-1.jpg'\u001b[0m\n",
            " \u001b[01;35mwww.weddingdiary.bd.com190-1.jpg\u001b[0m\n",
            " \u001b[01;34mX-sections_Data\u001b[0m\n",
            " \u001b[01;34mX-Trail\u001b[0m\n",
            "\u001b]0;root@4a3f943c3636: /content/drive/My Drive\u0007\u001b[01;32mroot@4a3f943c3636\u001b[00m:\u001b[01;34m/content/drive/My Drive\u001b[00m# cd Data-1441\n",
            "\u001b]0;root@4a3f943c3636: /content/drive/My Drive/Data-1441\u0007\u001b[01;32mroot@4a3f943c3636\u001b[00m:\u001b[01;34m/content/drive/My Drive/Data-1441\u001b[00m# ls\n",
            "\u001b[0m\u001b[01;34mLab-1-Solutions\u001b[0m\n",
            "\u001b]0;root@4a3f943c3636: /content/drive/My Drive/Data-1441\u0007\u001b[01;32mroot@4a3f943c3636\u001b[00m:\u001b[01;34m/content/drive/My Drive/Data-1441\u001b[00m# cd Lab-1-Solutions\n",
            "\u001b]0;root@4a3f943c3636: /content/drive/My Drive/Data-1441/Lab-1-Solutions\u0007\u001b[01;32mroot@4a3f943c3636\u001b[00m:\u001b[01;34m/content/drive/My Drive/Data-1441/Lab-1-Solutions\u001b[00m# ls\n",
            "\u001b]0;root@4a3f943c3636: /content/drive/My Drive/Data-1441/Lab-1-Solutions\u0007\u001b[01;32mroot@4a3f943c3636\u001b[00m:\u001b[01;34m/content/drive/My Drive/Data-1441/Lab-1-Solutions\u001b[00m# cat > favorite-colors-list.txt Red Blue Pink \n",
            "cat: Red: No such file or directory\n",
            "cat: Blue: No such file or directory\n",
            "cat: Pink: No such file or directory\n",
            "\u001b]0;root@4a3f943c3636: /content/drive/My Drive/Data-1441/Lab-1-Solutions\u0007\u001b[01;32mroot@4a3f943c3636\u001b[00m:\u001b[01;34m/content/drive/My Drive/Data-1441/Lab-1-Solutions\u001b[00m# cat > favorite-colors-list.txt\n",
            "Red Pink White Blue\n",
            "ls\n",
            "cat favorite-colors-list.txt\n",
            "^D\n",
            "exit\n",
            "control-d\n",
            "D\n"
          ],
          "name": "stdout"
        }
      ]
    },
    {
      "cell_type": "code",
      "metadata": {
        "id": "YRgFGdyHU5xM",
        "colab_type": "code",
        "colab": {}
      },
      "source": [
        "!/bin/bash --noediting\n",
        "1 SSD and one partition "
      ],
      "execution_count": 0,
      "outputs": []
    },
    {
      "cell_type": "markdown",
      "metadata": {
        "id": "7P9EG0KOqvz2",
        "colab_type": "text"
      },
      "source": [
        "## Text File Manipulation\n",
        "\n",
        "As explained in lecture, Unix stores most information in text files. For example, the list of all users and their home directories are stored in \"/etc/passwd\". Let get some familiarity with the most commonly used commands to manipulate files.\n",
        "\n",
        "   - You can see the contents contents a file using the \"cat\" (concatenate) command. Try executing \"cat /etc/passwd\". You'll get a huge list that will go by your screen quickly. \n",
        "   \n",
        "   - To go through the file page by page, you can use the \"less\" or \"more\" commands. \n",
        "   \n",
        "   - You can see the first or last N (N=10 by default) lines of a file using \"head\" or \"tail\" commands. For example \"tail -20 /etc/passwd\" will list the last 20 lines. \n",
        "   \n",
        "   - You can search a test file using the \"grep\" command, which takes a string keyword as the first argument and a filename as the second, and by default prints out every line in the file that contrains the string. So for example you can do \"grep \\$USER /etc/passwd\" to find the line corresponding to your account. Some useful flags: \n",
        "   \n",
        "   - \"-i\" ignores the case of the keyword\n",
        "   - \"-v\" display those lines that do NOT match \n",
        "   - \"-n\" precede each matching line with the line number \n",
        "   - \"-c\" print only the total count of matched lines \n",
        "   \n",
        "   For example \"grep -c \\$USER /etc/passwd\" should show that you are in the password file just once. \n",
        "   \n",
        "   - The \"wc\" (word count) command counts the number of lines, words, and characters in a file. By default \"wc\" gives you all three numbers, but \"-w\", \"-l\", or \"-c\" flags \n",
        "\n",
        "*Exercise 4:* Count how many lines in the password file contain the letter \"w\". "
      ]
    },
    {
      "cell_type": "code",
      "metadata": {
        "id": "UlsANMuf2qMs",
        "colab_type": "code",
        "colab": {}
      },
      "source": [
        "!/bin/bash --noediting\n",
        "cat /etc/passwd\n"
      ],
      "execution_count": 0,
      "outputs": []
    },
    {
      "cell_type": "markdown",
      "metadata": {
        "id": "SZuhLbD8qvz5",
        "colab_type": "text"
      },
      "source": [
        "## Redirection\n",
        "\n",
        "Unix provides programs \"pipes\" for input and output. Most of what you see on the screen when you run a program  was written to the \"stdout\" (standard output) pipe. Other pipes are \"stdin\" (standard input) and \"stderr\" (standard error), where error messages are written.\n",
        "\n",
        "As discussed in lecture, the basic commands of are simple, but you can chain them to do complicated things. Redirection is how you chain these commands, directing the output of one command to the input of the next.\n",
        "\n",
        "As an example, consider the \"cat\" command. Cat takes stdin and outputs it to stdout. Type \"cat\" and press enter and confirm. You can get back to the command prompt by pressing \"control-c\" (sends terminate singal) or \"control-d\" (end of file character). Note that from now on we will use the convention: \"control-d\" = \"^D\"\n",
        "\n",
        "*Exercise 5a:* Using \"cat\" and indirection you can write things into a file. The \">\" symbol directs stdout into a file. Try \"cat > favorite-colors-list.txt\" and then type in your 3 favorite colors, each on it's own line. Use \"^D\" to end your input."
      ]
    },
    {
      "cell_type": "code",
      "metadata": {
        "id": "gw3S4O0zIVmK",
        "colab_type": "code",
        "colab": {}
      },
      "source": [
        ""
      ],
      "execution_count": 0,
      "outputs": []
    },
    {
      "cell_type": "markdown",
      "metadata": {
        "id": "H5vxtcXnqvz6",
        "colab_type": "text"
      },
      "source": [
        "Use \"cat\", \"more\", or \"less\" to confirm that you file is as you expect it. \">>\" allows you to append to the file. \n",
        "\n",
        "*Exercise 5b:* Append 2 more colors to your file."
      ]
    },
    {
      "cell_type": "code",
      "metadata": {
        "id": "twRKNaGy3XGw",
        "colab_type": "code",
        "colab": {}
      },
      "source": [
        "!/bin/bash --noediting"
      ],
      "execution_count": 0,
      "outputs": []
    },
    {
      "cell_type": "markdown",
      "metadata": {
        "id": "DZODNKiAqvz8",
        "colab_type": "text"
      },
      "source": [
        "The \"sort\" command sorts what it sees on stdin. Instead of taking input from the terminal, you can direct the shell to take stdin from a file using \"<\". Try \"sort < favorite-color-list.txt\" and \"sort < favorite-color-list.txt > sorted-favorite-color-list.txt\".\n",
        "\n",
        "Finally, instead of piping input / output into files, you can directly chain one program into another using \"|\". So for example, you can do \"cat /etc/passwd | grep -i \\$USER | wc -l\". \n",
        "\n",
        "*Exercise 5c:* Use indirection to count the number of users on TACC with your first name. Copy the command you used into box below."
      ]
    },
    {
      "cell_type": "code",
      "metadata": {
        "id": "oP9XlZl_3iZD",
        "colab_type": "code",
        "colab": {}
      },
      "source": [
        "!/bin/bash --noediting"
      ],
      "execution_count": 0,
      "outputs": []
    },
    {
      "cell_type": "markdown",
      "metadata": {
        "id": "v5IaZXNyqvz_",
        "colab_type": "text"
      },
      "source": [
        "## Git\n",
        "\n",
        "`git` is a Version Control System (VCS), typically used to organize the source code of software project but also good source of documents or web-pages. An instance of `git` server stores repositories, each typically containing the code relevant to a specific project. Users create local `clones` of repositories, change and develop the local copies of the code, `commit` the changes to their local repository, `push` to the server as a contribution,  \n",
        "`pull` updates from the server, and `merge` changes between local and remote versions. \n",
        "\n",
        "Besides cloning, repositories can be branched or forked. A repository generally starts with a `master` branch that evolves as push requests are merged in. Creating a new branch from an existing branch creates a snapshot of the which can evolve independently or be merged in later. Branches are easy to make and delete, and can serve various purposes. They can represent a stable version of software package. Or a parallel development for different operating system. A fork of a repository is a standalone instance of the repository which can be stored and managed independently from the original, where you can work independently without constraints or interference. \n",
        "\n",
        "[GitHub](github.com) provides a massive publically accessible instance of a `git` system besides sharing code, projects can be developed by the open source community. It provides tools for managing your repository and a wiki for documentation. Contributions to public software on GitHub generally require making a merge request which would be judged by the managers of the repository. That's why most software packages enourage you to create a new fork, so you can work independently.\n",
        "\n",
        "Lets take a look at some repositories:\n",
        "\n",
        "* [This class](https://github.com/afarbin/DATA1401-Spring-2020)\n",
        "\n",
        "\n",
        "\n"
      ]
    },
    {
      "cell_type": "markdown",
      "metadata": {
        "id": "J_R64sQDqv0A",
        "colab_type": "text"
      },
      "source": [
        "## Plan\n",
        "\n",
        "You made a clone of the class repository at start of this lab. We will create a new fork where you can keep track and submit your work, following [these instructions](https://help.github.com/articles/fork-a-repo/).\n",
        "\n",
        "Goto to github.com and log in.\n",
        "\n",
        "Next, lets create a fork of the [class repository](https://github.com/afarbin/DATA1401-Spring-2019). Click the link and press the \"Fork\" button on the top right. Select your repository as where you want to place the fork.\n"
      ]
    },
    {
      "cell_type": "markdown",
      "metadata": {
        "id": "edTvE6rOqv0C",
        "colab_type": "text"
      },
      "source": [
        "Now we will check out your fork in your Google Drive / Colab.\n",
        "\n",
        "Note: Jupyter allows you to run shell directly in a notebook. We will use `!` and `%` to call shell commands directly in this notebook. Follow along yourself. Either create a new notebook or open a terminal. \n",
        "\n",
        "Start by listing the contents of your current directory."
      ]
    },
    {
      "cell_type": "code",
      "metadata": {
        "id": "e5tXg0f8qv0D",
        "colab_type": "code",
        "outputId": "c1efce86-1492-4f31-ad23-182380465c68",
        "colab": {
          "base_uri": "https://localhost:8080/",
          "height": 71
        }
      },
      "source": [
        "%cd /content/drive/My\\ Drive\n",
        "!ls"
      ],
      "execution_count": 0,
      "outputs": [
        {
          "output_type": "stream",
          "text": [
            "[Errno 2] No such file or directory: '/content/drive/My Drive'\n",
            "/content\n",
            "sample_data\n"
          ],
          "name": "stdout"
        }
      ]
    },
    {
      "cell_type": "markdown",
      "metadata": {
        "id": "WYsyYcg1qv0J",
        "colab_type": "text"
      },
      "source": [
        "Make a new directory:"
      ]
    },
    {
      "cell_type": "code",
      "metadata": {
        "id": "Z7noY1hMqv0L",
        "colab_type": "code",
        "outputId": "5e8d0749-78e7-49e4-f76f-1b00faaccf70",
        "colab": {
          "base_uri": "https://localhost:8080/",
          "height": 35
        }
      },
      "source": [
        "!mkdir Data-1401-Repo\n",
        "%cd Data-1401-Repo"
      ],
      "execution_count": 0,
      "outputs": [
        {
          "output_type": "stream",
          "text": [
            "/content/Data-1401-Repo\n"
          ],
          "name": "stdout"
        }
      ]
    },
    {
      "cell_type": "markdown",
      "metadata": {
        "id": "fwsBdTnYqv0Q",
        "colab_type": "text"
      },
      "source": [
        "From the github page for your fork, press the green \"Clone or download\" button and copy the URL.\n",
        "\n",
        "Goto to your notebook and use the following command to clone the repository, pasting the URL you just copied:\n"
      ]
    },
    {
      "cell_type": "markdown",
      "metadata": {
        "id": "cOAuqTVUqv0V",
        "colab_type": "text"
      },
      "source": [
        "Go into the directory:"
      ]
    },
    {
      "cell_type": "code",
      "metadata": {
        "id": "8w42MH6Jqv0S",
        "colab_type": "code",
        "outputId": "74ec0b78-e263-4d36-a4f7-f9ef3021c2cc",
        "colab": {
          "base_uri": "https://localhost:8080/",
          "height": 35
        }
      },
      "source": [
        "# What you past here should look like:\n",
        "!git clone https://github.com/<your github username>/DATA1401-Spring-2020.git"
      ],
      "execution_count": 0,
      "outputs": [
        {
          "output_type": "stream",
          "text": [
            "/bin/bash: your: No such file or directory\n"
          ],
          "name": "stdout"
        }
      ]
    },
    {
      "cell_type": "code",
      "metadata": {
        "id": "vL6KZOm0r6tf",
        "colab_type": "code",
        "outputId": "847d0121-6ad2-40b5-ad28-348f70209380",
        "colab": {
          "base_uri": "https://localhost:8080/",
          "height": 142
        }
      },
      "source": [
        "!git clone https://github.com/afarbin/DATA1401-Spring-2020.git"
      ],
      "execution_count": 0,
      "outputs": [
        {
          "output_type": "stream",
          "text": [
            "Cloning into 'DATA1401-Spring-2020'...\n",
            "remote: Enumerating objects: 104, done.\u001b[K\n",
            "remote: Counting objects: 100% (104/104), done.\u001b[K\n",
            "remote: Compressing objects: 100% (67/67), done.\u001b[K\n",
            "remote: Total 104 (delta 24), reused 90 (delta 19), pack-reused 0\u001b[K\n",
            "Receiving objects: 100% (104/104), 28.84 MiB | 45.64 MiB/s, done.\n",
            "Resolving deltas: 100% (24/24), done.\n"
          ],
          "name": "stdout"
        }
      ]
    },
    {
      "cell_type": "code",
      "metadata": {
        "id": "b1Ew4tEZqv0X",
        "colab_type": "code",
        "outputId": "466c227e-6824-4b92-c780-24de66dcd540",
        "colab": {
          "base_uri": "https://localhost:8080/",
          "height": 53
        }
      },
      "source": [
        "%cd DATA1401-Spring-2020\n",
        "!ls"
      ],
      "execution_count": 0,
      "outputs": [
        {
          "output_type": "stream",
          "text": [
            "/content/Data-1401-Repo/DATA1401-Spring-2020\n",
            "Labs  Lectures\tREADME.md  syllabus.pdf\n"
          ],
          "name": "stdout"
        }
      ]
    },
    {
      "cell_type": "markdown",
      "metadata": {
        "id": "IrhWToc-qv0a",
        "colab_type": "text"
      },
      "source": [
        "We will now connect your fork to the original so you can pull changes from there. \n",
        "\n",
        "Check remote status:"
      ]
    },
    {
      "cell_type": "code",
      "metadata": {
        "id": "JxtMYR-9qv0c",
        "colab_type": "code",
        "outputId": "784198a9-28ca-435c-b4ee-0e33605d4b16",
        "colab": {
          "base_uri": "https://localhost:8080/",
          "height": 53
        }
      },
      "source": [
        "!git remote -v"
      ],
      "execution_count": 0,
      "outputs": [
        {
          "output_type": "stream",
          "text": [
            "origin\thttps://github.com/afarbin/DATA1401-Spring-2020.git (fetch)\n",
            "origin\thttps://github.com/afarbin/DATA1401-Spring-2020.git (push)\n"
          ],
          "name": "stdout"
        }
      ]
    },
    {
      "cell_type": "markdown",
      "metadata": {
        "id": "9ud3X0fBqv0f",
        "colab_type": "text"
      },
      "source": [
        "Now use the original class URL to set your upstream:"
      ]
    },
    {
      "cell_type": "code",
      "metadata": {
        "id": "pgJlKxBqqv0h",
        "colab_type": "code",
        "colab": {}
      },
      "source": [
        "!git remote add upstream https://github.com/afarbin/DATA1401-Spring-2020.git"
      ],
      "execution_count": 0,
      "outputs": []
    },
    {
      "cell_type": "code",
      "metadata": {
        "id": "id2yUEt9qv0k",
        "colab_type": "code",
        "outputId": "eae4b78a-4974-4daf-d17c-0fbeb6062ee0",
        "colab": {
          "base_uri": "https://localhost:8080/",
          "height": 53
        }
      },
      "source": [
        "!git remote -v"
      ],
      "execution_count": 0,
      "outputs": [
        {
          "output_type": "stream",
          "text": [
            "origin\thttps://github.com/afarbin/DATA1401-Spring-2020.git (fetch)\n",
            "origin\thttps://github.com/afarbin/DATA1401-Spring-2020.git (push)\n"
          ],
          "name": "stdout"
        }
      ]
    },
    {
      "cell_type": "markdown",
      "metadata": {
        "id": "sAkgeJ6Iqv0n",
        "colab_type": "text"
      },
      "source": [
        "From now on, you can get the newest version of class material by using:"
      ]
    },
    {
      "cell_type": "code",
      "metadata": {
        "id": "AGDsfTFLqv0o",
        "colab_type": "code",
        "outputId": "5684fb8f-87db-44eb-b334-58108c8e6fac",
        "colab": {
          "base_uri": "https://localhost:8080/",
          "height": 35
        }
      },
      "source": [
        "!git pull"
      ],
      "execution_count": 0,
      "outputs": [
        {
          "output_type": "stream",
          "text": [
            "Already up to date.\n"
          ],
          "name": "stdout"
        }
      ]
    },
    {
      "cell_type": "markdown",
      "metadata": {
        "id": "u9RAhs5b4vXY",
        "colab_type": "text"
      },
      "source": [
        "We will submit your Lab 1 using git at the next Lab."
      ]
    },
    {
      "cell_type": "code",
      "metadata": {
        "id": "PPfGmFQI40HR",
        "colab_type": "code",
        "colab": {}
      },
      "source": [
        ""
      ],
      "execution_count": 0,
      "outputs": []
    }
  ]
}