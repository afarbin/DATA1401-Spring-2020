{
 "cells": [
  {
   "cell_type": "markdown",
   "metadata": {
    "colab_type": "text",
    "id": "uk7yc0nadBGa"
   },
   "source": [
    "# Lab 2\n",
    "\n",
    "[![Open In Colab](https://colab.research.google.com/assets/colab-badge.svg)](https://colab.research.google.com/github//afarbin/DATA1401-Spring-2020/blob/master/Labs/Lab-2/Lab-2.ipynb)\n",
    "\n",
    "## Submitting lab solutions\n",
    "\n",
    "At the end of the previous lab, you should have set up a \"Solutions\" directory in your Google Drive, with a fork of the class git repository that pull from Dr. Farbin's verison and pushes to your own fork. \n",
    "\n",
    "Unfortunately due to a typo in the previous lab, you probably forked the 2019 version of the gitlab repository for this course. Unless you noticed and corrected the error, you'll have to fork again.\n",
    "\n",
    "In addition, due to some problems with the setup in Google Colab, we will be submitting our solutions to your fork using the web interface. Instructions on how to use the command-line are in this notebook, but we suggest you do not follow them unless you are working in a jupyter notebook and not Google Colab."
   ]
  },
  {
   "cell_type": "markdown",
   "metadata": {
    "colab_type": "text",
    "id": "OMNaOnRksNK3"
   },
   "source": [
    "You may also choose to delete the fork from your GitHub account. "
   ]
  },
  {
   "cell_type": "markdown",
   "metadata": {
    "colab_type": "text",
    "id": "J_R64sQDqv0A"
   },
   "source": [
    "## Repeating last steps of Lab 1\n",
    "\n",
    "### Create your own fork\n",
    "We will create a new fork where you can keep track and submit your work, following [these instructions](https://help.github.com/articles/fork-a-repo/).\n",
    "\n",
    "Goto to github.com and log in.\n",
    "\n",
    "Next, create a fork of the [2020 class repository](https://github.com/afarbin/DATA1401-Spring-2020). Click the link and press the \"Fork\" button on the top right. Select your repository as where you want to place the fork.\n"
   ]
  },
  {
   "cell_type": "markdown",
   "metadata": {
    "colab_type": "text",
    "id": "edTvE6rOqv0C"
   },
   "source": [
    "### Make a local clone (Advanced)\n",
    "\n",
    "Before we get started, please mount your Google Drive using by clicking the file icon on the left, then clicking \"Mount Drive\", and following the instructions as you did in the previous lab.\n",
    "\n",
    "If you did complete Lab 1 and therefore created a 2019 fork and a local clone in you Google Drive, delete the local clone:\n",
    "\n"
   ]
  },
  {
   "cell_type": "code",
   "execution_count": 0,
   "metadata": {
    "colab": {},
    "colab_type": "code",
    "id": "2u6B-rfNr1wN"
   },
   "outputs": [],
   "source": [
    "!rm -rf drive/My\\ Drive/Data-1401-Repo"
   ]
  },
  {
   "cell_type": "markdown",
   "metadata": {
    "colab_type": "text",
    "id": "BDVI5nu8-2RH"
   },
   "source": [
    "Now we will check out your fork in your Google Drive / Colab. If you will be doing everything on your own computer instead of Google Colab/Drive, you are welcome to install Git on your computer and perform the following steps (appropriately modified) on your computer instead.\n",
    "\n",
    "Start by listing the contents of your current directory."
   ]
  },
  {
   "cell_type": "code",
   "execution_count": 0,
   "metadata": {
    "colab": {},
    "colab_type": "code",
    "id": "e5tXg0f8qv0D"
   },
   "outputs": [],
   "source": [
    "%cd /content/drive/My\\ Drive\n",
    "!ls"
   ]
  },
  {
   "cell_type": "markdown",
   "metadata": {
    "colab_type": "text",
    "id": "WYsyYcg1qv0J"
   },
   "source": [
    "Make a new directory:"
   ]
  },
  {
   "cell_type": "code",
   "execution_count": 0,
   "metadata": {
    "colab": {},
    "colab_type": "code",
    "id": "Z7noY1hMqv0L"
   },
   "outputs": [],
   "source": [
    "!mkdir Data-1401-Repo\n",
    "%cd Data-1401-Repo"
   ]
  },
  {
   "cell_type": "markdown",
   "metadata": {
    "colab_type": "text",
    "id": "fwsBdTnYqv0Q"
   },
   "source": [
    "From the github page for your fork, press the green \"Clone or download\" button and copy the URL.\n",
    "\n",
    "Goto to your notebook and use the following command to clone the repository, pasting the URL you just copied:\n"
   ]
  },
  {
   "cell_type": "code",
   "execution_count": 0,
   "metadata": {
    "colab": {},
    "colab_type": "code",
    "id": "8w42MH6Jqv0S"
   },
   "outputs": [],
   "source": [
    "# What you past here should look like:\n",
    "#!git clone https://github.com/<github username/DATA1401-Spring-2020.git\n"
   ]
  },
  {
   "cell_type": "markdown",
   "metadata": {
    "colab_type": "text",
    "id": "cOAuqTVUqv0V"
   },
   "source": [
    "Go into the directory:"
   ]
  },
  {
   "cell_type": "code",
   "execution_count": 0,
   "metadata": {
    "colab": {},
    "colab_type": "code",
    "id": "b1Ew4tEZqv0X"
   },
   "outputs": [],
   "source": [
    "%cd DATA1401-Spring-2020\n",
    "!ls"
   ]
  },
  {
   "cell_type": "markdown",
   "metadata": {
    "colab_type": "text",
    "id": "IrhWToc-qv0a"
   },
   "source": [
    "We will now connect your fork to the original so you can pull changes from there. \n",
    "\n",
    "Check remote status:"
   ]
  },
  {
   "cell_type": "code",
   "execution_count": 0,
   "metadata": {
    "colab": {},
    "colab_type": "code",
    "id": "JxtMYR-9qv0c"
   },
   "outputs": [],
   "source": [
    "!git remote -v"
   ]
  },
  {
   "cell_type": "markdown",
   "metadata": {
    "colab_type": "text",
    "id": "9ud3X0fBqv0f"
   },
   "source": [
    "Now use the original class URL to set your upstream:"
   ]
  },
  {
   "cell_type": "code",
   "execution_count": 0,
   "metadata": {
    "colab": {},
    "colab_type": "code",
    "id": "pgJlKxBqqv0h"
   },
   "outputs": [],
   "source": [
    "!git remote add upstream https://github.com/afarbin/DATA1401-Spring-2020.git"
   ]
  },
  {
   "cell_type": "code",
   "execution_count": 0,
   "metadata": {
    "colab": {},
    "colab_type": "code",
    "id": "id2yUEt9qv0k"
   },
   "outputs": [],
   "source": [
    "!git remote -v"
   ]
  },
  {
   "cell_type": "markdown",
   "metadata": {
    "colab_type": "text",
    "id": "sAkgeJ6Iqv0n"
   },
   "source": [
    "From now on, you can get the newest version of class material by using:"
   ]
  },
  {
   "cell_type": "code",
   "execution_count": 0,
   "metadata": {
    "colab": {},
    "colab_type": "code",
    "id": "AGDsfTFLqv0o"
   },
   "outputs": [],
   "source": [
    "!git pull"
   ]
  },
  {
   "cell_type": "markdown",
   "metadata": {
    "colab_type": "text",
    "id": "u9RAhs5b4vXY"
   },
   "source": [
    "You should be setup now.\n",
    "\n",
    "## Make your for Private\n",
    "\n",
    "As a final step, go back to your fork in GitHub and click the \"gear\" icon to change the settings. Select \"Options\" on the left and scroll all the way down. Then click on \"Make Private\" to make your repository private. \n",
    "\n",
    "Next select the collaborators on the left and add your Professor and TA as collaborators. "
   ]
  },
  {
   "cell_type": "markdown",
   "metadata": {
    "colab_type": "text",
    "id": "i1q1wv0IqqBL"
   },
   "source": [
    "## Working on and Submitting Labs\n",
    "\n",
    "As mentioned in class, you are welcome to not use Google Colab and instead install and use your own instance of Jupyter to work on the labs.\n",
    "\n",
    "No matter where you do you work, you will submit your work into your fork of the class repository in GitHub. \n",
    "\n",
    "### Updating your fork\n",
    "\n",
    "The class repository will be updated several times a week. But your fork will not be updated, unless you do so explicitly. There are two ways for you to update your fork:\n",
    "\n",
    "1. Use GitHub's web interface to make a pull request from the course base to your fork.\n",
    "  * Goto your fork in GitHub.\n",
    "  * Press \"New Pull Request\"\n",
    "  * You should see option to select base/head repository that allows you to select \"afarbin/Data1401-Spring-2020\" as the base. If not press \"compare accross forks\".\n",
    "  * Make sure you select your fork as the head.\n",
    "  * Press \"Create a pull request\".\n",
    "  * Press \"Merge pull request\".\n",
    "  * Press \"Confirm pull\".\n",
    "\n",
    "2. Go to your clone of your fork in Google Drive (or local on your computer) that setup above and do a `git pull`. (Advanced)\n",
    "\n",
    "### Working on your labs\n",
    "\n",
    "If you are working in Google Colab, you should immediately save a copy of you labs into your Google Drive as soon as you start working, and save frequently so you don't loose your work. These copies of the labs will appear in drive/My Drive/Colab Notebooks. \n",
    "\n",
    "### Submitting your labs\n",
    "\n",
    "Once you are done with a lab and are ready to submit, you have several options:\n",
    "\n",
    "1. You can download the lab to your local computer and them commit to your GitHub fork via GitHub's web interface. \n",
    "\n",
    "  * Download by selecting \"Download .ipynb\" from the file menu.\n",
    "  * Appropriately rename the downloaded file (for example Lab-1-Solutions.ipynb).\n",
    "  * On github, navigate to the directory for the specific lab.\n",
    "  * Click on upload and upload your solutions.\n",
    "\n",
    "2. (Advanced) You can copy the lab into your fork and commit/push using the command-line. Here's how:\n",
    "\n",
    "  * Using \"cd\" command navigate to the clone of your fork in Google Drive (or local) and do  `git remote -v` to verify that things are correctly setup.\n",
    "\n",
    "  * If you are working on Google Colab, your copy of lab with your solutions is stored in contents/drive/My Drive/Colab Notebooks. Locate the your lab 1 notebook and copy and rename it into the same directory in your fork. \n",
    "\n",
    "For example: (Note we are using the full paths here just to make sure everything works... but if you are already in the fork directory, you don't need the full path everywhere)."
   ]
  },
  {
   "cell_type": "code",
   "execution_count": 0,
   "metadata": {
    "colab": {},
    "colab_type": "code",
    "id": "CtPQXoQMdBGg"
   },
   "outputs": [],
   "source": [
    "!cp /content/drive/My\\ Drive/Colab\\ Notebooks/Copy\\ of\\ Lab-2.ipynb /content/drive/My\\ Drive/Data-1401-Repo/DATA1401-Spring-2020/Labs/Lab-2/Lab-2-Solution.ipynb"
   ]
  },
  {
   "cell_type": "markdown",
   "metadata": {
    "colab_type": "text",
    "id": "b04FrL7sdBGr"
   },
   "source": [
    "The reason we are renaming the file is due to a complication that you may experience when pulling updates into your fork. If a file was updated after your last pull and modifications, your modifications will likely cause a merge conflict, which can be a headache to resolve. Creating a new file side-steps this problem.\n",
    "\n",
    "Now that you have a new file in your fork, add the file into local repository:"
   ]
  },
  {
   "cell_type": "code",
   "execution_count": 0,
   "metadata": {
    "colab": {},
    "colab_type": "code",
    "id": "2o9JmQ1QdBGs"
   },
   "outputs": [],
   "source": [
    "!git add /content/drive/My\\ Drive/Data-1401-Repo/DATA1401-Spring-2020/Labs/Lab-2/Lab-2-Solution.ipynb"
   ]
  },
  {
   "cell_type": "markdown",
   "metadata": {
    "colab_type": "text",
    "id": "HX4xOctmdBG0"
   },
   "source": [
    "You only need to add a file once. Next, commit this file to your local copy of the repository. If this is the first time you are doing a commit, you will have to tell git your github username."
   ]
  },
  {
   "cell_type": "code",
   "execution_count": 0,
   "metadata": {
    "colab": {},
    "colab_type": "code",
    "id": "Tn9jf5VXdBG1"
   },
   "outputs": [],
   "source": [
    "# Uncomment and modify lines below if needed\n",
    "#!git config --global user.email \"you@example.com\"\n",
    "#!git config --global user.name \"Your Name\"\n",
    "!git commit -a -m \"My Lab 2 Solutions\""
   ]
  },
  {
   "cell_type": "markdown",
   "metadata": {
    "colab_type": "text",
    "id": "JfKXTlv1dBG5"
   },
   "source": [
    "You are required to provide a text message when commiting files, and the `-m` option is the nicest way to do it. If you do not supply a message, you will find yourself in a text editor (most likely vi) which is difficult to use and forced to enter a message.\n",
    "\n",
    "You will need to commit your changes every time you wish to submit any changes. So if you keep working or come back to a lab, make sure you commit your changes.\n",
    "\n",
    "Now that you committed your changes, you will need to push these changes to the fork of the package in your github account:"
   ]
  },
  {
   "cell_type": "code",
   "execution_count": 0,
   "metadata": {
    "colab": {},
    "colab_type": "code",
    "id": "L7UZOLYAdBG6"
   },
   "outputs": [],
   "source": [
    "!git push"
   ]
  },
  {
   "cell_type": "markdown",
   "metadata": {
    "colab_type": "text",
    "id": "3dI_D9PAdBG-"
   },
   "source": [
    "You will likely need to supply you git username and password.\n",
    "\n",
    "Your lab is now available for grading. Remember that unless you commit and push your work, it will not be seen.\n",
    "\n",
    "From now on, use this procedure to submit your solutions to labs, including the remainder of this lab. \n",
    "\n",
    "You can work in your Solutions directory if you like. But note that it may be a good practice to use the \"File\" menu to duplicate and remain labs when you first start. Besides letting you avoid having to do the copy later, you will have a copy of the original notebook, in case you delete something and can pull updates, in case of bug fixes."
   ]
  },
  {
   "cell_type": "markdown",
   "metadata": {
    "colab_type": "text",
    "id": "q-gMWiE4dBG_"
   },
   "source": [
    "## Python Programming\n",
    "\n",
    "In the remainder of this lab you will practice python by solving some simple exercises. \n",
    "\n",
    "*Exercise 1:* Write 2 functions `even(x)` and `odd(x)` that take an integer and returns True if the input is even or odd, otherwise returns False. Use cell below for your solution. Use the subsequent cell to demonstrate that your solution works. Feel free to add additional cell as needed using the \"+\" button on the button bar above. "
   ]
  },
  {
   "cell_type": "code",
   "execution_count": 1,
   "metadata": {
    "colab": {},
    "colab_type": "code",
    "id": "jwN5jff1dBG_"
   },
   "outputs": [],
   "source": [
    "# Write you solution here\n",
    "def even(x):\n",
    "  return x%2==0\n",
    "\n",
    "def odd(x):\n",
    "  return x%2!=0"
   ]
  },
  {
   "cell_type": "code",
   "execution_count": 2,
   "metadata": {
    "colab": {},
    "colab_type": "code",
    "id": "xNJAcodhdBHB"
   },
   "outputs": [
    {
     "name": "stdout",
     "output_type": "stream",
     "text": [
      "Testing even 2: True\n",
      "Testing even 3: False\n",
      "Testing odd 5: True\n",
      "Testing odd 2: False\n"
     ]
    }
   ],
   "source": [
    "# Test your solution here\n",
    "print(\"Testing even 2:\",even(2))\n",
    "print(\"Testing even 3:\",even(3))\n",
    "print(\"Testing odd 5:\",odd(5))\n",
    "print(\"Testing odd 2:\",odd(2))"
   ]
  },
  {
   "cell_type": "markdown",
   "metadata": {
    "colab_type": "text",
    "id": "KL_pyzG8dBHD"
   },
   "source": [
    "*Exercise 2:* Write a function that takes a list of numbers as input and returns a list of the subset of elements that are less that 10. Test your solution."
   ]
  },
  {
   "cell_type": "code",
   "execution_count": 87,
   "metadata": {
    "colab": {},
    "colab_type": "code",
    "id": "g8nt0wnldBHE"
   },
   "outputs": [],
   "source": [
    "# Write you solution here\n",
    "def less_than_ten(lst):\n",
    "  out_list=list()\n",
    "  for element in lst:\n",
    "    if element < 10:\n",
    "      out_list.append(element)\n",
    "  return out_list"
   ]
  },
  {
   "cell_type": "code",
   "execution_count": 89,
   "metadata": {
    "colab": {},
    "colab_type": "code",
    "id": "__HTUWA1dBHH"
   },
   "outputs": [
    {
     "data": {
      "text/plain": [
       "[1, 2, 3, 3, 4, 7]"
      ]
     },
     "execution_count": 89,
     "metadata": {},
     "output_type": "execute_result"
    }
   ],
   "source": [
    "# Test your solution here\n",
    "less_than_ten([1,2,3,123,3,443,4,7])"
   ]
  },
  {
   "cell_type": "markdown",
   "metadata": {
    "colab_type": "text",
    "id": "T0cx91JudBHK"
   },
   "source": [
    "*Exercise 3:* Write a function that takes a number `x_max` as input and returns a function that performs the same task as exercise 2, but for `x_max` instead of 10."
   ]
  },
  {
   "cell_type": "code",
   "execution_count": 143,
   "metadata": {
    "colab": {},
    "colab_type": "code",
    "id": "PqummMcmdBHK"
   },
   "outputs": [],
   "source": [
    "# Write you solution here\n",
    "def less_than_xmax(x_max, lst):\n",
    "    out_list=list()\n",
    "    for element in lst:\n",
    "        if element < x_max:\n",
    "            out_list.append(element)\n",
    "    return out_list"
   ]
  },
  {
   "cell_type": "code",
   "execution_count": 144,
   "metadata": {
    "colab": {},
    "colab_type": "code",
    "id": "evRYemjXdBHN"
   },
   "outputs": [
    {
     "data": {
      "text/plain": [
       "[1, 3, 7]"
      ]
     },
     "execution_count": 144,
     "metadata": {},
     "output_type": "execute_result"
    }
   ],
   "source": [
    "# Test your solution here\n",
    "less_than_xmax(8 , (1,3,10,9,7) )"
   ]
  },
  {
   "cell_type": "markdown",
   "metadata": {
    "colab_type": "text",
    "id": "h0I8M27LdBHP"
   },
   "source": [
    "*Exercise 4:* Write a function that takes an interger as input and returns a list of all divisors of that number."
   ]
  },
  {
   "cell_type": "code",
   "execution_count": 34,
   "metadata": {
    "colab": {},
    "colab_type": "code",
    "id": "k6GUpDyrdBHP"
   },
   "outputs": [],
   "source": [
    "# Write you solution here\n",
    "def num_input(int):\n",
    "    lst=list(range(1,int+1))\n",
    "    final=[] #empty list, values will be added once the program identifes them \n",
    "    for number in lst:\n",
    "      if int%number==0:\n",
    "        final.append(number) \n",
    "    return final"
   ]
  },
  {
   "cell_type": "code",
   "execution_count": 35,
   "metadata": {
    "colab": {},
    "colab_type": "code",
    "id": "YDvRmft-dBHR"
   },
   "outputs": [
    {
     "data": {
      "text/plain": [
       "[1, 2, 5, 10]"
      ]
     },
     "execution_count": 35,
     "metadata": {},
     "output_type": "execute_result"
    }
   ],
   "source": [
    "# Test your solution here\n",
    "num_input(10)"
   ]
  },
  {
   "cell_type": "markdown",
   "metadata": {
    "colab_type": "text",
    "id": "IOWnLMvxdBHT"
   },
   "source": [
    "*Exercise 5:* Write a function that takes 2 lists as input and returns a list that contains only the elements that are common between the lists (without duplicates). Make sure your program works on two lists of different sizes."
   ]
  },
  {
   "cell_type": "code",
   "execution_count": 108,
   "metadata": {
    "colab": {},
    "colab_type": "code",
    "id": "tR31bnTDdBHT"
   },
   "outputs": [],
   "source": [
    "# Write you solution here\n",
    "def same_elements(list_one, list_two):\n",
    "    lst_oneref=list_one.split()\n",
    "    set_one=set(lst_oneref)\n",
    "    lst_tworef= list_two.split()\n",
    "    set_two=set(lst_tworef)\n",
    "\n",
    "    final=[]\n",
    "    for x, y in zip(lst_oneref, lst_tworef):\n",
    "  \n",
    "        if x in lst_two:\n",
    "            final.append(x)\n",
    "            #final = set(final)\n",
    "\n",
    "        return final\n"
   ]
  },
  {
   "cell_type": "code",
   "execution_count": 113,
   "metadata": {
    "colab": {},
    "colab_type": "code",
    "id": "IJDf6ebYdBHV"
   },
   "outputs": [
    {
     "ename": "SyntaxError",
     "evalue": "invalid syntax (<ipython-input-113-43e47ba7c6f9>, line 2)",
     "output_type": "error",
     "traceback": [
      "\u001b[0;36m  File \u001b[0;32m\"<ipython-input-113-43e47ba7c6f9>\"\u001b[0;36m, line \u001b[0;32m2\u001b[0m\n\u001b[0;31m    same_elements((2 5 6), (2 9 6))\u001b[0m\n\u001b[0m                     ^\u001b[0m\n\u001b[0;31mSyntaxError\u001b[0m\u001b[0;31m:\u001b[0m invalid syntax\n"
     ]
    }
   ],
   "source": [
    "# Test your solution here\n",
    "same_elements((2 5 6), (2 9 6)) "
   ]
  },
  {
   "cell_type": "markdown",
   "metadata": {
    "colab_type": "text",
    "id": "3vA7M9pldBHX"
   },
   "source": [
    "*Exercise 6:* Write a function that reads takes a string and returns `True` if the string is a palindrome. (A palindrome is a string that reads the same forwards and backwards.)"
   ]
  },
  {
   "cell_type": "code",
   "execution_count": 53,
   "metadata": {
    "colab": {},
    "colab_type": "code",
    "id": "ncyMDzp6dBHX"
   },
   "outputs": [],
   "source": [
    "# Write you solution here\n",
    "def palin(word):\n",
    "    rev = ''.join(reversed(word)) \n",
    "    if (word==rev): \n",
    "        return True\n",
    "    else:\n",
    "        return False\n",
    "    \n",
    "\n"
   ]
  },
  {
   "cell_type": "code",
   "execution_count": 146,
   "metadata": {
    "colab": {},
    "colab_type": "code",
    "id": "v5cmVQ6MdBHZ"
   },
   "outputs": [
    {
     "data": {
      "text/plain": [
       "False"
      ]
     },
     "execution_count": 146,
     "metadata": {},
     "output_type": "execute_result"
    }
   ],
   "source": [
    "# Test your solution here\n",
    "palin('dog')"
   ]
  },
  {
   "cell_type": "markdown",
   "metadata": {
    "colab_type": "text",
    "id": "fT35xwandBHc"
   },
   "source": [
    "*Exercise 7:* Write a Rock-Paper-Scissors game function, that takes 2 strings, the inputs of player 1 and player 2, and output 1 or 2 corresponding to which player wins, or 0 if draw.\n",
    "\n",
    "Implement a Rock-Paper-Scissors game by soliciting input from 2 players, testing with this function, and repeating if there is a draw.\n",
    "\n",
    "Remember the rules:\n",
    "\n",
    "* Rock beats scissors\n",
    "* Scissors beats paper\n",
    "* Paper beats rock"
   ]
  },
  {
   "cell_type": "code",
   "execution_count": 122,
   "metadata": {
    "colab": {},
    "colab_type": "code",
    "id": "U1_HxxaWdBHd"
   },
   "outputs": [],
   "source": [
    "# Write you solution here\n",
    "def game_func(player1, player2):\n",
    "    player1= player1.lower()\n",
    "    player2= player2.lower()\n",
    "    if player1 == 'rock' and player2 == 'scissors' or player1 == 'paper' and player2 == 'rock' or player1 == 'scissors' and player2 == 'paper':\n",
    "        return 1 \n",
    "    elif player1 == player2:\n",
    "        return 0\n",
    "    else:\n",
    "        return 2\n",
    "    "
   ]
  },
  {
   "cell_type": "code",
   "execution_count": 147,
   "metadata": {
    "colab": {},
    "colab_type": "code",
    "id": "ooR2ldZBdBHf"
   },
   "outputs": [
    {
     "data": {
      "text/plain": [
       "1"
      ]
     },
     "execution_count": 147,
     "metadata": {},
     "output_type": "execute_result"
    }
   ],
   "source": [
    "# Test your solution here\n",
    "game_func('rock','scissors')"
   ]
  },
  {
   "cell_type": "markdown",
   "metadata": {
    "colab_type": "text",
    "id": "dJQzXNKzdBHh"
   },
   "source": [
    "*Exercise 8:* Write a function that takes a integer `n` as input and \n",
    "outputs a list of the first `n` Fibonnaci numbers.\n",
    "\n",
    "The Fibonnaci seqence is a sequence of numbers where the next number in the sequence is the sum of the previous two numbers in the sequence. The sequence looks like this: 1, 1, 2, 3, 5, 8, 13, …)"
   ]
  },
  {
   "cell_type": "code",
   "execution_count": 60,
   "metadata": {
    "colab": {},
    "colab_type": "code",
    "id": "G_4ooRXTdBHh"
   },
   "outputs": [],
   "source": [
    "# Write you solution here\n",
    "def printFibNum(num): \n",
    "    initial = 0\n",
    "    num2 = 1\n",
    "    if (num < 1): \n",
    "        return\n",
    "    for x in range(0, num): \n",
    "        print(initial, end = \" \") \n",
    "        next = initial + num2 \n",
    "        initial = num2\n",
    "        num2 = next\n",
    "    "
   ]
  },
  {
   "cell_type": "code",
   "execution_count": 61,
   "metadata": {
    "colab": {},
    "colab_type": "code",
    "id": "rzK5FskJdBHj"
   },
   "outputs": [
    {
     "name": "stdout",
     "output_type": "stream",
     "text": [
      "0 1 1 2 3 5 8 13 "
     ]
    }
   ],
   "source": [
    "# Test your solution here\n",
    "printFibNum(8)"
   ]
  },
  {
   "cell_type": "markdown",
   "metadata": {
    "colab_type": "text",
    "id": "q6c_AskadBHl"
   },
   "source": [
    "*Exercise 9:* Write a function that takes a string of consisting of several words and returns a string that reverses the order of the words.\n"
   ]
  },
  {
   "cell_type": "code",
   "execution_count": 69,
   "metadata": {
    "colab": {},
    "colab_type": "code",
    "id": "aJdXX6FHdBHl"
   },
   "outputs": [],
   "source": [
    "# Write you solution here\n",
    "def printString(phrase):\n",
    "#string=input(\"Enter a phrase:  \")\n",
    "    stringed= phrase.split() #just in case it all runs together\n",
    "    stringed=stringed[-1::-1] #reverse indexes it\n",
    "    output = ' '.join(stringed) #puts it all together \n",
    "    return output\n"
   ]
  },
  {
   "cell_type": "code",
   "execution_count": 70,
   "metadata": {
    "colab": {},
    "colab_type": "code",
    "id": "nQyhnLZ_dBHn"
   },
   "outputs": [
    {
     "data": {
      "text/plain": [
       "'hat the in cat The'"
      ]
     },
     "execution_count": 70,
     "metadata": {},
     "output_type": "execute_result"
    }
   ],
   "source": [
    "# Test your solution here\n",
    "printString('The cat in the hat')"
   ]
  },
  {
   "cell_type": "markdown",
   "metadata": {
    "colab_type": "text",
    "id": "NFSmRaSydBHq"
   },
   "source": [
    "*Exercise 10:* Write a guessing game program that will repeatedly guess a number that the users picks, with the user indicating higher or lower, until it correctly guesses the number."
   ]
  },
  {
   "cell_type": "code",
   "execution_count": 140,
   "metadata": {
    "colab": {},
    "colab_type": "code",
    "id": "Ie2E1JzCdBHr"
   },
   "outputs": [],
   "source": [
    "# Write you solution here\n",
    "import random\n",
    "\n",
    "def guess_game(num):\n",
    "    print(\"The computer will guess a value between 0-10.\")\n",
    "    user=num\n",
    "    computer=random.randint(0,10)\n",
    "    print(computer)\n",
    "    for computer in range(0, 10):\n",
    "        if computer < user:\n",
    "            print (\"Higher.\")\n",
    "        elif computer > user:\n",
    "            print (\"Lower\")\n",
    "        else:\n",
    "            print(\"The computer guessed the right value!\")\n",
    "            break\n",
    "    "
   ]
  },
  {
   "cell_type": "code",
   "execution_count": 148,
   "metadata": {
    "colab": {},
    "colab_type": "code",
    "id": "6T8YdWSMdBHs"
   },
   "outputs": [
    {
     "name": "stdout",
     "output_type": "stream",
     "text": [
      "The computer will guess a value between 0-10.\n",
      "7\n",
      "Higher.\n",
      "Higher.\n",
      "Higher.\n",
      "Higher.\n",
      "Higher.\n",
      "The computer guessed the right value!\n"
     ]
    }
   ],
   "source": [
    "# Test your solution here\n",
    "guess_game(5)"
   ]
  },
  {
   "cell_type": "code",
   "execution_count": null,
   "metadata": {},
   "outputs": [],
   "source": []
  },
  {
   "cell_type": "code",
   "execution_count": null,
   "metadata": {},
   "outputs": [],
   "source": []
  }
 ],
 "metadata": {
  "colab": {
   "collapsed_sections": [],
   "name": "Lab-2.ipynb",
   "provenance": []
  },
  "kernelspec": {
   "display_name": "Python 3",
   "language": "python",
   "name": "python3"
  },
  "language_info": {
   "codemirror_mode": {
    "name": "ipython",
    "version": 3
   },
   "file_extension": ".py",
   "mimetype": "text/x-python",
   "name": "python",
   "nbconvert_exporter": "python",
   "pygments_lexer": "ipython3",
   "version": "3.7.4"
  }
 },
 "nbformat": 4,
 "nbformat_minor": 1
}
