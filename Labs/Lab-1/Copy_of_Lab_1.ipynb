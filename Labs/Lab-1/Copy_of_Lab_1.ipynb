{
  "nbformat": 4,
  "nbformat_minor": 0,
  "metadata": {
    "kernelspec": {
      "name": "python3",
      "display_name": "Python 3"
    },
    "colab": {
      "name": "Copy of Lab-1.ipynb",
      "provenance": [],
      "collapsed_sections": [],
      "toc_visible": true
    }
  },
  "cells": [
    {
      "cell_type": "markdown",
      "metadata": {
        "id": "O5vg8KKRq0sy",
        "colab_type": "text"
      },
      "source": [
        "# Lab 1\n",
        "\n",
        "## Python Notebooks on Google Colab\n",
        "\n",
        "Data 1401's Labs, Homework, and Exams will be all in form of iPython notebooks. You may already be familiar with python notebooks if you have used Jupyter before, for example in Data 1301. If so, you are welcome to use whatever means you have to run Jupyter notebooks for this course, though you may get limited support. Our primary means of running python notebooks will be through [Google Colab](https://colab.research.google.com) and we will be storing files on google drive.\n",
        "\n",
        "You will need a google account. If you do not have one or you wish to use a different account for this course, please follow [these instructions](https://edu.gcfglobal.org/en/googledriveanddocs/getting-started-with-google-drive/1/) to make an account.\n",
        "\n",
        "Once you are ready with your account, you can continue in Colab. Click on the following badge to open this notebook in Colab:\n",
        "\n",
        "[![Open In Colab](https://colab.research.google.com/assets/colab-badge.svg)](https://colab.research.google.com/github//afarbin/DATA1401-Spring-2020/blob/master/Labs/Lab-1/Lab-1.ipynb)\n"
      ]
    },
    {
      "cell_type": "code",
      "metadata": {
        "id": "mm8NAwqDBt7L",
        "colab_type": "code",
        "outputId": "2f2e6a3a-5416-43d7-e26e-930e447467f0",
        "colab": {
          "base_uri": "https://localhost:8080/",
          "height": 122
        }
      },
      "source": [
        "from google.colab import drive\n",
        "drive.mount('/content/drive')"
      ],
      "execution_count": 0,
      "outputs": [
        {
          "output_type": "stream",
          "text": [
            "Go to this URL in a browser: https://accounts.google.com/o/oauth2/auth?client_id=947318989803-6bn6qk8qdgf4n4g3pfee6491hc0brc4i.apps.googleusercontent.com&redirect_uri=urn%3aietf%3awg%3aoauth%3a2.0%3aoob&response_type=code&scope=email%20https%3a%2f%2fwww.googleapis.com%2fauth%2fdocs.test%20https%3a%2f%2fwww.googleapis.com%2fauth%2fdrive%20https%3a%2f%2fwww.googleapis.com%2fauth%2fdrive.photos.readonly%20https%3a%2f%2fwww.googleapis.com%2fauth%2fpeopleapi.readonly\n",
            "\n",
            "Enter your authorization code:\n",
            "··········\n",
            "Mounted at /content/drive\n"
          ],
          "name": "stdout"
        }
      ]
    },
    {
      "cell_type": "markdown",
      "metadata": {
        "id": "FVt_1hPt1dAK",
        "colab_type": "text"
      },
      "source": [
        "## Notebooks in Colab\n",
        "\n",
        "You now are presumably in Colab. Word of caution, by default, Google Colab does not save your notebooks, so if you close your session, you will loose your work.\n",
        "\n",
        "So first thing: from the file menu above select \"Save a copy in Drive\"."
      ]
    },
    {
      "cell_type": "markdown",
      "metadata": {
        "id": "x0JBL_RFrDDj",
        "colab_type": "text"
      },
      "source": [
        "## Storing Notebooks in Google Drive\n",
        "A better way to work is to save your notebooks directly into Google Drive and upload directly to Git (where you will be downloading and uploading your homework). In order properly setup Git, we'll need to work more directly in your Google Drive.\n",
        "\n",
        "On the left sidebar, press the file icon to see a listing of files accessibile to this Notebook. Then press \"Mount Drive\" and follow the instructions to mount your Google Drive in this notebook. A new cell will be inserted into this notebook, which after you run by pressing the play button will instruct you to follow a link to log into your Google Account and enable access to your Drive in another tab. Finally you will copy a link from the new tab back into the cell in this notebook. Once you are done, press refresh under files in the left sidebar and you should have \"drive/My Drive\" appear."
      ]
    },
    {
      "cell_type": "markdown",
      "metadata": {
        "id": "hwJ6wJk3tiLv",
        "colab_type": "text"
      },
      "source": [
        "## Github\n",
        "All the class material will be stored on github. You will also submit your homework using github. To do so, you will need a github account.\n",
        "\n",
        "If you do not already have a github account or wish to create a new one for this course, create one:\n",
        "* Browse to [github.com](https://github.com).\n",
        "* Click the green “Sign up for GitHub”\tbutton.\n",
        "* Follow instructions for creating an account.\n",
        "* Make sure you remember your github username and password.\n",
        "\n",
        "Write an email to the course TA titled \"Data 1401: Github account\" with your github username (not your password) as the contents.\n",
        "\n",
        "## Google Groups\n",
        "\n",
        "Class annoucements will be made via google groups. If you did not already receive an invite to the class google group, had trouble with the invite, or wish to use a different email address, write an email to the course TA titled \"Data 1401: Google Group\" with your preferred email.\n"
      ]
    },
    {
      "cell_type": "markdown",
      "metadata": {
        "id": "TjfIzdQZqvzk",
        "colab_type": "text"
      },
      "source": [
        "## Introduction: Unix, Git, and Jupyter\n",
        "\n",
        "This lab aims to introduce you to basic Unix, familiarize you with iPython notebooks and get you setup to submit your homework.\n",
        "*italicized text*"
      ]
    },
    {
      "cell_type": "markdown",
      "metadata": {
        "id": "C_LmOgzFqvzp",
        "colab_type": "text"
      },
      "source": [
        "\n",
        "\n",
        "### Terminal, Shell, and ssh\n",
        "\n",
        "\n",
        "The terminal is a simple program that generally runs another program, taking mostly keyboard input from you, passing it to this other program, and taking the output of the program and displaying on the screen for you.\n",
        "\n",
        "The terminal usually runs a program called a shell. Shells present a command prompt where you can type in commands, which are then executed when you press enter. In most shells, there are some special commands which the shell will execute. Everything else you type in, the shell will assume is a name of a program you want to run and arguments you want to pass that program. So if the shell doesn't recognize something you type in, it'll try to find a program with a name that is the same as the first word you gave it. \n",
        "\n",
        "### Shell in Colab\n",
        "\n",
        "Unfortunately, google Colab does not allow you to open a terminal window. Jupyter does, so if you are running in Jupyter (which most of you will not be), you may choose to open a terminal window by returning to the jupyter file list tab and selecting new terminal from the top right.\n",
        "\n",
        "For Colab, we will have to do something non-ideal, but functional. There are several ways to execute shell commands from within a python notebook. For example, you can use any shell command by putting \"!\" in front of the command:\n",
        "\n",
        "\n",
        "\n"
      ]
    },
    {
      "cell_type": "code",
      "metadata": {
        "id": "KJ5f-WO0wcAv",
        "colab_type": "code",
        "outputId": "2f31b640-40cf-44fb-f705-f0549d502518",
        "colab": {
          "base_uri": "https://localhost:8080/",
          "height": 102
        }
      },
      "source": [
        "!ls\n",
        "!echo \"----------\"\n",
        "!ls sample_data"
      ],
      "execution_count": 0,
      "outputs": [
        {
          "output_type": "stream",
          "text": [
            "drive  sample_data\n",
            "----------\n",
            "anscombe.json\t\t      mnist_test.csv\n",
            "california_housing_test.csv   mnist_train_small.csv\n",
            "california_housing_train.csv  README.md\n"
          ],
          "name": "stdout"
        }
      ]
    },
    {
      "cell_type": "markdown",
      "metadata": {
        "id": "8f-n4AXFw-dD",
        "colab_type": "text"
      },
      "source": [
        "Unfortunately, every time you use \"!\" a new environment is created and the state reverted to the original state. Try to understand the difference between the following two sets of commands:\n"
      ]
    },
    {
      "cell_type": "code",
      "metadata": {
        "id": "99nrBYTWxZJr",
        "colab_type": "code",
        "outputId": "26a2b96c-1381-4dca-ff10-b6d6ef3e1a82",
        "colab": {
          "base_uri": "https://localhost:8080/",
          "height": 68
        }
      },
      "source": [
        "!echo \"Technique 1:\"\n",
        "!ls\n",
        "!cd sample_data\n",
        "!ls"
      ],
      "execution_count": 0,
      "outputs": [
        {
          "output_type": "stream",
          "text": [
            "Technique 1:\n",
            "drive  sample_data\n",
            "drive  sample_data\n"
          ],
          "name": "stdout"
        }
      ]
    },
    {
      "cell_type": "code",
      "metadata": {
        "id": "2-Znf97Lxl-Z",
        "colab_type": "code",
        "outputId": "7d739354-6bcd-4934-b3e9-8884feb28994",
        "colab": {
          "base_uri": "https://localhost:8080/",
          "height": 102
        }
      },
      "source": [
        "!echo \"Technique 2:\"\n",
        "!ls ; cd sample_data ;ls"
      ],
      "execution_count": 0,
      "outputs": [
        {
          "output_type": "stream",
          "text": [
            "Technique 2:\n",
            "drive  sample_data\n",
            "anscombe.json\t\t      mnist_test.csv\n",
            "california_housing_test.csv   mnist_train_small.csv\n",
            "california_housing_train.csv  README.md\n"
          ],
          "name": "stdout"
        }
      ]
    },
    {
      "cell_type": "markdown",
      "metadata": {
        "id": "4x9n1rAkxyYl",
        "colab_type": "text"
      },
      "source": [
        "Notebooks allow a bit of \"magic\" (using \"%\") to avoid some of these limitations:\n"
      ]
    },
    {
      "cell_type": "code",
      "metadata": {
        "id": "vLBPTX4rx3gd",
        "colab_type": "code",
        "outputId": "c459c076-c2d7-4149-834a-b9e2903c2a1a",
        "colab": {
          "base_uri": "https://localhost:8080/",
          "height": 119
        }
      },
      "source": [
        "!echo \"Technique 3:\"\n",
        "!ls \n",
        "%cd sample_data \n",
        "!ls"
      ],
      "execution_count": 0,
      "outputs": [
        {
          "output_type": "stream",
          "text": [
            "Technique 3:\n",
            "drive  sample_data\n",
            "/content/sample_data\n",
            "anscombe.json\t\t      mnist_test.csv\n",
            "california_housing_test.csv   mnist_train_small.csv\n",
            "california_housing_train.csv  README.md\n"
          ],
          "name": "stdout"
        }
      ]
    },
    {
      "cell_type": "markdown",
      "metadata": {
        "id": "U8XpvPjcyH0w",
        "colab_type": "text"
      },
      "source": [
        "For our purposes, we are just going to explicitly start a new shell and interact with it in the output cell. Execute the following cell. You will be able to type and execute commands. Look around a bit using \"ls\" and \"cd. You can stop the cell from running by typing \"exit\"."
      ]
    },
    {
      "cell_type": "code",
      "metadata": {
        "id": "MIDFitLZyuZy",
        "colab_type": "code",
        "outputId": "5a308bc9-fa60-4821-8108-e8112b82c468",
        "colab": {
          "base_uri": "https://localhost:8080/",
          "height": 1000
        }
      },
      "source": [
        "!/bin/bash --noediting"
      ],
      "execution_count": 0,
      "outputs": [
        {
          "output_type": "stream",
          "text": [
            "bash: cannot set terminal process group (120): Inappropriate ioctl for device\n",
            "bash: no job control in this shell\n",
            "\u001b]0;root@a2026fa2008e: /content/sample_data\u0007\u001b[01;32mroot@a2026fa2008e\u001b[00m:\u001b[01;34m/content/sample_data\u001b[00m# pwd\n",
            "/content/sample_data\n",
            "\u001b]0;root@a2026fa2008e: /content/sample_data\u0007\u001b[01;32mroot@a2026fa2008e\u001b[00m:\u001b[01;34m/content/sample_data\u001b[00m# which ls\n",
            "/bin/ls\n",
            "\u001b]0;root@a2026fa2008e: /content/sample_data\u0007\u001b[01;32mroot@a2026fa2008e\u001b[00m:\u001b[01;34m/content/sample_data\u001b[00m# ls /bin\n",
            "\u001b[0m\u001b[01;32mbash\u001b[0m           \u001b[01;32mjournalctl\u001b[0m     \u001b[01;32msync\u001b[0m\n",
            "\u001b[01;32mbunzip2\u001b[0m        \u001b[01;32mkill\u001b[0m           \u001b[01;32msystemctl\u001b[0m\n",
            "\u001b[01;32mbzcat\u001b[0m          \u001b[01;32mkmod\u001b[0m           \u001b[01;36msystemd\u001b[0m\n",
            "\u001b[01;36mbzcmp\u001b[0m          \u001b[01;32mless\u001b[0m           \u001b[01;32msystemd-ask-password\u001b[0m\n",
            "\u001b[01;32mbzdiff\u001b[0m         \u001b[01;32mlessecho\u001b[0m       \u001b[01;32msystemd-escape\u001b[0m\n",
            "\u001b[01;36mbzegrep\u001b[0m        \u001b[01;36mlessfile\u001b[0m       \u001b[01;32msystemd-hwdb\u001b[0m\n",
            "\u001b[01;32mbzexe\u001b[0m          \u001b[01;32mlesskey\u001b[0m        \u001b[01;32msystemd-inhibit\u001b[0m\n",
            "\u001b[01;36mbzfgrep\u001b[0m        \u001b[01;32mlesspipe\u001b[0m       \u001b[01;32msystemd-machine-id-setup\u001b[0m\n",
            "\u001b[01;32mbzgrep\u001b[0m         \u001b[01;32mln\u001b[0m             \u001b[01;32msystemd-notify\u001b[0m\n",
            "\u001b[01;32mbzip2\u001b[0m          \u001b[01;32mlogin\u001b[0m          \u001b[01;32msystemd-sysusers\u001b[0m\n",
            "\u001b[01;32mbzip2recover\u001b[0m   \u001b[01;32mloginctl\u001b[0m       \u001b[01;32msystemd-tmpfiles\u001b[0m\n",
            "\u001b[01;36mbzless\u001b[0m         \u001b[01;32mls\u001b[0m             \u001b[01;32msystemd-tty-ask-password-agent\u001b[0m\n",
            "\u001b[01;32mbzmore\u001b[0m         \u001b[01;32mlsblk\u001b[0m          \u001b[01;32mtar\u001b[0m\n",
            "\u001b[01;32mcat\u001b[0m            \u001b[01;36mlsmod\u001b[0m          \u001b[01;32mtempfile\u001b[0m\n",
            "\u001b[01;32mchgrp\u001b[0m          \u001b[01;32mmkdir\u001b[0m          \u001b[01;32mtouch\u001b[0m\n",
            "\u001b[01;32mchmod\u001b[0m          \u001b[01;32mmknod\u001b[0m          \u001b[01;32mtrue\u001b[0m\n",
            "\u001b[01;32mchown\u001b[0m          \u001b[01;32mmktemp\u001b[0m         \u001b[01;32mudevadm\u001b[0m\n",
            "\u001b[01;32mcp\u001b[0m             \u001b[01;32mmore\u001b[0m           \u001b[01;32mulockmgr_server\u001b[0m\n",
            "\u001b[01;32mdash\u001b[0m           \u001b[37;41mmount\u001b[0m          \u001b[37;41mumount\u001b[0m\n",
            "\u001b[01;32mdate\u001b[0m           \u001b[01;32mmountpoint\u001b[0m     \u001b[01;32muname\u001b[0m\n",
            "\u001b[01;32mdd\u001b[0m             \u001b[01;32mmv\u001b[0m             \u001b[01;32muncompress\u001b[0m\n",
            "\u001b[01;32mdf\u001b[0m             \u001b[01;32mnetworkctl\u001b[0m     \u001b[01;32mvdir\u001b[0m\n",
            "\u001b[01;32mdir\u001b[0m            \u001b[01;36mnisdomainname\u001b[0m  \u001b[01;32mwdctl\u001b[0m\n",
            "\u001b[01;32mdmesg\u001b[0m          \u001b[01;36mpidof\u001b[0m          \u001b[01;32mwhich\u001b[0m\n",
            "\u001b[01;36mdnsdomainname\u001b[0m  \u001b[01;32mps\u001b[0m             \u001b[01;36mypdomainname\u001b[0m\n",
            "\u001b[01;36mdomainname\u001b[0m     \u001b[01;32mpwd\u001b[0m            \u001b[01;32mzcat\u001b[0m\n",
            "\u001b[01;32mecho\u001b[0m           \u001b[01;36mrbash\u001b[0m          \u001b[01;32mzcmp\u001b[0m\n",
            "\u001b[01;32megrep\u001b[0m          \u001b[01;32mreadlink\u001b[0m       \u001b[01;32mzdiff\u001b[0m\n",
            "\u001b[01;32mfalse\u001b[0m          \u001b[01;32mrm\u001b[0m             \u001b[01;32mzegrep\u001b[0m\n",
            "\u001b[01;32mfgrep\u001b[0m          \u001b[01;32mrmdir\u001b[0m          \u001b[01;32mzfgrep\u001b[0m\n",
            "\u001b[01;32mfindmnt\u001b[0m        \u001b[01;32mrun-parts\u001b[0m      \u001b[01;32mzforce\u001b[0m\n",
            "\u001b[37;41mfusermount\u001b[0m     \u001b[01;32msed\u001b[0m            \u001b[01;32mzgrep\u001b[0m\n",
            "\u001b[01;32mgrep\u001b[0m           \u001b[01;36msh\u001b[0m             \u001b[01;32mzless\u001b[0m\n",
            "\u001b[01;32mgunzip\u001b[0m         \u001b[01;36msh.distrib\u001b[0m     \u001b[01;32mzmore\u001b[0m\n",
            "\u001b[01;32mgzexe\u001b[0m          \u001b[01;32msleep\u001b[0m          \u001b[01;32mznew\u001b[0m\n",
            "\u001b[01;32mgzip\u001b[0m           \u001b[01;32mstty\u001b[0m\n",
            "\u001b[01;32mhostname\u001b[0m       \u001b[37;41msu\u001b[0m\n",
            "\u001b]0;root@a2026fa2008e: /content/sample_data\u0007\u001b[01;32mroot@a2026fa2008e\u001b[00m:\u001b[01;34m/content/sample_data\u001b[00m# printenv\n",
            "CUDNN_VERSION=7.6.5.32\n",
            "LS_COLORS=rs=0:di=01;34:ln=01;36:mh=00:pi=40;33:so=01;35:do=01;35:bd=40;33;01:cd=40;33;01:or=40;31;01:mi=00:su=37;41:sg=30;43:ca=30;41:tw=30;42:ow=34;42:st=37;44:ex=01;32:*.tar=01;31:*.tgz=01;31:*.arc=01;31:*.arj=01;31:*.taz=01;31:*.lha=01;31:*.lz4=01;31:*.lzh=01;31:*.lzma=01;31:*.tlz=01;31:*.txz=01;31:*.tzo=01;31:*.t7z=01;31:*.zip=01;31:*.z=01;31:*.Z=01;31:*.dz=01;31:*.gz=01;31:*.lrz=01;31:*.lz=01;31:*.lzo=01;31:*.xz=01;31:*.zst=01;31:*.tzst=01;31:*.bz2=01;31:*.bz=01;31:*.tbz=01;31:*.tbz2=01;31:*.tz=01;31:*.deb=01;31:*.rpm=01;31:*.jar=01;31:*.war=01;31:*.ear=01;31:*.sar=01;31:*.rar=01;31:*.alz=01;31:*.ace=01;31:*.zoo=01;31:*.cpio=01;31:*.7z=01;31:*.rz=01;31:*.cab=01;31:*.wim=01;31:*.swm=01;31:*.dwm=01;31:*.esd=01;31:*.jpg=01;35:*.jpeg=01;35:*.mjpg=01;35:*.mjpeg=01;35:*.gif=01;35:*.bmp=01;35:*.pbm=01;35:*.pgm=01;35:*.ppm=01;35:*.tga=01;35:*.xbm=01;35:*.xpm=01;35:*.tif=01;35:*.tiff=01;35:*.png=01;35:*.svg=01;35:*.svgz=01;35:*.mng=01;35:*.pcx=01;35:*.mov=01;35:*.mpg=01;35:*.mpeg=01;35:*.m2v=01;35:*.mkv=01;35:*.webm=01;35:*.ogm=01;35:*.mp4=01;35:*.m4v=01;35:*.mp4v=01;35:*.vob=01;35:*.qt=01;35:*.nuv=01;35:*.wmv=01;35:*.asf=01;35:*.rm=01;35:*.rmvb=01;35:*.flc=01;35:*.avi=01;35:*.fli=01;35:*.flv=01;35:*.gl=01;35:*.dl=01;35:*.xcf=01;35:*.xwd=01;35:*.yuv=01;35:*.cgm=01;35:*.emf=01;35:*.ogv=01;35:*.ogx=01;35:*.aac=00;36:*.au=00;36:*.flac=00;36:*.m4a=00;36:*.mid=00;36:*.midi=00;36:*.mka=00;36:*.mp3=00;36:*.mpc=00;36:*.ogg=00;36:*.ra=00;36:*.wav=00;36:*.oga=00;36:*.opus=00;36:*.spx=00;36:*.xspf=00;36:\n",
            "LD_LIBRARY_PATH=/usr/local/nvidia/lib:/usr/local/nvidia/lib64\n",
            "LESSCLOSE=/usr/bin/lesspipe %s %s\n",
            "LANG=en_US.UTF-8\n",
            "HOSTNAME=a2026fa2008e\n",
            "OLDPWD=/\n",
            "CLOUDSDK_CONFIG=/content/.config\n",
            "NVIDIA_VISIBLE_DEVICES=all\n",
            "DATALAB_SETTINGS_OVERRIDES={\"kernelManagerProxyPort\":6000,\"kernelManagerProxyHost\":\"172.28.0.3\",\"jupyterArgs\":[\"--ip=\\\"172.28.0.2\\\"\"]}\n",
            "ENV=/root/.bashrc\n",
            "PAGER=cat\n",
            "NCCL_VERSION=2.4.8\n",
            "TF_FORCE_GPU_ALLOW_GROWTH=true\n",
            "JPY_PARENT_PID=24\n",
            "NO_GCE_CHECK=True\n",
            "PWD=/content/sample_data\n",
            "HOME=/root\n",
            "LAST_FORCED_REBUILD=20191217\n",
            "CLICOLOR=1\n",
            "DEBIAN_FRONTEND=noninteractive\n",
            "LIBRARY_PATH=/usr/local/cuda/lib64/stubs\n",
            "GLIBCPP_FORCE_NEW=1\n",
            "TBE_CREDS_ADDR=172.28.0.1:8008\n",
            "SHELL=/bin/bash\n",
            "TERM=xterm-color\n",
            "GCS_READ_CACHE_BLOCK_SIZE_MB=16\n",
            "PYTHONWARNINGS=ignore:::pip._internal.cli.base_command\n",
            "MPLBACKEND=module://ipykernel.pylab.backend_inline\n",
            "CUDA_PKG_VERSION=10-1=10.1.243-1\n",
            "CUDA_VERSION=10.1.243\n",
            "NVIDIA_DRIVER_CAPABILITIES=compute,utility\n",
            "SHLVL=3\n",
            "PYTHONPATH=/env/python\n",
            "NVIDIA_REQUIRE_CUDA=cuda>=10.1 brand=tesla,driver>=384,driver<385 brand=tesla,driver>=396,driver<397 brand=tesla,driver>=410,driver<411\n",
            "COLAB_GPU=0\n",
            "GLIBCXX_FORCE_NEW=1\n",
            "PATH=/usr/local/nvidia/bin:/usr/local/cuda/bin:/usr/local/sbin:/usr/local/bin:/usr/sbin:/usr/bin:/sbin:/bin:/tools/node/bin:/tools/google-cloud-sdk/bin:/opt/bin\n",
            "LD_PRELOAD=/usr/lib/x86_64-linux-gnu/libtcmalloc.so.4\n",
            "LESSOPEN=| /usr/bin/lesspipe %s\n",
            "GIT_PAGER=cat\n",
            "_=/usr/bin/printenv\n",
            "\u001b]0;root@a2026fa2008e: /content/sample_data\u0007\u001b[01;32mroot@a2026fa2008e\u001b[00m:\u001b[01;34m/content/sample_data\u001b[00m# echo $SHELL\n",
            "/bin/bash\n",
            "\u001b]0;root@a2026fa2008e: /content/sample_data\u0007\u001b[01;32mroot@a2026fa2008e\u001b[00m:\u001b[01;34m/content/sample_data\u001b[00m# \n",
            "\u001b]0;root@a2026fa2008e: /content/sample_data\u0007\u001b[01;32mroot@a2026fa2008e\u001b[00m:\u001b[01;34m/content/sample_data\u001b[00m# \n",
            "\u001b]0;root@a2026fa2008e: /content/sample_data\u0007\u001b[01;32mroot@a2026fa2008e\u001b[00m:\u001b[01;34m/content/sample_data\u001b[00m# \n",
            "\u001b]0;root@a2026fa2008e: /content/sample_data\u0007\u001b[01;32mroot@a2026fa2008e\u001b[00m:\u001b[01;34m/content/sample_data\u001b[00m# ^C\n"
          ],
          "name": "stdout"
        }
      ]
    },
    {
      "cell_type": "markdown",
      "metadata": {
        "id": "q-4hfZBywW25",
        "colab_type": "text"
      },
      "source": [
        "While in this instance your shell is running in a this notebook, you can also run terminals natively on your own computer. On Linux or MacOS, you just have to run a program called terminal. In Windows you can start a \"command prompt\". \n",
        "\n",
        "\n",
        "Type in \"ls\" into the terminal and press enter. The shell will find a program called \"ls\", a standard tool in Unix, and run it. \"ls\" lists the contents (files and directories) of your current directory. If you are just starting in this course, you probably only see the git repository you cloned. \n",
        "\n",
        "A subtle point to realize here is that while the terminal is running in the browser that is running on the computer in front of you, the shell is actually running on a machine on google hardware. The shell prompt typically displays the name of the machine you are using. What you are not seeing is that there is an intermidate program between the terminal running on your computer and the shell running on google. This intermidary program is taking your input from the terminal sending it over the network to google and bringing back the responses for you terminal to display.\n",
        "\n",
        "A bit of extra information. If you start a terminal on your own computer, the shell runs locally. The \"ls\" command would then list contents of a directory on your computer. You can typically connect to Unix computers by evoking a shell running on that machine over the network. In this case, you would have to initiate this intermidiary program yourself. The program is called \"ssh\" (secure shell). You can \"ssh\" to another machine from your machine, by simply typing \"ssh\" followed by the machine name or IP address. Most likely you would be prompted for a password, after which you would dropped into the prompt of a shell running on the remote machine. \n"
      ]
    },
    {
      "cell_type": "markdown",
      "metadata": {
        "id": "51Eya4LBqvzs",
        "colab_type": "text"
      },
      "source": [
        "## Programs and Environment Variables\n",
        "\n",
        "You have a listing of your current directory, but you don't know where that directory resides. You can see what directory you are using the command \"pwd\" (print working directory). Issue the command and look at the response. You'll get a slash (\"/\") separated list, known as the path, of the directory hierarchy of your current working directory. On Colab, this will start with \"contents\"\n",
        "\n",
        "Now back to thinking about the command prompt. Since \"ls\" is a program, it most be stored somewhere. It is clearly not in your working directory, because you didn't see it when you executed \"ls\". We can ask the shell to tell us where it found \"ls\" using the \"which ls\" command. Note that \"which\" is also a program. \"which ls\" comes back with \"/bin/ls\", telling you the \"ls\" program is sitting in \"/bin\" directory of the system. \n",
        "\n",
        "Lets see what else is in there by issuing a \"ls /bin\" command. You will get a long list of programs. You can run any of these programs by just typing their names and pressing enter. You may be able to guess what some of these programs do, but if you want to know, most of them provide you help, using \"--help\" or \"-h\" flag. For example execute \"ls --help\". For more information about a program or command, you can use Unix's manual pages using the \"man\" command. Try typing \"man ls\". Note that you will need to press space to scroll through lengthy manual pages and \"q\" to exit back to the shell prompt. \n",
        "\n",
        "Another command interesting is \"echo\". \"echo\" simply prints whatever you put after it to the screen. Try executing \"echo Hello World.\"\n",
        "\n",
        "At this point, you may wonder how was it that the shell knew to look for programs in \"/bin\"? The shell keeps a list of places to look for programs an environment variable with the name \"PATH\". The shell keeps a table that map string variable names to string expressions. When the shell starts, its configuration files set some environment variables that it uses. You can see the full list of defined environment variables using the command \"printenv\".\n",
        "\n",
        "You can use a environment variable in a shell by prepending name of the variable with a dollar sign character (\"\\$\"). So you can print out the PATH environment variable using the command \"echo $PATH\". What you will see is a colon (\":\") separated list of directories that the shell will search (in order) whenever you type in anything.\n",
        "\n",
        "You can set you own environment variables. Different shells have different syntax. Lets first figure out what shell we are running. \n",
        "\n",
        "*Exercise 1:* Use the \"echo\" command to print out the value of the \"SHELL\" environment variable:"
      ]
    },
    {
      "cell_type": "markdown",
      "metadata": {
        "id": "YS7YFiPwqvzu",
        "colab_type": "text"
      },
      "source": [
        "!/bin/bash --noediting"
      ]
    },
    {
      "cell_type": "code",
      "metadata": {
        "id": "QtAUpDAWNjyj",
        "colab_type": "code",
        "colab": {}
      },
      "source": [
        "!/bin/bash -noediting"
      ],
      "execution_count": 0,
      "outputs": []
    },
    {
      "cell_type": "markdown",
      "metadata": {
        "id": "YoEgruUhqvzw",
        "colab_type": "text"
      },
      "source": [
        "## Navigating Directories\n",
        "\n",
        "You can change your current directory using the \"cd\" shell command. Note that \"cd\" is not a Unix program. Once in a directory, you can use the \"ls\" command to list the contents or \"pwd\" to remind yourself your current working directory. You can move back one level in your current directory hierarchy using \"cd ..\". In general \"..\" represents the path to a directory one level above your current directory, \"../..\" represents two levels up, and so on. \".\" represents the current directory. If you look at the PATH environment variable, you'll notice that the last item is \".\", telling the shell to look into your current directory for commands. Finally the \"~\" character always refers to your home directory.\n",
        "\n",
        "Some other file manipulation commands:\n",
        "\n",
        "   - The \"mkdir\" command creates new directories. \n",
        "   - \"cp\" and \"mv\" allow you to copy and move (or rename) files, taking 2 arguments: the original path/filename and the target path/filename.  \n",
        "   - The \"rm\" and \"rmdir\" commands remove (delete) files and directories.\n",
        "\n",
        "\n",
        "*Exercise 2:* Using the \"cd\" command, navigate into \"drive/My\\ Drive\" directory. Create a new directory called \"Data-1441\", and another directory inside \"Data-1441\" called \"Lab-1-Solutions\". Perform the rest of the lab in this directory."
      ]
    },
    {
      "cell_type": "code",
      "metadata": {
        "id": "A16VzZ3G0J8x",
        "colab_type": "code",
        "outputId": "d599ec86-6d8a-49cd-af4b-cc6721b318a6",
        "colab": {
          "base_uri": "https://localhost:8080/",
          "height": 170
        }
      },
      "source": [
        "!/bin/bash --noediting"
      ],
      "execution_count": 0,
      "outputs": [
        {
          "output_type": "stream",
          "text": [
            "bash: cannot set terminal process group (120): Inappropriate ioctl for device\n",
            "bash: no job control in this shell\n",
            "\u001b]0;root@a2026fa2008e: /content/sample_data\u0007\u001b[01;32mroot@a2026fa2008e\u001b[00m:\u001b[01;34m/content/sample_data\u001b[00m# cd ../drive/My\\ Drive\n",
            "\u001b]0;root@a2026fa2008e: /content/drive/My Drive\u0007\u001b[01;32mroot@a2026fa2008e\u001b[00m:\u001b[01;34m/content/drive/My Drive\u001b[00m# mkdir Data-1441\n",
            "\u001b]0;root@a2026fa2008e: /content/drive/My Drive\u0007\u001b[01;32mroot@a2026fa2008e\u001b[00m:\u001b[01;34m/content/drive/My Drive\u001b[00m# cd Data-1441\n",
            "\u001b]0;root@a2026fa2008e: /content/drive/My Drive/Data-1441\u0007\u001b[01;32mroot@a2026fa2008e\u001b[00m:\u001b[01;34m/content/drive/My Drive/Data-1441\u001b[00m# ls\n",
            "\u001b]0;root@a2026fa2008e: /content/drive/My Drive/Data-1441\u0007\u001b[01;32mroot@a2026fa2008e\u001b[00m:\u001b[01;34m/content/drive/My Drive/Data-1441\u001b[00m# mkdir Lab-1-Solutions\n",
            "\u001b]0;root@a2026fa2008e: /content/drive/My Drive/Data-1441\u0007\u001b[01;32mroot@a2026fa2008e\u001b[00m:\u001b[01;34m/content/drive/My Drive/Data-1441\u001b[00m# exit\n",
            "exit\n"
          ],
          "name": "stdout"
        }
      ]
    },
    {
      "cell_type": "markdown",
      "metadata": {
        "id": "o38c4lbsqvzy",
        "colab_type": "text"
      },
      "source": [
        "## Exploring Unix Filesystem\n",
        "\n",
        "You can look at the root directory of the system by issuing \"ls /\". As explained in lecture, Unix uses the file system to communicate with devices and between processes. \"/etc\" keeps the configuration files of the system. \"/bin\" and \"/sbin\" store most of the standard Unix programs. \"/usr\" stores installes programs and their associate files, with \"/usr/bin\" usually storing the commands you can run. \n",
        "\n",
        "*Exercise 3:* List the \"/dev\" directory. How many SSD storage devices do you see? How many partitions does each device have? (Answer in box below)"
      ]
    },
    {
      "cell_type": "code",
      "metadata": {
        "id": "yNj2LXzP2ksl",
        "colab_type": "code",
        "outputId": "3b32b8ca-0a31-4e55-ecab-1ea3b0e9aa44",
        "colab": {
          "base_uri": "https://localhost:8080/",
          "height": 425
        }
      },
      "source": [
        "!/bin/bash --noediting\n",
        "# 1 storage device, 12 partitons"
      ],
      "execution_count": 0,
      "outputs": [
        {
          "output_type": "stream",
          "text": [
            "bash: cannot set terminal process group (120): Inappropriate ioctl for device\n",
            "bash: no job control in this shell\n",
            "\u001b]0;root@a2026fa2008e: /content/drive/My Drive/Data-1441/Lab-1-Solutions\u0007\u001b[01;32mroot@a2026fa2008e\u001b[00m:\u001b[01;34m/content/drive/My Drive/Data-1441/Lab-1-Solutions\u001b[00m# lssda\n",
            "bash: lssda: command not found\n",
            "\u001b]0;root@a2026fa2008e: /content/drive/My Drive/Data-1441/Lab-1-Solutions\u0007\u001b[01;32mroot@a2026fa2008e\u001b[00m:\u001b[01;34m/content/drive/My Drive/Data-1441/Lab-1-Solutions\u001b[00m# lsda\n",
            "bash: lsda: command not found\n",
            "\u001b]0;root@a2026fa2008e: /content/drive/My Drive/Data-1441/Lab-1-Solutions\u0007\u001b[01;32mroot@a2026fa2008e\u001b[00m:\u001b[01;34m/content/drive/My Drive/Data-1441/Lab-1-Solutions\u001b[00m# lsblk\n",
            "NAME    MAJ:MIN RM   SIZE RO TYPE MOUNTPOINT\n",
            "loop0     7:0    0   110G  0 loop \n",
            "sda       8:0    0   120G  0 disk \n",
            "├─sda1    8:1      115.9G  0 part /etc/hosts\n",
            "├─sda2    8:2    0    16M  0 part \n",
            "├─sda3    8:3    0     2G  0 part \n",
            "├─sda4    8:4    0    16M  0 part \n",
            "├─sda5    8:5    0     2G  0 part \n",
            "├─sda6    8:6        512B  0 part \n",
            "├─sda7    8:7    0   512B  0 part \n",
            "├─sda8    8:8         16M  0 part \n",
            "├─sda9    8:9    0   512B  0 part \n",
            "├─sda10   8:10   0   512B  0 part \n",
            "├─sda11   8:11         8M  0 part \n",
            "└─sda12   8:12   0    32M  0 part \n",
            "\u001b]0;root@a2026fa2008e: /content/drive/My Drive/Data-1441/Lab-1-Solutions\u0007\u001b[01;32mroot@a2026fa2008e\u001b[00m:\u001b[01;34m/content/drive/My Drive/Data-1441/Lab-1-Solutions\u001b[00m# exit\n",
            "exit\n"
          ],
          "name": "stdout"
        }
      ]
    },
    {
      "cell_type": "markdown",
      "metadata": {
        "id": "7P9EG0KOqvz2",
        "colab_type": "text"
      },
      "source": [
        "## Text File Manipulation\n",
        "\n",
        "As explained in lecture, Unix stores most information in text files. For example, the list of all users and their home directories are stored in \"/etc/passwd\". Let get some familiarity with the most commonly used commands to manipulate files.\n",
        "\n",
        "   - You can see the contents contents a file using the \"cat\" (concatenate) command. Try executing \"cat /etc/passwd\". You'll get a huge list that will go by your screen quickly. \n",
        "   \n",
        "   - To go through the file page by page, you can use the \"less\" or \"more\" commands. \n",
        "   \n",
        "   - You can see the first or last N (N=10 by default) lines of a file using \"head\" or \"tail\" commands. For example \"tail -20 /etc/passwd\" will list the last 20 lines. \n",
        "   \n",
        "   - You can search a test file using the \"grep\" command, which takes a string keyword as the first argument and a filename as the second, and by default prints out every line in the file that contrains the string. So for example you can do \"grep \\$USER /etc/passwd\" to find the line corresponding to your account. Some useful flags: \n",
        "   \n",
        "   - \"-i\" ignores the case of the keyword\n",
        "   - \"-v\" display those lines that do NOT match \n",
        "   - \"-n\" precede each matching line with the line number \n",
        "   - \"-c\" print only the total count of matched lines \n",
        "   \n",
        "   For example \"grep -c \\$USER /etc/passwd\" should show that you are in the password file just once. \n",
        "   \n",
        "   - The \"wc\" (word count) command counts the number of lines, words, and characters in a file. By default \"wc\" gives you all three numbers, but \"-w\", \"-l\", or \"-c\" flags \n",
        "\n",
        "*Exercise 4:* Count how many lines in the password file contain the letter \"w\". "
      ]
    },
    {
      "cell_type": "code",
      "metadata": {
        "id": "UlsANMuf2qMs",
        "colab_type": "code",
        "outputId": "15574af9-3dd4-4634-efe4-9804c090b6ac",
        "colab": {
          "base_uri": "https://localhost:8080/",
          "height": 119
        }
      },
      "source": [
        "!/bin/bash --noediting\n",
        "# 3"
      ],
      "execution_count": 0,
      "outputs": [
        {
          "output_type": "stream",
          "text": [
            "bash: cannot set terminal process group (120): Inappropriate ioctl for device\n",
            "bash: no job control in this shell\n",
            "\u001b]0;root@a2026fa2008e: /content/drive/My Drive/Data-1441/Lab-1-Solutions\u0007\u001b[01;32mroot@a2026fa2008e\u001b[00m:\u001b[01;34m/content/drive/My Drive/Data-1441/Lab-1-Solutions\u001b[00m# grep -ic w /etc/passwd\n",
            "3\n",
            "\u001b]0;root@a2026fa2008e: /content/drive/My Drive/Data-1441/Lab-1-Solutions\u0007\u001b[01;32mroot@a2026fa2008e\u001b[00m:\u001b[01;34m/content/drive/My Drive/Data-1441/Lab-1-Solutions\u001b[00m# exit\n",
            "exit\n"
          ],
          "name": "stdout"
        }
      ]
    },
    {
      "cell_type": "markdown",
      "metadata": {
        "id": "SZuhLbD8qvz5",
        "colab_type": "text"
      },
      "source": [
        "## Redirection\n",
        "\n",
        "Unix provides programs \"pipes\" for input and output. Most of what you see on the screen when you run a program  was written to the \"stdout\" (standard output) pipe. Other pipes are \"stdin\" (standard input) and \"stderr\" (standard error), where error messages are written.\n",
        "\n",
        "As discussed in lecture, the basic commands of are simple, but you can chain them to do complicated things. Redirection is how you chain these commands, directing the output of one command to the input of the next.\n",
        "\n",
        "As an example, consider the \"cat\" command. Cat takes stdin and outputs it to stdout. Type \"cat\" and press enter and confirm. You can get back to the command prompt by pressing \"control-c\" (sends terminate singal) or \"control-d\" (end of file character). Note that from now on we will use the convention: \"control-d\" = \"^D\"\n",
        "\n",
        "*Exercise 5a:* Using \"cat\" and indirection you can write things into a file. The \">\" symbol directs stdout into a file. Try \"cat > favorite-colors-list.txt\" and then type in your 3 favorite colors, each on it's own line. Use \"^D\" to end your input."
      ]
    },
    {
      "cell_type": "markdown",
      "metadata": {
        "id": "H5vxtcXnqvz6",
        "colab_type": "text"
      },
      "source": [
        "Use \"cat\", \"more\", or \"less\" to confirm that you file is as you expect it. \">>\" allows you to append to the file. \n",
        "\n",
        "*Exercise 5b:* Append 2 more colors to your file."
      ]
    },
    {
      "cell_type": "code",
      "metadata": {
        "id": "twRKNaGy3XGw",
        "colab_type": "code",
        "outputId": "a1ddc514-a73c-4686-e2b1-4f3777fe3000",
        "colab": {
          "base_uri": "https://localhost:8080/",
          "height": 221
        }
      },
      "source": [
        "!/bin/bash --noediting\n",
        "# white\n",
        "# black\n",
        "# red\n",
        "# blue\n",
        "# orange"
      ],
      "execution_count": 0,
      "outputs": [
        {
          "output_type": "stream",
          "text": [
            "bash: cannot set terminal process group (120): Inappropriate ioctl for device\n",
            "bash: no job control in this shell\n",
            "\u001b]0;root@a2026fa2008e: /content/drive/My Drive/Data-1441/Lab-1-Solutions\u0007\u001b[01;32mroot@a2026fa2008e\u001b[00m:\u001b[01;34m/content/drive/My Drive/Data-1441/Lab-1-Solutions\u001b[00m# cat > favorite-colors-list.txt\n",
            "white\n",
            "black\n",
            "red\n",
            "\n",
            "\u001b]0;root@a2026fa2008e: /content/drive/My Drive/Data-1441/Lab-1-Solutions\u0007\u001b[01;32mroot@a2026fa2008e\u001b[00m:\u001b[01;34m/content/drive/My Drive/Data-1441/Lab-1-Solutions\u001b[00m# cat >> favorite-colors-list.txt\n",
            "blue\n",
            "orange\n",
            "\n",
            "\u001b]0;root@a2026fa2008e: /content/drive/My Drive/Data-1441/Lab-1-Solutions\u0007\u001b[01;32mroot@a2026fa2008e\u001b[00m:\u001b[01;34m/content/drive/My Drive/Data-1441/Lab-1-Solutions\u001b[00m# ^C\n"
          ],
          "name": "stdout"
        }
      ]
    },
    {
      "cell_type": "markdown",
      "metadata": {
        "id": "DZODNKiAqvz8",
        "colab_type": "text"
      },
      "source": [
        "The \"sort\" command sorts what it sees on stdin. Instead of taking input from the terminal, you can direct the shell to take stdin from a file using \"<\". Try \"sort < favorite-color-list.txt\" and \"sort < favorite-color-list.txt > sorted-favorite-color-list.txt\".\n",
        "\n",
        "Finally, instead of piping input / output into files, you can directly chain one program into another using \"|\". So for example, you can do \"cat /etc/passwd | grep -i \\$USER | wc -l\". \n",
        "\n",
        "*Exercise 5c:* Use indirection to count the number of users on TACC with your first name. Copy the command you used into box below."
      ]
    },
    {
      "cell_type": "code",
      "metadata": {
        "id": "oP9XlZl_3iZD",
        "colab_type": "code",
        "colab": {}
      },
      "source": [
        "!/bin/bash --noediting"
      ],
      "execution_count": 0,
      "outputs": []
    },
    {
      "cell_type": "markdown",
      "metadata": {
        "id": "v5IaZXNyqvz_",
        "colab_type": "text"
      },
      "source": [
        "## Git\n",
        "\n",
        "`git` is a Version Control System (VCS), typically used to organize the source code of software project but also good source of documents or web-pages. An instance of `git` server stores repositories, each typically containing the code relevant to a specific project. Users create local `clones` of repositories, change and develop the local copies of the code, `commit` the changes to their local repository, `push` to the server as a contribution,  \n",
        "`pull` updates from the server, and `merge` changes between local and remote versions. \n",
        "\n",
        "Besides cloning, repositories can be branched or forked. A repository generally starts with a `master` branch that evolves as push requests are merged in. Creating a new branch from an existing branch creates a snapshot of the which can evolve independently or be merged in later. Branches are easy to make and delete, and can serve various purposes. They can represent a stable version of software package. Or a parallel development for different operating system. A fork of a repository is a standalone instance of the repository which can be stored and managed independently from the original, where you can work independently without constraints or interference. \n",
        "\n",
        "[GitHub](github.com) provides a massive publically accessible instance of a `git` system besides sharing code, projects can be developed by the open source community. It provides tools for managing your repository and a wiki for documentation. Contributions to public software on GitHub generally require making a merge request which would be judged by the managers of the repository. That's why most software packages enourage you to create a new fork, so you can work independently.\n",
        "\n",
        "Lets take a look at some repositories:\n",
        "\n",
        "* [This class](https://github.com/afarbin/DATA1401-Spring-2020)\n",
        "\n",
        "\n",
        "\n"
      ]
    },
    {
      "cell_type": "markdown",
      "metadata": {
        "id": "J_R64sQDqv0A",
        "colab_type": "text"
      },
      "source": [
        "## Plan\n",
        "\n",
        "You made a clone of the class repository at start of this lab. We will create a new fork where you can keep track and submit your work, following [these instructions](https://help.github.com/articles/fork-a-repo/).\n",
        "\n",
        "Goto to github.com and log in.\n",
        "\n",
        "Next, lets create a fork of the [class repository](https://github.com/afarbin/DATA1401-Spring-2019). Click the link and press the \"Fork\" button on the top right. Select your repository as where you want to place the fork.\n"
      ]
    },
    {
      "cell_type": "markdown",
      "metadata": {
        "id": "edTvE6rOqv0C",
        "colab_type": "text"
      },
      "source": [
        "Now we will check out your fork in your Google Drive / Colab.\n",
        "\n",
        "Note: Jupyter allows you to run shell directly in a notebook. We will use `!` and `%` to call shell commands directly in this notebook. Follow along yourself. Either create a new notebook or open a terminal. \n",
        "\n",
        "Start by listing the contents of your current directory."
      ]
    },
    {
      "cell_type": "code",
      "metadata": {
        "id": "e5tXg0f8qv0D",
        "colab_type": "code",
        "outputId": "6fa0b41a-aeb3-4de6-bd5d-511ca8afd957",
        "colab": {
          "base_uri": "https://localhost:8080/",
          "height": 442
        }
      },
      "source": [
        "%cd /content/drive/My\\ Drive\n",
        "!ls"
      ],
      "execution_count": 0,
      "outputs": [
        {
          "output_type": "stream",
          "text": [
            "/content/drive/My Drive\n",
            " 0E84CCE9-ED53-4F31-B77C-6496E957ED04.jpeg\n",
            " 51FD2468-94A1-4F13-974E-508BDD804C73.jpeg\n",
            " A6A4BE08-543B-4088-941D-B6EF032E84E3.jpeg\n",
            "'All Files'\n",
            " Biothing.gdoc\n",
            "'Colab Notebooks'\n",
            " Conquest_1.8.zip\n",
            "'Conquest Models.zip'\n",
            "'Copy of The One Page Novel Scene Spreadsheet.gsheet'\n",
            "'Copy of Vicentio.gslides'\n",
            " Data-1441\n",
            " Factorio.zip\n",
            "'Gears v27.dwg'\n",
            "'Gears v31.dwg'\n",
            "'HWN Proposed Silent Auction Basket Themes.gdoc'\n",
            "'May 2016 Newsletter.pdf'\n",
            " MCArch\n",
            "'[MV] IU(아이유) _ Friday(금요일에 만나요) (Feat. Jang Yi-jeong(장이정) of HISTORY(히스토리)).mp3'\n",
            "'Provide Access to Clean Water.gslides'\n",
            " resources.zip\n",
            "\"Samson's Reflection.gdoc\"\n",
            "'Text File (1).txt'\n",
            "'Text File.txt'\n",
            " TIG-1_zpse93244e6.JPG.crdownload\n"
          ],
          "name": "stdout"
        }
      ]
    },
    {
      "cell_type": "markdown",
      "metadata": {
        "id": "WYsyYcg1qv0J",
        "colab_type": "text"
      },
      "source": [
        "Make a new directory:"
      ]
    },
    {
      "cell_type": "code",
      "metadata": {
        "id": "Z7noY1hMqv0L",
        "colab_type": "code",
        "outputId": "c215b7ad-276d-4e34-baba-66b394c877ab",
        "colab": {
          "base_uri": "https://localhost:8080/",
          "height": 34
        }
      },
      "source": [
        "!mkdir Data-1401-Repo\n",
        "%cd Data-1401-Repo"
      ],
      "execution_count": 0,
      "outputs": [
        {
          "output_type": "stream",
          "text": [
            "/content/drive/My Drive/Data-1401-Repo\n"
          ],
          "name": "stdout"
        }
      ]
    },
    {
      "cell_type": "markdown",
      "metadata": {
        "id": "fwsBdTnYqv0Q",
        "colab_type": "text"
      },
      "source": [
        "From the github page for your fork, press the green \"Clone or download\" button and copy the URL.\n",
        "\n",
        "Goto to your notebook and use the following command to clone the repository, pasting the URL you just copied:\n"
      ]
    },
    {
      "cell_type": "code",
      "metadata": {
        "id": "8w42MH6Jqv0S",
        "colab_type": "code",
        "outputId": "e274141d-df09-4a6a-8599-e8d9867e6320",
        "colab": {
          "base_uri": "https://localhost:8080/",
          "height": 119
        }
      },
      "source": [
        "# What you past here should look like:\n",
        "!git clone https://github.com/sammysamsamsama/DATA1401-Spring-2020.git"
      ],
      "execution_count": 0,
      "outputs": [
        {
          "output_type": "stream",
          "text": [
            "Cloning into 'DATA1401-Spring-2020'...\n",
            "remote: Enumerating objects: 24, done.\u001b[K\n",
            "remote: Counting objects: 100% (24/24), done.\u001b[K\n",
            "remote: Compressing objects: 100% (16/16), done.\u001b[K\n",
            "remote: Total 24 (delta 3), reused 23 (delta 2), pack-reused 0\u001b[K\n",
            "Unpacking objects: 100% (24/24), done.\n"
          ],
          "name": "stdout"
        }
      ]
    },
    {
      "cell_type": "markdown",
      "metadata": {
        "id": "cOAuqTVUqv0V",
        "colab_type": "text"
      },
      "source": [
        "Go into the directory:"
      ]
    },
    {
      "cell_type": "code",
      "metadata": {
        "id": "b1Ew4tEZqv0X",
        "colab_type": "code",
        "outputId": "dd96ce57-cc07-472a-81c2-8e99bceb9276",
        "colab": {
          "base_uri": "https://localhost:8080/",
          "height": 51
        }
      },
      "source": [
        "%cd DATA1401-Spring-2020\n",
        "!ls"
      ],
      "execution_count": 0,
      "outputs": [
        {
          "output_type": "stream",
          "text": [
            "/content/drive/My Drive/Data-1401-Repo/DATA1401-Spring-2020\n",
            "Labs  Lectures\tREADME.md  syllabus.pdf\n"
          ],
          "name": "stdout"
        }
      ]
    },
    {
      "cell_type": "markdown",
      "metadata": {
        "id": "IrhWToc-qv0a",
        "colab_type": "text"
      },
      "source": [
        "We will now connect your fork to the original so you can pull changes from there. \n",
        "\n",
        "Check remote status:"
      ]
    },
    {
      "cell_type": "code",
      "metadata": {
        "id": "JxtMYR-9qv0c",
        "colab_type": "code",
        "outputId": "94194753-9622-4048-c4e2-e5a7ef408b4e",
        "colab": {
          "base_uri": "https://localhost:8080/",
          "height": 51
        }
      },
      "source": [
        "!git remote -v"
      ],
      "execution_count": 0,
      "outputs": [
        {
          "output_type": "stream",
          "text": [
            "origin\thttps://github.com/sammysamsamsama/DATA1401-Spring-2020.git (fetch)\n",
            "origin\thttps://github.com/sammysamsamsama/DATA1401-Spring-2020.git (push)\n"
          ],
          "name": "stdout"
        }
      ]
    },
    {
      "cell_type": "markdown",
      "metadata": {
        "id": "9ud3X0fBqv0f",
        "colab_type": "text"
      },
      "source": [
        "Now use the original class URL to set your upstream:"
      ]
    },
    {
      "cell_type": "code",
      "metadata": {
        "id": "pgJlKxBqqv0h",
        "colab_type": "code",
        "colab": {}
      },
      "source": [
        "!git remote add upstream https://github.com/afarbin/DATA1401-Spring-2020.git"
      ],
      "execution_count": 0,
      "outputs": []
    },
    {
      "cell_type": "code",
      "metadata": {
        "id": "id2yUEt9qv0k",
        "colab_type": "code",
        "outputId": "8afb6720-d840-4dfa-f46a-fd14eba94241",
        "colab": {
          "base_uri": "https://localhost:8080/",
          "height": 85
        }
      },
      "source": [
        "!git remote -v"
      ],
      "execution_count": 0,
      "outputs": [
        {
          "output_type": "stream",
          "text": [
            "origin\thttps://github.com/sammysamsamsama/DATA1401-Spring-2020.git (fetch)\n",
            "origin\thttps://github.com/sammysamsamsama/DATA1401-Spring-2020.git (push)\n",
            "upstream\thttps://github.com/afarbin/DATA1401-Spring-2020.git (fetch)\n",
            "upstream\thttps://github.com/afarbin/DATA1401-Spring-2020.git (push)\n"
          ],
          "name": "stdout"
        }
      ]
    },
    {
      "cell_type": "markdown",
      "metadata": {
        "id": "sAkgeJ6Iqv0n",
        "colab_type": "text"
      },
      "source": [
        "From now on, you can get the newest version of class material by using:"
      ]
    },
    {
      "cell_type": "code",
      "metadata": {
        "id": "AGDsfTFLqv0o",
        "colab_type": "code",
        "outputId": "517b1d5d-059d-46b0-b416-f4b0c3f5d17f",
        "colab": {
          "base_uri": "https://localhost:8080/",
          "height": 34
        }
      },
      "source": [
        "!git pull"
      ],
      "execution_count": 0,
      "outputs": [
        {
          "output_type": "stream",
          "text": [
            "Already up to date.\n"
          ],
          "name": "stdout"
        }
      ]
    },
    {
      "cell_type": "markdown",
      "metadata": {
        "id": "u9RAhs5b4vXY",
        "colab_type": "text"
      },
      "source": [
        "We will submit your Lab 1 using git at the next Lab."
      ]
    },
    {
      "cell_type": "code",
      "metadata": {
        "id": "PPfGmFQI40HR",
        "colab_type": "code",
        "colab": {}
      },
      "source": [
        ""
      ],
      "execution_count": 0,
      "outputs": []
    }
  ]
}