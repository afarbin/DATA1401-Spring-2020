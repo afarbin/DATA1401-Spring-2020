{
 "cells": [
  {
   "cell_type": "markdown",
   "metadata": {},
   "source": [
    "# Lab 5- Object Oriented Programming\n",
    "\n",
    "[![Open In Colab](https://colab.research.google.com/assets/colab-badge.svg)](https://colab.research.google.com/github//afarbin/DATA1401-Spring-2020/blob/master/Labs/Lab-5/Lab-5.ipynb)\n",
    "\n",
    "For all of the exercises below, make sure you provide tests of your solutions.\n"
   ]
  },
  {
   "cell_type": "markdown",
   "metadata": {},
   "source": [
    "1. Write a \"counter\" class that can be incremented up to a specified maximum value, will print an error if an attempt is made to increment beyond that value, and allows reseting the counter. "
   ]
  },
  {
   "cell_type": "code",
   "execution_count": 323,
   "metadata": {},
   "outputs": [],
   "source": [
    "class counter:\n",
    "    def __init__(self, max_val):\n",
    "        self.max_val=max_val\n",
    "        self.cur_val=1\n",
    "    def increment(self):\n",
    "        if self.cur_val>self.max_val:\n",
    "            print (\"Max value reached\")\n",
    "        else:\n",
    "            self.cur_val+=1\n",
    "    def reset (self):\n",
    "        self.cur_val=1\n",
    "        "
   ]
  },
  {
   "cell_type": "code",
   "execution_count": 324,
   "metadata": {},
   "outputs": [],
   "source": [
    "new_counter=counter(3)"
   ]
  },
  {
   "cell_type": "code",
   "execution_count": 325,
   "metadata": {},
   "outputs": [
    {
     "data": {
      "text/plain": [
       "1"
      ]
     },
     "execution_count": 325,
     "metadata": {},
     "output_type": "execute_result"
    }
   ],
   "source": [
    "new_counter.cur_val"
   ]
  },
  {
   "cell_type": "code",
   "execution_count": 326,
   "metadata": {},
   "outputs": [],
   "source": [
    "new_counter.increment()\n",
    "new_counter.increment()\n",
    "new_counter.increment()"
   ]
  },
  {
   "cell_type": "markdown",
   "metadata": {},
   "source": [
    "2. Copy and paste your solution to question 1 and modify it so that all the data held by the counter is private. Implement functions to check the value of the counter, check the maximum value, and check if the counter is at the maximum."
   ]
  },
  {
   "cell_type": "code",
   "execution_count": 327,
   "metadata": {},
   "outputs": [],
   "source": [
    "class counter:\n",
    "    def __init__(self, max_val):\n",
    "        self.__max_val=max_val\n",
    "        self.__cur_val=1\n",
    "    def increment(self):\n",
    "        if self.__cur_val>self.__max_val:\n",
    "            print (\"Max value reached\")\n",
    "        else:\n",
    "            self.__cur_val+=1\n",
    "    def reset (self):\n",
    "        self.__cur_val=1\n",
    "    \n",
    "    def maximum(self):\n",
    "        return self.__max_val\n",
    "    \n",
    "    def current(self):\n",
    "        return self.__cur_val\n",
    "        "
   ]
  },
  {
   "cell_type": "code",
   "execution_count": 328,
   "metadata": {},
   "outputs": [],
   "source": [
    "new_counter=counter(3)"
   ]
  },
  {
   "cell_type": "code",
   "execution_count": 329,
   "metadata": {},
   "outputs": [
    {
     "data": {
      "text/plain": [
       "3"
      ]
     },
     "execution_count": 329,
     "metadata": {},
     "output_type": "execute_result"
    }
   ],
   "source": [
    "new_counter.maximum()"
   ]
  },
  {
   "cell_type": "markdown",
   "metadata": {},
   "source": [
    "3. Implement a class to represent a rectangle, holding the length, width, and $x$ and $y$ coordinates of a corner of the object. Implement functions that compute the area and parameter of the rectangle. Make all data members private and privide accessors to retrieve values of data members. "
   ]
  },
  {
   "cell_type": "code",
   "execution_count": 330,
   "metadata": {},
   "outputs": [],
   "source": [
    "class rectangle:\n",
    "    def __init__(self,width,length,x,y): # x,y is the co-ordinate of the bottom left corner\n",
    "        self.__width=width\n",
    "        self.__length=length\n",
    "        self.__x=x\n",
    "        self.__y=y\n",
    "        \n",
    "    def area(self):\n",
    "        return self.__width*self.__length\n",
    "    \n",
    "    def perimeter(self):\n",
    "        return 2*(self.__width+self.__length)\n",
    "    \n",
    "    def get_coordinate(self):\n",
    "        return self.__x,self.__y\n",
    "    \n",
    "    def get_width(self):\n",
    "        return self.__width\n",
    "    \n",
    "    def get_length(self):\n",
    "        return self.__length"
   ]
  },
  {
   "cell_type": "code",
   "execution_count": 331,
   "metadata": {},
   "outputs": [],
   "source": [
    "new_rectangle=rectangle(4,5,0,0)"
   ]
  },
  {
   "cell_type": "code",
   "execution_count": 332,
   "metadata": {},
   "outputs": [
    {
     "data": {
      "text/plain": [
       "20"
      ]
     },
     "execution_count": 332,
     "metadata": {},
     "output_type": "execute_result"
    }
   ],
   "source": [
    "new_rectangle.area()"
   ]
  },
  {
   "cell_type": "code",
   "execution_count": 333,
   "metadata": {},
   "outputs": [
    {
     "data": {
      "text/plain": [
       "18"
      ]
     },
     "execution_count": 333,
     "metadata": {},
     "output_type": "execute_result"
    }
   ],
   "source": [
    "new_rectangle.perimeter()"
   ]
  },
  {
   "cell_type": "code",
   "execution_count": 334,
   "metadata": {},
   "outputs": [
    {
     "data": {
      "text/plain": [
       "(0, 0)"
      ]
     },
     "execution_count": 334,
     "metadata": {},
     "output_type": "execute_result"
    }
   ],
   "source": [
    "new_rectangle.get_coordinate()"
   ]
  },
  {
   "cell_type": "code",
   "execution_count": 335,
   "metadata": {},
   "outputs": [
    {
     "data": {
      "text/plain": [
       "4"
      ]
     },
     "execution_count": 335,
     "metadata": {},
     "output_type": "execute_result"
    }
   ],
   "source": [
    "new_rectangle.get_width()"
   ]
  },
  {
   "cell_type": "code",
   "execution_count": 336,
   "metadata": {},
   "outputs": [
    {
     "data": {
      "text/plain": [
       "5"
      ]
     },
     "execution_count": 336,
     "metadata": {},
     "output_type": "execute_result"
    }
   ],
   "source": [
    "new_rectangle.get_length()"
   ]
  },
  {
   "cell_type": "markdown",
   "metadata": {},
   "source": [
    "4. Implement a class to represent a circle, holding the radius and $x$ and $y$ coordinates of center of the object. Implement functions that compute the area and parameter of the rectangle. Make all data members private and privide accessors to retrieve values of data members. "
   ]
  },
  {
   "cell_type": "code",
   "execution_count": 337,
   "metadata": {},
   "outputs": [],
   "source": [
    "import math\n",
    "\n",
    "class circle:\n",
    "    def __init__(self,radius,x,y): # x,y is the co-ordinate of the centre\n",
    "        self.__radius=radius\n",
    "        self.__x=x\n",
    "        self.__y=y\n",
    "        \n",
    "    def area(self):\n",
    "        return (math.pi*self.__radius**2)\n",
    "    \n",
    "    def perimeter(self):\n",
    "        return (2*math.pi*self.__radius)\n",
    "        \n",
    "    def get_centre(self):\n",
    "        return self.__x,self.__y\n",
    "    \n",
    "    def get_radius(self):\n",
    "        return self.__radius\n",
    "    "
   ]
  },
  {
   "cell_type": "code",
   "execution_count": 338,
   "metadata": {},
   "outputs": [],
   "source": [
    "new_circle=circle(2,0,0)"
   ]
  },
  {
   "cell_type": "code",
   "execution_count": 339,
   "metadata": {},
   "outputs": [
    {
     "data": {
      "text/plain": [
       "12.566370614359172"
      ]
     },
     "execution_count": 339,
     "metadata": {},
     "output_type": "execute_result"
    }
   ],
   "source": [
    "new_circle.area()"
   ]
  },
  {
   "cell_type": "code",
   "execution_count": 340,
   "metadata": {},
   "outputs": [
    {
     "data": {
      "text/plain": [
       "12.566370614359172"
      ]
     },
     "execution_count": 340,
     "metadata": {},
     "output_type": "execute_result"
    }
   ],
   "source": [
    "new_circle.perimeter()"
   ]
  },
  {
   "cell_type": "code",
   "execution_count": 341,
   "metadata": {},
   "outputs": [
    {
     "data": {
      "text/plain": [
       "(0, 0)"
      ]
     },
     "execution_count": 341,
     "metadata": {},
     "output_type": "execute_result"
    }
   ],
   "source": [
    "new_circle.get_centre()"
   ]
  },
  {
   "cell_type": "code",
   "execution_count": 342,
   "metadata": {},
   "outputs": [
    {
     "data": {
      "text/plain": [
       "2"
      ]
     },
     "execution_count": 342,
     "metadata": {},
     "output_type": "execute_result"
    }
   ],
   "source": [
    "new_circle.get_radius()"
   ]
  },
  {
   "cell_type": "markdown",
   "metadata": {},
   "source": [
    "5. Implement a common base class for the classes implemented in 3 and 4 above which implements all common methods as dummy functions. Re-implement those classes to inherit from the base class and overload the functions accordingly. "
   ]
  },
  {
   "cell_type": "code",
   "execution_count": 343,
   "metadata": {},
   "outputs": [],
   "source": [
    "import math\n",
    "\n",
    "class geometry:\n",
    "    def __init__(self,x,y): # x,y is the co-ordinate of the bottom left corner for rectangle and cintre for circel\n",
    "        self.x=x\n",
    "        self.y=y\n",
    "        \n",
    "    def get_cordinate(self):\n",
    "        return NotImplementedError\n",
    "    \n",
    "    def get_area(self):\n",
    "        return NotImplementedError\n",
    "        \n",
    "    def get_perimeter(self):\n",
    "        return NotImplementedError\n",
    "        \n",
    "class rectangle(geometry):\n",
    "    def __init__(self,x,y,l,w):\n",
    "        geometry.__init__(self,x,y)\n",
    "        self.l=l\n",
    "        self.w=w\n",
    "        \n",
    "    def get_cordinate(self):\n",
    "        return(self.x ,self.y)\n",
    "        \n",
    "    def get_area(self):\n",
    "        return self.l*self.w\n",
    "    \n",
    "    def get_perimeter(self):\n",
    "        return 2*(self.l+self.w)\n",
    "            \n",
    "class circle(geometry):\n",
    "    def __init__(self,x,y,r):\n",
    "        geometry.__init__(self,x,y)\n",
    "        self.r=r\n",
    "       \n",
    "    def get_cordinate(self):\n",
    "        return(self.x ,self.y)\n",
    "        \n",
    "    def get_area(self):\n",
    "        return (math.pi*self.r**2)\n",
    "    \n",
    "    def get_perimeter(self):\n",
    "        return (2*math.pi*self.r)\n"
   ]
  },
  {
   "cell_type": "code",
   "execution_count": 344,
   "metadata": {},
   "outputs": [
    {
     "data": {
      "text/plain": [
       "NotImplementedError"
      ]
     },
     "execution_count": 344,
     "metadata": {},
     "output_type": "execute_result"
    }
   ],
   "source": [
    "data1=geometry(0,0)\n",
    "data1.get_cordinate()\n",
    "#data1.get_area()\n",
    "#data1.get_perimeter()"
   ]
  },
  {
   "cell_type": "code",
   "execution_count": 345,
   "metadata": {},
   "outputs": [
    {
     "data": {
      "text/plain": [
       "(0, 0)"
      ]
     },
     "execution_count": 345,
     "metadata": {},
     "output_type": "execute_result"
    }
   ],
   "source": [
    "data2=rectangle(0,0,2,2)\n",
    "data2.get_cordinate()\n",
    "#data2.get_area()\n",
    "#data2.get_perimeter()"
   ]
  },
  {
   "cell_type": "code",
   "execution_count": 346,
   "metadata": {},
   "outputs": [
    {
     "data": {
      "text/plain": [
       "(0, 0)"
      ]
     },
     "execution_count": 346,
     "metadata": {},
     "output_type": "execute_result"
    }
   ],
   "source": [
    "data3=circle(0,0,2)\n",
    "data3.get_cordinate()\n",
    "#data3.get_area()\n",
    "#data3.get_perimeter()"
   ]
  },
  {
   "cell_type": "markdown",
   "metadata": {},
   "source": [
    "6. Implement an analogous triangle class."
   ]
  },
  {
   "cell_type": "code",
   "execution_count": 347,
   "metadata": {},
   "outputs": [],
   "source": [
    "import math\n",
    "\n",
    "class traingle(geometry):                   # x,y is the co-ordinate of the bottom left corner of traingle**\n",
    "    def __init__(self,x,y,x2,y2,x3,y3):     # **while x2,y2 and x3,y3 are cordinates of other two corners \n",
    "        geometry.__init__(self,x,y)\n",
    "        self.x2=x2\n",
    "        self.y2=y2\n",
    "        self.x3=x3\n",
    "        self.y3=y3\n",
    "       \n",
    "    def get_cordinate(self):\n",
    "        return(self.x ,self.y)\n",
    "        \n",
    "    def get_area(self):\n",
    "        return abs((self.x*(self.y2-self.y3)+self.x2*(self.y3-self.y)+self.x3*(self.y-self.y2))/2)\n",
    "    \n",
    "    def get_perimeter(self):\n",
    "        l1=math.sqrt(((self.x-self.x2)**2)+((self.y-self.y2)**2))\n",
    "        l2=math.sqrt(((self.x-self.x3)**2)+((self.y-self.y3)**2))\n",
    "        l3=math.sqrt(((self.x3-self.x2)**2)+((self.y3-self.y2)**2))\n",
    "        return (l1+l2+l3)"
   ]
  },
  {
   "cell_type": "code",
   "execution_count": 348,
   "metadata": {},
   "outputs": [
    {
     "data": {
      "text/plain": [
       "6.47213595499958"
      ]
     },
     "execution_count": 348,
     "metadata": {},
     "output_type": "execute_result"
    }
   ],
   "source": [
    "data4=traingle(0,0,2,0,1,2)\n",
    "data4.get_cordinate()\n",
    "data4.get_area()\n",
    "data4.get_perimeter()"
   ]
  },
  {
   "cell_type": "markdown",
   "metadata": {},
   "source": [
    "7. Add a function to the object classes that test if a given set of $x$ and $y$ coordinates are inside of the object."
   ]
  },
  {
   "cell_type": "code",
   "execution_count": 417,
   "metadata": {},
   "outputs": [],
   "source": [
    "import math\n",
    "#linked with Q5\n",
    "class coordinate_rectangle(rectangle):\n",
    "    def __init__(self,x,y,l,w,p,q):             #p,q are the x,y co-ordinate of the point to be tested \n",
    "        rectangle.__init__(self,x,y,l,w)\n",
    "        self.p=p\n",
    "        self.q=q                    # calculating the coordinates of the corner of the rectangle for**\n",
    "        self.x2=self.x+self.l                    #**the given bottom left coordinate, length and width\n",
    "        self.y2=self.y\n",
    "        self.x3=self.x+self.l\n",
    "        self.y3=self.y+self.w\n",
    "        self.x4=self.x\n",
    "        self.y4=self.y+self.w\n",
    "        #return (self.x,self.y,self.x2,self.y2,self.x3,self.y3,self.x4,self.y4)\n",
    "        \n",
    "    def test_location(self):\n",
    "        ABC=abs((self.x*(self.y2-self.y3)+self.x2*(self.y3-self.y)+self.x3*(self.y-self.y2))/2)\n",
    "        ACD=abs((self.x*(self.y3-self.y4)+self.x3*(self.y4-self.y)+self.x4*(self.y-self.y3))/2)\n",
    "        \n",
    "        A1=abs((self.p*(self.y-self.y2)+self.x*(self.y2-self.q)+self.x2*(self.q-self.y))/2)\n",
    "        A2=abs((self.p*(self.y2-self.y3)+self.x2*(self.y3-self.q)+self.x3*(self.q-self.y2))/2)\n",
    "        A3=abs((self.p*(self.y3-self.y4)+self.x3*(self.y4-self.q)+self.x4*(self.q-self.y3))/2)\n",
    "        A4=abs((self.p*(self.y4-self.y)+self.x4*(self.y-self.q)+self.x*(self.q-self.y4))/2)\n",
    "        \n",
    "\n",
    "        if (ABC+ACD)>=(A1+A2+A3+A4):\n",
    "            return \"The  coordinate is located within the Rectangle\"\n",
    "        else:\n",
    "            return \"The  coordinate is NOT located within the Rectangle\""
   ]
  },
  {
   "cell_type": "code",
   "execution_count": 418,
   "metadata": {},
   "outputs": [
    {
     "data": {
      "text/plain": [
       "'The  coordinate is NOT located within the Rectangle'"
      ]
     },
     "execution_count": 418,
     "metadata": {},
     "output_type": "execute_result"
    }
   ],
   "source": [
    "data5=coordinate_rectangle(0,0,2,2,10,10)\n",
    "data5.test_location()"
   ]
  },
  {
   "cell_type": "code",
   "execution_count": 351,
   "metadata": {},
   "outputs": [],
   "source": [
    "import math\n",
    "#linked with Q5\n",
    "class coordinate_circle(circle):\n",
    "    def __init__(self,x,y,r,p,q):         #p,q are the x,y co-ordinate of the point to be tested\n",
    "        circle.__init__(self,x,y,r)\n",
    "        self.p=p\n",
    "        self.q=q\n",
    "        \n",
    "    def test_location(self):\n",
    "        d=math.sqrt((self.x-self.p)**2+((self.y-self.q)**2))\n",
    "        if d<=self.r:\n",
    "            return \"The  coordinate is located within Circle\"\n",
    "        else:\n",
    "            return \"The  coordinate is NOT located within Circle\"\n"
   ]
  },
  {
   "cell_type": "code",
   "execution_count": 352,
   "metadata": {},
   "outputs": [
    {
     "data": {
      "text/plain": [
       "'The  coordinate is located within Circle'"
      ]
     },
     "execution_count": 352,
     "metadata": {},
     "output_type": "execute_result"
    }
   ],
   "source": [
    "data6=coordinate_circle(0,0,10,2,2)\n",
    "data6.test_location()"
   ]
  },
  {
   "cell_type": "code",
   "execution_count": 353,
   "metadata": {},
   "outputs": [],
   "source": [
    "import math\n",
    "#linked with Q6\n",
    "class coordinate_traingle(traingle):\n",
    "    def __init__(self,x,y,x2,y2,x3,y3,p,q):           #p,q are the x,y co-ordinate of the point to be tested\n",
    "        traingle.__init__(self,x,y,x2,y2,x3,y3)\n",
    "        self.p=p\n",
    "        self.q=q\n",
    "        \n",
    "    def test_location(self):\n",
    "        ABC=abs((self.x*(self.y2-self.y3)+self.x2*(self.y3-self.y)+self.x3*(self.y-self.y2))/2)\n",
    "       \n",
    "        A1=abs((self.p*(self.y-self.y2)+self.x*(self.y2-self.q)+self.x2*(self.q-self.y))/2)\n",
    "        A2=abs((self.p*(self.y2-self.y3)+self.x2*(self.y3-self.q)+self.x3*(self.q-self.y2))/2)\n",
    "        A3=abs((self.p*(self.y3-self.y)+self.x3*(self.y-self.q)+self.x*(self.q-self.y3))/2)\n",
    "        \n",
    "        if ABC>=(A1+A2+A3):\n",
    "            return \"The  coordinate is located within the Traingle\"\n",
    "        else:\n",
    "            return \"The  coordinate is NOT located within the Traingle\""
   ]
  },
  {
   "cell_type": "code",
   "execution_count": 354,
   "metadata": {},
   "outputs": [
    {
     "data": {
      "text/plain": [
       "'The  coordinate is NOT located within the Traingle'"
      ]
     },
     "execution_count": 354,
     "metadata": {},
     "output_type": "execute_result"
    }
   ],
   "source": [
    "data7=coordinate_traingle(0,0,2,0,2,2,10,10)\n",
    "data7.test_location()"
   ]
  },
  {
   "cell_type": "markdown",
   "metadata": {},
   "source": [
    "8. Add a function to the object classes that return a list of up to 16 pairs of  $x$ and $y$ points on the parameter of the object.\n",
    "\n"
   ]
  },
  {
   "cell_type": "code",
   "execution_count": 406,
   "metadata": {},
   "outputs": [],
   "source": [
    "import math\n",
    "#linked with Q5\n",
    "class points_rectangle(rectangle):\n",
    "    def __init__(self,x,y,l,w,N=16):             \n",
    "        rectangle.__init__(self,x,y,l,w)\n",
    "        self.data=[]\n",
    "        self.N=N                   \n",
    "        self.x2=self.x+self.l                  \n",
    "        self.y2=self.y\n",
    "        self.x3=self.x+self.l\n",
    "        self.y3=self.y+self.w\n",
    "        self.x4=self.x\n",
    "        self.y4=self.y+self.w\n",
    "        \n",
    "    def generate_data(self):\n",
    "        ABC=abs((self.x*(self.y2-self.y3)+self.x2*(self.y3-self.y)+self.x3*(self.y-self.y2))/2)\n",
    "        ACD=abs((self.x*(self.y3-self.y4)+self.x3*(self.y4-self.y)+self.x4*(self.y-self.y3))/2)\n",
    "        \n",
    "        while len(self.data)<self.N:        \n",
    "            self.p=self.x+(self.x+(self.x2-self.x)*random.random())\n",
    "            self.q=self.y+(self.y+(self.y3-self.y)*random.random())\n",
    "            d=(self.p,self.q)\n",
    "        \n",
    "            A1=abs((self.p*(self.y-self.y2)+self.x*(self.y2-self.q)+self.x2*(self.q-self.y))/2)\n",
    "            A2=abs((self.p*(self.y2-self.y3)+self.x2*(self.y3-self.q)+self.x3*(self.q-self.y2))/2)\n",
    "            A3=abs((self.p*(self.y3-self.y4)+self.x3*(self.y4-self.q)+self.x4*(self.q-self.y3))/2)\n",
    "            A4=abs((self.p*(self.y4-self.y)+self.x4*(self.y-self.q)+self.x*(self.q-self.y4))/2)\n",
    "        \n",
    "            if (ABC+ACD)==(A1+A2+A3+A4):\n",
    "                self.data.append(d)\n",
    "\n",
    "        return self.data"
   ]
  },
  {
   "cell_type": "code",
   "execution_count": 407,
   "metadata": {},
   "outputs": [
    {
     "data": {
      "text/plain": [
       "[(6.985174965943814, 5.102785727188792),\n",
       " (1.313356850202776, 9.562490846163039),\n",
       " (8.01549188915786, 6.803373177187052),\n",
       " (3.3958587175803356, 6.260098321182742),\n",
       " (9.45583559697021, 6.470803782751778),\n",
       " (5.169732753427873, 8.63097993597468),\n",
       " (0.2494835327006295, 2.8157624710896076),\n",
       " (8.443371452879214, 8.898746657237496),\n",
       " (9.186995693938467, 0.280005271534014),\n",
       " (7.22425075009463, 8.681692522290561),\n",
       " (1.4561426837485791, 0.058510205829497286),\n",
       " (1.043307820575189, 0.5415644251494878),\n",
       " (8.642752279953212, 3.919330989674954),\n",
       " (9.565418201168267, 4.705729013968492),\n",
       " (1.5498679051388575, 8.5301433568817),\n",
       " (6.80838156866315, 6.338224868931023)]"
      ]
     },
     "execution_count": 407,
     "metadata": {},
     "output_type": "execute_result"
    }
   ],
   "source": [
    "data10=points_rectangle(0,0,10,10)\n",
    "data10.generate_data()"
   ]
  },
  {
   "cell_type": "code",
   "execution_count": 412,
   "metadata": {},
   "outputs": [],
   "source": [
    "import random\n",
    "import math\n",
    "\n",
    "class points(circle):\n",
    "    def __init__(self,x,y,r,N=16):            \n",
    "        circle.__init__(self,x,y,r)\n",
    "        self.data=[]\n",
    "        self.N=N\n",
    "         \n",
    "    def generate_data(self):\n",
    "        while len(self.data)<self.N:\n",
    "            p=self.x+(self.r*math.cos(365*random.random())) or self.x+(self.r*math.cos(365*random.random()))\n",
    "            q=self.y+(self.r*math.cos(365*random.random())) or self.y+(self.r*math.cos(365*random.random()))\n",
    "            d=(p,q)\n",
    "            \n",
    "        return self.data"
   ]
  },
  {
   "cell_type": "code",
   "execution_count": 413,
   "metadata": {},
   "outputs": [
    {
     "data": {
      "text/plain": [
       "[(0.04444586301485032, 4.328740565208925),\n",
       " (4.32413351121098, 9.700881985635547),\n",
       " (5.151169141650055, 0.8747076641624851),\n",
       " (2.8072889209038507, 7.821062963557239),\n",
       " (3.563515890436725, 8.899538863074243),\n",
       " (1.2636902290443408, 8.297546765463611),\n",
       " (4.5427306281766775, 6.184152400333756),\n",
       " (3.2863369417789166, 9.114935803533834),\n",
       " (5.588007390779065, 7.122637170549254),\n",
       " (1.9825270221608748, 1.518065602602806),\n",
       " (0.7525147815681843, 4.07731648186992),\n",
       " (8.205212941903085, 3.3555502904348455),\n",
       " (6.117358488776375, 5.12323884855843),\n",
       " (5.963908144479369, 3.1632730163844256),\n",
       " (6.086682944014223, 4.758911233120772),\n",
       " (9.285438263206483, 7.288818832560635)]"
      ]
     },
     "execution_count": 413,
     "metadata": {},
     "output_type": "execute_result"
    }
   ],
   "source": [
    "data11=points_circle(0,0,10)\n",
    "data11.generate_data()"
   ]
  },
  {
   "cell_type": "code",
   "execution_count": 414,
   "metadata": {},
   "outputs": [],
   "source": [
    "import random\n",
    "\n",
    "class points_traingle(traingle):\n",
    "    def __init__(self,x,y,x2,y2,x3,y3,N=16):            \n",
    "        traingle.__init__(self,x,y,x2,y2,x3,y3)\n",
    "        self.data=[]\n",
    "        self.N=N\n",
    "         \n",
    "    def generate_data(self):\n",
    "        ABC=abs((self.x*(self.y2-self.y3)+self.x2*(self.y3-self.y)+self.x3*(self.y-self.y2))/2)\n",
    "        while len(self.data)<self.N:        \n",
    "            self.p=self.x+(self.x+(self.x2-self.x)*random.random())\n",
    "            self.q=self.y+(self.y+(self.y3-self.y)*random.random())\n",
    "            d=(self.p,self.q)\n",
    "            A1=abs((self.p*(self.y-self.y2)+self.x*(self.y2-self.q)+self.x2*(self.q-self.y))/2)\n",
    "            A2=abs((self.p*(self.y2-self.y3)+self.x2*(self.y3-self.q)+self.x3*(self.q-self.y2))/2)\n",
    "            A3=abs((self.p*(self.y3-self.y)+self.x3*(self.y-self.q)+self.x*(self.q-self.y3))/2)\n",
    "        \n",
    "            if A1+A2+A3==ABC:\n",
    "                self.data.append(d)\n",
    "\n",
    "        return self.data"
   ]
  },
  {
   "cell_type": "code",
   "execution_count": 415,
   "metadata": {},
   "outputs": [
    {
     "data": {
      "text/plain": [
       "[(2.1739403444973684, 1.4472483266135017),\n",
       " (6.484104464502133, 4.6974320970269945),\n",
       " (6.540497068425135, 1.9198740791026392),\n",
       " (7.719971923303018, 2.1006408341895453),\n",
       " (3.67073672387631, 5.1677814473514125),\n",
       " (7.548207684512279, 1.9145925846307121),\n",
       " (5.343081484748079, 6.296144953074991),\n",
       " (7.2413602329602975, 0.36676042540300435),\n",
       " (4.298271010404658, 4.348630450074311),\n",
       " (4.383637503831933, 0.5884639949559012),\n",
       " (8.158759593199598, 0.7035404505535425),\n",
       " (7.786907787446518, 3.464349106024416),\n",
       " (6.676635315121259, 4.03088777016083),\n",
       " (2.747917517158017, 5.328133516531132),\n",
       " (4.6238343933936825, 9.202118320833327),\n",
       " (3.108670414137734, 0.7966167512114097)]"
      ]
     },
     "execution_count": 415,
     "metadata": {},
     "output_type": "execute_result"
    }
   ],
   "source": [
    "data12=points_traingle(0,0,10,0,5,10)\n",
    "data12.generate_data()"
   ]
  },
  {
   "cell_type": "markdown",
   "metadata": {},
   "source": [
    "9. Add a function in the base class of the object classes that returns true/false testing that the object overlaps with another object."
   ]
  },
  {
   "cell_type": "code",
   "execution_count": 416,
   "metadata": {},
   "outputs": [
    {
     "data": {
      "text/plain": [
       "False"
      ]
     },
     "execution_count": 416,
     "metadata": {},
     "output_type": "execute_result"
    }
   ],
   "source": [
    "# The function randonmly generate a point within a rectangle, circle and traingle. If the randomly generated point of one object\n",
    "#  overlep with the point of the another object then the function retruns 'True' else 'False'\n",
    "\n",
    "def test():\n",
    "    R=points_rect(0,0,10,10,1)\n",
    "    RR=R.generate_data()\n",
    "    \n",
    "    C=points_circle(0,0,10,1)\n",
    "    CC=C.generate_data()\n",
    "    \n",
    "    T=points_traingle(0,0,10,0,5,10,1)\n",
    "    TT= T.generate_data()\n",
    "    \n",
    "    if RR==CC or RR==CC or CC==TT:\n",
    "        return True\n",
    "    else:\n",
    "        return False\n",
    "test()  "
   ]
  },
  {
   "cell_type": "code",
   "execution_count": null,
   "metadata": {},
   "outputs": [],
   "source": []
  }
 ],
 "metadata": {
  "kernelspec": {
   "display_name": "Python 3",
   "language": "python",
   "name": "python3"
  },
  "language_info": {
   "codemirror_mode": {
    "name": "ipython",
    "version": 3
   },
   "file_extension": ".py",
   "mimetype": "text/x-python",
   "name": "python",
   "nbconvert_exporter": "python",
   "pygments_lexer": "ipython3",
   "version": "3.7.4"
  }
 },
 "nbformat": 4,
 "nbformat_minor": 2
}
