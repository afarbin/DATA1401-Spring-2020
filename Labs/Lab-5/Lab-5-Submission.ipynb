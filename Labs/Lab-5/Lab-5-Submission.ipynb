{
 "cells": [
  {
   "cell_type": "markdown",
   "metadata": {
    "colab_type": "text",
    "id": "_AN5Pm3BDHKM"
   },
   "source": [
    "# Lab 5- Object Oriented Programming\n",
    "\n",
    "[![Open In Colab](https://colab.research.google.com/assets/colab-badge.svg)](https://colab.research.google.com/github//afarbin/DATA1401-Spring-2020/blob/master/Labs/Lab-5/Lab-5.ipynb)\n",
    "\n",
    "For all of the exercises below, make sure you provide tests of your solutions.\n"
   ]
  },
  {
   "cell_type": "markdown",
   "metadata": {
    "colab_type": "text",
    "id": "SYVcvDI_DHKP"
   },
   "source": [
    "1. Write a \"counter\" class that can be incremented up to a specified maximum value, will print an error if an attempt is made to increment beyond that value, and allows reseting the counter. "
   ]
  },
  {
   "cell_type": "code",
   "execution_count": 105,
   "metadata": {},
   "outputs": [],
   "source": [
    "class counter:\n",
    "    def __init__(self,max_val):\n",
    "        self.max_val=max_val\n",
    "        self.cur_val=1\n",
    "    def increment(self):\n",
    "        if self.cur_val>self.max_val:\n",
    "            print(\"Max value reached.\")\n",
    "        else:\n",
    "            self.cur_val +=1\n",
    "    def reset(self):\n",
    "        self.cur_val=0"
   ]
  },
  {
   "cell_type": "code",
   "execution_count": 106,
   "metadata": {},
   "outputs": [],
   "source": [
    "my_counter=counter(3)"
   ]
  },
  {
   "cell_type": "code",
   "execution_count": 107,
   "metadata": {},
   "outputs": [
    {
     "name": "stdout",
     "output_type": "stream",
     "text": [
      "Max value reached.\n"
     ]
    }
   ],
   "source": [
    "my_counter.increment()\n",
    "my_counter.increment()\n",
    "my_counter.increment()\n",
    "my_counter.increment()"
   ]
  },
  {
   "cell_type": "code",
   "execution_count": 108,
   "metadata": {},
   "outputs": [],
   "source": [
    "my_counter.cur_val=100"
   ]
  },
  {
   "cell_type": "markdown",
   "metadata": {
    "colab_type": "text",
    "id": "JyZT4vPfDHKR"
   },
   "source": [
    "2. Copy and paste your solution to question 1 and modify it so that all the data held by the counter is private. Implement functions to check the value of the counter, check the maximum value, and check if the counter is at the maximum."
   ]
  },
  {
   "cell_type": "code",
   "execution_count": 109,
   "metadata": {},
   "outputs": [],
   "source": [
    "class counter:\n",
    "    def __init__(self,max_val):\n",
    "        self.__max_val=max_val\n",
    "        self.__cur_val=1\n",
    "    def increment(self):\n",
    "        if self.__cur_val>self.__max_val:\n",
    "            print(\"Max value reached.\")\n",
    "        else:\n",
    "            self.__cur_val +=1\n",
    "    def reset(self):\n",
    "        self.__cur_val=1\n",
    "    def cur_val(self):\n",
    "        return self.__cur_val\n",
    "    def max_val(self):\n",
    "        return self.__max_val"
   ]
  },
  {
   "cell_type": "code",
   "execution_count": 110,
   "metadata": {},
   "outputs": [],
   "source": [
    "my_counter=counter(3)"
   ]
  },
  {
   "cell_type": "code",
   "execution_count": 111,
   "metadata": {},
   "outputs": [
    {
     "data": {
      "text/plain": [
       "1"
      ]
     },
     "execution_count": 111,
     "metadata": {},
     "output_type": "execute_result"
    }
   ],
   "source": [
    "my_counter.cur_val()"
   ]
  },
  {
   "cell_type": "markdown",
   "metadata": {
    "colab_type": "text",
    "id": "0vN3ya9SDHKW"
   },
   "source": [
    "3. Implement a class to represent a rectangle, holding the length, width, and $x$ and $y$ coordinates of a corner of the object. Implement functions that compute the area and parameter of the rectangle. Make all data members private and privide accessors to retrieve values of data members. "
   ]
  },
  {
   "cell_type": "code",
   "execution_count": 112,
   "metadata": {},
   "outputs": [],
   "source": [
    "class Rectangle:\n",
    "    def __init__(self,width,length,x,y):\n",
    "        self.__width=width\n",
    "        self.__length=length\n",
    "        self.__x=x\n",
    "        self.__y=y\n",
    "        \n",
    "    def getArea(self):\n",
    "        return self.__width*self.__length\n",
    "    \n",
    "    def getPerimeter(self):\n",
    "        return 2*(self.__width+self.__length)\n",
    "    \n",
    "    def getWidth(self):\n",
    "        return self.__width\n",
    "    \n",
    "    def getLength(self):\n",
    "        return self.__length\n",
    "    \n",
    "    def getCorner(self):\n",
    "        return self.__x,self.__y\n",
    "    "
   ]
  },
  {
   "cell_type": "code",
   "execution_count": 113,
   "metadata": {},
   "outputs": [],
   "source": [
    "myr=Rectangle(5,10,0,0)"
   ]
  },
  {
   "cell_type": "code",
   "execution_count": 114,
   "metadata": {},
   "outputs": [
    {
     "data": {
      "text/plain": [
       "50"
      ]
     },
     "execution_count": 114,
     "metadata": {},
     "output_type": "execute_result"
    }
   ],
   "source": [
    "myr.getArea()"
   ]
  },
  {
   "cell_type": "code",
   "execution_count": 115,
   "metadata": {},
   "outputs": [
    {
     "data": {
      "text/plain": [
       "30"
      ]
     },
     "execution_count": 115,
     "metadata": {},
     "output_type": "execute_result"
    }
   ],
   "source": [
    "myr.getPerimeter()"
   ]
  },
  {
   "cell_type": "code",
   "execution_count": 116,
   "metadata": {},
   "outputs": [
    {
     "data": {
      "text/plain": [
       "(0, 0)"
      ]
     },
     "execution_count": 116,
     "metadata": {},
     "output_type": "execute_result"
    }
   ],
   "source": [
    "myr.getCorner()"
   ]
  },
  {
   "cell_type": "markdown",
   "metadata": {
    "colab_type": "text",
    "id": "7vCMVTzIDHKY"
   },
   "source": [
    "4. Implement a class to represent a circle, holding the radius and $x$ and $y$ coordinates of center of the object. Implement functions that compute the area and perimeter of the circle. Make all data members private and privide accessors to retrieve values of data members. "
   ]
  },
  {
   "cell_type": "code",
   "execution_count": 117,
   "metadata": {},
   "outputs": [],
   "source": [
    "import math\n",
    "class Circle:\n",
    "    def __init__(self,radius,x,y):\n",
    "        self.__radius=radius\n",
    "        self.__x=x\n",
    "        self.__y=y\n",
    "        \n",
    "    def getArea(self):\n",
    "        return self.__radius**2*math.pi\n",
    "    \n",
    "    def getPerimeter(self):\n",
    "        return self.__radius*2*math.pi\n",
    "    \n",
    "    def getRadius(self):\n",
    "        return self.__radius\n",
    "    \n",
    "    def getCenter(self):\n",
    "        return self.__x,self.__y\n",
    "    "
   ]
  },
  {
   "cell_type": "code",
   "execution_count": 118,
   "metadata": {},
   "outputs": [],
   "source": [
    "my_circle=Circle(5,0,3)"
   ]
  },
  {
   "cell_type": "code",
   "execution_count": 119,
   "metadata": {},
   "outputs": [
    {
     "data": {
      "text/plain": [
       "78.53981633974483"
      ]
     },
     "execution_count": 119,
     "metadata": {},
     "output_type": "execute_result"
    }
   ],
   "source": [
    "my_circle.getArea()"
   ]
  },
  {
   "cell_type": "code",
   "execution_count": 120,
   "metadata": {},
   "outputs": [
    {
     "data": {
      "text/plain": [
       "31.41592653589793"
      ]
     },
     "execution_count": 120,
     "metadata": {},
     "output_type": "execute_result"
    }
   ],
   "source": [
    "my_circle.getPerimeter()"
   ]
  },
  {
   "cell_type": "code",
   "execution_count": 121,
   "metadata": {},
   "outputs": [
    {
     "data": {
      "text/plain": [
       "5"
      ]
     },
     "execution_count": 121,
     "metadata": {},
     "output_type": "execute_result"
    }
   ],
   "source": [
    "my_circle.getRadius()"
   ]
  },
  {
   "cell_type": "code",
   "execution_count": 122,
   "metadata": {},
   "outputs": [
    {
     "data": {
      "text/plain": [
       "(0, 3)"
      ]
     },
     "execution_count": 122,
     "metadata": {},
     "output_type": "execute_result"
    }
   ],
   "source": [
    "my_circle.getCenter()"
   ]
  },
  {
   "cell_type": "markdown",
   "metadata": {
    "colab_type": "text",
    "id": "eSnGmwONDHKZ"
   },
   "source": [
    "5. Implement a common base class for the classes implemented in 3 and 4 above which implements all common methods as dummy functions. Re-implement those classes to inherit from the base class and overload the functions accordingly. "
   ]
  },
  {
   "cell_type": "code",
   "execution_count": 137,
   "metadata": {},
   "outputs": [],
   "source": [
    "import math\n",
    "class Geometry:\n",
    "    def __init__(self,x,y):\n",
    "        self.x=x\n",
    "        self.y=y\n",
    "    \n",
    "    def getArea(self):\n",
    "         raise NotImplementedError\n",
    "    \n",
    "    def getPerimeter(self):\n",
    "         raise NotImplementedError\n",
    "    \n",
    "    def getWidth(self):\n",
    "        raise NotImplementedError\n",
    "    \n",
    "    def getLength(self):\n",
    "        raise NotImplementedError\n",
    "        \n",
    "    def getRadius(self):\n",
    "        raise NotImplementedError\n",
    "    \n",
    "    def getCord(self):\n",
    "        return self.x,self.y\n",
    "\n",
    "class Rectangle(Geometry):\n",
    "    def __init__(self,width,length,x,y):\n",
    "        self.__width=width\n",
    "        self.__length=length\n",
    "        #super(Geometry,self).__init__(x,y)\n",
    "        Geometry.__init__(self,x,y) \n",
    "    def getArea(self):\n",
    "         return self.__width*self.__length\n",
    "    \n",
    "    def getPerimeter(self):\n",
    "         return 2*(self.__width+self.__length)\n",
    "    \n",
    "    def getWidth(self):\n",
    "        return self.__width\n",
    "    \n",
    "    def getLength(self):\n",
    "        return self.__length\n",
    "    \n",
    "    def getCord(self):\n",
    "        return self.x,self.y\n",
    "\n",
    "class Circle(Geometry):\n",
    "    def __init__(self,radius,x,y):\n",
    "        self.__radius=radius\n",
    "        #super(Geometry,self).__init__(x,y)\n",
    "        Geometry.__init__(self,x,y) \n",
    "    def getArea(self):\n",
    "          return self.__radius**2*math.pi\n",
    "    \n",
    "    def getPerimeter(self):\n",
    "         return self.__radius*2*math.pi\n",
    "    \n",
    "    def getRadius(self):\n",
    "        return self.__radius\n",
    "    \n",
    "    def getCord(self):\n",
    "        return self.x,self.y\n"
   ]
  },
  {
   "cell_type": "code",
   "execution_count": 138,
   "metadata": {},
   "outputs": [],
   "source": [
    "ob = Rectangle(2,3,5,6)"
   ]
  },
  {
   "cell_type": "code",
   "execution_count": 139,
   "metadata": {},
   "outputs": [
    {
     "data": {
      "text/plain": [
       "6"
      ]
     },
     "execution_count": 139,
     "metadata": {},
     "output_type": "execute_result"
    }
   ],
   "source": [
    "ob.getArea()"
   ]
  },
  {
   "cell_type": "code",
   "execution_count": 140,
   "metadata": {},
   "outputs": [
    {
     "data": {
      "text/plain": [
       "(5, 6)"
      ]
     },
     "execution_count": 140,
     "metadata": {},
     "output_type": "execute_result"
    }
   ],
   "source": [
    "ob.getCord()"
   ]
  },
  {
   "cell_type": "code",
   "execution_count": 141,
   "metadata": {},
   "outputs": [],
   "source": [
    "ob1 = Circle(2,5,5)"
   ]
  },
  {
   "cell_type": "code",
   "execution_count": 143,
   "metadata": {},
   "outputs": [
    {
     "data": {
      "text/plain": [
       "12.566370614359172"
      ]
     },
     "execution_count": 143,
     "metadata": {},
     "output_type": "execute_result"
    }
   ],
   "source": [
    "ob1.getArea()"
   ]
  },
  {
   "cell_type": "code",
   "execution_count": 142,
   "metadata": {},
   "outputs": [
    {
     "data": {
      "text/plain": [
       "(5, 5)"
      ]
     },
     "execution_count": 142,
     "metadata": {},
     "output_type": "execute_result"
    }
   ],
   "source": [
    "ob1.getCord()"
   ]
  },
  {
   "cell_type": "markdown",
   "metadata": {
    "colab_type": "text",
    "id": "A_jUTYegDHKa"
   },
   "source": [
    "6. Implement an analogous triangle class."
   ]
  },
  {
   "cell_type": "code",
   "execution_count": 123,
   "metadata": {},
   "outputs": [],
   "source": [
    "class AnalogousTriangle:\n",
    "    def __init__(self, x1, y1, x2, y2, x3, y3):\n",
    "        #Where (x1,y1); (x2,y2) and (x3,y3)are coordinates of vertices of the triangle\n",
    "        self.__x1=x1\n",
    "        self.__y1=y1\n",
    "        self.__x2=x2\n",
    "        self.__y2=y2\n",
    "        self.__x3=x3\n",
    "        self.__y3=y3\n",
    "        # Area = [ x1(y2 – y3) + x2(y3 – y1) + x3(y1-y2)]/2\n",
    "    def getArea(self):\n",
    "        return abs((self.__x1 * (self.__y2 - self.__y3) + \n",
    "                self.__x2 * (self.__y3 - self.__y1) + \n",
    "                self.__x3 * (self.__y1 - self.__y2)) / 2.0)\n",
    "    def getPerimeter(self):\n",
    "        AB = ((self.__x1-self.__x2)**2 +(self.__y1-self.__y2)**2)**0.5\n",
    "        BC = ((self.__x2-self.__x3)**2 +(self.__y2-self.__y3)**2)**0.5\n",
    "        CA = ((self.__x3-self.__x1)**2 +(self.__y3-self.__y1)**2)**0.5\n",
    "        return AB+BC+CA"
   ]
  },
  {
   "cell_type": "code",
   "execution_count": 124,
   "metadata": {},
   "outputs": [],
   "source": [
    "obtr = AnalogousTriangle(0,0,4,0,0,3)"
   ]
  },
  {
   "cell_type": "code",
   "execution_count": 125,
   "metadata": {},
   "outputs": [
    {
     "data": {
      "text/plain": [
       "6.0"
      ]
     },
     "execution_count": 125,
     "metadata": {},
     "output_type": "execute_result"
    }
   ],
   "source": [
    "obtr.getArea()"
   ]
  },
  {
   "cell_type": "code",
   "execution_count": 126,
   "metadata": {},
   "outputs": [
    {
     "data": {
      "text/plain": [
       "12.0"
      ]
     },
     "execution_count": 126,
     "metadata": {},
     "output_type": "execute_result"
    }
   ],
   "source": [
    "obtr.getPerimeter()"
   ]
  },
  {
   "cell_type": "markdown",
   "metadata": {
    "colab_type": "text",
    "id": "ykAEQZiJDHKf"
   },
   "source": [
    "7. Add a function to the object classes that test if a given set of $x$ and $y$ coordinates are inside of the object."
   ]
  },
  {
   "cell_type": "code",
   "execution_count": 127,
   "metadata": {},
   "outputs": [],
   "source": [
    "import math\n",
    "class Rectangle:\n",
    "    def __init__(self,x1, y1, x2, y2, x3, y3,x4, y4):# Cords of four corners\n",
    "        self.__x1=x1\n",
    "        self.__y1=y1\n",
    "        self.__x2=x2\n",
    "        self.__y2=y2\n",
    "        self.__x3=x3\n",
    "        self.__y3=y3\n",
    "        self.__x4=x4\n",
    "        self.__y4=y4\n",
    "    \n",
    "    def getArea(self):        \n",
    "        return abs((self.__x1 * (self.__y2 - self.__y3) + \n",
    "                self.__x2 * (self.__y3 - self.__y1) + \n",
    "                self.__x3 * (self.__y1 - self.__y2)) / 2.0) + abs((self.__x1 * (self.__y4 - self.__y3) + \n",
    "                self.__x4 * (self.__y3 - self.__y1) + \n",
    "                self.__x3 * (self.__y1 - self.__y4)) / 2.0)\n",
    "    def getPerimeter(self):\n",
    "        AB = ((self.__x1-self.__x2)**2 +(self.__y1-self.__y2)**2)**0.5\n",
    "        BC = ((self.__x2-self.__x3)**2 +(self.__y2-self.__y3)**2)**0.5\n",
    "        CD = ((self.__x3-self.__x4)**2 +(self.__y3-self.__y4)**2)**0.5\n",
    "        DA = ((self.__x4-self.__x1)**2 +(self.__y4-self.__y1)**2)**0.5\n",
    "        return AB+BC+CD+DA\n",
    "\n",
    "# A function to check whether point P(x, y) lies inside the rectangle  \n",
    "# formed by A(x1, y1), B(x2, y2),C(x3, y3) and D(x4, y4)  \n",
    "    def check(self, x, y):\n",
    "        self.__x=x\n",
    "        self.__y=y\n",
    "                \n",
    "    # Calculate area of rectangle ABCD  \n",
    "        A = abs((self.__x1 * (self.__y2 - self.__y3) + \n",
    "                self.__x2 * (self.__y3 - self.__y1) + \n",
    "                self.__x3 * (self.__y1 - self.__y2)) / 2.0)+ abs((self.__x1 * (self.__y4 - self.__y3) + \n",
    "                self.__x4 * (self.__y3 - self.__y1) + \n",
    "                self.__x3 * (self.__y1 - self.__y4)) / 2.0)\n",
    "  \n",
    "    # Calculate area of triangle PAB  \n",
    "        A1 = abs((self.__x * (self.__y1 - self.__y2) + \n",
    "                self.__x1 * (self.__y2 - self.__y) + \n",
    "                self.__x2 * (self.__y - self.__y1)) / 2.0)\n",
    "  \n",
    "    # Calculate area of triangle PBC  \n",
    "        A2 = abs((self.__x * (self.__y2 - self.__y3) + \n",
    "                self.__x2 * (self.__y3 - self.__y) + \n",
    "                self.__x3 * (self.__y - self.__y2)) / 2.0)\n",
    "  \n",
    "    # Calculate area of triangle PCD  \n",
    "        A3 = abs((self.__x * (self.__y3 - self.__y4) + \n",
    "                self.__x3 * (self.__y4 - self.__y) + \n",
    "                self.__x4 * (self.__y - self.__y3)) / 2.0)\n",
    "  \n",
    "    # Calculate area of triangle PAD  \n",
    "        A4 = abs((self.__x * (self.__y1 - self.__y4) + \n",
    "                self.__x1 * (self.__y4 - self.__y) + \n",
    "                self.__x4 * (self.__y - self.__y1)) / 2.0)\n",
    "  \n",
    "    # Check if sum of A1, A2, A3  \n",
    "    # and A4 is same as A  \n",
    "        if A == A1 + A2 + A3 + A4:\n",
    "            print(\"Yes! Located inside the Rectangle\")\n",
    "        else:\n",
    "            print(\"Located outside of the Rectangle\")  \n",
    "\n",
    "            \n",
    "class Circle:\n",
    "    def __init__(self,radius, x1,y1):\n",
    "        self.__radius=radius\n",
    "        self.__x1=x1\n",
    "        self.__y1=y1\n",
    "    \n",
    "    def getArea(self):\n",
    "        return self.__radius**2*math.pi\n",
    "    \n",
    "    def getPerimeter(self):\n",
    "        return self.__radius*2*math.pi\n",
    "    \n",
    "    def getRadius(self):\n",
    "        return self.__radius\n",
    "    \n",
    "    def getCenter(self):\n",
    "        return self.__x1,self.__y1\n",
    "\n",
    "# Compare radius of circle with distance of its center from given point (x,y)     \n",
    "    def check(self, x, y):\n",
    "        self.__x=x\n",
    "        self.__y=y\n",
    "        \n",
    "        if ((x - self.__x1) * (x - self.__x1) + \n",
    "        (y - self.__y1) * (y - self.__y1) <= self.__radius * self.__radius): \n",
    "            print(\"Yes! Located Inside the Circle\") \n",
    "        else: \n",
    "            print(\"Located Outside of the Circle\")  \n",
    "            \n",
    "\n",
    "            \n",
    "class Triangle:\n",
    "    def __init__(self,x1, y1, x2, y2, x3, y3):\n",
    "        self.__x1=x1\n",
    "        self.__y1=y1\n",
    "        self.__x2=x2\n",
    "        self.__y2=y2\n",
    "        self.__x3=x3\n",
    "        self.__y3=y3\n",
    "    \n",
    "    def getArea(self): \n",
    "        return abs((self.__x1 * (self.__y2 - self.__y3) + self.__x2 * (self.__y3 - self.__y1) + \n",
    "                self.__x3 * (self.__y1 - self.__y2)) / 2.0)\n",
    "    def getPerimeter(self):\n",
    "        AB = ((self.__x1-self.__x2)**2 +(self.__y1-self.__y2)**2)**0.5\n",
    "        BC = ((self.__x2-self.__x3)**2 +(self.__y2-self.__y3)**2)**0.5\n",
    "        CA = ((self.__x3-self.__x1)**2 +(self.__y3-self.__y1)**2)**0.5\n",
    "        return AB+BC+CA\n",
    "        \n",
    "# A function to check whether point P(x, y) \n",
    "# lies inside the triangle formed by  \n",
    "# A(x1, y1), B(x2, y2) and C(x3, y3)\n",
    "    def check(self, x, y):\n",
    "        self.__x=x\n",
    "        self.__y=y\n",
    "  \n",
    "    # Calculate area of triangle ABC \n",
    "               \n",
    "        A = abs((self.__x1 * (self.__y2 - self.__y3) + self.__x2 * (self.__y3 - self.__y1) + \n",
    "                self.__x3 * (self.__y1 - self.__y2)) / 2.0)    \n",
    "\n",
    "    # Calculate area of triangle PBC  \n",
    "        A1 = A1= abs((self.__x * (self.__y2 - self.__y3) + self.__x2 * (self.__y3 - self.__y) + \n",
    "                self.__x3 * (self.__y - self.__y2)) / 2.0) \n",
    "      \n",
    "    # Calculate area of triangle PAC  \n",
    "        A2= abs((self.__x1 * (self.__y - self.__y3) + self.__x * (self.__y3 - self.__y1) + \n",
    "                self.__x3 * (self.__y1 - self.__y)) / 2.0)  \n",
    "      \n",
    "    # Calculate area of triangle PAB  \n",
    "        A3 = abs((self.__x1 * (self.__y2 - self.__y) + self.__x2 * (self.__y - self.__y1) + \n",
    "                self.__x * (self.__y1 - self.__y2)) / 2.0)\n",
    "      \n",
    "    # Check if sum of A1, A2 and A3 is same as A \n",
    "        if A == A1 + A2 + A3:\n",
    "            print(\"Yes! Located Inside the Triangle\")\n",
    "        else:\n",
    "            print(\"No! Located Outside of the Triangle\")\n",
    "        "
   ]
  },
  {
   "cell_type": "code",
   "execution_count": 128,
   "metadata": {},
   "outputs": [],
   "source": [
    "obr=Rectangle(0, 10, 10, 0, 0, -10, -10, 0)\n",
    "obc = Circle(2,0,1)\n",
    "obt = Triangle(0, 0, 20, 0, 10, 30)"
   ]
  },
  {
   "cell_type": "code",
   "execution_count": 129,
   "metadata": {},
   "outputs": [
    {
     "name": "stdout",
     "output_type": "stream",
     "text": [
      "Area of Rectangle: 200.0\n",
      "Area of Circle: 12.566370614359172\n",
      "Area of Triangle: 300.0\n"
     ]
    }
   ],
   "source": [
    "print(\"Area of Rectangle:\",obr.getArea())\n",
    "print(\"Area of Circle:\",obc.getArea())\n",
    "print(\"Area of Triangle:\",obt.getArea())"
   ]
  },
  {
   "cell_type": "code",
   "execution_count": 130,
   "metadata": {},
   "outputs": [
    {
     "name": "stdout",
     "output_type": "stream",
     "text": [
      "Perimeter of Rectangle: 56.568542494923804\n",
      "Perimeter of Circle: 12.566370614359172\n",
      "Perimeter of Triangle: 83.24555320336759\n"
     ]
    }
   ],
   "source": [
    "print(\"Perimeter of Rectangle:\",obr.getPerimeter())\n",
    "print(\"Perimeter of Circle:\",obc.getPerimeter())\n",
    "print(\"Perimeter of Triangle:\",obt.getPerimeter())"
   ]
  },
  {
   "cell_type": "code",
   "execution_count": 131,
   "metadata": {},
   "outputs": [
    {
     "name": "stdout",
     "output_type": "stream",
     "text": [
      "Yes! Located inside the Rectangle\n",
      "Yes! Located Inside the Circle\n",
      "Yes! Located Inside the Triangle\n"
     ]
    }
   ],
   "source": [
    "obr.check(0,0)\n",
    "obc.check(1,1)\n",
    "obt.check(10,15)"
   ]
  },
  {
   "cell_type": "code",
   "execution_count": 132,
   "metadata": {},
   "outputs": [
    {
     "name": "stdout",
     "output_type": "stream",
     "text": [
      "Located outside of the Rectangle\n",
      "Located Outside of the Circle\n",
      "No! Located Outside of the Triangle\n"
     ]
    }
   ],
   "source": [
    "obr.check(20,20)\n",
    "obc.check(5,1)\n",
    "obt.check(10,35)"
   ]
  },
  {
   "cell_type": "markdown",
   "metadata": {
    "colab_type": "text",
    "id": "l0AXvbm9DHKh"
   },
   "source": [
    "8. Add a function to the object classes that return a list of up to 16 pairs of  $x$ and $y$ points on the perimeter of the object.\n",
    "\n"
   ]
  },
  {
   "cell_type": "code",
   "execution_count": 133,
   "metadata": {},
   "outputs": [],
   "source": [
    "class RectanglePoints:\n",
    "    #generate each pixel in a rectangle, given the min/max x/y coordinates of the given rectangle\n",
    "    def __init__(self, min_x, min_y, max_x, max_y):\n",
    "        self.__min_x=min_x\n",
    "        self.__min_y=min_y\n",
    "        self.__max_x=max_x\n",
    "        self.__max_y=max_y\n",
    "    \n",
    "    def Coordinates(self):\n",
    "        x, y = self.__min_x, self.__min_y\n",
    "        points= []\n",
    "        for dx, dy in (1, 0), (0, 1), (-1, 0), (0, -1):\n",
    "            while x in range(self.__min_x, self.__max_x+1) and y in range(self.__min_y, self.__max_y+1):\n",
    "                points.append((x, y))\n",
    "                x += dx\n",
    "                y += dy\n",
    "            x -= dx\n",
    "            y -= dy\n",
    "        return points\n",
    "\n",
    "import math\n",
    "class CirclePoints:\n",
    "    def __init__(self, x, y, radius):\n",
    "        self.__x=x\n",
    "        self.__y=y\n",
    "        self.__radius=radius\n",
    "    def rotate(self):\n",
    "        # returns coordinates in a tuple (x,y)\n",
    "        rx = (self.__x*math.cos(self.__r)) - (self.__y*math.sin(self.__r))\n",
    "        ry = (self.__y*math.cos(self.__r)) + (self.__x*math.sin(self.__r))\n",
    "        return (rx, ry)\n",
    "# create a ring of points centered on center (x,y) with a given radius\n",
    "# center should be a tuple or list of coordinates (x,y)\n",
    "# returns a list of point coordinates in tuples\n",
    "    def Coordinates(self, num_points):\n",
    "        self.__num_points=num_points\n",
    "        arc = (2 * math.pi) / self.__num_points #angle between two of the points\n",
    "        points = []\n",
    "        for p in range(self.__num_points):\n",
    "            (px,py) = rotate(0, self.__radius, arc * p) \n",
    "            px += self.__x\n",
    "            py += self.__y\n",
    "            points.append((px,py))\n",
    "        return points\n",
    "    "
   ]
  },
  {
   "cell_type": "code",
   "execution_count": 134,
   "metadata": {},
   "outputs": [],
   "source": [
    "objr = RectanglePoints(0,0,10,10)\n",
    "objc=CirclePoints(1,1,3)"
   ]
  },
  {
   "cell_type": "code",
   "execution_count": 135,
   "metadata": {},
   "outputs": [
    {
     "name": "stdout",
     "output_type": "stream",
     "text": [
      "Points on the Rectangle are: [(0, 0), (1, 0), (2, 0), (3, 0), (4, 0), (5, 0), (6, 0), (7, 0), (8, 0), (9, 0), (10, 0), (10, 0), (10, 1), (10, 2), (10, 3), (10, 4), (10, 5), (10, 6), (10, 7), (10, 8), (10, 9), (10, 10), (10, 10), (9, 10), (8, 10), (7, 10), (6, 10), (5, 10), (4, 10), (3, 10), (2, 10), (1, 10), (0, 10), (0, 10), (0, 9), (0, 8), (0, 7), (0, 6), (0, 5), (0, 4), (0, 3), (0, 2), (0, 1), (0, 0)]\n",
      "Points on the Circle are: [(1.0, 4.0), (-0.1480502970952693, 3.77163859753386), (-1.1213203435596428, 3.121320343559643), (-1.77163859753386, 2.1480502970952697), (-2.0, 1.0000000000000002), (-1.77163859753386, -0.1480502970952693), (-1.1213203435596428, -1.1213203435596424), (-0.14805029709526973, -1.77163859753386), (0.9999999999999997, -2.0), (2.148050297095269, -1.7716385975338604), (3.1213203435596424, -1.1213203435596428), (3.7716385975338595, -0.14805029709527107), (4.0, 0.9999999999999994), (3.77163859753386, 2.1480502970952697), (3.121320343559643, 3.121320343559642), (2.148050297095271, 3.7716385975338595)]\n"
     ]
    }
   ],
   "source": [
    "print(\"Points on the Rectangle are:\",objr.Coordinates())\n",
    "print(\"Points on the Circle are:\",objc.Coordinates(16))"
   ]
  },
  {
   "cell_type": "markdown",
   "metadata": {
    "colab_type": "text",
    "id": "rCcX3viBDHKh"
   },
   "source": [
    "9. Add a function in the base class of the object classes that returns true/false testing that the object overlaps with another object."
   ]
  },
  {
   "cell_type": "code",
   "execution_count": 136,
   "metadata": {},
   "outputs": [],
   "source": [
    "class OverlapRectangle:\n",
    "    def __init__(self, l1x,l1y, r1x,r1y, l2x,l2y, r2x,r2y):\n",
    "        self.__l1x=l1x\n",
    "        self.__l1y=l1y\n",
    "        self.__r1x=r1x\n",
    "        self.__r1y=r1y\n",
    "        self.__l2x=l2x\n",
    "        self.__l2y=l2y\n",
    "        self.__r2x=r2x\n",
    "        self.__r2y=r2y\n",
    "        \n",
    "#a rectangle can be represented by two coordinates, top left and bottom right.\n",
    "#l1: Top Left coordinate of first rectangle.\n",
    "#r1: Bottom Right coordinate of first rectangle.\n",
    "#l2: Top Left coordinate of second rectangle.\n",
    "#r2: Bottom Right coordinate of second rectangle.\n",
    "    \n",
    "    # Returns true if two rectangles(l1, r1) and (l2, r2) overlap \n",
    "    def checkOverlap(self):\n",
    "        # If one rectangle is on left side of other \n",
    "        if (self.__l1x> self.__r2x or self.__l2x>self.__r1x):\n",
    "            return False\n",
    "        # If one rectangle is above other \n",
    "        if (self.__l1y < self.__r2y or self.__l2y < self.__r1y):\n",
    "            return False\n",
    "        return True\n",
    "    \n",
    "class OverlapCircle:\n",
    "    def __init__(self,x1, y1, x2, y2, r1, r2):\n",
    "        self.__x1=x1\n",
    "        self.__y1=y1\n",
    "        self.__x2=x2\n",
    "        self.__y2=y2\n",
    "        self.__r1=r1\n",
    "        self.__r2=r2\n",
    "#Distance between centers C1 and C2 is calculated as C1C2 = sqrt((x1 - x2)2 + (y1 - y2)2).\n",
    "#There are three condition arises.\n",
    "#1. If C1C2 == R1 + R2 ;Circle A and B are touch to each other.\n",
    "#2. If C1C2 > R1 + R2 ;Circle A and B are not touch to each other.\n",
    "#3. If C1C2 < R1 + R2 ;Circle intersects each other.\n",
    "    \n",
    "    def checkOverlap(self):\n",
    "        distSqured = (self.__x1-self.__x2)*(self.__x1-self.__x2)+(self.__y1-self.__y2)*(self.__y1-self.__y2)  \n",
    "        radSumSqured = (self.__r1 + self.__r2) * (self.__r1 + self.__r2)  \n",
    "        if (distSqured == radSumSqured): \n",
    "            return True \n",
    "        elif (distSqured > radSumSqured): \n",
    "            return False\n",
    "        else: \n",
    "            return True "
   ]
  },
  {
   "cell_type": "code",
   "execution_count": 137,
   "metadata": {},
   "outputs": [],
   "source": [
    "objr = OverlapRectangle(0,10, 10,0, 5,5, 15,0)\n",
    "objc = OverlapCircle(-10,8, 14,-24, 30,10)"
   ]
  },
  {
   "cell_type": "code",
   "execution_count": 138,
   "metadata": {},
   "outputs": [
    {
     "name": "stdout",
     "output_type": "stream",
     "text": [
      "True\n",
      "True\n"
     ]
    }
   ],
   "source": [
    "print(objr.checkOverlap())\n",
    "print(objc.checkOverlap())"
   ]
  },
  {
   "cell_type": "code",
   "execution_count": 139,
   "metadata": {},
   "outputs": [],
   "source": [
    "objr1 = OverlapRectangle(10,10, 0,0, 5,5, 15,0)\n",
    "objc1 = OverlapCircle(-10,8, 14,-24, 10,10)"
   ]
  },
  {
   "cell_type": "code",
   "execution_count": 140,
   "metadata": {},
   "outputs": [
    {
     "name": "stdout",
     "output_type": "stream",
     "text": [
      "False\n",
      "False\n"
     ]
    }
   ],
   "source": [
    "print(objr1.checkOverlap())\n",
    "print(objr1.checkOverlap())"
   ]
  },
  {
   "cell_type": "code",
   "execution_count": null,
   "metadata": {},
   "outputs": [],
   "source": []
  }
 ],
 "metadata": {
  "colab": {
   "name": "Lab-5.ipynb",
   "provenance": []
  },
  "kernelspec": {
   "display_name": "Python 3",
   "language": "python",
   "name": "python3"
  },
  "language_info": {
   "codemirror_mode": {
    "name": "ipython",
    "version": 3
   },
   "file_extension": ".py",
   "mimetype": "text/x-python",
   "name": "python",
   "nbconvert_exporter": "python",
   "pygments_lexer": "ipython3",
   "version": "3.7.4"
  }
 },
 "nbformat": 4,
 "nbformat_minor": 1
}
