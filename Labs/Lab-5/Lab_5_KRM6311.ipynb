{
  "nbformat": 4,
  "nbformat_minor": 0,
  "metadata": {
    "kernelspec": {
      "display_name": "Python 3",
      "language": "python",
      "name": "python3"
    },
    "language_info": {
      "codemirror_mode": {
        "name": "ipython",
        "version": 3
      },
      "file_extension": ".py",
      "mimetype": "text/x-python",
      "name": "python",
      "nbconvert_exporter": "python",
      "pygments_lexer": "ipython3",
      "version": "3.8.1"
    },
    "colab": {
      "name": "Lab_5_KRM6311.ipynb",
      "provenance": [],
      "collapsed_sections": []
    }
  },
  "cells": [
    {
      "cell_type": "markdown",
      "metadata": {
        "id": "Z6ejkTjK2TnA",
        "colab_type": "text"
      },
      "source": [
        "# Lab 5- Object Oriented Programming\n",
        "\n",
        "[![Open In Colab](https://colab.research.google.com/assets/colab-badge.svg)](https://colab.research.google.com/github//afarbin/DATA1401-Spring-2020/blob/master/Labs/Lab-5/Lab-5.ipynb)\n",
        "\n",
        "For all of the exercises below, make sure you provide tests of your solutions.\n"
      ]
    },
    {
      "cell_type": "markdown",
      "metadata": {
        "id": "uzwkEt6E2TnC",
        "colab_type": "text"
      },
      "source": [
        "1. Write a \"counter\" class that can be incremented up to a specified maximum value, will print an error if an attempt is made to increment beyond that value, and allows reseting the counter. "
      ]
    },
    {
      "cell_type": "code",
      "metadata": {
        "id": "19BlINd92TnF",
        "colab_type": "code",
        "colab": {}
      },
      "source": [
        "class counter:\n",
        "    def __init__(self,max_val):\n",
        "        self.max_val=max_val\n",
        "        self.cur_val=1\n",
        "        \n",
        "    def increment(self):\n",
        "        if self.cur_val>self.max_val:\n",
        "            print(\"Max value reached.\")\n",
        "        else:\n",
        "            self.cur_val+=1\n",
        "            \n",
        "    def reset(self):\n",
        "        print(\"Value reset to 1\")\n",
        "        self.cur_val=1\n",
        "        "
      ],
      "execution_count": 0,
      "outputs": []
    },
    {
      "cell_type": "code",
      "metadata": {
        "id": "5mNBZpz52TnQ",
        "colab_type": "code",
        "colab": {}
      },
      "source": [
        "my_counter=counter(5)"
      ],
      "execution_count": 0,
      "outputs": []
    },
    {
      "cell_type": "code",
      "metadata": {
        "id": "XYAWWjrX2TnX",
        "colab_type": "code",
        "colab": {}
      },
      "source": [
        "my_counter.increment()\n",
        "my_counter.increment()\n",
        "my_counter.increment()\n",
        "my_counter.increment()\n",
        "my_counter.increment()"
      ],
      "execution_count": 0,
      "outputs": []
    },
    {
      "cell_type": "code",
      "metadata": {
        "id": "cH8vnWEj2Tnf",
        "colab_type": "code",
        "colab": {
          "base_uri": "https://localhost:8080/",
          "height": 35
        },
        "outputId": "268a0ea9-3719-4367-e962-887d5bfd502d"
      },
      "source": [
        "my_counter.cur_val=100\n",
        "my_counter.reset()"
      ],
      "execution_count": 22,
      "outputs": [
        {
          "output_type": "stream",
          "text": [
            "Value reset to 1\n"
          ],
          "name": "stdout"
        }
      ]
    },
    {
      "cell_type": "markdown",
      "metadata": {
        "id": "iDEq99jjV1r8",
        "colab_type": "text"
      },
      "source": [
        ""
      ]
    },
    {
      "cell_type": "markdown",
      "metadata": {
        "id": "KK1WiKOl2Tnm",
        "colab_type": "text"
      },
      "source": [
        "2. Copy and paste your solution to question 1 and modify it so that all the data held by the counter is private. Implement functions to check the value of the counter, check the maximum value, and check if the counter is at the maximum."
      ]
    },
    {
      "cell_type": "code",
      "metadata": {
        "id": "eLNK4-Zn2Tnm",
        "colab_type": "code",
        "colab": {}
      },
      "source": [
        "class counter:\n",
        "    def __init__(self,max_val):\n",
        "        self.__max_val=max_val\n",
        "        self.__cur_val=1\n",
        "        \n",
        "    def increment(self):\n",
        "        if self.__cur_val>self.__max_val:\n",
        "            print(\"Max value reached.\")\n",
        "        else:\n",
        "            self.__cur_val+=1\n",
        "            \n",
        "    def reset(self):\n",
        "        self.__cur_val=1\n",
        "        \n",
        "    def cur_val(self):\n",
        "        return self.__cur_val\n",
        "\n",
        "    def max_val(self):\n",
        "        return self.__max_val\n",
        "\n"
      ],
      "execution_count": 0,
      "outputs": []
    },
    {
      "cell_type": "code",
      "metadata": {
        "id": "vyIHN6la2Tnt",
        "colab_type": "code",
        "colab": {}
      },
      "source": [
        "my_counter=counter(3)"
      ],
      "execution_count": 0,
      "outputs": []
    },
    {
      "cell_type": "code",
      "metadata": {
        "id": "g0s42k8T2Tnz",
        "colab_type": "code",
        "outputId": "4ff35651-0cf4-41ff-b4e3-21e4ba476036",
        "colab": {
          "base_uri": "https://localhost:8080/",
          "height": 173
        }
      },
      "source": [
        "my_counter.cur_val()"
      ],
      "execution_count": 25,
      "outputs": [
        {
          "output_type": "error",
          "ename": "TypeError",
          "evalue": "ignored",
          "traceback": [
            "\u001b[0;31m---------------------------------------------------------------------------\u001b[0m",
            "\u001b[0;31mTypeError\u001b[0m                                 Traceback (most recent call last)",
            "\u001b[0;32m<ipython-input-25-35c24697f947>\u001b[0m in \u001b[0;36m<module>\u001b[0;34m()\u001b[0m\n\u001b[0;32m----> 1\u001b[0;31m \u001b[0mmy_counter\u001b[0m\u001b[0;34m.\u001b[0m\u001b[0mcur_val\u001b[0m\u001b[0;34m(\u001b[0m\u001b[0;34m)\u001b[0m\u001b[0;34m\u001b[0m\u001b[0;34m\u001b[0m\u001b[0m\n\u001b[0m",
            "\u001b[0;31mTypeError\u001b[0m: 'int' object is not callable"
          ]
        }
      ]
    },
    {
      "cell_type": "markdown",
      "metadata": {
        "id": "V9B8jVcv2Tn2",
        "colab_type": "text"
      },
      "source": [
        "3. Implement a class to represent a rectangle, holding the length, width, and $x$ and $y$ coordinates of a corner of the object. Implement functions that compute the area and parameter of the rectangle. Make all data members private and privide accessors to retrieve values of data members. "
      ]
    },
    {
      "cell_type": "code",
      "metadata": {
        "id": "9QsGCWN42Tn4",
        "colab_type": "code",
        "colab": {}
      },
      "source": [
        "class rectangle:\n",
        "    def __init__(self,width,length,coor):\n",
        "        self.__width=width\n",
        "        self.__length=length\n",
        "        self.__x=coor[0]\n",
        "        self.__y=coor[1]\n",
        "        \n",
        "    def area(self):\n",
        "        return self.__width*self.__length\n",
        "    \n",
        "    def perimeter(self):\n",
        "        return 2*(self.__width+self.__length)\n",
        "    \n",
        "    def x(self):\n",
        "        return self.__x\n",
        "\n",
        "        "
      ],
      "execution_count": 0,
      "outputs": []
    },
    {
      "cell_type": "code",
      "metadata": {
        "id": "9GgQTnHUo_iT",
        "colab_type": "code",
        "colab": {
          "base_uri": "https://localhost:8080/",
          "height": 35
        },
        "outputId": "86ae895a-9b23-48af-8a21-ba25ee819783"
      },
      "source": [
        "corner = [2,2]\n",
        "width = 6\n",
        "height = 6\n",
        "my_rectangle = rectangle(width, height, corner)\n",
        "print(\"Area of rectabled is: \"+str(my_rectangle.area()))"
      ],
      "execution_count": 42,
      "outputs": [
        {
          "output_type": "stream",
          "text": [
            "Area of rectabled is: 36\n"
          ],
          "name": "stdout"
        }
      ]
    },
    {
      "cell_type": "markdown",
      "metadata": {
        "id": "RR_gweIE2Tn8",
        "colab_type": "text"
      },
      "source": [
        "4. Implement a class to represent a circle, holding the radius and $x$ and $y$ coordinates of center of the object. Implement functions that compute the area and circumference of the circle. Make all data members private and privide accessors to retrieve values of data members. "
      ]
    },
    {
      "cell_type": "code",
      "metadata": {
        "id": "h1ZdO7YxWvTR",
        "colab_type": "code",
        "colab": {}
      },
      "source": [
        "import math\n",
        "class circle:\n",
        "  def __init__(self,radius,coor):\n",
        "    self.__radius = radius\n",
        "    self.__x = coor[0]\n",
        "    self.__y = coor[1]\n",
        "  \n",
        "  def area(self):\n",
        "    return math.pi*(self.__radius**2)\n",
        "  \n",
        "  def circumference(self):\n",
        "    return 2*math.pi*self.__radius\n",
        "  \n"
      ],
      "execution_count": 0,
      "outputs": []
    },
    {
      "cell_type": "code",
      "metadata": {
        "id": "aX5hBqXAYl15",
        "colab_type": "code",
        "colab": {
          "base_uri": "https://localhost:8080/",
          "height": 54
        },
        "outputId": "79302989-5c64-4208-c717-819e753401df"
      },
      "source": [
        "center = [2,2]\n",
        "radius = 3\n",
        "my_circle = circle(radius,center)\n",
        "area = my_circle.area()\n",
        "print(\"Circle Area is: \"+str(area))\n",
        "circumference = my_circle.circumference()\n",
        "print(\"Circle perimeter is: \"+str(circumference))"
      ],
      "execution_count": 36,
      "outputs": [
        {
          "output_type": "stream",
          "text": [
            "Circle Area is: 28.274333882308138\n",
            "Circle perimeter is: 18.84955592153876\n"
          ],
          "name": "stdout"
        }
      ]
    },
    {
      "cell_type": "markdown",
      "metadata": {
        "id": "avTrnaeb2Tn9",
        "colab_type": "text"
      },
      "source": [
        "5. Implement a common base class for the classes implemented in 3 and 4 above which implements all common methods as dummy functions. Re-implement those classes to inherit from the base class and overload the functions accordingly. "
      ]
    },
    {
      "cell_type": "code",
      "metadata": {
        "id": "47bDTqRbcE9i",
        "colab_type": "code",
        "colab": {}
      },
      "source": [
        "import math\n",
        "\n",
        "class shape:\n",
        "  def __init__(self,coor):\n",
        "    self.__x = coor[0]\n",
        "    self.__y = coor[1]\n",
        "\n",
        "  def perimeter(self):\n",
        "    raise NotImplementedError\n",
        "\n",
        "class circle:\n",
        "  def __init__(self,radius,coor):\n",
        "    self.__radius = radius\n",
        "    self.__x = coor[0]\n",
        "    self.__y = coor[1]\n",
        "  \n",
        "  def area(self):\n",
        "    return math.pi*(self.__radius**2)\n",
        "  \n",
        "  def perimeter(self):\n",
        "    return 2*math.pi*self.__radius\n",
        "\n",
        "class rectangle:\n",
        "    def __init__(self,width,length,coor):\n",
        "        self.__width=width\n",
        "        self.__length=length\n",
        "        self.__x=coor[0]\n",
        "        self.__y=coor[1]\n",
        "        \n",
        "    def area(self):\n",
        "        return self.__width*self.__length\n",
        "    \n",
        "    def perimeter(self):\n",
        "        return 2*(self.__width+self.__length)\n",
        "    \n",
        "    def x(self):\n",
        "        return self.__x"
      ],
      "execution_count": 0,
      "outputs": []
    },
    {
      "cell_type": "code",
      "metadata": {
        "id": "vZ-WOi8Vp84I",
        "colab_type": "code",
        "colab": {
          "base_uri": "https://localhost:8080/",
          "height": 54
        },
        "outputId": "427a45ee-dcf0-46f6-e26b-b5b2e15286b6"
      },
      "source": [
        "coordinates = [2,3]\n",
        "my_circle2 = circle(3,coordinates)\n",
        "my_rectangle2 = rectangle(3,3,coordinates)\n",
        "\n",
        "print(\"Circle Area is: \"+str(my_circle2.perimeter()))\n",
        "print(\"Circle Area is: \"+str(my_rectangle2.perimeter()))"
      ],
      "execution_count": 44,
      "outputs": [
        {
          "output_type": "stream",
          "text": [
            "Circle Area is: 18.84955592153876\n",
            "Circle Area is: 12\n"
          ],
          "name": "stdout"
        }
      ]
    },
    {
      "cell_type": "markdown",
      "metadata": {
        "id": "SkNNLXfR2Tn-",
        "colab_type": "text"
      },
      "source": [
        "6. Implement an analogous triangle class."
      ]
    },
    {
      "cell_type": "code",
      "metadata": {
        "id": "StDyXmdorWew",
        "colab_type": "code",
        "colab": {}
      },
      "source": [
        "class triangle:\n",
        "  def __init__(self, base, height,sides):\n",
        "    self.__base = base\n",
        "    self.__height = height\n",
        "    self.__side1 = sides[0]\n",
        "    self.__side2 = sides[1]\n",
        "    self.__side3 = sides[2]\n",
        "  def area(self):\n",
        "    return self.__base*0.5*self.__height\n",
        "\n",
        "  def perimeter(self):\n",
        "    return self.__side1+self.__side2+self.__side3"
      ],
      "execution_count": 0,
      "outputs": []
    },
    {
      "cell_type": "markdown",
      "metadata": {
        "id": "A24C5VE42Tn_",
        "colab_type": "text"
      },
      "source": [
        "7. Add a function to the object classes that test if a given set of $x$ and $y$ coordinates are inside of the object."
      ]
    },
    {
      "cell_type": "markdown",
      "metadata": {
        "id": "mIDOz2x42ToA",
        "colab_type": "text"
      },
      "source": [
        "8. Add a function to the object classes that return a list of up to 16 pairs of  $x$ and $y$ points on the parameter of the object.\n",
        "\n"
      ]
    },
    {
      "cell_type": "markdown",
      "metadata": {
        "id": "-glYlY962ToB",
        "colab_type": "text"
      },
      "source": [
        "9. Add a function in the base class of the object classes that returns true/false testing that the object overlaps with another object."
      ]
    }
  ]
}