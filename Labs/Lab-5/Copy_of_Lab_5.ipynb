{
  "nbformat": 4,
  "nbformat_minor": 0,
  "metadata": {
    "kernelspec": {
      "display_name": "Python 3",
      "language": "python",
      "name": "python3"
    },
    "language_info": {
      "codemirror_mode": {
        "name": "ipython",
        "version": 3
      },
      "file_extension": ".py",
      "mimetype": "text/x-python",
      "name": "python",
      "nbconvert_exporter": "python",
      "pygments_lexer": "ipython3",
      "version": "3.8.1"
    },
    "colab": {
      "name": "Copy of Lab-5.ipynb",
      "provenance": []
    }
  },
  "cells": [
    {
      "cell_type": "markdown",
      "metadata": {
        "id": "qzAF95NXM9TH",
        "colab_type": "text"
      },
      "source": [
        "# Lab 5- Object Oriented Programming\n",
        "\n",
        "[![Open In Colab](https://colab.research.google.com/assets/colab-badge.svg)](https://colab.research.google.com/github//afarbin/DATA1401-Spring-2020/blob/master/Labs/Lab-5/Lab-5.ipynb)\n",
        "\n",
        "For all of the exercises below, make sure you provide tests of your solutions.\n"
      ]
    },
    {
      "cell_type": "markdown",
      "metadata": {
        "id": "6HO1hrBGM9TJ",
        "colab_type": "text"
      },
      "source": [
        "1. Write a \"counter\" class that can be incremented up to a specified maximum value, will print an error if an attempt is made to increment beyond that value, and allows reseting the counter. "
      ]
    },
    {
      "cell_type": "code",
      "metadata": {
        "id": "oxnnKcdkM9TL",
        "colab_type": "code",
        "colab": {}
      },
      "source": [
        "class counter:\n",
        "    def __init__(self,max_val):\n",
        "        self.max_val=max_val\n",
        "        self.cur_val=1\n",
        "        \n",
        "    def increment(self):\n",
        "        if self.cur_val>self.max_val:\n",
        "            print(\"Max value reached.\")\n",
        "        else:\n",
        "            self.cur_val+=1\n",
        "            \n",
        "    def reset(self):\n",
        "        self.cur_val=1\n",
        "        "
      ],
      "execution_count": 0,
      "outputs": []
    },
    {
      "cell_type": "code",
      "metadata": {
        "id": "B-1BJOhkM9TS",
        "colab_type": "code",
        "colab": {}
      },
      "source": [
        "my_counter=counter(3)"
      ],
      "execution_count": 0,
      "outputs": []
    },
    {
      "cell_type": "code",
      "metadata": {
        "id": "_sW8rZ-JM9TY",
        "colab_type": "code",
        "outputId": "42971be1-4d99-4b10-f558-3911816cf748",
        "colab": {
          "base_uri": "https://localhost:8080/",
          "height": 51
        }
      },
      "source": [
        "my_counter.increment()\n",
        "my_counter.increment()\n",
        "my_counter.increment()\n",
        "my_counter.increment()\n",
        "my_counter.increment()"
      ],
      "execution_count": 0,
      "outputs": [
        {
          "output_type": "stream",
          "text": [
            "Max value reached.\n",
            "Max value reached.\n"
          ],
          "name": "stdout"
        }
      ]
    },
    {
      "cell_type": "markdown",
      "metadata": {
        "id": "6kLcl7e5M9Tn",
        "colab_type": "text"
      },
      "source": [
        "2. Copy and paste your solution to question 1 and modify it so that all the data held by the counter is private. Implement functions to check the value of the counter, check the maximum value, and check if the counter is at the maximum."
      ]
    },
    {
      "cell_type": "code",
      "metadata": {
        "id": "dgfSpEQgM9Tn",
        "colab_type": "code",
        "colab": {}
      },
      "source": [
        "class counter:\n",
        "    def __init__(self,max_val):\n",
        "        self.__max_val=max_val\n",
        "        self.__cur_val=1\n",
        "        \n",
        "    def increment(self):\n",
        "        if self.__cur_val>self.__max_val:\n",
        "            print(\"Max value reached.\")\n",
        "        else:\n",
        "            self.__cur_val+=1\n",
        "            \n",
        "    def reset(self):\n",
        "        self.__cur_val=1\n",
        "        \n",
        "    def cur_val(self):\n",
        "        return self.__cur_val\n",
        "\n",
        "    def max_val(self):\n",
        "        return self.__max_val\n",
        "\n"
      ],
      "execution_count": 0,
      "outputs": []
    },
    {
      "cell_type": "code",
      "metadata": {
        "id": "OQKK53j7M9Ts",
        "colab_type": "code",
        "colab": {}
      },
      "source": [
        "my_counter=counter(3)"
      ],
      "execution_count": 0,
      "outputs": []
    },
    {
      "cell_type": "code",
      "metadata": {
        "id": "RhiWqjmTM9Ty",
        "colab_type": "code",
        "outputId": "f8eb98d3-6e28-4e6d-9b61-17cd749ec66b",
        "colab": {
          "base_uri": "https://localhost:8080/",
          "height": 34
        }
      },
      "source": [
        "my_counter.cur_val()"
      ],
      "execution_count": 0,
      "outputs": [
        {
          "output_type": "execute_result",
          "data": {
            "text/plain": [
              "1"
            ]
          },
          "metadata": {
            "tags": []
          },
          "execution_count": 12
        }
      ]
    },
    {
      "cell_type": "markdown",
      "metadata": {
        "id": "HQNUyHNJ4srn",
        "colab_type": "text"
      },
      "source": [
        ""
      ]
    },
    {
      "cell_type": "markdown",
      "metadata": {
        "id": "sjsNeXcAM9T7",
        "colab_type": "text"
      },
      "source": [
        "3. Implement a class to represent a rectangle, holding the length, width, and $x$ and $y$ coordinates of a corner of the object. Implement functions that compute the area and parameter of the rectangle. Make all data members private and privide accessors to retrieve values of data members. "
      ]
    },
    {
      "cell_type": "code",
      "metadata": {
        "id": "RZtVfDt8M9T7",
        "colab_type": "code",
        "colab": {}
      },
      "source": [
        "class rectangle:\n",
        "    def __init__(self,width,length,x,y):\n",
        "        self.__width=width\n",
        "        self.__length=length\n",
        "        self.__x=x\n",
        "        self.__y=y\n",
        "        \n",
        "    def area(self):\n",
        "        return self.__width*self.__length\n",
        "    \n",
        "    def perimeter(self):\n",
        "        return 2*(self.__width+self.__length)\n",
        "    \n",
        "    def x(self):\n",
        "        return self.__x\n",
        "    \n",
        "    def y(self):\n",
        "      return self.__y"
      ],
      "execution_count": 0,
      "outputs": []
    },
    {
      "cell_type": "code",
      "metadata": {
        "id": "IdrmrbiX41J6",
        "colab_type": "code",
        "outputId": "b911e06e-4e61-423e-c222-cf19c8cc3815",
        "colab": {
          "base_uri": "https://localhost:8080/",
          "height": 34
        }
      },
      "source": [
        "rect=rectangle(4,2,3,3)\n",
        "rect.area()"
      ],
      "execution_count": 0,
      "outputs": [
        {
          "output_type": "execute_result",
          "data": {
            "text/plain": [
              "8"
            ]
          },
          "metadata": {
            "tags": []
          },
          "execution_count": 20
        }
      ]
    },
    {
      "cell_type": "code",
      "metadata": {
        "id": "VutV6dGl5maO",
        "colab_type": "code",
        "outputId": "71dcedc0-bb5b-4ba3-9476-29834d7144e5",
        "colab": {
          "base_uri": "https://localhost:8080/",
          "height": 34
        }
      },
      "source": [
        "rect.perimeter()"
      ],
      "execution_count": 0,
      "outputs": [
        {
          "output_type": "execute_result",
          "data": {
            "text/plain": [
              "12"
            ]
          },
          "metadata": {
            "tags": []
          },
          "execution_count": 21
        }
      ]
    },
    {
      "cell_type": "code",
      "metadata": {
        "id": "MTVBGqAz5ocQ",
        "colab_type": "code",
        "outputId": "b2582794-2b71-4d67-a5a6-6108e30ff99f",
        "colab": {
          "base_uri": "https://localhost:8080/",
          "height": 34
        }
      },
      "source": [
        "rect.x()"
      ],
      "execution_count": 0,
      "outputs": [
        {
          "output_type": "execute_result",
          "data": {
            "text/plain": [
              "3"
            ]
          },
          "metadata": {
            "tags": []
          },
          "execution_count": 22
        }
      ]
    },
    {
      "cell_type": "code",
      "metadata": {
        "id": "Z8aToHVK5qmN",
        "colab_type": "code",
        "outputId": "d90a315b-c251-4477-fa22-9530b012b0b4",
        "colab": {
          "base_uri": "https://localhost:8080/",
          "height": 34
        }
      },
      "source": [
        "rect.y()"
      ],
      "execution_count": 0,
      "outputs": [
        {
          "output_type": "execute_result",
          "data": {
            "text/plain": [
              "3"
            ]
          },
          "metadata": {
            "tags": []
          },
          "execution_count": 23
        }
      ]
    },
    {
      "cell_type": "markdown",
      "metadata": {
        "id": "zyWa-csgM9UA",
        "colab_type": "text"
      },
      "source": [
        "4. Implement a class to represent a circle, holding the radius and $x$ and $y$ coordinates of center of the object. Implement functions that compute the area and parameter of the rectangle. Make all data members private and privide accessors to retrieve values of data members. "
      ]
    },
    {
      "cell_type": "code",
      "metadata": {
        "id": "72c58nzx5yO6",
        "colab_type": "code",
        "colab": {}
      },
      "source": [
        "import math\n",
        "class circle:\n",
        "    def __init__(self,radius,x,y):\n",
        "        self.__radius=radius\n",
        "        self.__x=x\n",
        "        self.__y=y\n",
        "        \n",
        "    def area(self):\n",
        "        return math.pi*pow(self.__radius,2)\n",
        "    \n",
        "    def perimeter(self):\n",
        "        return 2*math.pi*self.__radius\n",
        "    \n",
        "    def x(self):\n",
        "        return self.__x\n",
        "    \n",
        "    def y(self):\n",
        "        return self.__y"
      ],
      "execution_count": 0,
      "outputs": []
    },
    {
      "cell_type": "code",
      "metadata": {
        "id": "GyV3al7Y62C0",
        "colab_type": "code",
        "outputId": "c56021f6-5ccc-4731-e665-7ef01ee83afa",
        "colab": {
          "base_uri": "https://localhost:8080/",
          "height": 34
        }
      },
      "source": [
        "cir=circle(3,1,2)\n",
        "cir.area()"
      ],
      "execution_count": 0,
      "outputs": [
        {
          "output_type": "execute_result",
          "data": {
            "text/plain": [
              "28.274333882308138"
            ]
          },
          "metadata": {
            "tags": []
          },
          "execution_count": 27
        }
      ]
    },
    {
      "cell_type": "code",
      "metadata": {
        "id": "bABHZ4Ln7OZw",
        "colab_type": "code",
        "outputId": "3e46b00c-0ea6-4629-e62b-4952da7d67cb",
        "colab": {
          "base_uri": "https://localhost:8080/",
          "height": 34
        }
      },
      "source": [
        "cir.perimeter()"
      ],
      "execution_count": 0,
      "outputs": [
        {
          "output_type": "execute_result",
          "data": {
            "text/plain": [
              "18.84955592153876"
            ]
          },
          "metadata": {
            "tags": []
          },
          "execution_count": 28
        }
      ]
    },
    {
      "cell_type": "code",
      "metadata": {
        "id": "hta6Xzym7ZzW",
        "colab_type": "code",
        "outputId": "740ee5b0-eec3-4c43-aa43-0dc5a8dc9d1d",
        "colab": {
          "base_uri": "https://localhost:8080/",
          "height": 34
        }
      },
      "source": [
        "cir.x()"
      ],
      "execution_count": 0,
      "outputs": [
        {
          "output_type": "execute_result",
          "data": {
            "text/plain": [
              "1"
            ]
          },
          "metadata": {
            "tags": []
          },
          "execution_count": 29
        }
      ]
    },
    {
      "cell_type": "code",
      "metadata": {
        "id": "k1TNj-Sy7b05",
        "colab_type": "code",
        "outputId": "d4677f1d-a7f8-4d91-a967-a210c33c481a",
        "colab": {
          "base_uri": "https://localhost:8080/",
          "height": 34
        }
      },
      "source": [
        "cir.y()"
      ],
      "execution_count": 0,
      "outputs": [
        {
          "output_type": "execute_result",
          "data": {
            "text/plain": [
              "2"
            ]
          },
          "metadata": {
            "tags": []
          },
          "execution_count": 30
        }
      ]
    },
    {
      "cell_type": "markdown",
      "metadata": {
        "id": "SFxuy1rPM9UA",
        "colab_type": "text"
      },
      "source": [
        "5. Implement a common base class for the classes implemented in 3 and 4 above which implements all common methods as dummy functions. Re-implement those classes to inherit from the base class and overload the functions accordingly. "
      ]
    },
    {
      "cell_type": "code",
      "metadata": {
        "id": "v3vGTcCtA2as",
        "colab_type": "code",
        "colab": {}
      },
      "source": [
        "class base:\n",
        "    def __init__(self,width,length,x=0,y=0):\n",
        "        self.__width=width\n",
        "        self.__length=length\n",
        "        self.__x=x\n",
        "        self.__y=y\n",
        "        \n",
        "    def area(self):\n",
        "        return self.__width*self.__length\n",
        "    \n",
        "    def perimeter(self):\n",
        "        return 2*(self.__width+self.__length)\n",
        "    \n",
        "    def x(self):\n",
        "        return self.__x\n",
        "\n",
        "    def y(self):\n",
        "        return self.__y\n",
        "\n",
        "class circle(base):\n",
        "    def __init__(self,radius,x,y):\n",
        "      super(circle,self).__init__(x,y)\n",
        "      self.radius=radius\n",
        "    \n",
        "    def area(self):\n",
        "        return math.pi*pow(self.radius,2)\n",
        "    \n",
        "    def perimeter(self):\n",
        "        return 2*math.pi*self.radius\n",
        "\n",
        "class rectangle(base):\n",
        "    def __init__(self,width,length,x,y):\n",
        "      super(rectangle,self).__init__(width,length,x,y)"
      ],
      "execution_count": 0,
      "outputs": []
    },
    {
      "cell_type": "code",
      "metadata": {
        "id": "hGh_gzlpEg7g",
        "colab_type": "code",
        "outputId": "43b3c229-e250-4a08-c74e-81856eb41dbc",
        "colab": {
          "base_uri": "https://localhost:8080/",
          "height": 34
        }
      },
      "source": [
        "cir=circle(3,1,2)\n",
        "cir.area()"
      ],
      "execution_count": 95,
      "outputs": [
        {
          "output_type": "execute_result",
          "data": {
            "text/plain": [
              "28.274333882308138"
            ]
          },
          "metadata": {
            "tags": []
          },
          "execution_count": 95
        }
      ]
    },
    {
      "cell_type": "code",
      "metadata": {
        "id": "1WhxJXQ3TNe5",
        "colab_type": "code",
        "colab": {
          "base_uri": "https://localhost:8080/",
          "height": 34
        },
        "outputId": "dbc2e594-ab39-40f6-ccee-724d6e2a2117"
      },
      "source": [
        "cir.perimeter()"
      ],
      "execution_count": 96,
      "outputs": [
        {
          "output_type": "execute_result",
          "data": {
            "text/plain": [
              "18.84955592153876"
            ]
          },
          "metadata": {
            "tags": []
          },
          "execution_count": 96
        }
      ]
    },
    {
      "cell_type": "code",
      "metadata": {
        "id": "tjMrPIZsUnPj",
        "colab_type": "code",
        "colab": {
          "base_uri": "https://localhost:8080/",
          "height": 34
        },
        "outputId": "0e870196-6a8c-41ec-ee2c-da6a1b2bd697"
      },
      "source": [
        "cir.x()"
      ],
      "execution_count": 97,
      "outputs": [
        {
          "output_type": "execute_result",
          "data": {
            "text/plain": [
              "0"
            ]
          },
          "metadata": {
            "tags": []
          },
          "execution_count": 97
        }
      ]
    },
    {
      "cell_type": "code",
      "metadata": {
        "id": "vtx7nO6LUoyO",
        "colab_type": "code",
        "colab": {
          "base_uri": "https://localhost:8080/",
          "height": 34
        },
        "outputId": "3576255b-6f03-4ca8-866a-67bb192d27c2"
      },
      "source": [
        "cir.y()"
      ],
      "execution_count": 98,
      "outputs": [
        {
          "output_type": "execute_result",
          "data": {
            "text/plain": [
              "0"
            ]
          },
          "metadata": {
            "tags": []
          },
          "execution_count": 98
        }
      ]
    },
    {
      "cell_type": "code",
      "metadata": {
        "id": "4cT5HsW0Uvcc",
        "colab_type": "code",
        "colab": {
          "base_uri": "https://localhost:8080/",
          "height": 34
        },
        "outputId": "691a3701-5d0e-47ca-95f4-cb44dba510f9"
      },
      "source": [
        "rect=rectangle(2,4,0,0)\n",
        "rect.area()"
      ],
      "execution_count": 99,
      "outputs": [
        {
          "output_type": "execute_result",
          "data": {
            "text/plain": [
              "8"
            ]
          },
          "metadata": {
            "tags": []
          },
          "execution_count": 99
        }
      ]
    },
    {
      "cell_type": "code",
      "metadata": {
        "id": "NyQlPaxWU3J5",
        "colab_type": "code",
        "colab": {
          "base_uri": "https://localhost:8080/",
          "height": 34
        },
        "outputId": "ba908cf4-c382-4a33-a67c-fd6ce7478ad2"
      },
      "source": [
        "rect.perimeter()"
      ],
      "execution_count": 100,
      "outputs": [
        {
          "output_type": "execute_result",
          "data": {
            "text/plain": [
              "12"
            ]
          },
          "metadata": {
            "tags": []
          },
          "execution_count": 100
        }
      ]
    },
    {
      "cell_type": "code",
      "metadata": {
        "id": "rDCICktGU48C",
        "colab_type": "code",
        "colab": {
          "base_uri": "https://localhost:8080/",
          "height": 34
        },
        "outputId": "a20f6819-99f2-4919-8564-21750bd83011"
      },
      "source": [
        "rect.x()"
      ],
      "execution_count": 101,
      "outputs": [
        {
          "output_type": "execute_result",
          "data": {
            "text/plain": [
              "0"
            ]
          },
          "metadata": {
            "tags": []
          },
          "execution_count": 101
        }
      ]
    },
    {
      "cell_type": "code",
      "metadata": {
        "id": "b1nVRnT1U7s0",
        "colab_type": "code",
        "colab": {
          "base_uri": "https://localhost:8080/",
          "height": 34
        },
        "outputId": "a63ca391-e50c-48e5-dbe7-08218ec2d2b7"
      },
      "source": [
        "rect.y()"
      ],
      "execution_count": 102,
      "outputs": [
        {
          "output_type": "execute_result",
          "data": {
            "text/plain": [
              "0"
            ]
          },
          "metadata": {
            "tags": []
          },
          "execution_count": 102
        }
      ]
    },
    {
      "cell_type": "markdown",
      "metadata": {
        "id": "XR6q6Y5PM9UB",
        "colab_type": "text"
      },
      "source": [
        "6. Implement an analogous triangle class."
      ]
    },
    {
      "cell_type": "code",
      "metadata": {
        "id": "CMm4VLlPU_m5",
        "colab_type": "code",
        "colab": {}
      },
      "source": [
        "class triangle(base):\n",
        "  def __init__(self,base,height,side1,side2,x,y):\n",
        "    super(triangle,self).__init__(x,y)\n",
        "    self.__base=base\n",
        "    self.__height=height\n",
        "    self.__side1=side1\n",
        "    self.__side2=side2\n",
        "\n",
        "  def area(self):\n",
        "    return 0.5*self.__base*self.__height\n",
        "\n",
        "  def perimeter(self):\n",
        "    return self.__side1+self.__side2+self.__base"
      ],
      "execution_count": 0,
      "outputs": []
    },
    {
      "cell_type": "code",
      "metadata": {
        "id": "0AAzq7RFZPaf",
        "colab_type": "code",
        "colab": {
          "base_uri": "https://localhost:8080/",
          "height": 34
        },
        "outputId": "716965f4-98b9-45a5-8efa-385cf1f94a15"
      },
      "source": [
        "tri=triangle(2,2,2,2,1,2)\n",
        "tri.area()"
      ],
      "execution_count": 110,
      "outputs": [
        {
          "output_type": "execute_result",
          "data": {
            "text/plain": [
              "2.0"
            ]
          },
          "metadata": {
            "tags": []
          },
          "execution_count": 110
        }
      ]
    },
    {
      "cell_type": "code",
      "metadata": {
        "id": "5eGhPAwNZZF5",
        "colab_type": "code",
        "colab": {
          "base_uri": "https://localhost:8080/",
          "height": 34
        },
        "outputId": "1b9555ad-33c2-4a21-f663-ee24dd4be37a"
      },
      "source": [
        "tri.perimeter()"
      ],
      "execution_count": 111,
      "outputs": [
        {
          "output_type": "execute_result",
          "data": {
            "text/plain": [
              "6"
            ]
          },
          "metadata": {
            "tags": []
          },
          "execution_count": 111
        }
      ]
    },
    {
      "cell_type": "code",
      "metadata": {
        "id": "AzoJf4bvaem3",
        "colab_type": "code",
        "colab": {
          "base_uri": "https://localhost:8080/",
          "height": 34
        },
        "outputId": "677ddd0b-94a8-4f45-d34f-887ef1b0bfd2"
      },
      "source": [
        "tri.x()"
      ],
      "execution_count": 112,
      "outputs": [
        {
          "output_type": "execute_result",
          "data": {
            "text/plain": [
              "0"
            ]
          },
          "metadata": {
            "tags": []
          },
          "execution_count": 112
        }
      ]
    },
    {
      "cell_type": "code",
      "metadata": {
        "id": "aNoxqlMTahWG",
        "colab_type": "code",
        "colab": {
          "base_uri": "https://localhost:8080/",
          "height": 34
        },
        "outputId": "f3369fb3-d114-46ba-8c6e-ba37f025b231"
      },
      "source": [
        "tri.y()"
      ],
      "execution_count": 113,
      "outputs": [
        {
          "output_type": "execute_result",
          "data": {
            "text/plain": [
              "0"
            ]
          },
          "metadata": {
            "tags": []
          },
          "execution_count": 113
        }
      ]
    },
    {
      "cell_type": "markdown",
      "metadata": {
        "id": "ZL3FZF9hM9UD",
        "colab_type": "text"
      },
      "source": [
        "7. Add a function to the object classes that test if a given set of $x$ and $y$ coordinates are inside of the object."
      ]
    },
    {
      "cell_type": "code",
      "metadata": {
        "id": "Mwb9nfYcbP9a",
        "colab_type": "code",
        "colab": {}
      },
      "source": [
        "class base:\n",
        "    def __init__(self,circle_x,circle_y,x1=0,y1=0,x2=4,y2=2):\n",
        "        self.circle_x=circle_x\n",
        "        self.circle_y=circle_y\n",
        "        self.x1=x1\n",
        "        self.y1=y1\n",
        "        self.x2=x2\n",
        "        self.y2=y2\n",
        "        width=self.x2-self.x1\n",
        "        length=self.y2-self.y1\n",
        "\n",
        "    def area(self):\n",
        "        return width*length\n",
        "    \n",
        "    def perimeter(self):\n",
        "        return 2*(width+length)\n",
        "\n",
        "    def isinside(self,x1,y1,x2,y2,x,y) : \n",
        "      if (x > x1 and x < x2 and \n",
        "        y > y1 and y < y2) : \n",
        "        return True\n",
        "      else : \n",
        "        return False\n",
        "\n",
        "class circle(base):\n",
        "    def __init__(self,circle_x,circle_y,radius):\n",
        "      super(circle,self).__init__(circle_x,circle_y)\n",
        "      self.radius=radius\n",
        "    \n",
        "    def area(self):\n",
        "        return math.pi*pow(self.radius,2)\n",
        "    \n",
        "    def perimeter(self):\n",
        "        return 2*math.pi*self.radius\n",
        "\n",
        "    def isinside(self,circle_x,circle_y,radius,x,y):\n",
        "      if (pow((x - circle_x),2) + pow((y - circle_y),2) <= pow(radius,2)): \n",
        "        return True; \n",
        "      else: \n",
        "        return False;\n",
        "\n",
        "class rectangle(base):\n",
        "    def __init__(self,x1,y1,x2,y2):\n",
        "      super(rectangle,self).__init__(x1,y1,x2,y2)"
      ],
      "execution_count": 0,
      "outputs": []
    },
    {
      "cell_type": "code",
      "metadata": {
        "id": "IsyKzjVrey6G",
        "colab_type": "code",
        "colab": {
          "base_uri": "https://localhost:8080/",
          "height": 34
        },
        "outputId": "853cdc4f-803c-426f-a52d-df903f6aba0d"
      },
      "source": [
        "cir=circle(0,0,3)\n",
        "cir.isinside(0,0,3,2,2)"
      ],
      "execution_count": 159,
      "outputs": [
        {
          "output_type": "execute_result",
          "data": {
            "text/plain": [
              "True"
            ]
          },
          "metadata": {
            "tags": []
          },
          "execution_count": 159
        }
      ]
    },
    {
      "cell_type": "code",
      "metadata": {
        "id": "4hbrO3-9vgJZ",
        "colab_type": "code",
        "colab": {
          "base_uri": "https://localhost:8080/",
          "height": 34
        },
        "outputId": "a68e6df7-477e-46b5-ce24-a7f6b564ab2e"
      },
      "source": [
        "rect=rectangle(0,0,4,2)\n",
        "rect.isinside(0,0,4,3,2,2)"
      ],
      "execution_count": 165,
      "outputs": [
        {
          "output_type": "execute_result",
          "data": {
            "text/plain": [
              "True"
            ]
          },
          "metadata": {
            "tags": []
          },
          "execution_count": 165
        }
      ]
    },
    {
      "cell_type": "markdown",
      "metadata": {
        "id": "BI6MEkghM9UD",
        "colab_type": "text"
      },
      "source": [
        "8. Add a function to the object classes that return a list of up to 16 pairs of  $x$ and $y$ points on the parameter of the object.\n",
        "\n"
      ]
    },
    {
      "cell_type": "code",
      "metadata": {
        "id": "-17urJwWFaSK",
        "colab_type": "code",
        "colab": {}
      },
      "source": [
        "import random\n",
        "import math\n",
        "class base:\n",
        "    def __init__(self,circle_x,circle_y,x1=0,y1=0,x2=4,y2=2):\n",
        "        self.circle_x=circle_x\n",
        "        self.circle_y=circle_y\n",
        "        self.x1=x1\n",
        "        self.y1=y1\n",
        "        self.x2=x2\n",
        "        self.y2=y2\n",
        "        width=self.x2-self.x1\n",
        "        length=self.y2-self.y1\n",
        "\n",
        "    def area(self):\n",
        "        return width*length\n",
        "    \n",
        "    def perimeter(self):\n",
        "        return 2*(width+length)\n",
        "\n",
        "    def isinside(self,x1,y1,x2,y2,x,y): \n",
        "      if (x > x1 and x < x2 and \n",
        "        y > y1 and y < y2) : \n",
        "        return True\n",
        "      else : \n",
        "        return False\n",
        "\n",
        "    def perimeter_points(self,x1,x2,y1,y2):\n",
        "      lst=[]\n",
        "      for i in range(16):\n",
        "        temp=random.uniform(x1,x2)\n",
        "        lst.append(temp)\n",
        "      for j in range(len(lst)):\n",
        "        return y1,lst[j]\n",
        "\n",
        "class circle(base):\n",
        "    def __init__(self,circle_x,circle_y,radius):\n",
        "      super(circle,self).__init__(circle_x,circle_y)\n",
        "      self.radius=radius\n",
        "    \n",
        "    def area(self):\n",
        "        return math.pi*pow(self.radius,2)\n",
        "    \n",
        "    def perimeter(self):\n",
        "        return 2*math.pi*self.radius\n",
        "\n",
        "    def isinside(self,circle_x,circle_y,radius,x,y):\n",
        "      if (pow((x - circle_x),2) + pow((y - circle_y),2) <= pow(radius,2)): \n",
        "        return True; \n",
        "      else: \n",
        "        return False;\n",
        "\n",
        "    def perimeter_points(self):\n",
        "      lst_1=[]\n",
        "      lst_2=[]\n",
        "      for i in range(16):\n",
        "        lst_1.append(3*math.cos(i))\n",
        "        lst_2.append(3*math.sin(i))  \n",
        "      lst_3=zip(lst_1,lst_2)\n",
        "      lst_3=set(lst_3)\n",
        "      return lst_3\n",
        "\n",
        "class rectangle(base):\n",
        "    def __init__(self,x1,y1,x2,y2):\n",
        "      super(rectangle,self).__init__(x1,y1,x2,y2)"
      ],
      "execution_count": 0,
      "outputs": []
    },
    {
      "cell_type": "code",
      "metadata": {
        "id": "dC_7mDR6SV7R",
        "colab_type": "code",
        "colab": {
          "base_uri": "https://localhost:8080/",
          "height": 286
        },
        "outputId": "b2d3286d-edff-4ead-fa08-b768eaee761d"
      },
      "source": [
        "cir=circle(0,0,3)\n",
        "cir.perimeter_points()"
      ],
      "execution_count": 187,
      "outputs": [
        {
          "output_type": "execute_result",
          "data": {
            "text/plain": [
              "{(-2.9699774898013365, 0.4233600241796016),\n",
              " (-2.7333907856540307, 1.2363554557252698),\n",
              " (-2.517214587229357, -1.6320633326681093),\n",
              " (-2.279063738576464, 1.9508635204713505),\n",
              " (-1.960930862590836, -2.2704074859237844),\n",
              " (-1.2484405096414273, 2.727892280477045),\n",
              " (-0.4365001014258406, 2.9680747398701453),\n",
              " (0.013277093964152355, -2.9999706196521103),\n",
              " (0.41021165462350084, 2.971822067084611),\n",
              " (0.8509865563896788, -2.8767728239894153),\n",
              " (1.6209069176044193, 2.5244129544236893),\n",
              " (2.2617067630299137, 1.9709597961563672),\n",
              " (2.5315618761974763, -1.609718754001305),\n",
              " (2.7223403443505885, 1.2605011104799226),\n",
              " (2.880510859951098, -0.8382464945967776),\n",
              " (3.0, 0.0)}"
            ]
          },
          "metadata": {
            "tags": []
          },
          "execution_count": 187
        }
      ]
    },
    {
      "cell_type": "markdown",
      "metadata": {
        "id": "XCXTfx03M9UE",
        "colab_type": "text"
      },
      "source": [
        "9. Add a function in the base class of the object classes that returns true/false testing that the object overlaps with another object."
      ]
    }
  ]
}