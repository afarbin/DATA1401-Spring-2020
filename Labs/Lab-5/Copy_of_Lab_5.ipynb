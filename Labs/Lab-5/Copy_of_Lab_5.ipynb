{
  "nbformat": 4,
  "nbformat_minor": 0,
  "metadata": {
    "kernelspec": {
      "display_name": "Python 3",
      "language": "python",
      "name": "python3"
    },
    "language_info": {
      "codemirror_mode": {
        "name": "ipython",
        "version": 3
      },
      "file_extension": ".py",
      "mimetype": "text/x-python",
      "name": "python",
      "nbconvert_exporter": "python",
      "pygments_lexer": "ipython3",
      "version": "3.8.1"
    },
    "colab": {
      "name": "Copy of Lab-5.ipynb",
      "provenance": []
    }
  },
  "cells": [
    {
      "cell_type": "markdown",
      "metadata": {
        "id": "h3B9k_Hsa5ZA",
        "colab_type": "text"
      },
      "source": [
        "# Lab 5- Object Oriented Programming\n",
        "\n",
        "[![Open In Colab](https://colab.research.google.com/assets/colab-badge.svg)](https://colab.research.google.com/github//afarbin/DATA1401-Spring-2020/blob/master/Labs/Lab-5/Lab-5.ipynb)\n",
        "\n",
        "For all of the exercises below, make sure you provide tests of your solutions.\n"
      ]
    },
    {
      "cell_type": "markdown",
      "metadata": {
        "id": "IcezS6XLa5ZC",
        "colab_type": "text"
      },
      "source": [
        "1. Write a \"counter\" class that can be incremented up to a specified maximum value, will print an error if an attempt is made to increment beyond that value, and allows reseting the counter. "
      ]
    },
    {
      "cell_type": "code",
      "metadata": {
        "id": "C4vQdAara9-d",
        "colab_type": "code",
        "colab": {}
      },
      "source": [
        "class counter:\n",
        "  def __init__(self,max_val):\n",
        "      self.max_val=max_val\n",
        "      self.cur_val=0\n",
        "\n",
        "  def increment(self):\n",
        "      if self.cur_val>self.max_val:\n",
        "          print(\"Max value reached.\")\n",
        "      else:\n",
        "          self.cur_val+=1\n",
        "\n",
        "  def reset(self):\n",
        "      self.cur_val=0\n",
        "      \n",
        "  "
      ],
      "execution_count": 0,
      "outputs": []
    },
    {
      "cell_type": "code",
      "metadata": {
        "id": "s_8LD2UMcTaO",
        "colab_type": "code",
        "colab": {}
      },
      "source": [
        "my_counter=counter(3)"
      ],
      "execution_count": 0,
      "outputs": []
    },
    {
      "cell_type": "code",
      "metadata": {
        "id": "86_FKezgcZbS",
        "colab_type": "code",
        "outputId": "66f83fab-e18c-4399-9259-54f4f57dce8f",
        "colab": {
          "base_uri": "https://localhost:8080/",
          "height": 91
        }
      },
      "source": [
        "my_counter.increment()\n",
        "my_counter.increment()\n",
        "my_counter.increment()\n",
        "my_counter.increment()"
      ],
      "execution_count": 0,
      "outputs": [
        {
          "output_type": "stream",
          "text": [
            "Max value reached.\n",
            "Max value reached.\n",
            "Max value reached.\n",
            "Max value reached.\n"
          ],
          "name": "stdout"
        }
      ]
    },
    {
      "cell_type": "markdown",
      "metadata": {
        "id": "5DfML5Cfa5ZH",
        "colab_type": "text"
      },
      "source": [
        "2. Copy and paste your solution to question 1 and modify it so that all the data held by the counter is private. Implement functions to check the value of the counter, check the maximum value, and check if the counter is at the maximum."
      ]
    },
    {
      "cell_type": "code",
      "metadata": {
        "id": "myABh7PZcRsP",
        "colab_type": "code",
        "colab": {}
      },
      "source": [
        "class counter:\n",
        "  def __init__(self,max_val):\n",
        "      self.__max_val=max_val\n",
        "      self.__cur_val=1\n",
        "\n",
        "  def increment(self):\n",
        "      if self.__cur_val>self.__max_val:\n",
        "          print(\"Max value reached.\")\n",
        "      else:\n",
        "          self.__cur_val+=1\n",
        "\n",
        "  def reset(self):\n",
        "      self.__cur_val=1\n",
        "\n",
        "  def cur_val(self):\n",
        "      return self.__cur_val\n",
        "\n",
        "  def max_val(self):\n",
        "      return self.__max_val\n"
      ],
      "execution_count": 0,
      "outputs": []
    },
    {
      "cell_type": "code",
      "metadata": {
        "id": "W1GllOYmgSJb",
        "colab_type": "code",
        "colab": {}
      },
      "source": [
        "my_counter=counter(3)"
      ],
      "execution_count": 0,
      "outputs": []
    },
    {
      "cell_type": "code",
      "metadata": {
        "id": "3dSBVbYbgYOk",
        "colab_type": "code",
        "outputId": "7e0e801d-b1c3-449f-c876-b156c00e3132",
        "colab": {
          "base_uri": "https://localhost:8080/",
          "height": 35
        }
      },
      "source": [
        "my_counter.cur_val()"
      ],
      "execution_count": 0,
      "outputs": [
        {
          "output_type": "execute_result",
          "data": {
            "text/plain": [
              "1"
            ]
          },
          "metadata": {
            "tags": []
          },
          "execution_count": 35
        }
      ]
    },
    {
      "cell_type": "markdown",
      "metadata": {
        "id": "mlOeecmZa5ZK",
        "colab_type": "text"
      },
      "source": [
        "3. Implement a class to represent a rectangle, holding the length, width, and $x$ and $y$ coordinates of a corner of the object. Implement functions that compute the area and parameter of the rectangle. Make all data members private and privide accessors to retrieve values of data members. "
      ]
    },
    {
      "cell_type": "code",
      "metadata": {
        "id": "BYtc498AhMS-",
        "colab_type": "code",
        "colab": {}
      },
      "source": [
        "class rectangle:\n",
        "    def __init__(self,width,length,x,y):\n",
        "      \n",
        "      x=__width=5\n",
        "      y=__length=3\n",
        "      self.__width=width\n",
        "      self.__length=length\n",
        "      self.__x=x\n",
        "      self.__y=y\n",
        "\n",
        "    def area(self):\n",
        "        return self.__width*self.__length\n",
        "\n",
        "    def perimeter(self):\n",
        "        return 2*(self.__width+self.__length)\n",
        "\n",
        "    def x(self):\n",
        "        return self.__x\n",
        "\n",
        "    def y(self):\n",
        "        return self.__y\n",
        "\n",
        "      "
      ],
      "execution_count": 0,
      "outputs": []
    },
    {
      "cell_type": "code",
      "metadata": {
        "id": "lvNO0gxJsAqX",
        "colab_type": "code",
        "colab": {}
      },
      "source": [
        "r1=rectangle(5,3,5,3)\n"
      ],
      "execution_count": 0,
      "outputs": []
    },
    {
      "cell_type": "code",
      "metadata": {
        "id": "HdPkjZNxsBep",
        "colab_type": "code",
        "outputId": "88d1413c-400c-4198-e7ff-8d601c274497",
        "colab": {
          "base_uri": "https://localhost:8080/",
          "height": 35
        }
      },
      "source": [
        "r1.area()\n"
      ],
      "execution_count": 0,
      "outputs": [
        {
          "output_type": "execute_result",
          "data": {
            "text/plain": [
              "15"
            ]
          },
          "metadata": {
            "tags": []
          },
          "execution_count": 39
        }
      ]
    },
    {
      "cell_type": "code",
      "metadata": {
        "id": "-dpu7lanc_-X",
        "colab_type": "code",
        "outputId": "4bb51ecb-e4bb-40a6-cfbe-c1771238c085",
        "colab": {
          "base_uri": "https://localhost:8080/",
          "height": 35
        }
      },
      "source": [
        "r1.perimeter()"
      ],
      "execution_count": 0,
      "outputs": [
        {
          "output_type": "execute_result",
          "data": {
            "text/plain": [
              "16"
            ]
          },
          "metadata": {
            "tags": []
          },
          "execution_count": 41
        }
      ]
    },
    {
      "cell_type": "markdown",
      "metadata": {
        "id": "gQWirf2ua5ZM",
        "colab_type": "text"
      },
      "source": [
        "4. Implement a class to represent a circle, holding the radius and $x$ and $y$ coordinates of center of the object. Implement functions that compute the area and parameter of the rectangle. Make all data members private and privide accessors to retrieve values of data members. "
      ]
    },
    {
      "cell_type": "code",
      "metadata": {
        "id": "67tcD1NGoiv3",
        "colab_type": "code",
        "colab": {}
      },
      "source": [
        "class circle:\n",
        "    def __init__(self,radius,x,y):\n",
        "        self.__radius=radius\n",
        "        self.__x=x\n",
        "        self.__y=y\n",
        "\n",
        "    def area(self):\n",
        "        return self.__width*self.__length\n",
        "\n",
        "    def perimeter(self):\n",
        "        return 2*(self.__width+self.__length)\n",
        "\n",
        "    def x(self):\n",
        "        return self.__x\n",
        "\n",
        "    def y(self):\n",
        "        return self.__y"
      ],
      "execution_count": 0,
      "outputs": []
    },
    {
      "cell_type": "markdown",
      "metadata": {
        "id": "rkJuEdjia5ZN",
        "colab_type": "text"
      },
      "source": [
        "5. Implement a common base class for the classes implemented in 3 and 4 above which implements all common methods as dummy functions. Re-implement those classes to inherit from the base class and overload the functions accordingly. "
      ]
    },
    {
      "cell_type": "markdown",
      "metadata": {
        "id": "qsvkfJWia5ZO",
        "colab_type": "text"
      },
      "source": [
        "6. Implement an analogous triangle class."
      ]
    },
    {
      "cell_type": "code",
      "metadata": {
        "id": "j-cnVtHIiWTe",
        "colab_type": "code",
        "colab": {}
      },
      "source": [
        "class triangle:\n",
        "  def __init__(self,base,height,x,y):\n",
        "      \n",
        "      x=__base=8\n",
        "      y=__height=4\n",
        "      self.__base=base\n",
        "      self.__height=height\n",
        "      self.__x=x\n",
        "      self.__y=y\n",
        "\n",
        "  def area(self):\n",
        "        return 1/2*(self.__base*self.__height)\n",
        "\n",
        "  def x(self):\n",
        "        return self.__x\n",
        "\n",
        "  def y(self):\n",
        "        return self.__y\n",
        "\n",
        "      \n"
      ],
      "execution_count": 0,
      "outputs": []
    },
    {
      "cell_type": "code",
      "metadata": {
        "id": "vfCGilVAqx_8",
        "colab_type": "code",
        "colab": {}
      },
      "source": [
        "t1=triangle(8,4,8,4)"
      ],
      "execution_count": 0,
      "outputs": []
    },
    {
      "cell_type": "code",
      "metadata": {
        "id": "t0oRbxa6qySv",
        "colab_type": "code",
        "colab": {
          "base_uri": "https://localhost:8080/",
          "height": 35
        },
        "outputId": "aa4e9d83-6c98-4e03-faab-b60381dd5fe9"
      },
      "source": [
        "t1.area()"
      ],
      "execution_count": 6,
      "outputs": [
        {
          "output_type": "execute_result",
          "data": {
            "text/plain": [
              "16.0"
            ]
          },
          "metadata": {
            "tags": []
          },
          "execution_count": 6
        }
      ]
    },
    {
      "cell_type": "markdown",
      "metadata": {
        "id": "AaOTV9Pna5ZT",
        "colab_type": "text"
      },
      "source": [
        "7. Add a function to the object classes that test if a given set of $x$ and $y$ coordinates are inside of the object."
      ]
    },
    {
      "cell_type": "code",
      "metadata": {
        "id": "Mp8M2YdArTtC",
        "colab_type": "code",
        "colab": {}
      },
      "source": [
        "class triangle:\n",
        "  def __init__(self,x1,y1,x2,y2,x,y):\n",
        "    # top and bottom-right \n",
        "    # corners of triangle. \n",
        "    self.__x1=x1\n",
        "    self.__y1=y1\n",
        "    self.__x2=x2\n",
        "    self.__y2=y2\n",
        "    self.__x=x\n",
        "    self.__y=y\n",
        "\n",
        "  def locatepoint(self):\n",
        "    if (self.__x > self.__x1 and self.__x < self.__x2 and \n",
        "        self.__y > self.__y1 and self.__y < self.__y2) : \n",
        "        return True\n",
        "    else : \n",
        "        return False\n",
        "  \n"
      ],
      "execution_count": 0,
      "outputs": []
    },
    {
      "cell_type": "code",
      "metadata": {
        "id": "qNrA3N3b5yKE",
        "colab_type": "code",
        "colab": {}
      },
      "source": [
        "t1=triangle(0,0,10,8,1,5)"
      ],
      "execution_count": 0,
      "outputs": []
    },
    {
      "cell_type": "code",
      "metadata": {
        "id": "trJ4pc7M50JL",
        "colab_type": "code",
        "colab": {
          "base_uri": "https://localhost:8080/",
          "height": 35
        },
        "outputId": "a0129b6c-f6e0-4df8-d3c3-7f8f38f29369"
      },
      "source": [
        "t1.locatepoint()"
      ],
      "execution_count": 15,
      "outputs": [
        {
          "output_type": "execute_result",
          "data": {
            "text/plain": [
              "True"
            ]
          },
          "metadata": {
            "tags": []
          },
          "execution_count": 15
        }
      ]
    },
    {
      "cell_type": "markdown",
      "metadata": {
        "id": "Fpe0Xz27a5ZV",
        "colab_type": "text"
      },
      "source": [
        "8. Add a function to the object classes that return a list of up to 16 pairs of  $x$ and $y$ points on the parameter of the object.\n",
        "\n"
      ]
    },
    {
      "cell_type": "markdown",
      "metadata": {
        "id": "YFQg9YrTa5ZW",
        "colab_type": "text"
      },
      "source": [
        "9. Add a function in the base class of the object classes that returns true/false testing that the object overlaps with another object."
      ]
    }
  ]
}