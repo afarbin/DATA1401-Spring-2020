{
  "nbformat": 4,
  "nbformat_minor": 0,
  "metadata": {
    "kernelspec": {
      "display_name": "Python 3",
      "language": "python",
      "name": "python3"
    },
    "language_info": {
      "codemirror_mode": {
        "name": "ipython",
        "version": 3
      },
      "file_extension": ".py",
      "mimetype": "text/x-python",
      "name": "python",
      "nbconvert_exporter": "python",
      "pygments_lexer": "ipython3",
      "version": "3.8.1"
    },
    "colab": {
      "name": "Lab-5-Answers.ipynb",
      "provenance": [],
      "collapsed_sections": []
    }
  },
  "cells": [
    {
      "cell_type": "markdown",
      "metadata": {
        "id": "q79noSDwno2w",
        "colab_type": "text"
      },
      "source": [
        "# Lab 5- Object Oriented Programming\n",
        "\n",
        "[![Open In Colab](https://colab.research.google.com/assets/colab-badge.svg)](https://colab.research.google.com/github//afarbin/DATA1401-Spring-2020/blob/master/Labs/Lab-5/Lab-5.ipynb)\n",
        "\n",
        "For all of the exercises below, make sure you provide tests of your solutions.\n"
      ]
    },
    {
      "cell_type": "markdown",
      "metadata": {
        "id": "3my9M0Cino2x",
        "colab_type": "text"
      },
      "source": [
        "1. Write a \"counter\" class that can be incremented up to a specified maximum value, will print an error if an attempt is made to increment beyond that value, and allows reseting the counter. "
      ]
    },
    {
      "cell_type": "code",
      "metadata": {
        "id": "kUsz8BA9no2x",
        "colab_type": "code",
        "colab": {}
      },
      "source": [
        "class counter:\n",
        "    def __init__(self,max_val):\n",
        "        self.max_val=max_val\n",
        "        self.cur_val=1\n",
        "        \n",
        "    def increment(self):\n",
        "        if self.cur_val>self.max_val:\n",
        "            print(\"Max value reached.\")\n",
        "        else:\n",
        "            self.cur_val+=1\n",
        "            \n",
        "    def reset(self):\n",
        "        self.cur_val=1\n",
        "        "
      ],
      "execution_count": 0,
      "outputs": []
    },
    {
      "cell_type": "code",
      "metadata": {
        "id": "gRtjFYeDno21",
        "colab_type": "code",
        "colab": {}
      },
      "source": [
        "my_counter=counter(3)"
      ],
      "execution_count": 0,
      "outputs": []
    },
    {
      "cell_type": "code",
      "metadata": {
        "id": "xQZxiXOGno23",
        "colab_type": "code",
        "outputId": "81692185-872c-495c-8336-57e821d08778",
        "colab": {
          "base_uri": "https://localhost:8080/",
          "height": 102
        }
      },
      "source": [
        "my_counter.increment()\n",
        "my_counter.increment()\n",
        "my_counter.increment()\n",
        "my_counter.increment()\n",
        "my_counter.increment()"
      ],
      "execution_count": 0,
      "outputs": [
        {
          "output_type": "stream",
          "text": [
            "Max value reached.\n",
            "Max value reached.\n",
            "Max value reached.\n",
            "Max value reached.\n",
            "Max value reached.\n"
          ],
          "name": "stdout"
        }
      ]
    },
    {
      "cell_type": "code",
      "metadata": {
        "id": "PlNu9VMSno28",
        "colab_type": "code",
        "colab": {}
      },
      "source": [
        "my_counter.cur_val=100"
      ],
      "execution_count": 0,
      "outputs": []
    },
    {
      "cell_type": "markdown",
      "metadata": {
        "id": "itqx2OiGno3B",
        "colab_type": "text"
      },
      "source": [
        "2. Copy and paste your solution to question 1 and modify it so that all the data held by the counter is private. Implement functions to check the value of the counter, check the maximum value, and check if the counter is at the maximum."
      ]
    },
    {
      "cell_type": "code",
      "metadata": {
        "id": "ZIfeJzqino3C",
        "colab_type": "code",
        "colab": {}
      },
      "source": [
        "class counter:\n",
        "    def __init__(self,max_val):\n",
        "        self.__max_val=max_val\n",
        "        self.__cur_val=1\n",
        "        \n",
        "    def increment(self):\n",
        "        if self.__cur_val>self.__max_val:\n",
        "            print(\"Max value reached.\")\n",
        "        else:\n",
        "            self.__cur_val+=1\n",
        "            \n",
        "    def reset(self):\n",
        "        self.__cur_val=1\n",
        "        \n",
        "    def cur_val(self):\n",
        "        return self.__cur_val\n",
        "\n",
        "    def max_val(self):\n",
        "        return self.__max_val\n",
        "\n"
      ],
      "execution_count": 0,
      "outputs": []
    },
    {
      "cell_type": "code",
      "metadata": {
        "id": "Q72Izyppno3F",
        "colab_type": "code",
        "colab": {}
      },
      "source": [
        "my_counter=counter(3)"
      ],
      "execution_count": 0,
      "outputs": []
    },
    {
      "cell_type": "code",
      "metadata": {
        "id": "npKqiWN2no3K",
        "colab_type": "code",
        "outputId": "a9cb4881-f864-44a6-aecf-8ac033475fca",
        "colab": {
          "base_uri": "https://localhost:8080/",
          "height": 34
        }
      },
      "source": [
        "my_counter.cur_val()"
      ],
      "execution_count": 0,
      "outputs": [
        {
          "output_type": "execute_result",
          "data": {
            "text/plain": [
              "1"
            ]
          },
          "metadata": {
            "tags": []
          },
          "execution_count": 10
        }
      ]
    },
    {
      "cell_type": "markdown",
      "metadata": {
        "id": "FQQqEz_Qno3N",
        "colab_type": "text"
      },
      "source": [
        "3. Implement a class to represent a rectangle, holding the length, width, and $x$ and $y$ coordinates of a corner of the object. Implement functions that compute the area and parameter of the rectangle. Make all data members private and privide accessors to retrieve values of data members. "
      ]
    },
    {
      "cell_type": "code",
      "metadata": {
        "id": "k2Y906dEno3O",
        "colab_type": "code",
        "colab": {}
      },
      "source": [
        "class rectangle:\n",
        "    def __init__(self,width,length,x,y):\n",
        "        self.__width=width\n",
        "        self.__length=length\n",
        "        self.__x=x\n",
        "        self.__y=y\n",
        "        \n",
        "    def area(self):\n",
        "        return self.__width*self.__length\n",
        "    \n",
        "    def perimeter(self):\n",
        "        return 2*(self.__width+self.__length)\n",
        "    \n",
        "    def x(self):\n",
        "        return self.__x\n",
        "    \n",
        "    def y(self):\n",
        "        return self.__y\n",
        "    \n",
        "    def width(self):\n",
        "        return self.__width\n",
        "      \n",
        "    def length(self):\n",
        "        return self.__length\n",
        "        "
      ],
      "execution_count": 0,
      "outputs": []
    },
    {
      "cell_type": "markdown",
      "metadata": {
        "id": "69_XCquhno3R",
        "colab_type": "text"
      },
      "source": [
        "4. Implement a class to represent a circle, holding the radius and $x$ and $y$ coordinates of center of the object. Implement functions that compute the area and parameter of the rectangle. Make all data members private and privide accessors to retrieve values of data members. "
      ]
    },
    {
      "cell_type": "code",
      "metadata": {
        "id": "PaBgusBj0rOW",
        "colab_type": "code",
        "colab": {}
      },
      "source": [
        "import numpy\n",
        "\n",
        "class circle:\n",
        "  def __init__(self,radius,x,y):\n",
        "      self.__radius=radius\n",
        "      self.__x=x\n",
        "      self.__y=y\n",
        "\n",
        "  def area(self):\n",
        "    return numpy.pi*self.__radius*self.__radius\n",
        "  \n",
        "  def parameter(self):\n",
        "    return 2*numpy.pi*self.__radius\n",
        "\n",
        "  def x(self):\n",
        "    return self.__x\n",
        "\n",
        "  def y(self):\n",
        "    return self.__y\n",
        "\n",
        "  def radius(self):\n",
        "    return self.__radius\n"
      ],
      "execution_count": 0,
      "outputs": []
    },
    {
      "cell_type": "markdown",
      "metadata": {
        "id": "LSHTLDAano3R",
        "colab_type": "text"
      },
      "source": [
        "5. Implement a common base class for the classes implemented in 3 and 4 above which implements all common methods as dummy functions. Re-implement those classes to inherit from the base class and overload the functions accordingly. "
      ]
    },
    {
      "cell_type": "code",
      "metadata": {
        "id": "w5ivTJsR4Y3U",
        "colab_type": "code",
        "colab": {}
      },
      "source": [
        "import numpy\n",
        "\n",
        "class base:\n",
        "  def __init__(self,x,y):\n",
        "    self.__x=x\n",
        "    self.__y=y\n",
        "\n",
        "class rectangle(base):\n",
        "  def __init__(self,width,length,x,y):\n",
        "    super(rectangle,self).__init__(x,y)\n",
        "    self.__width=width\n",
        "    self.__length=length\n",
        "  \n",
        "  def area(self):\n",
        "    return self.__width*self.__length\n",
        "\n",
        "  def perimeter(self):\n",
        "    return 2*(self.__width+self.__length)\n",
        "    \n",
        "  def x(self):\n",
        "    return self.__x\n",
        "    \n",
        "  def y(self):\n",
        "    return self.__y\n",
        "\n",
        "  def width(self):\n",
        "        return self.__width\n",
        "      \n",
        "  def length(self):\n",
        "        return self.__length\n",
        "\n",
        "\n",
        "class circle(base):\n",
        "  def __init__(self,radius,x,y):\n",
        "    super(circle,self).__init__(x,y)\n",
        "    self._radius=radius\n",
        "\n",
        "  def area(self):\n",
        "    return numpy.pi*self.__radius*self.__radius\n",
        "  \n",
        "  def parameter(self):\n",
        "    return 2*numpy.pi*self.__radius\n",
        "\n",
        "  def x(self):\n",
        "    return self.__x\n",
        "\n",
        "  def y(self):\n",
        "    return self.__y\n",
        "\n",
        "  def radius(self):\n",
        "    return self.__radius"
      ],
      "execution_count": 0,
      "outputs": []
    },
    {
      "cell_type": "markdown",
      "metadata": {
        "id": "WQ-cJ0bUno3S",
        "colab_type": "text"
      },
      "source": [
        "6. Implement an analogous triangle class."
      ]
    },
    {
      "cell_type": "code",
      "metadata": {
        "id": "yzNAI9AN7nlR",
        "colab_type": "code",
        "colab": {}
      },
      "source": [
        "class triangle:\n",
        "  def __init__(self,base,height,x,y):\n",
        "    self.__base=base\n",
        "    self.__height=height\n",
        "    self.__x=x\n",
        "    self.__y=y\n",
        "  \n",
        "  def area(self):\n",
        "    return (self.__base*self.__height)/2\n",
        "\n",
        "  def parameter(self):\n",
        "    return self.__base*3 #if equilateral triangle\n",
        "\n",
        "  def x(self):\n",
        "    return self.__x\n",
        "\n",
        "  def y(self):\n",
        "    return self.__y\n",
        "\n",
        "  def base(self):\n",
        "    return self.__base\n",
        "\n",
        "  def height(self):\n",
        "    return self.__height"
      ],
      "execution_count": 0,
      "outputs": []
    },
    {
      "cell_type": "markdown",
      "metadata": {
        "id": "gF4XZkSMno3S",
        "colab_type": "text"
      },
      "source": [
        "7. Add a function to the object classes that test if a given set of $x$ and $y$ coordinates are inside of the object."
      ]
    },
    {
      "cell_type": "code",
      "metadata": {
        "id": "6_FSdpy09_WM",
        "colab_type": "code",
        "colab": {}
      },
      "source": [
        "def Pointcircle(x,y):\n"
      ],
      "execution_count": 0,
      "outputs": []
    },
    {
      "cell_type": "markdown",
      "metadata": {
        "id": "eadAxA4Kno3T",
        "colab_type": "text"
      },
      "source": [
        "8. Add a function to the object classes that return a list of up to 16 pairs of  $x$ and $y$ points on the parameter of the object.\n",
        "\n"
      ]
    },
    {
      "cell_type": "code",
      "metadata": {
        "id": "biFQojCo9_7E",
        "colab_type": "code",
        "colab": {}
      },
      "source": [
        "\n"
      ],
      "execution_count": 0,
      "outputs": []
    },
    {
      "cell_type": "markdown",
      "metadata": {
        "id": "-YNk4xwBno3T",
        "colab_type": "text"
      },
      "source": [
        "9. Add a function in the base class of the object classes that returns true/false testing that the object overlaps with another object."
      ]
    },
    {
      "cell_type": "code",
      "metadata": {
        "id": "BTqR2sIz-Afm",
        "colab_type": "code",
        "colab": {}
      },
      "source": [
        ""
      ],
      "execution_count": 0,
      "outputs": []
    }
  ]
}