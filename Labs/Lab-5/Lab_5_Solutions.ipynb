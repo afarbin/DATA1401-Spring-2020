{
 "cells": [
  {
   "cell_type": "markdown",
   "metadata": {
    "colab_type": "text",
    "id": "_BlUIDk4TTv5"
   },
   "source": [
    "# Lab 5- Object Oriented Programming\n",
    "\n",
    "[![Open In Colab](https://colab.research.google.com/assets/colab-badge.svg)](https://colab.research.google.com/github//afarbin/DATA1401-Spring-2020/blob/master/Labs/Lab-5/Lab-5.ipynb)\n",
    "\n",
    "For all of the exercises below, make sure you provide tests of your solutions.\n"
   ]
  },
  {
   "cell_type": "markdown",
   "metadata": {
    "colab_type": "text",
    "id": "XsvF3PZ_TTv5"
   },
   "source": [
    "1. Write a \"counter\" class that can be incremented up to a specified maximum value, will print an error if an attempt is made to increment beyond that value, and allows reseting the counter. "
   ]
  },
  {
   "cell_type": "code",
   "execution_count": 1,
   "metadata": {
    "colab": {},
    "colab_type": "code",
    "id": "HptoBBB_TTv6"
   },
   "outputs": [],
   "source": [
    "class counter:\n",
    "    def __init__(self,max_val):\n",
    "        self.max_val=max_val\n",
    "        self.cur_val=1\n",
    "        \n",
    "    def increment(self):\n",
    "        if self.cur_val>self.max_val:\n",
    "            print(\"Max value reached.\")\n",
    "        else:\n",
    "            self.cur_val+=1\n",
    "            \n",
    "    def reset(self):\n",
    "        self.cur_val=1"
   ]
  },
  {
   "cell_type": "code",
   "execution_count": 2,
   "metadata": {
    "colab": {},
    "colab_type": "code",
    "id": "JLD2Vk9RTTv9"
   },
   "outputs": [],
   "source": [
    "my_counter=counter(3)"
   ]
  },
  {
   "cell_type": "code",
   "execution_count": 3,
   "metadata": {
    "colab": {},
    "colab_type": "code",
    "id": "1iqVaWaZTTv_",
    "outputId": "fd1c5bb6-def7-45fb-ed5b-9ff3b56a9a84"
   },
   "outputs": [
    {
     "name": "stdout",
     "output_type": "stream",
     "text": [
      "Max value reached.\n",
      "Max value reached.\n"
     ]
    }
   ],
   "source": [
    "my_counter.increment()\n",
    "my_counter.increment()\n",
    "my_counter.increment()\n",
    "my_counter.increment()\n",
    "my_counter.increment()"
   ]
  },
  {
   "cell_type": "code",
   "execution_count": 0,
   "metadata": {
    "colab": {},
    "colab_type": "code",
    "id": "nYzV79nLTTwC"
   },
   "outputs": [],
   "source": [
    "my_counter.cur_val=100"
   ]
  },
  {
   "cell_type": "code",
   "execution_count": 11,
   "metadata": {},
   "outputs": [
    {
     "data": {
      "text/plain": [
       "1"
      ]
     },
     "execution_count": 11,
     "metadata": {},
     "output_type": "execute_result"
    }
   ],
   "source": [
    "#checking the reset method\n",
    "my_counter.reset()\n",
    "my_counter.cur_val()"
   ]
  },
  {
   "cell_type": "markdown",
   "metadata": {
    "colab_type": "text",
    "id": "QpqwHB0RTTwE"
   },
   "source": [
    "2. Copy and paste your solution to question 1 and modify it so that all the data held by the counter is private. Implement functions to check the value of the counter, check the maximum value, and check if the counter is at the maximum."
   ]
  },
  {
   "cell_type": "code",
   "execution_count": 6,
   "metadata": {
    "colab": {},
    "colab_type": "code",
    "id": "jj3irCkKTTwF"
   },
   "outputs": [],
   "source": [
    "class counter:\n",
    "    def __init__(self,max_val):\n",
    "        self.__max_val=max_val\n",
    "        self.__cur_val=1\n",
    "        \n",
    "    def increment(self):\n",
    "        if self.__cur_val>self.__max_val:\n",
    "            print(\"Max value reached.\")\n",
    "        else:\n",
    "            self.__cur_val+=1\n",
    "            \n",
    "    def reset(self):\n",
    "        self.__cur_val=1\n",
    "        \n",
    "    def cur_val(self):\n",
    "        return self.__cur_val\n",
    "\n",
    "    def max_val(self):\n",
    "        return self.__max_val\n",
    "\n"
   ]
  },
  {
   "cell_type": "code",
   "execution_count": 7,
   "metadata": {
    "colab": {},
    "colab_type": "code",
    "id": "0hrh8OAaTTwH"
   },
   "outputs": [],
   "source": [
    "my_counter=counter(3)"
   ]
  },
  {
   "cell_type": "code",
   "execution_count": 8,
   "metadata": {
    "colab": {},
    "colab_type": "code",
    "id": "EQ5QrYsBTTwK",
    "outputId": "e305696f-815f-41e8-84b0-4045e6c2bd14"
   },
   "outputs": [
    {
     "data": {
      "text/plain": [
       "1"
      ]
     },
     "execution_count": 8,
     "metadata": {},
     "output_type": "execute_result"
    }
   ],
   "source": [
    "my_counter.cur_val()"
   ]
  },
  {
   "cell_type": "code",
   "execution_count": 9,
   "metadata": {},
   "outputs": [
    {
     "data": {
      "text/plain": [
       "3"
      ]
     },
     "execution_count": 9,
     "metadata": {},
     "output_type": "execute_result"
    }
   ],
   "source": [
    "my_counter.max_val()"
   ]
  },
  {
   "cell_type": "markdown",
   "metadata": {
    "colab_type": "text",
    "id": "_zdBROJtTTwN"
   },
   "source": [
    "3. Implement a class to represent a rectangle, holding the length, width, and $x$ and $y$ coordinates of a corner of the object. Implement functions that compute the area and parameter of the rectangle. Make all data members private and privide accessors to retrieve values of data members. "
   ]
  },
  {
   "cell_type": "code",
   "execution_count": 33,
   "metadata": {
    "colab": {},
    "colab_type": "code",
    "id": "kf1NI9GITTwN"
   },
   "outputs": [],
   "source": [
    "class rectangle:\n",
    "    def __init__(self,width,length,x,y):\n",
    "        self.__width=width\n",
    "        self.__length=length\n",
    "        self.__x=x\n",
    "        self.__y=y\n",
    "        \n",
    "    def area(self):\n",
    "        return self.__width*self.__length\n",
    "    \n",
    "    def perimeter(self):\n",
    "        return 2*(self.__width+self.__length)\n",
    "    \n",
    "    def x(self):\n",
    "        return self.__x\n",
    "    \n",
    "    def y(self):\n",
    "        return self.__y\n",
    "    \n",
    "    def width(self):\n",
    "        return self.__width\n",
    "    \n",
    "    def length(self):\n",
    "        return self.__length"
   ]
  },
  {
   "cell_type": "code",
   "execution_count": 34,
   "metadata": {},
   "outputs": [
    {
     "data": {
      "text/plain": [
       "15"
      ]
     },
     "execution_count": 34,
     "metadata": {},
     "output_type": "execute_result"
    }
   ],
   "source": [
    "#Creating an object of class rectangle called \"Rec\"\n",
    "Rec = rectangle(3,5,3,3)"
   ]
  },
  {
   "cell_type": "code",
   "execution_count": null,
   "metadata": {},
   "outputs": [],
   "source": [
    "#Testing the area method\n",
    "Rec.area()"
   ]
  },
  {
   "cell_type": "code",
   "execution_count": 40,
   "metadata": {},
   "outputs": [
    {
     "data": {
      "text/plain": [
       "3"
      ]
     },
     "execution_count": 40,
     "metadata": {},
     "output_type": "execute_result"
    }
   ],
   "source": [
    "#Testing the perimeter method\n",
    "Rec.perimeter()"
   ]
  },
  {
   "cell_type": "code",
   "execution_count": 36,
   "metadata": {},
   "outputs": [
    {
     "data": {
      "text/plain": [
       "3"
      ]
     },
     "execution_count": 36,
     "metadata": {},
     "output_type": "execute_result"
    }
   ],
   "source": [
    "#Testing the accessor method to retrieve the x-coordinate of one corner of the rectangle\n",
    "Rec.x()"
   ]
  },
  {
   "cell_type": "code",
   "execution_count": 37,
   "metadata": {},
   "outputs": [
    {
     "data": {
      "text/plain": [
       "3"
      ]
     },
     "execution_count": 37,
     "metadata": {},
     "output_type": "execute_result"
    }
   ],
   "source": [
    "#Testing the accessor method to retrieve the y-coordinate of one corner of the rectangle\n",
    "Rec.y()"
   ]
  },
  {
   "cell_type": "code",
   "execution_count": 41,
   "metadata": {},
   "outputs": [
    {
     "data": {
      "text/plain": [
       "3"
      ]
     },
     "execution_count": 41,
     "metadata": {},
     "output_type": "execute_result"
    }
   ],
   "source": [
    "#Testing the accessor method to retrieve the width of the rectangle\n",
    "Rec.width()"
   ]
  },
  {
   "cell_type": "code",
   "execution_count": 39,
   "metadata": {},
   "outputs": [
    {
     "data": {
      "text/plain": [
       "5"
      ]
     },
     "execution_count": 39,
     "metadata": {},
     "output_type": "execute_result"
    }
   ],
   "source": [
    "#Testing the accessor method to retrieve the length of the rectangle\n",
    "Rec.length()"
   ]
  },
  {
   "cell_type": "markdown",
   "metadata": {
    "colab_type": "text",
    "id": "GZ79S6OuTTwP"
   },
   "source": [
    "4. Implement a class to represent a circle, holding the radius and $x$ and $y$ coordinates of center of the object. Implement functions that compute the area and parameter of the rectangle. Make all data members private and privide accessors to retrieve values of data members. "
   ]
  },
  {
   "cell_type": "code",
   "execution_count": 43,
   "metadata": {},
   "outputs": [
    {
     "ename": "SyntaxError",
     "evalue": "invalid syntax (<ipython-input-43-74dd4fd9d86d>, line 15)",
     "output_type": "error",
     "traceback": [
      "\u001b[1;36m  File \u001b[1;32m\"<ipython-input-43-74dd4fd9d86d>\"\u001b[1;36m, line \u001b[1;32m15\u001b[0m\n\u001b[1;33m    def x\u001b[0m\n\u001b[1;37m         ^\u001b[0m\n\u001b[1;31mSyntaxError\u001b[0m\u001b[1;31m:\u001b[0m invalid syntax\n"
     ]
    }
   ],
   "source": [
    "import math\n",
    "\n",
    "class circle:\n",
    "    def __init__(radius,x,y):\n",
    "        self.radius = radius\n",
    "        self.x = x\n",
    "        self.y = y\n",
    "    \n",
    "    def area(self):\n",
    "        return (self.radius**2) * math.pi\n",
    "    \n",
    "    def perimeter(self):\n",
    "        return self.radius * 2 * math.pi\n",
    "    \n",
    "    def x  "
   ]
  },
  {
   "cell_type": "markdown",
   "metadata": {
    "colab_type": "text",
    "id": "IK4hf7xdTTwP"
   },
   "source": [
    "5. Implement a common base class for the classes implemented in 3 and 4 above which implements all common methods as dummy functions. Re-implement those classes to inherit from the base class and overload the functions accordingly. "
   ]
  },
  {
   "cell_type": "code",
   "execution_count": null,
   "metadata": {},
   "outputs": [],
   "source": []
  },
  {
   "cell_type": "markdown",
   "metadata": {
    "colab_type": "text",
    "id": "7nW9dbNGTTwQ"
   },
   "source": [
    "6. Implement an analogous triangle class."
   ]
  },
  {
   "cell_type": "code",
   "execution_count": null,
   "metadata": {},
   "outputs": [],
   "source": []
  },
  {
   "cell_type": "markdown",
   "metadata": {
    "colab_type": "text",
    "id": "MxnPJGDyTTwQ"
   },
   "source": [
    "7. Add a function to the object classes that test if a given set of $x$ and $y$ coordinates are inside of the object."
   ]
  },
  {
   "cell_type": "code",
   "execution_count": null,
   "metadata": {},
   "outputs": [],
   "source": []
  },
  {
   "cell_type": "markdown",
   "metadata": {
    "colab_type": "text",
    "id": "c9AqNueYTTwR"
   },
   "source": [
    "8. Add a function to the object classes that return a list of up to 16 pairs of  $x$ and $y$ points on the parameter of the object.\n",
    "\n"
   ]
  },
  {
   "cell_type": "code",
   "execution_count": null,
   "metadata": {},
   "outputs": [],
   "source": []
  },
  {
   "cell_type": "markdown",
   "metadata": {
    "colab_type": "text",
    "id": "FhjQImy5TTwR"
   },
   "source": [
    "9. Add a function in the base class of the object classes that returns true/false testing that the object overlaps with another object."
   ]
  },
  {
   "cell_type": "code",
   "execution_count": null,
   "metadata": {},
   "outputs": [],
   "source": []
  }
 ],
 "metadata": {
  "colab": {
   "name": "Lab-5.ipynb",
   "provenance": []
  },
  "kernelspec": {
   "display_name": "Python 3",
   "language": "python",
   "name": "python3"
  },
  "language_info": {
   "codemirror_mode": {
    "name": "ipython",
    "version": 3
   },
   "file_extension": ".py",
   "mimetype": "text/x-python",
   "name": "python",
   "nbconvert_exporter": "python",
   "pygments_lexer": "ipython3",
   "version": "3.7.4"
  }
 },
 "nbformat": 4,
 "nbformat_minor": 1
}
