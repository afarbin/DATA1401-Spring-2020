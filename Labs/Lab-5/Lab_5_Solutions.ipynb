{
  "nbformat": 4,
  "nbformat_minor": 0,
  "metadata": {
    "kernelspec": {
      "display_name": "Python 3",
      "language": "python",
      "name": "python3"
    },
    "language_info": {
      "codemirror_mode": {
        "name": "ipython",
        "version": 3
      },
      "file_extension": ".py",
      "mimetype": "text/x-python",
      "name": "python",
      "nbconvert_exporter": "python",
      "pygments_lexer": "ipython3",
      "version": "3.8.1"
    },
    "colab": {
      "name": "Copy of Lab-5.ipynb",
      "provenance": []
    }
  },
  "cells": [
    {
      "cell_type": "markdown",
      "metadata": {
        "id": "JpBryNsfDPnp",
        "colab_type": "text"
      },
      "source": [
        "# Lab 5- Object Oriented Programming\n",
        "\n",
        "[![Open In Colab](https://colab.research.google.com/assets/colab-badge.svg)](https://colab.research.google.com/github//afarbin/DATA1401-Spring-2020/blob/master/Labs/Lab-5/Lab-5.ipynb)\n",
        "\n",
        "For all of the exercises below, make sure you provide tests of your solutions.\n"
      ]
    },
    {
      "cell_type": "markdown",
      "metadata": {
        "id": "BRf20sxQDPnq",
        "colab_type": "text"
      },
      "source": [
        "1. Write a \"counter\" class that can be incremented up to a specified maximum value, will print an error if an attempt is made to increment beyond that value, and allows reseting the counter. "
      ]
    },
    {
      "cell_type": "code",
      "metadata": {
        "id": "GZ9scboaDPnr",
        "colab_type": "code",
        "colab": {}
      },
      "source": [
        "class counter:\n",
        "    def __init__(self,max_val):\n",
        "        self.max_val=max_val\n",
        "        self.cur_val=1\n",
        "        \n",
        "    def increment(self):\n",
        "        if self.cur_val<self.max_val:\n",
        "            self.cur_val+=1\n",
        "        else:\n",
        "            print(\"Max value reached.\")\n",
        "            \n",
        "    def reset(self):\n",
        "        self.cur_val=1\n",
        "\n",
        "    def show_value(self):\n",
        "        print(\"Value is:\",self.cur_val)"
      ],
      "execution_count": 0,
      "outputs": []
    },
    {
      "cell_type": "code",
      "metadata": {
        "id": "XqH7ByzoDPnu",
        "colab_type": "code",
        "colab": {}
      },
      "source": [
        "my_counter=counter(3)"
      ],
      "execution_count": 0,
      "outputs": []
    },
    {
      "cell_type": "code",
      "metadata": {
        "id": "LBpy2cd-snvF",
        "colab_type": "code",
        "colab": {
          "base_uri": "https://localhost:8080/",
          "height": 119
        },
        "outputId": "dd3973d3-ae15-4122-b813-87e54c3da950"
      },
      "source": [
        "my_counter.show_value()\n",
        "my_counter.increment()\n",
        "my_counter.show_value()\n",
        "my_counter.increment()\n",
        "my_counter.show_value()\n",
        "my_counter.increment()\n",
        "my_counter.reset()\n",
        "my_counter.show_value()\n",
        "my_counter.increment()\n",
        "my_counter.show_value()\n",
        "my_counter.increment()"
      ],
      "execution_count": 90,
      "outputs": [
        {
          "output_type": "stream",
          "text": [
            "Value is: 1\n",
            "Value is: 2\n",
            "Value is: 3\n",
            "Max value reached.\n",
            "Value is: 1\n",
            "Value is: 2\n"
          ],
          "name": "stdout"
        }
      ]
    },
    {
      "cell_type": "code",
      "metadata": {
        "id": "ZkoD3NmSte8K",
        "colab_type": "code",
        "colab": {
          "base_uri": "https://localhost:8080/",
          "height": 34
        },
        "outputId": "1c8adb51-a954-40a1-ebe3-1d6ece59b172"
      },
      "source": [
        "my_counter.cur_val=100\n",
        "my_counter.show_value()"
      ],
      "execution_count": 91,
      "outputs": [
        {
          "output_type": "stream",
          "text": [
            "Value is: 100\n"
          ],
          "name": "stdout"
        }
      ]
    },
    {
      "cell_type": "markdown",
      "metadata": {
        "id": "0uTEv0HHDPn2",
        "colab_type": "text"
      },
      "source": [
        "2. Copy and paste your solution to question 1 and modify it so that all the data held by the counter is private. Implement functions to check the value of the counter, check the maximum value, and check if the counter is at the maximum."
      ]
    },
    {
      "cell_type": "code",
      "metadata": {
        "id": "x7XgQiSdDPn2",
        "colab_type": "code",
        "colab": {}
      },
      "source": [
        "class counter:\n",
        "    def __init__(self,max_val):\n",
        "        self.__max_val=max_val\n",
        "        self.__cur_val=1\n",
        "        \n",
        "    def increment(self):\n",
        "        if self.__cur_val<self.__max_val:\n",
        "            self.__cur_val+=1\n",
        "        else:\n",
        "            print(\"Max value reached.\")\n",
        "            \n",
        "    def reset(self):\n",
        "        self.__cur_val=1\n",
        "        \n",
        "    def cur_val(self):\n",
        "        return self.__cur_val\n",
        "\n",
        "    def max_val(self):\n",
        "        return self.__max_val\n",
        "\n",
        "    def show_val(self):\n",
        "        print(\"Value is:\", self.__cur_val)\n",
        "\n"
      ],
      "execution_count": 0,
      "outputs": []
    },
    {
      "cell_type": "code",
      "metadata": {
        "id": "Mx9-IsEEDPn5",
        "colab_type": "code",
        "colab": {
          "base_uri": "https://localhost:8080/",
          "height": 34
        },
        "outputId": "1b6cf93a-36de-4cf6-b54f-18e334ff720d"
      },
      "source": [
        "my_counter=counter(3)\n",
        "my_counter.__cur_val=100\n",
        "my_counter.show_val()"
      ],
      "execution_count": 93,
      "outputs": [
        {
          "output_type": "stream",
          "text": [
            "Value is: 1\n"
          ],
          "name": "stdout"
        }
      ]
    },
    {
      "cell_type": "markdown",
      "metadata": {
        "id": "TTxWMO9BDPn-",
        "colab_type": "text"
      },
      "source": [
        "3. Implement a class to represent a rectangle, holding the length, width, and $x$ and $y$ coordinates of a corner of the object. Implement functions that compute the area and parameter of the rectangle. Make all data members private and privide accessors to retrieve values of data members. "
      ]
    },
    {
      "cell_type": "code",
      "metadata": {
        "id": "cEUu3XnCDPn-",
        "colab_type": "code",
        "colab": {}
      },
      "source": [
        "class rectangle:\n",
        "    def __init__(self,width,length,x,y):\n",
        "        self.__width=width\n",
        "        self.__length=length\n",
        "        self.__x=x\n",
        "        self.__y=y\n",
        "        \n",
        "    def area(self):\n",
        "        return self.__width*self.__length\n",
        "    \n",
        "    def perimeter(self):\n",
        "        return 2*(self.__width+self.__length)\n",
        "\n",
        "    def coord(self):\n",
        "      print(\"(x,y) = (\",self.__x,\",\",self.__y,\")\")\n",
        "    \n",
        "    #accesors\n",
        "    def width(self):\n",
        "      return self.__width\n",
        "    def length(self):\n",
        "      return self.__length\n",
        "    def x(self):\n",
        "      return self.__x\n",
        "    def y(self):\n",
        "      return self.__y\n",
        "    \n",
        "    ...\n",
        "\n",
        "        "
      ],
      "execution_count": 0,
      "outputs": []
    },
    {
      "cell_type": "code",
      "metadata": {
        "id": "GuBARTlxYA5w",
        "colab_type": "code",
        "colab": {
          "base_uri": "https://localhost:8080/",
          "height": 68
        },
        "outputId": "6b1d2999-73aa-4fbf-f818-6903a79dc839"
      },
      "source": [
        "my_rectangle=rectangle(3,4,0,0)\n",
        "print(\"Area: \",my_rectangle.area())\n",
        "print(\"Perimeter: \",my_rectangle.perimeter())\n",
        "my_rectangle.coord()"
      ],
      "execution_count": 95,
      "outputs": [
        {
          "output_type": "stream",
          "text": [
            "Area:  12\n",
            "Perimeter:  14\n",
            "(x,y) = ( 0 , 0 )\n"
          ],
          "name": "stdout"
        }
      ]
    },
    {
      "cell_type": "markdown",
      "metadata": {
        "id": "Ctqw4LLLDPoB",
        "colab_type": "text"
      },
      "source": [
        "4. Implement a class to represent a circle, holding the radius and $x$ and $y$ coordinates of center of the object. Implement functions that compute the area and parameter of the rectangle. Make all data members private and privide accessors to retrieve values of data members. "
      ]
    },
    {
      "cell_type": "code",
      "metadata": {
        "id": "BtCRXmiZYgdG",
        "colab_type": "code",
        "colab": {}
      },
      "source": [
        "#Im assuming im suppose to find the area and circumference of a circle\n",
        "import math\n",
        "class circle:\n",
        "  def __init__(self, radius, x, y):\n",
        "    self.__radius=radius\n",
        "    self.__x=x\n",
        "    self.__y=y\n",
        "  \n",
        "  def radius(self):\n",
        "    return self.__radius\n",
        "  def x(self):\n",
        "    return self.__x\n",
        "  def y(self):\n",
        "    return self.__y\n",
        "\n",
        "  def area(self):\n",
        "    return math.pi*(self.__radius**2)\n",
        "\n",
        "  def perimeter(self):\n",
        "    return 2*(math.pi)*self.__radius\n",
        "\n",
        "  def coord(self):\n",
        "    print(\"(x,y) = (\",self.__x,\",\",self.__y,\")\")"
      ],
      "execution_count": 0,
      "outputs": []
    },
    {
      "cell_type": "code",
      "metadata": {
        "id": "oJvnrRj1ZnoG",
        "colab_type": "code",
        "colab": {
          "base_uri": "https://localhost:8080/",
          "height": 68
        },
        "outputId": "783a855e-b36f-4692-bc1f-db86ee5522bb"
      },
      "source": [
        "my_circle=circle(3,0,0)\n",
        "print(\"Area: \",my_circle.area())\n",
        "print(\"Circumference: \",my_circle.perimeter())\n",
        "my_circle.coord()"
      ],
      "execution_count": 97,
      "outputs": [
        {
          "output_type": "stream",
          "text": [
            "Area:  28.274333882308138\n",
            "Circumference:  18.84955592153876\n",
            "(x,y) = ( 0 , 0 )\n"
          ],
          "name": "stdout"
        }
      ]
    },
    {
      "cell_type": "markdown",
      "metadata": {
        "id": "Ci8pI2ZZDPoB",
        "colab_type": "text"
      },
      "source": [
        "5. Implement a common base class for the classes implemented in 3 and 4 above which implements all common methods as dummy functions. Re-implement those classes to inherit from the base class and overload the functions accordingly. "
      ]
    },
    {
      "cell_type": "code",
      "metadata": {
        "id": "Wsd2BYOLaDWn",
        "colab_type": "code",
        "colab": {}
      },
      "source": [
        "import math\n",
        "class shape:\n",
        "  __x=int()\n",
        "  __y=int()\n",
        "\n",
        "  def __init__(self, x=0, y=0):\n",
        "    self.__x=x\n",
        "    self.__y=y\n",
        "\n",
        "  def x(self):\n",
        "    return self.__x\n",
        "  def y(self):\n",
        "    return self.__y\n",
        "\n",
        "  def coord(self):\n",
        "    print(\"(x,y) = (\",self.__x,\",\",self.__y,\")\")\n",
        "\n",
        "class rectangle(shape):\n",
        "  __width=0\n",
        "  __length=0\n",
        "  def __init__(self, x, y, width, length):\n",
        "    shape.__init__(self, x, y)\n",
        "    self.__width=width\n",
        "    self.__length=length\n",
        "\n",
        "  def width(self):\n",
        "    return self.__width\n",
        "  def length(self):\n",
        "    return self.__length\n",
        "\n",
        "  def area(self):\n",
        "    return self.__width*self.__length\n",
        "\n",
        "  def perimeter(self):\n",
        "    return 2*(self.__width+self.__length)\n",
        "\n",
        "class circle(shape):\n",
        "  __radius=0\n",
        "  def __init__(self, x, y, radius):\n",
        "    shape.__init__(self, x, y)\n",
        "    self.__radius=radius\n",
        "\n",
        "  def radius(self):\n",
        "    return self.__radius\n",
        "\n",
        "  def area(self):\n",
        "    return math.pi*(self.__radius**2)\n",
        "\n",
        "  def perimeter(self):\n",
        "    return 2*(math.pi)*self.__radius\n",
        "\n",
        "  "
      ],
      "execution_count": 0,
      "outputs": []
    },
    {
      "cell_type": "code",
      "metadata": {
        "id": "BXG9fq2-b374",
        "colab_type": "code",
        "colab": {
          "base_uri": "https://localhost:8080/",
          "height": 119
        },
        "outputId": "5f636aa2-b8e1-4f2b-e19b-87e56a34ebec"
      },
      "source": [
        "my_rectangle1=rectangle(0,0,3,4)\n",
        "print(\"Area: \",my_rectangle1.area())\n",
        "print(\"Perimeter: \",my_rectangle1.perimeter())\n",
        "my_rectangle1.coord()\n",
        "\n",
        "my_circle1=circle(0,0,3)\n",
        "print(\"Area: \",my_circle1.area())\n",
        "print(\"Circumference: \",my_circle1.perimeter())\n",
        "my_circle1.coord()"
      ],
      "execution_count": 100,
      "outputs": [
        {
          "output_type": "stream",
          "text": [
            "Area:  12\n",
            "Perimeter:  14\n",
            "(x,y) = ( 0 , 0 )\n",
            "Area:  28.274333882308138\n",
            "Circumference:  18.84955592153876\n",
            "(x,y) = ( 0 , 0 )\n"
          ],
          "name": "stdout"
        }
      ]
    },
    {
      "cell_type": "markdown",
      "metadata": {
        "id": "bpBbpP9DDPoB",
        "colab_type": "text"
      },
      "source": [
        "6. Implement an analogous triangle class."
      ]
    },
    {
      "cell_type": "code",
      "metadata": {
        "id": "d7oXgXmPej0o",
        "colab_type": "code",
        "colab": {}
      },
      "source": [
        "#for right triangles\n",
        "import math\n",
        "class triangle(shape):\n",
        "  __base=0\n",
        "  __height=0\n",
        "\n",
        "  def __init__(self, x, y, base, height):\n",
        "    shape.__init__(self, x, y)\n",
        "    self.__base=base\n",
        "    self.__height=height\n",
        "    self.__hypotenuse=math.sqrt(base**2+height**2)\n",
        "\n",
        "  def base(self):\n",
        "    return self.__base\n",
        "  def height(self):\n",
        "    return self.__height\n",
        "  def hypotenuse(self):\n",
        "    return round(self.__hypotenuse, 2)\n",
        "\n",
        "  def area(self):\n",
        "    return 0.5*(self.__base)*(self.__height)\n",
        "  \n",
        "  def perimeter(self):\n",
        "    return self.__base+self.__height+self.__hypotenuse\n"
      ],
      "execution_count": 0,
      "outputs": []
    },
    {
      "cell_type": "code",
      "metadata": {
        "id": "4wWNB37w_Ltf",
        "colab_type": "code",
        "colab": {
          "base_uri": "https://localhost:8080/",
          "height": 119
        },
        "outputId": "db9ad8ef-d8e4-4b26-d90e-ba09ed918b1c"
      },
      "source": [
        "my_triangle=triangle(0,0,3,4)\n",
        "print(my_triangle.base())\n",
        "print(my_triangle.height())\n",
        "print(my_triangle.hypotenuse())\n",
        "print(\"Area: \", my_triangle.area())\n",
        "print(\"Perimeter: \", my_triangle.perimeter())\n",
        "my_triangle.coord()"
      ],
      "execution_count": 102,
      "outputs": [
        {
          "output_type": "stream",
          "text": [
            "3\n",
            "4\n",
            "5.0\n",
            "Area:  6.0\n",
            "Perimeter:  12.0\n",
            "(x,y) = ( 0 , 0 )\n"
          ],
          "name": "stdout"
        }
      ]
    },
    {
      "cell_type": "markdown",
      "metadata": {
        "id": "TnkdKOKBDPoC",
        "colab_type": "text"
      },
      "source": [
        "7. Add a function to the object classes that test if a given set of $x$ and $y$ coordinates are inside of the object."
      ]
    },
    {
      "cell_type": "markdown",
      "metadata": {
        "id": "v_wBY8tpDPoC",
        "colab_type": "text"
      },
      "source": [
        "8. Add a function to the object classes that return a list of up to 16 pairs of  $x$ and $y$ points on the parameter of the object.\n",
        "\n"
      ]
    },
    {
      "cell_type": "markdown",
      "metadata": {
        "id": "KfvvFf-GDPoD",
        "colab_type": "text"
      },
      "source": [
        "9. Add a function in the base class of the object classes that returns true/false testing that the object overlaps with another object."
      ]
    },
    {
      "cell_type": "code",
      "metadata": {
        "id": "ns1O3zcoIQP2",
        "colab_type": "code",
        "colab": {}
      },
      "source": [
        "import math\n",
        "class point:\n",
        "  __x=float()\n",
        "  __y=float()\n",
        "\n",
        "  def __init__(self, x=0, y=0):\n",
        "    self.__x=x\n",
        "    self.__y=y\n",
        "  \n",
        "  def set(self, x, y):\n",
        "        self.__x = x\n",
        "        self.__y = y\n",
        "\n",
        "  def getX(self):\n",
        "    return self.__x\n",
        "  def getY(self):\n",
        "    return self.__y\n",
        "  \n",
        "  def __str__(self):\n",
        "        return '({0},{1})'.format(self.__x,self.__y)\n",
        "\n",
        "\n",
        "class line:\n",
        "  __p1=point()\n",
        "  __p2=point()\n",
        "  __length=float()\n",
        "\n",
        "  def __init__(self, x1, y1, x2, y2):\n",
        "    self.__p1=point(x1,y1)\n",
        "    self.__p2=point(x2,y2)\n",
        "    self.__x1=x1\n",
        "    self.__x2=x2\n",
        "    self.__y1=y1\n",
        "    self.__y2=y2\n",
        "    self.__length=math.sqrt((self.__x2-self.__x1)**2+(self.__y2-self.__y1)**2)\n",
        "\n",
        "  def endpoint(self, endNum):\n",
        "    if (endNum==1):\n",
        "      return self.__p1\n",
        "    elif (endNum==2):\n",
        "      return self.__p2\n",
        "    else:\n",
        "      return None\n",
        "\n",
        "  def length(self):\n",
        "    return self.__length\n",
        "\n",
        "  def getPointsList(self, increment):\n",
        "    ptList=list()\n",
        "\n",
        "    for itr in range(0,math.ceil(self.__length/increment)):\n",
        "        if (self.__p1.getX()==self.__p2.getX()):\n",
        "        # vertical line\n",
        "            if (self.__p2.getY()>self.__p1.getY()):   \n",
        "                if (self.__p1.getY()+(increment*(itr)) <= self.__p2.getY()):\n",
        "                    ptList.append((self.__p1.getX(),self.__p1.getY()+(increment*(itr)) )   )\n",
        "            else:\n",
        "                if (self.__p1.getY()-(increment*(itr)) >= self.__p2.getY()):\n",
        "                    ptList.append((self.__p1.getX(),self.__p1.getY()-(increment*(itr)) )   )\n",
        "                    \n",
        "        elif (self.__p1.getY()==self.__p2.getY()):\n",
        "        #horizontal line\n",
        "            if (self.__p2.getX()>self.__p1.getX()):   \n",
        "                if (self.__p1.getX()+(increment*(itr)) <= self.__p2.getX()):\n",
        "                    ptList.append((self.__p1.getX()+(increment*(itr)),self.__p1.getY() )   )\n",
        "            else:\n",
        "                if (self.__p1.getX()-(increment*(itr)) >= self.__p2.getX()):\n",
        "                    ptList.append((self.__p1.getX()-(increment*(itr)),self.__p1.getY() )   )\n",
        "        else:\n",
        "            b = -1* (self.slope()*self.__p1.getX())+self.__p1.getY()\n",
        "            nexty =     (self.slope()*(self.__p1.getX()+(increment*(itr))))+b\n",
        "            ptList.append(((self.__p1.getX()+(increment*(itr))), nexty))\n",
        "                    \n",
        "    return ptList\n",
        "\n",
        "  def slope(self):\n",
        "    if (self.__x2!=self.__x1):\n",
        "      return (self.__y2-self.__y1)/(self.__x2-self.__x1)\n",
        "    else:\n",
        "      return None\n",
        "\n",
        "  "
      ],
      "execution_count": 0,
      "outputs": []
    },
    {
      "cell_type": "code",
      "metadata": {
        "id": "GnNbxBDyTj0N",
        "colab_type": "code",
        "colab": {
          "base_uri": "https://localhost:8080/",
          "height": 119
        },
        "outputId": "5e032c37-c71d-40d5-c6db-4a9880ce28c3"
      },
      "source": [
        "p1=point(2,3)\n",
        "print(p1)\n",
        "print(p1.getX())\n",
        "line1=line(3,1,3,9)\n",
        "print(line1.endpoint(1))\n",
        "print(line1.endpoint(2))\n",
        "print(line1.length())\n",
        "print(line1.slope())"
      ],
      "execution_count": 104,
      "outputs": [
        {
          "output_type": "stream",
          "text": [
            "(2,3)\n",
            "2\n",
            "(3,1)\n",
            "(3,9)\n",
            "8.0\n",
            "None\n"
          ],
          "name": "stdout"
        }
      ]
    },
    {
      "cell_type": "code",
      "metadata": {
        "id": "j9s8O81Mffqc",
        "colab_type": "code",
        "colab": {}
      },
      "source": [
        "class shape():\n",
        "  def __init__(self, x1, y1, x2, y2):\n",
        "    self._line1=line(x1, y1, x2, y2)\n",
        "\n",
        "  def area(self):\n",
        "    pass\n",
        "  \n",
        "  def perimeter(self):\n",
        "    pass\n",
        "  \n",
        "  def isWithin(self, compareX, compareY):\n",
        "    #find if a point is inside the perimeter of a shape\n",
        "    pass\n",
        "  \n",
        "  def borderList(self, maxPoints=16):\n",
        "    #return list of coords on perimeter of shape\n",
        "    pass\n",
        "\n",
        "  def isOverlapping(self, coordList):\n",
        "    #return true or false if coordList passed has any points that overlap the shape\n",
        "    for testCoord in (coordList):\n",
        "      if (self.isWithin(testCoord[0], testCoord[1])):\n",
        "        return True\n",
        "      else:\n",
        "        pass\n",
        "    return False"
      ],
      "execution_count": 0,
      "outputs": []
    },
    {
      "cell_type": "code",
      "metadata": {
        "id": "CnHnppLrXjfW",
        "colab_type": "code",
        "colab": {}
      },
      "source": [
        "#initial point is the top left corner\n",
        "class rectangle(shape):\n",
        "  def __init__(self, x, y, width, length):\n",
        "    self.__width=width\n",
        "    self.__length=length\n",
        "    shape.__init__(self, x, y, x+length, y)\n",
        "    self.__line2 = line(x+length,y, x+length,y-width)\n",
        "    self.__line3 = line(x+length,y-width, x,y-width)\n",
        "    self.__line4 = line(x,y-width, x,y)\n",
        "\n",
        "  def width(self):\n",
        "    return self.__width\n",
        "  def length(self):\n",
        "    return self.__length\n",
        "\n",
        "  def area(self):\n",
        "    return self.__width*self.__length\n",
        "\n",
        "  def perimeter(self):\n",
        "    return 2*(self.__width+self.__length)\n",
        "\n",
        "  def isWithin(self, comX, comY):\n",
        "    #find if point is in rectangle perimeter\n",
        "    return(self.__line4.endpoint(1).getX() <= comX <= self._line1.endpoint(2).getX() and\n",
        "               self.__line4.endpoint(1).getY() <= comY <= self._line1.endpoint(2).getY())\n",
        "    \n",
        "  def borderList(self, maxPoints=16):\n",
        "    pointList= list()\n",
        "    stagger=(self.perimeter()/maxPoints)\n",
        "\n",
        "    pointList.extend(self._line1.getPointsList(stagger))\n",
        "    pointList.extend(self.__line2.getPointsList(stagger))\n",
        "    pointList.extend(self.__line3.getPointsList(stagger))\n",
        "    pointList.extend(self.__line4.getPointsList(stagger))\n",
        "            \n",
        "    return pointList\n",
        "\n",
        "class circle(shape):\n",
        "  #radius is treated as line\n",
        "  def __init__(self, x, y, radius):\n",
        "    shape.__init__(self, x, y, x+radius, y)\n",
        "    self.__radius=radius\n",
        "\n",
        "  def radius(self):\n",
        "    return self.__radius\n",
        "\n",
        "  def area(self):\n",
        "    return math.pi*(self.__radius**2)\n",
        "\n",
        "  def perimeter(self):\n",
        "    return 2*(math.pi)*self.__radius\n",
        "\n",
        "  def isWithin(self, x,y):\n",
        "    return (x - (self._line1.endpoint(1).getX()))**2 + (y - (self._line1.endpoint(1).getY()))**2 <= self.__radius**2\n",
        "\n",
        "\n",
        "\n",
        "class triangle(shape):\n",
        "  #initial point is the top apex\n",
        "  def __init__(self, x, y, base, height):\n",
        "    shape.__init__(self, x, y, x, y-height)\n",
        "    self.__base=base\n",
        "    self.__height=height\n",
        "    self.__hypotenuse=math.sqrt(base**2+height**2)\n",
        "    self.__line2=line(x, y-height, x-base, y-height)\n",
        "    self.__line3=line(x-base, y-height, x, y)\n",
        "\n",
        "  def base(self):\n",
        "    return self.__base\n",
        "  def height(self):\n",
        "    return self.__height\n",
        "  def hypotenuse(self):\n",
        "    return round(self.__hypotenuse, 2)\n",
        "\n",
        "  def area(self):\n",
        "    return 0.5*(self.__base)*(self.__height)\n",
        "  \n",
        "  def perimeter(self):\n",
        "    return self.__base+self.__height+self.__hypotenuse\n",
        "\n",
        "  def borderList(self, maxPoints=16):\n",
        "    pointList=list()\n",
        "    stagger=(self.perimeter()/maxPoints)\n",
        "\n",
        "    pointList.extend(self._line1.getPointsList(stagger))\n",
        "    pointList.extend(self.__line2.getPointsList(stagger))\n",
        "    pointList.extend(self.__line3.getPointsList(stagger))\n",
        "            \n",
        "    return pointList\n"
      ],
      "execution_count": 0,
      "outputs": []
    },
    {
      "cell_type": "code",
      "metadata": {
        "id": "5NFVK3yCnfgj",
        "colab_type": "code",
        "colab": {
          "base_uri": "https://localhost:8080/",
          "height": 105
        },
        "outputId": "00170c35-4273-4c3f-f39f-0a61294312e8"
      },
      "source": [
        "rec=rectangle(5,5,3,4)\n",
        "print(rec.isWithin(5,4))\n",
        "print(rec.isWithin(1,1))\n",
        "print(rec.perimeter())\n",
        "print(rec.borderList())\n"
      ],
      "execution_count": 115,
      "outputs": [
        {
          "output_type": "stream",
          "text": [
            "True\n",
            "False\n",
            "14\n",
            "[(5.0, 5), (5.875, 5), (6.75, 5), (7.625, 5), (8.5, 5), (9, 5.0), (9, 4.125), (9, 3.25), (9, 2.375), (9.0, 2), (8.125, 2), (7.25, 2), (6.375, 2), (5.5, 2), (5, 2.0), (5, 2.875), (5, 3.75), (5, 4.625)]\n"
          ],
          "name": "stdout"
        }
      ]
    },
    {
      "cell_type": "code",
      "metadata": {
        "id": "r0wXqUv8kzko",
        "colab_type": "code",
        "colab": {
          "base_uri": "https://localhost:8080/",
          "height": 68
        },
        "outputId": "d783ff0b-cbb1-4597-9ab1-11696686541f"
      },
      "source": [
        "cir=circle(0,0,3)\n",
        "print(cir.isWithin(0,3))\n",
        "print(cir.isWithin(-3,0))\n",
        "print(cir.isWithin(0,3.01))"
      ],
      "execution_count": 108,
      "outputs": [
        {
          "output_type": "stream",
          "text": [
            "True\n",
            "True\n",
            "False\n"
          ],
          "name": "stdout"
        }
      ]
    },
    {
      "cell_type": "code",
      "metadata": {
        "id": "eXcl31InqaDv",
        "colab_type": "code",
        "colab": {
          "base_uri": "https://localhost:8080/",
          "height": 54
        },
        "outputId": "298c9518-0443-4f46-8443-3692d0891f52"
      },
      "source": [
        "tri=triangle(10,10,7,4)\n",
        "print(tri.borderList())"
      ],
      "execution_count": 116,
      "outputs": [
        {
          "output_type": "stream",
          "text": [
            "[(10, 10.0), (10, 8.80860889073134), (10, 7.617217781462681), (10, 6.425826672194022), (10.0, 6), (8.80860889073134, 6), (7.617217781462681, 6), (6.425826672194022, 6), (5.234435562925363, 6), (4.043044453656703, 6), (3.0, 6.0), (4.191391109268659, 6.680794919582091), (5.382782218537319, 7.361589839164182), (6.574173327805978, 8.042384758746273), (7.765564437074637, 8.723179678328364), (8.956955546343297, 9.403974597910455), (10.148346655611956, 10.084769517492546)]\n"
          ],
          "name": "stdout"
        }
      ]
    },
    {
      "cell_type": "code",
      "metadata": {
        "id": "5O5TzpbiqEJ7",
        "colab_type": "code",
        "colab": {
          "base_uri": "https://localhost:8080/",
          "height": 102
        },
        "outputId": "a517bf43-f824-44f9-e83b-7452bb4c1f31"
      },
      "source": [
        "tri1=triangle(10,8,4,4)\n",
        "tri2=triangle(-7,-2,3,2)\n",
        "\n",
        "rec1=rectangle(6,11,6,8)\n",
        "rec2=rectangle(4,-4,6,2)\n",
        "\n",
        "print(\"rec 1 vs tri 1:\", rec1.isOverlapping(tri1.borderList()))\n",
        "print(\"rec 1 vs tri 2:\", rec1.isOverlapping(tri2.borderList()))\n",
        "print(\"rec 2 vs tri 1:\", rec2.isOverlapping(tri1.borderList()))\n",
        "print(\"rec 1 vs rec 1:\", rec1.isOverlapping(rec2.borderList()))\n",
        "print(\"tri 1 vs tri 2:\", tri1.isOverlapping(tri2.borderList()))"
      ],
      "execution_count": 118,
      "outputs": [
        {
          "output_type": "stream",
          "text": [
            "rec 1 vs tri 1: True\n",
            "rec 1 vs tri 2: False\n",
            "rec 2 vs tri 1: False\n",
            "rec 1 vs rec 1: False\n",
            "tri 1 vs tri 2: False\n"
          ],
          "name": "stdout"
        }
      ]
    },
    {
      "cell_type": "code",
      "metadata": {
        "id": "Uzy_TqGYvQtg",
        "colab_type": "code",
        "colab": {}
      },
      "source": [
        ""
      ],
      "execution_count": 0,
      "outputs": []
    }
  ]
}