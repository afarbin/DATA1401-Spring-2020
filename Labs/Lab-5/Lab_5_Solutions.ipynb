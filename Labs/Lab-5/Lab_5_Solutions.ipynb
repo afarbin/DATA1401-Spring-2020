{
 "cells": [
  {
   "cell_type": "markdown",
   "metadata": {
    "colab_type": "text",
    "id": "XClUvBsSL98Q"
   },
   "source": [
    "# Lab 5- Object Oriented Programming\n",
    "\n",
    "[![Open In Colab](https://colab.research.google.com/assets/colab-badge.svg)](https://colab.research.google.com/github//afarbin/DATA1401-Spring-2020/blob/master/Labs/Lab-5/Lab-5.ipynb)\n",
    "\n",
    "For all of the exercises below, make sure you provide tests of your solutions.\n"
   ]
  },
  {
   "cell_type": "markdown",
   "metadata": {
    "colab_type": "text",
    "id": "YILswak1L98R"
   },
   "source": [
    "1. Write a \"counter\" class that can be incremented up to a specified maximum value, will print an error if an attempt is made to increment beyond that value, and allows reseting the counter. "
   ]
  },
  {
   "cell_type": "code",
   "execution_count": 106,
   "metadata": {},
   "outputs": [],
   "source": [
    "class Counter: \n",
    "    def count_max(self,start,maxval,step):\n",
    "        for i in range(start,maxval,step):\n",
    "            while i > maxval:\n",
    "                print(\"Error!\")\n",
    "            print(i)\n",
    "counter=Counter()\n",
    "#resets the counter <-figure out how to do that\n"
   ]
  },
  {
   "cell_type": "code",
   "execution_count": 110,
   "metadata": {},
   "outputs": [
    {
     "name": "stdout",
     "output_type": "stream",
     "text": [
      "0\n",
      "10\n",
      "20\n",
      "30\n",
      "40\n",
      "50\n",
      "60\n"
     ]
    }
   ],
   "source": [
    "practice_count=counter.count_max(0,61,10)"
   ]
  },
  {
   "cell_type": "markdown",
   "metadata": {
    "colab_type": "text",
    "id": "CRhiA-beL98S"
   },
   "source": [
    "2. Copy and paste your solution to question 1 and modify it so that all the data held by the counter is private. Implement functions to check the value of the counter, check the maximum value, and check if the counter is at the maximum."
   ]
  },
  {
   "cell_type": "code",
   "execution_count": null,
   "metadata": {},
   "outputs": [],
   "source": [
    "class Counter: \n",
    "    def __init__(self,start,maxval,step): #private \n",
    "        self._protected_maxval=maxval #use to check maxvalue\n",
    "        self._protected_step=step #use to check counter\n",
    "        for i in range(start,maxval,step):\n",
    "            if i > maxval:\n",
    "                print(\"Error!\")\n",
    "            print(i, end=', ')\n",
    "counter=Counter(0,61,10)\n",
    "print(\"\")\n",
    "print('Max Value: ' + str(counter._protected_maxval))\n",
    "print('Counter/Step: '+ str(counter._protected_step))\n"
   ]
  },
  {
   "cell_type": "markdown",
   "metadata": {},
   "source": [
    "3. Implement a class to represent a rectangle, holding the length, width, and $x$ and $y$ coordinates of a corner of the object. Implement functions that compute the area and perimeter of the rectangle. Make all data members private and privide accessors to retrieve values of data members. "
   ]
  },
  {
   "cell_type": "code",
   "execution_count": 112,
   "metadata": {},
   "outputs": [],
   "source": [
    "class Rectangle:\n",
    "    def area(self,length,width,x,y): #is this what it means by x and y coordinates \n",
    "        area=length*width\n",
    "        return area\n",
    "    def perimeter(self,length,width,x,y):\n",
    "        perimeter=(length*2)+(width*2)\n",
    "        return perimeter \n",
    "rect=Rectangle()\n",
    "\n",
    "#provide private data members \n",
    "#provide accessors to retrieve values of data members \n",
    "#this works but try it again/ make private \n",
    "#keep as reference"
   ]
  },
  {
   "cell_type": "code",
   "execution_count": 113,
   "metadata": {},
   "outputs": [
    {
     "name": "stdout",
     "output_type": "stream",
     "text": [
      "12\n",
      "14\n"
     ]
    }
   ],
   "source": [
    "practice_rect=rect.area(3,4,2,3)\n",
    "practice_rect2=rect.perimeter(3,4,2,3) \n",
    "print(practice_rect)\n",
    "print(practice_rect2)"
   ]
  },
  {
   "cell_type": "code",
   "execution_count": 114,
   "metadata": {},
   "outputs": [
    {
     "name": "stdout",
     "output_type": "stream",
     "text": [
      "12\n",
      "14\n"
     ]
    }
   ],
   "source": [
    "class Rectangle:\n",
    "    def __init__(self,length,width,x,y): #x and y coordinates \n",
    "        #area=length*width\n",
    "        self._protected_length=length\n",
    "        self._protected_width=width\n",
    "        self._protected_area=length*width\n",
    "        self._protected_perimeter=(length*2)+(width*2)\n",
    "        #return area\n",
    "    #def __init__(self,length,width,x,y):\n",
    "        #perimeter=(length*2)+(width*2)\n",
    "        #self._protected2=perimeter\n",
    "        #return perimeter \n",
    "rect=Rectangle(3,4,2,3)\n",
    "print(rect._protected_area)\n",
    "print(rect._protected_perimeter)\n",
    "#this solution has private data members/accessors!!"
   ]
  },
  {
   "cell_type": "markdown",
   "metadata": {
    "colab_type": "text",
    "id": "aQ3wYfPSL98T"
   },
   "source": [
    "4. Implement a class to represent a circle, holding the radius and $x$ and $y$ coordinates of center of the object. Implement functions that compute the area and parameter of the rectangle. Make all data members private and privide accessors to retrieve values of data members. "
   ]
  },
  {
   "cell_type": "code",
   "execution_count": 115,
   "metadata": {},
   "outputs": [],
   "source": [
    "#solution\n",
    "class Circle:\n",
    "    pi=3.14\n",
    "    def area(self,radius,x,y):\n",
    "        area=self.pi*radius**2\n",
    "        return area\n",
    "    def perimeter(self,radius,x,y):\n",
    "        perimeter=self.pi*radius*2\n",
    "        return perimeter \n",
    "circle=Circle()\n",
    "        "
   ]
  },
  {
   "cell_type": "code",
   "execution_count": 116,
   "metadata": {},
   "outputs": [
    {
     "name": "stdout",
     "output_type": "stream",
     "text": [
      "452.16\n",
      "75.36\n"
     ]
    }
   ],
   "source": [
    "#test solution\n",
    "practice_circle=circle.area(12,3,4)\n",
    "practice_circle2=circle.perimeter(12,3,4)\n",
    "print(practice_circle)\n",
    "print(practice_circle2)"
   ]
  },
  {
   "cell_type": "code",
   "execution_count": 117,
   "metadata": {},
   "outputs": [
    {
     "name": "stdout",
     "output_type": "stream",
     "text": [
      "452.16\n",
      "75.36\n"
     ]
    }
   ],
   "source": [
    "#solution\n",
    "class Circle:\n",
    "    pi=3.14\n",
    "    def __init__(self,radius,x,y):\n",
    "        self._protected_radius=radius\n",
    "        self._protected_area=self.pi*radius**2\n",
    "        self._protected_perimeter=self.pi*radius*2\n",
    "     \n",
    "circle=Circle(12,3,4)\n",
    "print(circle._protected_area)\n",
    "print(circle._protected_perimeter)\n"
   ]
  },
  {
   "cell_type": "markdown",
   "metadata": {
    "colab_type": "text",
    "id": "_Fy5umfxL98U"
   },
   "source": [
    "5. Implement a common base class for the classes implemented in 3 and 4 above which implements all common methods as dummy functions. Re-implement those classes to inherit from the base class and overload the functions accordingly. "
   ]
  },
  {
   "cell_type": "code",
   "execution_count": null,
   "metadata": {},
   "outputs": [],
   "source": []
  },
  {
   "cell_type": "markdown",
   "metadata": {
    "colab_type": "text",
    "id": "VWfM9kJrL98V"
   },
   "source": [
    "6. Implement an analogous triangle class."
   ]
  },
  {
   "cell_type": "code",
   "execution_count": 42,
   "metadata": {},
   "outputs": [],
   "source": [
    "class Triangle: \n",
    "    half=0.5\n",
    "    def __init__(self,base,height,sideA,sideB,sideC,x,y):\n",
    "        self._protected_base=base\n",
    "        self._protected_height=height\n",
    "        self._protected_sideA=sideA\n",
    "        self._protected_sideB=sideB\n",
    "        self._protected_sideC=sideC\n",
    "        self._protected_area=base*height*self.half\n",
    "        self._protected_perimeter=sideA+sideB+sideC\n",
    "\n",
    "triangle=Triangle(3,4,3,4,5,1,2)\n",
    "print(triangle._protected_area)\n",
    "print(triangle._protected_perimeter)\n",
    "        "
   ]
  },
  {
   "cell_type": "markdown",
   "metadata": {
    "colab_type": "text",
    "id": "vLns2YYYL98V"
   },
   "source": [
    "7. Add a function to the object classes that test if a given set of $x$ and $y$ coordinates are inside of the object."
   ]
  },
  {
   "cell_type": "markdown",
   "metadata": {
    "colab_type": "text",
    "id": "Ci41CAOaL98W"
   },
   "source": [
    "8. Add a function to the object classes that return a list of up to 16 pairs of  $x$ and $y$ points on the parameter of the object.\n",
    "\n"
   ]
  },
  {
   "cell_type": "markdown",
   "metadata": {
    "colab_type": "text",
    "id": "zY9JgGVnL98W"
   },
   "source": [
    "9. Add a function in the base class of the object classes that returns true/false testing that the object overlaps with another object."
   ]
  }
 ],
 "metadata": {
  "colab": {
   "name": "Lab-5.ipynb",
   "provenance": []
  },
  "kernelspec": {
   "display_name": "Python 3",
   "language": "python",
   "name": "python3"
  },
  "language_info": {
   "codemirror_mode": {
    "name": "ipython",
    "version": 3
   },
   "file_extension": ".py",
   "mimetype": "text/x-python",
   "name": "python",
   "nbconvert_exporter": "python",
   "pygments_lexer": "ipython3",
   "version": "3.7.4"
  }
 },
 "nbformat": 4,
 "nbformat_minor": 1
}
