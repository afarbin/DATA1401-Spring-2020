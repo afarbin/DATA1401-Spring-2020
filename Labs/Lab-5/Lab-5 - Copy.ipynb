{
 "cells": [
  {
   "cell_type": "markdown",
   "metadata": {},
   "source": [
    "# Lab 5- Object Oriented Programming\n",
    "\n",
    "[![Open In Colab](https://colab.research.google.com/assets/colab-badge.svg)](https://colab.research.google.com/github//afarbin/DATA1401-Spring-2020/blob/master/Labs/Lab-5/Lab-5.ipynb)\n",
    "\n",
    "For all of the exercises below, make sure you provide tests of your solutions.\n"
   ]
  },
  {
   "cell_type": "markdown",
   "metadata": {},
   "source": [
    "1. Write a \"counter\" class that can be incremented up to a specified maximum value, will print an error if an attempt is made to increment beyond that value, and allows reseting the counter. "
   ]
  },
  {
   "cell_type": "code",
   "execution_count": 102,
   "metadata": {},
   "outputs": [],
   "source": [
    "class counter:\n",
    "    def __init__(self,max_val):\n",
    "        self.max_val=max_val\n",
    "        self.cur_val=1\n",
    "        \n",
    "    def increment(self):\n",
    "        if self.cur_val>self.max_val:\n",
    "            print(\"Max value reached.\")\n",
    "        else:\n",
    "            self.cur_val+=1\n",
    "            \n",
    "    def reset(self):\n",
    "        self.cur_val=1\n",
    "        "
   ]
  },
  {
   "cell_type": "code",
   "execution_count": 103,
   "metadata": {},
   "outputs": [],
   "source": [
    "my_counter=counter(3)"
   ]
  },
  {
   "cell_type": "code",
   "execution_count": 104,
   "metadata": {},
   "outputs": [
    {
     "name": "stdout",
     "output_type": "stream",
     "text": [
      "Max value reached.\n",
      "Max value reached.\n"
     ]
    }
   ],
   "source": [
    "my_counter.increment()\n",
    "my_counter.increment()\n",
    "my_counter.increment()\n",
    "my_counter.increment()\n",
    "my_counter.increment()"
   ]
  },
  {
   "cell_type": "code",
   "execution_count": 105,
   "metadata": {},
   "outputs": [],
   "source": [
    "my_counter.cur_val=100"
   ]
  },
  {
   "cell_type": "markdown",
   "metadata": {},
   "source": [
    "2. Copy and paste your solution to question 1 and modify it so that all the data held by the counter is private. Implement functions to check the value of the counter, check the maximum value, and check if the counter is at the maximum."
   ]
  },
  {
   "cell_type": "code",
   "execution_count": 106,
   "metadata": {},
   "outputs": [],
   "source": [
    "class counter:\n",
    "    def __init__(self,max_val):\n",
    "        self.__max_val=max_val\n",
    "        self.__cur_val=1\n",
    "        \n",
    "    def increment(self):\n",
    "        if self.__cur_val>self.__max_val:\n",
    "            print(\"Max value reached.\")\n",
    "        else:\n",
    "            self.__cur_val+=1\n",
    "            \n",
    "    def reset(self):\n",
    "        self.__cur_val=1\n",
    "        \n",
    "    def cur_val(self):\n",
    "        return self.__cur_val\n",
    "\n",
    "    def max_val(self):\n",
    "        return self.__max_val\n",
    "\n"
   ]
  },
  {
   "cell_type": "code",
   "execution_count": 107,
   "metadata": {},
   "outputs": [],
   "source": [
    "my_counter=counter(3)"
   ]
  },
  {
   "cell_type": "code",
   "execution_count": 108,
   "metadata": {},
   "outputs": [
    {
     "data": {
      "text/plain": [
       "1"
      ]
     },
     "execution_count": 108,
     "metadata": {},
     "output_type": "execute_result"
    }
   ],
   "source": [
    "my_counter.cur_val()"
   ]
  },
  {
   "cell_type": "markdown",
   "metadata": {},
   "source": [
    "3. Implement a class to represent a rectangle, holding the length, width, and $x$ and $y$ coordinates of a corner of the object. Implement functions that compute the area and parameter of the rectangle. Make all data members private and privide accessors to retrieve values of data members. "
   ]
  },
  {
   "cell_type": "code",
   "execution_count": 109,
   "metadata": {},
   "outputs": [],
   "source": [
    "class rectangle:\n",
    "    def __init__(self,width,length,x,y):\n",
    "        self.__width=width\n",
    "        self.__length=length\n",
    "        self.__x=x\n",
    "        self.__y=y\n",
    "        \n",
    "    def area(self):\n",
    "        return self.__width*self.__length\n",
    "    \n",
    "    def perimeter(self):\n",
    "        return 2*(self.__width+self.__length)\n",
    "    \n",
    "    def x(self):\n",
    "        return self.__x\n",
    "    \n",
    "    def y(self):\n",
    "        return self.__y\n",
    "    \n",
    "    def width(self):\n",
    "        return self.__width\n",
    "    \n",
    "    def length(self):\n",
    "        return self.__length\n"
   ]
  },
  {
   "cell_type": "code",
   "execution_count": 110,
   "metadata": {},
   "outputs": [
    {
     "name": "stdout",
     "output_type": "stream",
     "text": [
      "6\n",
      "10\n",
      "1\n",
      "4\n",
      "2\n",
      "3\n"
     ]
    }
   ],
   "source": [
    "my_rectangle = rectangle(2,3,1,4)\n",
    "print(my_rectangle.area())\n",
    "print(my_rectangle.perimeter())\n",
    "print(my_rectangle.x())\n",
    "print(my_rectangle.y())\n",
    "print(my_rectangle.width())\n",
    "print(my_rectangle.length())"
   ]
  },
  {
   "cell_type": "markdown",
   "metadata": {},
   "source": [
    "4. Implement a class to represent a circle, holding the radius and $x$ and $y$ coordinates of center of the object. Implement functions that compute the area and parameter of the rectangle. Make all data members private and privide accessors to retrieve values of data members. "
   ]
  },
  {
   "cell_type": "code",
   "execution_count": 111,
   "metadata": {},
   "outputs": [],
   "source": [
    "import math\n",
    "\n",
    "\n",
    "class circle:\n",
    "    def __init__(self, radius, x, y):\n",
    "        self.__radius = radius\n",
    "        self.__x = x\n",
    "        self.__y = y\n",
    "    \n",
    "    def area(self):\n",
    "        return math.pi * self.__radius**2\n",
    "    \n",
    "    def perimeter(self):\n",
    "        return 2 * math.pi * self.__radius\n",
    "    \n",
    "    def radius(self):\n",
    "        return self.__radius\n",
    "    \n",
    "    def x(self):\n",
    "        return self.__x\n",
    "    \n",
    "    def y(self):\n",
    "        return self.__y"
   ]
  },
  {
   "cell_type": "code",
   "execution_count": 112,
   "metadata": {},
   "outputs": [
    {
     "name": "stdout",
     "output_type": "stream",
     "text": [
      "12.566370614359172\n",
      "12.566370614359172\n",
      "2\n",
      "0\n",
      "0\n"
     ]
    }
   ],
   "source": [
    "my_circle = circle(2,0,0)\n",
    "print(my_circle.area())\n",
    "print(my_circle.perimeter())\n",
    "print(my_circle.radius())\n",
    "print(my_circle.x())\n",
    "print(my_circle.y())"
   ]
  },
  {
   "cell_type": "markdown",
   "metadata": {},
   "source": [
    "5. Implement a common base class for the classes implemented in 3 and 4 above which implements all common methods as dummy functions. Re-implement those classes to inherit from the base class and overload the functions accordingly. "
   ]
  },
  {
   "cell_type": "code",
   "execution_count": 125,
   "metadata": {},
   "outputs": [],
   "source": [
    "class shape:\n",
    "    def __init__(self, x, y):\n",
    "        self.__x = x\n",
    "        self.__y = y\n",
    "        \n",
    "    def x(self):\n",
    "        return self.__x\n",
    "    \n",
    "    def y(self):\n",
    "        return self.__y\n",
    "    \n",
    "    def area(self):\n",
    "        raise NotImplementedError\n",
    "    \n",
    "    def perimeter(self):\n",
    "        raise NotImplementedError\n",
    "\n",
    "class rectangle(shape):\n",
    "    def __init__(self,width,length,x,y):\n",
    "        super().__init__(x, y)\n",
    "        self.__width=width\n",
    "        self.__length=length\n",
    "        \n",
    "    def area(self):\n",
    "        return self.__width*self.__length\n",
    "    \n",
    "    def perimeter(self):\n",
    "        return 2*(self.__width+self.__length)\n",
    "    \n",
    "    def x(self):\n",
    "        return super().x()\n",
    "    \n",
    "    def y(self):\n",
    "        return super().y()\n",
    "    \n",
    "    def width(self):\n",
    "        return self.__width\n",
    "    \n",
    "    def length(self):\n",
    "        return self.__length\n",
    "\n",
    "class circle(shape):\n",
    "    def __init__(self, radius, x, y):\n",
    "        super().__init__(x, y)\n",
    "        self.__radius = radius\n",
    "        \n",
    "    def area(self):\n",
    "        return math.pi * self.__radius**2\n",
    "    \n",
    "    def perimeter(self):\n",
    "        return 2 * math.pi * self.__radius\n",
    "    \n",
    "    def radius(self):\n",
    "        return self.__radius\n",
    "    \n",
    "    def x(self):\n",
    "        return super().x()\n",
    "    \n",
    "    def y(self):\n",
    "        return super().y()"
   ]
  },
  {
   "cell_type": "code",
   "execution_count": 149,
   "metadata": {},
   "outputs": [
    {
     "name": "stdout",
     "output_type": "stream",
     "text": [
      "5\n",
      "5\n",
      "6\n",
      "10\n",
      "12.566370614359172\n",
      "12.566370614359172\n"
     ]
    }
   ],
   "source": [
    "my_shape = shape(5,5)\n",
    "print(my_shape.x())\n",
    "print(my_shape.y())\n",
    "my_rectangle = rectangle(3, 2, -1.5,-0.5)\n",
    "print(my_rectangle.area())\n",
    "print(my_rectangle.perimeter())\n",
    "my_circle = circle(2, 0, 0)\n",
    "print(my_circle.area())\n",
    "print(my_circle.perimeter())\n"
   ]
  },
  {
   "cell_type": "markdown",
   "metadata": {},
   "source": [
    "6. Implement an analogous triangle class."
   ]
  },
  {
   "cell_type": "code",
   "execution_count": 150,
   "metadata": {},
   "outputs": [],
   "source": [
    "class triangle(shape):\n",
    "    def __init__(self, x1, y1, x2, y2, x3, y3):\n",
    "        super().__init__(x1, y1)\n",
    "        self.__x2 = x2\n",
    "        self.__y2 = y2\n",
    "        self.__x3 = x3\n",
    "        self.__y3 = y3\n",
    "    \n",
    "    def x1(self):\n",
    "        return super().x()\n",
    "    def y1(self):\n",
    "        return super().y()\n",
    "    def x2(self):\n",
    "        return self.__x2\n",
    "    def y2(self):\n",
    "        return self.__y2\n",
    "    def x3(self):\n",
    "        return self.__x3\n",
    "    def y3(self):\n",
    "        return self.__y3\n",
    "    \n",
    "    def area(self):\n",
    "        return abs((self.x1()*(self.__y2-self.__y3) + self.__x2*(self.__y3-self.y1()) + self.__x3*(self.y1()-self.__y2))/2)\n",
    "    \n",
    "    def perimeter(self):\n",
    "        return math.sqrt((self.__x2-super().x())**2+(self.__y2-super().y())**2) + math.sqrt((self.__x3-self.__x2)**2+(self.__y3-self.__y2)**2) + math.sqrt((super().x()-self.__x3)**2+(super().x()-self.__y3)**2)"
   ]
  },
  {
   "cell_type": "code",
   "execution_count": 151,
   "metadata": {},
   "outputs": [
    {
     "name": "stdout",
     "output_type": "stream",
     "text": [
      "0\n",
      "0\n",
      "1.0\n",
      "5.23606797749979\n"
     ]
    }
   ],
   "source": [
    "my_triangle = triangle(0,0,1,0,1,2)\n",
    "print(my_triangle.x())\n",
    "print(my_triangle.x1())\n",
    "print(my_triangle.area())\n",
    "print(my_triangle.perimeter())"
   ]
  },
  {
   "cell_type": "markdown",
   "metadata": {},
   "source": [
    "7. Add a function to the object classes that test if a given set of $x$ and $y$ coordinates are inside of the object."
   ]
  },
  {
   "cell_type": "code",
   "execution_count": 152,
   "metadata": {},
   "outputs": [],
   "source": [
    "setattr(triangle,'inside', lambda self, x, y: triangle(x, y, self.x2(), self.y2(), self.x3(), self.y3()).area() + triangle(self.x1(), self.y1(), x, y, self.x3(), self.y3()).area() + triangle(self.x1(), self.y1(), self.x2(), self.y2(), x, y).area() == self.area())\n",
    "setattr(circle,'inside', lambda self, x, y: math.sqrt((self.x()-x)**2+(self.y()-y)**2) <= self.radius())\n",
    "setattr(rectangle,'inside', lambda self, x, y: self.x()<=x<=self.x()+self.width() and self.y()<=y<=self.y()+self.length())"
   ]
  },
  {
   "cell_type": "code",
   "execution_count": 154,
   "metadata": {},
   "outputs": [
    {
     "name": "stdout",
     "output_type": "stream",
     "text": [
      "True\n",
      "False\n",
      "True\n",
      "\n",
      "True\n",
      "True\n",
      "True\n",
      "False\n",
      "\n",
      "True\n",
      "True\n",
      "True\n",
      "False\n"
     ]
    }
   ],
   "source": [
    "print(my_triangle.inside(0.75, 0.25))\n",
    "print(my_triangle.inside(0.25, 0.75))\n",
    "print(my_triangle.inside(0.5,0.5))\n",
    "print()\n",
    "print(my_circle.inside(0,0))\n",
    "print(my_circle.inside(0,1))\n",
    "print(my_circle.inside(0,2))\n",
    "print(my_circle.inside(0,3))\n",
    "print()\n",
    "print(my_rectangle.inside(-1.5,0))\n",
    "print(my_rectangle.inside(0,0))\n",
    "print(my_rectangle.inside(1.5,0))\n",
    "print(my_rectangle.inside(1.6,0))"
   ]
  },
  {
   "cell_type": "markdown",
   "metadata": {},
   "source": [
    "8. Add a function to the object classes that return a list of up to 16 pairs of  $x$ and $y$ points on the parameter of the object.\n",
    "\n"
   ]
  },
  {
   "cell_type": "code",
   "execution_count": null,
   "metadata": {},
   "outputs": [],
   "source": []
  },
  {
   "cell_type": "markdown",
   "metadata": {},
   "source": [
    "9. Add a function in the base class of the object classes that returns true/false testing that the object overlaps with another object."
   ]
  }
 ],
 "metadata": {
  "kernelspec": {
   "display_name": "Python 3",
   "language": "python",
   "name": "python3"
  },
  "language_info": {
   "codemirror_mode": {
    "name": "ipython",
    "version": 3
   },
   "file_extension": ".py",
   "mimetype": "text/x-python",
   "name": "python",
   "nbconvert_exporter": "python",
   "pygments_lexer": "ipython3",
   "version": "3.7.2"
  }
 },
 "nbformat": 4,
 "nbformat_minor": 2
}
