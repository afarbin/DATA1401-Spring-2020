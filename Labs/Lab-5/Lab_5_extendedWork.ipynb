{
 "cells": [
  {
   "cell_type": "markdown",
   "metadata": {
    "colab_type": "text",
    "id": "XClUvBsSL98Q"
   },
   "source": [
    "# Lab 5- Object Oriented Programming\n",
    "\n",
    "[![Open In Colab](https://colab.research.google.com/assets/colab-badge.svg)](https://colab.research.google.com/github//afarbin/DATA1401-Spring-2020/blob/master/Labs/Lab-5/Lab-5.ipynb)\n",
    "\n",
    "For all of the exercises below, make sure you provide tests of your solutions.\n"
   ]
  },
  {
   "cell_type": "code",
   "execution_count": 93,
   "metadata": {},
   "outputs": [],
   "source": [
    "#CLASS 3 \n",
    "class Rectangle:\n",
    "    def __init__(self,length,width,x,y): #x and y coordinates \n",
    "        #area=length*width\n",
    "        self._protected_length=length\n",
    "        self._protected_width=width\n",
    "        self._protected_area=length*width\n",
    "        self._protected_perimeter=(length*2)+(width*2)\n",
    "    \n",
    "        \n",
    "rect=Rectangle(3,4,2,3)\n"
   ]
  },
  {
   "cell_type": "code",
   "execution_count": null,
   "metadata": {},
   "outputs": [],
   "source": []
  },
  {
   "cell_type": "markdown",
   "metadata": {
    "colab_type": "text",
    "id": "_Fy5umfxL98U"
   },
   "source": [
    "5. Implement a common base class for the classes implemented in 3 and 4 above which implements all common methods as dummy functions. Re-implement those classes to inherit from the base class and overload the functions accordingly. "
   ]
  },
  {
   "cell_type": "code",
   "execution_count": null,
   "metadata": {},
   "outputs": [],
   "source": []
  },
  {
   "cell_type": "markdown",
   "metadata": {
    "colab_type": "text",
    "id": "vLns2YYYL98V"
   },
   "source": [
    "7. Add a function to the object classes that test if a given set of $x$ and $y$ coordinates are inside of the object."
   ]
  },
  {
   "cell_type": "code",
   "execution_count": 103,
   "metadata": {},
   "outputs": [
    {
     "name": "stdout",
     "output_type": "stream",
     "text": [
      "The point is not within the object.\n",
      "The area of the circle is: 452.16\n",
      "The circumference of the circle is: 75.36\n"
     ]
    }
   ],
   "source": [
    "class Circle:\n",
    "    pi=3.14\n",
    "    def __init__(self,radius,x,y):\n",
    "        self._protected_radius=radius\n",
    "        self._protected_area=self.pi*radius**2\n",
    "        self._protected_perimeter=self.pi*radius*2\n",
    "    #def Find__Point(x,y) : \n",
    "        if (x + y <= radius) or (x^2 + y^2 <= radius^2): \n",
    "            print(\"The point lies within the object.\")\n",
    "        else:\n",
    "            print(\"The point is not within the object.\")\n",
    "     \n",
    "circle=Circle(12,100,50)\n",
    "print(\"The area of the circle is: \"+ str(circle._protected_area))\n",
    "print(\"The circumference of the circle is: \"+ str(circle._protected_perimeter))\n",
    "\n",
    "#Find__Point(3,4)\n",
    "  "
   ]
  },
  {
   "cell_type": "code",
   "execution_count": null,
   "metadata": {},
   "outputs": [],
   "source": []
  },
  {
   "cell_type": "code",
   "execution_count": null,
   "metadata": {},
   "outputs": [],
   "source": [
    "class Triangle: \n",
    "    half=0.5\n",
    "    def __init__(self,base,height,sideA,sideB,sideC,x,y):\n",
    "        self._protected_base=base\n",
    "        self._protected_height=height\n",
    "        self._protected_sideA=sideA\n",
    "        self._protected_sideB=sideB\n",
    "        self._protected_sideC=sideC\n",
    "        self._protected_area=base*height*self.half\n",
    "        self._protected_perimeter=sideA+sideB+sideC\n",
    "\n",
    "triangle=Triangle(3,4,3,4,5,1,2)\n",
    "\n",
    "        \n",
    "\n",
    "\n",
    "\n",
    "def area(x1, y1, x2, y2, x3, y3): \n",
    "  \n",
    "    return abs((x1 * (y2 - y3) + x2 * (y3 - y1)  \n",
    "                + x3 * (y1 - y2)) / 2.0) \n",
    "  \n",
    "  \n",
    "# A function to check whether point P(x, y) \n",
    "# lies inside the triangle formed by  \n",
    "# A(x1, y1), B(x2, y2) and C(x3, y3)  \n",
    "def isInside(x1, y1, x2, y2, x3, y3, x, y): \n",
    "  \n",
    "    # Calculate area of triangle ABC \n",
    "    A = area (x1, y1, x2, y2, x3, y3) \n",
    "  \n",
    "    # Calculate area of triangle PBC  \n",
    "    A1 = area (x, y, x2, y2, x3, y3) \n",
    "      \n",
    "    # Calculate area of triangle PAC  \n",
    "    A2 = area (x1, y1, x, y, x3, y3) \n",
    "      \n",
    "    # Calculate area of triangle PAB  \n",
    "    A3 = area (x1, y1, x2, y2, x, y) \n",
    "      \n",
    "    # Check if sum of A1, A2 and A3  \n",
    "    # is same as A \n",
    "    if(A == A1 + A2 + A3): \n",
    "        return True\n",
    "    else: \n",
    "        return False"
   ]
  },
  {
   "cell_type": "markdown",
   "metadata": {
    "colab_type": "text",
    "id": "Ci41CAOaL98W"
   },
   "source": [
    "8. Add a function to the object classes that return a list of up to 16 pairs of  $x$ and $y$ points on the parameter of the object.\n",
    "\n"
   ]
  },
  {
   "cell_type": "code",
   "execution_count": 111,
   "metadata": {},
   "outputs": [
    {
     "name": "stdout",
     "output_type": "stream",
     "text": [
      "The point is not within the object.\n",
      "The area of the circle is: 452.16\n",
      "The circumference of the circle is: 75.36\n"
     ]
    }
   ],
   "source": [
    "class Circle:\n",
    "    pi=3.14\n",
    "    def __init__(self,radius,x,y):\n",
    "        self._protected_radius=radius\n",
    "        self._protected_area=self.pi*radius**2\n",
    "        self._protected_perimeter=self.pi*radius*2\n",
    "    #def Find__Point(x,y) : \n",
    "        if (x + y <= radius) or (x^2 + y^2 <= radius^2): \n",
    "            print(\"The point lies within the object.\")\n",
    "        else:\n",
    "            print(\"The point is not within the object.\")\n",
    "            \n",
    "        \n",
    "            \n",
    "  \n",
    "            \n",
    "            \n",
    "            \n",
    "            \n",
    "            \n",
    "            \n",
    "            \n",
    "     \n",
    "circle=Circle(12,100,50)\n",
    "print(\"The area of the circle is: \"+ str(circle._protected_area))\n",
    "print(\"The circumference of the circle is: \"+ str(circle._protected_perimeter))"
   ]
  },
  {
   "cell_type": "code",
   "execution_count": 147,
   "metadata": {},
   "outputs": [],
   "source": [
    "from random import randint\n",
    "def get_points(radius,number):\n",
    "    x=random.randint(1, 100)\n",
    "    y=random.randint(1, 100)\n",
    "    new_lst=list()\n",
    "    for i in range(number):\n",
    "        if (((x)**2)+((y)**2))==(radius**2):\n",
    "            new_lst.append(x)\n",
    "            return new_lst\n",
    "            \n",
    "    \n",
    "    print(new_lst)"
   ]
  },
  {
   "cell_type": "code",
   "execution_count": 148,
   "metadata": {},
   "outputs": [
    {
     "name": "stdout",
     "output_type": "stream",
     "text": [
      "[]\n"
     ]
    }
   ],
   "source": [
    "get_points(12,4)"
   ]
  },
  {
   "cell_type": "markdown",
   "metadata": {
    "colab_type": "text",
    "id": "zY9JgGVnL98W"
   },
   "source": [
    "9. Add a function in the base class of the object classes that returns true/false testing that the object overlaps with another object."
   ]
  },
  {
   "cell_type": "code",
   "execution_count": null,
   "metadata": {},
   "outputs": [],
   "source": []
  }
 ],
 "metadata": {
  "colab": {
   "name": "Lab-5.ipynb",
   "provenance": []
  },
  "kernelspec": {
   "display_name": "Python 3",
   "language": "python",
   "name": "python3"
  },
  "language_info": {
   "codemirror_mode": {
    "name": "ipython",
    "version": 3
   },
   "file_extension": ".py",
   "mimetype": "text/x-python",
   "name": "python",
   "nbconvert_exporter": "python",
   "pygments_lexer": "ipython3",
   "version": "3.7.4"
  }
 },
 "nbformat": 4,
 "nbformat_minor": 1
}
