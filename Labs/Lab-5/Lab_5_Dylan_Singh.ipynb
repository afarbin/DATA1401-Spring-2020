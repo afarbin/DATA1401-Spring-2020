{
 "cells": [
  {
   "cell_type": "markdown",
   "metadata": {
    "colab_type": "text",
    "id": "EWu_mb_6pq8C"
   },
   "source": [
    "# Lab 5- Object Oriented Programming\n",
    "\n",
    "[![Open In Colab](https://colab.research.google.com/assets/colab-badge.svg)](https://colab.research.google.com/github//afarbin/DATA1401-Spring-2020/blob/master/Labs/Lab-5/Lab-5.ipynb)\n",
    "\n",
    "For all of the exercises below, make sure you provide tests of your solutions.\n"
   ]
  },
  {
   "cell_type": "markdown",
   "metadata": {
    "colab_type": "text",
    "id": "X2RE7cD_pq8D"
   },
   "source": [
    "1. Write a \"counter\" class that can be incremented up to a specified maximum value, will print an error if an attempt is made to increment beyond that value, and allows reseting the counter. "
   ]
  },
  {
   "cell_type": "code",
   "execution_count": 1,
   "metadata": {
    "colab": {},
    "colab_type": "code",
    "id": "-TtU-j7vpq8D"
   },
   "outputs": [],
   "source": [
    "class counter:\n",
    "    def __init__(self,max_val):\n",
    "        self.max_val=max_val\n",
    "        self.cur_val=1\n",
    "        \n",
    "    def increment(self):\n",
    "        if self.cur_val>self.max_val:\n",
    "            print(\"Max value reached.\")\n",
    "        else:\n",
    "            self.cur_val+=1\n",
    "            \n",
    "    def reset(self):\n",
    "        self.cur_val=1\n",
    "        "
   ]
  },
  {
   "cell_type": "code",
   "execution_count": 2,
   "metadata": {
    "colab": {},
    "colab_type": "code",
    "id": "EPuBl_0Npq8G"
   },
   "outputs": [],
   "source": [
    "my_counter=counter(3)"
   ]
  },
  {
   "cell_type": "code",
   "execution_count": 3,
   "metadata": {
    "colab": {},
    "colab_type": "code",
    "id": "I4RQ3qLWpq8I",
    "outputId": "77b4b106-7820-4f28-c02f-805d75514bb4"
   },
   "outputs": [
    {
     "name": "stdout",
     "output_type": "stream",
     "text": [
      "Max value reached.\n",
      "Max value reached.\n"
     ]
    }
   ],
   "source": [
    "my_counter.increment()\n",
    "my_counter.increment()\n",
    "my_counter.increment()\n",
    "my_counter.increment()\n",
    "my_counter.increment()"
   ]
  },
  {
   "cell_type": "code",
   "execution_count": 4,
   "metadata": {
    "colab": {},
    "colab_type": "code",
    "id": "X0sU52a3pq8K"
   },
   "outputs": [],
   "source": [
    "my_counter.cur_val=100"
   ]
  },
  {
   "cell_type": "markdown",
   "metadata": {
    "colab_type": "text",
    "id": "-a43R4AZpq8M"
   },
   "source": [
    "2. Copy and paste your solution to question 1 and modify it so that all the data held by the counter is private. Implement functions to check the value of the counter, check the maximum value, and check if the counter is at the maximum."
   ]
  },
  {
   "cell_type": "code",
   "execution_count": 5,
   "metadata": {
    "colab": {},
    "colab_type": "code",
    "id": "MTbnnqlzpq8N"
   },
   "outputs": [],
   "source": [
    "class counter:\n",
    "    def __init__(self,max_val):\n",
    "        self.__max_val=max_val\n",
    "        self.__cur_val=1\n",
    "        \n",
    "    def increment(self):\n",
    "        if self.__cur_val>self.__max_val:\n",
    "            print(\"Max value reached.\")\n",
    "        else:\n",
    "            self.__cur_val+=1\n",
    "            \n",
    "    def reset(self):\n",
    "        self.__cur_val=1\n",
    "        \n",
    "    def cur_val(self):\n",
    "        return self.__cur_val\n",
    "\n",
    "    def max_val(self):\n",
    "        return self.__max_val\n",
    "\n"
   ]
  },
  {
   "cell_type": "code",
   "execution_count": 6,
   "metadata": {
    "colab": {},
    "colab_type": "code",
    "id": "qF0Vy1U0pq8O"
   },
   "outputs": [],
   "source": [
    "my_counter=counter(3)"
   ]
  },
  {
   "cell_type": "code",
   "execution_count": 7,
   "metadata": {
    "colab": {},
    "colab_type": "code",
    "id": "DfvgMMxfpq8R",
    "outputId": "2b86b79d-f736-4a11-dc6a-06de87356eef"
   },
   "outputs": [
    {
     "data": {
      "text/plain": [
       "1"
      ]
     },
     "execution_count": 7,
     "metadata": {},
     "output_type": "execute_result"
    }
   ],
   "source": [
    "my_counter.cur_val()"
   ]
  },
  {
   "cell_type": "markdown",
   "metadata": {
    "colab_type": "text",
    "id": "92_cr3SIpq8T"
   },
   "source": [
    "3. Implement a class to represent a rectangle, holding the length, width, and $x$ and $y$ coordinates of a corner of the object. Implement functions that compute the area and parameter of the rectangle. Make all data members private and privide accessors to retrieve values of data members. "
   ]
  },
  {
   "cell_type": "code",
   "execution_count": 8,
   "metadata": {
    "colab": {},
    "colab_type": "code",
    "id": "tCVi0El-pq8T"
   },
   "outputs": [],
   "source": [
    "class rectangle:\n",
    "    def __init__(self,width,length,x,y):\n",
    "        self.__width=width\n",
    "        self.__length=length\n",
    "        self.__x=x\n",
    "        self.__y=y\n",
    "        \n",
    "    def area(self):\n",
    "        return self.__width*self.__length\n",
    "    \n",
    "    def perimeter(self):\n",
    "        return 2*(self.__width+self.__length)\n",
    "    \n",
    "    def x(self):\n",
    "        return self.__x\n",
    "    \n",
    "    def y(self):\n",
    "        return self.__y\n",
    "    \n",
    "\n",
    "        "
   ]
  },
  {
   "cell_type": "code",
   "execution_count": 9,
   "metadata": {},
   "outputs": [
    {
     "data": {
      "text/plain": [
       "8"
      ]
     },
     "execution_count": 9,
     "metadata": {},
     "output_type": "execute_result"
    }
   ],
   "source": [
    "#test for #3\n",
    "rect1 = rectangle(5,6,7,8)\n",
    "rect1.area()\n",
    "rect1.perimeter()\n",
    "rect1.x()\n",
    "rect1.y()"
   ]
  },
  {
   "cell_type": "markdown",
   "metadata": {
    "colab_type": "text",
    "id": "RhtlULVzpq8V"
   },
   "source": [
    "4. Implement a class to represent a circle, holding the radius and $x$ and $y$ coordinates of center of the object. Implement functions that compute the area and parameter of the rectangle. Make all data members private and privide accessors to retrieve values of data members. "
   ]
  },
  {
   "cell_type": "code",
   "execution_count": 10,
   "metadata": {},
   "outputs": [],
   "source": [
    "#Solution for #4\n",
    "#Still need to do \"Make all data members private and privide accessors to retrieve values of data members.\" part\n",
    "class circle:\n",
    "    def __init__(self, radius, x, y):\n",
    "        self.__radius = radius\n",
    "        self.__x = x\n",
    "        self.__y = y\n",
    "        \n",
    "    def area (self):\n",
    "        return self.__radius*self.__radius*3.14\n",
    "    \n",
    "    def perimeter (self):\n",
    "        return (2*self.__radius*3.14)\n",
    "    \n",
    "    def x(self):\n",
    "        return self.__x\n",
    "    \n",
    "    def y(self):\n",
    "        return self.__y\n",
    "        \n",
    "        "
   ]
  },
  {
   "cell_type": "code",
   "execution_count": 11,
   "metadata": {},
   "outputs": [
    {
     "data": {
      "text/plain": [
       "8"
      ]
     },
     "execution_count": 11,
     "metadata": {},
     "output_type": "execute_result"
    }
   ],
   "source": [
    "#test for #4\n",
    "cir1 = circle(6,7,8)\n",
    "cir1.area()\n",
    "cir1.perimeter()\n",
    "cir1.x()\n",
    "cir1.y()"
   ]
  },
  {
   "cell_type": "markdown",
   "metadata": {
    "colab_type": "text",
    "id": "5lmKMNsjpq8V"
   },
   "source": [
    "5. Implement a common base class for the classes implemented in 3 and 4 above which implements all common methods as dummy functions. Re-implement those classes to inherit from the base class and overload the functions accordingly. "
   ]
  },
  {
   "cell_type": "code",
   "execution_count": 12,
   "metadata": {},
   "outputs": [],
   "source": [
    "#Solution for #5\n",
    "class common:    \n",
    "    def __init__(self,x,y):\n",
    "        self.x = x\n",
    "        self.y = y\n",
    "   \n",
    "    def common_x(self):\n",
    "        return self.x\n",
    "    \n",
    "    def common_y(self):\n",
    "        return self.y\n",
    "    \n",
    "    \n",
    "class rectangle(common):\n",
    "    \n",
    "    def __init__(self,length, width, x,y):\n",
    "        \n",
    "        super(rectangle, self).__init__(x,y)\n",
    "        self.width = width\n",
    "        self.length = length\n",
    "            \n",
    "    def area2(self):\n",
    "        \n",
    "        return self.width*self.length\n",
    "    \n",
    "    def perimeter2(self):\n",
    "        \n",
    "        return 2*(self.width+self.length)\n",
    "   \n",
    "\n",
    "class circle(common):\n",
    "    \n",
    "    def  __init__(self,radius,x,y):\n",
    "        \n",
    "        super(circle,self).__init__(x,y)\n",
    "        self.radius = radius \n",
    "    \n",
    "    def area3(self):\n",
    "        \n",
    "        return self.radius*self.radius*3.14\n",
    "   \n",
    "    def perimeter3(self):\n",
    "        \n",
    "        return 2*self.radius*3.14\n",
    "    \n",
    "    \n",
    "    \n",
    "    "
   ]
  },
  {
   "cell_type": "code",
   "execution_count": 13,
   "metadata": {},
   "outputs": [
    {
     "data": {
      "text/plain": [
       "4"
      ]
     },
     "execution_count": 13,
     "metadata": {},
     "output_type": "execute_result"
    }
   ],
   "source": [
    "#test for 5\n",
    "rect2 = rectangle(5,6,7,8)\n",
    "cir2 = circle(7,3,4)\n",
    "\n",
    "rect2.perimeter2()\n",
    "rect2.common_x()\n",
    "rect2.common_y()\n",
    "cir2.area3()\n",
    "cir2.perimeter3()\n",
    "\n",
    "cir2.common_y()\n"
   ]
  },
  {
   "cell_type": "markdown",
   "metadata": {
    "colab_type": "text",
    "id": "zajS0633pq8W"
   },
   "source": [
    "6. Implement an analogous triangle class."
   ]
  },
  {
   "cell_type": "code",
   "execution_count": 14,
   "metadata": {},
   "outputs": [],
   "source": [
    "#Solution for 6\n",
    "#Solution for #5\n",
    "class common:    \n",
    "    def __init__(self,x,y):\n",
    "        self.x = x\n",
    "        self.y = y\n",
    "   \n",
    "    def common_x(self):\n",
    "        return self.x\n",
    "    \n",
    "    def common_y(self):\n",
    "        return self.y\n",
    "    \n",
    "    \n",
    "class rectangle(common):\n",
    "    \n",
    "    def __init__(self,length, width, x,y):\n",
    "        \n",
    "        super(rectangle, self).__init__(x,y)\n",
    "        self.width = width\n",
    "        self.length = length\n",
    "            \n",
    "    def area2(self):\n",
    "        \n",
    "        return self.width*self.length\n",
    "    \n",
    "    def perimeter2(self):\n",
    "        \n",
    "        return 2*(self.width+self.length)\n",
    "   \n",
    "\n",
    "class circle(common):\n",
    "    \n",
    "    def  __init__(self,radius,x,y):\n",
    "        \n",
    "        super(circle,self).__init__(x,y)\n",
    "        self.radius = radius \n",
    "    \n",
    "    def area3(self):\n",
    "        \n",
    "        return self.radius*self.radius*3.14\n",
    "   \n",
    "    def perimeter3(self):\n",
    "        \n",
    "        return 2*self.radius*3.14\n",
    "    \n",
    "    \n",
    "    \n",
    "class triangle(common):\n",
    "    \n",
    "    def  __init__(self,leg1,leg2,leg3,x,y):\n",
    "        super(triangle,self).__init__(x,y)\n",
    "        \n",
    "        self.leg1 = leg1\n",
    "        self.leg2 = leg2\n",
    "        self.leg3 = leg3\n",
    "        \n",
    "    #using heron's formula    \n",
    "    def area(self):\n",
    "        \n",
    "        half_of_p = (self.leg1 + self.leg2 + self.leg3)/2\n",
    "        \n",
    "        area = (half_of_p*(half_of_p - self.leg1)*(half_of_p - self.leg2)*(half_of_p - self.leg3))**(1/2)\n",
    "        \n",
    "        return area\n",
    "    \n",
    "    def perimeter(self):\n",
    "        \n",
    "        return(self.leg1 + self.leg2 + self.leg3)\n",
    "    \n",
    "    "
   ]
  },
  {
   "cell_type": "code",
   "execution_count": 15,
   "metadata": {},
   "outputs": [
    {
     "data": {
      "text/plain": [
       "5"
      ]
     },
     "execution_count": 15,
     "metadata": {},
     "output_type": "execute_result"
    }
   ],
   "source": [
    "#test for #6\n",
    "\n",
    "tri1 = triangle(4,2,3,4,5)\n",
    "\n",
    "tri1.area()\n",
    "tri1.perimeter()\n",
    "tri1.common_x()\n",
    "tri1.common_y()\n"
   ]
  },
  {
   "cell_type": "markdown",
   "metadata": {
    "colab_type": "text",
    "id": "l7EvqcC9pq8W"
   },
   "source": [
    "7. Add a function to the object classes that test if a given set of $x$ and $y$ coordinates are inside of the object."
   ]
  },
  {
   "cell_type": "code",
   "execution_count": 32,
   "metadata": {},
   "outputs": [],
   "source": [
    "import math"
   ]
  },
  {
   "cell_type": "code",
   "execution_count": 33,
   "metadata": {},
   "outputs": [],
   "source": [
    "class common:    \n",
    "    def __init__(self,x,y):\n",
    "        self.x = x\n",
    "        self.y = y\n",
    "   \n",
    "    def common_x(self):\n",
    "        return self.x\n",
    "    \n",
    "    def common_y(self):\n",
    "        return self.y\n",
    "    \n",
    "    \n",
    "class rectangle(common):\n",
    "    \n",
    "    def __init__(self,length, width, x,y):\n",
    "        \n",
    "        super(rectangle, self).__init__(x,y)\n",
    "        self.width = width\n",
    "        self.length = length\n",
    "      \n",
    "    def area2(self):\n",
    "        \n",
    "        return self.width*self.length\n",
    "    \n",
    "    def perimeter2(self):\n",
    "        \n",
    "        return 2*(self.width+self.length)\n",
    "    \n",
    "   # how this works is to assume that the (x,y) coordinate that is there when the object is created is the bottom right point\n",
    "   # of the rectangle\n",
    "    def check_rect(self,check_x,check_y):\n",
    "        \n",
    "        count = 0\n",
    "        #checks to see if it's to the right of the x cord. as well as the right side of the rectangle\n",
    "        if self.x <= check_x:\n",
    "            count = count + 1\n",
    "        \n",
    "        #checks to see if it's below the y cord as well as the bottom of the rectangle  \n",
    "        if self.y <= check_y:\n",
    "            count = count + 1\n",
    "            \n",
    "        #checks to see if it's to left of the left side of the rectangle     \n",
    "        if (self.x - self.length) >= check_x:\n",
    "            count = count + 1\n",
    "           \n",
    "        #checks to see if it's above rectangle \n",
    "        if (self.y + self.width) <= check_y:\n",
    "            count = count + 1\n",
    "           \n",
    "            \n",
    "        if count > 0:\n",
    "            return \"outside of rectangle\"\n",
    "        else :\n",
    "            return \"inside of rectangle\"\n",
    "        \n",
    "\n",
    "class circle(common):\n",
    "    \n",
    "    def  __init__(self,radius,x,y):\n",
    "        \n",
    "        super(circle,self).__init__(x,y)\n",
    "        self.radius = radius \n",
    "    \n",
    "    def area3(self):\n",
    "        \n",
    "        return self.radius*self.radius*3.14\n",
    "   \n",
    "    def perimeter3(self):\n",
    "        \n",
    "        return 2*self.radius*3.14\n",
    "    \n",
    "    def check_circ(self,check_x,check_y):\n",
    "        \n",
    "        count = 0\n",
    "        #checks to see if it's to the right of the x cord. as well as the right side of the circle\n",
    "        if self.x <= check_x:\n",
    "            count = count + 1\n",
    "        \n",
    "        #checks to see if it's below the y cord as well as the bottom of the circle and to the right \n",
    "        if self.y <= check_y:\n",
    "            count = count + 1\n",
    "            \n",
    "        #checks to see if it's to left of the left side of the circle  \n",
    "        if (self.x - 2*self.radius) >= check_x:\n",
    "            count = count + 1\n",
    "           \n",
    "        #checks to see if it's above circle\n",
    "        if (self.y + self.radius) <= check_y:\n",
    "            count = count + 1\n",
    "        #checks to see if it's below the circle \n",
    "        if (self.y - self.radius) >= check_y:\n",
    "            count = count + 1   \n",
    "            \n",
    "        if count > 0:\n",
    "            return \"outside of circle\"\n",
    "        else:\n",
    "            return \"inside of circle\"\n",
    "    \n",
    "    \n",
    "class triangle(common):\n",
    "    #Made an assumption that when you cut the base in half that it forms 2 30-60-90 right triangles\n",
    "    #leg 1 is the right leg\n",
    "    #leg 2 is the bottom leg\n",
    "    #leg 3 is the left leg\n",
    "    \n",
    "    def  __init__(self,leg1,leg2,leg3,x,y):\n",
    "        super(triangle,self).__init__(x,y)\n",
    "        \n",
    "        self.leg1 = leg1\n",
    "        self.leg2 = leg2\n",
    "        self.leg3 = leg3\n",
    "        \n",
    "    #using heron's formula    \n",
    "    def area(self):\n",
    "        \n",
    "        half_of_p = (self.leg1 + self.leg2 + self.leg3)/2\n",
    "        \n",
    "        area = (half_of_p*(half_of_p - self.leg1)*(half_of_p - self.leg2)*(half_of_p - self.leg3))**(1/2)\n",
    "        \n",
    "        return area\n",
    "    \n",
    "    def perimeter(self):\n",
    "        \n",
    "        return(self.leg1 + self.leg2 + self.leg3)\n",
    "    \n",
    "    def check_tri(self,check_x,check_y):\n",
    "        \n",
    "        count = 0\n",
    "        #checks to see if it's to the right of the x cord. as well as the right side of the triangle\n",
    "        if self.x <= check_x:\n",
    "            count = count + 1\n",
    "        \n",
    "        #checks to see if it's below the y cord as well as the bottom of the triangle and to the right \n",
    "        if self.y <= check_y:\n",
    "            count = count + 1\n",
    "            \n",
    "        #checks to see if it's to left of the left side of the triangle\n",
    "        if (self.x - self.leg2) >= check_x:\n",
    "            count = count + 1\n",
    "           \n",
    "        #checks to see if it's above circle\n",
    "        if (self.x - (1/2)*self.leg2) <= check_y:\n",
    "            count = count + 1\n",
    "        #checks to see if it's below the circle \n",
    "        if (self.y +  math.sin(math.acos(self.leg2/self.leg3))) <= check_y:\n",
    "            count = count + 1   \n",
    "            \n",
    "        if count > 0:\n",
    "            return \"outside of triangle\"\n",
    "        else:\n",
    "            return \"inside of triangle\"\n",
    "    "
   ]
  },
  {
   "cell_type": "code",
   "execution_count": 35,
   "metadata": {},
   "outputs": [
    {
     "data": {
      "text/plain": [
       "'inside of triangle'"
      ]
     },
     "execution_count": 35,
     "metadata": {},
     "output_type": "execute_result"
    }
   ],
   "source": [
    "#Test for #7\n",
    "rect3 = rectangle(5,6,5,0)\n",
    "#rect3.check_rect(6,6)\n",
    "#rect3.check_rect(5,5)\n",
    "#rect3.check_rect(4,-2)\n",
    "cir3 = circle(3,4,5)\n",
    "#cir3.check_circ(1,4)\n",
    "cir3.check_circ(0,1)\n",
    "tri3 = triangle(1,2,3,5,5)\n",
    "#tri3.check_tri(6,6)\n",
    "tri3.check_tri(4,1)\n"
   ]
  },
  {
   "cell_type": "markdown",
   "metadata": {
    "colab_type": "text",
    "id": "OzgmXEHlpq8W"
   },
   "source": [
    "8. Add a function to the object classes that return a list of up to 16 pairs of  $x$ and $y$ points on the parameter of the object.\n",
    "\n"
   ]
  },
  {
   "cell_type": "markdown",
   "metadata": {
    "colab_type": "text",
    "id": "bn5lNiX1pq8X"
   },
   "source": [
    "9. Add a function in the base class of the object classes that returns true/false testing that the object overlaps with another object."
   ]
  }
 ],
 "metadata": {
  "colab": {
   "name": "Lab-5.ipynb",
   "provenance": []
  },
  "kernelspec": {
   "display_name": "Python 3",
   "language": "python",
   "name": "python3"
  },
  "language_info": {
   "codemirror_mode": {
    "name": "ipython",
    "version": 3
   },
   "file_extension": ".py",
   "mimetype": "text/x-python",
   "name": "python",
   "nbconvert_exporter": "python",
   "pygments_lexer": "ipython3",
   "version": "3.7.4"
  }
 },
 "nbformat": 4,
 "nbformat_minor": 1
}
