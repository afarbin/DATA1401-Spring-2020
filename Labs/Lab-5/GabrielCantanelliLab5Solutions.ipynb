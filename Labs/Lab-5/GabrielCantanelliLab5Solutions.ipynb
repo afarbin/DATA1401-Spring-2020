{
  "nbformat": 4,
  "nbformat_minor": 0,
  "metadata": {
    "kernelspec": {
      "display_name": "Python 3",
      "language": "python",
      "name": "python3"
    },
    "language_info": {
      "codemirror_mode": {
        "name": "ipython",
        "version": 3
      },
      "file_extension": ".py",
      "mimetype": "text/x-python",
      "name": "python",
      "nbconvert_exporter": "python",
      "pygments_lexer": "ipython3",
      "version": "3.8.1"
    },
    "colab": {
      "name": "GabrielCantanelliLab5Solutions.ipynb",
      "provenance": [],
      "collapsed_sections": []
    }
  },
  "cells": [
    {
      "cell_type": "markdown",
      "metadata": {
        "id": "TEp41DBVt8Tn",
        "colab_type": "text"
      },
      "source": [
        "# Lab 5- Object Oriented Programming\n",
        "\n",
        "[![Open In Colab](https://colab.research.google.com/assets/colab-badge.svg)](https://colab.research.google.com/github//afarbin/DATA1401-Spring-2020/blob/master/Labs/Lab-5/Lab-5.ipynb)\n",
        "\n",
        "For all of the exercises below, make sure you provide tests of your solutions.\n"
      ]
    },
    {
      "cell_type": "markdown",
      "metadata": {
        "id": "4TerEc8Ct8Tq",
        "colab_type": "text"
      },
      "source": [
        "1. Write a \"counter\" class that can be incremented up to a specified maximum value, will print an error if an attempt is made to increment beyond that value, and allows reseting the counter. "
      ]
    },
    {
      "cell_type": "code",
      "metadata": {
        "id": "SGv-9sAbt8T0",
        "colab_type": "code",
        "colab": {}
      },
      "source": [
        "class counter:\n",
        "    def __init__(self,max_val):\n",
        "        self.max_val=max_val\n",
        "        self.cur_val=1\n",
        "        \n",
        "    def increment(self):\n",
        "        if self.cur_val>self.max_val:\n",
        "            print(\"Max value reached.\")\n",
        "        else:\n",
        "            self.cur_val+=1\n",
        "            \n",
        "    def reset(self):\n",
        "        self.cur_val=1"
      ],
      "execution_count": 0,
      "outputs": []
    },
    {
      "cell_type": "code",
      "metadata": {
        "id": "z6EM13ETt8UY",
        "colab_type": "code",
        "colab": {}
      },
      "source": [
        "my_counter=counter(3)"
      ],
      "execution_count": 0,
      "outputs": []
    },
    {
      "cell_type": "code",
      "metadata": {
        "id": "PM08bBfOt8Ut",
        "colab_type": "code",
        "outputId": "3b052845-283f-445d-dadb-b3d2e2108509",
        "colab": {
          "base_uri": "https://localhost:8080/",
          "height": 54
        }
      },
      "source": [
        "my_counter.increment()\n",
        "my_counter.increment()\n",
        "my_counter.increment()\n",
        "my_counter.increment()\n",
        "my_counter.increment()"
      ],
      "execution_count": 1247,
      "outputs": [
        {
          "output_type": "stream",
          "text": [
            "Max value reached.\n",
            "Max value reached.\n"
          ],
          "name": "stdout"
        }
      ]
    },
    {
      "cell_type": "code",
      "metadata": {
        "id": "jQidnzp-t8VI",
        "colab_type": "code",
        "colab": {}
      },
      "source": [
        "my_counter.cur_val=100"
      ],
      "execution_count": 0,
      "outputs": []
    },
    {
      "cell_type": "markdown",
      "metadata": {
        "id": "6G_uwX8Rt8VU",
        "colab_type": "text"
      },
      "source": [
        "2. Copy and paste your solution to question 1 and modify it so that all the data held by the counter is private. Implement functions to check the value of the counter, check the maximum value, and check if the counter is at the maximum."
      ]
    },
    {
      "cell_type": "code",
      "metadata": {
        "id": "9QNOHZgWt8VX",
        "colab_type": "code",
        "colab": {}
      },
      "source": [
        "class counter:\n",
        "    def __init__(self,max_val):\n",
        "        self.__max_val=max_val\n",
        "        self.__cur_val=1\n",
        "        \n",
        "    def increment(self):\n",
        "        if self.__cur_val>self.__max_val:\n",
        "            print(\"Max value reached.\")\n",
        "        else:\n",
        "            self.__cur_val+=1\n",
        "            \n",
        "    def reset(self):\n",
        "        self.__cur_val=1\n",
        "        \n",
        "    def cur_val(self):\n",
        "        return self.__cur_val\n",
        "\n",
        "    def max_val(self):\n",
        "        return self.__max_val"
      ],
      "execution_count": 0,
      "outputs": []
    },
    {
      "cell_type": "code",
      "metadata": {
        "id": "0TO0dXsBt8Vk",
        "colab_type": "code",
        "colab": {}
      },
      "source": [
        "my_counter=counter(3)"
      ],
      "execution_count": 0,
      "outputs": []
    },
    {
      "cell_type": "code",
      "metadata": {
        "id": "4RQv7_Mot8V1",
        "colab_type": "code",
        "outputId": "6907fe47-3a34-4112-dc93-75d9857fd37b",
        "colab": {
          "base_uri": "https://localhost:8080/",
          "height": 35
        }
      },
      "source": [
        "my_counter.cur_val()"
      ],
      "execution_count": 1251,
      "outputs": [
        {
          "output_type": "execute_result",
          "data": {
            "text/plain": [
              "1"
            ]
          },
          "metadata": {
            "tags": []
          },
          "execution_count": 1251
        }
      ]
    },
    {
      "cell_type": "markdown",
      "metadata": {
        "id": "2zNJY-dBt8WA",
        "colab_type": "text"
      },
      "source": [
        "3. Implement a class to represent a rectangle, holding the length, width, and $x$ and $y$ coordinates of a corner of the object. Implement functions that compute the area and parameter of the rectangle. Make all data members private and privide accessors to retrieve values of data members. "
      ]
    },
    {
      "cell_type": "code",
      "metadata": {
        "id": "jjlK20ICt8WC",
        "colab_type": "code",
        "colab": {}
      },
      "source": [
        "class rectangle:\n",
        "    def __init__(self,width,length,x,y):\n",
        "        self.__width=width\n",
        "        self.__length=legth\n",
        "        self.__x=x\n",
        "        self.__y=y\n",
        "        \n",
        "    def area(self):\n",
        "        return self.__width*self.__length\n",
        "    \n",
        "    def perimeter(self):\n",
        "        return 2*(self.__width+self.__length)\n",
        "    \n",
        "    def x(self):\n",
        "        return self.__x"
      ],
      "execution_count": 0,
      "outputs": []
    },
    {
      "cell_type": "markdown",
      "metadata": {
        "id": "wWOpd2Zat8WN",
        "colab_type": "text"
      },
      "source": [
        "4. Implement a class to represent a circle, holding the radius and $x$ and $y$ coordinates of center of the object. Implement functions that compute the area and parameter of the rectangle. Make all data members private and privide accessors to retrieve values of data members. "
      ]
    },
    {
      "cell_type": "code",
      "metadata": {
        "id": "wByI6onW7TGF",
        "colab_type": "code",
        "colab": {}
      },
      "source": [
        "import math\n",
        "pi=math.pi\n",
        "\n",
        "class circle:\n",
        "  def __init__(self,r,x,y):\n",
        "    self.__r=r\n",
        "    self.__x=x\n",
        "    self.__y=y\n",
        "  \n",
        "  def area(self):\n",
        "    return pi*self.__r*self.__r\n",
        "\n",
        "  def perimeter(self):\n",
        "    return 2*pi*self.__r\n",
        "\n",
        "  def r(self):\n",
        "    return self.__r\n",
        "\n",
        "  def x(self):\n",
        "    return self.__x\n",
        "    \n",
        "  def y(self):\n",
        "    return self.__y"
      ],
      "execution_count": 0,
      "outputs": []
    },
    {
      "cell_type": "code",
      "metadata": {
        "id": "GY51gJ_w-Fbr",
        "colab_type": "code",
        "outputId": "e3422631-e3e4-4630-e79b-68962fcac8bd",
        "colab": {
          "base_uri": "https://localhost:8080/",
          "height": 109
        }
      },
      "source": [
        "circle = circle(4,0,0)\n",
        "print(circle.area())\n",
        "print(circle.perimeter())\n",
        "print(circle.r())\n",
        "print(circle.x())\n",
        "print(circle.y())"
      ],
      "execution_count": 1254,
      "outputs": [
        {
          "output_type": "stream",
          "text": [
            "50.26548245743669\n",
            "25.132741228718345\n",
            "4\n",
            "0\n",
            "0\n"
          ],
          "name": "stdout"
        }
      ]
    },
    {
      "cell_type": "markdown",
      "metadata": {
        "id": "S1q4Q4uPt8WO",
        "colab_type": "text"
      },
      "source": [
        "5. Implement a common base class for the classes implemented in 3 and 4 above which implements all common methods as dummy functions. Re-implement those classes to inherit from the base class and overload the functions accordingly. "
      ]
    },
    {
      "cell_type": "code",
      "metadata": {
        "id": "FHIiT_-k_-cB",
        "colab_type": "code",
        "colab": {}
      },
      "source": [
        "class shape:\n",
        "  def __init__(self,x,y):\n",
        "    self.__x=x\n",
        "    self.__y=y\n",
        "  \n",
        "  #all dummy functions\n",
        "  def area(self):\n",
        "    return None\n",
        "  def perimeter(self):\n",
        "    return None\n",
        "  def x(self):\n",
        "    return self.__x\n",
        "  def y(self):\n",
        "    return self.__y"
      ],
      "execution_count": 0,
      "outputs": []
    },
    {
      "cell_type": "code",
      "metadata": {
        "id": "Ho2dPB9MKGpL",
        "colab_type": "code",
        "colab": {}
      },
      "source": [
        "#Re-implementing 'Rectangle'\n",
        "#x and y form the starting corner and\n",
        "#the signs of length and width determine\n",
        "#the rectangle's orientation\n",
        "class rectangle(shape):\n",
        "  def __init__(self,length,width,x,y):\n",
        "    super().__init__(x,y)\n",
        "    self.__length=length\n",
        "    self.__width=width\n",
        "  #absolute values used to ignore direction of length and width\n",
        "  def area(self):\n",
        "    return abs(self.__length*self.__width)\n",
        "\n",
        "  def perimeter(self):\n",
        "    return 2*abs(self.__length)+2*abs(self.__width)\n",
        "\n",
        "  def length(self):\n",
        "    return self.__length\n",
        "\n",
        "  def width(self):\n",
        "    return self.__width"
      ],
      "execution_count": 0,
      "outputs": []
    },
    {
      "cell_type": "code",
      "metadata": {
        "id": "Ifl53Vu2KnU_",
        "colab_type": "code",
        "outputId": "1b9041a5-2c66-4d5f-e5c8-795b9e9b7f36",
        "colab": {
          "base_uri": "https://localhost:8080/",
          "height": 90
        }
      },
      "source": [
        "shape1 = rectangle(-7,5,2,2)\n",
        "print(shape1.area())\n",
        "print(shape1.perimeter())\n",
        "print(shape1.x())\n",
        "shape1.y()"
      ],
      "execution_count": 1257,
      "outputs": [
        {
          "output_type": "stream",
          "text": [
            "35\n",
            "24\n",
            "2\n"
          ],
          "name": "stdout"
        },
        {
          "output_type": "execute_result",
          "data": {
            "text/plain": [
              "2"
            ]
          },
          "metadata": {
            "tags": []
          },
          "execution_count": 1257
        }
      ]
    },
    {
      "cell_type": "code",
      "metadata": {
        "id": "4XJnKzfZK43g",
        "colab_type": "code",
        "colab": {}
      },
      "source": [
        "class circle(shape):\n",
        "  def __init__(self,r,x,y):\n",
        "    super().__init__(x,y)\n",
        "    self.__r=r\n",
        "  \n",
        "  def area(self):\n",
        "    return pi*self.__r*self.__r\n",
        "\n",
        "  def circumference(self):\n",
        "    return 2*pi*self.__r\n",
        "\n",
        "  def r(self):\n",
        "    return self.__r"
      ],
      "execution_count": 0,
      "outputs": []
    },
    {
      "cell_type": "code",
      "metadata": {
        "id": "koL6WvfRNQiB",
        "colab_type": "code",
        "outputId": "51962c25-4d23-4734-cadb-bcd269fea005",
        "colab": {
          "base_uri": "https://localhost:8080/",
          "height": 109
        }
      },
      "source": [
        "shape2 = circle(6,-8,0)\n",
        "print(shape2.area())\n",
        "print(shape2.circumference())\n",
        "print(shape2.r())\n",
        "print(shape2.x())\n",
        "print(shape2.y())"
      ],
      "execution_count": 1259,
      "outputs": [
        {
          "output_type": "stream",
          "text": [
            "113.09733552923255\n",
            "37.69911184307752\n",
            "6\n",
            "-8\n",
            "0\n"
          ],
          "name": "stdout"
        }
      ]
    },
    {
      "cell_type": "markdown",
      "metadata": {
        "id": "Q5WD0wKWt8WQ",
        "colab_type": "text"
      },
      "source": [
        "6. Implement an analogous triangle class."
      ]
    },
    {
      "cell_type": "code",
      "metadata": {
        "id": "RvK73_YKQHre",
        "colab_type": "code",
        "colab": {}
      },
      "source": [
        "#triangle assumed to be right, with\n",
        "#arms extending along the x and y axes\n",
        "class triangle(shape):\n",
        "  def __init__(self,x,y):\n",
        "    super().__init__(x,y)\n",
        "\n",
        "  def area(self):\n",
        "    return abs(0.5*self.x()*self.y())\n",
        "  #x+y+hypotenuse\n",
        "  def perimeter(self):\n",
        "    return abs(self.x())+abs(self.y())+math.sqrt(self.x()**2+self.y()**2)"
      ],
      "execution_count": 0,
      "outputs": []
    },
    {
      "cell_type": "code",
      "metadata": {
        "id": "2R9QBXPsmvgM",
        "colab_type": "code",
        "outputId": "93584da7-7883-40d2-8dba-69f6c1ecce0b",
        "colab": {
          "base_uri": "https://localhost:8080/",
          "height": 90
        }
      },
      "source": [
        "shape3 = triangle(3,-4)\n",
        "print(shape3.area())\n",
        "print(shape3.perimeter())\n",
        "print(shape3.x())\n",
        "print(shape3.y())"
      ],
      "execution_count": 1261,
      "outputs": [
        {
          "output_type": "stream",
          "text": [
            "6.0\n",
            "12.0\n",
            "3\n",
            "-4\n"
          ],
          "name": "stdout"
        }
      ]
    },
    {
      "cell_type": "markdown",
      "metadata": {
        "id": "bjFc5Dwlt8WT",
        "colab_type": "text"
      },
      "source": [
        "7. Add a function to the object classes that test if a given set of $x$ and $y$ coordinates are inside of the object."
      ]
    },
    {
      "cell_type": "code",
      "metadata": {
        "id": "xrIWxU9fu1OL",
        "colab_type": "code",
        "colab": {}
      },
      "source": [
        "#Re-implementing 'Rectangle'\n",
        "class rectangle(shape):\n",
        "  def __init__(self,length,width,x,y):\n",
        "    super().__init__(x,y)\n",
        "    self.__length=length\n",
        "    self.__width=width\n",
        "\n",
        "  def area(self):\n",
        "    return abs(self.__length*self.__width)\n",
        "\n",
        "  def perimeter(self):\n",
        "    return 2*abs(self.__length)+2*abs(self.__width)\n",
        "\n",
        "  def length(self):\n",
        "    return self.__length\n",
        "\n",
        "  def width(self):\n",
        "    return self.__width\n",
        "\n",
        "  #for the point to be inside, it must satisfy x<xtest<x+length or\n",
        "  #x+length<xtest<x, and the same condition for ytest, y, and y+width\n",
        "  #generalized for any positive/negative length or width\n",
        "  def is_inside(self,xtest,ytest):\n",
        "    if self.x()<xtest<(self.x()+self.length()) or (self.x()+(self.length()))<xtest<self.x():\n",
        "      if self.y()<ytest<(self.y()+self.width()) or (self.y()+self.width())<ytest<self.y():\n",
        "        return True\n",
        "      else:\n",
        "        return False\n",
        "    else:\n",
        "      return False"
      ],
      "execution_count": 0,
      "outputs": []
    },
    {
      "cell_type": "code",
      "metadata": {
        "id": "iCHMHRwgznMK",
        "colab_type": "code",
        "outputId": "401c6465-2751-43cb-b956-09b61d207f9a",
        "colab": {
          "base_uri": "https://localhost:8080/",
          "height": 54
        }
      },
      "source": [
        "shape1 = rectangle(-5,-5,5,5)\n",
        "print(shape1.is_inside(1,1))\n",
        "print(shape1.is_inside(-1,1))"
      ],
      "execution_count": 1263,
      "outputs": [
        {
          "output_type": "stream",
          "text": [
            "True\n",
            "False\n"
          ],
          "name": "stdout"
        }
      ]
    },
    {
      "cell_type": "code",
      "metadata": {
        "id": "OeEAAVoe_Cug",
        "colab_type": "code",
        "colab": {}
      },
      "source": [
        "class circle(shape):\n",
        "  def __init__(self,r,x,y):\n",
        "    super().__init__(x,y)\n",
        "    self.__r=r\n",
        "  \n",
        "  def area(self):\n",
        "    return pi*self.__r*self.__r\n",
        "\n",
        "  def circumference(self):\n",
        "    return 2*pi*self.__r\n",
        "\n",
        "  def r(self):\n",
        "    return self.__r\n",
        "    \n",
        "  #checks if the radial distance between (x,y) and (xtest,ytest)\n",
        "  #is greater than r\n",
        "  def is_inside(self,xtest,ytest):\n",
        "    if pow(pow(xtest-self.x(),2)+pow(ytest-self.y(),2),0.5)<self.__r:\n",
        "      return True\n",
        "    else:\n",
        "      return False"
      ],
      "execution_count": 0,
      "outputs": []
    },
    {
      "cell_type": "code",
      "metadata": {
        "id": "21XeaxJp_5uj",
        "colab_type": "code",
        "outputId": "526a8d00-cdf7-4082-ccc8-9b532bd2c008",
        "colab": {
          "base_uri": "https://localhost:8080/",
          "height": 54
        }
      },
      "source": [
        "shape2 = circle(5,1,1)\n",
        "print(shape2.is_inside(0,0))\n",
        "print(shape2.is_inside(9,6))"
      ],
      "execution_count": 1265,
      "outputs": [
        {
          "output_type": "stream",
          "text": [
            "True\n",
            "False\n"
          ],
          "name": "stdout"
        }
      ]
    },
    {
      "cell_type": "code",
      "metadata": {
        "id": "XIv_lOnpAarg",
        "colab_type": "code",
        "colab": {}
      },
      "source": [
        "#right triangle with arms \n",
        "#given by (x,0) and (0,y)\n",
        "class triangle(shape):\n",
        "  def __init__(self,x,y):\n",
        "    super().__init__(x,y)\n",
        "\n",
        "  def area(self):\n",
        "    return abs(0.5*self.x()*self.y())\n",
        "\n",
        "  def perimeter(self):\n",
        "    return abs(self.x())+abs(self.y())+math.sqrt(self.x()**2+self.y()**2)\n",
        "\n",
        "  #uses line defined by x and y to determine\n",
        "  #if ytest is beneath the triangle's hypotenuse\n",
        "  #at x=xtest\n",
        "  def is_inside(self,xtest,ytest):\n",
        "    if 0<xtest<self.x() or self.x()<xtest<0:\n",
        "      if 0<ytest<((-self.y()/self.x())*xtest+self.y()) or ((-self.y()/self.x())*xtest+self.y())<ytest<0:\n",
        "        return True\n",
        "      else:\n",
        "        return False\n",
        "    else:\n",
        "      return False"
      ],
      "execution_count": 0,
      "outputs": []
    },
    {
      "cell_type": "code",
      "metadata": {
        "id": "jlz9MjD_CpWc",
        "colab_type": "code",
        "outputId": "6b6e526d-3a02-4e5e-ead1-935a035c5b55",
        "colab": {
          "base_uri": "https://localhost:8080/",
          "height": 90
        }
      },
      "source": [
        "shape3 = triangle(5,-5) #fourth quadrant\n",
        "print(shape3.is_inside(-2,-2))\n",
        "print(shape3.is_inside(1,1))\n",
        "print(shape3.is_inside(-1,1))\n",
        "print(shape3.is_inside(2,-2))"
      ],
      "execution_count": 1267,
      "outputs": [
        {
          "output_type": "stream",
          "text": [
            "False\n",
            "False\n",
            "False\n",
            "True\n"
          ],
          "name": "stdout"
        }
      ]
    },
    {
      "cell_type": "markdown",
      "metadata": {
        "id": "grNwyDGTt8WV",
        "colab_type": "text"
      },
      "source": [
        "8. Add a function to the object classes that return a list of up to 16 pairs of  $x$ and $y$ points on the parameter of the object.\n",
        "\n"
      ]
    },
    {
      "cell_type": "code",
      "metadata": {
        "id": "sXaKUzYzAZnd",
        "colab_type": "code",
        "colab": {}
      },
      "source": [
        "import random as rand\n",
        "class rectangle(shape):\n",
        "  def __init__(self,length,width,x,y):\n",
        "    super().__init__(x,y)\n",
        "    self.__length=length\n",
        "    self.__width=width\n",
        "\n",
        "  def area(self):\n",
        "    return abs(self.__length*self.__width)\n",
        "\n",
        "  def perimeter(self):\n",
        "    return 2*abs(self.__length)+2*abs(self.__width)\n",
        "\n",
        "  def length(self):\n",
        "    return self.__length\n",
        "\n",
        "  def width(self):\n",
        "    return self.__width\n",
        " \n",
        "  def is_inside(self,xtest,ytest):\n",
        "    if self.x()<xtest<(self.x()+self.__length) or (self.x()+(self.__length))<xtest<self.x():\n",
        "      if self.y()<ytest<(self.y()+self.__width) or self.y()<ytest<(self.y()+self.__width):\n",
        "        return True\n",
        "    else:\n",
        "      return False\n",
        "\n",
        "  def generate(self,n):\n",
        "    #no standard function for the rectangle, so generating\n",
        "    #random points \"weighted\" by the lengths of the sides;\n",
        "    #the longer a side, the more likely it is that a point will \n",
        "    #fall on it\n",
        "    if n>16:\n",
        "      n=16\n",
        "    #creating list of \"weighted\" boundaries and test points for comparison\n",
        "    boundary = list()\n",
        "    boundary.append(abs(self.__width))\n",
        "    boundary.append(boundary[0]+abs(self.__width))\n",
        "    boundary.append(boundary[1]+abs(self.__length))\n",
        "    boundary.append(self.perimeter())\n",
        "    #generating test points\n",
        "    tests = [self.perimeter()*rand.random() for i in range(n)]\n",
        "    #generating the perimeter points\n",
        "    pairs = list()\n",
        "    for x in tests:\n",
        "      templist=list()\n",
        "      #adding points to one of the widths\n",
        "      if x<boundary[0]:\n",
        "        templist.append(self.x())\n",
        "        templist.append(self.width()*rand.random())\n",
        "      elif boundary[0]<x<boundary[1]:\n",
        "        templist.append((self.x()+self.length()))\n",
        "        templist.append(self.width()*rand.random())\n",
        "      #adding points to one of the lengths\n",
        "      elif boundary[1]<x<boundary[2]:\n",
        "        templist.append(self.length()*rand.random())\n",
        "        templist.append(self.y())\n",
        "      elif boundary[2]<x<boundary[3]:\n",
        "        templist.append(self.length()*rand.random())\n",
        "        templist.append(self.y()+self.width())\n",
        "      pairs.append(templist)\n",
        "    return pairs"
      ],
      "execution_count": 0,
      "outputs": []
    },
    {
      "cell_type": "code",
      "metadata": {
        "id": "HNn0Ha07olm_",
        "colab_type": "code",
        "outputId": "df084df2-0676-4a70-d13d-c16c050d7d92",
        "colab": {
          "base_uri": "https://localhost:8080/",
          "height": 311
        }
      },
      "source": [
        "shape1 = rectangle(3,4,0,0)\n",
        "shape1.generate(18)"
      ],
      "execution_count": 1269,
      "outputs": [
        {
          "output_type": "execute_result",
          "data": {
            "text/plain": [
              "[[0, 1.4121598979740315],\n",
              " [1.081700460133237, 0],\n",
              " [0, 3.607513649282196],\n",
              " [1.7014307681793241, 4],\n",
              " [3, 2.904693775910595],\n",
              " [0, 1.2698452493139345],\n",
              " [0, 1.3950493143173048],\n",
              " [0, 2.9694926089734426],\n",
              " [3, 3.8495569814700414],\n",
              " [3, 2.1794772767645876],\n",
              " [0, 2.403673602895368],\n",
              " [2.0985504364190395, 0],\n",
              " [3, 1.5970754210365232],\n",
              " [2.3673040274335864, 0],\n",
              " [0.06625788365658125, 4],\n",
              " [0.13491728202020936, 4]]"
            ]
          },
          "metadata": {
            "tags": []
          },
          "execution_count": 1269
        }
      ]
    },
    {
      "cell_type": "code",
      "metadata": {
        "id": "UuhCtk6r0QjS",
        "colab_type": "code",
        "colab": {}
      },
      "source": [
        "class circle(shape):\n",
        "  def __init__(self,r,x,y):\n",
        "    super().__init__(x,y)\n",
        "    self.__r=abs(r)\n",
        "  \n",
        "  def area(self):\n",
        "    return pi*self.__r*self.__r\n",
        "\n",
        "  def circumference(self):\n",
        "    return 2*pi*self.__r\n",
        "\n",
        "  def r(self):\n",
        "    return self.__r\n",
        "  \n",
        "  def is_inside(self,xtest,ytest):\n",
        "    if pow(pow(xtest-self.x(),2)+pow(ytest-self.y(),2),0.5)<self.__r:\n",
        "      return True\n",
        "    else:\n",
        "      return False\n",
        "\n",
        "  def generate(self,n):\n",
        "    if n>16:\n",
        "      n=16\n",
        "    #generating random x coordinates in the domain of the circle\n",
        "    xcoods = [2*self.r()*random.random()+(self.x()-self.r()) for i in range(n)]\n",
        "    #generating corresponding y coordinates \n",
        "    ycoods=list()\n",
        "    counter = 0\n",
        "    for n in range(len(xcoods)):\n",
        "      if n%2==0:\n",
        "        ycoods.append((pow(pow(self.r(),2)-pow(xcoods[n]-self.x(),2),0.5))+self.y())\n",
        "    #switching which half of the circle is plotted every other point for a more even distribution of points\n",
        "      else:\n",
        "        ycoods.append((-1*pow(pow(self.r(),2)-pow(xcoods[n]-self.x(),2),0.5))+self.y())\n",
        "      counter+=1\n",
        "    #converting to list format\n",
        "    pairs = [list(coods) for coods in zip(xcoods,ycoods)]\n",
        "    return pairs"
      ],
      "execution_count": 0,
      "outputs": []
    },
    {
      "cell_type": "code",
      "metadata": {
        "id": "DxZdfw9w1uge",
        "colab_type": "code",
        "outputId": "670e4820-8126-4221-cd3e-e4bab1014dd7",
        "colab": {
          "base_uri": "https://localhost:8080/",
          "height": 311
        }
      },
      "source": [
        "shape2 = circle(5,2,1)\n",
        "shape2.generate(16)"
      ],
      "execution_count": 1271,
      "outputs": [
        {
          "output_type": "execute_result",
          "data": {
            "text/plain": [
              "[[-2.8454519499417668, 2.2335296513685963],\n",
              " [6.231322067726717, -1.6638156015702172],\n",
              " [-1.8532370291643614, 4.186308898565329],\n",
              " [1.0637789761941532, -3.9115669795477626],\n",
              " [6.009623580499282, 3.9871254983184286],\n",
              " [-0.6923845347240882, -3.213201338314911],\n",
              " [-0.6949528847639592, 5.211558968945159],\n",
              " [-2.461694670691113, -1.2568297821338943],\n",
              " [3.195495231805684, 5.8549759165962785],\n",
              " [5.665929139433066, -2.400141694790901],\n",
              " [5.049750849583683, 4.9621988535993],\n",
              " [2.2411601934647836, -3.9941807897880537],\n",
              " [-0.9250298605425709, 5.055144919103916],\n",
              " [3.3991799760638957, -3.8002390976473075],\n",
              " [6.565665369939355, 3.038308055652171],\n",
              " [4.843408937746692, -3.112788058330046]]"
            ]
          },
          "metadata": {
            "tags": []
          },
          "execution_count": 1271
        }
      ]
    },
    {
      "cell_type": "code",
      "metadata": {
        "id": "tOU5Ic__4mT-",
        "colab_type": "code",
        "colab": {}
      },
      "source": [
        "class triangle(shape):\n",
        "  def __init__(self,x,y):\n",
        "    super().__init__(x,y)\n",
        "\n",
        "  def area(self):\n",
        "    return abs(0.5*self.x()*self.y())\n",
        "\n",
        "  def perimeter(self):\n",
        "    return abs(self.x())+abs(self.y())+math.sqrt(self.x()**2+self.y()**2)\n",
        "\n",
        "  def is_inside(self,xtest,ytest):\n",
        "    if 0<xtest<self.x() or self.x()<xtest<0:\n",
        "      if 0<ytest<((-self.y()/self.x())*xtest+self.y()) or ((-self.y()/self.x())*xtest+self.y())<ytest<0:\n",
        "        return True\n",
        "      else:\n",
        "        return False\n",
        "    else:\n",
        "      return False\n",
        "\n",
        "  def generate(self,n):\n",
        "    #no standard function for the triangle, so generating\n",
        "    #random points \"weighted\" by the lengths of the sides;\n",
        "    #the longer a side, the more likely it is that a point will \n",
        "    #fall on it\n",
        "    if n>16:\n",
        "      n=16\n",
        "    #creating list of \"weighted\" boundaries and test points for comparison\n",
        "    boundary = list()\n",
        "    boundary.append(self.x())\n",
        "    boundary.append(self.x()+self.y())\n",
        "    boundary.append(self.perimeter())\n",
        "    #test points\n",
        "    tests = [self.perimeter()*random.random() for i in range(n)]\n",
        "    #generating the perimeter points\n",
        "    pairs = list()\n",
        "    for x in tests:\n",
        "      templist=list()\n",
        "      if x<boundary[0]:\n",
        "        templist.append(self.x()*random.random())  \n",
        "        templist.append(0)  \n",
        "      elif boundary[0]<x<boundary[1]:\n",
        "        templist.append(0)\n",
        "        templist.append(self.y()*random.random())\n",
        "      elif boundary[1]<x<boundary[2]:\n",
        "        templist.append(self.x()*random.random())\n",
        "        templist.append((-self.y()/self.x())*templist[0]+self.y())\n",
        "      pairs.append(templist)\n",
        "    return pairs"
      ],
      "execution_count": 0,
      "outputs": []
    },
    {
      "cell_type": "code",
      "metadata": {
        "id": "rR34nM_D7SCT",
        "colab_type": "code",
        "outputId": "80349a00-c81f-417f-edd8-9472d0b0a61e",
        "colab": {
          "base_uri": "https://localhost:8080/",
          "height": 201
        }
      },
      "source": [
        "shape3=triangle(3,4)\n",
        "shape3.generate(10)"
      ],
      "execution_count": 1273,
      "outputs": [
        {
          "output_type": "execute_result",
          "data": {
            "text/plain": [
              "[[0, 1.0422594934425908],\n",
              " [2.9030996582274358, 0],\n",
              " [0, 2.636759616679097],\n",
              " [2.046051138799996, 0],\n",
              " [0, 2.7580125397810877],\n",
              " [2.6041550241175515, 0.5277933011765983],\n",
              " [1.468757780682682, 2.0416562924230908],\n",
              " [2.6595009778733933, 0.45399869616880917],\n",
              " [2.45782717467518, 0],\n",
              " [0, 3.655448122703728]]"
            ]
          },
          "metadata": {
            "tags": []
          },
          "execution_count": 1273
        }
      ]
    },
    {
      "cell_type": "markdown",
      "metadata": {
        "id": "uRJ_Pa-Et8WY",
        "colab_type": "text"
      },
      "source": [
        "9. Add a function in the base class of the object classes that returns true/false testing that the object overlaps with another object."
      ]
    },
    {
      "cell_type": "code",
      "metadata": {
        "id": "RElBgg1sZ_wX",
        "colab_type": "code",
        "colab": {}
      },
      "source": [
        "class shape:\n",
        "  def __init__(self,x,y):\n",
        "    self.__x=x\n",
        "    self.__y=y\n",
        "  \n",
        "  #all dummy functions\n",
        "  def area(self):\n",
        "    return None\n",
        "\n",
        "  def perimeter(self):\n",
        "    return None\n",
        "\n",
        "  def x(self):\n",
        "    return self.__x\n",
        "\n",
        "  def y(self):\n",
        "    return self.__y\n",
        "\n",
        "  def is_inside(self):\n",
        "    return None\n",
        "\n",
        "  def generate(self):\n",
        "    return None\n",
        "\n",
        "  def overlap(self,shape):\n",
        "    compare = shape.generate(n=16)\n",
        "    for pairs in compare:\n",
        "      if self.is_inside(pairs[0],pairs[1]):\n",
        "        print(\"The shapes overlap.\")\n",
        "        return True\n",
        "    return False"
      ],
      "execution_count": 0,
      "outputs": []
    },
    {
      "cell_type": "code",
      "metadata": {
        "id": "04aOIZalcuys",
        "colab_type": "code",
        "colab": {}
      },
      "source": [
        "class triangle(shape):\n",
        "  def __init__(self,x,y):\n",
        "    super().__init__(x,y)\n",
        "\n",
        "  def area(self):\n",
        "    return abs(0.5*self.x()*self.y())\n",
        "\n",
        "  def perimeter(self):\n",
        "    return abs(self.x())+abs(self.y())+math.sqrt(self.x()**2+self.y()**2)\n",
        "\n",
        "  def is_inside(self,xtest,ytest):\n",
        "    if 0<xtest<self.x() or self.x()<xtest<0:\n",
        "      if 0<ytest<((-self.y()/self.x())*xtest+self.y()) or ((-self.y()/self.x())*xtest+self.y())<ytest<0:\n",
        "        return True\n",
        "      else:\n",
        "        return False\n",
        "    else:\n",
        "      return False\n",
        "\n",
        "  def generate(self,n):\n",
        "    #no standard function for the triangle, so generating\n",
        "    #random points \"weighted\" by the lengths of the sides;\n",
        "    #the longer a side, the more likely it is that a point will \n",
        "    #fall on it\n",
        "    if n>16:\n",
        "      n=16\n",
        "    #creating list of \"weighted\" boundaries and test points for comparison\n",
        "    boundary = list()\n",
        "    boundary.append(self.x())\n",
        "    boundary.append(self.x()+self.y())\n",
        "    boundary.append(self.perimeter())\n",
        "    #test points\n",
        "    tests = [self.perimeter()*random.random() for i in range(n)]\n",
        "    #generating the perimeter points\n",
        "    pairs = list()\n",
        "    for x in tests:\n",
        "      templist=list()\n",
        "      if x<boundary[0]:\n",
        "        templist.append(self.x()*random.random())  \n",
        "        templist.append(0)  \n",
        "      elif boundary[0]<x<boundary[1]:\n",
        "        templist.append(0)\n",
        "        templist.append(self.y()*random.random())\n",
        "      elif boundary[1]<x<boundary[2]:\n",
        "        templist.append(self.x()*random.random())\n",
        "        templist.append((-self.y()/self.x())*templist[0]+self.y())\n",
        "      pairs.append(templist)\n",
        "    return pairs"
      ],
      "execution_count": 0,
      "outputs": []
    },
    {
      "cell_type": "code",
      "metadata": {
        "id": "PPJU97CIc2SL",
        "colab_type": "code",
        "colab": {}
      },
      "source": [
        "class rectangle(shape):\n",
        "  def __init__(self,length,width,x,y):\n",
        "    super().__init__(x,y)\n",
        "    self.__length=length\n",
        "    self.__width=width\n",
        "\n",
        "  def area(self):\n",
        "    return abs(self.__length*self.__width)\n",
        "\n",
        "  def perimeter(self):\n",
        "    return 2*abs(self.__length)+2*abs(self.__width)\n",
        "\n",
        "  def length(self):\n",
        "    return self.__length\n",
        "\n",
        "  def width(self):\n",
        "    return self.__width\n",
        " \n",
        "  def is_inside(self,xtest,ytest):\n",
        "    if self.x()<xtest<(self.x()+self.length()) or (self.x()+(self.length()))<xtest<self.x():\n",
        "      if self.y()<ytest<(self.y()+self.width()) or (self.y()+self.width())<ytest<self.y():\n",
        "        return True\n",
        "      else:\n",
        "        return False\n",
        "    else:\n",
        "      return False\n",
        "\n",
        "  def generate(self,n):\n",
        "    #no standard function for the rectangle, so generating\n",
        "    #random points \"weighted\" by the lengths of the sides;\n",
        "    #the longer a side, the more likely it is that a point will \n",
        "    #fall on it\n",
        "    if n>16:\n",
        "      n=16\n",
        "    #creating list of \"weighted\" boundaries and test points for comparison\n",
        "    boundary = list()\n",
        "    boundary.append(abs(self.__width))\n",
        "    boundary.append(boundary[0]+abs(self.__width))\n",
        "    boundary.append(boundary[1]+abs(self.__length))\n",
        "    boundary.append(self.perimeter())\n",
        "    #generating test points\n",
        "    tests = [self.perimeter()*rand.random() for i in range(n)]\n",
        "    #generating the perimeter points\n",
        "    pairs = list()\n",
        "    for x in tests:\n",
        "      templist=list()\n",
        "      #adding points to one of the widths\n",
        "      if x<boundary[0]:\n",
        "        templist.append(self.x())\n",
        "        templist.append(self.width()*rand.random())\n",
        "      elif boundary[0]<x<boundary[1]:\n",
        "        templist.append((self.x()+self.length()))\n",
        "        templist.append(self.width()*rand.random())\n",
        "      #adding points to one of the lengths\n",
        "      elif boundary[1]<x<boundary[2]:\n",
        "        templist.append(self.length()*rand.random())\n",
        "        templist.append(self.y())\n",
        "      elif boundary[2]<x<boundary[3]:\n",
        "        templist.append(self.length()*rand.random())\n",
        "        templist.append(self.y()+self.width())\n",
        "      pairs.append(templist)\n",
        "    return pairs"
      ],
      "execution_count": 0,
      "outputs": []
    },
    {
      "cell_type": "code",
      "metadata": {
        "id": "-88hatFWbqvo",
        "colab_type": "code",
        "colab": {}
      },
      "source": [
        "class circle(shape):\n",
        "  def __init__(self,r,x,y):\n",
        "    super().__init__(x,y)\n",
        "    self.__r=abs(r)\n",
        "  \n",
        "  def area(self):\n",
        "    return pi*self.__r*self.__r\n",
        "\n",
        "  def circumference(self):\n",
        "    return 2*pi*self.__r\n",
        "\n",
        "  def r(self):\n",
        "    return self.__r\n",
        "  \n",
        "  def is_inside(self,xtest,ytest):\n",
        "    if pow(pow(xtest-self.x(),2)+pow(ytest-self.y(),2),0.5)<self.__r:\n",
        "      return True\n",
        "    else:\n",
        "      return False\n",
        "\n",
        "  def generate(self,n):\n",
        "    if n>16:\n",
        "      n=16\n",
        "    #generating random x coordinates in the domain of the circle\n",
        "    xcoods = [2*self.r()*random.random()+(self.x()-self.r()) for i in range(n)]\n",
        "    #generating corresponding y coordinates \n",
        "    ycoods=list()\n",
        "    counter = 0\n",
        "    for n in range(len(xcoods)):\n",
        "      if n%2==0:\n",
        "        ycoods.append((pow(pow(self.r(),2)-pow(xcoods[n]-self.x(),2),0.5))+self.y())\n",
        "    #switching which half of the circle is plotted every other point\n",
        "      else:\n",
        "        ycoods.append((-1*pow(pow(self.r(),2)-pow(xcoods[n]-self.x(),2),0.5))+self.y())\n",
        "      counter+=1\n",
        "    #converting to list format\n",
        "    pairs = [list(coods) for coods in zip(xcoods,ycoods)]\n",
        "    return pairs"
      ],
      "execution_count": 0,
      "outputs": []
    },
    {
      "cell_type": "code",
      "metadata": {
        "id": "R42kfxyTa_xs",
        "colab_type": "code",
        "outputId": "cc9d7350-b786-4868-d6be-3cfee6ad2fd5",
        "colab": {
          "base_uri": "https://localhost:8080/",
          "height": 311
        }
      },
      "source": [
        "shape1 = circle(3,5,5)\n",
        "shape2 = circle(1,0,0)\n",
        "shape3 = circle(4,4,4)\n",
        "shape4 = rectangle(-3,4,0,0)\n",
        "shape6 = rectangle(-9,8,0,0)\n",
        "shape5 = triangle(-3,2)\n",
        "shape7 = triangle(-6,7)\n",
        "print(shape1.overlap(shape2))\n",
        "print(shape1.overlap(shape1))\n",
        "print(shape4.overlap(shape2))\n",
        "print(shape5.overlap(shape2))\n",
        "print(shape6.overlap(shape7))\n",
        "print(shape6.overlap(shape5))\n",
        "print(shape6.overlap(shape4))\n",
        "print(shape6.overlap(shape5))\n",
        "print(shape6.overlap(shape3))\n"
      ],
      "execution_count": 1278,
      "outputs": [
        {
          "output_type": "stream",
          "text": [
            "False\n",
            "The shapes overlap.\n",
            "True\n",
            "The shapes overlap.\n",
            "True\n",
            "The shapes overlap.\n",
            "True\n",
            "The shapes overlap.\n",
            "True\n",
            "The shapes overlap.\n",
            "True\n",
            "The shapes overlap.\n",
            "True\n",
            "The shapes overlap.\n",
            "True\n",
            "False\n"
          ],
          "name": "stdout"
        }
      ]
    }
  ]
}